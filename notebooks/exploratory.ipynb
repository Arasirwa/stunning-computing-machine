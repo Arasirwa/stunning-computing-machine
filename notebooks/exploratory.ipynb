{
 "cells": [
  {
   "cell_type": "markdown",
   "metadata": {},
   "source": [
    "# Exploratory Notebook"
   ]
  },
  {
   "cell_type": "markdown",
   "metadata": {},
   "source": [
    "# Business Understanding\n",
    "\n",
    "## Business Context\n",
    "Our company is entering the competitive movie production industry by establishing a new movie studio. With major corporations increasingly investing in original video content, we need to strategically position ourselves to maximize our chances of box office success.\n",
    "\n",
    "## Primary Stakeholder\n",
    "**Head of New Movie Studio** - The key decision-maker who will use our analysis to guide the studio's content creation strategy and investment decisions.\n",
    "\n",
    "## Key Business Questions\n",
    "\n",
    "### 1. **What genres are most profitable?**\n",
    "   - Which movie genres consistently generate the highest box office returns?\n",
    "   - Are there emerging genres showing strong growth potential?\n",
    "\n",
    "### 2. **What budget ranges optimize ROI?**\n",
    "   - What is the relationship between production budget and box office performance?\n",
    "   - What budget sweet spot maximizes return on investment?\n",
    "\n",
    "### 3. **When should we release our films?**\n",
    "   - Which months/seasons show the strongest box office performance?\n",
    "   - How can we avoid oversaturated release periods?\n",
    "\n",
    "## Business Objectives\n",
    "- **Primary Goal:** Identify the most profitable film characteristics to guide our initial movie productions\n",
    "- **Success Metrics:** Maximize box office revenue and return on investment\n",
    "- **Risk Mitigation:** Minimize financial losses by avoiding poorly-performing film categories\n",
    "\n",
    "## Data Requirements & Analysis Considerations\n",
    "\n",
    "### Dataset Specifications Needed:\n",
    "1. **What movie data do we have access to?** (Box office numbers, budgets, genres, release dates, ratings, etc.)\n",
    "2. **What time period does our data cover?** (Recent years only, or historical data?)\n",
    "3. **Is it domestic box office, international, or worldwide gross?**\n",
    "\n",
    "### Business Context Clarifications:\n",
    "4. **What size studio are we targeting?** (Independent/small budget vs. major studio competitor?)\n",
    "5. **Are there any genre restrictions?** (Family-friendly only, or open to all ratings?)\n",
    "6. **Geographic focus?** (Domestic US market, international, or global?)\n",
    "\n",
    "### Analysis Scope Considerations:\n",
    "7. **Should we consider streaming/digital revenue or just theatrical box office?**\n",
    "8. **Do we want to analyze competitor studios' strategies?**\n",
    "9. **Should seasonal trends consider COVID-19 impact on recent years?**\n",
    "\n",
    "## Success Metrics Framework\n",
    "**Primary Metrics:**\n",
    "- **Gross Revenue:** Total box office performance\n",
    "- **Return on Investment (ROI):** (Revenue - Budget) / Budget × 100\n",
    "- **Profit Margins:** Net profit as percentage of revenue\n",
    "- **Budget Efficiency:** Revenue per dollar invested\n",
    "\n",
    "**Secondary Metrics:**\n",
    "- **Market Share:** Performance relative to industry\n",
    "- **Risk Assessment:** Variance in returns by category\n",
    "- **Audience Reach:** Ticket sales and demographic penetration\n",
    "\n",
    "## Recommended Visualizations Strategy\n",
    "\n",
    "### 1. **Genre Analysis**\n",
    "- **Horizontal Bar Chart:** Average revenue by genre (easy comparison)\n",
    "- **Box Plot:** Revenue distribution by genre (shows variability and outliers)\n",
    "- **Scatter Plot:** Budget vs. Revenue by genre (profitability insights)\n",
    "\n",
    "### 2. **Budget Optimization**\n",
    "- **Scatter Plot with Trend Line:** Budget vs. ROI (sweet spot identification)\n",
    "- **Histogram:** Distribution of profitable budget ranges\n",
    "- **Bubble Chart:** Budget vs. Revenue (bubble size = profit margin)\n",
    "\n",
    "### 3. **Release Timing**\n",
    "- **Line Graph:** Monthly box office performance over time\n",
    "- **Heatmap:** Revenue by month and genre combination\n",
    "- **Seasonal Bar Chart:** Quarterly performance comparison\n",
    "\n",
    "### 4. **Risk vs. Reward Analysis**\n",
    "- **Risk-Return Scatter Plot:** Average return vs. standard deviation by category\n",
    "- **Waterfall Chart:** Success rate breakdown by film characteristics\n",
    "\n",
    "## Expected Deliverables\n",
    "Three concrete, data-driven recommendations that the Head of Movie Studio can immediately implement in the studio's content strategy and production planning."
   ]
  },
  {
   "cell_type": "code",
   "execution_count": 1,
   "metadata": {},
   "outputs": [],
   "source": [
    "#importing relevant libs\n",
    "import pandas as pd\n",
    "import numpy as np\n",
    "from matplotlib import pyplot as plt\n",
    "from mpl_toolkits.mplot3d import Axes3D\n",
    "from random import gauss\n",
    "from scipy import stats\n",
    "import seaborn as sns\n",
    "from sklearn.linear_model import LinearRegression\n",
    "from mpl_toolkits import mplot3d\n",
    "import sklearn.metrics as metrics\n",
    "import statsmodels.api as sm\n",
    "import sqlite3\n"
   ]
  },
  {
   "cell_type": "markdown",
   "metadata": {},
   "source": [
    "## Loading the Data sets"
   ]
  },
  {
   "cell_type": "code",
   "execution_count": 2,
   "metadata": {},
   "outputs": [
    {
     "name": "stdout",
     "output_type": "stream",
     "text": [
      "dict_keys(['movie_basics', 'directors', 'known_for', 'movie_akas', 'movie_ratings', 'persons', 'principals', 'writers'])\n"
     ]
    }
   ],
   "source": [
    "#going through SQl\n",
    "def load_tables(connection):\n",
    "    table_names = pd.read_sql(\n",
    "        \"SELECT name FROM sqlite_master WHERE type='table';\", connection\n",
    "    )[\"name\"].tolist()\n",
    "    sql_tables = {\n",
    "        table_name: pd.read_sql(f\"SELECT * FROM {table_name}\", connection)\n",
    "        for table_name in table_names\n",
    "    }\n",
    "    return sql_tables\n",
    "\n",
    "path = '../Data/im.db'\n",
    "conn = sqlite3.connect(path)\n",
    "\n",
    "imdb_tables = load_tables(conn)\n",
    "\n",
    "print(imdb_tables.keys())\n"
   ]
  },
  {
   "cell_type": "code",
   "execution_count": 3,
   "metadata": {},
   "outputs": [],
   "source": [
    "bom_movie = pd.read_csv(\"../Data/bom.movie_gross.csv\")\n",
    "rt_info = pd.read_csv(\"../Data/rt.movie_info.tsv\", sep='\\t', encoding='latin1')\n",
    "rt_reviews = pd.read_csv(\"../Data/rt.movie_info.tsv\", sep='\\t', encoding='latin1')\n",
    "tmdb_df = pd.read_csv(\"../Data/tmdb.movies.csv\")\n",
    "tn_budget = pd.read_csv(\"../Data/tn.movie_budgets.csv\")"
   ]
  }
 ],
 "metadata": {
  "kernelspec": {
   "display_name": "Python (learn-env)",
   "language": "python",
   "name": "learn-env"
  },
  "language_info": {
   "codemirror_mode": {
    "name": "ipython",
    "version": 3
   },
   "file_extension": ".py",
   "mimetype": "text/x-python",
   "name": "python",
   "nbconvert_exporter": "python",
   "pygments_lexer": "ipython3",
   "version": "3.12.7"
  }
 },
 "nbformat": 4,
 "nbformat_minor": 4
}
