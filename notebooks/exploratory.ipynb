{
 "cells": [
  {
   "cell_type": "markdown",
   "metadata": {},
   "source": [
    "# Exploratory Notebook"
   ]
  },
  {
   "cell_type": "markdown",
   "metadata": {},
   "source": [
    "# Business Understanding\n",
    "\n",
    "## Business Context\n",
    "Our company is entering the competitive movie production industry by establishing a new movie studio. With major corporations increasingly investing in original video content, we need to strategically position ourselves to maximize our chances of box office success.\n",
    "\n",
    "## Primary Stakeholder\n",
    "**Head of New Movie Studio** - The key decision-maker who will use our analysis to guide the studio's content creation strategy and investment decisions.\n",
    "\n",
    "## Key Business Questions\n",
    "\n",
    "### 1. **What genres are most profitable?**\n",
    "   - Which movie genres consistently generate the highest box office returns?\n",
    "   - Are there emerging genres showing strong growth potential?\n",
    "\n",
    "### 2. **What budget ranges optimize ROI?**\n",
    "   - What is the relationship between production budget and box office performance?\n",
    "   - What budget sweet spot maximizes return on investment?\n",
    "\n",
    "### 3. **When should we release our films?**\n",
    "   - Which months/seasons show the strongest box office performance?\n",
    "   - How can we avoid oversaturated release periods?\n",
    "\n",
    "## Business Objectives\n",
    "- **Primary Goal:** Identify the most profitable film characteristics to guide our initial movie productions\n",
    "- **Success Metrics:** Maximize box office revenue and return on investment\n",
    "- **Risk Mitigation:** Minimize financial losses by avoiding poorly-performing film categories\n",
    "\n",
    "## Data Requirements & Analysis Considerations\n",
    "\n",
    "### Dataset Specifications Needed:\n",
    "1. **What movie data do we have access to?** (Box office numbers, budgets, genres, release dates, ratings, etc.)\n",
    "2. **What time period does our data cover?** (Recent years only, or historical data?)\n",
    "3. **Is it domestic box office, international, or worldwide gross?**\n",
    "\n",
    "### Business Context Clarifications:\n",
    "4. **What size studio are we targeting?** (Independent/small budget vs. major studio competitor?)\n",
    "5. **Are there any genre restrictions?** (Family-friendly only, or open to all ratings?)\n",
    "6. **Geographic focus?** (Domestic US market, international, or global?)\n",
    "\n",
    "### Analysis Scope Considerations:\n",
    "7. **Should we consider streaming/digital revenue or just theatrical box office?**\n",
    "8. **Do we want to analyze competitor studios' strategies?**\n",
    "9. **Should seasonal trends consider COVID-19 impact on recent years?**\n",
    "\n",
    "## Success Metrics Framework\n",
    "**Primary Metrics:**\n",
    "- **Gross Revenue:** Total box office performance\n",
    "- **Return on Investment (ROI):** (Revenue - Budget) / Budget × 100\n",
    "- **Profit Margins:** Net profit as percentage of revenue\n",
    "- **Budget Efficiency:** Revenue per dollar invested\n",
    "\n",
    "**Secondary Metrics:**\n",
    "- **Market Share:** Performance relative to industry\n",
    "- **Risk Assessment:** Variance in returns by category\n",
    "- **Audience Reach:** Ticket sales and demographic penetration\n",
    "\n",
    "## Recommended Visualizations Strategy\n",
    "\n",
    "### 1. **Genre Analysis**\n",
    "- **Horizontal Bar Chart:** Average revenue by genre (easy comparison)\n",
    "- **Box Plot:** Revenue distribution by genre (shows variability and outliers)\n",
    "- **Scatter Plot:** Budget vs. Revenue by genre (profitability insights)\n",
    "\n",
    "### 2. **Budget Optimization**\n",
    "- **Scatter Plot with Trend Line:** Budget vs. ROI (sweet spot identification)\n",
    "- **Histogram:** Distribution of profitable budget ranges\n",
    "- **Bubble Chart:** Budget vs. Revenue (bubble size = profit margin)\n",
    "\n",
    "### 3. **Release Timing**\n",
    "- **Line Graph:** Monthly box office performance over time\n",
    "- **Heatmap:** Revenue by month and genre combination\n",
    "- **Seasonal Bar Chart:** Quarterly performance comparison\n",
    "\n",
    "### 4. **Risk vs. Reward Analysis**\n",
    "- **Risk-Return Scatter Plot:** Average return vs. standard deviation by category\n",
    "- **Waterfall Chart:** Success rate breakdown by film characteristics\n",
    "\n",
    "## Expected Deliverables\n",
    "Three concrete, data-driven recommendations that the Head of Movie Studio can immediately implement in the studio's content strategy and production planning."
   ]
  },
  {
   "cell_type": "markdown",
   "metadata": {},
   "source": [
    "# Data Understanding\n",
    "\n",
    "`bom.movie_gross.csv.gz` dataset from Box Office Mojo contains the revenue data for various films. It contains the following five columns:\n",
    "\n",
    "- **title**: movie title\n",
    "- **studio**: producing studio\n",
    "- **domestic_gross**: domestic gross earnings in USD\n",
    "- **foreign_gross**: international gross earnings\n",
    "- **year**: year film was released\n",
    "\n",
    "`im` database from IMDb (Internet Movie Database) contains information about the movies and those who worked on them. It contains eight tables with the following fields:\n",
    "- `directors` table contains the directors. It contains the following two fields:\n",
    "    - **movie_id**: unique movie ID (as per IMDb)\n",
    "    - **person_id**: director's ID (as per IMDb)\n",
    "- `known_for` table contains the notable works for each person. It contains the following two fields:\n",
    "    - **person_id**: unique person ID (as per IMDb)\n",
    "    - **movie_id**: unique movie ID (as per IMDb)\n",
    "- `movie_akas` table contains the alternative titles of the movies. It contains the following eight fields:\n",
    "    - **movie_id**: unique movie ID (as per IMDb)\n",
    "    - **ordering**: order in which movie title appears\n",
    "    - **title**: alternative title for the movie\n",
    "    - **region**: country code where movie was shown\n",
    "    - **language**: language code of the movie\n",
    "    - **types**: type of alternative title\n",
    "    - **attributes**: special attributes of the movie\n",
    "    - **is_original_title**: shows whether alternative title is the origianl title (1 = original title, 0 = alternative title)\n",
    "- `movie_basics` table contains basic information about the movies. It contains the following six fields:\n",
    "    - **movie_id**: unique identifier for the movie (as per IMDb)\n",
    "    - **primary_title**: official title of the movie\n",
    "    - **original_title**: official title of the movie in the original language\n",
    "    - **start_year**: year when the movie was released\n",
    "    - **runtime_minutes**: duration of the movie in minutes\n",
    "    - **genres**: genre(s) of the movie\n",
    "- `movie_ratings` table contains the ratings movies were given by IMDb. It contains the following three fields:\n",
    "    - **movie_id**: unique movie ID (as per IMDb)\n",
    "    - **averagerating**: average IMDb rating\n",
    "    - **numvotes**: number of votes received\n",
    "- `persons` table contains records of those involved in the movies. It has the following five fields:\n",
    "    - **person_id**: unique identifier for the person (as per IMDb)\n",
    "    - **primary_name**: full name of the person\n",
    "    - **birth_year**: year of birth\n",
    "    - **death_year**: year of death (if dead)\n",
    "    - **primary_profession**: role in the movie\n",
    "- `principals` table contains the information of the main cast and crew. It has the following five fields:\n",
    "    - **movie_id**: unique movie ID (as per IMDb)\n",
    "    - **ordering**: order of person in credits\n",
    "    - **person_id**: unique person ID (as per IMDb)\n",
    "    - **category**: role played\n",
    "    - **job**: specific role\n",
    "    - **characters**: character name\n",
    "- `writers` table contains the following two fields:\n",
    "    - **movie_id**: unique movie ID (as per IMDb)\n",
    "    - **person_id**: writer's ID (as per IMDb)\n",
    "\n",
    "`rt.movie_info.tsv.gz` dataset from Rotten Tomatoes contains general information about the movies. It contains the following twelve columns:\n",
    "- **id**: unique movie ID (as per Rotten Tomatoes)\n",
    "- **synopsis**: short summary of the movie\n",
    "- **rating**: Motion Picture Association of America(MPAA) Rating\n",
    "- **genre**: genre(s) of the movie\n",
    "- **director**: name of the director(s)\n",
    "- **writer**: name of the writer(s)\n",
    "- **theater_date**: date released in theaters\n",
    "- **dvd_date**: date released in DVD format\n",
    "- **currency**: currency symbol\n",
    "- **box_office**: total revenue from box office\n",
    "- **runtime**: movie duration in minutes\n",
    "- **studio**: producing studios\n",
    "\n",
    "`rt.reviews.tsv.gz` dataset from Rotten Tomatoes contains review information about movies. It contains the following eight columns:\n",
    "- **id**: unique movie ID (as per Rotten Tomatoes)\n",
    "- **review**: review text\n",
    "- **rating**: rating given by critic\n",
    "- **fresh**: categorization of the review (fresh = positive, rotten = negative)\n",
    "- **critic**: name of the critic\n",
    "- **top_critic**: highlights if a critic is regarded as a Top Critic by Rotten Tomatoes (1 = top critic, 0 = not a top critic)\n",
    "- **publisher**: publication name\n",
    "- **date**: date of the review\n",
    "\n",
    "`tmdb.movies.csv.gz` from The Movie Database (TMDb) contains movie and rating informations about various movies. It contains the following nine columns:\n",
    "- **genre_ids**: list of genre(s) for the movie\n",
    "- **id**: unique movie ID (as per TMDb)\n",
    "- **original_language**: language code for the movie\n",
    "- **original_title**: title of the movie in the official language\n",
    "- **popularity**: popularity score (as per TMDb)\n",
    "- **relaease_date**: release date in theatres\n",
    "- **title**: movie title\n",
    "- **vote_average**: average user rating\n",
    "- **vote_count**: total votes received\n",
    "\n",
    "`tn.movie_budgets.csv.gz` from The Numbers dataset contains movie budget and revenue information. It has the following six columns:\n",
    "- **id**: unique movie ID (as per The Numbers)\n",
    "- **release_date**: release date in theatres\n",
    "- **movie**: movie title\n",
    "- **production_budget**: budget used (in USD)\n",
    "- **domestic_gross**: revenue generated from country of origin (in USD)\n",
    "- **worldwide_gross**: total revenue generated worldwide (in USD)\n"
   ]
  },
  {
   "cell_type": "code",
   "execution_count": 427,
   "metadata": {},
   "outputs": [],
   "source": [
    "#importing relevant libs\n",
    "import pandas as pd\n",
    "import numpy as np\n",
    "from matplotlib import pyplot as plt\n",
    "from mpl_toolkits.mplot3d import Axes3D\n",
    "from random import gauss\n",
    "from scipy import stats\n",
    "import seaborn as sns\n",
    "from sklearn.linear_model import LinearRegression\n",
    "from mpl_toolkits import mplot3d\n",
    "import sklearn.metrics as metrics\n",
    "import statsmodels.api as sm\n",
    "import sqlite3\n"
   ]
  },
  {
   "cell_type": "markdown",
   "metadata": {},
   "source": [
    "## Loading the Data sets"
   ]
  },
  {
   "cell_type": "code",
   "execution_count": 428,
   "metadata": {},
   "outputs": [
    {
     "name": "stdout",
     "output_type": "stream",
     "text": [
      "dict_keys(['movie_basics', 'directors', 'known_for', 'movie_akas', 'movie_ratings', 'persons', 'principals', 'writers'])\n"
     ]
    }
   ],
   "source": [
    "#going through SQl\n",
    "def load_tables(connection):\n",
    "    table_names = pd.read_sql(\n",
    "        \"SELECT name FROM sqlite_master WHERE type='table';\", connection\n",
    "    )[\"name\"].tolist()\n",
    "    sql_tables = {\n",
    "        table_name: pd.read_sql(f\"SELECT * FROM {table_name}\", connection)\n",
    "        for table_name in table_names\n",
    "    }\n",
    "    return sql_tables\n",
    "\n",
    "path = '../Data/im.db'\n",
    "conn = sqlite3.connect(path)\n",
    "\n",
    "imdb_tables = load_tables(conn)\n",
    "\n",
    "print(imdb_tables.keys())\n"
   ]
  },
  {
   "cell_type": "code",
   "execution_count": 382,
   "metadata": {},
   "outputs": [],
   "source": [
    "bom_movie = pd.read_csv(\"../Data/bom.movie_gross.csv\")\n",
    "rt_info = pd.read_csv(\"../Data/rt.movie_info.tsv\", sep='\\t', encoding='latin1')\n",
    "rt_reviews = pd.read_csv(\"../Data/rt.movie_info.tsv\", sep='\\t', encoding='latin1')\n",
    "tmdb_df = pd.read_csv(\"../Data/tmdb.movies.csv\")\n",
    "tn_budget = pd.read_csv(\"../Data/tn.movie_budgets.csv\")"
   ]
  },
  {
   "cell_type": "markdown",
   "metadata": {},
   "source": [
    "## SQL CLEANING AND MERGING"
   ]
  },
  {
   "cell_type": "code",
   "execution_count": 383,
   "metadata": {},
   "outputs": [
    {
     "name": "stdout",
     "output_type": "stream",
     "text": [
      "<class 'pandas.core.frame.DataFrame'>\n",
      "RangeIndex: 146144 entries, 0 to 146143\n",
      "Data columns (total 6 columns):\n",
      " #   Column           Non-Null Count   Dtype  \n",
      "---  ------           --------------   -----  \n",
      " 0   movie_id         146144 non-null  object \n",
      " 1   primary_title    146144 non-null  object \n",
      " 2   original_title   146123 non-null  object \n",
      " 3   start_year       146144 non-null  int64  \n",
      " 4   runtime_minutes  114405 non-null  float64\n",
      " 5   genres           140736 non-null  object \n",
      "dtypes: float64(1), int64(1), object(4)\n",
      "memory usage: 6.7+ MB\n",
      "movie_id               0\n",
      "primary_title          0\n",
      "original_title        21\n",
      "start_year             0\n",
      "runtime_minutes    31739\n",
      "genres              5408\n",
      "dtype: int64\n"
     ]
    }
   ],
   "source": [
    "movie_basics = imdb_tables['movie_basics']\n",
    "movie_basics.shape\n",
    "movie_basics.head()\n",
    "movie_basics.info()\n",
    "movie_basics.describe()\n",
    "print(movie_basics.isna().sum())"
   ]
  },
  {
   "cell_type": "markdown",
   "metadata": {},
   "source": [
    "# Movie Basics"
   ]
  },
  {
   "cell_type": "code",
   "execution_count": 384,
   "metadata": {},
   "outputs": [],
   "source": [
    "movie_basics_cp = movie_basics.copy(deep=True)\n",
    "\n",
    "movie_basics_cp['original_title'] = movie_basics_cp['original_title'].fillna('Unknown')\n",
    "\n",
    "movie_basics_median = movie_basics_cp['runtime_minutes'].median()\n",
    "\n",
    "movie_basics_cp['runtime_minutes'] = movie_basics_cp['runtime_minutes'].fillna(movie_basics_median)\n",
    "\n",
    "movie_basics_cp['genres'] = movie_basics_cp['genres'].fillna(\"Unknown\")"
   ]
  },
  {
   "cell_type": "code",
   "execution_count": 385,
   "metadata": {},
   "outputs": [
    {
     "name": "stdout",
     "output_type": "stream",
     "text": [
      "movie_id           0\n",
      "primary_title      0\n",
      "original_title     0\n",
      "start_year         0\n",
      "runtime_minutes    0\n",
      "genres             0\n",
      "dtype: int64\n"
     ]
    },
    {
     "data": {
      "text/plain": [
       "(146144, 6)"
      ]
     },
     "execution_count": 385,
     "metadata": {},
     "output_type": "execute_result"
    }
   ],
   "source": [
    "print(movie_basics_cp.isna().sum())\n",
    "movie_basics_cp.shape"
   ]
  },
  {
   "cell_type": "code",
   "execution_count": 386,
   "metadata": {},
   "outputs": [
    {
     "data": {
      "text/plain": [
       "array([2013, 2019, 2018, 2017, 2012, 2010, 2011, 2015, 2021, 2016, 2014,\n",
       "       2020, 2022, 2023, 2024, 2026, 2025, 2115, 2027], dtype=int64)"
      ]
     },
     "execution_count": 386,
     "metadata": {},
     "output_type": "execute_result"
    }
   ],
   "source": [
    "movie_basics_cp['start_year'].unique()"
   ]
  },
  {
   "cell_type": "code",
   "execution_count": 387,
   "metadata": {},
   "outputs": [
    {
     "data": {
      "text/plain": [
       "<Axes: xlabel='start_year'>"
      ]
     },
     "execution_count": 387,
     "metadata": {},
     "output_type": "execute_result"
    },
    {
     "data": {
      "image/png": "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",
      "text/plain": [
       "<Figure size 640x480 with 1 Axes>"
      ]
     },
     "metadata": {},
     "output_type": "display_data"
    }
   ],
   "source": [
    "sns.boxplot(x= movie_basics_cp['start_year'], color='tomato')"
   ]
  },
  {
   "cell_type": "code",
   "execution_count": 388,
   "metadata": {},
   "outputs": [
    {
     "data": {
      "text/plain": [
       "(146140, 6)"
      ]
     },
     "execution_count": 388,
     "metadata": {},
     "output_type": "execute_result"
    }
   ],
   "source": [
    "movie_basics_cp = movie_basics_cp[movie_basics_cp['start_year'] < 2025]\n",
    "movie_basics_cp.shape\n",
    "\n"
   ]
  },
  {
   "cell_type": "code",
   "execution_count": 389,
   "metadata": {},
   "outputs": [
    {
     "data": {
      "text/plain": [
       "<Axes: xlabel='runtime_minutes'>"
      ]
     },
     "execution_count": 389,
     "metadata": {},
     "output_type": "execute_result"
    },
    {
     "data": {
      "image/png": "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",
      "text/plain": [
       "<Figure size 640x480 with 1 Axes>"
      ]
     },
     "metadata": {},
     "output_type": "display_data"
    }
   ],
   "source": [
    "sns.boxplot(x= movie_basics_cp['runtime_minutes'], color='tomato')"
   ]
  },
  {
   "cell_type": "code",
   "execution_count": 390,
   "metadata": {},
   "outputs": [
    {
     "data": {
      "application/vnd.microsoft.datawrangler.viewer.v0+json": {
       "columns": [
        {
         "name": "index",
         "rawType": "int64",
         "type": "integer"
        },
        {
         "name": "runtime_minutes",
         "rawType": "float64",
         "type": "float"
        }
       ],
       "ref": "bc89d093-6336-45e4-8389-302cdb2ad4fe",
       "rows": [
        [
         "95787",
         "1.0"
        ],
        [
         "113278",
         "1.0"
        ],
        [
         "93214",
         "1.0"
        ],
        [
         "72190",
         "1.0"
        ],
        [
         "98755",
         "1.0"
        ],
        [
         "116943",
         "1.0"
        ],
        [
         "3298",
         "1.0"
        ],
        [
         "140571",
         "1.0"
        ],
        [
         "125975",
         "1.0"
        ],
        [
         "22903",
         "1.0"
        ],
        [
         "60809",
         "1.0"
        ],
        [
         "54307",
         "1.0"
        ],
        [
         "114067",
         "1.0"
        ],
        [
         "117258",
         "1.0"
        ],
        [
         "2570",
         "1.0"
        ],
        [
         "57140",
         "1.0"
        ],
        [
         "136059",
         "1.0"
        ],
        [
         "113099",
         "2.0"
        ],
        [
         "15584",
         "2.0"
        ],
        [
         "129630",
         "2.0"
        ],
        [
         "116783",
         "2.0"
        ],
        [
         "3116",
         "2.0"
        ],
        [
         "102792",
         "2.0"
        ],
        [
         "107782",
         "2.0"
        ],
        [
         "114134",
         "2.0"
        ],
        [
         "117649",
         "2.0"
        ],
        [
         "131229",
         "2.0"
        ],
        [
         "51387",
         "2.0"
        ],
        [
         "37345",
         "2.0"
        ],
        [
         "43133",
         "2.0"
        ],
        [
         "96417",
         "2.0"
        ],
        [
         "59386",
         "2.0"
        ],
        [
         "131200",
         "2.0"
        ],
        [
         "105198",
         "2.0"
        ],
        [
         "110973",
         "2.0"
        ],
        [
         "9343",
         "2.0"
        ],
        [
         "123610",
         "2.0"
        ],
        [
         "120152",
         "2.0"
        ],
        [
         "5128",
         "2.0"
        ],
        [
         "118872",
         "2.0"
        ],
        [
         "133236",
         "2.0"
        ],
        [
         "106420",
         "2.0"
        ],
        [
         "114657",
         "2.0"
        ],
        [
         "131154",
         "2.0"
        ],
        [
         "109535",
         "2.0"
        ],
        [
         "125081",
         "2.0"
        ],
        [
         "98062",
         "2.0"
        ],
        [
         "5401",
         "2.0"
        ],
        [
         "83271",
         "2.0"
        ],
        [
         "97113",
         "2.0"
        ]
       ],
       "shape": {
        "columns": 1,
        "rows": 146140
       }
      },

      "text/plain": [
       "136059        1.0\n",
       "114067        1.0\n",
       "125975        1.0\n",
       "3298          1.0\n",
       "98755         1.0\n",
       "           ...   \n",
       "88717      5460.0\n",
       "87264      6000.0\n",
       "123467     6017.0\n",
       "44840     14400.0\n",
       "132389    51420.0\n",
       "Name: runtime_minutes, Length: 146140, dtype: float64"
      ]
     },
     "execution_count": 390,
     "metadata": {},
     "output_type": "execute_result"
    }
   ],
   "source": [
    "runtime = movie_basics_cp['runtime_minutes'].sort_values(ascending=True)\n",
    "runtime\n"
   ]
  },
  {
   "cell_type": "code",
   "execution_count": 391,
   "metadata": {},
   "outputs": [
    {
     "data": {
      "text/plain": [
       "0"
      ]
     },
     "execution_count": 391,
     "metadata": {},
     "output_type": "execute_result"
    }
   ],
   "source": [
    "movie_basics_cp = movie_basics_cp[movie_basics_cp['runtime_minutes'].between(40, 150)]\n",
    "movie_basics_cp.duplicated().sum()"
   ]
  },
  {
   "cell_type": "code",
   "execution_count": 392,
   "metadata": {},
   "outputs": [
    {
     "name": "stdout",
     "output_type": "stream",
     "text": [
      "<class 'pandas.core.frame.DataFrame'>\n",
      "RangeIndex: 73856 entries, 0 to 73855\n",
      "Data columns (total 3 columns):\n",
      " #   Column         Non-Null Count  Dtype  \n",
      "---  ------         --------------  -----  \n",
      " 0   movie_id       73856 non-null  object \n",
      " 1   averagerating  73856 non-null  float64\n",
      " 2   numvotes       73856 non-null  int64  \n",
      "dtypes: float64(1), int64(1), object(1)\n",
      "memory usage: 1.7+ MB\n"
     ]
    },
    {
     "data": {

      "application/vnd.microsoft.datawrangler.viewer.v0+json": {
       "columns": [
        {
         "name": "index",
         "rawType": "object",
         "type": "string"
        },
        {
         "name": "0",
         "rawType": "int64",
         "type": "integer"
        }
       ],
       "ref": "b65e46a6-6cb9-4b07-b6f6-13cd66f45760",
       "rows": [
        [
         "movie_id",
         "0"
        ],
        [
         "averagerating",
         "0"
        ],
        [
         "numvotes",
         "0"
        ]
       ],
       "shape": {
        "columns": 1,
        "rows": 3
       }
      },

      "text/plain": [
       "movie_id         0\n",
       "averagerating    0\n",
       "numvotes         0\n",
       "dtype: int64"
      ]
     },
     "execution_count": 392,
     "metadata": {},
     "output_type": "execute_result"
    }
   ],
   "source": [
    "movie_ratings = imdb_tables['movie_ratings']\n",
    "movie_ratings.shape\n",
    "movie_ratings.head()\n",
    "movie_ratings.describe()\n",
    "movie_ratings.info()\n",
    "movie_ratings.isna().sum()"
   ]
  },
  {
   "cell_type": "code",
   "execution_count": 393,
   "metadata": {},
   "outputs": [],
   "source": [
    "movie_ratings_cp = movie_ratings.copy(deep=True)"
   ]
  },
  {
   "cell_type": "code",
   "execution_count": 394,
   "metadata": {},
   "outputs": [
    {
     "name": "stdout",
     "output_type": "stream",
     "text": [
      "(146144, 6)\n",
      "(73856, 3)\n",
      "(331703, 8)\n"
     ]
    }
   ],
   "source": [
    "print(imdb_tables['movie_basics'].shape)\n",
    "print(imdb_tables['movie_ratings'].shape)\n",
    "\n",
    "\n",
    "print(imdb_tables['movie_akas'].shape)"
   ]
  },
  {
   "cell_type": "code",
   "execution_count": 395,
   "metadata": {},
   "outputs": [],
   "source": [
    "movie_akas = imdb_tables['movie_akas']"
   ]
  },
  {
   "cell_type": "code",
   "execution_count": 396,
   "metadata": {},
   "outputs": [
    {
     "name": "stdout",
     "output_type": "stream",
     "text": [
      "<class 'pandas.core.frame.DataFrame'>\n",
      "RangeIndex: 331703 entries, 0 to 331702\n",
      "Data columns (total 8 columns):\n",
      " #   Column             Non-Null Count   Dtype  \n",
      "---  ------             --------------   -----  \n",
      " 0   movie_id           331703 non-null  object \n",
      " 1   ordering           331703 non-null  int64  \n",
      " 2   title              331703 non-null  object \n",
      " 3   region             278410 non-null  object \n",
      " 4   language           41715 non-null   object \n",
      " 5   types              168447 non-null  object \n",
      " 6   attributes         14925 non-null   object \n",
      " 7   is_original_title  331678 non-null  float64\n",
      "dtypes: float64(1), int64(1), object(6)\n",
      "memory usage: 20.2+ MB\n"
     ]
    }
   ],
   "source": [
    "movie_akas_cp = movie_akas.copy(deep=True)\n",
    "movie_akas_cp.info()\n",
    "movie_akas_cp.isna().sum()\n",
    "movie_akas_cp = movie_akas_cp.drop(columns=['language', 'types', 'attributes', 'is_original_title'])\n",
    "movie_akas_cp = movie_akas_cp.rename(columns={\n",
    "    'title':'region_title'\n",
    "})\n"
   ]
  },
  {
   "cell_type": "markdown",
   "metadata": {},
   "source": [
    "# MOVIE MERGE"
   ]
  },
  {
   "cell_type": "code",
   "execution_count": 397,
   "metadata": {},
   "outputs": [
    {
     "data": {
      "application/vnd.microsoft.datawrangler.viewer.v0+json": {
       "columns": [
        {
         "name": "index",
         "rawType": "int64",
         "type": "integer"
        },
        {
         "name": "movie_id",
         "rawType": "object",
         "type": "string"
        },
        {
         "name": "primary_title",
         "rawType": "object",
         "type": "string"
        },
        {
         "name": "original_title",
         "rawType": "object",
         "type": "string"
        },
        {
         "name": "start_year",
         "rawType": "int64",
         "type": "integer"
        },
        {
         "name": "runtime_minutes",
         "rawType": "float64",
         "type": "float"
        },
        {
         "name": "genres",
         "rawType": "object",
         "type": "string"
        },
        {
         "name": "averagerating",
         "rawType": "float64",
         "type": "float"
        },
        {
         "name": "numvotes",
         "rawType": "int64",
         "type": "integer"
        }
       ],
       "ref": "9b78dbe9-c075-4596-baf7-b5a5314469e7",
       "rows": [
        [
         "0",
         "tt0066787",
         "One Day Before the Rainy Season",
         "Ashad Ka Ek Din",
         "2019",
         "114.0",
         "Biography,Drama",
         "7.2",
         "43"
        ],
        [
         "1",
         "tt0069049",
         "The Other Side of the Wind",
         "The Other Side of the Wind",
         "2018",
         "122.0",
         "Drama",
         "6.9",
         "4517"
        ],
        [
         "2",
         "tt0069204",
         "Sabse Bada Sukh",
         "Sabse Bada Sukh",
         "2018",
         "87.0",
         "Comedy,Drama",
         "6.1",
         "13"
        ],
        [
         "3",
         "tt0100275",
         "The Wandering Soap Opera",
         "La Telenovela Errante",
         "2017",
         "80.0",
         "Comedy,Drama,Fantasy",
         "6.5",
         "119"
        ],
        [
         "4",
         "tt0112502",
         "Bigfoot",
         "Bigfoot",
         "2017",
         "87.0",
         "Horror,Thriller",
         "4.1",
         "32"
        ],
        [
         "5",
         "tt0137204",
         "Joe Finds Grace",
         "Joe Finds Grace",
         "2017",
         "83.0",
         "Adventure,Animation,Comedy",
         "8.1",
         "263"
        ],
        [
         "6",
         "tt0146592",
         "Pál Adrienn",
         "Pál Adrienn",
         "2010",
         "136.0",
         "Drama",
         "6.8",
         "451"
        ],
        [
         "7",
         "tt0154039",
         "So Much for Justice!",
         "Oda az igazság",
         "2010",
         "100.0",
         "History",
         "4.6",
         "64"
        ],
        [
         "8",
         "tt0162942",
         "Children of the Green Dragon",
         "A zöld sárkány gyermekei",
         "2010",
         "89.0",
         "Drama",
         "6.9",
         "120"
        ],
        [
         "9",
         "tt0170651",
         "T.G.M. - osvoboditel",
         "T.G.M. - osvoboditel",
         "2018",
         "60.0",
         "Documentary",
         "7.5",
         "6"
        ],
        [
         "10",
         "tt0192528",
         "Heaven & Hell",
         "Reverse Heaven",
         "2018",
         "104.0",
         "Drama",
         "4.0",
         "72"
        ],
        [
         "11",
         "tt0230212",
         "The Final Journey",
         "The Final Journey",
         "2010",
         "120.0",
         "Drama",
         "8.8",
         "8"
        ],
        [
         "12",
         "tt0247643",
         "Los pájaros se van con la muerte",
         "Los pájaros se van con la muerte",
         "2011",
         "110.0",
         "Drama,Mystery",
         "4.0",
         "12"
        ],
        [
         "13",
         "tt0249516",
         "Foodfight!",
         "Foodfight!",
         "2012",
         "91.0",
         "Action,Animation,Comedy",
         "1.9",
         "8248"
        ],
        [
         "14",
         "tt0250404",
         "Godfather",
         "Godfather",
         "2012",
         "87.0",
         "Crime,Drama",
         "6.7",
         "236"
        ],
        [
         "15",
         "tt0253093",
         "Gangavataran",
         "Gangavataran",
         "2018",
         "134.0",
         "Unknown",
         "6.6",
         "8"
        ],
        [
         "16",
         "tt0255820",
         "Return to Babylon",
         "Return to Babylon",
         "2013",
         "75.0",
         "Biography,Comedy,Drama",
         "5.9",
         "123"
        ],
        [
         "17",
         "tt0262218",
         "Akakis mogzauroba",
         "Akakis mogzauroba",
         "2012",
         "44.0",
         "Documentary",
         "7.8",
         "22"
        ],
        [
         "18",
         "tt0263814",
         "On kadin",
         "On kadin",
         "2019",
         "87.0",
         "Drama",
         "7.1",
         "100"
        ],
        [
         "19",
         "tt0276568",
         "To Chase a Million",
         "To Chase a Million",
         "2018",
         "97.0",
         "Action,Drama",
         "7.4",
         "5"
        ],
        [
         "20",
         "tt0277964",
         "Prague: The Restless Heart of Europe",
         "Praha - neklidné srdce Evropy",
         "2018",
         "59.0",
         "Documentary,History",
         "7.0",
         "31"
        ],
        [
         "21",
         "tt0283440",
         "Short Time Heroes",
         "Kurzzeithelden",
         "2015",
         "45.0",
         "Sci-Fi",
         "6.6",
         "16"
        ],
        [
         "22",
         "tt0285252",
         "Life's a Beach",
         "Life's a Beach",
         "2012",
         "100.0",
         "Comedy",
         "3.9",
         "219"
        ],
        [
         "23",
         "tt0285423",
         "Abolição",
         "Abolição",
         "2019",
         "87.0",
         "Documentary",
         "7.4",
         "35"
        ],
        [
         "24",
         "tt0293069",
         "Dark Blood",
         "Dark Blood",
         "2012",
         "86.0",
         "Thriller",
         "6.6",
         "1053"
        ],
        [
         "25",
         "tt0297400",
         "Snowblind",
         "Snowblind",
         "2015",
         "87.0",
         "Crime,Drama",
         "6.7",
         "77"
        ],
        [
         "26",
         "tt0306058",
         "Second Coming",
         "Second Coming",
         "2012",
         "95.0",
         "Unknown",
         "5.5",
         "20"
        ],
        [
         "27",
         "tt0312305",
         "Quantum Quest: A Cassini Space Odyssey",
         "Quantum Quest: A Cassini Space Odyssey",
         "2010",
         "45.0",
         "Adventure,Animation,Sci-Fi",
         "5.1",
         "287"
        ],
        [
         "28",
         "tt0315642",
         "Wazir",
         "Wazir",
         "2016",
         "103.0",
         "Action,Crime,Drama",
         "7.1",
         "15378"
        ],
        [
         "29",
         "tt0323808",
         "The Wicker Tree",
         "The Wicker Tree",
         "2011",
         "96.0",
         "Drama,Horror",
         "3.9",
         "2328"
        ],
        [
         "30",
         "tt0326592",
         "The Overnight",
         "The Overnight",
         "2010",
         "88.0",
         "Unknown",
         "7.5",
         "24"
        ],
        [
         "31",
         "tt0326965",
         "In My Sleep",
         "In My Sleep",
         "2010",
         "104.0",
         "Drama,Mystery,Thriller",
         "5.5",
         "1889"
        ],
        [
         "32",
         "tt0328810",
         "My Land",
         "Aamaar Bhuvan",
         "2018",
         "102.0",
         "Drama,Family",
         "7.9",
         "61"
        ],
        [
         "33",
         "tt0329539",
         "Rice Girl",
         "Rice Girl",
         "2014",
         "95.0",
         "Adventure,Comedy,Romance",
         "6.1",
         "73"
        ],
        [
         "34",
         "tt0330811",
         "Regret Not Speaking",
         "Regret Not Speaking",
         "2011",
         "87.0",
         "Unknown",
         "6.2",
         "10"
        ],
        [
         "35",
         "tt0330987",
         "Tiden är en dröm, del 2",
         "Tiden är en dröm, del 2",
         "2014",
         "109.0",
         "Unknown",
         "6.3",
         "6"
        ],
        [
         "36",
         "tt0331312",
         "This Wretched Life",
         "This Wretched Life",
         "2010",
         "99.0",
         "Comedy,Drama",
         "7.6",
         "59"
        ],
        [
         "37",
         "tt0331314",
         "Bunyan and Babe",
         "Bunyan and Babe",
         "2017",
         "84.0",
         "Adventure,Animation,Comedy",
         "5.0",
         "302"
        ],
        [
         "38",
         "tt0337692",
         "On the Road",
         "On the Road",
         "2012",
         "124.0",
         "Adventure,Drama,Romance",
         "6.1",
         "37886"
        ],
        [
         "39",
         "tt0337882",
         "Blind Sided",
         "Blind Sided",
         "2010",
         "87.0",
         "Comedy,Crime,Drama",
         "7.4",
         "14"
        ],
        [
         "40",
         "tt0337926",
         "Chatô - The King of Brazil",
         "Chatô: O Rei do Brasil",
         "2015",
         "102.0",
         "Biography",
         "6.0",
         "558"
        ],
        [
         "41",
         "tt0339736",
         "The Evil Within",
         "The Evil Within",
         "2017",
         "98.0",
         "Horror",
         "5.6",
         "2420"
        ],
        [
         "42",
         "tt0346045",
         "Transeúntes",
         "Transeúntes",
         "2015",
         "101.0",
         "Comedy,Drama",
         "6.7",
         "35"
        ],
        [
         "43",
         "tt0357717",
         "Haar Jeet",
         "Haar Jeet",
         "2018",
         "87.0",
         "Drama",
         "5.1",
         "9"
        ],
        [
         "44",
         "tt0359950",
         "The Secret Life of Walter Mitty",
         "The Secret Life of Walter Mitty",
         "2013",
         "114.0",
         "Adventure,Comedy,Drama",
         "7.3",
         "275300"
        ],
        [
         "45",
         "tt0360556",
         "Fahrenheit 451",
         "Fahrenheit 451",
         "2018",
         "100.0",
         "Drama,Sci-Fi,Thriller",
         "4.9",
         "14469"
        ],
        [
         "46",
         "tt0364201",
         "Aman Ke Farishtey",
         "Aman Ke Farishtey",
         "2016",
         "137.0",
         "Action",
         "6.4",
         "16"
        ],
        [
         "47",
         "tt0365545",
         "Nappily Ever After",
         "Nappily Ever After",
         "2018",
         "98.0",
         "Comedy,Drama,Romance",
         "6.4",
         "6287"
        ],
        [
         "48",
         "tt0365907",
         "A Walk Among the Tombstones",
         "A Walk Among the Tombstones",
         "2014",
         "114.0",
         "Action,Crime,Drama",
         "6.5",
         "105116"
        ],
        [
         "49",
         "tt0369610",
         "Jurassic World",
         "Jurassic World",
         "2015",
         "124.0",
         "Action,Adventure,Sci-Fi",
         "7.0",
         "539338"
        ]
       ],
       "shape": {
        "columns": 8,
        "rows": 72227
       }
      },
      "text/html": [
       "<div>\n",
       "<style scoped>\n",
       "    .dataframe tbody tr th:only-of-type {\n",
       "        vertical-align: middle;\n",
       "    }\n",
       "\n",
       "    .dataframe tbody tr th {\n",
       "        vertical-align: top;\n",
       "    }\n",
       "\n",
       "    .dataframe thead th {\n",
       "        text-align: right;\n",
       "    }\n",
       "</style>\n",
       "<table border=\"1\" class=\"dataframe\">\n",
       "  <thead>\n",
       "    <tr style=\"text-align: right;\">\n",
       "      <th></th>\n",
       "      <th>movie_id</th>\n",
       "      <th>primary_title</th>\n",
       "      <th>original_title</th>\n",
       "      <th>start_year</th>\n",
       "      <th>runtime_minutes</th>\n",
       "      <th>genres</th>\n",
       "      <th>averagerating</th>\n",
       "      <th>numvotes</th>\n",
       "    </tr>\n",
       "  </thead>\n",
       "  <tbody>\n",
       "    <tr>\n",
       "      <th>0</th>\n",
       "      <td>tt0066787</td>\n",
       "      <td>One Day Before the Rainy Season</td>\n",
       "      <td>Ashad Ka Ek Din</td>\n",
       "      <td>2019</td>\n",
       "      <td>114.0</td>\n",
       "      <td>Biography,Drama</td>\n",
       "      <td>7.2</td>\n",
       "      <td>43</td>\n",
       "    </tr>\n",
       "    <tr>\n",
       "      <th>1</th>\n",
       "      <td>tt0069049</td>\n",
       "      <td>The Other Side of the Wind</td>\n",
       "      <td>The Other Side of the Wind</td>\n",
       "      <td>2018</td>\n",
       "      <td>122.0</td>\n",
       "      <td>Drama</td>\n",
       "      <td>6.9</td>\n",
       "      <td>4517</td>\n",
       "    </tr>\n",
       "    <tr>\n",
       "      <th>2</th>\n",
       "      <td>tt0069204</td>\n",
       "      <td>Sabse Bada Sukh</td>\n",
       "      <td>Sabse Bada Sukh</td>\n",
       "      <td>2018</td>\n",
       "      <td>87.0</td>\n",
       "      <td>Comedy,Drama</td>\n",
       "      <td>6.1</td>\n",
       "      <td>13</td>\n",
       "    </tr>\n",
       "    <tr>\n",
       "      <th>3</th>\n",
       "      <td>tt0100275</td>\n",
       "      <td>The Wandering Soap Opera</td>\n",
       "      <td>La Telenovela Errante</td>\n",
       "      <td>2017</td>\n",
       "      <td>80.0</td>\n",
       "      <td>Comedy,Drama,Fantasy</td>\n",
       "      <td>6.5</td>\n",
       "      <td>119</td>\n",
       "    </tr>\n",
       "    <tr>\n",
       "      <th>4</th>\n",
       "      <td>tt0112502</td>\n",
       "      <td>Bigfoot</td>\n",
       "      <td>Bigfoot</td>\n",
       "      <td>2017</td>\n",
       "      <td>87.0</td>\n",
       "      <td>Horror,Thriller</td>\n",
       "      <td>4.1</td>\n",
       "      <td>32</td>\n",
       "    </tr>\n",
       "    <tr>\n",
       "      <th>...</th>\n",
       "      <td>...</td>\n",
       "      <td>...</td>\n",
       "      <td>...</td>\n",
       "      <td>...</td>\n",
       "      <td>...</td>\n",
       "      <td>...</td>\n",
       "      <td>...</td>\n",
       "      <td>...</td>\n",
       "    </tr>\n",
       "    <tr>\n",
       "      <th>72222</th>\n",
       "      <td>tt9913084</td>\n",
       "      <td>Diabolik sono io</td>\n",
       "      <td>Diabolik sono io</td>\n",
       "      <td>2019</td>\n",
       "      <td>75.0</td>\n",
       "      <td>Documentary</td>\n",
       "      <td>6.2</td>\n",
       "      <td>6</td>\n",
       "    </tr>\n",
       "    <tr>\n",
       "      <th>72223</th>\n",
       "      <td>tt9914286</td>\n",
       "      <td>Sokagin Çocuklari</td>\n",
       "      <td>Sokagin Çocuklari</td>\n",
       "      <td>2019</td>\n",
       "      <td>98.0</td>\n",
       "      <td>Drama,Family</td>\n",
       "      <td>8.7</td>\n",
       "      <td>136</td>\n",
       "    </tr>\n",
       "    <tr>\n",
       "      <th>72224</th>\n",
       "      <td>tt9914642</td>\n",
       "      <td>Albatross</td>\n",
       "      <td>Albatross</td>\n",
       "      <td>2017</td>\n",
       "      <td>87.0</td>\n",
       "      <td>Documentary</td>\n",
       "      <td>8.5</td>\n",
       "      <td>8</td>\n",
       "    </tr>\n",
       "    <tr>\n",
       "      <th>72225</th>\n",
       "      <td>tt9914942</td>\n",
       "      <td>La vida sense la Sara Amat</td>\n",
       "      <td>La vida sense la Sara Amat</td>\n",
       "      <td>2019</td>\n",
       "      <td>87.0</td>\n",
       "      <td>Unknown</td>\n",
       "      <td>6.6</td>\n",
       "      <td>5</td>\n",
       "    </tr>\n",
       "    <tr>\n",
       "      <th>72226</th>\n",
       "      <td>tt9916160</td>\n",
       "      <td>Drømmeland</td>\n",
       "      <td>Drømmeland</td>\n",
       "      <td>2019</td>\n",
       "      <td>72.0</td>\n",
       "      <td>Documentary</td>\n",
       "      <td>6.5</td>\n",
       "      <td>11</td>\n",
       "    </tr>\n",
       "  </tbody>\n",
       "</table>\n",
       "<p>72227 rows × 8 columns</p>\n",
       "</div>"
      ],
      "text/plain": [
       "        movie_id                    primary_title              original_title  \\\n",
       "0      tt0066787  One Day Before the Rainy Season             Ashad Ka Ek Din   \n",
       "1      tt0069049       The Other Side of the Wind  The Other Side of the Wind   \n",
       "2      tt0069204                  Sabse Bada Sukh             Sabse Bada Sukh   \n",
       "3      tt0100275         The Wandering Soap Opera       La Telenovela Errante   \n",
       "4      tt0112502                          Bigfoot                     Bigfoot   \n",
       "...          ...                              ...                         ...   \n",
       "72222  tt9913084                 Diabolik sono io            Diabolik sono io   \n",
       "72223  tt9914286                Sokagin Çocuklari           Sokagin Çocuklari   \n",
       "72224  tt9914642                        Albatross                   Albatross   \n",
       "72225  tt9914942       La vida sense la Sara Amat  La vida sense la Sara Amat   \n",
       "72226  tt9916160                       Drømmeland                  Drømmeland   \n",
       "\n",
       "       start_year  runtime_minutes                genres  averagerating  \\\n",
       "0            2019            114.0       Biography,Drama            7.2   \n",
       "1            2018            122.0                 Drama            6.9   \n",
       "2            2018             87.0          Comedy,Drama            6.1   \n",
       "3            2017             80.0  Comedy,Drama,Fantasy            6.5   \n",
       "4            2017             87.0       Horror,Thriller            4.1   \n",
       "...           ...              ...                   ...            ...   \n",
       "72222        2019             75.0           Documentary            6.2   \n",
       "72223        2019             98.0          Drama,Family            8.7   \n",
       "72224        2017             87.0           Documentary            8.5   \n",
       "72225        2019             87.0               Unknown            6.6   \n",
       "72226        2019             72.0           Documentary            6.5   \n",
       "\n",
       "       numvotes  \n",
       "0            43  \n",
       "1          4517  \n",
       "2            13  \n",
       "3           119  \n",
       "4            32  \n",
       "...         ...  \n",
       "72222         6  \n",
       "72223       136  \n",
       "72224         8  \n",
       "72225         5  \n",
       "72226        11  \n",
       "\n",
       "[72227 rows x 8 columns]"
      ]
     },
     "execution_count": 397,
     "metadata": {},
     "output_type": "execute_result"
    }
   ],
   "source": [
    "movie_merge = movie_basics_cp.merge(movie_ratings_cp, on='movie_id', how='inner')\n",
    "movie_merge"
   ]
  },
  {
   "cell_type": "code",
   "execution_count": 398,
   "metadata": {},
   "outputs": [
    {
     "data": {
      "application/vnd.microsoft.datawrangler.viewer.v0+json": {
       "columns": [
        {
         "name": "index",
         "rawType": "int64",
         "type": "integer"
        },
        {
         "name": "movie_id",
         "rawType": "object",
         "type": "string"
        },
        {
         "name": "primary_title",
         "rawType": "object",
         "type": "string"
        },
        {
         "name": "original_title",
         "rawType": "object",
         "type": "string"
        },
        {
         "name": "start_year",
         "rawType": "int64",
         "type": "integer"
        },
        {
         "name": "runtime_minutes",
         "rawType": "float64",
         "type": "float"
        },
        {
         "name": "genres",
         "rawType": "object",
         "type": "string"
        },
        {
         "name": "averagerating",
         "rawType": "float64",
         "type": "float"
        },
        {
         "name": "numvotes",
         "rawType": "int64",
         "type": "integer"
        },
        {
         "name": "ordering",
         "rawType": "int64",
         "type": "integer"
        },
        {
         "name": "region_title",
         "rawType": "object",
         "type": "string"
        },
        {
         "name": "region",
         "rawType": "object",
         "type": "unknown"
        }
       ],
       "ref": "1cf496e5-4b14-4da6-bd5c-701e1508e6ac",
       "rows": [
        [
         "0",
         "tt0066787",
         "One Day Before the Rainy Season",
         "Ashad Ka Ek Din",
         "2019",
         "114.0",
         "Biography,Drama",
         "7.2",
         "43",
         "1",
         "One Day Before the Rainy Season",
         "XWW"
        ],
        [
         "1",
         "tt0066787",
         "One Day Before the Rainy Season",
         "Ashad Ka Ek Din",
         "2019",
         "114.0",
         "Biography,Drama",
         "7.2",
         "43",
         "2",
         "Ashad Ka Ek Din",
         "IN"
        ],
        [
         "2",
         "tt0066787",
         "One Day Before the Rainy Season",
         "Ashad Ka Ek Din",
         "2019",
         "114.0",
         "Biography,Drama",
         "7.2",
         "43",
         "3",
         "One Monsoon Day",
         null
        ],
        [
         "3",
         "tt0066787",
         "One Day Before the Rainy Season",
         "Ashad Ka Ek Din",
         "2019",
         "114.0",
         "Biography,Drama",
         "7.2",
         "43",
         "4",
         "Ashad Ka Ek Din",
         null
        ],
        [
         "4",
         "tt0069049",
         "The Other Side of the Wind",
         "The Other Side of the Wind",
         "2018",
         "122.0",
         "Drama",
         "6.9",
         "4517",
         "10",
         "La otra cara del viento",
         "VE"
        ],
        [
         "5",
         "tt0069049",
         "The Other Side of the Wind",
         "The Other Side of the Wind",
         "2018",
         "122.0",
         "Drama",
         "6.9",
         "4517",
         "11",
         "Druga strona wiatru",
         "PL"
        ],
        [
         "6",
         "tt0069049",
         "The Other Side of the Wind",
         "The Other Side of the Wind",
         "2018",
         "122.0",
         "Drama",
         "6.9",
         "4517",
         "12",
         "The Other Side of the Wind",
         "DE"
        ],
        [
         "7",
         "tt0069049",
         "The Other Side of the Wind",
         "The Other Side of the Wind",
         "2018",
         "122.0",
         "Drama",
         "6.9",
         "4517",
         "13",
         "O Outro Lado do Vento",
         "PT"
        ],
        [
         "8",
         "tt0069049",
         "The Other Side of the Wind",
         "The Other Side of the Wind",
         "2018",
         "122.0",
         "Drama",
         "6.9",
         "4517",
         "1",
         "O Outro Lado do Vento",
         "BR"
        ],
        [
         "9",
         "tt0069049",
         "The Other Side of the Wind",
         "The Other Side of the Wind",
         "2018",
         "122.0",
         "Drama",
         "6.9",
         "4517",
         "2",
         "The Other Side of the Wind",
         "US"
        ],
        [
         "10",
         "tt0069049",
         "The Other Side of the Wind",
         "The Other Side of the Wind",
         "2018",
         "122.0",
         "Drama",
         "6.9",
         "4517",
         "3",
         "The Other Side of the Wind",
         "GB"
        ],
        [
         "11",
         "tt0069049",
         "The Other Side of the Wind",
         "The Other Side of the Wind",
         "2018",
         "122.0",
         "Drama",
         "6.9",
         "4517",
         "4",
         "L'altra faccia del vento",
         "IT"
        ],
        [
         "12",
         "tt0069049",
         "The Other Side of the Wind",
         "The Other Side of the Wind",
         "2018",
         "122.0",
         "Drama",
         "6.9",
         "4517",
         "5",
         "Другая сторона ветра",
         "RU"
        ],
        [
         "13",
         "tt0069049",
         "The Other Side of the Wind",
         "The Other Side of the Wind",
         "2018",
         "122.0",
         "Drama",
         "6.9",
         "4517",
         "6",
         "Al otro lado del viento",
         "AR"
        ],
        [
         "14",
         "tt0069049",
         "The Other Side of the Wind",
         "The Other Side of the Wind",
         "2018",
         "122.0",
         "Drama",
         "6.9",
         "4517",
         "7",
         "Al otro lado del viento",
         "ES"
        ],
        [
         "15",
         "tt0069049",
         "The Other Side of the Wind",
         "The Other Side of the Wind",
         "2018",
         "122.0",
         "Drama",
         "6.9",
         "4517",
         "8",
         "The Other Side of the Wind",
         null
        ],
        [
         "16",
         "tt0069049",
         "The Other Side of the Wind",
         "The Other Side of the Wind",
         "2018",
         "122.0",
         "Drama",
         "6.9",
         "4517",
         "9",
         "De l'autre côté du vent",
         "FR"
        ],
        [
         "17",
         "tt0069204",
         "Sabse Bada Sukh",
         "Sabse Bada Sukh",
         "2018",
         "87.0",
         "Comedy,Drama",
         "6.1",
         "13",
         "1",
         "Subse Bada Sukh",
         "IN"
        ],
        [
         "18",
         "tt0069204",
         "Sabse Bada Sukh",
         "Sabse Bada Sukh",
         "2018",
         "87.0",
         "Comedy,Drama",
         "6.1",
         "13",
         "2",
         "The Greatest Happiness",
         "IN"
        ],
        [
         "19",
         "tt0069204",
         "Sabse Bada Sukh",
         "Sabse Bada Sukh",
         "2018",
         "87.0",
         "Comedy,Drama",
         "6.1",
         "13",
         "3",
         "Sabse Bada Sukh",
         null
        ],
        [
         "20",
         "tt0100275",
         "The Wandering Soap Opera",
         "La Telenovela Errante",
         "2017",
         "80.0",
         "Comedy,Drama,Fantasy",
         "6.5",
         "119",
         "1",
         "La Telenovela Errante",
         null
        ],
        [
         "21",
         "tt0100275",
         "The Wandering Soap Opera",
         "La Telenovela Errante",
         "2017",
         "80.0",
         "Comedy,Drama,Fantasy",
         "6.5",
         "119",
         "2",
         "The Wandering Soap Opera",
         "XWW"
        ],
        [
         "22",
         "tt0100275",
         "The Wandering Soap Opera",
         "La Telenovela Errante",
         "2017",
         "80.0",
         "Comedy,Drama,Fantasy",
         "6.5",
         "119",
         "3",
         "La Telenovela Errante",
         "CL"
        ],
        [
         "23",
         "tt0100275",
         "The Wandering Soap Opera",
         "La Telenovela Errante",
         "2017",
         "80.0",
         "Comedy,Drama,Fantasy",
         "6.5",
         "119",
         "4",
         "La novela errante",
         "CL"
        ],
        [
         "24",
         "tt0100275",
         "The Wandering Soap Opera",
         "La Telenovela Errante",
         "2017",
         "80.0",
         "Comedy,Drama,Fantasy",
         "6.5",
         "119",
         "5",
         "Objazdowa opera mydlana",
         "PL"
        ],
        [
         "25",
         "tt0112502",
         "Bigfoot",
         "Bigfoot",
         "2017",
         "87.0",
         "Horror,Thriller",
         "4.1",
         "32",
         "1",
         "Bigfoot",
         "US"
        ],
        [
         "26",
         "tt0137204",
         "Joe Finds Grace",
         "Joe Finds Grace",
         "2017",
         "83.0",
         "Adventure,Animation,Comedy",
         "8.1",
         "263",
         "1",
         "Joe Finds Grace",
         "CA"
        ],
        [
         "27",
         "tt0137204",
         "Joe Finds Grace",
         "Joe Finds Grace",
         "2017",
         "83.0",
         "Adventure,Animation,Comedy",
         "8.1",
         "263",
         "2",
         "Elephant Joe",
         null
        ],
        [
         "28",
         "tt0137204",
         "Joe Finds Grace",
         "Joe Finds Grace",
         "2017",
         "83.0",
         "Adventure,Animation,Comedy",
         "8.1",
         "263",
         "3",
         "Joe Finds Grace",
         null
        ],
        [
         "29",
         "tt0137204",
         "Joe Finds Grace",
         "Joe Finds Grace",
         "2017",
         "83.0",
         "Adventure,Animation,Comedy",
         "8.1",
         "263",
         "4",
         "Saving Grace",
         null
        ],
        [
         "30",
         "tt0146592",
         "Pál Adrienn",
         "Pál Adrienn",
         "2010",
         "136.0",
         "Drama",
         "6.8",
         "451",
         "1",
         "Adrienn Pal",
         "PL"
        ],
        [
         "31",
         "tt0146592",
         "Pál Adrienn",
         "Pál Adrienn",
         "2010",
         "136.0",
         "Drama",
         "6.8",
         "451",
         "2",
         "Адриен Пал",
         "BG"
        ],
        [
         "32",
         "tt0146592",
         "Pál Adrienn",
         "Pál Adrienn",
         "2010",
         "136.0",
         "Drama",
         "6.8",
         "451",
         "3",
         "Pal Adrienn",
         "HR"
        ],
        [
         "33",
         "tt0146592",
         "Pál Adrienn",
         "Pál Adrienn",
         "2010",
         "136.0",
         "Drama",
         "6.8",
         "451",
         "4",
         "Pál Adrienn",
         "HU"
        ],
        [
         "34",
         "tt0146592",
         "Pál Adrienn",
         "Pál Adrienn",
         "2010",
         "136.0",
         "Drama",
         "6.8",
         "451",
         "5",
         "Adrienn Pál",
         "SE"
        ],
        [
         "35",
         "tt0146592",
         "Pál Adrienn",
         "Pál Adrienn",
         "2010",
         "136.0",
         "Drama",
         "6.8",
         "451",
         "6",
         "Pál Adrienn",
         null
        ],
        [
         "36",
         "tt0154039",
         "So Much for Justice!",
         "Oda az igazság",
         "2010",
         "100.0",
         "History",
         "4.6",
         "64",
         "1",
         "Oda az igazság",
         null
        ],
        [
         "37",
         "tt0154039",
         "So Much for Justice!",
         "Oda az igazság",
         "2010",
         "100.0",
         "History",
         "4.6",
         "64",
         "2",
         "Oda az igazság",
         "HU"
        ],
        [
         "38",
         "tt0154039",
         "So Much for Justice!",
         "Oda az igazság",
         "2010",
         "100.0",
         "History",
         "4.6",
         "64",
         "3",
         "C'est la vérité",
         "FR"
        ],
        [
         "39",
         "tt0154039",
         "So Much for Justice!",
         "Oda az igazság",
         "2010",
         "100.0",
         "History",
         "4.6",
         "64",
         "4",
         "So Much for Justice!",
         "XWW"
        ],
        [
         "40",
         "tt0154039",
         "So Much for Justice!",
         "Oda az igazság",
         "2010",
         "100.0",
         "History",
         "4.6",
         "64",
         "5",
         "So Much for Justice",
         "FR"
        ],
        [
         "41",
         "tt0154039",
         "So Much for Justice!",
         "Oda az igazság",
         "2010",
         "100.0",
         "History",
         "4.6",
         "64",
         "6",
         "Szlag trafil sprawiedliwosc",
         "PL"
        ],
        [
         "42",
         "tt0162942",
         "Children of the Green Dragon",
         "A zöld sárkány gyermekei",
         "2010",
         "89.0",
         "Drama",
         "6.9",
         "120",
         "1",
         "Dzieci Zielonego Smoka",
         "PL"
        ],
        [
         "43",
         "tt0162942",
         "Children of the Green Dragon",
         "A zöld sárkány gyermekei",
         "2010",
         "89.0",
         "Drama",
         "6.9",
         "120",
         "2",
         "A zöld sárkány gyermekei",
         "HU"
        ],
        [
         "44",
         "tt0162942",
         "Children of the Green Dragon",
         "A zöld sárkány gyermekei",
         "2010",
         "89.0",
         "Drama",
         "6.9",
         "120",
         "3",
         "A zöld sárkány gyermekei",
         null
        ],
        [
         "45",
         "tt0162942",
         "Children of the Green Dragon",
         "A zöld sárkány gyermekei",
         "2010",
         "89.0",
         "Drama",
         "6.9",
         "120",
         "4",
         "Children of the Green Dragon",
         "XWW"
        ],
        [
         "46",
         "tt0192528",
         "Heaven & Hell",
         "Reverse Heaven",
         "2018",
         "104.0",
         "Drama",
         "4.0",
         "72",
         "1",
         "Heaven & Hell",
         "US"
        ],
        [
         "47",
         "tt0192528",
         "Heaven & Hell",
         "Reverse Heaven",
         "2018",
         "104.0",
         "Drama",
         "4.0",
         "72",
         "2",
         "Reverse Heaven",
         null
        ],
        [
         "48",
         "tt0230212",
         "The Final Journey",
         "The Final Journey",
         "2010",
         "120.0",
         "Drama",
         "8.8",
         "8",
         "1",
         "The Final Journey",
         "US"
        ],
        [
         "49",
         "tt0247643",
         "Los pájaros se van con la muerte",
         "Los pájaros se van con la muerte",
         "2011",
         "110.0",
         "Drama,Mystery",
         "4.0",
         "12",
         "1",
         "Los pájaros se van con la muerte",
         "VE"
        ]
       ],
       "shape": {
        "columns": 11,
        "rows": 256564
       }
      },
      "text/html": [
       "<div>\n",
       "<style scoped>\n",
       "    .dataframe tbody tr th:only-of-type {\n",
       "        vertical-align: middle;\n",
       "    }\n",
       "\n",
       "    .dataframe tbody tr th {\n",
       "        vertical-align: top;\n",
       "    }\n",
       "\n",
       "    .dataframe thead th {\n",
       "        text-align: right;\n",
       "    }\n",
       "</style>\n",
       "<table border=\"1\" class=\"dataframe\">\n",
       "  <thead>\n",
       "    <tr style=\"text-align: right;\">\n",
       "      <th></th>\n",
       "      <th>movie_id</th>\n",
       "      <th>primary_title</th>\n",
       "      <th>original_title</th>\n",
       "      <th>start_year</th>\n",
       "      <th>runtime_minutes</th>\n",
       "      <th>genres</th>\n",
       "      <th>averagerating</th>\n",
       "      <th>numvotes</th>\n",
       "      <th>ordering</th>\n",
       "      <th>region_title</th>\n",
       "      <th>region</th>\n",
       "    </tr>\n",
       "  </thead>\n",
       "  <tbody>\n",
       "    <tr>\n",
       "      <th>0</th>\n",
       "      <td>tt0066787</td>\n",
       "      <td>One Day Before the Rainy Season</td>\n",
       "      <td>Ashad Ka Ek Din</td>\n",
       "      <td>2019</td>\n",
       "      <td>114.0</td>\n",
       "      <td>Biography,Drama</td>\n",
       "      <td>7.2</td>\n",
       "      <td>43</td>\n",
       "      <td>1</td>\n",
       "      <td>One Day Before the Rainy Season</td>\n",
       "      <td>XWW</td>\n",
       "    </tr>\n",
       "    <tr>\n",
       "      <th>1</th>\n",
       "      <td>tt0066787</td>\n",
       "      <td>One Day Before the Rainy Season</td>\n",
       "      <td>Ashad Ka Ek Din</td>\n",
       "      <td>2019</td>\n",
       "      <td>114.0</td>\n",
       "      <td>Biography,Drama</td>\n",
       "      <td>7.2</td>\n",
       "      <td>43</td>\n",
       "      <td>2</td>\n",
       "      <td>Ashad Ka Ek Din</td>\n",
       "      <td>IN</td>\n",
       "    </tr>\n",
       "    <tr>\n",
       "      <th>2</th>\n",
       "      <td>tt0066787</td>\n",
       "      <td>One Day Before the Rainy Season</td>\n",
       "      <td>Ashad Ka Ek Din</td>\n",
       "      <td>2019</td>\n",
       "      <td>114.0</td>\n",
       "      <td>Biography,Drama</td>\n",
       "      <td>7.2</td>\n",
       "      <td>43</td>\n",
       "      <td>3</td>\n",
       "      <td>One Monsoon Day</td>\n",
       "      <td>None</td>\n",
       "    </tr>\n",
       "    <tr>\n",
       "      <th>3</th>\n",
       "      <td>tt0066787</td>\n",
       "      <td>One Day Before the Rainy Season</td>\n",
       "      <td>Ashad Ka Ek Din</td>\n",
       "      <td>2019</td>\n",
       "      <td>114.0</td>\n",
       "      <td>Biography,Drama</td>\n",
       "      <td>7.2</td>\n",
       "      <td>43</td>\n",
       "      <td>4</td>\n",
       "      <td>Ashad Ka Ek Din</td>\n",
       "      <td>None</td>\n",
       "    </tr>\n",
       "    <tr>\n",
       "      <th>4</th>\n",
       "      <td>tt0069049</td>\n",
       "      <td>The Other Side of the Wind</td>\n",
       "      <td>The Other Side of the Wind</td>\n",
       "      <td>2018</td>\n",
       "      <td>122.0</td>\n",
       "      <td>Drama</td>\n",
       "      <td>6.9</td>\n",
       "      <td>4517</td>\n",
       "      <td>10</td>\n",
       "      <td>La otra cara del viento</td>\n",
       "      <td>VE</td>\n",
       "    </tr>\n",
       "    <tr>\n",
       "      <th>...</th>\n",
       "      <td>...</td>\n",
       "      <td>...</td>\n",
       "      <td>...</td>\n",
       "      <td>...</td>\n",
       "      <td>...</td>\n",
       "      <td>...</td>\n",
       "      <td>...</td>\n",
       "      <td>...</td>\n",
       "      <td>...</td>\n",
       "      <td>...</td>\n",
       "      <td>...</td>\n",
       "    </tr>\n",
       "    <tr>\n",
       "      <th>256559</th>\n",
       "      <td>tt9905462</td>\n",
       "      <td>Pengalila</td>\n",
       "      <td>Pengalila</td>\n",
       "      <td>2019</td>\n",
       "      <td>111.0</td>\n",
       "      <td>Drama</td>\n",
       "      <td>8.4</td>\n",
       "      <td>600</td>\n",
       "      <td>2</td>\n",
       "      <td>Sisterleaf</td>\n",
       "      <td>IN</td>\n",
       "    </tr>\n",
       "    <tr>\n",
       "      <th>256560</th>\n",
       "      <td>tt9905462</td>\n",
       "      <td>Pengalila</td>\n",
       "      <td>Pengalila</td>\n",
       "      <td>2019</td>\n",
       "      <td>111.0</td>\n",
       "      <td>Drama</td>\n",
       "      <td>8.4</td>\n",
       "      <td>600</td>\n",
       "      <td>3</td>\n",
       "      <td>Pengalila</td>\n",
       "      <td>IN</td>\n",
       "    </tr>\n",
       "    <tr>\n",
       "      <th>256561</th>\n",
       "      <td>tt9911774</td>\n",
       "      <td>Padmavyuhathile Abhimanyu</td>\n",
       "      <td>Padmavyuhathile Abhimanyu</td>\n",
       "      <td>2019</td>\n",
       "      <td>130.0</td>\n",
       "      <td>Drama</td>\n",
       "      <td>8.4</td>\n",
       "      <td>365</td>\n",
       "      <td>1</td>\n",
       "      <td>Padmavyuhathile Abhimanyu</td>\n",
       "      <td>None</td>\n",
       "    </tr>\n",
       "    <tr>\n",
       "      <th>256562</th>\n",
       "      <td>tt9911774</td>\n",
       "      <td>Padmavyuhathile Abhimanyu</td>\n",
       "      <td>Padmavyuhathile Abhimanyu</td>\n",
       "      <td>2019</td>\n",
       "      <td>130.0</td>\n",
       "      <td>Drama</td>\n",
       "      <td>8.4</td>\n",
       "      <td>365</td>\n",
       "      <td>2</td>\n",
       "      <td>Pathmavyuhathile Abhimanyu</td>\n",
       "      <td>IN</td>\n",
       "    </tr>\n",
       "    <tr>\n",
       "      <th>256563</th>\n",
       "      <td>tt9911774</td>\n",
       "      <td>Padmavyuhathile Abhimanyu</td>\n",
       "      <td>Padmavyuhathile Abhimanyu</td>\n",
       "      <td>2019</td>\n",
       "      <td>130.0</td>\n",
       "      <td>Drama</td>\n",
       "      <td>8.4</td>\n",
       "      <td>365</td>\n",
       "      <td>3</td>\n",
       "      <td>Padmavyoohathile Abhimanyu</td>\n",
       "      <td>IN</td>\n",
       "    </tr>\n",
       "  </tbody>\n",
       "</table>\n",
       "<p>256564 rows × 11 columns</p>\n",
       "</div>"
      ],
      "text/plain": [
       "         movie_id                    primary_title  \\\n",
       "0       tt0066787  One Day Before the Rainy Season   \n",
       "1       tt0066787  One Day Before the Rainy Season   \n",
       "2       tt0066787  One Day Before the Rainy Season   \n",
       "3       tt0066787  One Day Before the Rainy Season   \n",
       "4       tt0069049       The Other Side of the Wind   \n",
       "...           ...                              ...   \n",
       "256559  tt9905462                        Pengalila   \n",
       "256560  tt9905462                        Pengalila   \n",
       "256561  tt9911774        Padmavyuhathile Abhimanyu   \n",
       "256562  tt9911774        Padmavyuhathile Abhimanyu   \n",
       "256563  tt9911774        Padmavyuhathile Abhimanyu   \n",
       "\n",
       "                    original_title  start_year  runtime_minutes  \\\n",
       "0                  Ashad Ka Ek Din        2019            114.0   \n",
       "1                  Ashad Ka Ek Din        2019            114.0   \n",
       "2                  Ashad Ka Ek Din        2019            114.0   \n",
       "3                  Ashad Ka Ek Din        2019            114.0   \n",
       "4       The Other Side of the Wind        2018            122.0   \n",
       "...                            ...         ...              ...   \n",
       "256559                   Pengalila        2019            111.0   \n",
       "256560                   Pengalila        2019            111.0   \n",
       "256561   Padmavyuhathile Abhimanyu        2019            130.0   \n",
       "256562   Padmavyuhathile Abhimanyu        2019            130.0   \n",
       "256563   Padmavyuhathile Abhimanyu        2019            130.0   \n",
       "\n",
       "                 genres  averagerating  numvotes  ordering  \\\n",
       "0       Biography,Drama            7.2        43         1   \n",
       "1       Biography,Drama            7.2        43         2   \n",
       "2       Biography,Drama            7.2        43         3   \n",
       "3       Biography,Drama            7.2        43         4   \n",
       "4                 Drama            6.9      4517        10   \n",
       "...                 ...            ...       ...       ...   \n",
       "256559            Drama            8.4       600         2   \n",
       "256560            Drama            8.4       600         3   \n",
       "256561            Drama            8.4       365         1   \n",
       "256562            Drama            8.4       365         2   \n",
       "256563            Drama            8.4       365         3   \n",
       "\n",
       "                           region_title region  \n",
       "0       One Day Before the Rainy Season    XWW  \n",
       "1                       Ashad Ka Ek Din     IN  \n",
       "2                       One Monsoon Day   None  \n",
       "3                       Ashad Ka Ek Din   None  \n",
       "4               La otra cara del viento     VE  \n",
       "...                                 ...    ...  \n",
       "256559                       Sisterleaf     IN  \n",
       "256560                        Pengalila     IN  \n",
       "256561        Padmavyuhathile Abhimanyu   None  \n",
       "256562       Pathmavyuhathile Abhimanyu     IN  \n",
       "256563       Padmavyoohathile Abhimanyu     IN  \n",
       "\n",
       "[256564 rows x 11 columns]"
      ]
     },
     "execution_count": 398,
     "metadata": {},
     "output_type": "execute_result"
    }
   ],
   "source": [
    "movie_merge = movie_merge.merge(movie_akas_cp, on='movie_id', how='inner')\n",
    "movie_merge = movie_merge.drop_duplicates()\n",
    "\n",
    "movie_merge"
   ]
  },
  {
   "cell_type": "markdown",
   "metadata": {},
   "source": [
    "## PEOPLES MERGE"
   ]
  },
  {
   "cell_type": "code",
   "execution_count": 399,
   "metadata": {},
   "outputs": [
    {
     "name": "stdout",
     "output_type": "stream",
     "text": [
      "(606648, 5)\n",
      "(291174, 2)\n",
      "(1638260, 2)\n",
      "(255873, 2)\n"
     ]
    }
   ],
   "source": [
    "print(imdb_tables['persons'].shape)\n",
    "print(imdb_tables['directors'].shape)\n",
    "print(imdb_tables['known_for'].shape)\n",
    "print(imdb_tables['writers'].shape)"
   ]
  },
  {
   "cell_type": "code",
   "execution_count": 400,
   "metadata": {},
   "outputs": [
    {
     "data": {
      "application/vnd.microsoft.datawrangler.viewer.v0+json": {
       "columns": [
        {
         "name": "index",
         "rawType": "int64",
         "type": "integer"
        },
        {
         "name": "person_id",
         "rawType": "object",
         "type": "string"
        },
        {
         "name": "primary_name",
         "rawType": "object",
         "type": "string"
        },
        {
         "name": "birth_year",
         "rawType": "float64",
         "type": "float"
        },
        {
         "name": "death_year",
         "rawType": "float64",
         "type": "float"
        },
        {
         "name": "primary_profession",
         "rawType": "object",
         "type": "unknown"
        }
       ],
       "ref": "db47f32e-ee4e-4046-aa43-36de4a5cf4a7",
       "rows": [
        [
         "0",
         "nm0061671",
         "Mary Ellen Bauder",
         null,
         null,
         "miscellaneous,production_manager,producer"
        ],
        [
         "1",
         "nm0061865",
         "Joseph Bauer",
         null,
         null,
         "composer,music_department,sound_department"
        ],
        [
         "2",
         "nm0062070",
         "Bruce Baum",
         null,
         null,
         "miscellaneous,actor,writer"
        ],
        [
         "3",
         "nm0062195",
         "Axel Baumann",
         null,
         null,
         "camera_department,cinematographer,art_department"
        ],
        [
         "4",
         "nm0062798",
         "Pete Baxter",
         null,
         null,
         "production_designer,art_department,set_decorator"
        ],
        [
         "5",
         "nm0062879",
         "Ruel S. Bayani",
         null,
         null,
         "director,production_manager,miscellaneous"
        ],
        [
         "6",
         "nm0063198",
         "Bayou",
         null,
         null,
         "actor"
        ],
        [
         "7",
         "nm0063432",
         "Stevie Be-Zet",
         null,
         null,
         "composer,soundtrack"
        ],
        [
         "8",
         "nm0063618",
         "Jeff Beal",
         "1963.0",
         null,
         "composer,music_department,soundtrack"
        ],
        [
         "9",
         "nm0063750",
         "Lindsay Beamish",
         null,
         null,
         "actress,miscellaneous"
        ],
        [
         "10",
         "nm0064023",
         "Bryan Beasley",
         null,
         null,
         "director,producer,writer"
        ],
        [
         "11",
         "nm0064350",
         "Martine Beauchemin",
         null,
         null,
         "producer,production_manager"
        ],
        [
         "12",
         "nm0065847",
         "Michael Frost Beckner",
         "1963.0",
         null,
         "writer,producer,miscellaneous"
        ],
        [
         "13",
         "nm0065919",
         "Will Becton",
         null,
         null,
         "miscellaneous,editor,editorial_department"
        ],
        [
         "14",
         "nm0066093",
         "Ahmad Bedair",
         "1945.0",
         null,
         "actor,miscellaneous"
        ],
        [
         "15",
         "nm0066163",
         "Arnaud Bedouët",
         null,
         null,
         "actor,writer,director"
        ],
        [
         "16",
         "nm0066268",
         "Steve Mitchell Beebe",
         null,
         null,
         "editorial_department,director,editor"
        ],
        [
         "17",
         "nm0066897",
         "Mohammad-Ali Behboudi",
         "1956.0",
         null,
         "actor"
        ],
        [
         "18",
         "nm0067234",
         "Hans Beimler",
         null,
         null,
         "producer,writer,miscellaneous"
        ],
        [
         "19",
         "nm0067845",
         "Sondos Belhassen",
         null,
         null,
         "actress"
        ],
        [
         "20",
         "nm0067983",
         "Krunoslav Belko",
         "1971.0",
         null,
         "actor"
        ],
        [
         "21",
         "nm0068170",
         "Dylan Bell",
         null,
         null,
         "director,actor,producer"
        ],
        [
         "22",
         "nm0068657",
         "Philippe Bellaiche",
         null,
         null,
         "cinematographer,camera_department,producer"
        ],
        [
         "23",
         "nm0068874",
         "Hava Kohav Beller",
         null,
         null,
         "director,writer,producer"
        ],
        [
         "24",
         "nm0069131",
         "Gregg Bello",
         null,
         null,
         "actor,producer"
        ],
        [
         "25",
         "nm0069225",
         "Gavin Bellour",
         null,
         null,
         "actor,producer,composer"
        ],
        [
         "26",
         "nm0069605",
         "Bruno Beltramini",
         null,
         null,
         "cinematographer,visual_effects,camera_department"
        ],
        [
         "27",
         "nm0069757",
         "Olga Belyavskaya",
         null,
         null,
         "actress,miscellaneous"
        ],
        [
         "28",
         "nm0069990",
         "Jorge Ben Jor",
         "1942.0",
         null,
         "soundtrack,composer,actor"
        ],
        [
         "29",
         "nm0070216",
         "John Paul Fedele",
         null,
         null,
         "actor,cinematographer,special_effects"
        ],
        [
         "30",
         "nm0070482",
         "Joel Bender",
         "1948.0",
         null,
         "editor,director,writer"
        ],
        [
         "31",
         "nm0070822",
         "Terry Benedict",
         null,
         null,
         "producer,director,assistant_director"
        ],
        [
         "32",
         "nm0071116",
         "Valérie Benguigui",
         "1961.0",
         "2013.0",
         "actress,soundtrack"
        ],
        [
         "33",
         "nm0072456",
         "Chris Benson",
         "1974.0",
         null,
         "cinematographer,camera_department,producer"
        ],
        [
         "34",
         "nm0072476",
         "Doug Benson",
         "1962.0",
         null,
         "actor,producer,writer"
        ],
        [
         "35",
         "nm0073061",
         "Roberto Benvenuti",
         null,
         null,
         "cinematographer,camera_department,miscellaneous"
        ],
        [
         "36",
         "nm0073146",
         "Gina Lola Benzina",
         null,
         null,
         "actress,make_up_department"
        ],
        [
         "37",
         "nm0073381",
         "Roxana Berco",
         null,
         null,
         "actress"
        ],
        [
         "38",
         "nm0073426",
         "Laxmikant Berde",
         "1954.0",
         "2004.0",
         "actor"
        ],
        [
         "39",
         "nm0074009",
         "Richard Berge",
         null,
         null,
         "producer,miscellaneous,writer"
        ],
        [
         "40",
         "nm0074445",
         "Jean-François Bergeron",
         null,
         null,
         "editor,editorial_department,actor"
        ],
        [
         "41",
         "nm0075049",
         "Urban Bergsten",
         null,
         null,
         "actor,writer,director"
        ],
        [
         "42",
         "nm0075666",
         "Joe Berlinger",
         "1961.0",
         null,
         "producer,director,camera_department"
        ],
        [
         "43",
         "nm0076139",
         "Andrée Bernard",
         "1966.0",
         null,
         "actress"
        ],
        [
         "44",
         "nm0076559",
         "Carlos Bernases",
         null,
         null,
         "production_manager,producer,casting_department"
        ],
        [
         "45",
         "nm0077024",
         "Daniel Bernstein",
         null,
         null,
         "composer,sound_department"
        ],
        [
         "46",
         "nm0077067",
         "Jamie Bernstein",
         "1952.0",
         null,
         "director,actress,writer"
        ],
        [
         "47",
         "nm0080566",
         "Martín Bianchedi",
         "1955.0",
         null,
         "composer,music_department,sound_department"
        ],
        [
         "48",
         "nm0080787",
         "Dusty Bias",
         null,
         null,
         "writer,director,producer"
        ],
        [
         "49",
         "nm0081060",
         "Grace Cary Bickley",
         null,
         null,
         "writer,actress,producer"
        ]
       ],
       "shape": {
        "columns": 5,
        "rows": 606648
       }
      },
      "text/html": [
       "<div>\n",
       "<style scoped>\n",
       "    .dataframe tbody tr th:only-of-type {\n",
       "        vertical-align: middle;\n",
       "    }\n",
       "\n",
       "    .dataframe tbody tr th {\n",
       "        vertical-align: top;\n",
       "    }\n",
       "\n",
       "    .dataframe thead th {\n",
       "        text-align: right;\n",
       "    }\n",
       "</style>\n",
       "<table border=\"1\" class=\"dataframe\">\n",
       "  <thead>\n",
       "    <tr style=\"text-align: right;\">\n",
       "      <th></th>\n",
       "      <th>person_id</th>\n",
       "      <th>primary_name</th>\n",
       "      <th>birth_year</th>\n",
       "      <th>death_year</th>\n",
       "      <th>primary_profession</th>\n",
       "    </tr>\n",
       "  </thead>\n",
       "  <tbody>\n",
       "    <tr>\n",
       "      <th>0</th>\n",
       "      <td>nm0061671</td>\n",
       "      <td>Mary Ellen Bauder</td>\n",
       "      <td>NaN</td>\n",
       "      <td>NaN</td>\n",
       "      <td>miscellaneous,production_manager,producer</td>\n",
       "    </tr>\n",
       "    <tr>\n",
       "      <th>1</th>\n",
       "      <td>nm0061865</td>\n",
       "      <td>Joseph Bauer</td>\n",
       "      <td>NaN</td>\n",
       "      <td>NaN</td>\n",
       "      <td>composer,music_department,sound_department</td>\n",
       "    </tr>\n",
       "    <tr>\n",
       "      <th>2</th>\n",
       "      <td>nm0062070</td>\n",
       "      <td>Bruce Baum</td>\n",
       "      <td>NaN</td>\n",
       "      <td>NaN</td>\n",
       "      <td>miscellaneous,actor,writer</td>\n",
       "    </tr>\n",
       "    <tr>\n",
       "      <th>3</th>\n",
       "      <td>nm0062195</td>\n",
       "      <td>Axel Baumann</td>\n",
       "      <td>NaN</td>\n",
       "      <td>NaN</td>\n",
       "      <td>camera_department,cinematographer,art_department</td>\n",
       "    </tr>\n",
       "    <tr>\n",
       "      <th>4</th>\n",
       "      <td>nm0062798</td>\n",
       "      <td>Pete Baxter</td>\n",
       "      <td>NaN</td>\n",
       "      <td>NaN</td>\n",
       "      <td>production_designer,art_department,set_decorator</td>\n",
       "    </tr>\n",
       "    <tr>\n",
       "      <th>...</th>\n",
       "      <td>...</td>\n",
       "      <td>...</td>\n",
       "      <td>...</td>\n",
       "      <td>...</td>\n",
       "      <td>...</td>\n",
       "    </tr>\n",
       "    <tr>\n",
       "      <th>606643</th>\n",
       "      <td>nm9990381</td>\n",
       "      <td>Susan Grobes</td>\n",
       "      <td>NaN</td>\n",
       "      <td>NaN</td>\n",
       "      <td>actress</td>\n",
       "    </tr>\n",
       "    <tr>\n",
       "      <th>606644</th>\n",
       "      <td>nm9990690</td>\n",
       "      <td>Joo Yeon So</td>\n",
       "      <td>NaN</td>\n",
       "      <td>NaN</td>\n",
       "      <td>actress</td>\n",
       "    </tr>\n",
       "    <tr>\n",
       "      <th>606645</th>\n",
       "      <td>nm9991320</td>\n",
       "      <td>Madeline Smith</td>\n",
       "      <td>NaN</td>\n",
       "      <td>NaN</td>\n",
       "      <td>actress</td>\n",
       "    </tr>\n",
       "    <tr>\n",
       "      <th>606646</th>\n",
       "      <td>nm9991786</td>\n",
       "      <td>Michelle Modigliani</td>\n",
       "      <td>NaN</td>\n",
       "      <td>NaN</td>\n",
       "      <td>producer</td>\n",
       "    </tr>\n",
       "    <tr>\n",
       "      <th>606647</th>\n",
       "      <td>nm9993380</td>\n",
       "      <td>Pegasus Envoyé</td>\n",
       "      <td>NaN</td>\n",
       "      <td>NaN</td>\n",
       "      <td>director,actor,writer</td>\n",
       "    </tr>\n",
       "  </tbody>\n",
       "</table>\n",
       "<p>606648 rows × 5 columns</p>\n",
       "</div>"
      ],
      "text/plain": [
       "        person_id         primary_name  birth_year  death_year  \\\n",
       "0       nm0061671    Mary Ellen Bauder         NaN         NaN   \n",
       "1       nm0061865         Joseph Bauer         NaN         NaN   \n",
       "2       nm0062070           Bruce Baum         NaN         NaN   \n",
       "3       nm0062195         Axel Baumann         NaN         NaN   \n",
       "4       nm0062798          Pete Baxter         NaN         NaN   \n",
       "...           ...                  ...         ...         ...   \n",
       "606643  nm9990381         Susan Grobes         NaN         NaN   \n",
       "606644  nm9990690          Joo Yeon So         NaN         NaN   \n",
       "606645  nm9991320       Madeline Smith         NaN         NaN   \n",
       "606646  nm9991786  Michelle Modigliani         NaN         NaN   \n",
       "606647  nm9993380       Pegasus Envoyé         NaN         NaN   \n",
       "\n",
       "                                      primary_profession  \n",
       "0              miscellaneous,production_manager,producer  \n",
       "1             composer,music_department,sound_department  \n",
       "2                             miscellaneous,actor,writer  \n",
       "3       camera_department,cinematographer,art_department  \n",
       "4       production_designer,art_department,set_decorator  \n",
       "...                                                  ...  \n",
       "606643                                           actress  \n",
       "606644                                           actress  \n",
       "606645                                           actress  \n",
       "606646                                          producer  \n",
       "606647                             director,actor,writer  \n",
       "\n",
       "[606648 rows x 5 columns]"
      ]
     },
     "execution_count": 400,
     "metadata": {},
     "output_type": "execute_result"
    }
   ],
   "source": [
    "persons_cp= imdb_tables[\"persons\"].copy(deep=True)\n",
    "persons_cp"
   ]
  },
  {
   "cell_type": "code",
   "execution_count": 401,
   "metadata": {},
   "outputs": [
    {
     "name": "stdout",
     "output_type": "stream",
     "text": [
      "<class 'pandas.core.frame.DataFrame'>\n",
      "RangeIndex: 606648 entries, 0 to 606647\n",
      "Data columns (total 5 columns):\n",
      " #   Column              Non-Null Count   Dtype  \n",
      "---  ------              --------------   -----  \n",
      " 0   person_id           606648 non-null  object \n",
      " 1   primary_name        606648 non-null  object \n",
      " 2   birth_year          82736 non-null   float64\n",
      " 3   death_year          6783 non-null    float64\n",
      " 4   primary_profession  555308 non-null  object \n",
      "dtypes: float64(2), object(3)\n",
      "memory usage: 23.1+ MB\n",
      "person_id                  0\n",
      "primary_name               0\n",
      "birth_year            523912\n",
      "death_year            599865\n",
      "primary_profession     51340\n",
      "dtype: int64\n"
     ]
    }
   ],
   "source": [
    "persons_cp.shape\n",
    "persons_cp.head()\n",
    "persons_cp.info()\n",
    "persons_cp.describe()\n",
    "print(persons_cp.isna().sum())"
   ]
  },
  {
   "cell_type": "code",
   "execution_count": 402,
   "metadata": {},
   "outputs": [
    {
     "data": {
      "application/vnd.microsoft.datawrangler.viewer.v0+json": {
       "columns": [
        {
         "name": "index",
         "rawType": "object",
         "type": "string"
        },
        {
         "name": "0",
         "rawType": "int64",
         "type": "integer"
        }
       ],
       "ref": "83f96c0d-bed4-4239-b4ff-4151a9e0391b",
       "rows": [
        [
         "person_id",
         "0"
        ],
        [
         "primary_name",
         "0"
        ],
        [
         "birth_year",
         "523912"
        ],
        [
         "death_year",
         "599865"
        ],
        [
         "primary_profession",
         "51340"
        ]
       ],
       "shape": {
        "columns": 1,
        "rows": 5
       }
      },

      "text/plain": [
       "person_id                  0\n",
       "primary_name               0\n",
       "birth_year            523912\n",
       "death_year            599865\n",
       "primary_profession     51340\n",
       "dtype: int64"
      ]
     },
     "execution_count": 402,
     "metadata": {},
     "output_type": "execute_result"
    }
   ],
   "source": [
    "persons_cp['primary_profession'].fillna('unknown')\n",
    "persons_cp.isnull().sum()"
   ]
  },
  {
   "cell_type": "code",
   "execution_count": 403,
   "metadata": {},
   "outputs": [],
   "source": [
    "persons_cp = persons_cp.drop(columns=['birth_year', 'death_year'])"
   ]
  },
  {
   "cell_type": "code",
   "execution_count": 404,
   "metadata": {},
   "outputs": [
    {
     "data": {
      "application/vnd.microsoft.datawrangler.viewer.v0+json": {
       "columns": [
        {
         "name": "index",
         "rawType": "int64",
         "type": "integer"
        },
        {
         "name": "person_id",
         "rawType": "object",
         "type": "string"
        },
        {
         "name": "primary_name",
         "rawType": "object",
         "type": "string"
        },
        {
         "name": "primary_profession",
         "rawType": "object",
         "type": "unknown"
        }
       ],
       "ref": "6b8225ab-a171-4bfa-ab4f-bf690b1f5b7d",
       "rows": [
        [
         "0",
         "nm0061671",
         "Mary Ellen Bauder",
         "miscellaneous,production_manager,producer"
        ],
        [
         "1",
         "nm0061865",
         "Joseph Bauer",
         "composer,music_department,sound_department"
        ],
        [
         "2",
         "nm0062070",
         "Bruce Baum",
         "miscellaneous,actor,writer"
        ],
        [
         "3",
         "nm0062195",
         "Axel Baumann",
         "camera_department,cinematographer,art_department"
        ],
        [
         "4",
         "nm0062798",
         "Pete Baxter",
         "production_designer,art_department,set_decorator"
        ],
        [
         "5",
         "nm0062879",
         "Ruel S. Bayani",
         "director,production_manager,miscellaneous"
        ],
        [
         "6",
         "nm0063198",
         "Bayou",
         "actor"
        ],
        [
         "7",
         "nm0063432",
         "Stevie Be-Zet",
         "composer,soundtrack"
        ],
        [
         "8",
         "nm0063618",
         "Jeff Beal",
         "composer,music_department,soundtrack"
        ],
        [
         "9",
         "nm0063750",
         "Lindsay Beamish",
         "actress,miscellaneous"
        ],
        [
         "10",
         "nm0064023",
         "Bryan Beasley",
         "director,producer,writer"
        ],
        [
         "11",
         "nm0064350",
         "Martine Beauchemin",
         "producer,production_manager"
        ],
        [
         "12",
         "nm0065847",
         "Michael Frost Beckner",
         "writer,producer,miscellaneous"
        ],
        [
         "13",
         "nm0065919",
         "Will Becton",
         "miscellaneous,editor,editorial_department"
        ],
        [
         "14",
         "nm0066093",
         "Ahmad Bedair",
         "actor,miscellaneous"
        ],
        [
         "15",
         "nm0066163",
         "Arnaud Bedouët",
         "actor,writer,director"
        ],
        [
         "16",
         "nm0066268",
         "Steve Mitchell Beebe",
         "editorial_department,director,editor"
        ],
        [
         "17",
         "nm0066897",
         "Mohammad-Ali Behboudi",
         "actor"
        ],
        [
         "18",
         "nm0067234",
         "Hans Beimler",
         "producer,writer,miscellaneous"
        ],
        [
         "19",
         "nm0067845",
         "Sondos Belhassen",
         "actress"
        ],
        [
         "20",
         "nm0067983",
         "Krunoslav Belko",
         "actor"
        ],
        [
         "21",
         "nm0068170",
         "Dylan Bell",
         "director,actor,producer"
        ],
        [
         "22",
         "nm0068657",
         "Philippe Bellaiche",
         "cinematographer,camera_department,producer"
        ],
        [
         "23",
         "nm0068874",
         "Hava Kohav Beller",
         "director,writer,producer"
        ],
        [
         "24",
         "nm0069131",
         "Gregg Bello",
         "actor,producer"
        ],
        [
         "25",
         "nm0069225",
         "Gavin Bellour",
         "actor,producer,composer"
        ],
        [
         "26",
         "nm0069605",
         "Bruno Beltramini",
         "cinematographer,visual_effects,camera_department"
        ],
        [
         "27",
         "nm0069757",
         "Olga Belyavskaya",
         "actress,miscellaneous"
        ],
        [
         "28",
         "nm0069990",
         "Jorge Ben Jor",
         "soundtrack,composer,actor"
        ],
        [
         "29",
         "nm0070216",
         "John Paul Fedele",
         "actor,cinematographer,special_effects"
        ],
        [
         "30",
         "nm0070482",
         "Joel Bender",
         "editor,director,writer"
        ],
        [
         "31",
         "nm0070822",
         "Terry Benedict",
         "producer,director,assistant_director"
        ],
        [
         "32",
         "nm0071116",
         "Valérie Benguigui",
         "actress,soundtrack"
        ],
        [
         "33",
         "nm0072456",
         "Chris Benson",
         "cinematographer,camera_department,producer"
        ],
        [
         "34",
         "nm0072476",
         "Doug Benson",
         "actor,producer,writer"
        ],
        [
         "35",
         "nm0073061",
         "Roberto Benvenuti",
         "cinematographer,camera_department,miscellaneous"
        ],
        [
         "36",
         "nm0073146",
         "Gina Lola Benzina",
         "actress,make_up_department"
        ],
        [
         "37",
         "nm0073381",
         "Roxana Berco",
         "actress"
        ],
        [
         "38",
         "nm0073426",
         "Laxmikant Berde",
         "actor"
        ],
        [
         "39",
         "nm0074009",
         "Richard Berge",
         "producer,miscellaneous,writer"
        ],
        [
         "40",
         "nm0074445",
         "Jean-François Bergeron",
         "editor,editorial_department,actor"
        ],
        [
         "41",
         "nm0075049",
         "Urban Bergsten",
         "actor,writer,director"
        ],
        [
         "42",
         "nm0075666",
         "Joe Berlinger",
         "producer,director,camera_department"
        ],
        [
         "43",
         "nm0076139",
         "Andrée Bernard",
         "actress"
        ],
        [
         "44",
         "nm0076559",
         "Carlos Bernases",
         "production_manager,producer,casting_department"
        ],
        [
         "45",
         "nm0077024",
         "Daniel Bernstein",
         "composer,sound_department"
        ],
        [
         "46",
         "nm0077067",
         "Jamie Bernstein",
         "director,actress,writer"
        ],
        [
         "47",
         "nm0080566",
         "Martín Bianchedi",
         "composer,music_department,sound_department"
        ],
        [
         "48",
         "nm0080787",
         "Dusty Bias",
         "writer,director,producer"
        ],
        [
         "49",
         "nm0081060",
         "Grace Cary Bickley",
         "writer,actress,producer"
        ]
       ],
       "shape": {
        "columns": 3,
        "rows": 606648
       }
      },
      "text/html": [
       "<div>\n",
       "<style scoped>\n",
       "    .dataframe tbody tr th:only-of-type {\n",
       "        vertical-align: middle;\n",
       "    }\n",
       "\n",
       "    .dataframe tbody tr th {\n",
       "        vertical-align: top;\n",
       "    }\n",
       "\n",
       "    .dataframe thead th {\n",
       "        text-align: right;\n",
       "    }\n",
       "</style>\n",
       "<table border=\"1\" class=\"dataframe\">\n",
       "  <thead>\n",
       "    <tr style=\"text-align: right;\">\n",
       "      <th></th>\n",
       "      <th>person_id</th>\n",
       "      <th>primary_name</th>\n",
       "      <th>primary_profession</th>\n",
       "    </tr>\n",
       "  </thead>\n",
       "  <tbody>\n",
       "    <tr>\n",
       "      <th>0</th>\n",
       "      <td>nm0061671</td>\n",
       "      <td>Mary Ellen Bauder</td>\n",
       "      <td>miscellaneous,production_manager,producer</td>\n",
       "    </tr>\n",
       "    <tr>\n",
       "      <th>1</th>\n",
       "      <td>nm0061865</td>\n",
       "      <td>Joseph Bauer</td>\n",
       "      <td>composer,music_department,sound_department</td>\n",
       "    </tr>\n",
       "    <tr>\n",
       "      <th>2</th>\n",
       "      <td>nm0062070</td>\n",
       "      <td>Bruce Baum</td>\n",
       "      <td>miscellaneous,actor,writer</td>\n",
       "    </tr>\n",
       "    <tr>\n",
       "      <th>3</th>\n",
       "      <td>nm0062195</td>\n",
       "      <td>Axel Baumann</td>\n",
       "      <td>camera_department,cinematographer,art_department</td>\n",
       "    </tr>\n",
       "    <tr>\n",
       "      <th>4</th>\n",
       "      <td>nm0062798</td>\n",
       "      <td>Pete Baxter</td>\n",
       "      <td>production_designer,art_department,set_decorator</td>\n",
       "    </tr>\n",
       "    <tr>\n",
       "      <th>...</th>\n",
       "      <td>...</td>\n",
       "      <td>...</td>\n",
       "      <td>...</td>\n",
       "    </tr>\n",
       "    <tr>\n",
       "      <th>606643</th>\n",
       "      <td>nm9990381</td>\n",
       "      <td>Susan Grobes</td>\n",
       "      <td>actress</td>\n",
       "    </tr>\n",
       "    <tr>\n",
       "      <th>606644</th>\n",
       "      <td>nm9990690</td>\n",
       "      <td>Joo Yeon So</td>\n",
       "      <td>actress</td>\n",
       "    </tr>\n",
       "    <tr>\n",
       "      <th>606645</th>\n",
       "      <td>nm9991320</td>\n",
       "      <td>Madeline Smith</td>\n",
       "      <td>actress</td>\n",
       "    </tr>\n",
       "    <tr>\n",
       "      <th>606646</th>\n",
       "      <td>nm9991786</td>\n",
       "      <td>Michelle Modigliani</td>\n",
       "      <td>producer</td>\n",
       "    </tr>\n",
       "    <tr>\n",
       "      <th>606647</th>\n",
       "      <td>nm9993380</td>\n",
       "      <td>Pegasus Envoyé</td>\n",
       "      <td>director,actor,writer</td>\n",
       "    </tr>\n",
       "  </tbody>\n",
       "</table>\n",
       "<p>606648 rows × 3 columns</p>\n",
       "</div>"
      ],
      "text/plain": [
       "        person_id         primary_name  \\\n",
       "0       nm0061671    Mary Ellen Bauder   \n",
       "1       nm0061865         Joseph Bauer   \n",
       "2       nm0062070           Bruce Baum   \n",
       "3       nm0062195         Axel Baumann   \n",
       "4       nm0062798          Pete Baxter   \n",
       "...           ...                  ...   \n",
       "606643  nm9990381         Susan Grobes   \n",
       "606644  nm9990690          Joo Yeon So   \n",
       "606645  nm9991320       Madeline Smith   \n",
       "606646  nm9991786  Michelle Modigliani   \n",
       "606647  nm9993380       Pegasus Envoyé   \n",
       "\n",
       "                                      primary_profession  \n",
       "0              miscellaneous,production_manager,producer  \n",
       "1             composer,music_department,sound_department  \n",
       "2                             miscellaneous,actor,writer  \n",
       "3       camera_department,cinematographer,art_department  \n",
       "4       production_designer,art_department,set_decorator  \n",
       "...                                                  ...  \n",
       "606643                                           actress  \n",
       "606644                                           actress  \n",
       "606645                                           actress  \n",
       "606646                                          producer  \n",
       "606647                             director,actor,writer  \n",
       "\n",
       "[606648 rows x 3 columns]"
      ]
     },
     "execution_count": 404,
     "metadata": {},
     "output_type": "execute_result"
    }
   ],
   "source": [
    "persons_cp"
   ]
  },
  {
   "cell_type": "code",
   "execution_count": 405,
   "metadata": {},
   "outputs": [
    {
     "name": "stdout",
     "output_type": "stream",
     "text": [
      "<class 'pandas.core.frame.DataFrame'>\n",
      "RangeIndex: 291174 entries, 0 to 291173\n",
      "Data columns (total 2 columns):\n",
      " #   Column     Non-Null Count   Dtype \n",
      "---  ------     --------------   ----- \n",
      " 0   movie_id   291174 non-null  object\n",
      " 1   person_id  291174 non-null  object\n",
      "dtypes: object(2)\n",
      "memory usage: 4.4+ MB\n"
     ]
    }
   ],
   "source": [
    "directors = imdb_tables['directors']\n",
    "directors.shape\n",
    "directors.isna().any()\n",
    "directors.duplicated().sum()\n",
    "directors.info()"
   ]
  },
  {
   "cell_type": "code",
   "execution_count": 406,
   "metadata": {},
   "outputs": [],
   "source": [
    "directors_cp = directors.copy(deep=True)"
   ]
  },
  {
   "cell_type": "code",
   "execution_count": 407,
   "metadata": {},
   "outputs": [
    {
     "data": {
      "application/vnd.microsoft.datawrangler.viewer.v0+json": {
       "columns": [
        {
         "name": "index",
         "rawType": "int64",
         "type": "integer"
        },
        {
         "name": "person_id",
         "rawType": "object",
         "type": "string"
        },
        {
         "name": "primary_name",
         "rawType": "object",
         "type": "string"
        },
        {
         "name": "primary_profession",
         "rawType": "object",
         "type": "unknown"
        },
        {
         "name": "movie_id",
         "rawType": "object",
         "type": "string"
        }
       ],
       "ref": "30375ff5-3566-4708-90a8-4fd5ad7f7bd7",
       "rows": [
        [
         "0",
         "nm0062879",
         "Ruel S. Bayani",
         "director,production_manager,miscellaneous",
         "tt1592569"
        ],
        [
         "1",
         "nm0062879",
         "Ruel S. Bayani",
         "director,production_manager,miscellaneous",
         "tt1592569"
        ],
        [
         "2",
         "nm0062879",
         "Ruel S. Bayani",
         "director,production_manager,miscellaneous",
         "tt1592569"
        ],
        [
         "3",
         "nm0062879",
         "Ruel S. Bayani",
         "director,production_manager,miscellaneous",
         "tt1592569"
        ],
        [
         "4",
         "nm0062879",
         "Ruel S. Bayani",
         "director,production_manager,miscellaneous",
         "tt8421806"
        ],
        [
         "5",
         "nm0062879",
         "Ruel S. Bayani",
         "director,production_manager,miscellaneous",
         "tt8421806"
        ],
        [
         "6",
         "nm0062879",
         "Ruel S. Bayani",
         "director,production_manager,miscellaneous",
         "tt2057445"
        ],
        [
         "7",
         "nm0062879",
         "Ruel S. Bayani",
         "director,production_manager,miscellaneous",
         "tt2057445"
        ],
        [
         "8",
         "nm0062879",
         "Ruel S. Bayani",
         "director,production_manager,miscellaneous",
         "tt2057445"
        ],
        [
         "9",
         "nm0062879",
         "Ruel S. Bayani",
         "director,production_manager,miscellaneous",
         "tt2590280"
        ],
        [
         "10",
         "nm0064023",
         "Bryan Beasley",
         "director,producer,writer",
         "tt4512140"
        ],
        [
         "11",
         "nm0064023",
         "Bryan Beasley",
         "director,producer,writer",
         "tt3501180"
        ],
        [
         "12",
         "nm0066268",
         "Steve Mitchell Beebe",
         "editorial_department,director,editor",
         "tt5521860"
        ],
        [
         "13",
         "nm0067234",
         "Hans Beimler",
         "producer,writer,miscellaneous",
         "tt2098699"
        ],
        [
         "14",
         "nm0068874",
         "Hava Kohav Beller",
         "director,writer,producer",
         "tt7701650"
        ],
        [
         "15",
         "nm0070482",
         "Joel Bender",
         "editor,director,writer",
         "tt1016090"
        ],
        [
         "16",
         "nm0070482",
         "Joel Bender",
         "editor,director,writer",
         "tt3790232"
        ],
        [
         "17",
         "nm0070482",
         "Joel Bender",
         "editor,director,writer",
         "tt3790232"
        ],
        [
         "18",
         "nm0075666",
         "Joe Berlinger",
         "producer,director,camera_department",
         "tt5151716"
        ],
        [
         "19",
         "nm0075666",
         "Joe Berlinger",
         "producer,director,camera_department",
         "tt2112868"
        ],
        [
         "20",
         "nm0075666",
         "Joe Berlinger",
         "producer,director,camera_department",
         "tt2028530"
        ],
        [
         "21",
         "nm0075666",
         "Joe Berlinger",
         "producer,director,camera_department",
         "tt2481498"
        ],
        [
         "22",
         "nm0075666",
         "Joe Berlinger",
         "producer,director,camera_department",
         "tt2481498"
        ],
        [
         "23",
         "nm0075666",
         "Joe Berlinger",
         "producer,director,camera_department",
         "tt6794462"
        ],
        [
         "24",
         "nm0075666",
         "Joe Berlinger",
         "producer,director,camera_department",
         "tt6794462"
        ],
        [
         "25",
         "nm0075666",
         "Joe Berlinger",
         "producer,director,camera_department",
         "tt4104086"
        ],
        [
         "26",
         "nm0075666",
         "Joe Berlinger",
         "producer,director,camera_department",
         "tt4104086"
        ],
        [
         "27",
         "nm0075666",
         "Joe Berlinger",
         "producer,director,camera_department",
         "tt4104086"
        ],
        [
         "28",
         "nm0075666",
         "Joe Berlinger",
         "producer,director,camera_department",
         "tt4104086"
        ],
        [
         "29",
         "nm0075666",
         "Joe Berlinger",
         "producer,director,camera_department",
         "tt3326366"
        ],
        [
         "30",
         "nm0075666",
         "Joe Berlinger",
         "producer,director,camera_department",
         "tt3137552"
        ],
        [
         "31",
         "nm0077067",
         "Jamie Bernstein",
         "director,actress,writer",
         "tt4601198"
        ],
        [
         "32",
         "nm0077067",
         "Jamie Bernstein",
         "director,actress,writer",
         "tt3909442"
        ],
        [
         "33",
         "nm0080787",
         "Dusty Bias",
         "writer,director,producer",
         "tt4794754"
        ],
        [
         "34",
         "nm0080787",
         "Dusty Bias",
         "writer,director,producer",
         "tt1374996"
        ],
        [
         "35",
         "nm0080787",
         "Dusty Bias",
         "writer,director,producer",
         "tt1374996"
        ],
        [
         "36",
         "nm0080787",
         "Dusty Bias",
         "writer,director,producer",
         "tt1374996"
        ],
        [
         "37",
         "nm0082154",
         "Miro Bilbrough",
         "miscellaneous,director,writer",
         "tt2012110"
        ],
        [
         "38",
         "nm0083767",
         "Fernando Birri",
         "director,actor,writer",
         "tt1854526"
        ],
        [
         "39",
         "nm0083767",
         "Fernando Birri",
         "director,actor,writer",
         "tt1854526"
        ],
        [
         "40",
         "nm0083767",
         "Fernando Birri",
         "director,actor,writer",
         "tt1854526"
        ],
        [
         "41",
         "nm0086051",
         "Bob Blagden",
         "director,art_department,writer",
         "tt1712204"
        ],
        [
         "42",
         "nm0086051",
         "Bob Blagden",
         "director,art_department,writer",
         "tt1712204"
        ],
        [
         "43",
         "nm0087933",
         "Jacek Blawut",
         "cinematographer,miscellaneous,director",
         "tt2508838"
        ],
        [
         "44",
         "nm0088531",
         "Ryan Bliss",
         "director,writer,producer",
         "tt6550978"
        ],
        [
         "45",
         "nm0088888",
         "Eric Blom",
         "director,camera_department,writer",
         "tt8407740"
        ],
        [
         "46",
         "nm0088888",
         "Eric Blom",
         "director,camera_department,writer",
         "tt8407740"
        ],
        [
         "47",
         "nm0088888",
         "Eric Blom",
         "director,camera_department,writer",
         "tt8407740"
        ],
        [
         "48",
         "nm0089850",
         "Lars Blumers",
         "director,writer,producer",
         "tt1825703"
        ],
        [
         "49",
         "nm0089850",
         "Lars Blumers",
         "director,writer,producer",
         "tt1825703"
        ]
       ],
       "shape": {
        "columns": 4,
        "rows": 291171
       }
      },
      "text/html": [
       "<div>\n",
       "<style scoped>\n",
       "    .dataframe tbody tr th:only-of-type {\n",
       "        vertical-align: middle;\n",
       "    }\n",
       "\n",
       "    .dataframe tbody tr th {\n",
       "        vertical-align: top;\n",
       "    }\n",
       "\n",
       "    .dataframe thead th {\n",
       "        text-align: right;\n",
       "    }\n",
       "</style>\n",
       "<table border=\"1\" class=\"dataframe\">\n",
       "  <thead>\n",
       "    <tr style=\"text-align: right;\">\n",
       "      <th></th>\n",
       "      <th>person_id</th>\n",
       "      <th>primary_name</th>\n",
       "      <th>primary_profession</th>\n",
       "      <th>movie_id</th>\n",
       "    </tr>\n",
       "  </thead>\n",
       "  <tbody>\n",
       "    <tr>\n",
       "      <th>0</th>\n",
       "      <td>nm0062879</td>\n",
       "      <td>Ruel S. Bayani</td>\n",
       "      <td>director,production_manager,miscellaneous</td>\n",
       "      <td>tt1592569</td>\n",
       "    </tr>\n",
       "    <tr>\n",
       "      <th>1</th>\n",
       "      <td>nm0062879</td>\n",
       "      <td>Ruel S. Bayani</td>\n",
       "      <td>director,production_manager,miscellaneous</td>\n",
       "      <td>tt1592569</td>\n",
       "    </tr>\n",
       "    <tr>\n",
       "      <th>2</th>\n",
       "      <td>nm0062879</td>\n",
       "      <td>Ruel S. Bayani</td>\n",
       "      <td>director,production_manager,miscellaneous</td>\n",
       "      <td>tt1592569</td>\n",
       "    </tr>\n",
       "    <tr>\n",
       "      <th>3</th>\n",
       "      <td>nm0062879</td>\n",
       "      <td>Ruel S. Bayani</td>\n",
       "      <td>director,production_manager,miscellaneous</td>\n",
       "      <td>tt1592569</td>\n",
       "    </tr>\n",
       "    <tr>\n",
       "      <th>4</th>\n",
       "      <td>nm0062879</td>\n",
       "      <td>Ruel S. Bayani</td>\n",
       "      <td>director,production_manager,miscellaneous</td>\n",
       "      <td>tt8421806</td>\n",
       "    </tr>\n",
       "    <tr>\n",
       "      <th>...</th>\n",
       "      <td>...</td>\n",
       "      <td>...</td>\n",
       "      <td>...</td>\n",
       "      <td>...</td>\n",
       "    </tr>\n",
       "    <tr>\n",
       "      <th>291166</th>\n",
       "      <td>nm9980896</td>\n",
       "      <td>Rama Narayanan</td>\n",
       "      <td>director,writer</td>\n",
       "      <td>tt8715016</td>\n",
       "    </tr>\n",
       "    <tr>\n",
       "      <th>291167</th>\n",
       "      <td>nm9980896</td>\n",
       "      <td>Rama Narayanan</td>\n",
       "      <td>director,writer</td>\n",
       "      <td>tt8919136</td>\n",
       "    </tr>\n",
       "    <tr>\n",
       "      <th>291168</th>\n",
       "      <td>nm9981679</td>\n",
       "      <td>Samir Eshra</td>\n",
       "      <td>director,writer,cinematographer</td>\n",
       "      <td>tt8717234</td>\n",
       "    </tr>\n",
       "    <tr>\n",
       "      <th>291169</th>\n",
       "      <td>nm9993380</td>\n",
       "      <td>Pegasus Envoyé</td>\n",
       "      <td>director,actor,writer</td>\n",
       "      <td>tt8743182</td>\n",
       "    </tr>\n",
       "    <tr>\n",
       "      <th>291170</th>\n",
       "      <td>nm9993380</td>\n",
       "      <td>Pegasus Envoyé</td>\n",
       "      <td>director,actor,writer</td>\n",
       "      <td>tt8743182</td>\n",
       "    </tr>\n",
       "  </tbody>\n",
       "</table>\n",
       "<p>291171 rows × 4 columns</p>\n",
       "</div>"
      ],
      "text/plain": [
       "        person_id    primary_name                         primary_profession  \\\n",
       "0       nm0062879  Ruel S. Bayani  director,production_manager,miscellaneous   \n",
       "1       nm0062879  Ruel S. Bayani  director,production_manager,miscellaneous   \n",
       "2       nm0062879  Ruel S. Bayani  director,production_manager,miscellaneous   \n",
       "3       nm0062879  Ruel S. Bayani  director,production_manager,miscellaneous   \n",
       "4       nm0062879  Ruel S. Bayani  director,production_manager,miscellaneous   \n",
       "...           ...             ...                                        ...   \n",
       "291166  nm9980896  Rama Narayanan                            director,writer   \n",
       "291167  nm9980896  Rama Narayanan                            director,writer   \n",
       "291168  nm9981679     Samir Eshra            director,writer,cinematographer   \n",
       "291169  nm9993380  Pegasus Envoyé                      director,actor,writer   \n",
       "291170  nm9993380  Pegasus Envoyé                      director,actor,writer   \n",
       "\n",
       "         movie_id  \n",
       "0       tt1592569  \n",
       "1       tt1592569  \n",
       "2       tt1592569  \n",
       "3       tt1592569  \n",
       "4       tt8421806  \n",
       "...           ...  \n",
       "291166  tt8715016  \n",
       "291167  tt8919136  \n",
       "291168  tt8717234  \n",
       "291169  tt8743182  \n",
       "291170  tt8743182  \n",
       "\n",
       "[291171 rows x 4 columns]"
      ]
     },
     "execution_count": 407,
     "metadata": {},
     "output_type": "execute_result"
    }
   ],
   "source": [
    "people_merge = persons_cp.merge(directors_cp, on='person_id', how='inner')\n",
    "people_merge"
   ]
  },
  {
   "cell_type": "code",
   "execution_count": 408,
   "metadata": {},
   "outputs": [
    {
     "data": {
      "application/vnd.microsoft.datawrangler.viewer.v0+json": {
       "columns": [
        {
         "name": "index",
         "rawType": "int64",
         "type": "integer"
        },
        {
         "name": "person_id",
         "rawType": "object",
         "type": "string"
        },
        {
         "name": "movie_id",
         "rawType": "object",
         "type": "string"
        }
       ],
       "ref": "8676fd5a-3868-4b82-914f-9c8965415dad",
       "rows": [
        [
         "0",
         "nm0061671",
         "tt0837562"
        ],
        [
         "1",
         "nm0061671",
         "tt2398241"
        ],
        [
         "2",
         "nm0061671",
         "tt0844471"
        ],
        [
         "3",
         "nm0061671",
         "tt0118553"
        ],
        [
         "4",
         "nm0061865",
         "tt0896534"
        ],
        [
         "5",
         "nm0061865",
         "tt6791238"
        ],
        [
         "6",
         "nm0061865",
         "tt0287072"
        ],
        [
         "7",
         "nm0061865",
         "tt1682940"
        ],
        [
         "8",
         "nm0062070",
         "tt1470654"
        ],
        [
         "9",
         "nm0062070",
         "tt0363631"
        ],
        [
         "10",
         "nm0062070",
         "tt0104030"
        ],
        [
         "11",
         "nm0062070",
         "tt0102898"
        ],
        [
         "12",
         "nm0062195",
         "tt0114371"
        ],
        [
         "13",
         "nm0062195",
         "tt2004304"
        ],
        [
         "14",
         "nm0062195",
         "tt1618448"
        ],
        [
         "15",
         "nm0062195",
         "tt1224387"
        ],
        [
         "16",
         "nm0062798",
         "tt0452644"
        ],
        [
         "17",
         "nm0062798",
         "tt0452692"
        ],
        [
         "18",
         "nm0062798",
         "tt3458030"
        ],
        [
         "19",
         "nm0062798",
         "tt2178256"
        ],
        [
         "20",
         "nm0062879",
         "tt2590280"
        ],
        [
         "21",
         "nm0062879",
         "tt0352080"
        ],
        [
         "22",
         "nm0062879",
         "tt0216559"
        ],
        [
         "23",
         "nm0062879",
         "tt2057445"
        ],
        [
         "24",
         "nm0063198",
         "tt6579724"
        ],
        [
         "25",
         "nm0063198",
         "tt0093116"
        ],
        [
         "26",
         "nm0063432",
         "tt3106212"
        ],
        [
         "27",
         "nm0063432",
         "tt0478239"
        ],
        [
         "28",
         "nm0063432",
         "tt0264917"
        ],
        [
         "29",
         "nm0063432",
         "tt1626606"
        ],
        [
         "30",
         "nm0063618",
         "tt0183659"
        ],
        [
         "31",
         "nm0063618",
         "tt2545118"
        ],
        [
         "32",
         "nm0063618",
         "tt0384766"
        ],
        [
         "33",
         "nm0063618",
         "tt1856010"
        ],
        [
         "34",
         "nm0063750",
         "tt0404826"
        ],
        [
         "35",
         "nm0063750",
         "tt0111756"
        ],
        [
         "36",
         "nm0063750",
         "tt0367027"
        ],
        [
         "37",
         "nm0063750",
         "tt1492842"
        ],
        [
         "38",
         "nm0064023",
         "tt3501180"
        ],
        [
         "39",
         "nm0064023",
         "tt1485100"
        ],
        [
         "40",
         "nm0064023",
         "tt1358897"
        ],
        [
         "41",
         "nm0064023",
         "tt1387162"
        ],
        [
         "42",
         "nm0064350",
         "tt5479010"
        ],
        [
         "43",
         "nm0064350",
         "tt0316463"
        ],
        [
         "44",
         "nm0064350",
         "tt1286159"
        ],
        [
         "45",
         "nm0064350",
         "tt0380732"
        ],
        [
         "46",
         "nm0065847",
         "tt0108171"
        ],
        [
         "47",
         "nm0065847",
         "tt0095953"
        ],
        [
         "48",
         "nm0065847",
         "tt0266987"
        ],
        [
         "49",
         "nm0065847",
         "tt0285332"
        ]
       ],
       "shape": {
        "columns": 2,
        "rows": 1638260
       }
      },
      "text/html": [
       "<div>\n",
       "<style scoped>\n",
       "    .dataframe tbody tr th:only-of-type {\n",
       "        vertical-align: middle;\n",
       "    }\n",
       "\n",
       "    .dataframe tbody tr th {\n",
       "        vertical-align: top;\n",
       "    }\n",
       "\n",
       "    .dataframe thead th {\n",
       "        text-align: right;\n",
       "    }\n",
       "</style>\n",
       "<table border=\"1\" class=\"dataframe\">\n",
       "  <thead>\n",
       "    <tr style=\"text-align: right;\">\n",
       "      <th></th>\n",
       "      <th>person_id</th>\n",
       "      <th>movie_id</th>\n",
       "    </tr>\n",
       "  </thead>\n",
       "  <tbody>\n",
       "    <tr>\n",
       "      <th>0</th>\n",
       "      <td>nm0061671</td>\n",
       "      <td>tt0837562</td>\n",
       "    </tr>\n",
       "    <tr>\n",
       "      <th>1</th>\n",
       "      <td>nm0061671</td>\n",
       "      <td>tt2398241</td>\n",
       "    </tr>\n",
       "    <tr>\n",
       "      <th>2</th>\n",
       "      <td>nm0061671</td>\n",
       "      <td>tt0844471</td>\n",
       "    </tr>\n",
       "    <tr>\n",
       "      <th>3</th>\n",
       "      <td>nm0061671</td>\n",
       "      <td>tt0118553</td>\n",
       "    </tr>\n",
       "    <tr>\n",
       "      <th>4</th>\n",
       "      <td>nm0061865</td>\n",
       "      <td>tt0896534</td>\n",
       "    </tr>\n",
       "    <tr>\n",
       "      <th>...</th>\n",
       "      <td>...</td>\n",
       "      <td>...</td>\n",
       "    </tr>\n",
       "    <tr>\n",
       "      <th>1638255</th>\n",
       "      <td>nm9990690</td>\n",
       "      <td>tt9090932</td>\n",
       "    </tr>\n",
       "    <tr>\n",
       "      <th>1638256</th>\n",
       "      <td>nm9990690</td>\n",
       "      <td>tt8737130</td>\n",
       "    </tr>\n",
       "    <tr>\n",
       "      <th>1638257</th>\n",
       "      <td>nm9991320</td>\n",
       "      <td>tt8734436</td>\n",
       "    </tr>\n",
       "    <tr>\n",
       "      <th>1638258</th>\n",
       "      <td>nm9991320</td>\n",
       "      <td>tt9615610</td>\n",
       "    </tr>\n",
       "    <tr>\n",
       "      <th>1638259</th>\n",
       "      <td>nm9993380</td>\n",
       "      <td>tt8743182</td>\n",
       "    </tr>\n",
       "  </tbody>\n",
       "</table>\n",
       "<p>1638260 rows × 2 columns</p>\n",
       "</div>"
      ],
      "text/plain": [
       "         person_id   movie_id\n",
       "0        nm0061671  tt0837562\n",
       "1        nm0061671  tt2398241\n",
       "2        nm0061671  tt0844471\n",
       "3        nm0061671  tt0118553\n",
       "4        nm0061865  tt0896534\n",
       "...            ...        ...\n",
       "1638255  nm9990690  tt9090932\n",
       "1638256  nm9990690  tt8737130\n",
       "1638257  nm9991320  tt8734436\n",
       "1638258  nm9991320  tt9615610\n",
       "1638259  nm9993380  tt8743182\n",
       "\n",
       "[1638260 rows x 2 columns]"
      ]
     },
     "execution_count": 408,
     "metadata": {},
     "output_type": "execute_result"
    }
   ],
   "source": [
    "known_for = imdb_tables['known_for']\n",
    "known_for"
   ]
  },
  {
   "cell_type": "code",
   "execution_count": 409,
   "metadata": {},
   "outputs": [
    {
     "data": {
      "application/vnd.microsoft.datawrangler.viewer.v0+json": {
       "columns": [
        {
         "name": "index",
         "rawType": "int64",
         "type": "integer"
        },
        {
         "name": "person_id",
         "rawType": "object",
         "type": "string"
        },
        {
         "name": "primary_name",
         "rawType": "object",
         "type": "string"
        },
        {
         "name": "primary_profession",
         "rawType": "object",
         "type": "unknown"
        },
        {
         "name": "movie_id",
         "rawType": "object",
         "type": "string"
        }
       ],
       "ref": "29bbd560-31d5-4793-af2b-f6b9a34e1aee",
       "rows": [
        [
         "0",
         "nm0062879",
         "Ruel S. Bayani",
         "director,production_manager,miscellaneous",
         "tt1592569"
        ],
        [
         "1",
         "nm0062879",
         "Ruel S. Bayani",
         "director,production_manager,miscellaneous",
         "tt1592569"
        ],
        [
         "2",
         "nm0062879",
         "Ruel S. Bayani",
         "director,production_manager,miscellaneous",
         "tt1592569"
        ],
        [
         "3",
         "nm0062879",
         "Ruel S. Bayani",
         "director,production_manager,miscellaneous",
         "tt1592569"
        ],
        [
         "4",
         "nm0062879",
         "Ruel S. Bayani",
         "director,production_manager,miscellaneous",
         "tt8421806"
        ],
        [
         "5",
         "nm0062879",
         "Ruel S. Bayani",
         "director,production_manager,miscellaneous",
         "tt8421806"
        ],
        [
         "6",
         "nm0062879",
         "Ruel S. Bayani",
         "director,production_manager,miscellaneous",
         "tt2057445"
        ],
        [
         "7",
         "nm0062879",
         "Ruel S. Bayani",
         "director,production_manager,miscellaneous",
         "tt2057445"
        ],
        [
         "8",
         "nm0062879",
         "Ruel S. Bayani",
         "director,production_manager,miscellaneous",
         "tt2057445"
        ],
        [
         "9",
         "nm0062879",
         "Ruel S. Bayani",
         "director,production_manager,miscellaneous",
         "tt2590280"
        ],
        [
         "10",
         "nm0064023",
         "Bryan Beasley",
         "director,producer,writer",
         "tt4512140"
        ],
        [
         "11",
         "nm0064023",
         "Bryan Beasley",
         "director,producer,writer",
         "tt3501180"
        ],
        [
         "12",
         "nm0066268",
         "Steve Mitchell Beebe",
         "editorial_department,director,editor",
         "tt5521860"
        ],
        [
         "13",
         "nm0067234",
         "Hans Beimler",
         "producer,writer,miscellaneous",
         "tt2098699"
        ],
        [
         "14",
         "nm0068874",
         "Hava Kohav Beller",
         "director,writer,producer",
         "tt7701650"
        ],
        [
         "15",
         "nm0070482",
         "Joel Bender",
         "editor,director,writer",
         "tt1016090"
        ],
        [
         "16",
         "nm0070482",
         "Joel Bender",
         "editor,director,writer",
         "tt3790232"
        ],
        [
         "17",
         "nm0070482",
         "Joel Bender",
         "editor,director,writer",
         "tt3790232"
        ],
        [
         "18",
         "nm0075666",
         "Joe Berlinger",
         "producer,director,camera_department",
         "tt5151716"
        ],
        [
         "19",
         "nm0075666",
         "Joe Berlinger",
         "producer,director,camera_department",
         "tt2112868"
        ],
        [
         "20",
         "nm0075666",
         "Joe Berlinger",
         "producer,director,camera_department",
         "tt2028530"
        ],
        [
         "21",
         "nm0075666",
         "Joe Berlinger",
         "producer,director,camera_department",
         "tt2481498"
        ],
        [
         "22",
         "nm0075666",
         "Joe Berlinger",
         "producer,director,camera_department",
         "tt2481498"
        ],
        [
         "23",
         "nm0075666",
         "Joe Berlinger",
         "producer,director,camera_department",
         "tt6794462"
        ],
        [
         "24",
         "nm0075666",
         "Joe Berlinger",
         "producer,director,camera_department",
         "tt6794462"
        ],
        [
         "25",
         "nm0075666",
         "Joe Berlinger",
         "producer,director,camera_department",
         "tt4104086"
        ],
        [
         "26",
         "nm0075666",
         "Joe Berlinger",
         "producer,director,camera_department",
         "tt4104086"
        ],
        [
         "27",
         "nm0075666",
         "Joe Berlinger",
         "producer,director,camera_department",
         "tt4104086"
        ],
        [
         "28",
         "nm0075666",
         "Joe Berlinger",
         "producer,director,camera_department",
         "tt4104086"
        ],
        [
         "29",
         "nm0075666",
         "Joe Berlinger",
         "producer,director,camera_department",
         "tt3326366"
        ],
        [
         "30",
         "nm0075666",
         "Joe Berlinger",
         "producer,director,camera_department",
         "tt3137552"
        ],
        [
         "31",
         "nm0077067",
         "Jamie Bernstein",
         "director,actress,writer",
         "tt4601198"
        ],
        [
         "32",
         "nm0077067",
         "Jamie Bernstein",
         "director,actress,writer",
         "tt3909442"
        ],
        [
         "33",
         "nm0080787",
         "Dusty Bias",
         "writer,director,producer",
         "tt4794754"
        ],
        [
         "34",
         "nm0080787",
         "Dusty Bias",
         "writer,director,producer",
         "tt1374996"
        ],
        [
         "35",
         "nm0080787",
         "Dusty Bias",
         "writer,director,producer",
         "tt1374996"
        ],
        [
         "36",
         "nm0080787",
         "Dusty Bias",
         "writer,director,producer",
         "tt1374996"
        ],
        [
         "37",
         "nm0082154",
         "Miro Bilbrough",
         "miscellaneous,director,writer",
         "tt2012110"
        ],
        [
         "38",
         "nm0083767",
         "Fernando Birri",
         "director,actor,writer",
         "tt1854526"
        ],
        [
         "39",
         "nm0083767",
         "Fernando Birri",
         "director,actor,writer",
         "tt1854526"
        ],
        [
         "40",
         "nm0083767",
         "Fernando Birri",
         "director,actor,writer",
         "tt1854526"
        ],
        [
         "41",
         "nm0086051",
         "Bob Blagden",
         "director,art_department,writer",
         "tt1712204"
        ],
        [
         "42",
         "nm0086051",
         "Bob Blagden",
         "director,art_department,writer",
         "tt1712204"
        ],
        [
         "43",
         "nm0087933",
         "Jacek Blawut",
         "cinematographer,miscellaneous,director",
         "tt2508838"
        ],
        [
         "44",
         "nm0088531",
         "Ryan Bliss",
         "director,writer,producer",
         "tt6550978"
        ],
        [
         "45",
         "nm0088888",
         "Eric Blom",
         "director,camera_department,writer",
         "tt8407740"
        ],
        [
         "46",
         "nm0088888",
         "Eric Blom",
         "director,camera_department,writer",
         "tt8407740"
        ],
        [
         "47",
         "nm0088888",
         "Eric Blom",
         "director,camera_department,writer",
         "tt8407740"
        ],
        [
         "48",
         "nm0089850",
         "Lars Blumers",
         "director,writer,producer",
         "tt1825703"
        ],
        [
         "49",
         "nm0089850",
         "Lars Blumers",
         "director,writer,producer",
         "tt1825703"
        ]
       ],
       "shape": {
        "columns": 4,
        "rows": 291171
       }
      },
      "text/html": [
       "<div>\n",
       "<style scoped>\n",
       "    .dataframe tbody tr th:only-of-type {\n",
       "        vertical-align: middle;\n",
       "    }\n",
       "\n",
       "    .dataframe tbody tr th {\n",
       "        vertical-align: top;\n",
       "    }\n",
       "\n",
       "    .dataframe thead th {\n",
       "        text-align: right;\n",
       "    }\n",
       "</style>\n",
       "<table border=\"1\" class=\"dataframe\">\n",
       "  <thead>\n",
       "    <tr style=\"text-align: right;\">\n",
       "      <th></th>\n",
       "      <th>person_id</th>\n",
       "      <th>primary_name</th>\n",
       "      <th>primary_profession</th>\n",
       "      <th>movie_id</th>\n",
       "    </tr>\n",
       "  </thead>\n",
       "  <tbody>\n",
       "    <tr>\n",
       "      <th>0</th>\n",
       "      <td>nm0062879</td>\n",
       "      <td>Ruel S. Bayani</td>\n",
       "      <td>director,production_manager,miscellaneous</td>\n",
       "      <td>tt1592569</td>\n",
       "    </tr>\n",
       "    <tr>\n",
       "      <th>1</th>\n",
       "      <td>nm0062879</td>\n",
       "      <td>Ruel S. Bayani</td>\n",
       "      <td>director,production_manager,miscellaneous</td>\n",
       "      <td>tt1592569</td>\n",
       "    </tr>\n",
       "    <tr>\n",
       "      <th>2</th>\n",
       "      <td>nm0062879</td>\n",
       "      <td>Ruel S. Bayani</td>\n",
       "      <td>director,production_manager,miscellaneous</td>\n",
       "      <td>tt1592569</td>\n",
       "    </tr>\n",
       "    <tr>\n",
       "      <th>3</th>\n",
       "      <td>nm0062879</td>\n",
       "      <td>Ruel S. Bayani</td>\n",
       "      <td>director,production_manager,miscellaneous</td>\n",
       "      <td>tt1592569</td>\n",
       "    </tr>\n",
       "    <tr>\n",
       "      <th>4</th>\n",
       "      <td>nm0062879</td>\n",
       "      <td>Ruel S. Bayani</td>\n",
       "      <td>director,production_manager,miscellaneous</td>\n",
       "      <td>tt8421806</td>\n",
       "    </tr>\n",
       "    <tr>\n",
       "      <th>...</th>\n",
       "      <td>...</td>\n",
       "      <td>...</td>\n",
       "      <td>...</td>\n",
       "      <td>...</td>\n",
       "    </tr>\n",
       "    <tr>\n",
       "      <th>291166</th>\n",
       "      <td>nm9980896</td>\n",
       "      <td>Rama Narayanan</td>\n",
       "      <td>director,writer</td>\n",
       "      <td>tt8715016</td>\n",
       "    </tr>\n",
       "    <tr>\n",
       "      <th>291167</th>\n",
       "      <td>nm9980896</td>\n",
       "      <td>Rama Narayanan</td>\n",
       "      <td>director,writer</td>\n",
       "      <td>tt8919136</td>\n",
       "    </tr>\n",
       "    <tr>\n",
       "      <th>291168</th>\n",
       "      <td>nm9981679</td>\n",
       "      <td>Samir Eshra</td>\n",
       "      <td>director,writer,cinematographer</td>\n",
       "      <td>tt8717234</td>\n",
       "    </tr>\n",
       "    <tr>\n",
       "      <th>291169</th>\n",
       "      <td>nm9993380</td>\n",
       "      <td>Pegasus Envoyé</td>\n",
       "      <td>director,actor,writer</td>\n",
       "      <td>tt8743182</td>\n",
       "    </tr>\n",
       "    <tr>\n",
       "      <th>291170</th>\n",
       "      <td>nm9993380</td>\n",
       "      <td>Pegasus Envoyé</td>\n",
       "      <td>director,actor,writer</td>\n",
       "      <td>tt8743182</td>\n",
       "    </tr>\n",
       "  </tbody>\n",
       "</table>\n",
       "<p>291171 rows × 4 columns</p>\n",
       "</div>"
      ],
      "text/plain": [
       "        person_id    primary_name                         primary_profession  \\\n",
       "0       nm0062879  Ruel S. Bayani  director,production_manager,miscellaneous   \n",
       "1       nm0062879  Ruel S. Bayani  director,production_manager,miscellaneous   \n",
       "2       nm0062879  Ruel S. Bayani  director,production_manager,miscellaneous   \n",
       "3       nm0062879  Ruel S. Bayani  director,production_manager,miscellaneous   \n",
       "4       nm0062879  Ruel S. Bayani  director,production_manager,miscellaneous   \n",
       "...           ...             ...                                        ...   \n",
       "291166  nm9980896  Rama Narayanan                            director,writer   \n",
       "291167  nm9980896  Rama Narayanan                            director,writer   \n",
       "291168  nm9981679     Samir Eshra            director,writer,cinematographer   \n",
       "291169  nm9993380  Pegasus Envoyé                      director,actor,writer   \n",
       "291170  nm9993380  Pegasus Envoyé                      director,actor,writer   \n",
       "\n",
       "         movie_id  \n",
       "0       tt1592569  \n",
       "1       tt1592569  \n",
       "2       tt1592569  \n",
       "3       tt1592569  \n",
       "4       tt8421806  \n",
       "...           ...  \n",
       "291166  tt8715016  \n",
       "291167  tt8919136  \n",
       "291168  tt8717234  \n",
       "291169  tt8743182  \n",
       "291170  tt8743182  \n",
       "\n",
       "[291171 rows x 4 columns]"
      ]
     },
     "execution_count": 409,
     "metadata": {},
     "output_type": "execute_result"
    }
   ],
   "source": [
    "people_merge1 = people_merge.merge(known_for, on=['person_id', 'movie_id'], how='left')\n",
    "people_merge1"
   ]
  },
  {
   "cell_type": "code",
   "execution_count": 410,
   "metadata": {},
   "outputs": [
    {
     "data": {
      "application/vnd.microsoft.datawrangler.viewer.v0+json": {
       "columns": [
        {
         "name": "index",
         "rawType": "int64",
         "type": "integer"
        },
        {
         "name": "movie_id",
         "rawType": "object",
         "type": "string"
        },
        {
         "name": "person_id",
         "rawType": "object",
         "type": "string"
        }
       ],
       "ref": "672a054f-f506-4757-a779-94e1339ca5f9",
       "rows": [
        [
         "0",
         "tt0285252",
         "nm0899854"
        ],
        [
         "1",
         "tt0438973",
         "nm0175726"
        ],
        [
         "2",
         "tt0438973",
         "nm1802864"
        ],
        [
         "3",
         "tt0462036",
         "nm1940585"
        ],
        [
         "4",
         "tt0835418",
         "nm0310087"
        ],
        [
         "5",
         "tt0835418",
         "nm0841532"
        ],
        [
         "6",
         "tt0878654",
         "nm0284943"
        ],
        [
         "7",
         "tt0878654",
         "nm0284943"
        ],
        [
         "8",
         "tt0878654",
         "nm0284943"
        ],
        [
         "9",
         "tt0996958",
         "nm2286991"
        ],
        [
         "10",
         "tt0996958",
         "nm2651190"
        ],
        [
         "11",
         "tt0999913",
         "nm0527109"
        ],
        [
         "12",
         "tt0999913",
         "nm0329051"
        ],
        [
         "13",
         "tt0999913",
         "nm0001603"
        ],
        [
         "14",
         "tt0999913",
         "nm0930684"
        ],
        [
         "15",
         "tt10003792",
         "nm10539228"
        ],
        [
         "16",
         "tt10005130",
         "nm5482263"
        ],
        [
         "17",
         "tt10005130",
         "nm10540239"
        ],
        [
         "18",
         "tt10005378",
         "nm9232888"
        ],
        [
         "19",
         "tt10011102",
         "nm2215938"
        ],
        [
         "20",
         "tt10011102",
         "nm0219964"
        ],
        [
         "21",
         "tt1002965",
         "nm0860520"
        ],
        [
         "22",
         "tt1002965",
         "nm0003521"
        ],
        [
         "23",
         "tt1002965",
         "nm2615300"
        ],
        [
         "24",
         "tt10042456",
         "nm6051389"
        ],
        [
         "25",
         "tt10055770",
         "nm8628554"
        ],
        [
         "26",
         "tt10055770",
         "nm8351963"
        ],
        [
         "27",
         "tt10056334",
         "nm10563034"
        ],
        [
         "28",
         "tt10056334",
         "nm10563021"
        ],
        [
         "29",
         "tt10059624",
         "nm0472248"
        ],
        [
         "30",
         "tt10059624",
         "nm10596139"
        ],
        [
         "31",
         "tt10059624",
         "nm10596140"
        ],
        [
         "32",
         "tt10060902",
         "nm10193497"
        ],
        [
         "33",
         "tt10076760",
         "nm10351658"
        ],
        [
         "34",
         "tt10084358",
         "nm10586890"
        ],
        [
         "35",
         "tt10085524",
         "nm7717515"
        ],
        [
         "36",
         "tt10086906",
         "nm10576024"
        ],
        [
         "37",
         "tt10087396",
         "nm1819081"
        ],
        [
         "38",
         "tt10094362",
         "nm4510291"
        ],
        [
         "39",
         "tt10126496",
         "nm3691130"
        ],
        [
         "40",
         "tt10126628",
         "nm0403225"
        ],
        [
         "41",
         "tt10133856",
         "nm9709981"
        ],
        [
         "42",
         "tt10133856",
         "nm8979374"
        ],
        [
         "43",
         "tt10133856",
         "nm10597667"
        ],
        [
         "44",
         "tt10133856",
         "nm10597668"
        ],
        [
         "45",
         "tt10133856",
         "nm10384892"
        ],
        [
         "46",
         "tt10140002",
         "nm0104200"
        ],
        [
         "47",
         "tt10140002",
         "nm0104200"
        ],
        [
         "48",
         "tt10148094",
         "nm10604110"
        ],
        [
         "49",
         "tt10148094",
         "nm10593130"
        ]
       ],
       "shape": {
        "columns": 2,
        "rows": 255873
       }
      },
      "text/html": [
       "<div>\n",
       "<style scoped>\n",
       "    .dataframe tbody tr th:only-of-type {\n",
       "        vertical-align: middle;\n",
       "    }\n",
       "\n",
       "    .dataframe tbody tr th {\n",
       "        vertical-align: top;\n",
       "    }\n",
       "\n",
       "    .dataframe thead th {\n",
       "        text-align: right;\n",
       "    }\n",
       "</style>\n",
       "<table border=\"1\" class=\"dataframe\">\n",
       "  <thead>\n",
       "    <tr style=\"text-align: right;\">\n",
       "      <th></th>\n",
       "      <th>movie_id</th>\n",
       "      <th>person_id</th>\n",
       "    </tr>\n",
       "  </thead>\n",
       "  <tbody>\n",
       "    <tr>\n",
       "      <th>0</th>\n",
       "      <td>tt0285252</td>\n",
       "      <td>nm0899854</td>\n",
       "    </tr>\n",
       "    <tr>\n",
       "      <th>1</th>\n",
       "      <td>tt0438973</td>\n",
       "      <td>nm0175726</td>\n",
       "    </tr>\n",
       "    <tr>\n",
       "      <th>2</th>\n",
       "      <td>tt0438973</td>\n",
       "      <td>nm1802864</td>\n",
       "    </tr>\n",
       "    <tr>\n",
       "      <th>3</th>\n",
       "      <td>tt0462036</td>\n",
       "      <td>nm1940585</td>\n",
       "    </tr>\n",
       "    <tr>\n",
       "      <th>4</th>\n",
       "      <td>tt0835418</td>\n",
       "      <td>nm0310087</td>\n",
       "    </tr>\n",
       "    <tr>\n",
       "      <th>...</th>\n",
       "      <td>...</td>\n",
       "      <td>...</td>\n",
       "    </tr>\n",
       "    <tr>\n",
       "      <th>255868</th>\n",
       "      <td>tt8999892</td>\n",
       "      <td>nm10122246</td>\n",
       "    </tr>\n",
       "    <tr>\n",
       "      <th>255869</th>\n",
       "      <td>tt8999974</td>\n",
       "      <td>nm10122357</td>\n",
       "    </tr>\n",
       "    <tr>\n",
       "      <th>255870</th>\n",
       "      <td>tt9001390</td>\n",
       "      <td>nm6711477</td>\n",
       "    </tr>\n",
       "    <tr>\n",
       "      <th>255871</th>\n",
       "      <td>tt9004986</td>\n",
       "      <td>nm4993825</td>\n",
       "    </tr>\n",
       "    <tr>\n",
       "      <th>255872</th>\n",
       "      <td>tt9010172</td>\n",
       "      <td>nm8352242</td>\n",
       "    </tr>\n",
       "  </tbody>\n",
       "</table>\n",
       "<p>255873 rows × 2 columns</p>\n",
       "</div>"
      ],
      "text/plain": [
       "         movie_id   person_id\n",
       "0       tt0285252   nm0899854\n",
       "1       tt0438973   nm0175726\n",
       "2       tt0438973   nm1802864\n",
       "3       tt0462036   nm1940585\n",
       "4       tt0835418   nm0310087\n",
       "...           ...         ...\n",
       "255868  tt8999892  nm10122246\n",
       "255869  tt8999974  nm10122357\n",
       "255870  tt9001390   nm6711477\n",
       "255871  tt9004986   nm4993825\n",
       "255872  tt9010172   nm8352242\n",
       "\n",
       "[255873 rows x 2 columns]"
      ]
     },
     "execution_count": 410,
     "metadata": {},
     "output_type": "execute_result"
    }
   ],
   "source": [
    "writers = imdb_tables['writers']\n",
    "writers"
   ]
  },
  {
   "cell_type": "code",
   "execution_count": 411,
   "metadata": {},
   "outputs": [],
   "source": [
    "writers_cp = writers.copy(deep=True)\n",
    "\n",
    "people_merge1 = people_merge1.merge(writers_cp, on=['movie_id', 'person_id'], how='left')\n",
    "people_merge1 = people_merge1.drop_duplicates()"
   ]
  },
  {
   "cell_type": "code",
   "execution_count": 412,
   "metadata": {},
   "outputs": [
    {
     "data": {
      "application/vnd.microsoft.datawrangler.viewer.v0+json": {
       "columns": [
        {
         "name": "index",
         "rawType": "int64",
         "type": "integer"
        },
        {
         "name": "person_id",
         "rawType": "object",
         "type": "string"
        },
        {
         "name": "primary_name",
         "rawType": "object",
         "type": "string"
        },
        {
         "name": "primary_profession",
         "rawType": "object",
         "type": "unknown"
        },
        {
         "name": "movie_id",
         "rawType": "object",
         "type": "string"
        }
       ],
       "ref": "7e75b402-1f21-43aa-b87a-cce0020b8093",
       "rows": [
        [
         "0",
         "nm0062879",
         "Ruel S. Bayani",
         "director,production_manager,miscellaneous",
         "tt1592569"
        ],
        [
         "4",
         "nm0062879",
         "Ruel S. Bayani",
         "director,production_manager,miscellaneous",
         "tt8421806"
        ],
        [
         "6",
         "nm0062879",
         "Ruel S. Bayani",
         "director,production_manager,miscellaneous",
         "tt2057445"
        ],
        [
         "9",
         "nm0062879",
         "Ruel S. Bayani",
         "director,production_manager,miscellaneous",
         "tt2590280"
        ],
        [
         "10",
         "nm0064023",
         "Bryan Beasley",
         "director,producer,writer",
         "tt4512140"
        ],
        [
         "11",
         "nm0064023",
         "Bryan Beasley",
         "director,producer,writer",
         "tt3501180"
        ],
        [
         "12",
         "nm0066268",
         "Steve Mitchell Beebe",
         "editorial_department,director,editor",
         "tt5521860"
        ],
        [
         "13",
         "nm0067234",
         "Hans Beimler",
         "producer,writer,miscellaneous",
         "tt2098699"
        ],
        [
         "14",
         "nm0068874",
         "Hava Kohav Beller",
         "director,writer,producer",
         "tt7701650"
        ],
        [
         "15",
         "nm0070482",
         "Joel Bender",
         "editor,director,writer",
         "tt1016090"
        ],
        [
         "16",
         "nm0070482",
         "Joel Bender",
         "editor,director,writer",
         "tt3790232"
        ],
        [
         "20",
         "nm0075666",
         "Joe Berlinger",
         "producer,director,camera_department",
         "tt5151716"
        ],
        [
         "21",
         "nm0075666",
         "Joe Berlinger",
         "producer,director,camera_department",
         "tt2112868"
        ],
        [
         "22",
         "nm0075666",
         "Joe Berlinger",
         "producer,director,camera_department",
         "tt2028530"
        ],
        [
         "23",
         "nm0075666",
         "Joe Berlinger",
         "producer,director,camera_department",
         "tt2481498"
        ],
        [
         "25",
         "nm0075666",
         "Joe Berlinger",
         "producer,director,camera_department",
         "tt6794462"
        ],
        [
         "27",
         "nm0075666",
         "Joe Berlinger",
         "producer,director,camera_department",
         "tt4104086"
        ],
        [
         "31",
         "nm0075666",
         "Joe Berlinger",
         "producer,director,camera_department",
         "tt3326366"
        ],
        [
         "32",
         "nm0075666",
         "Joe Berlinger",
         "producer,director,camera_department",
         "tt3137552"
        ],
        [
         "33",
         "nm0077067",
         "Jamie Bernstein",
         "director,actress,writer",
         "tt4601198"
        ],
        [
         "34",
         "nm0077067",
         "Jamie Bernstein",
         "director,actress,writer",
         "tt3909442"
        ],
        [
         "35",
         "nm0080787",
         "Dusty Bias",
         "writer,director,producer",
         "tt4794754"
        ],
        [
         "36",
         "nm0080787",
         "Dusty Bias",
         "writer,director,producer",
         "tt1374996"
        ],
        [
         "39",
         "nm0082154",
         "Miro Bilbrough",
         "miscellaneous,director,writer",
         "tt2012110"
        ],
        [
         "40",
         "nm0083767",
         "Fernando Birri",
         "director,actor,writer",
         "tt1854526"
        ],
        [
         "43",
         "nm0086051",
         "Bob Blagden",
         "director,art_department,writer",
         "tt1712204"
        ],
        [
         "45",
         "nm0087933",
         "Jacek Blawut",
         "cinematographer,miscellaneous,director",
         "tt2508838"
        ],
        [
         "46",
         "nm0088531",
         "Ryan Bliss",
         "director,writer,producer",
         "tt6550978"
        ],
        [
         "47",
         "nm0088888",
         "Eric Blom",
         "director,camera_department,writer",
         "tt8407740"
        ],
        [
         "50",
         "nm0089850",
         "Lars Blumers",
         "director,writer,producer",
         "tt1825703"
        ],
        [
         "53",
         "nm0092526",
         "David Christopher Loya",
         "producer,director,writer",
         "tt10337122"
        ],
        [
         "54",
         "nm0094754",
         "Emmanuelle Bonmariage",
         "actress,director",
         "tt8322784"
        ],
        [
         "55",
         "nm0094756",
         "Manu Bonmariage",
         "cinematographer,director,camera_department",
         "tt5784900"
        ],
        [
         "56",
         "nm0094756",
         "Manu Bonmariage",
         "cinematographer,director,camera_department",
         "tt2462954"
        ],
        [
         "57",
         "nm0098545",
         "Marie Boti",
         "director,writer",
         "tt6668842"
        ],
        [
         "58",
         "nm0099797",
         "Pascal Bourdiaux",
         "director,editor",
         "tt5286268"
        ],
        [
         "66",
         "nm0099797",
         "Pascal Bourdiaux",
         "director,editor",
         "tt1437361"
        ],
        [
         "71",
         "nm0099797",
         "Pascal Bourdiaux",
         "director,editor",
         "tt5980746"
        ],
        [
         "73",
         "nm0099797",
         "Pascal Bourdiaux",
         "director,editor",
         "tt2836252"
        ],
        [
         "74",
         "nm0099841",
         "Gilles Bourdos",
         "writer,director",
         "tt2150332"
        ],
        [
         "78",
         "nm0099841",
         "Gilles Bourdos",
         "writer,director",
         "tt5539466"
        ],
        [
         "81",
         "nm0101047",
         "David Bowers",
         "animation_department,director,writer",
         "tt1650043"
        ],
        [
         "84",
         "nm0101047",
         "David Bowers",
         "animation_department,director,writer",
         "tt8716054"
        ],
        [
         "88",
         "nm0101047",
         "David Bowers",
         "animation_department,director,writer",
         "tt6003368"
        ],
        [
         "90",
         "nm0101047",
         "David Bowers",
         "animation_department,director,writer",
         "tt2023453"
        ],
        [
         "93",
         "nm0102070",
         "Manu Boyer",
         "director,writer,camera_department",
         "tt3227442"
        ],
        [
         "94",
         "nm0103187",
         "Dan Bradley",
         "stunts,assistant_director,actor",
         "tt1234719"
        ],
        [
         "98",
         "nm0104567",
         "Madeline Brandeis",
         "producer,director,writer",
         "tt7953946"
        ],
        [
         "101",
         "nm0105723",
         "Bettina Braun",
         "director,editor,writer",
         "tt9466900"
        ],
        [
         "102",
         "nm0109400",
         "Mariola Brillowska",
         "director,writer,actress",
         "tt1786454"
        ]
       ],
       "shape": {
        "columns": 4,
        "rows": 163533
       }
      },

      "text/html": [
       "<div>\n",
       "<style scoped>\n",
       "    .dataframe tbody tr th:only-of-type {\n",
       "        vertical-align: middle;\n",
       "    }\n",
       "\n",
       "    .dataframe tbody tr th {\n",
       "        vertical-align: top;\n",
       "    }\n",
       "\n",
       "    .dataframe thead th {\n",
       "        text-align: right;\n",
       "    }\n",
       "</style>\n",
       "<table border=\"1\" class=\"dataframe\">\n",
       "  <thead>\n",
       "    <tr style=\"text-align: right;\">\n",
       "      <th></th>\n",
       "      <th>person_id</th>\n",
       "      <th>primary_name</th>\n",
       "      <th>primary_profession</th>\n",
       "      <th>movie_id</th>\n",
       "    </tr>\n",
       "  </thead>\n",
       "  <tbody>\n",
       "    <tr>\n",
       "      <th>0</th>\n",
       "      <td>nm0062879</td>\n",
       "      <td>Ruel S. Bayani</td>\n",
       "      <td>director,production_manager,miscellaneous</td>\n",
       "      <td>tt1592569</td>\n",
       "    </tr>\n",
       "    <tr>\n",
       "      <th>4</th>\n",
       "      <td>nm0062879</td>\n",
       "      <td>Ruel S. Bayani</td>\n",
       "      <td>director,production_manager,miscellaneous</td>\n",
       "      <td>tt8421806</td>\n",
       "    </tr>\n",
       "    <tr>\n",
       "      <th>6</th>\n",
       "      <td>nm0062879</td>\n",
       "      <td>Ruel S. Bayani</td>\n",
       "      <td>director,production_manager,miscellaneous</td>\n",
       "      <td>tt2057445</td>\n",
       "    </tr>\n",
       "    <tr>\n",
       "      <th>9</th>\n",
       "      <td>nm0062879</td>\n",
       "      <td>Ruel S. Bayani</td>\n",
       "      <td>director,production_manager,miscellaneous</td>\n",
       "      <td>tt2590280</td>\n",
       "    </tr>\n",
       "    <tr>\n",
       "      <th>10</th>\n",
       "      <td>nm0064023</td>\n",
       "      <td>Bryan Beasley</td>\n",
       "      <td>director,producer,writer</td>\n",
       "      <td>tt4512140</td>\n",
       "    </tr>\n",
       "    <tr>\n",
       "      <th>...</th>\n",
       "      <td>...</td>\n",
       "      <td>...</td>\n",
       "      <td>...</td>\n",
       "      <td>...</td>\n",
       "    </tr>\n",
       "    <tr>\n",
       "      <th>1051232</th>\n",
       "      <td>nm9971456</td>\n",
       "      <td>Zheng Wei</td>\n",
       "      <td>director</td>\n",
       "      <td>tt8697720</td>\n",
       "    </tr>\n",
       "    <tr>\n",
       "      <th>1051233</th>\n",
       "      <td>nm9980896</td>\n",
       "      <td>Rama Narayanan</td>\n",
       "      <td>director,writer</td>\n",
       "      <td>tt8715016</td>\n",
       "    </tr>\n",
       "    <tr>\n",
       "      <th>1051235</th>\n",
       "      <td>nm9980896</td>\n",
       "      <td>Rama Narayanan</td>\n",
       "      <td>director,writer</td>\n",
       "      <td>tt8919136</td>\n",
       "    </tr>\n",
       "    <tr>\n",
       "      <th>1051236</th>\n",
       "      <td>nm9981679</td>\n",
       "      <td>Samir Eshra</td>\n",
       "      <td>director,writer,cinematographer</td>\n",
       "      <td>tt8717234</td>\n",
       "    </tr>\n",
       "    <tr>\n",
       "      <th>1051237</th>\n",
       "      <td>nm9993380</td>\n",
       "      <td>Pegasus Envoyé</td>\n",
       "      <td>director,actor,writer</td>\n",
       "      <td>tt8743182</td>\n",
       "    </tr>\n",
       "  </tbody>\n",
       "</table>\n",
       "<p>163533 rows × 4 columns</p>\n",
       "</div>"
      ],
      "text/plain": [
       "         person_id    primary_name                         primary_profession  \\\n",
       "0        nm0062879  Ruel S. Bayani  director,production_manager,miscellaneous   \n",
       "4        nm0062879  Ruel S. Bayani  director,production_manager,miscellaneous   \n",
       "6        nm0062879  Ruel S. Bayani  director,production_manager,miscellaneous   \n",
       "9        nm0062879  Ruel S. Bayani  director,production_manager,miscellaneous   \n",
       "10       nm0064023   Bryan Beasley                   director,producer,writer   \n",
       "...            ...             ...                                        ...   \n",
       "1051232  nm9971456       Zheng Wei                                   director   \n",
       "1051233  nm9980896  Rama Narayanan                            director,writer   \n",
       "1051235  nm9980896  Rama Narayanan                            director,writer   \n",
       "1051236  nm9981679     Samir Eshra            director,writer,cinematographer   \n",
       "1051237  nm9993380  Pegasus Envoyé                      director,actor,writer   \n",
       "\n",
       "          movie_id  \n",
       "0        tt1592569  \n",
       "4        tt8421806  \n",
       "6        tt2057445  \n",
       "9        tt2590280  \n",
       "10       tt4512140  \n",
       "...            ...  \n",
       "1051232  tt8697720  \n",
       "1051233  tt8715016  \n",
       "1051235  tt8919136  \n",
       "1051236  tt8717234  \n",
       "1051237  tt8743182  \n",
       "\n",
       "[163533 rows x 4 columns]"
      ]
     },
     "execution_count": 412,
     "metadata": {},
     "output_type": "execute_result"
    }
   ],
   "source": [
    "people_merge1"
   ]
  },
  {
   "cell_type": "code",
   "execution_count": 413,
   "metadata": {},
   "outputs": [
    {
     "data": {
      "application/vnd.microsoft.datawrangler.viewer.v0+json": {
       "columns": [
        {
         "name": "index",
         "rawType": "int64",
         "type": "integer"
        },
        {
         "name": "movie_id",
         "rawType": "object",
         "type": "string"
        },
        {
         "name": "primary_title",
         "rawType": "object",
         "type": "string"
        },
        {
         "name": "original_title",
         "rawType": "object",
         "type": "string"
        },
        {
         "name": "start_year",
         "rawType": "int64",
         "type": "integer"
        },
        {
         "name": "runtime_minutes",
         "rawType": "float64",
         "type": "float"
        },
        {
         "name": "genres",
         "rawType": "object",
         "type": "string"
        },
        {
         "name": "averagerating",
         "rawType": "float64",
         "type": "float"
        },
        {
         "name": "numvotes",
         "rawType": "int64",
         "type": "integer"
        },
        {
         "name": "ordering",
         "rawType": "int64",
         "type": "integer"
        },
        {
         "name": "region_title",
         "rawType": "object",
         "type": "string"
        },
        {
         "name": "region",
         "rawType": "object",
         "type": "unknown"
        },
        {
         "name": "person_id",
         "rawType": "object",
         "type": "unknown"
        },
        {
         "name": "primary_name",
         "rawType": "object",
         "type": "unknown"
        },
        {
         "name": "primary_profession",
         "rawType": "object",
         "type": "unknown"
        }
       ],
       "ref": "100e793a-02f3-43e0-809b-a16f32b6b341",
       "rows": [
        [
         "0",
         "tt0066787",
         "One Day Before the Rainy Season",
         "Ashad Ka Ek Din",
         "2019",
         "114.0",
         "Biography,Drama",
         "7.2",
         "43",
         "1",
         "One Day Before the Rainy Season",
         "XWW",
         "nm0002411",
         "Mani Kaul",
         "director,writer,actor"
        ],
        [
         "1",
         "tt0066787",
         "One Day Before the Rainy Season",
         "Ashad Ka Ek Din",
         "2019",
         "114.0",
         "Biography,Drama",
         "7.2",
         "43",
         "2",
         "Ashad Ka Ek Din",
         "IN",
         "nm0002411",
         "Mani Kaul",
         "director,writer,actor"
        ],
        [
         "2",
         "tt0066787",
         "One Day Before the Rainy Season",
         "Ashad Ka Ek Din",
         "2019",
         "114.0",
         "Biography,Drama",
         "7.2",
         "43",
         "3",
         "One Monsoon Day",
         null,
         "nm0002411",
         "Mani Kaul",
         "director,writer,actor"
        ],
        [
         "3",
         "tt0066787",
         "One Day Before the Rainy Season",
         "Ashad Ka Ek Din",
         "2019",
         "114.0",
         "Biography,Drama",
         "7.2",
         "43",
         "4",
         "Ashad Ka Ek Din",
         null,
         "nm0002411",
         "Mani Kaul",
         "director,writer,actor"
        ],
        [
         "4",
         "tt0069049",
         "The Other Side of the Wind",
         "The Other Side of the Wind",
         "2018",
         "122.0",
         "Drama",
         "6.9",
         "4517",
         "10",
         "La otra cara del viento",
         "VE",
         "nm0000080",
         "Orson Welles",
         "actor,director,writer"
        ],
        [
         "5",
         "tt0069049",
         "The Other Side of the Wind",
         "The Other Side of the Wind",
         "2018",
         "122.0",
         "Drama",
         "6.9",
         "4517",
         "11",
         "Druga strona wiatru",
         "PL",
         "nm0000080",
         "Orson Welles",
         "actor,director,writer"
        ],
        [
         "6",
         "tt0069049",
         "The Other Side of the Wind",
         "The Other Side of the Wind",
         "2018",
         "122.0",
         "Drama",
         "6.9",
         "4517",
         "12",
         "The Other Side of the Wind",
         "DE",
         "nm0000080",
         "Orson Welles",
         "actor,director,writer"
        ],
        [
         "7",
         "tt0069049",
         "The Other Side of the Wind",
         "The Other Side of the Wind",
         "2018",
         "122.0",
         "Drama",
         "6.9",
         "4517",
         "13",
         "O Outro Lado do Vento",
         "PT",
         "nm0000080",
         "Orson Welles",
         "actor,director,writer"
        ],
        [
         "8",
         "tt0069049",
         "The Other Side of the Wind",
         "The Other Side of the Wind",
         "2018",
         "122.0",
         "Drama",
         "6.9",
         "4517",
         "1",
         "O Outro Lado do Vento",
         "BR",
         "nm0000080",
         "Orson Welles",
         "actor,director,writer"
        ],
        [
         "9",
         "tt0069049",
         "The Other Side of the Wind",
         "The Other Side of the Wind",
         "2018",
         "122.0",
         "Drama",
         "6.9",
         "4517",
         "2",
         "The Other Side of the Wind",
         "US",
         "nm0000080",
         "Orson Welles",
         "actor,director,writer"
        ],
        [
         "10",
         "tt0069049",
         "The Other Side of the Wind",
         "The Other Side of the Wind",
         "2018",
         "122.0",
         "Drama",
         "6.9",
         "4517",
         "3",
         "The Other Side of the Wind",
         "GB",
         "nm0000080",
         "Orson Welles",
         "actor,director,writer"
        ],
        [
         "11",
         "tt0069049",
         "The Other Side of the Wind",
         "The Other Side of the Wind",
         "2018",
         "122.0",
         "Drama",
         "6.9",
         "4517",
         "4",
         "L'altra faccia del vento",
         "IT",
         "nm0000080",
         "Orson Welles",
         "actor,director,writer"
        ],
        [
         "12",
         "tt0069049",
         "The Other Side of the Wind",
         "The Other Side of the Wind",
         "2018",
         "122.0",
         "Drama",
         "6.9",
         "4517",
         "5",
         "Другая сторона ветра",
         "RU",
         "nm0000080",
         "Orson Welles",
         "actor,director,writer"
        ],
        [
         "13",
         "tt0069049",
         "The Other Side of the Wind",
         "The Other Side of the Wind",
         "2018",
         "122.0",
         "Drama",
         "6.9",
         "4517",
         "6",
         "Al otro lado del viento",
         "AR",
         "nm0000080",
         "Orson Welles",
         "actor,director,writer"
        ],
        [
         "14",
         "tt0069049",
         "The Other Side of the Wind",
         "The Other Side of the Wind",
         "2018",
         "122.0",
         "Drama",
         "6.9",
         "4517",
         "7",
         "Al otro lado del viento",
         "ES",
         "nm0000080",
         "Orson Welles",
         "actor,director,writer"
        ],
        [
         "15",
         "tt0069049",
         "The Other Side of the Wind",
         "The Other Side of the Wind",
         "2018",
         "122.0",
         "Drama",
         "6.9",
         "4517",
         "8",
         "The Other Side of the Wind",
         null,
         "nm0000080",
         "Orson Welles",
         "actor,director,writer"
        ],
        [
         "16",
         "tt0069049",
         "The Other Side of the Wind",
         "The Other Side of the Wind",
         "2018",
         "122.0",
         "Drama",
         "6.9",
         "4517",
         "9",
         "De l'autre côté du vent",
         "FR",
         "nm0000080",
         "Orson Welles",
         "actor,director,writer"
        ],
        [
         "17",
         "tt0069204",
         "Sabse Bada Sukh",
         "Sabse Bada Sukh",
         "2018",
         "87.0",
         "Comedy,Drama",
         "6.1",
         "13",
         "1",
         "Subse Bada Sukh",
         "IN",
         "nm0611531",
         "Hrishikesh Mukherjee",
         "director,editor,writer"
        ],
        [
         "18",
         "tt0069204",
         "Sabse Bada Sukh",
         "Sabse Bada Sukh",
         "2018",
         "87.0",
         "Comedy,Drama",
         "6.1",
         "13",
         "2",
         "The Greatest Happiness",
         "IN",
         "nm0611531",
         "Hrishikesh Mukherjee",
         "director,editor,writer"
        ],
        [
         "19",
         "tt0069204",
         "Sabse Bada Sukh",
         "Sabse Bada Sukh",
         "2018",
         "87.0",
         "Comedy,Drama",
         "6.1",
         "13",
         "3",
         "Sabse Bada Sukh",
         null,
         "nm0611531",
         "Hrishikesh Mukherjee",
         "director,editor,writer"
        ],
        [
         "20",
         "tt0100275",
         "The Wandering Soap Opera",
         "La Telenovela Errante",
         "2017",
         "80.0",
         "Comedy,Drama,Fantasy",
         "6.5",
         "119",
         "1",
         "La Telenovela Errante",
         null,
         "nm0749914",
         "Raoul Ruiz",
         "director,writer,producer"
        ],
        [
         "21",
         "tt0100275",
         "The Wandering Soap Opera",
         "La Telenovela Errante",
         "2017",
         "80.0",
         "Comedy,Drama,Fantasy",
         "6.5",
         "119",
         "1",
         "La Telenovela Errante",
         null,
         "nm0765384",
         "Valeria Sarmiento",
         "editor,director,writer"
        ],
        [
         "22",
         "tt0100275",
         "The Wandering Soap Opera",
         "La Telenovela Errante",
         "2017",
         "80.0",
         "Comedy,Drama,Fantasy",
         "6.5",
         "119",
         "2",
         "The Wandering Soap Opera",
         "XWW",
         "nm0749914",
         "Raoul Ruiz",
         "director,writer,producer"
        ],
        [
         "23",
         "tt0100275",
         "The Wandering Soap Opera",
         "La Telenovela Errante",
         "2017",
         "80.0",
         "Comedy,Drama,Fantasy",
         "6.5",
         "119",
         "2",
         "The Wandering Soap Opera",
         "XWW",
         "nm0765384",
         "Valeria Sarmiento",
         "editor,director,writer"
        ],
        [
         "24",
         "tt0100275",
         "The Wandering Soap Opera",
         "La Telenovela Errante",
         "2017",
         "80.0",
         "Comedy,Drama,Fantasy",
         "6.5",
         "119",
         "3",
         "La Telenovela Errante",
         "CL",
         "nm0749914",
         "Raoul Ruiz",
         "director,writer,producer"
        ],
        [
         "25",
         "tt0100275",
         "The Wandering Soap Opera",
         "La Telenovela Errante",
         "2017",
         "80.0",
         "Comedy,Drama,Fantasy",
         "6.5",
         "119",
         "3",
         "La Telenovela Errante",
         "CL",
         "nm0765384",
         "Valeria Sarmiento",
         "editor,director,writer"
        ],
        [
         "26",
         "tt0100275",
         "The Wandering Soap Opera",
         "La Telenovela Errante",
         "2017",
         "80.0",
         "Comedy,Drama,Fantasy",
         "6.5",
         "119",
         "4",
         "La novela errante",
         "CL",
         "nm0749914",
         "Raoul Ruiz",
         "director,writer,producer"
        ],
        [
         "27",
         "tt0100275",
         "The Wandering Soap Opera",
         "La Telenovela Errante",
         "2017",
         "80.0",
         "Comedy,Drama,Fantasy",
         "6.5",
         "119",
         "4",
         "La novela errante",
         "CL",
         "nm0765384",
         "Valeria Sarmiento",
         "editor,director,writer"
        ],
        [
         "28",
         "tt0100275",
         "The Wandering Soap Opera",
         "La Telenovela Errante",
         "2017",
         "80.0",
         "Comedy,Drama,Fantasy",
         "6.5",
         "119",
         "5",
         "Objazdowa opera mydlana",
         "PL",
         "nm0749914",
         "Raoul Ruiz",
         "director,writer,producer"
        ],
        [
         "29",
         "tt0100275",
         "The Wandering Soap Opera",
         "La Telenovela Errante",
         "2017",
         "80.0",
         "Comedy,Drama,Fantasy",
         "6.5",
         "119",
         "5",
         "Objazdowa opera mydlana",
         "PL",
         "nm0765384",
         "Valeria Sarmiento",
         "editor,director,writer"
        ],
        [
         "30",
         "tt0112502",
         "Bigfoot",
         "Bigfoot",
         "2017",
         "87.0",
         "Horror,Thriller",
         "4.1",
         "32",
         "1",
         "Bigfoot",
         "US",
         "nm6883878",
         "Mc Jones",
         "actor,director"
        ],
        [
         "31",
         "tt0137204",
         "Joe Finds Grace",
         "Joe Finds Grace",
         "2017",
         "83.0",
         "Adventure,Animation,Comedy",
         "8.1",
         "263",
         "1",
         "Joe Finds Grace",
         "CA",
         "nm0365480",
         "Anthony Harrison",
         "actor,writer,producer"
        ],
        [
         "32",
         "tt0137204",
         "Joe Finds Grace",
         "Joe Finds Grace",
         "2017",
         "83.0",
         "Adventure,Animation,Comedy",
         "8.1",
         "263",
         "2",
         "Elephant Joe",
         null,
         "nm0365480",
         "Anthony Harrison",
         "actor,writer,producer"
        ],
        [
         "33",
         "tt0137204",
         "Joe Finds Grace",
         "Joe Finds Grace",
         "2017",
         "83.0",
         "Adventure,Animation,Comedy",
         "8.1",
         "263",
         "3",
         "Joe Finds Grace",
         null,
         "nm0365480",
         "Anthony Harrison",
         "actor,writer,producer"
        ],
        [
         "34",
         "tt0137204",
         "Joe Finds Grace",
         "Joe Finds Grace",
         "2017",
         "83.0",
         "Adventure,Animation,Comedy",
         "8.1",
         "263",
         "4",
         "Saving Grace",
         null,
         "nm0365480",
         "Anthony Harrison",
         "actor,writer,producer"
        ],
        [
         "35",
         "tt0146592",
         "Pál Adrienn",
         "Pál Adrienn",
         "2010",
         "136.0",
         "Drama",
         "6.8",
         "451",
         "1",
         "Adrienn Pal",
         "PL",
         "nm1030585",
         "Ágnes Kocsis",
         "director,writer,producer"
        ],
        [
         "36",
         "tt0146592",
         "Pál Adrienn",
         "Pál Adrienn",
         "2010",
         "136.0",
         "Drama",
         "6.8",
         "451",
         "2",
         "Адриен Пал",
         "BG",
         "nm1030585",
         "Ágnes Kocsis",
         "director,writer,producer"
        ],
        [
         "37",
         "tt0146592",
         "Pál Adrienn",
         "Pál Adrienn",
         "2010",
         "136.0",
         "Drama",
         "6.8",
         "451",
         "3",
         "Pal Adrienn",
         "HR",
         "nm1030585",
         "Ágnes Kocsis",
         "director,writer,producer"
        ],
        [
         "38",
         "tt0146592",
         "Pál Adrienn",
         "Pál Adrienn",
         "2010",
         "136.0",
         "Drama",
         "6.8",
         "451",
         "4",
         "Pál Adrienn",
         "HU",
         "nm1030585",
         "Ágnes Kocsis",
         "director,writer,producer"
        ],
        [
         "39",
         "tt0146592",
         "Pál Adrienn",
         "Pál Adrienn",
         "2010",
         "136.0",
         "Drama",
         "6.8",
         "451",
         "5",
         "Adrienn Pál",
         "SE",
         "nm1030585",
         "Ágnes Kocsis",
         "director,writer,producer"
        ],
        [
         "40",
         "tt0146592",
         "Pál Adrienn",
         "Pál Adrienn",
         "2010",
         "136.0",
         "Drama",
         "6.8",
         "451",
         "6",
         "Pál Adrienn",
         null,
         "nm1030585",
         "Ágnes Kocsis",
         "director,writer,producer"
        ],
        [
         "41",
         "tt0154039",
         "So Much for Justice!",
         "Oda az igazság",
         "2010",
         "100.0",
         "History",
         "4.6",
         "64",
         "1",
         "Oda az igazság",
         null,
         "nm0417352",
         "Miklós Jancsó",
         "director,writer,actor"
        ],
        [
         "42",
         "tt0154039",
         "So Much for Justice!",
         "Oda az igazság",
         "2010",
         "100.0",
         "History",
         "4.6",
         "64",
         "2",
         "Oda az igazság",
         "HU",
         "nm0417352",
         "Miklós Jancsó",
         "director,writer,actor"
        ],
        [
         "43",
         "tt0154039",
         "So Much for Justice!",
         "Oda az igazság",
         "2010",
         "100.0",
         "History",
         "4.6",
         "64",
         "3",
         "C'est la vérité",
         "FR",
         "nm0417352",
         "Miklós Jancsó",
         "director,writer,actor"
        ],
        [
         "44",
         "tt0154039",
         "So Much for Justice!",
         "Oda az igazság",
         "2010",
         "100.0",
         "History",
         "4.6",
         "64",
         "4",
         "So Much for Justice!",
         "XWW",
         "nm0417352",
         "Miklós Jancsó",
         "director,writer,actor"
        ],
        [
         "45",
         "tt0154039",
         "So Much for Justice!",
         "Oda az igazság",
         "2010",
         "100.0",
         "History",
         "4.6",
         "64",
         "5",
         "So Much for Justice",
         "FR",
         "nm0417352",
         "Miklós Jancsó",
         "director,writer,actor"
        ],
        [
         "46",
         "tt0154039",
         "So Much for Justice!",
         "Oda az igazság",
         "2010",
         "100.0",
         "History",
         "4.6",
         "64",
         "6",
         "Szlag trafil sprawiedliwosc",
         "PL",
         "nm0417352",
         "Miklós Jancsó",
         "director,writer,actor"
        ],
        [
         "47",
         "tt0162942",
         "Children of the Green Dragon",
         "A zöld sárkány gyermekei",
         "2010",
         "89.0",
         "Drama",
         "6.9",
         "120",
         "1",
         "Dzieci Zielonego Smoka",
         "PL",
         "nm1207262",
         "Bence Miklauzic",
         "director,writer,assistant_director"
        ],
        [
         "48",
         "tt0162942",
         "Children of the Green Dragon",
         "A zöld sárkány gyermekei",
         "2010",
         "89.0",
         "Drama",
         "6.9",
         "120",
         "2",
         "A zöld sárkány gyermekei",
         "HU",
         "nm1207262",
         "Bence Miklauzic",
         "director,writer,assistant_director"
        ],
        [
         "49",
         "tt0162942",
         "Children of the Green Dragon",
         "A zöld sárkány gyermekei",
         "2010",
         "89.0",
         "Drama",
         "6.9",
         "120",
         "3",
         "A zöld sárkány gyermekei",
         null,
         "nm1207262",
         "Bence Miklauzic",
         "director,writer,assistant_director"
        ]
       ],
       "shape": {
        "columns": 14,
        "rows": 296299
       }
      },

      "text/html": [
       "<div>\n",
       "<style scoped>\n",
       "    .dataframe tbody tr th:only-of-type {\n",
       "        vertical-align: middle;\n",
       "    }\n",
       "\n",
       "    .dataframe tbody tr th {\n",
       "        vertical-align: top;\n",
       "    }\n",
       "\n",
       "    .dataframe thead th {\n",
       "        text-align: right;\n",
       "    }\n",
       "</style>\n",
       "<table border=\"1\" class=\"dataframe\">\n",
       "  <thead>\n",
       "    <tr style=\"text-align: right;\">\n",
       "      <th></th>\n",
       "      <th>movie_id</th>\n",
       "      <th>primary_title</th>\n",
       "      <th>original_title</th>\n",
       "      <th>start_year</th>\n",
       "      <th>runtime_minutes</th>\n",
       "      <th>genres</th>\n",
       "      <th>averagerating</th>\n",
       "      <th>numvotes</th>\n",
       "      <th>ordering</th>\n",
       "      <th>region_title</th>\n",
       "      <th>region</th>\n",
       "      <th>person_id</th>\n",
       "      <th>primary_name</th>\n",
       "      <th>primary_profession</th>\n",
       "    </tr>\n",
       "  </thead>\n",
       "  <tbody>\n",
       "    <tr>\n",
       "      <th>0</th>\n",
       "      <td>tt0066787</td>\n",
       "      <td>One Day Before the Rainy Season</td>\n",
       "      <td>Ashad Ka Ek Din</td>\n",
       "      <td>2019</td>\n",
       "      <td>114.0</td>\n",
       "      <td>Biography,Drama</td>\n",
       "      <td>7.2</td>\n",
       "      <td>43</td>\n",
       "      <td>1</td>\n",
       "      <td>One Day Before the Rainy Season</td>\n",
       "      <td>XWW</td>\n",
       "      <td>nm0002411</td>\n",
       "      <td>Mani Kaul</td>\n",
       "      <td>director,writer,actor</td>\n",
       "    </tr>\n",
       "    <tr>\n",
       "      <th>1</th>\n",
       "      <td>tt0066787</td>\n",
       "      <td>One Day Before the Rainy Season</td>\n",
       "      <td>Ashad Ka Ek Din</td>\n",
       "      <td>2019</td>\n",
       "      <td>114.0</td>\n",
       "      <td>Biography,Drama</td>\n",
       "      <td>7.2</td>\n",
       "      <td>43</td>\n",
       "      <td>2</td>\n",
       "      <td>Ashad Ka Ek Din</td>\n",
       "      <td>IN</td>\n",
       "      <td>nm0002411</td>\n",
       "      <td>Mani Kaul</td>\n",
       "      <td>director,writer,actor</td>\n",
       "    </tr>\n",
       "    <tr>\n",
       "      <th>2</th>\n",
       "      <td>tt0066787</td>\n",
       "      <td>One Day Before the Rainy Season</td>\n",
       "      <td>Ashad Ka Ek Din</td>\n",
       "      <td>2019</td>\n",
       "      <td>114.0</td>\n",
       "      <td>Biography,Drama</td>\n",
       "      <td>7.2</td>\n",
       "      <td>43</td>\n",
       "      <td>3</td>\n",
       "      <td>One Monsoon Day</td>\n",
       "      <td>None</td>\n",
       "      <td>nm0002411</td>\n",
       "      <td>Mani Kaul</td>\n",
       "      <td>director,writer,actor</td>\n",
       "    </tr>\n",
       "    <tr>\n",
       "      <th>3</th>\n",
       "      <td>tt0066787</td>\n",
       "      <td>One Day Before the Rainy Season</td>\n",
       "      <td>Ashad Ka Ek Din</td>\n",
       "      <td>2019</td>\n",
       "      <td>114.0</td>\n",
       "      <td>Biography,Drama</td>\n",
       "      <td>7.2</td>\n",
       "      <td>43</td>\n",
       "      <td>4</td>\n",
       "      <td>Ashad Ka Ek Din</td>\n",
       "      <td>None</td>\n",
       "      <td>nm0002411</td>\n",
       "      <td>Mani Kaul</td>\n",
       "      <td>director,writer,actor</td>\n",
       "    </tr>\n",
       "    <tr>\n",
       "      <th>4</th>\n",
       "      <td>tt0069049</td>\n",
       "      <td>The Other Side of the Wind</td>\n",
       "      <td>The Other Side of the Wind</td>\n",
       "      <td>2018</td>\n",
       "      <td>122.0</td>\n",
       "      <td>Drama</td>\n",
       "      <td>6.9</td>\n",
       "      <td>4517</td>\n",
       "      <td>10</td>\n",
       "      <td>La otra cara del viento</td>\n",
       "      <td>VE</td>\n",
       "      <td>nm0000080</td>\n",
       "      <td>Orson Welles</td>\n",
       "      <td>actor,director,writer</td>\n",
       "    </tr>\n",
       "    <tr>\n",
       "      <th>...</th>\n",
       "      <td>...</td>\n",
       "      <td>...</td>\n",
       "      <td>...</td>\n",
       "      <td>...</td>\n",
       "      <td>...</td>\n",
       "      <td>...</td>\n",
       "      <td>...</td>\n",
       "      <td>...</td>\n",
       "      <td>...</td>\n",
       "      <td>...</td>\n",
       "      <td>...</td>\n",
       "      <td>...</td>\n",
       "      <td>...</td>\n",
       "      <td>...</td>\n",
       "    </tr>\n",
       "    <tr>\n",
       "      <th>296294</th>\n",
       "      <td>tt9905462</td>\n",
       "      <td>Pengalila</td>\n",
       "      <td>Pengalila</td>\n",
       "      <td>2019</td>\n",
       "      <td>111.0</td>\n",
       "      <td>Drama</td>\n",
       "      <td>8.4</td>\n",
       "      <td>600</td>\n",
       "      <td>2</td>\n",
       "      <td>Sisterleaf</td>\n",
       "      <td>IN</td>\n",
       "      <td>nm0151535</td>\n",
       "      <td>T.V. Chandran</td>\n",
       "      <td>director,writer,actor</td>\n",
       "    </tr>\n",
       "    <tr>\n",
       "      <th>296295</th>\n",
       "      <td>tt9905462</td>\n",
       "      <td>Pengalila</td>\n",
       "      <td>Pengalila</td>\n",
       "      <td>2019</td>\n",
       "      <td>111.0</td>\n",
       "      <td>Drama</td>\n",
       "      <td>8.4</td>\n",
       "      <td>600</td>\n",
       "      <td>3</td>\n",
       "      <td>Pengalila</td>\n",
       "      <td>IN</td>\n",
       "      <td>nm0151535</td>\n",
       "      <td>T.V. Chandran</td>\n",
       "      <td>director,writer,actor</td>\n",
       "    </tr>\n",
       "    <tr>\n",
       "      <th>296296</th>\n",
       "      <td>tt9911774</td>\n",
       "      <td>Padmavyuhathile Abhimanyu</td>\n",
       "      <td>Padmavyuhathile Abhimanyu</td>\n",
       "      <td>2019</td>\n",
       "      <td>130.0</td>\n",
       "      <td>Drama</td>\n",
       "      <td>8.4</td>\n",
       "      <td>365</td>\n",
       "      <td>1</td>\n",
       "      <td>Padmavyuhathile Abhimanyu</td>\n",
       "      <td>None</td>\n",
       "      <td>nm10536451</td>\n",
       "      <td>Vineesh Aaradya</td>\n",
       "      <td>writer,director</td>\n",
       "    </tr>\n",
       "    <tr>\n",
       "      <th>296297</th>\n",
       "      <td>tt9911774</td>\n",
       "      <td>Padmavyuhathile Abhimanyu</td>\n",
       "      <td>Padmavyuhathile Abhimanyu</td>\n",
       "      <td>2019</td>\n",
       "      <td>130.0</td>\n",
       "      <td>Drama</td>\n",
       "      <td>8.4</td>\n",
       "      <td>365</td>\n",
       "      <td>2</td>\n",
       "      <td>Pathmavyuhathile Abhimanyu</td>\n",
       "      <td>IN</td>\n",
       "      <td>nm10536451</td>\n",
       "      <td>Vineesh Aaradya</td>\n",
       "      <td>writer,director</td>\n",
       "    </tr>\n",
       "    <tr>\n",
       "      <th>296298</th>\n",
       "      <td>tt9911774</td>\n",
       "      <td>Padmavyuhathile Abhimanyu</td>\n",
       "      <td>Padmavyuhathile Abhimanyu</td>\n",
       "      <td>2019</td>\n",
       "      <td>130.0</td>\n",
       "      <td>Drama</td>\n",
       "      <td>8.4</td>\n",
       "      <td>365</td>\n",
       "      <td>3</td>\n",
       "      <td>Padmavyoohathile Abhimanyu</td>\n",
       "      <td>IN</td>\n",
       "      <td>nm10536451</td>\n",
       "      <td>Vineesh Aaradya</td>\n",
       "      <td>writer,director</td>\n",
       "    </tr>\n",
       "  </tbody>\n",
       "</table>\n",
       "<p>296299 rows × 14 columns</p>\n",
       "</div>"
      ],
      "text/plain": [
       "         movie_id                    primary_title  \\\n",
       "0       tt0066787  One Day Before the Rainy Season   \n",
       "1       tt0066787  One Day Before the Rainy Season   \n",
       "2       tt0066787  One Day Before the Rainy Season   \n",
       "3       tt0066787  One Day Before the Rainy Season   \n",
       "4       tt0069049       The Other Side of the Wind   \n",
       "...           ...                              ...   \n",
       "296294  tt9905462                        Pengalila   \n",
       "296295  tt9905462                        Pengalila   \n",
       "296296  tt9911774        Padmavyuhathile Abhimanyu   \n",
       "296297  tt9911774        Padmavyuhathile Abhimanyu   \n",
       "296298  tt9911774        Padmavyuhathile Abhimanyu   \n",
       "\n",
       "                    original_title  start_year  runtime_minutes  \\\n",
       "0                  Ashad Ka Ek Din        2019            114.0   \n",
       "1                  Ashad Ka Ek Din        2019            114.0   \n",
       "2                  Ashad Ka Ek Din        2019            114.0   \n",
       "3                  Ashad Ka Ek Din        2019            114.0   \n",
       "4       The Other Side of the Wind        2018            122.0   \n",
       "...                            ...         ...              ...   \n",
       "296294                   Pengalila        2019            111.0   \n",
       "296295                   Pengalila        2019            111.0   \n",
       "296296   Padmavyuhathile Abhimanyu        2019            130.0   \n",
       "296297   Padmavyuhathile Abhimanyu        2019            130.0   \n",
       "296298   Padmavyuhathile Abhimanyu        2019            130.0   \n",
       "\n",
       "                 genres  averagerating  numvotes  ordering  \\\n",
       "0       Biography,Drama            7.2        43         1   \n",
       "1       Biography,Drama            7.2        43         2   \n",
       "2       Biography,Drama            7.2        43         3   \n",
       "3       Biography,Drama            7.2        43         4   \n",
       "4                 Drama            6.9      4517        10   \n",
       "...                 ...            ...       ...       ...   \n",
       "296294            Drama            8.4       600         2   \n",
       "296295            Drama            8.4       600         3   \n",
       "296296            Drama            8.4       365         1   \n",
       "296297            Drama            8.4       365         2   \n",
       "296298            Drama            8.4       365         3   \n",
       "\n",
       "                           region_title region   person_id     primary_name  \\\n",
       "0       One Day Before the Rainy Season    XWW   nm0002411        Mani Kaul   \n",
       "1                       Ashad Ka Ek Din     IN   nm0002411        Mani Kaul   \n",
       "2                       One Monsoon Day   None   nm0002411        Mani Kaul   \n",
       "3                       Ashad Ka Ek Din   None   nm0002411        Mani Kaul   \n",
       "4               La otra cara del viento     VE   nm0000080     Orson Welles   \n",
       "...                                 ...    ...         ...              ...   \n",
       "296294                       Sisterleaf     IN   nm0151535    T.V. Chandran   \n",
       "296295                        Pengalila     IN   nm0151535    T.V. Chandran   \n",
       "296296        Padmavyuhathile Abhimanyu   None  nm10536451  Vineesh Aaradya   \n",
       "296297       Pathmavyuhathile Abhimanyu     IN  nm10536451  Vineesh Aaradya   \n",
       "296298       Padmavyoohathile Abhimanyu     IN  nm10536451  Vineesh Aaradya   \n",
       "\n",
       "           primary_profession  \n",
       "0       director,writer,actor  \n",
       "1       director,writer,actor  \n",
       "2       director,writer,actor  \n",
       "3       director,writer,actor  \n",
       "4       actor,director,writer  \n",
       "...                       ...  \n",
       "296294  director,writer,actor  \n",
       "296295  director,writer,actor  \n",
       "296296        writer,director  \n",
       "296297        writer,director  \n",
       "296298        writer,director  \n",
       "\n",
       "[296299 rows x 14 columns]"
      ]
     },
     "execution_count": 413,
     "metadata": {},
     "output_type": "execute_result"
    }
   ],
   "source": [
    "final_df = movie_merge.merge(people_merge1, on='movie_id', how='left')\n",
    "final_df"
   ]
  },
  {
   "cell_type": "code",
   "execution_count": 35,
   "metadata": {},
   "outputs": [
    {
     "name": "stdout",
     "output_type": "stream",
     "text": [
      "Index(['movie_id', 'movie_title', 'original_title', 'release_year',\n",
      "       'runtime_min', 'genres', 'imdb_rating', 'imdb_votes', 'alt_title',\n",
      "       'release_region', 'person_id', 'person_name', 'person_profession'],\n",
      "      dtype='object')\n"
     ]
    }
   ],
   "source": [
    "final_df.columns\n",
    "\n",
    "final_df = final_df.rename(columns={\n",
    "    'movie_id': 'movie_id',\n",
    "    'primary_title': 'movie_title',\n",
    "    'original_title': 'original_title',\n",
    "    'start_year': 'release_year',\n",
    "    'runtime_minutes': 'runtime_min',\n",
    "    'genres': 'genres',\n",
    "    'averagerating': 'imdb_rating',\n",
    "    'numvotes': 'imdb_votes',\n",
    "    'region_title': 'alt_title',\n",
    "    'region': 'release_region',\n",
    "    'person_id': 'person_id',\n",
    "    'primary_name': 'person_name',\n",
    "    'primary_profession': 'person_profession'\n",
    "})\n",
    "\n",
    "final_df = final_df.drop(columns='ordering')\n",
    "\n",
    "print(final_df.columns)\n"
   ]
  },
  {
   "cell_type": "code",
   "execution_count": 36,
   "metadata": {},
   "outputs": [
    {
     "data": {
      "application/vnd.microsoft.datawrangler.viewer.v0+json": {
       "columns": [
        {
         "name": "index",
         "rawType": "int64",
         "type": "integer"
        },
        {
         "name": "movie_id",
         "rawType": "object",
         "type": "string"
        },
        {
         "name": "movie_title",
         "rawType": "object",
         "type": "string"
        },
        {
         "name": "original_title",
         "rawType": "object",
         "type": "string"
        },
        {
         "name": "release_year",
         "rawType": "int64",
         "type": "integer"
        },
        {
         "name": "runtime_min",
         "rawType": "float64",
         "type": "float"
        },
        {
         "name": "genres",
         "rawType": "object",
         "type": "string"
        },
        {
         "name": "imdb_rating",
         "rawType": "float64",
         "type": "float"
        },
        {
         "name": "imdb_votes",
         "rawType": "int64",
         "type": "integer"
        },
        {
         "name": "alt_title",
         "rawType": "object",
         "type": "string"
        },
        {
         "name": "release_region",
         "rawType": "object",
         "type": "unknown"
        },
        {
         "name": "person_id",
         "rawType": "object",
         "type": "unknown"
        },
        {
         "name": "person_name",
         "rawType": "object",
         "type": "unknown"
        },
        {
         "name": "person_profession",
         "rawType": "object",
         "type": "unknown"
        }
       ],
       "ref": "202b5781-6546-497f-ab65-19d93f56bb9c",
       "rows": [
        [
         "0",
         "tt0066787",
         "One Day Before the Rainy Season",
         "Ashad Ka Ek Din",
         "2019",
         "114.0",
         "Biography,Drama",
         "7.2",
         "43",
         "One Day Before the Rainy Season",
         "XWW",
         "nm0002411",
         "Mani Kaul",
         "director,writer,actor"
        ],
        [
         "1",
         "tt0066787",
         "One Day Before the Rainy Season",
         "Ashad Ka Ek Din",
         "2019",
         "114.0",
         "Biography,Drama",
         "7.2",
         "43",
         "Ashad Ka Ek Din",
         "IN",
         "nm0002411",
         "Mani Kaul",
         "director,writer,actor"
        ],
        [
         "2",
         "tt0066787",
         "One Day Before the Rainy Season",
         "Ashad Ka Ek Din",
         "2019",
         "114.0",
         "Biography,Drama",
         "7.2",
         "43",
         "One Monsoon Day",
         null,
         "nm0002411",
         "Mani Kaul",
         "director,writer,actor"
        ],
        [
         "3",
         "tt0066787",
         "One Day Before the Rainy Season",
         "Ashad Ka Ek Din",
         "2019",
         "114.0",
         "Biography,Drama",
         "7.2",
         "43",
         "Ashad Ka Ek Din",
         null,
         "nm0002411",
         "Mani Kaul",
         "director,writer,actor"
        ],
        [
         "4",
         "tt0069049",
         "The Other Side of the Wind",
         "The Other Side of the Wind",
         "2018",
         "122.0",
         "Drama",
         "6.9",
         "4517",
         "La otra cara del viento",
         "VE",
         "nm0000080",
         "Orson Welles",
         "actor,director,writer"
        ],
        [
         "5",
         "tt0069049",
         "The Other Side of the Wind",
         "The Other Side of the Wind",
         "2018",
         "122.0",
         "Drama",
         "6.9",
         "4517",
         "Druga strona wiatru",
         "PL",
         "nm0000080",
         "Orson Welles",
         "actor,director,writer"
        ],
        [
         "6",
         "tt0069049",
         "The Other Side of the Wind",
         "The Other Side of the Wind",
         "2018",
         "122.0",
         "Drama",
         "6.9",
         "4517",
         "The Other Side of the Wind",
         "DE",
         "nm0000080",
         "Orson Welles",
         "actor,director,writer"
        ],
        [
         "7",
         "tt0069049",
         "The Other Side of the Wind",
         "The Other Side of the Wind",
         "2018",
         "122.0",
         "Drama",
         "6.9",
         "4517",
         "O Outro Lado do Vento",
         "PT",
         "nm0000080",
         "Orson Welles",
         "actor,director,writer"
        ],
        [
         "8",
         "tt0069049",
         "The Other Side of the Wind",
         "The Other Side of the Wind",
         "2018",
         "122.0",
         "Drama",
         "6.9",
         "4517",
         "O Outro Lado do Vento",
         "BR",
         "nm0000080",
         "Orson Welles",
         "actor,director,writer"
        ],
        [
         "9",
         "tt0069049",
         "The Other Side of the Wind",
         "The Other Side of the Wind",
         "2018",
         "122.0",
         "Drama",
         "6.9",
         "4517",
         "The Other Side of the Wind",
         "US",
         "nm0000080",
         "Orson Welles",
         "actor,director,writer"
        ],
        [
         "10",
         "tt0069049",
         "The Other Side of the Wind",
         "The Other Side of the Wind",
         "2018",
         "122.0",
         "Drama",
         "6.9",
         "4517",
         "The Other Side of the Wind",
         "GB",
         "nm0000080",
         "Orson Welles",
         "actor,director,writer"
        ],
        [
         "11",
         "tt0069049",
         "The Other Side of the Wind",
         "The Other Side of the Wind",
         "2018",
         "122.0",
         "Drama",
         "6.9",
         "4517",
         "L'altra faccia del vento",
         "IT",
         "nm0000080",
         "Orson Welles",
         "actor,director,writer"
        ],
        [
         "12",
         "tt0069049",
         "The Other Side of the Wind",
         "The Other Side of the Wind",
         "2018",
         "122.0",
         "Drama",
         "6.9",
         "4517",
         "Другая сторона ветра",
         "RU",
         "nm0000080",
         "Orson Welles",
         "actor,director,writer"
        ],
        [
         "13",
         "tt0069049",
         "The Other Side of the Wind",
         "The Other Side of the Wind",
         "2018",
         "122.0",
         "Drama",
         "6.9",
         "4517",
         "Al otro lado del viento",
         "AR",
         "nm0000080",
         "Orson Welles",
         "actor,director,writer"
        ],
        [
         "14",
         "tt0069049",
         "The Other Side of the Wind",
         "The Other Side of the Wind",
         "2018",
         "122.0",
         "Drama",
         "6.9",
         "4517",
         "Al otro lado del viento",
         "ES",
         "nm0000080",
         "Orson Welles",
         "actor,director,writer"
        ],
        [
         "15",
         "tt0069049",
         "The Other Side of the Wind",
         "The Other Side of the Wind",
         "2018",
         "122.0",
         "Drama",
         "6.9",
         "4517",
         "The Other Side of the Wind",
         null,
         "nm0000080",
         "Orson Welles",
         "actor,director,writer"
        ],
        [
         "16",
         "tt0069049",
         "The Other Side of the Wind",
         "The Other Side of the Wind",
         "2018",
         "122.0",
         "Drama",
         "6.9",
         "4517",
         "De l'autre côté du vent",
         "FR",
         "nm0000080",
         "Orson Welles",
         "actor,director,writer"
        ],
        [
         "17",
         "tt0069204",
         "Sabse Bada Sukh",
         "Sabse Bada Sukh",
         "2018",
         "87.0",
         "Comedy,Drama",
         "6.1",
         "13",
         "Subse Bada Sukh",
         "IN",
         "nm0611531",
         "Hrishikesh Mukherjee",
         "director,editor,writer"
        ],
        [
         "18",
         "tt0069204",
         "Sabse Bada Sukh",
         "Sabse Bada Sukh",
         "2018",
         "87.0",
         "Comedy,Drama",
         "6.1",
         "13",
         "The Greatest Happiness",
         "IN",
         "nm0611531",
         "Hrishikesh Mukherjee",
         "director,editor,writer"
        ],
        [
         "19",
         "tt0069204",
         "Sabse Bada Sukh",
         "Sabse Bada Sukh",
         "2018",
         "87.0",
         "Comedy,Drama",
         "6.1",
         "13",
         "Sabse Bada Sukh",
         null,
         "nm0611531",
         "Hrishikesh Mukherjee",
         "director,editor,writer"
        ],
        [
         "20",
         "tt0100275",
         "The Wandering Soap Opera",
         "La Telenovela Errante",
         "2017",
         "80.0",
         "Comedy,Drama,Fantasy",
         "6.5",
         "119",
         "La Telenovela Errante",
         null,
         "nm0749914",
         "Raoul Ruiz",
         "director,writer,producer"
        ],
        [
         "21",
         "tt0100275",
         "The Wandering Soap Opera",
         "La Telenovela Errante",
         "2017",
         "80.0",
         "Comedy,Drama,Fantasy",
         "6.5",
         "119",
         "La Telenovela Errante",
         null,
         "nm0765384",
         "Valeria Sarmiento",
         "editor,director,writer"
        ],
        [
         "22",
         "tt0100275",
         "The Wandering Soap Opera",
         "La Telenovela Errante",
         "2017",
         "80.0",
         "Comedy,Drama,Fantasy",
         "6.5",
         "119",
         "The Wandering Soap Opera",
         "XWW",
         "nm0749914",
         "Raoul Ruiz",
         "director,writer,producer"
        ],
        [
         "23",
         "tt0100275",
         "The Wandering Soap Opera",
         "La Telenovela Errante",
         "2017",
         "80.0",
         "Comedy,Drama,Fantasy",
         "6.5",
         "119",
         "The Wandering Soap Opera",
         "XWW",
         "nm0765384",
         "Valeria Sarmiento",
         "editor,director,writer"
        ],
        [
         "24",
         "tt0100275",
         "The Wandering Soap Opera",
         "La Telenovela Errante",
         "2017",
         "80.0",
         "Comedy,Drama,Fantasy",
         "6.5",
         "119",
         "La Telenovela Errante",
         "CL",
         "nm0749914",
         "Raoul Ruiz",
         "director,writer,producer"
        ],
        [
         "25",
         "tt0100275",
         "The Wandering Soap Opera",
         "La Telenovela Errante",
         "2017",
         "80.0",
         "Comedy,Drama,Fantasy",
         "6.5",
         "119",
         "La Telenovela Errante",
         "CL",
         "nm0765384",
         "Valeria Sarmiento",
         "editor,director,writer"
        ],
        [
         "26",
         "tt0100275",
         "The Wandering Soap Opera",
         "La Telenovela Errante",
         "2017",
         "80.0",
         "Comedy,Drama,Fantasy",
         "6.5",
         "119",
         "La novela errante",
         "CL",
         "nm0749914",
         "Raoul Ruiz",
         "director,writer,producer"
        ],
        [
         "27",
         "tt0100275",
         "The Wandering Soap Opera",
         "La Telenovela Errante",
         "2017",
         "80.0",
         "Comedy,Drama,Fantasy",
         "6.5",
         "119",
         "La novela errante",
         "CL",
         "nm0765384",
         "Valeria Sarmiento",
         "editor,director,writer"
        ],
        [
         "28",
         "tt0100275",
         "The Wandering Soap Opera",
         "La Telenovela Errante",
         "2017",
         "80.0",
         "Comedy,Drama,Fantasy",
         "6.5",
         "119",
         "Objazdowa opera mydlana",
         "PL",
         "nm0749914",
         "Raoul Ruiz",
         "director,writer,producer"
        ],
        [
         "29",
         "tt0100275",
         "The Wandering Soap Opera",
         "La Telenovela Errante",
         "2017",
         "80.0",
         "Comedy,Drama,Fantasy",
         "6.5",
         "119",
         "Objazdowa opera mydlana",
         "PL",
         "nm0765384",
         "Valeria Sarmiento",
         "editor,director,writer"
        ],
        [
         "30",
         "tt0112502",
         "Bigfoot",
         "Bigfoot",
         "2017",
         "87.0",
         "Horror,Thriller",
         "4.1",
         "32",
         "Bigfoot",
         "US",
         "nm6883878",
         "Mc Jones",
         "actor,director"
        ],
        [
         "31",
         "tt0137204",
         "Joe Finds Grace",
         "Joe Finds Grace",
         "2017",
         "83.0",
         "Adventure,Animation,Comedy",
         "8.1",
         "263",
         "Joe Finds Grace",
         "CA",
         "nm0365480",
         "Anthony Harrison",
         "actor,writer,producer"
        ],
        [
         "32",
         "tt0137204",
         "Joe Finds Grace",
         "Joe Finds Grace",
         "2017",
         "83.0",
         "Adventure,Animation,Comedy",
         "8.1",
         "263",
         "Elephant Joe",
         null,
         "nm0365480",
         "Anthony Harrison",
         "actor,writer,producer"
        ],
        [
         "33",
         "tt0137204",
         "Joe Finds Grace",
         "Joe Finds Grace",
         "2017",
         "83.0",
         "Adventure,Animation,Comedy",
         "8.1",
         "263",
         "Joe Finds Grace",
         null,
         "nm0365480",
         "Anthony Harrison",
         "actor,writer,producer"
        ],
        [
         "34",
         "tt0137204",
         "Joe Finds Grace",
         "Joe Finds Grace",
         "2017",
         "83.0",
         "Adventure,Animation,Comedy",
         "8.1",
         "263",
         "Saving Grace",
         null,
         "nm0365480",
         "Anthony Harrison",
         "actor,writer,producer"
        ],
        [
         "35",
         "tt0146592",
         "Pál Adrienn",
         "Pál Adrienn",
         "2010",
         "136.0",
         "Drama",
         "6.8",
         "451",
         "Adrienn Pal",
         "PL",
         "nm1030585",
         "Ágnes Kocsis",
         "director,writer,producer"
        ],
        [
         "36",
         "tt0146592",
         "Pál Adrienn",
         "Pál Adrienn",
         "2010",
         "136.0",
         "Drama",
         "6.8",
         "451",
         "Адриен Пал",
         "BG",
         "nm1030585",
         "Ágnes Kocsis",
         "director,writer,producer"
        ],
        [
         "37",
         "tt0146592",
         "Pál Adrienn",
         "Pál Adrienn",
         "2010",
         "136.0",
         "Drama",
         "6.8",
         "451",
         "Pal Adrienn",
         "HR",
         "nm1030585",
         "Ágnes Kocsis",
         "director,writer,producer"
        ],
        [
         "38",
         "tt0146592",
         "Pál Adrienn",
         "Pál Adrienn",
         "2010",
         "136.0",
         "Drama",
         "6.8",
         "451",
         "Pál Adrienn",
         "HU",
         "nm1030585",
         "Ágnes Kocsis",
         "director,writer,producer"
        ],
        [
         "39",
         "tt0146592",
         "Pál Adrienn",
         "Pál Adrienn",
         "2010",
         "136.0",
         "Drama",
         "6.8",
         "451",
         "Adrienn Pál",
         "SE",
         "nm1030585",
         "Ágnes Kocsis",
         "director,writer,producer"
        ],
        [
         "40",
         "tt0146592",
         "Pál Adrienn",
         "Pál Adrienn",
         "2010",
         "136.0",
         "Drama",
         "6.8",
         "451",
         "Pál Adrienn",
         null,
         "nm1030585",
         "Ágnes Kocsis",
         "director,writer,producer"
        ],
        [
         "41",
         "tt0154039",
         "So Much for Justice!",
         "Oda az igazság",
         "2010",
         "100.0",
         "History",
         "4.6",
         "64",
         "Oda az igazság",
         null,
         "nm0417352",
         "Miklós Jancsó",
         "director,writer,actor"
        ],
        [
         "42",
         "tt0154039",
         "So Much for Justice!",
         "Oda az igazság",
         "2010",
         "100.0",
         "History",
         "4.6",
         "64",
         "Oda az igazság",
         "HU",
         "nm0417352",
         "Miklós Jancsó",
         "director,writer,actor"
        ],
        [
         "43",
         "tt0154039",
         "So Much for Justice!",
         "Oda az igazság",
         "2010",
         "100.0",
         "History",
         "4.6",
         "64",
         "C'est la vérité",
         "FR",
         "nm0417352",
         "Miklós Jancsó",
         "director,writer,actor"
        ],
        [
         "44",
         "tt0154039",
         "So Much for Justice!",
         "Oda az igazság",
         "2010",
         "100.0",
         "History",
         "4.6",
         "64",
         "So Much for Justice!",
         "XWW",
         "nm0417352",
         "Miklós Jancsó",
         "director,writer,actor"
        ],
        [
         "45",
         "tt0154039",
         "So Much for Justice!",
         "Oda az igazság",
         "2010",
         "100.0",
         "History",
         "4.6",
         "64",
         "So Much for Justice",
         "FR",
         "nm0417352",
         "Miklós Jancsó",
         "director,writer,actor"
        ],
        [
         "46",
         "tt0154039",
         "So Much for Justice!",
         "Oda az igazság",
         "2010",
         "100.0",
         "History",
         "4.6",
         "64",
         "Szlag trafil sprawiedliwosc",
         "PL",
         "nm0417352",
         "Miklós Jancsó",
         "director,writer,actor"
        ],
        [
         "47",
         "tt0162942",
         "Children of the Green Dragon",
         "A zöld sárkány gyermekei",
         "2010",
         "89.0",
         "Drama",
         "6.9",
         "120",
         "Dzieci Zielonego Smoka",
         "PL",
         "nm1207262",
         "Bence Miklauzic",
         "director,writer,assistant_director"
        ],
        [
         "48",
         "tt0162942",
         "Children of the Green Dragon",
         "A zöld sárkány gyermekei",
         "2010",
         "89.0",
         "Drama",
         "6.9",
         "120",
         "A zöld sárkány gyermekei",
         "HU",
         "nm1207262",
         "Bence Miklauzic",
         "director,writer,assistant_director"
        ],
        [
         "49",
         "tt0162942",
         "Children of the Green Dragon",
         "A zöld sárkány gyermekei",
         "2010",
         "89.0",
         "Drama",
         "6.9",
         "120",
         "A zöld sárkány gyermekei",
         null,
         "nm1207262",
         "Bence Miklauzic",
         "director,writer,assistant_director"
        ]
       ],
       "shape": {
        "columns": 13,
        "rows": 296299
       }
      },
      "text/html": [
       "<div>\n",
       "<style scoped>\n",
       "    .dataframe tbody tr th:only-of-type {\n",
       "        vertical-align: middle;\n",
       "    }\n",
       "\n",
       "    .dataframe tbody tr th {\n",
       "        vertical-align: top;\n",
       "    }\n",
       "\n",
       "    .dataframe thead th {\n",
       "        text-align: right;\n",
       "    }\n",
       "</style>\n",
       "<table border=\"1\" class=\"dataframe\">\n",
       "  <thead>\n",
       "    <tr style=\"text-align: right;\">\n",
       "      <th></th>\n",
       "      <th>movie_id</th>\n",
       "      <th>movie_title</th>\n",
       "      <th>original_title</th>\n",
       "      <th>release_year</th>\n",
       "      <th>runtime_min</th>\n",
       "      <th>genres</th>\n",
       "      <th>imdb_rating</th>\n",
       "      <th>imdb_votes</th>\n",
       "      <th>alt_title</th>\n",
       "      <th>release_region</th>\n",
       "      <th>person_id</th>\n",
       "      <th>person_name</th>\n",
       "      <th>person_profession</th>\n",
       "    </tr>\n",
       "  </thead>\n",
       "  <tbody>\n",
       "    <tr>\n",
       "      <th>0</th>\n",
       "      <td>tt0066787</td>\n",
       "      <td>One Day Before the Rainy Season</td>\n",
       "      <td>Ashad Ka Ek Din</td>\n",
       "      <td>2019</td>\n",
       "      <td>114.0</td>\n",
       "      <td>Biography,Drama</td>\n",
       "      <td>7.2</td>\n",
       "      <td>43</td>\n",
       "      <td>One Day Before the Rainy Season</td>\n",
       "      <td>XWW</td>\n",
       "      <td>nm0002411</td>\n",
       "      <td>Mani Kaul</td>\n",
       "      <td>director,writer,actor</td>\n",
       "    </tr>\n",
       "    <tr>\n",
       "      <th>1</th>\n",
       "      <td>tt0066787</td>\n",
       "      <td>One Day Before the Rainy Season</td>\n",
       "      <td>Ashad Ka Ek Din</td>\n",
       "      <td>2019</td>\n",
       "      <td>114.0</td>\n",
       "      <td>Biography,Drama</td>\n",
       "      <td>7.2</td>\n",
       "      <td>43</td>\n",
       "      <td>Ashad Ka Ek Din</td>\n",
       "      <td>IN</td>\n",
       "      <td>nm0002411</td>\n",
       "      <td>Mani Kaul</td>\n",
       "      <td>director,writer,actor</td>\n",
       "    </tr>\n",
       "    <tr>\n",
       "      <th>2</th>\n",
       "      <td>tt0066787</td>\n",
       "      <td>One Day Before the Rainy Season</td>\n",
       "      <td>Ashad Ka Ek Din</td>\n",
       "      <td>2019</td>\n",
       "      <td>114.0</td>\n",
       "      <td>Biography,Drama</td>\n",
       "      <td>7.2</td>\n",
       "      <td>43</td>\n",
       "      <td>One Monsoon Day</td>\n",
       "      <td>None</td>\n",
       "      <td>nm0002411</td>\n",
       "      <td>Mani Kaul</td>\n",
       "      <td>director,writer,actor</td>\n",
       "    </tr>\n",
       "    <tr>\n",
       "      <th>3</th>\n",
       "      <td>tt0066787</td>\n",
       "      <td>One Day Before the Rainy Season</td>\n",
       "      <td>Ashad Ka Ek Din</td>\n",
       "      <td>2019</td>\n",
       "      <td>114.0</td>\n",
       "      <td>Biography,Drama</td>\n",
       "      <td>7.2</td>\n",
       "      <td>43</td>\n",
       "      <td>Ashad Ka Ek Din</td>\n",
       "      <td>None</td>\n",
       "      <td>nm0002411</td>\n",
       "      <td>Mani Kaul</td>\n",
       "      <td>director,writer,actor</td>\n",
       "    </tr>\n",
       "    <tr>\n",
       "      <th>4</th>\n",
       "      <td>tt0069049</td>\n",
       "      <td>The Other Side of the Wind</td>\n",
       "      <td>The Other Side of the Wind</td>\n",
       "      <td>2018</td>\n",
       "      <td>122.0</td>\n",
       "      <td>Drama</td>\n",
       "      <td>6.9</td>\n",
       "      <td>4517</td>\n",
       "      <td>La otra cara del viento</td>\n",
       "      <td>VE</td>\n",
       "      <td>nm0000080</td>\n",
       "      <td>Orson Welles</td>\n",
       "      <td>actor,director,writer</td>\n",
       "    </tr>\n",
       "    <tr>\n",
       "      <th>...</th>\n",
       "      <td>...</td>\n",
       "      <td>...</td>\n",
       "      <td>...</td>\n",
       "      <td>...</td>\n",
       "      <td>...</td>\n",
       "      <td>...</td>\n",
       "      <td>...</td>\n",
       "      <td>...</td>\n",
       "      <td>...</td>\n",
       "      <td>...</td>\n",
       "      <td>...</td>\n",
       "      <td>...</td>\n",
       "      <td>...</td>\n",
       "    </tr>\n",
       "    <tr>\n",
       "      <th>296294</th>\n",
       "      <td>tt9905462</td>\n",
       "      <td>Pengalila</td>\n",
       "      <td>Pengalila</td>\n",
       "      <td>2019</td>\n",
       "      <td>111.0</td>\n",
       "      <td>Drama</td>\n",
       "      <td>8.4</td>\n",
       "      <td>600</td>\n",
       "      <td>Sisterleaf</td>\n",
       "      <td>IN</td>\n",
       "      <td>nm0151535</td>\n",
       "      <td>T.V. Chandran</td>\n",
       "      <td>director,writer,actor</td>\n",
       "    </tr>\n",
       "    <tr>\n",
       "      <th>296295</th>\n",
       "      <td>tt9905462</td>\n",
       "      <td>Pengalila</td>\n",
       "      <td>Pengalila</td>\n",
       "      <td>2019</td>\n",
       "      <td>111.0</td>\n",
       "      <td>Drama</td>\n",
       "      <td>8.4</td>\n",
       "      <td>600</td>\n",
       "      <td>Pengalila</td>\n",
       "      <td>IN</td>\n",
       "      <td>nm0151535</td>\n",
       "      <td>T.V. Chandran</td>\n",
       "      <td>director,writer,actor</td>\n",
       "    </tr>\n",
       "    <tr>\n",
       "      <th>296296</th>\n",
       "      <td>tt9911774</td>\n",
       "      <td>Padmavyuhathile Abhimanyu</td>\n",
       "      <td>Padmavyuhathile Abhimanyu</td>\n",
       "      <td>2019</td>\n",
       "      <td>130.0</td>\n",
       "      <td>Drama</td>\n",
       "      <td>8.4</td>\n",
       "      <td>365</td>\n",
       "      <td>Padmavyuhathile Abhimanyu</td>\n",
       "      <td>None</td>\n",
       "      <td>nm10536451</td>\n",
       "      <td>Vineesh Aaradya</td>\n",
       "      <td>writer,director</td>\n",
       "    </tr>\n",
       "    <tr>\n",
       "      <th>296297</th>\n",
       "      <td>tt9911774</td>\n",
       "      <td>Padmavyuhathile Abhimanyu</td>\n",
       "      <td>Padmavyuhathile Abhimanyu</td>\n",
       "      <td>2019</td>\n",
       "      <td>130.0</td>\n",
       "      <td>Drama</td>\n",
       "      <td>8.4</td>\n",
       "      <td>365</td>\n",
       "      <td>Pathmavyuhathile Abhimanyu</td>\n",
       "      <td>IN</td>\n",
       "      <td>nm10536451</td>\n",
       "      <td>Vineesh Aaradya</td>\n",
       "      <td>writer,director</td>\n",
       "    </tr>\n",
       "    <tr>\n",
       "      <th>296298</th>\n",
       "      <td>tt9911774</td>\n",
       "      <td>Padmavyuhathile Abhimanyu</td>\n",
       "      <td>Padmavyuhathile Abhimanyu</td>\n",
       "      <td>2019</td>\n",
       "      <td>130.0</td>\n",
       "      <td>Drama</td>\n",
       "      <td>8.4</td>\n",
       "      <td>365</td>\n",
       "      <td>Padmavyoohathile Abhimanyu</td>\n",
       "      <td>IN</td>\n",
       "      <td>nm10536451</td>\n",
       "      <td>Vineesh Aaradya</td>\n",
       "      <td>writer,director</td>\n",
       "    </tr>\n",
       "  </tbody>\n",
       "</table>\n",
       "<p>296299 rows × 13 columns</p>\n",
       "</div>"
      ],
      "text/plain": [
       "         movie_id                      movie_title  \\\n",
       "0       tt0066787  One Day Before the Rainy Season   \n",
       "1       tt0066787  One Day Before the Rainy Season   \n",
       "2       tt0066787  One Day Before the Rainy Season   \n",
       "3       tt0066787  One Day Before the Rainy Season   \n",
       "4       tt0069049       The Other Side of the Wind   \n",
       "...           ...                              ...   \n",
       "296294  tt9905462                        Pengalila   \n",
       "296295  tt9905462                        Pengalila   \n",
       "296296  tt9911774        Padmavyuhathile Abhimanyu   \n",
       "296297  tt9911774        Padmavyuhathile Abhimanyu   \n",
       "296298  tt9911774        Padmavyuhathile Abhimanyu   \n",
       "\n",
       "                    original_title  release_year  runtime_min  \\\n",
       "0                  Ashad Ka Ek Din          2019        114.0   \n",
       "1                  Ashad Ka Ek Din          2019        114.0   \n",
       "2                  Ashad Ka Ek Din          2019        114.0   \n",
       "3                  Ashad Ka Ek Din          2019        114.0   \n",
       "4       The Other Side of the Wind          2018        122.0   \n",
       "...                            ...           ...          ...   \n",
       "296294                   Pengalila          2019        111.0   \n",
       "296295                   Pengalila          2019        111.0   \n",
       "296296   Padmavyuhathile Abhimanyu          2019        130.0   \n",
       "296297   Padmavyuhathile Abhimanyu          2019        130.0   \n",
       "296298   Padmavyuhathile Abhimanyu          2019        130.0   \n",
       "\n",
       "                 genres  imdb_rating  imdb_votes  \\\n",
       "0       Biography,Drama          7.2          43   \n",
       "1       Biography,Drama          7.2          43   \n",
       "2       Biography,Drama          7.2          43   \n",
       "3       Biography,Drama          7.2          43   \n",
       "4                 Drama          6.9        4517   \n",
       "...                 ...          ...         ...   \n",
       "296294            Drama          8.4         600   \n",
       "296295            Drama          8.4         600   \n",
       "296296            Drama          8.4         365   \n",
       "296297            Drama          8.4         365   \n",
       "296298            Drama          8.4         365   \n",
       "\n",
       "                              alt_title release_region   person_id  \\\n",
       "0       One Day Before the Rainy Season            XWW   nm0002411   \n",
       "1                       Ashad Ka Ek Din             IN   nm0002411   \n",
       "2                       One Monsoon Day           None   nm0002411   \n",
       "3                       Ashad Ka Ek Din           None   nm0002411   \n",
       "4               La otra cara del viento             VE   nm0000080   \n",
       "...                                 ...            ...         ...   \n",
       "296294                       Sisterleaf             IN   nm0151535   \n",
       "296295                        Pengalila             IN   nm0151535   \n",
       "296296        Padmavyuhathile Abhimanyu           None  nm10536451   \n",
       "296297       Pathmavyuhathile Abhimanyu             IN  nm10536451   \n",
       "296298       Padmavyoohathile Abhimanyu             IN  nm10536451   \n",
       "\n",
       "            person_name      person_profession  \n",
       "0             Mani Kaul  director,writer,actor  \n",
       "1             Mani Kaul  director,writer,actor  \n",
       "2             Mani Kaul  director,writer,actor  \n",
       "3             Mani Kaul  director,writer,actor  \n",
       "4          Orson Welles  actor,director,writer  \n",
       "...                 ...                    ...  \n",
       "296294    T.V. Chandran  director,writer,actor  \n",
       "296295    T.V. Chandran  director,writer,actor  \n",
       "296296  Vineesh Aaradya        writer,director  \n",
       "296297  Vineesh Aaradya        writer,director  \n",
       "296298  Vineesh Aaradya        writer,director  \n",
       "\n",
       "[296299 rows x 13 columns]"
      ]
     },
     "execution_count": 36,
     "metadata": {},
     "output_type": "execute_result"
    }
   ],
   "source": [
    "final_df"
   ]
  },
  {
   "cell_type": "code",
   "execution_count": 37,
   "metadata": {},
   "outputs": [
    {
     "data": {
      "application/vnd.microsoft.datawrangler.viewer.v0+json": {
       "columns": [
        {
         "name": "index",
         "rawType": "int64",
         "type": "integer"
        },
        {
         "name": "title",
         "rawType": "object",
         "type": "string"
        },
        {
         "name": "studio",
         "rawType": "object",
         "type": "unknown"
        },
        {
         "name": "domestic_gross",
         "rawType": "float64",
         "type": "float"
        },
        {
         "name": "foreign_gross",
         "rawType": "object",
         "type": "unknown"
        },
        {
         "name": "year",
         "rawType": "int64",
         "type": "integer"
        }
       ],
       "ref": "636e0ff8-0daa-4fdd-8c25-85af6a0eef2c",
       "rows": [
        [
         "0",
         "Toy Story 3",
         "BV",
         "415000000.0",
         "652000000",
         "2010"
        ],
        [
         "1",
         "Alice in Wonderland (2010)",
         "BV",
         "334200000.0",
         "691300000",
         "2010"
        ],
        [
         "2",
         "Harry Potter and the Deathly Hallows Part 1",
         "WB",
         "296000000.0",
         "664300000",
         "2010"
        ],
        [
         "3",
         "Inception",
         "WB",
         "292600000.0",
         "535700000",
         "2010"
        ],
        [
         "4",
         "Shrek Forever After",
         "P/DW",
         "238700000.0",
         "513900000",
         "2010"
        ],
        [
         "5",
         "The Twilight Saga: Eclipse",
         "Sum.",
         "300500000.0",
         "398000000",
         "2010"
        ],
        [
         "6",
         "Iron Man 2",
         "Par.",
         "312400000.0",
         "311500000",
         "2010"
        ],
        [
         "7",
         "Tangled",
         "BV",
         "200800000.0",
         "391000000",
         "2010"
        ],
        [
         "8",
         "Despicable Me",
         "Uni.",
         "251500000.0",
         "291600000",
         "2010"
        ],
        [
         "9",
         "How to Train Your Dragon",
         "P/DW",
         "217600000.0",
         "277300000",
         "2010"
        ],
        [
         "10",
         "Clash of the Titans (2010)",
         "WB",
         "163200000.0",
         "330000000",
         "2010"
        ],
        [
         "11",
         "The Chronicles of Narnia: The Voyage of the Dawn Treader",
         "Fox",
         "104400000.0",
         "311300000",
         "2010"
        ],
        [
         "12",
         "The King's Speech",
         "Wein.",
         "135500000.0",
         "275400000",
         "2010"
        ],
        [
         "13",
         "Tron Legacy",
         "BV",
         "172100000.0",
         "228000000",
         "2010"
        ],
        [
         "14",
         "The Karate Kid",
         "Sony",
         "176600000.0",
         "182500000",
         "2010"
        ],
        [
         "15",
         "Prince of Persia: The Sands of Time",
         "BV",
         "90800000.0",
         "245600000",
         "2010"
        ],
        [
         "16",
         "Black Swan",
         "FoxS",
         "107000000.0",
         "222400000",
         "2010"
        ],
        [
         "17",
         "Megamind",
         "P/DW",
         "148400000.0",
         "173500000",
         "2010"
        ],
        [
         "18",
         "Robin Hood",
         "Uni.",
         "105300000.0",
         "216400000",
         "2010"
        ],
        [
         "19",
         "The Last Airbender",
         "Par.",
         "131800000.0",
         "187900000",
         "2010"
        ],
        [
         "20",
         "Little Fockers",
         "Uni.",
         "148400000.0",
         "162200000",
         "2010"
        ],
        [
         "21",
         "Resident Evil: Afterlife",
         "SGem",
         "60100000.0",
         "240100000",
         "2010"
        ],
        [
         "22",
         "Shutter Island",
         "Par.",
         "128000000.0",
         "166800000",
         "2010"
        ],
        [
         "23",
         "Salt",
         "Sony",
         "118300000.0",
         "175200000",
         "2010"
        ],
        [
         "24",
         "Sex and the City 2",
         "WB (NL)",
         "95300000.0",
         "193000000",
         "2010"
        ],
        [
         "25",
         "The Tourist",
         "Sony",
         "67600000.0",
         "210700000",
         "2010"
        ],
        [
         "26",
         "The Expendables",
         "LGF",
         "103100000.0",
         "171400000",
         "2010"
        ],
        [
         "27",
         "Grown Ups",
         "Sony",
         "162000000.0",
         "109400000",
         "2010"
        ],
        [
         "28",
         "Knight & Day",
         "Fox",
         "76400000.0",
         "185500000",
         "2010"
        ],
        [
         "29",
         "True Grit",
         "Par.",
         "171200000.0",
         "81000000",
         "2010"
        ],
        [
         "30",
         "Gulliver's Travels",
         "Fox",
         "42800000.0",
         "194600000",
         "2010"
        ],
        [
         "31",
         "Percy Jackson & The Olympians: The Lightning Thief",
         "Fox",
         "88800000.0",
         "137700000",
         "2010"
        ],
        [
         "32",
         "The Social Network",
         "Sony",
         "97000000.0",
         "128000000",
         "2010"
        ],
        [
         "33",
         "Valentine's Day",
         "WB (NL)",
         "110500000.0",
         "106000000",
         "2010"
        ],
        [
         "34",
         "The Sorcerer's Apprentice",
         "BV",
         "63200000.0",
         "152100000",
         "2010"
        ],
        [
         "35",
         "Due Date",
         "WB",
         "100500000.0",
         "111200000",
         "2010"
        ],
        [
         "36",
         "Eat Pray Love",
         "Sony",
         "80600000.0",
         "124000000",
         "2010"
        ],
        [
         "37",
         "Yogi Bear",
         "WB",
         "100200000.0",
         "101300000",
         "2010"
        ],
        [
         "38",
         "Red",
         "Sum.",
         "90400000.0",
         "108600000",
         "2010"
        ],
        [
         "39",
         "Paranormal Activity 2",
         "Par.",
         "84800000.0",
         "92800000",
         "2010"
        ],
        [
         "40",
         "The A-Team",
         "Fox",
         "77200000.0",
         "100000000",
         "2010"
        ],
        [
         "41",
         "Jackass 3-D",
         "Par.",
         "117200000.0",
         "54500000",
         "2010"
        ],
        [
         "42",
         "The Other Guys",
         "Sony",
         "119200000.0",
         "51200000",
         "2010"
        ],
        [
         "43",
         "Unstoppable",
         "Fox",
         "81600000.0",
         "86200000",
         "2010"
        ],
        [
         "44",
         "Step Up 3-D",
         "BV",
         "42400000.0",
         "116900000",
         "2010"
        ],
        [
         "45",
         "The Book of Eli",
         "WB",
         "94800000.0",
         "62300000",
         "2010"
        ],
        [
         "46",
         "The Town",
         "WB",
         "92200000.0",
         "61800000",
         "2010"
        ],
        [
         "47",
         "Date Night",
         "Fox",
         "98700000.0",
         "53600000",
         "2010"
        ],
        [
         "48",
         "Legend of the Guardians: The Owls of Ga'Hoole",
         "WB",
         "55700000.0",
         "84400000",
         "2010"
        ],
        [
         "49",
         "The Wolfman",
         "Uni.",
         "62000000.0",
         "77800000",
         "2010"
        ]
       ],
       "shape": {
        "columns": 5,
        "rows": 3387
       }
      },
      "text/html": [
       "<div>\n",
       "<style scoped>\n",
       "    .dataframe tbody tr th:only-of-type {\n",
       "        vertical-align: middle;\n",
       "    }\n",
       "\n",
       "    .dataframe tbody tr th {\n",
       "        vertical-align: top;\n",
       "    }\n",
       "\n",
       "    .dataframe thead th {\n",
       "        text-align: right;\n",
       "    }\n",
       "</style>\n",
       "<table border=\"1\" class=\"dataframe\">\n",
       "  <thead>\n",
       "    <tr style=\"text-align: right;\">\n",
       "      <th></th>\n",
       "      <th>title</th>\n",
       "      <th>studio</th>\n",
       "      <th>domestic_gross</th>\n",
       "      <th>foreign_gross</th>\n",
       "      <th>year</th>\n",
       "    </tr>\n",
       "  </thead>\n",
       "  <tbody>\n",
       "    <tr>\n",
       "      <th>0</th>\n",
       "      <td>Toy Story 3</td>\n",
       "      <td>BV</td>\n",
       "      <td>415000000.0</td>\n",
       "      <td>652000000</td>\n",
       "      <td>2010</td>\n",
       "    </tr>\n",
       "    <tr>\n",
       "      <th>1</th>\n",
       "      <td>Alice in Wonderland (2010)</td>\n",
       "      <td>BV</td>\n",
       "      <td>334200000.0</td>\n",
       "      <td>691300000</td>\n",
       "      <td>2010</td>\n",
       "    </tr>\n",
       "    <tr>\n",
       "      <th>2</th>\n",
       "      <td>Harry Potter and the Deathly Hallows Part 1</td>\n",
       "      <td>WB</td>\n",
       "      <td>296000000.0</td>\n",
       "      <td>664300000</td>\n",
       "      <td>2010</td>\n",
       "    </tr>\n",
       "    <tr>\n",
       "      <th>3</th>\n",
       "      <td>Inception</td>\n",
       "      <td>WB</td>\n",
       "      <td>292600000.0</td>\n",
       "      <td>535700000</td>\n",
       "      <td>2010</td>\n",
       "    </tr>\n",
       "    <tr>\n",
       "      <th>4</th>\n",
       "      <td>Shrek Forever After</td>\n",
       "      <td>P/DW</td>\n",
       "      <td>238700000.0</td>\n",
       "      <td>513900000</td>\n",
       "      <td>2010</td>\n",
       "    </tr>\n",
       "    <tr>\n",
       "      <th>...</th>\n",
       "      <td>...</td>\n",
       "      <td>...</td>\n",
       "      <td>...</td>\n",
       "      <td>...</td>\n",
       "      <td>...</td>\n",
       "    </tr>\n",
       "    <tr>\n",
       "      <th>3382</th>\n",
       "      <td>The Quake</td>\n",
       "      <td>Magn.</td>\n",
       "      <td>6200.0</td>\n",
       "      <td>NaN</td>\n",
       "      <td>2018</td>\n",
       "    </tr>\n",
       "    <tr>\n",
       "      <th>3383</th>\n",
       "      <td>Edward II (2018 re-release)</td>\n",
       "      <td>FM</td>\n",
       "      <td>4800.0</td>\n",
       "      <td>NaN</td>\n",
       "      <td>2018</td>\n",
       "    </tr>\n",
       "    <tr>\n",
       "      <th>3384</th>\n",
       "      <td>El Pacto</td>\n",
       "      <td>Sony</td>\n",
       "      <td>2500.0</td>\n",
       "      <td>NaN</td>\n",
       "      <td>2018</td>\n",
       "    </tr>\n",
       "    <tr>\n",
       "      <th>3385</th>\n",
       "      <td>The Swan</td>\n",
       "      <td>Synergetic</td>\n",
       "      <td>2400.0</td>\n",
       "      <td>NaN</td>\n",
       "      <td>2018</td>\n",
       "    </tr>\n",
       "    <tr>\n",
       "      <th>3386</th>\n",
       "      <td>An Actor Prepares</td>\n",
       "      <td>Grav.</td>\n",
       "      <td>1700.0</td>\n",
       "      <td>NaN</td>\n",
       "      <td>2018</td>\n",
       "    </tr>\n",
       "  </tbody>\n",
       "</table>\n",
       "<p>3387 rows × 5 columns</p>\n",
       "</div>"
      ],
      "text/plain": [
       "                                            title      studio  domestic_gross  \\\n",
       "0                                     Toy Story 3          BV     415000000.0   \n",
       "1                      Alice in Wonderland (2010)          BV     334200000.0   \n",
       "2     Harry Potter and the Deathly Hallows Part 1          WB     296000000.0   \n",
       "3                                       Inception          WB     292600000.0   \n",
       "4                             Shrek Forever After        P/DW     238700000.0   \n",
       "...                                           ...         ...             ...   \n",
       "3382                                    The Quake       Magn.          6200.0   \n",
       "3383                  Edward II (2018 re-release)          FM          4800.0   \n",
       "3384                                     El Pacto        Sony          2500.0   \n",
       "3385                                     The Swan  Synergetic          2400.0   \n",
       "3386                            An Actor Prepares       Grav.          1700.0   \n",
       "\n",
       "     foreign_gross  year  \n",
       "0        652000000  2010  \n",
       "1        691300000  2010  \n",
       "2        664300000  2010  \n",
       "3        535700000  2010  \n",
       "4        513900000  2010  \n",
       "...            ...   ...  \n",
       "3382           NaN  2018  \n",
       "3383           NaN  2018  \n",
       "3384           NaN  2018  \n",
       "3385           NaN  2018  \n",
       "3386           NaN  2018  \n",
       "\n",
       "[3387 rows x 5 columns]"
      ]
     },
     "execution_count": 37,
     "metadata": {},
     "output_type": "execute_result"
    }
   ],
   "source": [
    "bom_movie"
   ]
  },
  {
   "cell_type": "code",
   "execution_count": 38,
   "metadata": {},
   "outputs": [],
   "source": [
    "bom_movie_cp = bom_movie.copy(deep=True)\n",
    "bom_movie_cp = bom_movie_cp.drop(columns=['domestic_gross', 'foreign_gross', 'studio'])"
   ]
  },
  {
   "cell_type": "code",
   "execution_count": 39,
   "metadata": {},
   "outputs": [
    {
     "data": {
      "application/vnd.microsoft.datawrangler.viewer.v0+json": {
       "columns": [
        {
         "name": "index",
         "rawType": "int64",
         "type": "integer"
        },
        {
         "name": "id",
         "rawType": "int64",
         "type": "integer"
        },
        {
         "name": "release_date",
         "rawType": "object",
         "type": "string"
        },
        {
         "name": "movie",
         "rawType": "object",
         "type": "string"
        },
        {
         "name": "production_budget",
         "rawType": "object",
         "type": "string"
        },
        {
         "name": "domestic_gross",
         "rawType": "object",
         "type": "string"
        },
        {
         "name": "worldwide_gross",
         "rawType": "object",
         "type": "string"
        }
       ],
       "ref": "120a5cf2-33cc-4311-acee-4eaa6cbb1bb2",
       "rows": [
        [
         "0",
         "1",
         "Dec 18, 2009",
         "Avatar",
         "$425,000,000",
         "$760,507,625",
         "$2,776,345,279"
        ],
        [
         "1",
         "2",
         "May 20, 2011",
         "Pirates of the Caribbean: On Stranger Tides",
         "$410,600,000",
         "$241,063,875",
         "$1,045,663,875"
        ],
        [
         "2",
         "3",
         "Jun 7, 2019",
         "Dark Phoenix",
         "$350,000,000",
         "$42,762,350",
         "$149,762,350"
        ],
        [
         "3",
         "4",
         "May 1, 2015",
         "Avengers: Age of Ultron",
         "$330,600,000",
         "$459,005,868",
         "$1,403,013,963"
        ],
        [
         "4",
         "5",
         "Dec 15, 2017",
         "Star Wars Ep. VIII: The Last Jedi",
         "$317,000,000",
         "$620,181,382",
         "$1,316,721,747"
        ],
        [
         "5",
         "6",
         "Dec 18, 2015",
         "Star Wars Ep. VII: The Force Awakens",
         "$306,000,000",
         "$936,662,225",
         "$2,053,311,220"
        ],
        [
         "6",
         "7",
         "Apr 27, 2018",
         "Avengers: Infinity War",
         "$300,000,000",
         "$678,815,482",
         "$2,048,134,200"
        ],
        [
         "7",
         "8",
         "May 24, 2007",
         "Pirates of the Caribbean: At Worldâs End",
         "$300,000,000",
         "$309,420,425",
         "$963,420,425"
        ],
        [
         "8",
         "9",
         "Nov 17, 2017",
         "Justice League",
         "$300,000,000",
         "$229,024,295",
         "$655,945,209"
        ],
        [
         "9",
         "10",
         "Nov 6, 2015",
         "Spectre",
         "$300,000,000",
         "$200,074,175",
         "$879,620,923"
        ],
        [
         "10",
         "11",
         "Jul 20, 2012",
         "The Dark Knight Rises",
         "$275,000,000",
         "$448,139,099",
         "$1,084,439,099"
        ],
        [
         "11",
         "12",
         "May 25, 2018",
         "Solo: A Star Wars Story",
         "$275,000,000",
         "$213,767,512",
         "$393,151,347"
        ],
        [
         "12",
         "13",
         "Jul 2, 2013",
         "The Lone Ranger",
         "$275,000,000",
         "$89,302,115",
         "$260,002,115"
        ],
        [
         "13",
         "14",
         "Mar 9, 2012",
         "John Carter",
         "$275,000,000",
         "$73,058,679",
         "$282,778,100"
        ],
        [
         "14",
         "15",
         "Nov 24, 2010",
         "Tangled",
         "$260,000,000",
         "$200,821,936",
         "$586,477,240"
        ],
        [
         "15",
         "16",
         "May 4, 2007",
         "Spider-Man 3",
         "$258,000,000",
         "$336,530,303",
         "$894,860,230"
        ],
        [
         "16",
         "17",
         "May 6, 2016",
         "Captain America: Civil War",
         "$250,000,000",
         "$408,084,349",
         "$1,140,069,413"
        ],
        [
         "17",
         "18",
         "Mar 25, 2016",
         "Batman v Superman: Dawn of Justice",
         "$250,000,000",
         "$330,360,194",
         "$867,500,281"
        ],
        [
         "18",
         "19",
         "Dec 14, 2012",
         "The Hobbit: An Unexpected Journey",
         "$250,000,000",
         "$303,003,568",
         "$1,017,003,568"
        ],
        [
         "19",
         "20",
         "Jul 15, 2009",
         "Harry Potter and the Half-Blood Prince",
         "$250,000,000",
         "$302,089,278",
         "$935,213,767"
        ],
        [
         "20",
         "21",
         "Dec 13, 2013",
         "The Hobbit: The Desolation of Smaug",
         "$250,000,000",
         "$258,366,855",
         "$960,366,855"
        ],
        [
         "21",
         "22",
         "Dec 17, 2014",
         "The Hobbit: The Battle of the Five Armies",
         "$250,000,000",
         "$255,119,788",
         "$945,577,621"
        ],
        [
         "22",
         "23",
         "Apr 14, 2017",
         "The Fate of the Furious",
         "$250,000,000",
         "$225,764,765",
         "$1,234,846,267"
        ],
        [
         "23",
         "24",
         "Jun 28, 2006",
         "Superman Returns",
         "$232,000,000",
         "$200,120,000",
         "$374,085,065"
        ],
        [
         "24",
         "25",
         "May 26, 2017",
         "Pirates of the Caribbean: Dead Men Tell No Tales",
         "$230,000,000",
         "$172,558,876",
         "$788,241,137"
        ],
        [
         "25",
         "26",
         "Nov 14, 2008",
         "Quantum of Solace",
         "$230,000,000",
         "$169,368,427",
         "$591,692,078"
        ],
        [
         "26",
         "27",
         "May 4, 2012",
         "The Avengers",
         "$225,000,000",
         "$623,279,547",
         "$1,517,935,897"
        ],
        [
         "27",
         "28",
         "Jul 7, 2006",
         "Pirates of the Caribbean: Dead Manâs Chest",
         "$225,000,000",
         "$423,315,812",
         "$1,066,215,812"
        ],
        [
         "28",
         "29",
         "Jun 14, 2013",
         "Man of Steel",
         "$225,000,000",
         "$291,045,518",
         "$667,999,518"
        ],
        [
         "29",
         "30",
         "May 16, 2008",
         "The Chronicles of Narnia: Prince Caspian",
         "$225,000,000",
         "$141,621,490",
         "$417,341,288"
        ],
        [
         "30",
         "31",
         "Jul 3, 2012",
         "The Amazing Spider-Man",
         "$220,000,000",
         "$262,030,663",
         "$757,890,267"
        ],
        [
         "31",
         "32",
         "May 18, 2012",
         "Battleship",
         "$220,000,000",
         "$65,233,400",
         "$313,477,717"
        ],
        [
         "32",
         "33",
         "Jun 21, 2017",
         "Transformers: The Last Knight",
         "$217,000,000",
         "$130,168,683",
         "$602,893,340"
        ],
        [
         "33",
         "34",
         "Jun 12, 2015",
         "Jurassic World",
         "$215,000,000",
         "$652,270,625",
         "$1,648,854,864"
        ],
        [
         "34",
         "35",
         "May 25, 2012",
         "Men in Black 3",
         "$215,000,000",
         "$179,020,854",
         "$654,213,485"
        ],
        [
         "35",
         "36",
         "Jun 24, 2009",
         "Transformers: Revenge of the Fallen",
         "$210,000,000",
         "$402,111,870",
         "$836,519,699"
        ],
        [
         "36",
         "37",
         "Jun 27, 2014",
         "Transformers: Age of Extinction",
         "$210,000,000",
         "$245,439,076",
         "$1,104,039,076"
        ],
        [
         "37",
         "38",
         "May 26, 2006",
         "X-Men: The Last Stand",
         "$210,000,000",
         "$234,362,462",
         "$459,260,946"
        ],
        [
         "38",
         "39",
         "May 14, 2010",
         "Robin Hood",
         "$210,000,000",
         "$105,487,148",
         "$322,459,006"
        ],
        [
         "39",
         "40",
         "Dec 14, 2005",
         "King Kong",
         "$207,000,000",
         "$218,080,025",
         "$550,517,357"
        ],
        [
         "40",
         "41",
         "Dec 7, 2007",
         "The Golden Compass",
         "$205,000,000",
         "$70,107,728",
         "$367,262,558"
        ],
        [
         "41",
         "42",
         "Feb 16, 2018",
         "Black Panther",
         "$200,000,000",
         "$700,059,566",
         "$1,348,258,224"
        ],
        [
         "42",
         "43",
         "Dec 19, 1997",
         "Titanic",
         "$200,000,000",
         "$659,363,944",
         "$2,208,208,395"
        ],
        [
         "43",
         "44",
         "Jun 15, 2018",
         "Incredibles 2",
         "$200,000,000",
         "$608,581,744",
         "$1,242,520,711"
        ],
        [
         "44",
         "45",
         "Dec 16, 2016",
         "Rogue One: A Star Wars Story",
         "$200,000,000",
         "$532,177,324",
         "$1,049,102,856"
        ],
        [
         "45",
         "46",
         "Jun 17, 2016",
         "Finding Dory",
         "$200,000,000",
         "$486,295,561",
         "$1,021,215,193"
        ],
        [
         "46",
         "47",
         "Jun 18, 2010",
         "Toy Story 3",
         "$200,000,000",
         "$415,004,880",
         "$1,068,879,522"
        ],
        [
         "47",
         "48",
         "May 3, 2013",
         "Iron Man 3",
         "$200,000,000",
         "$408,992,272",
         "$1,215,392,272"
        ],
        [
         "48",
         "49",
         "May 5, 2017",
         "Guardians of the Galaxy Vol 2",
         "$200,000,000",
         "$389,813,101",
         "$862,316,233"
        ],
        [
         "49",
         "50",
         "Jun 30, 2004",
         "Spider-Man 2",
         "$200,000,000",
         "$373,524,485",
         "$795,110,670"
        ]
       ],
       "shape": {
        "columns": 6,
        "rows": 5782
       }
      },
      "text/html": [
       "<div>\n",
       "<style scoped>\n",
       "    .dataframe tbody tr th:only-of-type {\n",
       "        vertical-align: middle;\n",
       "    }\n",
       "\n",
       "    .dataframe tbody tr th {\n",
       "        vertical-align: top;\n",
       "    }\n",
       "\n",
       "    .dataframe thead th {\n",
       "        text-align: right;\n",
       "    }\n",
       "</style>\n",
       "<table border=\"1\" class=\"dataframe\">\n",
       "  <thead>\n",
       "    <tr style=\"text-align: right;\">\n",
       "      <th></th>\n",
       "      <th>id</th>\n",
       "      <th>release_date</th>\n",
       "      <th>movie</th>\n",
       "      <th>production_budget</th>\n",
       "      <th>domestic_gross</th>\n",
       "      <th>worldwide_gross</th>\n",
       "    </tr>\n",
       "  </thead>\n",
       "  <tbody>\n",
       "    <tr>\n",
       "      <th>0</th>\n",
       "      <td>1</td>\n",
       "      <td>Dec 18, 2009</td>\n",
       "      <td>Avatar</td>\n",
       "      <td>$425,000,000</td>\n",
       "      <td>$760,507,625</td>\n",
       "      <td>$2,776,345,279</td>\n",
       "    </tr>\n",
       "    <tr>\n",
       "      <th>1</th>\n",
       "      <td>2</td>\n",
       "      <td>May 20, 2011</td>\n",
       "      <td>Pirates of the Caribbean: On Stranger Tides</td>\n",
       "      <td>$410,600,000</td>\n",
       "      <td>$241,063,875</td>\n",
       "      <td>$1,045,663,875</td>\n",
       "    </tr>\n",
       "    <tr>\n",
       "      <th>2</th>\n",
       "      <td>3</td>\n",
       "      <td>Jun 7, 2019</td>\n",
       "      <td>Dark Phoenix</td>\n",
       "      <td>$350,000,000</td>\n",
       "      <td>$42,762,350</td>\n",
       "      <td>$149,762,350</td>\n",
       "    </tr>\n",
       "    <tr>\n",
       "      <th>3</th>\n",
       "      <td>4</td>\n",
       "      <td>May 1, 2015</td>\n",
       "      <td>Avengers: Age of Ultron</td>\n",
       "      <td>$330,600,000</td>\n",
       "      <td>$459,005,868</td>\n",
       "      <td>$1,403,013,963</td>\n",
       "    </tr>\n",
       "    <tr>\n",
       "      <th>4</th>\n",
       "      <td>5</td>\n",
       "      <td>Dec 15, 2017</td>\n",
       "      <td>Star Wars Ep. VIII: The Last Jedi</td>\n",
       "      <td>$317,000,000</td>\n",
       "      <td>$620,181,382</td>\n",
       "      <td>$1,316,721,747</td>\n",
       "    </tr>\n",
       "    <tr>\n",
       "      <th>...</th>\n",
       "      <td>...</td>\n",
       "      <td>...</td>\n",
       "      <td>...</td>\n",
       "      <td>...</td>\n",
       "      <td>...</td>\n",
       "      <td>...</td>\n",
       "    </tr>\n",
       "    <tr>\n",
       "      <th>5777</th>\n",
       "      <td>78</td>\n",
       "      <td>Dec 31, 2018</td>\n",
       "      <td>Red 11</td>\n",
       "      <td>$7,000</td>\n",
       "      <td>$0</td>\n",
       "      <td>$0</td>\n",
       "    </tr>\n",
       "    <tr>\n",
       "      <th>5778</th>\n",
       "      <td>79</td>\n",
       "      <td>Apr 2, 1999</td>\n",
       "      <td>Following</td>\n",
       "      <td>$6,000</td>\n",
       "      <td>$48,482</td>\n",
       "      <td>$240,495</td>\n",
       "    </tr>\n",
       "    <tr>\n",
       "      <th>5779</th>\n",
       "      <td>80</td>\n",
       "      <td>Jul 13, 2005</td>\n",
       "      <td>Return to the Land of Wonders</td>\n",
       "      <td>$5,000</td>\n",
       "      <td>$1,338</td>\n",
       "      <td>$1,338</td>\n",
       "    </tr>\n",
       "    <tr>\n",
       "      <th>5780</th>\n",
       "      <td>81</td>\n",
       "      <td>Sep 29, 2015</td>\n",
       "      <td>A Plague So Pleasant</td>\n",
       "      <td>$1,400</td>\n",
       "      <td>$0</td>\n",
       "      <td>$0</td>\n",
       "    </tr>\n",
       "    <tr>\n",
       "      <th>5781</th>\n",
       "      <td>82</td>\n",
       "      <td>Aug 5, 2005</td>\n",
       "      <td>My Date With Drew</td>\n",
       "      <td>$1,100</td>\n",
       "      <td>$181,041</td>\n",
       "      <td>$181,041</td>\n",
       "    </tr>\n",
       "  </tbody>\n",
       "</table>\n",
       "<p>5782 rows × 6 columns</p>\n",
       "</div>"
      ],
      "text/plain": [
       "      id  release_date                                        movie  \\\n",
       "0      1  Dec 18, 2009                                       Avatar   \n",
       "1      2  May 20, 2011  Pirates of the Caribbean: On Stranger Tides   \n",
       "2      3   Jun 7, 2019                                 Dark Phoenix   \n",
       "3      4   May 1, 2015                      Avengers: Age of Ultron   \n",
       "4      5  Dec 15, 2017            Star Wars Ep. VIII: The Last Jedi   \n",
       "...   ..           ...                                          ...   \n",
       "5777  78  Dec 31, 2018                                       Red 11   \n",
       "5778  79   Apr 2, 1999                                    Following   \n",
       "5779  80  Jul 13, 2005                Return to the Land of Wonders   \n",
       "5780  81  Sep 29, 2015                         A Plague So Pleasant   \n",
       "5781  82   Aug 5, 2005                            My Date With Drew   \n",
       "\n",
       "     production_budget domestic_gross worldwide_gross  \n",
       "0         $425,000,000   $760,507,625  $2,776,345,279  \n",
       "1         $410,600,000   $241,063,875  $1,045,663,875  \n",
       "2         $350,000,000    $42,762,350    $149,762,350  \n",
       "3         $330,600,000   $459,005,868  $1,403,013,963  \n",
       "4         $317,000,000   $620,181,382  $1,316,721,747  \n",
       "...                ...            ...             ...  \n",
       "5777            $7,000             $0              $0  \n",
       "5778            $6,000        $48,482        $240,495  \n",
       "5779            $5,000         $1,338          $1,338  \n",
       "5780            $1,400             $0              $0  \n",
       "5781            $1,100       $181,041        $181,041  \n",
       "\n",
       "[5782 rows x 6 columns]"
      ]
     },
     "execution_count": 39,
     "metadata": {},
     "output_type": "execute_result"
    }
   ],
   "source": [
    "tn_budget"
   ]
  },
  {
   "cell_type": "code",
   "execution_count": 40,
   "metadata": {},
   "outputs": [
    {
     "data": {
      "application/vnd.microsoft.datawrangler.viewer.v0+json": {
       "columns": [
        {
         "name": "index",
         "rawType": "int64",
         "type": "integer"
        },
        {
         "name": "id",
         "rawType": "int64",
         "type": "integer"
        },
        {
         "name": "release_date",
         "rawType": "object",
         "type": "string"
        },
        {
         "name": "movie_title",
         "rawType": "object",
         "type": "string"
        },
        {
         "name": "production_budget",
         "rawType": "object",
         "type": "string"
        },
        {
         "name": "domestic_gross",
         "rawType": "object",
         "type": "string"
        },
        {
         "name": "worldwide_gross",
         "rawType": "object",
         "type": "string"
        }
       ],
       "ref": "c5f9540e-8fe7-4780-9317-4c7be6bbd97d",
       "rows": [
        [
         "0",
         "1",
         "Dec 18, 2009",
         "Avatar",
         "$425,000,000",
         "$760,507,625",
         "$2,776,345,279"
        ],
        [
         "1",
         "2",
         "May 20, 2011",
         "Pirates of the Caribbean: On Stranger Tides",
         "$410,600,000",
         "$241,063,875",
         "$1,045,663,875"
        ],
        [
         "2",
         "3",
         "Jun 7, 2019",
         "Dark Phoenix",
         "$350,000,000",
         "$42,762,350",
         "$149,762,350"
        ],
        [
         "3",
         "4",
         "May 1, 2015",
         "Avengers: Age of Ultron",
         "$330,600,000",
         "$459,005,868",
         "$1,403,013,963"
        ],
        [
         "4",
         "5",
         "Dec 15, 2017",
         "Star Wars Ep. VIII: The Last Jedi",
         "$317,000,000",
         "$620,181,382",
         "$1,316,721,747"
        ],
        [
         "5",
         "6",
         "Dec 18, 2015",
         "Star Wars Ep. VII: The Force Awakens",
         "$306,000,000",
         "$936,662,225",
         "$2,053,311,220"
        ],
        [
         "6",
         "7",
         "Apr 27, 2018",
         "Avengers: Infinity War",
         "$300,000,000",
         "$678,815,482",
         "$2,048,134,200"
        ],
        [
         "7",
         "8",
         "May 24, 2007",
         "Pirates of the Caribbean: At Worldâs End",
         "$300,000,000",
         "$309,420,425",
         "$963,420,425"
        ],
        [
         "8",
         "9",
         "Nov 17, 2017",
         "Justice League",
         "$300,000,000",
         "$229,024,295",
         "$655,945,209"
        ],
        [
         "9",
         "10",
         "Nov 6, 2015",
         "Spectre",
         "$300,000,000",
         "$200,074,175",
         "$879,620,923"
        ],
        [
         "10",
         "11",
         "Jul 20, 2012",
         "The Dark Knight Rises",
         "$275,000,000",
         "$448,139,099",
         "$1,084,439,099"
        ],
        [
         "11",
         "12",
         "May 25, 2018",
         "Solo: A Star Wars Story",
         "$275,000,000",
         "$213,767,512",
         "$393,151,347"
        ],
        [
         "12",
         "13",
         "Jul 2, 2013",
         "The Lone Ranger",
         "$275,000,000",
         "$89,302,115",
         "$260,002,115"
        ],
        [
         "13",
         "14",
         "Mar 9, 2012",
         "John Carter",
         "$275,000,000",
         "$73,058,679",
         "$282,778,100"
        ],
        [
         "14",
         "15",
         "Nov 24, 2010",
         "Tangled",
         "$260,000,000",
         "$200,821,936",
         "$586,477,240"
        ],
        [
         "15",
         "16",
         "May 4, 2007",
         "Spider-Man 3",
         "$258,000,000",
         "$336,530,303",
         "$894,860,230"
        ],
        [
         "16",
         "17",
         "May 6, 2016",
         "Captain America: Civil War",
         "$250,000,000",
         "$408,084,349",
         "$1,140,069,413"
        ],
        [
         "17",
         "18",
         "Mar 25, 2016",
         "Batman v Superman: Dawn of Justice",
         "$250,000,000",
         "$330,360,194",
         "$867,500,281"
        ],
        [
         "18",
         "19",
         "Dec 14, 2012",
         "The Hobbit: An Unexpected Journey",
         "$250,000,000",
         "$303,003,568",
         "$1,017,003,568"
        ],
        [
         "19",
         "20",
         "Jul 15, 2009",
         "Harry Potter and the Half-Blood Prince",
         "$250,000,000",
         "$302,089,278",
         "$935,213,767"
        ],
        [
         "20",
         "21",
         "Dec 13, 2013",
         "The Hobbit: The Desolation of Smaug",
         "$250,000,000",
         "$258,366,855",
         "$960,366,855"
        ],
        [
         "21",
         "22",
         "Dec 17, 2014",
         "The Hobbit: The Battle of the Five Armies",
         "$250,000,000",
         "$255,119,788",
         "$945,577,621"
        ],
        [
         "22",
         "23",
         "Apr 14, 2017",
         "The Fate of the Furious",
         "$250,000,000",
         "$225,764,765",
         "$1,234,846,267"
        ],
        [
         "23",
         "24",
         "Jun 28, 2006",
         "Superman Returns",
         "$232,000,000",
         "$200,120,000",
         "$374,085,065"
        ],
        [
         "24",
         "25",
         "May 26, 2017",
         "Pirates of the Caribbean: Dead Men Tell No Tales",
         "$230,000,000",
         "$172,558,876",
         "$788,241,137"
        ],
        [
         "25",
         "26",
         "Nov 14, 2008",
         "Quantum of Solace",
         "$230,000,000",
         "$169,368,427",
         "$591,692,078"
        ],
        [
         "26",
         "27",
         "May 4, 2012",
         "The Avengers",
         "$225,000,000",
         "$623,279,547",
         "$1,517,935,897"
        ],
        [
         "27",
         "28",
         "Jul 7, 2006",
         "Pirates of the Caribbean: Dead Manâs Chest",
         "$225,000,000",
         "$423,315,812",
         "$1,066,215,812"
        ],
        [
         "28",
         "29",
         "Jun 14, 2013",
         "Man of Steel",
         "$225,000,000",
         "$291,045,518",
         "$667,999,518"
        ],
        [
         "29",
         "30",
         "May 16, 2008",
         "The Chronicles of Narnia: Prince Caspian",
         "$225,000,000",
         "$141,621,490",
         "$417,341,288"
        ],
        [
         "30",
         "31",
         "Jul 3, 2012",
         "The Amazing Spider-Man",
         "$220,000,000",
         "$262,030,663",
         "$757,890,267"
        ],
        [
         "31",
         "32",
         "May 18, 2012",
         "Battleship",
         "$220,000,000",
         "$65,233,400",
         "$313,477,717"
        ],
        [
         "32",
         "33",
         "Jun 21, 2017",
         "Transformers: The Last Knight",
         "$217,000,000",
         "$130,168,683",
         "$602,893,340"
        ],
        [
         "33",
         "34",
         "Jun 12, 2015",
         "Jurassic World",
         "$215,000,000",
         "$652,270,625",
         "$1,648,854,864"
        ],
        [
         "34",
         "35",
         "May 25, 2012",
         "Men in Black 3",
         "$215,000,000",
         "$179,020,854",
         "$654,213,485"
        ],
        [
         "35",
         "36",
         "Jun 24, 2009",
         "Transformers: Revenge of the Fallen",
         "$210,000,000",
         "$402,111,870",
         "$836,519,699"
        ],
        [
         "36",
         "37",
         "Jun 27, 2014",
         "Transformers: Age of Extinction",
         "$210,000,000",
         "$245,439,076",
         "$1,104,039,076"
        ],
        [
         "37",
         "38",
         "May 26, 2006",
         "X-Men: The Last Stand",
         "$210,000,000",
         "$234,362,462",
         "$459,260,946"
        ],
        [
         "38",
         "39",
         "May 14, 2010",
         "Robin Hood",
         "$210,000,000",
         "$105,487,148",
         "$322,459,006"
        ],
        [
         "39",
         "40",
         "Dec 14, 2005",
         "King Kong",
         "$207,000,000",
         "$218,080,025",
         "$550,517,357"
        ],
        [
         "40",
         "41",
         "Dec 7, 2007",
         "The Golden Compass",
         "$205,000,000",
         "$70,107,728",
         "$367,262,558"
        ],
        [
         "41",
         "42",
         "Feb 16, 2018",
         "Black Panther",
         "$200,000,000",
         "$700,059,566",
         "$1,348,258,224"
        ],
        [
         "42",
         "43",
         "Dec 19, 1997",
         "Titanic",
         "$200,000,000",
         "$659,363,944",
         "$2,208,208,395"
        ],
        [
         "43",
         "44",
         "Jun 15, 2018",
         "Incredibles 2",
         "$200,000,000",
         "$608,581,744",
         "$1,242,520,711"
        ],
        [
         "44",
         "45",
         "Dec 16, 2016",
         "Rogue One: A Star Wars Story",
         "$200,000,000",
         "$532,177,324",
         "$1,049,102,856"
        ],
        [
         "45",
         "46",
         "Jun 17, 2016",
         "Finding Dory",
         "$200,000,000",
         "$486,295,561",
         "$1,021,215,193"
        ],
        [
         "46",
         "47",
         "Jun 18, 2010",
         "Toy Story 3",
         "$200,000,000",
         "$415,004,880",
         "$1,068,879,522"
        ],
        [
         "47",
         "48",
         "May 3, 2013",
         "Iron Man 3",
         "$200,000,000",
         "$408,992,272",
         "$1,215,392,272"
        ],
        [
         "48",
         "49",
         "May 5, 2017",
         "Guardians of the Galaxy Vol 2",
         "$200,000,000",
         "$389,813,101",
         "$862,316,233"
        ],
        [
         "49",
         "50",
         "Jun 30, 2004",
         "Spider-Man 2",
         "$200,000,000",
         "$373,524,485",
         "$795,110,670"
        ]
       ],
       "shape": {
        "columns": 6,
        "rows": 5782
       }
      },
      "text/html": [
       "<div>\n",
       "<style scoped>\n",
       "    .dataframe tbody tr th:only-of-type {\n",
       "        vertical-align: middle;\n",
       "    }\n",
       "\n",
       "    .dataframe tbody tr th {\n",
       "        vertical-align: top;\n",
       "    }\n",
       "\n",
       "    .dataframe thead th {\n",
       "        text-align: right;\n",
       "    }\n",
       "</style>\n",
       "<table border=\"1\" class=\"dataframe\">\n",
       "  <thead>\n",
       "    <tr style=\"text-align: right;\">\n",
       "      <th></th>\n",
       "      <th>id</th>\n",
       "      <th>release_date</th>\n",
       "      <th>movie_title</th>\n",
       "      <th>production_budget</th>\n",
       "      <th>domestic_gross</th>\n",
       "      <th>worldwide_gross</th>\n",
       "    </tr>\n",
       "  </thead>\n",
       "  <tbody>\n",
       "    <tr>\n",
       "      <th>0</th>\n",
       "      <td>1</td>\n",
       "      <td>Dec 18, 2009</td>\n",
       "      <td>Avatar</td>\n",
       "      <td>$425,000,000</td>\n",
       "      <td>$760,507,625</td>\n",
       "      <td>$2,776,345,279</td>\n",
       "    </tr>\n",
       "    <tr>\n",
       "      <th>1</th>\n",
       "      <td>2</td>\n",
       "      <td>May 20, 2011</td>\n",
       "      <td>Pirates of the Caribbean: On Stranger Tides</td>\n",
       "      <td>$410,600,000</td>\n",
       "      <td>$241,063,875</td>\n",
       "      <td>$1,045,663,875</td>\n",
       "    </tr>\n",
       "    <tr>\n",
       "      <th>2</th>\n",
       "      <td>3</td>\n",
       "      <td>Jun 7, 2019</td>\n",
       "      <td>Dark Phoenix</td>\n",
       "      <td>$350,000,000</td>\n",
       "      <td>$42,762,350</td>\n",
       "      <td>$149,762,350</td>\n",
       "    </tr>\n",
       "    <tr>\n",
       "      <th>3</th>\n",
       "      <td>4</td>\n",
       "      <td>May 1, 2015</td>\n",
       "      <td>Avengers: Age of Ultron</td>\n",
       "      <td>$330,600,000</td>\n",
       "      <td>$459,005,868</td>\n",
       "      <td>$1,403,013,963</td>\n",
       "    </tr>\n",
       "    <tr>\n",
       "      <th>4</th>\n",
       "      <td>5</td>\n",
       "      <td>Dec 15, 2017</td>\n",
       "      <td>Star Wars Ep. VIII: The Last Jedi</td>\n",
       "      <td>$317,000,000</td>\n",
       "      <td>$620,181,382</td>\n",
       "      <td>$1,316,721,747</td>\n",
       "    </tr>\n",
       "    <tr>\n",
       "      <th>...</th>\n",
       "      <td>...</td>\n",
       "      <td>...</td>\n",
       "      <td>...</td>\n",
       "      <td>...</td>\n",
       "      <td>...</td>\n",
       "      <td>...</td>\n",
       "    </tr>\n",
       "    <tr>\n",
       "      <th>5777</th>\n",
       "      <td>78</td>\n",
       "      <td>Dec 31, 2018</td>\n",
       "      <td>Red 11</td>\n",
       "      <td>$7,000</td>\n",
       "      <td>$0</td>\n",
       "      <td>$0</td>\n",
       "    </tr>\n",
       "    <tr>\n",
       "      <th>5778</th>\n",
       "      <td>79</td>\n",
       "      <td>Apr 2, 1999</td>\n",
       "      <td>Following</td>\n",
       "      <td>$6,000</td>\n",
       "      <td>$48,482</td>\n",
       "      <td>$240,495</td>\n",
       "    </tr>\n",
       "    <tr>\n",
       "      <th>5779</th>\n",
       "      <td>80</td>\n",
       "      <td>Jul 13, 2005</td>\n",
       "      <td>Return to the Land of Wonders</td>\n",
       "      <td>$5,000</td>\n",
       "      <td>$1,338</td>\n",
       "      <td>$1,338</td>\n",
       "    </tr>\n",
       "    <tr>\n",
       "      <th>5780</th>\n",
       "      <td>81</td>\n",
       "      <td>Sep 29, 2015</td>\n",
       "      <td>A Plague So Pleasant</td>\n",
       "      <td>$1,400</td>\n",
       "      <td>$0</td>\n",
       "      <td>$0</td>\n",
       "    </tr>\n",
       "    <tr>\n",
       "      <th>5781</th>\n",
       "      <td>82</td>\n",
       "      <td>Aug 5, 2005</td>\n",
       "      <td>My Date With Drew</td>\n",
       "      <td>$1,100</td>\n",
       "      <td>$181,041</td>\n",
       "      <td>$181,041</td>\n",
       "    </tr>\n",
       "  </tbody>\n",
       "</table>\n",
       "<p>5782 rows × 6 columns</p>\n",
       "</div>"
      ],
      "text/plain": [
       "      id  release_date                                  movie_title  \\\n",
       "0      1  Dec 18, 2009                                       Avatar   \n",
       "1      2  May 20, 2011  Pirates of the Caribbean: On Stranger Tides   \n",
       "2      3   Jun 7, 2019                                 Dark Phoenix   \n",
       "3      4   May 1, 2015                      Avengers: Age of Ultron   \n",
       "4      5  Dec 15, 2017            Star Wars Ep. VIII: The Last Jedi   \n",
       "...   ..           ...                                          ...   \n",
       "5777  78  Dec 31, 2018                                       Red 11   \n",
       "5778  79   Apr 2, 1999                                    Following   \n",
       "5779  80  Jul 13, 2005                Return to the Land of Wonders   \n",
       "5780  81  Sep 29, 2015                         A Plague So Pleasant   \n",
       "5781  82   Aug 5, 2005                            My Date With Drew   \n",
       "\n",
       "     production_budget domestic_gross worldwide_gross  \n",
       "0         $425,000,000   $760,507,625  $2,776,345,279  \n",
       "1         $410,600,000   $241,063,875  $1,045,663,875  \n",
       "2         $350,000,000    $42,762,350    $149,762,350  \n",
       "3         $330,600,000   $459,005,868  $1,403,013,963  \n",
       "4         $317,000,000   $620,181,382  $1,316,721,747  \n",
       "...                ...            ...             ...  \n",
       "5777            $7,000             $0              $0  \n",
       "5778            $6,000        $48,482        $240,495  \n",
       "5779            $5,000         $1,338          $1,338  \n",
       "5780            $1,400             $0              $0  \n",
       "5781            $1,100       $181,041        $181,041  \n",
       "\n",
       "[5782 rows x 6 columns]"
      ]
     },
     "execution_count": 40,
     "metadata": {},
     "output_type": "execute_result"
    }
   ],
   "source": [
    "tn_budget = tn_budget.rename(columns={\n",
    "    'movie':'movie_title'\n",
    "})\n",
    "tn_budget"
   ]
  },
  {
   "cell_type": "code",
   "execution_count": 41,
   "metadata": {},
   "outputs": [
    {
     "data": {
      "application/vnd.microsoft.datawrangler.viewer.v0+json": {
       "columns": [
        {
         "name": "index",
         "rawType": "int64",
         "type": "integer"
        },
        {
         "name": "movie_title",
         "rawType": "object",
         "type": "string"
        },
        {
         "name": "year",
         "rawType": "int64",
         "type": "integer"
        }
       ],
       "ref": "81c3da3e-5ccd-4879-8679-8fa3d22e6ac9",
       "rows": [
        [
         "0",
         "Toy Story 3",
         "2010"
        ],
        [
         "1",
         "Alice in Wonderland (2010)",
         "2010"
        ],
        [
         "2",
         "Harry Potter and the Deathly Hallows Part 1",
         "2010"
        ],
        [
         "3",
         "Inception",
         "2010"
        ],
        [
         "4",
         "Shrek Forever After",
         "2010"
        ],
        [
         "5",
         "The Twilight Saga: Eclipse",
         "2010"
        ],
        [
         "6",
         "Iron Man 2",
         "2010"
        ],
        [
         "7",
         "Tangled",
         "2010"
        ],
        [
         "8",
         "Despicable Me",
         "2010"
        ],
        [
         "9",
         "How to Train Your Dragon",
         "2010"
        ],
        [
         "10",
         "Clash of the Titans (2010)",
         "2010"
        ],
        [
         "11",
         "The Chronicles of Narnia: The Voyage of the Dawn Treader",
         "2010"
        ],
        [
         "12",
         "The King's Speech",
         "2010"
        ],
        [
         "13",
         "Tron Legacy",
         "2010"
        ],
        [
         "14",
         "The Karate Kid",
         "2010"
        ],
        [
         "15",
         "Prince of Persia: The Sands of Time",
         "2010"
        ],
        [
         "16",
         "Black Swan",
         "2010"
        ],
        [
         "17",
         "Megamind",
         "2010"
        ],
        [
         "18",
         "Robin Hood",
         "2010"
        ],
        [
         "19",
         "The Last Airbender",
         "2010"
        ],
        [
         "20",
         "Little Fockers",
         "2010"
        ],
        [
         "21",
         "Resident Evil: Afterlife",
         "2010"
        ],
        [
         "22",
         "Shutter Island",
         "2010"
        ],
        [
         "23",
         "Salt",
         "2010"
        ],
        [
         "24",
         "Sex and the City 2",
         "2010"
        ],
        [
         "25",
         "The Tourist",
         "2010"
        ],
        [
         "26",
         "The Expendables",
         "2010"
        ],
        [
         "27",
         "Grown Ups",
         "2010"
        ],
        [
         "28",
         "Knight & Day",
         "2010"
        ],
        [
         "29",
         "True Grit",
         "2010"
        ],
        [
         "30",
         "Gulliver's Travels",
         "2010"
        ],
        [
         "31",
         "Percy Jackson & The Olympians: The Lightning Thief",
         "2010"
        ],
        [
         "32",
         "The Social Network",
         "2010"
        ],
        [
         "33",
         "Valentine's Day",
         "2010"
        ],
        [
         "34",
         "The Sorcerer's Apprentice",
         "2010"
        ],
        [
         "35",
         "Due Date",
         "2010"
        ],
        [
         "36",
         "Eat Pray Love",
         "2010"
        ],
        [
         "37",
         "Yogi Bear",
         "2010"
        ],
        [
         "38",
         "Red",
         "2010"
        ],
        [
         "39",
         "Paranormal Activity 2",
         "2010"
        ],
        [
         "40",
         "The A-Team",
         "2010"
        ],
        [
         "41",
         "Jackass 3-D",
         "2010"
        ],
        [
         "42",
         "The Other Guys",
         "2010"
        ],
        [
         "43",
         "Unstoppable",
         "2010"
        ],
        [
         "44",
         "Step Up 3-D",
         "2010"
        ],
        [
         "45",
         "The Book of Eli",
         "2010"
        ],
        [
         "46",
         "The Town",
         "2010"
        ],
        [
         "47",
         "Date Night",
         "2010"
        ],
        [
         "48",
         "Legend of the Guardians: The Owls of Ga'Hoole",
         "2010"
        ],
        [
         "49",
         "The Wolfman",
         "2010"
        ]
       ],
       "shape": {
        "columns": 2,
        "rows": 3387
       }
      },
      "text/html": [
       "<div>\n",
       "<style scoped>\n",
       "    .dataframe tbody tr th:only-of-type {\n",
       "        vertical-align: middle;\n",
       "    }\n",
       "\n",
       "    .dataframe tbody tr th {\n",
       "        vertical-align: top;\n",
       "    }\n",
       "\n",
       "    .dataframe thead th {\n",
       "        text-align: right;\n",
       "    }\n",
       "</style>\n",
       "<table border=\"1\" class=\"dataframe\">\n",
       "  <thead>\n",
       "    <tr style=\"text-align: right;\">\n",
       "      <th></th>\n",
       "      <th>movie_title</th>\n",
       "      <th>year</th>\n",
       "    </tr>\n",
       "  </thead>\n",
       "  <tbody>\n",
       "    <tr>\n",
       "      <th>0</th>\n",
       "      <td>Toy Story 3</td>\n",
       "      <td>2010</td>\n",
       "    </tr>\n",
       "    <tr>\n",
       "      <th>1</th>\n",
       "      <td>Alice in Wonderland (2010)</td>\n",
       "      <td>2010</td>\n",
       "    </tr>\n",
       "    <tr>\n",
       "      <th>2</th>\n",
       "      <td>Harry Potter and the Deathly Hallows Part 1</td>\n",
       "      <td>2010</td>\n",
       "    </tr>\n",
       "    <tr>\n",
       "      <th>3</th>\n",
       "      <td>Inception</td>\n",
       "      <td>2010</td>\n",
       "    </tr>\n",
       "    <tr>\n",
       "      <th>4</th>\n",
       "      <td>Shrek Forever After</td>\n",
       "      <td>2010</td>\n",
       "    </tr>\n",
       "    <tr>\n",
       "      <th>...</th>\n",
       "      <td>...</td>\n",
       "      <td>...</td>\n",
       "    </tr>\n",
       "    <tr>\n",
       "      <th>3382</th>\n",
       "      <td>The Quake</td>\n",
       "      <td>2018</td>\n",
       "    </tr>\n",
       "    <tr>\n",
       "      <th>3383</th>\n",
       "      <td>Edward II (2018 re-release)</td>\n",
       "      <td>2018</td>\n",
       "    </tr>\n",
       "    <tr>\n",
       "      <th>3384</th>\n",
       "      <td>El Pacto</td>\n",
       "      <td>2018</td>\n",
       "    </tr>\n",
       "    <tr>\n",
       "      <th>3385</th>\n",
       "      <td>The Swan</td>\n",
       "      <td>2018</td>\n",
       "    </tr>\n",
       "    <tr>\n",
       "      <th>3386</th>\n",
       "      <td>An Actor Prepares</td>\n",
       "      <td>2018</td>\n",
       "    </tr>\n",
       "  </tbody>\n",
       "</table>\n",
       "<p>3387 rows × 2 columns</p>\n",
       "</div>"
      ],
      "text/plain": [
       "                                      movie_title  year\n",
       "0                                     Toy Story 3  2010\n",
       "1                      Alice in Wonderland (2010)  2010\n",
       "2     Harry Potter and the Deathly Hallows Part 1  2010\n",
       "3                                       Inception  2010\n",
       "4                             Shrek Forever After  2010\n",
       "...                                           ...   ...\n",
       "3382                                    The Quake  2018\n",
       "3383                  Edward II (2018 re-release)  2018\n",
       "3384                                     El Pacto  2018\n",
       "3385                                     The Swan  2018\n",
       "3386                            An Actor Prepares  2018\n",
       "\n",
       "[3387 rows x 2 columns]"
      ]
     },
     "execution_count": 41,
     "metadata": {},
     "output_type": "execute_result"
    }
   ],
   "source": [
    "bom_movie_cp = bom_movie_cp.rename(columns={\n",
    "    'title':'movie_title'\n",
    "})\n",
    "bom_movie_cp"
   ]
  },
  {
   "cell_type": "code",
   "execution_count": 42,
   "metadata": {},
   "outputs": [],
   "source": [
    "def clean_title(df, title_col='movie_title'):\n",
    "    df[title_col] = df[title_col].str.lower()                     \n",
    "    df[title_col] = df[title_col].str.strip()                      \n",
    "    df[title_col] = df[title_col].str.replace(r'[^a-z0-9 ]', '', regex=True)  \n",
    "    return df"
   ]
  },
  {
   "cell_type": "code",
   "execution_count": 43,
   "metadata": {},
   "outputs": [
    {
     "data": {
      "application/vnd.microsoft.datawrangler.viewer.v0+json": {
       "columns": [
        {
         "name": "index",
         "rawType": "int64",
         "type": "integer"
        },
        {
         "name": "movie_title",
         "rawType": "object",
         "type": "string"
        },
        {
         "name": "year",
         "rawType": "int64",
         "type": "integer"
        }
       ],
       "ref": "163024bb-a1dd-4ad9-800b-d805f923ac80",
       "rows": [
        [
         "0",
         "toy story 3",
         "2010"
        ],
        [
         "1",
         "alice in wonderland 2010",
         "2010"
        ],
        [
         "2",
         "harry potter and the deathly hallows part 1",
         "2010"
        ],
        [
         "3",
         "inception",
         "2010"
        ],
        [
         "4",
         "shrek forever after",
         "2010"
        ],
        [
         "5",
         "the twilight saga eclipse",
         "2010"
        ],
        [
         "6",
         "iron man 2",
         "2010"
        ],
        [
         "7",
         "tangled",
         "2010"
        ],
        [
         "8",
         "despicable me",
         "2010"
        ],
        [
         "9",
         "how to train your dragon",
         "2010"
        ],
        [
         "10",
         "clash of the titans 2010",
         "2010"
        ],
        [
         "11",
         "the chronicles of narnia the voyage of the dawn treader",
         "2010"
        ],
        [
         "12",
         "the kings speech",
         "2010"
        ],
        [
         "13",
         "tron legacy",
         "2010"
        ],
        [
         "14",
         "the karate kid",
         "2010"
        ],
        [
         "15",
         "prince of persia the sands of time",
         "2010"
        ],
        [
         "16",
         "black swan",
         "2010"
        ],
        [
         "17",
         "megamind",
         "2010"
        ],
        [
         "18",
         "robin hood",
         "2010"
        ],
        [
         "19",
         "the last airbender",
         "2010"
        ],
        [
         "20",
         "little fockers",
         "2010"
        ],
        [
         "21",
         "resident evil afterlife",
         "2010"
        ],
        [
         "22",
         "shutter island",
         "2010"
        ],
        [
         "23",
         "salt",
         "2010"
        ],
        [
         "24",
         "sex and the city 2",
         "2010"
        ],
        [
         "25",
         "the tourist",
         "2010"
        ],
        [
         "26",
         "the expendables",
         "2010"
        ],
        [
         "27",
         "grown ups",
         "2010"
        ],
        [
         "28",
         "knight  day",
         "2010"
        ],
        [
         "29",
         "true grit",
         "2010"
        ],
        [
         "30",
         "gullivers travels",
         "2010"
        ],
        [
         "31",
         "percy jackson  the olympians the lightning thief",
         "2010"
        ],
        [
         "32",
         "the social network",
         "2010"
        ],
        [
         "33",
         "valentines day",
         "2010"
        ],
        [
         "34",
         "the sorcerers apprentice",
         "2010"
        ],
        [
         "35",
         "due date",
         "2010"
        ],
        [
         "36",
         "eat pray love",
         "2010"
        ],
        [
         "37",
         "yogi bear",
         "2010"
        ],
        [
         "38",
         "red",
         "2010"
        ],
        [
         "39",
         "paranormal activity 2",
         "2010"
        ],
        [
         "40",
         "the ateam",
         "2010"
        ],
        [
         "41",
         "jackass 3d",
         "2010"
        ],
        [
         "42",
         "the other guys",
         "2010"
        ],
        [
         "43",
         "unstoppable",
         "2010"
        ],
        [
         "44",
         "step up 3d",
         "2010"
        ],
        [
         "45",
         "the book of eli",
         "2010"
        ],
        [
         "46",
         "the town",
         "2010"
        ],
        [
         "47",
         "date night",
         "2010"
        ],
        [
         "48",
         "legend of the guardians the owls of gahoole",
         "2010"
        ],
        [
         "49",
         "the wolfman",
         "2010"
        ]
       ],
       "shape": {
        "columns": 2,
        "rows": 3387
       }
      },
      "text/html": [
       "<div>\n",
       "<style scoped>\n",
       "    .dataframe tbody tr th:only-of-type {\n",
       "        vertical-align: middle;\n",
       "    }\n",
       "\n",
       "    .dataframe tbody tr th {\n",
       "        vertical-align: top;\n",
       "    }\n",
       "\n",
       "    .dataframe thead th {\n",
       "        text-align: right;\n",
       "    }\n",
       "</style>\n",
       "<table border=\"1\" class=\"dataframe\">\n",
       "  <thead>\n",
       "    <tr style=\"text-align: right;\">\n",
       "      <th></th>\n",
       "      <th>movie_title</th>\n",
       "      <th>year</th>\n",
       "    </tr>\n",
       "  </thead>\n",
       "  <tbody>\n",
       "    <tr>\n",
       "      <th>0</th>\n",
       "      <td>toy story 3</td>\n",
       "      <td>2010</td>\n",
       "    </tr>\n",
       "    <tr>\n",
       "      <th>1</th>\n",
       "      <td>alice in wonderland 2010</td>\n",
       "      <td>2010</td>\n",
       "    </tr>\n",
       "    <tr>\n",
       "      <th>2</th>\n",
       "      <td>harry potter and the deathly hallows part 1</td>\n",
       "      <td>2010</td>\n",
       "    </tr>\n",
       "    <tr>\n",
       "      <th>3</th>\n",
       "      <td>inception</td>\n",
       "      <td>2010</td>\n",
       "    </tr>\n",
       "    <tr>\n",
       "      <th>4</th>\n",
       "      <td>shrek forever after</td>\n",
       "      <td>2010</td>\n",
       "    </tr>\n",
       "    <tr>\n",
       "      <th>...</th>\n",
       "      <td>...</td>\n",
       "      <td>...</td>\n",
       "    </tr>\n",
       "    <tr>\n",
       "      <th>3382</th>\n",
       "      <td>the quake</td>\n",
       "      <td>2018</td>\n",
       "    </tr>\n",
       "    <tr>\n",
       "      <th>3383</th>\n",
       "      <td>edward ii 2018 rerelease</td>\n",
       "      <td>2018</td>\n",
       "    </tr>\n",
       "    <tr>\n",
       "      <th>3384</th>\n",
       "      <td>el pacto</td>\n",
       "      <td>2018</td>\n",
       "    </tr>\n",
       "    <tr>\n",
       "      <th>3385</th>\n",
       "      <td>the swan</td>\n",
       "      <td>2018</td>\n",
       "    </tr>\n",
       "    <tr>\n",
       "      <th>3386</th>\n",
       "      <td>an actor prepares</td>\n",
       "      <td>2018</td>\n",
       "    </tr>\n",
       "  </tbody>\n",
       "</table>\n",
       "<p>3387 rows × 2 columns</p>\n",
       "</div>"
      ],
      "text/plain": [
       "                                      movie_title  year\n",
       "0                                     toy story 3  2010\n",
       "1                        alice in wonderland 2010  2010\n",
       "2     harry potter and the deathly hallows part 1  2010\n",
       "3                                       inception  2010\n",
       "4                             shrek forever after  2010\n",
       "...                                           ...   ...\n",
       "3382                                    the quake  2018\n",
       "3383                     edward ii 2018 rerelease  2018\n",
       "3384                                     el pacto  2018\n",
       "3385                                     the swan  2018\n",
       "3386                            an actor prepares  2018\n",
       "\n",
       "[3387 rows x 2 columns]"
      ]
     },
     "execution_count": 43,
     "metadata": {},
     "output_type": "execute_result"
    }
   ],

   "cell_type": "markdown",
   "metadata": {},

   "source": [
    "## 3. When should we release our films?\n",
    "- Which months/seasons show the strongest box office performance?\n",
    "- How can we avoid oversaturated release periods?"
   ]
  },
  {
   "cell_type": "markdown",
   "metadata": {},
   "source": [
    "#### Release Timing\n",
    "Line Graph: Monthly box office performance over time\n",
    "Heatmap: Revenue by month and genre combination\n",
    "Seasonal Bar Chart: Quarterly performance comparison"
   ]
  },
  {
   "cell_type": "code",
   "execution_count": 113,
   "metadata": {},
   "outputs": [
    {
     "data": {
      "application/vnd.microsoft.datawrangler.viewer.v0+json": {
       "columns": [
        {
         "name": "index",
         "rawType": "int64",
         "type": "integer"
        },
        {
         "name": "id",
         "rawType": "int64",
         "type": "integer"
        },
        {
         "name": "release_date",
         "rawType": "object",
         "type": "string"
        },
        {
         "name": "movie_title",
         "rawType": "object",
         "type": "string"
        },
        {
         "name": "production_budget",
         "rawType": "object",
         "type": "string"
        },
        {
         "name": "domestic_gross",
         "rawType": "object",
         "type": "string"
        },
        {
         "name": "worldwide_gross",
         "rawType": "object",
         "type": "string"
        },
        {
         "name": "year",
         "rawType": "int64",
         "type": "integer"
        },
        {
         "name": "movie_id",
         "rawType": "object",
         "type": "string"
        },
        {
         "name": "original_title",
         "rawType": "object",
         "type": "string"
        },
        {
         "name": "release_year",
         "rawType": "int64",
         "type": "integer"
        },
        {
         "name": "runtime_min",
         "rawType": "float64",
         "type": "float"
        },
        {
         "name": "genres",
         "rawType": "object",
         "type": "string"
        },
        {
         "name": "imdb_rating",
         "rawType": "float64",
         "type": "float"
        },
        {
         "name": "imdb_votes",
         "rawType": "int64",
         "type": "integer"
        },
        {
         "name": "alt_title",
         "rawType": "object",
         "type": "string"
        },
        {
         "name": "release_region",
         "rawType": "object",
         "type": "unknown"
        },
        {
         "name": "person_id",
         "rawType": "object",
         "type": "string"
        },
        {
         "name": "person_name",
         "rawType": "object",
         "type": "string"
        },
        {
         "name": "person_profession",
         "rawType": "object",
         "type": "string"
        }
       ],
       "ref": "ecf7f996-549b-4f89-b49c-63b05b8f3680",
       "rows": [
        [
         "0",
         "2",
         "May 20, 2011",
         "pirates of the caribbean on stranger tides",
         "$410,600,000",
         "$241,063,875",
         "$1,045,663,875",
         "2011",
         "tt1298650",
         "Pirates of the Caribbean: On Stranger Tides",
         "2011",
         "136.0",
         "Action,Adventure,Fantasy",
         "6.6",
         "447624",
         "Pairêtsu obu Karibian: Inochi no izumi",
         "JP",
         "nm0551128",
         "Rob Marshall",
         "director,miscellaneous,producer"
        ],
        [
         "46",
         "4",
         "May 1, 2015",
         "avengers age of ultron",
         "$330,600,000",
         "$459,005,868",
         "$1,403,013,963",
         "2015",
         "tt2395427",
         "Avengers: Age of Ultron",
         "2015",
         "141.0",
         "Action,Adventure,Sci-Fi",
         "7.3",
         "665594",
         "Qisasçilar 2",
         "AZ",
         "nm0923736",
         "Joss Whedon",
         "writer,producer,director"
        ],
        [
         "87",
         "7",
         "Apr 27, 2018",
         "avengers infinity war",
         "$300,000,000",
         "$678,815,482",
         "$2,048,134,200",
         "2018",
         "tt4154756",
         "Avengers: Infinity War",
         "2018",
         "149.0",
         "Action,Adventure,Sci-Fi",
         "8.5",
         "670926",
         "Avengers: Infinity War",
         "AR",
         "nm0751648",
         "Joe Russo",
         "producer,director,writer"
        ],
        [
         "163",
         "9",
         "Nov 17, 2017",
         "justice league",
         "$300,000,000",
         "$229,024,295",
         "$655,945,209",
         "2017",
         "tt0974015",
         "Justice League",
         "2017",
         "120.0",
         "Action,Adventure,Fantasy",
         "6.5",
         "329135",
         "Liga pravde",
         "RS",
         "nm0811583",
         "Zack Snyder",
         "producer,director,writer"
        ],
        [
         "196",
         "10",
         "Nov 6, 2015",
         "spectre",
         "$300,000,000",
         "$200,074,175",
         "$879,620,923",
         "2015",
         "tt2379713",
         "Spectre",
         "2015",
         "148.0",
         "Action,Adventure,Thriller",
         "6.8",
         "352504",
         "Спектър",
         "BG",
         "nm0005222",
         "Sam Mendes",
         "producer,director,miscellaneous"
        ],
        [
         "229",
         "12",
         "May 25, 2018",
         "solo a star wars story",
         "$275,000,000",
         "$213,767,512",
         "$393,151,347",
         "2018",
         "tt3778644",
         "Solo: A Star Wars Story",
         "2018",
         "135.0",
         "Action,Adventure,Fantasy",
         "7.0",
         "226243",
         "Solo: A Star Wars Story",
         "SE",
         "nm0000165",
         "Ron Howard",
         "actor,producer,director"
        ],
        [
         "267",
         "13",
         "Jul 2, 2013",
         "the lone ranger",
         "$275,000,000",
         "$89,302,115",
         "$260,002,115",
         "2013",
         "tt1210819",
         "The Lone Ranger",
         "2013",
         "150.0",
         "Action,Adventure,Western",
         "6.4",
         "208827",
         "The Lone Ranger",
         "IT",
         "nm0893659",
         "Gore Verbinski",
         "director,producer,writer"
        ],
        [
         "302",
         "14",
         "Mar 9, 2012",
         "john carter",
         "$275,000,000",
         "$73,058,679",
         "$282,778,100",
         "2012",
         "tt0401729",
         "John Carter",
         "2012",
         "132.0",
         "Action,Adventure,Sci-Fi",
         "6.6",
         "241792",
         "Джон Картер: Мiж двох свiтiв",
         "UA",
         "nm0004056",
         "Andrew Stanton",
         "writer,actor,producer"
        ],
        [
         "336",
         "15",
         "Nov 24, 2010",
         "tangled",
         "$260,000,000",
         "$200,821,936",
         "$586,477,240",
         "2010",
         "tt0398286",
         "Tangled",
         "2010",
         "100.0",
         "Adventure,Animation,Comedy",
         "7.8",
         "366366",
         "Raiponce",
         "FR",
         "nm0397174",
         "Byron Howard",
         "animation_department,director,actor"
        ],
        [
         "438",
         "17",
         "May 6, 2016",
         "captain america civil war",
         "$250,000,000",
         "$408,084,349",
         "$1,140,069,413",
         "2016",
         "tt3498820",
         "Captain America: Civil War",
         "2016",
         "147.0",
         "Action,Adventure,Sci-Fi",
         "7.8",
         "583507",
         "Sputnik",
         "US",
         "nm0751648",
         "Joe Russo",
         "producer,director,writer"
        ],
        [
         "522",
         "22",
         "Dec 17, 2014",
         "the hobbit the battle of the five armies",
         "$250,000,000",
         "$255,119,788",
         "$945,577,621",
         "2014",
         "tt2310332",
         "The Hobbit: The Battle of the Five Armies",
         "2014",
         "144.0",
         "Adventure,Fantasy",
         "7.4",
         "438621",
         "Hobbit del 3: Femhäraslaget",
         "SE",
         "nm0001392",
         "Peter Jackson",
         "producer,director,writer"
        ],
        [
         "577",
         "23",
         "Apr 14, 2017",
         "the fate of the furious",
         "$250,000,000",
         "$225,764,765",
         "$1,234,846,267",
         "2017",
         "tt4630562",
         "The Fate of the Furious",
         "2017",
         "136.0",
         "Action,Crime,Thriller",
         "6.7",
         "179774",
         "Fast & Furious 8",
         "IT",
         "nm0336620",
         "F. Gary Gray",
         "director,actor,producer"
        ],
        [
         "629",
         "25",
         "May 26, 2017",
         "pirates of the caribbean dead men tell no tales",
         "$230,000,000",
         "$172,558,876",
         "$788,241,137",
         "2017",
         "tt1790809",
         "Pirates of the Caribbean: Dead Men Tell No Tales",
         "2017",
         "129.0",
         "Action,Adventure,Fantasy",
         "6.6",
         "228592",
         "Pirates of the Caribbean: Salazar's Revenge",
         "SE",
         "nm1461392",
         "Joachim Rønning",
         "director,writer,producer"
        ],
        [
         "735",
         "29",
         "Jun 14, 2013",
         "man of steel",
         "$225,000,000",
         "$291,045,518",
         "$667,999,518",
         "2013",
         "tt0770828",
         "Man of Steel",
         "2013",
         "143.0",
         "Action,Adventure,Sci-Fi",
         "7.1",
         "647288",
         "Čovek od čelika",
         "RS",
         "nm0811583",
         "Zack Snyder",
         "producer,director,writer"
        ],
        [
         "777",
         "31",
         "Jul 3, 2012",
         "the amazing spiderman",
         "$220,000,000",
         "$262,030,663",
         "$757,890,267",
         "2012",
         "tt0948470",
         "The Amazing Spider-Man",
         "2012",
         "136.0",
         "Action,Adventure,Sci-Fi",
         "7.0",
         "525632",
         "El Sorprendente Hombre Araña",
         "VE",
         "nm1989536",
         "Marc Webb",
         "producer,director,writer"
        ],
        [
         "821",
         "32",
         "May 18, 2012",
         "battleship",
         "$220,000,000",
         "$65,233,400",
         "$313,477,717",
         "2012",
         "tt1440129",
         "Battleship",
         "2012",
         "131.0",
         "Action,Adventure,Sci-Fi",
         "5.8",
         "225342",
         "Battleship: Batalla naval",
         "UY",
         "nm0000916",
         "Peter Berg",
         "producer,actor,writer"
        ],
        [
         "849",
         "34",
         "Jun 12, 2015",
         "jurassic world",
         "$215,000,000",
         "$652,270,625",
         "$1,648,854,864",
         "2015",
         "tt0369610",
         "Jurassic World",
         "2015",
         "124.0",
         "Action,Adventure,Sci-Fi",
         "7.0",
         "539338",
         "Джурасик свят",
         "BG",
         "nm1119880",
         "Colin Trevorrow",
         "writer,producer,director"
        ],
        [
         "897",
         "39",
         "May 14, 2010",
         "robin hood",
         "$210,000,000",
         "$105,487,148",
         "$322,459,006",
         "2010",
         "tt0955308",
         "Robin Hood",
         "2010",
         "140.0",
         "Action,Adventure,Drama",
         "6.6",
         "239480",
         "Робин Гуд",
         "RU",
         "nm0000631",
         "Ridley Scott",
         "producer,director,production_designer"
        ],
        [
         "955",
         "42",
         "Feb 16, 2018",
         "black panther",
         "$200,000,000",
         "$700,059,566",
         "$1,348,258,224",
         "2018",
         "tt1825683",
         "Black Panther",
         "2018",
         "134.0",
         "Action,Adventure,Sci-Fi",
         "7.3",
         "516148",
         "Чорна Пантера",
         "UA",
         "nm3363032",
         "Ryan Coogler",
         "director,writer,producer"
        ],
        [
         "984",
         "44",
         "Jun 15, 2018",
         "incredibles 2",
         "$200,000,000",
         "$608,581,744",
         "$1,242,520,711",
         "2018",
         "tt3606756",
         "Incredibles 2",
         "2018",
         "118.0",
         "Action,Adventure,Animation",
         "7.7",
         "203510",
         "Neviđeni 2",
         "RS",
         "nm0083348",
         "Brad Bird",
         "miscellaneous,writer,director"
        ],
        [
         "1023",
         "45",
         "Dec 16, 2016",
         "rogue one a star wars story",
         "$200,000,000",
         "$532,177,324",
         "$1,049,102,856",
         "2016",
         "tt3748528",
         "Rogue One",
         "2016",
         "133.0",
         "Action,Adventure,Sci-Fi",
         "7.8",
         "478592",
         "Rogue One: A Star Wars Story",
         "IT",
         "nm2284484",
         "Gareth Edwards",
         "visual_effects,director,writer"
        ],
        [
         "1065",
         "46",
         "Jun 17, 2016",
         "finding dory",
         "$200,000,000",
         "$486,295,561",
         "$1,021,215,193",
         "2016",
         "tt2277860",
         "Finding Dory",
         "2016",
         "97.0",
         "Adventure,Animation,Comedy",
         "7.3",
         "213542",
         "Potraga za Dorom",
         "HR",
         "nm0533691",
         "Angus MacLane",
         "animation_department,actor,writer"
        ],
        [
         "1155",
         "47",
         "Jun 18, 2010",
         "toy story 3",
         "$200,000,000",
         "$415,004,880",
         "$1,068,879,522",
         "2010",
         "tt0435761",
         "Toy Story 3",
         "2010",
         "103.0",
         "Adventure,Animation,Comedy",
         "8.3",
         "682218",
         "Η ιστορία των παιχνιδιών 3",
         "GR",
         "nm0881279",
         "Lee Unkrich",
         "editorial_department,editor,miscellaneous"
        ],
        [
         "1192",
         "48",
         "May 3, 2013",
         "iron man 3",
         "$200,000,000",
         "$408,992,272",
         "$1,215,392,272",
         "2013",
         "tt1300854",
         "Iron Man Three",
         "2013",
         "130.0",
         "Action,Adventure,Sci-Fi",
         "7.2",
         "692794",
         "Nguoi Sat 3",
         "VN",
         "nm0000948",
         "Shane Black",
         "writer,actor,director"
        ],
        [
         "1235",
         "49",
         "May 5, 2017",
         "guardians of the galaxy vol 2",
         "$200,000,000",
         "$389,813,101",
         "$862,316,233",
         "2017",
         "tt3896198",
         "Guardians of the Galaxy Vol. 2",
         "2017",
         "136.0",
         "Action,Adventure,Comedy",
         "7.7",
         "482917",
         "Strážci Galaxie Vol. 2",
         "CZ",
         "nm0348181",
         "James Gunn",
         "writer,producer,director"
        ],
        [
         "1273",
         "52",
         "Nov 8, 2012",
         "skyfall",
         "$200,000,000",
         "$304,360,277",
         "$1,110,526,981",
         "2012",
         "tt1074638",
         "Skyfall",
         "2012",
         "143.0",
         "Action,Adventure,Thriller",
         "7.8",
         "592221",
         "Tu dia Skyfall",
         "VN",
         "nm0005222",
         "Sam Mendes",
         "producer,director,miscellaneous"
        ],
        [
         "1317",
         "53",
         "Jun 21, 2013",
         "monsters university",
         "$200,000,000",
         "$268,488,329",
         "$743,588,329",
         "2013",
         "tt1453405",
         "Monsters University",
         "2013",
         "104.0",
         "Adventure,Animation,Comedy",
         "7.3",
         "291887",
         "Sevimli Canavarlar Üniversitesi",
         "TR",
         "nm0768959",
         "Dan Scanlon",
         "writer,art_department,director"
        ],
        [
         "1364",
         "54",
         "Mar 8, 2013",
         "oz the great and powerful",
         "$200,000,000",
         "$234,770,996",
         "$490,359,051",
         "2013",
         "tt1623205",
         "Oz the Great and Powerful",
         "2013",
         "130.0",
         "Adventure,Family,Fantasy",
         "6.3",
         "192045",
         "Mogocni Oz",
         "SI",
         "nm0000600",
         "Sam Raimi",
         "producer,writer,director"
        ],
        [
         "1402",
         "55",
         "May 23, 2014",
         "xmen days of future past",
         "$200,000,000",
         "$233,921,534",
         "$747,862,775",
         "2014",
         "tt1877832",
         "X-Men: Days of Future Past",
         "2014",
         "132.0",
         "Action,Adventure,Sci-Fi",
         "8.0",
         "620079",
         "X-Men: Days of Future Past",
         "US",
         "nm0001741",
         "Bryan Singer",
         "producer,director,writer"
        ],
        [
         "1440",
         "56",
         "May 2, 2014",
         "the amazing spiderman 2",
         "$200,000,000",
         "$202,853,933",
         "$708,996,336",
         "2014",
         "tt1872181",
         "The Amazing Spider-Man 2",
         "2014",
         "142.0",
         "Action,Adventure,Sci-Fi",
         "6.6",
         "388363",
         "London Calling",
         "US",
         "nm1989536",
         "Marc Webb",
         "producer,director,writer"
        ],
        [
         "1476",
         "57",
         "Jun 24, 2011",
         "cars 2",
         "$200,000,000",
         "$191,450,875",
         "$560,155,383",
         "2011",
         "tt1216475",
         "Cars 2",
         "2011",
         "106.0",
         "Adventure,Animation,Comedy",
         "6.2",
         "138914",
         "Cars 2",
         "UY",
         "nm0005124",
         "John Lasseter",
         "producer,writer,director"
        ],
        [
         "1550",
         "58",
         "Dec 17, 2010",
         "tron legacy",
         "$200,000,000",
         "$172,062,763",
         "$400,062,763",
         "2010",
         "tt1104001",
         "Tron",
         "2010",
         "125.0",
         "Action,Adventure,Fantasy",
         "6.8",
         "296211",
         "Tron: Örökség",
         "HU",
         "nm2676052",
         "Joseph Kosinski",
         "director,writer,producer"
        ],
        [
         "1598",
         "60",
         "Nov 16, 2018",
         "fantastic beasts the crimes of grindelwald",
         "$200,000,000",
         "$159,555,901",
         "$652,220,086",
         "2018",
         "tt4123430",
         "Fantastic Beasts: The Crimes of Grindelwald",
         "2018",
         "134.0",
         "Adventure,Family,Fantasy",
         "6.6",
         "163151",
         "Animales Fantásticos: Los crímenes de Grindelwald",
         "PE",
         "nm0946734",
         "David Yates",
         "director,producer,writer"
        ],
        [
         "1637",
         "62",
         "Jun 17, 2011",
         "green lantern",
         "$200,000,000",
         "$116,601,172",
         "$219,535,492",
         "2011",
         "tt1133985",
         "Green Lantern",
         "2011",
         "114.0",
         "Action,Adventure,Sci-Fi",
         "5.5",
         "252281",
         "Green Lantern",
         null,
         "nm0132709",
         "Martin Campbell",
         "director,producer,actor"
        ],
        [
         "1665",
         "66",
         "Mar 1, 2013",
         "jack the giant slayer",
         "$195,000,000",
         "$65,187,603",
         "$197,687,603",
         "2013",
         "tt1351685",
         "Jack the Giant Slayer",
         "2013",
         "114.0",
         "Adventure,Fantasy",
         "6.3",
         "123127",
         "Jack le chasseur de géants",
         "FR",
         "nm0001741",
         "Bryan Singer",
         "producer,director,writer"
        ],
        [
         "1700",
         "67",
         "Apr 3, 2015",
         "furious 7",
         "$190,000,000",
         "$353,007,020",
         "$1,518,722,794",
         "2015",
         "tt2820852",
         "Furious Seven",
         "2015",
         "137.0",
         "Action,Crime,Thriller",
         "7.2",
         "335074",
         "Furious 7",
         "NL",
         "nm1490123",
         "James Wan",
         "producer,writer,director"
        ],
        [
         "1751",
         "68",
         "May 16, 2013",
         "star trek into darkness",
         "$190,000,000",
         "$228,778,661",
         "$467,381,584",
         "2013",
         "tt1408101",
         "Star Trek Into Darkness",
         "2013",
         "132.0",
         "Action,Adventure,Sci-Fi",
         "7.7",
         "445535",
         "Além da Escuridão: Star Trek",
         "BR",
         "nm0009190",
         "J.J. Abrams",
         "producer,writer,music_department"
        ],
        [
         "1797",
         "69",
         "Jun 21, 2013",
         "world war z",
         "$190,000,000",
         "$202,359,711",
         "$531,514,650",
         "2013",
         "tt0816711",
         "World War Z",
         "2013",
         "116.0",
         "Action,Adventure,Horror",
         "7.0",
         "553751",
         "Guerra Mundial Z",
         "BR",
         "nm0286975",
         "Marc Forster",
         "producer,director,writer"
        ],
        [
         "1834",
         "72",
         "Jul 12, 2013",
         "pacific rim",
         "$190,000,000",
         "$101,802,906",
         "$411,002,906",
         "2013",
         "tt1663662",
         "Pacific Rim",
         "2013",
         "131.0",
         "Action,Adventure,Sci-Fi",
         "6.9",
         "443667",
         "Το δαχτυλίδι της φωτιάς",
         "GR",
         "nm0868219",
         "Guillermo del Toro",
         "writer,producer,director"
        ],
        [
         "1869",
         "73",
         "Nov 25, 2015",
         "the good dinosaur",
         "$187,500,000",
         "$123,087,120",
         "$333,771,037",
         "2015",
         "tt1979388",
         "The Good Dinosaur",
         "2015",
         "93.0",
         "Adventure,Animation,Comedy",
         "6.7",
         "91465",
         "Untitled Pixar/Dinosaurs Project",
         "US",
         "nm0812307",
         "Peter Sohn",
         "actor,animation_department,art_department"
        ],
        [
         "1912",
         "77",
         "Jun 22, 2012",
         "brave",
         "$185,000,000",
         "$237,282,182",
         "$554,606,532",
         "2012",
         "tt1217209",
         "Brave",
         "2012",
         "93.0",
         "Adventure,Animation,Comedy",
         "7.1",
         "338728",
         "Ribelle: The Brave",
         "IT",
         "nm0028764",
         "Mark Andrews",
         "art_department,writer,miscellaneous"
        ],
        [
         "2065",
         "78",
         "Mar 10, 2017",
         "kong skull island",
         "$185,000,000",
         "$168,052,812",
         "$561,072,059",
         "2017",
         "tt3731562",
         "Kong: Skull Island",
         "2017",
         "118.0",
         "Action,Adventure,Fantasy",
         "6.6",
         "237720",
         "King Kong: Giant from Skull Island",
         "JP",
         "nm3611349",
         "Jordan Vogt-Roberts",
         "director,producer,writer"
        ],
        [
         "2098",
         "79",
         "Jul 22, 2016",
         "star trek beyond",
         "$185,000,000",
         "$158,848,340",
         "$335,802,233",
         "2016",
         "tt2660888",
         "Star Trek Beyond",
         "2016",
         "122.0",
         "Action,Adventure,Sci-Fi",
         "7.1",
         "209844",
         "Star Trek: Más allá",
         "ES",
         "nm0510912",
         "Justin Lin",
         "producer,director,writer"
        ],
        [
         "2135",
         "82",
         "Nov 3, 2017",
         "thor ragnarok",
         "$180,000,000",
         "$315,058,289",
         "$846,980,024",
         "2017",
         "tt3501632",
         "Thor: Ragnarok",
         "2017",
         "130.0",
         "Action,Adventure,Comedy",
         "7.9",
         "482995",
         "Thor: Ragnarok",
         "ES",
         "nm0169806",
         "Taika Waititi",
         "actor,producer,director"
        ],
        [
         "2170",
         "84",
         "May 30, 2014",
         "maleficent",
         "$180,000,000",
         "$241,407,328",
         "$758,536,735",
         "2014",
         "tt1587310",
         "Maleficent",
         "2014",
         "97.0",
         "Action,Adventure,Family",
         "7.0",
         "305832",
         "Czarownica",
         "PL",
         "nm0834902",
         "Robert Stromberg",
         "visual_effects,director,producer"
        ],
        [
         "2206",
         "85",
         "Nov 18, 2016",
         "fantastic beasts and where to find them",
         "$180,000,000",
         "$234,037,575",
         "$802,402,853",
         "2016",
         "tt3183660",
         "Fantastic Beasts and Where to Find Them",
         "2016",
         "132.0",
         "Adventure,Family,Fantasy",
         "7.3",
         "365353",
         "Animales fantásticos y dónde encontrarlos",
         "MX",
         "nm0946734",
         "David Yates",
         "director,producer,writer"
        ],
        [
         "2247",
         "88",
         "Jul 1, 2016",
         "the legend of tarzan",
         "$180,000,000",
         "$126,643,061",
         "$348,902,025",
         "2016",
         "tt0918940",
         "The Legend of Tarzan",
         "2016",
         "110.0",
         "Action,Adventure,Drama",
         "6.3",
         "150154",
         "La leyenda de Tarzán",
         "CL",
         "nm0946734",
         "David Yates",
         "director,producer,writer"
        ],
        [
         "2284",
         "89",
         "Nov 23, 2011",
         "hugo",
         "$180,000,000",
         "$73,864,507",
         "$180,047,784",
         "2011",
         "tt0970179",
         "Hugo",
         "2011",
         "126.0",
         "Adventure,Drama,Family",
         "7.5",
         "284869",
         "Hugo",
         "FI",
         "nm0000217",
         "Martin Scorsese",
         "producer,director,actor"
        ],
        [
         "2321",
         "90",
         "Jul 21, 2017",
         "valerian and the city of a thousand planets",
         "$180,000,000",
         "$40,479,370",
         "$215,098,356",
         "2017",
         "tt2239822",
         "Valerian and the City of a Thousand Planets",
         "2017",
         "137.0",
         "Action,Adventure,Fantasy",
         "6.5",
         "139792",
         "Valerian y la ciudad de los mil planetas",
         "ES",
         "nm0000108",
         "Luc Besson",
         "writer,producer,director"
        ],
        [
         "2354",
         "91",
         "Feb 6, 2015",
         "jupiter ascending",
         "$179,000,000",
         "$47,482,519",
         "$181,982,519",
         "2015",
         "tt1617661",
         "Jupiter Ascending",
         "2015",
         "127.0",
         "Action,Adventure,Sci-Fi",
         "5.3",
         "166327",
         "Jupiteri tõus",
         "EE",
         "nm0905152",
         "Lilly Wachowski",
         "writer,producer,director"
        ]
       ],
       "shape": {
        "columns": 19,
        "rows": 1232
       }
      },
      "text/html": [
       "<div>\n",
       "<style scoped>\n",
       "    .dataframe tbody tr th:only-of-type {\n",
       "        vertical-align: middle;\n",
       "    }\n",
       "\n",
       "    .dataframe tbody tr th {\n",
       "        vertical-align: top;\n",
       "    }\n",
       "\n",
       "    .dataframe thead th {\n",
       "        text-align: right;\n",
       "    }\n",
       "</style>\n",
       "<table border=\"1\" class=\"dataframe\">\n",
       "  <thead>\n",
       "    <tr style=\"text-align: right;\">\n",
       "      <th></th>\n",
       "      <th>id</th>\n",
       "      <th>release_date</th>\n",
       "      <th>movie</th>\n",
       "      <th>production_budget</th>\n",
       "      <th>domestic_gross</th>\n",
       "      <th>worldwide_gross</th>\n",
       "      <th>month</th>\n",
       "      <th>month_abbrev</th>\n",
       "    </tr>\n",
       "  </thead>\n",
       "  <tbody>\n",
       "    <tr>\n",
       "      <th>0</th>\n",

       "      <td>2</td>\n",
       "      <td>May 20, 2011</td>\n",
       "      <td>pirates of the caribbean on stranger tides</td>\n",
       "      <td>$410,600,000</td>\n",
       "      <td>$241,063,875</td>\n",
       "      <td>$1,045,663,875</td>\n",
       "      <td>2011</td>\n",
       "      <td>tt1298650</td>\n",
       "      <td>Pirates of the Caribbean: On Stranger Tides</td>\n",
       "      <td>2011</td>\n",
       "      <td>136.0</td>\n",
       "      <td>Action,Adventure,Fantasy</td>\n",
       "      <td>6.6</td>\n",
       "      <td>447624</td>\n",
       "      <td>Pairêtsu obu Karibian: Inochi no izumi</td>\n",
       "      <td>JP</td>\n",
       "      <td>nm0551128</td>\n",
       "      <td>Rob Marshall</td>\n",
       "      <td>director,miscellaneous,producer</td>\n",
       "    </tr>\n",
       "    <tr>\n",
       "      <th>46</th>\n",
       "      <td>4</td>\n",
       "      <td>May 1, 2015</td>\n",
       "      <td>avengers age of ultron</td>\n",
       "      <td>$330,600,000</td>\n",
       "      <td>$459,005,868</td>\n",
       "      <td>$1,403,013,963</td>\n",
       "      <td>2015</td>\n",
       "      <td>tt2395427</td>\n",
       "      <td>Avengers: Age of Ultron</td>\n",
       "      <td>2015</td>\n",
       "      <td>141.0</td>\n",
       "      <td>Action,Adventure,Sci-Fi</td>\n",
       "      <td>7.3</td>\n",
       "      <td>665594</td>\n",
       "      <td>Qisasçilar 2</td>\n",
       "      <td>AZ</td>\n",
       "      <td>nm0923736</td>\n",
       "      <td>Joss Whedon</td>\n",
       "      <td>writer,producer,director</td>\n",
       "    </tr>\n",
       "    <tr>\n",
       "      <th>87</th>\n",
       "      <td>7</td>\n",
       "      <td>Apr 27, 2018</td>\n",
       "      <td>avengers infinity war</td>\n",
       "      <td>$300,000,000</td>\n",
       "      <td>$678,815,482</td>\n",
       "      <td>$2,048,134,200</td>\n",
       "      <td>2018</td>\n",
       "      <td>tt4154756</td>\n",
       "      <td>Avengers: Infinity War</td>\n",
       "      <td>2018</td>\n",
       "      <td>149.0</td>\n",
       "      <td>Action,Adventure,Sci-Fi</td>\n",
       "      <td>8.5</td>\n",
       "      <td>670926</td>\n",
       "      <td>Avengers: Infinity War</td>\n",
       "      <td>AR</td>\n",
       "      <td>nm0751648</td>\n",
       "      <td>Joe Russo</td>\n",
       "      <td>producer,director,writer</td>\n",
       "    </tr>\n",
       "    <tr>\n",
       "      <th>163</th>\n",
       "      <td>9</td>\n",
       "      <td>Nov 17, 2017</td>\n",
       "      <td>justice league</td>\n",
       "      <td>$300,000,000</td>\n",
       "      <td>$229,024,295</td>\n",
       "      <td>$655,945,209</td>\n",
       "      <td>2017</td>\n",
       "      <td>tt0974015</td>\n",
       "      <td>Justice League</td>\n",
       "      <td>2017</td>\n",
       "      <td>120.0</td>\n",
       "      <td>Action,Adventure,Fantasy</td>\n",
       "      <td>6.5</td>\n",
       "      <td>329135</td>\n",
       "      <td>Liga pravde</td>\n",
       "      <td>RS</td>\n",
       "      <td>nm0811583</td>\n",
       "      <td>Zack Snyder</td>\n",
       "      <td>producer,director,writer</td>\n",
       "    </tr>\n",
       "    <tr>\n",
       "      <th>196</th>\n",
       "      <td>10</td>\n",
       "      <td>Nov 6, 2015</td>\n",
       "      <td>spectre</td>\n",
       "      <td>$300,000,000</td>\n",
       "      <td>$200,074,175</td>\n",
       "      <td>$879,620,923</td>\n",
       "      <td>2015</td>\n",
       "      <td>tt2379713</td>\n",
       "      <td>Spectre</td>\n",
       "      <td>2015</td>\n",
       "      <td>148.0</td>\n",
       "      <td>Action,Adventure,Thriller</td>\n",
       "      <td>6.8</td>\n",
       "      <td>352504</td>\n",
       "      <td>Спектър</td>\n",
       "      <td>BG</td>\n",
       "      <td>nm0005222</td>\n",
       "      <td>Sam Mendes</td>\n",
       "      <td>producer,director,miscellaneous</td>\n",
       "    </tr>\n",
       "    <tr>\n",
       "      <th>...</th>\n",
       "      <td>...</td>\n",
       "      <td>...</td>\n",
       "      <td>...</td>\n",
       "      <td>...</td>\n",
       "      <td>...</td>\n",
       "      <td>...</td>\n",
       "      <td>...</td>\n",
       "      <td>...</td>\n",
       "      <td>...</td>\n",
       "      <td>...</td>\n",
       "      <td>...</td>\n",
       "      <td>...</td>\n",
       "      <td>...</td>\n",
       "      <td>...</td>\n",
       "      <td>...</td>\n",
       "      <td>...</td>\n",
       "      <td>...</td>\n",
       "      <td>...</td>\n",
       "      <td>...</td>\n",
       "    </tr>\n",
       "    <tr>\n",
       "      <th>38839</th>\n",
       "      <td>68</td>\n",
       "      <td>Apr 27, 2012</td>\n",
       "      <td>sound of my voice</td>\n",
       "      <td>$135,000</td>\n",
       "      <td>$408,015</td>\n",
       "      <td>$429,448</td>\n",
       "      <td>2012</td>\n",
       "      <td>tt1748207</td>\n",
       "      <td>Sound of My Voice</td>\n",
       "      <td>2011</td>\n",
       "      <td>85.0</td>\n",
       "      <td>Drama,Mystery,Sci-Fi</td>\n",
       "      <td>6.6</td>\n",
       "      <td>19387</td>\n",
       "      <td>Dzwiek mego glosu</td>\n",
       "      <td>PL</td>\n",
       "      <td>nm2610231</td>\n",
       "      <td>Zal Batmanglij</td>\n",
       "      <td>writer,director,producer</td>\n",
       "    </tr>\n",
       "    <tr>\n",
       "      <th>38847</th>\n",
       "      <td>73</td>\n",
       "      <td>Jun 15, 2012</td>\n",
       "      <td>your sisters sister</td>\n",
       "      <td>$120,000</td>\n",
       "      <td>$1,597,486</td>\n",
       "      <td>$3,090,593</td>\n",
       "      <td>2012</td>\n",
       "      <td>tt1742336</td>\n",
       "      <td>Your Sister's Sister</td>\n",
       "      <td>2011</td>\n",
       "      <td>90.0</td>\n",
       "      <td>Comedy,Drama</td>\n",
       "      <td>6.7</td>\n",
       "      <td>24780</td>\n",
       "      <td>Your Sister's Sister</td>\n",
       "      <td>None</td>\n",
       "      <td>nm1119645</td>\n",
       "      <td>Lynn Shelton</td>\n",
       "      <td>director,actress,producer</td>\n",
       "    </tr>\n",
       "    <tr>\n",
       "      <th>38863</th>\n",
       "      <td>80</td>\n",
       "      <td>Jul 10, 2015</td>\n",
       "      <td>the gallows</td>\n",
       "      <td>$100,000</td>\n",
       "      <td>$22,764,410</td>\n",
       "      <td>$41,656,474</td>\n",
       "      <td>2015</td>\n",
       "      <td>tt2309260</td>\n",
       "      <td>The Gallows</td>\n",
       "      <td>2015</td>\n",
       "      <td>81.0</td>\n",
       "      <td>Horror,Mystery,Thriller</td>\n",
       "      <td>4.2</td>\n",
       "      <td>17763</td>\n",
       "      <td>Daragaci</td>\n",
       "      <td>TR</td>\n",
       "      <td>nm3951039</td>\n",
       "      <td>Chris Lofing</td>\n",
       "      <td>producer,director,writer</td>\n",
       "    </tr>\n",
       "    <tr>\n",
       "      <th>38913</th>\n",
       "      <td>86</td>\n",
       "      <td>Jul 7, 2017</td>\n",
       "      <td>a ghost story</td>\n",
       "      <td>$100,000</td>\n",
       "      <td>$1,594,798</td>\n",
       "      <td>$2,769,782</td>\n",
       "      <td>2017</td>\n",
       "      <td>tt6265828</td>\n",
       "      <td>A Ghost Story</td>\n",
       "      <td>2017</td>\n",
       "      <td>92.0</td>\n",
       "      <td>Drama,Fantasy,Romance</td>\n",
       "      <td>6.8</td>\n",
       "      <td>46280</td>\n",
       "      <td>Historia de fantasmas</td>\n",
       "      <td>MX</td>\n",
       "      <td>nm1108007</td>\n",
       "      <td>David Lowery</td>\n",
       "      <td>editor,producer,director</td>\n",
       "    </tr>\n",
       "    <tr>\n",
       "      <th>38929</th>\n",
       "      <td>18</td>\n",
       "      <td>Nov 12, 2010</td>\n",
       "      <td>tiny furniture</td>\n",
       "      <td>$50,000</td>\n",
       "      <td>$391,674</td>\n",
       "      <td>$424,149</td>\n",
       "      <td>2010</td>\n",
       "      <td>tt1570989</td>\n",
       "      <td>Tiny Furniture</td>\n",
       "      <td>2010</td>\n",
       "      <td>98.0</td>\n",
       "      <td>Comedy,Drama,Romance</td>\n",
       "      <td>6.2</td>\n",
       "      <td>13397</td>\n",
       "      <td>Rahitim Ze'irim</td>\n",
       "      <td>IL</td>\n",
       "      <td>nm2501633</td>\n",
       "      <td>Lena Dunham</td>\n",
       "      <td>writer,actress,producer</td>\n",
       "    </tr>\n",
       "  </tbody>\n",
       "</table>\n",
       "<p>1232 rows × 19 columns</p>\n",
       "</div>"
      ],
      "text/plain": [
       "       id  release_date                                 movie_title  \\\n",
       "0       2  May 20, 2011  pirates of the caribbean on stranger tides   \n",
       "46      4   May 1, 2015                      avengers age of ultron   \n",
       "87      7  Apr 27, 2018                       avengers infinity war   \n",
       "163     9  Nov 17, 2017                              justice league   \n",
       "196    10   Nov 6, 2015                                     spectre   \n",
       "...    ..           ...                                         ...   \n",
       "38839  68  Apr 27, 2012                           sound of my voice   \n",
       "38847  73  Jun 15, 2012                         your sisters sister   \n",
       "38863  80  Jul 10, 2015                                 the gallows   \n",
       "38913  86   Jul 7, 2017                               a ghost story   \n",
       "38929  18  Nov 12, 2010                              tiny furniture   \n",
       "\n",
       "      production_budget domestic_gross worldwide_gross  year   movie_id  \\\n",
       "0          $410,600,000   $241,063,875  $1,045,663,875  2011  tt1298650   \n",
       "46         $330,600,000   $459,005,868  $1,403,013,963  2015  tt2395427   \n",
       "87         $300,000,000   $678,815,482  $2,048,134,200  2018  tt4154756   \n",
       "163        $300,000,000   $229,024,295    $655,945,209  2017  tt0974015   \n",
       "196        $300,000,000   $200,074,175    $879,620,923  2015  tt2379713   \n",
       "...                 ...            ...             ...   ...        ...   \n",
       "38839          $135,000       $408,015        $429,448  2012  tt1748207   \n",
       "38847          $120,000     $1,597,486      $3,090,593  2012  tt1742336   \n",
       "38863          $100,000    $22,764,410     $41,656,474  2015  tt2309260   \n",
       "38913          $100,000     $1,594,798      $2,769,782  2017  tt6265828   \n",
       "38929           $50,000       $391,674        $424,149  2010  tt1570989   \n",
       "\n",
       "                                    original_title  release_year  runtime_min  \\\n",
       "0      Pirates of the Caribbean: On Stranger Tides          2011        136.0   \n",
       "46                         Avengers: Age of Ultron          2015        141.0   \n",
       "87                          Avengers: Infinity War          2018        149.0   \n",
       "163                                 Justice League          2017        120.0   \n",
       "196                                        Spectre          2015        148.0   \n",
       "...                                            ...           ...          ...   \n",
       "38839                            Sound of My Voice          2011         85.0   \n",
       "38847                         Your Sister's Sister          2011         90.0   \n",
       "38863                                  The Gallows          2015         81.0   \n",
       "38913                                A Ghost Story          2017         92.0   \n",
       "38929                               Tiny Furniture          2010         98.0   \n",
       "\n",
       "                          genres  imdb_rating  imdb_votes  \\\n",
       "0       Action,Adventure,Fantasy          6.6      447624   \n",
       "46       Action,Adventure,Sci-Fi          7.3      665594   \n",
       "87       Action,Adventure,Sci-Fi          8.5      670926   \n",
       "163     Action,Adventure,Fantasy          6.5      329135   \n",
       "196    Action,Adventure,Thriller          6.8      352504   \n",
       "...                          ...          ...         ...   \n",
       "38839       Drama,Mystery,Sci-Fi          6.6       19387   \n",
       "38847               Comedy,Drama          6.7       24780   \n",
       "38863    Horror,Mystery,Thriller          4.2       17763   \n",
       "38913      Drama,Fantasy,Romance          6.8       46280   \n",
       "38929       Comedy,Drama,Romance          6.2       13397   \n",
       "\n",
       "                                    alt_title release_region  person_id  \\\n",
       "0      Pairêtsu obu Karibian: Inochi no izumi             JP  nm0551128   \n",
       "46                               Qisasçilar 2             AZ  nm0923736   \n",
       "87                     Avengers: Infinity War             AR  nm0751648   \n",
       "163                               Liga pravde             RS  nm0811583   \n",
       "196                                   Спектър             BG  nm0005222   \n",
       "...                                       ...            ...        ...   \n",
       "38839                       Dzwiek mego glosu             PL  nm2610231   \n",
       "38847                    Your Sister's Sister           None  nm1119645   \n",
       "38863                                Daragaci             TR  nm3951039   \n",
       "38913                   Historia de fantasmas             MX  nm1108007   \n",
       "38929                         Rahitim Ze'irim             IL  nm2501633   \n",
       "\n",
       "          person_name                person_profession  \n",
       "0        Rob Marshall  director,miscellaneous,producer  \n",
       "46        Joss Whedon         writer,producer,director  \n",
       "87          Joe Russo         producer,director,writer  \n",
       "163       Zack Snyder         producer,director,writer  \n",
       "196        Sam Mendes  producer,director,miscellaneous  \n",
       "...               ...                              ...  \n",
       "38839  Zal Batmanglij         writer,director,producer  \n",
       "38847    Lynn Shelton        director,actress,producer  \n",
       "38863    Chris Lofing         producer,director,writer  \n",
       "38913    David Lowery         editor,producer,director  \n",
       "38929     Lena Dunham          writer,actress,producer  \n",
       "\n",
       "[1232 rows x 19 columns]"
      ]
     },
     "execution_count": 45,
     "metadata": {},
     "output_type": "execute_result"
    }
   ],
   "source": [
    "budget_df = budget_merge.merge(final_df, on='movie_title', how='inner')\n",
    "\n",
    "budget_df.drop_duplicates(subset='movie_title') "
   ]
  },
  {
   "cell_type": "code",
   "execution_count": 46,
   "metadata": {},
   "outputs": [],
   "source": [
    "budget_df = budget_df.drop_duplicates(subset='movie_title')\n",
    "budget_df = budget_df.drop(columns=['id', 'year', 'imdb_votes' ])\n"
   ]
  },
  {
   "cell_type": "code",
   "execution_count": 47,
   "metadata": {},
   "outputs": [
    {
     "data": {
      "application/vnd.microsoft.datawrangler.viewer.v0+json": {
       "columns": [
        {
         "name": "index",
         "rawType": "int64",
         "type": "integer"
        },
        {
         "name": "release_date",
         "rawType": "object",
         "type": "string"
        },
        {
         "name": "movie_title",
         "rawType": "object",
         "type": "string"
        },
        {
         "name": "production_budget",
         "rawType": "object",
         "type": "string"
        },
        {
         "name": "domestic_gross",
         "rawType": "object",
         "type": "string"
        },
        {
         "name": "worldwide_gross",
         "rawType": "object",
         "type": "string"
        },
        {
         "name": "movie_id",
         "rawType": "object",
         "type": "string"
        },
        {
         "name": "original_title",
         "rawType": "object",
         "type": "string"
        },
        {
         "name": "release_year",
         "rawType": "int64",
         "type": "integer"
        },
        {
         "name": "runtime_min",
         "rawType": "float64",
         "type": "float"
        },
        {
         "name": "genres",
         "rawType": "object",
         "type": "string"
        },
        {
         "name": "imdb_rating",
         "rawType": "float64",
         "type": "float"
        },
        {
         "name": "alt_title",
         "rawType": "object",
         "type": "string"
        },
        {
         "name": "release_region",
         "rawType": "object",
         "type": "unknown"
        },
        {
         "name": "person_id",
         "rawType": "object",
         "type": "string"
        },
        {
         "name": "person_name",
         "rawType": "object",
         "type": "string"
        },
        {
         "name": "person_profession",
         "rawType": "object",
         "type": "string"
        }
       ],
       "ref": "d7e2cfe0-3848-42c0-ad9c-3a7084399395",
       "rows": [
        [
         "0",
         "May 20, 2011",
         "pirates of the caribbean on stranger tides",
         "$410,600,000",
         "$241,063,875",
         "$1,045,663,875",
         "tt1298650",
         "Pirates of the Caribbean: On Stranger Tides",
         "2011",
         "136.0",
         "Action,Adventure,Fantasy",
         "6.6",
         "Pairêtsu obu Karibian: Inochi no izumi",
         "JP",
         "nm0551128",
         "Rob Marshall",
         "director,miscellaneous,producer"
        ],
        [
         "46",
         "May 1, 2015",
         "avengers age of ultron",
         "$330,600,000",
         "$459,005,868",
         "$1,403,013,963",
         "tt2395427",
         "Avengers: Age of Ultron",
         "2015",
         "141.0",
         "Action,Adventure,Sci-Fi",
         "7.3",
         "Qisasçilar 2",
         "AZ",
         "nm0923736",
         "Joss Whedon",
         "writer,producer,director"
        ],
        [
         "87",
         "Apr 27, 2018",
         "avengers infinity war",
         "$300,000,000",
         "$678,815,482",
         "$2,048,134,200",
         "tt4154756",
         "Avengers: Infinity War",
         "2018",
         "149.0",
         "Action,Adventure,Sci-Fi",
         "8.5",
         "Avengers: Infinity War",
         "AR",
         "nm0751648",
         "Joe Russo",
         "producer,director,writer"
        ],
        [
         "163",
         "Nov 17, 2017",
         "justice league",
         "$300,000,000",
         "$229,024,295",
         "$655,945,209",
         "tt0974015",
         "Justice League",
         "2017",
         "120.0",
         "Action,Adventure,Fantasy",
         "6.5",
         "Liga pravde",
         "RS",
         "nm0811583",
         "Zack Snyder",
         "producer,director,writer"
        ],
        [
         "196",
         "Nov 6, 2015",
         "spectre",
         "$300,000,000",
         "$200,074,175",
         "$879,620,923",
         "tt2379713",
         "Spectre",
         "2015",
         "148.0",
         "Action,Adventure,Thriller",
         "6.8",
         "Спектър",
         "BG",
         "nm0005222",
         "Sam Mendes",
         "producer,director,miscellaneous"
        ],
        [
         "229",
         "May 25, 2018",
         "solo a star wars story",
         "$275,000,000",
         "$213,767,512",
         "$393,151,347",
         "tt3778644",
         "Solo: A Star Wars Story",
         "2018",
         "135.0",
         "Action,Adventure,Fantasy",
         "7.0",
         "Solo: A Star Wars Story",
         "SE",
         "nm0000165",
         "Ron Howard",
         "actor,producer,director"
        ],
        [
         "267",
         "Jul 2, 2013",
         "the lone ranger",
         "$275,000,000",
         "$89,302,115",
         "$260,002,115",
         "tt1210819",
         "The Lone Ranger",
         "2013",
         "150.0",
         "Action,Adventure,Western",
         "6.4",
         "The Lone Ranger",
         "IT",
         "nm0893659",
         "Gore Verbinski",
         "director,producer,writer"
        ],
        [
         "302",
         "Mar 9, 2012",
         "john carter",
         "$275,000,000",
         "$73,058,679",
         "$282,778,100",
         "tt0401729",
         "John Carter",
         "2012",
         "132.0",
         "Action,Adventure,Sci-Fi",
         "6.6",
         "Джон Картер: Мiж двох свiтiв",
         "UA",
         "nm0004056",
         "Andrew Stanton",
         "writer,actor,producer"
        ],
        [
         "336",
         "Nov 24, 2010",
         "tangled",
         "$260,000,000",
         "$200,821,936",
         "$586,477,240",
         "tt0398286",
         "Tangled",
         "2010",
         "100.0",
         "Adventure,Animation,Comedy",
         "7.8",
         "Raiponce",
         "FR",
         "nm0397174",
         "Byron Howard",
         "animation_department,director,actor"
        ],
        [
         "438",
         "May 6, 2016",
         "captain america civil war",
         "$250,000,000",
         "$408,084,349",
         "$1,140,069,413",
         "tt3498820",
         "Captain America: Civil War",
         "2016",
         "147.0",
         "Action,Adventure,Sci-Fi",
         "7.8",
         "Sputnik",
         "US",
         "nm0751648",
         "Joe Russo",
         "producer,director,writer"
        ],
        [
         "522",
         "Dec 17, 2014",
         "the hobbit the battle of the five armies",
         "$250,000,000",
         "$255,119,788",
         "$945,577,621",
         "tt2310332",
         "The Hobbit: The Battle of the Five Armies",
         "2014",
         "144.0",
         "Adventure,Fantasy",
         "7.4",
         "Hobbit del 3: Femhäraslaget",
         "SE",
         "nm0001392",
         "Peter Jackson",
         "producer,director,writer"
        ],
        [
         "577",
         "Apr 14, 2017",
         "the fate of the furious",
         "$250,000,000",
         "$225,764,765",
         "$1,234,846,267",
         "tt4630562",
         "The Fate of the Furious",
         "2017",
         "136.0",
         "Action,Crime,Thriller",
         "6.7",
         "Fast & Furious 8",
         "IT",
         "nm0336620",
         "F. Gary Gray",
         "director,actor,producer"
        ],
        [
         "629",
         "May 26, 2017",
         "pirates of the caribbean dead men tell no tales",
         "$230,000,000",
         "$172,558,876",
         "$788,241,137",
         "tt1790809",
         "Pirates of the Caribbean: Dead Men Tell No Tales",
         "2017",
         "129.0",
         "Action,Adventure,Fantasy",
         "6.6",
         "Pirates of the Caribbean: Salazar's Revenge",
         "SE",
         "nm1461392",
         "Joachim Rønning",
         "director,writer,producer"
        ],
        [
         "735",
         "Jun 14, 2013",
         "man of steel",
         "$225,000,000",
         "$291,045,518",
         "$667,999,518",
         "tt0770828",
         "Man of Steel",
         "2013",
         "143.0",
         "Action,Adventure,Sci-Fi",
         "7.1",
         "Čovek od čelika",
         "RS",
         "nm0811583",
         "Zack Snyder",
         "producer,director,writer"
        ],
        [
         "777",
         "Jul 3, 2012",
         "the amazing spiderman",
         "$220,000,000",
         "$262,030,663",
         "$757,890,267",
         "tt0948470",
         "The Amazing Spider-Man",
         "2012",
         "136.0",
         "Action,Adventure,Sci-Fi",
         "7.0",
         "El Sorprendente Hombre Araña",
         "VE",
         "nm1989536",
         "Marc Webb",
         "producer,director,writer"
        ],
        [
         "821",
         "May 18, 2012",
         "battleship",
         "$220,000,000",
         "$65,233,400",
         "$313,477,717",
         "tt1440129",
         "Battleship",
         "2012",
         "131.0",
         "Action,Adventure,Sci-Fi",
         "5.8",
         "Battleship: Batalla naval",
         "UY",
         "nm0000916",
         "Peter Berg",
         "producer,actor,writer"
        ],
        [
         "849",
         "Jun 12, 2015",
         "jurassic world",
         "$215,000,000",
         "$652,270,625",
         "$1,648,854,864",
         "tt0369610",
         "Jurassic World",
         "2015",
         "124.0",
         "Action,Adventure,Sci-Fi",
         "7.0",
         "Джурасик свят",
         "BG",
         "nm1119880",
         "Colin Trevorrow",
         "writer,producer,director"
        ],
        [
         "897",
         "May 14, 2010",
         "robin hood",
         "$210,000,000",
         "$105,487,148",
         "$322,459,006",
         "tt0955308",
         "Robin Hood",
         "2010",
         "140.0",
         "Action,Adventure,Drama",
         "6.6",
         "Робин Гуд",
         "RU",
         "nm0000631",
         "Ridley Scott",
         "producer,director,production_designer"
        ],
        [
         "955",
         "Feb 16, 2018",
         "black panther",
         "$200,000,000",
         "$700,059,566",
         "$1,348,258,224",
         "tt1825683",
         "Black Panther",
         "2018",
         "134.0",
         "Action,Adventure,Sci-Fi",
         "7.3",
         "Чорна Пантера",
         "UA",
         "nm3363032",
         "Ryan Coogler",
         "director,writer,producer"
        ],
        [
         "984",
         "Jun 15, 2018",
         "incredibles 2",
         "$200,000,000",
         "$608,581,744",
         "$1,242,520,711",
         "tt3606756",
         "Incredibles 2",
         "2018",
         "118.0",
         "Action,Adventure,Animation",
         "7.7",
         "Neviđeni 2",
         "RS",
         "nm0083348",
         "Brad Bird",
         "miscellaneous,writer,director"
        ],
        [
         "1023",
         "Dec 16, 2016",
         "rogue one a star wars story",
         "$200,000,000",
         "$532,177,324",
         "$1,049,102,856",
         "tt3748528",
         "Rogue One",
         "2016",
         "133.0",
         "Action,Adventure,Sci-Fi",
         "7.8",
         "Rogue One: A Star Wars Story",
         "IT",
         "nm2284484",
         "Gareth Edwards",
         "visual_effects,director,writer"
        ],
        [
         "1065",
         "Jun 17, 2016",
         "finding dory",
         "$200,000,000",
         "$486,295,561",
         "$1,021,215,193",
         "tt2277860",
         "Finding Dory",
         "2016",
         "97.0",
         "Adventure,Animation,Comedy",
         "7.3",
         "Potraga za Dorom",
         "HR",
         "nm0533691",
         "Angus MacLane",
         "animation_department,actor,writer"
        ],
        [
         "1155",
         "Jun 18, 2010",
         "toy story 3",
         "$200,000,000",
         "$415,004,880",
         "$1,068,879,522",
         "tt0435761",
         "Toy Story 3",
         "2010",
         "103.0",
         "Adventure,Animation,Comedy",
         "8.3",
         "Η ιστορία των παιχνιδιών 3",
         "GR",
         "nm0881279",
         "Lee Unkrich",
         "editorial_department,editor,miscellaneous"
        ],
        [
         "1192",
         "May 3, 2013",
         "iron man 3",
         "$200,000,000",
         "$408,992,272",
         "$1,215,392,272",
         "tt1300854",
         "Iron Man Three",
         "2013",
         "130.0",
         "Action,Adventure,Sci-Fi",
         "7.2",
         "Nguoi Sat 3",
         "VN",
         "nm0000948",
         "Shane Black",
         "writer,actor,director"
        ],
        [
         "1235",
         "May 5, 2017",
         "guardians of the galaxy vol 2",
         "$200,000,000",
         "$389,813,101",
         "$862,316,233",
         "tt3896198",
         "Guardians of the Galaxy Vol. 2",
         "2017",
         "136.0",
         "Action,Adventure,Comedy",
         "7.7",
         "Strážci Galaxie Vol. 2",
         "CZ",
         "nm0348181",
         "James Gunn",
         "writer,producer,director"
        ],
        [
         "1273",
         "Nov 8, 2012",
         "skyfall",
         "$200,000,000",
         "$304,360,277",
         "$1,110,526,981",
         "tt1074638",
         "Skyfall",
         "2012",
         "143.0",
         "Action,Adventure,Thriller",
         "7.8",
         "Tu dia Skyfall",
         "VN",
         "nm0005222",
         "Sam Mendes",
         "producer,director,miscellaneous"
        ],
        [
         "1317",
         "Jun 21, 2013",
         "monsters university",
         "$200,000,000",
         "$268,488,329",
         "$743,588,329",
         "tt1453405",
         "Monsters University",
         "2013",
         "104.0",
         "Adventure,Animation,Comedy",
         "7.3",
         "Sevimli Canavarlar Üniversitesi",
         "TR",
         "nm0768959",
         "Dan Scanlon",
         "writer,art_department,director"
        ],
        [
         "1364",
         "Mar 8, 2013",
         "oz the great and powerful",
         "$200,000,000",
         "$234,770,996",
         "$490,359,051",
         "tt1623205",
         "Oz the Great and Powerful",
         "2013",
         "130.0",
         "Adventure,Family,Fantasy",
         "6.3",
         "Mogocni Oz",
         "SI",
         "nm0000600",
         "Sam Raimi",
         "producer,writer,director"
        ],
        [
         "1402",
         "May 23, 2014",
         "xmen days of future past",
         "$200,000,000",
         "$233,921,534",
         "$747,862,775",
         "tt1877832",
         "X-Men: Days of Future Past",
         "2014",
         "132.0",
         "Action,Adventure,Sci-Fi",
         "8.0",
         "X-Men: Days of Future Past",
         "US",
         "nm0001741",
         "Bryan Singer",
         "producer,director,writer"
        ],
        [
         "1440",
         "May 2, 2014",
         "the amazing spiderman 2",
         "$200,000,000",
         "$202,853,933",
         "$708,996,336",
         "tt1872181",
         "The Amazing Spider-Man 2",
         "2014",
         "142.0",
         "Action,Adventure,Sci-Fi",
         "6.6",
         "London Calling",
         "US",
         "nm1989536",
         "Marc Webb",
         "producer,director,writer"
        ],
        [
         "1476",
         "Jun 24, 2011",
         "cars 2",
         "$200,000,000",
         "$191,450,875",
         "$560,155,383",
         "tt1216475",
         "Cars 2",
         "2011",
         "106.0",
         "Adventure,Animation,Comedy",
         "6.2",
         "Cars 2",
         "UY",
         "nm0005124",
         "John Lasseter",
         "producer,writer,director"
        ],
        [
         "1550",
         "Dec 17, 2010",
         "tron legacy",
         "$200,000,000",
         "$172,062,763",
         "$400,062,763",
         "tt1104001",
         "Tron",
         "2010",
         "125.0",
         "Action,Adventure,Fantasy",
         "6.8",
         "Tron: Örökség",
         "HU",
         "nm2676052",
         "Joseph Kosinski",
         "director,writer,producer"
        ],
        [
         "1598",
         "Nov 16, 2018",
         "fantastic beasts the crimes of grindelwald",
         "$200,000,000",
         "$159,555,901",
         "$652,220,086",
         "tt4123430",
         "Fantastic Beasts: The Crimes of Grindelwald",
         "2018",
         "134.0",
         "Adventure,Family,Fantasy",
         "6.6",
         "Animales Fantásticos: Los crímenes de Grindelwald",
         "PE",
         "nm0946734",
         "David Yates",
         "director,producer,writer"
        ],
        [
         "1637",
         "Jun 17, 2011",
         "green lantern",
         "$200,000,000",
         "$116,601,172",
         "$219,535,492",
         "tt1133985",
         "Green Lantern",
         "2011",
         "114.0",
         "Action,Adventure,Sci-Fi",
         "5.5",
         "Green Lantern",
         null,
         "nm0132709",
         "Martin Campbell",
         "director,producer,actor"
        ],
        [
         "1665",
         "Mar 1, 2013",
         "jack the giant slayer",
         "$195,000,000",
         "$65,187,603",
         "$197,687,603",
         "tt1351685",
         "Jack the Giant Slayer",
         "2013",
         "114.0",
         "Adventure,Fantasy",
         "6.3",
         "Jack le chasseur de géants",
         "FR",
         "nm0001741",
         "Bryan Singer",
         "producer,director,writer"
        ],
        [
         "1700",
         "Apr 3, 2015",
         "furious 7",
         "$190,000,000",
         "$353,007,020",
         "$1,518,722,794",
         "tt2820852",
         "Furious Seven",
         "2015",
         "137.0",
         "Action,Crime,Thriller",
         "7.2",
         "Furious 7",
         "NL",
         "nm1490123",
         "James Wan",
         "producer,writer,director"
        ],
        [
         "1751",
         "May 16, 2013",
         "star trek into darkness",
         "$190,000,000",
         "$228,778,661",
         "$467,381,584",
         "tt1408101",
         "Star Trek Into Darkness",
         "2013",
         "132.0",
         "Action,Adventure,Sci-Fi",
         "7.7",
         "Além da Escuridão: Star Trek",
         "BR",
         "nm0009190",
         "J.J. Abrams",
         "producer,writer,music_department"
        ],
        [
         "1797",
         "Jun 21, 2013",
         "world war z",
         "$190,000,000",
         "$202,359,711",
         "$531,514,650",
         "tt0816711",
         "World War Z",
         "2013",
         "116.0",
         "Action,Adventure,Horror",
         "7.0",
         "Guerra Mundial Z",
         "BR",
         "nm0286975",
         "Marc Forster",
         "producer,director,writer"
        ],
        [
         "1834",
         "Jul 12, 2013",
         "pacific rim",
         "$190,000,000",
         "$101,802,906",
         "$411,002,906",
         "tt1663662",
         "Pacific Rim",
         "2013",
         "131.0",
         "Action,Adventure,Sci-Fi",
         "6.9",
         "Το δαχτυλίδι της φωτιάς",
         "GR",
         "nm0868219",
         "Guillermo del Toro",
         "writer,producer,director"
        ],
        [
         "1869",
         "Nov 25, 2015",
         "the good dinosaur",
         "$187,500,000",
         "$123,087,120",
         "$333,771,037",
         "tt1979388",
         "The Good Dinosaur",
         "2015",
         "93.0",
         "Adventure,Animation,Comedy",
         "6.7",
         "Untitled Pixar/Dinosaurs Project",
         "US",
         "nm0812307",
         "Peter Sohn",
         "actor,animation_department,art_department"
        ],
        [
         "1912",
         "Jun 22, 2012",
         "brave",
         "$185,000,000",
         "$237,282,182",
         "$554,606,532",
         "tt1217209",
         "Brave",
         "2012",
         "93.0",
         "Adventure,Animation,Comedy",
         "7.1",
         "Ribelle: The Brave",
         "IT",
         "nm0028764",
         "Mark Andrews",
         "art_department,writer,miscellaneous"
        ],
        [
         "2065",
         "Mar 10, 2017",
         "kong skull island",
         "$185,000,000",
         "$168,052,812",
         "$561,072,059",
         "tt3731562",
         "Kong: Skull Island",
         "2017",
         "118.0",
         "Action,Adventure,Fantasy",
         "6.6",
         "King Kong: Giant from Skull Island",
         "JP",
         "nm3611349",
         "Jordan Vogt-Roberts",
         "director,producer,writer"
        ],
        [
         "2098",
         "Jul 22, 2016",
         "star trek beyond",
         "$185,000,000",
         "$158,848,340",
         "$335,802,233",
         "tt2660888",
         "Star Trek Beyond",
         "2016",
         "122.0",
         "Action,Adventure,Sci-Fi",
         "7.1",
         "Star Trek: Más allá",
         "ES",
         "nm0510912",
         "Justin Lin",
         "producer,director,writer"
        ],
        [
         "2135",
         "Nov 3, 2017",
         "thor ragnarok",
         "$180,000,000",
         "$315,058,289",
         "$846,980,024",
         "tt3501632",
         "Thor: Ragnarok",
         "2017",
         "130.0",
         "Action,Adventure,Comedy",
         "7.9",
         "Thor: Ragnarok",
         "ES",
         "nm0169806",
         "Taika Waititi",
         "actor,producer,director"
        ],
        [
         "2170",
         "May 30, 2014",
         "maleficent",
         "$180,000,000",
         "$241,407,328",
         "$758,536,735",
         "tt1587310",
         "Maleficent",
         "2014",
         "97.0",
         "Action,Adventure,Family",
         "7.0",
         "Czarownica",
         "PL",
         "nm0834902",
         "Robert Stromberg",
         "visual_effects,director,producer"
        ],
        [
         "2206",
         "Nov 18, 2016",
         "fantastic beasts and where to find them",
         "$180,000,000",
         "$234,037,575",
         "$802,402,853",
         "tt3183660",
         "Fantastic Beasts and Where to Find Them",
         "2016",
         "132.0",
         "Adventure,Family,Fantasy",
         "7.3",
         "Animales fantásticos y dónde encontrarlos",
         "MX",
         "nm0946734",
         "David Yates",
         "director,producer,writer"
        ],
        [
         "2247",
         "Jul 1, 2016",
         "the legend of tarzan",
         "$180,000,000",
         "$126,643,061",
         "$348,902,025",
         "tt0918940",
         "The Legend of Tarzan",
         "2016",
         "110.0",
         "Action,Adventure,Drama",
         "6.3",
         "La leyenda de Tarzán",
         "CL",
         "nm0946734",
         "David Yates",
         "director,producer,writer"
        ],
        [
         "2284",
         "Nov 23, 2011",
         "hugo",
         "$180,000,000",
         "$73,864,507",
         "$180,047,784",
         "tt0970179",
         "Hugo",
         "2011",
         "126.0",
         "Adventure,Drama,Family",
         "7.5",
         "Hugo",
         "FI",
         "nm0000217",
         "Martin Scorsese",
         "producer,director,actor"
        ],
        [
         "2321",
         "Jul 21, 2017",
         "valerian and the city of a thousand planets",
         "$180,000,000",
         "$40,479,370",
         "$215,098,356",
         "tt2239822",
         "Valerian and the City of a Thousand Planets",
         "2017",
         "137.0",
         "Action,Adventure,Fantasy",
         "6.5",
         "Valerian y la ciudad de los mil planetas",
         "ES",
         "nm0000108",
         "Luc Besson",
         "writer,producer,director"
        ],
        [
         "2354",
         "Feb 6, 2015",
         "jupiter ascending",
         "$179,000,000",
         "$47,482,519",
         "$181,982,519",
         "tt1617661",
         "Jupiter Ascending",
         "2015",
         "127.0",
         "Action,Adventure,Sci-Fi",
         "5.3",
         "Jupiteri tõus",
         "EE",
         "nm0905152",
         "Lilly Wachowski",
         "writer,producer,director"
        ]
       ],
       "shape": {
        "columns": 16,
        "rows": 1232
       }
      },
      "text/html": [
       "<div>\n",
       "<style scoped>\n",
       "    .dataframe tbody tr th:only-of-type {\n",
       "        vertical-align: middle;\n",
       "    }\n",
       "\n",
       "    .dataframe tbody tr th {\n",
       "        vertical-align: top;\n",
       "    }\n",
       "\n",
       "    .dataframe thead th {\n",
       "        text-align: right;\n",
       "    }\n",
       "</style>\n",
       "<table border=\"1\" class=\"dataframe\">\n",
       "  <thead>\n",
       "    <tr style=\"text-align: right;\">\n",
       "      <th></th>\n",
       "      <th>release_date</th>\n",
       "      <th>movie_title</th>\n",
       "      <th>production_budget</th>\n",
       "      <th>domestic_gross</th>\n",
       "      <th>worldwide_gross</th>\n",
       "      <th>movie_id</th>\n",
       "      <th>original_title</th>\n",
       "      <th>release_year</th>\n",
       "      <th>runtime_min</th>\n",
       "      <th>genres</th>\n",
       "      <th>imdb_rating</th>\n",
       "      <th>alt_title</th>\n",
       "      <th>release_region</th>\n",
       "      <th>person_id</th>\n",
       "      <th>person_name</th>\n",
       "      <th>person_profession</th>\n",

       "      <td>1</td>\n",
       "      <td>2009-12-18</td>\n",
       "      <td>Avatar</td>\n",
       "      <td>$425,000,000</td>\n",
       "      <td>760507625</td>\n",
       "      <td>2776345279</td>\n",
       "      <td>12</td>\n",
       "      <td>Dec</td>\n",

       "    </tr>\n",
       "    <tr>\n",
       "      <th>1</th>\n",
       "      <td>2</td>\n",
       "      <td>2011-05-20</td>\n",
       "      <td>Pirates of the Caribbean: On Stranger Tides</td>\n",
       "      <td>$410,600,000</td>\n",
       "      <td>241063875</td>\n",
       "      <td>1045663875</td>\n",
       "      <td>5</td>\n",
       "      <td>May</td>\n",
       "    </tr>\n",
       "    <tr>\n",
       "      <th>2</th>\n",
       "      <td>3</td>\n",
       "      <td>2019-06-07</td>\n",
       "      <td>Dark Phoenix</td>\n",
       "      <td>$350,000,000</td>\n",
       "      <td>42762350</td>\n",
       "      <td>149762350</td>\n",
       "      <td>6</td>\n",
       "      <td>Jun</td>\n",
       "    </tr>\n",
       "    <tr>\n",
       "      <th>3</th>\n",
       "      <td>4</td>\n",
       "      <td>2015-05-01</td>\n",
       "      <td>Avengers: Age of Ultron</td>\n",
       "      <td>$330,600,000</td>\n",
       "      <td>459005868</td>\n",
       "      <td>1403013963</td>\n",
       "      <td>5</td>\n",
       "      <td>May</td>\n",
       "    </tr>\n",
       "    <tr>\n",
       "      <th>4</th>\n",
       "      <td>5</td>\n",
       "      <td>2017-12-15</td>\n",
       "      <td>Star Wars Ep. VIII: The Last Jedi</td>\n",
       "      <td>$317,000,000</td>\n",
       "      <td>620181382</td>\n",
       "      <td>1316721747</td>\n",
       "      <td>12</td>\n",
       "      <td>Dec</td>\n",
       "    </tr>\n",
       "  </tbody>\n",
       "</table>\n",
       "</div>"
      ],
      "text/plain": [
       "   id release_date                                        movie  \\\n",
       "0   1   2009-12-18                                       Avatar   \n",
       "1   2   2011-05-20  Pirates of the Caribbean: On Stranger Tides   \n",
       "2   3   2019-06-07                                 Dark Phoenix   \n",
       "3   4   2015-05-01                      Avengers: Age of Ultron   \n",
       "4   5   2017-12-15            Star Wars Ep. VIII: The Last Jedi   \n",
       "\n",
       "  production_budget  domestic_gross  worldwide_gross  month month_abbrev  \n",
       "0      $425,000,000       760507625       2776345279     12          Dec  \n",
       "1      $410,600,000       241063875       1045663875      5          May  \n",
       "2      $350,000,000        42762350        149762350      6          Jun  \n",
       "3      $330,600,000       459005868       1403013963      5          May  \n",
       "4      $317,000,000       620181382       1316721747     12          Dec  "
      ]
     },
     "execution_count": 113,
     "metadata": {},
     "output_type": "execute_result"
    }
   ],
   "source": [
    "#Load dataset\n",
    "tn_budget.head()"
   ]
  },
  {
   "cell_type": "code",
   "execution_count": 46,
   "metadata": {},
   "outputs": [
    {
     "name": "stdout",
     "output_type": "stream",
     "text": [
      "<class 'pandas.core.frame.DataFrame'>\n",
      "RangeIndex: 5782 entries, 0 to 5781\n",
      "Data columns (total 6 columns):\n",
      " #   Column             Non-Null Count  Dtype         \n",
      "---  ------             --------------  -----         \n",
      " 0   id                 5782 non-null   int64         \n",
      " 1   release_date       5782 non-null   datetime64[ns]\n",
      " 2   movie              5782 non-null   object        \n",
      " 3   production_budget  5782 non-null   object        \n",
      " 4   domestic_gross     5782 non-null   object        \n",
      " 5   worldwide_gross    5782 non-null   object        \n",
      "dtypes: datetime64[ns](1), int64(1), object(4)\n",
      "memory usage: 271.2+ KB\n"
     ]
    }
   ],
   "source": [
    "tn_budget.info()"
   ]
  },
  {
   "cell_type": "code",
   "execution_count": 50,
   "metadata": {},
   "outputs": [],
   "source": [
    "#Convert 'Release year' column to datetime'\n",
    "tn_budget['release_date']=pd.to_datetime(tn_budget['release_date'])\n",
    "\n",
    "#Extract month\n",
    "tn_budget['month']=tn_budget['release_date'].dt.month"
   ]
  },
  {
   "cell_type": "code",
   "execution_count": 77,
   "metadata": {},
   "outputs": [
    {

     "data": {
      "application/vnd.microsoft.datawrangler.viewer.v0+json": {
       "columns": [
        {
         "name": "index",
         "rawType": "int64",
         "type": "integer"
        },
        {
         "name": "release_date",
         "rawType": "datetime64[ns]",
         "type": "datetime"
        }
       ],
       "ref": "20faa047-aa75-4aa3-ad0c-d032d2472e83",
       "rows": [
        [
         "0",
         "2011-05-20 00:00:00"
        ],
        [
         "46",
         "2015-05-01 00:00:00"
        ],
        [
         "87",
         "2018-04-27 00:00:00"
        ],
        [
         "163",
         "2017-11-17 00:00:00"
        ],
        [
         "196",
         "2015-11-06 00:00:00"
        ],
        [
         "229",
         "2018-05-25 00:00:00"
        ],
        [
         "267",
         "2013-07-02 00:00:00"
        ],
        [
         "302",
         "2012-03-09 00:00:00"
        ],
        [
         "336",
         "2010-11-24 00:00:00"
        ],
        [
         "438",
         "2016-05-06 00:00:00"
        ],
        [
         "522",
         "2014-12-17 00:00:00"
        ],
        [
         "577",
         "2017-04-14 00:00:00"
        ],
        [
         "629",
         "2017-05-26 00:00:00"
        ],
        [
         "735",
         "2013-06-14 00:00:00"
        ],
        [
         "777",
         "2012-07-03 00:00:00"
        ],
        [
         "821",
         "2012-05-18 00:00:00"
        ],
        [
         "849",
         "2015-06-12 00:00:00"
        ],
        [
         "897",
         "2010-05-14 00:00:00"
        ],
        [
         "955",
         "2018-02-16 00:00:00"
        ],
        [
         "984",
         "2018-06-15 00:00:00"
        ],
        [
         "1023",
         "2016-12-16 00:00:00"
        ],
        [
         "1065",
         "2016-06-17 00:00:00"
        ],
        [
         "1155",
         "2010-06-18 00:00:00"
        ],
        [
         "1192",
         "2013-05-03 00:00:00"
        ],
        [
         "1235",
         "2017-05-05 00:00:00"
        ],
        [
         "1273",
         "2012-11-08 00:00:00"
        ],
        [
         "1317",
         "2013-06-21 00:00:00"
        ],
        [
         "1364",
         "2013-03-08 00:00:00"
        ],
        [
         "1402",
         "2014-05-23 00:00:00"
        ],
        [
         "1440",
         "2014-05-02 00:00:00"
        ],
        [
         "1476",
         "2011-06-24 00:00:00"
        ],
        [
         "1550",
         "2010-12-17 00:00:00"
        ],
        [
         "1598",
         "2018-11-16 00:00:00"
        ],
        [
         "1637",
         "2011-06-17 00:00:00"
        ],
        [
         "1665",
         "2013-03-01 00:00:00"
        ],
        [
         "1700",
         "2015-04-03 00:00:00"
        ],
        [
         "1751",
         "2013-05-16 00:00:00"
        ],
        [
         "1797",
         "2013-06-21 00:00:00"
        ],
        [
         "1834",
         "2013-07-12 00:00:00"
        ],
        [
         "1869",
         "2015-11-25 00:00:00"
        ],
        [
         "1912",
         "2012-06-22 00:00:00"
        ],
        [
         "2065",
         "2017-03-10 00:00:00"
        ],
        [
         "2098",
         "2016-07-22 00:00:00"
        ],
        [
         "2135",
         "2017-11-03 00:00:00"
        ],
        [
         "2170",
         "2014-05-30 00:00:00"
        ],
        [
         "2206",
         "2016-11-18 00:00:00"
        ],
        [
         "2247",
         "2016-07-01 00:00:00"
        ],
        [
         "2284",
         "2011-11-23 00:00:00"
        ],
        [
         "2321",
         "2017-07-21 00:00:00"
        ],
        [
         "2354",
         "2015-02-06 00:00:00"
        ]
       ],
       "shape": {
        "columns": 1,
        "rows": 1232
       }
      },
      "text/plain": [
       "0       2011-05-20\n",
       "46      2015-05-01\n",
       "87      2018-04-27\n",
       "163     2017-11-17\n",
       "196     2015-11-06\n",
       "           ...    \n",
       "38839   2012-04-27\n",
       "38847   2012-06-15\n",
       "38863   2015-07-10\n",
       "38913   2017-07-07\n",
       "38929   2010-11-12\n",
       "Name: release_date, Length: 1232, dtype: datetime64[ns]"
      ]
     },
     "execution_count": 50,
     "metadata": {},
     "output_type": "execute_result"

     "name": "stdout",
     "output_type": "stream",
     "text": [
      "      month month_abbrev\n",
      "0        12          Dec\n",
      "1         5          May\n",
      "2         6          Jun\n",
      "3         5          May\n",
      "4        12          Dec\n",
      "...     ...          ...\n",
      "5777     12          Dec\n",
      "5778      4          Apr\n",
      "5779      7          Jul\n",
      "5780      9          Sep\n",
      "5781      8          Aug\n",
      "\n",
      "[5782 rows x 2 columns]\n"
     ]

    }
   ],
   "source": [
    "import calendar\n",
    "\n",
    "# First, create a dictionary to map numbers to month names\n",
    "month_mapping = {i: calendar.month_abbr[i] for i in range(1, 13)}\n",
    "\n",
    "# use .map() to apply the mapping to our column\n",
    "tn_budget['month_abbrev'] = tn_budget['month'].map(month_mapping)\n",
    "\n",
    "print(tn_budget[['month', 'month_abbrev']])"
   ]
  },
  {
   "cell_type": "code",
   "execution_count": 143,
   "metadata": {},
   "outputs": [],
   "source": [
    "#convert domestic gross,production budget and worlwide gross into int\n",
    "tn_budget['domestic_gross']=tn_budget['domestic_gross'].astype(str).str.replace('$','').str.replace(',','').astype('int64')"
   ]
  },
  {
   "cell_type": "code",
   "execution_count": 61,
   "metadata": {},
   "outputs": [],
   "source": [
    "tn_budget['worldwide_gross']=tn_budget['worldwide_gross'].astype(str).str.replace('$','').str.replace(',','').astype('int64')"
   ]
  },
  {
   "cell_type": "code",
   "execution_count": 140,
   "metadata": {},
   "outputs": [],
   "source": [
    "tn_budget['production_budget']=tn_budget['production_budget'].astype(str).str.replace('$','').str.replace(',','').astype('int64')"
   ]
  },
  {
   "cell_type": "code",
   "execution_count": 141,
   "metadata": {},
   "outputs": [
    {
     "data": {
      "application/vnd.microsoft.datawrangler.viewer.v0+json": {
       "columns": [
        {
         "name": "index",
         "rawType": "int64",
         "type": "integer"
        },
        {
         "name": "release_date",
         "rawType": "datetime64[ns]",
         "type": "datetime"
        },
        {
         "name": "movie_title",
         "rawType": "object",
         "type": "string"
        },
        {
         "name": "production_budget",
         "rawType": "float64",
         "type": "float"
        },
        {
         "name": "domestic_gross",
         "rawType": "float64",
         "type": "float"
        },
        {
         "name": "worldwide_gross",
         "rawType": "float64",
         "type": "float"
        },
        {
         "name": "movie_id",
         "rawType": "object",
         "type": "string"
        },
        {
         "name": "original_title",
         "rawType": "object",
         "type": "string"
        },
        {
         "name": "release_year",
         "rawType": "int64",
         "type": "integer"
        },
        {
         "name": "runtime_min",
         "rawType": "float64",
         "type": "float"
        },
        {
         "name": "genres",
         "rawType": "object",
         "type": "string"
        },
        {
         "name": "imdb_rating",
         "rawType": "float64",
         "type": "float"
        },
        {
         "name": "alt_title",
         "rawType": "object",
         "type": "string"
        },
        {
         "name": "release_region",
         "rawType": "object",
         "type": "unknown"
        },
        {
         "name": "person_id",
         "rawType": "object",
         "type": "string"
        },
        {
         "name": "person_name",
         "rawType": "object",
         "type": "string"
        },
        {
         "name": "person_profession",
         "rawType": "object",
         "type": "string"
        }
       ],
       "ref": "f5e2a9e8-83f5-403d-8a5b-0c620437f8a5",
       "rows": [
        [
         "0",
         "2011-05-20 00:00:00",
         "pirates of the caribbean on stranger tides",
         "410600000.0",
         "241063875.0",
         "1045663875.0",
         "tt1298650",
         "Pirates of the Caribbean: On Stranger Tides",
         "2011",
         "136.0",
         "Action,Adventure,Fantasy",
         "6.6",
         "Pairêtsu obu Karibian: Inochi no izumi",
         "JP",
         "nm0551128",
         "Rob Marshall",
         "director,miscellaneous,producer"
        ],
        [
         "46",
         "2015-05-01 00:00:00",
         "avengers age of ultron",
         "330600000.0",
         "459005868.0",
         "1403013963.0",
         "tt2395427",
         "Avengers: Age of Ultron",
         "2015",
         "141.0",
         "Action,Adventure,Sci-Fi",
         "7.3",
         "Qisasçilar 2",
         "AZ",
         "nm0923736",
         "Joss Whedon",
         "writer,producer,director"
        ],
        [
         "87",
         "2018-04-27 00:00:00",
         "avengers infinity war",
         "300000000.0",
         "678815482.0",
         "2048134200.0",
         "tt4154756",
         "Avengers: Infinity War",
         "2018",
         "149.0",
         "Action,Adventure,Sci-Fi",
         "8.5",
         "Avengers: Infinity War",
         "AR",
         "nm0751648",
         "Joe Russo",
         "producer,director,writer"
        ],
        [
         "163",
         "2017-11-17 00:00:00",
         "justice league",
         "300000000.0",
         "229024295.0",
         "655945209.0",
         "tt0974015",
         "Justice League",
         "2017",
         "120.0",
         "Action,Adventure,Fantasy",
         "6.5",
         "Liga pravde",
         "RS",
         "nm0811583",
         "Zack Snyder",
         "producer,director,writer"
        ],
        [
         "196",
         "2015-11-06 00:00:00",
         "spectre",
         "300000000.0",
         "200074175.0",
         "879620923.0",
         "tt2379713",
         "Spectre",
         "2015",
         "148.0",
         "Action,Adventure,Thriller",
         "6.8",
         "Спектър",
         "BG",
         "nm0005222",
         "Sam Mendes",
         "producer,director,miscellaneous"
        ],
        [
         "229",
         "2018-05-25 00:00:00",
         "solo a star wars story",
         "275000000.0",
         "213767512.0",
         "393151347.0",
         "tt3778644",
         "Solo: A Star Wars Story",
         "2018",
         "135.0",
         "Action,Adventure,Fantasy",
         "7.0",
         "Solo: A Star Wars Story",
         "SE",
         "nm0000165",
         "Ron Howard",
         "actor,producer,director"
        ],
        [
         "267",
         "2013-07-02 00:00:00",
         "the lone ranger",
         "275000000.0",
         "89302115.0",
         "260002115.0",
         "tt1210819",
         "The Lone Ranger",
         "2013",
         "150.0",
         "Action,Adventure,Western",
         "6.4",
         "The Lone Ranger",
         "IT",
         "nm0893659",
         "Gore Verbinski",
         "director,producer,writer"
        ],
        [
         "302",
         "2012-03-09 00:00:00",
         "john carter",
         "275000000.0",
         "73058679.0",
         "282778100.0",
         "tt0401729",
         "John Carter",
         "2012",
         "132.0",
         "Action,Adventure,Sci-Fi",
         "6.6",
         "Джон Картер: Мiж двох свiтiв",
         "UA",
         "nm0004056",
         "Andrew Stanton",
         "writer,actor,producer"
        ],
        [
         "336",
         "2010-11-24 00:00:00",
         "tangled",
         "260000000.0",
         "200821936.0",
         "586477240.0",
         "tt0398286",
         "Tangled",
         "2010",
         "100.0",
         "Adventure,Animation,Comedy",
         "7.8",
         "Raiponce",
         "FR",
         "nm0397174",
         "Byron Howard",
         "animation_department,director,actor"
        ],
        [
         "438",
         "2016-05-06 00:00:00",
         "captain america civil war",
         "250000000.0",
         "408084349.0",
         "1140069413.0",
         "tt3498820",
         "Captain America: Civil War",
         "2016",
         "147.0",
         "Action,Adventure,Sci-Fi",
         "7.8",
         "Sputnik",
         "US",
         "nm0751648",
         "Joe Russo",
         "producer,director,writer"
        ],
        [
         "522",
         "2014-12-17 00:00:00",
         "the hobbit the battle of the five armies",
         "250000000.0",
         "255119788.0",
         "945577621.0",
         "tt2310332",
         "The Hobbit: The Battle of the Five Armies",
         "2014",
         "144.0",
         "Adventure,Fantasy",
         "7.4",
         "Hobbit del 3: Femhäraslaget",
         "SE",
         "nm0001392",
         "Peter Jackson",
         "producer,director,writer"
        ],
        [
         "577",
         "2017-04-14 00:00:00",
         "the fate of the furious",
         "250000000.0",
         "225764765.0",
         "1234846267.0",
         "tt4630562",
         "The Fate of the Furious",
         "2017",
         "136.0",
         "Action,Crime,Thriller",
         "6.7",
         "Fast & Furious 8",
         "IT",
         "nm0336620",
         "F. Gary Gray",
         "director,actor,producer"
        ],
        [
         "629",
         "2017-05-26 00:00:00",
         "pirates of the caribbean dead men tell no tales",
         "230000000.0",
         "172558876.0",
         "788241137.0",
         "tt1790809",
         "Pirates of the Caribbean: Dead Men Tell No Tales",
         "2017",
         "129.0",
         "Action,Adventure,Fantasy",
         "6.6",
         "Pirates of the Caribbean: Salazar's Revenge",
         "SE",
         "nm1461392",
         "Joachim Rønning",
         "director,writer,producer"
        ],
        [
         "735",
         "2013-06-14 00:00:00",
         "man of steel",
         "225000000.0",
         "291045518.0",
         "667999518.0",
         "tt0770828",
         "Man of Steel",
         "2013",
         "143.0",
         "Action,Adventure,Sci-Fi",
         "7.1",
         "Čovek od čelika",
         "RS",
         "nm0811583",
         "Zack Snyder",
         "producer,director,writer"
        ],
        [
         "777",
         "2012-07-03 00:00:00",
         "the amazing spiderman",
         "220000000.0",
         "262030663.0",
         "757890267.0",
         "tt0948470",
         "The Amazing Spider-Man",
         "2012",
         "136.0",
         "Action,Adventure,Sci-Fi",
         "7.0",
         "El Sorprendente Hombre Araña",
         "VE",
         "nm1989536",
         "Marc Webb",
         "producer,director,writer"
        ],
        [
         "821",
         "2012-05-18 00:00:00",
         "battleship",
         "220000000.0",
         "65233400.0",
         "313477717.0",
         "tt1440129",
         "Battleship",
         "2012",
         "131.0",
         "Action,Adventure,Sci-Fi",
         "5.8",
         "Battleship: Batalla naval",
         "UY",
         "nm0000916",
         "Peter Berg",
         "producer,actor,writer"
        ],
        [
         "849",
         "2015-06-12 00:00:00",
         "jurassic world",
         "215000000.0",
         "652270625.0",
         "1648854864.0",
         "tt0369610",
         "Jurassic World",
         "2015",
         "124.0",
         "Action,Adventure,Sci-Fi",
         "7.0",
         "Джурасик свят",
         "BG",
         "nm1119880",
         "Colin Trevorrow",
         "writer,producer,director"
        ],
        [
         "897",
         "2010-05-14 00:00:00",
         "robin hood",
         "210000000.0",
         "105487148.0",
         "322459006.0",
         "tt0955308",
         "Robin Hood",
         "2010",
         "140.0",
         "Action,Adventure,Drama",
         "6.6",
         "Робин Гуд",
         "RU",
         "nm0000631",
         "Ridley Scott",
         "producer,director,production_designer"
        ],
        [
         "955",
         "2018-02-16 00:00:00",
         "black panther",
         "200000000.0",
         "700059566.0",
         "1348258224.0",
         "tt1825683",
         "Black Panther",
         "2018",
         "134.0",
         "Action,Adventure,Sci-Fi",
         "7.3",
         "Чорна Пантера",
         "UA",
         "nm3363032",
         "Ryan Coogler",
         "director,writer,producer"
        ],
        [
         "984",
         "2018-06-15 00:00:00",
         "incredibles 2",
         "200000000.0",
         "608581744.0",
         "1242520711.0",
         "tt3606756",
         "Incredibles 2",
         "2018",
         "118.0",
         "Action,Adventure,Animation",
         "7.7",
         "Neviđeni 2",
         "RS",
         "nm0083348",
         "Brad Bird",
         "miscellaneous,writer,director"
        ],
        [
         "1023",
         "2016-12-16 00:00:00",
         "rogue one a star wars story",
         "200000000.0",
         "532177324.0",
         "1049102856.0",
         "tt3748528",
         "Rogue One",
         "2016",
         "133.0",
         "Action,Adventure,Sci-Fi",
         "7.8",
         "Rogue One: A Star Wars Story",
         "IT",
         "nm2284484",
         "Gareth Edwards",
         "visual_effects,director,writer"
        ],
        [
         "1065",
         "2016-06-17 00:00:00",
         "finding dory",
         "200000000.0",
         "486295561.0",
         "1021215193.0",
         "tt2277860",
         "Finding Dory",
         "2016",
         "97.0",
         "Adventure,Animation,Comedy",
         "7.3",
         "Potraga za Dorom",
         "HR",
         "nm0533691",
         "Angus MacLane",
         "animation_department,actor,writer"
        ],
        [
         "1155",
         "2010-06-18 00:00:00",
         "toy story 3",
         "200000000.0",
         "415004880.0",
         "1068879522.0",
         "tt0435761",
         "Toy Story 3",
         "2010",
         "103.0",
         "Adventure,Animation,Comedy",
         "8.3",
         "Η ιστορία των παιχνιδιών 3",
         "GR",
         "nm0881279",
         "Lee Unkrich",
         "editorial_department,editor,miscellaneous"
        ],
        [
         "1192",
         "2013-05-03 00:00:00",
         "iron man 3",
         "200000000.0",
         "408992272.0",
         "1215392272.0",
         "tt1300854",
         "Iron Man Three",
         "2013",
         "130.0",
         "Action,Adventure,Sci-Fi",
         "7.2",
         "Nguoi Sat 3",
         "VN",
         "nm0000948",
         "Shane Black",
         "writer,actor,director"
        ],
        [
         "1235",
         "2017-05-05 00:00:00",
         "guardians of the galaxy vol 2",
         "200000000.0",
         "389813101.0",
         "862316233.0",
         "tt3896198",
         "Guardians of the Galaxy Vol. 2",
         "2017",
         "136.0",
         "Action,Adventure,Comedy",
         "7.7",
         "Strážci Galaxie Vol. 2",
         "CZ",
         "nm0348181",
         "James Gunn",
         "writer,producer,director"
        ],
        [
         "1273",
         "2012-11-08 00:00:00",
         "skyfall",
         "200000000.0",
         "304360277.0",
         "1110526981.0",
         "tt1074638",
         "Skyfall",
         "2012",
         "143.0",
         "Action,Adventure,Thriller",
         "7.8",
         "Tu dia Skyfall",
         "VN",
         "nm0005222",
         "Sam Mendes",
         "producer,director,miscellaneous"
        ],
        [
         "1317",
         "2013-06-21 00:00:00",
         "monsters university",
         "200000000.0",
         "268488329.0",
         "743588329.0",
         "tt1453405",
         "Monsters University",
         "2013",
         "104.0",
         "Adventure,Animation,Comedy",
         "7.3",
         "Sevimli Canavarlar Üniversitesi",
         "TR",
         "nm0768959",
         "Dan Scanlon",
         "writer,art_department,director"
        ],
        [
         "1364",
         "2013-03-08 00:00:00",
         "oz the great and powerful",
         "200000000.0",
         "234770996.0",
         "490359051.0",
         "tt1623205",
         "Oz the Great and Powerful",
         "2013",
         "130.0",
         "Adventure,Family,Fantasy",
         "6.3",
         "Mogocni Oz",
         "SI",
         "nm0000600",
         "Sam Raimi",
         "producer,writer,director"
        ],
        [
         "1402",
         "2014-05-23 00:00:00",
         "xmen days of future past",
         "200000000.0",
         "233921534.0",
         "747862775.0",
         "tt1877832",
         "X-Men: Days of Future Past",
         "2014",
         "132.0",
         "Action,Adventure,Sci-Fi",
         "8.0",
         "X-Men: Days of Future Past",
         "US",
         "nm0001741",
         "Bryan Singer",
         "producer,director,writer"
        ],
        [
         "1440",
         "2014-05-02 00:00:00",
         "the amazing spiderman 2",
         "200000000.0",
         "202853933.0",
         "708996336.0",
         "tt1872181",
         "The Amazing Spider-Man 2",
         "2014",
         "142.0",
         "Action,Adventure,Sci-Fi",
         "6.6",
         "London Calling",
         "US",
         "nm1989536",
         "Marc Webb",
         "producer,director,writer"
        ],
        [
         "1476",
         "2011-06-24 00:00:00",
         "cars 2",
         "200000000.0",
         "191450875.0",
         "560155383.0",
         "tt1216475",
         "Cars 2",
         "2011",
         "106.0",
         "Adventure,Animation,Comedy",
         "6.2",
         "Cars 2",
         "UY",
         "nm0005124",
         "John Lasseter",
         "producer,writer,director"
        ],
        [
         "1550",
         "2010-12-17 00:00:00",
         "tron legacy",
         "200000000.0",
         "172062763.0",
         "400062763.0",
         "tt1104001",
         "Tron",
         "2010",
         "125.0",
         "Action,Adventure,Fantasy",
         "6.8",
         "Tron: Örökség",
         "HU",
         "nm2676052",
         "Joseph Kosinski",
         "director,writer,producer"
        ],
        [
         "1598",
         "2018-11-16 00:00:00",
         "fantastic beasts the crimes of grindelwald",
         "200000000.0",
         "159555901.0",
         "652220086.0",
         "tt4123430",
         "Fantastic Beasts: The Crimes of Grindelwald",
         "2018",
         "134.0",
         "Adventure,Family,Fantasy",
         "6.6",
         "Animales Fantásticos: Los crímenes de Grindelwald",
         "PE",
         "nm0946734",
         "David Yates",
         "director,producer,writer"
        ],
        [
         "1637",
         "2011-06-17 00:00:00",
         "green lantern",
         "200000000.0",
         "116601172.0",
         "219535492.0",
         "tt1133985",
         "Green Lantern",
         "2011",
         "114.0",
         "Action,Adventure,Sci-Fi",
         "5.5",
         "Green Lantern",
         null,
         "nm0132709",
         "Martin Campbell",
         "director,producer,actor"
        ],
        [
         "1665",
         "2013-03-01 00:00:00",
         "jack the giant slayer",
         "195000000.0",
         "65187603.0",
         "197687603.0",
         "tt1351685",
         "Jack the Giant Slayer",
         "2013",
         "114.0",
         "Adventure,Fantasy",
         "6.3",
         "Jack le chasseur de géants",
         "FR",
         "nm0001741",
         "Bryan Singer",
         "producer,director,writer"
        ],
        [
         "1700",
         "2015-04-03 00:00:00",
         "furious 7",
         "190000000.0",
         "353007020.0",
         "1518722794.0",
         "tt2820852",
         "Furious Seven",
         "2015",
         "137.0",
         "Action,Crime,Thriller",
         "7.2",
         "Furious 7",
         "NL",
         "nm1490123",
         "James Wan",
         "producer,writer,director"
        ],
        [
         "1751",
         "2013-05-16 00:00:00",
         "star trek into darkness",
         "190000000.0",
         "228778661.0",
         "467381584.0",
         "tt1408101",
         "Star Trek Into Darkness",
         "2013",
         "132.0",
         "Action,Adventure,Sci-Fi",
         "7.7",
         "Além da Escuridão: Star Trek",
         "BR",
         "nm0009190",
         "J.J. Abrams",
         "producer,writer,music_department"
        ],
        [
         "1797",
         "2013-06-21 00:00:00",
         "world war z",
         "190000000.0",
         "202359711.0",
         "531514650.0",
         "tt0816711",
         "World War Z",
         "2013",
         "116.0",
         "Action,Adventure,Horror",
         "7.0",
         "Guerra Mundial Z",
         "BR",
         "nm0286975",
         "Marc Forster",
         "producer,director,writer"
        ],
        [
         "1834",
         "2013-07-12 00:00:00",
         "pacific rim",
         "190000000.0",
         "101802906.0",
         "411002906.0",
         "tt1663662",
         "Pacific Rim",
         "2013",
         "131.0",
         "Action,Adventure,Sci-Fi",
         "6.9",
         "Το δαχτυλίδι της φωτιάς",
         "GR",
         "nm0868219",
         "Guillermo del Toro",
         "writer,producer,director"
        ],
        [
         "1869",
         "2015-11-25 00:00:00",
         "the good dinosaur",
         "187500000.0",
         "123087120.0",
         "333771037.0",
         "tt1979388",
         "The Good Dinosaur",
         "2015",
         "93.0",
         "Adventure,Animation,Comedy",
         "6.7",
         "Untitled Pixar/Dinosaurs Project",
         "US",
         "nm0812307",
         "Peter Sohn",
         "actor,animation_department,art_department"
        ],
        [
         "1912",
         "2012-06-22 00:00:00",
         "brave",
         "185000000.0",
         "237282182.0",
         "554606532.0",
         "tt1217209",
         "Brave",
         "2012",
         "93.0",
         "Adventure,Animation,Comedy",
         "7.1",
         "Ribelle: The Brave",
         "IT",
         "nm0028764",
         "Mark Andrews",
         "art_department,writer,miscellaneous"
        ],
        [
         "2065",
         "2017-03-10 00:00:00",
         "kong skull island",
         "185000000.0",
         "168052812.0",
         "561072059.0",
         "tt3731562",
         "Kong: Skull Island",
         "2017",
         "118.0",
         "Action,Adventure,Fantasy",
         "6.6",
         "King Kong: Giant from Skull Island",
         "JP",
         "nm3611349",
         "Jordan Vogt-Roberts",
         "director,producer,writer"
        ],
        [
         "2098",
         "2016-07-22 00:00:00",
         "star trek beyond",
         "185000000.0",
         "158848340.0",
         "335802233.0",
         "tt2660888",
         "Star Trek Beyond",
         "2016",
         "122.0",
         "Action,Adventure,Sci-Fi",
         "7.1",
         "Star Trek: Más allá",
         "ES",
         "nm0510912",
         "Justin Lin",
         "producer,director,writer"
        ],
        [
         "2135",
         "2017-11-03 00:00:00",
         "thor ragnarok",
         "180000000.0",
         "315058289.0",
         "846980024.0",
         "tt3501632",
         "Thor: Ragnarok",
         "2017",
         "130.0",
         "Action,Adventure,Comedy",
         "7.9",
         "Thor: Ragnarok",
         "ES",
         "nm0169806",
         "Taika Waititi",
         "actor,producer,director"
        ],
        [
         "2170",
         "2014-05-30 00:00:00",
         "maleficent",
         "180000000.0",
         "241407328.0",
         "758536735.0",
         "tt1587310",
         "Maleficent",
         "2014",
         "97.0",
         "Action,Adventure,Family",
         "7.0",
         "Czarownica",
         "PL",
         "nm0834902",
         "Robert Stromberg",
         "visual_effects,director,producer"
        ],
        [
         "2206",
         "2016-11-18 00:00:00",
         "fantastic beasts and where to find them",
         "180000000.0",
         "234037575.0",
         "802402853.0",
         "tt3183660",
         "Fantastic Beasts and Where to Find Them",
         "2016",
         "132.0",
         "Adventure,Family,Fantasy",
         "7.3",
         "Animales fantásticos y dónde encontrarlos",
         "MX",
         "nm0946734",
         "David Yates",
         "director,producer,writer"
        ],
        [
         "2247",
         "2016-07-01 00:00:00",
         "the legend of tarzan",
         "180000000.0",
         "126643061.0",
         "348902025.0",
         "tt0918940",
         "The Legend of Tarzan",
         "2016",
         "110.0",
         "Action,Adventure,Drama",
         "6.3",
         "La leyenda de Tarzán",
         "CL",
         "nm0946734",
         "David Yates",
         "director,producer,writer"
        ],
        [
         "2284",
         "2011-11-23 00:00:00",
         "hugo",
         "180000000.0",
         "73864507.0",
         "180047784.0",
         "tt0970179",
         "Hugo",
         "2011",
         "126.0",
         "Adventure,Drama,Family",
         "7.5",
         "Hugo",
         "FI",
         "nm0000217",
         "Martin Scorsese",
         "producer,director,actor"
        ],
        [
         "2321",
         "2017-07-21 00:00:00",
         "valerian and the city of a thousand planets",
         "180000000.0",
         "40479370.0",
         "215098356.0",
         "tt2239822",
         "Valerian and the City of a Thousand Planets",
         "2017",
         "137.0",
         "Action,Adventure,Fantasy",
         "6.5",
         "Valerian y la ciudad de los mil planetas",
         "ES",
         "nm0000108",
         "Luc Besson",
         "writer,producer,director"
        ],
        [
         "2354",
         "2015-02-06 00:00:00",
         "jupiter ascending",
         "179000000.0",
         "47482519.0",
         "181982519.0",
         "tt1617661",
         "Jupiter Ascending",
         "2015",
         "127.0",
         "Action,Adventure,Sci-Fi",
         "5.3",
         "Jupiteri tõus",
         "EE",
         "nm0905152",
         "Lilly Wachowski",
         "writer,producer,director"
        ]
       ],
       "shape": {
        "columns": 16,
        "rows": 1232
       }
      },

      "text/html": [
       "<div>\n",
       "<style scoped>\n",
       "    .dataframe tbody tr th:only-of-type {\n",
       "        vertical-align: middle;\n",
       "    }\n",
       "\n",
       "    .dataframe tbody tr th {\n",
       "        vertical-align: top;\n",
       "    }\n",
       "\n",
       "    .dataframe thead th {\n",
       "        text-align: right;\n",
       "    }\n",
       "</style>\n",
       "<table border=\"1\" class=\"dataframe\">\n",
       "  <thead>\n",
       "    <tr style=\"text-align: right;\">\n",
       "      <th></th>\n",
       "      <th>id</th>\n",
       "      <th>release_date</th>\n",
       "      <th>movie</th>\n",
       "      <th>production_budget</th>\n",
       "      <th>domestic_gross</th>\n",
       "      <th>worldwide_gross</th>\n",
       "      <th>month</th>\n",
       "      <th>month_abbrev</th>\n",
       "    </tr>\n",
       "  </thead>\n",
       "  <tbody>\n",
       "    <tr>\n",
       "      <th>0</th>\n",
       "      <td>1</td>\n",
       "      <td>2009-12-18</td>\n",
       "      <td>Avatar</td>\n",
       "      <td>425000000</td>\n",
       "      <td>760507625</td>\n",
       "      <td>2776345279</td>\n",
       "      <td>12</td>\n",
       "      <td>Dec</td>\n",
       "    </tr>\n",
       "    <tr>\n",
       "      <th>1</th>\n",
       "      <td>2</td>\n",
       "      <td>2011-05-20</td>\n",
       "      <td>Pirates of the Caribbean: On Stranger Tides</td>\n",
       "      <td>410600000</td>\n",
       "      <td>241063875</td>\n",
       "      <td>1045663875</td>\n",
       "      <td>5</td>\n",
       "      <td>May</td>\n",
       "    </tr>\n",
       "    <tr>\n",
       "      <th>2</th>\n",
       "      <td>3</td>\n",
       "      <td>2019-06-07</td>\n",
       "      <td>Dark Phoenix</td>\n",
       "      <td>350000000</td>\n",
       "      <td>42762350</td>\n",
       "      <td>149762350</td>\n",
       "      <td>6</td>\n",
       "      <td>Jun</td>\n",
       "    </tr>\n",
       "    <tr>\n",
       "      <th>3</th>\n",
       "      <td>4</td>\n",
       "      <td>2015-05-01</td>\n",
       "      <td>Avengers: Age of Ultron</td>\n",
       "      <td>330600000</td>\n",
       "      <td>459005868</td>\n",
       "      <td>1403013963</td>\n",
       "      <td>5</td>\n",
       "      <td>May</td>\n",
       "    </tr>\n",
       "    <tr>\n",
       "      <th>4</th>\n",
       "      <td>5</td>\n",
       "      <td>2017-12-15</td>\n",
       "      <td>Star Wars Ep. VIII: The Last Jedi</td>\n",
       "      <td>317000000</td>\n",
       "      <td>620181382</td>\n",
       "      <td>1316721747</td>\n",
       "      <td>12</td>\n",
       "      <td>Dec</td>\n",
       "    </tr>\n",
       "  </tbody>\n",
       "</table>\n",
       "</div>"
      ],
      "text/plain": [
       "   id release_date                                        movie  \\\n",
       "0   1   2009-12-18                                       Avatar   \n",
       "1   2   2011-05-20  Pirates of the Caribbean: On Stranger Tides   \n",
       "2   3   2019-06-07                                 Dark Phoenix   \n",
       "3   4   2015-05-01                      Avengers: Age of Ultron   \n",
       "4   5   2017-12-15            Star Wars Ep. VIII: The Last Jedi   \n",
       "\n",
       "   production_budget  domestic_gross  worldwide_gross  month month_abbrev  \n",
       "0          425000000       760507625       2776345279     12          Dec  \n",
       "1          410600000       241063875       1045663875      5          May  \n",
       "2          350000000        42762350        149762350      6          Jun  \n",
       "3          330600000       459005868       1403013963      5          May  \n",
       "4          317000000       620181382       1316721747     12          Dec  "
      ]
     },
     "execution_count": 141,
     "metadata": {},
     "output_type": "execute_result"
    }
   ],
   "source": [
    "tn_budget.head()"
   ]
  },
  {
   "cell_type": "markdown",
   "metadata": {},
   "source": [

    "Of course. Here is the content formatted as a Markdown file.\n",
    "\n",
    "# 🎬 Return on Investment (ROI) in Film\n",
    "\n",
    "---\n",
    "\n",
    "## What Is ROI?\n",
    "\n",
    "**Return on Investment (ROI)** is a financial metric used to measure how profitable a film is relative to its production budget. In simple terms, it calculates how efficiently a movie turns its cost into profit. A higher ROI indicates a more successful investment.\n",
    "\n",
    "---\n",
    "\n",
    "## How to Calculate Film ROI\n",
    "\n",
    "The formula to calculate ROI is:\n",
    "\n",
    "$$\\text{ROI} = \\frac{\\text{Gross Revenue} - \\text{Production Budget}}{\\text{Production Budget}}$$\n",
    "\n",
    "Where:\n",
    "* **Gross Revenue** is the total income generated by the film (e.g., box office, streaming, merchandise).\n",
    "* **Production Budget** is the total cost to produce the film.\n",
    "\n",
    "This can also be expressed more simply as:\n",
    "\n",
    "$$\\text{ROI} = \\frac{\\text{Net Profit}}{\\text{Budget}}$$\n",
    "\n",
    "The result is often multiplied by 100 to be shown as a percentage. For example, an ROI of 1.5 means you earned back your initial investment plus an additional 50% profit (or a 150% ROI)."
   ]
  },
  {
   "cell_type": "code",
   "execution_count": 53,
   "metadata": {},
   "outputs": [
    {
     "data": {
      "application/vnd.microsoft.datawrangler.viewer.v0+json": {
       "columns": [
        {
         "name": "index",
         "rawType": "int64",
         "type": "integer"
        },
        {
         "name": "ROI",
         "rawType": "float64",
         "type": "float"
        }
       ],
       "ref": "081bced8-13d2-459a-bf40-6dfd1486411a",
       "rows": [
        [
         "0",
         "1.5466728567949342"
        ],
        [
         "46",
         "3.2438413883847548"
        ],
        [
         "87",
         "5.827114"
        ],
        [
         "163",
         "1.18648403"
        ],
        [
         "196",
         "1.9320697433333334"
        ],
        [
         "229",
         "0.4296412618181818"
        ],
        [
         "267",
         "-0.05453776363636364"
        ],
        [
         "302",
         "0.028284"
        ],
        [
         "336",
         "1.2556816923076923"
        ],
        [
         "438",
         "3.560277652"
        ],
        [
         "522",
         "2.782310484"
        ],
        [
         "577",
         "3.939385068"
        ],
        [
         "629",
         "2.4271353782608696"
        ],
        [
         "735",
         "1.9688867466666666"
        ],
        [
         "777",
         "2.444955759090909"
        ],
        [
         "821",
         "0.4248987136363636"
        ],
        [
         "849",
         "6.669092390697674"
        ],
        [
         "897",
         "0.5355190761904762"
        ],
        [
         "955",
         "5.74129112"
        ],
        [
         "984",
         "5.212603555"
        ],
        [
         "1023",
         "4.24551428"
        ],
        [
         "1065",
         "4.106075965"
        ],
        [
         "1155",
         "4.34439761"
        ],
        [
         "1192",
         "5.07696136"
        ],
        [
         "1235",
         "3.311581165"
        ],
        [
         "1273",
         "4.552634905"
        ],
        [
         "1317",
         "2.717941645"
        ],
        [
         "1364",
         "1.451795255"
        ],
        [
         "1402",
         "2.739313875"
        ],
        [
         "1440",
         "2.54498168"
        ],
        [
         "1476",
         "1.800776915"
        ],
        [
         "1550",
         "1.000313815"
        ],
        [
         "1598",
         "2.26110043"
        ],
        [
         "1637",
         "0.09767746"
        ],
        [
         "1665",
         "0.013782579487179487"
        ],
        [
         "1700",
         "6.9932778631578945"
        ],
        [
         "1751",
         "1.4599030736842105"
        ],
        [
         "1797",
         "1.7974455263157896"
        ],
        [
         "1834",
         "1.1631731894736843"
        ],
        [
         "1869",
         "0.7801121973333334"
        ],
        [
         "1912",
         "1.997873145945946"
        ],
        [
         "2065",
         "2.0328219405405403"
        ],
        [
         "2098",
         "0.8151472054054054"
        ],
        [
         "2135",
         "3.7054445777777776"
        ],
        [
         "2170",
         "3.2140929722222222"
        ],
        [
         "2206",
         "3.457793627777778"
        ],
        [
         "2247",
         "0.9383445833333334"
        ],
        [
         "2284",
         "0.00026546666666666665"
        ],
        [
         "2321",
         "0.19499086666666668"
        ],
        [
         "2354",
         "0.016662117318435754"
        ]
       ],
       "shape": {
        "columns": 1,
        "rows": 1232
       }
      },
      "text/plain": [
       "0          1.546673\n",
       "46         3.243841\n",
       "87         5.827114\n",
       "163        1.186484\n",
       "196        1.932070\n",
       "            ...    \n",
       "38839      2.181096\n",
       "38847     24.754942\n",
       "38863    415.564740\n",
       "38913     26.697820\n",
       "38929      7.482980\n",
       "Name: ROI, Length: 1232, dtype: float64"
      ]
     },
     "execution_count": 53,
     "metadata": {},
     "output_type": "execute_result"
    }
   ],
   "source": [
    "#budget_df_cp['roi'] = (budget_df_cp[''])\n",
    "budget_df_cp['ROI'] = (budget_df_cp['worldwide_gross'] - budget_df_cp['production_budget']) / budget_df_cp['production_budget']\n",
    "budget_df_cp['ROI']"

    "#### Univariate Analysis"

   ]
  },
  {
   "cell_type": "markdown",
   "metadata": {},
   "source": [
    "##### Histogram of domestic gross revenue distributions by month"
   ]
  },
  {
   "cell_type": "code",
   "execution_count": 80,
   "metadata": {},
   "outputs": [
    {
     "data": {
      "image/png": "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",
      "text/plain": [
       "<Figure size 800x600 with 1 Axes>"
      ]
     },
     "metadata": {},
     "output_type": "display_data"
    }
   ],
   "source": [
    "monthly_gross = tn_budget.groupby('month_abbrev')['domestic_gross'].sum()\n",
    "monthly_gross_sorted = monthly_gross.sort_values(ascending=False)\n",
    "plt.figure(figsize=(8,6))\n",
    "plt.bar(x=monthly_gross_sorted.index,height=monthly_gross_sorted.values,color='#3B060A')\n",
    "plt.xlabel('Month')\n",
    "plt.ylabel('Domestic Gross')\n",
    "plt.title('Domestic Gross by Month')\n",
    "plt.show()"
   ]
  },
  {
   "cell_type": "markdown",
   "metadata": {},
   "source": [
    "##### Histogram of worldwide gross revenue distributions by month"
   ]
  },
  {
   "cell_type": "code",
   "execution_count": 87,
   "metadata": {},
   "outputs": [
    {
     "data": {
      "image/png": "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",
      "text/plain": [
       "<Figure size 800x600 with 1 Axes>"
      ]
     },
     "metadata": {},
     "output_type": "display_data"
    }
   ],
   "source": [
    "monthly_gross1 = tn_budget.groupby('month_abbrev')['worldwide_gross'].sum()\n",
    "monthly_gross_sorted1 = monthly_gross1.sort_values(ascending=False)\n",
    "plt.figure(figsize=(8,6))\n",
    "plt.bar(x=monthly_gross_sorted1.index,height=monthly_gross_sorted1.values,color='#3B060A')\n",
    "plt.xlabel('Month')\n",
    "plt.ylabel('Worldwide Gross')\n",
    "plt.title('Worldwide Gross by Month')\n",
    "plt.show();"
   ]
  },
  {
   "cell_type": "markdown",
   "metadata": {},
   "source": [
    "-The best months to release a movie are December, June, May and November "
   ]
  },
  {
   "cell_type": "markdown",
   "metadata": {},
   "source": [
    "##### Count of movie releases per month"
   ]
  },
  {
   "cell_type": "code",
   "execution_count": 84,
   "metadata": {},
   "outputs": [
    {
     "data": {
      "image/png": "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",
      "text/plain": [
       "<Figure size 800x600 with 1 Axes>"
      ]
     },
     "metadata": {},
     "output_type": "display_data"
    }
   ],
   "source": [
    "count1 = tn_budget.groupby('month_abbrev')['movie'].count()\n",
    "count_sorted1 = count1.sort_values(ascending=False)\n",
    "plt.figure(figsize=(8,6))\n",
    "plt.bar(x=count_sorted1.index,height=count_sorted1.values,color='#3B060A')\n",
    "plt.xlabel('Month')\n",
    "plt.ylabel('Movies Count')\n",
    "plt.title('Movies Count by Month')\n",
    "plt.show();"
   ]
  },
  {
   "cell_type": "markdown",
   "metadata": {},
   "source": [
    "#### Bivariate Analysis"
   ]
  },
  {
   "cell_type": "markdown",
   "metadata": {},
   "source": [
    "##### Line graphs showing domestic and worldwide gross trends across months"
   ]
  },
  {
   "cell_type": "code",
   "execution_count": 149,
   "metadata": {},
   "outputs": [
    {
     "data": {
      "image/png": "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",
      "text/plain": [
       "<Figure size 800x600 with 1 Axes>"
      ]
     },
     "metadata": {},
     "output_type": "display_data"
    }
   ],
   "source": [
    "# 1. Aggregate the data by month to get total domestic and worldwide gross\n",
    "# Using the numeric 'month' column ensures the plot is in chronological order.\n",
    "monthly_gross = tn_budget.groupby('month')[['domestic_gross', 'worldwide_gross']].sum()\n",
    "\n",
    "# 2. Create the line plot\n",
    "plt.figure(figsize=(8, 6))\n",
    "\n",
    "# Plot the total domestic gross\n",
    "plt.plot(monthly_gross.index, monthly_gross['domestic_gross'], marker='o', label='Domestic Gross', color='#3B060A')\n",
    "\n",
    "# Plot the total worldwide gross on the same axes\n",
    "plt.plot(monthly_gross.index, monthly_gross['worldwide_gross'], marker='o', label='Worldwide Gross', color='#C83F12')\n",
    "\n",
    "# 3. Add labels, a title, a legend\n",
    "plt.title('Domestic vs. Worldwide Gross Trends by Month')\n",
    "plt.xlabel('Month')\n",
    "plt.ylabel('Total Gross')\n",
    "\n",
    "plt.legend()\n",
    "\n",
    "# Set the x-ticks to show month abbreviations instead of numbers\n",
    "plt.xticks(monthly_gross.index, [calendar.month_abbr[i] for i in monthly_gross.index])\n",
    "\n",
    "plt.show()"
   ]
  },
  {
   "cell_type": "markdown",
   "metadata": {},
   "source": [
    "- The worlwide gross has more revenue than the domestic gross."
   ]
  },
  {
   "cell_type": "markdown",
   "metadata": {},
   "source": [
    "#### Multivariate analysis"
   ]
  },
  {
   "cell_type": "code",
   "execution_count": 153,
   "metadata": {},
   "outputs": [
    {
     "data": {
      "image/png": "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",
      "text/plain": [
       "<Figure size 800x600 with 2 Axes>"
      ]
     },
     "metadata": {},
     "output_type": "display_data"
    }
   ],
   "source": [
    "numeric_cols = tn_budget[['month', 'domestic_gross', 'worldwide_gross','production_budget']]\n",
    "\n",
    "# 1. Calculate the correlation matrix\n",
    "correlation_matrix = numeric_cols.corr()\n",
    "\n",
    "# 3. Create the heatmap\n",
    "plt.figure(figsize=(8, 6))\n",
    "sns.heatmap(\n",
    "    data=correlation_matrix,\n",
    "    annot=True,          # Display the numerical values on the heatmap\n",
    "    fmt=\".2f\",           # Format the numbers to two decimal places\n",
    "    cmap=\"OrRd\",       # Choose a color palette\n",
    "    linewidths=.5       # Add lines to separate the cells\n",
    "    \n",
    ")\n",
    "\n",
    "plt.title('Correlation Matrix of Gross Revenue and Month')\n",
    "\n",
    "\n",
    "plt.show()"
   ]
  },
  {
   "cell_type": "markdown",
   "metadata": {},
   "source": [
    "- Domestic gross and Worldwide gross are highly correlated. This would be an issue due to high multicollinearity.\n",
    "- Production budget is more correlated with worldwide gross as compared to the domestic "
   ]
  },
  {
   "cell_type": "code",
   "execution_count": 148,
   "metadata": {},
   "outputs": [
    {
     "name": "stdout",
     "output_type": "stream",
     "text": [
      "intercept: -7285667.054592103\n",
      "coefficient: 3.1269433806033082\n"
     ]
    }
   ],
   "source": [
    "# Linear regression\n",
    "\n",
    "x=tn_budget[['production_budget']]\n",
    "y=tn_budget['worldwide_gross']\n",
    "model=LinearRegression()\n",
    "model.fit(x,y)\n",
    "print(f\"intercept: {model.intercept_}\")\n",
    "print(f\"coefficient: {model.coef_[0]}\")\n",
    "y_pred = model.predict(x)\n"
   ]
  },
  {
   "cell_type": "markdown",
   "metadata": {},
   "source": [
    "- The worldwide gross is  a loss when the production budget is 0.\n",
    "- The worldwide gross increases by 3 units for every unit increase in production budget."
   ]
  },
  {
   "cell_type": "code",
   "execution_count": 130,
   "metadata": {},
   "outputs": [
    {

     "name": "stderr",
     "output_type": "stream",
     "text": [
      "/var/folders/0v/036y_w3j0cj0nq2z_v6pl7tw0000gn/T/ipykernel_3620/1860749958.py:4: FutureWarning: \n",
      "\n",
      "Passing `palette` without assigning `hue` is deprecated and will be removed in v0.14.0. Assign the `x` variable to `hue` and set `legend=False` for the same effect.\n",
      "\n",
      "  sns.barplot(x='release_year', y='worldwide_gross', data=yearly_gross, palette='Blues_d')\n"
     ]
    },
    {

     "data": {
      "text/plain": [
       "release_region\n",
       "US     35838\n",
       "XWW    17068\n",
       "RU     14495\n",
       "DE     10891\n",
       "FR      9288\n",
       "PL      9255\n",
       "ES      8400\n",
       "BR      8329\n",
       "GB      7508\n",
       "CA      6969\n",
       "dtype: int64"
      ]
     },
     "execution_count": 130,
     "metadata": {},
     "output_type": "execute_result"
    }
   ],
   "source": [
    "best_regions=final_df.groupby('release_region').size()\n",
    "top_ten_regions=best_regions.nlargest(10)\n",
    "top_ten_regions"
   ]
  },
  {
   "cell_type": "markdown",
   "metadata": {},
   "source": [
    "- Regions with the most releases are:\n",
    " US: United States  RU: Russia  DE: Germany  FR: France  PL: Poland  ES: Spain  BR: Brazil  GB: United Kingdom  CA: Canada\n"
   ]
  },
  {
   "cell_type": "markdown",
   "metadata": {},
   "source": [
    "#### Conclusion\n",
    "\n",
    "- The best months to release a movie are December, June, May and November\n",
    "- The worlwide gross is always higher than the domestic gross.\n",
    "- Domestic gross and Worldwide gross are highly correlated. This would be an issue due to high multicollinearity.\n",
    "- Regions with the most releases are:\n",
    "    - US: United States RU: Russia DE: Germany FR: France PL: Poland ES: Spain BR: Brazil GB: United Kingdom CA: Canada"
   ]
  },
  {
   "cell_type": "markdown",
   "metadata": {},
   "source": [
    "#### Recommendations\n",
    "\n",
    "- The studio should release the movies in  the months of December, May, June and November.\n",
    "-  The studio can focus on releasing movies in the top regions above."
   ]
  },
  {
   "cell_type": "code",
   "execution_count": 64,
   "metadata": {},
   "outputs": [],
   "source": [
    "## merge Q 2"
   ]
  }
 ],
 "metadata": {
  "kernelspec": {
   "display_name": "Python (learn-env)",
   "language": "python",
   "name": "learn-env"
  },
  "language_info": {
   "codemirror_mode": {
    "name": "ipython",
    "version": 3
   },
   "file_extension": ".py",
   "mimetype": "text/x-python",
   "name": "python",
   "nbconvert_exporter": "python",
   "pygments_lexer": "ipython3",
   "version": "3.12.7"
  }
 },
 "nbformat": 4,
 "nbformat_minor": 4
}
