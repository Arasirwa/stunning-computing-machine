{
 "cells": [
  {
   "cell_type": "markdown",
   "metadata": {},
   "source": [
    "# Exploratory Notebook"
   ]
  },
  {
   "cell_type": "markdown",
   "metadata": {},
   "source": [
    "# Business Understanding\n",
    "\n",
    "## Business Context\n",
    "Our company is entering the competitive movie production industry by establishing a new movie studio. With major corporations increasingly investing in original video content, we need to strategically position ourselves to maximize our chances of box office success.\n",
    "\n",
    "## Primary Stakeholder\n",
    "**Head of New Movie Studio** - The key decision-maker who will use our analysis to guide the studio's content creation strategy and investment decisions.\n",
    "\n",
    "## Key Business Questions\n",
    "\n",
    "### 1. **What genres are most profitable?**\n",
    "   - Which movie genres consistently generate the highest box office returns?\n",
    "   - Are there emerging genres showing strong growth potential?\n",
    "\n",
    "### 2. **What budget ranges optimize ROI?**\n",
    "   - What is the relationship between production budget and box office performance?\n",
    "   - What budget sweet spot maximizes return on investment?\n",
    "\n",
    "### 3. **When should we release our films?**\n",
    "   - Which months/seasons show the strongest box office performance?\n",
    "   - How can we avoid oversaturated release periods?\n",
    "\n",
    "## Business Objectives\n",
    "- **Primary Goal:** Identify the most profitable film characteristics to guide our initial movie productions\n",
    "- **Success Metrics:** Maximize box office revenue and return on investment\n",
    "- **Risk Mitigation:** Minimize financial losses by avoiding poorly-performing film categories\n",
    "\n",
    "## Data Requirements & Analysis Considerations\n",
    "\n",
    "### Dataset Specifications Needed:\n",
    "1. **What movie data do we have access to?** (Box office numbers, budgets, genres, release dates, ratings, etc.)\n",
    "2. **What time period does our data cover?** (Recent years only, or historical data?)\n",
    "3. **Is it domestic box office, international, or worldwide gross?**\n",
    "\n",
    "### Business Context Clarifications:\n",
    "4. **What size studio are we targeting?** (Independent/small budget vs. major studio competitor?)\n",
    "5. **Are there any genre restrictions?** (Family-friendly only, or open to all ratings?)\n",
    "6. **Geographic focus?** (Domestic US market, international, or global?)\n",
    "\n",
    "### Analysis Scope Considerations:\n",
    "7. **Should we consider streaming/digital revenue or just theatrical box office?**\n",
    "8. **Do we want to analyze competitor studios' strategies?**\n",
    "9. **Should seasonal trends consider COVID-19 impact on recent years?**\n",
    "\n",
    "## Success Metrics Framework\n",
    "**Primary Metrics:**\n",
    "- **Gross Revenue:** Total box office performance\n",
    "- **Return on Investment (ROI):** (Revenue - Budget) / Budget × 100\n",
    "- **Profit Margins:** Net profit as percentage of revenue\n",
    "- **Budget Efficiency:** Revenue per dollar invested\n",
    "\n",
    "**Secondary Metrics:**\n",
    "- **Market Share:** Performance relative to industry\n",
    "- **Risk Assessment:** Variance in returns by category\n",
    "- **Audience Reach:** Ticket sales and demographic penetration\n",
    "\n",
    "## Recommended Visualizations Strategy\n",
    "\n",
    "### 1. **Genre Analysis**\n",
    "- **Horizontal Bar Chart:** Average revenue by genre (easy comparison)\n",
    "- **Box Plot:** Revenue distribution by genre (shows variability and outliers)\n",
    "- **Scatter Plot:** Budget vs. Revenue by genre (profitability insights)\n",
    "\n",
    "### 2. **Budget Optimization**\n",
    "- **Scatter Plot with Trend Line:** Budget vs. ROI (sweet spot identification)\n",
    "- **Histogram:** Distribution of profitable budget ranges\n",
    "- **Bubble Chart:** Budget vs. Revenue (bubble size = profit margin)\n",
    "\n",
    "### 3. **Release Timing**\n",
    "- **Line Graph:** Monthly box office performance over time\n",
    "- **Heatmap:** Revenue by month and genre combination\n",
    "- **Seasonal Bar Chart:** Quarterly performance comparison\n",
    "\n",
    "### 4. **Risk vs. Reward Analysis**\n",
    "- **Risk-Return Scatter Plot:** Average return vs. standard deviation by category\n",
    "- **Waterfall Chart:** Success rate breakdown by film characteristics\n",
    "\n",
    "## Expected Deliverables\n",
    "Three concrete, data-driven recommendations that the Head of Movie Studio can immediately implement in the studio's content strategy and production planning."
   ]
  },
  {
   "cell_type": "markdown",
   "metadata": {},
   "source": [
    "# Data Understanding\n",
    "\n",
    "`bom.movie_gross.csv.gz` dataset from Box Office Mojo contains the revenue data for various films. It contains the following five columns:\n",
    "\n",
    "- **title**: movie title\n",
    "- **studio**: producing studio\n",
    "- **domestic_gross**: domestic gross earnings in USD\n",
    "- **foreign_gross**: international gross earnings\n",
    "- **year**: year film was released\n",
    "\n",
    "`im` database from IMDb (Internet Movie Database) contains information about the movies and those who worked on them. It contains eight tables with the following fields:\n",
    "- `directors` table contains the directors. It contains the following two fields:\n",
    "    - **movie_id**: unique movie ID (as per IMDb)\n",
    "    - **person_id**: director's ID (as per IMDb)\n",
    "- `known_for` table contains the notable works for each person. It contains the following two fields:\n",
    "    - **person_id**: unique person ID (as per IMDb)\n",
    "    - **movie_id**: unique movie ID (as per IMDb)\n",
    "- `movie_akas` table contains the alternative titles of the movies. It contains the following eight fields:\n",
    "    - **movie_id**: unique movie ID (as per IMDb)\n",
    "    - **ordering**: order in which movie title appears\n",
    "    - **title**: alternative title for the movie\n",
    "    - **region**: country code where movie was shown\n",
    "    - **language**: language code of the movie\n",
    "    - **types**: type of alternative title\n",
    "    - **attributes**: special attributes of the movie\n",
    "    - **is_original_title**: shows whether alternative title is the origianl title (1 = original title, 0 = alternative title)\n",
    "- `movie_basics` table contains basic information about the movies. It contains the following six fields:\n",
    "    - **movie_id**: unique identifier for the movie (as per IMDb)\n",
    "    - **primary_title**: official title of the movie\n",
    "    - **original_title**: official title of the movie in the original language\n",
    "    - **start_year**: year when the movie was released\n",
    "    - **runtime_minutes**: duration of the movie in minutes\n",
    "    - **genres**: genre(s) of the movie\n",
    "- `movie_ratings` table contains the ratings movies were given by IMDb. It contains the following three fields:\n",
    "    - **movie_id**: unique movie ID (as per IMDb)\n",
    "    - **averagerating**: average IMDb rating\n",
    "    - **numvotes**: number of votes received\n",
    "- `persons` table contains records of those involved in the movies. It has the following five fields:\n",
    "    - **person_id**: unique identifier for the person (as per IMDb)\n",
    "    - **primary_name**: full name of the person\n",
    "    - **birth_year**: year of birth\n",
    "    - **death_year**: year of death (if dead)\n",
    "    - **primary_profession**: role in the movie\n",
    "- `principals` table contains the information of the main cast and crew. It has the following five fields:\n",
    "    - **movie_id**: unique movie ID (as per IMDb)\n",
    "    - **ordering**: order of person in credits\n",
    "    - **person_id**: unique person ID (as per IMDb)\n",
    "    - **category**: role played\n",
    "    - **job**: specific role\n",
    "    - **characters**: character name\n",
    "- `writers` table contains the following two fields:\n",
    "    - **movie_id**: unique movie ID (as per IMDb)\n",
    "    - **person_id**: writer's ID (as per IMDb)\n",
    "\n",
    "`rt.movie_info.tsv.gz` dataset from Rotten Tomatoes contains general information about the movies. It contains the following twelve columns:\n",
    "- **id**: unique movie ID (as per Rotten Tomatoes)\n",
    "- **synopsis**: short summary of the movie\n",
    "- **rating**: Motion Picture Association of America(MPAA) Rating\n",
    "- **genre**: genre(s) of the movie\n",
    "- **director**: name of the director(s)\n",
    "- **writer**: name of the writer(s)\n",
    "- **theater_date**: date released in theaters\n",
    "- **dvd_date**: date released in DVD format\n",
    "- **currency**: currency symbol\n",
    "- **box_office**: total revenue from box office\n",
    "- **runtime**: movie duration in minutes\n",
    "- **studio**: producing studios\n",
    "\n",
    "`rt.reviews.tsv.gz` dataset from Rotten Tomatoes contains review information about movies. It contains the following eight columns:\n",
    "- **id**: unique movie ID (as per Rotten Tomatoes)\n",
    "- **review**: review text\n",
    "- **rating**: rating given by critic\n",
    "- **fresh**: categorization of the review (fresh = positive, rotten = negative)\n",
    "- **critic**: name of the critic\n",
    "- **top_critic**: highlights if a critic is regarded as a Top Critic by Rotten Tomatoes (1 = top critic, 0 = not a top critic)\n",
    "- **publisher**: publication name\n",
    "- **date**: date of the review\n",
    "\n",
    "`tmdb.movies.csv.gz` from The Movie Database (TMDb) contains movie and rating informations about various movies. It contains the following nine columns:\n",
    "- **genre_ids**: list of genre(s) for the movie\n",
    "- **id**: unique movie ID (as per TMDb)\n",
    "- **original_language**: language code for the movie\n",
    "- **original_title**: title of the movie in the official language\n",
    "- **popularity**: popularity score (as per TMDb)\n",
    "- **relaease_date**: release date in theatres\n",
    "- **title**: movie title\n",
    "- **vote_average**: average user rating\n",
    "- **vote_count**: total votes received\n",
    "\n",
    "`tn.movie_budgets.csv.gz` from The Numbers dataset contains movie budget and revenue information. It has the following six columns:\n",
    "- **id**: unique movie ID (as per The Numbers)\n",
    "- **release_date**: release date in theatres\n",
    "- **movie**: movie title\n",
    "- **production_budget**: budget used (in USD)\n",
    "- **domestic_gross**: revenue generated from country of origin (in USD)\n",
    "- **worldwide_gross**: total revenue generated worldwide (in USD)\n"
   ]
  },
  {
   "cell_type": "code",
   "execution_count": 17,
   "metadata": {},
   "outputs": [],
   "source": [
    "#importing relevant libs\n",
    "import pandas as pd\n",
    "import numpy as np\n",
    "from matplotlib import pyplot as plt\n",
    "from mpl_toolkits.mplot3d import Axes3D\n",
    "from random import gauss\n",
    "from scipy import stats\n",
    "import seaborn as sns\n",
    "from sklearn.linear_model import LinearRegression\n",
    "from mpl_toolkits import mplot3d\n",
    "import sklearn.metrics as metrics\n",
    "import statsmodels.api as sm\n",
    "import sqlite3\n"
   ]
  },
  {
   "cell_type": "markdown",
   "metadata": {},
   "source": [
    "## Loading the Data sets"
   ]
  },
  {
   "cell_type": "code",
   "execution_count": 18,
   "metadata": {},
   "outputs": [
    {
     "name": "stdout",
     "output_type": "stream",
     "text": [
      "dict_keys(['movie_basics', 'directors', 'known_for', 'movie_akas', 'movie_ratings', 'persons', 'principals', 'writers'])\n"
     ]
    }
   ],
   "source": [
    "#going through SQl\n",
    "def load_tables(connection):\n",
    "    table_names = pd.read_sql(\n",
    "        \"SELECT name FROM sqlite_master WHERE type='table';\", connection\n",
    "    )[\"name\"].tolist()\n",
    "    sql_tables = {\n",
    "        table_name: pd.read_sql(f\"SELECT * FROM {table_name}\", connection)\n",
    "        for table_name in table_names\n",
    "    }\n",
    "    return sql_tables\n",
    "\n",
    "path = '../Data/im.db'\n",
    "conn = sqlite3.connect(path)\n",
    "\n",
    "imdb_tables = load_tables(conn)\n",
    "\n",
    "print(imdb_tables.keys())\n"
   ]
  },
  {
   "cell_type": "code",
   "execution_count": 19,
   "metadata": {},
   "outputs": [],
   "source": [
    "bom_movie = pd.read_csv(\"../Data/bom.movie_gross.csv\")\n",
    "rt_info = pd.read_csv(\"../Data/rt.movie_info.tsv\", sep='\\t', encoding='latin1')\n",
    "rt_reviews = pd.read_csv(\"../Data/rt.movie_info.tsv\", sep='\\t', encoding='latin1')\n",
    "tmdb_df = pd.read_csv(\"../Data/tmdb.movies.csv\")\n",
    "tn_budget = pd.read_csv(\"../Data/tn.movie_budgets.csv\")"
   ]
  },
  {
   "cell_type": "markdown",
   "metadata": {},
   "source": [
    "## SQL CLEANING AND MERGING"
   ]
  },
  {
   "cell_type": "code",

   "execution_count": 4,

   "execution_count": 20,

   "metadata": {},
   "outputs": [
    {
     "name": "stdout",
     "output_type": "stream",
     "text": [
      "<class 'pandas.core.frame.DataFrame'>\n",
      "RangeIndex: 146144 entries, 0 to 146143\n",
      "Data columns (total 6 columns):\n",
      " #   Column           Non-Null Count   Dtype  \n",
      "---  ------           --------------   -----  \n",
      " 0   movie_id         146144 non-null  object \n",
      " 1   primary_title    146144 non-null  object \n",
      " 2   original_title   146123 non-null  object \n",
      " 3   start_year       146144 non-null  int64  \n",
      " 4   runtime_minutes  114405 non-null  float64\n",
      " 5   genres           140736 non-null  object \n",
      "dtypes: float64(1), int64(1), object(4)\n",
      "memory usage: 6.7+ MB\n",
      "movie_id               0\n",
      "primary_title          0\n",
      "original_title        21\n",
      "start_year             0\n",
      "runtime_minutes    31739\n",
      "genres              5408\n",
      "dtype: int64\n"
     ]
    }
   ],
   "source": [
    "movie_basics = imdb_tables['movie_basics']\n",
    "movie_basics.shape\n",
    "movie_basics.head()\n",
    "movie_basics.info()\n",
    "movie_basics.describe()\n",
    "print(movie_basics.isna().sum())"
   ]
  },
  {
   "cell_type": "code",
   "execution_count": 21,
   "metadata": {},
   "outputs": [],
   "source": [
    "movie_basics_cp = movie_basics.copy(deep=True)\n",
    "\n",
    "movie_basics_cp['original_title'] = movie_basics_cp['original_title'].fillna('Unknown')\n",
    "\n",
    "movie_basics_median = movie_basics_cp['runtime_minutes'].median()\n",
    "\n",
    "movie_basics_cp['runtime_minutes'] = movie_basics_cp['runtime_minutes'].fillna(movie_basics_median)\n",
    "\n",
    "movie_basics_cp['genres'] = movie_basics_cp['genres'].fillna(\"Unknown\")"
   ]
  },
  {
   "cell_type": "code",
   "execution_count": 6,
   "metadata": {},
   "outputs": [
    {
     "name": "stdout",
     "output_type": "stream",
     "text": [
      "movie_id           0\n",
      "primary_title      0\n",
      "original_title     0\n",
      "start_year         0\n",
      "runtime_minutes    0\n",
      "genres             0\n",
      "dtype: int64\n"
     ]
    },
    {
     "data": {
      "text/plain": [
       "(146144, 6)"
      ]
     },
     "execution_count": 22,
     "metadata": {},
     "output_type": "execute_result"
    }
   ],
   "source": [
    "print(movie_basics_cp.isna().sum())\n",
    "movie_basics_cp.shape"
   ]
  },
  {
   "cell_type": "code",

   "execution_count": 7,

   "metadata": {},
   "outputs": [
    {
     "data": {
      "text/plain": [
       "array([2013, 2019, 2018, 2017, 2012, 2010, 2011, 2015, 2021, 2016, 2014,\n",
       "       2020, 2022, 2023, 2024, 2026, 2025, 2115, 2027], dtype=int64)"
      ]
     },

     "execution_count": 7,

     "metadata": {},
     "output_type": "execute_result"
    }
   ],
   "source": [
    "movie_basics_cp['start_year'].unique()"
   ]
  },
  {
   "cell_type": "code",
   "execution_count": 8,
   "metadata": {},
   "outputs": [
    {
     "data": {
      "text/plain": [
       "<AxesSubplot:xlabel='start_year'>"
      ]
     },

     "execution_count": 8,

     "metadata": {},
     "output_type": "execute_result"
    },
    {
     "data": {

      "image/png": "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",

      "text/plain": [
       "<Figure size 432x288 with 1 Axes>"
      ]
     },
     "metadata": {
      "needs_background": "light"
     },
     "output_type": "display_data"
    }
   ],
   "source": [
    "sns.boxplot(x= movie_basics_cp['start_year'], color='tomato')"
   ]
  },
  {
   "cell_type": "code",

   "execution_count": 9,

   "metadata": {},
   "outputs": [
    {
     "data": {
      "text/plain": [
       "(146140, 6)"
      ]
     },
     "execution_count": 9,
     "metadata": {},
     "output_type": "execute_result"
    }
   ],
   "source": [
    "movie_basics_cp = movie_basics_cp[movie_basics_cp['start_year'] < 2025]\n",
    "movie_basics_cp.shape\n",
    "\n"
   ]
  },
  {
   "cell_type": "code",
   "execution_count": 10,
   "metadata": {},
   "outputs": [
    {
     "data": {
      "text/plain": [
       "<AxesSubplot:xlabel='runtime_minutes'>"
      ]
     },

     "execution_count": 10,
     "metadata": {},
     "output_type": "execute_result"
    },
    {
     "data": {
      "image/png": "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",

      "text/plain": [
       "<Figure size 432x288 with 1 Axes>"
      ]
     },
     "metadata": {
      "needs_background": "light"
     },
     "output_type": "display_data"
    }
   ],
   "source": [
    "sns.boxplot(x= movie_basics_cp['runtime_minutes'], color='tomato')"
   ]
  },
  {
   "cell_type": "code",
   "execution_count": 11,
   "metadata": {},
   "outputs": [
    {
     "data": {

      "application/vnd.microsoft.datawrangler.viewer.v0+json": {
       "columns": [
        {
         "name": "index",
         "rawType": "int64",
         "type": "integer"
        },
        {
         "name": "runtime_minutes",
         "rawType": "float64",
         "type": "float"
        }
       ],
       "ref": "31b3b067-8a7f-4e7b-a0d6-caa02cafdda1",
       "rows": [
        [
         "95787",
         "1.0"
        ],
        [
         "113278",
         "1.0"
        ],
        [
         "93214",
         "1.0"
        ],
        [
         "72190",
         "1.0"
        ],
        [
         "98755",
         "1.0"
        ],
        [
         "116943",
         "1.0"
        ],
        [
         "3298",
         "1.0"
        ],
        [
         "140571",
         "1.0"
        ],
        [
         "125975",
         "1.0"
        ],
        [
         "22903",
         "1.0"
        ],
        [
         "60809",
         "1.0"
        ],
        [
         "54307",
         "1.0"
        ],
        [
         "114067",
         "1.0"
        ],
        [
         "117258",
         "1.0"
        ],
        [
         "2570",
         "1.0"
        ],
        [
         "57140",
         "1.0"
        ],
        [
         "136059",
         "1.0"
        ],
        [
         "113099",
         "2.0"
        ],
        [
         "15584",
         "2.0"
        ],
        [
         "129630",
         "2.0"
        ],
        [
         "116783",
         "2.0"
        ],
        [
         "3116",
         "2.0"
        ],
        [
         "102792",
         "2.0"
        ],
        [
         "107782",
         "2.0"
        ],
        [
         "114134",
         "2.0"
        ],
        [
         "117649",
         "2.0"
        ],
        [
         "131229",
         "2.0"
        ],
        [
         "51387",
         "2.0"
        ],
        [
         "37345",
         "2.0"
        ],
        [
         "43133",
         "2.0"
        ],
        [
         "96417",
         "2.0"
        ],
        [
         "59386",
         "2.0"
        ],
        [
         "131200",
         "2.0"
        ],
        [
         "105198",
         "2.0"
        ],
        [
         "110973",
         "2.0"
        ],
        [
         "9343",
         "2.0"
        ],
        [
         "123610",
         "2.0"
        ],
        [
         "120152",
         "2.0"
        ],
        [
         "5128",
         "2.0"
        ],
        [
         "118872",
         "2.0"
        ],
        [
         "133236",
         "2.0"
        ],
        [
         "106420",
         "2.0"
        ],
        [
         "114657",
         "2.0"
        ],
        [
         "131154",
         "2.0"
        ],
        [
         "109535",
         "2.0"
        ],
        [
         "125081",
         "2.0"
        ],
        [
         "98062",
         "2.0"
        ],
        [
         "5401",
         "2.0"
        ],
        [
         "83271",
         "2.0"
        ],
        [
         "97113",
         "2.0"
        ]
       ],
       "shape": {
        "columns": 1,
        "rows": 146140
       }
      },
      "text/plain": [
       "95787         1.0\n",
       "113278        1.0\n",
       "93214         1.0\n",
       "72190         1.0\n",
       "98755         1.0\n",
       "           ...   \n",
       "88717      5460.0\n",
       "87264      6000.0\n",
       "123467     6017.0\n",
       "44840     14400.0\n",
       "132389    51420.0\n",
       "Name: runtime_minutes, Length: 146140, dtype: float64"
      ]
     },
     "execution_count": 11,

     "metadata": {},
     "output_type": "execute_result"
    }
   ],
   "source": [
    "runtime = movie_basics_cp['runtime_minutes'].sort_values(ascending=True)\n",
    "runtime\n"
   ]
  },
  {
   "cell_type": "code",
   "execution_count": 12,
   "metadata": {},
   "outputs": [
    {
     "data": {
      "text/plain": [
       "0"
      ]
     },
     "execution_count": 12,
     "metadata": {},
     "output_type": "execute_result"
    }
   ],
   "source": [
    "movie_basics_cp = movie_basics_cp[movie_basics_cp['runtime_minutes'].between(40, 150)]\n",
    "movie_basics_cp.duplicated().sum()"
   ]
  },
  {
   "cell_type": "code",
   "execution_count": 13,
   "metadata": {},
   "outputs": [
    {
     "name": "stdout",
     "output_type": "stream",
     "text": [
      "<class 'pandas.core.frame.DataFrame'>\n",
      "RangeIndex: 73856 entries, 0 to 73855\n",
      "Data columns (total 3 columns):\n",
      " #   Column         Non-Null Count  Dtype  \n",
      "---  ------         --------------  -----  \n",
      " 0   movie_id       73856 non-null  object \n",
      " 1   averagerating  73856 non-null  float64\n",
      " 2   numvotes       73856 non-null  int64  \n",
      "dtypes: float64(1), int64(1), object(1)\n",
      "memory usage: 1.7+ MB\n"
     ]
    },
    {
     "data": {
      "application/vnd.microsoft.datawrangler.viewer.v0+json": {
       "columns": [
        {
         "name": "index",
         "rawType": "object",
         "type": "string"
        },
        {
         "name": "0",
         "rawType": "int64",
         "type": "integer"
        }
       ],
       "ref": "c563c036-e94a-4569-b07b-e2a42255bad6",
       "rows": [
        [
         "movie_id",
         "0"
        ],
        [
         "averagerating",
         "0"
        ],
        [
         "numvotes",
         "0"
        ]
       ],
       "shape": {
        "columns": 1,
        "rows": 3
       }
      },
      "text/plain": [
       "movie_id         0\n",
       "averagerating    0\n",
       "numvotes         0\n",
       "dtype: int64"
      ]
     },
     "execution_count": 13,
     "metadata": {},
     "output_type": "execute_result"
    }
   ],
   "source": [
    "movie_ratings = imdb_tables['movie_ratings']\n",
    "movie_ratings.shape\n",
    "movie_ratings.head()\n",
    "movie_ratings.describe()\n",
    "movie_ratings.info()\n",
    "movie_ratings.isna().sum()"
   ]
  },
  {
   "cell_type": "code",
   "execution_count": 14,
   "metadata": {},
   "outputs": [],
   "source": [
    "movie_ratings_cp = movie_ratings.copy(deep=True)"
   ]
  },
  {
   "cell_type": "code",

   "execution_count": 15,
   "metadata": {},
   "outputs": [
    {
     "data": {
      "application/vnd.microsoft.datawrangler.viewer.v0+json": {
       "columns": [
        {
         "name": "index",
         "rawType": "int64",
         "type": "integer"
        },
        {
         "name": "movie_id",
         "rawType": "object",
         "type": "string"
        },
        {
         "name": "primary_title",
         "rawType": "object",
         "type": "string"
        },
        {
         "name": "original_title",
         "rawType": "object",
         "type": "string"
        },
        {
         "name": "start_year",
         "rawType": "int64",
         "type": "integer"
        },
        {
         "name": "runtime_minutes",
         "rawType": "float64",
         "type": "float"
        },
        {
         "name": "genres",
         "rawType": "object",
         "type": "string"
        },
        {
         "name": "averagerating",
         "rawType": "float64",
         "type": "float"
        },
        {
         "name": "numvotes",
         "rawType": "int64",
         "type": "integer"
        }
       ],
       "ref": "b47633cc-9d74-4c1e-9547-f6b79c123c8c",
       "rows": [
        [
         "0",
         "tt0066787",
         "One Day Before the Rainy Season",
         "Ashad Ka Ek Din",
         "2019",
         "114.0",
         "Biography,Drama",
         "7.2",
         "43"
        ],
        [
         "1",
         "tt0069049",
         "The Other Side of the Wind",
         "The Other Side of the Wind",
         "2018",
         "122.0",
         "Drama",
         "6.9",
         "4517"
        ],
        [
         "2",
         "tt0069204",
         "Sabse Bada Sukh",
         "Sabse Bada Sukh",
         "2018",
         "87.0",
         "Comedy,Drama",
         "6.1",
         "13"
        ],
        [
         "3",
         "tt0100275",
         "The Wandering Soap Opera",
         "La Telenovela Errante",
         "2017",
         "80.0",
         "Comedy,Drama,Fantasy",
         "6.5",
         "119"
        ],
        [
         "4",
         "tt0112502",
         "Bigfoot",
         "Bigfoot",
         "2017",
         "87.0",
         "Horror,Thriller",
         "4.1",
         "32"
        ],
        [
         "5",
         "tt0137204",
         "Joe Finds Grace",
         "Joe Finds Grace",
         "2017",
         "83.0",
         "Adventure,Animation,Comedy",
         "8.1",
         "263"
        ],
        [
         "6",
         "tt0146592",
         "Pál Adrienn",
         "Pál Adrienn",
         "2010",
         "136.0",
         "Drama",
         "6.8",
         "451"
        ],
        [
         "7",
         "tt0154039",
         "So Much for Justice!",
         "Oda az igazság",
         "2010",
         "100.0",
         "History",
         "4.6",
         "64"
        ],
        [
         "8",
         "tt0162942",
         "Children of the Green Dragon",
         "A zöld sárkány gyermekei",
         "2010",
         "89.0",
         "Drama",
         "6.9",
         "120"
        ],
        [
         "9",
         "tt0170651",
         "T.G.M. - osvoboditel",
         "T.G.M. - osvoboditel",
         "2018",
         "60.0",
         "Documentary",
         "7.5",
         "6"
        ],
        [
         "10",
         "tt0192528",
         "Heaven & Hell",
         "Reverse Heaven",
         "2018",
         "104.0",
         "Drama",
         "4.0",
         "72"
        ],
        [
         "11",
         "tt0230212",
         "The Final Journey",
         "The Final Journey",
         "2010",
         "120.0",
         "Drama",
         "8.8",
         "8"
        ],
        [
         "12",
         "tt0247643",
         "Los pájaros se van con la muerte",
         "Los pájaros se van con la muerte",
         "2011",
         "110.0",
         "Drama,Mystery",
         "4.0",
         "12"
        ],
        [
         "13",
         "tt0249516",
         "Foodfight!",
         "Foodfight!",
         "2012",
         "91.0",
         "Action,Animation,Comedy",
         "1.9",
         "8248"
        ],
        [
         "14",
         "tt0250404",
         "Godfather",
         "Godfather",
         "2012",
         "87.0",
         "Crime,Drama",
         "6.7",
         "236"
        ],
        [
         "15",
         "tt0253093",
         "Gangavataran",
         "Gangavataran",
         "2018",
         "134.0",
         "Unknown",
         "6.6",
         "8"
        ],
        [
         "16",
         "tt0255820",
         "Return to Babylon",
         "Return to Babylon",
         "2013",
         "75.0",
         "Biography,Comedy,Drama",
         "5.9",
         "123"
        ],
        [
         "17",
         "tt0262218",
         "Akakis mogzauroba",
         "Akakis mogzauroba",
         "2012",
         "44.0",
         "Documentary",
         "7.8",
         "22"
        ],
        [
         "18",
         "tt0263814",
         "On kadin",
         "On kadin",
         "2019",
         "87.0",
         "Drama",
         "7.1",
         "100"
        ],
        [
         "19",
         "tt0276568",
         "To Chase a Million",
         "To Chase a Million",
         "2018",
         "97.0",
         "Action,Drama",
         "7.4",
         "5"
        ],
        [
         "20",
         "tt0277964",
         "Prague: The Restless Heart of Europe",
         "Praha - neklidné srdce Evropy",
         "2018",
         "59.0",
         "Documentary,History",
         "7.0",
         "31"
        ],
        [
         "21",
         "tt0283440",
         "Short Time Heroes",
         "Kurzzeithelden",
         "2015",
         "45.0",
         "Sci-Fi",
         "6.6",
         "16"
        ],
        [
         "22",
         "tt0285252",
         "Life's a Beach",
         "Life's a Beach",
         "2012",
         "100.0",
         "Comedy",
         "3.9",
         "219"
        ],
        [
         "23",
         "tt0285423",
         "Abolição",
         "Abolição",
         "2019",
         "87.0",
         "Documentary",
         "7.4",
         "35"
        ],
        [
         "24",
         "tt0293069",
         "Dark Blood",
         "Dark Blood",
         "2012",
         "86.0",
         "Thriller",
         "6.6",
         "1053"
        ],
        [
         "25",
         "tt0297400",
         "Snowblind",
         "Snowblind",
         "2015",
         "87.0",
         "Crime,Drama",
         "6.7",
         "77"
        ],
        [
         "26",
         "tt0306058",
         "Second Coming",
         "Second Coming",
         "2012",
         "95.0",
         "Unknown",
         "5.5",
         "20"
        ],
        [
         "27",
         "tt0312305",
         "Quantum Quest: A Cassini Space Odyssey",
         "Quantum Quest: A Cassini Space Odyssey",
         "2010",
         "45.0",
         "Adventure,Animation,Sci-Fi",
         "5.1",
         "287"
        ],
        [
         "28",
         "tt0315642",
         "Wazir",
         "Wazir",
         "2016",
         "103.0",
         "Action,Crime,Drama",
         "7.1",
         "15378"
        ],
        [
         "29",
         "tt0323808",
         "The Wicker Tree",
         "The Wicker Tree",
         "2011",
         "96.0",
         "Drama,Horror",
         "3.9",
         "2328"
        ],
        [
         "30",
         "tt0326592",
         "The Overnight",
         "The Overnight",
         "2010",
         "88.0",
         "Unknown",
         "7.5",
         "24"
        ],
        [
         "31",
         "tt0326965",
         "In My Sleep",
         "In My Sleep",
         "2010",
         "104.0",
         "Drama,Mystery,Thriller",
         "5.5",
         "1889"
        ],
        [
         "32",
         "tt0328810",
         "My Land",
         "Aamaar Bhuvan",
         "2018",
         "102.0",
         "Drama,Family",
         "7.9",
         "61"
        ],
        [
         "33",
         "tt0329539",
         "Rice Girl",
         "Rice Girl",
         "2014",
         "95.0",
         "Adventure,Comedy,Romance",
         "6.1",
         "73"
        ],
        [
         "34",
         "tt0330811",
         "Regret Not Speaking",
         "Regret Not Speaking",
         "2011",
         "87.0",
         "Unknown",
         "6.2",
         "10"
        ],
        [
         "35",
         "tt0330987",
         "Tiden är en dröm, del 2",
         "Tiden är en dröm, del 2",
         "2014",
         "109.0",
         "Unknown",
         "6.3",
         "6"
        ],
        [
         "36",
         "tt0331312",
         "This Wretched Life",
         "This Wretched Life",
         "2010",
         "99.0",
         "Comedy,Drama",
         "7.6",
         "59"
        ],
        [
         "37",
         "tt0331314",
         "Bunyan and Babe",
         "Bunyan and Babe",
         "2017",
         "84.0",
         "Adventure,Animation,Comedy",
         "5.0",
         "302"
        ],
        [
         "38",
         "tt0337692",
         "On the Road",
         "On the Road",
         "2012",
         "124.0",
         "Adventure,Drama,Romance",
         "6.1",
         "37886"
        ],
        [
         "39",
         "tt0337882",
         "Blind Sided",
         "Blind Sided",
         "2010",
         "87.0",
         "Comedy,Crime,Drama",
         "7.4",
         "14"
        ],
        [
         "40",
         "tt0337926",
         "Chatô - The King of Brazil",
         "Chatô: O Rei do Brasil",
         "2015",
         "102.0",
         "Biography",
         "6.0",
         "558"
        ],
        [
         "41",
         "tt0339736",
         "The Evil Within",
         "The Evil Within",
         "2017",
         "98.0",
         "Horror",
         "5.6",
         "2420"
        ],
        [
         "42",
         "tt0346045",
         "Transeúntes",
         "Transeúntes",
         "2015",
         "101.0",
         "Comedy,Drama",
         "6.7",
         "35"
        ],
        [
         "43",
         "tt0357717",
         "Haar Jeet",
         "Haar Jeet",
         "2018",
         "87.0",
         "Drama",
         "5.1",
         "9"
        ],
        [
         "44",
         "tt0359950",
         "The Secret Life of Walter Mitty",
         "The Secret Life of Walter Mitty",
         "2013",
         "114.0",
         "Adventure,Comedy,Drama",
         "7.3",
         "275300"
        ],
        [
         "45",
         "tt0360556",
         "Fahrenheit 451",
         "Fahrenheit 451",
         "2018",
         "100.0",
         "Drama,Sci-Fi,Thriller",
         "4.9",
         "14469"
        ],
        [
         "46",
         "tt0364201",
         "Aman Ke Farishtey",
         "Aman Ke Farishtey",
         "2016",
         "137.0",
         "Action",
         "6.4",
         "16"
        ],
        [
         "47",
         "tt0365545",
         "Nappily Ever After",
         "Nappily Ever After",
         "2018",
         "98.0",
         "Comedy,Drama,Romance",
         "6.4",
         "6287"
        ],
        [
         "48",
         "tt0365907",
         "A Walk Among the Tombstones",
         "A Walk Among the Tombstones",
         "2014",
         "114.0",
         "Action,Crime,Drama",
         "6.5",
         "105116"
        ],
        [
         "49",
         "tt0369610",
         "Jurassic World",
         "Jurassic World",
         "2015",
         "124.0",
         "Action,Adventure,Sci-Fi",
         "7.0",
         "539338"
        ]
       ],
       "shape": {
        "columns": 8,
        "rows": 72227
       }
      },
      "text/html": [
       "<div>\n",
       "<style scoped>\n",
       "    .dataframe tbody tr th:only-of-type {\n",
       "        vertical-align: middle;\n",
       "    }\n",
       "\n",
       "    .dataframe tbody tr th {\n",
       "        vertical-align: top;\n",
       "    }\n",
       "\n",
       "    .dataframe thead th {\n",
       "        text-align: right;\n",
       "    }\n",
       "</style>\n",
       "<table border=\"1\" class=\"dataframe\">\n",
       "  <thead>\n",
       "    <tr style=\"text-align: right;\">\n",
       "      <th></th>\n",
       "      <th>movie_id</th>\n",
       "      <th>primary_title</th>\n",
       "      <th>original_title</th>\n",
       "      <th>start_year</th>\n",
       "      <th>runtime_minutes</th>\n",
       "      <th>genres</th>\n",
       "      <th>averagerating</th>\n",
       "      <th>numvotes</th>\n",
       "    </tr>\n",
       "  </thead>\n",
       "  <tbody>\n",
       "    <tr>\n",
       "      <th>0</th>\n",
       "      <td>tt0066787</td>\n",
       "      <td>One Day Before the Rainy Season</td>\n",
       "      <td>Ashad Ka Ek Din</td>\n",
       "      <td>2019</td>\n",
       "      <td>114.0</td>\n",
       "      <td>Biography,Drama</td>\n",
       "      <td>7.2</td>\n",
       "      <td>43</td>\n",
       "    </tr>\n",
       "    <tr>\n",
       "      <th>1</th>\n",
       "      <td>tt0069049</td>\n",
       "      <td>The Other Side of the Wind</td>\n",
       "      <td>The Other Side of the Wind</td>\n",
       "      <td>2018</td>\n",
       "      <td>122.0</td>\n",
       "      <td>Drama</td>\n",
       "      <td>6.9</td>\n",
       "      <td>4517</td>\n",
       "    </tr>\n",
       "    <tr>\n",
       "      <th>2</th>\n",
       "      <td>tt0069204</td>\n",
       "      <td>Sabse Bada Sukh</td>\n",
       "      <td>Sabse Bada Sukh</td>\n",
       "      <td>2018</td>\n",
       "      <td>87.0</td>\n",
       "      <td>Comedy,Drama</td>\n",
       "      <td>6.1</td>\n",
       "      <td>13</td>\n",
       "    </tr>\n",
       "    <tr>\n",
       "      <th>3</th>\n",
       "      <td>tt0100275</td>\n",
       "      <td>The Wandering Soap Opera</td>\n",
       "      <td>La Telenovela Errante</td>\n",
       "      <td>2017</td>\n",
       "      <td>80.0</td>\n",
       "      <td>Comedy,Drama,Fantasy</td>\n",
       "      <td>6.5</td>\n",
       "      <td>119</td>\n",
       "    </tr>\n",
       "    <tr>\n",
       "      <th>4</th>\n",
       "      <td>tt0112502</td>\n",
       "      <td>Bigfoot</td>\n",
       "      <td>Bigfoot</td>\n",
       "      <td>2017</td>\n",
       "      <td>87.0</td>\n",
       "      <td>Horror,Thriller</td>\n",
       "      <td>4.1</td>\n",
       "      <td>32</td>\n",
       "    </tr>\n",
       "    <tr>\n",
       "      <th>...</th>\n",
       "      <td>...</td>\n",
       "      <td>...</td>\n",
       "      <td>...</td>\n",
       "      <td>...</td>\n",
       "      <td>...</td>\n",
       "      <td>...</td>\n",
       "      <td>...</td>\n",
       "      <td>...</td>\n",
       "    </tr>\n",
       "    <tr>\n",
       "      <th>72222</th>\n",
       "      <td>tt9913084</td>\n",
       "      <td>Diabolik sono io</td>\n",
       "      <td>Diabolik sono io</td>\n",
       "      <td>2019</td>\n",
       "      <td>75.0</td>\n",
       "      <td>Documentary</td>\n",
       "      <td>6.2</td>\n",
       "      <td>6</td>\n",
       "    </tr>\n",
       "    <tr>\n",
       "      <th>72223</th>\n",
       "      <td>tt9914286</td>\n",
       "      <td>Sokagin Çocuklari</td>\n",
       "      <td>Sokagin Çocuklari</td>\n",
       "      <td>2019</td>\n",
       "      <td>98.0</td>\n",
       "      <td>Drama,Family</td>\n",
       "      <td>8.7</td>\n",
       "      <td>136</td>\n",
       "    </tr>\n",
       "    <tr>\n",
       "      <th>72224</th>\n",
       "      <td>tt9914642</td>\n",
       "      <td>Albatross</td>\n",
       "      <td>Albatross</td>\n",
       "      <td>2017</td>\n",
       "      <td>87.0</td>\n",
       "      <td>Documentary</td>\n",
       "      <td>8.5</td>\n",
       "      <td>8</td>\n",
       "    </tr>\n",
       "    <tr>\n",
       "      <th>72225</th>\n",
       "      <td>tt9914942</td>\n",
       "      <td>La vida sense la Sara Amat</td>\n",
       "      <td>La vida sense la Sara Amat</td>\n",
       "      <td>2019</td>\n",
       "      <td>87.0</td>\n",
       "      <td>Unknown</td>\n",
       "      <td>6.6</td>\n",
       "      <td>5</td>\n",
       "    </tr>\n",
       "    <tr>\n",
       "      <th>72226</th>\n",
       "      <td>tt9916160</td>\n",
       "      <td>Drømmeland</td>\n",
       "      <td>Drømmeland</td>\n",
       "      <td>2019</td>\n",
       "      <td>72.0</td>\n",
       "      <td>Documentary</td>\n",
       "      <td>6.5</td>\n",
       "      <td>11</td>\n",
       "    </tr>\n",
       "  </tbody>\n",
       "</table>\n",
       "<p>72227 rows × 8 columns</p>\n",
       "</div>"
      ],
      "text/plain": [
       "        movie_id                    primary_title              original_title  \\\n",
       "0      tt0066787  One Day Before the Rainy Season             Ashad Ka Ek Din   \n",
       "1      tt0069049       The Other Side of the Wind  The Other Side of the Wind   \n",
       "2      tt0069204                  Sabse Bada Sukh             Sabse Bada Sukh   \n",
       "3      tt0100275         The Wandering Soap Opera       La Telenovela Errante   \n",
       "4      tt0112502                          Bigfoot                     Bigfoot   \n",
       "...          ...                              ...                         ...   \n",
       "72222  tt9913084                 Diabolik sono io            Diabolik sono io   \n",
       "72223  tt9914286                Sokagin Çocuklari           Sokagin Çocuklari   \n",
       "72224  tt9914642                        Albatross                   Albatross   \n",
       "72225  tt9914942       La vida sense la Sara Amat  La vida sense la Sara Amat   \n",
       "72226  tt9916160                       Drømmeland                  Drømmeland   \n",
       "\n",
       "       start_year  runtime_minutes                genres  averagerating  \\\n",
       "0            2019            114.0       Biography,Drama            7.2   \n",
       "1            2018            122.0                 Drama            6.9   \n",
       "2            2018             87.0          Comedy,Drama            6.1   \n",
       "3            2017             80.0  Comedy,Drama,Fantasy            6.5   \n",
       "4            2017             87.0       Horror,Thriller            4.1   \n",
       "...           ...              ...                   ...            ...   \n",
       "72222        2019             75.0           Documentary            6.2   \n",
       "72223        2019             98.0          Drama,Family            8.7   \n",
       "72224        2017             87.0           Documentary            8.5   \n",
       "72225        2019             87.0               Unknown            6.6   \n",
       "72226        2019             72.0           Documentary            6.5   \n",
       "\n",
       "       numvotes  \n",
       "0            43  \n",
       "1          4517  \n",
       "2            13  \n",
       "3           119  \n",
       "4            32  \n",
       "...         ...  \n",
       "72222         6  \n",
       "72223       136  \n",
       "72224         8  \n",
       "72225         5  \n",
       "72226        11  \n",
       "\n",
       "[72227 rows x 8 columns]"
      ]
     },
     "execution_count": 15,
     "metadata": {},
     "output_type": "execute_result"
    }
   ],
   "source": [
    "movie_merge = movie_basics_cp.merge(movie_ratings_cp, on='movie_id', how='inner')\n",
    "movie_merge"
   ]
  },
  {

   "cell_type": "markdown",
   "metadata": {},
   "source": [
    "#### Movie akas"
   ]
  },
  {
   "cell_type": "code",
   "execution_count": 38,
   "metadata": {},
   "outputs": [],
   "source": [
    "#Get the dataset\n",
    "#Make a copy\n",
    "movie_akas = imdb_tables['movie_akas']\n",
    "movie_akas_cp = movie_akas.copy(deep=True)"
   ]
  },
  {
   "cell_type": "code",
   "execution_count": 39,
   "cell_type": "code",
   "execution_count": 54,
   "metadata": {},
   "outputs": [
    {
     "data": {
      "application/vnd.microsoft.datawrangler.viewer.v0+json": {
       "columns": [
        {
         "name": "index",
         "rawType": "int64",
         "type": "integer"
        },
        {
         "name": "person_id",
         "rawType": "object",
         "type": "string"
        },
        {
         "name": "primary_name",
         "rawType": "object",
         "type": "string"
        },
        {
         "name": "birth_year",
         "rawType": "float64",
         "type": "float"
        },
        {
         "name": "death_year",
         "rawType": "float64",
         "type": "float"
        },
        {
         "name": "primary_profession",
         "rawType": "object",
         "type": "string"
        }
       ],
       "ref": "c5745777-9c2f-4092-892c-a298bc5815be",
       "rows": [
        [
         "0",
         "nm0061671",
         "Mary Ellen Bauder",
         null,
         null,
         "miscellaneous,production_manager,producer"
        ],
        [
         "1",
         "nm0061865",
         "Joseph Bauer",
         null,
         null,
         "composer,music_department,sound_department"
        ],
        [
         "2",
         "nm0062070",
         "Bruce Baum",
         null,
         null,
         "miscellaneous,actor,writer"
        ],
        [
         "3",
         "nm0062195",
         "Axel Baumann",
         null,
         null,
         "camera_department,cinematographer,art_department"
        ],
        [
         "4",
         "nm0062798",
         "Pete Baxter",
         null,
         null,
         "production_designer,art_department,set_decorator"
        ],
        [
         "5",
         "nm0062879",
         "Ruel S. Bayani",
         null,
         null,
         "director,production_manager,miscellaneous"
        ],
        [
         "6",
         "nm0063198",
         "Bayou",
         null,
         null,
         "actor"
        ],
        [
         "7",
         "nm0063432",
         "Stevie Be-Zet",
         null,
         null,
         "composer,soundtrack"
        ],
        [
         "8",
         "nm0063618",
         "Jeff Beal",
         "1963.0",
         null,
         "composer,music_department,soundtrack"
        ],
        [
         "9",
         "nm0063750",
         "Lindsay Beamish",
         null,
         null,
         "actress,miscellaneous"
        ],
        [
         "10",
         "nm0064023",
         "Bryan Beasley",
         null,
         null,
         "director,producer,writer"
        ],
        [
         "11",
         "nm0064350",
         "Martine Beauchemin",
         null,
         null,
         "producer,production_manager"
        ],
        [
         "12",
         "nm0065847",
         "Michael Frost Beckner",
         "1963.0",
         null,
         "writer,producer,miscellaneous"
        ],
        [
         "13",
         "nm0065919",
         "Will Becton",
         null,
         null,
         "miscellaneous,editor,editorial_department"
        ],
        [
         "14",
         "nm0066093",
         "Ahmad Bedair",
         "1945.0",
         null,
         "actor,miscellaneous"
        ],
        [
         "15",
         "nm0066163",
         "Arnaud Bedouët",
         null,
         null,
         "actor,writer,director"
        ],
        [
         "16",
         "nm0066268",
         "Steve Mitchell Beebe",
         null,
         null,
         "editorial_department,director,editor"
        ],
        [
         "17",
         "nm0066897",
         "Mohammad-Ali Behboudi",
         "1956.0",
         null,
         "actor"
        ],
        [
         "18",
         "nm0067234",
         "Hans Beimler",
         null,
         null,
         "producer,writer,miscellaneous"
        ],
        [
         "19",
         "nm0067845",
         "Sondos Belhassen",
         null,
         null,
         "actress"
        ],
        [
         "20",
         "nm0067983",
         "Krunoslav Belko",
         "1971.0",
         null,
         "actor"
        ],
        [
         "21",
         "nm0068170",
         "Dylan Bell",
         null,
         null,
         "director,actor,producer"
        ],
        [
         "22",
         "nm0068657",
         "Philippe Bellaiche",
         null,
         null,
         "cinematographer,camera_department,producer"
        ],
        [
         "23",
         "nm0068874",
         "Hava Kohav Beller",
         null,
         null,
         "director,writer,producer"
        ],
        [
         "24",
         "nm0069131",
         "Gregg Bello",
         null,
         null,
         "actor,producer"
        ],
        [
         "25",
         "nm0069225",
         "Gavin Bellour",
         null,
         null,
         "actor,producer,composer"
        ],
        [
         "26",
         "nm0069605",
         "Bruno Beltramini",
         null,
         null,
         "cinematographer,visual_effects,camera_department"
        ],
        [
         "27",
         "nm0069757",
         "Olga Belyavskaya",
         null,
         null,
         "actress,miscellaneous"
        ],
        [
         "28",
         "nm0069990",
         "Jorge Ben Jor",
         "1942.0",
         null,
         "soundtrack,composer,actor"
        ],
        [
         "29",
         "nm0070216",
         "John Paul Fedele",
         null,
         null,
         "actor,cinematographer,special_effects"
        ],
        [
         "30",
         "nm0070482",
         "Joel Bender",
         "1948.0",
         null,
         "editor,director,writer"
        ],
        [
         "31",
         "nm0070822",
         "Terry Benedict",
         null,
         null,
         "producer,director,assistant_director"
        ],
        [
         "32",
         "nm0071116",
         "Valérie Benguigui",
         "1961.0",
         "2013.0",
         "actress,soundtrack"
        ],
        [
         "33",
         "nm0072456",
         "Chris Benson",
         "1974.0",
         null,
         "cinematographer,camera_department,producer"
        ],
        [
         "34",
         "nm0072476",
         "Doug Benson",
         "1962.0",
         null,
         "actor,producer,writer"
        ],
        [
         "35",
         "nm0073061",
         "Roberto Benvenuti",
         null,
         null,
         "cinematographer,camera_department,miscellaneous"
        ],
        [
         "36",
         "nm0073146",
         "Gina Lola Benzina",
         null,
         null,
         "actress,make_up_department"
        ],
        [
         "37",
         "nm0073381",
         "Roxana Berco",
         null,
         null,
         "actress"
        ],
        [
         "38",
         "nm0073426",
         "Laxmikant Berde",
         "1954.0",
         "2004.0",
         "actor"
        ],
        [
         "39",
         "nm0074009",
         "Richard Berge",
         null,
         null,
         "producer,miscellaneous,writer"
        ],
        [
         "40",
         "nm0074445",
         "Jean-François Bergeron",
         null,
         null,
         "editor,editorial_department,actor"
        ],
        [
         "41",
         "nm0075049",
         "Urban Bergsten",
         null,
         null,
         "actor,writer,director"
        ],
        [
         "42",
         "nm0075666",
         "Joe Berlinger",
         "1961.0",
         null,
         "producer,director,camera_department"
        ],
        [
         "43",
         "nm0076139",
         "Andrée Bernard",
         "1966.0",
         null,
         "actress"
        ],
        [
         "44",
         "nm0076559",
         "Carlos Bernases",
         null,
         null,
         "production_manager,producer,casting_department"
        ],
        [
         "45",
         "nm0077024",
         "Daniel Bernstein",
         null,
         null,
         "composer,sound_department"
        ],
        [
         "46",
         "nm0077067",
         "Jamie Bernstein",
         "1952.0",
         null,
         "director,actress,writer"
        ],
        [
         "47",
         "nm0080566",
         "Martín Bianchedi",
         "1955.0",
         null,
         "composer,music_department,sound_department"
        ],
        [
         "48",
         "nm0080787",
         "Dusty Bias",
         null,
         null,
         "writer,director,producer"
        ],
        [
         "49",
         "nm0081060",
         "Grace Cary Bickley",
         null,
         null,
         "writer,actress,producer"
        ]
       ],
       "shape": {
        "columns": 5,
        "rows": 606648
       }
      },
      "text/html": [
       "<div>\n",
       "<style scoped>\n",
       "    .dataframe tbody tr th:only-of-type {\n",
       "        vertical-align: middle;\n",
       "    }\n",
       "\n",
       "    .dataframe tbody tr th {\n",
       "        vertical-align: top;\n",
       "    }\n",
       "\n",
       "    .dataframe thead th {\n",
       "        text-align: right;\n",
       "    }\n",
       "</style>\n",
       "<table border=\"1\" class=\"dataframe\">\n",
       "  <thead>\n",
       "    <tr style=\"text-align: right;\">\n",
       "      <th></th>\n",

       "      <th>movie_id</th>\n",
       "      <th>ordering</th>\n",
       "      <th>title</th>\n",
       "      <th>region</th>\n",
       "      <th>language</th>\n",
       "      <th>types</th>\n",
       "      <th>attributes</th>\n",
       "      <th>is_original_title</th>\n",
       "      <th>person_id</th>\n",
       "      <th>primary_name</th>\n",
       "      <th>birth_year</th>\n",
       "      <th>death_year</th>\n",
       "      <th>primary_profession</th>\n",
       "    </tr>\n",
       "  </thead>\n",
       "  <tbody>\n",
       "    <tr>\n",
       "      <th>0</th>\n",
       "      <td>tt0369610</td>\n",
       "      <td>10</td>\n",
       "      <td>Джурасик свят</td>\n",
       "      <td>BG</td>\n",
       "      <td>bg</td>\n",
       "      <td>None</td>\n",
       "      <td>None</td>\n",
       "      <td>0.0</td>\n",
       "    </tr>\n",
       "    <tr>\n",
       "      <th>1</th>\n",
       "      <td>tt0369610</td>\n",
       "      <td>11</td>\n",
       "      <td>Jurashikku warudo</td>\n",
       "      <td>JP</td>\n",
       "      <td>None</td>\n",
       "      <td>imdbDisplay</td>\n",
       "      <td>None</td>\n",
       "      <td>0.0</td>\n",
       "    </tr>\n",
       "    <tr>\n",
       "      <th>2</th>\n",
       "      <td>tt0369610</td>\n",
       "      <td>12</td>\n",
       "      <td>Jurassic World: O Mundo dos Dinossauros</td>\n",
       "      <td>BR</td>\n",
       "      <td>None</td>\n",
       "      <td>imdbDisplay</td>\n",
       "      <td>None</td>\n",
       "      <td>0.0</td>\n",
       "    </tr>\n",
       "  </tbody>\n",
       "</table>\n",
       "</div>"
      ],
      "text/plain": [
       "    movie_id  ordering                                    title region  \\\n",
       "0  tt0369610        10                            Джурасик свят     BG   \n",
       "1  tt0369610        11                        Jurashikku warudo     JP   \n",
       "2  tt0369610        12  Jurassic World: O Mundo dos Dinossauros     BR   \n",
       "\n",
       "  language        types attributes  is_original_title  \n",
       "0       bg         None       None                0.0  \n",
       "1     None  imdbDisplay       None                0.0  \n",
       "2     None  imdbDisplay       None                0.0  "
      ]
     },
     "execution_count": 39,
     "metadata": {},
     "output_type": "execute_result"
    }
   ],
   "source": [
    "#Look at data\n",
    "movie_akas_cp.head(3)"
   ]
  },
  {
   "cell_type": "code",
   "execution_count": 40,
   "metadata": {},
   "outputs": [
    {
     "data": {
      "text/plain": [
       "(331703, 8)"
      ]
     },
     "execution_count": 40,
       "      <td>nm0061671</td>\n",
       "      <td>Mary Ellen Bauder</td>\n",
       "      <td>NaN</td>\n",
       "      <td>NaN</td>\n",
       "      <td>miscellaneous,production_manager,producer</td>\n",
       "    </tr>\n",
       "    <tr>\n",
       "      <th>1</th>\n",
       "      <td>nm0061865</td>\n",
       "      <td>Joseph Bauer</td>\n",
       "      <td>NaN</td>\n",
       "      <td>NaN</td>\n",
       "      <td>composer,music_department,sound_department</td>\n",
       "    </tr>\n",
       "    <tr>\n",
       "      <th>2</th>\n",
       "      <td>nm0062070</td>\n",
       "      <td>Bruce Baum</td>\n",
       "      <td>NaN</td>\n",
       "      <td>NaN</td>\n",
       "      <td>miscellaneous,actor,writer</td>\n",
       "    </tr>\n",
       "    <tr>\n",
       "      <th>3</th>\n",
       "      <td>nm0062195</td>\n",
       "      <td>Axel Baumann</td>\n",
       "      <td>NaN</td>\n",
       "      <td>NaN</td>\n",
       "      <td>camera_department,cinematographer,art_department</td>\n",
       "    </tr>\n",
       "    <tr>\n",
       "      <th>4</th>\n",
       "      <td>nm0062798</td>\n",
       "      <td>Pete Baxter</td>\n",
       "      <td>NaN</td>\n",
       "      <td>NaN</td>\n",
       "      <td>production_designer,art_department,set_decorator</td>\n",
       "    </tr>\n",
       "    <tr>\n",
       "      <th>...</th>\n",
       "      <td>...</td>\n",
       "      <td>...</td>\n",
       "      <td>...</td>\n",
       "      <td>...</td>\n",
       "      <td>...</td>\n",
       "    </tr>\n",
       "    <tr>\n",
       "      <th>606643</th>\n",
       "      <td>nm9990381</td>\n",
       "      <td>Susan Grobes</td>\n",
       "      <td>NaN</td>\n",
       "      <td>NaN</td>\n",
       "      <td>actress</td>\n",
       "    </tr>\n",
       "    <tr>\n",
       "      <th>606644</th>\n",
       "      <td>nm9990690</td>\n",
       "      <td>Joo Yeon So</td>\n",
       "      <td>NaN</td>\n",
       "      <td>NaN</td>\n",
       "      <td>actress</td>\n",
       "    </tr>\n",
       "    <tr>\n",
       "      <th>606645</th>\n",
       "      <td>nm9991320</td>\n",
       "      <td>Madeline Smith</td>\n",
       "      <td>NaN</td>\n",
       "      <td>NaN</td>\n",
       "      <td>actress</td>\n",
       "    </tr>\n",
       "    <tr>\n",
       "      <th>606646</th>\n",
       "      <td>nm9991786</td>\n",
       "      <td>Michelle Modigliani</td>\n",
       "      <td>NaN</td>\n",
       "      <td>NaN</td>\n",
       "      <td>producer</td>\n",
       "    </tr>\n",
       "    <tr>\n",
       "      <th>606647</th>\n",
       "      <td>nm9993380</td>\n",
       "      <td>Pegasus Envoyé</td>\n",
       "      <td>NaN</td>\n",
       "      <td>NaN</td>\n",
       "      <td>director,actor,writer</td>\n",
       "    </tr>\n",
       "  </tbody>\n",
       "</table>\n",
       "<p>606648 rows × 5 columns</p>\n",
       "</div>"
      ],
      "text/plain": [
       "        person_id         primary_name  birth_year  death_year  \\\n",
       "0       nm0061671    Mary Ellen Bauder         NaN         NaN   \n",
       "1       nm0061865         Joseph Bauer         NaN         NaN   \n",
       "2       nm0062070           Bruce Baum         NaN         NaN   \n",
       "3       nm0062195         Axel Baumann         NaN         NaN   \n",
       "4       nm0062798          Pete Baxter         NaN         NaN   \n",
       "...           ...                  ...         ...         ...   \n",
       "606643  nm9990381         Susan Grobes         NaN         NaN   \n",
       "606644  nm9990690          Joo Yeon So         NaN         NaN   \n",
       "606645  nm9991320       Madeline Smith         NaN         NaN   \n",
       "606646  nm9991786  Michelle Modigliani         NaN         NaN   \n",
       "606647  nm9993380       Pegasus Envoyé         NaN         NaN   \n",
       "\n",
       "                                      primary_profession  \n",
       "0              miscellaneous,production_manager,producer  \n",
       "1             composer,music_department,sound_department  \n",
       "2                             miscellaneous,actor,writer  \n",
       "3       camera_department,cinematographer,art_department  \n",
       "4       production_designer,art_department,set_decorator  \n",
       "...                                                  ...  \n",
       "606643                                           actress  \n",
       "606644                                           actress  \n",
       "606645                                           actress  \n",
       "606646                                          producer  \n",
       "606647                             director,actor,writer  \n",
       "\n",
       "[606648 rows x 5 columns]"
      ]
     },
     "execution_count": 54,
     "metadata": {},
     "output_type": "execute_result"
    }
   ],
   "source": [
    "#shape\n",
    "movie_akas_cp.shape"
   ]
  },
  {
   "cell_type": "markdown",
   "metadata": {},
   "source": [
    "The dataset has 331,703 rows and 8 columns"
    "persons_cp= imdb_tables[\"persons\"].copy(deep=True)\n",
    "persons_cp"
   ]
  },
  {
   "cell_type": "code",
   "execution_count": 41,
   "execution_count": 59,
   "metadata": {},
   "outputs": [
    {
     "name": "stdout",
     "output_type": "stream",
     "text": [
      "<class 'pandas.core.frame.DataFrame'>\n",
      "RangeIndex: 331703 entries, 0 to 331702\n",
      "Data columns (total 8 columns):\n",
      " #   Column             Non-Null Count   Dtype  \n",
      "---  ------             --------------   -----  \n",
      " 0   movie_id           331703 non-null  object \n",
      " 1   ordering           331703 non-null  int64  \n",
      " 2   title              331703 non-null  object \n",
      " 3   region             278410 non-null  object \n",
      " 4   language           41715 non-null   object \n",
      " 5   types              168447 non-null  object \n",
      " 6   attributes         14925 non-null   object \n",
      " 7   is_original_title  331678 non-null  float64\n",
      "dtypes: float64(1), int64(1), object(6)\n",
      "memory usage: 20.2+ MB\n"
      "RangeIndex: 606648 entries, 0 to 606647\n",
      "Data columns (total 5 columns):\n",
      " #   Column              Non-Null Count   Dtype  \n",
      "---  ------              --------------   -----  \n",
      " 0   person_id           606648 non-null  object \n",
      " 1   primary_name        606648 non-null  object \n",
      " 2   birth_year          82736 non-null   float64\n",
      " 3   death_year          6783 non-null    float64\n",
      " 4   primary_profession  555308 non-null  object \n",
      "dtypes: float64(2), object(3)\n",
      "memory usage: 23.1+ MB\n",
      "person_id                  0\n",
      "primary_name               0\n",
      "birth_year            523912\n",
      "death_year            599865\n",
      "primary_profession     51340\n",
      "dtype: int64\n"

     ]
    }
   ],
   "source": [
    "#get info\n",
    "persons_cp.shape\n",
    "persons_cp.head()\n",
    "persons_cp.info()\n",
    "persons_cp.describe()\n",
    "print(persons_cp.isna().sum())"
   ]
  },
  {
   "cell_type": "code",
   "execution_count": 56,
   "metadata": {},
   "outputs": [
    {
     "data": {
      "text/html": [
       "<div>\n",
       "<style scoped>\n",
       "    .dataframe tbody tr th:only-of-type {\n",
       "        vertical-align: middle;\n",
       "    }\n",
       "\n",
       "    .dataframe tbody tr th {\n",
       "        vertical-align: top;\n",
       "    }\n",
       "\n",
       "    .dataframe thead th {\n",
       "        text-align: right;\n",
       "    }\n",
       "</style>\n",
       "<table border=\"1\" class=\"dataframe\">\n",
       "  <thead>\n",
       "    <tr style=\"text-align: right;\">\n",
       "      <th></th>\n",
       "      <th>count</th>\n",
       "      <th>mean</th>\n",
       "      <th>std</th>\n",
       "      <th>min</th>\n",
       "      <th>25%</th>\n",
       "      <th>50%</th>\n",
       "      <th>75%</th>\n",
       "      <th>max</th>\n",
       "    </tr>\n",
       "  </thead>\n",
       "  <tbody>\n",
       "    <tr>\n",
       "      <th>ordering</th>\n",
       "      <td>331703.0</td>\n",
       "      <td>5.125872</td>\n",
       "      <td>6.706664</td>\n",
       "      <td>1.0</td>\n",
       "      <td>1.0</td>\n",
       "      <td>2.0</td>\n",
       "      <td>6.0</td>\n",
       "      <td>61.0</td>\n",
       "    </tr>\n",
       "    <tr>\n",
       "      <th>is_original_title</th>\n",
       "      <td>331703.0</td>\n",
       "      <td>0.134759</td>\n",
       "      <td>0.341467</td>\n",
       "      <td>0.0</td>\n",
       "      <td>0.0</td>\n",
       "      <td>0.0</td>\n",
       "      <td>0.0</td>\n",
       "      <td>1.0</td>\n",
       "    </tr>\n",
       "  </tbody>\n",
       "</table>\n",
       "</div>"
      ],
      "text/plain": [
       "                      count      mean       std  min  25%  50%  75%   max\n",
       "ordering           331703.0  5.125872  6.706664  1.0  1.0  2.0  6.0  61.0\n",
       "is_original_title  331703.0  0.134759  0.341467  0.0  0.0  0.0  0.0   1.0"
      ]
     },
     "execution_count": 56,
     "metadata": {},
     "output_type": "execute_result"
    }
   ],
   "source": [
    "movie_akas_cp.describe().T"
   "execution_count": 62,
   "metadata": {},
   "outputs": [
    {
     "name": "stdout",
     "output_type": "stream",
     "text": [
      "person_id                  0\n",
      "primary_name               0\n",
      "birth_year                 0\n",
      "death_year            599865\n",
      "primary_profession     51340\n",
      "dtype: int64\n"
     ]
    }
   ],
   "source": [
    "persons_cp['birth_year'].fillna(persons_cp['birth_year'].median(), inplace=True)\n",
    "print(persons_cp.isna().sum())"
   ]
  },
  {
   "cell_type": "code",
   "execution_count": 57,
   "metadata": {},
   "outputs": [
    {
     "data": {
      "text/html": [
       "<div>\n",
       "<style scoped>\n",
       "    .dataframe tbody tr th:only-of-type {\n",
       "        vertical-align: middle;\n",
       "    }\n",
       "\n",
       "    .dataframe tbody tr th {\n",
       "        vertical-align: top;\n",
       "    }\n",
       "\n",
       "    .dataframe thead th {\n",
       "        text-align: right;\n",
       "    }\n",
       "</style>\n",
       "<table border=\"1\" class=\"dataframe\">\n",
       "  <thead>\n",
       "    <tr style=\"text-align: right;\">\n",
       "      <th></th>\n",
       "      <th>count</th>\n",
       "      <th>unique</th>\n",
       "      <th>top</th>\n",
       "      <th>freq</th>\n",
       "    </tr>\n",
       "  </thead>\n",
       "  <tbody>\n",
       "    <tr>\n",
       "      <th>movie_id</th>\n",
       "      <td>331703</td>\n",
       "      <td>122302</td>\n",
       "      <td>tt2488496</td>\n",
       "      <td>61</td>\n",
       "    </tr>\n",
       "    <tr>\n",
       "      <th>title</th>\n",
       "      <td>331703</td>\n",
       "      <td>252781</td>\n",
       "      <td>Robin Hood</td>\n",
       "      <td>32</td>\n",
       "    </tr>\n",
       "    <tr>\n",
       "      <th>region</th>\n",
       "      <td>331703</td>\n",
       "      <td>214</td>\n",
       "      <td>Unknown</td>\n",
       "      <td>53293</td>\n",
       "    </tr>\n",
       "    <tr>\n",
       "      <th>language</th>\n",
       "      <td>331703</td>\n",
       "      <td>77</td>\n",
       "      <td>Unknown</td>\n",
       "      <td>289988</td>\n",
       "    </tr>\n",
       "    <tr>\n",
       "      <th>types</th>\n",
       "      <td>331703</td>\n",
       "      <td>11</td>\n",
       "      <td>Unknown</td>\n",
       "      <td>163256</td>\n",
       "    </tr>\n",
       "    <tr>\n",
       "      <th>attributes</th>\n",
       "      <td>331703</td>\n",
       "      <td>78</td>\n",
       "      <td>Unknown</td>\n",
       "      <td>316778</td>\n",
       "    </tr>\n",
       "  </tbody>\n",
       "</table>\n",
       "</div>"
      ],
      "text/plain": [
       "             count  unique         top    freq\n",
       "movie_id    331703  122302   tt2488496      61\n",
       "title       331703  252781  Robin Hood      32\n",
       "region      331703     214     Unknown   53293\n",
       "language    331703      77     Unknown  289988\n",
       "types       331703      11     Unknown  163256\n",
       "attributes  331703      78     Unknown  316778"
      ]
     },
     "execution_count": 57,
     "metadata": {},
     "output_type": "execute_result"
    }
   ],
   "source": [
    "movie_akas_cp.describe(include='O').T"
   ]
  },
  {
   "cell_type": "markdown",
   "metadata": {},
   "source": [
    "- We have duplicates in our data.\n",
    "- The most frequent language is English.\n",
    "- The most frequent region is the US.\n"
   "execution_count": 64,
   "metadata": {},
   "outputs": [
    {
     "name": "stdout",
     "output_type": "stream",
     "text": [
      "person_id                 0\n",
      "primary_name              0\n",
      "birth_year                0\n",
      "death_year                0\n",
      "primary_profession    51340\n",
      "dtype: int64\n"
     ]
    }
   ],
   "source": [
    "persons_cp['death_year'].fillna(persons_cp['death_year'].median(), inplace=True)\n",
    "print(persons_cp.isna().sum())"
   ]
  },
  {
   "cell_type": "code",
   "execution_count": 43,
   "execution_count": 65,
   "metadata": {},
   "outputs": [
    {
     "data": {
      "text/plain": [
       "movie_id                  0\n",
       "ordering                  0\n",
       "title                     0\n",
       "region                53293\n",
       "language             289988\n",
       "types                163256\n",
       "attributes           316778\n",
       "is_original_title        25\n",
       "dtype: int64"
      ]
     },
     "execution_count": 43,
      "application/vnd.microsoft.datawrangler.viewer.v0+json": {
       "columns": [
        {
         "name": "index",
         "rawType": "object",
         "type": "string"
        },
        {
         "name": "0",
         "rawType": "int64",
         "type": "integer"
        }
       ],
       "ref": "dd524969-782c-4665-8c79-978e5b146588",
       "rows": [
        [
         "person_id",
         "0"
        ],
        [
         "primary_name",
         "0"
        ],
        [
         "birth_year",
         "0"
        ],
        [
         "death_year",
         "0"
        ],
        [
         "primary_profession",
         "0"
        ]
       ],
       "shape": {
        "columns": 1,
        "rows": 5
       }
      },
      "text/plain": [
       "person_id             0\n",
       "primary_name          0\n",
       "birth_year            0\n",
       "death_year            0\n",
       "primary_profession    0\n",
       "dtype: int64"
      ]
     },
     "execution_count": 65,
     "metadata": {},
     "output_type": "execute_result"
    }
   ],
   "source": [
    "#Nulls\n",
    "movie_akas_cp.isna().sum()"
   ]
  },
  {
   "cell_type": "markdown",
   "metadata": {},
   "source": [
    "- Over 85% of the \"language\" column is null values.\n",
    "- 49% of the \"types\" column is null values.\n",
    "- Over 95% of the \"attributes\" column is null values."
   ]
  },
  {
   "cell_type": "code",
   "execution_count": 51,
   "metadata": {},
   "outputs": [],
   "source": [
    "#Fill the object columns' nulls with 'Unknown'\n",
    "movie_akas_cp[[\"region\",\"language\",\"types\",\"attributes\"]]=movie_akas_cp[[\"region\",\"language\",\"types\",\"attributes\"]].fillna(\"Unknown\")"
   ]
  },
  {
   "cell_type": "code",
   "execution_count": 52,
   "metadata": {},
   "outputs": [],
   "source": [
    "#Fill the nulls in \"is_original_title\" with the mode\n",
    "movie_akas_cp[\"is_original_title\"]=movie_akas_cp[\"is_original_title\"].fillna(movie_akas_cp[\"is_original_title\"].mode()[0])"
   ]
  },
  {
   "cell_type": "code",
   "execution_count": null,
   "metadata": {},
   "outputs": [],
   "source": []
    "persons_cp['primary_profession'].fillna('unknown',inplace = True)\n",
    "persons_cp.isnull().sum()"
   ]
  }
 ],
 "metadata": {
  "kernelspec": {
   "display_name": "learn-env",
   "language": "python",
   "name": "python3"
  },
  "language_info": {
   "codemirror_mode": {
    "name": "ipython",
    "version": 3
   },
   "file_extension": ".py",
   "mimetype": "text/x-python",
   "name": "python",
   "nbconvert_exporter": "python",
   "pygments_lexer": "ipython3",
   "version": "3.8.5"
  }
 },
 "nbformat": 4,
 "nbformat_minor": 4
}
