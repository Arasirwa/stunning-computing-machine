{
 "cells": [
  {
   "cell_type": "markdown",
   "metadata": {},
   "source": [
    "# Exploratory Notebook"
   ]
  },
  {
   "cell_type": "markdown",
   "metadata": {},
   "source": [
    "# Business Understanding\n",
    "\n",
    "## Business Context\n",
    "Our company is entering the competitive movie production industry by establishing a new movie studio. With major corporations increasingly investing in original video content, we need to strategically position ourselves to maximize our chances of box office success.\n",
    "\n",
    "## Primary Stakeholder\n",
    "**Head of New Movie Studio** - The key decision-maker who will use our analysis to guide the studio's content creation strategy and investment decisions.\n",
    "\n",
    "## Key Business Questions\n",
    "\n",
    "### 1. **What genres are most profitable?**\n",
    "   - Which movie genres consistently generate the highest box office returns?\n",
    "   - Are there emerging genres showing strong growth potential?\n",
    "\n",
    "### 2. **What budget ranges optimize ROI?**\n",
    "   - What is the relationship between production budget and box office performance?\n",
    "   - What budget sweet spot maximizes return on investment?\n",
    "\n",
    "### 3. **When should we release our films?**\n",
    "   - Which months/seasons show the strongest box office performance?\n",
    "   - How can we avoid oversaturated release periods?\n",
    "\n",
    "## Business Objectives\n",
    "- **Primary Goal:** Identify the most profitable film characteristics to guide our initial movie productions\n",
    "- **Success Metrics:** Maximize box office revenue and return on investment\n",
    "- **Risk Mitigation:** Minimize financial losses by avoiding poorly-performing film categories\n",
    "\n",
    "## Data Requirements & Analysis Considerations\n",
    "\n",
    "### Dataset Specifications Needed:\n",
    "1. **What movie data do we have access to?** (Box office numbers, budgets, genres, release dates, ratings, etc.)\n",
    "2. **What time period does our data cover?** (Recent years only, or historical data?)\n",
    "3. **Is it domestic box office, international, or worldwide gross?**\n",
    "\n",
    "### Business Context Clarifications:\n",
    "4. **What size studio are we targeting?** (Independent/small budget vs. major studio competitor?)\n",
    "5. **Are there any genre restrictions?** (Family-friendly only, or open to all ratings?)\n",
    "6. **Geographic focus?** (Domestic US market, international, or global?)\n",
    "\n",
    "### Analysis Scope Considerations:\n",
    "7. **Should we consider streaming/digital revenue or just theatrical box office?**\n",
    "8. **Do we want to analyze competitor studios' strategies?**\n",
    "9. **Should seasonal trends consider COVID-19 impact on recent years?**\n",
    "\n",
    "## Success Metrics Framework\n",
    "**Primary Metrics:**\n",
    "- **Gross Revenue:** Total box office performance\n",
    "- **Return on Investment (ROI):** (Revenue - Budget) / Budget × 100\n",
    "- **Profit Margins:** Net profit as percentage of revenue\n",
    "- **Budget Efficiency:** Revenue per dollar invested\n",
    "\n",
    "**Secondary Metrics:**\n",
    "- **Market Share:** Performance relative to industry\n",
    "- **Risk Assessment:** Variance in returns by category\n",
    "- **Audience Reach:** Ticket sales and demographic penetration\n",
    "\n",
    "## Recommended Visualizations Strategy\n",
    "\n",
    "### 1. **Genre Analysis**\n",
    "- **Horizontal Bar Chart:** Average revenue by genre (easy comparison)\n",
    "- **Box Plot:** Revenue distribution by genre (shows variability and outliers)\n",
    "- **Scatter Plot:** Budget vs. Revenue by genre (profitability insights)\n",
    "\n",
    "### 2. **Budget Optimization**\n",
    "- **Scatter Plot with Trend Line:** Budget vs. ROI (sweet spot identification)\n",
    "- **Histogram:** Distribution of profitable budget ranges\n",
    "- **Bubble Chart:** Budget vs. Revenue (bubble size = profit margin)\n",
    "\n",
    "### 3. **Release Timing**\n",
    "- **Line Graph:** Monthly box office performance over time\n",
    "- **Heatmap:** Revenue by month and genre combination\n",
    "- **Seasonal Bar Chart:** Quarterly performance comparison\n",
    "\n",
    "### 4. **Risk vs. Reward Analysis**\n",
    "- **Risk-Return Scatter Plot:** Average return vs. standard deviation by category\n",
    "- **Waterfall Chart:** Success rate breakdown by film characteristics\n",
    "\n",
    "## Expected Deliverables\n",
    "Three concrete, data-driven recommendations that the Head of Movie Studio can immediately implement in the studio's content strategy and production planning."
   ]
  },
  {
   "cell_type": "markdown",
   "metadata": {},
   "source": [
    "# Data Understanding\n",
    "\n",
    "`bom.movie_gross.csv.gz` dataset from Box Office Mojo contains the revenue data for various films. It contains the following five columns:\n",
    "\n",
    "- **title**: movie title\n",
    "- **studio**: producing studio\n",
    "- **domestic_gross**: domestic gross earnings in USD\n",
    "- **foreign_gross**: international gross earnings\n",
    "- **year**: year film was released\n",
    "\n",
    "`im` database from IMDb (Internet Movie Database) contains information about the movies and those who worked on them. It contains eight tables with the following fields:\n",
    "- `directors` table contains the directors. It contains the following two fields:\n",
    "    - **movie_id**: unique movie ID (as per IMDb)\n",
    "    - **person_id**: director's ID (as per IMDb)\n",
    "- `known_for` table contains the notable works for each person. It contains the following two fields:\n",
    "    - **person_id**: unique person ID (as per IMDb)\n",
    "    - **movie_id**: unique movie ID (as per IMDb)\n",
    "- `movie_akas` table contains the alternative titles of the movies. It contains the following eight fields:\n",
    "    - **movie_id**: unique movie ID (as per IMDb)\n",
    "    - **ordering**: order in which movie title appears\n",
    "    - **title**: alternative title for the movie\n",
    "    - **region**: country code where movie was shown\n",
    "    - **language**: language code of the movie\n",
    "    - **types**: type of alternative title\n",
    "    - **attributes**: special attributes of the movie\n",
    "    - **is_original_title**: shows whether alternative title is the origianl title (1 = original title, 0 = alternative title)\n",
    "- `movie_basics` table contains basic information about the movies. It contains the following six fields:\n",
    "    - **movie_id**: unique identifier for the movie (as per IMDb)\n",
    "    - **primary_title**: official title of the movie\n",
    "    - **original_title**: official title of the movie in the original language\n",
    "    - **start_year**: year when the movie was released\n",
    "    - **runtime_minutes**: duration of the movie in minutes\n",
    "    - **genres**: genre(s) of the movie\n",
    "- `movie_ratings` table contains the ratings movies were given by IMDb. It contains the following three fields:\n",
    "    - **movie_id**: unique movie ID (as per IMDb)\n",
    "    - **averagerating**: average IMDb rating\n",
    "    - **numvotes**: number of votes received\n",
    "- `persons` table contains records of those involved in the movies. It has the following five fields:\n",
    "    - **person_id**: unique identifier for the person (as per IMDb)\n",
    "    - **primary_name**: full name of the person\n",
    "    - **birth_year**: year of birth\n",
    "    - **death_year**: year of death (if dead)\n",
    "    - **primary_profession**: role in the movie\n",
    "- `principals` table contains the information of the main cast and crew. It has the following five fields:\n",
    "    - **movie_id**: unique movie ID (as per IMDb)\n",
    "    - **ordering**: order of person in credits\n",
    "    - **person_id**: unique person ID (as per IMDb)\n",
    "    - **category**: role played\n",
    "    - **job**: specific role\n",
    "    - **characters**: character name\n",
    "- `writers` table contains the following two fields:\n",
    "    - **movie_id**: unique movie ID (as per IMDb)\n",
    "    - **person_id**: writer's ID (as per IMDb)\n",
    "\n",
    "`rt.movie_info.tsv.gz` dataset from Rotten Tomatoes contains general information about the movies. It contains the following twelve columns:\n",
    "- **id**: unique movie ID (as per Rotten Tomatoes)\n",
    "- **synopsis**: short summary of the movie\n",
    "- **rating**: Motion Picture Association of America(MPAA) Rating\n",
    "- **genre**: genre(s) of the movie\n",
    "- **director**: name of the director(s)\n",
    "- **writer**: name of the writer(s)\n",
    "- **theater_date**: date released in theaters\n",
    "- **dvd_date**: date released in DVD format\n",
    "- **currency**: currency symbol\n",
    "- **box_office**: total revenue from box office\n",
    "- **runtime**: movie duration in minutes\n",
    "- **studio**: producing studios\n",
    "\n",
    "`rt.reviews.tsv.gz` dataset from Rotten Tomatoes contains review information about movies. It contains the following eight columns:\n",
    "- **id**: unique movie ID (as per Rotten Tomatoes)\n",
    "- **review**: review text\n",
    "- **rating**: rating given by critic\n",
    "- **fresh**: categorization of the review (fresh = positive, rotten = negative)\n",
    "- **critic**: name of the critic\n",
    "- **top_critic**: highlights if a critic is regarded as a Top Critic by Rotten Tomatoes (1 = top critic, 0 = not a top critic)\n",
    "- **publisher**: publication name\n",
    "- **date**: date of the review\n",
    "\n",
    "`tmdb.movies.csv.gz` from The Movie Database (TMDb) contains movie and rating informations about various movies. It contains the following nine columns:\n",
    "- **genre_ids**: list of genre(s) for the movie\n",
    "- **id**: unique movie ID (as per TMDb)\n",
    "- **original_language**: language code for the movie\n",
    "- **original_title**: title of the movie in the official language\n",
    "- **popularity**: popularity score (as per TMDb)\n",
    "- **relaease_date**: release date in theatres\n",
    "- **title**: movie title\n",
    "- **vote_average**: average user rating\n",
    "- **vote_count**: total votes received\n",
    "\n",
    "`tn.movie_budgets.csv.gz` from The Numbers dataset contains movie budget and revenue information. It has the following six columns:\n",
    "- **id**: unique movie ID (as per The Numbers)\n",
    "- **release_date**: release date in theatres\n",
    "- **movie**: movie title\n",
    "- **production_budget**: budget used (in USD)\n",
    "- **domestic_gross**: revenue generated from country of origin (in USD)\n",
    "- **worldwide_gross**: total revenue generated worldwide (in USD)\n"
   ]
  },
  {
   "cell_type": "code",
   "execution_count": 50,
   "metadata": {},
   "outputs": [],
   "source": [
    "#importing relevant libs\n",
    "import pandas as pd\n",
    "import numpy as np\n",
    "from matplotlib import pyplot as plt\n",
    "from mpl_toolkits.mplot3d import Axes3D\n",
    "from random import gauss\n",
    "from scipy import stats\n",
    "import seaborn as sns\n",
    "from sklearn.linear_model import LinearRegression\n",
    "from mpl_toolkits import mplot3d\n",
    "import sklearn.metrics as metrics\n",
    "import statsmodels.api as sm\n",
    "import sqlite3\n"
   ]
  },
  {
   "cell_type": "markdown",
   "metadata": {},
   "source": [
    "## Loading the Data sets"
   ]
  },
  {
   "cell_type": "code",
   "execution_count": 51,
   "metadata": {},
   "outputs": [
    {
     "name": "stdout",
     "output_type": "stream",
     "text": [
      "dict_keys(['movie_basics', 'directors', 'known_for', 'movie_akas', 'movie_ratings', 'persons', 'principals', 'writers'])\n"
     ]
    }
   ],
   "source": [
    "#going through SQl\n",
    "def load_tables(connection):\n",
    "    table_names = pd.read_sql(\n",
    "        \"SELECT name FROM sqlite_master WHERE type='table';\", connection\n",
    "    )[\"name\"].tolist()\n",
    "    sql_tables = {\n",
    "        table_name: pd.read_sql(f\"SELECT * FROM {table_name}\", connection)\n",
    "        for table_name in table_names\n",
    "    }\n",
    "    return sql_tables\n",
    "\n",
    "path = '../Data/im.db'\n",
    "conn = sqlite3.connect(path)\n",
    "\n",
    "imdb_tables = load_tables(conn)\n",
    "\n",
    "print(imdb_tables.keys())\n"
   ]
  },
  {
   "cell_type": "code",
   "execution_count": 52,
   "metadata": {},
   "outputs": [],
   "source": [
    "bom_movie = pd.read_csv(\"../Data/bom.movie_gross.csv\")\n",
    "rt_info = pd.read_csv(\"../Data/rt.movie_info.tsv\", sep='\\t', encoding='latin1')\n",
    "rt_reviews = pd.read_csv(\"../Data/rt.movie_info.tsv\", sep='\\t', encoding='latin1')\n",
    "tmdb_df = pd.read_csv(\"../Data/tmdb.movies.csv\")\n",
    "tn_budget = pd.read_csv(\"../Data/tn.movie_budgets.csv\")"
   ]
  },
  {
   "cell_type": "markdown",
   "metadata": {},
   "source": [
    "## SQL CLEANING AND MERGING"
   ]
  },
  {
   "cell_type": "code",
   "execution_count": 53,
   "metadata": {},
   "outputs": [
    {
     "name": "stdout",
     "output_type": "stream",
     "text": [
      "<class 'pandas.core.frame.DataFrame'>\n",
      "RangeIndex: 146144 entries, 0 to 146143\n",
      "Data columns (total 6 columns):\n",
      " #   Column           Non-Null Count   Dtype  \n",
      "---  ------           --------------   -----  \n",
      " 0   movie_id         146144 non-null  object \n",
      " 1   primary_title    146144 non-null  object \n",
      " 2   original_title   146123 non-null  object \n",
      " 3   start_year       146144 non-null  int64  \n",
      " 4   runtime_minutes  114405 non-null  float64\n",
      " 5   genres           140736 non-null  object \n",
      "dtypes: float64(1), int64(1), object(4)\n",
      "memory usage: 6.7+ MB\n",
      "movie_id               0\n",
      "primary_title          0\n",
      "original_title        21\n",
      "start_year             0\n",
      "runtime_minutes    31739\n",
      "genres              5408\n",
      "dtype: int64\n"
     ]
    }
   ],
   "source": [
    "movie_basics = imdb_tables['movie_basics']\n",
    "movie_basics.shape\n",
    "movie_basics.head()\n",
    "movie_basics.info()\n",
    "movie_basics.describe()\n",
    "print(movie_basics.isna().sum())"
   ]
  },
  {
   "cell_type": "markdown",
   "metadata": {},
   "source": [
    "# Movie Basics"
   ]
  },
  {
   "cell_type": "code",
   "execution_count": 54,
   "metadata": {},
   "outputs": [],
   "source": [
    "movie_basics_cp = movie_basics.copy(deep=True)\n",
    "\n",
    "movie_basics_cp['original_title'] = movie_basics_cp['original_title'].fillna('Unknown')\n",
    "\n",
    "movie_basics_median = movie_basics_cp['runtime_minutes'].median()\n",
    "\n",
    "movie_basics_cp['runtime_minutes'] = movie_basics_cp['runtime_minutes'].fillna(movie_basics_median)\n",
    "\n",
    "movie_basics_cp['genres'] = movie_basics_cp['genres'].fillna(\"Unknown\")"
   ]
  },
  {
   "cell_type": "code",
   "execution_count": 55,
   "metadata": {},
   "outputs": [
    {
     "name": "stdout",
     "output_type": "stream",
     "text": [
      "movie_id           0\n",
      "primary_title      0\n",
      "original_title     0\n",
      "start_year         0\n",
      "runtime_minutes    0\n",
      "genres             0\n",
      "dtype: int64\n"
     ]
    },
    {
     "data": {
      "text/plain": [
       "(146144, 6)"
      ]
     },
     "execution_count": 55,
     "metadata": {},
     "output_type": "execute_result"
    }
   ],
   "source": [
    "print(movie_basics_cp.isna().sum())\n",
    "movie_basics_cp.shape"
   ]
  },
  {
   "cell_type": "code",
   "execution_count": 56,
   "metadata": {},
   "outputs": [
    {
     "data": {
      "text/plain": [
       "array([2013, 2019, 2018, 2017, 2012, 2010, 2011, 2015, 2021, 2016, 2014,\n",
       "       2020, 2022, 2023, 2024, 2026, 2025, 2115, 2027])"
      ]
     },
     "execution_count": 56,
     "metadata": {},
     "output_type": "execute_result"
    }
   ],
   "source": [
    "movie_basics_cp['start_year'].unique()"
   ]
  },
  {
   "cell_type": "code",
   "execution_count": 57,
   "metadata": {},
   "outputs": [
    {
     "data": {
      "text/plain": [
       "<Axes: xlabel='start_year'>"
      ]
     },
     "execution_count": 57,
     "metadata": {},
     "output_type": "execute_result"
    },
    {
     "data": {
      "image/png": "[encoded data removed]",
      "text/plain": [
       "<Figure size 640x480 with 1 Axes>"
      ]
     },
     "metadata": {},
     "output_type": "display_data"
    }
   ],
   "source": [
    "sns.boxplot(x= movie_basics_cp['start_year'], color='tomato')"
   ]
  },
  {
   "cell_type": "code",
   "execution_count": 58,
   "metadata": {},
   "outputs": [
    {
     "data": {
      "text/plain": [
       "(146140, 6)"
      ]
     },
     "execution_count": 58,
     "metadata": {},
     "output_type": "execute_result"
    }
   ],
   "source": [
    "movie_basics_cp = movie_basics_cp[movie_basics_cp['start_year'] < 2025]\n",
    "movie_basics_cp.shape\n",
    "\n"
   ]
  },
  {
   "cell_type": "code",
   "execution_count": 59,
   "metadata": {},
   "outputs": [
    {
     "data": {
      "text/plain": [
       "<Axes: xlabel='runtime_minutes'>"
      ]
     },
     "execution_count": 59,
     "metadata": {},
     "output_type": "execute_result"
    },
    {
     "data": {
      "image/png": "[encoded data removed]",
      "text/plain": [
       "<Figure size 640x480 with 1 Axes>"
      ]
     },
     "metadata": {},
     "output_type": "display_data"
    }
   ],
   "source": [
    "sns.boxplot(x= movie_basics_cp['runtime_minutes'], color='tomato')"
   ]
  },
  {
   "cell_type": "code",
   "execution_count": 60,
   "metadata": {},
   "outputs": [
    {
     "data": {
      "application/vnd.microsoft.datawrangler.viewer.v0+json": {
       "columns": [
        {
         "name": "index",
         "rawType": "int64",
         "type": "integer"
        },
        {
         "name": "runtime_minutes",
         "rawType": "float64",
         "type": "float"
        }
       ],
       "ref": "eaf88c5c-032f-4539-85cd-0d6d5b5cee24",
       "rows": [
        [
         "95787",
         "1.0"
        ],
        [
         "113278",
         "1.0"
        ],
        [
         "93214",
         "1.0"
        ],
        [
         "72190",
         "1.0"
        ],
        [
         "98755",
         "1.0"
        ],
        [
         "116943",
         "1.0"
        ],
        [
         "3298",
         "1.0"
        ],
        [
         "140571",
         "1.0"
        ],
        [
         "125975",
         "1.0"
        ],
        [
         "22903",
         "1.0"
        ],
        [
         "60809",
         "1.0"
        ],
        [
         "54307",
         "1.0"
        ],
        [
         "114067",
         "1.0"
        ],
        [
         "117258",
         "1.0"
        ],
        [
         "2570",
         "1.0"
        ],
        [
         "57140",
         "1.0"
        ],
        [
         "136059",
         "1.0"
        ],
        [
         "113099",
         "2.0"
        ],
        [
         "15584",
         "2.0"
        ],
        [
         "129630",
         "2.0"
        ],
        [
         "116783",
         "2.0"
        ],
        [
         "3116",
         "2.0"
        ],
        [
         "102792",
         "2.0"
        ],
        [
         "107782",
         "2.0"
        ],
        [
         "114134",
         "2.0"
        ],
        [
         "117649",
         "2.0"
        ],
        [
         "131229",
         "2.0"
        ],
        [
         "51387",
         "2.0"
        ],
        [
         "37345",
         "2.0"
        ],
        [
         "43133",
         "2.0"
        ],
        [
         "96417",
         "2.0"
        ],
        [
         "59386",
         "2.0"
        ],
        [
         "131200",
         "2.0"
        ],
        [
         "105198",
         "2.0"
        ],
        [
         "110973",
         "2.0"
        ],
        [
         "9343",
         "2.0"
        ],
        [
         "123610",
         "2.0"
        ],
        [
         "120152",
         "2.0"
        ],
        [
         "5128",
         "2.0"
        ],
        [
         "118872",
         "2.0"
        ],
        [
         "133236",
         "2.0"
        ],
        [
         "106420",
         "2.0"
        ],
        [
         "114657",
         "2.0"
        ],
        [
         "131154",
         "2.0"
        ],
        [
         "109535",
         "2.0"
        ],
        [
         "125081",
         "2.0"
        ],
        [
         "98062",
         "2.0"
        ],
        [
         "5401",
         "2.0"
        ],
        [
         "83271",
         "2.0"
        ],
        [
         "97113",
         "2.0"
        ]
       ],
       "shape": {
        "columns": 1,
        "rows": 146140
       }
      },
      "text/plain": [
       "95787         1.0\n",
       "113278        1.0\n",
       "93214         1.0\n",
       "72190         1.0\n",
       "98755         1.0\n",
       "           ...   \n",
       "88717      5460.0\n",
       "87264      6000.0\n",
       "123467     6017.0\n",
       "44840     14400.0\n",
       "132389    51420.0\n",
       "Name: runtime_minutes, Length: 146140, dtype: float64"
      ]
     },
     "execution_count": 60,
     "metadata": {},
     "output_type": "execute_result"
    }
   ],
   "source": [
    "runtime = movie_basics_cp['runtime_minutes'].sort_values(ascending=True)\n",
    "runtime\n"
   ]
  },
  {
   "cell_type": "code",
   "execution_count": 61,
   "metadata": {},
   "outputs": [
    {
     "data": {
      "text/plain": [
       "np.int64(0)"
      ]
     },
     "execution_count": 61,
     "metadata": {},
     "output_type": "execute_result"
    }
   ],
   "source": [
    "movie_basics_cp = movie_basics_cp[movie_basics_cp['runtime_minutes'].between(40, 150)]\n",
    "movie_basics_cp.duplicated().sum()"
   ]
  },
  {
   "cell_type": "code",
   "execution_count": 62,
   "metadata": {},
   "outputs": [
    {
     "name": "stdout",
     "output_type": "stream",
     "text": [
      "<class 'pandas.core.frame.DataFrame'>\n",
      "RangeIndex: 73856 entries, 0 to 73855\n",
      "Data columns (total 3 columns):\n",
      " #   Column         Non-Null Count  Dtype  \n",
      "---  ------         --------------  -----  \n",
      " 0   movie_id       73856 non-null  object \n",
      " 1   averagerating  73856 non-null  float64\n",
      " 2   numvotes       73856 non-null  int64  \n",
      "dtypes: float64(1), int64(1), object(1)\n",
      "memory usage: 1.7+ MB\n"
     ]
    },
    {
     "data": {
      "application/vnd.microsoft.datawrangler.viewer.v0+json": {
       "columns": [
        {
         "name": "index",
         "rawType": "object",
         "type": "string"
        },
        {
         "name": "0",
         "rawType": "int64",
         "type": "integer"
        }
       ],
       "ref": "8dbea2f9-2450-4e91-92f4-17b64365a26a",
       "rows": [
        [
         "movie_id",
         "0"
        ],
        [
         "averagerating",
         "0"
        ],
        [
         "numvotes",
         "0"
        ]
       ],
       "shape": {
        "columns": 1,
        "rows": 3
       }
      },
      "text/plain": [
       "movie_id         0\n",
       "averagerating    0\n",
       "numvotes         0\n",
       "dtype: int64"
      ]
     },
     "execution_count": 62,
     "metadata": {},
     "output_type": "execute_result"
    }
   ],
   "source": [
    "movie_ratings = imdb_tables['movie_ratings']\n",
    "movie_ratings.shape\n",
    "movie_ratings.head()\n",
    "movie_ratings.describe()\n",
    "movie_ratings.info()\n",
    "movie_ratings.isna().sum()"
   ]
  },
  {
   "cell_type": "code",
   "execution_count": 63,
   "metadata": {},
   "outputs": [],
   "source": [
    "movie_ratings_cp = movie_ratings.copy(deep=True)"
   ]
  },
  {
   "cell_type": "code",
   "execution_count": 64,
   "metadata": {},
   "outputs": [
    {
     "name": "stdout",
     "output_type": "stream",
     "text": [
      "(146144, 6)\n",
      "(73856, 3)\n",
      "(331703, 8)\n"
     ]
    }
   ],
   "source": [
    "print(imdb_tables['movie_basics'].shape)\n",
    "print(imdb_tables['movie_ratings'].shape)\n",
    "\n",
    "\n",
    "print(imdb_tables['movie_akas'].shape)"
   ]
  },
  {
   "cell_type": "code",
   "execution_count": 65,
   "metadata": {},
   "outputs": [],
   "source": [
    "movie_akas = imdb_tables['movie_akas']"
   ]
  },
  {
   "cell_type": "code",
   "execution_count": 66,
   "metadata": {},
   "outputs": [
    {
     "name": "stdout",
     "output_type": "stream",
     "text": [
      "<class 'pandas.core.frame.DataFrame'>\n",
      "RangeIndex: 331703 entries, 0 to 331702\n",
      "Data columns (total 8 columns):\n",
      " #   Column             Non-Null Count   Dtype  \n",
      "---  ------             --------------   -----  \n",
      " 0   movie_id           331703 non-null  object \n",
      " 1   ordering           331703 non-null  int64  \n",
      " 2   title              331703 non-null  object \n",
      " 3   region             278410 non-null  object \n",
      " 4   language           41715 non-null   object \n",
      " 5   types              168447 non-null  object \n",
      " 6   attributes         14925 non-null   object \n",
      " 7   is_original_title  331678 non-null  float64\n",
      "dtypes: float64(1), int64(1), object(6)\n",
      "memory usage: 20.2+ MB\n"
     ]
    }
   ],
   "source": [
    "movie_akas_cp = movie_akas.copy(deep=True)\n",
    "movie_akas_cp.info()\n",
    "movie_akas_cp.isna().sum()\n",
    "movie_akas_cp = movie_akas_cp.drop(columns=['language', 'types', 'attributes', 'is_original_title'])\n",
    "movie_akas_cp = movie_akas_cp.rename(columns={\n",
    "    'title':'region_title'\n",
    "})\n"
   ]
  },
  {
   "cell_type": "markdown",
   "metadata": {},
   "source": [
    "# MOVIE MERGE"
   ]
  },
  {
   "cell_type": "code",
   "execution_count": 67,
   "metadata": {},
   "outputs": [
    {
     "data": {
      "application/vnd.microsoft.datawrangler.viewer.v0+json": {
       "columns": [
        {
         "name": "index",
         "rawType": "int64",
         "type": "integer"
        },
        {
         "name": "movie_id",
         "rawType": "object",
         "type": "string"
        },
        {
         "name": "primary_title",
         "rawType": "object",
         "type": "string"
        },
        {
         "name": "original_title",
         "rawType": "object",
         "type": "string"
        },
        {
         "name": "start_year",
         "rawType": "int64",
         "type": "integer"
        },
        {
         "name": "runtime_minutes",
         "rawType": "float64",
         "type": "float"
        },
        {
         "name": "genres",
         "rawType": "object",
         "type": "string"
        },
        {
         "name": "averagerating",
         "rawType": "float64",
         "type": "float"
        },
        {
         "name": "numvotes",
         "rawType": "int64",
         "type": "integer"
        }
       ],
       "ref": "1cd3d05c-6c4f-437f-b048-744eda25ac5d",
       "rows": [
        [
         "0",
         "tt0066787",
         "One Day Before the Rainy Season",
         "Ashad Ka Ek Din",
         "2019",
         "114.0",
         "Biography,Drama",
         "7.2",
         "43"
        ],
        [
         "1",
         "tt0069049",
         "The Other Side of the Wind",
         "The Other Side of the Wind",
         "2018",
         "122.0",
         "Drama",
         "6.9",
         "4517"
        ],
        [
         "2",
         "tt0069204",
         "Sabse Bada Sukh",
         "Sabse Bada Sukh",
         "2018",
         "87.0",
         "Comedy,Drama",
         "6.1",
         "13"
        ],
        [
         "3",
         "tt0100275",
         "The Wandering Soap Opera",
         "La Telenovela Errante",
         "2017",
         "80.0",
         "Comedy,Drama,Fantasy",
         "6.5",
         "119"
        ],
        [
         "4",
         "tt0112502",
         "Bigfoot",
         "Bigfoot",
         "2017",
         "87.0",
         "Horror,Thriller",
         "4.1",
         "32"
        ],
        [
         "5",
         "tt0137204",
         "Joe Finds Grace",
         "Joe Finds Grace",
         "2017",
         "83.0",
         "Adventure,Animation,Comedy",
         "8.1",
         "263"
        ],
        [
         "6",
         "tt0146592",
         "Pál Adrienn",
         "Pál Adrienn",
         "2010",
         "136.0",
         "Drama",
         "6.8",
         "451"
        ],
        [
         "7",
         "tt0154039",
         "So Much for Justice!",
         "Oda az igazság",
         "2010",
         "100.0",
         "History",
         "4.6",
         "64"
        ],
        [
         "8",
         "tt0162942",
         "Children of the Green Dragon",
         "A zöld sárkány gyermekei",
         "2010",
         "89.0",
         "Drama",
         "6.9",
         "120"
        ],
        [
         "9",
         "tt0170651",
         "T.G.M. - osvoboditel",
         "T.G.M. - osvoboditel",
         "2018",
         "60.0",
         "Documentary",
         "7.5",
         "6"
        ],
        [
         "10",
         "tt0192528",
         "Heaven & Hell",
         "Reverse Heaven",
         "2018",
         "104.0",
         "Drama",
         "4.0",
         "72"
        ],
        [
         "11",
         "tt0230212",
         "The Final Journey",
         "The Final Journey",
         "2010",
         "120.0",
         "Drama",
         "8.8",
         "8"
        ],
        [
         "12",
         "tt0247643",
         "Los pájaros se van con la muerte",
         "Los pájaros se van con la muerte",
         "2011",
         "110.0",
         "Drama,Mystery",
         "4.0",
         "12"
        ],
        [
         "13",
         "tt0249516",
         "Foodfight!",
         "Foodfight!",
         "2012",
         "91.0",
         "Action,Animation,Comedy",
         "1.9",
         "8248"
        ],
        [
         "14",
         "tt0250404",
         "Godfather",
         "Godfather",
         "2012",
         "87.0",
         "Crime,Drama",
         "6.7",
         "236"
        ],
        [
         "15",
         "tt0253093",
         "Gangavataran",
         "Gangavataran",
         "2018",
         "134.0",
         "Unknown",
         "6.6",
         "8"
        ],
        [
         "16",
         "tt0255820",
         "Return to Babylon",
         "Return to Babylon",
         "2013",
         "75.0",
         "Biography,Comedy,Drama",
         "5.9",
         "123"
        ],
        [
         "17",
         "tt0262218",
         "Akakis mogzauroba",
         "Akakis mogzauroba",
         "2012",
         "44.0",
         "Documentary",
         "7.8",
         "22"
        ],
        [
         "18",
         "tt0263814",
         "On kadin",
         "On kadin",
         "2019",
         "87.0",
         "Drama",
         "7.1",
         "100"
        ],
        [
         "19",
         "tt0276568",
         "To Chase a Million",
         "To Chase a Million",
         "2018",
         "97.0",
         "Action,Drama",
         "7.4",
         "5"
        ],
        [
         "20",
         "tt0277964",
         "Prague: The Restless Heart of Europe",
         "Praha - neklidné srdce Evropy",
         "2018",
         "59.0",
         "Documentary,History",
         "7.0",
         "31"
        ],
        [
         "21",
         "tt0283440",
         "Short Time Heroes",
         "Kurzzeithelden",
         "2015",
         "45.0",
         "Sci-Fi",
         "6.6",
         "16"
        ],
        [
         "22",
         "tt0285252",
         "Life's a Beach",
         "Life's a Beach",
         "2012",
         "100.0",
         "Comedy",
         "3.9",
         "219"
        ],
        [
         "23",
         "tt0285423",
         "Abolição",
         "Abolição",
         "2019",
         "87.0",
         "Documentary",
         "7.4",
         "35"
        ],
        [
         "24",
         "tt0293069",
         "Dark Blood",
         "Dark Blood",
         "2012",
         "86.0",
         "Thriller",
         "6.6",
         "1053"
        ],
        [
         "25",
         "tt0297400",
         "Snowblind",
         "Snowblind",
         "2015",
         "87.0",
         "Crime,Drama",
         "6.7",
         "77"
        ],
        [
         "26",
         "tt0306058",
         "Second Coming",
         "Second Coming",
         "2012",
         "95.0",
         "Unknown",
         "5.5",
         "20"
        ],
        [
         "27",
         "tt0312305",
         "Quantum Quest: A Cassini Space Odyssey",
         "Quantum Quest: A Cassini Space Odyssey",
         "2010",
         "45.0",
         "Adventure,Animation,Sci-Fi",
         "5.1",
         "287"
        ],
        [
         "28",
         "tt0315642",
         "Wazir",
         "Wazir",
         "2016",
         "103.0",
         "Action,Crime,Drama",
         "7.1",
         "15378"
        ],
        [
         "29",
         "tt0323808",
         "The Wicker Tree",
         "The Wicker Tree",
         "2011",
         "96.0",
         "Drama,Horror",
         "3.9",
         "2328"
        ],
        [
         "30",
         "tt0326592",
         "The Overnight",
         "The Overnight",
         "2010",
         "88.0",
         "Unknown",
         "7.5",
         "24"
        ],
        [
         "31",
         "tt0326965",
         "In My Sleep",
         "In My Sleep",
         "2010",
         "104.0",
         "Drama,Mystery,Thriller",
         "5.5",
         "1889"
        ],
        [
         "32",
         "tt0328810",
         "My Land",
         "Aamaar Bhuvan",
         "2018",
         "102.0",
         "Drama,Family",
         "7.9",
         "61"
        ],
        [
         "33",
         "tt0329539",
         "Rice Girl",
         "Rice Girl",
         "2014",
         "95.0",
         "Adventure,Comedy,Romance",
         "6.1",
         "73"
        ],
        [
         "34",
         "tt0330811",
         "Regret Not Speaking",
         "Regret Not Speaking",
         "2011",
         "87.0",
         "Unknown",
         "6.2",
         "10"
        ],
        [
         "35",
         "tt0330987",
         "Tiden är en dröm, del 2",
         "Tiden är en dröm, del 2",
         "2014",
         "109.0",
         "Unknown",
         "6.3",
         "6"
        ],
        [
         "36",
         "tt0331312",
         "This Wretched Life",
         "This Wretched Life",
         "2010",
         "99.0",
         "Comedy,Drama",
         "7.6",
         "59"
        ],
        [
         "37",
         "tt0331314",
         "Bunyan and Babe",
         "Bunyan and Babe",
         "2017",
         "84.0",
         "Adventure,Animation,Comedy",
         "5.0",
         "302"
        ],
        [
         "38",
         "tt0337692",
         "On the Road",
         "On the Road",
         "2012",
         "124.0",
         "Adventure,Drama,Romance",
         "6.1",
         "37886"
        ],
        [
         "39",
         "tt0337882",
         "Blind Sided",
         "Blind Sided",
         "2010",
         "87.0",
         "Comedy,Crime,Drama",
         "7.4",
         "14"
        ],
        [
         "40",
         "tt0337926",
         "Chatô - The King of Brazil",
         "Chatô: O Rei do Brasil",
         "2015",
         "102.0",
         "Biography",
         "6.0",
         "558"
        ],
        [
         "41",
         "tt0339736",
         "The Evil Within",
         "The Evil Within",
         "2017",
         "98.0",
         "Horror",
         "5.6",
         "2420"
        ],
        [
         "42",
         "tt0346045",
         "Transeúntes",
         "Transeúntes",
         "2015",
         "101.0",
         "Comedy,Drama",
         "6.7",
         "35"
        ],
        [
         "43",
         "tt0357717",
         "Haar Jeet",
         "Haar Jeet",
         "2018",
         "87.0",
         "Drama",
         "5.1",
         "9"
        ],
        [
         "44",
         "tt0359950",
         "The Secret Life of Walter Mitty",
         "The Secret Life of Walter Mitty",
         "2013",
         "114.0",
         "Adventure,Comedy,Drama",
         "7.3",
         "275300"
        ],
        [
         "45",
         "tt0360556",
         "Fahrenheit 451",
         "Fahrenheit 451",
         "2018",
         "100.0",
         "Drama,Sci-Fi,Thriller",
         "4.9",
         "14469"
        ],
        [
         "46",
         "tt0364201",
         "Aman Ke Farishtey",
         "Aman Ke Farishtey",
         "2016",
         "137.0",
         "Action",
         "6.4",
         "16"
        ],
        [
         "47",
         "tt0365545",
         "Nappily Ever After",
         "Nappily Ever After",
         "2018",
         "98.0",
         "Comedy,Drama,Romance",
         "6.4",
         "6287"
        ],
        [
         "48",
         "tt0365907",
         "A Walk Among the Tombstones",
         "A Walk Among the Tombstones",
         "2014",
         "114.0",
         "Action,Crime,Drama",
         "6.5",
         "105116"
        ],
        [
         "49",
         "tt0369610",
         "Jurassic World",
         "Jurassic World",
         "2015",
         "124.0",
         "Action,Adventure,Sci-Fi",
         "7.0",
         "539338"
        ]
       ],
       "shape": {
        "columns": 8,
        "rows": 72227
       }
      },
      "text/html": [
       "<div>\n",
       "<style scoped>\n",
       "    .dataframe tbody tr th:only-of-type {\n",
       "        vertical-align: middle;\n",
       "    }\n",
       "\n",
       "    .dataframe tbody tr th {\n",
       "        vertical-align: top;\n",
       "    }\n",
       "\n",
       "    .dataframe thead th {\n",
       "        text-align: right;\n",
       "    }\n",
       "</style>\n",
       "<table border=\"1\" class=\"dataframe\">\n",
       "  <thead>\n",
       "    <tr style=\"text-align: right;\">\n",
       "      <th></th>\n",
       "      <th>movie_id</th>\n",
       "      <th>primary_title</th>\n",
       "      <th>original_title</th>\n",
       "      <th>start_year</th>\n",
       "      <th>runtime_minutes</th>\n",
       "      <th>genres</th>\n",
       "      <th>averagerating</th>\n",
       "      <th>numvotes</th>\n",
       "    </tr>\n",
       "  </thead>\n",
       "  <tbody>\n",
       "    <tr>\n",
       "      <th>0</th>\n",
       "      <td>tt0066787</td>\n",
       "      <td>One Day Before the Rainy Season</td>\n",
       "      <td>Ashad Ka Ek Din</td>\n",
       "      <td>2019</td>\n",
       "      <td>114.0</td>\n",
       "      <td>Biography,Drama</td>\n",
       "      <td>7.2</td>\n",
       "      <td>43</td>\n",
       "    </tr>\n",
       "    <tr>\n",
       "      <th>1</th>\n",
       "      <td>tt0069049</td>\n",
       "      <td>The Other Side of the Wind</td>\n",
       "      <td>The Other Side of the Wind</td>\n",
       "      <td>2018</td>\n",
       "      <td>122.0</td>\n",
       "      <td>Drama</td>\n",
       "      <td>6.9</td>\n",
       "      <td>4517</td>\n",
       "    </tr>\n",
       "    <tr>\n",
       "      <th>2</th>\n",
       "      <td>tt0069204</td>\n",
       "      <td>Sabse Bada Sukh</td>\n",
       "      <td>Sabse Bada Sukh</td>\n",
       "      <td>2018</td>\n",
       "      <td>87.0</td>\n",
       "      <td>Comedy,Drama</td>\n",
       "      <td>6.1</td>\n",
       "      <td>13</td>\n",
       "    </tr>\n",
       "    <tr>\n",
       "      <th>3</th>\n",
       "      <td>tt0100275</td>\n",
       "      <td>The Wandering Soap Opera</td>\n",
       "      <td>La Telenovela Errante</td>\n",
       "      <td>2017</td>\n",
       "      <td>80.0</td>\n",
       "      <td>Comedy,Drama,Fantasy</td>\n",
       "      <td>6.5</td>\n",
       "      <td>119</td>\n",
       "    </tr>\n",
       "    <tr>\n",
       "      <th>4</th>\n",
       "      <td>tt0112502</td>\n",
       "      <td>Bigfoot</td>\n",
       "      <td>Bigfoot</td>\n",
       "      <td>2017</td>\n",
       "      <td>87.0</td>\n",
       "      <td>Horror,Thriller</td>\n",
       "      <td>4.1</td>\n",
       "      <td>32</td>\n",
       "    </tr>\n",
       "    <tr>\n",
       "      <th>...</th>\n",
       "      <td>...</td>\n",
       "      <td>...</td>\n",
       "      <td>...</td>\n",
       "      <td>...</td>\n",
       "      <td>...</td>\n",
       "      <td>...</td>\n",
       "      <td>...</td>\n",
       "      <td>...</td>\n",
       "    </tr>\n",
       "    <tr>\n",
       "      <th>72222</th>\n",
       "      <td>tt9913084</td>\n",
       "      <td>Diabolik sono io</td>\n",
       "      <td>Diabolik sono io</td>\n",
       "      <td>2019</td>\n",
       "      <td>75.0</td>\n",
       "      <td>Documentary</td>\n",
       "      <td>6.2</td>\n",
       "      <td>6</td>\n",
       "    </tr>\n",
       "    <tr>\n",
       "      <th>72223</th>\n",
       "      <td>tt9914286</td>\n",
       "      <td>Sokagin Çocuklari</td>\n",
       "      <td>Sokagin Çocuklari</td>\n",
       "      <td>2019</td>\n",
       "      <td>98.0</td>\n",
       "      <td>Drama,Family</td>\n",
       "      <td>8.7</td>\n",
       "      <td>136</td>\n",
       "    </tr>\n",
       "    <tr>\n",
       "      <th>72224</th>\n",
       "      <td>tt9914642</td>\n",
       "      <td>Albatross</td>\n",
       "      <td>Albatross</td>\n",
       "      <td>2017</td>\n",
       "      <td>87.0</td>\n",
       "      <td>Documentary</td>\n",
       "      <td>8.5</td>\n",
       "      <td>8</td>\n",
       "    </tr>\n",
       "    <tr>\n",
       "      <th>72225</th>\n",
       "      <td>tt9914942</td>\n",
       "      <td>La vida sense la Sara Amat</td>\n",
       "      <td>La vida sense la Sara Amat</td>\n",
       "      <td>2019</td>\n",
       "      <td>87.0</td>\n",
       "      <td>Unknown</td>\n",
       "      <td>6.6</td>\n",
       "      <td>5</td>\n",
       "    </tr>\n",
       "    <tr>\n",
       "      <th>72226</th>\n",
       "      <td>tt9916160</td>\n",
       "      <td>Drømmeland</td>\n",
       "      <td>Drømmeland</td>\n",
       "      <td>2019</td>\n",
       "      <td>72.0</td>\n",
       "      <td>Documentary</td>\n",
       "      <td>6.5</td>\n",
       "      <td>11</td>\n",
       "    </tr>\n",
       "  </tbody>\n",
       "</table>\n",
       "<p>72227 rows × 8 columns</p>\n",
       "</div>"
      ],
      "text/plain": [
       "        movie_id                    primary_title              original_title  \\\n",
       "0      tt0066787  One Day Before the Rainy Season             Ashad Ka Ek Din   \n",
       "1      tt0069049       The Other Side of the Wind  The Other Side of the Wind   \n",
       "2      tt0069204                  Sabse Bada Sukh             Sabse Bada Sukh   \n",
       "3      tt0100275         The Wandering Soap Opera       La Telenovela Errante   \n",
       "4      tt0112502                          Bigfoot                     Bigfoot   \n",
       "...          ...                              ...                         ...   \n",
       "72222  tt9913084                 Diabolik sono io            Diabolik sono io   \n",
       "72223  tt9914286                Sokagin Çocuklari           Sokagin Çocuklari   \n",
       "72224  tt9914642                        Albatross                   Albatross   \n",
       "72225  tt9914942       La vida sense la Sara Amat  La vida sense la Sara Amat   \n",
       "72226  tt9916160                       Drømmeland                  Drømmeland   \n",
       "\n",
       "       start_year  runtime_minutes                genres  averagerating  \\\n",
       "0            2019            114.0       Biography,Drama            7.2   \n",
       "1            2018            122.0                 Drama            6.9   \n",
       "2            2018             87.0          Comedy,Drama            6.1   \n",
       "3            2017             80.0  Comedy,Drama,Fantasy            6.5   \n",
       "4            2017             87.0       Horror,Thriller            4.1   \n",
       "...           ...              ...                   ...            ...   \n",
       "72222        2019             75.0           Documentary            6.2   \n",
       "72223        2019             98.0          Drama,Family            8.7   \n",
       "72224        2017             87.0           Documentary            8.5   \n",
       "72225        2019             87.0               Unknown            6.6   \n",
       "72226        2019             72.0           Documentary            6.5   \n",
       "\n",
       "       numvotes  \n",
       "0            43  \n",
       "1          4517  \n",
       "2            13  \n",
       "3           119  \n",
       "4            32  \n",
       "...         ...  \n",
       "72222         6  \n",
       "72223       136  \n",
       "72224         8  \n",
       "72225         5  \n",
       "72226        11  \n",
       "\n",
       "[72227 rows x 8 columns]"
      ]
     },
     "execution_count": 67,
     "metadata": {},
     "output_type": "execute_result"
    }
   ],
   "source": [
    "movie_merge = movie_basics_cp.merge(movie_ratings_cp, on='movie_id', how='inner')\n",
    "movie_merge"
   ]
  },
  {
   "cell_type": "code",
   "execution_count": 68,
   "metadata": {},
   "outputs": [
    {
     "data": {
      "application/vnd.microsoft.datawrangler.viewer.v0+json": {
       "columns": [
        {
         "name": "index",
         "rawType": "int64",
         "type": "integer"
        },
        {
         "name": "movie_id",
         "rawType": "object",
         "type": "string"
        },
        {
         "name": "primary_title",
         "rawType": "object",
         "type": "string"
        },
        {
         "name": "original_title",
         "rawType": "object",
         "type": "string"
        },
        {
         "name": "start_year",
         "rawType": "int64",
         "type": "integer"
        },
        {
         "name": "runtime_minutes",
         "rawType": "float64",
         "type": "float"
        },
        {
         "name": "genres",
         "rawType": "object",
         "type": "string"
        },
        {
         "name": "averagerating",
         "rawType": "float64",
         "type": "float"
        },
        {
         "name": "numvotes",
         "rawType": "int64",
         "type": "integer"
        },
        {
         "name": "ordering",
         "rawType": "int64",
         "type": "integer"
        },
        {
         "name": "region_title",
         "rawType": "object",
         "type": "string"
        },
        {
         "name": "region",
         "rawType": "object",
         "type": "unknown"
        }
       ],
       "ref": "b2e71b6e-9008-489a-beec-f69abf83c38d",
       "rows": [
        [
         "0",
         "tt0066787",
         "One Day Before the Rainy Season",
         "Ashad Ka Ek Din",
         "2019",
         "114.0",
         "Biography,Drama",
         "7.2",
         "43",
         "1",
         "One Day Before the Rainy Season",
         "XWW"
        ],
        [
         "1",
         "tt0066787",
         "One Day Before the Rainy Season",
         "Ashad Ka Ek Din",
         "2019",
         "114.0",
         "Biography,Drama",
         "7.2",
         "43",
         "2",
         "Ashad Ka Ek Din",
         "IN"
        ],
        [
         "2",
         "tt0066787",
         "One Day Before the Rainy Season",
         "Ashad Ka Ek Din",
         "2019",
         "114.0",
         "Biography,Drama",
         "7.2",
         "43",
         "3",
         "One Monsoon Day",
         null
        ],
        [
         "3",
         "tt0066787",
         "One Day Before the Rainy Season",
         "Ashad Ka Ek Din",
         "2019",
         "114.0",
         "Biography,Drama",
         "7.2",
         "43",
         "4",
         "Ashad Ka Ek Din",
         null
        ],
        [
         "4",
         "tt0069049",
         "The Other Side of the Wind",
         "The Other Side of the Wind",
         "2018",
         "122.0",
         "Drama",
         "6.9",
         "4517",
         "10",
         "La otra cara del viento",
         "VE"
        ],
        [
         "5",
         "tt0069049",
         "The Other Side of the Wind",
         "The Other Side of the Wind",
         "2018",
         "122.0",
         "Drama",
         "6.9",
         "4517",
         "11",
         "Druga strona wiatru",
         "PL"
        ],
        [
         "6",
         "tt0069049",
         "The Other Side of the Wind",
         "The Other Side of the Wind",
         "2018",
         "122.0",
         "Drama",
         "6.9",
         "4517",
         "12",
         "The Other Side of the Wind",
         "DE"
        ],
        [
         "7",
         "tt0069049",
         "The Other Side of the Wind",
         "The Other Side of the Wind",
         "2018",
         "122.0",
         "Drama",
         "6.9",
         "4517",
         "13",
         "O Outro Lado do Vento",
         "PT"
        ],
        [
         "8",
         "tt0069049",
         "The Other Side of the Wind",
         "The Other Side of the Wind",
         "2018",
         "122.0",
         "Drama",
         "6.9",
         "4517",
         "1",
         "O Outro Lado do Vento",
         "BR"
        ],
        [
         "9",
         "tt0069049",
         "The Other Side of the Wind",
         "The Other Side of the Wind",
         "2018",
         "122.0",
         "Drama",
         "6.9",
         "4517",
         "2",
         "The Other Side of the Wind",
         "US"
        ],
        [
         "10",
         "tt0069049",
         "The Other Side of the Wind",
         "The Other Side of the Wind",
         "2018",
         "122.0",
         "Drama",
         "6.9",
         "4517",
         "3",
         "The Other Side of the Wind",
         "GB"
        ],
        [
         "11",
         "tt0069049",
         "The Other Side of the Wind",
         "The Other Side of the Wind",
         "2018",
         "122.0",
         "Drama",
         "6.9",
         "4517",
         "4",
         "L'altra faccia del vento",
         "IT"
        ],
        [
         "12",
         "tt0069049",
         "The Other Side of the Wind",
         "The Other Side of the Wind",
         "2018",
         "122.0",
         "Drama",
         "6.9",
         "4517",
         "5",
         "Другая сторона ветра",
         "RU"
        ],
        [
         "13",
         "tt0069049",
         "The Other Side of the Wind",
         "The Other Side of the Wind",
         "2018",
         "122.0",
         "Drama",
         "6.9",
         "4517",
         "6",
         "Al otro lado del viento",
         "AR"
        ],
        [
         "14",
         "tt0069049",
         "The Other Side of the Wind",
         "The Other Side of the Wind",
         "2018",
         "122.0",
         "Drama",
         "6.9",
         "4517",
         "7",
         "Al otro lado del viento",
         "ES"
        ],
        [
         "15",
         "tt0069049",
         "The Other Side of the Wind",
         "The Other Side of the Wind",
         "2018",
         "122.0",
         "Drama",
         "6.9",
         "4517",
         "8",
         "The Other Side of the Wind",
         null
        ],
        [
         "16",
         "tt0069049",
         "The Other Side of the Wind",
         "The Other Side of the Wind",
         "2018",
         "122.0",
         "Drama",
         "6.9",
         "4517",
         "9",
         "De l'autre côté du vent",
         "FR"
        ],
        [
         "17",
         "tt0069204",
         "Sabse Bada Sukh",
         "Sabse Bada Sukh",
         "2018",
         "87.0",
         "Comedy,Drama",
         "6.1",
         "13",
         "1",
         "Subse Bada Sukh",
         "IN"
        ],
        [
         "18",
         "tt0069204",
         "Sabse Bada Sukh",
         "Sabse Bada Sukh",
         "2018",
         "87.0",
         "Comedy,Drama",
         "6.1",
         "13",
         "2",
         "The Greatest Happiness",
         "IN"
        ],
        [
         "19",
         "tt0069204",
         "Sabse Bada Sukh",
         "Sabse Bada Sukh",
         "2018",
         "87.0",
         "Comedy,Drama",
         "6.1",
         "13",
         "3",
         "Sabse Bada Sukh",
         null
        ],
        [
         "20",
         "tt0100275",
         "The Wandering Soap Opera",
         "La Telenovela Errante",
         "2017",
         "80.0",
         "Comedy,Drama,Fantasy",
         "6.5",
         "119",
         "1",
         "La Telenovela Errante",
         null
        ],
        [
         "21",
         "tt0100275",
         "The Wandering Soap Opera",
         "La Telenovela Errante",
         "2017",
         "80.0",
         "Comedy,Drama,Fantasy",
         "6.5",
         "119",
         "2",
         "The Wandering Soap Opera",
         "XWW"
        ],
        [
         "22",
         "tt0100275",
         "The Wandering Soap Opera",
         "La Telenovela Errante",
         "2017",
         "80.0",
         "Comedy,Drama,Fantasy",
         "6.5",
         "119",
         "3",
         "La Telenovela Errante",
         "CL"
        ],
        [
         "23",
         "tt0100275",
         "The Wandering Soap Opera",
         "La Telenovela Errante",
         "2017",
         "80.0",
         "Comedy,Drama,Fantasy",
         "6.5",
         "119",
         "4",
         "La novela errante",
         "CL"
        ],
        [
         "24",
         "tt0100275",
         "The Wandering Soap Opera",
         "La Telenovela Errante",
         "2017",
         "80.0",
         "Comedy,Drama,Fantasy",
         "6.5",
         "119",
         "5",
         "Objazdowa opera mydlana",
         "PL"
        ],
        [
         "25",
         "tt0112502",
         "Bigfoot",
         "Bigfoot",
         "2017",
         "87.0",
         "Horror,Thriller",
         "4.1",
         "32",
         "1",
         "Bigfoot",
         "US"
        ],
        [
         "26",
         "tt0137204",
         "Joe Finds Grace",
         "Joe Finds Grace",
         "2017",
         "83.0",
         "Adventure,Animation,Comedy",
         "8.1",
         "263",
         "1",
         "Joe Finds Grace",
         "CA"
        ],
        [
         "27",
         "tt0137204",
         "Joe Finds Grace",
         "Joe Finds Grace",
         "2017",
         "83.0",
         "Adventure,Animation,Comedy",
         "8.1",
         "263",
         "2",
         "Elephant Joe",
         null
        ],
        [
         "28",
         "tt0137204",
         "Joe Finds Grace",
         "Joe Finds Grace",
         "2017",
         "83.0",
         "Adventure,Animation,Comedy",
         "8.1",
         "263",
         "3",
         "Joe Finds Grace",
         null
        ],
        [
         "29",
         "tt0137204",
         "Joe Finds Grace",
         "Joe Finds Grace",
         "2017",
         "83.0",
         "Adventure,Animation,Comedy",
         "8.1",
         "263",
         "4",
         "Saving Grace",
         null
        ],
        [
         "30",
         "tt0146592",
         "Pál Adrienn",
         "Pál Adrienn",
         "2010",
         "136.0",
         "Drama",
         "6.8",
         "451",
         "1",
         "Adrienn Pal",
         "PL"
        ],
        [
         "31",
         "tt0146592",
         "Pál Adrienn",
         "Pál Adrienn",
         "2010",
         "136.0",
         "Drama",
         "6.8",
         "451",
         "2",
         "Адриен Пал",
         "BG"
        ],
        [
         "32",
         "tt0146592",
         "Pál Adrienn",
         "Pál Adrienn",
         "2010",
         "136.0",
         "Drama",
         "6.8",
         "451",
         "3",
         "Pal Adrienn",
         "HR"
        ],
        [
         "33",
         "tt0146592",
         "Pál Adrienn",
         "Pál Adrienn",
         "2010",
         "136.0",
         "Drama",
         "6.8",
         "451",
         "4",
         "Pál Adrienn",
         "HU"
        ],
        [
         "34",
         "tt0146592",
         "Pál Adrienn",
         "Pál Adrienn",
         "2010",
         "136.0",
         "Drama",
         "6.8",
         "451",
         "5",
         "Adrienn Pál",
         "SE"
        ],
        [
         "35",
         "tt0146592",
         "Pál Adrienn",
         "Pál Adrienn",
         "2010",
         "136.0",
         "Drama",
         "6.8",
         "451",
         "6",
         "Pál Adrienn",
         null
        ],
        [
         "36",
         "tt0154039",
         "So Much for Justice!",
         "Oda az igazság",
         "2010",
         "100.0",
         "History",
         "4.6",
         "64",
         "1",
         "Oda az igazság",
         null
        ],
        [
         "37",
         "tt0154039",
         "So Much for Justice!",
         "Oda az igazság",
         "2010",
         "100.0",
         "History",
         "4.6",
         "64",
         "2",
         "Oda az igazság",
         "HU"
        ],
        [
         "38",
         "tt0154039",
         "So Much for Justice!",
         "Oda az igazság",
         "2010",
         "100.0",
         "History",
         "4.6",
         "64",
         "3",
         "C'est la vérité",
         "FR"
        ],
        [
         "39",
         "tt0154039",
         "So Much for Justice!",
         "Oda az igazság",
         "2010",
         "100.0",
         "History",
         "4.6",
         "64",
         "4",
         "So Much for Justice!",
         "XWW"
        ],
        [
         "40",
         "tt0154039",
         "So Much for Justice!",
         "Oda az igazság",
         "2010",
         "100.0",
         "History",
         "4.6",
         "64",
         "5",
         "So Much for Justice",
         "FR"
        ],
        [
         "41",
         "tt0154039",
         "So Much for Justice!",
         "Oda az igazság",
         "2010",
         "100.0",
         "History",
         "4.6",
         "64",
         "6",
         "Szlag trafil sprawiedliwosc",
         "PL"
        ],
        [
         "42",
         "tt0162942",
         "Children of the Green Dragon",
         "A zöld sárkány gyermekei",
         "2010",
         "89.0",
         "Drama",
         "6.9",
         "120",
         "1",
         "Dzieci Zielonego Smoka",
         "PL"
        ],
        [
         "43",
         "tt0162942",
         "Children of the Green Dragon",
         "A zöld sárkány gyermekei",
         "2010",
         "89.0",
         "Drama",
         "6.9",
         "120",
         "2",
         "A zöld sárkány gyermekei",
         "HU"
        ],
        [
         "44",
         "tt0162942",
         "Children of the Green Dragon",
         "A zöld sárkány gyermekei",
         "2010",
         "89.0",
         "Drama",
         "6.9",
         "120",
         "3",
         "A zöld sárkány gyermekei",
         null
        ],
        [
         "45",
         "tt0162942",
         "Children of the Green Dragon",
         "A zöld sárkány gyermekei",
         "2010",
         "89.0",
         "Drama",
         "6.9",
         "120",
         "4",
         "Children of the Green Dragon",
         "XWW"
        ],
        [
         "46",
         "tt0192528",
         "Heaven & Hell",
         "Reverse Heaven",
         "2018",
         "104.0",
         "Drama",
         "4.0",
         "72",
         "1",
         "Heaven & Hell",
         "US"
        ],
        [
         "47",
         "tt0192528",
         "Heaven & Hell",
         "Reverse Heaven",
         "2018",
         "104.0",
         "Drama",
         "4.0",
         "72",
         "2",
         "Reverse Heaven",
         null
        ],
        [
         "48",
         "tt0230212",
         "The Final Journey",
         "The Final Journey",
         "2010",
         "120.0",
         "Drama",
         "8.8",
         "8",
         "1",
         "The Final Journey",
         "US"
        ],
        [
         "49",
         "tt0247643",
         "Los pájaros se van con la muerte",
         "Los pájaros se van con la muerte",
         "2011",
         "110.0",
         "Drama,Mystery",
         "4.0",
         "12",
         "1",
         "Los pájaros se van con la muerte",
         "VE"
        ]
       ],
       "shape": {
        "columns": 11,
        "rows": 256564
       }
      },
      "text/html": [
       "<div>\n",
       "<style scoped>\n",
       "    .dataframe tbody tr th:only-of-type {\n",
       "        vertical-align: middle;\n",
       "    }\n",
       "\n",
       "    .dataframe tbody tr th {\n",
       "        vertical-align: top;\n",
       "    }\n",
       "\n",
       "    .dataframe thead th {\n",
       "        text-align: right;\n",
       "    }\n",
       "</style>\n",
       "<table border=\"1\" class=\"dataframe\">\n",
       "  <thead>\n",
       "    <tr style=\"text-align: right;\">\n",
       "      <th></th>\n",
       "      <th>movie_id</th>\n",
       "      <th>primary_title</th>\n",
       "      <th>original_title</th>\n",
       "      <th>start_year</th>\n",
       "      <th>runtime_minutes</th>\n",
       "      <th>genres</th>\n",
       "      <th>averagerating</th>\n",
       "      <th>numvotes</th>\n",
       "      <th>ordering</th>\n",
       "      <th>region_title</th>\n",
       "      <th>region</th>\n",
       "    </tr>\n",
       "  </thead>\n",
       "  <tbody>\n",
       "    <tr>\n",
       "      <th>0</th>\n",
       "      <td>tt0066787</td>\n",
       "      <td>One Day Before the Rainy Season</td>\n",
       "      <td>Ashad Ka Ek Din</td>\n",
       "      <td>2019</td>\n",
       "      <td>114.0</td>\n",
       "      <td>Biography,Drama</td>\n",
       "      <td>7.2</td>\n",
       "      <td>43</td>\n",
       "      <td>1</td>\n",
       "      <td>One Day Before the Rainy Season</td>\n",
       "      <td>XWW</td>\n",
       "    </tr>\n",
       "    <tr>\n",
       "      <th>1</th>\n",
       "      <td>tt0066787</td>\n",
       "      <td>One Day Before the Rainy Season</td>\n",
       "      <td>Ashad Ka Ek Din</td>\n",
       "      <td>2019</td>\n",
       "      <td>114.0</td>\n",
       "      <td>Biography,Drama</td>\n",
       "      <td>7.2</td>\n",
       "      <td>43</td>\n",
       "      <td>2</td>\n",
       "      <td>Ashad Ka Ek Din</td>\n",
       "      <td>IN</td>\n",
       "    </tr>\n",
       "    <tr>\n",
       "      <th>2</th>\n",
       "      <td>tt0066787</td>\n",
       "      <td>One Day Before the Rainy Season</td>\n",
       "      <td>Ashad Ka Ek Din</td>\n",
       "      <td>2019</td>\n",
       "      <td>114.0</td>\n",
       "      <td>Biography,Drama</td>\n",
       "      <td>7.2</td>\n",
       "      <td>43</td>\n",
       "      <td>3</td>\n",
       "      <td>One Monsoon Day</td>\n",
       "      <td>None</td>\n",
       "    </tr>\n",
       "    <tr>\n",
       "      <th>3</th>\n",
       "      <td>tt0066787</td>\n",
       "      <td>One Day Before the Rainy Season</td>\n",
       "      <td>Ashad Ka Ek Din</td>\n",
       "      <td>2019</td>\n",
       "      <td>114.0</td>\n",
       "      <td>Biography,Drama</td>\n",
       "      <td>7.2</td>\n",
       "      <td>43</td>\n",
       "      <td>4</td>\n",
       "      <td>Ashad Ka Ek Din</td>\n",
       "      <td>None</td>\n",
       "    </tr>\n",
       "    <tr>\n",
       "      <th>4</th>\n",
       "      <td>tt0069049</td>\n",
       "      <td>The Other Side of the Wind</td>\n",
       "      <td>The Other Side of the Wind</td>\n",
       "      <td>2018</td>\n",
       "      <td>122.0</td>\n",
       "      <td>Drama</td>\n",
       "      <td>6.9</td>\n",
       "      <td>4517</td>\n",
       "      <td>10</td>\n",
       "      <td>La otra cara del viento</td>\n",
       "      <td>VE</td>\n",
       "    </tr>\n",
       "    <tr>\n",
       "      <th>...</th>\n",
       "      <td>...</td>\n",
       "      <td>...</td>\n",
       "      <td>...</td>\n",
       "      <td>...</td>\n",
       "      <td>...</td>\n",
       "      <td>...</td>\n",
       "      <td>...</td>\n",
       "      <td>...</td>\n",
       "      <td>...</td>\n",
       "      <td>...</td>\n",
       "      <td>...</td>\n",
       "    </tr>\n",
       "    <tr>\n",
       "      <th>256559</th>\n",
       "      <td>tt9905462</td>\n",
       "      <td>Pengalila</td>\n",
       "      <td>Pengalila</td>\n",
       "      <td>2019</td>\n",
       "      <td>111.0</td>\n",
       "      <td>Drama</td>\n",
       "      <td>8.4</td>\n",
       "      <td>600</td>\n",
       "      <td>2</td>\n",
       "      <td>Sisterleaf</td>\n",
       "      <td>IN</td>\n",
       "    </tr>\n",
       "    <tr>\n",
       "      <th>256560</th>\n",
       "      <td>tt9905462</td>\n",
       "      <td>Pengalila</td>\n",
       "      <td>Pengalila</td>\n",
       "      <td>2019</td>\n",
       "      <td>111.0</td>\n",
       "      <td>Drama</td>\n",
       "      <td>8.4</td>\n",
       "      <td>600</td>\n",
       "      <td>3</td>\n",
       "      <td>Pengalila</td>\n",
       "      <td>IN</td>\n",
       "    </tr>\n",
       "    <tr>\n",
       "      <th>256561</th>\n",
       "      <td>tt9911774</td>\n",
       "      <td>Padmavyuhathile Abhimanyu</td>\n",
       "      <td>Padmavyuhathile Abhimanyu</td>\n",
       "      <td>2019</td>\n",
       "      <td>130.0</td>\n",
       "      <td>Drama</td>\n",
       "      <td>8.4</td>\n",
       "      <td>365</td>\n",
       "      <td>1</td>\n",
       "      <td>Padmavyuhathile Abhimanyu</td>\n",
       "      <td>None</td>\n",
       "    </tr>\n",
       "    <tr>\n",
       "      <th>256562</th>\n",
       "      <td>tt9911774</td>\n",
       "      <td>Padmavyuhathile Abhimanyu</td>\n",
       "      <td>Padmavyuhathile Abhimanyu</td>\n",
       "      <td>2019</td>\n",
       "      <td>130.0</td>\n",
       "      <td>Drama</td>\n",
       "      <td>8.4</td>\n",
       "      <td>365</td>\n",
       "      <td>2</td>\n",
       "      <td>Pathmavyuhathile Abhimanyu</td>\n",
       "      <td>IN</td>\n",
       "    </tr>\n",
       "    <tr>\n",
       "      <th>256563</th>\n",
       "      <td>tt9911774</td>\n",
       "      <td>Padmavyuhathile Abhimanyu</td>\n",
       "      <td>Padmavyuhathile Abhimanyu</td>\n",
       "      <td>2019</td>\n",
       "      <td>130.0</td>\n",
       "      <td>Drama</td>\n",
       "      <td>8.4</td>\n",
       "      <td>365</td>\n",
       "      <td>3</td>\n",
       "      <td>Padmavyoohathile Abhimanyu</td>\n",
       "      <td>IN</td>\n",
       "    </tr>\n",
       "  </tbody>\n",
       "</table>\n",
       "<p>256564 rows × 11 columns</p>\n",
       "</div>"
      ],
      "text/plain": [
       "         movie_id                    primary_title  \\\n",
       "0       tt0066787  One Day Before the Rainy Season   \n",
       "1       tt0066787  One Day Before the Rainy Season   \n",
       "2       tt0066787  One Day Before the Rainy Season   \n",
       "3       tt0066787  One Day Before the Rainy Season   \n",
       "4       tt0069049       The Other Side of the Wind   \n",
       "...           ...                              ...   \n",
       "256559  tt9905462                        Pengalila   \n",
       "256560  tt9905462                        Pengalila   \n",
       "256561  tt9911774        Padmavyuhathile Abhimanyu   \n",
       "256562  tt9911774        Padmavyuhathile Abhimanyu   \n",
       "256563  tt9911774        Padmavyuhathile Abhimanyu   \n",
       "\n",
       "                    original_title  start_year  runtime_minutes  \\\n",
       "0                  Ashad Ka Ek Din        2019            114.0   \n",
       "1                  Ashad Ka Ek Din        2019            114.0   \n",
       "2                  Ashad Ka Ek Din        2019            114.0   \n",
       "3                  Ashad Ka Ek Din        2019            114.0   \n",
       "4       The Other Side of the Wind        2018            122.0   \n",
       "...                            ...         ...              ...   \n",
       "256559                   Pengalila        2019            111.0   \n",
       "256560                   Pengalila        2019            111.0   \n",
       "256561   Padmavyuhathile Abhimanyu        2019            130.0   \n",
       "256562   Padmavyuhathile Abhimanyu        2019            130.0   \n",
       "256563   Padmavyuhathile Abhimanyu        2019            130.0   \n",
       "\n",
       "                 genres  averagerating  numvotes  ordering  \\\n",
       "0       Biography,Drama            7.2        43         1   \n",
       "1       Biography,Drama            7.2        43         2   \n",
       "2       Biography,Drama            7.2        43         3   \n",
       "3       Biography,Drama            7.2        43         4   \n",
       "4                 Drama            6.9      4517        10   \n",
       "...                 ...            ...       ...       ...   \n",
       "256559            Drama            8.4       600         2   \n",
       "256560            Drama            8.4       600         3   \n",
       "256561            Drama            8.4       365         1   \n",
       "256562            Drama            8.4       365         2   \n",
       "256563            Drama            8.4       365         3   \n",
       "\n",
       "                           region_title region  \n",
       "0       One Day Before the Rainy Season    XWW  \n",
       "1                       Ashad Ka Ek Din     IN  \n",
       "2                       One Monsoon Day   None  \n",
       "3                       Ashad Ka Ek Din   None  \n",
       "4               La otra cara del viento     VE  \n",
       "...                                 ...    ...  \n",
       "256559                       Sisterleaf     IN  \n",
       "256560                        Pengalila     IN  \n",
       "256561        Padmavyuhathile Abhimanyu   None  \n",
       "256562       Pathmavyuhathile Abhimanyu     IN  \n",
       "256563       Padmavyoohathile Abhimanyu     IN  \n",
       "\n",
       "[256564 rows x 11 columns]"
      ]
     },
     "execution_count": 68,
     "metadata": {},
     "output_type": "execute_result"
    }
   ],
   "source": [
    "movie_merge = movie_merge.merge(movie_akas_cp, on='movie_id', how='inner')\n",
    "movie_merge = movie_merge.drop_duplicates()\n",
    "\n",
    "movie_merge"
   ]
  },
  {
   "cell_type": "markdown",
   "metadata": {},
   "source": [
    "## PEOPLES MERGE"
   ]
  },
  {
   "cell_type": "code",
   "execution_count": 69,
   "metadata": {},
   "outputs": [
    {
     "name": "stdout",
     "output_type": "stream",
     "text": [
      "(606648, 5)\n",
      "(291174, 2)\n",
      "(1638260, 2)\n",
      "(255873, 2)\n"
     ]
    }
   ],
   "source": [
    "print(imdb_tables['persons'].shape)\n",
    "print(imdb_tables['directors'].shape)\n",
    "print(imdb_tables['known_for'].shape)\n",
    "print(imdb_tables['writers'].shape)"
   ]
  },
  {
   "cell_type": "code",
   "execution_count": 70,
   "metadata": {},
   "outputs": [
    {
     "data": {
      "application/vnd.microsoft.datawrangler.viewer.v0+json": {
       "columns": [
        {
         "name": "index",
         "rawType": "int64",
         "type": "integer"
        },
        {
         "name": "person_id",
         "rawType": "object",
         "type": "string"
        },
        {
         "name": "primary_name",
         "rawType": "object",
         "type": "string"
        },
        {
         "name": "birth_year",
         "rawType": "float64",
         "type": "float"
        },
        {
         "name": "death_year",
         "rawType": "float64",
         "type": "float"
        },
        {
         "name": "primary_profession",
         "rawType": "object",
         "type": "unknown"
        }
       ],
       "ref": "f5a8dc22-effb-4d1d-95ae-9772798b7927",
       "rows": [
        [
         "0",
         "nm0061671",
         "Mary Ellen Bauder",
         null,
         null,
         "miscellaneous,production_manager,producer"
        ],
        [
         "1",
         "nm0061865",
         "Joseph Bauer",
         null,
         null,
         "composer,music_department,sound_department"
        ],
        [
         "2",
         "nm0062070",
         "Bruce Baum",
         null,
         null,
         "miscellaneous,actor,writer"
        ],
        [
         "3",
         "nm0062195",
         "Axel Baumann",
         null,
         null,
         "camera_department,cinematographer,art_department"
        ],
        [
         "4",
         "nm0062798",
         "Pete Baxter",
         null,
         null,
         "production_designer,art_department,set_decorator"
        ],
        [
         "5",
         "nm0062879",
         "Ruel S. Bayani",
         null,
         null,
         "director,production_manager,miscellaneous"
        ],
        [
         "6",
         "nm0063198",
         "Bayou",
         null,
         null,
         "actor"
        ],
        [
         "7",
         "nm0063432",
         "Stevie Be-Zet",
         null,
         null,
         "composer,soundtrack"
        ],
        [
         "8",
         "nm0063618",
         "Jeff Beal",
         "1963.0",
         null,
         "composer,music_department,soundtrack"
        ],
        [
         "9",
         "nm0063750",
         "Lindsay Beamish",
         null,
         null,
         "actress,miscellaneous"
        ],
        [
         "10",
         "nm0064023",
         "Bryan Beasley",
         null,
         null,
         "director,producer,writer"
        ],
        [
         "11",
         "nm0064350",
         "Martine Beauchemin",
         null,
         null,
         "producer,production_manager"
        ],
        [
         "12",
         "nm0065847",
         "Michael Frost Beckner",
         "1963.0",
         null,
         "writer,producer,miscellaneous"
        ],
        [
         "13",
         "nm0065919",
         "Will Becton",
         null,
         null,
         "miscellaneous,editor,editorial_department"
        ],
        [
         "14",
         "nm0066093",
         "Ahmad Bedair",
         "1945.0",
         null,
         "actor,miscellaneous"
        ],
        [
         "15",
         "nm0066163",
         "Arnaud Bedouët",
         null,
         null,
         "actor,writer,director"
        ],
        [
         "16",
         "nm0066268",
         "Steve Mitchell Beebe",
         null,
         null,
         "editorial_department,director,editor"
        ],
        [
         "17",
         "nm0066897",
         "Mohammad-Ali Behboudi",
         "1956.0",
         null,
         "actor"
        ],
        [
         "18",
         "nm0067234",
         "Hans Beimler",
         null,
         null,
         "producer,writer,miscellaneous"
        ],
        [
         "19",
         "nm0067845",
         "Sondos Belhassen",
         null,
         null,
         "actress"
        ],
        [
         "20",
         "nm0067983",
         "Krunoslav Belko",
         "1971.0",
         null,
         "actor"
        ],
        [
         "21",
         "nm0068170",
         "Dylan Bell",
         null,
         null,
         "director,actor,producer"
        ],
        [
         "22",
         "nm0068657",
         "Philippe Bellaiche",
         null,
         null,
         "cinematographer,camera_department,producer"
        ],
        [
         "23",
         "nm0068874",
         "Hava Kohav Beller",
         null,
         null,
         "director,writer,producer"
        ],
        [
         "24",
         "nm0069131",
         "Gregg Bello",
         null,
         null,
         "actor,producer"
        ],
        [
         "25",
         "nm0069225",
         "Gavin Bellour",
         null,
         null,
         "actor,producer,composer"
        ],
        [
         "26",
         "nm0069605",
         "Bruno Beltramini",
         null,
         null,
         "cinematographer,visual_effects,camera_department"
        ],
        [
         "27",
         "nm0069757",
         "Olga Belyavskaya",
         null,
         null,
         "actress,miscellaneous"
        ],
        [
         "28",
         "nm0069990",
         "Jorge Ben Jor",
         "1942.0",
         null,
         "soundtrack,composer,actor"
        ],
        [
         "29",
         "nm0070216",
         "John Paul Fedele",
         null,
         null,
         "actor,cinematographer,special_effects"
        ],
        [
         "30",
         "nm0070482",
         "Joel Bender",
         "1948.0",
         null,
         "editor,director,writer"
        ],
        [
         "31",
         "nm0070822",
         "Terry Benedict",
         null,
         null,
         "producer,director,assistant_director"
        ],
        [
         "32",
         "nm0071116",
         "Valérie Benguigui",
         "1961.0",
         "2013.0",
         "actress,soundtrack"
        ],
        [
         "33",
         "nm0072456",
         "Chris Benson",
         "1974.0",
         null,
         "cinematographer,camera_department,producer"
        ],
        [
         "34",
         "nm0072476",
         "Doug Benson",
         "1962.0",
         null,
         "actor,producer,writer"
        ],
        [
         "35",
         "nm0073061",
         "Roberto Benvenuti",
         null,
         null,
         "cinematographer,camera_department,miscellaneous"
        ],
        [
         "36",
         "nm0073146",
         "Gina Lola Benzina",
         null,
         null,
         "actress,make_up_department"
        ],
        [
         "37",
         "nm0073381",
         "Roxana Berco",
         null,
         null,
         "actress"
        ],
        [
         "38",
         "nm0073426",
         "Laxmikant Berde",
         "1954.0",
         "2004.0",
         "actor"
        ],
        [
         "39",
         "nm0074009",
         "Richard Berge",
         null,
         null,
         "producer,miscellaneous,writer"
        ],
        [
         "40",
         "nm0074445",
         "Jean-François Bergeron",
         null,
         null,
         "editor,editorial_department,actor"
        ],
        [
         "41",
         "nm0075049",
         "Urban Bergsten",
         null,
         null,
         "actor,writer,director"
        ],
        [
         "42",
         "nm0075666",
         "Joe Berlinger",
         "1961.0",
         null,
         "producer,director,camera_department"
        ],
        [
         "43",
         "nm0076139",
         "Andrée Bernard",
         "1966.0",
         null,
         "actress"
        ],
        [
         "44",
         "nm0076559",
         "Carlos Bernases",
         null,
         null,
         "production_manager,producer,casting_department"
        ],
        [
         "45",
         "nm0077024",
         "Daniel Bernstein",
         null,
         null,
         "composer,sound_department"
        ],
        [
         "46",
         "nm0077067",
         "Jamie Bernstein",
         "1952.0",
         null,
         "director,actress,writer"
        ],
        [
         "47",
         "nm0080566",
         "Martín Bianchedi",
         "1955.0",
         null,
         "composer,music_department,sound_department"
        ],
        [
         "48",
         "nm0080787",
         "Dusty Bias",
         null,
         null,
         "writer,director,producer"
        ],
        [
         "49",
         "nm0081060",
         "Grace Cary Bickley",
         null,
         null,
         "writer,actress,producer"
        ]
       ],
       "shape": {
        "columns": 5,
        "rows": 606648
       }
      },
      "text/html": [
       "<div>\n",
       "<style scoped>\n",
       "    .dataframe tbody tr th:only-of-type {\n",
       "        vertical-align: middle;\n",
       "    }\n",
       "\n",
       "    .dataframe tbody tr th {\n",
       "        vertical-align: top;\n",
       "    }\n",
       "\n",
       "    .dataframe thead th {\n",
       "        text-align: right;\n",
       "    }\n",
       "</style>\n",
       "<table border=\"1\" class=\"dataframe\">\n",
       "  <thead>\n",
       "    <tr style=\"text-align: right;\">\n",
       "      <th></th>\n",
       "      <th>person_id</th>\n",
       "      <th>primary_name</th>\n",
       "      <th>birth_year</th>\n",
       "      <th>death_year</th>\n",
       "      <th>primary_profession</th>\n",
       "    </tr>\n",
       "  </thead>\n",
       "  <tbody>\n",
       "    <tr>\n",
       "      <th>0</th>\n",
       "      <td>nm0061671</td>\n",
       "      <td>Mary Ellen Bauder</td>\n",
       "      <td>NaN</td>\n",
       "      <td>NaN</td>\n",
       "      <td>miscellaneous,production_manager,producer</td>\n",
       "    </tr>\n",
       "    <tr>\n",
       "      <th>1</th>\n",
       "      <td>nm0061865</td>\n",
       "      <td>Joseph Bauer</td>\n",
       "      <td>NaN</td>\n",
       "      <td>NaN</td>\n",
       "      <td>composer,music_department,sound_department</td>\n",
       "    </tr>\n",
       "    <tr>\n",
       "      <th>2</th>\n",
       "      <td>nm0062070</td>\n",
       "      <td>Bruce Baum</td>\n",
       "      <td>NaN</td>\n",
       "      <td>NaN</td>\n",
       "      <td>miscellaneous,actor,writer</td>\n",
       "    </tr>\n",
       "    <tr>\n",
       "      <th>3</th>\n",
       "      <td>nm0062195</td>\n",
       "      <td>Axel Baumann</td>\n",
       "      <td>NaN</td>\n",
       "      <td>NaN</td>\n",
       "      <td>camera_department,cinematographer,art_department</td>\n",
       "    </tr>\n",
       "    <tr>\n",
       "      <th>4</th>\n",
       "      <td>nm0062798</td>\n",
       "      <td>Pete Baxter</td>\n",
       "      <td>NaN</td>\n",
       "      <td>NaN</td>\n",
       "      <td>production_designer,art_department,set_decorator</td>\n",
       "    </tr>\n",
       "    <tr>\n",
       "      <th>...</th>\n",
       "      <td>...</td>\n",
       "      <td>...</td>\n",
       "      <td>...</td>\n",
       "      <td>...</td>\n",
       "      <td>...</td>\n",
       "    </tr>\n",
       "    <tr>\n",
       "      <th>606643</th>\n",
       "      <td>nm9990381</td>\n",
       "      <td>Susan Grobes</td>\n",
       "      <td>NaN</td>\n",
       "      <td>NaN</td>\n",
       "      <td>actress</td>\n",
       "    </tr>\n",
       "    <tr>\n",
       "      <th>606644</th>\n",
       "      <td>nm9990690</td>\n",
       "      <td>Joo Yeon So</td>\n",
       "      <td>NaN</td>\n",
       "      <td>NaN</td>\n",
       "      <td>actress</td>\n",
       "    </tr>\n",
       "    <tr>\n",
       "      <th>606645</th>\n",
       "      <td>nm9991320</td>\n",
       "      <td>Madeline Smith</td>\n",
       "      <td>NaN</td>\n",
       "      <td>NaN</td>\n",
       "      <td>actress</td>\n",
       "    </tr>\n",
       "    <tr>\n",
       "      <th>606646</th>\n",
       "      <td>nm9991786</td>\n",
       "      <td>Michelle Modigliani</td>\n",
       "      <td>NaN</td>\n",
       "      <td>NaN</td>\n",
       "      <td>producer</td>\n",
       "    </tr>\n",
       "    <tr>\n",
       "      <th>606647</th>\n",
       "      <td>nm9993380</td>\n",
       "      <td>Pegasus Envoyé</td>\n",
       "      <td>NaN</td>\n",
       "      <td>NaN</td>\n",
       "      <td>director,actor,writer</td>\n",
       "    </tr>\n",
       "  </tbody>\n",
       "</table>\n",
       "<p>606648 rows × 5 columns</p>\n",
       "</div>"
      ],
      "text/plain": [
       "        person_id         primary_name  birth_year  death_year  \\\n",
       "0       nm0061671    Mary Ellen Bauder         NaN         NaN   \n",
       "1       nm0061865         Joseph Bauer         NaN         NaN   \n",
       "2       nm0062070           Bruce Baum         NaN         NaN   \n",
       "3       nm0062195         Axel Baumann         NaN         NaN   \n",
       "4       nm0062798          Pete Baxter         NaN         NaN   \n",
       "...           ...                  ...         ...         ...   \n",
       "606643  nm9990381         Susan Grobes         NaN         NaN   \n",
       "606644  nm9990690          Joo Yeon So         NaN         NaN   \n",
       "606645  nm9991320       Madeline Smith         NaN         NaN   \n",
       "606646  nm9991786  Michelle Modigliani         NaN         NaN   \n",
       "606647  nm9993380       Pegasus Envoyé         NaN         NaN   \n",
       "\n",
       "                                      primary_profession  \n",
       "0              miscellaneous,production_manager,producer  \n",
       "1             composer,music_department,sound_department  \n",
       "2                             miscellaneous,actor,writer  \n",
       "3       camera_department,cinematographer,art_department  \n",
       "4       production_designer,art_department,set_decorator  \n",
       "...                                                  ...  \n",
       "606643                                           actress  \n",
       "606644                                           actress  \n",
       "606645                                           actress  \n",
       "606646                                          producer  \n",
       "606647                             director,actor,writer  \n",
       "\n",
       "[606648 rows x 5 columns]"
      ]
     },
     "execution_count": 70,
     "metadata": {},
     "output_type": "execute_result"
    }
   ],
   "source": [
    "persons_cp= imdb_tables[\"persons\"].copy(deep=True)\n",
    "persons_cp"
   ]
  },
  {
   "cell_type": "code",
   "execution_count": 71,
   "metadata": {},
   "outputs": [
    {
     "name": "stdout",
     "output_type": "stream",
     "text": [
      "<class 'pandas.core.frame.DataFrame'>\n",
      "RangeIndex: 606648 entries, 0 to 606647\n",
      "Data columns (total 5 columns):\n",
      " #   Column              Non-Null Count   Dtype  \n",
      "---  ------              --------------   -----  \n",
      " 0   person_id           606648 non-null  object \n",
      " 1   primary_name        606648 non-null  object \n",
      " 2   birth_year          82736 non-null   float64\n",
      " 3   death_year          6783 non-null    float64\n",
      " 4   primary_profession  555308 non-null  object \n",
      "dtypes: float64(2), object(3)\n",
      "memory usage: 23.1+ MB\n",
      "person_id                  0\n",
      "primary_name               0\n",
      "birth_year            523912\n",
      "death_year            599865\n",
      "primary_profession     51340\n",
      "dtype: int64\n"
     ]
    }
   ],
   "source": [
    "persons_cp.shape\n",
    "persons_cp.head()\n",
    "persons_cp.info()\n",
    "persons_cp.describe()\n",
    "print(persons_cp.isna().sum())"
   ]
  },
  {
   "cell_type": "code",
   "execution_count": 72,
   "metadata": {},
   "outputs": [
    {
     "data": {
      "application/vnd.microsoft.datawrangler.viewer.v0+json": {
       "columns": [
        {
         "name": "index",
         "rawType": "object",
         "type": "string"
        },
        {
         "name": "0",
         "rawType": "int64",
         "type": "integer"
        }
       ],
       "ref": "b1d8e626-9049-4a87-a22e-56fd08bfc5d9",
       "rows": [
        [
         "person_id",
         "0"
        ],
        [
         "primary_name",
         "0"
        ],
        [
         "birth_year",
         "523912"
        ],
        [
         "death_year",
         "599865"
        ],
        [
         "primary_profession",
         "51340"
        ]
       ],
       "shape": {
        "columns": 1,
        "rows": 5
       }
      },
      "text/plain": [
       "person_id                  0\n",
       "primary_name               0\n",
       "birth_year            523912\n",
       "death_year            599865\n",
       "primary_profession     51340\n",
       "dtype: int64"
      ]
     },
     "execution_count": 72,
     "metadata": {},
     "output_type": "execute_result"
    }
   ],
   "source": [
    "persons_cp['primary_profession'].fillna('unknown')\n",
    "persons_cp.isnull().sum()"
   ]
  },
  {
   "cell_type": "code",
   "execution_count": 73,
   "metadata": {},
   "outputs": [],
   "source": [
    "persons_cp = persons_cp.drop(columns=['birth_year', 'death_year'])"
   ]
  },
  {
   "cell_type": "code",
   "execution_count": 74,
   "metadata": {},
   "outputs": [
    {
     "data": {
      "application/vnd.microsoft.datawrangler.viewer.v0+json": {
       "columns": [
        {
         "name": "index",
         "rawType": "int64",
         "type": "integer"
        },
        {
         "name": "person_id",
         "rawType": "object",
         "type": "string"
        },
        {
         "name": "primary_name",
         "rawType": "object",
         "type": "string"
        },
        {
         "name": "primary_profession",
         "rawType": "object",
         "type": "unknown"
        }
       ],
       "ref": "44cd9475-d660-44ab-ba42-30e06e14301c",
       "rows": [
        [
         "0",
         "nm0061671",
         "Mary Ellen Bauder",
         "miscellaneous,production_manager,producer"
        ],
        [
         "1",
         "nm0061865",
         "Joseph Bauer",
         "composer,music_department,sound_department"
        ],
        [
         "2",
         "nm0062070",
         "Bruce Baum",
         "miscellaneous,actor,writer"
        ],
        [
         "3",
         "nm0062195",
         "Axel Baumann",
         "camera_department,cinematographer,art_department"
        ],
        [
         "4",
         "nm0062798",
         "Pete Baxter",
         "production_designer,art_department,set_decorator"
        ],
        [
         "5",
         "nm0062879",
         "Ruel S. Bayani",
         "director,production_manager,miscellaneous"
        ],
        [
         "6",
         "nm0063198",
         "Bayou",
         "actor"
        ],
        [
         "7",
         "nm0063432",
         "Stevie Be-Zet",
         "composer,soundtrack"
        ],
        [
         "8",
         "nm0063618",
         "Jeff Beal",
         "composer,music_department,soundtrack"
        ],
        [
         "9",
         "nm0063750",
         "Lindsay Beamish",
         "actress,miscellaneous"
        ],
        [
         "10",
         "nm0064023",
         "Bryan Beasley",
         "director,producer,writer"
        ],
        [
         "11",
         "nm0064350",
         "Martine Beauchemin",
         "producer,production_manager"
        ],
        [
         "12",
         "nm0065847",
         "Michael Frost Beckner",
         "writer,producer,miscellaneous"
        ],
        [
         "13",
         "nm0065919",
         "Will Becton",
         "miscellaneous,editor,editorial_department"
        ],
        [
         "14",
         "nm0066093",
         "Ahmad Bedair",
         "actor,miscellaneous"
        ],
        [
         "15",
         "nm0066163",
         "Arnaud Bedouët",
         "actor,writer,director"
        ],
        [
         "16",
         "nm0066268",
         "Steve Mitchell Beebe",
         "editorial_department,director,editor"
        ],
        [
         "17",
         "nm0066897",
         "Mohammad-Ali Behboudi",
         "actor"
        ],
        [
         "18",
         "nm0067234",
         "Hans Beimler",
         "producer,writer,miscellaneous"
        ],
        [
         "19",
         "nm0067845",
         "Sondos Belhassen",
         "actress"
        ],
        [
         "20",
         "nm0067983",
         "Krunoslav Belko",
         "actor"
        ],
        [
         "21",
         "nm0068170",
         "Dylan Bell",
         "director,actor,producer"
        ],
        [
         "22",
         "nm0068657",
         "Philippe Bellaiche",
         "cinematographer,camera_department,producer"
        ],
        [
         "23",
         "nm0068874",
         "Hava Kohav Beller",
         "director,writer,producer"
        ],
        [
         "24",
         "nm0069131",
         "Gregg Bello",
         "actor,producer"
        ],
        [
         "25",
         "nm0069225",
         "Gavin Bellour",
         "actor,producer,composer"
        ],
        [
         "26",
         "nm0069605",
         "Bruno Beltramini",
         "cinematographer,visual_effects,camera_department"
        ],
        [
         "27",
         "nm0069757",
         "Olga Belyavskaya",
         "actress,miscellaneous"
        ],
        [
         "28",
         "nm0069990",
         "Jorge Ben Jor",
         "soundtrack,composer,actor"
        ],
        [
         "29",
         "nm0070216",
         "John Paul Fedele",
         "actor,cinematographer,special_effects"
        ],
        [
         "30",
         "nm0070482",
         "Joel Bender",
         "editor,director,writer"
        ],
        [
         "31",
         "nm0070822",
         "Terry Benedict",
         "producer,director,assistant_director"
        ],
        [
         "32",
         "nm0071116",
         "Valérie Benguigui",
         "actress,soundtrack"
        ],
        [
         "33",
         "nm0072456",
         "Chris Benson",
         "cinematographer,camera_department,producer"
        ],
        [
         "34",
         "nm0072476",
         "Doug Benson",
         "actor,producer,writer"
        ],
        [
         "35",
         "nm0073061",
         "Roberto Benvenuti",
         "cinematographer,camera_department,miscellaneous"
        ],
        [
         "36",
         "nm0073146",
         "Gina Lola Benzina",
         "actress,make_up_department"
        ],
        [
         "37",
         "nm0073381",
         "Roxana Berco",
         "actress"
        ],
        [
         "38",
         "nm0073426",
         "Laxmikant Berde",
         "actor"
        ],
        [
         "39",
         "nm0074009",
         "Richard Berge",
         "producer,miscellaneous,writer"
        ],
        [
         "40",
         "nm0074445",
         "Jean-François Bergeron",
         "editor,editorial_department,actor"
        ],
        [
         "41",
         "nm0075049",
         "Urban Bergsten",
         "actor,writer,director"
        ],
        [
         "42",
         "nm0075666",
         "Joe Berlinger",
         "producer,director,camera_department"
        ],
        [
         "43",
         "nm0076139",
         "Andrée Bernard",
         "actress"
        ],
        [
         "44",
         "nm0076559",
         "Carlos Bernases",
         "production_manager,producer,casting_department"
        ],
        [
         "45",
         "nm0077024",
         "Daniel Bernstein",
         "composer,sound_department"
        ],
        [
         "46",
         "nm0077067",
         "Jamie Bernstein",
         "director,actress,writer"
        ],
        [
         "47",
         "nm0080566",
         "Martín Bianchedi",
         "composer,music_department,sound_department"
        ],
        [
         "48",
         "nm0080787",
         "Dusty Bias",
         "writer,director,producer"
        ],
        [
         "49",
         "nm0081060",
         "Grace Cary Bickley",
         "writer,actress,producer"
        ]
       ],
       "shape": {
        "columns": 3,
        "rows": 606648
       }
      },
      "text/html": [
       "<div>\n",
       "<style scoped>\n",
       "    .dataframe tbody tr th:only-of-type {\n",
       "        vertical-align: middle;\n",
       "    }\n",
       "\n",
       "    .dataframe tbody tr th {\n",
       "        vertical-align: top;\n",
       "    }\n",
       "\n",
       "    .dataframe thead th {\n",
       "        text-align: right;\n",
       "    }\n",
       "</style>\n",
       "<table border=\"1\" class=\"dataframe\">\n",
       "  <thead>\n",
       "    <tr style=\"text-align: right;\">\n",
       "      <th></th>\n",
       "      <th>person_id</th>\n",
       "      <th>primary_name</th>\n",
       "      <th>primary_profession</th>\n",
       "    </tr>\n",
       "  </thead>\n",
       "  <tbody>\n",
       "    <tr>\n",
       "      <th>0</th>\n",
       "      <td>nm0061671</td>\n",
       "      <td>Mary Ellen Bauder</td>\n",
       "      <td>miscellaneous,production_manager,producer</td>\n",
       "    </tr>\n",
       "    <tr>\n",
       "      <th>1</th>\n",
       "      <td>nm0061865</td>\n",
       "      <td>Joseph Bauer</td>\n",
       "      <td>composer,music_department,sound_department</td>\n",
       "    </tr>\n",
       "    <tr>\n",
       "      <th>2</th>\n",
       "      <td>nm0062070</td>\n",
       "      <td>Bruce Baum</td>\n",
       "      <td>miscellaneous,actor,writer</td>\n",
       "    </tr>\n",
       "    <tr>\n",
       "      <th>3</th>\n",
       "      <td>nm0062195</td>\n",
       "      <td>Axel Baumann</td>\n",
       "      <td>camera_department,cinematographer,art_department</td>\n",
       "    </tr>\n",
       "    <tr>\n",
       "      <th>4</th>\n",
       "      <td>nm0062798</td>\n",
       "      <td>Pete Baxter</td>\n",
       "      <td>production_designer,art_department,set_decorator</td>\n",
       "    </tr>\n",
       "    <tr>\n",
       "      <th>...</th>\n",
       "      <td>...</td>\n",
       "      <td>...</td>\n",
       "      <td>...</td>\n",
       "    </tr>\n",
       "    <tr>\n",
       "      <th>606643</th>\n",
       "      <td>nm9990381</td>\n",
       "      <td>Susan Grobes</td>\n",
       "      <td>actress</td>\n",
       "    </tr>\n",
       "    <tr>\n",
       "      <th>606644</th>\n",
       "      <td>nm9990690</td>\n",
       "      <td>Joo Yeon So</td>\n",
       "      <td>actress</td>\n",
       "    </tr>\n",
       "    <tr>\n",
       "      <th>606645</th>\n",
       "      <td>nm9991320</td>\n",
       "      <td>Madeline Smith</td>\n",
       "      <td>actress</td>\n",
       "    </tr>\n",
       "    <tr>\n",
       "      <th>606646</th>\n",
       "      <td>nm9991786</td>\n",
       "      <td>Michelle Modigliani</td>\n",
       "      <td>producer</td>\n",
       "    </tr>\n",
       "    <tr>\n",
       "      <th>606647</th>\n",
       "      <td>nm9993380</td>\n",
       "      <td>Pegasus Envoyé</td>\n",
       "      <td>director,actor,writer</td>\n",
       "    </tr>\n",
       "  </tbody>\n",
       "</table>\n",
       "<p>606648 rows × 3 columns</p>\n",
       "</div>"
      ],
      "text/plain": [
       "        person_id         primary_name  \\\n",
       "0       nm0061671    Mary Ellen Bauder   \n",
       "1       nm0061865         Joseph Bauer   \n",
       "2       nm0062070           Bruce Baum   \n",
       "3       nm0062195         Axel Baumann   \n",
       "4       nm0062798          Pete Baxter   \n",
       "...           ...                  ...   \n",
       "606643  nm9990381         Susan Grobes   \n",
       "606644  nm9990690          Joo Yeon So   \n",
       "606645  nm9991320       Madeline Smith   \n",
       "606646  nm9991786  Michelle Modigliani   \n",
       "606647  nm9993380       Pegasus Envoyé   \n",
       "\n",
       "                                      primary_profession  \n",
       "0              miscellaneous,production_manager,producer  \n",
       "1             composer,music_department,sound_department  \n",
       "2                             miscellaneous,actor,writer  \n",
       "3       camera_department,cinematographer,art_department  \n",
       "4       production_designer,art_department,set_decorator  \n",
       "...                                                  ...  \n",
       "606643                                           actress  \n",
       "606644                                           actress  \n",
       "606645                                           actress  \n",
       "606646                                          producer  \n",
       "606647                             director,actor,writer  \n",
       "\n",
       "[606648 rows x 3 columns]"
      ]
     },
     "execution_count": 74,
     "metadata": {},
     "output_type": "execute_result"
    }
   ],
   "source": [
    "persons_cp"
   ]
  },
  {
   "cell_type": "code",
   "execution_count": 75,
   "metadata": {},
   "outputs": [
    {
     "name": "stdout",
     "output_type": "stream",
     "text": [
      "<class 'pandas.core.frame.DataFrame'>\n",
      "RangeIndex: 291174 entries, 0 to 291173\n",
      "Data columns (total 2 columns):\n",
      " #   Column     Non-Null Count   Dtype \n",
      "---  ------     --------------   ----- \n",
      " 0   movie_id   291174 non-null  object\n",
      " 1   person_id  291174 non-null  object\n",
      "dtypes: object(2)\n",
      "memory usage: 4.4+ MB\n"
     ]
    }
   ],
   "source": [
    "directors = imdb_tables['directors']\n",
    "directors.shape\n",
    "directors.isna().any()\n",
    "directors.duplicated().sum()\n",
    "directors.info()"
   ]
  },
  {
   "cell_type": "code",
   "execution_count": 76,
   "metadata": {},
   "outputs": [],
   "source": [
    "directors_cp = directors.copy(deep=True)"
   ]
  },
  {
   "cell_type": "code",
   "execution_count": 77,
   "metadata": {},
   "outputs": [
    {
     "data": {
      "application/vnd.microsoft.datawrangler.viewer.v0+json": {
       "columns": [
        {
         "name": "index",
         "rawType": "int64",
         "type": "integer"
        },
        {
         "name": "person_id",
         "rawType": "object",
         "type": "string"
        },
        {
         "name": "primary_name",
         "rawType": "object",
         "type": "string"
        },
        {
         "name": "primary_profession",
         "rawType": "object",
         "type": "unknown"
        },
        {
         "name": "movie_id",
         "rawType": "object",
         "type": "string"
        }
       ],
       "ref": "43266fcd-c5cd-4102-8c44-1100fddc034b",
       "rows": [
        [
         "0",
         "nm0062879",
         "Ruel S. Bayani",
         "director,production_manager,miscellaneous",
         "tt1592569"
        ],
        [
         "1",
         "nm0062879",
         "Ruel S. Bayani",
         "director,production_manager,miscellaneous",
         "tt1592569"
        ],
        [
         "2",
         "nm0062879",
         "Ruel S. Bayani",
         "director,production_manager,miscellaneous",
         "tt1592569"
        ],
        [
         "3",
         "nm0062879",
         "Ruel S. Bayani",
         "director,production_manager,miscellaneous",
         "tt1592569"
        ],
        [
         "4",
         "nm0062879",
         "Ruel S. Bayani",
         "director,production_manager,miscellaneous",
         "tt8421806"
        ],
        [
         "5",
         "nm0062879",
         "Ruel S. Bayani",
         "director,production_manager,miscellaneous",
         "tt8421806"
        ],
        [
         "6",
         "nm0062879",
         "Ruel S. Bayani",
         "director,production_manager,miscellaneous",
         "tt2057445"
        ],
        [
         "7",
         "nm0062879",
         "Ruel S. Bayani",
         "director,production_manager,miscellaneous",
         "tt2057445"
        ],
        [
         "8",
         "nm0062879",
         "Ruel S. Bayani",
         "director,production_manager,miscellaneous",
         "tt2057445"
        ],
        [
         "9",
         "nm0062879",
         "Ruel S. Bayani",
         "director,production_manager,miscellaneous",
         "tt2590280"
        ],
        [
         "10",
         "nm0064023",
         "Bryan Beasley",
         "director,producer,writer",
         "tt4512140"
        ],
        [
         "11",
         "nm0064023",
         "Bryan Beasley",
         "director,producer,writer",
         "tt3501180"
        ],
        [
         "12",
         "nm0066268",
         "Steve Mitchell Beebe",
         "editorial_department,director,editor",
         "tt5521860"
        ],
        [
         "13",
         "nm0067234",
         "Hans Beimler",
         "producer,writer,miscellaneous",
         "tt2098699"
        ],
        [
         "14",
         "nm0068874",
         "Hava Kohav Beller",
         "director,writer,producer",
         "tt7701650"
        ],
        [
         "15",
         "nm0070482",
         "Joel Bender",
         "editor,director,writer",
         "tt1016090"
        ],
        [
         "16",
         "nm0070482",
         "Joel Bender",
         "editor,director,writer",
         "tt3790232"
        ],
        [
         "17",
         "nm0070482",
         "Joel Bender",
         "editor,director,writer",
         "tt3790232"
        ],
        [
         "18",
         "nm0075666",
         "Joe Berlinger",
         "producer,director,camera_department",
         "tt5151716"
        ],
        [
         "19",
         "nm0075666",
         "Joe Berlinger",
         "producer,director,camera_department",
         "tt2112868"
        ],
        [
         "20",
         "nm0075666",
         "Joe Berlinger",
         "producer,director,camera_department",
         "tt2028530"
        ],
        [
         "21",
         "nm0075666",
         "Joe Berlinger",
         "producer,director,camera_department",
         "tt2481498"
        ],
        [
         "22",
         "nm0075666",
         "Joe Berlinger",
         "producer,director,camera_department",
         "tt2481498"
        ],
        [
         "23",
         "nm0075666",
         "Joe Berlinger",
         "producer,director,camera_department",
         "tt6794462"
        ],
        [
         "24",
         "nm0075666",
         "Joe Berlinger",
         "producer,director,camera_department",
         "tt6794462"
        ],
        [
         "25",
         "nm0075666",
         "Joe Berlinger",
         "producer,director,camera_department",
         "tt4104086"
        ],
        [
         "26",
         "nm0075666",
         "Joe Berlinger",
         "producer,director,camera_department",
         "tt4104086"
        ],
        [
         "27",
         "nm0075666",
         "Joe Berlinger",
         "producer,director,camera_department",
         "tt4104086"
        ],
        [
         "28",
         "nm0075666",
         "Joe Berlinger",
         "producer,director,camera_department",
         "tt4104086"
        ],
        [
         "29",
         "nm0075666",
         "Joe Berlinger",
         "producer,director,camera_department",
         "tt3326366"
        ],
        [
         "30",
         "nm0075666",
         "Joe Berlinger",
         "producer,director,camera_department",
         "tt3137552"
        ],
        [
         "31",
         "nm0077067",
         "Jamie Bernstein",
         "director,actress,writer",
         "tt4601198"
        ],
        [
         "32",
         "nm0077067",
         "Jamie Bernstein",
         "director,actress,writer",
         "tt3909442"
        ],
        [
         "33",
         "nm0080787",
         "Dusty Bias",
         "writer,director,producer",
         "tt4794754"
        ],
        [
         "34",
         "nm0080787",
         "Dusty Bias",
         "writer,director,producer",
         "tt1374996"
        ],
        [
         "35",
         "nm0080787",
         "Dusty Bias",
         "writer,director,producer",
         "tt1374996"
        ],
        [
         "36",
         "nm0080787",
         "Dusty Bias",
         "writer,director,producer",
         "tt1374996"
        ],
        [
         "37",
         "nm0082154",
         "Miro Bilbrough",
         "miscellaneous,director,writer",
         "tt2012110"
        ],
        [
         "38",
         "nm0083767",
         "Fernando Birri",
         "director,actor,writer",
         "tt1854526"
        ],
        [
         "39",
         "nm0083767",
         "Fernando Birri",
         "director,actor,writer",
         "tt1854526"
        ],
        [
         "40",
         "nm0083767",
         "Fernando Birri",
         "director,actor,writer",
         "tt1854526"
        ],
        [
         "41",
         "nm0086051",
         "Bob Blagden",
         "director,art_department,writer",
         "tt1712204"
        ],
        [
         "42",
         "nm0086051",
         "Bob Blagden",
         "director,art_department,writer",
         "tt1712204"
        ],
        [
         "43",
         "nm0087933",
         "Jacek Blawut",
         "cinematographer,miscellaneous,director",
         "tt2508838"
        ],
        [
         "44",
         "nm0088531",
         "Ryan Bliss",
         "director,writer,producer",
         "tt6550978"
        ],
        [
         "45",
         "nm0088888",
         "Eric Blom",
         "director,camera_department,writer",
         "tt8407740"
        ],
        [
         "46",
         "nm0088888",
         "Eric Blom",
         "director,camera_department,writer",
         "tt8407740"
        ],
        [
         "47",
         "nm0088888",
         "Eric Blom",
         "director,camera_department,writer",
         "tt8407740"
        ],
        [
         "48",
         "nm0089850",
         "Lars Blumers",
         "director,writer,producer",
         "tt1825703"
        ],
        [
         "49",
         "nm0089850",
         "Lars Blumers",
         "director,writer,producer",
         "tt1825703"
        ]
       ],
       "shape": {
        "columns": 4,
        "rows": 291171
       }
      },
      "text/html": [
       "<div>\n",
       "<style scoped>\n",
       "    .dataframe tbody tr th:only-of-type {\n",
       "        vertical-align: middle;\n",
       "    }\n",
       "\n",
       "    .dataframe tbody tr th {\n",
       "        vertical-align: top;\n",
       "    }\n",
       "\n",
       "    .dataframe thead th {\n",
       "        text-align: right;\n",
       "    }\n",
       "</style>\n",
       "<table border=\"1\" class=\"dataframe\">\n",
       "  <thead>\n",
       "    <tr style=\"text-align: right;\">\n",
       "      <th></th>\n",
       "      <th>person_id</th>\n",
       "      <th>primary_name</th>\n",
       "      <th>primary_profession</th>\n",
       "      <th>movie_id</th>\n",
       "    </tr>\n",
       "  </thead>\n",
       "  <tbody>\n",
       "    <tr>\n",
       "      <th>0</th>\n",
       "      <td>nm0062879</td>\n",
       "      <td>Ruel S. Bayani</td>\n",
       "      <td>director,production_manager,miscellaneous</td>\n",
       "      <td>tt1592569</td>\n",
       "    </tr>\n",
       "    <tr>\n",
       "      <th>1</th>\n",
       "      <td>nm0062879</td>\n",
       "      <td>Ruel S. Bayani</td>\n",
       "      <td>director,production_manager,miscellaneous</td>\n",
       "      <td>tt1592569</td>\n",
       "    </tr>\n",
       "    <tr>\n",
       "      <th>2</th>\n",
       "      <td>nm0062879</td>\n",
       "      <td>Ruel S. Bayani</td>\n",
       "      <td>director,production_manager,miscellaneous</td>\n",
       "      <td>tt1592569</td>\n",
       "    </tr>\n",
       "    <tr>\n",
       "      <th>3</th>\n",
       "      <td>nm0062879</td>\n",
       "      <td>Ruel S. Bayani</td>\n",
       "      <td>director,production_manager,miscellaneous</td>\n",
       "      <td>tt1592569</td>\n",
       "    </tr>\n",
       "    <tr>\n",
       "      <th>4</th>\n",
       "      <td>nm0062879</td>\n",
       "      <td>Ruel S. Bayani</td>\n",
       "      <td>director,production_manager,miscellaneous</td>\n",
       "      <td>tt8421806</td>\n",
       "    </tr>\n",
       "    <tr>\n",
       "      <th>...</th>\n",
       "      <td>...</td>\n",
       "      <td>...</td>\n",
       "      <td>...</td>\n",
       "      <td>...</td>\n",
       "    </tr>\n",
       "    <tr>\n",
       "      <th>291166</th>\n",
       "      <td>nm9980896</td>\n",
       "      <td>Rama Narayanan</td>\n",
       "      <td>director,writer</td>\n",
       "      <td>tt8715016</td>\n",
       "    </tr>\n",
       "    <tr>\n",
       "      <th>291167</th>\n",
       "      <td>nm9980896</td>\n",
       "      <td>Rama Narayanan</td>\n",
       "      <td>director,writer</td>\n",
       "      <td>tt8919136</td>\n",
       "    </tr>\n",
       "    <tr>\n",
       "      <th>291168</th>\n",
       "      <td>nm9981679</td>\n",
       "      <td>Samir Eshra</td>\n",
       "      <td>director,writer,cinematographer</td>\n",
       "      <td>tt8717234</td>\n",
       "    </tr>\n",
       "    <tr>\n",
       "      <th>291169</th>\n",
       "      <td>nm9993380</td>\n",
       "      <td>Pegasus Envoyé</td>\n",
       "      <td>director,actor,writer</td>\n",
       "      <td>tt8743182</td>\n",
       "    </tr>\n",
       "    <tr>\n",
       "      <th>291170</th>\n",
       "      <td>nm9993380</td>\n",
       "      <td>Pegasus Envoyé</td>\n",
       "      <td>director,actor,writer</td>\n",
       "      <td>tt8743182</td>\n",
       "    </tr>\n",
       "  </tbody>\n",
       "</table>\n",
       "<p>291171 rows × 4 columns</p>\n",
       "</div>"
      ],
      "text/plain": [
       "        person_id    primary_name                         primary_profession  \\\n",
       "0       nm0062879  Ruel S. Bayani  director,production_manager,miscellaneous   \n",
       "1       nm0062879  Ruel S. Bayani  director,production_manager,miscellaneous   \n",
       "2       nm0062879  Ruel S. Bayani  director,production_manager,miscellaneous   \n",
       "3       nm0062879  Ruel S. Bayani  director,production_manager,miscellaneous   \n",
       "4       nm0062879  Ruel S. Bayani  director,production_manager,miscellaneous   \n",
       "...           ...             ...                                        ...   \n",
       "291166  nm9980896  Rama Narayanan                            director,writer   \n",
       "291167  nm9980896  Rama Narayanan                            director,writer   \n",
       "291168  nm9981679     Samir Eshra            director,writer,cinematographer   \n",
       "291169  nm9993380  Pegasus Envoyé                      director,actor,writer   \n",
       "291170  nm9993380  Pegasus Envoyé                      director,actor,writer   \n",
       "\n",
       "         movie_id  \n",
       "0       tt1592569  \n",
       "1       tt1592569  \n",
       "2       tt1592569  \n",
       "3       tt1592569  \n",
       "4       tt8421806  \n",
       "...           ...  \n",
       "291166  tt8715016  \n",
       "291167  tt8919136  \n",
       "291168  tt8717234  \n",
       "291169  tt8743182  \n",
       "291170  tt8743182  \n",
       "\n",
       "[291171 rows x 4 columns]"
      ]
     },
     "execution_count": 77,
     "metadata": {},
     "output_type": "execute_result"
    }
   ],
   "source": [
    "people_merge = persons_cp.merge(directors_cp, on='person_id', how='inner')\n",
    "people_merge"
   ]
  },
  {
   "cell_type": "code",
   "execution_count": 78,
   "metadata": {},
   "outputs": [
    {
     "data": {
      "application/vnd.microsoft.datawrangler.viewer.v0+json": {
       "columns": [
        {
         "name": "index",
         "rawType": "int64",
         "type": "integer"
        },
        {
         "name": "person_id",
         "rawType": "object",
         "type": "string"
        },
        {
         "name": "movie_id",
         "rawType": "object",
         "type": "string"
        }
       ],
       "ref": "116690c9-6d9e-4358-a887-47f538038d72",
       "rows": [
        [
         "0",
         "nm0061671",
         "tt0837562"
        ],
        [
         "1",
         "nm0061671",
         "tt2398241"
        ],
        [
         "2",
         "nm0061671",
         "tt0844471"
        ],
        [
         "3",
         "nm0061671",
         "tt0118553"
        ],
        [
         "4",
         "nm0061865",
         "tt0896534"
        ],
        [
         "5",
         "nm0061865",
         "tt6791238"
        ],
        [
         "6",
         "nm0061865",
         "tt0287072"
        ],
        [
         "7",
         "nm0061865",
         "tt1682940"
        ],
        [
         "8",
         "nm0062070",
         "tt1470654"
        ],
        [
         "9",
         "nm0062070",
         "tt0363631"
        ],
        [
         "10",
         "nm0062070",
         "tt0104030"
        ],
        [
         "11",
         "nm0062070",
         "tt0102898"
        ],
        [
         "12",
         "nm0062195",
         "tt0114371"
        ],
        [
         "13",
         "nm0062195",
         "tt2004304"
        ],
        [
         "14",
         "nm0062195",
         "tt1618448"
        ],
        [
         "15",
         "nm0062195",
         "tt1224387"
        ],
        [
         "16",
         "nm0062798",
         "tt0452644"
        ],
        [
         "17",
         "nm0062798",
         "tt0452692"
        ],
        [
         "18",
         "nm0062798",
         "tt3458030"
        ],
        [
         "19",
         "nm0062798",
         "tt2178256"
        ],
        [
         "20",
         "nm0062879",
         "tt2590280"
        ],
        [
         "21",
         "nm0062879",
         "tt0352080"
        ],
        [
         "22",
         "nm0062879",
         "tt0216559"
        ],
        [
         "23",
         "nm0062879",
         "tt2057445"
        ],
        [
         "24",
         "nm0063198",
         "tt6579724"
        ],
        [
         "25",
         "nm0063198",
         "tt0093116"
        ],
        [
         "26",
         "nm0063432",
         "tt3106212"
        ],
        [
         "27",
         "nm0063432",
         "tt0478239"
        ],
        [
         "28",
         "nm0063432",
         "tt0264917"
        ],
        [
         "29",
         "nm0063432",
         "tt1626606"
        ],
        [
         "30",
         "nm0063618",
         "tt0183659"
        ],
        [
         "31",
         "nm0063618",
         "tt2545118"
        ],
        [
         "32",
         "nm0063618",
         "tt0384766"
        ],
        [
         "33",
         "nm0063618",
         "tt1856010"
        ],
        [
         "34",
         "nm0063750",
         "tt0404826"
        ],
        [
         "35",
         "nm0063750",
         "tt0111756"
        ],
        [
         "36",
         "nm0063750",
         "tt0367027"
        ],
        [
         "37",
         "nm0063750",
         "tt1492842"
        ],
        [
         "38",
         "nm0064023",
         "tt3501180"
        ],
        [
         "39",
         "nm0064023",
         "tt1485100"
        ],
        [
         "40",
         "nm0064023",
         "tt1358897"
        ],
        [
         "41",
         "nm0064023",
         "tt1387162"
        ],
        [
         "42",
         "nm0064350",
         "tt5479010"
        ],
        [
         "43",
         "nm0064350",
         "tt0316463"
        ],
        [
         "44",
         "nm0064350",
         "tt1286159"
        ],
        [
         "45",
         "nm0064350",
         "tt0380732"
        ],
        [
         "46",
         "nm0065847",
         "tt0108171"
        ],
        [
         "47",
         "nm0065847",
         "tt0095953"
        ],
        [
         "48",
         "nm0065847",
         "tt0266987"
        ],
        [
         "49",
         "nm0065847",
         "tt0285332"
        ]
       ],
       "shape": {
        "columns": 2,
        "rows": 1638260
       }
      },
      "text/html": [
       "<div>\n",
       "<style scoped>\n",
       "    .dataframe tbody tr th:only-of-type {\n",
       "        vertical-align: middle;\n",
       "    }\n",
       "\n",
       "    .dataframe tbody tr th {\n",
       "        vertical-align: top;\n",
       "    }\n",
       "\n",
       "    .dataframe thead th {\n",
       "        text-align: right;\n",
       "    }\n",
       "</style>\n",
       "<table border=\"1\" class=\"dataframe\">\n",
       "  <thead>\n",
       "    <tr style=\"text-align: right;\">\n",
       "      <th></th>\n",
       "      <th>person_id</th>\n",
       "      <th>movie_id</th>\n",
       "    </tr>\n",
       "  </thead>\n",
       "  <tbody>\n",
       "    <tr>\n",
       "      <th>0</th>\n",
       "      <td>nm0061671</td>\n",
       "      <td>tt0837562</td>\n",
       "    </tr>\n",
       "    <tr>\n",
       "      <th>1</th>\n",
       "      <td>nm0061671</td>\n",
       "      <td>tt2398241</td>\n",
       "    </tr>\n",
       "    <tr>\n",
       "      <th>2</th>\n",
       "      <td>nm0061671</td>\n",
       "      <td>tt0844471</td>\n",
       "    </tr>\n",
       "    <tr>\n",
       "      <th>3</th>\n",
       "      <td>nm0061671</td>\n",
       "      <td>tt0118553</td>\n",
       "    </tr>\n",
       "    <tr>\n",
       "      <th>4</th>\n",
       "      <td>nm0061865</td>\n",
       "      <td>tt0896534</td>\n",
       "    </tr>\n",
       "    <tr>\n",
       "      <th>...</th>\n",
       "      <td>...</td>\n",
       "      <td>...</td>\n",
       "    </tr>\n",
       "    <tr>\n",
       "      <th>1638255</th>\n",
       "      <td>nm9990690</td>\n",
       "      <td>tt9090932</td>\n",
       "    </tr>\n",
       "    <tr>\n",
       "      <th>1638256</th>\n",
       "      <td>nm9990690</td>\n",
       "      <td>tt8737130</td>\n",
       "    </tr>\n",
       "    <tr>\n",
       "      <th>1638257</th>\n",
       "      <td>nm9991320</td>\n",
       "      <td>tt8734436</td>\n",
       "    </tr>\n",
       "    <tr>\n",
       "      <th>1638258</th>\n",
       "      <td>nm9991320</td>\n",
       "      <td>tt9615610</td>\n",
       "    </tr>\n",
       "    <tr>\n",
       "      <th>1638259</th>\n",
       "      <td>nm9993380</td>\n",
       "      <td>tt8743182</td>\n",
       "    </tr>\n",
       "  </tbody>\n",
       "</table>\n",
       "<p>1638260 rows × 2 columns</p>\n",
       "</div>"
      ],
      "text/plain": [
       "         person_id   movie_id\n",
       "0        nm0061671  tt0837562\n",
       "1        nm0061671  tt2398241\n",
       "2        nm0061671  tt0844471\n",
       "3        nm0061671  tt0118553\n",
       "4        nm0061865  tt0896534\n",
       "...            ...        ...\n",
       "1638255  nm9990690  tt9090932\n",
       "1638256  nm9990690  tt8737130\n",
       "1638257  nm9991320  tt8734436\n",
       "1638258  nm9991320  tt9615610\n",
       "1638259  nm9993380  tt8743182\n",
       "\n",
       "[1638260 rows x 2 columns]"
      ]
     },
     "execution_count": 78,
     "metadata": {},
     "output_type": "execute_result"
    }
   ],
   "source": [
    "known_for = imdb_tables['known_for']\n",
    "known_for"
   ]
  },
  {
   "cell_type": "code",
   "execution_count": 79,
   "metadata": {},
   "outputs": [
    {
     "data": {
      "application/vnd.microsoft.datawrangler.viewer.v0+json": {
       "columns": [
        {
         "name": "index",
         "rawType": "int64",
         "type": "integer"
        },
        {
         "name": "person_id",
         "rawType": "object",
         "type": "string"
        },
        {
         "name": "primary_name",
         "rawType": "object",
         "type": "string"
        },
        {
         "name": "primary_profession",
         "rawType": "object",
         "type": "unknown"
        },
        {
         "name": "movie_id",
         "rawType": "object",
         "type": "string"
        }
       ],
       "ref": "41ad7019-15d6-4645-a477-c0f03985e3ed",
       "rows": [
        [
         "0",
         "nm0062879",
         "Ruel S. Bayani",
         "director,production_manager,miscellaneous",
         "tt1592569"
        ],
        [
         "1",
         "nm0062879",
         "Ruel S. Bayani",
         "director,production_manager,miscellaneous",
         "tt1592569"
        ],
        [
         "2",
         "nm0062879",
         "Ruel S. Bayani",
         "director,production_manager,miscellaneous",
         "tt1592569"
        ],
        [
         "3",
         "nm0062879",
         "Ruel S. Bayani",
         "director,production_manager,miscellaneous",
         "tt1592569"
        ],
        [
         "4",
         "nm0062879",
         "Ruel S. Bayani",
         "director,production_manager,miscellaneous",
         "tt8421806"
        ],
        [
         "5",
         "nm0062879",
         "Ruel S. Bayani",
         "director,production_manager,miscellaneous",
         "tt8421806"
        ],
        [
         "6",
         "nm0062879",
         "Ruel S. Bayani",
         "director,production_manager,miscellaneous",
         "tt2057445"
        ],
        [
         "7",
         "nm0062879",
         "Ruel S. Bayani",
         "director,production_manager,miscellaneous",
         "tt2057445"
        ],
        [
         "8",
         "nm0062879",
         "Ruel S. Bayani",
         "director,production_manager,miscellaneous",
         "tt2057445"
        ],
        [
         "9",
         "nm0062879",
         "Ruel S. Bayani",
         "director,production_manager,miscellaneous",
         "tt2590280"
        ],
        [
         "10",
         "nm0064023",
         "Bryan Beasley",
         "director,producer,writer",
         "tt4512140"
        ],
        [
         "11",
         "nm0064023",
         "Bryan Beasley",
         "director,producer,writer",
         "tt3501180"
        ],
        [
         "12",
         "nm0066268",
         "Steve Mitchell Beebe",
         "editorial_department,director,editor",
         "tt5521860"
        ],
        [
         "13",
         "nm0067234",
         "Hans Beimler",
         "producer,writer,miscellaneous",
         "tt2098699"
        ],
        [
         "14",
         "nm0068874",
         "Hava Kohav Beller",
         "director,writer,producer",
         "tt7701650"
        ],
        [
         "15",
         "nm0070482",
         "Joel Bender",
         "editor,director,writer",
         "tt1016090"
        ],
        [
         "16",
         "nm0070482",
         "Joel Bender",
         "editor,director,writer",
         "tt3790232"
        ],
        [
         "17",
         "nm0070482",
         "Joel Bender",
         "editor,director,writer",
         "tt3790232"
        ],
        [
         "18",
         "nm0075666",
         "Joe Berlinger",
         "producer,director,camera_department",
         "tt5151716"
        ],
        [
         "19",
         "nm0075666",
         "Joe Berlinger",
         "producer,director,camera_department",
         "tt2112868"
        ],
        [
         "20",
         "nm0075666",
         "Joe Berlinger",
         "producer,director,camera_department",
         "tt2028530"
        ],
        [
         "21",
         "nm0075666",
         "Joe Berlinger",
         "producer,director,camera_department",
         "tt2481498"
        ],
        [
         "22",
         "nm0075666",
         "Joe Berlinger",
         "producer,director,camera_department",
         "tt2481498"
        ],
        [
         "23",
         "nm0075666",
         "Joe Berlinger",
         "producer,director,camera_department",
         "tt6794462"
        ],
        [
         "24",
         "nm0075666",
         "Joe Berlinger",
         "producer,director,camera_department",
         "tt6794462"
        ],
        [
         "25",
         "nm0075666",
         "Joe Berlinger",
         "producer,director,camera_department",
         "tt4104086"
        ],
        [
         "26",
         "nm0075666",
         "Joe Berlinger",
         "producer,director,camera_department",
         "tt4104086"
        ],
        [
         "27",
         "nm0075666",
         "Joe Berlinger",
         "producer,director,camera_department",
         "tt4104086"
        ],
        [
         "28",
         "nm0075666",
         "Joe Berlinger",
         "producer,director,camera_department",
         "tt4104086"
        ],
        [
         "29",
         "nm0075666",
         "Joe Berlinger",
         "producer,director,camera_department",
         "tt3326366"
        ],
        [
         "30",
         "nm0075666",
         "Joe Berlinger",
         "producer,director,camera_department",
         "tt3137552"
        ],
        [
         "31",
         "nm0077067",
         "Jamie Bernstein",
         "director,actress,writer",
         "tt4601198"
        ],
        [
         "32",
         "nm0077067",
         "Jamie Bernstein",
         "director,actress,writer",
         "tt3909442"
        ],
        [
         "33",
         "nm0080787",
         "Dusty Bias",
         "writer,director,producer",
         "tt4794754"
        ],
        [
         "34",
         "nm0080787",
         "Dusty Bias",
         "writer,director,producer",
         "tt1374996"
        ],
        [
         "35",
         "nm0080787",
         "Dusty Bias",
         "writer,director,producer",
         "tt1374996"
        ],
        [
         "36",
         "nm0080787",
         "Dusty Bias",
         "writer,director,producer",
         "tt1374996"
        ],
        [
         "37",
         "nm0082154",
         "Miro Bilbrough",
         "miscellaneous,director,writer",
         "tt2012110"
        ],
        [
         "38",
         "nm0083767",
         "Fernando Birri",
         "director,actor,writer",
         "tt1854526"
        ],
        [
         "39",
         "nm0083767",
         "Fernando Birri",
         "director,actor,writer",
         "tt1854526"
        ],
        [
         "40",
         "nm0083767",
         "Fernando Birri",
         "director,actor,writer",
         "tt1854526"
        ],
        [
         "41",
         "nm0086051",
         "Bob Blagden",
         "director,art_department,writer",
         "tt1712204"
        ],
        [
         "42",
         "nm0086051",
         "Bob Blagden",
         "director,art_department,writer",
         "tt1712204"
        ],
        [
         "43",
         "nm0087933",
         "Jacek Blawut",
         "cinematographer,miscellaneous,director",
         "tt2508838"
        ],
        [
         "44",
         "nm0088531",
         "Ryan Bliss",
         "director,writer,producer",
         "tt6550978"
        ],
        [
         "45",
         "nm0088888",
         "Eric Blom",
         "director,camera_department,writer",
         "tt8407740"
        ],
        [
         "46",
         "nm0088888",
         "Eric Blom",
         "director,camera_department,writer",
         "tt8407740"
        ],
        [
         "47",
         "nm0088888",
         "Eric Blom",
         "director,camera_department,writer",
         "tt8407740"
        ],
        [
         "48",
         "nm0089850",
         "Lars Blumers",
         "director,writer,producer",
         "tt1825703"
        ],
        [
         "49",
         "nm0089850",
         "Lars Blumers",
         "director,writer,producer",
         "tt1825703"
        ]
       ],
       "shape": {
        "columns": 4,
        "rows": 291171
       }
      },
      "text/html": [
       "<div>\n",
       "<style scoped>\n",
       "    .dataframe tbody tr th:only-of-type {\n",
       "        vertical-align: middle;\n",
       "    }\n",
       "\n",
       "    .dataframe tbody tr th {\n",
       "        vertical-align: top;\n",
       "    }\n",
       "\n",
       "    .dataframe thead th {\n",
       "        text-align: right;\n",
       "    }\n",
       "</style>\n",
       "<table border=\"1\" class=\"dataframe\">\n",
       "  <thead>\n",
       "    <tr style=\"text-align: right;\">\n",
       "      <th></th>\n",
       "      <th>person_id</th>\n",
       "      <th>primary_name</th>\n",
       "      <th>primary_profession</th>\n",
       "      <th>movie_id</th>\n",
       "    </tr>\n",
       "  </thead>\n",
       "  <tbody>\n",
       "    <tr>\n",
       "      <th>0</th>\n",
       "      <td>nm0062879</td>\n",
       "      <td>Ruel S. Bayani</td>\n",
       "      <td>director,production_manager,miscellaneous</td>\n",
       "      <td>tt1592569</td>\n",
       "    </tr>\n",
       "    <tr>\n",
       "      <th>1</th>\n",
       "      <td>nm0062879</td>\n",
       "      <td>Ruel S. Bayani</td>\n",
       "      <td>director,production_manager,miscellaneous</td>\n",
       "      <td>tt1592569</td>\n",
       "    </tr>\n",
       "    <tr>\n",
       "      <th>2</th>\n",
       "      <td>nm0062879</td>\n",
       "      <td>Ruel S. Bayani</td>\n",
       "      <td>director,production_manager,miscellaneous</td>\n",
       "      <td>tt1592569</td>\n",
       "    </tr>\n",
       "    <tr>\n",
       "      <th>3</th>\n",
       "      <td>nm0062879</td>\n",
       "      <td>Ruel S. Bayani</td>\n",
       "      <td>director,production_manager,miscellaneous</td>\n",
       "      <td>tt1592569</td>\n",
       "    </tr>\n",
       "    <tr>\n",
       "      <th>4</th>\n",
       "      <td>nm0062879</td>\n",
       "      <td>Ruel S. Bayani</td>\n",
       "      <td>director,production_manager,miscellaneous</td>\n",
       "      <td>tt8421806</td>\n",
       "    </tr>\n",
       "    <tr>\n",
       "      <th>...</th>\n",
       "      <td>...</td>\n",
       "      <td>...</td>\n",
       "      <td>...</td>\n",
       "      <td>...</td>\n",
       "    </tr>\n",
       "    <tr>\n",
       "      <th>291166</th>\n",
       "      <td>nm9980896</td>\n",
       "      <td>Rama Narayanan</td>\n",
       "      <td>director,writer</td>\n",
       "      <td>tt8715016</td>\n",
       "    </tr>\n",
       "    <tr>\n",
       "      <th>291167</th>\n",
       "      <td>nm9980896</td>\n",
       "      <td>Rama Narayanan</td>\n",
       "      <td>director,writer</td>\n",
       "      <td>tt8919136</td>\n",
       "    </tr>\n",
       "    <tr>\n",
       "      <th>291168</th>\n",
       "      <td>nm9981679</td>\n",
       "      <td>Samir Eshra</td>\n",
       "      <td>director,writer,cinematographer</td>\n",
       "      <td>tt8717234</td>\n",
       "    </tr>\n",
       "    <tr>\n",
       "      <th>291169</th>\n",
       "      <td>nm9993380</td>\n",
       "      <td>Pegasus Envoyé</td>\n",
       "      <td>director,actor,writer</td>\n",
       "      <td>tt8743182</td>\n",
       "    </tr>\n",
       "    <tr>\n",
       "      <th>291170</th>\n",
       "      <td>nm9993380</td>\n",
       "      <td>Pegasus Envoyé</td>\n",
       "      <td>director,actor,writer</td>\n",
       "      <td>tt8743182</td>\n",
       "    </tr>\n",
       "  </tbody>\n",
       "</table>\n",
       "<p>291171 rows × 4 columns</p>\n",
       "</div>"
      ],
      "text/plain": [
       "        person_id    primary_name                         primary_profession  \\\n",
       "0       nm0062879  Ruel S. Bayani  director,production_manager,miscellaneous   \n",
       "1       nm0062879  Ruel S. Bayani  director,production_manager,miscellaneous   \n",
       "2       nm0062879  Ruel S. Bayani  director,production_manager,miscellaneous   \n",
       "3       nm0062879  Ruel S. Bayani  director,production_manager,miscellaneous   \n",
       "4       nm0062879  Ruel S. Bayani  director,production_manager,miscellaneous   \n",
       "...           ...             ...                                        ...   \n",
       "291166  nm9980896  Rama Narayanan                            director,writer   \n",
       "291167  nm9980896  Rama Narayanan                            director,writer   \n",
       "291168  nm9981679     Samir Eshra            director,writer,cinematographer   \n",
       "291169  nm9993380  Pegasus Envoyé                      director,actor,writer   \n",
       "291170  nm9993380  Pegasus Envoyé                      director,actor,writer   \n",
       "\n",
       "         movie_id  \n",
       "0       tt1592569  \n",
       "1       tt1592569  \n",
       "2       tt1592569  \n",
       "3       tt1592569  \n",
       "4       tt8421806  \n",
       "...           ...  \n",
       "291166  tt8715016  \n",
       "291167  tt8919136  \n",
       "291168  tt8717234  \n",
       "291169  tt8743182  \n",
       "291170  tt8743182  \n",
       "\n",
       "[291171 rows x 4 columns]"
      ]
     },
     "execution_count": 79,
     "metadata": {},
     "output_type": "execute_result"
    }
   ],
   "source": [
    "people_merge1 = people_merge.merge(known_for, on=['person_id', 'movie_id'], how='left')\n",
    "people_merge1"
   ]
  },
  {
   "cell_type": "code",
   "execution_count": 80,
   "metadata": {},
   "outputs": [
    {
     "data": {
      "application/vnd.microsoft.datawrangler.viewer.v0+json": {
       "columns": [
        {
         "name": "index",
         "rawType": "int64",
         "type": "integer"
        },
        {
         "name": "movie_id",
         "rawType": "object",
         "type": "string"
        },
        {
         "name": "person_id",
         "rawType": "object",
         "type": "string"
        }
       ],
       "ref": "72e2d73e-7d0f-4dd4-bd52-00d2949bdf4a",
       "rows": [
        [
         "0",
         "tt0285252",
         "nm0899854"
        ],
        [
         "1",
         "tt0438973",
         "nm0175726"
        ],
        [
         "2",
         "tt0438973",
         "nm1802864"
        ],
        [
         "3",
         "tt0462036",
         "nm1940585"
        ],
        [
         "4",
         "tt0835418",
         "nm0310087"
        ],
        [
         "5",
         "tt0835418",
         "nm0841532"
        ],
        [
         "6",
         "tt0878654",
         "nm0284943"
        ],
        [
         "7",
         "tt0878654",
         "nm0284943"
        ],
        [
         "8",
         "tt0878654",
         "nm0284943"
        ],
        [
         "9",
         "tt0996958",
         "nm2286991"
        ],
        [
         "10",
         "tt0996958",
         "nm2651190"
        ],
        [
         "11",
         "tt0999913",
         "nm0527109"
        ],
        [
         "12",
         "tt0999913",
         "nm0329051"
        ],
        [
         "13",
         "tt0999913",
         "nm0001603"
        ],
        [
         "14",
         "tt0999913",
         "nm0930684"
        ],
        [
         "15",
         "tt10003792",
         "nm10539228"
        ],
        [
         "16",
         "tt10005130",
         "nm5482263"
        ],
        [
         "17",
         "tt10005130",
         "nm10540239"
        ],
        [
         "18",
         "tt10005378",
         "nm9232888"
        ],
        [
         "19",
         "tt10011102",
         "nm2215938"
        ],
        [
         "20",
         "tt10011102",
         "nm0219964"
        ],
        [
         "21",
         "tt1002965",
         "nm0860520"
        ],
        [
         "22",
         "tt1002965",
         "nm0003521"
        ],
        [
         "23",
         "tt1002965",
         "nm2615300"
        ],
        [
         "24",
         "tt10042456",
         "nm6051389"
        ],
        [
         "25",
         "tt10055770",
         "nm8628554"
        ],
        [
         "26",
         "tt10055770",
         "nm8351963"
        ],
        [
         "27",
         "tt10056334",
         "nm10563034"
        ],
        [
         "28",
         "tt10056334",
         "nm10563021"
        ],
        [
         "29",
         "tt10059624",
         "nm0472248"
        ],
        [
         "30",
         "tt10059624",
         "nm10596139"
        ],
        [
         "31",
         "tt10059624",
         "nm10596140"
        ],
        [
         "32",
         "tt10060902",
         "nm10193497"
        ],
        [
         "33",
         "tt10076760",
         "nm10351658"
        ],
        [
         "34",
         "tt10084358",
         "nm10586890"
        ],
        [
         "35",
         "tt10085524",
         "nm7717515"
        ],
        [
         "36",
         "tt10086906",
         "nm10576024"
        ],
        [
         "37",
         "tt10087396",
         "nm1819081"
        ],
        [
         "38",
         "tt10094362",
         "nm4510291"
        ],
        [
         "39",
         "tt10126496",
         "nm3691130"
        ],
        [
         "40",
         "tt10126628",
         "nm0403225"
        ],
        [
         "41",
         "tt10133856",
         "nm9709981"
        ],
        [
         "42",
         "tt10133856",
         "nm8979374"
        ],
        [
         "43",
         "tt10133856",
         "nm10597667"
        ],
        [
         "44",
         "tt10133856",
         "nm10597668"
        ],
        [
         "45",
         "tt10133856",
         "nm10384892"
        ],
        [
         "46",
         "tt10140002",
         "nm0104200"
        ],
        [
         "47",
         "tt10140002",
         "nm0104200"
        ],
        [
         "48",
         "tt10148094",
         "nm10604110"
        ],
        [
         "49",
         "tt10148094",
         "nm10593130"
        ]
       ],
       "shape": {
        "columns": 2,
        "rows": 255873
       }
      },
      "text/html": [
       "<div>\n",
       "<style scoped>\n",
       "    .dataframe tbody tr th:only-of-type {\n",
       "        vertical-align: middle;\n",
       "    }\n",
       "\n",
       "    .dataframe tbody tr th {\n",
       "        vertical-align: top;\n",
       "    }\n",
       "\n",
       "    .dataframe thead th {\n",
       "        text-align: right;\n",
       "    }\n",
       "</style>\n",
       "<table border=\"1\" class=\"dataframe\">\n",
       "  <thead>\n",
       "    <tr style=\"text-align: right;\">\n",
       "      <th></th>\n",
       "      <th>movie_id</th>\n",
       "      <th>person_id</th>\n",
       "    </tr>\n",
       "  </thead>\n",
       "  <tbody>\n",
       "    <tr>\n",
       "      <th>0</th>\n",
       "      <td>tt0285252</td>\n",
       "      <td>nm0899854</td>\n",
       "    </tr>\n",
       "    <tr>\n",
       "      <th>1</th>\n",
       "      <td>tt0438973</td>\n",
       "      <td>nm0175726</td>\n",
       "    </tr>\n",
       "    <tr>\n",
       "      <th>2</th>\n",
       "      <td>tt0438973</td>\n",
       "      <td>nm1802864</td>\n",
       "    </tr>\n",
       "    <tr>\n",
       "      <th>3</th>\n",
       "      <td>tt0462036</td>\n",
       "      <td>nm1940585</td>\n",
       "    </tr>\n",
       "    <tr>\n",
       "      <th>4</th>\n",
       "      <td>tt0835418</td>\n",
       "      <td>nm0310087</td>\n",
       "    </tr>\n",
       "    <tr>\n",
       "      <th>...</th>\n",
       "      <td>...</td>\n",
       "      <td>...</td>\n",
       "    </tr>\n",
       "    <tr>\n",
       "      <th>255868</th>\n",
       "      <td>tt8999892</td>\n",
       "      <td>nm10122246</td>\n",
       "    </tr>\n",
       "    <tr>\n",
       "      <th>255869</th>\n",
       "      <td>tt8999974</td>\n",
       "      <td>nm10122357</td>\n",
       "    </tr>\n",
       "    <tr>\n",
       "      <th>255870</th>\n",
       "      <td>tt9001390</td>\n",
       "      <td>nm6711477</td>\n",
       "    </tr>\n",
       "    <tr>\n",
       "      <th>255871</th>\n",
       "      <td>tt9004986</td>\n",
       "      <td>nm4993825</td>\n",
       "    </tr>\n",
       "    <tr>\n",
       "      <th>255872</th>\n",
       "      <td>tt9010172</td>\n",
       "      <td>nm8352242</td>\n",
       "    </tr>\n",
       "  </tbody>\n",
       "</table>\n",
       "<p>255873 rows × 2 columns</p>\n",
       "</div>"
      ],
      "text/plain": [
       "         movie_id   person_id\n",
       "0       tt0285252   nm0899854\n",
       "1       tt0438973   nm0175726\n",
       "2       tt0438973   nm1802864\n",
       "3       tt0462036   nm1940585\n",
       "4       tt0835418   nm0310087\n",
       "...           ...         ...\n",
       "255868  tt8999892  nm10122246\n",
       "255869  tt8999974  nm10122357\n",
       "255870  tt9001390   nm6711477\n",
       "255871  tt9004986   nm4993825\n",
       "255872  tt9010172   nm8352242\n",
       "\n",
       "[255873 rows x 2 columns]"
      ]
     },
     "execution_count": 80,
     "metadata": {},
     "output_type": "execute_result"
    }
   ],
   "source": [
    "writers = imdb_tables['writers']\n",
    "writers"
   ]
  },
  {
   "cell_type": "code",
   "execution_count": 81,
   "metadata": {},
   "outputs": [],
   "source": [
    "writers_cp = writers.copy(deep=True)\n",
    "\n",
    "people_merge1 = people_merge1.merge(writers_cp, on=['movie_id', 'person_id'], how='left')\n",
    "people_merge1 = people_merge1.drop_duplicates()"
   ]
  },
  {
   "cell_type": "code",
   "execution_count": 82,
   "metadata": {},
   "outputs": [
    {
     "data": {
      "application/vnd.microsoft.datawrangler.viewer.v0+json": {
       "columns": [
        {
         "name": "index",
         "rawType": "int64",
         "type": "integer"
        },
        {
         "name": "person_id",
         "rawType": "object",
         "type": "string"
        },
        {
         "name": "primary_name",
         "rawType": "object",
         "type": "string"
        },
        {
         "name": "primary_profession",
         "rawType": "object",
         "type": "unknown"
        },
        {
         "name": "movie_id",
         "rawType": "object",
         "type": "string"
        }
       ],
       "ref": "53478efb-52b3-4a2f-8b72-10de28701ae4",
       "rows": [
        [
         "0",
         "nm0062879",
         "Ruel S. Bayani",
         "director,production_manager,miscellaneous",
         "tt1592569"
        ],
        [
         "4",
         "nm0062879",
         "Ruel S. Bayani",
         "director,production_manager,miscellaneous",
         "tt8421806"
        ],
        [
         "6",
         "nm0062879",
         "Ruel S. Bayani",
         "director,production_manager,miscellaneous",
         "tt2057445"
        ],
        [
         "9",
         "nm0062879",
         "Ruel S. Bayani",
         "director,production_manager,miscellaneous",
         "tt2590280"
        ],
        [
         "10",
         "nm0064023",
         "Bryan Beasley",
         "director,producer,writer",
         "tt4512140"
        ],
        [
         "11",
         "nm0064023",
         "Bryan Beasley",
         "director,producer,writer",
         "tt3501180"
        ],
        [
         "12",
         "nm0066268",
         "Steve Mitchell Beebe",
         "editorial_department,director,editor",
         "tt5521860"
        ],
        [
         "13",
         "nm0067234",
         "Hans Beimler",
         "producer,writer,miscellaneous",
         "tt2098699"
        ],
        [
         "14",
         "nm0068874",
         "Hava Kohav Beller",
         "director,writer,producer",
         "tt7701650"
        ],
        [
         "15",
         "nm0070482",
         "Joel Bender",
         "editor,director,writer",
         "tt1016090"
        ],
        [
         "16",
         "nm0070482",
         "Joel Bender",
         "editor,director,writer",
         "tt3790232"
        ],
        [
         "20",
         "nm0075666",
         "Joe Berlinger",
         "producer,director,camera_department",
         "tt5151716"
        ],
        [
         "21",
         "nm0075666",
         "Joe Berlinger",
         "producer,director,camera_department",
         "tt2112868"
        ],
        [
         "22",
         "nm0075666",
         "Joe Berlinger",
         "producer,director,camera_department",
         "tt2028530"
        ],
        [
         "23",
         "nm0075666",
         "Joe Berlinger",
         "producer,director,camera_department",
         "tt2481498"
        ],
        [
         "25",
         "nm0075666",
         "Joe Berlinger",
         "producer,director,camera_department",
         "tt6794462"
        ],
        [
         "27",
         "nm0075666",
         "Joe Berlinger",
         "producer,director,camera_department",
         "tt4104086"
        ],
        [
         "31",
         "nm0075666",
         "Joe Berlinger",
         "producer,director,camera_department",
         "tt3326366"
        ],
        [
         "32",
         "nm0075666",
         "Joe Berlinger",
         "producer,director,camera_department",
         "tt3137552"
        ],
        [
         "33",
         "nm0077067",
         "Jamie Bernstein",
         "director,actress,writer",
         "tt4601198"
        ],
        [
         "34",
         "nm0077067",
         "Jamie Bernstein",
         "director,actress,writer",
         "tt3909442"
        ],
        [
         "35",
         "nm0080787",
         "Dusty Bias",
         "writer,director,producer",
         "tt4794754"
        ],
        [
         "36",
         "nm0080787",
         "Dusty Bias",
         "writer,director,producer",
         "tt1374996"
        ],
        [
         "39",
         "nm0082154",
         "Miro Bilbrough",
         "miscellaneous,director,writer",
         "tt2012110"
        ],
        [
         "40",
         "nm0083767",
         "Fernando Birri",
         "director,actor,writer",
         "tt1854526"
        ],
        [
         "43",
         "nm0086051",
         "Bob Blagden",
         "director,art_department,writer",
         "tt1712204"
        ],
        [
         "45",
         "nm0087933",
         "Jacek Blawut",
         "cinematographer,miscellaneous,director",
         "tt2508838"
        ],
        [
         "46",
         "nm0088531",
         "Ryan Bliss",
         "director,writer,producer",
         "tt6550978"
        ],
        [
         "47",
         "nm0088888",
         "Eric Blom",
         "director,camera_department,writer",
         "tt8407740"
        ],
        [
         "50",
         "nm0089850",
         "Lars Blumers",
         "director,writer,producer",
         "tt1825703"
        ],
        [
         "53",
         "nm0092526",
         "David Christopher Loya",
         "producer,director,writer",
         "tt10337122"
        ],
        [
         "54",
         "nm0094754",
         "Emmanuelle Bonmariage",
         "actress,director",
         "tt8322784"
        ],
        [
         "55",
         "nm0094756",
         "Manu Bonmariage",
         "cinematographer,director,camera_department",
         "tt5784900"
        ],
        [
         "56",
         "nm0094756",
         "Manu Bonmariage",
         "cinematographer,director,camera_department",
         "tt2462954"
        ],
        [
         "57",
         "nm0098545",
         "Marie Boti",
         "director,writer",
         "tt6668842"
        ],
        [
         "58",
         "nm0099797",
         "Pascal Bourdiaux",
         "director,editor",
         "tt5286268"
        ],
        [
         "66",
         "nm0099797",
         "Pascal Bourdiaux",
         "director,editor",
         "tt1437361"
        ],
        [
         "71",
         "nm0099797",
         "Pascal Bourdiaux",
         "director,editor",
         "tt5980746"
        ],
        [
         "73",
         "nm0099797",
         "Pascal Bourdiaux",
         "director,editor",
         "tt2836252"
        ],
        [
         "74",
         "nm0099841",
         "Gilles Bourdos",
         "writer,director",
         "tt2150332"
        ],
        [
         "78",
         "nm0099841",
         "Gilles Bourdos",
         "writer,director",
         "tt5539466"
        ],
        [
         "81",
         "nm0101047",
         "David Bowers",
         "animation_department,director,writer",
         "tt1650043"
        ],
        [
         "84",
         "nm0101047",
         "David Bowers",
         "animation_department,director,writer",
         "tt8716054"
        ],
        [
         "88",
         "nm0101047",
         "David Bowers",
         "animation_department,director,writer",
         "tt6003368"
        ],
        [
         "90",
         "nm0101047",
         "David Bowers",
         "animation_department,director,writer",
         "tt2023453"
        ],
        [
         "93",
         "nm0102070",
         "Manu Boyer",
         "director,writer,camera_department",
         "tt3227442"
        ],
        [
         "94",
         "nm0103187",
         "Dan Bradley",
         "stunts,assistant_director,actor",
         "tt1234719"
        ],
        [
         "98",
         "nm0104567",
         "Madeline Brandeis",
         "producer,director,writer",
         "tt7953946"
        ],
        [
         "101",
         "nm0105723",
         "Bettina Braun",
         "director,editor,writer",
         "tt9466900"
        ],
        [
         "102",
         "nm0109400",
         "Mariola Brillowska",
         "director,writer,actress",
         "tt1786454"
        ]
       ],
       "shape": {
        "columns": 4,
        "rows": 163533
       }
      },
      "text/html": [
       "<div>\n",
       "<style scoped>\n",
       "    .dataframe tbody tr th:only-of-type {\n",
       "        vertical-align: middle;\n",
       "    }\n",
       "\n",
       "    .dataframe tbody tr th {\n",
       "        vertical-align: top;\n",
       "    }\n",
       "\n",
       "    .dataframe thead th {\n",
       "        text-align: right;\n",
       "    }\n",
       "</style>\n",
       "<table border=\"1\" class=\"dataframe\">\n",
       "  <thead>\n",
       "    <tr style=\"text-align: right;\">\n",
       "      <th></th>\n",
       "      <th>person_id</th>\n",
       "      <th>primary_name</th>\n",
       "      <th>primary_profession</th>\n",
       "      <th>movie_id</th>\n",
       "    </tr>\n",
       "  </thead>\n",
       "  <tbody>\n",
       "    <tr>\n",
       "      <th>0</th>\n",
       "      <td>nm0062879</td>\n",
       "      <td>Ruel S. Bayani</td>\n",
       "      <td>director,production_manager,miscellaneous</td>\n",
       "      <td>tt1592569</td>\n",
       "    </tr>\n",
       "    <tr>\n",
       "      <th>4</th>\n",
       "      <td>nm0062879</td>\n",
       "      <td>Ruel S. Bayani</td>\n",
       "      <td>director,production_manager,miscellaneous</td>\n",
       "      <td>tt8421806</td>\n",
       "    </tr>\n",
       "    <tr>\n",
       "      <th>6</th>\n",
       "      <td>nm0062879</td>\n",
       "      <td>Ruel S. Bayani</td>\n",
       "      <td>director,production_manager,miscellaneous</td>\n",
       "      <td>tt2057445</td>\n",
       "    </tr>\n",
       "    <tr>\n",
       "      <th>9</th>\n",
       "      <td>nm0062879</td>\n",
       "      <td>Ruel S. Bayani</td>\n",
       "      <td>director,production_manager,miscellaneous</td>\n",
       "      <td>tt2590280</td>\n",
       "    </tr>\n",
       "    <tr>\n",
       "      <th>10</th>\n",
       "      <td>nm0064023</td>\n",
       "      <td>Bryan Beasley</td>\n",
       "      <td>director,producer,writer</td>\n",
       "      <td>tt4512140</td>\n",
       "    </tr>\n",
       "    <tr>\n",
       "      <th>...</th>\n",
       "      <td>...</td>\n",
       "      <td>...</td>\n",
       "      <td>...</td>\n",
       "      <td>...</td>\n",
       "    </tr>\n",
       "    <tr>\n",
       "      <th>1051232</th>\n",
       "      <td>nm9971456</td>\n",
       "      <td>Zheng Wei</td>\n",
       "      <td>director</td>\n",
       "      <td>tt8697720</td>\n",
       "    </tr>\n",
       "    <tr>\n",
       "      <th>1051233</th>\n",
       "      <td>nm9980896</td>\n",
       "      <td>Rama Narayanan</td>\n",
       "      <td>director,writer</td>\n",
       "      <td>tt8715016</td>\n",
       "    </tr>\n",
       "    <tr>\n",
       "      <th>1051235</th>\n",
       "      <td>nm9980896</td>\n",
       "      <td>Rama Narayanan</td>\n",
       "      <td>director,writer</td>\n",
       "      <td>tt8919136</td>\n",
       "    </tr>\n",
       "    <tr>\n",
       "      <th>1051236</th>\n",
       "      <td>nm9981679</td>\n",
       "      <td>Samir Eshra</td>\n",
       "      <td>director,writer,cinematographer</td>\n",
       "      <td>tt8717234</td>\n",
       "    </tr>\n",
       "    <tr>\n",
       "      <th>1051237</th>\n",
       "      <td>nm9993380</td>\n",
       "      <td>Pegasus Envoyé</td>\n",
       "      <td>director,actor,writer</td>\n",
       "      <td>tt8743182</td>\n",
       "    </tr>\n",
       "  </tbody>\n",
       "</table>\n",
       "<p>163533 rows × 4 columns</p>\n",
       "</div>"
      ],
      "text/plain": [
       "         person_id    primary_name                         primary_profession  \\\n",
       "0        nm0062879  Ruel S. Bayani  director,production_manager,miscellaneous   \n",
       "4        nm0062879  Ruel S. Bayani  director,production_manager,miscellaneous   \n",
       "6        nm0062879  Ruel S. Bayani  director,production_manager,miscellaneous   \n",
       "9        nm0062879  Ruel S. Bayani  director,production_manager,miscellaneous   \n",
       "10       nm0064023   Bryan Beasley                   director,producer,writer   \n",
       "...            ...             ...                                        ...   \n",
       "1051232  nm9971456       Zheng Wei                                   director   \n",
       "1051233  nm9980896  Rama Narayanan                            director,writer   \n",
       "1051235  nm9980896  Rama Narayanan                            director,writer   \n",
       "1051236  nm9981679     Samir Eshra            director,writer,cinematographer   \n",
       "1051237  nm9993380  Pegasus Envoyé                      director,actor,writer   \n",
       "\n",
       "          movie_id  \n",
       "0        tt1592569  \n",
       "4        tt8421806  \n",
       "6        tt2057445  \n",
       "9        tt2590280  \n",
       "10       tt4512140  \n",
       "...            ...  \n",
       "1051232  tt8697720  \n",
       "1051233  tt8715016  \n",
       "1051235  tt8919136  \n",
       "1051236  tt8717234  \n",
       "1051237  tt8743182  \n",
       "\n",
       "[163533 rows x 4 columns]"
      ]
     },
     "execution_count": 82,
     "metadata": {},
     "output_type": "execute_result"
    }
   ],
   "source": [
    "people_merge1"
   ]
  },
  {
   "cell_type": "code",
   "execution_count": 83,
   "metadata": {},
   "outputs": [
    {
     "data": {
      "application/vnd.microsoft.datawrangler.viewer.v0+json": {
       "columns": [
        {
         "name": "index",
         "rawType": "int64",
         "type": "integer"
        },
        {
         "name": "movie_id",
         "rawType": "object",
         "type": "string"
        },
        {
         "name": "primary_title",
         "rawType": "object",
         "type": "string"
        },
        {
         "name": "original_title",
         "rawType": "object",
         "type": "string"
        },
        {
         "name": "start_year",
         "rawType": "int64",
         "type": "integer"
        },
        {
         "name": "runtime_minutes",
         "rawType": "float64",
         "type": "float"
        },
        {
         "name": "genres",
         "rawType": "object",
         "type": "string"
        },
        {
         "name": "averagerating",
         "rawType": "float64",
         "type": "float"
        },
        {
         "name": "numvotes",
         "rawType": "int64",
         "type": "integer"
        },
        {
         "name": "ordering",
         "rawType": "int64",
         "type": "integer"
        },
        {
         "name": "region_title",
         "rawType": "object",
         "type": "string"
        },
        {
         "name": "region",
         "rawType": "object",
         "type": "unknown"
        },
        {
         "name": "person_id",
         "rawType": "object",
         "type": "unknown"
        },
        {
         "name": "primary_name",
         "rawType": "object",
         "type": "unknown"
        },
        {
         "name": "primary_profession",
         "rawType": "object",
         "type": "unknown"
        }
       ],
       "ref": "465f312f-891e-4329-aa7b-54346f17a679",
       "rows": [
        [
         "0",
         "tt0066787",
         "One Day Before the Rainy Season",
         "Ashad Ka Ek Din",
         "2019",
         "114.0",
         "Biography,Drama",
         "7.2",
         "43",
         "1",
         "One Day Before the Rainy Season",
         "XWW",
         "nm0002411",
         "Mani Kaul",
         "director,writer,actor"
        ],
        [
         "1",
         "tt0066787",
         "One Day Before the Rainy Season",
         "Ashad Ka Ek Din",
         "2019",
         "114.0",
         "Biography,Drama",
         "7.2",
         "43",
         "2",
         "Ashad Ka Ek Din",
         "IN",
         "nm0002411",
         "Mani Kaul",
         "director,writer,actor"
        ],
        [
         "2",
         "tt0066787",
         "One Day Before the Rainy Season",
         "Ashad Ka Ek Din",
         "2019",
         "114.0",
         "Biography,Drama",
         "7.2",
         "43",
         "3",
         "One Monsoon Day",
         null,
         "nm0002411",
         "Mani Kaul",
         "director,writer,actor"
        ],
        [
         "3",
         "tt0066787",
         "One Day Before the Rainy Season",
         "Ashad Ka Ek Din",
         "2019",
         "114.0",
         "Biography,Drama",
         "7.2",
         "43",
         "4",
         "Ashad Ka Ek Din",
         null,
         "nm0002411",
         "Mani Kaul",
         "director,writer,actor"
        ],
        [
         "4",
         "tt0069049",
         "The Other Side of the Wind",
         "The Other Side of the Wind",
         "2018",
         "122.0",
         "Drama",
         "6.9",
         "4517",
         "10",
         "La otra cara del viento",
         "VE",
         "nm0000080",
         "Orson Welles",
         "actor,director,writer"
        ],
        [
         "5",
         "tt0069049",
         "The Other Side of the Wind",
         "The Other Side of the Wind",
         "2018",
         "122.0",
         "Drama",
         "6.9",
         "4517",
         "11",
         "Druga strona wiatru",
         "PL",
         "nm0000080",
         "Orson Welles",
         "actor,director,writer"
        ],
        [
         "6",
         "tt0069049",
         "The Other Side of the Wind",
         "The Other Side of the Wind",
         "2018",
         "122.0",
         "Drama",
         "6.9",
         "4517",
         "12",
         "The Other Side of the Wind",
         "DE",
         "nm0000080",
         "Orson Welles",
         "actor,director,writer"
        ],
        [
         "7",
         "tt0069049",
         "The Other Side of the Wind",
         "The Other Side of the Wind",
         "2018",
         "122.0",
         "Drama",
         "6.9",
         "4517",
         "13",
         "O Outro Lado do Vento",
         "PT",
         "nm0000080",
         "Orson Welles",
         "actor,director,writer"
        ],
        [
         "8",
         "tt0069049",
         "The Other Side of the Wind",
         "The Other Side of the Wind",
         "2018",
         "122.0",
         "Drama",
         "6.9",
         "4517",
         "1",
         "O Outro Lado do Vento",
         "BR",
         "nm0000080",
         "Orson Welles",
         "actor,director,writer"
        ],
        [
         "9",
         "tt0069049",
         "The Other Side of the Wind",
         "The Other Side of the Wind",
         "2018",
         "122.0",
         "Drama",
         "6.9",
         "4517",
         "2",
         "The Other Side of the Wind",
         "US",
         "nm0000080",
         "Orson Welles",
         "actor,director,writer"
        ],
        [
         "10",
         "tt0069049",
         "The Other Side of the Wind",
         "The Other Side of the Wind",
         "2018",
         "122.0",
         "Drama",
         "6.9",
         "4517",
         "3",
         "The Other Side of the Wind",
         "GB",
         "nm0000080",
         "Orson Welles",
         "actor,director,writer"
        ],
        [
         "11",
         "tt0069049",
         "The Other Side of the Wind",
         "The Other Side of the Wind",
         "2018",
         "122.0",
         "Drama",
         "6.9",
         "4517",
         "4",
         "L'altra faccia del vento",
         "IT",
         "nm0000080",
         "Orson Welles",
         "actor,director,writer"
        ],
        [
         "12",
         "tt0069049",
         "The Other Side of the Wind",
         "The Other Side of the Wind",
         "2018",
         "122.0",
         "Drama",
         "6.9",
         "4517",
         "5",
         "Другая сторона ветра",
         "RU",
         "nm0000080",
         "Orson Welles",
         "actor,director,writer"
        ],
        [
         "13",
         "tt0069049",
         "The Other Side of the Wind",
         "The Other Side of the Wind",
         "2018",
         "122.0",
         "Drama",
         "6.9",
         "4517",
         "6",
         "Al otro lado del viento",
         "AR",
         "nm0000080",
         "Orson Welles",
         "actor,director,writer"
        ],
        [
         "14",
         "tt0069049",
         "The Other Side of the Wind",
         "The Other Side of the Wind",
         "2018",
         "122.0",
         "Drama",
         "6.9",
         "4517",
         "7",
         "Al otro lado del viento",
         "ES",
         "nm0000080",
         "Orson Welles",
         "actor,director,writer"
        ],
        [
         "15",
         "tt0069049",
         "The Other Side of the Wind",
         "The Other Side of the Wind",
         "2018",
         "122.0",
         "Drama",
         "6.9",
         "4517",
         "8",
         "The Other Side of the Wind",
         null,
         "nm0000080",
         "Orson Welles",
         "actor,director,writer"
        ],
        [
         "16",
         "tt0069049",
         "The Other Side of the Wind",
         "The Other Side of the Wind",
         "2018",
         "122.0",
         "Drama",
         "6.9",
         "4517",
         "9",
         "De l'autre côté du vent",
         "FR",
         "nm0000080",
         "Orson Welles",
         "actor,director,writer"
        ],
        [
         "17",
         "tt0069204",
         "Sabse Bada Sukh",
         "Sabse Bada Sukh",
         "2018",
         "87.0",
         "Comedy,Drama",
         "6.1",
         "13",
         "1",
         "Subse Bada Sukh",
         "IN",
         "nm0611531",
         "Hrishikesh Mukherjee",
         "director,editor,writer"
        ],
        [
         "18",
         "tt0069204",
         "Sabse Bada Sukh",
         "Sabse Bada Sukh",
         "2018",
         "87.0",
         "Comedy,Drama",
         "6.1",
         "13",
         "2",
         "The Greatest Happiness",
         "IN",
         "nm0611531",
         "Hrishikesh Mukherjee",
         "director,editor,writer"
        ],
        [
         "19",
         "tt0069204",
         "Sabse Bada Sukh",
         "Sabse Bada Sukh",
         "2018",
         "87.0",
         "Comedy,Drama",
         "6.1",
         "13",
         "3",
         "Sabse Bada Sukh",
         null,
         "nm0611531",
         "Hrishikesh Mukherjee",
         "director,editor,writer"
        ],
        [
         "20",
         "tt0100275",
         "The Wandering Soap Opera",
         "La Telenovela Errante",
         "2017",
         "80.0",
         "Comedy,Drama,Fantasy",
         "6.5",
         "119",
         "1",
         "La Telenovela Errante",
         null,
         "nm0749914",
         "Raoul Ruiz",
         "director,writer,producer"
        ],
        [
         "21",
         "tt0100275",
         "The Wandering Soap Opera",
         "La Telenovela Errante",
         "2017",
         "80.0",
         "Comedy,Drama,Fantasy",
         "6.5",
         "119",
         "1",
         "La Telenovela Errante",
         null,
         "nm0765384",
         "Valeria Sarmiento",
         "editor,director,writer"
        ],
        [
         "22",
         "tt0100275",
         "The Wandering Soap Opera",
         "La Telenovela Errante",
         "2017",
         "80.0",
         "Comedy,Drama,Fantasy",
         "6.5",
         "119",
         "2",
         "The Wandering Soap Opera",
         "XWW",
         "nm0749914",
         "Raoul Ruiz",
         "director,writer,producer"
        ],
        [
         "23",
         "tt0100275",
         "The Wandering Soap Opera",
         "La Telenovela Errante",
         "2017",
         "80.0",
         "Comedy,Drama,Fantasy",
         "6.5",
         "119",
         "2",
         "The Wandering Soap Opera",
         "XWW",
         "nm0765384",
         "Valeria Sarmiento",
         "editor,director,writer"
        ],
        [
         "24",
         "tt0100275",
         "The Wandering Soap Opera",
         "La Telenovela Errante",
         "2017",
         "80.0",
         "Comedy,Drama,Fantasy",
         "6.5",
         "119",
         "3",
         "La Telenovela Errante",
         "CL",
         "nm0749914",
         "Raoul Ruiz",
         "director,writer,producer"
        ],
        [
         "25",
         "tt0100275",
         "The Wandering Soap Opera",
         "La Telenovela Errante",
         "2017",
         "80.0",
         "Comedy,Drama,Fantasy",
         "6.5",
         "119",
         "3",
         "La Telenovela Errante",
         "CL",
         "nm0765384",
         "Valeria Sarmiento",
         "editor,director,writer"
        ],
        [
         "26",
         "tt0100275",
         "The Wandering Soap Opera",
         "La Telenovela Errante",
         "2017",
         "80.0",
         "Comedy,Drama,Fantasy",
         "6.5",
         "119",
         "4",
         "La novela errante",
         "CL",
         "nm0749914",
         "Raoul Ruiz",
         "director,writer,producer"
        ],
        [
         "27",
         "tt0100275",
         "The Wandering Soap Opera",
         "La Telenovela Errante",
         "2017",
         "80.0",
         "Comedy,Drama,Fantasy",
         "6.5",
         "119",
         "4",
         "La novela errante",
         "CL",
         "nm0765384",
         "Valeria Sarmiento",
         "editor,director,writer"
        ],
        [
         "28",
         "tt0100275",
         "The Wandering Soap Opera",
         "La Telenovela Errante",
         "2017",
         "80.0",
         "Comedy,Drama,Fantasy",
         "6.5",
         "119",
         "5",
         "Objazdowa opera mydlana",
         "PL",
         "nm0749914",
         "Raoul Ruiz",
         "director,writer,producer"
        ],
        [
         "29",
         "tt0100275",
         "The Wandering Soap Opera",
         "La Telenovela Errante",
         "2017",
         "80.0",
         "Comedy,Drama,Fantasy",
         "6.5",
         "119",
         "5",
         "Objazdowa opera mydlana",
         "PL",
         "nm0765384",
         "Valeria Sarmiento",
         "editor,director,writer"
        ],
        [
         "30",
         "tt0112502",
         "Bigfoot",
         "Bigfoot",
         "2017",
         "87.0",
         "Horror,Thriller",
         "4.1",
         "32",
         "1",
         "Bigfoot",
         "US",
         "nm6883878",
         "Mc Jones",
         "actor,director"
        ],
        [
         "31",
         "tt0137204",
         "Joe Finds Grace",
         "Joe Finds Grace",
         "2017",
         "83.0",
         "Adventure,Animation,Comedy",
         "8.1",
         "263",
         "1",
         "Joe Finds Grace",
         "CA",
         "nm0365480",
         "Anthony Harrison",
         "actor,writer,producer"
        ],
        [
         "32",
         "tt0137204",
         "Joe Finds Grace",
         "Joe Finds Grace",
         "2017",
         "83.0",
         "Adventure,Animation,Comedy",
         "8.1",
         "263",
         "2",
         "Elephant Joe",
         null,
         "nm0365480",
         "Anthony Harrison",
         "actor,writer,producer"
        ],
        [
         "33",
         "tt0137204",
         "Joe Finds Grace",
         "Joe Finds Grace",
         "2017",
         "83.0",
         "Adventure,Animation,Comedy",
         "8.1",
         "263",
         "3",
         "Joe Finds Grace",
         null,
         "nm0365480",
         "Anthony Harrison",
         "actor,writer,producer"
        ],
        [
         "34",
         "tt0137204",
         "Joe Finds Grace",
         "Joe Finds Grace",
         "2017",
         "83.0",
         "Adventure,Animation,Comedy",
         "8.1",
         "263",
         "4",
         "Saving Grace",
         null,
         "nm0365480",
         "Anthony Harrison",
         "actor,writer,producer"
        ],
        [
         "35",
         "tt0146592",
         "Pál Adrienn",
         "Pál Adrienn",
         "2010",
         "136.0",
         "Drama",
         "6.8",
         "451",
         "1",
         "Adrienn Pal",
         "PL",
         "nm1030585",
         "Ágnes Kocsis",
         "director,writer,producer"
        ],
        [
         "36",
         "tt0146592",
         "Pál Adrienn",
         "Pál Adrienn",
         "2010",
         "136.0",
         "Drama",
         "6.8",
         "451",
         "2",
         "Адриен Пал",
         "BG",
         "nm1030585",
         "Ágnes Kocsis",
         "director,writer,producer"
        ],
        [
         "37",
         "tt0146592",
         "Pál Adrienn",
         "Pál Adrienn",
         "2010",
         "136.0",
         "Drama",
         "6.8",
         "451",
         "3",
         "Pal Adrienn",
         "HR",
         "nm1030585",
         "Ágnes Kocsis",
         "director,writer,producer"
        ],
        [
         "38",
         "tt0146592",
         "Pál Adrienn",
         "Pál Adrienn",
         "2010",
         "136.0",
         "Drama",
         "6.8",
         "451",
         "4",
         "Pál Adrienn",
         "HU",
         "nm1030585",
         "Ágnes Kocsis",
         "director,writer,producer"
        ],
        [
         "39",
         "tt0146592",
         "Pál Adrienn",
         "Pál Adrienn",
         "2010",
         "136.0",
         "Drama",
         "6.8",
         "451",
         "5",
         "Adrienn Pál",
         "SE",
         "nm1030585",
         "Ágnes Kocsis",
         "director,writer,producer"
        ],
        [
         "40",
         "tt0146592",
         "Pál Adrienn",
         "Pál Adrienn",
         "2010",
         "136.0",
         "Drama",
         "6.8",
         "451",
         "6",
         "Pál Adrienn",
         null,
         "nm1030585",
         "Ágnes Kocsis",
         "director,writer,producer"
        ],
        [
         "41",
         "tt0154039",
         "So Much for Justice!",
         "Oda az igazság",
         "2010",
         "100.0",
         "History",
         "4.6",
         "64",
         "1",
         "Oda az igazság",
         null,
         "nm0417352",
         "Miklós Jancsó",
         "director,writer,actor"
        ],
        [
         "42",
         "tt0154039",
         "So Much for Justice!",
         "Oda az igazság",
         "2010",
         "100.0",
         "History",
         "4.6",
         "64",
         "2",
         "Oda az igazság",
         "HU",
         "nm0417352",
         "Miklós Jancsó",
         "director,writer,actor"
        ],
        [
         "43",
         "tt0154039",
         "So Much for Justice!",
         "Oda az igazság",
         "2010",
         "100.0",
         "History",
         "4.6",
         "64",
         "3",
         "C'est la vérité",
         "FR",
         "nm0417352",
         "Miklós Jancsó",
         "director,writer,actor"
        ],
        [
         "44",
         "tt0154039",
         "So Much for Justice!",
         "Oda az igazság",
         "2010",
         "100.0",
         "History",
         "4.6",
         "64",
         "4",
         "So Much for Justice!",
         "XWW",
         "nm0417352",
         "Miklós Jancsó",
         "director,writer,actor"
        ],
        [
         "45",
         "tt0154039",
         "So Much for Justice!",
         "Oda az igazság",
         "2010",
         "100.0",
         "History",
         "4.6",
         "64",
         "5",
         "So Much for Justice",
         "FR",
         "nm0417352",
         "Miklós Jancsó",
         "director,writer,actor"
        ],
        [
         "46",
         "tt0154039",
         "So Much for Justice!",
         "Oda az igazság",
         "2010",
         "100.0",
         "History",
         "4.6",
         "64",
         "6",
         "Szlag trafil sprawiedliwosc",
         "PL",
         "nm0417352",
         "Miklós Jancsó",
         "director,writer,actor"
        ],
        [
         "47",
         "tt0162942",
         "Children of the Green Dragon",
         "A zöld sárkány gyermekei",
         "2010",
         "89.0",
         "Drama",
         "6.9",
         "120",
         "1",
         "Dzieci Zielonego Smoka",
         "PL",
         "nm1207262",
         "Bence Miklauzic",
         "director,writer,assistant_director"
        ],
        [
         "48",
         "tt0162942",
         "Children of the Green Dragon",
         "A zöld sárkány gyermekei",
         "2010",
         "89.0",
         "Drama",
         "6.9",
         "120",
         "2",
         "A zöld sárkány gyermekei",
         "HU",
         "nm1207262",
         "Bence Miklauzic",
         "director,writer,assistant_director"
        ],
        [
         "49",
         "tt0162942",
         "Children of the Green Dragon",
         "A zöld sárkány gyermekei",
         "2010",
         "89.0",
         "Drama",
         "6.9",
         "120",
         "3",
         "A zöld sárkány gyermekei",
         null,
         "nm1207262",
         "Bence Miklauzic",
         "director,writer,assistant_director"
        ]
       ],
       "shape": {
        "columns": 14,
        "rows": 296299
       }
      },
      "text/html": [
       "<div>\n",
       "<style scoped>\n",
       "    .dataframe tbody tr th:only-of-type {\n",
       "        vertical-align: middle;\n",
       "    }\n",
       "\n",
       "    .dataframe tbody tr th {\n",
       "        vertical-align: top;\n",
       "    }\n",
       "\n",
       "    .dataframe thead th {\n",
       "        text-align: right;\n",
       "    }\n",
       "</style>\n",
       "<table border=\"1\" class=\"dataframe\">\n",
       "  <thead>\n",
       "    <tr style=\"text-align: right;\">\n",
       "      <th></th>\n",
       "      <th>movie_id</th>\n",
       "      <th>primary_title</th>\n",
       "      <th>original_title</th>\n",
       "      <th>start_year</th>\n",
       "      <th>runtime_minutes</th>\n",
       "      <th>genres</th>\n",
       "      <th>averagerating</th>\n",
       "      <th>numvotes</th>\n",
       "      <th>ordering</th>\n",
       "      <th>region_title</th>\n",
       "      <th>region</th>\n",
       "      <th>person_id</th>\n",
       "      <th>primary_name</th>\n",
       "      <th>primary_profession</th>\n",
       "    </tr>\n",
       "  </thead>\n",
       "  <tbody>\n",
       "    <tr>\n",
       "      <th>0</th>\n",
       "      <td>tt0066787</td>\n",
       "      <td>One Day Before the Rainy Season</td>\n",
       "      <td>Ashad Ka Ek Din</td>\n",
       "      <td>2019</td>\n",
       "      <td>114.0</td>\n",
       "      <td>Biography,Drama</td>\n",
       "      <td>7.2</td>\n",
       "      <td>43</td>\n",
       "      <td>1</td>\n",
       "      <td>One Day Before the Rainy Season</td>\n",
       "      <td>XWW</td>\n",
       "      <td>nm0002411</td>\n",
       "      <td>Mani Kaul</td>\n",
       "      <td>director,writer,actor</td>\n",
       "    </tr>\n",
       "    <tr>\n",
       "      <th>1</th>\n",
       "      <td>tt0066787</td>\n",
       "      <td>One Day Before the Rainy Season</td>\n",
       "      <td>Ashad Ka Ek Din</td>\n",
       "      <td>2019</td>\n",
       "      <td>114.0</td>\n",
       "      <td>Biography,Drama</td>\n",
       "      <td>7.2</td>\n",
       "      <td>43</td>\n",
       "      <td>2</td>\n",
       "      <td>Ashad Ka Ek Din</td>\n",
       "      <td>IN</td>\n",
       "      <td>nm0002411</td>\n",
       "      <td>Mani Kaul</td>\n",
       "      <td>director,writer,actor</td>\n",
       "    </tr>\n",
       "    <tr>\n",
       "      <th>2</th>\n",
       "      <td>tt0066787</td>\n",
       "      <td>One Day Before the Rainy Season</td>\n",
       "      <td>Ashad Ka Ek Din</td>\n",
       "      <td>2019</td>\n",
       "      <td>114.0</td>\n",
       "      <td>Biography,Drama</td>\n",
       "      <td>7.2</td>\n",
       "      <td>43</td>\n",
       "      <td>3</td>\n",
       "      <td>One Monsoon Day</td>\n",
       "      <td>None</td>\n",
       "      <td>nm0002411</td>\n",
       "      <td>Mani Kaul</td>\n",
       "      <td>director,writer,actor</td>\n",
       "    </tr>\n",
       "    <tr>\n",
       "      <th>3</th>\n",
       "      <td>tt0066787</td>\n",
       "      <td>One Day Before the Rainy Season</td>\n",
       "      <td>Ashad Ka Ek Din</td>\n",
       "      <td>2019</td>\n",
       "      <td>114.0</td>\n",
       "      <td>Biography,Drama</td>\n",
       "      <td>7.2</td>\n",
       "      <td>43</td>\n",
       "      <td>4</td>\n",
       "      <td>Ashad Ka Ek Din</td>\n",
       "      <td>None</td>\n",
       "      <td>nm0002411</td>\n",
       "      <td>Mani Kaul</td>\n",
       "      <td>director,writer,actor</td>\n",
       "    </tr>\n",
       "    <tr>\n",
       "      <th>4</th>\n",
       "      <td>tt0069049</td>\n",
       "      <td>The Other Side of the Wind</td>\n",
       "      <td>The Other Side of the Wind</td>\n",
       "      <td>2018</td>\n",
       "      <td>122.0</td>\n",
       "      <td>Drama</td>\n",
       "      <td>6.9</td>\n",
       "      <td>4517</td>\n",
       "      <td>10</td>\n",
       "      <td>La otra cara del viento</td>\n",
       "      <td>VE</td>\n",
       "      <td>nm0000080</td>\n",
       "      <td>Orson Welles</td>\n",
       "      <td>actor,director,writer</td>\n",
       "    </tr>\n",
       "    <tr>\n",
       "      <th>...</th>\n",
       "      <td>...</td>\n",
       "      <td>...</td>\n",
       "      <td>...</td>\n",
       "      <td>...</td>\n",
       "      <td>...</td>\n",
       "      <td>...</td>\n",
       "      <td>...</td>\n",
       "      <td>...</td>\n",
       "      <td>...</td>\n",
       "      <td>...</td>\n",
       "      <td>...</td>\n",
       "      <td>...</td>\n",
       "      <td>...</td>\n",
       "      <td>...</td>\n",
       "    </tr>\n",
       "    <tr>\n",
       "      <th>296294</th>\n",
       "      <td>tt9905462</td>\n",
       "      <td>Pengalila</td>\n",
       "      <td>Pengalila</td>\n",
       "      <td>2019</td>\n",
       "      <td>111.0</td>\n",
       "      <td>Drama</td>\n",
       "      <td>8.4</td>\n",
       "      <td>600</td>\n",
       "      <td>2</td>\n",
       "      <td>Sisterleaf</td>\n",
       "      <td>IN</td>\n",
       "      <td>nm0151535</td>\n",
       "      <td>T.V. Chandran</td>\n",
       "      <td>director,writer,actor</td>\n",
       "    </tr>\n",
       "    <tr>\n",
       "      <th>296295</th>\n",
       "      <td>tt9905462</td>\n",
       "      <td>Pengalila</td>\n",
       "      <td>Pengalila</td>\n",
       "      <td>2019</td>\n",
       "      <td>111.0</td>\n",
       "      <td>Drama</td>\n",
       "      <td>8.4</td>\n",
       "      <td>600</td>\n",
       "      <td>3</td>\n",
       "      <td>Pengalila</td>\n",
       "      <td>IN</td>\n",
       "      <td>nm0151535</td>\n",
       "      <td>T.V. Chandran</td>\n",
       "      <td>director,writer,actor</td>\n",
       "    </tr>\n",
       "    <tr>\n",
       "      <th>296296</th>\n",
       "      <td>tt9911774</td>\n",
       "      <td>Padmavyuhathile Abhimanyu</td>\n",
       "      <td>Padmavyuhathile Abhimanyu</td>\n",
       "      <td>2019</td>\n",
       "      <td>130.0</td>\n",
       "      <td>Drama</td>\n",
       "      <td>8.4</td>\n",
       "      <td>365</td>\n",
       "      <td>1</td>\n",
       "      <td>Padmavyuhathile Abhimanyu</td>\n",
       "      <td>None</td>\n",
       "      <td>nm10536451</td>\n",
       "      <td>Vineesh Aaradya</td>\n",
       "      <td>writer,director</td>\n",
       "    </tr>\n",
       "    <tr>\n",
       "      <th>296297</th>\n",
       "      <td>tt9911774</td>\n",
       "      <td>Padmavyuhathile Abhimanyu</td>\n",
       "      <td>Padmavyuhathile Abhimanyu</td>\n",
       "      <td>2019</td>\n",
       "      <td>130.0</td>\n",
       "      <td>Drama</td>\n",
       "      <td>8.4</td>\n",
       "      <td>365</td>\n",
       "      <td>2</td>\n",
       "      <td>Pathmavyuhathile Abhimanyu</td>\n",
       "      <td>IN</td>\n",
       "      <td>nm10536451</td>\n",
       "      <td>Vineesh Aaradya</td>\n",
       "      <td>writer,director</td>\n",
       "    </tr>\n",
       "    <tr>\n",
       "      <th>296298</th>\n",
       "      <td>tt9911774</td>\n",
       "      <td>Padmavyuhathile Abhimanyu</td>\n",
       "      <td>Padmavyuhathile Abhimanyu</td>\n",
       "      <td>2019</td>\n",
       "      <td>130.0</td>\n",
       "      <td>Drama</td>\n",
       "      <td>8.4</td>\n",
       "      <td>365</td>\n",
       "      <td>3</td>\n",
       "      <td>Padmavyoohathile Abhimanyu</td>\n",
       "      <td>IN</td>\n",
       "      <td>nm10536451</td>\n",
       "      <td>Vineesh Aaradya</td>\n",
       "      <td>writer,director</td>\n",
       "    </tr>\n",
       "  </tbody>\n",
       "</table>\n",
       "<p>296299 rows × 14 columns</p>\n",
       "</div>"
      ],
      "text/plain": [
       "         movie_id                    primary_title  \\\n",
       "0       tt0066787  One Day Before the Rainy Season   \n",
       "1       tt0066787  One Day Before the Rainy Season   \n",
       "2       tt0066787  One Day Before the Rainy Season   \n",
       "3       tt0066787  One Day Before the Rainy Season   \n",
       "4       tt0069049       The Other Side of the Wind   \n",
       "...           ...                              ...   \n",
       "296294  tt9905462                        Pengalila   \n",
       "296295  tt9905462                        Pengalila   \n",
       "296296  tt9911774        Padmavyuhathile Abhimanyu   \n",
       "296297  tt9911774        Padmavyuhathile Abhimanyu   \n",
       "296298  tt9911774        Padmavyuhathile Abhimanyu   \n",
       "\n",
       "                    original_title  start_year  runtime_minutes  \\\n",
       "0                  Ashad Ka Ek Din        2019            114.0   \n",
       "1                  Ashad Ka Ek Din        2019            114.0   \n",
       "2                  Ashad Ka Ek Din        2019            114.0   \n",
       "3                  Ashad Ka Ek Din        2019            114.0   \n",
       "4       The Other Side of the Wind        2018            122.0   \n",
       "...                            ...         ...              ...   \n",
       "296294                   Pengalila        2019            111.0   \n",
       "296295                   Pengalila        2019            111.0   \n",
       "296296   Padmavyuhathile Abhimanyu        2019            130.0   \n",
       "296297   Padmavyuhathile Abhimanyu        2019            130.0   \n",
       "296298   Padmavyuhathile Abhimanyu        2019            130.0   \n",
       "\n",
       "                 genres  averagerating  numvotes  ordering  \\\n",
       "0       Biography,Drama            7.2        43         1   \n",
       "1       Biography,Drama            7.2        43         2   \n",
       "2       Biography,Drama            7.2        43         3   \n",
       "3       Biography,Drama            7.2        43         4   \n",
       "4                 Drama            6.9      4517        10   \n",
       "...                 ...            ...       ...       ...   \n",
       "296294            Drama            8.4       600         2   \n",
       "296295            Drama            8.4       600         3   \n",
       "296296            Drama            8.4       365         1   \n",
       "296297            Drama            8.4       365         2   \n",
       "296298            Drama            8.4       365         3   \n",
       "\n",
       "                           region_title region   person_id     primary_name  \\\n",
       "0       One Day Before the Rainy Season    XWW   nm0002411        Mani Kaul   \n",
       "1                       Ashad Ka Ek Din     IN   nm0002411        Mani Kaul   \n",
       "2                       One Monsoon Day   None   nm0002411        Mani Kaul   \n",
       "3                       Ashad Ka Ek Din   None   nm0002411        Mani Kaul   \n",
       "4               La otra cara del viento     VE   nm0000080     Orson Welles   \n",
       "...                                 ...    ...         ...              ...   \n",
       "296294                       Sisterleaf     IN   nm0151535    T.V. Chandran   \n",
       "296295                        Pengalila     IN   nm0151535    T.V. Chandran   \n",
       "296296        Padmavyuhathile Abhimanyu   None  nm10536451  Vineesh Aaradya   \n",
       "296297       Pathmavyuhathile Abhimanyu     IN  nm10536451  Vineesh Aaradya   \n",
       "296298       Padmavyoohathile Abhimanyu     IN  nm10536451  Vineesh Aaradya   \n",
       "\n",
       "           primary_profession  \n",
       "0       director,writer,actor  \n",
       "1       director,writer,actor  \n",
       "2       director,writer,actor  \n",
       "3       director,writer,actor  \n",
       "4       actor,director,writer  \n",
       "...                       ...  \n",
       "296294  director,writer,actor  \n",
       "296295  director,writer,actor  \n",
       "296296        writer,director  \n",
       "296297        writer,director  \n",
       "296298        writer,director  \n",
       "\n",
       "[296299 rows x 14 columns]"
      ]
     },
     "execution_count": 83,
     "metadata": {},
     "output_type": "execute_result"
    }
   ],
   "source": [
    "final_df = movie_merge.merge(people_merge1, on='movie_id', how='left')\n",
    "final_df"
   ]
  },
  {
   "cell_type": "code",
   "execution_count": 84,
   "metadata": {},
   "outputs": [
    {
     "name": "stdout",
     "output_type": "stream",
     "text": [
      "Index(['movie_id', 'title', 'original_title', 'release_year', 'runtime_min',\n",
      "       'genres', 'imdb_rating', 'imdb_votes', 'alt_title', 'release_region',\n",
      "       'person_id', 'person_name', 'person_profession'],\n",
      "      dtype='object')\n"
     ]
    }
   ],
   "source": [
    "final_df.columns\n",
    "\n",
    "final_df = final_df.rename(columns={\n",
    "    'movie_id': 'movie_id',\n",
    "    'primary_title': 'title',\n",
    "    'original_title': 'original_title',\n",
    "    'start_year': 'release_year',\n",
    "    'runtime_minutes': 'runtime_min',\n",
    "    'genres': 'genres',\n",
    "    'averagerating': 'imdb_rating',\n",
    "    'numvotes': 'imdb_votes',\n",
    "    'region_title': 'alt_title',\n",
    "    'region': 'release_region',\n",
    "    'person_id': 'person_id',\n",
    "    'primary_name': 'person_name',\n",
    "    'primary_profession': 'person_profession'\n",
    "})\n",
    "\n",
    "final_df = final_df.drop(columns='ordering')\n",
    "\n",
    "print(final_df.columns)\n"
   ]
  },
  {
   "cell_type": "markdown",
   "metadata": {},
   "source": [
    "#  Q1.Genre Analysis"
   ]
  },
  {
   "cell_type": "code",
   "execution_count": 85,
   "metadata": {},
   "outputs": [
    {
     "data": {
      "application/vnd.microsoft.datawrangler.viewer.v0+json": {
       "columns": [
        {
         "name": "index",
         "rawType": "int64",
         "type": "integer"
        },
        {
         "name": "movie_id",
         "rawType": "object",
         "type": "string"
        },
        {
         "name": "title",
         "rawType": "object",
         "type": "string"
        },
        {
         "name": "original_title",
         "rawType": "object",
         "type": "string"
        },
        {
         "name": "release_year",
         "rawType": "int64",
         "type": "integer"
        },
        {
         "name": "runtime_min",
         "rawType": "float64",
         "type": "float"
        },
        {
         "name": "genres",
         "rawType": "object",
         "type": "string"
        },
        {
         "name": "imdb_rating",
         "rawType": "float64",
         "type": "float"
        },
        {
         "name": "imdb_votes",
         "rawType": "int64",
         "type": "integer"
        },
        {
         "name": "alt_title",
         "rawType": "object",
         "type": "string"
        },
        {
         "name": "release_region",
         "rawType": "object",
         "type": "unknown"
        },
        {
         "name": "person_id",
         "rawType": "object",
         "type": "unknown"
        },
        {
         "name": "person_name",
         "rawType": "object",
         "type": "unknown"
        },
        {
         "name": "person_profession",
         "rawType": "object",
         "type": "unknown"
        }
       ],
       "ref": "aafad50d-01dc-46c2-b17e-c4698142b380",
       "rows": [
        [
         "0",
         "tt0066787",
         "One Day Before the Rainy Season",
         "Ashad Ka Ek Din",
         "2019",
         "114.0",
         "Biography,Drama",
         "7.2",
         "43",
         "One Day Before the Rainy Season",
         "XWW",
         "nm0002411",
         "Mani Kaul",
         "director,writer,actor"
        ],
        [
         "4",
         "tt0069049",
         "The Other Side of the Wind",
         "The Other Side of the Wind",
         "2018",
         "122.0",
         "Drama",
         "6.9",
         "4517",
         "La otra cara del viento",
         "VE",
         "nm0000080",
         "Orson Welles",
         "actor,director,writer"
        ],
        [
         "17",
         "tt0069204",
         "Sabse Bada Sukh",
         "Sabse Bada Sukh",
         "2018",
         "87.0",
         "Comedy,Drama",
         "6.1",
         "13",
         "Subse Bada Sukh",
         "IN",
         "nm0611531",
         "Hrishikesh Mukherjee",
         "director,editor,writer"
        ],
        [
         "20",
         "tt0100275",
         "The Wandering Soap Opera",
         "La Telenovela Errante",
         "2017",
         "80.0",
         "Comedy,Drama,Fantasy",
         "6.5",
         "119",
         "La Telenovela Errante",
         null,
         "nm0749914",
         "Raoul Ruiz",
         "director,writer,producer"
        ],
        [
         "30",
         "tt0112502",
         "Bigfoot",
         "Bigfoot",
         "2017",
         "87.0",
         "Horror,Thriller",
         "4.1",
         "32",
         "Bigfoot",
         "US",
         "nm6883878",
         "Mc Jones",
         "actor,director"
        ],
        [
         "31",
         "tt0137204",
         "Joe Finds Grace",
         "Joe Finds Grace",
         "2017",
         "83.0",
         "Adventure,Animation,Comedy",
         "8.1",
         "263",
         "Joe Finds Grace",
         "CA",
         "nm0365480",
         "Anthony Harrison",
         "actor,writer,producer"
        ],
        [
         "35",
         "tt0146592",
         "Pál Adrienn",
         "Pál Adrienn",
         "2010",
         "136.0",
         "Drama",
         "6.8",
         "451",
         "Adrienn Pal",
         "PL",
         "nm1030585",
         "Ágnes Kocsis",
         "director,writer,producer"
        ],
        [
         "41",
         "tt0154039",
         "So Much for Justice!",
         "Oda az igazság",
         "2010",
         "100.0",
         "History",
         "4.6",
         "64",
         "Oda az igazság",
         null,
         "nm0417352",
         "Miklós Jancsó",
         "director,writer,actor"
        ],
        [
         "47",
         "tt0162942",
         "Children of the Green Dragon",
         "A zöld sárkány gyermekei",
         "2010",
         "89.0",
         "Drama",
         "6.9",
         "120",
         "Dzieci Zielonego Smoka",
         "PL",
         "nm1207262",
         "Bence Miklauzic",
         "director,writer,assistant_director"
        ],
        [
         "51",
         "tt0192528",
         "Heaven & Hell",
         "Reverse Heaven",
         "2018",
         "104.0",
         "Drama",
         "4.0",
         "72",
         "Heaven & Hell",
         "US",
         "nm0667001",
         "Stuart Paul",
         "writer,director,actor"
        ],
        [
         "53",
         "tt0230212",
         "The Final Journey",
         "The Final Journey",
         "2010",
         "120.0",
         "Drama",
         "8.8",
         "8",
         "The Final Journey",
         "US",
         "nm0011276",
         "R.J. Adams",
         "actor,writer,director"
        ],
        [
         "54",
         "tt0247643",
         "Los pájaros se van con la muerte",
         "Los pájaros se van con la muerte",
         "2011",
         "110.0",
         "Drama,Mystery",
         "4.0",
         "12",
         "Los pájaros se van con la muerte",
         "VE",
         "nm0881867",
         "Thaelman Urgelles",
         "writer,producer,director"
        ],
        [
         "55",
         "tt0249516",
         "Foodfight!",
         "Foodfight!",
         "2012",
         "91.0",
         "Action,Animation,Comedy",
         "1.9",
         "8248",
         "Foodfight!",
         "FI",
         "nm0440415",
         "Lawrence Kasanoff",
         "producer,writer,director"
        ],
        [
         "66",
         "tt0250404",
         "Godfather",
         "Godfather",
         "2012",
         "87.0",
         "Crime,Drama",
         "6.7",
         "236",
         "Godfather",
         "PK",
         "nm0709364",
         "Parvez Rana",
         "director,writer"
        ],
        [
         "67",
         "tt0253093",
         "Gangavataran",
         "Gangavataran",
         "2018",
         "134.0",
         "Unknown",
         "6.6",
         "8",
         "Gangavataran",
         null,
         "nm0679610",
         "Dhundiraj Govind Phalke",
         "director,writer,cinematographer"
        ],
        [
         "73",
         "tt0255820",
         "Return to Babylon",
         "Return to Babylon",
         "2013",
         "75.0",
         "Biography,Comedy,Drama",
         "5.9",
         "123",
         "Return to Babylon",
         "US",
         "nm0133626",
         "Alex Monty Canawati",
         "director,writer,actor"
        ],
        [
         "77",
         "tt0262218",
         "Akakis mogzauroba",
         "Akakis mogzauroba",
         "2012",
         "44.0",
         "Documentary",
         "7.8",
         "22",
         "Akakis mogzauroba",
         "GE",
         "nm0024093",
         "Vasil Amashukeli",
         "director,cinematographer,miscellaneous"
        ],
        [
         "81",
         "tt0263814",
         "On kadin",
         "On kadin",
         "2019",
         "87.0",
         "Drama",
         "7.1",
         "100",
         "On kadin",
         "TR",
         "nm0351410",
         "Serif Gören",
         "director,writer,editor"
        ],
        [
         "82",
         "tt0276568",
         "To Chase a Million",
         "To Chase a Million",
         "2018",
         "97.0",
         "Action,Drama",
         "7.4",
         "5",
         "To Chase a Million",
         "GB",
         "nm0413912",
         "Pat Jackson",
         "director,production_designer,writer"
        ],
        [
         "83",
         "tt0277964",
         "Prague: The Restless Heart of Europe",
         "Praha - neklidné srdce Evropy",
         "2018",
         "59.0",
         "Documentary,History",
         "7.0",
         "31",
         "Praga - niespokojne serce Europy",
         "PL",
         "nm0161615",
         "Vera Chytilová",
         "director,writer,actress"
        ],
        [
         "87",
         "tt0283440",
         "Short Time Heroes",
         "Kurzzeithelden",
         "2015",
         "45.0",
         "Sci-Fi",
         "6.6",
         "16",
         "Kurzzeithelden",
         "DE",
         "nm0905839",
         "Christine Wagner",
         "camera_department,cinematographer,director"
        ],
        [
         "93",
         "tt0285252",
         "Life's a Beach",
         "Life's a Beach",
         "2012",
         "100.0",
         "Comedy",
         "3.9",
         "219",
         "Bikini Beach",
         "SE",
         "nm0899854",
         "Tony Vitale",
         "producer,director,writer"
        ],
        [
         "100",
         "tt0285423",
         "Abolição",
         "Abolição",
         "2019",
         "87.0",
         "Documentary",
         "7.4",
         "35",
         "Abolição",
         "BR",
         "nm0119856",
         "Zózimo Bulbul",
         "actor,director,writer"
        ],
        [
         "101",
         "tt0293069",
         "Dark Blood",
         "Dark Blood",
         "2012",
         "86.0",
         "Thriller",
         "6.6",
         "1053",
         "Дурная кровь",
         "RU",
         "nm0806293",
         "George Sluizer",
         "director,producer,writer"
        ],
        [
         "104",
         "tt0297400",
         "Snowblind",
         "Snowblind",
         "2015",
         "87.0",
         "Crime,Drama",
         "6.7",
         "77",
         "Snowblind",
         "US",
         null,
         null,
         null
        ],
        [
         "105",
         "tt0306058",
         "Second Coming",
         "Second Coming",
         "2012",
         "95.0",
         "Unknown",
         "5.5",
         "20",
         "Second Coming",
         "US",
         "nm0132363",
         "Darren Campbell",
         "actor,writer,director"
        ],
        [
         "106",
         "tt0312305",
         "Quantum Quest: A Cassini Space Odyssey",
         "Quantum Quest: A Cassini Space Odyssey",
         "2010",
         "45.0",
         "Adventure,Animation,Sci-Fi",
         "5.1",
         "287",
         "2004: A Light Knight's Odyssey",
         "US",
         "nm0820800",
         "Daniel St. Pierre",
         "animation_department,art_department,director"
        ],
        [
         "112",
         "tt0315642",
         "Wazir",
         "Wazir",
         "2016",
         "103.0",
         "Action,Crime,Drama",
         "7.1",
         "15378",
         "Wazir",
         null,
         "nm2349060",
         "Bejoy Nambiar",
         "producer,writer,director"
        ],
        [
         "118",
         "tt0323808",
         "The Wicker Tree",
         "The Wicker Tree",
         "2011",
         "96.0",
         "Drama,Horror",
         "3.9",
         "2328",
         "May Day",
         "GB",
         "nm0362736",
         "Robin Hardy",
         "actor,writer,director"
        ],
        [
         "125",
         "tt0326592",
         "The Overnight",
         "The Overnight",
         "2010",
         "88.0",
         "Unknown",
         "7.5",
         "24",
         "A Bellman, a Hooker, and a Rabbi...",
         "US",
         "nm1208371",
         "Jed I. Goodman",
         "camera_department,writer,producer"
        ],
        [
         "131",
         "tt0326965",
         "In My Sleep",
         "In My Sleep",
         "2010",
         "104.0",
         "Drama,Mystery,Thriller",
         "5.5",
         "1889",
         "In My Sleep",
         null,
         "nm1075006",
         "Allen Wolf",
         "miscellaneous,producer,director"
        ],
        [
         "139",
         "tt0328810",
         "My Land",
         "Aamaar Bhuvan",
         "2018",
         "102.0",
         "Drama,Family",
         "7.9",
         "61",
         "Aamaar Bhuvan",
         "IN",
         "nm0784019",
         "Mrinal Sen",
         "director,writer,producer"
        ],
        [
         "143",
         "tt0329539",
         "Rice Girl",
         "Rice Girl",
         "2014",
         "95.0",
         "Adventure,Comedy,Romance",
         "6.1",
         "73",
         "Rice Girl",
         "US",
         "nm0278780",
         "Michael Fischa",
         "director,producer,writer"
        ],
        [
         "144",
         "tt0330811",
         "Regret Not Speaking",
         "Regret Not Speaking",
         "2011",
         "87.0",
         "Unknown",
         "6.2",
         "10",
         "Regret Not Speaking",
         "GB",
         "nm0477193",
         "Richard Kwietniowski",
         "director,writer,cinematographer"
        ],
        [
         "145",
         "tt0330987",
         "Tiden är en dröm, del 2",
         "Tiden är en dröm, del 2",
         "2014",
         "109.0",
         "Unknown",
         "6.3",
         "6",
         "Tiden är en dröm, del 2",
         "SE",
         "nm0511951",
         "Jan Lindkvist",
         "director,writer,cinematographer"
        ],
        [
         "146",
         "tt0331312",
         "This Wretched Life",
         "This Wretched Life",
         "2010",
         "99.0",
         "Comedy,Drama",
         "7.6",
         "59",
         "This Wretched Life",
         "US",
         "nm1238415",
         "Frankie J. Mosca",
         "actor,writer,director"
        ],
        [
         "147",
         "tt0331314",
         "Bunyan and Babe",
         "Bunyan and Babe",
         "2017",
         "84.0",
         "Adventure,Animation,Comedy",
         "5.0",
         "302",
         "Paul Bunyan",
         "US",
         "nm8625898",
         "Louis Ross",
         "director"
        ],
        [
         "152",
         "tt0337692",
         "On the Road",
         "On the Road",
         "2012",
         "124.0",
         "Adventure,Drama,Romance",
         "6.1",
         "37886",
         "En el camino",
         "AR",
         "nm0758574",
         "Walter Salles",
         "director,producer,writer"
        ],
        [
         "180",
         "tt0337882",
         "Blind Sided",
         "Blind Sided",
         "2010",
         "87.0",
         "Comedy,Crime,Drama",
         "7.4",
         "14",
         "Blind Sided",
         "US",
         "nm0706973",
         "Douglas A. Raine",
         "assistant_director,miscellaneous,producer"
        ],
        [
         "181",
         "tt0337926",
         "Chatô - The King of Brazil",
         "Chatô: O Rei do Brasil",
         "2015",
         "102.0",
         "Biography",
         "6.0",
         "558",
         "Chatô - The King of Brazil",
         "US",
         "nm0285071",
         "Guilherme Fontes",
         "actor,producer,director"
        ],
        [
         "184",
         "tt0339736",
         "The Evil Within",
         "The Evil Within",
         "2017",
         "98.0",
         "Horror",
         "5.6",
         "2420",
         "Whiplash",
         "US",
         "nm1274189",
         "Andrew Getty",
         "director,writer"
        ],
        [
         "190",
         "tt0346045",
         "Transeúntes",
         "Transeúntes",
         "2015",
         "101.0",
         "Comedy,Drama",
         "6.7",
         "35",
         "Transeúntes",
         "ES",
         "nm0021233",
         "Luis Aller",
         "writer,director,actor"
        ],
        [
         "193",
         "tt0357717",
         "Haar Jeet",
         "Haar Jeet",
         "2018",
         "87.0",
         "Drama",
         "5.1",
         "9",
         "Haar Jeet",
         "IN",
         "nm1065099",
         "C.P. Dixit",
         "director,assistant_director"
        ],
        [
         "194",
         "tt0359950",
         "The Secret Life of Walter Mitty",
         "The Secret Life of Walter Mitty",
         "2013",
         "114.0",
         "Adventure,Comedy,Drama",
         "7.3",
         "275300",
         "Walter Mitty a jeho tajny zivot",
         "CZ",
         "nm0001774",
         "Ben Stiller",
         "producer,actor,director"
        ],
        [
         "227",
         "tt0360556",
         "Fahrenheit 451",
         "Fahrenheit 451",
         "2018",
         "100.0",
         "Drama,Sci-Fi,Thriller",
         "4.9",
         "14469",
         "451 градус за Фаренгейтом",
         "UA",
         "nm1023919",
         "Ramin Bahrani",
         "director,writer,producer"
        ],
        [
         "237",
         "tt0364201",
         "Aman Ke Farishtey",
         "Aman Ke Farishtey",
         "2016",
         "137.0",
         "Action",
         "6.4",
         "16",
         "Aman Ke Farishtey",
         "IN",
         "nm1768188",
         "Kader Kashmiri",
         "director,writer"
        ],
        [
         "238",
         "tt0365545",
         "Nappily Ever After",
         "Nappily Ever After",
         "2018",
         "98.0",
         "Comedy,Drama,Romance",
         "6.4",
         "6287",
         "Une femme de tête",
         "FR",
         "nm2223783",
         "Haifaa Al-Mansour",
         "director,writer,producer"
        ],
        [
         "249",
         "tt0365907",
         "A Walk Among the Tombstones",
         "A Walk Among the Tombstones",
         "2014",
         "114.0",
         "Action,Crime,Drama",
         "6.5",
         "105116",
         "Прогулка среди могил",
         "RU",
         "nm0291082",
         "Scott Frank",
         "writer,producer,director"
        ],
        [
         "276",
         "tt0369610",
         "Jurassic World",
         "Jurassic World",
         "2015",
         "124.0",
         "Action,Adventure,Sci-Fi",
         "7.0",
         "539338",
         "Джурасик свят",
         "BG",
         "nm1119880",
         "Colin Trevorrow",
         "writer,producer,director"
        ],
        [
         "324",
         "tt0372538",
         "Spy",
         "Spy",
         "2011",
         "110.0",
         "Action,Crime,Drama",
         "6.6",
         "78",
         "Spy: The Movie",
         "US",
         "nm0460285",
         "Alexander Klymko",
         "producer,camera_department,sound_department"
        ]
       ],
       "shape": {
        "columns": 13,
        "rows": 68072
       }
      },
      "text/html": [
       "<div>\n",
       "<style scoped>\n",
       "    .dataframe tbody tr th:only-of-type {\n",
       "        vertical-align: middle;\n",
       "    }\n",
       "\n",
       "    .dataframe tbody tr th {\n",
       "        vertical-align: top;\n",
       "    }\n",
       "\n",
       "    .dataframe thead th {\n",
       "        text-align: right;\n",
       "    }\n",
       "</style>\n",
       "<table border=\"1\" class=\"dataframe\">\n",
       "  <thead>\n",
       "    <tr style=\"text-align: right;\">\n",
       "      <th></th>\n",
       "      <th>movie_id</th>\n",
       "      <th>title</th>\n",
       "      <th>original_title</th>\n",
       "      <th>release_year</th>\n",
       "      <th>runtime_min</th>\n",
       "      <th>genres</th>\n",
       "      <th>imdb_rating</th>\n",
       "      <th>imdb_votes</th>\n",
       "      <th>alt_title</th>\n",
       "      <th>release_region</th>\n",
       "      <th>person_id</th>\n",
       "      <th>person_name</th>\n",
       "      <th>person_profession</th>\n",
       "    </tr>\n",
       "  </thead>\n",
       "  <tbody>\n",
       "    <tr>\n",
       "      <th>0</th>\n",
       "      <td>tt0066787</td>\n",
       "      <td>One Day Before the Rainy Season</td>\n",
       "      <td>Ashad Ka Ek Din</td>\n",
       "      <td>2019</td>\n",
       "      <td>114.0</td>\n",
       "      <td>Biography,Drama</td>\n",
       "      <td>7.2</td>\n",
       "      <td>43</td>\n",
       "      <td>One Day Before the Rainy Season</td>\n",
       "      <td>XWW</td>\n",
       "      <td>nm0002411</td>\n",
       "      <td>Mani Kaul</td>\n",
       "      <td>director,writer,actor</td>\n",
       "    </tr>\n",
       "    <tr>\n",
       "      <th>4</th>\n",
       "      <td>tt0069049</td>\n",
       "      <td>The Other Side of the Wind</td>\n",
       "      <td>The Other Side of the Wind</td>\n",
       "      <td>2018</td>\n",
       "      <td>122.0</td>\n",
       "      <td>Drama</td>\n",
       "      <td>6.9</td>\n",
       "      <td>4517</td>\n",
       "      <td>La otra cara del viento</td>\n",
       "      <td>VE</td>\n",
       "      <td>nm0000080</td>\n",
       "      <td>Orson Welles</td>\n",
       "      <td>actor,director,writer</td>\n",
       "    </tr>\n",
       "    <tr>\n",
       "      <th>17</th>\n",
       "      <td>tt0069204</td>\n",
       "      <td>Sabse Bada Sukh</td>\n",
       "      <td>Sabse Bada Sukh</td>\n",
       "      <td>2018</td>\n",
       "      <td>87.0</td>\n",
       "      <td>Comedy,Drama</td>\n",
       "      <td>6.1</td>\n",
       "      <td>13</td>\n",
       "      <td>Subse Bada Sukh</td>\n",
       "      <td>IN</td>\n",
       "      <td>nm0611531</td>\n",
       "      <td>Hrishikesh Mukherjee</td>\n",
       "      <td>director,editor,writer</td>\n",
       "    </tr>\n",
       "    <tr>\n",
       "      <th>20</th>\n",
       "      <td>tt0100275</td>\n",
       "      <td>The Wandering Soap Opera</td>\n",
       "      <td>La Telenovela Errante</td>\n",
       "      <td>2017</td>\n",
       "      <td>80.0</td>\n",
       "      <td>Comedy,Drama,Fantasy</td>\n",
       "      <td>6.5</td>\n",
       "      <td>119</td>\n",
       "      <td>La Telenovela Errante</td>\n",
       "      <td>None</td>\n",
       "      <td>nm0749914</td>\n",
       "      <td>Raoul Ruiz</td>\n",
       "      <td>director,writer,producer</td>\n",
       "    </tr>\n",
       "    <tr>\n",
       "      <th>30</th>\n",
       "      <td>tt0112502</td>\n",
       "      <td>Bigfoot</td>\n",
       "      <td>Bigfoot</td>\n",
       "      <td>2017</td>\n",
       "      <td>87.0</td>\n",
       "      <td>Horror,Thriller</td>\n",
       "      <td>4.1</td>\n",
       "      <td>32</td>\n",
       "      <td>Bigfoot</td>\n",
       "      <td>US</td>\n",
       "      <td>nm6883878</td>\n",
       "      <td>Mc Jones</td>\n",
       "      <td>actor,director</td>\n",
       "    </tr>\n",
       "    <tr>\n",
       "      <th>...</th>\n",
       "      <td>...</td>\n",
       "      <td>...</td>\n",
       "      <td>...</td>\n",
       "      <td>...</td>\n",
       "      <td>...</td>\n",
       "      <td>...</td>\n",
       "      <td>...</td>\n",
       "      <td>...</td>\n",
       "      <td>...</td>\n",
       "      <td>...</td>\n",
       "      <td>...</td>\n",
       "      <td>...</td>\n",
       "      <td>...</td>\n",
       "    </tr>\n",
       "    <tr>\n",
       "      <th>296285</th>\n",
       "      <td>tt9899860</td>\n",
       "      <td>Watching This Movie Is a Crime</td>\n",
       "      <td>Didan in film jorm ast</td>\n",
       "      <td>2019</td>\n",
       "      <td>100.0</td>\n",
       "      <td>Drama,Thriller</td>\n",
       "      <td>8.1</td>\n",
       "      <td>7</td>\n",
       "      <td>Watching This Movie Is a Crime</td>\n",
       "      <td>XWW</td>\n",
       "      <td>nm10531298</td>\n",
       "      <td>Reza Zehtabchian</td>\n",
       "      <td>director,writer</td>\n",
       "    </tr>\n",
       "    <tr>\n",
       "      <th>296288</th>\n",
       "      <td>tt9899880</td>\n",
       "      <td>Columbus</td>\n",
       "      <td>Columbus</td>\n",
       "      <td>2018</td>\n",
       "      <td>85.0</td>\n",
       "      <td>Comedy</td>\n",
       "      <td>5.8</td>\n",
       "      <td>5</td>\n",
       "      <td>Columbus</td>\n",
       "      <td>None</td>\n",
       "      <td>nm5971240</td>\n",
       "      <td>Hatef Alimardani</td>\n",
       "      <td>director,writer,producer</td>\n",
       "    </tr>\n",
       "    <tr>\n",
       "      <th>296290</th>\n",
       "      <td>tt9903952</td>\n",
       "      <td>BADMEN with a good behavior</td>\n",
       "      <td>BADMEN with a good behavior</td>\n",
       "      <td>2018</td>\n",
       "      <td>87.0</td>\n",
       "      <td>Comedy,Horror</td>\n",
       "      <td>9.2</td>\n",
       "      <td>5</td>\n",
       "      <td>BADMEN with a good behavior</td>\n",
       "      <td>DE</td>\n",
       "      <td>nm10532891</td>\n",
       "      <td>Loco Meisenkaiser</td>\n",
       "      <td>director,actor,writer</td>\n",
       "    </tr>\n",
       "    <tr>\n",
       "      <th>296293</th>\n",
       "      <td>tt9905462</td>\n",
       "      <td>Pengalila</td>\n",
       "      <td>Pengalila</td>\n",
       "      <td>2019</td>\n",
       "      <td>111.0</td>\n",
       "      <td>Drama</td>\n",
       "      <td>8.4</td>\n",
       "      <td>600</td>\n",
       "      <td>Pengalila</td>\n",
       "      <td>None</td>\n",
       "      <td>nm0151535</td>\n",
       "      <td>T.V. Chandran</td>\n",
       "      <td>director,writer,actor</td>\n",
       "    </tr>\n",
       "    <tr>\n",
       "      <th>296296</th>\n",
       "      <td>tt9911774</td>\n",
       "      <td>Padmavyuhathile Abhimanyu</td>\n",
       "      <td>Padmavyuhathile Abhimanyu</td>\n",
       "      <td>2019</td>\n",
       "      <td>130.0</td>\n",
       "      <td>Drama</td>\n",
       "      <td>8.4</td>\n",
       "      <td>365</td>\n",
       "      <td>Padmavyuhathile Abhimanyu</td>\n",
       "      <td>None</td>\n",
       "      <td>nm10536451</td>\n",
       "      <td>Vineesh Aaradya</td>\n",
       "      <td>writer,director</td>\n",
       "    </tr>\n",
       "  </tbody>\n",
       "</table>\n",
       "<p>68072 rows × 13 columns</p>\n",
       "</div>"
      ],
      "text/plain": [
       "         movie_id                            title  \\\n",
       "0       tt0066787  One Day Before the Rainy Season   \n",
       "4       tt0069049       The Other Side of the Wind   \n",
       "17      tt0069204                  Sabse Bada Sukh   \n",
       "20      tt0100275         The Wandering Soap Opera   \n",
       "30      tt0112502                          Bigfoot   \n",
       "...           ...                              ...   \n",
       "296285  tt9899860   Watching This Movie Is a Crime   \n",
       "296288  tt9899880                         Columbus   \n",
       "296290  tt9903952      BADMEN with a good behavior   \n",
       "296293  tt9905462                        Pengalila   \n",
       "296296  tt9911774        Padmavyuhathile Abhimanyu   \n",
       "\n",
       "                     original_title  release_year  runtime_min  \\\n",
       "0                   Ashad Ka Ek Din          2019        114.0   \n",
       "4        The Other Side of the Wind          2018        122.0   \n",
       "17                  Sabse Bada Sukh          2018         87.0   \n",
       "20            La Telenovela Errante          2017         80.0   \n",
       "30                          Bigfoot          2017         87.0   \n",
       "...                             ...           ...          ...   \n",
       "296285       Didan in film jorm ast          2019        100.0   \n",
       "296288                     Columbus          2018         85.0   \n",
       "296290  BADMEN with a good behavior          2018         87.0   \n",
       "296293                    Pengalila          2019        111.0   \n",
       "296296    Padmavyuhathile Abhimanyu          2019        130.0   \n",
       "\n",
       "                      genres  imdb_rating  imdb_votes  \\\n",
       "0            Biography,Drama          7.2          43   \n",
       "4                      Drama          6.9        4517   \n",
       "17              Comedy,Drama          6.1          13   \n",
       "20      Comedy,Drama,Fantasy          6.5         119   \n",
       "30           Horror,Thriller          4.1          32   \n",
       "...                      ...          ...         ...   \n",
       "296285        Drama,Thriller          8.1           7   \n",
       "296288                Comedy          5.8           5   \n",
       "296290         Comedy,Horror          9.2           5   \n",
       "296293                 Drama          8.4         600   \n",
       "296296                 Drama          8.4         365   \n",
       "\n",
       "                              alt_title release_region   person_id  \\\n",
       "0       One Day Before the Rainy Season            XWW   nm0002411   \n",
       "4               La otra cara del viento             VE   nm0000080   \n",
       "17                      Subse Bada Sukh             IN   nm0611531   \n",
       "20                La Telenovela Errante           None   nm0749914   \n",
       "30                              Bigfoot             US   nm6883878   \n",
       "...                                 ...            ...         ...   \n",
       "296285   Watching This Movie Is a Crime            XWW  nm10531298   \n",
       "296288                         Columbus           None   nm5971240   \n",
       "296290      BADMEN with a good behavior             DE  nm10532891   \n",
       "296293                        Pengalila           None   nm0151535   \n",
       "296296        Padmavyuhathile Abhimanyu           None  nm10536451   \n",
       "\n",
       "                 person_name         person_profession  \n",
       "0                  Mani Kaul     director,writer,actor  \n",
       "4               Orson Welles     actor,director,writer  \n",
       "17      Hrishikesh Mukherjee    director,editor,writer  \n",
       "20                Raoul Ruiz  director,writer,producer  \n",
       "30                  Mc Jones            actor,director  \n",
       "...                      ...                       ...  \n",
       "296285      Reza Zehtabchian           director,writer  \n",
       "296288      Hatef Alimardani  director,writer,producer  \n",
       "296290     Loco Meisenkaiser     director,actor,writer  \n",
       "296293         T.V. Chandran     director,writer,actor  \n",
       "296296       Vineesh Aaradya           writer,director  \n",
       "\n",
       "[68072 rows x 13 columns]"
      ]
     },
     "execution_count": 85,
     "metadata": {},
     "output_type": "execute_result"
    }
   ],
   "source": [
    "# Remove duplicates\n",
    "final_df_cp = final_df.drop_duplicates(subset = \"movie_id\")\n",
    "final_df_cp"
   ]
  },
  {
   "cell_type": "code",
   "execution_count": 86,
   "metadata": {},
   "outputs": [],
   "source": [
    "# final_df_cp_splitting the genres column\n",
    "final_df_cp_cp = final_df_cp.copy(deep = True)\n",
    "final_df_cp_cp[\"genres\"] = final_df_cp_cp['genres'].str.split(\",\")\n",
    "final_df_cp_exploded = final_df_cp_cp.explode(\"genres\")\n",
    "final_df_cp_exploded.drop(columns = [\"release_region\", \"person_id\",\"person_name\", \"person_profession\"], inplace = True)\n",
    "final_df_cp_exploded = final_df_cp_exploded[final_df_cp_exploded[\"genres\"] != \"Unknown\"]\n"
   ]
  },
  {
   "cell_type": "code",
   "execution_count": 87,
   "metadata": {},
   "outputs": [],
   "source": [
    "# Cleaning tn_budget\n",
    "tn_budget['production_budget'] = tn_budget['production_budget'].replace('[\\$,]', '', regex = True).astype(int)\n",
    "tn_budget['domestic_gross'] = tn_budget['domestic_gross'].replace('[\\$,]', '', regex = True).astype(int)\n",
    "tn_budget['worldwide_gross'] = tn_budget['worldwide_gross'].replace('[\\$,]', '', regex = True).astype('int64')\n",
    "\n",
    "# Feature Engineering\n",
    "tn_budget[\"total_gross\"] = tn_budget['domestic_gross'] + tn_budget['worldwide_gross']\n",
    "tn_budget['profit/loss'] = tn_budget['total_gross'] - tn_budget['production_budget']"
   ]
  },
  {
   "cell_type": "code",
   "execution_count": 88,
   "metadata": {},
   "outputs": [
    {
     "data": {
      "application/vnd.microsoft.datawrangler.viewer.v0+json": {
       "columns": [
        {
         "name": "index",
         "rawType": "int64",
         "type": "integer"
        },
        {
         "name": "id",
         "rawType": "int64",
         "type": "integer"
        },
        {
         "name": "release_date",
         "rawType": "object",
         "type": "string"
        },
        {
         "name": "movie",
         "rawType": "object",
         "type": "string"
        },
        {
         "name": "production_budget",
         "rawType": "int64",
         "type": "integer"
        },
        {
         "name": "domestic_gross",
         "rawType": "int64",
         "type": "integer"
        },
        {
         "name": "worldwide_gross",
         "rawType": "int64",
         "type": "integer"
        },
        {
         "name": "total_gross",
         "rawType": "int64",
         "type": "integer"
        },
        {
         "name": "profit/loss",
         "rawType": "int64",
         "type": "integer"
        }
       ],
       "ref": "54a69fc3-9b3e-4d9e-87ea-5856bcf12389",
       "rows": [
        [
         "0",
         "1",
         "Dec 18, 2009",
         "Avatar",
         "425000000",
         "760507625",
         "2776345279",
         "3536852904",
         "3111852904"
        ],
        [
         "1",
         "2",
         "May 20, 2011",
         "Pirates of the Caribbean: On Stranger Tides",
         "410600000",
         "241063875",
         "1045663875",
         "1286727750",
         "876127750"
        ],
        [
         "2",
         "3",
         "Jun 7, 2019",
         "Dark Phoenix",
         "350000000",
         "42762350",
         "149762350",
         "192524700",
         "-157475300"
        ],
        [
         "3",
         "4",
         "May 1, 2015",
         "Avengers: Age of Ultron",
         "330600000",
         "459005868",
         "1403013963",
         "1862019831",
         "1531419831"
        ],
        [
         "4",
         "5",
         "Dec 15, 2017",
         "Star Wars Ep. VIII: The Last Jedi",
         "317000000",
         "620181382",
         "1316721747",
         "1936903129",
         "1619903129"
        ],
        [
         "5",
         "6",
         "Dec 18, 2015",
         "Star Wars Ep. VII: The Force Awakens",
         "306000000",
         "936662225",
         "2053311220",
         "2989973445",
         "2683973445"
        ],
        [
         "6",
         "7",
         "Apr 27, 2018",
         "Avengers: Infinity War",
         "300000000",
         "678815482",
         "2048134200",
         "2726949682",
         "2426949682"
        ],
        [
         "7",
         "8",
         "May 24, 2007",
         "Pirates of the Caribbean: At Worldâs End",
         "300000000",
         "309420425",
         "963420425",
         "1272840850",
         "972840850"
        ],
        [
         "8",
         "9",
         "Nov 17, 2017",
         "Justice League",
         "300000000",
         "229024295",
         "655945209",
         "884969504",
         "584969504"
        ],
        [
         "9",
         "10",
         "Nov 6, 2015",
         "Spectre",
         "300000000",
         "200074175",
         "879620923",
         "1079695098",
         "779695098"
        ],
        [
         "10",
         "11",
         "Jul 20, 2012",
         "The Dark Knight Rises",
         "275000000",
         "448139099",
         "1084439099",
         "1532578198",
         "1257578198"
        ],
        [
         "11",
         "12",
         "May 25, 2018",
         "Solo: A Star Wars Story",
         "275000000",
         "213767512",
         "393151347",
         "606918859",
         "331918859"
        ],
        [
         "12",
         "13",
         "Jul 2, 2013",
         "The Lone Ranger",
         "275000000",
         "89302115",
         "260002115",
         "349304230",
         "74304230"
        ],
        [
         "13",
         "14",
         "Mar 9, 2012",
         "John Carter",
         "275000000",
         "73058679",
         "282778100",
         "355836779",
         "80836779"
        ],
        [
         "14",
         "15",
         "Nov 24, 2010",
         "Tangled",
         "260000000",
         "200821936",
         "586477240",
         "787299176",
         "527299176"
        ],
        [
         "15",
         "16",
         "May 4, 2007",
         "Spider-Man 3",
         "258000000",
         "336530303",
         "894860230",
         "1231390533",
         "973390533"
        ],
        [
         "16",
         "17",
         "May 6, 2016",
         "Captain America: Civil War",
         "250000000",
         "408084349",
         "1140069413",
         "1548153762",
         "1298153762"
        ],
        [
         "17",
         "18",
         "Mar 25, 2016",
         "Batman v Superman: Dawn of Justice",
         "250000000",
         "330360194",
         "867500281",
         "1197860475",
         "947860475"
        ],
        [
         "18",
         "19",
         "Dec 14, 2012",
         "The Hobbit: An Unexpected Journey",
         "250000000",
         "303003568",
         "1017003568",
         "1320007136",
         "1070007136"
        ],
        [
         "19",
         "20",
         "Jul 15, 2009",
         "Harry Potter and the Half-Blood Prince",
         "250000000",
         "302089278",
         "935213767",
         "1237303045",
         "987303045"
        ],
        [
         "20",
         "21",
         "Dec 13, 2013",
         "The Hobbit: The Desolation of Smaug",
         "250000000",
         "258366855",
         "960366855",
         "1218733710",
         "968733710"
        ],
        [
         "21",
         "22",
         "Dec 17, 2014",
         "The Hobbit: The Battle of the Five Armies",
         "250000000",
         "255119788",
         "945577621",
         "1200697409",
         "950697409"
        ],
        [
         "22",
         "23",
         "Apr 14, 2017",
         "The Fate of the Furious",
         "250000000",
         "225764765",
         "1234846267",
         "1460611032",
         "1210611032"
        ],
        [
         "23",
         "24",
         "Jun 28, 2006",
         "Superman Returns",
         "232000000",
         "200120000",
         "374085065",
         "574205065",
         "342205065"
        ],
        [
         "24",
         "25",
         "May 26, 2017",
         "Pirates of the Caribbean: Dead Men Tell No Tales",
         "230000000",
         "172558876",
         "788241137",
         "960800013",
         "730800013"
        ],
        [
         "25",
         "26",
         "Nov 14, 2008",
         "Quantum of Solace",
         "230000000",
         "169368427",
         "591692078",
         "761060505",
         "531060505"
        ],
        [
         "26",
         "27",
         "May 4, 2012",
         "The Avengers",
         "225000000",
         "623279547",
         "1517935897",
         "2141215444",
         "1916215444"
        ],
        [
         "27",
         "28",
         "Jul 7, 2006",
         "Pirates of the Caribbean: Dead Manâs Chest",
         "225000000",
         "423315812",
         "1066215812",
         "1489531624",
         "1264531624"
        ],
        [
         "28",
         "29",
         "Jun 14, 2013",
         "Man of Steel",
         "225000000",
         "291045518",
         "667999518",
         "959045036",
         "734045036"
        ],
        [
         "29",
         "30",
         "May 16, 2008",
         "The Chronicles of Narnia: Prince Caspian",
         "225000000",
         "141621490",
         "417341288",
         "558962778",
         "333962778"
        ],
        [
         "30",
         "31",
         "Jul 3, 2012",
         "The Amazing Spider-Man",
         "220000000",
         "262030663",
         "757890267",
         "1019920930",
         "799920930"
        ],
        [
         "31",
         "32",
         "May 18, 2012",
         "Battleship",
         "220000000",
         "65233400",
         "313477717",
         "378711117",
         "158711117"
        ],
        [
         "32",
         "33",
         "Jun 21, 2017",
         "Transformers: The Last Knight",
         "217000000",
         "130168683",
         "602893340",
         "733062023",
         "516062023"
        ],
        [
         "33",
         "34",
         "Jun 12, 2015",
         "Jurassic World",
         "215000000",
         "652270625",
         "1648854864",
         "2301125489",
         "2086125489"
        ],
        [
         "34",
         "35",
         "May 25, 2012",
         "Men in Black 3",
         "215000000",
         "179020854",
         "654213485",
         "833234339",
         "618234339"
        ],
        [
         "35",
         "36",
         "Jun 24, 2009",
         "Transformers: Revenge of the Fallen",
         "210000000",
         "402111870",
         "836519699",
         "1238631569",
         "1028631569"
        ],
        [
         "36",
         "37",
         "Jun 27, 2014",
         "Transformers: Age of Extinction",
         "210000000",
         "245439076",
         "1104039076",
         "1349478152",
         "1139478152"
        ],
        [
         "37",
         "38",
         "May 26, 2006",
         "X-Men: The Last Stand",
         "210000000",
         "234362462",
         "459260946",
         "693623408",
         "483623408"
        ],
        [
         "38",
         "39",
         "May 14, 2010",
         "Robin Hood",
         "210000000",
         "105487148",
         "322459006",
         "427946154",
         "217946154"
        ],
        [
         "39",
         "40",
         "Dec 14, 2005",
         "King Kong",
         "207000000",
         "218080025",
         "550517357",
         "768597382",
         "561597382"
        ],
        [
         "40",
         "41",
         "Dec 7, 2007",
         "The Golden Compass",
         "205000000",
         "70107728",
         "367262558",
         "437370286",
         "232370286"
        ],
        [
         "41",
         "42",
         "Feb 16, 2018",
         "Black Panther",
         "200000000",
         "700059566",
         "1348258224",
         "2048317790",
         "1848317790"
        ],
        [
         "42",
         "43",
         "Dec 19, 1997",
         "Titanic",
         "200000000",
         "659363944",
         "2208208395",
         "2867572339",
         "2667572339"
        ],
        [
         "43",
         "44",
         "Jun 15, 2018",
         "Incredibles 2",
         "200000000",
         "608581744",
         "1242520711",
         "1851102455",
         "1651102455"
        ],
        [
         "44",
         "45",
         "Dec 16, 2016",
         "Rogue One: A Star Wars Story",
         "200000000",
         "532177324",
         "1049102856",
         "1581280180",
         "1381280180"
        ],
        [
         "45",
         "46",
         "Jun 17, 2016",
         "Finding Dory",
         "200000000",
         "486295561",
         "1021215193",
         "1507510754",
         "1307510754"
        ],
        [
         "46",
         "47",
         "Jun 18, 2010",
         "Toy Story 3",
         "200000000",
         "415004880",
         "1068879522",
         "1483884402",
         "1283884402"
        ],
        [
         "47",
         "48",
         "May 3, 2013",
         "Iron Man 3",
         "200000000",
         "408992272",
         "1215392272",
         "1624384544",
         "1424384544"
        ],
        [
         "48",
         "49",
         "May 5, 2017",
         "Guardians of the Galaxy Vol 2",
         "200000000",
         "389813101",
         "862316233",
         "1252129334",
         "1052129334"
        ],
        [
         "49",
         "50",
         "Jun 30, 2004",
         "Spider-Man 2",
         "200000000",
         "373524485",
         "795110670",
         "1168635155",
         "968635155"
        ]
       ],
       "shape": {
        "columns": 8,
        "rows": 5782
       }
      },
      "text/html": [
       "<div>\n",
       "<style scoped>\n",
       "    .dataframe tbody tr th:only-of-type {\n",
       "        vertical-align: middle;\n",
       "    }\n",
       "\n",
       "    .dataframe tbody tr th {\n",
       "        vertical-align: top;\n",
       "    }\n",
       "\n",
       "    .dataframe thead th {\n",
       "        text-align: right;\n",
       "    }\n",
       "</style>\n",
       "<table border=\"1\" class=\"dataframe\">\n",
       "  <thead>\n",
       "    <tr style=\"text-align: right;\">\n",
       "      <th></th>\n",
       "      <th>id</th>\n",
       "      <th>release_date</th>\n",
       "      <th>movie</th>\n",
       "      <th>production_budget</th>\n",
       "      <th>domestic_gross</th>\n",
       "      <th>worldwide_gross</th>\n",
       "      <th>total_gross</th>\n",
       "      <th>profit/loss</th>\n",
       "    </tr>\n",
       "  </thead>\n",
       "  <tbody>\n",
       "    <tr>\n",
       "      <th>0</th>\n",
       "      <td>1</td>\n",
       "      <td>Dec 18, 2009</td>\n",
       "      <td>Avatar</td>\n",
       "      <td>425000000</td>\n",
       "      <td>760507625</td>\n",
       "      <td>2776345279</td>\n",
       "      <td>3536852904</td>\n",
       "      <td>3111852904</td>\n",
       "    </tr>\n",
       "    <tr>\n",
       "      <th>1</th>\n",
       "      <td>2</td>\n",
       "      <td>May 20, 2011</td>\n",
       "      <td>Pirates of the Caribbean: On Stranger Tides</td>\n",
       "      <td>410600000</td>\n",
       "      <td>241063875</td>\n",
       "      <td>1045663875</td>\n",
       "      <td>1286727750</td>\n",
       "      <td>876127750</td>\n",
       "    </tr>\n",
       "    <tr>\n",
       "      <th>2</th>\n",
       "      <td>3</td>\n",
       "      <td>Jun 7, 2019</td>\n",
       "      <td>Dark Phoenix</td>\n",
       "      <td>350000000</td>\n",
       "      <td>42762350</td>\n",
       "      <td>149762350</td>\n",
       "      <td>192524700</td>\n",
       "      <td>-157475300</td>\n",
       "    </tr>\n",
       "    <tr>\n",
       "      <th>3</th>\n",
       "      <td>4</td>\n",
       "      <td>May 1, 2015</td>\n",
       "      <td>Avengers: Age of Ultron</td>\n",
       "      <td>330600000</td>\n",
       "      <td>459005868</td>\n",
       "      <td>1403013963</td>\n",
       "      <td>1862019831</td>\n",
       "      <td>1531419831</td>\n",
       "    </tr>\n",
       "    <tr>\n",
       "      <th>4</th>\n",
       "      <td>5</td>\n",
       "      <td>Dec 15, 2017</td>\n",
       "      <td>Star Wars Ep. VIII: The Last Jedi</td>\n",
       "      <td>317000000</td>\n",
       "      <td>620181382</td>\n",
       "      <td>1316721747</td>\n",
       "      <td>1936903129</td>\n",
       "      <td>1619903129</td>\n",
       "    </tr>\n",
       "    <tr>\n",
       "      <th>...</th>\n",
       "      <td>...</td>\n",
       "      <td>...</td>\n",
       "      <td>...</td>\n",
       "      <td>...</td>\n",
       "      <td>...</td>\n",
       "      <td>...</td>\n",
       "      <td>...</td>\n",
       "      <td>...</td>\n",
       "    </tr>\n",
       "    <tr>\n",
       "      <th>5777</th>\n",
       "      <td>78</td>\n",
       "      <td>Dec 31, 2018</td>\n",
       "      <td>Red 11</td>\n",
       "      <td>7000</td>\n",
       "      <td>0</td>\n",
       "      <td>0</td>\n",
       "      <td>0</td>\n",
       "      <td>-7000</td>\n",
       "    </tr>\n",
       "    <tr>\n",
       "      <th>5778</th>\n",
       "      <td>79</td>\n",
       "      <td>Apr 2, 1999</td>\n",
       "      <td>Following</td>\n",
       "      <td>6000</td>\n",
       "      <td>48482</td>\n",
       "      <td>240495</td>\n",
       "      <td>288977</td>\n",
       "      <td>282977</td>\n",
       "    </tr>\n",
       "    <tr>\n",
       "      <th>5779</th>\n",
       "      <td>80</td>\n",
       "      <td>Jul 13, 2005</td>\n",
       "      <td>Return to the Land of Wonders</td>\n",
       "      <td>5000</td>\n",
       "      <td>1338</td>\n",
       "      <td>1338</td>\n",
       "      <td>2676</td>\n",
       "      <td>-2324</td>\n",
       "    </tr>\n",
       "    <tr>\n",
       "      <th>5780</th>\n",
       "      <td>81</td>\n",
       "      <td>Sep 29, 2015</td>\n",
       "      <td>A Plague So Pleasant</td>\n",
       "      <td>1400</td>\n",
       "      <td>0</td>\n",
       "      <td>0</td>\n",
       "      <td>0</td>\n",
       "      <td>-1400</td>\n",
       "    </tr>\n",
       "    <tr>\n",
       "      <th>5781</th>\n",
       "      <td>82</td>\n",
       "      <td>Aug 5, 2005</td>\n",
       "      <td>My Date With Drew</td>\n",
       "      <td>1100</td>\n",
       "      <td>181041</td>\n",
       "      <td>181041</td>\n",
       "      <td>362082</td>\n",
       "      <td>360982</td>\n",
       "    </tr>\n",
       "  </tbody>\n",
       "</table>\n",
       "<p>5782 rows × 8 columns</p>\n",
       "</div>"
      ],
      "text/plain": [
       "      id  release_date                                        movie  \\\n",
       "0      1  Dec 18, 2009                                       Avatar   \n",
       "1      2  May 20, 2011  Pirates of the Caribbean: On Stranger Tides   \n",
       "2      3   Jun 7, 2019                                 Dark Phoenix   \n",
       "3      4   May 1, 2015                      Avengers: Age of Ultron   \n",
       "4      5  Dec 15, 2017            Star Wars Ep. VIII: The Last Jedi   \n",
       "...   ..           ...                                          ...   \n",
       "5777  78  Dec 31, 2018                                       Red 11   \n",
       "5778  79   Apr 2, 1999                                    Following   \n",
       "5779  80  Jul 13, 2005                Return to the Land of Wonders   \n",
       "5780  81  Sep 29, 2015                         A Plague So Pleasant   \n",
       "5781  82   Aug 5, 2005                            My Date With Drew   \n",
       "\n",
       "      production_budget  domestic_gross  worldwide_gross  total_gross  \\\n",
       "0             425000000       760507625       2776345279   3536852904   \n",
       "1             410600000       241063875       1045663875   1286727750   \n",
       "2             350000000        42762350        149762350    192524700   \n",
       "3             330600000       459005868       1403013963   1862019831   \n",
       "4             317000000       620181382       1316721747   1936903129   \n",
       "...                 ...             ...              ...          ...   \n",
       "5777               7000               0                0            0   \n",
       "5778               6000           48482           240495       288977   \n",
       "5779               5000            1338             1338         2676   \n",
       "5780               1400               0                0            0   \n",
       "5781               1100          181041           181041       362082   \n",
       "\n",
       "      profit/loss  \n",
       "0      3111852904  \n",
       "1       876127750  \n",
       "2      -157475300  \n",
       "3      1531419831  \n",
       "4      1619903129  \n",
       "...           ...  \n",
       "5777        -7000  \n",
       "5778       282977  \n",
       "5779        -2324  \n",
       "5780        -1400  \n",
       "5781       360982  \n",
       "\n",
       "[5782 rows x 8 columns]"
      ]
     },
     "execution_count": 88,
     "metadata": {},
     "output_type": "execute_result"
    }
   ],
   "source": [
    "tn_budget"
   ]
  },
  {
   "cell_type": "code",
   "execution_count": 89,
   "metadata": {},
   "outputs": [],
   "source": [
    "indiv_movie_genres = final_df_cp_exploded.merge(tn_budget, left_on = \"title\", right_on= \"movie\", how = \"inner\")\n",
    "indiv_movie_genres = indiv_movie_genres.drop_duplicates(subset = [\"title\", \"production_budget\"])\n",
    "\n",
    "combined_movie_genres = final_df_cp.merge(tn_budget, left_on = \"title\", right_on= \"movie\", how = \"inner\")\n",
    "combined_movie_genres = combined_movie_genres.drop_duplicates(subset = [\"title\", \"production_budget\"])"
   ]
  },
  {
   "cell_type": "code",
   "execution_count": 90,
   "metadata": {},
   "outputs": [
    {
     "data": {
      "application/vnd.microsoft.datawrangler.viewer.v0+json": {
       "columns": [
        {
         "name": "genres",
         "rawType": "object",
         "type": "string"
        },
        {
         "name": "profit/loss",
         "rawType": "float64",
         "type": "float"
        }
       ],
       "ref": "f8fab61e-9557-4d9d-9d2a-8618a667d054",
       "rows": [
        [
         "Adventure,Drama,Sport",
         "1523207919.0"
        ],
        [
         "Adventure",
         "838199815.5"
        ],
        [
         "Adventure,Drama,Sci-Fi",
         "775705106.0"
        ],
        [
         "Comedy,Mystery",
         "760928610.0"
        ],
        [
         "Action,Adventure,Sci-Fi",
         "653260420.67"
        ],
        [
         "Adventure,Fantasy",
         "509286307.5"
        ],
        [
         "Drama,Family,Fantasy",
         "493197060.5"
        ],
        [
         "Comedy,Romance,Sci-Fi",
         "491910246.0"
        ],
        [
         "Action,Adventure,Animation",
         "478982849.41"
        ],
        [
         "Biography,Drama,Musical",
         "477005724.0"
        ]
       ],
       "shape": {
        "columns": 1,
        "rows": 10
       }
      },
      "text/html": [
       "<div>\n",
       "<style scoped>\n",
       "    .dataframe tbody tr th:only-of-type {\n",
       "        vertical-align: middle;\n",
       "    }\n",
       "\n",
       "    .dataframe tbody tr th {\n",
       "        vertical-align: top;\n",
       "    }\n",
       "\n",
       "    .dataframe thead th {\n",
       "        text-align: right;\n",
       "    }\n",
       "</style>\n",
       "<table border=\"1\" class=\"dataframe\">\n",
       "  <thead>\n",
       "    <tr style=\"text-align: right;\">\n",
       "      <th></th>\n",
       "      <th>profit/loss</th>\n",
       "    </tr>\n",
       "    <tr>\n",
       "      <th>genres</th>\n",
       "      <th></th>\n",
       "    </tr>\n",
       "  </thead>\n",
       "  <tbody>\n",
       "    <tr>\n",
       "      <th>Adventure,Drama,Sport</th>\n",
       "      <td>1.523208e+09</td>\n",
       "    </tr>\n",
       "    <tr>\n",
       "      <th>Adventure</th>\n",
       "      <td>8.381998e+08</td>\n",
       "    </tr>\n",
       "    <tr>\n",
       "      <th>Adventure,Drama,Sci-Fi</th>\n",
       "      <td>7.757051e+08</td>\n",
       "    </tr>\n",
       "    <tr>\n",
       "      <th>Comedy,Mystery</th>\n",
       "      <td>7.609286e+08</td>\n",
       "    </tr>\n",
       "    <tr>\n",
       "      <th>Action,Adventure,Sci-Fi</th>\n",
       "      <td>6.532604e+08</td>\n",
       "    </tr>\n",
       "    <tr>\n",
       "      <th>Adventure,Fantasy</th>\n",
       "      <td>5.092863e+08</td>\n",
       "    </tr>\n",
       "    <tr>\n",
       "      <th>Drama,Family,Fantasy</th>\n",
       "      <td>4.931971e+08</td>\n",
       "    </tr>\n",
       "    <tr>\n",
       "      <th>Comedy,Romance,Sci-Fi</th>\n",
       "      <td>4.919102e+08</td>\n",
       "    </tr>\n",
       "    <tr>\n",
       "      <th>Action,Adventure,Animation</th>\n",
       "      <td>4.789828e+08</td>\n",
       "    </tr>\n",
       "    <tr>\n",
       "      <th>Biography,Drama,Musical</th>\n",
       "      <td>4.770057e+08</td>\n",
       "    </tr>\n",
       "  </tbody>\n",
       "</table>\n",
       "</div>"
      ],
      "text/plain": [
       "                             profit/loss\n",
       "genres                                  \n",
       "Adventure,Drama,Sport       1.523208e+09\n",
       "Adventure                   8.381998e+08\n",
       "Adventure,Drama,Sci-Fi      7.757051e+08\n",
       "Comedy,Mystery              7.609286e+08\n",
       "Action,Adventure,Sci-Fi     6.532604e+08\n",
       "Adventure,Fantasy           5.092863e+08\n",
       "Drama,Family,Fantasy        4.931971e+08\n",
       "Comedy,Romance,Sci-Fi       4.919102e+08\n",
       "Action,Adventure,Animation  4.789828e+08\n",
       "Biography,Drama,Musical     4.770057e+08"
      ]
     },
     "execution_count": 90,
     "metadata": {},
     "output_type": "execute_result"
    }
   ],
   "source": [
    "# Top 10 genres generating the most revenue\n",
    "indiv_genre_profit = indiv_movie_genres.groupby(\"genres\")['profit/loss'].mean()\n",
    "indiv_genre_profit = indiv_genre_profit.round(2).sort_values(ascending = False)\n",
    "indiv_genre_profit = pd.DataFrame(indiv_genre_profit)\n",
    "indiv_genre_profit = indiv_genre_profit.head(10)\n",
    "\n",
    "combined_genre_profit = combined_movie_genres.groupby(\"genres\")['profit/loss'].mean()\n",
    "combined_genre_profit = combined_genre_profit.round(2).sort_values(ascending = False)\n",
    "combined_genre_profit = pd.DataFrame(combined_genre_profit)\n",
    "combined_genre_profit = combined_genre_profit.head(10)\n",
    "combined_genre_profit"
   ]
  },
  {
   "cell_type": "code",
   "execution_count": 91,
   "metadata": {},
   "outputs": [
    {
     "data": {
      "image/png": "[encoded data removed]",
      "text/plain": [
       "<Figure size 1200x600 with 2 Axes>"
      ]
     },
     "metadata": {},
     "output_type": "display_data"
    }
   ],
   "source": [
    "fig,axis = plt.subplots(ncols = 2, figsize = (12,6))\n",
    "\n",
    "# Unexploded Genre set\n",
    "sns.barplot(data=combined_genre_profit, x=\"genres\", y=\"profit/loss\", ax=axis[0])\n",
    "axis[0].set_title(\"Profit Generated per Combined Genres\")\n",
    "axis[0].set_xlabel(\"Genre\")\n",
    "axis[0].set_ylabel(\"Profit Generated (Billions)\")\n",
    "axis[0].tick_params(axis='x', rotation=90)\n",
    "\n",
    "# Exploded Genre set\n",
    "sns.barplot(data=indiv_genre_profit, x=\"genres\", y=\"profit/loss\", ax=axis[1])\n",
    "axis[1].set_title(\"Profit Generated per Individual Genre\")\n",
    "axis[1].set_xlabel(\"Genre\")\n",
    "axis[1].set_ylabel(\"Profit Generated (Millions)\")\n",
    "axis[1].tick_params(axis='x', rotation=90)\n",
    "\n",
    "plt.tight_layout()\n",
    "plt.suptitle(\"Profit Generated per Genre\", fontsize = 20, y = 1.05);"
   ]
  },
  {
   "cell_type": "markdown",
   "metadata": {},
   "source": [
    "\n",
    "## Interpretation\n",
    "\n",
    "Combining genres seems to be an emerging trend to attract a bigger audience.\n",
    "\n",
    "### Combined Genres\n",
    "\n",
    "From the top 10 combined genres, we can see that **adventure-drama-sport** combo generated the most profit.\n",
    "\n",
    "It is also noted that the `Adventure` genre appears in six out of the ten times genres were combined.\n",
    "\n",
    "### Individual Genres\n",
    "In terms individual genres, `Adventure` stands out generating a profit of over 2.5 million USD. \n",
    "\n",
    "It is followed closely by `Animation` and `Action` who also genreated a profit of over 2 million USD."
   ]
  },
  {
   "cell_type": "code",
   "execution_count": 92,
   "metadata": {},
   "outputs": [],
   "source": [
    "combined_genre_count = final_df_cp[\"genres\"].value_counts().head(10)\n",
    "indiv_genre_count = final_df_cp_exploded[\"genres\"].value_counts().head(10)"
   ]
  },
  {
   "cell_type": "code",
   "execution_count": 93,
   "metadata": {},
   "outputs": [
    {
     "data": {
      "image/png": "[encoded data removed]",
      "text/plain": [
       "<Figure size 1200x600 with 2 Axes>"
      ]
     },
     "metadata": {},
     "output_type": "display_data"
    }
   ],
   "source": [
    "# Genre Distribution in final_df\n",
    "fig,axis = plt.subplots(ncols = 2, figsize = (12,6))\n",
    "\n",
    "sns.countplot(data = final_df_cp, x = \"genres\", order = combined_genre_count.index, ax = axis[0])\n",
    "axis[0].set_title(\"Top 10 Genre Distribution\")\n",
    "axis[0].set_ylabel(\"Movies per Genre\")\n",
    "axis[0].set_xlabel(\"Genre\")\n",
    "axis[0].tick_params(axis = \"x\", rotation = 90)\n",
    "\n",
    "\n",
    "indiv_genre_count.plot(kind = \"bar\", ax = axis[1])\n",
    "axis[1].set_title(\"Top 10 Genre Distribution\")\n",
    "axis[1].set_ylabel(\"Movies per Genre\")\n",
    "axis[1].set_xlabel(\"Genre\")\n",
    "axis[1].tick_params(axis = \"x\", rotation = 90)\n",
    "\n",
    "plt.tight_layout()\n",
    "plt.suptitle(\"Genre Distribution\", fontsize = 20, y = 1.05);"
   ]
  },
  {
   "cell_type": "markdown",
   "metadata": {},
   "source": [
    "## Interpretation\n",
    "\n",
    "In both combined and individual genres, `Drama`, `Documentary` and `Comedy` are more prevalent in the dataset than the others.\n",
    "\n",
    "`Comedy and Drama` combination is the most prevalent combination in the dataset."
   ]
  },
  {
   "cell_type": "code",
   "execution_count": 94,
   "metadata": {},
   "outputs": [],
   "source": [
    "combined_genre_ratings = final_df_cp.groupby(\"genres\")[\"imdb_rating\"].mean()\n",
    "combined_genre_ratings = combined_genre_ratings.round(1).sort_values(ascending = False)\n",
    "combined_genre_ratings = pd.DataFrame(combined_genre_ratings)\n",
    "combined_genre_ratings = combined_genre_ratings[combined_genre_ratings[\"imdb_rating\"] >= 8.0].head(10)\n",
    "combined_genre_ratings\n",
    "\n",
    "indiv_genre_ratings = final_df_cp_exploded.groupby(\"genres\")[\"imdb_rating\"].mean()\n",
    "indiv_genre_ratings = indiv_genre_ratings.round(1).sort_values(ascending = False).head(20)\n",
    "indiv_genre_ratings = pd.DataFrame(indiv_genre_ratings)"
   ]
  },
  {
   "cell_type": "code",
   "execution_count": 95,
   "metadata": {},
   "outputs": [
    {
     "data": {
      "image/png": "[encoded data removed]",
      "text/plain": [
       "<Figure size 1200x600 with 2 Axes>"
      ]
     },
     "metadata": {},
     "output_type": "display_data"
    }
   ],
   "source": [
    "# Average ratings per genre\n",
    "fig,axis = plt.subplots(ncols = 2, figsize = (12,6))\n",
    "\n",
    "sns.barplot(data = combined_genre_ratings, x = \"genres\", y = 'imdb_rating', ax = axis[0])\n",
    "axis[0].tick_params(axis = \"x\", rotation = 90)\n",
    "axis[0].set_title(\"Top 10 Rated Combined Genres\")\n",
    "axis[0].set_ylabel(\"Rating\")\n",
    "axis[0].set_xlabel(\"Genre\");\n",
    "\n",
    "sns.barplot(data = indiv_genre_ratings, x = \"genres\", y = 'imdb_rating', ax = axis[1])\n",
    "axis[1].tick_params(axis = \"x\", rotation = 90)\n",
    "axis[1].set_title(\"Top Rated Individual Genres\")\n",
    "axis[1].set_ylabel(\"Rating\")\n",
    "axis[1].set_xlabel(\"Genre\");\n",
    "\n",
    "plt.tight_layout()\n",
    "plt.suptitle(\"Average Ratings per Genre\", fontsize = 20, y = 1.05);\n"
   ]
  },
  {
   "cell_type": "markdown",
   "metadata": {},
   "source": [
    "## Interpretation\n",
    "\n",
    "Combining genres is a great way to improve the rating of movies.\n",
    "\n",
    "Individually, the highest rating for a movie is 7.3 and Game Shows, News and Documentary lead the pack.\n",
    "A lot of viewers prefer non-fiction movies as shown where News, Documentary, Biography, History, Sport and War all appear in the top-most rated individual genres.\n",
    "\n",
    "It is worth noting that Game Shows are highly-rated being the only individual genre to show up in the combined-genre section."
   ]
  },
  {
   "cell_type": "code",
   "execution_count": 96,
   "metadata": {},
   "outputs": [
    {
     "data": {
      "image/png": "[encoded data removed]",
      "text/plain": [
       "<Figure size 1200x800 with 1 Axes>"
      ]
     },
     "metadata": {},
     "output_type": "display_data"
    }
   ],
   "source": [
    "# Production Budget vs Profit Realized\n",
    "# Hue = Genres\n",
    "# Production Budget vs Profit Realized\n",
    "# Hue = Genres\n",
    "plt.figure(figsize = (12,8))\n",
    "sns.scatterplot(data = indiv_movie_genres, y = \"profit/loss\", x = \"production_budget\", hue = \"genres\", palette = \"dark\")\n",
    "plt.ylabel(\"Profit/Loss (Billions)\")\n",
    "plt.xlabel(\"Production Budget (Millions)\")\n",
    "plt.title(\"Production Budget vs Profit Realized by Genres\")\n",
    "plt.legend(title = \"Genres\");"
   ]
  },
  {
   "cell_type": "markdown",
   "metadata": {},
   "source": [
    "## Interpretation\n",
    " There is no obvious strong correlation between the production budget and the profits realized from the movie. A high production budget does not necesssarily mean that the movie will be a success."
   ]
  },
  {
   "cell_type": "code",
   "execution_count": 98,
   "metadata": {},
   "outputs": [
    {
     "data": {
      "image/png": "[encoded data removed]",
      "text/plain": [
       "<Figure size 640x480 with 2 Axes>"
      ]
     },
     "metadata": {},
     "output_type": "display_data"
    }
   ],
   "source": [
    "sns.heatmap(indiv_movie_genres.corr(numeric_only=True), annot=True, cmap='viridis')\n",
    "plt.title('Correlation Matrix')\n",
    "plt.show()"
   ]
  },
  {
   "cell_type": "markdown",
   "metadata": {},
   "source": [
    "### Interpretation\n",
    "- Profit/loss versus total revenue/total gross(Worldwide gross and domestic gross) have a strong positive correlation at 0.99. This means movies with high gross earnings tend to be more profitable which is expected.\n",
    "\n",
    "- Profit/loss versus production budget have a relatively positive correlation at 0.68 and in comparison with total revenue/gross, we can say that higher budget movies tend to have higher profits but not as strong as revenue does.\n",
    "\n",
    "- Imdb votes with total gross and production budget correlates at 0.58 and 0.51 respectively, telling us that movies that more people vote for tend to earn more and also have higher budgets.\n",
    "\n",
    "- Imdb rating has a low correlation with profit and loss, at 0.21. Hence, do not determine the financial success of a movie.\n",
    "\n",
    "- It is important to note that imdb votes matter more than imdb ratings. \n",
    "\n",
    "- The release year does not determine the profitability and success of a movie.\n",
    "\n",
    "- Longer movies as denoted in the runtime minutes does not guarantee high profitability as well."
   ]
  }
 ],
 "metadata": {
  "kernelspec": {
   "display_name": "Python (data-science)",
   "language": "python",
   "name": "data-science"
  },
  "language_info": {
   "codemirror_mode": {
    "name": "ipython",
    "version": 3
   },
   "file_extension": ".py",
   "mimetype": "text/x-python",
   "name": "python",
   "nbconvert_exporter": "python",
   "pygments_lexer": "ipython3",
   "version": "3.11.13"
  }
 },
 "nbformat": 4,
 "nbformat_minor": 4
}
