{
 "cells": [
  {
   "cell_type": "markdown",
   "metadata": {},
   "source": [
    "# Exploratory Notebook"
   ]
  },
  {
   "cell_type": "markdown",
   "metadata": {},
   "source": [
    "# Business Understanding\n",
    "\n",
    "## Business Context\n",
    "Our company is entering the competitive movie production industry by establishing a new movie studio. With major corporations increasingly investing in original video content, we need to strategically position ourselves to maximize our chances of box office success.\n",
    "\n",
    "## Primary Stakeholder\n",
    "**Head of New Movie Studio** - The key decision-maker who will use our analysis to guide the studio's content creation strategy and investment decisions.\n",
    "\n",
    "## Key Business Questions\n",
    "\n",
    "### 1. **What genres are most profitable?**\n",
    "   - Which movie genres consistently generate the highest box office returns?\n",
    "   - Are there emerging genres showing strong growth potential?\n",
    "\n",
    "### 2. **What budget ranges optimize ROI?**\n",
    "   - What is the relationship between production budget and box office performance?\n",
    "   - What budget sweet spot maximizes return on investment?\n",
    "\n",
    "### 3. **When should we release our films?**\n",
    "   - Which months/seasons show the strongest box office performance?\n",
    "   - How can we avoid oversaturated release periods?\n",
    "\n",
    "## Business Objectives\n",
    "- **Primary Goal:** Identify the most profitable film characteristics to guide our initial movie productions\n",
    "- **Success Metrics:** Maximize box office revenue and return on investment\n",
    "- **Risk Mitigation:** Minimize financial losses by avoiding poorly-performing film categories\n",
    "\n",
    "## Data Requirements & Analysis Considerations\n",
    "\n",
    "### Dataset Specifications Needed:\n",
    "1. **What movie data do we have access to?** (Box office numbers, budgets, genres, release dates, ratings, etc.)\n",
    "2. **What time period does our data cover?** (Recent years only, or historical data?)\n",
    "3. **Is it domestic box office, international, or worldwide gross?**\n",
    "\n",
    "### Business Context Clarifications:\n",
    "4. **What size studio are we targeting?** (Independent/small budget vs. major studio competitor?)\n",
    "5. **Are there any genre restrictions?** (Family-friendly only, or open to all ratings?)\n",
    "6. **Geographic focus?** (Domestic US market, international, or global?)\n",
    "\n",
    "### Analysis Scope Considerations:\n",
    "7. **Should we consider streaming/digital revenue or just theatrical box office?**\n",
    "8. **Do we want to analyze competitor studios' strategies?**\n",
    "9. **Should seasonal trends consider COVID-19 impact on recent years?**\n",
    "\n",
    "## Success Metrics Framework\n",
    "**Primary Metrics:**\n",
    "- **Gross Revenue:** Total box office performance\n",
    "- **Return on Investment (ROI):** (Revenue - Budget) / Budget × 100\n",
    "- **Profit Margins:** Net profit as percentage of revenue\n",
    "- **Budget Efficiency:** Revenue per dollar invested\n",
    "\n",
    "**Secondary Metrics:**\n",
    "- **Market Share:** Performance relative to industry\n",
    "- **Risk Assessment:** Variance in returns by category\n",
    "- **Audience Reach:** Ticket sales and demographic penetration\n",
    "\n",
    "## Recommended Visualizations Strategy\n",
    "\n",
    "### 1. **Genre Analysis**\n",
    "- **Horizontal Bar Chart:** Average revenue by genre (easy comparison)\n",
    "- **Box Plot:** Revenue distribution by genre (shows variability and outliers)\n",
    "- **Scatter Plot:** Budget vs. Revenue by genre (profitability insights)\n",
    "\n",
    "### 2. **Budget Optimization**\n",
    "- **Scatter Plot with Trend Line:** Budget vs. ROI (sweet spot identification)\n",
    "- **Histogram:** Distribution of profitable budget ranges\n",
    "- **Bubble Chart:** Budget vs. Revenue (bubble size = profit margin)\n",
    "\n",
    "### 3. **Release Timing**\n",
    "- **Line Graph:** Monthly box office performance over time\n",
    "- **Heatmap:** Revenue by month and genre combination\n",
    "- **Seasonal Bar Chart:** Quarterly performance comparison\n",
    "\n",
    "### 4. **Risk vs. Reward Analysis**\n",
    "- **Risk-Return Scatter Plot:** Average return vs. standard deviation by category\n",
    "- **Waterfall Chart:** Success rate breakdown by film characteristics\n",
    "\n",
    "## Expected Deliverables\n",
    "Three concrete, data-driven recommendations that the Head of Movie Studio can immediately implement in the studio's content strategy and production planning."
   ]
  },
  {
   "cell_type": "markdown",
   "metadata": {},
   "source": [
    "# Data Understanding\n",
    "\n",
    "`bom.movie_gross.csv.gz` dataset from Box Office Mojo contains the revenue data for various films. It contains the following five columns:\n",
    "\n",
    "- **title**: movie title\n",
    "- **studio**: producing studio\n",
    "- **domestic_gross**: domestic gross earnings in USD\n",
    "- **foreign_gross**: international gross earnings\n",
    "- **year**: year film was released\n",
    "\n",
    "`im` database from IMDb (Internet Movie Database) contains information about the movies and those who worked on them. It contains eight tables with the following fields:\n",
    "- `directors` table contains the directors. It contains the following two fields:\n",
    "    - **movie_id**: unique movie ID (as per IMDb)\n",
    "    - **person_id**: director's ID (as per IMDb)\n",
    "- `known_for` table contains the notable works for each person. It contains the following two fields:\n",
    "    - **person_id**: unique person ID (as per IMDb)\n",
    "    - **movie_id**: unique movie ID (as per IMDb)\n",
    "- `movie_akas` table contains the alternative titles of the movies. It contains the following eight fields:\n",
    "    - **movie_id**: unique movie ID (as per IMDb)\n",
    "    - **ordering**: order in which movie title appears\n",
    "    - **title**: alternative title for the movie\n",
    "    - **region**: country code where movie was shown\n",
    "    - **language**: language code of the movie\n",
    "    - **types**: type of alternative title\n",
    "    - **attributes**: special attributes of the movie\n",
    "    - **is_original_title**: shows whether alternative title is the origianl title (1 = original title, 0 = alternative title)\n",
    "- `movie_basics` table contains basic information about the movies. It contains the following six fields:\n",
    "    - **movie_id**: unique identifier for the movie (as per IMDb)\n",
    "    - **primary_title**: official title of the movie\n",
    "    - **original_title**: official title of the movie in the original language\n",
    "    - **start_year**: year when the movie was released\n",
    "    - **runtime_minutes**: duration of the movie in minutes\n",
    "    - **genres**: genre(s) of the movie\n",
    "- `movie_ratings` table contains the ratings movies were given by IMDb. It contains the following three fields:\n",
    "    - **movie_id**: unique movie ID (as per IMDb)\n",
    "    - **averagerating**: average IMDb rating\n",
    "    - **numvotes**: number of votes received\n",
    "- `persons` table contains records of those involved in the movies. It has the following five fields:\n",
    "    - **person_id**: unique identifier for the person (as per IMDb)\n",
    "    - **primary_name**: full name of the person\n",
    "    - **birth_year**: year of birth\n",
    "    - **death_year**: year of death (if dead)\n",
    "    - **primary_profession**: role in the movie\n",
    "- `principals` table contains the information of the main cast and crew. It has the following five fields:\n",
    "    - **movie_id**: unique movie ID (as per IMDb)\n",
    "    - **ordering**: order of person in credits\n",
    "    - **person_id**: unique person ID (as per IMDb)\n",
    "    - **category**: role played\n",
    "    - **job**: specific role\n",
    "    - **characters**: character name\n",
    "- `writers` table contains the following two fields:\n",
    "    - **movie_id**: unique movie ID (as per IMDb)\n",
    "    - **person_id**: writer's ID (as per IMDb)\n",
    "\n",
    "`rt.movie_info.tsv.gz` dataset from Rotten Tomatoes contains general information about the movies. It contains the following twelve columns:\n",
    "- **id**: unique movie ID (as per Rotten Tomatoes)\n",
    "- **synopsis**: short summary of the movie\n",
    "- **rating**: Motion Picture Association of America(MPAA) Rating\n",
    "- **genre**: genre(s) of the movie\n",
    "- **director**: name of the director(s)\n",
    "- **writer**: name of the writer(s)\n",
    "- **theater_date**: date released in theaters\n",
    "- **dvd_date**: date released in DVD format\n",
    "- **currency**: currency symbol\n",
    "- **box_office**: total revenue from box office\n",
    "- **runtime**: movie duration in minutes\n",
    "- **studio**: producing studios\n",
    "\n",
    "`rt.reviews.tsv.gz` dataset from Rotten Tomatoes contains review information about movies. It contains the following eight columns:\n",
    "- **id**: unique movie ID (as per Rotten Tomatoes)\n",
    "- **review**: review text\n",
    "- **rating**: rating given by critic\n",
    "- **fresh**: categorization of the review (fresh = positive, rotten = negative)\n",
    "- **critic**: name of the critic\n",
    "- **top_critic**: highlights if a critic is regarded as a Top Critic by Rotten Tomatoes (1 = top critic, 0 = not a top critic)\n",
    "- **publisher**: publication name\n",
    "- **date**: date of the review\n",
    "\n",
    "`tmdb.movies.csv.gz` from The Movie Database (TMDb) contains movie and rating informations about various movies. It contains the following nine columns:\n",
    "- **genre_ids**: list of genre(s) for the movie\n",
    "- **id**: unique movie ID (as per TMDb)\n",
    "- **original_language**: language code for the movie\n",
    "- **original_title**: title of the movie in the official language\n",
    "- **popularity**: popularity score (as per TMDb)\n",
    "- **relaease_date**: release date in theatres\n",
    "- **title**: movie title\n",
    "- **vote_average**: average user rating\n",
    "- **vote_count**: total votes received\n",
    "\n",
    "`tn.movie_budgets.csv.gz` from The Numbers dataset contains movie budget and revenue information. It has the following six columns:\n",
    "- **id**: unique movie ID (as per The Numbers)\n",
    "- **release_date**: release date in theatres\n",
    "- **movie**: movie title\n",
    "- **production_budget**: budget used (in USD)\n",
    "- **domestic_gross**: revenue generated from country of origin (in USD)\n",
    "- **worldwide_gross**: total revenue generated worldwide (in USD)\n"
   ]
  },
  {
   "cell_type": "code",
   "execution_count": 90,
   "metadata": {},
   "outputs": [],
   "source": [
    "#importing relevant libs\n",
    "import pandas as pd\n",
    "import numpy as np\n",
    "from matplotlib import pyplot as plt\n",
    "from mpl_toolkits.mplot3d import Axes3D\n",
    "from random import gauss\n",
    "from scipy import stats\n",
    "import seaborn as sns\n",
    "from sklearn.linear_model import LinearRegression\n",
    "from mpl_toolkits import mplot3d\n",
    "import sklearn.metrics as metrics\n",
    "import statsmodels.api as sm\n",
    "import sqlite3\n"
   ]
  },
  {
   "cell_type": "markdown",
   "metadata": {},
   "source": [
    "## Loading the Data sets"
   ]
  },
  {
   "cell_type": "code",
   "execution_count": 96,
   "metadata": {},
   "outputs": [
    {
     "name": "stdout",
     "output_type": "stream",
     "text": [
      "dict_keys(['movie_basics', 'directors', 'known_for', 'movie_akas', 'movie_ratings', 'persons', 'principals', 'writers'])\n"
     ]
    }
   ],
   "source": [
    "#going through SQl\n",
    "def load_tables(connection):\n",
    "    table_names = pd.read_sql(\n",
    "        \"SELECT name FROM sqlite_master WHERE type='table';\", connection\n",
    "    )[\"name\"].tolist()\n",
    "    sql_tables = {\n",
    "        table_name: pd.read_sql(f\"SELECT * FROM {table_name}\", connection)\n",
    "        for table_name in table_names\n",
    "    }\n",
    "    return sql_tables\n",
    "\n",
    "path = '../Data/im.db'\n",
    "conn = sqlite3.connect(path)\n",
    "\n",
    "imdb_tables = load_tables(conn)\n",
    "\n",
    "print(imdb_tables.keys())\n"
   ]
  },
  {
   "cell_type": "code",
   "execution_count": 118,
   "metadata": {},
   "outputs": [
    {
     "data": {
      "text/html": [
       "<div>\n",
       "<style scoped>\n",
       "    .dataframe tbody tr th:only-of-type {\n",
       "        vertical-align: middle;\n",
       "    }\n",
       "\n",
       "    .dataframe tbody tr th {\n",
       "        vertical-align: top;\n",
       "    }\n",
       "\n",
       "    .dataframe thead th {\n",
       "        text-align: right;\n",
       "    }\n",
       "</style>\n",
       "<table border=\"1\" class=\"dataframe\">\n",
       "  <thead>\n",
       "    <tr style=\"text-align: right;\">\n",
       "      <th></th>\n",
       "      <th>movie_id</th>\n",
       "      <th>ordering</th>\n",
       "      <th>person_id</th>\n",
       "      <th>category</th>\n",
       "      <th>job</th>\n",
       "      <th>characters</th>\n",
       "    </tr>\n",
       "  </thead>\n",
       "  <tbody>\n",
       "    <tr>\n",
       "      <th>0</th>\n",
       "      <td>tt0111414</td>\n",
       "      <td>1</td>\n",
       "      <td>nm0246005</td>\n",
       "      <td>actor</td>\n",
       "      <td>unknown</td>\n",
       "      <td>[\"The Man\"]</td>\n",
       "    </tr>\n",
       "    <tr>\n",
       "      <th>1</th>\n",
       "      <td>tt0111414</td>\n",
       "      <td>2</td>\n",
       "      <td>nm0398271</td>\n",
       "      <td>director</td>\n",
       "      <td>unknown</td>\n",
       "      <td>unknown</td>\n",
       "    </tr>\n",
       "    <tr>\n",
       "      <th>2</th>\n",
       "      <td>tt0111414</td>\n",
       "      <td>3</td>\n",
       "      <td>nm3739909</td>\n",
       "      <td>producer</td>\n",
       "      <td>producer</td>\n",
       "      <td>unknown</td>\n",
       "    </tr>\n",
       "    <tr>\n",
       "      <th>3</th>\n",
       "      <td>tt0323808</td>\n",
       "      <td>10</td>\n",
       "      <td>nm0059247</td>\n",
       "      <td>editor</td>\n",
       "      <td>unknown</td>\n",
       "      <td>unknown</td>\n",
       "    </tr>\n",
       "    <tr>\n",
       "      <th>4</th>\n",
       "      <td>tt0323808</td>\n",
       "      <td>1</td>\n",
       "      <td>nm3579312</td>\n",
       "      <td>actress</td>\n",
       "      <td>unknown</td>\n",
       "      <td>[\"Beth Boothby\"]</td>\n",
       "    </tr>\n",
       "    <tr>\n",
       "      <th>...</th>\n",
       "      <td>...</td>\n",
       "      <td>...</td>\n",
       "      <td>...</td>\n",
       "      <td>...</td>\n",
       "      <td>...</td>\n",
       "      <td>...</td>\n",
       "    </tr>\n",
       "    <tr>\n",
       "      <th>1028181</th>\n",
       "      <td>tt9692684</td>\n",
       "      <td>1</td>\n",
       "      <td>nm0186469</td>\n",
       "      <td>actor</td>\n",
       "      <td>unknown</td>\n",
       "      <td>[\"Ebenezer Scrooge\"]</td>\n",
       "    </tr>\n",
       "    <tr>\n",
       "      <th>1028182</th>\n",
       "      <td>tt9692684</td>\n",
       "      <td>2</td>\n",
       "      <td>nm4929530</td>\n",
       "      <td>self</td>\n",
       "      <td>unknown</td>\n",
       "      <td>[\"Herself\",\"Regan\"]</td>\n",
       "    </tr>\n",
       "    <tr>\n",
       "      <th>1028183</th>\n",
       "      <td>tt9692684</td>\n",
       "      <td>3</td>\n",
       "      <td>nm10441594</td>\n",
       "      <td>director</td>\n",
       "      <td>unknown</td>\n",
       "      <td>unknown</td>\n",
       "    </tr>\n",
       "    <tr>\n",
       "      <th>1028184</th>\n",
       "      <td>tt9692684</td>\n",
       "      <td>4</td>\n",
       "      <td>nm6009913</td>\n",
       "      <td>writer</td>\n",
       "      <td>writer</td>\n",
       "      <td>unknown</td>\n",
       "    </tr>\n",
       "    <tr>\n",
       "      <th>1028185</th>\n",
       "      <td>tt9692684</td>\n",
       "      <td>5</td>\n",
       "      <td>nm10441595</td>\n",
       "      <td>producer</td>\n",
       "      <td>producer</td>\n",
       "      <td>unknown</td>\n",
       "    </tr>\n",
       "  </tbody>\n",
       "</table>\n",
       "<p>1028186 rows × 6 columns</p>\n",
       "</div>"
      ],
      "text/plain": [
       "          movie_id  ordering   person_id  category       job  \\\n",
       "0        tt0111414         1   nm0246005     actor   unknown   \n",
       "1        tt0111414         2   nm0398271  director   unknown   \n",
       "2        tt0111414         3   nm3739909  producer  producer   \n",
       "3        tt0323808        10   nm0059247    editor   unknown   \n",
       "4        tt0323808         1   nm3579312   actress   unknown   \n",
       "...            ...       ...         ...       ...       ...   \n",
       "1028181  tt9692684         1   nm0186469     actor   unknown   \n",
       "1028182  tt9692684         2   nm4929530      self   unknown   \n",
       "1028183  tt9692684         3  nm10441594  director   unknown   \n",
       "1028184  tt9692684         4   nm6009913    writer    writer   \n",
       "1028185  tt9692684         5  nm10441595  producer  producer   \n",
       "\n",
       "                   characters  \n",
       "0                 [\"The Man\"]  \n",
       "1                     unknown  \n",
       "2                     unknown  \n",
       "3                     unknown  \n",
       "4            [\"Beth Boothby\"]  \n",
       "...                       ...  \n",
       "1028181  [\"Ebenezer Scrooge\"]  \n",
       "1028182   [\"Herself\",\"Regan\"]  \n",
       "1028183               unknown  \n",
       "1028184               unknown  \n",
       "1028185               unknown  \n",
       "\n",
       "[1028186 rows x 6 columns]"
      ]
     },
     "execution_count": 118,
     "metadata": {},
     "output_type": "execute_result"
    }
   ],
   "source": [
    "#cleaning principals column\n",
    "principals_1 = imdb_tables[\"principals\"]\n",
    "principals_1"
   ]
  },
  {
   "cell_type": "code",
   "execution_count": 119,
   "metadata": {},
   "outputs": [
    {
     "data": {
      "text/html": [
       "<div>\n",
       "<style scoped>\n",
       "    .dataframe tbody tr th:only-of-type {\n",
       "        vertical-align: middle;\n",
       "    }\n",
       "\n",
       "    .dataframe tbody tr th {\n",
       "        vertical-align: top;\n",
       "    }\n",
       "\n",
       "    .dataframe thead th {\n",
       "        text-align: right;\n",
       "    }\n",
       "</style>\n",
       "<table border=\"1\" class=\"dataframe\">\n",
       "  <thead>\n",
       "    <tr style=\"text-align: right;\">\n",
       "      <th></th>\n",
       "      <th>movie_id</th>\n",
       "      <th>ordering</th>\n",
       "      <th>person_id</th>\n",
       "      <th>category</th>\n",
       "      <th>job</th>\n",
       "      <th>characters</th>\n",
       "    </tr>\n",
       "  </thead>\n",
       "  <tbody>\n",
       "    <tr>\n",
       "      <th>0</th>\n",
       "      <td>tt0111414</td>\n",
       "      <td>1</td>\n",
       "      <td>nm0246005</td>\n",
       "      <td>actor</td>\n",
       "      <td>unknown</td>\n",
       "      <td>[\"The Man\"]</td>\n",
       "    </tr>\n",
       "    <tr>\n",
       "      <th>1</th>\n",
       "      <td>tt0111414</td>\n",
       "      <td>2</td>\n",
       "      <td>nm0398271</td>\n",
       "      <td>director</td>\n",
       "      <td>unknown</td>\n",
       "      <td>unknown</td>\n",
       "    </tr>\n",
       "    <tr>\n",
       "      <th>2</th>\n",
       "      <td>tt0111414</td>\n",
       "      <td>3</td>\n",
       "      <td>nm3739909</td>\n",
       "      <td>producer</td>\n",
       "      <td>producer</td>\n",
       "      <td>unknown</td>\n",
       "    </tr>\n",
       "    <tr>\n",
       "      <th>3</th>\n",
       "      <td>tt0323808</td>\n",
       "      <td>10</td>\n",
       "      <td>nm0059247</td>\n",
       "      <td>editor</td>\n",
       "      <td>unknown</td>\n",
       "      <td>unknown</td>\n",
       "    </tr>\n",
       "    <tr>\n",
       "      <th>4</th>\n",
       "      <td>tt0323808</td>\n",
       "      <td>1</td>\n",
       "      <td>nm3579312</td>\n",
       "      <td>actress</td>\n",
       "      <td>unknown</td>\n",
       "      <td>[\"Beth Boothby\"]</td>\n",
       "    </tr>\n",
       "  </tbody>\n",
       "</table>\n",
       "</div>"
      ],
      "text/plain": [
       "    movie_id  ordering  person_id  category       job        characters\n",
       "0  tt0111414         1  nm0246005     actor   unknown       [\"The Man\"]\n",
       "1  tt0111414         2  nm0398271  director   unknown           unknown\n",
       "2  tt0111414         3  nm3739909  producer  producer           unknown\n",
       "3  tt0323808        10  nm0059247    editor   unknown           unknown\n",
       "4  tt0323808         1  nm3579312   actress   unknown  [\"Beth Boothby\"]"
      ]
     },
     "execution_count": 119,
     "metadata": {},
     "output_type": "execute_result"
    }
   ],
   "source": [
    "#checking the first rows\n",
    "principals_1.head()"
   ]
  },
  {
   "cell_type": "code",
   "execution_count": 106,
   "metadata": {},
   "outputs": [
    {
     "data": {
      "text/plain": [
       "Index(['movie_id', 'ordering', 'person_id', 'category', 'job', 'characters'], dtype='object')"
      ]
     },
     "execution_count": 106,
     "metadata": {},
     "output_type": "execute_result"
    }
   ],
   "source": [
    "#checking on culmns\n",
    "principals_1.columns"
   ]
  },
  {
   "cell_type": "code",
   "execution_count": 107,
   "metadata": {},
   "outputs": [
    {
     "data": {
      "text/html": [
       "<div>\n",
       "<style scoped>\n",
       "    .dataframe tbody tr th:only-of-type {\n",
       "        vertical-align: middle;\n",
       "    }\n",
       "\n",
       "    .dataframe tbody tr th {\n",
       "        vertical-align: top;\n",
       "    }\n",
       "\n",
       "    .dataframe thead th {\n",
       "        text-align: right;\n",
       "    }\n",
       "</style>\n",
       "<table border=\"1\" class=\"dataframe\">\n",
       "  <thead>\n",
       "    <tr style=\"text-align: right;\">\n",
       "      <th></th>\n",
       "      <th>ordering</th>\n",
       "    </tr>\n",
       "  </thead>\n",
       "  <tbody>\n",
       "    <tr>\n",
       "      <th>count</th>\n",
       "      <td>1.028186e+06</td>\n",
       "    </tr>\n",
       "    <tr>\n",
       "      <th>mean</th>\n",
       "      <td>4.739847e+00</td>\n",
       "    </tr>\n",
       "    <tr>\n",
       "      <th>std</th>\n",
       "      <td>2.747446e+00</td>\n",
       "    </tr>\n",
       "    <tr>\n",
       "      <th>min</th>\n",
       "      <td>1.000000e+00</td>\n",
       "    </tr>\n",
       "    <tr>\n",
       "      <th>25%</th>\n",
       "      <td>2.000000e+00</td>\n",
       "    </tr>\n",
       "    <tr>\n",
       "      <th>50%</th>\n",
       "      <td>4.000000e+00</td>\n",
       "    </tr>\n",
       "    <tr>\n",
       "      <th>75%</th>\n",
       "      <td>7.000000e+00</td>\n",
       "    </tr>\n",
       "    <tr>\n",
       "      <th>max</th>\n",
       "      <td>1.000000e+01</td>\n",
       "    </tr>\n",
       "  </tbody>\n",
       "</table>\n",
       "</div>"
      ],
      "text/plain": [
       "           ordering\n",
       "count  1.028186e+06\n",
       "mean   4.739847e+00\n",
       "std    2.747446e+00\n",
       "min    1.000000e+00\n",
       "25%    2.000000e+00\n",
       "50%    4.000000e+00\n",
       "75%    7.000000e+00\n",
       "max    1.000000e+01"
      ]
     },
     "execution_count": 107,
     "metadata": {},
     "output_type": "execute_result"
    }
   ],
   "source": [
    "#summary\n",
    "principals_1.describe()"
   ]
  },
  {
   "cell_type": "code",
   "execution_count": 104,
   "metadata": {},
   "outputs": [
    {
     "name": "stdout",
     "output_type": "stream",
     "text": [
      "<class 'pandas.core.frame.DataFrame'>\n",
      "RangeIndex: 1028186 entries, 0 to 1028185\n",
      "Data columns (total 6 columns):\n",
      " #   Column      Non-Null Count    Dtype \n",
      "---  ------      --------------    ----- \n",
      " 0   movie_id    1028186 non-null  object\n",
      " 1   ordering    1028186 non-null  int64 \n",
      " 2   person_id   1028186 non-null  object\n",
      " 3   category    1028186 non-null  object\n",
      " 4   job         177684 non-null   object\n",
      " 5   characters  393360 non-null   object\n",
      "dtypes: int64(1), object(5)\n",
      "memory usage: 47.1+ MB\n"
     ]
    }
   ],
   "source": [
    "principals_1.info()"
   ]
  },
  {
   "cell_type": "code",
   "execution_count": 108,
   "metadata": {},
   "outputs": [
    {
     "data": {
      "text/plain": [
       "0"
      ]
     },
     "execution_count": 108,
     "metadata": {},
     "output_type": "execute_result"
    }
   ],
   "source": [
    "#checking on duplicates\n",
    "principals_1.duplicated().sum()"
   ]
  },
  {
   "cell_type": "code",
   "execution_count": 109,
   "metadata": {},
   "outputs": [
    {
     "data": {
      "text/plain": [
       "movie_id           0\n",
       "ordering           0\n",
       "person_id          0\n",
       "category           0\n",
       "job           850502\n",
       "characters    634826\n",
       "dtype: int64"
      ]
     },
     "execution_count": 109,
     "metadata": {},
     "output_type": "execute_result"
    }
   ],
   "source": [
    "#checking on the missing values\n",
    "principals_1.isnull().sum()"
   ]
  },
  {
   "cell_type": "code",
   "execution_count": 110,
   "metadata": {},
   "outputs": [
    {
     "name": "stderr",
     "output_type": "stream",
     "text": [
      "C:\\Users\\User\\AppData\\Local\\Temp\\ipykernel_16816\\3038162623.py:2: FutureWarning: A value is trying to be set on a copy of a DataFrame or Series through chained assignment using an inplace method.\n",
      "The behavior will change in pandas 3.0. This inplace method will never work because the intermediate object on which we are setting values always behaves as a copy.\n",
      "\n",
      "For example, when doing 'df[col].method(value, inplace=True)', try using 'df.method({col: value}, inplace=True)' or df[col] = df[col].method(value) instead, to perform the operation inplace on the original object.\n",
      "\n",
      "\n",
      "  principals_1['job'].fillna('unknown',inplace = True)\n"
     ]
    },
    {
     "data": {
      "text/plain": [
       "movie_id           0\n",
       "ordering           0\n",
       "person_id          0\n",
       "category           0\n",
       "job                0\n",
       "characters    634826\n",
       "dtype: int64"
      ]
     },
     "execution_count": 110,
     "metadata": {},
     "output_type": "execute_result"
    }
   ],
   "source": [
    "#filling on the missing values on job col\n",
    "principals_1['job'].fillna('unknown',inplace = True)\n",
    "principals_1.isnull().sum() "
   ]
  },
  {
   "cell_type": "code",
   "execution_count": 114,
   "metadata": {},
   "outputs": [
    {
     "data": {
      "text/plain": [
       "movie_id      0\n",
       "ordering      0\n",
       "person_id     0\n",
       "category      0\n",
       "job           0\n",
       "characters    0\n",
       "dtype: int64"
      ]
     },
     "execution_count": 114,
     "metadata": {},
     "output_type": "execute_result"
    }
   ],
   "source": [
    "#filling missing values on characters col\n",
    "principals_1['characters'].fillna('unknown',inplace = True)\n",
    "principals_1.isnull().sum() "
   ]
  },
  {
   "cell_type": "code",
   "execution_count": null,
   "execution_count": 19,
   "metadata": {},
   "outputs": [],
   "source": [
    "bom_movie = pd.read_csv(\"../Data/bom.movie_gross.csv\")\n",
    "rt_info = pd.read_csv(\"../Data/rt.movie_info.tsv\", sep='\\t', encoding='latin1')\n",
    "rt_reviews = pd.read_csv(\"../Data/rt.movie_info.tsv\", sep='\\t', encoding='latin1')\n",
    "tmdb_df = pd.read_csv(\"../Data/tmdb.movies.csv\")\n",
    "tn_budget = pd.read_csv(\"../Data/tn.movie_budgets.csv\")"
   ]
  },
  {
   "cell_type": "markdown",
   "metadata": {},
   "source": [
    "## bom_movie data cleaning"

    "## SQL CLEANING AND MERGING"
   ]
  },
  {
   "cell_type": "code",
   "execution_count": 74,


   "execution_count": 4,

   "execution_count": 20,

   "metadata": {},
   "outputs": [
    {
     "name": "stdout",
     "output_type": "stream",
     "text": [
      "<class 'pandas.core.frame.DataFrame'>\n",
      "RangeIndex: 146144 entries, 0 to 146143\n",
      "Data columns (total 6 columns):\n",
      " #   Column           Non-Null Count   Dtype  \n",
      "---  ------           --------------   -----  \n",
      " 0   movie_id         146144 non-null  object \n",
      " 1   primary_title    146144 non-null  object \n",
      " 2   original_title   146123 non-null  object \n",
      " 3   start_year       146144 non-null  int64  \n",
      " 4   runtime_minutes  114405 non-null  float64\n",
      " 5   genres           140736 non-null  object \n",
      "dtypes: float64(1), int64(1), object(4)\n",
      "memory usage: 6.7+ MB\n",
      "movie_id               0\n",
      "primary_title          0\n",
      "original_title        21\n",
      "start_year             0\n",
      "runtime_minutes    31739\n",
      "genres              5408\n",
      "dtype: int64\n"
     ]
    }
   ],
   "source": [
    "movie_basics = imdb_tables['movie_basics']\n",
    "movie_basics.shape\n",
    "movie_basics.head()\n",
    "movie_basics.info()\n",
    "movie_basics.describe()\n",
    "print(movie_basics.isna().sum())"
   ]
  },
  {
   "cell_type": "code",
   "execution_count": 21,
   "metadata": {},
   "outputs": [],
   "source": [
    "movie_basics_cp = movie_basics.copy(deep=True)\n",
    "\n",
    "movie_basics_cp['original_title'] = movie_basics_cp['original_title'].fillna('Unknown')\n",
    "\n",
    "movie_basics_median = movie_basics_cp['runtime_minutes'].median()\n",
    "\n",
    "movie_basics_cp['runtime_minutes'] = movie_basics_cp['runtime_minutes'].fillna(movie_basics_median)\n",
    "\n",
    "movie_basics_cp['genres'] = movie_basics_cp['genres'].fillna(\"Unknown\")"
   ]
  },
  {
   "cell_type": "code",
   "execution_count": 6,
   "metadata": {},
   "outputs": [
    {
     "name": "stdout",
     "output_type": "stream",
     "text": [
      "movie_id           0\n",
      "primary_title      0\n",
      "original_title     0\n",
      "start_year         0\n",
      "runtime_minutes    0\n",
      "genres             0\n",
      "dtype: int64\n"
     ]
    },
    {
     "data": {
      "text/plain": [
       "(146144, 6)"
      ]
     },
     "execution_count": 22,
     "metadata": {},
     "output_type": "execute_result"
    }
   ],
   "source": [
    "print(movie_basics_cp.isna().sum())\n",
    "movie_basics_cp.shape"
   ]
  },
  {
   "cell_type": "code",

   "execution_count": 7,

   "metadata": {},
   "outputs": [
    {
     "data": {
      "text/plain": [
       "array([2013, 2019, 2018, 2017, 2012, 2010, 2011, 2015, 2021, 2016, 2014,\n",
       "       2020, 2022, 2023, 2024, 2026, 2025, 2115, 2027], dtype=int64)"
      ]
     },

     "execution_count": 7,

     "metadata": {},
     "output_type": "execute_result"
    }
   ],
   "source": [
    "movie_basics_cp['start_year'].unique()"
   ]
  },
  {
   "cell_type": "code",
   "execution_count": 8,

   "metadata": {},
   "outputs": [
    {
     "data": {
      "text/plain": [
       "<AxesSubplot:xlabel='start_year'>"
      ]
     },

     "execution_count": 8,

     "metadata": {},
     "output_type": "execute_result"
    },
    {
     "data": {

      "image/png": "iVBORw0KGgoAAAANSUhEUgAAAhkAAAGwCAYAAAAE4XcwAAAAOnRFWHRTb2Z0d2FyZQBNYXRwbG90bGliIHZlcnNpb24zLjEwLjAsIGh0dHBzOi8vbWF0cGxvdGxpYi5vcmcvlHJYcgAAAAlwSFlzAAAPYQAAD2EBqD+naQAAG9RJREFUeJzt3XuQ13W9+PHXLiurwO4q96tYECTDxbwc00xJHU2tpIuWNZbZwcs5eM6pyXNGxdCyMLtalDU1UM00IV7oOGKdyUtFgsyEIHA8iYsSJnBQMpZN5NK+f3/043v8clHAfS0sPB4zO8z3+/1839/3vga/36ff/XzZmlJKCQCAdla7vzcAABycRAYAkEJkAAApRAYAkEJkAAApRAYAkEJkAAAp6vb1jm1tbbF69epoaGiImpqa9twTAJCklBIbN26MgQMHRm1t7nsN+xwZq1evjiFDhrTnXgCADvLcc8/F4MGDUx9jnyOjoaEhIv6+ycbGxnbbEACQp6WlJYYMGVJ5Hc+0z5Gx/UckjY2NIgMAOpmOONXBiZ8AQAqRAQCkEBkAQAqRAQCkEBkAQAqRAQCkEBkAQAqRAQCkEBkAQAqRAQCkEBkAQAqRAQCkEBkAQAqRAQCkEBkAQAqRAQCkEBkAQAqRAQCkEBkAQAqRAQCkEBkAQAqRAQCkEBkAQAqRAQCkEBkAQAqRAQCkEBkAQAqRAQCkEBkAQAqRAQCkEBkAQAqRAQCkEBkAQIq6/b2BfbV+/fpobW1t1zV79OgRvXr1atc1AeBQ1SkjY/369TH5hutjy9Zt7bpu18Pq4pYvfkloAEA76JSR0draGlu2bouLu/0t+nQpe3SfF/4WMevluri427bo02VXt9fErJf/vrbIAIA3rlNGxnZ9upQYtJffQZ8usZv77FmsAAB7xomfAEAKkQEApBAZAEAKkQEApBAZAEAKkQEApBAZAEAKkQEApBAZAEAKkQEApBAZAEAKkQEApBAZAEAKkQEApBAZAEAKkQEApBAZAEAKkQEApBAZAEAKkQEApBAZAEAKkQEApBAZAEAKkQEApBAZAEAKkQEApBAZAEAKkQEApBAZAEAKkQEApBAZAEAKkQEApBAZAEAKkQEApBAZAEAKkQEApBAZAEAKkQEApBAZAEAKkQEApBAZAEAKkQEApBAZAEAKkQEApBAZAEAKkQEApBAZAEAKkQEApBAZAEAKkQEApBAZAEAKkQEApBAZAEAKkQEApBAZAEAKkQEApBAZAEAKkQEApBAZAEAKkQEApBAZAEAKkQEApBAZAEAKkQEApBAZAEAKkQEApBAZAEAKkQEApBAZAEAKkQEApDjgImPz5s3xxz/+MTZv3ry/t9JhDsXvGYCD3wEXGWvXro3Pf/7zsXbt2v29lQ5zKH7PABz8DrjIAAAODiIDAEghMgCAFCIDAEghMgCAFCIDAEghMgCAFCIDAEghMgCAFCIDAEghMgCAFCIDAEghMgCAFCIDAEghMgCAFCIDAEghMgCAFCIDAEghMgCAFCIDAEghMgCAFCIDAEghMgCAFCIDAEghMgCAFCIDAEghMgCAFCIDAEghMgCAFCIDAEghMgCAFCIDAEghMgCAFCIDAEghMgCAFCIDAEghMgCAFCIDAEghMgCAFCIDAEghMgCAFCIDAEghMgCAFCIDAEghMgCAFCIDAEghMgCAFCIDAEghMgCAFCIDAEghMgCAFCIDAEghMgCAFCIDAEghMgCAFCIDAEghMgCAFCIDAEghMgCAFCIDAEghMgCAFCIDAEghMgCAFCIDAEghMgCAFCIDAEghMgCAFCIDAEhRt783QLW2trZYvnx5bNiwIZqammL48OHR3Ny828sjRoyI2lqtCHCw2PF1oDM/z4uMA8j//M//xHe/+9148cUXK9fV1tZGW1vbbi/37t07Lr744jjhhBM6dK8AtL+FCxfGrFmzql4HOvPzfOdMo4PUXXfdFYMGDYrrr78+Jk6cGBERPXr0iIiIs88+u+ryxIkT4/rrr49BgwbFHXfcEQsXLtw/mwagXSxcuDDuuOOOyuvAd77znU7/PC8yDgDb35kYMWJETJo0Kd70pjfF7NmzY9y4cfGVr3wlxo4dGw8//HDl8rhx42L27Nnxpje9KSZNmhRjx46NWbNmVb3DAUDn0dbWFrNmzYqxY8fGpEmTYtiwYXH44YfHsGHDOvXz/B7/uGTz5s2xefPmyuWWlpaUDW23Zs2afbot83GzLFq0KCIiTjvttKitrY0//OEP8eKLL8YVV1wRdXV1MXr06FiyZEmMHj066urq4vzzz4+pU6fG8uXL461vfetOlwHoXJYvX1553t/x/Iva2tpO+zy/x5ExderUuPnmmzP3UuUHP/hBhz3WgfC4ERF9+/aNiIgNGzZERMSgQYMiIqJr165Vf26/fsfjtl8GoHPZ8fl8R531eX6PI+O6666Lz3zmM5XLLS0tMWTIkJRNRfz9nIMBAwbs8rY1a9akxcBrPW6WhQsXxpw5c2LdunXxlre8JZqamiIi4vnnn49hw4bFli1bIiIqfz7//PMREVXHvfoyAJ3Ljs/7O+qsz/N7HBn19fVRX1+fuZcqAwYMiKFDh3bY4+3Px21ra4s5c+bE7373uzjllFNixIgR0bt375gzZ0780z/9Uyxbtixqa2tj2bJlcfrpp8cDDzwQvXv3jhEjRkRbW1vVZQA6n1c/70+aNKnqRyad+XneiZ8HgO1/mZYvXx7Tpk2LZ555JiZMmBBPPPFEXHvttbFkyZJ417veVbn8xBNPxIQJE+KZZ56JadOmxZIlS+Liiy/utJ+jBjjU1dbWxsUXXxxLliyJadOmRXNzc2zatCmam5s79fO8fyfjAHLRRRfFI488ElOnTq1c19raGhERDz30UNXlH/7whxHx989PX3311Z3y89MA/J8TTjghrr766pg1a1bV60Bnfp4XGQeQY489Ns455xz/4ifAIeqEE06It73tbf7FT3LU1tbu9PGk17sMwMFjV68DnVXnTCMA4IAnMgCAFCIDAEghMgCAFCIDAEghMgCAFCIDAEghMgCAFCIDAEghMgCAFCIDAEghMgCAFCIDAEghMgCAFCIDAEghMgCAFCIDAEghMgCAFCIDAEghMgCAFCIDAEghMgCAFCIDAEghMgCAFCIDAEghMgCAFCIDAEghMgCAFCIDAEghMgCAFCIDAEghMgCAFCIDAEghMgCAFCIDAEghMgCAFCIDAEghMgCAFCIDAEghMgCAFCIDAEghMgCAFCIDAEghMgCAFCIDAEghMgCAFCIDAEghMgCAFCIDAEghMgCAFCIDAEghMgCAFCIDAEghMgCAFCIDAEghMgCAFCIDAEghMgCAFCIDAEghMgCAFCIDAEghMgCAFCIDAEghMgCAFCIDAEghMgCAFCIDAEghMgCAFAdcZPTv3z8+97nPRf/+/ff3VjrMofg9A3Dwq9vfG9hRfX19DB06dH9vo0Mdit8zAAe/A+6dDADg4CAyAIAUIgMASCEyAIAUIgMASCEyAIAUIgMASCEyAIAUIgMASCEyAIAUIgMASCEyAIAUIgMASCEyAIAUIgMASCEyAIAUIgMASCEyAIAUIgMASCEyAIAUIgMASCEyAIAUIgMASCEyAIAUIgMASCEyAIAUIgMASCEyAIAUIgMASCEyAIAUIgMASCEyAIAUIgMASCEyAIAUIgMASCEyAIAUIgMASCEyAIAUIgMASCEyAIAUIgMASCEyAIAUIgMASCEyAIAUIgMASCEyAIAUIgMASCEyAIAUIgMASCEyAIAUIgMASCEyAIAUIgMASCEyAIAUIgMASCEyAIAUIgMASCEyAIAUIgMASCEyAIAUIgMASCEyAIAUIgMASCEyAIAUIgMASCEyAIAUIgMASCEyAIAUIgMASCEyAIAUdft7A2/EC3+riYiyh8dW/7nrtQCA9tIpI6NHjx7R9bC6mPXy3t931su7/5a7HlYXPXr0eAM7AwC2qyml7NlbATtoaWmJpqam2LBhQzQ2Nrb3vl7X+vXro7W1tV3X7NGjR/Tq1atd1wSAA0lHvn53yncyIiJ69eolCADgAObETwAghcgAAFKIDAAghcgAAFKIDAAghcgAAFKIDAAghcgAAFKIDAAghcgAAFKIDAAghcgAAFKIDAAghcgAAFKIDAAghcgAAFKIDAAghcgAAFKIDAAghcgAAFKIDAAghcgAAFKIDAAghcgAAFKIDAAghcgAAFKIDAAghcgAAFKIDAAghcgAAFKIDAAghcgAAFKIDAAgRd2+3rGUEhERLS0t7bYZACDX9tft7a/jmfY5MjZu3BgREUOGDGm3zQAAHWPjxo3R1NSU+hg1ZR9Tpq2tLVavXh0NDQ1RU1PT3vvqFFpaWmLIkCHx3HPPRWNj4/7ezkHDXHOYaw5zzWGuObbP9cknn4yRI0dGbW3uWRP7/E5GbW1tDB48uD330mk1Njb6jyCBueYw1xzmmsNccwwaNCg9MCKc+AkAJBEZAEAKkfEG1NfXx5QpU6K+vn5/b+WgYq45zDWHueYw1xwdPdd9PvETAOC1eCcDAEghMgCAFCIDAEghMgCAFId8ZEydOjVOOumkaGhoiL59+8aECRPiqaeeqjqmlBI33XRTDBw4MI444ogYP358/Pd//3fl9j//+c9xzTXXxMiRI6Nbt25x9NFHx7/8y7/Ehg0bqtZ56aWX4tJLL42mpqZoamqKSy+9NP7yl790xLfZodpjpjsee95550VNTU38/Oc/r7rtUJlpRPvOdf78+XHmmWdG9+7d48gjj4zx48fHpk2bKreb697Pde3atXHppZdG//79o3v37nH88cfH3XffXXWMuVbP9d57741zzz03evfuHTU1NbF48eKd1tm8eXNcc8010bt37+jevXu8733viz/96U9Vx5jr3s21Q1+zyiHu3HPPLTNmzCjLli0rixcvLhdccEE5+uijS2tra+WYW2+9tTQ0NJR77rmnLF26tHz4wx8uAwYMKC0tLaWUUpYuXVo+8IEPlPvuu680NzeXhx56qLzlLW8pH/zgB6se693vfncZPXp0mTdvXpk3b14ZPXp0ec973tOh329HaI+ZvtrXv/71ct5555WIKLNnz6667VCZaSntN9d58+aVxsbGMnXq1LJs2bKyfPnyctddd5VXXnmlcoy57v1czz777HLSSSeVBQsWlBUrVpQvfOELpba2tjz++OOVY8y1eq4/+clPys0331x+8IMflIgoixYt2mmdq666qgwaNKj86le/Ko8//nh517veVcaNG1e2bdtWOcZc926uHfmadchHxo7WrVtXIqL85je/KaWU0tbWVvr3719uvfXWyjGvvPJKaWpqKt/73vd2u86sWbNK165dy9atW0sppTz55JMlIspjjz1WOWb+/PklIsof/vCHpO/mwPBGZrp48eIyePDgsmbNmp0i41CeaSn7PteTTz65TJ48ebfrmuu+zbV79+7lJz/5SdVaPXv2LD/84Q9LKea641xf7dlnn93li+Ff/vKXcthhh5WZM2dWrnv++edLbW1t+eUvf1lKMdd9meuuZL1mHfI/LtnR9reLevbsGRERzz77bKxduzbOOeecyjH19fVxxhlnxLx5815zncbGxqir+/uvh5k/f340NTXFySefXDnm7W9/ezQ1Nb3mOgeDfZ3pyy+/HJdccklMmzYt+vfvv9O6h/JMI/ZtruvWrYsFCxZE375949RTT41+/frFGWecEb/73e8q9zHXffv7etppp8Wdd94Zf/7zn6OtrS1mzpwZmzdvjvHjx0eEue441z2xcOHC2Lp1a9XsBw4cGKNHj67MzFz3fq67WyfjNUtkvEopJT7zmc/EaaedFqNHj46Iv/+cNSKiX79+Vcf269evctuO1q9fH1/4whfiyiuvrFy3du3a6Nu3707H9u3bd7frHAzeyEw//elPx6mnnhoXXnjhLtc+VGcase9zfeaZZyIi4qabboqJEyfGL3/5yzj++OPjrLPOiqeffrqyjrnu/d/XO++8M7Zt2xa9evWK+vr6uPLKK2P27NkxbNiwyjrm+n9z3RNr166Nrl27xlFHHVV1/atnb657P9cdZb5m7fNvYT0YTZo0KZYsWVL1f3Xb7fjr7Espu/wV9y0tLXHBBRfEqFGjYsqUKa+5xmutc7DY15ned9998fDDD8eiRYtec/1DcaYR+z7Xtra2iIi48sor45Of/GRERLztbW+Lhx56KKZPnx5Tp07d5Ro7rnOweiPPAZMnT46XXnopHnzwwejdu3f8/Oc/j4suuijmzp0bY8aM2eUau1rnYPRac90XO87MXPd9rtmvWd7J+P+uueaauO++++KRRx6p+hX229+m37Hc1q1bt9P/2WzcuDHe/e53R48ePWL27Nlx2GGHVa3zv//7vzs97gsvvLDTOgeLNzLThx9+OFasWBFHHnlk1NXVVd7C++AHP1h5+/lQnGnEG5vrgAEDIiJi1KhRVccce+yxsWrVqso65rp3c12xYkVMmzYtpk+fHmeddVaMGzcupkyZEieeeGJ85zvfqaxjroNf/w6v0r9//9iyZUu89NJLVde/evbmuvdz3a5DXrP2+OyNg1RbW1v553/+5zJw4MCyfPnyXd7ev3//8uUvf7ly3ebNm3c66WvDhg3l7W9/eznjjDPKX//6153W2X4SzYIFCyrXPfbYYwflyUntMdM1a9aUpUuXVn1FRLn99tvLM888U0o5tGZaSvvMta2trQwcOHCnEz+PO+64ct1115VSzHVXt7/eXJcsWVIiojz55JNV9z3nnHPKxIkTSynm+lpe78TPO++8s3Ld6tWrd3nip7nu7LVO/Oyo16xDPjKuvvrq0tTUVH7961+XNWvWVL5efvnlyjG33npraWpqKvfee29ZunRpueSSS6o+vtbS0lJOPvnkMmbMmNLc3Fy1zo4fsxo7dmyZP39+mT9/fhkzZsxB+TGr9pjprsRuPsJ6KMy0lPab6ze+8Y3S2NhY7rrrrvL000+XyZMnl8MPP7w0NzdXjjHXvZvrli1byvDhw8s73/nOsmDBgtLc3Fy++tWvlpqamjJnzpzKOuZaPdf169eXRYsWlTlz5pSIKDNnziyLFi0qa9asqRxz1VVXlcGDB5cHH3ywPP744+XMM8/c5UdYzXXP59qRr1mHfGRExC6/ZsyYUTmmra2tTJkypfTv37/U19eX008/vSxdurRy+yOPPLLbdZ599tnKcevXry8f+9jHSkNDQ2loaCgf+9jHyksvvdRx32wHaY+Z7m7dHSPjUJlpKe0716lTp5bBgweXbt26lVNOOaXMnTu36nZz3fu5Ll++vHzgAx8offv2Ld26dStjx47d6SOt5lo91xkzZuzymClTplSO2bRpU5k0aVLp2bNnOeKII8p73vOesmrVqqrHMte9m2tHvmb5Ve8AQAonfgIAKUQGAJBCZAAAKUQGAJBCZAAAKUQGAJBCZAAAKUQGAJBCZAAAKUQGdBKXXXZZTJgwod3WGz9+fPzbv/1bu60HsCORAYeYrVu37u8t7JUtW7bs7y0A+0hkwAHm7rvvjjFjxsQRRxwRvXr1irPPPjuuvfba+PGPfxz/+Z//GTU1NVFTUxO//vWvIyLiP/7jP2LEiBHRrVu3ePOb3xw33nhjVUjcdNNNcdxxx8X06dPjzW9+c9TX18cnPvGJ+M1vfhO33357Zb2VK1fudk+llBg+fHh89atfrbp+2bJlUVtbGytWrIiIiA0bNsQVV1wRffv2jcbGxjjzzDPjiSeeqBy/YsWKuPDCC6Nfv37Ro0ePOOmkk+LBBx+sWvOYY46JW265JS677LJoamqKiRMnvsGJAvtL3f7eAPB/1qxZE5dcckncdttt8f73vz82btwYc+fOjY9//OOxatWqaGlpiRkzZkRERM+ePSMioqGhIX70ox/FwIEDY+nSpTFx4sRoaGiIf//3f6+s29zcHLNmzYp77rknunTpEkOHDo2nn346Ro8eHZ///OcjIqJPnz673VdNTU1cfvnlMWPGjPjsZz9buX769Onxzne+M4YNGxallLjggguiZ8+e8cADD0RTU1N8//vfj7POOiuWL18ePXv2jNbW1jj//PPjlltuicMPPzx+/OMfx3vf+9546qmn4uijj66s+5WvfCVuvPHGmDx5crvOF+hgb+yXzgLtaeHChSUiysqVK3e67ROf+ES58MILX3eN2267rZxwwgmVy1OmTCmHHXZYWbduXdVxZ5xxRvnXf/3XPd7b6tWrS5cuXcqCBQtKKaVs2bKl9OnTp/zoRz8qpZTy0EMPlcbGxvLKK69U3W/YsGHl+9///m7XHTVqVPn2t79duTx06NAyYcKEPd4XcODyTgYcQMaNGxdnnXVWjBkzJs4999w455xz4kMf+lAcddRRu73P3XffHd/85jejubk5WltbY9u2bdHY2Fh1zNChQ1/znYo9MWDAgLjgggti+vTp8Q//8A9x//33xyuvvBIXXXRRREQsXLgwWltbo1evXlX327RpU+XHKX/961/j5ptvjvvvvz9Wr14d27Zti02bNsWqVauq7nPiiSe+ob0CBwbnZMABpEuXLvGrX/0qfvGLX8SoUaPi29/+dowcOTKeffbZXR7/2GOPxUc+8pE477zz4v77749FixbFDTfcsNPJkt27d2+X/f3jP/5jzJw5MzZt2hQzZsyID3/4w9GtW7eIiGhra4sBAwbE4sWLq76eeuqpuPbaayMi4tprr4177rknvvjFL8bcuXNj8eLFMWbMmLT9AvuXdzLgAFNTUxPveMc74h3veEd87nOfi6FDh8bs2bOja9eu8be//a3q2EcffTSGDh0aN9xwQ+W6P/7xj3v0OLta7/Wcf/750b1797jjjjviF7/4Rfz2t7+t3Hb88cfH2rVro66uLo455phd3n/u3Llx2WWXxfvf//6IiGhtbX3NE06Bzs07GXAAWbBgQXzpS1+K3//+97Fq1aq4995744UXXohjjz02jjnmmFiyZEk89dRT8eKLL8bWrVtj+PDhsWrVqpg5c2asWLEivvWtb8Xs2bP36LGOOeaYWLBgQaxcuTJefPHFaGtre937dOnSJS677LK47rrrYvjw4XHKKadUbjv77LPjlFNOiQkTJsR//dd/xcqVK2PevHkxefLk+P3vfx8REcOHD4977703Fi9eHE888UR89KMf3aPHBTonkQEHkMbGxvjtb38b559/fowYMSImT54cX/va1+K8886LiRMnxsiRI+PEE0+MPn36xKOPPhoXXnhhfPrTn45JkybFcccdF/PmzYsbb7xxjx7rs5/9bHTp0iVGjRoVffr02em8iN351Kc+FVu2bInLL7+86vqampp44IEH4vTTT4/LL788RowYER/5yEdi5cqV0a9fv4iI+MY3vhFHHXVUnHrqqfHe9743zj333Dj++OP3bkhAp1FTSin7exNA5/Hoo4/G+PHj409/+lMlHgB2RWQAe2Tz5s3x3HPPxRVXXBEDBgyIn/70p/t7S8ABzo9LgIiIuOqqq6JHjx67/LrqqqviZz/7WYwcOTI2bNgQt9122/7eLtAJeCcDiIiIdevWRUtLyy5va2xsjL59+3bwjoDOTmQAACn8uAQASCEyAIAUIgMASCEyAIAUIgMASCEyAIAUIgMASPH/AFUguVJ3VRNJAAAAAElFTkSuQmCC",

      "text/plain": [
       "<Figure size 432x288 with 1 Axes>"
      ]
     },
     "metadata": {
      "needs_background": "light"
     },
     "output_type": "display_data"
    }
   ],
   "source": [
    "sns.boxplot(x= movie_basics_cp['start_year'], color='tomato')"
   ]
  },
  {
   "cell_type": "code",

   "execution_count": 9,

   "metadata": {},
   "outputs": [
    {
     "data": {
      "text/plain": [
       "(146140, 6)"
      ]
     },
     "execution_count": 9,
     "metadata": {},
     "output_type": "execute_result"
    }
   ],
   "source": [
    "movie_basics_cp = movie_basics_cp[movie_basics_cp['start_year'] < 2025]\n",
    "movie_basics_cp.shape\n",
    "\n"
   ]
  },
  {
   "cell_type": "code",
   "execution_count": 10,
   "metadata": {},
   "outputs": [
    {
     "data": {
      "text/plain": [
       "<AxesSubplot:xlabel='runtime_minutes'>"
      ]
     },

     "execution_count": 10,
     "metadata": {},
     "output_type": "execute_result"
    },
    {
     "data": {
      "image/png": "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",

      "text/plain": [
       "<Figure size 432x288 with 1 Axes>"
      ]
     },
     "metadata": {
      "needs_background": "light"
     },
     "output_type": "display_data"
    }
   ],
   "source": [
    "sns.boxplot(x= movie_basics_cp['runtime_minutes'], color='tomato')"
   ]
  },
  {
   "cell_type": "code",
   "execution_count": 11,
   "metadata": {},
   "outputs": [
    {
     "data": {

      "application/vnd.microsoft.datawrangler.viewer.v0+json": {
       "columns": [
        {
         "name": "index",
         "rawType": "int64",
         "type": "integer"
        },
        {
         "name": "runtime_minutes",
         "rawType": "float64",
         "type": "float"
        }
       ],
       "ref": "31b3b067-8a7f-4e7b-a0d6-caa02cafdda1",
       "rows": [
        [
         "95787",
         "1.0"
        ],
        [
         "113278",
         "1.0"
        ],
        [
         "93214",
         "1.0"
        ],
        [
         "72190",
         "1.0"
        ],
        [
         "98755",
         "1.0"
        ],
        [
         "116943",
         "1.0"
        ],
        [
         "3298",
         "1.0"
        ],
        [
         "140571",
         "1.0"
        ],
        [
         "125975",
         "1.0"
        ],
        [
         "22903",
         "1.0"
        ],
        [
         "60809",
         "1.0"
        ],
        [
         "54307",
         "1.0"
        ],
        [
         "114067",
         "1.0"
        ],
        [
         "117258",
         "1.0"
        ],
        [
         "2570",
         "1.0"
        ],
        [
         "57140",
         "1.0"
        ],
        [
         "136059",
         "1.0"
        ],
        [
         "113099",
         "2.0"
        ],
        [
         "15584",
         "2.0"
        ],
        [
         "129630",
         "2.0"
        ],
        [
         "116783",
         "2.0"
        ],
        [
         "3116",
         "2.0"
        ],
        [
         "102792",
         "2.0"
        ],
        [
         "107782",
         "2.0"
        ],
        [
         "114134",
         "2.0"
        ],
        [
         "117649",
         "2.0"
        ],
        [
         "131229",
         "2.0"
        ],
        [
         "51387",
         "2.0"
        ],
        [
         "37345",
         "2.0"
        ],
        [
         "43133",
         "2.0"
        ],
        [
         "96417",
         "2.0"
        ],
        [
         "59386",
         "2.0"
        ],
        [
         "131200",
         "2.0"
        ],
        [
         "105198",
         "2.0"
        ],
        [
         "110973",
         "2.0"
        ],
        [
         "9343",
         "2.0"
        ],
        [
         "123610",
         "2.0"
        ],
        [
         "120152",
         "2.0"
        ],
        [
         "5128",
         "2.0"
        ],
        [
         "118872",
         "2.0"
        ],
        [
         "133236",
         "2.0"
        ],
        [
         "106420",
         "2.0"
        ],
        [
         "114657",
         "2.0"
        ],
        [
         "131154",
         "2.0"
        ],
        [
         "109535",
         "2.0"
        ],
        [
         "125081",
         "2.0"
        ],
        [
         "98062",
         "2.0"
        ],
        [
         "5401",
         "2.0"
        ],
        [
         "83271",
         "2.0"
        ],
        [
         "97113",
         "2.0"
        ]
       ],
       "shape": {
        "columns": 1,
        "rows": 146140
       }
      },
      "text/plain": [
       "95787         1.0\n",
       "113278        1.0\n",
       "93214         1.0\n",
       "72190         1.0\n",
       "98755         1.0\n",
       "           ...   \n",
       "88717      5460.0\n",
       "87264      6000.0\n",
       "123467     6017.0\n",
       "44840     14400.0\n",
       "132389    51420.0\n",
       "Name: runtime_minutes, Length: 146140, dtype: float64"
      ]
     },
     "execution_count": 11,

     "metadata": {},
     "output_type": "execute_result"
    }
   ],
   "source": [
    "runtime = movie_basics_cp['runtime_minutes'].sort_values(ascending=True)\n",
    "runtime\n"
   ]
  },
  {
   "cell_type": "code",
   "execution_count": 12,
   "metadata": {},
   "outputs": [
    {
     "data": {
      "text/plain": [
       "0"
      ]
     },
     "execution_count": 12,
     "metadata": {},
     "output_type": "execute_result"
    }
   ],
   "source": [
    "movie_basics_cp = movie_basics_cp[movie_basics_cp['runtime_minutes'].between(40, 150)]\n",
    "movie_basics_cp.duplicated().sum()"
   ]
  },
  {
   "cell_type": "code",
   "execution_count": 13,
   "metadata": {},
   "outputs": [
    {
     "name": "stdout",
     "output_type": "stream",
     "text": [
      "<class 'pandas.core.frame.DataFrame'>\n",
      "RangeIndex: 73856 entries, 0 to 73855\n",
      "Data columns (total 3 columns):\n",
      " #   Column         Non-Null Count  Dtype  \n",
      "---  ------         --------------  -----  \n",
      " 0   movie_id       73856 non-null  object \n",
      " 1   averagerating  73856 non-null  float64\n",
      " 2   numvotes       73856 non-null  int64  \n",
      "dtypes: float64(1), int64(1), object(1)\n",
      "memory usage: 1.7+ MB\n"
     ]
    },
    {
     "data": {
      "application/vnd.microsoft.datawrangler.viewer.v0+json": {
       "columns": [
        {
         "name": "index",
         "rawType": "object",
         "type": "string"
        },
        {
         "name": "0",
         "rawType": "int64",
         "type": "integer"
        }
       ],
       "ref": "c563c036-e94a-4569-b07b-e2a42255bad6",
       "rows": [
        [
         "movie_id",
         "0"
        ],
        [
         "averagerating",
         "0"
        ],
        [
         "numvotes",
         "0"
        ]
       ],
       "shape": {
        "columns": 1,
        "rows": 3
       }
      },
      "text/plain": [
       "movie_id         0\n",
       "averagerating    0\n",
       "numvotes         0\n",
       "dtype: int64"
      ]
     },
     "execution_count": 13,
     "metadata": {},
     "output_type": "execute_result"
    }
   ],
   "source": [
    "movie_ratings = imdb_tables['movie_ratings']\n",
    "movie_ratings.shape\n",
    "movie_ratings.head()\n",
    "movie_ratings.describe()\n",
    "movie_ratings.info()\n",
    "movie_ratings.isna().sum()"
   ]
  },
  {
   "cell_type": "code",
   "execution_count": 14,
   "metadata": {},
   "outputs": [],
   "source": [
    "movie_ratings_cp = movie_ratings.copy(deep=True)"
   ]
  },
  {
   "cell_type": "code",

   "execution_count": 15,
   "metadata": {},
   "outputs": [
    {
     "data": {
      "application/vnd.microsoft.datawrangler.viewer.v0+json": {
       "columns": [
        {
         "name": "index",
         "rawType": "int64",
         "type": "integer"
        },
        {
         "name": "movie_id",
         "rawType": "object",
         "type": "string"
        },
        {
         "name": "primary_title",
         "rawType": "object",
         "type": "string"
        },
        {
         "name": "original_title",
         "rawType": "object",
         "type": "string"
        },
        {
         "name": "start_year",
         "rawType": "int64",
         "type": "integer"
        },
        {
         "name": "runtime_minutes",
         "rawType": "float64",
         "type": "float"
        },
        {
         "name": "genres",
         "rawType": "object",
         "type": "string"
        },
        {
         "name": "averagerating",
         "rawType": "float64",
         "type": "float"
        },
        {
         "name": "numvotes",
         "rawType": "int64",
         "type": "integer"
        }
       ],
       "ref": "b47633cc-9d74-4c1e-9547-f6b79c123c8c",
       "rows": [
        [
         "0",
         "tt0066787",
         "One Day Before the Rainy Season",
         "Ashad Ka Ek Din",
         "2019",
         "114.0",
         "Biography,Drama",
         "7.2",
         "43"
        ],
        [
         "1",
         "tt0069049",
         "The Other Side of the Wind",
         "The Other Side of the Wind",
         "2018",
         "122.0",
         "Drama",
         "6.9",
         "4517"
        ],
        [
         "2",
         "tt0069204",
         "Sabse Bada Sukh",
         "Sabse Bada Sukh",
         "2018",
         "87.0",
         "Comedy,Drama",
         "6.1",
         "13"
        ],
        [
         "3",
         "tt0100275",
         "The Wandering Soap Opera",
         "La Telenovela Errante",
         "2017",
         "80.0",
         "Comedy,Drama,Fantasy",
         "6.5",
         "119"
        ],
        [
         "4",
         "tt0112502",
         "Bigfoot",
         "Bigfoot",
         "2017",
         "87.0",
         "Horror,Thriller",
         "4.1",
         "32"
        ],
        [
         "5",
         "tt0137204",
         "Joe Finds Grace",
         "Joe Finds Grace",
         "2017",
         "83.0",
         "Adventure,Animation,Comedy",
         "8.1",
         "263"
        ],
        [
         "6",
         "tt0146592",
         "Pál Adrienn",
         "Pál Adrienn",
         "2010",
         "136.0",
         "Drama",
         "6.8",
         "451"
        ],
        [
         "7",
         "tt0154039",
         "So Much for Justice!",
         "Oda az igazság",
         "2010",
         "100.0",
         "History",
         "4.6",
         "64"
        ],
        [
         "8",
         "tt0162942",
         "Children of the Green Dragon",
         "A zöld sárkány gyermekei",
         "2010",
         "89.0",
         "Drama",
         "6.9",
         "120"
        ],
        [
         "9",
         "tt0170651",
         "T.G.M. - osvoboditel",
         "T.G.M. - osvoboditel",
         "2018",
         "60.0",
         "Documentary",
         "7.5",
         "6"
        ],
        [
         "10",
         "tt0192528",
         "Heaven & Hell",
         "Reverse Heaven",
         "2018",
         "104.0",
         "Drama",
         "4.0",
         "72"
        ],
        [
         "11",
         "tt0230212",
         "The Final Journey",
         "The Final Journey",
         "2010",
         "120.0",
         "Drama",
         "8.8",
         "8"
        ],
        [
         "12",
         "tt0247643",
         "Los pájaros se van con la muerte",
         "Los pájaros se van con la muerte",
         "2011",
         "110.0",
         "Drama,Mystery",
         "4.0",
         "12"
        ],
        [
         "13",
         "tt0249516",
         "Foodfight!",
         "Foodfight!",
         "2012",
         "91.0",
         "Action,Animation,Comedy",
         "1.9",
         "8248"
        ],
        [
         "14",
         "tt0250404",
         "Godfather",
         "Godfather",
         "2012",
         "87.0",
         "Crime,Drama",
         "6.7",
         "236"
        ],
        [
         "15",
         "tt0253093",
         "Gangavataran",
         "Gangavataran",
         "2018",
         "134.0",
         "Unknown",
         "6.6",
         "8"
        ],
        [
         "16",
         "tt0255820",
         "Return to Babylon",
         "Return to Babylon",
         "2013",
         "75.0",
         "Biography,Comedy,Drama",
         "5.9",
         "123"
        ],
        [
         "17",
         "tt0262218",
         "Akakis mogzauroba",
         "Akakis mogzauroba",
         "2012",
         "44.0",
         "Documentary",
         "7.8",
         "22"
        ],
        [
         "18",
         "tt0263814",
         "On kadin",
         "On kadin",
         "2019",
         "87.0",
         "Drama",
         "7.1",
         "100"
        ],
        [
         "19",
         "tt0276568",
         "To Chase a Million",
         "To Chase a Million",
         "2018",
         "97.0",
         "Action,Drama",
         "7.4",
         "5"
        ],
        [
         "20",
         "tt0277964",
         "Prague: The Restless Heart of Europe",
         "Praha - neklidné srdce Evropy",
         "2018",
         "59.0",
         "Documentary,History",
         "7.0",
         "31"
        ],
        [
         "21",
         "tt0283440",
         "Short Time Heroes",
         "Kurzzeithelden",
         "2015",
         "45.0",
         "Sci-Fi",
         "6.6",
         "16"
        ],
        [
         "22",
         "tt0285252",
         "Life's a Beach",
         "Life's a Beach",
         "2012",
         "100.0",
         "Comedy",
         "3.9",
         "219"
        ],
        [
         "23",
         "tt0285423",
         "Abolição",
         "Abolição",
         "2019",
         "87.0",
         "Documentary",
         "7.4",
         "35"
        ],
        [
         "24",
         "tt0293069",
         "Dark Blood",
         "Dark Blood",
         "2012",
         "86.0",
         "Thriller",
         "6.6",
         "1053"
        ],
        [
         "25",
         "tt0297400",
         "Snowblind",
         "Snowblind",
         "2015",
         "87.0",
         "Crime,Drama",
         "6.7",
         "77"
        ],
        [
         "26",
         "tt0306058",
         "Second Coming",
         "Second Coming",
         "2012",
         "95.0",
         "Unknown",
         "5.5",
         "20"
        ],
        [
         "27",
         "tt0312305",
         "Quantum Quest: A Cassini Space Odyssey",
         "Quantum Quest: A Cassini Space Odyssey",
         "2010",
         "45.0",
         "Adventure,Animation,Sci-Fi",
         "5.1",
         "287"
        ],
        [
         "28",
         "tt0315642",
         "Wazir",
         "Wazir",
         "2016",
         "103.0",
         "Action,Crime,Drama",
         "7.1",
         "15378"
        ],
        [
         "29",
         "tt0323808",
         "The Wicker Tree",
         "The Wicker Tree",
         "2011",
         "96.0",
         "Drama,Horror",
         "3.9",
         "2328"
        ],
        [
         "30",
         "tt0326592",
         "The Overnight",
         "The Overnight",
         "2010",
         "88.0",
         "Unknown",
         "7.5",
         "24"
        ],
        [
         "31",
         "tt0326965",
         "In My Sleep",
         "In My Sleep",
         "2010",
         "104.0",
         "Drama,Mystery,Thriller",
         "5.5",
         "1889"
        ],
        [
         "32",
         "tt0328810",
         "My Land",
         "Aamaar Bhuvan",
         "2018",
         "102.0",
         "Drama,Family",
         "7.9",
         "61"
        ],
        [
         "33",
         "tt0329539",
         "Rice Girl",
         "Rice Girl",
         "2014",
         "95.0",
         "Adventure,Comedy,Romance",
         "6.1",
         "73"
        ],
        [
         "34",
         "tt0330811",
         "Regret Not Speaking",
         "Regret Not Speaking",
         "2011",
         "87.0",
         "Unknown",
         "6.2",
         "10"
        ],
        [
         "35",
         "tt0330987",
         "Tiden är en dröm, del 2",
         "Tiden är en dröm, del 2",
         "2014",
         "109.0",
         "Unknown",
         "6.3",
         "6"
        ],
        [
         "36",
         "tt0331312",
         "This Wretched Life",
         "This Wretched Life",
         "2010",
         "99.0",
         "Comedy,Drama",
         "7.6",
         "59"
        ],
        [
         "37",
         "tt0331314",
         "Bunyan and Babe",
         "Bunyan and Babe",
         "2017",
         "84.0",
         "Adventure,Animation,Comedy",
         "5.0",
         "302"
        ],
        [
         "38",
         "tt0337692",
         "On the Road",
         "On the Road",
         "2012",
         "124.0",
         "Adventure,Drama,Romance",
         "6.1",
         "37886"
        ],
        [
         "39",
         "tt0337882",
         "Blind Sided",
         "Blind Sided",
         "2010",
         "87.0",
         "Comedy,Crime,Drama",
         "7.4",
         "14"
        ],
        [
         "40",
         "tt0337926",
         "Chatô - The King of Brazil",
         "Chatô: O Rei do Brasil",
         "2015",
         "102.0",
         "Biography",
         "6.0",
         "558"
        ],
        [
         "41",
         "tt0339736",
         "The Evil Within",
         "The Evil Within",
         "2017",
         "98.0",
         "Horror",
         "5.6",
         "2420"
        ],
        [
         "42",
         "tt0346045",
         "Transeúntes",
         "Transeúntes",
         "2015",
         "101.0",
         "Comedy,Drama",
         "6.7",
         "35"
        ],
        [
         "43",
         "tt0357717",
         "Haar Jeet",
         "Haar Jeet",
         "2018",
         "87.0",
         "Drama",
         "5.1",
         "9"
        ],
        [
         "44",
         "tt0359950",
         "The Secret Life of Walter Mitty",
         "The Secret Life of Walter Mitty",
         "2013",
         "114.0",
         "Adventure,Comedy,Drama",
         "7.3",
         "275300"
        ],
        [
         "45",
         "tt0360556",
         "Fahrenheit 451",
         "Fahrenheit 451",
         "2018",
         "100.0",
         "Drama,Sci-Fi,Thriller",
         "4.9",
         "14469"
        ],
        [
         "46",
         "tt0364201",
         "Aman Ke Farishtey",
         "Aman Ke Farishtey",
         "2016",
         "137.0",
         "Action",
         "6.4",
         "16"
        ],
        [
         "47",
         "tt0365545",
         "Nappily Ever After",
         "Nappily Ever After",
         "2018",
         "98.0",
         "Comedy,Drama,Romance",
         "6.4",
         "6287"
        ],
        [
         "48",
         "tt0365907",
         "A Walk Among the Tombstones",
         "A Walk Among the Tombstones",
         "2014",
         "114.0",
         "Action,Crime,Drama",
         "6.5",
         "105116"
        ],
        [
         "49",
         "tt0369610",
         "Jurassic World",
         "Jurassic World",
         "2015",
         "124.0",
         "Action,Adventure,Sci-Fi",
         "7.0",
         "539338"
        ]
       ],
       "shape": {
        "columns": 8,
        "rows": 72227
       }
      },

      "text/html": [
       "<div>\n",
       "<style scoped>\n",
       "    .dataframe tbody tr th:only-of-type {\n",
       "        vertical-align: middle;\n",
       "    }\n",
       "\n",
       "    .dataframe tbody tr th {\n",
       "        vertical-align: top;\n",
       "    }\n",
       "\n",
       "    .dataframe thead th {\n",
       "        text-align: right;\n",
       "    }\n",
       "</style>\n",
       "<table border=\"1\" class=\"dataframe\">\n",
       "  <thead>\n",
       "    <tr style=\"text-align: right;\">\n",
       "      <th></th>\n",

       "      <th>title</th>\n",
       "      <th>studio</th>\n",
       "      <th>domestic_gross</th>\n",
       "      <th>foreign_gross</th>\n",
       "      <th>year</th>\n",

       "      <th>movie_id</th>\n",
       "      <th>primary_title</th>\n",
       "      <th>original_title</th>\n",
       "      <th>start_year</th>\n",
       "      <th>runtime_minutes</th>\n",
       "      <th>genres</th>\n",
       "      <th>averagerating</th>\n",
       "      <th>numvotes</th>\n",

       "    </tr>\n",
       "  </thead>\n",
       "  <tbody>\n",
       "    <tr>\n",
       "      <th>0</th>\n",

       "      <td>Toy Story 3</td>\n",
       "      <td>BV</td>\n",
       "      <td>415000000.0</td>\n",
       "      <td>652000000</td>\n",
       "      <td>2010</td>\n",
       "    </tr>\n",
       "    <tr>\n",
       "      <th>1</th>\n",
       "      <td>Alice in Wonderland (2010)</td>\n",
       "      <td>BV</td>\n",
       "      <td>334200000.0</td>\n",
       "      <td>691300000</td>\n",
       "      <td>2010</td>\n",
       "    </tr>\n",
       "    <tr>\n",
       "      <th>2</th>\n",
       "      <td>Harry Potter and the Deathly Hallows Part 1</td>\n",
       "      <td>WB</td>\n",
       "      <td>296000000.0</td>\n",
       "      <td>664300000</td>\n",
       "      <td>2010</td>\n",
       "    </tr>\n",
       "    <tr>\n",
       "      <th>3</th>\n",
       "      <td>Inception</td>\n",
       "      <td>WB</td>\n",
       "      <td>292600000.0</td>\n",
       "      <td>535700000</td>\n",
       "      <td>2010</td>\n",
       "    </tr>\n",
       "    <tr>\n",
       "      <th>4</th>\n",
       "      <td>Shrek Forever After</td>\n",
       "      <td>P/DW</td>\n",
       "      <td>238700000.0</td>\n",
       "      <td>513900000</td>\n",
       "      <td>2010</td>\n",
       "    </tr>\n",
       "  </tbody>\n",
       "</table>\n",
       "</div>"
      ],
      "text/plain": [
       "                                         title studio  domestic_gross  \\\n",
       "0                                  Toy Story 3     BV     415000000.0   \n",
       "1                   Alice in Wonderland (2010)     BV     334200000.0   \n",
       "2  Harry Potter and the Deathly Hallows Part 1     WB     296000000.0   \n",
       "3                                    Inception     WB     292600000.0   \n",
       "4                          Shrek Forever After   P/DW     238700000.0   \n",
       "\n",
       "  foreign_gross  year  \n",
       "0     652000000  2010  \n",
       "1     691300000  2010  \n",
       "2     664300000  2010  \n",
       "3     535700000  2010  \n",
       "4     513900000  2010  "
      ]
     },
     "execution_count": 74,
       "      <td>tt0066787</td>\n",
       "      <td>One Day Before the Rainy Season</td>\n",
       "      <td>Ashad Ka Ek Din</td>\n",
       "      <td>2019</td>\n",
       "      <td>114.0</td>\n",
       "      <td>Biography,Drama</td>\n",
       "      <td>7.2</td>\n",
       "      <td>43</td>\n",
       "    </tr>\n",
       "    <tr>\n",
       "      <th>1</th>\n",
       "      <td>tt0069049</td>\n",
       "      <td>The Other Side of the Wind</td>\n",
       "      <td>The Other Side of the Wind</td>\n",
       "      <td>2018</td>\n",
       "      <td>122.0</td>\n",
       "      <td>Drama</td>\n",
       "      <td>6.9</td>\n",
       "      <td>4517</td>\n",
       "    </tr>\n",
       "    <tr>\n",
       "      <th>2</th>\n",
       "      <td>tt0069204</td>\n",
       "      <td>Sabse Bada Sukh</td>\n",
       "      <td>Sabse Bada Sukh</td>\n",
       "      <td>2018</td>\n",
       "      <td>87.0</td>\n",
       "      <td>Comedy,Drama</td>\n",
       "      <td>6.1</td>\n",
       "      <td>13</td>\n",
       "    </tr>\n",
       "    <tr>\n",
       "      <th>3</th>\n",
       "      <td>tt0100275</td>\n",
       "      <td>The Wandering Soap Opera</td>\n",
       "      <td>La Telenovela Errante</td>\n",
       "      <td>2017</td>\n",
       "      <td>80.0</td>\n",
       "      <td>Comedy,Drama,Fantasy</td>\n",
       "      <td>6.5</td>\n",
       "      <td>119</td>\n",
       "    </tr>\n",
       "    <tr>\n",
       "      <th>4</th>\n",
       "      <td>tt0112502</td>\n",
       "      <td>Bigfoot</td>\n",
       "      <td>Bigfoot</td>\n",
       "      <td>2017</td>\n",
       "      <td>87.0</td>\n",
       "      <td>Horror,Thriller</td>\n",
       "      <td>4.1</td>\n",
       "      <td>32</td>\n",
       "    </tr>\n",
       "    <tr>\n",
       "      <th>...</th>\n",
       "      <td>...</td>\n",
       "      <td>...</td>\n",
       "      <td>...</td>\n",
       "      <td>...</td>\n",
       "      <td>...</td>\n",
       "      <td>...</td>\n",
       "      <td>...</td>\n",
       "      <td>...</td>\n",
       "    </tr>\n",
       "    <tr>\n",
       "      <th>72222</th>\n",
       "      <td>tt9913084</td>\n",
       "      <td>Diabolik sono io</td>\n",
       "      <td>Diabolik sono io</td>\n",
       "      <td>2019</td>\n",
       "      <td>75.0</td>\n",
       "      <td>Documentary</td>\n",
       "      <td>6.2</td>\n",
       "      <td>6</td>\n",
       "    </tr>\n",
       "    <tr>\n",
       "      <th>72223</th>\n",
       "      <td>tt9914286</td>\n",
       "      <td>Sokagin Çocuklari</td>\n",
       "      <td>Sokagin Çocuklari</td>\n",
       "      <td>2019</td>\n",
       "      <td>98.0</td>\n",
       "      <td>Drama,Family</td>\n",
       "      <td>8.7</td>\n",
       "      <td>136</td>\n",
       "    </tr>\n",
       "    <tr>\n",
       "      <th>72224</th>\n",
       "      <td>tt9914642</td>\n",
       "      <td>Albatross</td>\n",
       "      <td>Albatross</td>\n",
       "      <td>2017</td>\n",
       "      <td>87.0</td>\n",
       "      <td>Documentary</td>\n",
       "      <td>8.5</td>\n",
       "      <td>8</td>\n",
       "    </tr>\n",
       "    <tr>\n",
       "      <th>72225</th>\n",
       "      <td>tt9914942</td>\n",
       "      <td>La vida sense la Sara Amat</td>\n",
       "      <td>La vida sense la Sara Amat</td>\n",
       "      <td>2019</td>\n",
       "      <td>87.0</td>\n",
       "      <td>Unknown</td>\n",
       "      <td>6.6</td>\n",
       "      <td>5</td>\n",
       "    </tr>\n",
       "    <tr>\n",
       "      <th>72226</th>\n",
       "      <td>tt9916160</td>\n",
       "      <td>Drømmeland</td>\n",
       "      <td>Drømmeland</td>\n",
       "      <td>2019</td>\n",
       "      <td>72.0</td>\n",
       "      <td>Documentary</td>\n",
       "      <td>6.5</td>\n",
       "      <td>11</td>\n",
       "    </tr>\n",
       "  </tbody>\n",
       "</table>\n",
       "<p>72227 rows × 8 columns</p>\n",
       "</div>"
      ],
      "text/plain": [
       "        movie_id                    primary_title              original_title  \\\n",
       "0      tt0066787  One Day Before the Rainy Season             Ashad Ka Ek Din   \n",
       "1      tt0069049       The Other Side of the Wind  The Other Side of the Wind   \n",
       "2      tt0069204                  Sabse Bada Sukh             Sabse Bada Sukh   \n",
       "3      tt0100275         The Wandering Soap Opera       La Telenovela Errante   \n",
       "4      tt0112502                          Bigfoot                     Bigfoot   \n",
       "...          ...                              ...                         ...   \n",
       "72222  tt9913084                 Diabolik sono io            Diabolik sono io   \n",
       "72223  tt9914286                Sokagin Çocuklari           Sokagin Çocuklari   \n",
       "72224  tt9914642                        Albatross                   Albatross   \n",
       "72225  tt9914942       La vida sense la Sara Amat  La vida sense la Sara Amat   \n",
       "72226  tt9916160                       Drømmeland                  Drømmeland   \n",
       "\n",
       "       start_year  runtime_minutes                genres  averagerating  \\\n",
       "0            2019            114.0       Biography,Drama            7.2   \n",
       "1            2018            122.0                 Drama            6.9   \n",
       "2            2018             87.0          Comedy,Drama            6.1   \n",
       "3            2017             80.0  Comedy,Drama,Fantasy            6.5   \n",
       "4            2017             87.0       Horror,Thriller            4.1   \n",
       "...           ...              ...                   ...            ...   \n",
       "72222        2019             75.0           Documentary            6.2   \n",
       "72223        2019             98.0          Drama,Family            8.7   \n",
       "72224        2017             87.0           Documentary            8.5   \n",
       "72225        2019             87.0               Unknown            6.6   \n",
       "72226        2019             72.0           Documentary            6.5   \n",
       "\n",
       "       numvotes  \n",
       "0            43  \n",
       "1          4517  \n",
       "2            13  \n",
       "3           119  \n",
       "4            32  \n",
       "...         ...  \n",
       "72222         6  \n",
       "72223       136  \n",
       "72224         8  \n",
       "72225         5  \n",
       "72226        11  \n",
       "\n",
       "[72227 rows x 8 columns]"
      ]
     },
     "execution_count": 15,

     "metadata": {},
     "output_type": "execute_result"
    }
   ],
   "source": [

    "# checking the first rows\n",
    "bom_movie.head()"
   ]
  },
  {
   "cell_type": "code",
   "execution_count": 75,
   "metadata": {},
   "outputs": [
    {
     "name": "stdout",
     "output_type": "stream",
     "text": [
      "<class 'pandas.core.frame.DataFrame'>\n",
      "RangeIndex: 3387 entries, 0 to 3386\n",
      "Data columns (total 5 columns):\n",
      " #   Column          Non-Null Count  Dtype  \n",
      "---  ------          --------------  -----  \n",
      " 0   title           3387 non-null   object \n",
      " 1   studio          3382 non-null   object \n",
      " 2   domestic_gross  3359 non-null   float64\n",
      " 3   foreign_gross   2037 non-null   object \n",
      " 4   year            3387 non-null   int64  \n",
      "dtypes: float64(1), int64(1), object(3)\n",
      "memory usage: 132.4+ KB\n"
     ]
    }
   ],
   "source": [
    "bom_movie.info()"

    "movie_merge = movie_basics_cp.merge(movie_ratings_cp, on='movie_id', how='inner')\n",
    "movie_merge"
   ]
  },
  {

   "cell_type": "markdown",
   "metadata": {},
   "source": [
    "#### Movie akas"

   ]
  },
  {
   "cell_type": "code",

   "execution_count": 76,
   "metadata": {},
   "outputs": [
    {
     "data": {
      "text/plain": [
       "Index(['title', 'studio', 'domestic_gross', 'foreign_gross', 'year'], dtype='object')"
      ]
     },
     "execution_count": 76,
     "metadata": {},
     "output_type": "execute_result"
    }
   ],
   "source": [
    "#checking  on columns\n",
    "bom_movie.columns"

   "execution_count": 38,
   "metadata": {},
   "outputs": [],
   "source": [
    "#Get the dataset\n",
    "#Make a copy\n",
    "movie_akas = imdb_tables['movie_akas']\n",
    "movie_akas_cp = movie_akas.copy(deep=True)"

   ]
  },
  {
   "cell_type": "code",

   "execution_count": 77,

   "execution_count": 39,
   "cell_type": "code",
   "execution_count": 54,

   "metadata": {},
   "outputs": [
    {
     "data": {
      "application/vnd.microsoft.datawrangler.viewer.v0+json": {
       "columns": [
        {
         "name": "index",
         "rawType": "int64",
         "type": "integer"
        },
        {
         "name": "person_id",
         "rawType": "object",
         "type": "string"
        },
        {
         "name": "primary_name",
         "rawType": "object",
         "type": "string"
        },
        {
         "name": "birth_year",
         "rawType": "float64",
         "type": "float"
        },
        {
         "name": "death_year",
         "rawType": "float64",
         "type": "float"
        },
        {
         "name": "primary_profession",
         "rawType": "object",
         "type": "string"
        }
       ],
       "ref": "c5745777-9c2f-4092-892c-a298bc5815be",
       "rows": [
        [
         "0",
         "nm0061671",
         "Mary Ellen Bauder",
         null,
         null,
         "miscellaneous,production_manager,producer"
        ],
        [
         "1",
         "nm0061865",
         "Joseph Bauer",
         null,
         null,
         "composer,music_department,sound_department"
        ],
        [
         "2",
         "nm0062070",
         "Bruce Baum",
         null,
         null,
         "miscellaneous,actor,writer"
        ],
        [
         "3",
         "nm0062195",
         "Axel Baumann",
         null,
         null,
         "camera_department,cinematographer,art_department"
        ],
        [
         "4",
         "nm0062798",
         "Pete Baxter",
         null,
         null,
         "production_designer,art_department,set_decorator"
        ],
        [
         "5",
         "nm0062879",
         "Ruel S. Bayani",
         null,
         null,
         "director,production_manager,miscellaneous"
        ],
        [
         "6",
         "nm0063198",
         "Bayou",
         null,
         null,
         "actor"
        ],
        [
         "7",
         "nm0063432",
         "Stevie Be-Zet",
         null,
         null,
         "composer,soundtrack"
        ],
        [
         "8",
         "nm0063618",
         "Jeff Beal",
         "1963.0",
         null,
         "composer,music_department,soundtrack"
        ],
        [
         "9",
         "nm0063750",
         "Lindsay Beamish",
         null,
         null,
         "actress,miscellaneous"
        ],
        [
         "10",
         "nm0064023",
         "Bryan Beasley",
         null,
         null,
         "director,producer,writer"
        ],
        [
         "11",
         "nm0064350",
         "Martine Beauchemin",
         null,
         null,
         "producer,production_manager"
        ],
        [
         "12",
         "nm0065847",
         "Michael Frost Beckner",
         "1963.0",
         null,
         "writer,producer,miscellaneous"
        ],
        [
         "13",
         "nm0065919",
         "Will Becton",
         null,
         null,
         "miscellaneous,editor,editorial_department"
        ],
        [
         "14",
         "nm0066093",
         "Ahmad Bedair",
         "1945.0",
         null,
         "actor,miscellaneous"
        ],
        [
         "15",
         "nm0066163",
         "Arnaud Bedouët",
         null,
         null,
         "actor,writer,director"
        ],
        [
         "16",
         "nm0066268",
         "Steve Mitchell Beebe",
         null,
         null,
         "editorial_department,director,editor"
        ],
        [
         "17",
         "nm0066897",
         "Mohammad-Ali Behboudi",
         "1956.0",
         null,
         "actor"
        ],
        [
         "18",
         "nm0067234",
         "Hans Beimler",
         null,
         null,
         "producer,writer,miscellaneous"
        ],
        [
         "19",
         "nm0067845",
         "Sondos Belhassen",
         null,
         null,
         "actress"
        ],
        [
         "20",
         "nm0067983",
         "Krunoslav Belko",
         "1971.0",
         null,
         "actor"
        ],
        [
         "21",
         "nm0068170",
         "Dylan Bell",
         null,
         null,
         "director,actor,producer"
        ],
        [
         "22",
         "nm0068657",
         "Philippe Bellaiche",
         null,
         null,
         "cinematographer,camera_department,producer"
        ],
        [
         "23",
         "nm0068874",
         "Hava Kohav Beller",
         null,
         null,
         "director,writer,producer"
        ],
        [
         "24",
         "nm0069131",
         "Gregg Bello",
         null,
         null,
         "actor,producer"
        ],
        [
         "25",
         "nm0069225",
         "Gavin Bellour",
         null,
         null,
         "actor,producer,composer"
        ],
        [
         "26",
         "nm0069605",
         "Bruno Beltramini",
         null,
         null,
         "cinematographer,visual_effects,camera_department"
        ],
        [
         "27",
         "nm0069757",
         "Olga Belyavskaya",
         null,
         null,
         "actress,miscellaneous"
        ],
        [
         "28",
         "nm0069990",
         "Jorge Ben Jor",
         "1942.0",
         null,
         "soundtrack,composer,actor"
        ],
        [
         "29",
         "nm0070216",
         "John Paul Fedele",
         null,
         null,
         "actor,cinematographer,special_effects"
        ],
        [
         "30",
         "nm0070482",
         "Joel Bender",
         "1948.0",
         null,
         "editor,director,writer"
        ],
        [
         "31",
         "nm0070822",
         "Terry Benedict",
         null,
         null,
         "producer,director,assistant_director"
        ],
        [
         "32",
         "nm0071116",
         "Valérie Benguigui",
         "1961.0",
         "2013.0",
         "actress,soundtrack"
        ],
        [
         "33",
         "nm0072456",
         "Chris Benson",
         "1974.0",
         null,
         "cinematographer,camera_department,producer"
        ],
        [
         "34",
         "nm0072476",
         "Doug Benson",
         "1962.0",
         null,
         "actor,producer,writer"
        ],
        [
         "35",
         "nm0073061",
         "Roberto Benvenuti",
         null,
         null,
         "cinematographer,camera_department,miscellaneous"
        ],
        [
         "36",
         "nm0073146",
         "Gina Lola Benzina",
         null,
         null,
         "actress,make_up_department"
        ],
        [
         "37",
         "nm0073381",
         "Roxana Berco",
         null,
         null,
         "actress"
        ],
        [
         "38",
         "nm0073426",
         "Laxmikant Berde",
         "1954.0",
         "2004.0",
         "actor"
        ],
        [
         "39",
         "nm0074009",
         "Richard Berge",
         null,
         null,
         "producer,miscellaneous,writer"
        ],
        [
         "40",
         "nm0074445",
         "Jean-François Bergeron",
         null,
         null,
         "editor,editorial_department,actor"
        ],
        [
         "41",
         "nm0075049",
         "Urban Bergsten",
         null,
         null,
         "actor,writer,director"
        ],
        [
         "42",
         "nm0075666",
         "Joe Berlinger",
         "1961.0",
         null,
         "producer,director,camera_department"
        ],
        [
         "43",
         "nm0076139",
         "Andrée Bernard",
         "1966.0",
         null,
         "actress"
        ],
        [
         "44",
         "nm0076559",
         "Carlos Bernases",
         null,
         null,
         "production_manager,producer,casting_department"
        ],
        [
         "45",
         "nm0077024",
         "Daniel Bernstein",
         null,
         null,
         "composer,sound_department"
        ],
        [
         "46",
         "nm0077067",
         "Jamie Bernstein",
         "1952.0",
         null,
         "director,actress,writer"
        ],
        [
         "47",
         "nm0080566",
         "Martín Bianchedi",
         "1955.0",
         null,
         "composer,music_department,sound_department"
        ],
        [
         "48",
         "nm0080787",
         "Dusty Bias",
         null,
         null,
         "writer,director,producer"
        ],
        [
         "49",
         "nm0081060",
         "Grace Cary Bickley",
         null,
         null,
         "writer,actress,producer"
        ]
       ],
       "shape": {
        "columns": 5,
        "rows": 606648
       }
      },
      "text/html": [
       "<div>\n",
       "<style scoped>\n",
       "    .dataframe tbody tr th:only-of-type {\n",
       "        vertical-align: middle;\n",
       "    }\n",
       "\n",
       "    .dataframe tbody tr th {\n",
       "        vertical-align: top;\n",
       "    }\n",
       "\n",
       "    .dataframe thead th {\n",
       "        text-align: right;\n",
       "    }\n",
       "</style>\n",
       "<table border=\"1\" class=\"dataframe\">\n",
       "  <thead>\n",
       "    <tr style=\"text-align: right;\">\n",
       "      <th></th>\n",

       "      <th>title</th>\n",
       "      <th>studio</th>\n",
       "      <th>domestic_gross</th>\n",
       "      <th>foreign_gross</th>\n",
       "      <th>year</th>\n",


       "      <th>movie_id</th>\n",
       "      <th>ordering</th>\n",
       "      <th>title</th>\n",
       "      <th>region</th>\n",
       "      <th>language</th>\n",
       "      <th>types</th>\n",
       "      <th>attributes</th>\n",
       "      <th>is_original_title</th>\n",
       "      <th>person_id</th>\n",
       "      <th>primary_name</th>\n",
       "      <th>birth_year</th>\n",
       "      <th>death_year</th>\n",
       "      <th>primary_profession</th>\n",

       "    </tr>\n",
       "  </thead>\n",
       "  <tbody>\n",
       "    <tr>\n",

       "      <th>count</th>\n",
       "      <td>3387</td>\n",
       "      <td>3382</td>\n",
       "      <td>3.359000e+03</td>\n",
       "      <td>2037</td>\n",
       "      <td>3387.000000</td>\n",
       "    </tr>\n",
       "    <tr>\n",
       "      <th>unique</th>\n",
       "      <td>3386</td>\n",
       "      <td>257</td>\n",
       "      <td>NaN</td>\n",
       "      <td>1204</td>\n",
       "      <td>NaN</td>\n",
       "    </tr>\n",
       "    <tr>\n",
       "      <th>top</th>\n",
       "      <td>Bluebeard</td>\n",
       "      <td>IFC</td>\n",
       "      <td>NaN</td>\n",
       "      <td>1200000</td>\n",
       "      <td>NaN</td>\n",
       "    </tr>\n",
       "    <tr>\n",
       "      <th>freq</th>\n",
       "      <td>2</td>\n",
       "      <td>166</td>\n",
       "      <td>NaN</td>\n",
       "      <td>23</td>\n",
       "      <td>NaN</td>\n",
       "    </tr>\n",
       "    <tr>\n",
       "      <th>mean</th>\n",
       "      <td>NaN</td>\n",
       "      <td>NaN</td>\n",
       "      <td>2.874585e+07</td>\n",
       "      <td>NaN</td>\n",
       "      <td>2013.958075</td>\n",
       "    </tr>\n",
       "    <tr>\n",
       "      <th>std</th>\n",
       "      <td>NaN</td>\n",
       "      <td>NaN</td>\n",
       "      <td>6.698250e+07</td>\n",
       "      <td>NaN</td>\n",
       "      <td>2.478141</td>\n",
       "    </tr>\n",
       "    <tr>\n",
       "      <th>min</th>\n",
       "      <td>NaN</td>\n",
       "      <td>NaN</td>\n",
       "      <td>1.000000e+02</td>\n",
       "      <td>NaN</td>\n",
       "      <td>2010.000000</td>\n",
       "    </tr>\n",
       "    <tr>\n",
       "      <th>25%</th>\n",
       "      <td>NaN</td>\n",
       "      <td>NaN</td>\n",
       "      <td>1.200000e+05</td>\n",
       "      <td>NaN</td>\n",
       "      <td>2012.000000</td>\n",
       "    </tr>\n",
       "    <tr>\n",
       "      <th>50%</th>\n",
       "      <td>NaN</td>\n",
       "      <td>NaN</td>\n",
       "      <td>1.400000e+06</td>\n",
       "      <td>NaN</td>\n",
       "      <td>2014.000000</td>\n",
       "    </tr>\n",
       "    <tr>\n",
       "      <th>75%</th>\n",
       "      <td>NaN</td>\n",
       "      <td>NaN</td>\n",
       "      <td>2.790000e+07</td>\n",
       "      <td>NaN</td>\n",
       "      <td>2016.000000</td>\n",
       "    </tr>\n",
       "    <tr>\n",
       "      <th>max</th>\n",
       "      <td>NaN</td>\n",
       "      <td>NaN</td>\n",
       "      <td>9.367000e+08</td>\n",
       "      <td>NaN</td>\n",
       "      <td>2018.000000</td>\n",
       "    </tr>\n",
       "  </tbody>\n",
       "</table>\n",
       "</div>"
      ],
      "text/plain": [
       "            title studio  domestic_gross foreign_gross         year\n",
       "count        3387   3382    3.359000e+03          2037  3387.000000\n",
       "unique       3386    257             NaN          1204          NaN\n",
       "top     Bluebeard    IFC             NaN       1200000          NaN\n",
       "freq            2    166             NaN            23          NaN\n",
       "mean          NaN    NaN    2.874585e+07           NaN  2013.958075\n",
       "std           NaN    NaN    6.698250e+07           NaN     2.478141\n",
       "min           NaN    NaN    1.000000e+02           NaN  2010.000000\n",
       "25%           NaN    NaN    1.200000e+05           NaN  2012.000000\n",
       "50%           NaN    NaN    1.400000e+06           NaN  2014.000000\n",
       "75%           NaN    NaN    2.790000e+07           NaN  2016.000000\n",
       "max           NaN    NaN    9.367000e+08           NaN  2018.000000"
      ]
     },
     "execution_count": 77,
     "metadata": {},
     "output_type": "execute_result"
    }
   ],
   "source": [
    "#summary\n",
    "bom_movie.describe( include='all')"
   ]
  },
  {
   "cell_type": "code",
   "execution_count": 78,
   "metadata": {},
   "outputs": [
    {
     "data": {
      "text/plain": [
       "0"
      ]
     },
     "execution_count": 78,

       "      <th>0</th>\n",
       "      <td>tt0369610</td>\n",
       "      <td>10</td>\n",
       "      <td>Джурасик свят</td>\n",
       "      <td>BG</td>\n",
       "      <td>bg</td>\n",
       "      <td>None</td>\n",
       "      <td>None</td>\n",
       "      <td>0.0</td>\n",
       "    </tr>\n",
       "    <tr>\n",
       "      <th>1</th>\n",
       "      <td>tt0369610</td>\n",
       "      <td>11</td>\n",
       "      <td>Jurashikku warudo</td>\n",
       "      <td>JP</td>\n",
       "      <td>None</td>\n",
       "      <td>imdbDisplay</td>\n",
       "      <td>None</td>\n",
       "      <td>0.0</td>\n",
       "    </tr>\n",
       "    <tr>\n",
       "      <th>2</th>\n",
       "      <td>tt0369610</td>\n",
       "      <td>12</td>\n",
       "      <td>Jurassic World: O Mundo dos Dinossauros</td>\n",
       "      <td>BR</td>\n",
       "      <td>None</td>\n",
       "      <td>imdbDisplay</td>\n",
       "      <td>None</td>\n",
       "      <td>0.0</td>\n",
       "    </tr>\n",
       "  </tbody>\n",
       "</table>\n",
       "</div>"
      ],
      "text/plain": [
       "    movie_id  ordering                                    title region  \\\n",
       "0  tt0369610        10                            Джурасик свят     BG   \n",
       "1  tt0369610        11                        Jurashikku warudo     JP   \n",
       "2  tt0369610        12  Jurassic World: O Mundo dos Dinossauros     BR   \n",
       "\n",
       "  language        types attributes  is_original_title  \n",
       "0       bg         None       None                0.0  \n",
       "1     None  imdbDisplay       None                0.0  \n",
       "2     None  imdbDisplay       None                0.0  "
      ]
     },
     "execution_count": 39,
     "metadata": {},
     "output_type": "execute_result"
    }
   ],
   "source": [
    "#Look at data\n",
    "movie_akas_cp.head(3)"
   ]
  },
  {
   "cell_type": "code",
   "execution_count": 40,
   "metadata": {},
   "outputs": [
    {
     "data": {
      "text/plain": [
       "(331703, 8)"
      ]
     },
     "execution_count": 40,
       "      <td>nm0061671</td>\n",
       "      <td>Mary Ellen Bauder</td>\n",
       "      <td>NaN</td>\n",
       "      <td>NaN</td>\n",
       "      <td>miscellaneous,production_manager,producer</td>\n",
       "    </tr>\n",
       "    <tr>\n",
       "      <th>1</th>\n",
       "      <td>nm0061865</td>\n",
       "      <td>Joseph Bauer</td>\n",
       "      <td>NaN</td>\n",
       "      <td>NaN</td>\n",
       "      <td>composer,music_department,sound_department</td>\n",
       "    </tr>\n",
       "    <tr>\n",
       "      <th>2</th>\n",
       "      <td>nm0062070</td>\n",
       "      <td>Bruce Baum</td>\n",
       "      <td>NaN</td>\n",
       "      <td>NaN</td>\n",
       "      <td>miscellaneous,actor,writer</td>\n",
       "    </tr>\n",
       "    <tr>\n",
       "      <th>3</th>\n",
       "      <td>nm0062195</td>\n",
       "      <td>Axel Baumann</td>\n",
       "      <td>NaN</td>\n",
       "      <td>NaN</td>\n",
       "      <td>camera_department,cinematographer,art_department</td>\n",
       "    </tr>\n",
       "    <tr>\n",
       "      <th>4</th>\n",
       "      <td>nm0062798</td>\n",
       "      <td>Pete Baxter</td>\n",
       "      <td>NaN</td>\n",
       "      <td>NaN</td>\n",
       "      <td>production_designer,art_department,set_decorator</td>\n",
       "    </tr>\n",
       "    <tr>\n",
       "      <th>...</th>\n",
       "      <td>...</td>\n",
       "      <td>...</td>\n",
       "      <td>...</td>\n",
       "      <td>...</td>\n",
       "      <td>...</td>\n",
       "    </tr>\n",
       "    <tr>\n",
       "      <th>606643</th>\n",
       "      <td>nm9990381</td>\n",
       "      <td>Susan Grobes</td>\n",
       "      <td>NaN</td>\n",
       "      <td>NaN</td>\n",
       "      <td>actress</td>\n",
       "    </tr>\n",
       "    <tr>\n",
       "      <th>606644</th>\n",
       "      <td>nm9990690</td>\n",
       "      <td>Joo Yeon So</td>\n",
       "      <td>NaN</td>\n",
       "      <td>NaN</td>\n",
       "      <td>actress</td>\n",
       "    </tr>\n",
       "    <tr>\n",
       "      <th>606645</th>\n",
       "      <td>nm9991320</td>\n",
       "      <td>Madeline Smith</td>\n",
       "      <td>NaN</td>\n",
       "      <td>NaN</td>\n",
       "      <td>actress</td>\n",
       "    </tr>\n",
       "    <tr>\n",
       "      <th>606646</th>\n",
       "      <td>nm9991786</td>\n",
       "      <td>Michelle Modigliani</td>\n",
       "      <td>NaN</td>\n",
       "      <td>NaN</td>\n",
       "      <td>producer</td>\n",
       "    </tr>\n",
       "    <tr>\n",
       "      <th>606647</th>\n",
       "      <td>nm9993380</td>\n",
       "      <td>Pegasus Envoyé</td>\n",
       "      <td>NaN</td>\n",
       "      <td>NaN</td>\n",
       "      <td>director,actor,writer</td>\n",
       "    </tr>\n",
       "  </tbody>\n",
       "</table>\n",
       "<p>606648 rows × 5 columns</p>\n",
       "</div>"
      ],
      "text/plain": [
       "        person_id         primary_name  birth_year  death_year  \\\n",
       "0       nm0061671    Mary Ellen Bauder         NaN         NaN   \n",
       "1       nm0061865         Joseph Bauer         NaN         NaN   \n",
       "2       nm0062070           Bruce Baum         NaN         NaN   \n",
       "3       nm0062195         Axel Baumann         NaN         NaN   \n",
       "4       nm0062798          Pete Baxter         NaN         NaN   \n",
       "...           ...                  ...         ...         ...   \n",
       "606643  nm9990381         Susan Grobes         NaN         NaN   \n",
       "606644  nm9990690          Joo Yeon So         NaN         NaN   \n",
       "606645  nm9991320       Madeline Smith         NaN         NaN   \n",
       "606646  nm9991786  Michelle Modigliani         NaN         NaN   \n",
       "606647  nm9993380       Pegasus Envoyé         NaN         NaN   \n",
       "\n",
       "                                      primary_profession  \n",
       "0              miscellaneous,production_manager,producer  \n",
       "1             composer,music_department,sound_department  \n",
       "2                             miscellaneous,actor,writer  \n",
       "3       camera_department,cinematographer,art_department  \n",
       "4       production_designer,art_department,set_decorator  \n",
       "...                                                  ...  \n",
       "606643                                           actress  \n",
       "606644                                           actress  \n",
       "606645                                           actress  \n",
       "606646                                          producer  \n",
       "606647                             director,actor,writer  \n",
       "\n",
       "[606648 rows x 5 columns]"
      ]
     },
     "execution_count": 54,

     "metadata": {},
     "output_type": "execute_result"
    }
   ],
   "source": [

    "#checking on duplicates\n",
    "bom_movie.duplicated().sum()"
   ]
  },
  {
   "cell_type": "code",
   "execution_count": 79,
   "metadata": {},
   "outputs": [
    {
     "data": {
      "text/plain": [
       "title                0\n",
       "studio               5\n",
       "domestic_gross      28\n",
       "foreign_gross     1350\n",
       "year                 0\n",
       "dtype: int64"
      ]
     },
     "execution_count": 79,
     "metadata": {},
     "output_type": "execute_result"
    }
   ],
   "source": [
    "#checking on null values\n",
    "bom_movie.isnull().sum()"

    "#shape\n",
    "movie_akas_cp.shape"
   ]
  },
  {
   "cell_type": "markdown",
   "metadata": {},
   "source": [
    "The dataset has 331,703 rows and 8 columns"
    "persons_cp= imdb_tables[\"persons\"].copy(deep=True)\n",
    "persons_cp"

   ]
  },
  {
   "cell_type": "code",

   "execution_count": 80,
   "metadata": {},
   "outputs": [
    {
     "name": "stderr",
     "output_type": "stream",
     "text": [
      "C:\\Users\\User\\AppData\\Local\\Temp\\ipykernel_16816\\1925145961.py:2: FutureWarning: A value is trying to be set on a copy of a DataFrame or Series through chained assignment using an inplace method.\n",
      "The behavior will change in pandas 3.0. This inplace method will never work because the intermediate object on which we are setting values always behaves as a copy.\n",
      "\n",
      "For example, when doing 'df[col].method(value, inplace=True)', try using 'df.method({col: value}, inplace=True)' or df[col] = df[col].method(value) instead, to perform the operation inplace on the original object.\n",
      "\n",
      "\n",
      "  bom_movie['studio'].fillna('unknown', inplace=True)\n"
     ]
    },
    {
     "data": {
      "text/plain": [
       "title                0\n",
       "studio               0\n",
       "domestic_gross      28\n",
       "foreign_gross     1350\n",
       "year                 0\n",
       "dtype: int64"
      ]
     },
     "execution_count": 80,
     "metadata": {},
     "output_type": "execute_result"
    }
   ],
   "source": [
    "#filling the null values on studio col\n",
    "bom_movie['studio'].fillna('unknown', inplace=True)\n",
    "bom_movie.isnull().sum()"

   "execution_count": 41,
   "execution_count": 59,
   "metadata": {},
   "outputs": [
    {
     "name": "stdout",
     "output_type": "stream",
     "text": [
      "<class 'pandas.core.frame.DataFrame'>\n",
      "RangeIndex: 331703 entries, 0 to 331702\n",
      "Data columns (total 8 columns):\n",
      " #   Column             Non-Null Count   Dtype  \n",
      "---  ------             --------------   -----  \n",
      " 0   movie_id           331703 non-null  object \n",
      " 1   ordering           331703 non-null  int64  \n",
      " 2   title              331703 non-null  object \n",
      " 3   region             278410 non-null  object \n",
      " 4   language           41715 non-null   object \n",
      " 5   types              168447 non-null  object \n",
      " 6   attributes         14925 non-null   object \n",
      " 7   is_original_title  331678 non-null  float64\n",
      "dtypes: float64(1), int64(1), object(6)\n",
      "memory usage: 20.2+ MB\n"
      "RangeIndex: 606648 entries, 0 to 606647\n",
      "Data columns (total 5 columns):\n",
      " #   Column              Non-Null Count   Dtype  \n",
      "---  ------              --------------   -----  \n",
      " 0   person_id           606648 non-null  object \n",
      " 1   primary_name        606648 non-null  object \n",
      " 2   birth_year          82736 non-null   float64\n",
      " 3   death_year          6783 non-null    float64\n",
      " 4   primary_profession  555308 non-null  object \n",
      "dtypes: float64(2), object(3)\n",
      "memory usage: 23.1+ MB\n",
      "person_id                  0\n",
      "primary_name               0\n",
      "birth_year            523912\n",
      "death_year            599865\n",
      "primary_profession     51340\n",
      "dtype: int64\n"

     ]
    }
   ],
   "source": [
    "#get info\n",
    "persons_cp.shape\n",
    "persons_cp.head()\n",
    "persons_cp.info()\n",
    "persons_cp.describe()\n",
    "print(persons_cp.isna().sum())"

   ]
  },
  {
   "cell_type": "code",

   "execution_count": 81,

   "execution_count": 56,

   "metadata": {},
   "outputs": [
    {
     "data": {

      "image/png": "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",
      "text/plain": [
       "<Figure size 640x480 with 1 Axes>"
      ]
     },
     "metadata": {},
     "output_type": "display_data"
    }
   ],
   "source": [
    "#Using median to impute null values on domestic-gross col\n",
    "bom_movie['domestic_gross'].skew()\n",
    "sns.kdeplot(bom_movie['domestic_gross']);\n"
   ]
  },
  {
   "cell_type": "code",
   "execution_count": 82,
   "metadata": {},
   "outputs": [
    {
     "name": "stderr",
     "output_type": "stream",
     "text": [
      "C:\\Users\\User\\AppData\\Local\\Temp\\ipykernel_16816\\803217335.py:2: FutureWarning: A value is trying to be set on a copy of a DataFrame or Series through chained assignment using an inplace method.\n",
      "The behavior will change in pandas 3.0. This inplace method will never work because the intermediate object on which we are setting values always behaves as a copy.\n",
      "\n",
      "For example, when doing 'df[col].method(value, inplace=True)', try using 'df.method({col: value}, inplace=True)' or df[col] = df[col].method(value) instead, to perform the operation inplace on the original object.\n",
      "\n",
      "\n",
      "  bom_movie['domestic_gross'].fillna(median_dom_gross, inplace=True)\n"
     ]
    },
    {
     "data": {
      "text/plain": [
       "title                0\n",
       "studio               0\n",
       "domestic_gross       0\n",
       "foreign_gross     1350\n",
       "year                 0\n",
       "dtype: int64"
      ]
     },
     "execution_count": 82,
     "metadata": {},
     "output_type": "execute_result"
    }
   ],
   "source": [
    "median_dom_gross = bom_movie.domestic_gross.median()\n",
    "bom_movie['domestic_gross'].fillna(median_dom_gross, inplace=True)\n",
    "bom_movie.isnull().sum()"
   ]
  },
  {
   "cell_type": "code",
   "execution_count": 83,
   "metadata": {},
   "outputs": [
    {
     "data": {
      "text/plain": [
       "0       652000000.0\n",
       "1       691300000.0\n",
       "2       664300000.0\n",
       "3       535700000.0\n",
       "4       513900000.0\n",
       "           ...     \n",
       "3382            NaN\n",
       "3383            NaN\n",
       "3384            NaN\n",
       "3385            NaN\n",
       "3386            NaN\n",
       "Name: foreign_gross, Length: 3387, dtype: float64"
      ]
     },
     "execution_count": 83,
     "metadata": {},
     "output_type": "execute_result"
    }
   ],
   "source": [
    "# Coverting foreign gross object column into Float\n",
    "bom_movie['foreign_gross'] = pd.to_numeric(bom_movie['foreign_gross'], errors='coerce')\n",
    "bom_movie['foreign_gross']"
   ]
  },
  {
   "cell_type": "code",
   "execution_count": 84,
   "metadata": {},
   "outputs": [
    {
     "data": {
      "image/png": "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",
      "text/plain": [
       "<Figure size 640x480 with 1 Axes>"
      ]
     },
     "metadata": {},
     "output_type": "display_data"
    }
   ],
   "source": [
    "#using median to impute null values on foreign-gross col\n",
    "bom_movie['foreign_gross'].skew()\n",
    "sns.kdeplot(bom_movie['foreign_gross']);"
   ]
  },
  {
   "cell_type": "code",
   "execution_count": 85,
   "metadata": {},
   "outputs": [
    {
     "data": {
      "text/plain": [
       "title             0\n",
       "studio            0\n",
       "domestic_gross    0\n",
       "foreign_gross     0\n",
       "year              0\n",
       "dtype: int64"
      ]
     },
     "execution_count": 85,
     "metadata": {},
     "output_type": "execute_result"
    }
   ],
   "source": [
    "#filling null values on foreign_gross col\n",
    "median_foreign_gross = bom_movie.foreign_gross.median()\n",
    "bom_movie['foreign_gross'].fillna(median_foreign_gross, inplace=True)\n",
    "bom_movie.isnull().sum()"

      "text/html": [
       "<div>\n",
       "<style scoped>\n",
       "    .dataframe tbody tr th:only-of-type {\n",
       "        vertical-align: middle;\n",
       "    }\n",
       "\n",
       "    .dataframe tbody tr th {\n",
       "        vertical-align: top;\n",
       "    }\n",
       "\n",
       "    .dataframe thead th {\n",
       "        text-align: right;\n",
       "    }\n",
       "</style>\n",
       "<table border=\"1\" class=\"dataframe\">\n",
       "  <thead>\n",
       "    <tr style=\"text-align: right;\">\n",
       "      <th></th>\n",
       "      <th>count</th>\n",
       "      <th>mean</th>\n",
       "      <th>std</th>\n",
       "      <th>min</th>\n",
       "      <th>25%</th>\n",
       "      <th>50%</th>\n",
       "      <th>75%</th>\n",
       "      <th>max</th>\n",
       "    </tr>\n",
       "  </thead>\n",
       "  <tbody>\n",
       "    <tr>\n",
       "      <th>ordering</th>\n",
       "      <td>331703.0</td>\n",
       "      <td>5.125872</td>\n",
       "      <td>6.706664</td>\n",
       "      <td>1.0</td>\n",
       "      <td>1.0</td>\n",
       "      <td>2.0</td>\n",
       "      <td>6.0</td>\n",
       "      <td>61.0</td>\n",
       "    </tr>\n",
       "    <tr>\n",
       "      <th>is_original_title</th>\n",
       "      <td>331703.0</td>\n",
       "      <td>0.134759</td>\n",
       "      <td>0.341467</td>\n",
       "      <td>0.0</td>\n",
       "      <td>0.0</td>\n",
       "      <td>0.0</td>\n",
       "      <td>0.0</td>\n",
       "      <td>1.0</td>\n",
       "    </tr>\n",
       "  </tbody>\n",
       "</table>\n",
       "</div>"
      ],
      "text/plain": [
       "                      count      mean       std  min  25%  50%  75%   max\n",
       "ordering           331703.0  5.125872  6.706664  1.0  1.0  2.0  6.0  61.0\n",
       "is_original_title  331703.0  0.134759  0.341467  0.0  0.0  0.0  0.0   1.0"
      ]
     },
     "execution_count": 56,
     "metadata": {},
     "output_type": "execute_result"
    }
   ],
   "source": [
    "movie_akas_cp.describe().T"
   "execution_count": 62,
   "metadata": {},
   "outputs": [
    {
     "name": "stdout",
     "output_type": "stream",
     "text": [
      "person_id                  0\n",
      "primary_name               0\n",
      "birth_year                 0\n",
      "death_year            599865\n",
      "primary_profession     51340\n",
      "dtype: int64\n"
     ]
    }
   ],
   "source": [
    "persons_cp['birth_year'].fillna(persons_cp['birth_year'].median(), inplace=True)\n",
    "print(persons_cp.isna().sum())"

   ]
  },
  {
   "cell_type": "code",
   "execution_count": 86,
   "metadata": {},
   "outputs": [
    {
     "data": {
      "text/html": [
       "<div>\n",
       "<style scoped>\n",
       "    .dataframe tbody tr th:only-of-type {\n",
       "        vertical-align: middle;\n",
       "    }\n",
       "\n",
       "    .dataframe tbody tr th {\n",
       "        vertical-align: top;\n",
       "    }\n",
       "\n",
       "    .dataframe thead th {\n",
       "        text-align: right;\n",
       "    }\n",
       "</style>\n",
       "<table border=\"1\" class=\"dataframe\">\n",
       "  <thead>\n",
       "    <tr style=\"text-align: right;\">\n",
       "      <th></th>\n",

       "      <th>total_gross</th>\n",

       "      <th>count</th>\n",
       "      <th>unique</th>\n",
       "      <th>top</th>\n",
       "      <th>freq</th>\n",

       "    </tr>\n",
       "  </thead>\n",
       "  <tbody>\n",
       "    <tr>\n",

       "      <th>0</th>\n",
       "      <td>1.067000e+09</td>\n",
       "    </tr>\n",
       "    <tr>\n",
       "      <th>1</th>\n",
       "      <td>1.025500e+09</td>\n",
       "    </tr>\n",
       "    <tr>\n",
       "      <th>2</th>\n",
       "      <td>9.603000e+08</td>\n",
       "    </tr>\n",
       "    <tr>\n",
       "      <th>3</th>\n",
       "      <td>8.283000e+08</td>\n",
       "    </tr>\n",
       "    <tr>\n",
       "      <th>4</th>\n",
       "      <td>7.526000e+08</td>\n",
       "    </tr>\n",
       "    <tr>\n",
       "      <th>...</th>\n",
       "      <td>...</td>\n",
       "    </tr>\n",
       "    <tr>\n",
       "      <th>3382</th>\n",
       "      <td>1.890620e+07</td>\n",
       "    </tr>\n",
       "    <tr>\n",
       "      <th>3383</th>\n",
       "      <td>1.890480e+07</td>\n",
       "    </tr>\n",
       "    <tr>\n",
       "      <th>3384</th>\n",
       "      <td>1.890250e+07</td>\n",
       "    </tr>\n",
       "    <tr>\n",
       "      <th>3385</th>\n",
       "      <td>1.890240e+07</td>\n",
       "    </tr>\n",
       "    <tr>\n",
       "      <th>3386</th>\n",
       "      <td>1.890170e+07</td>\n",
       "    </tr>\n",
       "  </tbody>\n",
       "</table>\n",
       "<p>3387 rows × 1 columns</p>\n",
       "</div>"
      ],
      "text/plain": [
       "       total_gross\n",
       "0     1.067000e+09\n",
       "1     1.025500e+09\n",
       "2     9.603000e+08\n",
       "3     8.283000e+08\n",
       "4     7.526000e+08\n",
       "...            ...\n",
       "3382  1.890620e+07\n",
       "3383  1.890480e+07\n",
       "3384  1.890250e+07\n",
       "3385  1.890240e+07\n",
       "3386  1.890170e+07\n",
       "\n",
       "[3387 rows x 1 columns]"
      ]
     },
     "execution_count": 86,

       "      <th>movie_id</th>\n",
       "      <td>331703</td>\n",
       "      <td>122302</td>\n",
       "      <td>tt2488496</td>\n",
       "      <td>61</td>\n",
       "    </tr>\n",
       "    <tr>\n",
       "      <th>title</th>\n",
       "      <td>331703</td>\n",
       "      <td>252781</td>\n",
       "      <td>Robin Hood</td>\n",
       "      <td>32</td>\n",
       "    </tr>\n",
       "    <tr>\n",
       "      <th>region</th>\n",
       "      <td>331703</td>\n",
       "      <td>214</td>\n",
       "      <td>Unknown</td>\n",
       "      <td>53293</td>\n",
       "    </tr>\n",
       "    <tr>\n",
       "      <th>language</th>\n",
       "      <td>331703</td>\n",
       "      <td>77</td>\n",
       "      <td>Unknown</td>\n",
       "      <td>289988</td>\n",
       "    </tr>\n",
       "    <tr>\n",
       "      <th>types</th>\n",
       "      <td>331703</td>\n",
       "      <td>11</td>\n",
       "      <td>Unknown</td>\n",
       "      <td>163256</td>\n",
       "    </tr>\n",
       "    <tr>\n",
       "      <th>attributes</th>\n",
       "      <td>331703</td>\n",
       "      <td>78</td>\n",
       "      <td>Unknown</td>\n",
       "      <td>316778</td>\n",
       "    </tr>\n",
       "  </tbody>\n",
       "</table>\n",
       "</div>"
      ],
      "text/plain": [
       "             count  unique         top    freq\n",
       "movie_id    331703  122302   tt2488496      61\n",
       "title       331703  252781  Robin Hood      32\n",
       "region      331703     214     Unknown   53293\n",
       "language    331703      77     Unknown  289988\n",
       "types       331703      11     Unknown  163256\n",
       "attributes  331703      78     Unknown  316778"
      ]
     },
     "execution_count": 57,

     "metadata": {},
     "output_type": "execute_result"
    }
   ],
   "source": [
    "#feature engineering\n",
    "bom_movie['total_gross'] = bom_movie['domestic_gross'] + bom_movie['foreign_gross'] \n",
    "#print(bom_movie[['year', 'total_gross']].head())\n",
    "bom_movie[['total_gross']]  \n"

    "movie_akas_cp.describe(include='O').T"
   ]
  },
  {
   "cell_type": "markdown",
   "metadata": {},
   "source": [
    "- We have duplicates in our data.\n",
    "- The most frequent language is English.\n",
    "- The most frequent region is the US.\n"
   "execution_count": 64,
   "metadata": {},
   "outputs": [
    {
     "name": "stdout",
     "output_type": "stream",
     "text": [
      "person_id                 0\n",
      "primary_name              0\n",
      "birth_year                0\n",
      "death_year                0\n",
      "primary_profession    51340\n",
      "dtype: int64\n"
     ]
    }
   ],
   "source": [
    "persons_cp['death_year'].fillna(persons_cp['death_year'].median(), inplace=True)\n",
    "print(persons_cp.isna().sum())"

   ]
  },
  {
   "cell_type": "code",

   "execution_count": 87,

   "execution_count": 43,
   "execution_count": 65,

   "metadata": {},
   "outputs": [
    {
     "data": {
      "text/plain": [

       "Index(['title', 'studio', 'domestic_gross', 'foreign_gross', 'year',\n",
       "       'total_gross'],\n",
       "      dtype='object')"
      ]
     },
     "execution_count": 87,
       "movie_id                  0\n",
       "ordering                  0\n",
       "title                     0\n",
       "region                53293\n",
       "language             289988\n",
       "types                163256\n",
       "attributes           316778\n",
       "is_original_title        25\n",
       "dtype: int64"
      ]
     },
     "execution_count": 43,
      "application/vnd.microsoft.datawrangler.viewer.v0+json": {
       "columns": [
        {
         "name": "index",
         "rawType": "object",
         "type": "string"
        },
        {
         "name": "0",
         "rawType": "int64",
         "type": "integer"
        }
       ],
       "ref": "dd524969-782c-4665-8c79-978e5b146588",
       "rows": [
        [
         "person_id",
         "0"
        ],
        [
         "primary_name",
         "0"
        ],
        [
         "birth_year",
         "0"
        ],
        [
         "death_year",
         "0"
        ],
        [
         "primary_profession",
         "0"
        ]
       ],
       "shape": {
        "columns": 1,
        "rows": 5
       }
      },
      "text/plain": [
       "person_id             0\n",
       "primary_name          0\n",
       "birth_year            0\n",
       "death_year            0\n",
       "primary_profession    0\n",
       "dtype: int64"
      ]
     },
     "execution_count": 65,

     "metadata": {},
     "output_type": "execute_result"
    }
   ],
   "source": [

    "#checking columns\n",
    "bom_movie.columns"

    "#Nulls\n",
    "movie_akas_cp.isna().sum()"

   ]
  },
  {
   "cell_type": "markdown",
   "metadata": {},

   "source": []

   "source": [
    "- Over 85% of the \"language\" column is null values.\n",
    "- 49% of the \"types\" column is null values.\n",
    "- Over 95% of the \"attributes\" column is null values."
   ]
  },
  {
   "cell_type": "code",
   "execution_count": 51,
   "metadata": {},
   "outputs": [],
   "source": [
    "#Fill the object columns' nulls with 'Unknown'\n",
    "movie_akas_cp[[\"region\",\"language\",\"types\",\"attributes\"]]=movie_akas_cp[[\"region\",\"language\",\"types\",\"attributes\"]].fillna(\"Unknown\")"
   ]
  },
  {
   "cell_type": "code",
   "execution_count": 52,
   "metadata": {},
   "outputs": [],
   "source": [
    "#Fill the nulls in \"is_original_title\" with the mode\n",
    "movie_akas_cp[\"is_original_title\"]=movie_akas_cp[\"is_original_title\"].fillna(movie_akas_cp[\"is_original_title\"].mode()[0])"
   ]

  },
  {
   "cell_type": "code",
   "execution_count": null,
   "metadata": {},
   "outputs": [],
   "source": []


    "persons_cp['primary_profession'].fillna('unknown',inplace = True)\n",
    "persons_cp.isnull().sum()"
   ]

  }
 ],
 "metadata": {
  "kernelspec": {
   "display_name": "learn-env",
   "language": "python",
   "name": "python3"
  },
  "language_info": {
   "codemirror_mode": {
    "name": "ipython",
    "version": 3
   },
   "file_extension": ".py",
   "mimetype": "text/x-python",
   "name": "python",
   "nbconvert_exporter": "python",
   "pygments_lexer": "ipython3",
   "version": "3.12.7"
  }
 },
 "nbformat": 4,
 "nbformat_minor": 4
}
