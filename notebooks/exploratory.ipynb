{
 "cells": [
  {
   "cell_type": "markdown",
   "metadata": {},
   "source": [
    "# Exploratory Notebook"
   ]
  },
  {
   "cell_type": "markdown",
   "metadata": {},
   "source": [
    "# Business Understanding\n",
    "\n",
    "## Business Context\n",
    "Our company is entering the competitive movie production industry by establishing a new movie studio. With major corporations increasingly investing in original video content, we need to strategically position ourselves to maximize our chances of box office success.\n",
    "\n",
    "## Primary Stakeholder\n",
    "**Head of New Movie Studio** - The key decision-maker who will use our analysis to guide the studio's content creation strategy and investment decisions.\n",
    "\n",
    "## Key Business Questions\n",
    "\n",
    "### 1. **What genres are most profitable?**\n",
    "   - Which movie genres consistently generate the highest box office returns?\n",
    "   - Are there emerging genres showing strong growth potential?\n",
    "\n",
    "### 2. **What budget ranges optimize ROI?**\n",
    "   - What is the relationship between production budget and box office performance?\n",
    "   - What budget sweet spot maximizes return on investment?\n",
    "\n",
    "### 3. **When should we release our films?**\n",
    "   - Which months/seasons show the strongest box office performance?\n",
    "   - How can we avoid oversaturated release periods?\n",
    "\n",
    "## Business Objectives\n",
    "- **Primary Goal:** Identify the most profitable film characteristics to guide our initial movie productions\n",
    "- **Success Metrics:** Maximize box office revenue and return on investment\n",
    "- **Risk Mitigation:** Minimize financial losses by avoiding poorly-performing film categories\n",
    "\n",
    "## Data Requirements & Analysis Considerations\n",
    "\n",
    "### Dataset Specifications Needed:\n",
    "1. **What movie data do we have access to?** (Box office numbers, budgets, genres, release dates, ratings, etc.)\n",
    "2. **What time period does our data cover?** (Recent years only, or historical data?)\n",
    "3. **Is it domestic box office, international, or worldwide gross?**\n",
    "\n",
    "### Business Context Clarifications:\n",
    "4. **What size studio are we targeting?** (Independent/small budget vs. major studio competitor?)\n",
    "5. **Are there any genre restrictions?** (Family-friendly only, or open to all ratings?)\n",
    "6. **Geographic focus?** (Domestic US market, international, or global?)\n",
    "\n",
    "### Analysis Scope Considerations:\n",
    "7. **Should we consider streaming/digital revenue or just theatrical box office?**\n",
    "8. **Do we want to analyze competitor studios' strategies?**\n",
    "9. **Should seasonal trends consider COVID-19 impact on recent years?**\n",
    "\n",
    "## Success Metrics Framework\n",
    "**Primary Metrics:**\n",
    "- **Gross Revenue:** Total box office performance\n",
    "- **Return on Investment (ROI):** (Revenue - Budget) / Budget × 100\n",
    "- **Profit Margins:** Net profit as percentage of revenue\n",
    "- **Budget Efficiency:** Revenue per dollar invested\n",
    "\n",
    "**Secondary Metrics:**\n",
    "- **Market Share:** Performance relative to industry\n",
    "- **Risk Assessment:** Variance in returns by category\n",
    "- **Audience Reach:** Ticket sales and demographic penetration\n",
    "\n",
    "## Recommended Visualizations Strategy\n",
    "\n",
    "### 1. **Genre Analysis**\n",
    "- **Horizontal Bar Chart:** Average revenue by genre (easy comparison)\n",
    "- **Box Plot:** Revenue distribution by genre (shows variability and outliers)\n",
    "- **Scatter Plot:** Budget vs. Revenue by genre (profitability insights)\n",
    "\n",
    "### 2. **Budget Optimization**\n",
    "- **Scatter Plot with Trend Line:** Budget vs. ROI (sweet spot identification)\n",
    "- **Histogram:** Distribution of profitable budget ranges\n",
    "- **Bubble Chart:** Budget vs. Revenue (bubble size = profit margin)\n",
    "\n",
    "### 3. **Release Timing**\n",
    "- **Line Graph:** Monthly box office performance over time\n",
    "- **Heatmap:** Revenue by month and genre combination\n",
    "- **Seasonal Bar Chart:** Quarterly performance comparison\n",
    "\n",
    "### 4. **Risk vs. Reward Analysis**\n",
    "- **Risk-Return Scatter Plot:** Average return vs. standard deviation by category\n",
    "- **Waterfall Chart:** Success rate breakdown by film characteristics\n",
    "\n",
    "## Expected Deliverables\n",
    "Three concrete, data-driven recommendations that the Head of Movie Studio can immediately implement in the studio's content strategy and production planning."
   ]
  },
  {
   "cell_type": "markdown",
   "metadata": {},
   "source": [
    "# Data Understanding\n",
    "\n",
    "`bom.movie_gross.csv.gz` dataset from Box Office Mojo contains the revenue data for various films. It contains the following five columns:\n",
    "\n",
    "- **title**: movie title\n",
    "- **studio**: producing studio\n",
    "- **domestic_gross**: domestic gross earnings in USD\n",
    "- **foreign_gross**: international gross earnings\n",
    "- **year**: year film was released\n",
    "\n",
    "`im` database from IMDb (Internet Movie Database) contains information about the movies and those who worked on them. It contains eight tables with the following fields:\n",
    "- `directors` table contains the directors. It contains the following two fields:\n",
    "    - **movie_id**: unique movie ID (as per IMDb)\n",
    "    - **person_id**: director's ID (as per IMDb)\n",
    "- `known_for` table contains the notable works for each person. It contains the following two fields:\n",
    "    - **person_id**: unique person ID (as per IMDb)\n",
    "    - **movie_id**: unique movie ID (as per IMDb)\n",
    "- `movie_akas` table contains the alternative titles of the movies. It contains the following eight fields:\n",
    "    - **movie_id**: unique movie ID (as per IMDb)\n",
    "    - **ordering**: order in which movie title appears\n",
    "    - **title**: alternative title for the movie\n",
    "    - **region**: country code where movie was shown\n",
    "    - **language**: language code of the movie\n",
    "    - **types**: type of alternative title\n",
    "    - **attributes**: special attributes of the movie\n",
    "    - **is_original_title**: shows whether alternative title is the origianl title (1 = original title, 0 = alternative title)\n",
    "- `movie_basics` table contains basic information about the movies. It contains the following six fields:\n",
    "    - **movie_id**: unique identifier for the movie (as per IMDb)\n",
    "    - **primary_title**: official title of the movie\n",
    "    - **original_title**: official title of the movie in the original language\n",
    "    - **start_year**: year when the movie was released\n",
    "    - **runtime_minutes**: duration of the movie in minutes\n",
    "    - **genres**: genre(s) of the movie\n",
    "- `movie_ratings` table contains the ratings movies were given by IMDb. It contains the following three fields:\n",
    "    - **movie_id**: unique movie ID (as per IMDb)\n",
    "    - **averagerating**: average IMDb rating\n",
    "    - **numvotes**: number of votes received\n",
    "- `persons` table contains records of those involved in the movies. It has the following five fields:\n",
    "    - **person_id**: unique identifier for the person (as per IMDb)\n",
    "    - **primary_name**: full name of the person\n",
    "    - **birth_year**: year of birth\n",
    "    - **death_year**: year of death (if dead)\n",
    "    - **primary_profession**: role in the movie\n",
    "- `principals` table contains the information of the main cast and crew. It has the following five fields:\n",
    "    - **movie_id**: unique movie ID (as per IMDb)\n",
    "    - **ordering**: order of person in credits\n",
    "    - **person_id**: unique person ID (as per IMDb)\n",
    "    - **category**: role played\n",
    "    - **job**: specific role\n",
    "    - **characters**: character name\n",
    "- `writers` table contains the following two fields:\n",
    "    - **movie_id**: unique movie ID (as per IMDb)\n",
    "    - **person_id**: writer's ID (as per IMDb)\n",
    "\n",
    "`rt.movie_info.tsv.gz` dataset from Rotten Tomatoes contains general information about the movies. It contains the following twelve columns:\n",
    "- **id**: unique movie ID (as per Rotten Tomatoes)\n",
    "- **synopsis**: short summary of the movie\n",
    "- **rating**: Motion Picture Association of America(MPAA) Rating\n",
    "- **genre**: genre(s) of the movie\n",
    "- **director**: name of the director(s)\n",
    "- **writer**: name of the writer(s)\n",
    "- **theater_date**: date released in theaters\n",
    "- **dvd_date**: date released in DVD format\n",
    "- **currency**: currency symbol\n",
    "- **box_office**: total revenue from box office\n",
    "- **runtime**: movie duration in minutes\n",
    "- **studio**: producing studios\n",
    "\n",
    "`rt.reviews.tsv.gz` dataset from Rotten Tomatoes contains review information about movies. It contains the following eight columns:\n",
    "- **id**: unique movie ID (as per Rotten Tomatoes)\n",
    "- **review**: review text\n",
    "- **rating**: rating given by critic\n",
    "- **fresh**: categorization of the review (fresh = positive, rotten = negative)\n",
    "- **critic**: name of the critic\n",
    "- **top_critic**: highlights if a critic is regarded as a Top Critic by Rotten Tomatoes (1 = top critic, 0 = not a top critic)\n",
    "- **publisher**: publication name\n",
    "- **date**: date of the review\n",
    "\n",
    "`tmdb.movies.csv.gz` from The Movie Database (TMDb) contains movie and rating informations about various movies. It contains the following nine columns:\n",
    "- **genre_ids**: list of genre(s) for the movie\n",
    "- **id**: unique movie ID (as per TMDb)\n",
    "- **original_language**: language code for the movie\n",
    "- **original_title**: title of the movie in the official language\n",
    "- **popularity**: popularity score (as per TMDb)\n",
    "- **relaease_date**: release date in theatres\n",
    "- **title**: movie title\n",
    "- **vote_average**: average user rating\n",
    "- **vote_count**: total votes received\n",
    "\n",
    "`tn.movie_budgets.csv.gz` from The Numbers dataset contains movie budget and revenue information. It has the following six columns:\n",
    "- **id**: unique movie ID (as per The Numbers)\n",
    "- **release_date**: release date in theatres\n",
    "- **movie**: movie title\n",
    "- **production_budget**: budget used (in USD)\n",
    "- **domestic_gross**: revenue generated from country of origin (in USD)\n",
    "- **worldwide_gross**: total revenue generated worldwide (in USD)\n"
   ]
  },
  {
   "cell_type": "code",
   "execution_count": 1,
   "metadata": {},
   "outputs": [],
   "source": [
    "#importing relevant libs\n",
    "import pandas as pd\n",
    "import numpy as np\n",
    "from matplotlib import pyplot as plt\n",
    "from mpl_toolkits.mplot3d import Axes3D\n",
    "from random import gauss\n",
    "from scipy import stats\n",
    "import seaborn as sns\n",
    "from sklearn.linear_model import LinearRegression\n",
    "from mpl_toolkits import mplot3d\n",
    "import sklearn.metrics as metrics\n",
    "import statsmodels.api as sm\n",
    "import sqlite3\n"
   ]
  },
  {
   "cell_type": "markdown",
   "metadata": {},
   "source": [
    "## Loading the Data sets"
   ]
  },
  {
   "cell_type": "code",
   "execution_count": 2,
   "metadata": {},
   "outputs": [
    {
     "name": "stdout",
     "output_type": "stream",
     "text": [
      "dict_keys(['movie_basics', 'directors', 'known_for', 'movie_akas', 'movie_ratings', 'persons', 'principals', 'writers'])\n"
     ]
    }
   ],
   "source": [
    "#going through SQl\n",
    "def load_tables(connection):\n",
    "    table_names = pd.read_sql(\n",
    "        \"SELECT name FROM sqlite_master WHERE type='table';\", connection\n",
    "    )[\"name\"].tolist()\n",
    "    sql_tables = {\n",
    "        table_name: pd.read_sql(f\"SELECT * FROM {table_name}\", connection)\n",
    "        for table_name in table_names\n",
    "    }\n",
    "    return sql_tables\n",
    "\n",
    "path = '../Data/im.db'\n",
    "conn = sqlite3.connect(path)\n",
    "\n",
    "imdb_tables = load_tables(conn)\n",
    "\n",
    "print(imdb_tables.keys())\n"
   ]
  },
  {
   "cell_type": "code",
   "execution_count": 3,
   "metadata": {},
   "outputs": [],
   "source": [
    "bom_movie = pd.read_csv(\"../Data/bom.movie_gross.csv\")\n",
    "rt_info = pd.read_csv(\"../Data/rt.movie_info.tsv\", sep='\\t', encoding='latin1')\n",
    "rt_reviews = pd.read_csv(\"../Data/rt.movie_info.tsv\", sep='\\t', encoding='latin1')\n",
    "tmdb_df = pd.read_csv(\"../Data/tmdb.movies.csv\")\n",
    "tn_budget = pd.read_csv(\"../Data/tn.movie_budgets.csv\")"
   ]
  },
  {
   "cell_type": "markdown",
   "metadata": {},
   "source": [
    "## SQL CLEANING AND MERGING"
   ]
  },
  {
   "cell_type": "code",
   "execution_count": 4,
   "metadata": {},
   "outputs": [
    {
     "name": "stdout",
     "output_type": "stream",
     "text": [
      "<class 'pandas.core.frame.DataFrame'>\n",
      "RangeIndex: 146144 entries, 0 to 146143\n",
      "Data columns (total 6 columns):\n",
      " #   Column           Non-Null Count   Dtype  \n",
      "---  ------           --------------   -----  \n",
      " 0   movie_id         146144 non-null  object \n",
      " 1   primary_title    146144 non-null  object \n",
      " 2   original_title   146123 non-null  object \n",
      " 3   start_year       146144 non-null  int64  \n",
      " 4   runtime_minutes  114405 non-null  float64\n",
      " 5   genres           140736 non-null  object \n",
      "dtypes: float64(1), int64(1), object(4)\n",
      "memory usage: 6.7+ MB\n",
      "movie_id               0\n",
      "primary_title          0\n",
      "original_title        21\n",
      "start_year             0\n",
      "runtime_minutes    31739\n",
      "genres              5408\n",
      "dtype: int64\n"
     ]
    }
   ],
   "source": [
    "movie_basics = imdb_tables['movie_basics']\n",
    "movie_basics.shape\n",
    "movie_basics.head()\n",
    "movie_basics.info()\n",
    "movie_basics.describe()\n",
    "print(movie_basics.isna().sum())"
   ]
  },
  {
   "cell_type": "markdown",
   "metadata": {},
   "source": [
    "# Movie Basics"
   ]
  },
  {
   "cell_type": "code",
   "execution_count": 5,
   "metadata": {},
   "outputs": [],
   "source": [
    "movie_basics_cp = movie_basics.copy(deep=True)\n",
    "\n",
    "movie_basics_cp['original_title'] = movie_basics_cp['original_title'].fillna('Unknown')\n",
    "\n",
    "movie_basics_median = movie_basics_cp['runtime_minutes'].median()\n",
    "\n",
    "movie_basics_cp['runtime_minutes'] = movie_basics_cp['runtime_minutes'].fillna(movie_basics_median)\n",
    "\n",
    "movie_basics_cp['genres'] = movie_basics_cp['genres'].fillna(\"Unknown\")"
   ]
  },
  {
   "cell_type": "code",
   "execution_count": 6,
   "metadata": {},
   "outputs": [
    {
     "name": "stdout",
     "output_type": "stream",
     "text": [
      "movie_id           0\n",
      "primary_title      0\n",
      "original_title     0\n",
      "start_year         0\n",
      "runtime_minutes    0\n",
      "genres             0\n",
      "dtype: int64\n"
     ]
    },
    {
     "data": {
      "text/plain": [
       "(146144, 6)"
      ]
     },
     "execution_count": 6,
     "metadata": {},
     "output_type": "execute_result"
    }
   ],
   "source": [
    "print(movie_basics_cp.isna().sum())\n",
    "movie_basics_cp.shape"
   ]
  },
  {
   "cell_type": "code",
   "execution_count": 7,
   "metadata": {},
   "outputs": [
    {
     "data": {
      "text/plain": [
       "array([2013, 2019, 2018, 2017, 2012, 2010, 2011, 2015, 2021, 2016, 2014,\n",
       "       2020, 2022, 2023, 2024, 2026, 2025, 2115, 2027])"
      ]
     },
     "execution_count": 7,
     "metadata": {},
     "output_type": "execute_result"
    }
   ],
   "source": [
    "movie_basics_cp['start_year'].unique()"
   ]
  },
  {
   "cell_type": "code",
   "execution_count": 8,
   "metadata": {},
   "outputs": [
    {
     "data": {
      "text/plain": [
       "<Axes: xlabel='start_year'>"
      ]
     },
     "execution_count": 8,
     "metadata": {},
     "output_type": "execute_result"
    },
    {
     "data": {
      "image/png": "[encoded data removed]",
      "text/plain": [
       "<Figure size 640x480 with 1 Axes>"
      ]
     },
     "metadata": {},
     "output_type": "display_data"
    }
   ],
   "source": [
    "sns.boxplot(x= movie_basics_cp['start_year'], color='tomato')"
   ]
  },
  {
   "cell_type": "code",
   "execution_count": 9,
   "metadata": {},
   "outputs": [
    {
     "data": {
      "text/plain": [
       "(146140, 6)"
      ]
     },
     "execution_count": 9,
     "metadata": {},
     "output_type": "execute_result"
    }
   ],
   "source": [
    "movie_basics_cp = movie_basics_cp[movie_basics_cp['start_year'] < 2025]\n",
    "movie_basics_cp.shape\n",
    "\n"
   ]
  },
  {
   "cell_type": "code",
   "execution_count": 10,
   "metadata": {},
   "outputs": [
    {
     "data": {
      "text/plain": [
       "<Axes: xlabel='runtime_minutes'>"
      ]
     },
     "execution_count": 10,
     "metadata": {},
     "output_type": "execute_result"
    },
    {
     "data": {
      "image/png": "[encoded data removed]",
      "text/plain": [
       "<Figure size 640x480 with 1 Axes>"
      ]
     },
     "metadata": {},
     "output_type": "display_data"
    }
   ],
   "source": [
    "sns.boxplot(x= movie_basics_cp['runtime_minutes'], color='tomato')"
   ]
  },
  {
   "cell_type": "code",
   "execution_count": 11,
   "metadata": {},
   "outputs": [
    {
     "data": {
      "application/vnd.microsoft.datawrangler.viewer.v0+json": {
       "columns": [
        {
         "name": "index",
         "rawType": "int64",
         "type": "integer"
        },
        {
         "name": "runtime_minutes",
         "rawType": "float64",
         "type": "float"
        }
       ],
       "ref": "2415af86-2714-4f89-8fe0-955c2f7978a0",
       "rows": [
        [
         "95787",
         "1.0"
        ],
        [
         "113278",
         "1.0"
        ],
        [
         "93214",
         "1.0"
        ],
        [
         "72190",
         "1.0"
        ],
        [
         "98755",
         "1.0"
        ],
        [
         "116943",
         "1.0"
        ],
        [
         "3298",
         "1.0"
        ],
        [
         "140571",
         "1.0"
        ],
        [
         "125975",
         "1.0"
        ],
        [
         "22903",
         "1.0"
        ],
        [
         "60809",
         "1.0"
        ],
        [
         "54307",
         "1.0"
        ],
        [
         "114067",
         "1.0"
        ],
        [
         "117258",
         "1.0"
        ],
        [
         "2570",
         "1.0"
        ],
        [
         "57140",
         "1.0"
        ],
        [
         "136059",
         "1.0"
        ],
        [
         "113099",
         "2.0"
        ],
        [
         "15584",
         "2.0"
        ],
        [
         "129630",
         "2.0"
        ],
        [
         "116783",
         "2.0"
        ],
        [
         "3116",
         "2.0"
        ],
        [
         "102792",
         "2.0"
        ],
        [
         "107782",
         "2.0"
        ],
        [
         "114134",
         "2.0"
        ],
        [
         "117649",
         "2.0"
        ],
        [
         "131229",
         "2.0"
        ],
        [
         "51387",
         "2.0"
        ],
        [
         "37345",
         "2.0"
        ],
        [
         "43133",
         "2.0"
        ],
        [
         "96417",
         "2.0"
        ],
        [
         "59386",
         "2.0"
        ],
        [
         "131200",
         "2.0"
        ],
        [
         "105198",
         "2.0"
        ],
        [
         "110973",
         "2.0"
        ],
        [
         "9343",
         "2.0"
        ],
        [
         "123610",
         "2.0"
        ],
        [
         "120152",
         "2.0"
        ],
        [
         "5128",
         "2.0"
        ],
        [
         "118872",
         "2.0"
        ],
        [
         "133236",
         "2.0"
        ],
        [
         "106420",
         "2.0"
        ],
        [
         "114657",
         "2.0"
        ],
        [
         "131154",
         "2.0"
        ],
        [
         "109535",
         "2.0"
        ],
        [
         "125081",
         "2.0"
        ],
        [
         "98062",
         "2.0"
        ],
        [
         "5401",
         "2.0"
        ],
        [
         "83271",
         "2.0"
        ],
        [
         "97113",
         "2.0"
        ]
       ],
       "shape": {
        "columns": 1,
        "rows": 146140
       }
      },
      "text/plain": [
       "95787         1.0\n",
       "113278        1.0\n",
       "93214         1.0\n",
       "72190         1.0\n",
       "98755         1.0\n",
       "           ...   \n",
       "88717      5460.0\n",
       "87264      6000.0\n",
       "123467     6017.0\n",
       "44840     14400.0\n",
       "132389    51420.0\n",
       "Name: runtime_minutes, Length: 146140, dtype: float64"
      ]
     },
     "execution_count": 11,
     "metadata": {},
     "output_type": "execute_result"
    }
   ],
   "source": [
    "runtime = movie_basics_cp['runtime_minutes'].sort_values(ascending=True)\n",
    "runtime\n"
   ]
  },
  {
   "cell_type": "code",
   "execution_count": 12,
   "metadata": {},
   "outputs": [
    {
     "data": {
      "text/plain": [
       "np.int64(0)"
      ]
     },
     "execution_count": 12,
     "metadata": {},
     "output_type": "execute_result"
    }
   ],
   "source": [
    "movie_basics_cp = movie_basics_cp[movie_basics_cp['runtime_minutes'].between(40, 150)]\n",
    "movie_basics_cp.duplicated().sum()"
   ]
  },
  {
   "cell_type": "code",
   "execution_count": 13,
   "metadata": {},
   "outputs": [
    {
     "name": "stdout",
     "output_type": "stream",
     "text": [
      "<class 'pandas.core.frame.DataFrame'>\n",
      "RangeIndex: 73856 entries, 0 to 73855\n",
      "Data columns (total 3 columns):\n",
      " #   Column         Non-Null Count  Dtype  \n",
      "---  ------         --------------  -----  \n",
      " 0   movie_id       73856 non-null  object \n",
      " 1   averagerating  73856 non-null  float64\n",
      " 2   numvotes       73856 non-null  int64  \n",
      "dtypes: float64(1), int64(1), object(1)\n",
      "memory usage: 1.7+ MB\n"
     ]
    },
    {
     "data": {
      "application/vnd.microsoft.datawrangler.viewer.v0+json": {
       "columns": [
        {
         "name": "index",
         "rawType": "object",
         "type": "string"
        },
        {
         "name": "0",
         "rawType": "int64",
         "type": "integer"
        }
       ],
       "ref": "3a24aa7d-db53-4a1c-9fb9-ccf1ef87edc8",
       "rows": [
        [
         "movie_id",
         "0"
        ],
        [
         "averagerating",
         "0"
        ],
        [
         "numvotes",
         "0"
        ]
       ],
       "shape": {
        "columns": 1,
        "rows": 3
       }
      },
      "text/plain": [
       "movie_id         0\n",
       "averagerating    0\n",
       "numvotes         0\n",
       "dtype: int64"
      ]
     },
     "execution_count": 13,
     "metadata": {},
     "output_type": "execute_result"
    }
   ],
   "source": [
    "movie_ratings = imdb_tables['movie_ratings']\n",
    "movie_ratings.shape\n",
    "movie_ratings.head()\n",
    "movie_ratings.describe()\n",
    "movie_ratings.info()\n",
    "movie_ratings.isna().sum()"
   ]
  },
  {
   "cell_type": "code",
   "execution_count": 14,
   "metadata": {},
   "outputs": [],
   "source": [
    "movie_ratings_cp = movie_ratings.copy(deep=True)"
   ]
  },
  {
   "cell_type": "code",
   "execution_count": 15,
   "metadata": {},
   "outputs": [
    {
     "name": "stdout",
     "output_type": "stream",
     "text": [
      "(146144, 6)\n",
      "(73856, 3)\n",
      "(331703, 8)\n"
     ]
    }
   ],
   "source": [
    "print(imdb_tables['movie_basics'].shape)\n",
    "print(imdb_tables['movie_ratings'].shape)\n",
    "\n",
    "\n",
    "print(imdb_tables['movie_akas'].shape)"
   ]
  },
  {
   "cell_type": "code",
   "execution_count": 16,
   "metadata": {},
   "outputs": [],
   "source": [
    "movie_akas = imdb_tables['movie_akas']"
   ]
  },
  {
   "cell_type": "code",
   "execution_count": 17,
   "metadata": {},
   "outputs": [
    {
     "name": "stdout",
     "output_type": "stream",
     "text": [
      "<class 'pandas.core.frame.DataFrame'>\n",
      "RangeIndex: 331703 entries, 0 to 331702\n",
      "Data columns (total 8 columns):\n",
      " #   Column             Non-Null Count   Dtype  \n",
      "---  ------             --------------   -----  \n",
      " 0   movie_id           331703 non-null  object \n",
      " 1   ordering           331703 non-null  int64  \n",
      " 2   title              331703 non-null  object \n",
      " 3   region             278410 non-null  object \n",
      " 4   language           41715 non-null   object \n",
      " 5   types              168447 non-null  object \n",
      " 6   attributes         14925 non-null   object \n",
      " 7   is_original_title  331678 non-null  float64\n",
      "dtypes: float64(1), int64(1), object(6)\n",
      "memory usage: 20.2+ MB\n"
     ]
    }
   ],
   "source": [
    "movie_akas_cp = movie_akas.copy(deep=True)\n",
    "movie_akas_cp.info()\n",
    "movie_akas_cp.isna().sum()\n",
    "movie_akas_cp = movie_akas_cp.drop(columns=['language', 'types', 'attributes', 'is_original_title'])\n",
    "movie_akas_cp = movie_akas_cp.rename(columns={\n",
    "    'title':'region_title'\n",
    "})\n"
   ]
  },
  {
   "cell_type": "markdown",
   "metadata": {},
   "source": [
    "# MOVIE MERGE"
   ]
  },
  {
   "cell_type": "code",
   "execution_count": 18,
   "metadata": {},
   "outputs": [
    {
     "data": {
      "application/vnd.microsoft.datawrangler.viewer.v0+json": {
       "columns": [
        {
         "name": "index",
         "rawType": "int64",
         "type": "integer"
        },
        {
         "name": "movie_id",
         "rawType": "object",
         "type": "string"
        },
        {
         "name": "primary_title",
         "rawType": "object",
         "type": "string"
        },
        {
         "name": "original_title",
         "rawType": "object",
         "type": "string"
        },
        {
         "name": "start_year",
         "rawType": "int64",
         "type": "integer"
        },
        {
         "name": "runtime_minutes",
         "rawType": "float64",
         "type": "float"
        },
        {
         "name": "genres",
         "rawType": "object",
         "type": "string"
        },
        {
         "name": "averagerating",
         "rawType": "float64",
         "type": "float"
        },
        {
         "name": "numvotes",
         "rawType": "int64",
         "type": "integer"
        }
       ],
       "ref": "1fc2a5b3-ea23-4f9f-bc1b-21eb0492fa7b",
       "rows": [
        [
         "0",
         "tt0066787",
         "One Day Before the Rainy Season",
         "Ashad Ka Ek Din",
         "2019",
         "114.0",
         "Biography,Drama",
         "7.2",
         "43"
        ],
        [
         "1",
         "tt0069049",
         "The Other Side of the Wind",
         "The Other Side of the Wind",
         "2018",
         "122.0",
         "Drama",
         "6.9",
         "4517"
        ],
        [
         "2",
         "tt0069204",
         "Sabse Bada Sukh",
         "Sabse Bada Sukh",
         "2018",
         "87.0",
         "Comedy,Drama",
         "6.1",
         "13"
        ],
        [
         "3",
         "tt0100275",
         "The Wandering Soap Opera",
         "La Telenovela Errante",
         "2017",
         "80.0",
         "Comedy,Drama,Fantasy",
         "6.5",
         "119"
        ],
        [
         "4",
         "tt0112502",
         "Bigfoot",
         "Bigfoot",
         "2017",
         "87.0",
         "Horror,Thriller",
         "4.1",
         "32"
        ],
        [
         "5",
         "tt0137204",
         "Joe Finds Grace",
         "Joe Finds Grace",
         "2017",
         "83.0",
         "Adventure,Animation,Comedy",
         "8.1",
         "263"
        ],
        [
         "6",
         "tt0146592",
         "Pál Adrienn",
         "Pál Adrienn",
         "2010",
         "136.0",
         "Drama",
         "6.8",
         "451"
        ],
        [
         "7",
         "tt0154039",
         "So Much for Justice!",
         "Oda az igazság",
         "2010",
         "100.0",
         "History",
         "4.6",
         "64"
        ],
        [
         "8",
         "tt0162942",
         "Children of the Green Dragon",
         "A zöld sárkány gyermekei",
         "2010",
         "89.0",
         "Drama",
         "6.9",
         "120"
        ],
        [
         "9",
         "tt0170651",
         "T.G.M. - osvoboditel",
         "T.G.M. - osvoboditel",
         "2018",
         "60.0",
         "Documentary",
         "7.5",
         "6"
        ],
        [
         "10",
         "tt0192528",
         "Heaven & Hell",
         "Reverse Heaven",
         "2018",
         "104.0",
         "Drama",
         "4.0",
         "72"
        ],
        [
         "11",
         "tt0230212",
         "The Final Journey",
         "The Final Journey",
         "2010",
         "120.0",
         "Drama",
         "8.8",
         "8"
        ],
        [
         "12",
         "tt0247643",
         "Los pájaros se van con la muerte",
         "Los pájaros se van con la muerte",
         "2011",
         "110.0",
         "Drama,Mystery",
         "4.0",
         "12"
        ],
        [
         "13",
         "tt0249516",
         "Foodfight!",
         "Foodfight!",
         "2012",
         "91.0",
         "Action,Animation,Comedy",
         "1.9",
         "8248"
        ],
        [
         "14",
         "tt0250404",
         "Godfather",
         "Godfather",
         "2012",
         "87.0",
         "Crime,Drama",
         "6.7",
         "236"
        ],
        [
         "15",
         "tt0253093",
         "Gangavataran",
         "Gangavataran",
         "2018",
         "134.0",
         "Unknown",
         "6.6",
         "8"
        ],
        [
         "16",
         "tt0255820",
         "Return to Babylon",
         "Return to Babylon",
         "2013",
         "75.0",
         "Biography,Comedy,Drama",
         "5.9",
         "123"
        ],
        [
         "17",
         "tt0262218",
         "Akakis mogzauroba",
         "Akakis mogzauroba",
         "2012",
         "44.0",
         "Documentary",
         "7.8",
         "22"
        ],
        [
         "18",
         "tt0263814",
         "On kadin",
         "On kadin",
         "2019",
         "87.0",
         "Drama",
         "7.1",
         "100"
        ],
        [
         "19",
         "tt0276568",
         "To Chase a Million",
         "To Chase a Million",
         "2018",
         "97.0",
         "Action,Drama",
         "7.4",
         "5"
        ],
        [
         "20",
         "tt0277964",
         "Prague: The Restless Heart of Europe",
         "Praha - neklidné srdce Evropy",
         "2018",
         "59.0",
         "Documentary,History",
         "7.0",
         "31"
        ],
        [
         "21",
         "tt0283440",
         "Short Time Heroes",
         "Kurzzeithelden",
         "2015",
         "45.0",
         "Sci-Fi",
         "6.6",
         "16"
        ],
        [
         "22",
         "tt0285252",
         "Life's a Beach",
         "Life's a Beach",
         "2012",
         "100.0",
         "Comedy",
         "3.9",
         "219"
        ],
        [
         "23",
         "tt0285423",
         "Abolição",
         "Abolição",
         "2019",
         "87.0",
         "Documentary",
         "7.4",
         "35"
        ],
        [
         "24",
         "tt0293069",
         "Dark Blood",
         "Dark Blood",
         "2012",
         "86.0",
         "Thriller",
         "6.6",
         "1053"
        ],
        [
         "25",
         "tt0297400",
         "Snowblind",
         "Snowblind",
         "2015",
         "87.0",
         "Crime,Drama",
         "6.7",
         "77"
        ],
        [
         "26",
         "tt0306058",
         "Second Coming",
         "Second Coming",
         "2012",
         "95.0",
         "Unknown",
         "5.5",
         "20"
        ],
        [
         "27",
         "tt0312305",
         "Quantum Quest: A Cassini Space Odyssey",
         "Quantum Quest: A Cassini Space Odyssey",
         "2010",
         "45.0",
         "Adventure,Animation,Sci-Fi",
         "5.1",
         "287"
        ],
        [
         "28",
         "tt0315642",
         "Wazir",
         "Wazir",
         "2016",
         "103.0",
         "Action,Crime,Drama",
         "7.1",
         "15378"
        ],
        [
         "29",
         "tt0323808",
         "The Wicker Tree",
         "The Wicker Tree",
         "2011",
         "96.0",
         "Drama,Horror",
         "3.9",
         "2328"
        ],
        [
         "30",
         "tt0326592",
         "The Overnight",
         "The Overnight",
         "2010",
         "88.0",
         "Unknown",
         "7.5",
         "24"
        ],
        [
         "31",
         "tt0326965",
         "In My Sleep",
         "In My Sleep",
         "2010",
         "104.0",
         "Drama,Mystery,Thriller",
         "5.5",
         "1889"
        ],
        [
         "32",
         "tt0328810",
         "My Land",
         "Aamaar Bhuvan",
         "2018",
         "102.0",
         "Drama,Family",
         "7.9",
         "61"
        ],
        [
         "33",
         "tt0329539",
         "Rice Girl",
         "Rice Girl",
         "2014",
         "95.0",
         "Adventure,Comedy,Romance",
         "6.1",
         "73"
        ],
        [
         "34",
         "tt0330811",
         "Regret Not Speaking",
         "Regret Not Speaking",
         "2011",
         "87.0",
         "Unknown",
         "6.2",
         "10"
        ],
        [
         "35",
         "tt0330987",
         "Tiden är en dröm, del 2",
         "Tiden är en dröm, del 2",
         "2014",
         "109.0",
         "Unknown",
         "6.3",
         "6"
        ],
        [
         "36",
         "tt0331312",
         "This Wretched Life",
         "This Wretched Life",
         "2010",
         "99.0",
         "Comedy,Drama",
         "7.6",
         "59"
        ],
        [
         "37",
         "tt0331314",
         "Bunyan and Babe",
         "Bunyan and Babe",
         "2017",
         "84.0",
         "Adventure,Animation,Comedy",
         "5.0",
         "302"
        ],
        [
         "38",
         "tt0337692",
         "On the Road",
         "On the Road",
         "2012",
         "124.0",
         "Adventure,Drama,Romance",
         "6.1",
         "37886"
        ],
        [
         "39",
         "tt0337882",
         "Blind Sided",
         "Blind Sided",
         "2010",
         "87.0",
         "Comedy,Crime,Drama",
         "7.4",
         "14"
        ],
        [
         "40",
         "tt0337926",
         "Chatô - The King of Brazil",
         "Chatô: O Rei do Brasil",
         "2015",
         "102.0",
         "Biography",
         "6.0",
         "558"
        ],
        [
         "41",
         "tt0339736",
         "The Evil Within",
         "The Evil Within",
         "2017",
         "98.0",
         "Horror",
         "5.6",
         "2420"
        ],
        [
         "42",
         "tt0346045",
         "Transeúntes",
         "Transeúntes",
         "2015",
         "101.0",
         "Comedy,Drama",
         "6.7",
         "35"
        ],
        [
         "43",
         "tt0357717",
         "Haar Jeet",
         "Haar Jeet",
         "2018",
         "87.0",
         "Drama",
         "5.1",
         "9"
        ],
        [
         "44",
         "tt0359950",
         "The Secret Life of Walter Mitty",
         "The Secret Life of Walter Mitty",
         "2013",
         "114.0",
         "Adventure,Comedy,Drama",
         "7.3",
         "275300"
        ],
        [
         "45",
         "tt0360556",
         "Fahrenheit 451",
         "Fahrenheit 451",
         "2018",
         "100.0",
         "Drama,Sci-Fi,Thriller",
         "4.9",
         "14469"
        ],
        [
         "46",
         "tt0364201",
         "Aman Ke Farishtey",
         "Aman Ke Farishtey",
         "2016",
         "137.0",
         "Action",
         "6.4",
         "16"
        ],
        [
         "47",
         "tt0365545",
         "Nappily Ever After",
         "Nappily Ever After",
         "2018",
         "98.0",
         "Comedy,Drama,Romance",
         "6.4",
         "6287"
        ],
        [
         "48",
         "tt0365907",
         "A Walk Among the Tombstones",
         "A Walk Among the Tombstones",
         "2014",
         "114.0",
         "Action,Crime,Drama",
         "6.5",
         "105116"
        ],
        [
         "49",
         "tt0369610",
         "Jurassic World",
         "Jurassic World",
         "2015",
         "124.0",
         "Action,Adventure,Sci-Fi",
         "7.0",
         "539338"
        ]
       ],
       "shape": {
        "columns": 8,
        "rows": 72227
       }
      },
      "text/html": [
       "<div>\n",
       "<style scoped>\n",
       "    .dataframe tbody tr th:only-of-type {\n",
       "        vertical-align: middle;\n",
       "    }\n",
       "\n",
       "    .dataframe tbody tr th {\n",
       "        vertical-align: top;\n",
       "    }\n",
       "\n",
       "    .dataframe thead th {\n",
       "        text-align: right;\n",
       "    }\n",
       "</style>\n",
       "<table border=\"1\" class=\"dataframe\">\n",
       "  <thead>\n",
       "    <tr style=\"text-align: right;\">\n",
       "      <th></th>\n",
       "      <th>movie_id</th>\n",
       "      <th>primary_title</th>\n",
       "      <th>original_title</th>\n",
       "      <th>start_year</th>\n",
       "      <th>runtime_minutes</th>\n",
       "      <th>genres</th>\n",
       "      <th>averagerating</th>\n",
       "      <th>numvotes</th>\n",
       "    </tr>\n",
       "  </thead>\n",
       "  <tbody>\n",
       "    <tr>\n",
       "      <th>0</th>\n",
       "      <td>tt0066787</td>\n",
       "      <td>One Day Before the Rainy Season</td>\n",
       "      <td>Ashad Ka Ek Din</td>\n",
       "      <td>2019</td>\n",
       "      <td>114.0</td>\n",
       "      <td>Biography,Drama</td>\n",
       "      <td>7.2</td>\n",
       "      <td>43</td>\n",
       "    </tr>\n",
       "    <tr>\n",
       "      <th>1</th>\n",
       "      <td>tt0069049</td>\n",
       "      <td>The Other Side of the Wind</td>\n",
       "      <td>The Other Side of the Wind</td>\n",
       "      <td>2018</td>\n",
       "      <td>122.0</td>\n",
       "      <td>Drama</td>\n",
       "      <td>6.9</td>\n",
       "      <td>4517</td>\n",
       "    </tr>\n",
       "    <tr>\n",
       "      <th>2</th>\n",
       "      <td>tt0069204</td>\n",
       "      <td>Sabse Bada Sukh</td>\n",
       "      <td>Sabse Bada Sukh</td>\n",
       "      <td>2018</td>\n",
       "      <td>87.0</td>\n",
       "      <td>Comedy,Drama</td>\n",
       "      <td>6.1</td>\n",
       "      <td>13</td>\n",
       "    </tr>\n",
       "    <tr>\n",
       "      <th>3</th>\n",
       "      <td>tt0100275</td>\n",
       "      <td>The Wandering Soap Opera</td>\n",
       "      <td>La Telenovela Errante</td>\n",
       "      <td>2017</td>\n",
       "      <td>80.0</td>\n",
       "      <td>Comedy,Drama,Fantasy</td>\n",
       "      <td>6.5</td>\n",
       "      <td>119</td>\n",
       "    </tr>\n",
       "    <tr>\n",
       "      <th>4</th>\n",
       "      <td>tt0112502</td>\n",
       "      <td>Bigfoot</td>\n",
       "      <td>Bigfoot</td>\n",
       "      <td>2017</td>\n",
       "      <td>87.0</td>\n",
       "      <td>Horror,Thriller</td>\n",
       "      <td>4.1</td>\n",
       "      <td>32</td>\n",
       "    </tr>\n",
       "    <tr>\n",
       "      <th>...</th>\n",
       "      <td>...</td>\n",
       "      <td>...</td>\n",
       "      <td>...</td>\n",
       "      <td>...</td>\n",
       "      <td>...</td>\n",
       "      <td>...</td>\n",
       "      <td>...</td>\n",
       "      <td>...</td>\n",
       "    </tr>\n",
       "    <tr>\n",
       "      <th>72222</th>\n",
       "      <td>tt9913084</td>\n",
       "      <td>Diabolik sono io</td>\n",
       "      <td>Diabolik sono io</td>\n",
       "      <td>2019</td>\n",
       "      <td>75.0</td>\n",
       "      <td>Documentary</td>\n",
       "      <td>6.2</td>\n",
       "      <td>6</td>\n",
       "    </tr>\n",
       "    <tr>\n",
       "      <th>72223</th>\n",
       "      <td>tt9914286</td>\n",
       "      <td>Sokagin Çocuklari</td>\n",
       "      <td>Sokagin Çocuklari</td>\n",
       "      <td>2019</td>\n",
       "      <td>98.0</td>\n",
       "      <td>Drama,Family</td>\n",
       "      <td>8.7</td>\n",
       "      <td>136</td>\n",
       "    </tr>\n",
       "    <tr>\n",
       "      <th>72224</th>\n",
       "      <td>tt9914642</td>\n",
       "      <td>Albatross</td>\n",
       "      <td>Albatross</td>\n",
       "      <td>2017</td>\n",
       "      <td>87.0</td>\n",
       "      <td>Documentary</td>\n",
       "      <td>8.5</td>\n",
       "      <td>8</td>\n",
       "    </tr>\n",
       "    <tr>\n",
       "      <th>72225</th>\n",
       "      <td>tt9914942</td>\n",
       "      <td>La vida sense la Sara Amat</td>\n",
       "      <td>La vida sense la Sara Amat</td>\n",
       "      <td>2019</td>\n",
       "      <td>87.0</td>\n",
       "      <td>Unknown</td>\n",
       "      <td>6.6</td>\n",
       "      <td>5</td>\n",
       "    </tr>\n",
       "    <tr>\n",
       "      <th>72226</th>\n",
       "      <td>tt9916160</td>\n",
       "      <td>Drømmeland</td>\n",
       "      <td>Drømmeland</td>\n",
       "      <td>2019</td>\n",
       "      <td>72.0</td>\n",
       "      <td>Documentary</td>\n",
       "      <td>6.5</td>\n",
       "      <td>11</td>\n",
       "    </tr>\n",
       "  </tbody>\n",
       "</table>\n",
       "<p>72227 rows × 8 columns</p>\n",
       "</div>"
      ],
      "text/plain": [
       "        movie_id                    primary_title              original_title  \\\n",
       "0      tt0066787  One Day Before the Rainy Season             Ashad Ka Ek Din   \n",
       "1      tt0069049       The Other Side of the Wind  The Other Side of the Wind   \n",
       "2      tt0069204                  Sabse Bada Sukh             Sabse Bada Sukh   \n",
       "3      tt0100275         The Wandering Soap Opera       La Telenovela Errante   \n",
       "4      tt0112502                          Bigfoot                     Bigfoot   \n",
       "...          ...                              ...                         ...   \n",
       "72222  tt9913084                 Diabolik sono io            Diabolik sono io   \n",
       "72223  tt9914286                Sokagin Çocuklari           Sokagin Çocuklari   \n",
       "72224  tt9914642                        Albatross                   Albatross   \n",
       "72225  tt9914942       La vida sense la Sara Amat  La vida sense la Sara Amat   \n",
       "72226  tt9916160                       Drømmeland                  Drømmeland   \n",
       "\n",
       "       start_year  runtime_minutes                genres  averagerating  \\\n",
       "0            2019            114.0       Biography,Drama            7.2   \n",
       "1            2018            122.0                 Drama            6.9   \n",
       "2            2018             87.0          Comedy,Drama            6.1   \n",
       "3            2017             80.0  Comedy,Drama,Fantasy            6.5   \n",
       "4            2017             87.0       Horror,Thriller            4.1   \n",
       "...           ...              ...                   ...            ...   \n",
       "72222        2019             75.0           Documentary            6.2   \n",
       "72223        2019             98.0          Drama,Family            8.7   \n",
       "72224        2017             87.0           Documentary            8.5   \n",
       "72225        2019             87.0               Unknown            6.6   \n",
       "72226        2019             72.0           Documentary            6.5   \n",
       "\n",
       "       numvotes  \n",
       "0            43  \n",
       "1          4517  \n",
       "2            13  \n",
       "3           119  \n",
       "4            32  \n",
       "...         ...  \n",
       "72222         6  \n",
       "72223       136  \n",
       "72224         8  \n",
       "72225         5  \n",
       "72226        11  \n",
       "\n",
       "[72227 rows x 8 columns]"
      ]
     },
     "execution_count": 18,
     "metadata": {},
     "output_type": "execute_result"
    }
   ],
   "source": [
    "movie_merge = movie_basics_cp.merge(movie_ratings_cp, on='movie_id', how='inner')\n",
    "movie_merge"
   ]
  },
  {
   "cell_type": "code",
   "execution_count": 19,
   "metadata": {},
   "outputs": [
    {
     "data": {
      "application/vnd.microsoft.datawrangler.viewer.v0+json": {
       "columns": [
        {
         "name": "index",
         "rawType": "int64",
         "type": "integer"
        },
        {
         "name": "movie_id",
         "rawType": "object",
         "type": "string"
        },
        {
         "name": "primary_title",
         "rawType": "object",
         "type": "string"
        },
        {
         "name": "original_title",
         "rawType": "object",
         "type": "string"
        },
        {
         "name": "start_year",
         "rawType": "int64",
         "type": "integer"
        },
        {
         "name": "runtime_minutes",
         "rawType": "float64",
         "type": "float"
        },
        {
         "name": "genres",
         "rawType": "object",
         "type": "string"
        },
        {
         "name": "averagerating",
         "rawType": "float64",
         "type": "float"
        },
        {
         "name": "numvotes",
         "rawType": "int64",
         "type": "integer"
        },
        {
         "name": "ordering",
         "rawType": "int64",
         "type": "integer"
        },
        {
         "name": "region_title",
         "rawType": "object",
         "type": "string"
        },
        {
         "name": "region",
         "rawType": "object",
         "type": "unknown"
        }
       ],
       "ref": "3cea4701-c040-4243-8361-e8d35e5a9ca0",
       "rows": [
        [
         "0",
         "tt0066787",
         "One Day Before the Rainy Season",
         "Ashad Ka Ek Din",
         "2019",
         "114.0",
         "Biography,Drama",
         "7.2",
         "43",
         "1",
         "One Day Before the Rainy Season",
         "XWW"
        ],
        [
         "1",
         "tt0066787",
         "One Day Before the Rainy Season",
         "Ashad Ka Ek Din",
         "2019",
         "114.0",
         "Biography,Drama",
         "7.2",
         "43",
         "2",
         "Ashad Ka Ek Din",
         "IN"
        ],
        [
         "2",
         "tt0066787",
         "One Day Before the Rainy Season",
         "Ashad Ka Ek Din",
         "2019",
         "114.0",
         "Biography,Drama",
         "7.2",
         "43",
         "3",
         "One Monsoon Day",
         null
        ],
        [
         "3",
         "tt0066787",
         "One Day Before the Rainy Season",
         "Ashad Ka Ek Din",
         "2019",
         "114.0",
         "Biography,Drama",
         "7.2",
         "43",
         "4",
         "Ashad Ka Ek Din",
         null
        ],
        [
         "4",
         "tt0069049",
         "The Other Side of the Wind",
         "The Other Side of the Wind",
         "2018",
         "122.0",
         "Drama",
         "6.9",
         "4517",
         "10",
         "La otra cara del viento",
         "VE"
        ],
        [
         "5",
         "tt0069049",
         "The Other Side of the Wind",
         "The Other Side of the Wind",
         "2018",
         "122.0",
         "Drama",
         "6.9",
         "4517",
         "11",
         "Druga strona wiatru",
         "PL"
        ],
        [
         "6",
         "tt0069049",
         "The Other Side of the Wind",
         "The Other Side of the Wind",
         "2018",
         "122.0",
         "Drama",
         "6.9",
         "4517",
         "12",
         "The Other Side of the Wind",
         "DE"
        ],
        [
         "7",
         "tt0069049",
         "The Other Side of the Wind",
         "The Other Side of the Wind",
         "2018",
         "122.0",
         "Drama",
         "6.9",
         "4517",
         "13",
         "O Outro Lado do Vento",
         "PT"
        ],
        [
         "8",
         "tt0069049",
         "The Other Side of the Wind",
         "The Other Side of the Wind",
         "2018",
         "122.0",
         "Drama",
         "6.9",
         "4517",
         "1",
         "O Outro Lado do Vento",
         "BR"
        ],
        [
         "9",
         "tt0069049",
         "The Other Side of the Wind",
         "The Other Side of the Wind",
         "2018",
         "122.0",
         "Drama",
         "6.9",
         "4517",
         "2",
         "The Other Side of the Wind",
         "US"
        ],
        [
         "10",
         "tt0069049",
         "The Other Side of the Wind",
         "The Other Side of the Wind",
         "2018",
         "122.0",
         "Drama",
         "6.9",
         "4517",
         "3",
         "The Other Side of the Wind",
         "GB"
        ],
        [
         "11",
         "tt0069049",
         "The Other Side of the Wind",
         "The Other Side of the Wind",
         "2018",
         "122.0",
         "Drama",
         "6.9",
         "4517",
         "4",
         "L'altra faccia del vento",
         "IT"
        ],
        [
         "12",
         "tt0069049",
         "The Other Side of the Wind",
         "The Other Side of the Wind",
         "2018",
         "122.0",
         "Drama",
         "6.9",
         "4517",
         "5",
         "Другая сторона ветра",
         "RU"
        ],
        [
         "13",
         "tt0069049",
         "The Other Side of the Wind",
         "The Other Side of the Wind",
         "2018",
         "122.0",
         "Drama",
         "6.9",
         "4517",
         "6",
         "Al otro lado del viento",
         "AR"
        ],
        [
         "14",
         "tt0069049",
         "The Other Side of the Wind",
         "The Other Side of the Wind",
         "2018",
         "122.0",
         "Drama",
         "6.9",
         "4517",
         "7",
         "Al otro lado del viento",
         "ES"
        ],
        [
         "15",
         "tt0069049",
         "The Other Side of the Wind",
         "The Other Side of the Wind",
         "2018",
         "122.0",
         "Drama",
         "6.9",
         "4517",
         "8",
         "The Other Side of the Wind",
         null
        ],
        [
         "16",
         "tt0069049",
         "The Other Side of the Wind",
         "The Other Side of the Wind",
         "2018",
         "122.0",
         "Drama",
         "6.9",
         "4517",
         "9",
         "De l'autre côté du vent",
         "FR"
        ],
        [
         "17",
         "tt0069204",
         "Sabse Bada Sukh",
         "Sabse Bada Sukh",
         "2018",
         "87.0",
         "Comedy,Drama",
         "6.1",
         "13",
         "1",
         "Subse Bada Sukh",
         "IN"
        ],
        [
         "18",
         "tt0069204",
         "Sabse Bada Sukh",
         "Sabse Bada Sukh",
         "2018",
         "87.0",
         "Comedy,Drama",
         "6.1",
         "13",
         "2",
         "The Greatest Happiness",
         "IN"
        ],
        [
         "19",
         "tt0069204",
         "Sabse Bada Sukh",
         "Sabse Bada Sukh",
         "2018",
         "87.0",
         "Comedy,Drama",
         "6.1",
         "13",
         "3",
         "Sabse Bada Sukh",
         null
        ],
        [
         "20",
         "tt0100275",
         "The Wandering Soap Opera",
         "La Telenovela Errante",
         "2017",
         "80.0",
         "Comedy,Drama,Fantasy",
         "6.5",
         "119",
         "1",
         "La Telenovela Errante",
         null
        ],
        [
         "21",
         "tt0100275",
         "The Wandering Soap Opera",
         "La Telenovela Errante",
         "2017",
         "80.0",
         "Comedy,Drama,Fantasy",
         "6.5",
         "119",
         "2",
         "The Wandering Soap Opera",
         "XWW"
        ],
        [
         "22",
         "tt0100275",
         "The Wandering Soap Opera",
         "La Telenovela Errante",
         "2017",
         "80.0",
         "Comedy,Drama,Fantasy",
         "6.5",
         "119",
         "3",
         "La Telenovela Errante",
         "CL"
        ],
        [
         "23",
         "tt0100275",
         "The Wandering Soap Opera",
         "La Telenovela Errante",
         "2017",
         "80.0",
         "Comedy,Drama,Fantasy",
         "6.5",
         "119",
         "4",
         "La novela errante",
         "CL"
        ],
        [
         "24",
         "tt0100275",
         "The Wandering Soap Opera",
         "La Telenovela Errante",
         "2017",
         "80.0",
         "Comedy,Drama,Fantasy",
         "6.5",
         "119",
         "5",
         "Objazdowa opera mydlana",
         "PL"
        ],
        [
         "25",
         "tt0112502",
         "Bigfoot",
         "Bigfoot",
         "2017",
         "87.0",
         "Horror,Thriller",
         "4.1",
         "32",
         "1",
         "Bigfoot",
         "US"
        ],
        [
         "26",
         "tt0137204",
         "Joe Finds Grace",
         "Joe Finds Grace",
         "2017",
         "83.0",
         "Adventure,Animation,Comedy",
         "8.1",
         "263",
         "1",
         "Joe Finds Grace",
         "CA"
        ],
        [
         "27",
         "tt0137204",
         "Joe Finds Grace",
         "Joe Finds Grace",
         "2017",
         "83.0",
         "Adventure,Animation,Comedy",
         "8.1",
         "263",
         "2",
         "Elephant Joe",
         null
        ],
        [
         "28",
         "tt0137204",
         "Joe Finds Grace",
         "Joe Finds Grace",
         "2017",
         "83.0",
         "Adventure,Animation,Comedy",
         "8.1",
         "263",
         "3",
         "Joe Finds Grace",
         null
        ],
        [
         "29",
         "tt0137204",
         "Joe Finds Grace",
         "Joe Finds Grace",
         "2017",
         "83.0",
         "Adventure,Animation,Comedy",
         "8.1",
         "263",
         "4",
         "Saving Grace",
         null
        ],
        [
         "30",
         "tt0146592",
         "Pál Adrienn",
         "Pál Adrienn",
         "2010",
         "136.0",
         "Drama",
         "6.8",
         "451",
         "1",
         "Adrienn Pal",
         "PL"
        ],
        [
         "31",
         "tt0146592",
         "Pál Adrienn",
         "Pál Adrienn",
         "2010",
         "136.0",
         "Drama",
         "6.8",
         "451",
         "2",
         "Адриен Пал",
         "BG"
        ],
        [
         "32",
         "tt0146592",
         "Pál Adrienn",
         "Pál Adrienn",
         "2010",
         "136.0",
         "Drama",
         "6.8",
         "451",
         "3",
         "Pal Adrienn",
         "HR"
        ],
        [
         "33",
         "tt0146592",
         "Pál Adrienn",
         "Pál Adrienn",
         "2010",
         "136.0",
         "Drama",
         "6.8",
         "451",
         "4",
         "Pál Adrienn",
         "HU"
        ],
        [
         "34",
         "tt0146592",
         "Pál Adrienn",
         "Pál Adrienn",
         "2010",
         "136.0",
         "Drama",
         "6.8",
         "451",
         "5",
         "Adrienn Pál",
         "SE"
        ],
        [
         "35",
         "tt0146592",
         "Pál Adrienn",
         "Pál Adrienn",
         "2010",
         "136.0",
         "Drama",
         "6.8",
         "451",
         "6",
         "Pál Adrienn",
         null
        ],
        [
         "36",
         "tt0154039",
         "So Much for Justice!",
         "Oda az igazság",
         "2010",
         "100.0",
         "History",
         "4.6",
         "64",
         "1",
         "Oda az igazság",
         null
        ],
        [
         "37",
         "tt0154039",
         "So Much for Justice!",
         "Oda az igazság",
         "2010",
         "100.0",
         "History",
         "4.6",
         "64",
         "2",
         "Oda az igazság",
         "HU"
        ],
        [
         "38",
         "tt0154039",
         "So Much for Justice!",
         "Oda az igazság",
         "2010",
         "100.0",
         "History",
         "4.6",
         "64",
         "3",
         "C'est la vérité",
         "FR"
        ],
        [
         "39",
         "tt0154039",
         "So Much for Justice!",
         "Oda az igazság",
         "2010",
         "100.0",
         "History",
         "4.6",
         "64",
         "4",
         "So Much for Justice!",
         "XWW"
        ],
        [
         "40",
         "tt0154039",
         "So Much for Justice!",
         "Oda az igazság",
         "2010",
         "100.0",
         "History",
         "4.6",
         "64",
         "5",
         "So Much for Justice",
         "FR"
        ],
        [
         "41",
         "tt0154039",
         "So Much for Justice!",
         "Oda az igazság",
         "2010",
         "100.0",
         "History",
         "4.6",
         "64",
         "6",
         "Szlag trafil sprawiedliwosc",
         "PL"
        ],
        [
         "42",
         "tt0162942",
         "Children of the Green Dragon",
         "A zöld sárkány gyermekei",
         "2010",
         "89.0",
         "Drama",
         "6.9",
         "120",
         "1",
         "Dzieci Zielonego Smoka",
         "PL"
        ],
        [
         "43",
         "tt0162942",
         "Children of the Green Dragon",
         "A zöld sárkány gyermekei",
         "2010",
         "89.0",
         "Drama",
         "6.9",
         "120",
         "2",
         "A zöld sárkány gyermekei",
         "HU"
        ],
        [
         "44",
         "tt0162942",
         "Children of the Green Dragon",
         "A zöld sárkány gyermekei",
         "2010",
         "89.0",
         "Drama",
         "6.9",
         "120",
         "3",
         "A zöld sárkány gyermekei",
         null
        ],
        [
         "45",
         "tt0162942",
         "Children of the Green Dragon",
         "A zöld sárkány gyermekei",
         "2010",
         "89.0",
         "Drama",
         "6.9",
         "120",
         "4",
         "Children of the Green Dragon",
         "XWW"
        ],
        [
         "46",
         "tt0192528",
         "Heaven & Hell",
         "Reverse Heaven",
         "2018",
         "104.0",
         "Drama",
         "4.0",
         "72",
         "1",
         "Heaven & Hell",
         "US"
        ],
        [
         "47",
         "tt0192528",
         "Heaven & Hell",
         "Reverse Heaven",
         "2018",
         "104.0",
         "Drama",
         "4.0",
         "72",
         "2",
         "Reverse Heaven",
         null
        ],
        [
         "48",
         "tt0230212",
         "The Final Journey",
         "The Final Journey",
         "2010",
         "120.0",
         "Drama",
         "8.8",
         "8",
         "1",
         "The Final Journey",
         "US"
        ],
        [
         "49",
         "tt0247643",
         "Los pájaros se van con la muerte",
         "Los pájaros se van con la muerte",
         "2011",
         "110.0",
         "Drama,Mystery",
         "4.0",
         "12",
         "1",
         "Los pájaros se van con la muerte",
         "VE"
        ]
       ],
       "shape": {
        "columns": 11,
        "rows": 256564
       }
      },
      "text/html": [
       "<div>\n",
       "<style scoped>\n",
       "    .dataframe tbody tr th:only-of-type {\n",
       "        vertical-align: middle;\n",
       "    }\n",
       "\n",
       "    .dataframe tbody tr th {\n",
       "        vertical-align: top;\n",
       "    }\n",
       "\n",
       "    .dataframe thead th {\n",
       "        text-align: right;\n",
       "    }\n",
       "</style>\n",
       "<table border=\"1\" class=\"dataframe\">\n",
       "  <thead>\n",
       "    <tr style=\"text-align: right;\">\n",
       "      <th></th>\n",
       "      <th>movie_id</th>\n",
       "      <th>primary_title</th>\n",
       "      <th>original_title</th>\n",
       "      <th>start_year</th>\n",
       "      <th>runtime_minutes</th>\n",
       "      <th>genres</th>\n",
       "      <th>averagerating</th>\n",
       "      <th>numvotes</th>\n",
       "      <th>ordering</th>\n",
       "      <th>region_title</th>\n",
       "      <th>region</th>\n",
       "    </tr>\n",
       "  </thead>\n",
       "  <tbody>\n",
       "    <tr>\n",
       "      <th>0</th>\n",
       "      <td>tt0066787</td>\n",
       "      <td>One Day Before the Rainy Season</td>\n",
       "      <td>Ashad Ka Ek Din</td>\n",
       "      <td>2019</td>\n",
       "      <td>114.0</td>\n",
       "      <td>Biography,Drama</td>\n",
       "      <td>7.2</td>\n",
       "      <td>43</td>\n",
       "      <td>1</td>\n",
       "      <td>One Day Before the Rainy Season</td>\n",
       "      <td>XWW</td>\n",
       "    </tr>\n",
       "    <tr>\n",
       "      <th>1</th>\n",
       "      <td>tt0066787</td>\n",
       "      <td>One Day Before the Rainy Season</td>\n",
       "      <td>Ashad Ka Ek Din</td>\n",
       "      <td>2019</td>\n",
       "      <td>114.0</td>\n",
       "      <td>Biography,Drama</td>\n",
       "      <td>7.2</td>\n",
       "      <td>43</td>\n",
       "      <td>2</td>\n",
       "      <td>Ashad Ka Ek Din</td>\n",
       "      <td>IN</td>\n",
       "    </tr>\n",
       "    <tr>\n",
       "      <th>2</th>\n",
       "      <td>tt0066787</td>\n",
       "      <td>One Day Before the Rainy Season</td>\n",
       "      <td>Ashad Ka Ek Din</td>\n",
       "      <td>2019</td>\n",
       "      <td>114.0</td>\n",
       "      <td>Biography,Drama</td>\n",
       "      <td>7.2</td>\n",
       "      <td>43</td>\n",
       "      <td>3</td>\n",
       "      <td>One Monsoon Day</td>\n",
       "      <td>None</td>\n",
       "    </tr>\n",
       "    <tr>\n",
       "      <th>3</th>\n",
       "      <td>tt0066787</td>\n",
       "      <td>One Day Before the Rainy Season</td>\n",
       "      <td>Ashad Ka Ek Din</td>\n",
       "      <td>2019</td>\n",
       "      <td>114.0</td>\n",
       "      <td>Biography,Drama</td>\n",
       "      <td>7.2</td>\n",
       "      <td>43</td>\n",
       "      <td>4</td>\n",
       "      <td>Ashad Ka Ek Din</td>\n",
       "      <td>None</td>\n",
       "    </tr>\n",
       "    <tr>\n",
       "      <th>4</th>\n",
       "      <td>tt0069049</td>\n",
       "      <td>The Other Side of the Wind</td>\n",
       "      <td>The Other Side of the Wind</td>\n",
       "      <td>2018</td>\n",
       "      <td>122.0</td>\n",
       "      <td>Drama</td>\n",
       "      <td>6.9</td>\n",
       "      <td>4517</td>\n",
       "      <td>10</td>\n",
       "      <td>La otra cara del viento</td>\n",
       "      <td>VE</td>\n",
       "    </tr>\n",
       "    <tr>\n",
       "      <th>...</th>\n",
       "      <td>...</td>\n",
       "      <td>...</td>\n",
       "      <td>...</td>\n",
       "      <td>...</td>\n",
       "      <td>...</td>\n",
       "      <td>...</td>\n",
       "      <td>...</td>\n",
       "      <td>...</td>\n",
       "      <td>...</td>\n",
       "      <td>...</td>\n",
       "      <td>...</td>\n",
       "    </tr>\n",
       "    <tr>\n",
       "      <th>256559</th>\n",
       "      <td>tt9905462</td>\n",
       "      <td>Pengalila</td>\n",
       "      <td>Pengalila</td>\n",
       "      <td>2019</td>\n",
       "      <td>111.0</td>\n",
       "      <td>Drama</td>\n",
       "      <td>8.4</td>\n",
       "      <td>600</td>\n",
       "      <td>2</td>\n",
       "      <td>Sisterleaf</td>\n",
       "      <td>IN</td>\n",
       "    </tr>\n",
       "    <tr>\n",
       "      <th>256560</th>\n",
       "      <td>tt9905462</td>\n",
       "      <td>Pengalila</td>\n",
       "      <td>Pengalila</td>\n",
       "      <td>2019</td>\n",
       "      <td>111.0</td>\n",
       "      <td>Drama</td>\n",
       "      <td>8.4</td>\n",
       "      <td>600</td>\n",
       "      <td>3</td>\n",
       "      <td>Pengalila</td>\n",
       "      <td>IN</td>\n",
       "    </tr>\n",
       "    <tr>\n",
       "      <th>256561</th>\n",
       "      <td>tt9911774</td>\n",
       "      <td>Padmavyuhathile Abhimanyu</td>\n",
       "      <td>Padmavyuhathile Abhimanyu</td>\n",
       "      <td>2019</td>\n",
       "      <td>130.0</td>\n",
       "      <td>Drama</td>\n",
       "      <td>8.4</td>\n",
       "      <td>365</td>\n",
       "      <td>1</td>\n",
       "      <td>Padmavyuhathile Abhimanyu</td>\n",
       "      <td>None</td>\n",
       "    </tr>\n",
       "    <tr>\n",
       "      <th>256562</th>\n",
       "      <td>tt9911774</td>\n",
       "      <td>Padmavyuhathile Abhimanyu</td>\n",
       "      <td>Padmavyuhathile Abhimanyu</td>\n",
       "      <td>2019</td>\n",
       "      <td>130.0</td>\n",
       "      <td>Drama</td>\n",
       "      <td>8.4</td>\n",
       "      <td>365</td>\n",
       "      <td>2</td>\n",
       "      <td>Pathmavyuhathile Abhimanyu</td>\n",
       "      <td>IN</td>\n",
       "    </tr>\n",
       "    <tr>\n",
       "      <th>256563</th>\n",
       "      <td>tt9911774</td>\n",
       "      <td>Padmavyuhathile Abhimanyu</td>\n",
       "      <td>Padmavyuhathile Abhimanyu</td>\n",
       "      <td>2019</td>\n",
       "      <td>130.0</td>\n",
       "      <td>Drama</td>\n",
       "      <td>8.4</td>\n",
       "      <td>365</td>\n",
       "      <td>3</td>\n",
       "      <td>Padmavyoohathile Abhimanyu</td>\n",
       "      <td>IN</td>\n",
       "    </tr>\n",
       "  </tbody>\n",
       "</table>\n",
       "<p>256564 rows × 11 columns</p>\n",
       "</div>"
      ],
      "text/plain": [
       "         movie_id                    primary_title  \\\n",
       "0       tt0066787  One Day Before the Rainy Season   \n",
       "1       tt0066787  One Day Before the Rainy Season   \n",
       "2       tt0066787  One Day Before the Rainy Season   \n",
       "3       tt0066787  One Day Before the Rainy Season   \n",
       "4       tt0069049       The Other Side of the Wind   \n",
       "...           ...                              ...   \n",
       "256559  tt9905462                        Pengalila   \n",
       "256560  tt9905462                        Pengalila   \n",
       "256561  tt9911774        Padmavyuhathile Abhimanyu   \n",
       "256562  tt9911774        Padmavyuhathile Abhimanyu   \n",
       "256563  tt9911774        Padmavyuhathile Abhimanyu   \n",
       "\n",
       "                    original_title  start_year  runtime_minutes  \\\n",
       "0                  Ashad Ka Ek Din        2019            114.0   \n",
       "1                  Ashad Ka Ek Din        2019            114.0   \n",
       "2                  Ashad Ka Ek Din        2019            114.0   \n",
       "3                  Ashad Ka Ek Din        2019            114.0   \n",
       "4       The Other Side of the Wind        2018            122.0   \n",
       "...                            ...         ...              ...   \n",
       "256559                   Pengalila        2019            111.0   \n",
       "256560                   Pengalila        2019            111.0   \n",
       "256561   Padmavyuhathile Abhimanyu        2019            130.0   \n",
       "256562   Padmavyuhathile Abhimanyu        2019            130.0   \n",
       "256563   Padmavyuhathile Abhimanyu        2019            130.0   \n",
       "\n",
       "                 genres  averagerating  numvotes  ordering  \\\n",
       "0       Biography,Drama            7.2        43         1   \n",
       "1       Biography,Drama            7.2        43         2   \n",
       "2       Biography,Drama            7.2        43         3   \n",
       "3       Biography,Drama            7.2        43         4   \n",
       "4                 Drama            6.9      4517        10   \n",
       "...                 ...            ...       ...       ...   \n",
       "256559            Drama            8.4       600         2   \n",
       "256560            Drama            8.4       600         3   \n",
       "256561            Drama            8.4       365         1   \n",
       "256562            Drama            8.4       365         2   \n",
       "256563            Drama            8.4       365         3   \n",
       "\n",
       "                           region_title region  \n",
       "0       One Day Before the Rainy Season    XWW  \n",
       "1                       Ashad Ka Ek Din     IN  \n",
       "2                       One Monsoon Day   None  \n",
       "3                       Ashad Ka Ek Din   None  \n",
       "4               La otra cara del viento     VE  \n",
       "...                                 ...    ...  \n",
       "256559                       Sisterleaf     IN  \n",
       "256560                        Pengalila     IN  \n",
       "256561        Padmavyuhathile Abhimanyu   None  \n",
       "256562       Pathmavyuhathile Abhimanyu     IN  \n",
       "256563       Padmavyoohathile Abhimanyu     IN  \n",
       "\n",
       "[256564 rows x 11 columns]"
      ]
     },
     "execution_count": 19,
     "metadata": {},
     "output_type": "execute_result"
    }
   ],
   "source": [
    "movie_merge = movie_merge.merge(movie_akas_cp, on='movie_id', how='inner')\n",
    "movie_merge = movie_merge.drop_duplicates()\n",
    "\n",
    "movie_merge"
   ]
  },
  {
   "cell_type": "markdown",
   "metadata": {},
   "source": [
    "## PEOPLES MERGE"
   ]
  },
  {
   "cell_type": "code",
   "execution_count": 20,
   "metadata": {},
   "outputs": [
    {
     "name": "stdout",
     "output_type": "stream",
     "text": [
      "(606648, 5)\n",
      "(291174, 2)\n",
      "(1638260, 2)\n",
      "(255873, 2)\n"
     ]
    }
   ],
   "source": [
    "print(imdb_tables['persons'].shape)\n",
    "print(imdb_tables['directors'].shape)\n",
    "print(imdb_tables['known_for'].shape)\n",
    "print(imdb_tables['writers'].shape)"
   ]
  },
  {
   "cell_type": "code",
   "execution_count": 21,
   "metadata": {},
   "outputs": [
    {
     "data": {
      "application/vnd.microsoft.datawrangler.viewer.v0+json": {
       "columns": [
        {
         "name": "index",
         "rawType": "int64",
         "type": "integer"
        },
        {
         "name": "person_id",
         "rawType": "object",
         "type": "string"
        },
        {
         "name": "primary_name",
         "rawType": "object",
         "type": "string"
        },
        {
         "name": "birth_year",
         "rawType": "float64",
         "type": "float"
        },
        {
         "name": "death_year",
         "rawType": "float64",
         "type": "float"
        },
        {
         "name": "primary_profession",
         "rawType": "object",
         "type": "unknown"
        }
       ],
       "ref": "175438a9-ff52-4f8d-9920-38e5baea22f2",
       "rows": [
        [
         "0",
         "nm0061671",
         "Mary Ellen Bauder",
         null,
         null,
         "miscellaneous,production_manager,producer"
        ],
        [
         "1",
         "nm0061865",
         "Joseph Bauer",
         null,
         null,
         "composer,music_department,sound_department"
        ],
        [
         "2",
         "nm0062070",
         "Bruce Baum",
         null,
         null,
         "miscellaneous,actor,writer"
        ],
        [
         "3",
         "nm0062195",
         "Axel Baumann",
         null,
         null,
         "camera_department,cinematographer,art_department"
        ],
        [
         "4",
         "nm0062798",
         "Pete Baxter",
         null,
         null,
         "production_designer,art_department,set_decorator"
        ],
        [
         "5",
         "nm0062879",
         "Ruel S. Bayani",
         null,
         null,
         "director,production_manager,miscellaneous"
        ],
        [
         "6",
         "nm0063198",
         "Bayou",
         null,
         null,
         "actor"
        ],
        [
         "7",
         "nm0063432",
         "Stevie Be-Zet",
         null,
         null,
         "composer,soundtrack"
        ],
        [
         "8",
         "nm0063618",
         "Jeff Beal",
         "1963.0",
         null,
         "composer,music_department,soundtrack"
        ],
        [
         "9",
         "nm0063750",
         "Lindsay Beamish",
         null,
         null,
         "actress,miscellaneous"
        ],
        [
         "10",
         "nm0064023",
         "Bryan Beasley",
         null,
         null,
         "director,producer,writer"
        ],
        [
         "11",
         "nm0064350",
         "Martine Beauchemin",
         null,
         null,
         "producer,production_manager"
        ],
        [
         "12",
         "nm0065847",
         "Michael Frost Beckner",
         "1963.0",
         null,
         "writer,producer,miscellaneous"
        ],
        [
         "13",
         "nm0065919",
         "Will Becton",
         null,
         null,
         "miscellaneous,editor,editorial_department"
        ],
        [
         "14",
         "nm0066093",
         "Ahmad Bedair",
         "1945.0",
         null,
         "actor,miscellaneous"
        ],
        [
         "15",
         "nm0066163",
         "Arnaud Bedouët",
         null,
         null,
         "actor,writer,director"
        ],
        [
         "16",
         "nm0066268",
         "Steve Mitchell Beebe",
         null,
         null,
         "editorial_department,director,editor"
        ],
        [
         "17",
         "nm0066897",
         "Mohammad-Ali Behboudi",
         "1956.0",
         null,
         "actor"
        ],
        [
         "18",
         "nm0067234",
         "Hans Beimler",
         null,
         null,
         "producer,writer,miscellaneous"
        ],
        [
         "19",
         "nm0067845",
         "Sondos Belhassen",
         null,
         null,
         "actress"
        ],
        [
         "20",
         "nm0067983",
         "Krunoslav Belko",
         "1971.0",
         null,
         "actor"
        ],
        [
         "21",
         "nm0068170",
         "Dylan Bell",
         null,
         null,
         "director,actor,producer"
        ],
        [
         "22",
         "nm0068657",
         "Philippe Bellaiche",
         null,
         null,
         "cinematographer,camera_department,producer"
        ],
        [
         "23",
         "nm0068874",
         "Hava Kohav Beller",
         null,
         null,
         "director,writer,producer"
        ],
        [
         "24",
         "nm0069131",
         "Gregg Bello",
         null,
         null,
         "actor,producer"
        ],
        [
         "25",
         "nm0069225",
         "Gavin Bellour",
         null,
         null,
         "actor,producer,composer"
        ],
        [
         "26",
         "nm0069605",
         "Bruno Beltramini",
         null,
         null,
         "cinematographer,visual_effects,camera_department"
        ],
        [
         "27",
         "nm0069757",
         "Olga Belyavskaya",
         null,
         null,
         "actress,miscellaneous"
        ],
        [
         "28",
         "nm0069990",
         "Jorge Ben Jor",
         "1942.0",
         null,
         "soundtrack,composer,actor"
        ],
        [
         "29",
         "nm0070216",
         "John Paul Fedele",
         null,
         null,
         "actor,cinematographer,special_effects"
        ],
        [
         "30",
         "nm0070482",
         "Joel Bender",
         "1948.0",
         null,
         "editor,director,writer"
        ],
        [
         "31",
         "nm0070822",
         "Terry Benedict",
         null,
         null,
         "producer,director,assistant_director"
        ],
        [
         "32",
         "nm0071116",
         "Valérie Benguigui",
         "1961.0",
         "2013.0",
         "actress,soundtrack"
        ],
        [
         "33",
         "nm0072456",
         "Chris Benson",
         "1974.0",
         null,
         "cinematographer,camera_department,producer"
        ],
        [
         "34",
         "nm0072476",
         "Doug Benson",
         "1962.0",
         null,
         "actor,producer,writer"
        ],
        [
         "35",
         "nm0073061",
         "Roberto Benvenuti",
         null,
         null,
         "cinematographer,camera_department,miscellaneous"
        ],
        [
         "36",
         "nm0073146",
         "Gina Lola Benzina",
         null,
         null,
         "actress,make_up_department"
        ],
        [
         "37",
         "nm0073381",
         "Roxana Berco",
         null,
         null,
         "actress"
        ],
        [
         "38",
         "nm0073426",
         "Laxmikant Berde",
         "1954.0",
         "2004.0",
         "actor"
        ],
        [
         "39",
         "nm0074009",
         "Richard Berge",
         null,
         null,
         "producer,miscellaneous,writer"
        ],
        [
         "40",
         "nm0074445",
         "Jean-François Bergeron",
         null,
         null,
         "editor,editorial_department,actor"
        ],
        [
         "41",
         "nm0075049",
         "Urban Bergsten",
         null,
         null,
         "actor,writer,director"
        ],
        [
         "42",
         "nm0075666",
         "Joe Berlinger",
         "1961.0",
         null,
         "producer,director,camera_department"
        ],
        [
         "43",
         "nm0076139",
         "Andrée Bernard",
         "1966.0",
         null,
         "actress"
        ],
        [
         "44",
         "nm0076559",
         "Carlos Bernases",
         null,
         null,
         "production_manager,producer,casting_department"
        ],
        [
         "45",
         "nm0077024",
         "Daniel Bernstein",
         null,
         null,
         "composer,sound_department"
        ],
        [
         "46",
         "nm0077067",
         "Jamie Bernstein",
         "1952.0",
         null,
         "director,actress,writer"
        ],
        [
         "47",
         "nm0080566",
         "Martín Bianchedi",
         "1955.0",
         null,
         "composer,music_department,sound_department"
        ],
        [
         "48",
         "nm0080787",
         "Dusty Bias",
         null,
         null,
         "writer,director,producer"
        ],
        [
         "49",
         "nm0081060",
         "Grace Cary Bickley",
         null,
         null,
         "writer,actress,producer"
        ]
       ],
       "shape": {
        "columns": 5,
        "rows": 606648
       }
      },
      "text/html": [
       "<div>\n",
       "<style scoped>\n",
       "    .dataframe tbody tr th:only-of-type {\n",
       "        vertical-align: middle;\n",
       "    }\n",
       "\n",
       "    .dataframe tbody tr th {\n",
       "        vertical-align: top;\n",
       "    }\n",
       "\n",
       "    .dataframe thead th {\n",
       "        text-align: right;\n",
       "    }\n",
       "</style>\n",
       "<table border=\"1\" class=\"dataframe\">\n",
       "  <thead>\n",
       "    <tr style=\"text-align: right;\">\n",
       "      <th></th>\n",
       "      <th>person_id</th>\n",
       "      <th>primary_name</th>\n",
       "      <th>birth_year</th>\n",
       "      <th>death_year</th>\n",
       "      <th>primary_profession</th>\n",
       "    </tr>\n",
       "  </thead>\n",
       "  <tbody>\n",
       "    <tr>\n",
       "      <th>0</th>\n",
       "      <td>nm0061671</td>\n",
       "      <td>Mary Ellen Bauder</td>\n",
       "      <td>NaN</td>\n",
       "      <td>NaN</td>\n",
       "      <td>miscellaneous,production_manager,producer</td>\n",
       "    </tr>\n",
       "    <tr>\n",
       "      <th>1</th>\n",
       "      <td>nm0061865</td>\n",
       "      <td>Joseph Bauer</td>\n",
       "      <td>NaN</td>\n",
       "      <td>NaN</td>\n",
       "      <td>composer,music_department,sound_department</td>\n",
       "    </tr>\n",
       "    <tr>\n",
       "      <th>2</th>\n",
       "      <td>nm0062070</td>\n",
       "      <td>Bruce Baum</td>\n",
       "      <td>NaN</td>\n",
       "      <td>NaN</td>\n",
       "      <td>miscellaneous,actor,writer</td>\n",
       "    </tr>\n",
       "    <tr>\n",
       "      <th>3</th>\n",
       "      <td>nm0062195</td>\n",
       "      <td>Axel Baumann</td>\n",
       "      <td>NaN</td>\n",
       "      <td>NaN</td>\n",
       "      <td>camera_department,cinematographer,art_department</td>\n",
       "    </tr>\n",
       "    <tr>\n",
       "      <th>4</th>\n",
       "      <td>nm0062798</td>\n",
       "      <td>Pete Baxter</td>\n",
       "      <td>NaN</td>\n",
       "      <td>NaN</td>\n",
       "      <td>production_designer,art_department,set_decorator</td>\n",
       "    </tr>\n",
       "    <tr>\n",
       "      <th>...</th>\n",
       "      <td>...</td>\n",
       "      <td>...</td>\n",
       "      <td>...</td>\n",
       "      <td>...</td>\n",
       "      <td>...</td>\n",
       "    </tr>\n",
       "    <tr>\n",
       "      <th>606643</th>\n",
       "      <td>nm9990381</td>\n",
       "      <td>Susan Grobes</td>\n",
       "      <td>NaN</td>\n",
       "      <td>NaN</td>\n",
       "      <td>actress</td>\n",
       "    </tr>\n",
       "    <tr>\n",
       "      <th>606644</th>\n",
       "      <td>nm9990690</td>\n",
       "      <td>Joo Yeon So</td>\n",
       "      <td>NaN</td>\n",
       "      <td>NaN</td>\n",
       "      <td>actress</td>\n",
       "    </tr>\n",
       "    <tr>\n",
       "      <th>606645</th>\n",
       "      <td>nm9991320</td>\n",
       "      <td>Madeline Smith</td>\n",
       "      <td>NaN</td>\n",
       "      <td>NaN</td>\n",
       "      <td>actress</td>\n",
       "    </tr>\n",
       "    <tr>\n",
       "      <th>606646</th>\n",
       "      <td>nm9991786</td>\n",
       "      <td>Michelle Modigliani</td>\n",
       "      <td>NaN</td>\n",
       "      <td>NaN</td>\n",
       "      <td>producer</td>\n",
       "    </tr>\n",
       "    <tr>\n",
       "      <th>606647</th>\n",
       "      <td>nm9993380</td>\n",
       "      <td>Pegasus Envoyé</td>\n",
       "      <td>NaN</td>\n",
       "      <td>NaN</td>\n",
       "      <td>director,actor,writer</td>\n",
       "    </tr>\n",
       "  </tbody>\n",
       "</table>\n",
       "<p>606648 rows × 5 columns</p>\n",
       "</div>"
      ],
      "text/plain": [
       "        person_id         primary_name  birth_year  death_year  \\\n",
       "0       nm0061671    Mary Ellen Bauder         NaN         NaN   \n",
       "1       nm0061865         Joseph Bauer         NaN         NaN   \n",
       "2       nm0062070           Bruce Baum         NaN         NaN   \n",
       "3       nm0062195         Axel Baumann         NaN         NaN   \n",
       "4       nm0062798          Pete Baxter         NaN         NaN   \n",
       "...           ...                  ...         ...         ...   \n",
       "606643  nm9990381         Susan Grobes         NaN         NaN   \n",
       "606644  nm9990690          Joo Yeon So         NaN         NaN   \n",
       "606645  nm9991320       Madeline Smith         NaN         NaN   \n",
       "606646  nm9991786  Michelle Modigliani         NaN         NaN   \n",
       "606647  nm9993380       Pegasus Envoyé         NaN         NaN   \n",
       "\n",
       "                                      primary_profession  \n",
       "0              miscellaneous,production_manager,producer  \n",
       "1             composer,music_department,sound_department  \n",
       "2                             miscellaneous,actor,writer  \n",
       "3       camera_department,cinematographer,art_department  \n",
       "4       production_designer,art_department,set_decorator  \n",
       "...                                                  ...  \n",
       "606643                                           actress  \n",
       "606644                                           actress  \n",
       "606645                                           actress  \n",
       "606646                                          producer  \n",
       "606647                             director,actor,writer  \n",
       "\n",
       "[606648 rows x 5 columns]"
      ]
     },
     "execution_count": 21,
     "metadata": {},
     "output_type": "execute_result"
    }
   ],
   "source": [
    "persons_cp= imdb_tables[\"persons\"].copy(deep=True)\n",
    "persons_cp"
   ]
  },
  {
   "cell_type": "code",
   "execution_count": 22,
   "metadata": {},
   "outputs": [
    {
     "name": "stdout",
     "output_type": "stream",
     "text": [
      "<class 'pandas.core.frame.DataFrame'>\n",
      "RangeIndex: 606648 entries, 0 to 606647\n",
      "Data columns (total 5 columns):\n",
      " #   Column              Non-Null Count   Dtype  \n",
      "---  ------              --------------   -----  \n",
      " 0   person_id           606648 non-null  object \n",
      " 1   primary_name        606648 non-null  object \n",
      " 2   birth_year          82736 non-null   float64\n",
      " 3   death_year          6783 non-null    float64\n",
      " 4   primary_profession  555308 non-null  object \n",
      "dtypes: float64(2), object(3)\n",
      "memory usage: 23.1+ MB\n",
      "person_id                  0\n",
      "primary_name               0\n",
      "birth_year            523912\n",
      "death_year            599865\n",
      "primary_profession     51340\n",
      "dtype: int64\n"
     ]
    }
   ],
   "source": [
    "persons_cp.shape\n",
    "persons_cp.head()\n",
    "persons_cp.info()\n",
    "persons_cp.describe()\n",
    "print(persons_cp.isna().sum())"
   ]
  },
  {
   "cell_type": "code",
   "execution_count": 23,
   "metadata": {},
   "outputs": [
    {
     "data": {
      "application/vnd.microsoft.datawrangler.viewer.v0+json": {
       "columns": [
        {
         "name": "index",
         "rawType": "object",
         "type": "string"
        },
        {
         "name": "0",
         "rawType": "int64",
         "type": "integer"
        }
       ],
       "ref": "d26e14f4-99cc-46b7-ab33-3595d7e84930",
       "rows": [
        [
         "person_id",
         "0"
        ],
        [
         "primary_name",
         "0"
        ],
        [
         "birth_year",
         "523912"
        ],
        [
         "death_year",
         "599865"
        ],
        [
         "primary_profession",
         "51340"
        ]
       ],
       "shape": {
        "columns": 1,
        "rows": 5
       }
      },
      "text/plain": [
       "person_id                  0\n",
       "primary_name               0\n",
       "birth_year            523912\n",
       "death_year            599865\n",
       "primary_profession     51340\n",
       "dtype: int64"
      ]
     },
     "execution_count": 23,
     "metadata": {},
     "output_type": "execute_result"
    }
   ],
   "source": [
    "persons_cp['primary_profession'].fillna('unknown')\n",
    "persons_cp.isnull().sum()"
   ]
  },
  {
   "cell_type": "code",
   "execution_count": 24,
   "metadata": {},
   "outputs": [],
   "source": [
    "persons_cp = persons_cp.drop(columns=['birth_year', 'death_year'])"
   ]
  },
  {
   "cell_type": "code",
   "execution_count": 25,
   "metadata": {},
   "outputs": [
    {
     "data": {
      "application/vnd.microsoft.datawrangler.viewer.v0+json": {
       "columns": [
        {
         "name": "index",
         "rawType": "int64",
         "type": "integer"
        },
        {
         "name": "person_id",
         "rawType": "object",
         "type": "string"
        },
        {
         "name": "primary_name",
         "rawType": "object",
         "type": "string"
        },
        {
         "name": "primary_profession",
         "rawType": "object",
         "type": "unknown"
        }
       ],
       "ref": "3267e164-ca22-4e06-887b-a830ec0e528b",
       "rows": [
        [
         "0",
         "nm0061671",
         "Mary Ellen Bauder",
         "miscellaneous,production_manager,producer"
        ],
        [
         "1",
         "nm0061865",
         "Joseph Bauer",
         "composer,music_department,sound_department"
        ],
        [
         "2",
         "nm0062070",
         "Bruce Baum",
         "miscellaneous,actor,writer"
        ],
        [
         "3",
         "nm0062195",
         "Axel Baumann",
         "camera_department,cinematographer,art_department"
        ],
        [
         "4",
         "nm0062798",
         "Pete Baxter",
         "production_designer,art_department,set_decorator"
        ],
        [
         "5",
         "nm0062879",
         "Ruel S. Bayani",
         "director,production_manager,miscellaneous"
        ],
        [
         "6",
         "nm0063198",
         "Bayou",
         "actor"
        ],
        [
         "7",
         "nm0063432",
         "Stevie Be-Zet",
         "composer,soundtrack"
        ],
        [
         "8",
         "nm0063618",
         "Jeff Beal",
         "composer,music_department,soundtrack"
        ],
        [
         "9",
         "nm0063750",
         "Lindsay Beamish",
         "actress,miscellaneous"
        ],
        [
         "10",
         "nm0064023",
         "Bryan Beasley",
         "director,producer,writer"
        ],
        [
         "11",
         "nm0064350",
         "Martine Beauchemin",
         "producer,production_manager"
        ],
        [
         "12",
         "nm0065847",
         "Michael Frost Beckner",
         "writer,producer,miscellaneous"
        ],
        [
         "13",
         "nm0065919",
         "Will Becton",
         "miscellaneous,editor,editorial_department"
        ],
        [
         "14",
         "nm0066093",
         "Ahmad Bedair",
         "actor,miscellaneous"
        ],
        [
         "15",
         "nm0066163",
         "Arnaud Bedouët",
         "actor,writer,director"
        ],
        [
         "16",
         "nm0066268",
         "Steve Mitchell Beebe",
         "editorial_department,director,editor"
        ],
        [
         "17",
         "nm0066897",
         "Mohammad-Ali Behboudi",
         "actor"
        ],
        [
         "18",
         "nm0067234",
         "Hans Beimler",
         "producer,writer,miscellaneous"
        ],
        [
         "19",
         "nm0067845",
         "Sondos Belhassen",
         "actress"
        ],
        [
         "20",
         "nm0067983",
         "Krunoslav Belko",
         "actor"
        ],
        [
         "21",
         "nm0068170",
         "Dylan Bell",
         "director,actor,producer"
        ],
        [
         "22",
         "nm0068657",
         "Philippe Bellaiche",
         "cinematographer,camera_department,producer"
        ],
        [
         "23",
         "nm0068874",
         "Hava Kohav Beller",
         "director,writer,producer"
        ],
        [
         "24",
         "nm0069131",
         "Gregg Bello",
         "actor,producer"
        ],
        [
         "25",
         "nm0069225",
         "Gavin Bellour",
         "actor,producer,composer"
        ],
        [
         "26",
         "nm0069605",
         "Bruno Beltramini",
         "cinematographer,visual_effects,camera_department"
        ],
        [
         "27",
         "nm0069757",
         "Olga Belyavskaya",
         "actress,miscellaneous"
        ],
        [
         "28",
         "nm0069990",
         "Jorge Ben Jor",
         "soundtrack,composer,actor"
        ],
        [
         "29",
         "nm0070216",
         "John Paul Fedele",
         "actor,cinematographer,special_effects"
        ],
        [
         "30",
         "nm0070482",
         "Joel Bender",
         "editor,director,writer"
        ],
        [
         "31",
         "nm0070822",
         "Terry Benedict",
         "producer,director,assistant_director"
        ],
        [
         "32",
         "nm0071116",
         "Valérie Benguigui",
         "actress,soundtrack"
        ],
        [
         "33",
         "nm0072456",
         "Chris Benson",
         "cinematographer,camera_department,producer"
        ],
        [
         "34",
         "nm0072476",
         "Doug Benson",
         "actor,producer,writer"
        ],
        [
         "35",
         "nm0073061",
         "Roberto Benvenuti",
         "cinematographer,camera_department,miscellaneous"
        ],
        [
         "36",
         "nm0073146",
         "Gina Lola Benzina",
         "actress,make_up_department"
        ],
        [
         "37",
         "nm0073381",
         "Roxana Berco",
         "actress"
        ],
        [
         "38",
         "nm0073426",
         "Laxmikant Berde",
         "actor"
        ],
        [
         "39",
         "nm0074009",
         "Richard Berge",
         "producer,miscellaneous,writer"
        ],
        [
         "40",
         "nm0074445",
         "Jean-François Bergeron",
         "editor,editorial_department,actor"
        ],
        [
         "41",
         "nm0075049",
         "Urban Bergsten",
         "actor,writer,director"
        ],
        [
         "42",
         "nm0075666",
         "Joe Berlinger",
         "producer,director,camera_department"
        ],
        [
         "43",
         "nm0076139",
         "Andrée Bernard",
         "actress"
        ],
        [
         "44",
         "nm0076559",
         "Carlos Bernases",
         "production_manager,producer,casting_department"
        ],
        [
         "45",
         "nm0077024",
         "Daniel Bernstein",
         "composer,sound_department"
        ],
        [
         "46",
         "nm0077067",
         "Jamie Bernstein",
         "director,actress,writer"
        ],
        [
         "47",
         "nm0080566",
         "Martín Bianchedi",
         "composer,music_department,sound_department"
        ],
        [
         "48",
         "nm0080787",
         "Dusty Bias",
         "writer,director,producer"
        ],
        [
         "49",
         "nm0081060",
         "Grace Cary Bickley",
         "writer,actress,producer"
        ]
       ],
       "shape": {
        "columns": 3,
        "rows": 606648
       }
      },
      "text/html": [
       "<div>\n",
       "<style scoped>\n",
       "    .dataframe tbody tr th:only-of-type {\n",
       "        vertical-align: middle;\n",
       "    }\n",
       "\n",
       "    .dataframe tbody tr th {\n",
       "        vertical-align: top;\n",
       "    }\n",
       "\n",
       "    .dataframe thead th {\n",
       "        text-align: right;\n",
       "    }\n",
       "</style>\n",
       "<table border=\"1\" class=\"dataframe\">\n",
       "  <thead>\n",
       "    <tr style=\"text-align: right;\">\n",
       "      <th></th>\n",
       "      <th>person_id</th>\n",
       "      <th>primary_name</th>\n",
       "      <th>primary_profession</th>\n",
       "    </tr>\n",
       "  </thead>\n",
       "  <tbody>\n",
       "    <tr>\n",
       "      <th>0</th>\n",
       "      <td>nm0061671</td>\n",
       "      <td>Mary Ellen Bauder</td>\n",
       "      <td>miscellaneous,production_manager,producer</td>\n",
       "    </tr>\n",
       "    <tr>\n",
       "      <th>1</th>\n",
       "      <td>nm0061865</td>\n",
       "      <td>Joseph Bauer</td>\n",
       "      <td>composer,music_department,sound_department</td>\n",
       "    </tr>\n",
       "    <tr>\n",
       "      <th>2</th>\n",
       "      <td>nm0062070</td>\n",
       "      <td>Bruce Baum</td>\n",
       "      <td>miscellaneous,actor,writer</td>\n",
       "    </tr>\n",
       "    <tr>\n",
       "      <th>3</th>\n",
       "      <td>nm0062195</td>\n",
       "      <td>Axel Baumann</td>\n",
       "      <td>camera_department,cinematographer,art_department</td>\n",
       "    </tr>\n",
       "    <tr>\n",
       "      <th>4</th>\n",
       "      <td>nm0062798</td>\n",
       "      <td>Pete Baxter</td>\n",
       "      <td>production_designer,art_department,set_decorator</td>\n",
       "    </tr>\n",
       "    <tr>\n",
       "      <th>...</th>\n",
       "      <td>...</td>\n",
       "      <td>...</td>\n",
       "      <td>...</td>\n",
       "    </tr>\n",
       "    <tr>\n",
       "      <th>606643</th>\n",
       "      <td>nm9990381</td>\n",
       "      <td>Susan Grobes</td>\n",
       "      <td>actress</td>\n",
       "    </tr>\n",
       "    <tr>\n",
       "      <th>606644</th>\n",
       "      <td>nm9990690</td>\n",
       "      <td>Joo Yeon So</td>\n",
       "      <td>actress</td>\n",
       "    </tr>\n",
       "    <tr>\n",
       "      <th>606645</th>\n",
       "      <td>nm9991320</td>\n",
       "      <td>Madeline Smith</td>\n",
       "      <td>actress</td>\n",
       "    </tr>\n",
       "    <tr>\n",
       "      <th>606646</th>\n",
       "      <td>nm9991786</td>\n",
       "      <td>Michelle Modigliani</td>\n",
       "      <td>producer</td>\n",
       "    </tr>\n",
       "    <tr>\n",
       "      <th>606647</th>\n",
       "      <td>nm9993380</td>\n",
       "      <td>Pegasus Envoyé</td>\n",
       "      <td>director,actor,writer</td>\n",
       "    </tr>\n",
       "  </tbody>\n",
       "</table>\n",
       "<p>606648 rows × 3 columns</p>\n",
       "</div>"
      ],
      "text/plain": [
       "        person_id         primary_name  \\\n",
       "0       nm0061671    Mary Ellen Bauder   \n",
       "1       nm0061865         Joseph Bauer   \n",
       "2       nm0062070           Bruce Baum   \n",
       "3       nm0062195         Axel Baumann   \n",
       "4       nm0062798          Pete Baxter   \n",
       "...           ...                  ...   \n",
       "606643  nm9990381         Susan Grobes   \n",
       "606644  nm9990690          Joo Yeon So   \n",
       "606645  nm9991320       Madeline Smith   \n",
       "606646  nm9991786  Michelle Modigliani   \n",
       "606647  nm9993380       Pegasus Envoyé   \n",
       "\n",
       "                                      primary_profession  \n",
       "0              miscellaneous,production_manager,producer  \n",
       "1             composer,music_department,sound_department  \n",
       "2                             miscellaneous,actor,writer  \n",
       "3       camera_department,cinematographer,art_department  \n",
       "4       production_designer,art_department,set_decorator  \n",
       "...                                                  ...  \n",
       "606643                                           actress  \n",
       "606644                                           actress  \n",
       "606645                                           actress  \n",
       "606646                                          producer  \n",
       "606647                             director,actor,writer  \n",
       "\n",
       "[606648 rows x 3 columns]"
      ]
     },
     "execution_count": 25,
     "metadata": {},
     "output_type": "execute_result"
    }
   ],
   "source": [
    "persons_cp"
   ]
  },
  {
   "cell_type": "code",
   "execution_count": 26,
   "metadata": {},
   "outputs": [
    {
     "name": "stdout",
     "output_type": "stream",
     "text": [
      "<class 'pandas.core.frame.DataFrame'>\n",
      "RangeIndex: 291174 entries, 0 to 291173\n",
      "Data columns (total 2 columns):\n",
      " #   Column     Non-Null Count   Dtype \n",
      "---  ------     --------------   ----- \n",
      " 0   movie_id   291174 non-null  object\n",
      " 1   person_id  291174 non-null  object\n",
      "dtypes: object(2)\n",
      "memory usage: 4.4+ MB\n"
     ]
    }
   ],
   "source": [
    "directors = imdb_tables['directors']\n",
    "directors.shape\n",
    "directors.isna().any()\n",
    "directors.duplicated().sum()\n",
    "directors.info()"
   ]
  },
  {
   "cell_type": "code",
   "execution_count": 27,
   "metadata": {},
   "outputs": [],
   "source": [
    "directors_cp = directors.copy(deep=True)"
   ]
  },
  {
   "cell_type": "code",
   "execution_count": 28,
   "metadata": {},
   "outputs": [
    {
     "data": {
      "application/vnd.microsoft.datawrangler.viewer.v0+json": {
       "columns": [
        {
         "name": "index",
         "rawType": "int64",
         "type": "integer"
        },
        {
         "name": "person_id",
         "rawType": "object",
         "type": "string"
        },
        {
         "name": "primary_name",
         "rawType": "object",
         "type": "string"
        },
        {
         "name": "primary_profession",
         "rawType": "object",
         "type": "unknown"
        },
        {
         "name": "movie_id",
         "rawType": "object",
         "type": "string"
        }
       ],
       "ref": "b98dc34d-a594-4f3e-be59-3b9cfe807019",
       "rows": [
        [
         "0",
         "nm0062879",
         "Ruel S. Bayani",
         "director,production_manager,miscellaneous",
         "tt1592569"
        ],
        [
         "1",
         "nm0062879",
         "Ruel S. Bayani",
         "director,production_manager,miscellaneous",
         "tt1592569"
        ],
        [
         "2",
         "nm0062879",
         "Ruel S. Bayani",
         "director,production_manager,miscellaneous",
         "tt1592569"
        ],
        [
         "3",
         "nm0062879",
         "Ruel S. Bayani",
         "director,production_manager,miscellaneous",
         "tt1592569"
        ],
        [
         "4",
         "nm0062879",
         "Ruel S. Bayani",
         "director,production_manager,miscellaneous",
         "tt8421806"
        ],
        [
         "5",
         "nm0062879",
         "Ruel S. Bayani",
         "director,production_manager,miscellaneous",
         "tt8421806"
        ],
        [
         "6",
         "nm0062879",
         "Ruel S. Bayani",
         "director,production_manager,miscellaneous",
         "tt2057445"
        ],
        [
         "7",
         "nm0062879",
         "Ruel S. Bayani",
         "director,production_manager,miscellaneous",
         "tt2057445"
        ],
        [
         "8",
         "nm0062879",
         "Ruel S. Bayani",
         "director,production_manager,miscellaneous",
         "tt2057445"
        ],
        [
         "9",
         "nm0062879",
         "Ruel S. Bayani",
         "director,production_manager,miscellaneous",
         "tt2590280"
        ],
        [
         "10",
         "nm0064023",
         "Bryan Beasley",
         "director,producer,writer",
         "tt4512140"
        ],
        [
         "11",
         "nm0064023",
         "Bryan Beasley",
         "director,producer,writer",
         "tt3501180"
        ],
        [
         "12",
         "nm0066268",
         "Steve Mitchell Beebe",
         "editorial_department,director,editor",
         "tt5521860"
        ],
        [
         "13",
         "nm0067234",
         "Hans Beimler",
         "producer,writer,miscellaneous",
         "tt2098699"
        ],
        [
         "14",
         "nm0068874",
         "Hava Kohav Beller",
         "director,writer,producer",
         "tt7701650"
        ],
        [
         "15",
         "nm0070482",
         "Joel Bender",
         "editor,director,writer",
         "tt1016090"
        ],
        [
         "16",
         "nm0070482",
         "Joel Bender",
         "editor,director,writer",
         "tt3790232"
        ],
        [
         "17",
         "nm0070482",
         "Joel Bender",
         "editor,director,writer",
         "tt3790232"
        ],
        [
         "18",
         "nm0075666",
         "Joe Berlinger",
         "producer,director,camera_department",
         "tt5151716"
        ],
        [
         "19",
         "nm0075666",
         "Joe Berlinger",
         "producer,director,camera_department",
         "tt2112868"
        ],
        [
         "20",
         "nm0075666",
         "Joe Berlinger",
         "producer,director,camera_department",
         "tt2028530"
        ],
        [
         "21",
         "nm0075666",
         "Joe Berlinger",
         "producer,director,camera_department",
         "tt2481498"
        ],
        [
         "22",
         "nm0075666",
         "Joe Berlinger",
         "producer,director,camera_department",
         "tt2481498"
        ],
        [
         "23",
         "nm0075666",
         "Joe Berlinger",
         "producer,director,camera_department",
         "tt6794462"
        ],
        [
         "24",
         "nm0075666",
         "Joe Berlinger",
         "producer,director,camera_department",
         "tt6794462"
        ],
        [
         "25",
         "nm0075666",
         "Joe Berlinger",
         "producer,director,camera_department",
         "tt4104086"
        ],
        [
         "26",
         "nm0075666",
         "Joe Berlinger",
         "producer,director,camera_department",
         "tt4104086"
        ],
        [
         "27",
         "nm0075666",
         "Joe Berlinger",
         "producer,director,camera_department",
         "tt4104086"
        ],
        [
         "28",
         "nm0075666",
         "Joe Berlinger",
         "producer,director,camera_department",
         "tt4104086"
        ],
        [
         "29",
         "nm0075666",
         "Joe Berlinger",
         "producer,director,camera_department",
         "tt3326366"
        ],
        [
         "30",
         "nm0075666",
         "Joe Berlinger",
         "producer,director,camera_department",
         "tt3137552"
        ],
        [
         "31",
         "nm0077067",
         "Jamie Bernstein",
         "director,actress,writer",
         "tt4601198"
        ],
        [
         "32",
         "nm0077067",
         "Jamie Bernstein",
         "director,actress,writer",
         "tt3909442"
        ],
        [
         "33",
         "nm0080787",
         "Dusty Bias",
         "writer,director,producer",
         "tt4794754"
        ],
        [
         "34",
         "nm0080787",
         "Dusty Bias",
         "writer,director,producer",
         "tt1374996"
        ],
        [
         "35",
         "nm0080787",
         "Dusty Bias",
         "writer,director,producer",
         "tt1374996"
        ],
        [
         "36",
         "nm0080787",
         "Dusty Bias",
         "writer,director,producer",
         "tt1374996"
        ],
        [
         "37",
         "nm0082154",
         "Miro Bilbrough",
         "miscellaneous,director,writer",
         "tt2012110"
        ],
        [
         "38",
         "nm0083767",
         "Fernando Birri",
         "director,actor,writer",
         "tt1854526"
        ],
        [
         "39",
         "nm0083767",
         "Fernando Birri",
         "director,actor,writer",
         "tt1854526"
        ],
        [
         "40",
         "nm0083767",
         "Fernando Birri",
         "director,actor,writer",
         "tt1854526"
        ],
        [
         "41",
         "nm0086051",
         "Bob Blagden",
         "director,art_department,writer",
         "tt1712204"
        ],
        [
         "42",
         "nm0086051",
         "Bob Blagden",
         "director,art_department,writer",
         "tt1712204"
        ],
        [
         "43",
         "nm0087933",
         "Jacek Blawut",
         "cinematographer,miscellaneous,director",
         "tt2508838"
        ],
        [
         "44",
         "nm0088531",
         "Ryan Bliss",
         "director,writer,producer",
         "tt6550978"
        ],
        [
         "45",
         "nm0088888",
         "Eric Blom",
         "director,camera_department,writer",
         "tt8407740"
        ],
        [
         "46",
         "nm0088888",
         "Eric Blom",
         "director,camera_department,writer",
         "tt8407740"
        ],
        [
         "47",
         "nm0088888",
         "Eric Blom",
         "director,camera_department,writer",
         "tt8407740"
        ],
        [
         "48",
         "nm0089850",
         "Lars Blumers",
         "director,writer,producer",
         "tt1825703"
        ],
        [
         "49",
         "nm0089850",
         "Lars Blumers",
         "director,writer,producer",
         "tt1825703"
        ]
       ],
       "shape": {
        "columns": 4,
        "rows": 291171
       }
      },
      "text/html": [
       "<div>\n",
       "<style scoped>\n",
       "    .dataframe tbody tr th:only-of-type {\n",
       "        vertical-align: middle;\n",
       "    }\n",
       "\n",
       "    .dataframe tbody tr th {\n",
       "        vertical-align: top;\n",
       "    }\n",
       "\n",
       "    .dataframe thead th {\n",
       "        text-align: right;\n",
       "    }\n",
       "</style>\n",
       "<table border=\"1\" class=\"dataframe\">\n",
       "  <thead>\n",
       "    <tr style=\"text-align: right;\">\n",
       "      <th></th>\n",
       "      <th>person_id</th>\n",
       "      <th>primary_name</th>\n",
       "      <th>primary_profession</th>\n",
       "      <th>movie_id</th>\n",
       "    </tr>\n",
       "  </thead>\n",
       "  <tbody>\n",
       "    <tr>\n",
       "      <th>0</th>\n",
       "      <td>nm0062879</td>\n",
       "      <td>Ruel S. Bayani</td>\n",
       "      <td>director,production_manager,miscellaneous</td>\n",
       "      <td>tt1592569</td>\n",
       "    </tr>\n",
       "    <tr>\n",
       "      <th>1</th>\n",
       "      <td>nm0062879</td>\n",
       "      <td>Ruel S. Bayani</td>\n",
       "      <td>director,production_manager,miscellaneous</td>\n",
       "      <td>tt1592569</td>\n",
       "    </tr>\n",
       "    <tr>\n",
       "      <th>2</th>\n",
       "      <td>nm0062879</td>\n",
       "      <td>Ruel S. Bayani</td>\n",
       "      <td>director,production_manager,miscellaneous</td>\n",
       "      <td>tt1592569</td>\n",
       "    </tr>\n",
       "    <tr>\n",
       "      <th>3</th>\n",
       "      <td>nm0062879</td>\n",
       "      <td>Ruel S. Bayani</td>\n",
       "      <td>director,production_manager,miscellaneous</td>\n",
       "      <td>tt1592569</td>\n",
       "    </tr>\n",
       "    <tr>\n",
       "      <th>4</th>\n",
       "      <td>nm0062879</td>\n",
       "      <td>Ruel S. Bayani</td>\n",
       "      <td>director,production_manager,miscellaneous</td>\n",
       "      <td>tt8421806</td>\n",
       "    </tr>\n",
       "    <tr>\n",
       "      <th>...</th>\n",
       "      <td>...</td>\n",
       "      <td>...</td>\n",
       "      <td>...</td>\n",
       "      <td>...</td>\n",
       "    </tr>\n",
       "    <tr>\n",
       "      <th>291166</th>\n",
       "      <td>nm9980896</td>\n",
       "      <td>Rama Narayanan</td>\n",
       "      <td>director,writer</td>\n",
       "      <td>tt8715016</td>\n",
       "    </tr>\n",
       "    <tr>\n",
       "      <th>291167</th>\n",
       "      <td>nm9980896</td>\n",
       "      <td>Rama Narayanan</td>\n",
       "      <td>director,writer</td>\n",
       "      <td>tt8919136</td>\n",
       "    </tr>\n",
       "    <tr>\n",
       "      <th>291168</th>\n",
       "      <td>nm9981679</td>\n",
       "      <td>Samir Eshra</td>\n",
       "      <td>director,writer,cinematographer</td>\n",
       "      <td>tt8717234</td>\n",
       "    </tr>\n",
       "    <tr>\n",
       "      <th>291169</th>\n",
       "      <td>nm9993380</td>\n",
       "      <td>Pegasus Envoyé</td>\n",
       "      <td>director,actor,writer</td>\n",
       "      <td>tt8743182</td>\n",
       "    </tr>\n",
       "    <tr>\n",
       "      <th>291170</th>\n",
       "      <td>nm9993380</td>\n",
       "      <td>Pegasus Envoyé</td>\n",
       "      <td>director,actor,writer</td>\n",
       "      <td>tt8743182</td>\n",
       "    </tr>\n",
       "  </tbody>\n",
       "</table>\n",
       "<p>291171 rows × 4 columns</p>\n",
       "</div>"
      ],
      "text/plain": [
       "        person_id    primary_name                         primary_profession  \\\n",
       "0       nm0062879  Ruel S. Bayani  director,production_manager,miscellaneous   \n",
       "1       nm0062879  Ruel S. Bayani  director,production_manager,miscellaneous   \n",
       "2       nm0062879  Ruel S. Bayani  director,production_manager,miscellaneous   \n",
       "3       nm0062879  Ruel S. Bayani  director,production_manager,miscellaneous   \n",
       "4       nm0062879  Ruel S. Bayani  director,production_manager,miscellaneous   \n",
       "...           ...             ...                                        ...   \n",
       "291166  nm9980896  Rama Narayanan                            director,writer   \n",
       "291167  nm9980896  Rama Narayanan                            director,writer   \n",
       "291168  nm9981679     Samir Eshra            director,writer,cinematographer   \n",
       "291169  nm9993380  Pegasus Envoyé                      director,actor,writer   \n",
       "291170  nm9993380  Pegasus Envoyé                      director,actor,writer   \n",
       "\n",
       "         movie_id  \n",
       "0       tt1592569  \n",
       "1       tt1592569  \n",
       "2       tt1592569  \n",
       "3       tt1592569  \n",
       "4       tt8421806  \n",
       "...           ...  \n",
       "291166  tt8715016  \n",
       "291167  tt8919136  \n",
       "291168  tt8717234  \n",
       "291169  tt8743182  \n",
       "291170  tt8743182  \n",
       "\n",
       "[291171 rows x 4 columns]"
      ]
     },
     "execution_count": 28,
     "metadata": {},
     "output_type": "execute_result"
    }
   ],
   "source": [
    "people_merge = persons_cp.merge(directors_cp, on='person_id', how='inner')\n",
    "people_merge"
   ]
  },
  {
   "cell_type": "code",
   "execution_count": 29,
   "metadata": {},
   "outputs": [
    {
     "data": {
      "application/vnd.microsoft.datawrangler.viewer.v0+json": {
       "columns": [
        {
         "name": "index",
         "rawType": "int64",
         "type": "integer"
        },
        {
         "name": "person_id",
         "rawType": "object",
         "type": "string"
        },
        {
         "name": "movie_id",
         "rawType": "object",
         "type": "string"
        }
       ],
       "ref": "5e6e428e-37ae-4d4a-99da-26609b28633e",
       "rows": [
        [
         "0",
         "nm0061671",
         "tt0837562"
        ],
        [
         "1",
         "nm0061671",
         "tt2398241"
        ],
        [
         "2",
         "nm0061671",
         "tt0844471"
        ],
        [
         "3",
         "nm0061671",
         "tt0118553"
        ],
        [
         "4",
         "nm0061865",
         "tt0896534"
        ],
        [
         "5",
         "nm0061865",
         "tt6791238"
        ],
        [
         "6",
         "nm0061865",
         "tt0287072"
        ],
        [
         "7",
         "nm0061865",
         "tt1682940"
        ],
        [
         "8",
         "nm0062070",
         "tt1470654"
        ],
        [
         "9",
         "nm0062070",
         "tt0363631"
        ],
        [
         "10",
         "nm0062070",
         "tt0104030"
        ],
        [
         "11",
         "nm0062070",
         "tt0102898"
        ],
        [
         "12",
         "nm0062195",
         "tt0114371"
        ],
        [
         "13",
         "nm0062195",
         "tt2004304"
        ],
        [
         "14",
         "nm0062195",
         "tt1618448"
        ],
        [
         "15",
         "nm0062195",
         "tt1224387"
        ],
        [
         "16",
         "nm0062798",
         "tt0452644"
        ],
        [
         "17",
         "nm0062798",
         "tt0452692"
        ],
        [
         "18",
         "nm0062798",
         "tt3458030"
        ],
        [
         "19",
         "nm0062798",
         "tt2178256"
        ],
        [
         "20",
         "nm0062879",
         "tt2590280"
        ],
        [
         "21",
         "nm0062879",
         "tt0352080"
        ],
        [
         "22",
         "nm0062879",
         "tt0216559"
        ],
        [
         "23",
         "nm0062879",
         "tt2057445"
        ],
        [
         "24",
         "nm0063198",
         "tt6579724"
        ],
        [
         "25",
         "nm0063198",
         "tt0093116"
        ],
        [
         "26",
         "nm0063432",
         "tt3106212"
        ],
        [
         "27",
         "nm0063432",
         "tt0478239"
        ],
        [
         "28",
         "nm0063432",
         "tt0264917"
        ],
        [
         "29",
         "nm0063432",
         "tt1626606"
        ],
        [
         "30",
         "nm0063618",
         "tt0183659"
        ],
        [
         "31",
         "nm0063618",
         "tt2545118"
        ],
        [
         "32",
         "nm0063618",
         "tt0384766"
        ],
        [
         "33",
         "nm0063618",
         "tt1856010"
        ],
        [
         "34",
         "nm0063750",
         "tt0404826"
        ],
        [
         "35",
         "nm0063750",
         "tt0111756"
        ],
        [
         "36",
         "nm0063750",
         "tt0367027"
        ],
        [
         "37",
         "nm0063750",
         "tt1492842"
        ],
        [
         "38",
         "nm0064023",
         "tt3501180"
        ],
        [
         "39",
         "nm0064023",
         "tt1485100"
        ],
        [
         "40",
         "nm0064023",
         "tt1358897"
        ],
        [
         "41",
         "nm0064023",
         "tt1387162"
        ],
        [
         "42",
         "nm0064350",
         "tt5479010"
        ],
        [
         "43",
         "nm0064350",
         "tt0316463"
        ],
        [
         "44",
         "nm0064350",
         "tt1286159"
        ],
        [
         "45",
         "nm0064350",
         "tt0380732"
        ],
        [
         "46",
         "nm0065847",
         "tt0108171"
        ],
        [
         "47",
         "nm0065847",
         "tt0095953"
        ],
        [
         "48",
         "nm0065847",
         "tt0266987"
        ],
        [
         "49",
         "nm0065847",
         "tt0285332"
        ]
       ],
       "shape": {
        "columns": 2,
        "rows": 1638260
       }
      },
      "text/html": [
       "<div>\n",
       "<style scoped>\n",
       "    .dataframe tbody tr th:only-of-type {\n",
       "        vertical-align: middle;\n",
       "    }\n",
       "\n",
       "    .dataframe tbody tr th {\n",
       "        vertical-align: top;\n",
       "    }\n",
       "\n",
       "    .dataframe thead th {\n",
       "        text-align: right;\n",
       "    }\n",
       "</style>\n",
       "<table border=\"1\" class=\"dataframe\">\n",
       "  <thead>\n",
       "    <tr style=\"text-align: right;\">\n",
       "      <th></th>\n",
       "      <th>person_id</th>\n",
       "      <th>movie_id</th>\n",
       "    </tr>\n",
       "  </thead>\n",
       "  <tbody>\n",
       "    <tr>\n",
       "      <th>0</th>\n",
       "      <td>nm0061671</td>\n",
       "      <td>tt0837562</td>\n",
       "    </tr>\n",
       "    <tr>\n",
       "      <th>1</th>\n",
       "      <td>nm0061671</td>\n",
       "      <td>tt2398241</td>\n",
       "    </tr>\n",
       "    <tr>\n",
       "      <th>2</th>\n",
       "      <td>nm0061671</td>\n",
       "      <td>tt0844471</td>\n",
       "    </tr>\n",
       "    <tr>\n",
       "      <th>3</th>\n",
       "      <td>nm0061671</td>\n",
       "      <td>tt0118553</td>\n",
       "    </tr>\n",
       "    <tr>\n",
       "      <th>4</th>\n",
       "      <td>nm0061865</td>\n",
       "      <td>tt0896534</td>\n",
       "    </tr>\n",
       "    <tr>\n",
       "      <th>...</th>\n",
       "      <td>...</td>\n",
       "      <td>...</td>\n",
       "    </tr>\n",
       "    <tr>\n",
       "      <th>1638255</th>\n",
       "      <td>nm9990690</td>\n",
       "      <td>tt9090932</td>\n",
       "    </tr>\n",
       "    <tr>\n",
       "      <th>1638256</th>\n",
       "      <td>nm9990690</td>\n",
       "      <td>tt8737130</td>\n",
       "    </tr>\n",
       "    <tr>\n",
       "      <th>1638257</th>\n",
       "      <td>nm9991320</td>\n",
       "      <td>tt8734436</td>\n",
       "    </tr>\n",
       "    <tr>\n",
       "      <th>1638258</th>\n",
       "      <td>nm9991320</td>\n",
       "      <td>tt9615610</td>\n",
       "    </tr>\n",
       "    <tr>\n",
       "      <th>1638259</th>\n",
       "      <td>nm9993380</td>\n",
       "      <td>tt8743182</td>\n",
       "    </tr>\n",
       "  </tbody>\n",
       "</table>\n",
       "<p>1638260 rows × 2 columns</p>\n",
       "</div>"
      ],
      "text/plain": [
       "         person_id   movie_id\n",
       "0        nm0061671  tt0837562\n",
       "1        nm0061671  tt2398241\n",
       "2        nm0061671  tt0844471\n",
       "3        nm0061671  tt0118553\n",
       "4        nm0061865  tt0896534\n",
       "...            ...        ...\n",
       "1638255  nm9990690  tt9090932\n",
       "1638256  nm9990690  tt8737130\n",
       "1638257  nm9991320  tt8734436\n",
       "1638258  nm9991320  tt9615610\n",
       "1638259  nm9993380  tt8743182\n",
       "\n",
       "[1638260 rows x 2 columns]"
      ]
     },
     "execution_count": 29,
     "metadata": {},
     "output_type": "execute_result"
    }
   ],
   "source": [
    "known_for = imdb_tables['known_for']\n",
    "known_for"
   ]
  },
  {
   "cell_type": "code",
   "execution_count": 30,
   "metadata": {},
   "outputs": [
    {
     "data": {
      "application/vnd.microsoft.datawrangler.viewer.v0+json": {
       "columns": [
        {
         "name": "index",
         "rawType": "int64",
         "type": "integer"
        },
        {
         "name": "person_id",
         "rawType": "object",
         "type": "string"
        },
        {
         "name": "primary_name",
         "rawType": "object",
         "type": "string"
        },
        {
         "name": "primary_profession",
         "rawType": "object",
         "type": "unknown"
        },
        {
         "name": "movie_id",
         "rawType": "object",
         "type": "string"
        }
       ],
       "ref": "c199516a-daa2-4c41-aebe-6965f88b5f9a",
       "rows": [
        [
         "0",
         "nm0062879",
         "Ruel S. Bayani",
         "director,production_manager,miscellaneous",
         "tt1592569"
        ],
        [
         "1",
         "nm0062879",
         "Ruel S. Bayani",
         "director,production_manager,miscellaneous",
         "tt1592569"
        ],
        [
         "2",
         "nm0062879",
         "Ruel S. Bayani",
         "director,production_manager,miscellaneous",
         "tt1592569"
        ],
        [
         "3",
         "nm0062879",
         "Ruel S. Bayani",
         "director,production_manager,miscellaneous",
         "tt1592569"
        ],
        [
         "4",
         "nm0062879",
         "Ruel S. Bayani",
         "director,production_manager,miscellaneous",
         "tt8421806"
        ],
        [
         "5",
         "nm0062879",
         "Ruel S. Bayani",
         "director,production_manager,miscellaneous",
         "tt8421806"
        ],
        [
         "6",
         "nm0062879",
         "Ruel S. Bayani",
         "director,production_manager,miscellaneous",
         "tt2057445"
        ],
        [
         "7",
         "nm0062879",
         "Ruel S. Bayani",
         "director,production_manager,miscellaneous",
         "tt2057445"
        ],
        [
         "8",
         "nm0062879",
         "Ruel S. Bayani",
         "director,production_manager,miscellaneous",
         "tt2057445"
        ],
        [
         "9",
         "nm0062879",
         "Ruel S. Bayani",
         "director,production_manager,miscellaneous",
         "tt2590280"
        ],
        [
         "10",
         "nm0064023",
         "Bryan Beasley",
         "director,producer,writer",
         "tt4512140"
        ],
        [
         "11",
         "nm0064023",
         "Bryan Beasley",
         "director,producer,writer",
         "tt3501180"
        ],
        [
         "12",
         "nm0066268",
         "Steve Mitchell Beebe",
         "editorial_department,director,editor",
         "tt5521860"
        ],
        [
         "13",
         "nm0067234",
         "Hans Beimler",
         "producer,writer,miscellaneous",
         "tt2098699"
        ],
        [
         "14",
         "nm0068874",
         "Hava Kohav Beller",
         "director,writer,producer",
         "tt7701650"
        ],
        [
         "15",
         "nm0070482",
         "Joel Bender",
         "editor,director,writer",
         "tt1016090"
        ],
        [
         "16",
         "nm0070482",
         "Joel Bender",
         "editor,director,writer",
         "tt3790232"
        ],
        [
         "17",
         "nm0070482",
         "Joel Bender",
         "editor,director,writer",
         "tt3790232"
        ],
        [
         "18",
         "nm0075666",
         "Joe Berlinger",
         "producer,director,camera_department",
         "tt5151716"
        ],
        [
         "19",
         "nm0075666",
         "Joe Berlinger",
         "producer,director,camera_department",
         "tt2112868"
        ],
        [
         "20",
         "nm0075666",
         "Joe Berlinger",
         "producer,director,camera_department",
         "tt2028530"
        ],
        [
         "21",
         "nm0075666",
         "Joe Berlinger",
         "producer,director,camera_department",
         "tt2481498"
        ],
        [
         "22",
         "nm0075666",
         "Joe Berlinger",
         "producer,director,camera_department",
         "tt2481498"
        ],
        [
         "23",
         "nm0075666",
         "Joe Berlinger",
         "producer,director,camera_department",
         "tt6794462"
        ],
        [
         "24",
         "nm0075666",
         "Joe Berlinger",
         "producer,director,camera_department",
         "tt6794462"
        ],
        [
         "25",
         "nm0075666",
         "Joe Berlinger",
         "producer,director,camera_department",
         "tt4104086"
        ],
        [
         "26",
         "nm0075666",
         "Joe Berlinger",
         "producer,director,camera_department",
         "tt4104086"
        ],
        [
         "27",
         "nm0075666",
         "Joe Berlinger",
         "producer,director,camera_department",
         "tt4104086"
        ],
        [
         "28",
         "nm0075666",
         "Joe Berlinger",
         "producer,director,camera_department",
         "tt4104086"
        ],
        [
         "29",
         "nm0075666",
         "Joe Berlinger",
         "producer,director,camera_department",
         "tt3326366"
        ],
        [
         "30",
         "nm0075666",
         "Joe Berlinger",
         "producer,director,camera_department",
         "tt3137552"
        ],
        [
         "31",
         "nm0077067",
         "Jamie Bernstein",
         "director,actress,writer",
         "tt4601198"
        ],
        [
         "32",
         "nm0077067",
         "Jamie Bernstein",
         "director,actress,writer",
         "tt3909442"
        ],
        [
         "33",
         "nm0080787",
         "Dusty Bias",
         "writer,director,producer",
         "tt4794754"
        ],
        [
         "34",
         "nm0080787",
         "Dusty Bias",
         "writer,director,producer",
         "tt1374996"
        ],
        [
         "35",
         "nm0080787",
         "Dusty Bias",
         "writer,director,producer",
         "tt1374996"
        ],
        [
         "36",
         "nm0080787",
         "Dusty Bias",
         "writer,director,producer",
         "tt1374996"
        ],
        [
         "37",
         "nm0082154",
         "Miro Bilbrough",
         "miscellaneous,director,writer",
         "tt2012110"
        ],
        [
         "38",
         "nm0083767",
         "Fernando Birri",
         "director,actor,writer",
         "tt1854526"
        ],
        [
         "39",
         "nm0083767",
         "Fernando Birri",
         "director,actor,writer",
         "tt1854526"
        ],
        [
         "40",
         "nm0083767",
         "Fernando Birri",
         "director,actor,writer",
         "tt1854526"
        ],
        [
         "41",
         "nm0086051",
         "Bob Blagden",
         "director,art_department,writer",
         "tt1712204"
        ],
        [
         "42",
         "nm0086051",
         "Bob Blagden",
         "director,art_department,writer",
         "tt1712204"
        ],
        [
         "43",
         "nm0087933",
         "Jacek Blawut",
         "cinematographer,miscellaneous,director",
         "tt2508838"
        ],
        [
         "44",
         "nm0088531",
         "Ryan Bliss",
         "director,writer,producer",
         "tt6550978"
        ],
        [
         "45",
         "nm0088888",
         "Eric Blom",
         "director,camera_department,writer",
         "tt8407740"
        ],
        [
         "46",
         "nm0088888",
         "Eric Blom",
         "director,camera_department,writer",
         "tt8407740"
        ],
        [
         "47",
         "nm0088888",
         "Eric Blom",
         "director,camera_department,writer",
         "tt8407740"
        ],
        [
         "48",
         "nm0089850",
         "Lars Blumers",
         "director,writer,producer",
         "tt1825703"
        ],
        [
         "49",
         "nm0089850",
         "Lars Blumers",
         "director,writer,producer",
         "tt1825703"
        ]
       ],
       "shape": {
        "columns": 4,
        "rows": 291171
       }
      },
      "text/html": [
       "<div>\n",
       "<style scoped>\n",
       "    .dataframe tbody tr th:only-of-type {\n",
       "        vertical-align: middle;\n",
       "    }\n",
       "\n",
       "    .dataframe tbody tr th {\n",
       "        vertical-align: top;\n",
       "    }\n",
       "\n",
       "    .dataframe thead th {\n",
       "        text-align: right;\n",
       "    }\n",
       "</style>\n",
       "<table border=\"1\" class=\"dataframe\">\n",
       "  <thead>\n",
       "    <tr style=\"text-align: right;\">\n",
       "      <th></th>\n",
       "      <th>person_id</th>\n",
       "      <th>primary_name</th>\n",
       "      <th>primary_profession</th>\n",
       "      <th>movie_id</th>\n",
       "    </tr>\n",
       "  </thead>\n",
       "  <tbody>\n",
       "    <tr>\n",
       "      <th>0</th>\n",
       "      <td>nm0062879</td>\n",
       "      <td>Ruel S. Bayani</td>\n",
       "      <td>director,production_manager,miscellaneous</td>\n",
       "      <td>tt1592569</td>\n",
       "    </tr>\n",
       "    <tr>\n",
       "      <th>1</th>\n",
       "      <td>nm0062879</td>\n",
       "      <td>Ruel S. Bayani</td>\n",
       "      <td>director,production_manager,miscellaneous</td>\n",
       "      <td>tt1592569</td>\n",
       "    </tr>\n",
       "    <tr>\n",
       "      <th>2</th>\n",
       "      <td>nm0062879</td>\n",
       "      <td>Ruel S. Bayani</td>\n",
       "      <td>director,production_manager,miscellaneous</td>\n",
       "      <td>tt1592569</td>\n",
       "    </tr>\n",
       "    <tr>\n",
       "      <th>3</th>\n",
       "      <td>nm0062879</td>\n",
       "      <td>Ruel S. Bayani</td>\n",
       "      <td>director,production_manager,miscellaneous</td>\n",
       "      <td>tt1592569</td>\n",
       "    </tr>\n",
       "    <tr>\n",
       "      <th>4</th>\n",
       "      <td>nm0062879</td>\n",
       "      <td>Ruel S. Bayani</td>\n",
       "      <td>director,production_manager,miscellaneous</td>\n",
       "      <td>tt8421806</td>\n",
       "    </tr>\n",
       "    <tr>\n",
       "      <th>...</th>\n",
       "      <td>...</td>\n",
       "      <td>...</td>\n",
       "      <td>...</td>\n",
       "      <td>...</td>\n",
       "    </tr>\n",
       "    <tr>\n",
       "      <th>291166</th>\n",
       "      <td>nm9980896</td>\n",
       "      <td>Rama Narayanan</td>\n",
       "      <td>director,writer</td>\n",
       "      <td>tt8715016</td>\n",
       "    </tr>\n",
       "    <tr>\n",
       "      <th>291167</th>\n",
       "      <td>nm9980896</td>\n",
       "      <td>Rama Narayanan</td>\n",
       "      <td>director,writer</td>\n",
       "      <td>tt8919136</td>\n",
       "    </tr>\n",
       "    <tr>\n",
       "      <th>291168</th>\n",
       "      <td>nm9981679</td>\n",
       "      <td>Samir Eshra</td>\n",
       "      <td>director,writer,cinematographer</td>\n",
       "      <td>tt8717234</td>\n",
       "    </tr>\n",
       "    <tr>\n",
       "      <th>291169</th>\n",
       "      <td>nm9993380</td>\n",
       "      <td>Pegasus Envoyé</td>\n",
       "      <td>director,actor,writer</td>\n",
       "      <td>tt8743182</td>\n",
       "    </tr>\n",
       "    <tr>\n",
       "      <th>291170</th>\n",
       "      <td>nm9993380</td>\n",
       "      <td>Pegasus Envoyé</td>\n",
       "      <td>director,actor,writer</td>\n",
       "      <td>tt8743182</td>\n",
       "    </tr>\n",
       "  </tbody>\n",
       "</table>\n",
       "<p>291171 rows × 4 columns</p>\n",
       "</div>"
      ],
      "text/plain": [
       "        person_id    primary_name                         primary_profession  \\\n",
       "0       nm0062879  Ruel S. Bayani  director,production_manager,miscellaneous   \n",
       "1       nm0062879  Ruel S. Bayani  director,production_manager,miscellaneous   \n",
       "2       nm0062879  Ruel S. Bayani  director,production_manager,miscellaneous   \n",
       "3       nm0062879  Ruel S. Bayani  director,production_manager,miscellaneous   \n",
       "4       nm0062879  Ruel S. Bayani  director,production_manager,miscellaneous   \n",
       "...           ...             ...                                        ...   \n",
       "291166  nm9980896  Rama Narayanan                            director,writer   \n",
       "291167  nm9980896  Rama Narayanan                            director,writer   \n",
       "291168  nm9981679     Samir Eshra            director,writer,cinematographer   \n",
       "291169  nm9993380  Pegasus Envoyé                      director,actor,writer   \n",
       "291170  nm9993380  Pegasus Envoyé                      director,actor,writer   \n",
       "\n",
       "         movie_id  \n",
       "0       tt1592569  \n",
       "1       tt1592569  \n",
       "2       tt1592569  \n",
       "3       tt1592569  \n",
       "4       tt8421806  \n",
       "...           ...  \n",
       "291166  tt8715016  \n",
       "291167  tt8919136  \n",
       "291168  tt8717234  \n",
       "291169  tt8743182  \n",
       "291170  tt8743182  \n",
       "\n",
       "[291171 rows x 4 columns]"
      ]
     },
     "execution_count": 30,
     "metadata": {},
     "output_type": "execute_result"
    }
   ],
   "source": [
    "people_merge1 = people_merge.merge(known_for, on=['person_id', 'movie_id'], how='left')\n",
    "people_merge1"
   ]
  },
  {
   "cell_type": "code",
   "execution_count": 31,
   "metadata": {},
   "outputs": [
    {
     "data": {
      "application/vnd.microsoft.datawrangler.viewer.v0+json": {
       "columns": [
        {
         "name": "index",
         "rawType": "int64",
         "type": "integer"
        },
        {
         "name": "movie_id",
         "rawType": "object",
         "type": "string"
        },
        {
         "name": "person_id",
         "rawType": "object",
         "type": "string"
        }
       ],
       "ref": "e09d1089-f91e-4255-bbdb-d355c296bae1",
       "rows": [
        [
         "0",
         "tt0285252",
         "nm0899854"
        ],
        [
         "1",
         "tt0438973",
         "nm0175726"
        ],
        [
         "2",
         "tt0438973",
         "nm1802864"
        ],
        [
         "3",
         "tt0462036",
         "nm1940585"
        ],
        [
         "4",
         "tt0835418",
         "nm0310087"
        ],
        [
         "5",
         "tt0835418",
         "nm0841532"
        ],
        [
         "6",
         "tt0878654",
         "nm0284943"
        ],
        [
         "7",
         "tt0878654",
         "nm0284943"
        ],
        [
         "8",
         "tt0878654",
         "nm0284943"
        ],
        [
         "9",
         "tt0996958",
         "nm2286991"
        ],
        [
         "10",
         "tt0996958",
         "nm2651190"
        ],
        [
         "11",
         "tt0999913",
         "nm0527109"
        ],
        [
         "12",
         "tt0999913",
         "nm0329051"
        ],
        [
         "13",
         "tt0999913",
         "nm0001603"
        ],
        [
         "14",
         "tt0999913",
         "nm0930684"
        ],
        [
         "15",
         "tt10003792",
         "nm10539228"
        ],
        [
         "16",
         "tt10005130",
         "nm5482263"
        ],
        [
         "17",
         "tt10005130",
         "nm10540239"
        ],
        [
         "18",
         "tt10005378",
         "nm9232888"
        ],
        [
         "19",
         "tt10011102",
         "nm2215938"
        ],
        [
         "20",
         "tt10011102",
         "nm0219964"
        ],
        [
         "21",
         "tt1002965",
         "nm0860520"
        ],
        [
         "22",
         "tt1002965",
         "nm0003521"
        ],
        [
         "23",
         "tt1002965",
         "nm2615300"
        ],
        [
         "24",
         "tt10042456",
         "nm6051389"
        ],
        [
         "25",
         "tt10055770",
         "nm8628554"
        ],
        [
         "26",
         "tt10055770",
         "nm8351963"
        ],
        [
         "27",
         "tt10056334",
         "nm10563034"
        ],
        [
         "28",
         "tt10056334",
         "nm10563021"
        ],
        [
         "29",
         "tt10059624",
         "nm0472248"
        ],
        [
         "30",
         "tt10059624",
         "nm10596139"
        ],
        [
         "31",
         "tt10059624",
         "nm10596140"
        ],
        [
         "32",
         "tt10060902",
         "nm10193497"
        ],
        [
         "33",
         "tt10076760",
         "nm10351658"
        ],
        [
         "34",
         "tt10084358",
         "nm10586890"
        ],
        [
         "35",
         "tt10085524",
         "nm7717515"
        ],
        [
         "36",
         "tt10086906",
         "nm10576024"
        ],
        [
         "37",
         "tt10087396",
         "nm1819081"
        ],
        [
         "38",
         "tt10094362",
         "nm4510291"
        ],
        [
         "39",
         "tt10126496",
         "nm3691130"
        ],
        [
         "40",
         "tt10126628",
         "nm0403225"
        ],
        [
         "41",
         "tt10133856",
         "nm9709981"
        ],
        [
         "42",
         "tt10133856",
         "nm8979374"
        ],
        [
         "43",
         "tt10133856",
         "nm10597667"
        ],
        [
         "44",
         "tt10133856",
         "nm10597668"
        ],
        [
         "45",
         "tt10133856",
         "nm10384892"
        ],
        [
         "46",
         "tt10140002",
         "nm0104200"
        ],
        [
         "47",
         "tt10140002",
         "nm0104200"
        ],
        [
         "48",
         "tt10148094",
         "nm10604110"
        ],
        [
         "49",
         "tt10148094",
         "nm10593130"
        ]
       ],
       "shape": {
        "columns": 2,
        "rows": 255873
       }
      },
      "text/html": [
       "<div>\n",
       "<style scoped>\n",
       "    .dataframe tbody tr th:only-of-type {\n",
       "        vertical-align: middle;\n",
       "    }\n",
       "\n",
       "    .dataframe tbody tr th {\n",
       "        vertical-align: top;\n",
       "    }\n",
       "\n",
       "    .dataframe thead th {\n",
       "        text-align: right;\n",
       "    }\n",
       "</style>\n",
       "<table border=\"1\" class=\"dataframe\">\n",
       "  <thead>\n",
       "    <tr style=\"text-align: right;\">\n",
       "      <th></th>\n",
       "      <th>movie_id</th>\n",
       "      <th>person_id</th>\n",
       "    </tr>\n",
       "  </thead>\n",
       "  <tbody>\n",
       "    <tr>\n",
       "      <th>0</th>\n",
       "      <td>tt0285252</td>\n",
       "      <td>nm0899854</td>\n",
       "    </tr>\n",
       "    <tr>\n",
       "      <th>1</th>\n",
       "      <td>tt0438973</td>\n",
       "      <td>nm0175726</td>\n",
       "    </tr>\n",
       "    <tr>\n",
       "      <th>2</th>\n",
       "      <td>tt0438973</td>\n",
       "      <td>nm1802864</td>\n",
       "    </tr>\n",
       "    <tr>\n",
       "      <th>3</th>\n",
       "      <td>tt0462036</td>\n",
       "      <td>nm1940585</td>\n",
       "    </tr>\n",
       "    <tr>\n",
       "      <th>4</th>\n",
       "      <td>tt0835418</td>\n",
       "      <td>nm0310087</td>\n",
       "    </tr>\n",
       "    <tr>\n",
       "      <th>...</th>\n",
       "      <td>...</td>\n",
       "      <td>...</td>\n",
       "    </tr>\n",
       "    <tr>\n",
       "      <th>255868</th>\n",
       "      <td>tt8999892</td>\n",
       "      <td>nm10122246</td>\n",
       "    </tr>\n",
       "    <tr>\n",
       "      <th>255869</th>\n",
       "      <td>tt8999974</td>\n",
       "      <td>nm10122357</td>\n",
       "    </tr>\n",
       "    <tr>\n",
       "      <th>255870</th>\n",
       "      <td>tt9001390</td>\n",
       "      <td>nm6711477</td>\n",
       "    </tr>\n",
       "    <tr>\n",
       "      <th>255871</th>\n",
       "      <td>tt9004986</td>\n",
       "      <td>nm4993825</td>\n",
       "    </tr>\n",
       "    <tr>\n",
       "      <th>255872</th>\n",
       "      <td>tt9010172</td>\n",
       "      <td>nm8352242</td>\n",
       "    </tr>\n",
       "  </tbody>\n",
       "</table>\n",
       "<p>255873 rows × 2 columns</p>\n",
       "</div>"
      ],
      "text/plain": [
       "         movie_id   person_id\n",
       "0       tt0285252   nm0899854\n",
       "1       tt0438973   nm0175726\n",
       "2       tt0438973   nm1802864\n",
       "3       tt0462036   nm1940585\n",
       "4       tt0835418   nm0310087\n",
       "...           ...         ...\n",
       "255868  tt8999892  nm10122246\n",
       "255869  tt8999974  nm10122357\n",
       "255870  tt9001390   nm6711477\n",
       "255871  tt9004986   nm4993825\n",
       "255872  tt9010172   nm8352242\n",
       "\n",
       "[255873 rows x 2 columns]"
      ]
     },
     "execution_count": 31,
     "metadata": {},
     "output_type": "execute_result"
    }
   ],
   "source": [
    "writers = imdb_tables['writers']\n",
    "writers"
   ]
  },
  {
   "cell_type": "code",
   "execution_count": 32,
   "metadata": {},
   "outputs": [],
   "source": [
    "writers_cp = writers.copy(deep=True)\n",
    "\n",
    "people_merge1 = people_merge1.merge(writers_cp, on=['movie_id', 'person_id'], how='left')\n",
    "people_merge1 = people_merge1.drop_duplicates()"
   ]
  },
  {
   "cell_type": "code",
   "execution_count": 33,
   "metadata": {},
   "outputs": [
    {
     "data": {
      "application/vnd.microsoft.datawrangler.viewer.v0+json": {
       "columns": [
        {
         "name": "index",
         "rawType": "int64",
         "type": "integer"
        },
        {
         "name": "person_id",
         "rawType": "object",
         "type": "string"
        },
        {
         "name": "primary_name",
         "rawType": "object",
         "type": "string"
        },
        {
         "name": "primary_profession",
         "rawType": "object",
         "type": "unknown"
        },
        {
         "name": "movie_id",
         "rawType": "object",
         "type": "string"
        }
       ],
       "ref": "f2eb0ba0-30d5-46f6-a1ac-9026e22e8a0c",
       "rows": [
        [
         "0",
         "nm0062879",
         "Ruel S. Bayani",
         "director,production_manager,miscellaneous",
         "tt1592569"
        ],
        [
         "4",
         "nm0062879",
         "Ruel S. Bayani",
         "director,production_manager,miscellaneous",
         "tt8421806"
        ],
        [
         "6",
         "nm0062879",
         "Ruel S. Bayani",
         "director,production_manager,miscellaneous",
         "tt2057445"
        ],
        [
         "9",
         "nm0062879",
         "Ruel S. Bayani",
         "director,production_manager,miscellaneous",
         "tt2590280"
        ],
        [
         "10",
         "nm0064023",
         "Bryan Beasley",
         "director,producer,writer",
         "tt4512140"
        ],
        [
         "11",
         "nm0064023",
         "Bryan Beasley",
         "director,producer,writer",
         "tt3501180"
        ],
        [
         "12",
         "nm0066268",
         "Steve Mitchell Beebe",
         "editorial_department,director,editor",
         "tt5521860"
        ],
        [
         "13",
         "nm0067234",
         "Hans Beimler",
         "producer,writer,miscellaneous",
         "tt2098699"
        ],
        [
         "14",
         "nm0068874",
         "Hava Kohav Beller",
         "director,writer,producer",
         "tt7701650"
        ],
        [
         "15",
         "nm0070482",
         "Joel Bender",
         "editor,director,writer",
         "tt1016090"
        ],
        [
         "16",
         "nm0070482",
         "Joel Bender",
         "editor,director,writer",
         "tt3790232"
        ],
        [
         "20",
         "nm0075666",
         "Joe Berlinger",
         "producer,director,camera_department",
         "tt5151716"
        ],
        [
         "21",
         "nm0075666",
         "Joe Berlinger",
         "producer,director,camera_department",
         "tt2112868"
        ],
        [
         "22",
         "nm0075666",
         "Joe Berlinger",
         "producer,director,camera_department",
         "tt2028530"
        ],
        [
         "23",
         "nm0075666",
         "Joe Berlinger",
         "producer,director,camera_department",
         "tt2481498"
        ],
        [
         "25",
         "nm0075666",
         "Joe Berlinger",
         "producer,director,camera_department",
         "tt6794462"
        ],
        [
         "27",
         "nm0075666",
         "Joe Berlinger",
         "producer,director,camera_department",
         "tt4104086"
        ],
        [
         "31",
         "nm0075666",
         "Joe Berlinger",
         "producer,director,camera_department",
         "tt3326366"
        ],
        [
         "32",
         "nm0075666",
         "Joe Berlinger",
         "producer,director,camera_department",
         "tt3137552"
        ],
        [
         "33",
         "nm0077067",
         "Jamie Bernstein",
         "director,actress,writer",
         "tt4601198"
        ],
        [
         "34",
         "nm0077067",
         "Jamie Bernstein",
         "director,actress,writer",
         "tt3909442"
        ],
        [
         "35",
         "nm0080787",
         "Dusty Bias",
         "writer,director,producer",
         "tt4794754"
        ],
        [
         "36",
         "nm0080787",
         "Dusty Bias",
         "writer,director,producer",
         "tt1374996"
        ],
        [
         "39",
         "nm0082154",
         "Miro Bilbrough",
         "miscellaneous,director,writer",
         "tt2012110"
        ],
        [
         "40",
         "nm0083767",
         "Fernando Birri",
         "director,actor,writer",
         "tt1854526"
        ],
        [
         "43",
         "nm0086051",
         "Bob Blagden",
         "director,art_department,writer",
         "tt1712204"
        ],
        [
         "45",
         "nm0087933",
         "Jacek Blawut",
         "cinematographer,miscellaneous,director",
         "tt2508838"
        ],
        [
         "46",
         "nm0088531",
         "Ryan Bliss",
         "director,writer,producer",
         "tt6550978"
        ],
        [
         "47",
         "nm0088888",
         "Eric Blom",
         "director,camera_department,writer",
         "tt8407740"
        ],
        [
         "50",
         "nm0089850",
         "Lars Blumers",
         "director,writer,producer",
         "tt1825703"
        ],
        [
         "53",
         "nm0092526",
         "David Christopher Loya",
         "producer,director,writer",
         "tt10337122"
        ],
        [
         "54",
         "nm0094754",
         "Emmanuelle Bonmariage",
         "actress,director",
         "tt8322784"
        ],
        [
         "55",
         "nm0094756",
         "Manu Bonmariage",
         "cinematographer,director,camera_department",
         "tt5784900"
        ],
        [
         "56",
         "nm0094756",
         "Manu Bonmariage",
         "cinematographer,director,camera_department",
         "tt2462954"
        ],
        [
         "57",
         "nm0098545",
         "Marie Boti",
         "director,writer",
         "tt6668842"
        ],
        [
         "58",
         "nm0099797",
         "Pascal Bourdiaux",
         "director,editor",
         "tt5286268"
        ],
        [
         "66",
         "nm0099797",
         "Pascal Bourdiaux",
         "director,editor",
         "tt1437361"
        ],
        [
         "71",
         "nm0099797",
         "Pascal Bourdiaux",
         "director,editor",
         "tt5980746"
        ],
        [
         "73",
         "nm0099797",
         "Pascal Bourdiaux",
         "director,editor",
         "tt2836252"
        ],
        [
         "74",
         "nm0099841",
         "Gilles Bourdos",
         "writer,director",
         "tt2150332"
        ],
        [
         "78",
         "nm0099841",
         "Gilles Bourdos",
         "writer,director",
         "tt5539466"
        ],
        [
         "81",
         "nm0101047",
         "David Bowers",
         "animation_department,director,writer",
         "tt1650043"
        ],
        [
         "84",
         "nm0101047",
         "David Bowers",
         "animation_department,director,writer",
         "tt8716054"
        ],
        [
         "88",
         "nm0101047",
         "David Bowers",
         "animation_department,director,writer",
         "tt6003368"
        ],
        [
         "90",
         "nm0101047",
         "David Bowers",
         "animation_department,director,writer",
         "tt2023453"
        ],
        [
         "93",
         "nm0102070",
         "Manu Boyer",
         "director,writer,camera_department",
         "tt3227442"
        ],
        [
         "94",
         "nm0103187",
         "Dan Bradley",
         "stunts,assistant_director,actor",
         "tt1234719"
        ],
        [
         "98",
         "nm0104567",
         "Madeline Brandeis",
         "producer,director,writer",
         "tt7953946"
        ],
        [
         "101",
         "nm0105723",
         "Bettina Braun",
         "director,editor,writer",
         "tt9466900"
        ],
        [
         "102",
         "nm0109400",
         "Mariola Brillowska",
         "director,writer,actress",
         "tt1786454"
        ]
       ],
       "shape": {
        "columns": 4,
        "rows": 163533
       }
      },
      "text/html": [
       "<div>\n",
       "<style scoped>\n",
       "    .dataframe tbody tr th:only-of-type {\n",
       "        vertical-align: middle;\n",
       "    }\n",
       "\n",
       "    .dataframe tbody tr th {\n",
       "        vertical-align: top;\n",
       "    }\n",
       "\n",
       "    .dataframe thead th {\n",
       "        text-align: right;\n",
       "    }\n",
       "</style>\n",
       "<table border=\"1\" class=\"dataframe\">\n",
       "  <thead>\n",
       "    <tr style=\"text-align: right;\">\n",
       "      <th></th>\n",
       "      <th>person_id</th>\n",
       "      <th>primary_name</th>\n",
       "      <th>primary_profession</th>\n",
       "      <th>movie_id</th>\n",
       "    </tr>\n",
       "  </thead>\n",
       "  <tbody>\n",
       "    <tr>\n",
       "      <th>0</th>\n",
       "      <td>nm0062879</td>\n",
       "      <td>Ruel S. Bayani</td>\n",
       "      <td>director,production_manager,miscellaneous</td>\n",
       "      <td>tt1592569</td>\n",
       "    </tr>\n",
       "    <tr>\n",
       "      <th>4</th>\n",
       "      <td>nm0062879</td>\n",
       "      <td>Ruel S. Bayani</td>\n",
       "      <td>director,production_manager,miscellaneous</td>\n",
       "      <td>tt8421806</td>\n",
       "    </tr>\n",
       "    <tr>\n",
       "      <th>6</th>\n",
       "      <td>nm0062879</td>\n",
       "      <td>Ruel S. Bayani</td>\n",
       "      <td>director,production_manager,miscellaneous</td>\n",
       "      <td>tt2057445</td>\n",
       "    </tr>\n",
       "    <tr>\n",
       "      <th>9</th>\n",
       "      <td>nm0062879</td>\n",
       "      <td>Ruel S. Bayani</td>\n",
       "      <td>director,production_manager,miscellaneous</td>\n",
       "      <td>tt2590280</td>\n",
       "    </tr>\n",
       "    <tr>\n",
       "      <th>10</th>\n",
       "      <td>nm0064023</td>\n",
       "      <td>Bryan Beasley</td>\n",
       "      <td>director,producer,writer</td>\n",
       "      <td>tt4512140</td>\n",
       "    </tr>\n",
       "    <tr>\n",
       "      <th>...</th>\n",
       "      <td>...</td>\n",
       "      <td>...</td>\n",
       "      <td>...</td>\n",
       "      <td>...</td>\n",
       "    </tr>\n",
       "    <tr>\n",
       "      <th>1051232</th>\n",
       "      <td>nm9971456</td>\n",
       "      <td>Zheng Wei</td>\n",
       "      <td>director</td>\n",
       "      <td>tt8697720</td>\n",
       "    </tr>\n",
       "    <tr>\n",
       "      <th>1051233</th>\n",
       "      <td>nm9980896</td>\n",
       "      <td>Rama Narayanan</td>\n",
       "      <td>director,writer</td>\n",
       "      <td>tt8715016</td>\n",
       "    </tr>\n",
       "    <tr>\n",
       "      <th>1051235</th>\n",
       "      <td>nm9980896</td>\n",
       "      <td>Rama Narayanan</td>\n",
       "      <td>director,writer</td>\n",
       "      <td>tt8919136</td>\n",
       "    </tr>\n",
       "    <tr>\n",
       "      <th>1051236</th>\n",
       "      <td>nm9981679</td>\n",
       "      <td>Samir Eshra</td>\n",
       "      <td>director,writer,cinematographer</td>\n",
       "      <td>tt8717234</td>\n",
       "    </tr>\n",
       "    <tr>\n",
       "      <th>1051237</th>\n",
       "      <td>nm9993380</td>\n",
       "      <td>Pegasus Envoyé</td>\n",
       "      <td>director,actor,writer</td>\n",
       "      <td>tt8743182</td>\n",
       "    </tr>\n",
       "  </tbody>\n",
       "</table>\n",
       "<p>163533 rows × 4 columns</p>\n",
       "</div>"
      ],
      "text/plain": [
       "         person_id    primary_name                         primary_profession  \\\n",
       "0        nm0062879  Ruel S. Bayani  director,production_manager,miscellaneous   \n",
       "4        nm0062879  Ruel S. Bayani  director,production_manager,miscellaneous   \n",
       "6        nm0062879  Ruel S. Bayani  director,production_manager,miscellaneous   \n",
       "9        nm0062879  Ruel S. Bayani  director,production_manager,miscellaneous   \n",
       "10       nm0064023   Bryan Beasley                   director,producer,writer   \n",
       "...            ...             ...                                        ...   \n",
       "1051232  nm9971456       Zheng Wei                                   director   \n",
       "1051233  nm9980896  Rama Narayanan                            director,writer   \n",
       "1051235  nm9980896  Rama Narayanan                            director,writer   \n",
       "1051236  nm9981679     Samir Eshra            director,writer,cinematographer   \n",
       "1051237  nm9993380  Pegasus Envoyé                      director,actor,writer   \n",
       "\n",
       "          movie_id  \n",
       "0        tt1592569  \n",
       "4        tt8421806  \n",
       "6        tt2057445  \n",
       "9        tt2590280  \n",
       "10       tt4512140  \n",
       "...            ...  \n",
       "1051232  tt8697720  \n",
       "1051233  tt8715016  \n",
       "1051235  tt8919136  \n",
       "1051236  tt8717234  \n",
       "1051237  tt8743182  \n",
       "\n",
       "[163533 rows x 4 columns]"
      ]
     },
     "execution_count": 33,
     "metadata": {},
     "output_type": "execute_result"
    }
   ],
   "source": [
    "people_merge1"
   ]
  },
  {
   "cell_type": "code",
   "execution_count": 34,
   "metadata": {},
   "outputs": [
    {
     "data": {
      "application/vnd.microsoft.datawrangler.viewer.v0+json": {
       "columns": [
        {
         "name": "index",
         "rawType": "int64",
         "type": "integer"
        },
        {
         "name": "movie_id",
         "rawType": "object",
         "type": "string"
        },
        {
         "name": "primary_title",
         "rawType": "object",
         "type": "string"
        },
        {
         "name": "original_title",
         "rawType": "object",
         "type": "string"
        },
        {
         "name": "start_year",
         "rawType": "int64",
         "type": "integer"
        },
        {
         "name": "runtime_minutes",
         "rawType": "float64",
         "type": "float"
        },
        {
         "name": "genres",
         "rawType": "object",
         "type": "string"
        },
        {
         "name": "averagerating",
         "rawType": "float64",
         "type": "float"
        },
        {
         "name": "numvotes",
         "rawType": "int64",
         "type": "integer"
        },
        {
         "name": "ordering",
         "rawType": "int64",
         "type": "integer"
        },
        {
         "name": "region_title",
         "rawType": "object",
         "type": "string"
        },
        {
         "name": "region",
         "rawType": "object",
         "type": "unknown"
        },
        {
         "name": "person_id",
         "rawType": "object",
         "type": "unknown"
        },
        {
         "name": "primary_name",
         "rawType": "object",
         "type": "unknown"
        },
        {
         "name": "primary_profession",
         "rawType": "object",
         "type": "unknown"
        }
       ],
       "ref": "31f21d45-20c6-4ac3-b8d0-a1ea21dd0249",
       "rows": [
        [
         "0",
         "tt0066787",
         "One Day Before the Rainy Season",
         "Ashad Ka Ek Din",
         "2019",
         "114.0",
         "Biography,Drama",
         "7.2",
         "43",
         "1",
         "One Day Before the Rainy Season",
         "XWW",
         "nm0002411",
         "Mani Kaul",
         "director,writer,actor"
        ],
        [
         "1",
         "tt0066787",
         "One Day Before the Rainy Season",
         "Ashad Ka Ek Din",
         "2019",
         "114.0",
         "Biography,Drama",
         "7.2",
         "43",
         "2",
         "Ashad Ka Ek Din",
         "IN",
         "nm0002411",
         "Mani Kaul",
         "director,writer,actor"
        ],
        [
         "2",
         "tt0066787",
         "One Day Before the Rainy Season",
         "Ashad Ka Ek Din",
         "2019",
         "114.0",
         "Biography,Drama",
         "7.2",
         "43",
         "3",
         "One Monsoon Day",
         null,
         "nm0002411",
         "Mani Kaul",
         "director,writer,actor"
        ],
        [
         "3",
         "tt0066787",
         "One Day Before the Rainy Season",
         "Ashad Ka Ek Din",
         "2019",
         "114.0",
         "Biography,Drama",
         "7.2",
         "43",
         "4",
         "Ashad Ka Ek Din",
         null,
         "nm0002411",
         "Mani Kaul",
         "director,writer,actor"
        ],
        [
         "4",
         "tt0069049",
         "The Other Side of the Wind",
         "The Other Side of the Wind",
         "2018",
         "122.0",
         "Drama",
         "6.9",
         "4517",
         "10",
         "La otra cara del viento",
         "VE",
         "nm0000080",
         "Orson Welles",
         "actor,director,writer"
        ],
        [
         "5",
         "tt0069049",
         "The Other Side of the Wind",
         "The Other Side of the Wind",
         "2018",
         "122.0",
         "Drama",
         "6.9",
         "4517",
         "11",
         "Druga strona wiatru",
         "PL",
         "nm0000080",
         "Orson Welles",
         "actor,director,writer"
        ],
        [
         "6",
         "tt0069049",
         "The Other Side of the Wind",
         "The Other Side of the Wind",
         "2018",
         "122.0",
         "Drama",
         "6.9",
         "4517",
         "12",
         "The Other Side of the Wind",
         "DE",
         "nm0000080",
         "Orson Welles",
         "actor,director,writer"
        ],
        [
         "7",
         "tt0069049",
         "The Other Side of the Wind",
         "The Other Side of the Wind",
         "2018",
         "122.0",
         "Drama",
         "6.9",
         "4517",
         "13",
         "O Outro Lado do Vento",
         "PT",
         "nm0000080",
         "Orson Welles",
         "actor,director,writer"
        ],
        [
         "8",
         "tt0069049",
         "The Other Side of the Wind",
         "The Other Side of the Wind",
         "2018",
         "122.0",
         "Drama",
         "6.9",
         "4517",
         "1",
         "O Outro Lado do Vento",
         "BR",
         "nm0000080",
         "Orson Welles",
         "actor,director,writer"
        ],
        [
         "9",
         "tt0069049",
         "The Other Side of the Wind",
         "The Other Side of the Wind",
         "2018",
         "122.0",
         "Drama",
         "6.9",
         "4517",
         "2",
         "The Other Side of the Wind",
         "US",
         "nm0000080",
         "Orson Welles",
         "actor,director,writer"
        ],
        [
         "10",
         "tt0069049",
         "The Other Side of the Wind",
         "The Other Side of the Wind",
         "2018",
         "122.0",
         "Drama",
         "6.9",
         "4517",
         "3",
         "The Other Side of the Wind",
         "GB",
         "nm0000080",
         "Orson Welles",
         "actor,director,writer"
        ],
        [
         "11",
         "tt0069049",
         "The Other Side of the Wind",
         "The Other Side of the Wind",
         "2018",
         "122.0",
         "Drama",
         "6.9",
         "4517",
         "4",
         "L'altra faccia del vento",
         "IT",
         "nm0000080",
         "Orson Welles",
         "actor,director,writer"
        ],
        [
         "12",
         "tt0069049",
         "The Other Side of the Wind",
         "The Other Side of the Wind",
         "2018",
         "122.0",
         "Drama",
         "6.9",
         "4517",
         "5",
         "Другая сторона ветра",
         "RU",
         "nm0000080",
         "Orson Welles",
         "actor,director,writer"
        ],
        [
         "13",
         "tt0069049",
         "The Other Side of the Wind",
         "The Other Side of the Wind",
         "2018",
         "122.0",
         "Drama",
         "6.9",
         "4517",
         "6",
         "Al otro lado del viento",
         "AR",
         "nm0000080",
         "Orson Welles",
         "actor,director,writer"
        ],
        [
         "14",
         "tt0069049",
         "The Other Side of the Wind",
         "The Other Side of the Wind",
         "2018",
         "122.0",
         "Drama",
         "6.9",
         "4517",
         "7",
         "Al otro lado del viento",
         "ES",
         "nm0000080",
         "Orson Welles",
         "actor,director,writer"
        ],
        [
         "15",
         "tt0069049",
         "The Other Side of the Wind",
         "The Other Side of the Wind",
         "2018",
         "122.0",
         "Drama",
         "6.9",
         "4517",
         "8",
         "The Other Side of the Wind",
         null,
         "nm0000080",
         "Orson Welles",
         "actor,director,writer"
        ],
        [
         "16",
         "tt0069049",
         "The Other Side of the Wind",
         "The Other Side of the Wind",
         "2018",
         "122.0",
         "Drama",
         "6.9",
         "4517",
         "9",
         "De l'autre côté du vent",
         "FR",
         "nm0000080",
         "Orson Welles",
         "actor,director,writer"
        ],
        [
         "17",
         "tt0069204",
         "Sabse Bada Sukh",
         "Sabse Bada Sukh",
         "2018",
         "87.0",
         "Comedy,Drama",
         "6.1",
         "13",
         "1",
         "Subse Bada Sukh",
         "IN",
         "nm0611531",
         "Hrishikesh Mukherjee",
         "director,editor,writer"
        ],
        [
         "18",
         "tt0069204",
         "Sabse Bada Sukh",
         "Sabse Bada Sukh",
         "2018",
         "87.0",
         "Comedy,Drama",
         "6.1",
         "13",
         "2",
         "The Greatest Happiness",
         "IN",
         "nm0611531",
         "Hrishikesh Mukherjee",
         "director,editor,writer"
        ],
        [
         "19",
         "tt0069204",
         "Sabse Bada Sukh",
         "Sabse Bada Sukh",
         "2018",
         "87.0",
         "Comedy,Drama",
         "6.1",
         "13",
         "3",
         "Sabse Bada Sukh",
         null,
         "nm0611531",
         "Hrishikesh Mukherjee",
         "director,editor,writer"
        ],
        [
         "20",
         "tt0100275",
         "The Wandering Soap Opera",
         "La Telenovela Errante",
         "2017",
         "80.0",
         "Comedy,Drama,Fantasy",
         "6.5",
         "119",
         "1",
         "La Telenovela Errante",
         null,
         "nm0749914",
         "Raoul Ruiz",
         "director,writer,producer"
        ],
        [
         "21",
         "tt0100275",
         "The Wandering Soap Opera",
         "La Telenovela Errante",
         "2017",
         "80.0",
         "Comedy,Drama,Fantasy",
         "6.5",
         "119",
         "1",
         "La Telenovela Errante",
         null,
         "nm0765384",
         "Valeria Sarmiento",
         "editor,director,writer"
        ],
        [
         "22",
         "tt0100275",
         "The Wandering Soap Opera",
         "La Telenovela Errante",
         "2017",
         "80.0",
         "Comedy,Drama,Fantasy",
         "6.5",
         "119",
         "2",
         "The Wandering Soap Opera",
         "XWW",
         "nm0749914",
         "Raoul Ruiz",
         "director,writer,producer"
        ],
        [
         "23",
         "tt0100275",
         "The Wandering Soap Opera",
         "La Telenovela Errante",
         "2017",
         "80.0",
         "Comedy,Drama,Fantasy",
         "6.5",
         "119",
         "2",
         "The Wandering Soap Opera",
         "XWW",
         "nm0765384",
         "Valeria Sarmiento",
         "editor,director,writer"
        ],
        [
         "24",
         "tt0100275",
         "The Wandering Soap Opera",
         "La Telenovela Errante",
         "2017",
         "80.0",
         "Comedy,Drama,Fantasy",
         "6.5",
         "119",
         "3",
         "La Telenovela Errante",
         "CL",
         "nm0749914",
         "Raoul Ruiz",
         "director,writer,producer"
        ],
        [
         "25",
         "tt0100275",
         "The Wandering Soap Opera",
         "La Telenovela Errante",
         "2017",
         "80.0",
         "Comedy,Drama,Fantasy",
         "6.5",
         "119",
         "3",
         "La Telenovela Errante",
         "CL",
         "nm0765384",
         "Valeria Sarmiento",
         "editor,director,writer"
        ],
        [
         "26",
         "tt0100275",
         "The Wandering Soap Opera",
         "La Telenovela Errante",
         "2017",
         "80.0",
         "Comedy,Drama,Fantasy",
         "6.5",
         "119",
         "4",
         "La novela errante",
         "CL",
         "nm0749914",
         "Raoul Ruiz",
         "director,writer,producer"
        ],
        [
         "27",
         "tt0100275",
         "The Wandering Soap Opera",
         "La Telenovela Errante",
         "2017",
         "80.0",
         "Comedy,Drama,Fantasy",
         "6.5",
         "119",
         "4",
         "La novela errante",
         "CL",
         "nm0765384",
         "Valeria Sarmiento",
         "editor,director,writer"
        ],
        [
         "28",
         "tt0100275",
         "The Wandering Soap Opera",
         "La Telenovela Errante",
         "2017",
         "80.0",
         "Comedy,Drama,Fantasy",
         "6.5",
         "119",
         "5",
         "Objazdowa opera mydlana",
         "PL",
         "nm0749914",
         "Raoul Ruiz",
         "director,writer,producer"
        ],
        [
         "29",
         "tt0100275",
         "The Wandering Soap Opera",
         "La Telenovela Errante",
         "2017",
         "80.0",
         "Comedy,Drama,Fantasy",
         "6.5",
         "119",
         "5",
         "Objazdowa opera mydlana",
         "PL",
         "nm0765384",
         "Valeria Sarmiento",
         "editor,director,writer"
        ],
        [
         "30",
         "tt0112502",
         "Bigfoot",
         "Bigfoot",
         "2017",
         "87.0",
         "Horror,Thriller",
         "4.1",
         "32",
         "1",
         "Bigfoot",
         "US",
         "nm6883878",
         "Mc Jones",
         "actor,director"
        ],
        [
         "31",
         "tt0137204",
         "Joe Finds Grace",
         "Joe Finds Grace",
         "2017",
         "83.0",
         "Adventure,Animation,Comedy",
         "8.1",
         "263",
         "1",
         "Joe Finds Grace",
         "CA",
         "nm0365480",
         "Anthony Harrison",
         "actor,writer,producer"
        ],
        [
         "32",
         "tt0137204",
         "Joe Finds Grace",
         "Joe Finds Grace",
         "2017",
         "83.0",
         "Adventure,Animation,Comedy",
         "8.1",
         "263",
         "2",
         "Elephant Joe",
         null,
         "nm0365480",
         "Anthony Harrison",
         "actor,writer,producer"
        ],
        [
         "33",
         "tt0137204",
         "Joe Finds Grace",
         "Joe Finds Grace",
         "2017",
         "83.0",
         "Adventure,Animation,Comedy",
         "8.1",
         "263",
         "3",
         "Joe Finds Grace",
         null,
         "nm0365480",
         "Anthony Harrison",
         "actor,writer,producer"
        ],
        [
         "34",
         "tt0137204",
         "Joe Finds Grace",
         "Joe Finds Grace",
         "2017",
         "83.0",
         "Adventure,Animation,Comedy",
         "8.1",
         "263",
         "4",
         "Saving Grace",
         null,
         "nm0365480",
         "Anthony Harrison",
         "actor,writer,producer"
        ],
        [
         "35",
         "tt0146592",
         "Pál Adrienn",
         "Pál Adrienn",
         "2010",
         "136.0",
         "Drama",
         "6.8",
         "451",
         "1",
         "Adrienn Pal",
         "PL",
         "nm1030585",
         "Ágnes Kocsis",
         "director,writer,producer"
        ],
        [
         "36",
         "tt0146592",
         "Pál Adrienn",
         "Pál Adrienn",
         "2010",
         "136.0",
         "Drama",
         "6.8",
         "451",
         "2",
         "Адриен Пал",
         "BG",
         "nm1030585",
         "Ágnes Kocsis",
         "director,writer,producer"
        ],
        [
         "37",
         "tt0146592",
         "Pál Adrienn",
         "Pál Adrienn",
         "2010",
         "136.0",
         "Drama",
         "6.8",
         "451",
         "3",
         "Pal Adrienn",
         "HR",
         "nm1030585",
         "Ágnes Kocsis",
         "director,writer,producer"
        ],
        [
         "38",
         "tt0146592",
         "Pál Adrienn",
         "Pál Adrienn",
         "2010",
         "136.0",
         "Drama",
         "6.8",
         "451",
         "4",
         "Pál Adrienn",
         "HU",
         "nm1030585",
         "Ágnes Kocsis",
         "director,writer,producer"
        ],
        [
         "39",
         "tt0146592",
         "Pál Adrienn",
         "Pál Adrienn",
         "2010",
         "136.0",
         "Drama",
         "6.8",
         "451",
         "5",
         "Adrienn Pál",
         "SE",
         "nm1030585",
         "Ágnes Kocsis",
         "director,writer,producer"
        ],
        [
         "40",
         "tt0146592",
         "Pál Adrienn",
         "Pál Adrienn",
         "2010",
         "136.0",
         "Drama",
         "6.8",
         "451",
         "6",
         "Pál Adrienn",
         null,
         "nm1030585",
         "Ágnes Kocsis",
         "director,writer,producer"
        ],
        [
         "41",
         "tt0154039",
         "So Much for Justice!",
         "Oda az igazság",
         "2010",
         "100.0",
         "History",
         "4.6",
         "64",
         "1",
         "Oda az igazság",
         null,
         "nm0417352",
         "Miklós Jancsó",
         "director,writer,actor"
        ],
        [
         "42",
         "tt0154039",
         "So Much for Justice!",
         "Oda az igazság",
         "2010",
         "100.0",
         "History",
         "4.6",
         "64",
         "2",
         "Oda az igazság",
         "HU",
         "nm0417352",
         "Miklós Jancsó",
         "director,writer,actor"
        ],
        [
         "43",
         "tt0154039",
         "So Much for Justice!",
         "Oda az igazság",
         "2010",
         "100.0",
         "History",
         "4.6",
         "64",
         "3",
         "C'est la vérité",
         "FR",
         "nm0417352",
         "Miklós Jancsó",
         "director,writer,actor"
        ],
        [
         "44",
         "tt0154039",
         "So Much for Justice!",
         "Oda az igazság",
         "2010",
         "100.0",
         "History",
         "4.6",
         "64",
         "4",
         "So Much for Justice!",
         "XWW",
         "nm0417352",
         "Miklós Jancsó",
         "director,writer,actor"
        ],
        [
         "45",
         "tt0154039",
         "So Much for Justice!",
         "Oda az igazság",
         "2010",
         "100.0",
         "History",
         "4.6",
         "64",
         "5",
         "So Much for Justice",
         "FR",
         "nm0417352",
         "Miklós Jancsó",
         "director,writer,actor"
        ],
        [
         "46",
         "tt0154039",
         "So Much for Justice!",
         "Oda az igazság",
         "2010",
         "100.0",
         "History",
         "4.6",
         "64",
         "6",
         "Szlag trafil sprawiedliwosc",
         "PL",
         "nm0417352",
         "Miklós Jancsó",
         "director,writer,actor"
        ],
        [
         "47",
         "tt0162942",
         "Children of the Green Dragon",
         "A zöld sárkány gyermekei",
         "2010",
         "89.0",
         "Drama",
         "6.9",
         "120",
         "1",
         "Dzieci Zielonego Smoka",
         "PL",
         "nm1207262",
         "Bence Miklauzic",
         "director,writer,assistant_director"
        ],
        [
         "48",
         "tt0162942",
         "Children of the Green Dragon",
         "A zöld sárkány gyermekei",
         "2010",
         "89.0",
         "Drama",
         "6.9",
         "120",
         "2",
         "A zöld sárkány gyermekei",
         "HU",
         "nm1207262",
         "Bence Miklauzic",
         "director,writer,assistant_director"
        ],
        [
         "49",
         "tt0162942",
         "Children of the Green Dragon",
         "A zöld sárkány gyermekei",
         "2010",
         "89.0",
         "Drama",
         "6.9",
         "120",
         "3",
         "A zöld sárkány gyermekei",
         null,
         "nm1207262",
         "Bence Miklauzic",
         "director,writer,assistant_director"
        ]
       ],
       "shape": {
        "columns": 14,
        "rows": 296299
       }
      },
      "text/html": [
       "<div>\n",
       "<style scoped>\n",
       "    .dataframe tbody tr th:only-of-type {\n",
       "        vertical-align: middle;\n",
       "    }\n",
       "\n",
       "    .dataframe tbody tr th {\n",
       "        vertical-align: top;\n",
       "    }\n",
       "\n",
       "    .dataframe thead th {\n",
       "        text-align: right;\n",
       "    }\n",
       "</style>\n",
       "<table border=\"1\" class=\"dataframe\">\n",
       "  <thead>\n",
       "    <tr style=\"text-align: right;\">\n",
       "      <th></th>\n",
       "      <th>movie_id</th>\n",
       "      <th>primary_title</th>\n",
       "      <th>original_title</th>\n",
       "      <th>start_year</th>\n",
       "      <th>runtime_minutes</th>\n",
       "      <th>genres</th>\n",
       "      <th>averagerating</th>\n",
       "      <th>numvotes</th>\n",
       "      <th>ordering</th>\n",
       "      <th>region_title</th>\n",
       "      <th>region</th>\n",
       "      <th>person_id</th>\n",
       "      <th>primary_name</th>\n",
       "      <th>primary_profession</th>\n",
       "    </tr>\n",
       "  </thead>\n",
       "  <tbody>\n",
       "    <tr>\n",
       "      <th>0</th>\n",
       "      <td>tt0066787</td>\n",
       "      <td>One Day Before the Rainy Season</td>\n",
       "      <td>Ashad Ka Ek Din</td>\n",
       "      <td>2019</td>\n",
       "      <td>114.0</td>\n",
       "      <td>Biography,Drama</td>\n",
       "      <td>7.2</td>\n",
       "      <td>43</td>\n",
       "      <td>1</td>\n",
       "      <td>One Day Before the Rainy Season</td>\n",
       "      <td>XWW</td>\n",
       "      <td>nm0002411</td>\n",
       "      <td>Mani Kaul</td>\n",
       "      <td>director,writer,actor</td>\n",
       "    </tr>\n",
       "    <tr>\n",
       "      <th>1</th>\n",
       "      <td>tt0066787</td>\n",
       "      <td>One Day Before the Rainy Season</td>\n",
       "      <td>Ashad Ka Ek Din</td>\n",
       "      <td>2019</td>\n",
       "      <td>114.0</td>\n",
       "      <td>Biography,Drama</td>\n",
       "      <td>7.2</td>\n",
       "      <td>43</td>\n",
       "      <td>2</td>\n",
       "      <td>Ashad Ka Ek Din</td>\n",
       "      <td>IN</td>\n",
       "      <td>nm0002411</td>\n",
       "      <td>Mani Kaul</td>\n",
       "      <td>director,writer,actor</td>\n",
       "    </tr>\n",
       "    <tr>\n",
       "      <th>2</th>\n",
       "      <td>tt0066787</td>\n",
       "      <td>One Day Before the Rainy Season</td>\n",
       "      <td>Ashad Ka Ek Din</td>\n",
       "      <td>2019</td>\n",
       "      <td>114.0</td>\n",
       "      <td>Biography,Drama</td>\n",
       "      <td>7.2</td>\n",
       "      <td>43</td>\n",
       "      <td>3</td>\n",
       "      <td>One Monsoon Day</td>\n",
       "      <td>None</td>\n",
       "      <td>nm0002411</td>\n",
       "      <td>Mani Kaul</td>\n",
       "      <td>director,writer,actor</td>\n",
       "    </tr>\n",
       "    <tr>\n",
       "      <th>3</th>\n",
       "      <td>tt0066787</td>\n",
       "      <td>One Day Before the Rainy Season</td>\n",
       "      <td>Ashad Ka Ek Din</td>\n",
       "      <td>2019</td>\n",
       "      <td>114.0</td>\n",
       "      <td>Biography,Drama</td>\n",
       "      <td>7.2</td>\n",
       "      <td>43</td>\n",
       "      <td>4</td>\n",
       "      <td>Ashad Ka Ek Din</td>\n",
       "      <td>None</td>\n",
       "      <td>nm0002411</td>\n",
       "      <td>Mani Kaul</td>\n",
       "      <td>director,writer,actor</td>\n",
       "    </tr>\n",
       "    <tr>\n",
       "      <th>4</th>\n",
       "      <td>tt0069049</td>\n",
       "      <td>The Other Side of the Wind</td>\n",
       "      <td>The Other Side of the Wind</td>\n",
       "      <td>2018</td>\n",
       "      <td>122.0</td>\n",
       "      <td>Drama</td>\n",
       "      <td>6.9</td>\n",
       "      <td>4517</td>\n",
       "      <td>10</td>\n",
       "      <td>La otra cara del viento</td>\n",
       "      <td>VE</td>\n",
       "      <td>nm0000080</td>\n",
       "      <td>Orson Welles</td>\n",
       "      <td>actor,director,writer</td>\n",
       "    </tr>\n",
       "    <tr>\n",
       "      <th>...</th>\n",
       "      <td>...</td>\n",
       "      <td>...</td>\n",
       "      <td>...</td>\n",
       "      <td>...</td>\n",
       "      <td>...</td>\n",
       "      <td>...</td>\n",
       "      <td>...</td>\n",
       "      <td>...</td>\n",
       "      <td>...</td>\n",
       "      <td>...</td>\n",
       "      <td>...</td>\n",
       "      <td>...</td>\n",
       "      <td>...</td>\n",
       "      <td>...</td>\n",
       "    </tr>\n",
       "    <tr>\n",
       "      <th>296294</th>\n",
       "      <td>tt9905462</td>\n",
       "      <td>Pengalila</td>\n",
       "      <td>Pengalila</td>\n",
       "      <td>2019</td>\n",
       "      <td>111.0</td>\n",
       "      <td>Drama</td>\n",
       "      <td>8.4</td>\n",
       "      <td>600</td>\n",
       "      <td>2</td>\n",
       "      <td>Sisterleaf</td>\n",
       "      <td>IN</td>\n",
       "      <td>nm0151535</td>\n",
       "      <td>T.V. Chandran</td>\n",
       "      <td>director,writer,actor</td>\n",
       "    </tr>\n",
       "    <tr>\n",
       "      <th>296295</th>\n",
       "      <td>tt9905462</td>\n",
       "      <td>Pengalila</td>\n",
       "      <td>Pengalila</td>\n",
       "      <td>2019</td>\n",
       "      <td>111.0</td>\n",
       "      <td>Drama</td>\n",
       "      <td>8.4</td>\n",
       "      <td>600</td>\n",
       "      <td>3</td>\n",
       "      <td>Pengalila</td>\n",
       "      <td>IN</td>\n",
       "      <td>nm0151535</td>\n",
       "      <td>T.V. Chandran</td>\n",
       "      <td>director,writer,actor</td>\n",
       "    </tr>\n",
       "    <tr>\n",
       "      <th>296296</th>\n",
       "      <td>tt9911774</td>\n",
       "      <td>Padmavyuhathile Abhimanyu</td>\n",
       "      <td>Padmavyuhathile Abhimanyu</td>\n",
       "      <td>2019</td>\n",
       "      <td>130.0</td>\n",
       "      <td>Drama</td>\n",
       "      <td>8.4</td>\n",
       "      <td>365</td>\n",
       "      <td>1</td>\n",
       "      <td>Padmavyuhathile Abhimanyu</td>\n",
       "      <td>None</td>\n",
       "      <td>nm10536451</td>\n",
       "      <td>Vineesh Aaradya</td>\n",
       "      <td>writer,director</td>\n",
       "    </tr>\n",
       "    <tr>\n",
       "      <th>296297</th>\n",
       "      <td>tt9911774</td>\n",
       "      <td>Padmavyuhathile Abhimanyu</td>\n",
       "      <td>Padmavyuhathile Abhimanyu</td>\n",
       "      <td>2019</td>\n",
       "      <td>130.0</td>\n",
       "      <td>Drama</td>\n",
       "      <td>8.4</td>\n",
       "      <td>365</td>\n",
       "      <td>2</td>\n",
       "      <td>Pathmavyuhathile Abhimanyu</td>\n",
       "      <td>IN</td>\n",
       "      <td>nm10536451</td>\n",
       "      <td>Vineesh Aaradya</td>\n",
       "      <td>writer,director</td>\n",
       "    </tr>\n",
       "    <tr>\n",
       "      <th>296298</th>\n",
       "      <td>tt9911774</td>\n",
       "      <td>Padmavyuhathile Abhimanyu</td>\n",
       "      <td>Padmavyuhathile Abhimanyu</td>\n",
       "      <td>2019</td>\n",
       "      <td>130.0</td>\n",
       "      <td>Drama</td>\n",
       "      <td>8.4</td>\n",
       "      <td>365</td>\n",
       "      <td>3</td>\n",
       "      <td>Padmavyoohathile Abhimanyu</td>\n",
       "      <td>IN</td>\n",
       "      <td>nm10536451</td>\n",
       "      <td>Vineesh Aaradya</td>\n",
       "      <td>writer,director</td>\n",
       "    </tr>\n",
       "  </tbody>\n",
       "</table>\n",
       "<p>296299 rows × 14 columns</p>\n",
       "</div>"
      ],
      "text/plain": [
       "         movie_id                    primary_title  \\\n",
       "0       tt0066787  One Day Before the Rainy Season   \n",
       "1       tt0066787  One Day Before the Rainy Season   \n",
       "2       tt0066787  One Day Before the Rainy Season   \n",
       "3       tt0066787  One Day Before the Rainy Season   \n",
       "4       tt0069049       The Other Side of the Wind   \n",
       "...           ...                              ...   \n",
       "296294  tt9905462                        Pengalila   \n",
       "296295  tt9905462                        Pengalila   \n",
       "296296  tt9911774        Padmavyuhathile Abhimanyu   \n",
       "296297  tt9911774        Padmavyuhathile Abhimanyu   \n",
       "296298  tt9911774        Padmavyuhathile Abhimanyu   \n",
       "\n",
       "                    original_title  start_year  runtime_minutes  \\\n",
       "0                  Ashad Ka Ek Din        2019            114.0   \n",
       "1                  Ashad Ka Ek Din        2019            114.0   \n",
       "2                  Ashad Ka Ek Din        2019            114.0   \n",
       "3                  Ashad Ka Ek Din        2019            114.0   \n",
       "4       The Other Side of the Wind        2018            122.0   \n",
       "...                            ...         ...              ...   \n",
       "296294                   Pengalila        2019            111.0   \n",
       "296295                   Pengalila        2019            111.0   \n",
       "296296   Padmavyuhathile Abhimanyu        2019            130.0   \n",
       "296297   Padmavyuhathile Abhimanyu        2019            130.0   \n",
       "296298   Padmavyuhathile Abhimanyu        2019            130.0   \n",
       "\n",
       "                 genres  averagerating  numvotes  ordering  \\\n",
       "0       Biography,Drama            7.2        43         1   \n",
       "1       Biography,Drama            7.2        43         2   \n",
       "2       Biography,Drama            7.2        43         3   \n",
       "3       Biography,Drama            7.2        43         4   \n",
       "4                 Drama            6.9      4517        10   \n",
       "...                 ...            ...       ...       ...   \n",
       "296294            Drama            8.4       600         2   \n",
       "296295            Drama            8.4       600         3   \n",
       "296296            Drama            8.4       365         1   \n",
       "296297            Drama            8.4       365         2   \n",
       "296298            Drama            8.4       365         3   \n",
       "\n",
       "                           region_title region   person_id     primary_name  \\\n",
       "0       One Day Before the Rainy Season    XWW   nm0002411        Mani Kaul   \n",
       "1                       Ashad Ka Ek Din     IN   nm0002411        Mani Kaul   \n",
       "2                       One Monsoon Day   None   nm0002411        Mani Kaul   \n",
       "3                       Ashad Ka Ek Din   None   nm0002411        Mani Kaul   \n",
       "4               La otra cara del viento     VE   nm0000080     Orson Welles   \n",
       "...                                 ...    ...         ...              ...   \n",
       "296294                       Sisterleaf     IN   nm0151535    T.V. Chandran   \n",
       "296295                        Pengalila     IN   nm0151535    T.V. Chandran   \n",
       "296296        Padmavyuhathile Abhimanyu   None  nm10536451  Vineesh Aaradya   \n",
       "296297       Pathmavyuhathile Abhimanyu     IN  nm10536451  Vineesh Aaradya   \n",
       "296298       Padmavyoohathile Abhimanyu     IN  nm10536451  Vineesh Aaradya   \n",
       "\n",
       "           primary_profession  \n",
       "0       director,writer,actor  \n",
       "1       director,writer,actor  \n",
       "2       director,writer,actor  \n",
       "3       director,writer,actor  \n",
       "4       actor,director,writer  \n",
       "...                       ...  \n",
       "296294  director,writer,actor  \n",
       "296295  director,writer,actor  \n",
       "296296        writer,director  \n",
       "296297        writer,director  \n",
       "296298        writer,director  \n",
       "\n",
       "[296299 rows x 14 columns]"
      ]
     },
     "execution_count": 34,
     "metadata": {},
     "output_type": "execute_result"
    }
   ],
   "source": [
    "final_df = movie_merge.merge(people_merge1, on='movie_id', how='left')\n",
    "final_df"
   ]
  },
  {
   "cell_type": "code",
   "execution_count": 35,
   "metadata": {},
   "outputs": [
    {
     "name": "stdout",
     "output_type": "stream",
     "text": [
      "Index(['movie_id', 'movie_title', 'original_title', 'release_year',\n",
      "       'runtime_min', 'genres', 'imdb_rating', 'imdb_votes', 'alt_title',\n",
      "       'release_region', 'person_id', 'person_name', 'person_profession'],\n",
      "      dtype='object')\n"
     ]
    }
   ],
   "source": [
    "final_df.columns\n",
    "\n",
    "final_df = final_df.rename(columns={\n",
    "    'movie_id': 'movie_id',\n",
    "    'primary_title': 'movie_title',\n",
    "    'original_title': 'original_title',\n",
    "    'start_year': 'release_year',\n",
    "    'runtime_minutes': 'runtime_min',\n",
    "    'genres': 'genres',\n",
    "    'averagerating': 'imdb_rating',\n",
    "    'numvotes': 'imdb_votes',\n",
    "    'region_title': 'alt_title',\n",
    "    'region': 'release_region',\n",
    "    'person_id': 'person_id',\n",
    "    'primary_name': 'person_name',\n",
    "    'primary_profession': 'person_profession'\n",
    "})\n",
    "\n",
    "final_df = final_df.drop(columns='ordering')\n",
    "\n",
    "print(final_df.columns)\n"
   ]
  },
  {
   "cell_type": "code",
   "execution_count": 36,
   "metadata": {},
   "outputs": [
    {
     "data": {
      "application/vnd.microsoft.datawrangler.viewer.v0+json": {
       "columns": [
        {
         "name": "index",
         "rawType": "int64",
         "type": "integer"
        },
        {
         "name": "movie_id",
         "rawType": "object",
         "type": "string"
        },
        {
         "name": "movie_title",
         "rawType": "object",
         "type": "string"
        },
        {
         "name": "original_title",
         "rawType": "object",
         "type": "string"
        },
        {
         "name": "release_year",
         "rawType": "int64",
         "type": "integer"
        },
        {
         "name": "runtime_min",
         "rawType": "float64",
         "type": "float"
        },
        {
         "name": "genres",
         "rawType": "object",
         "type": "string"
        },
        {
         "name": "imdb_rating",
         "rawType": "float64",
         "type": "float"
        },
        {
         "name": "imdb_votes",
         "rawType": "int64",
         "type": "integer"
        },
        {
         "name": "alt_title",
         "rawType": "object",
         "type": "string"
        },
        {
         "name": "release_region",
         "rawType": "object",
         "type": "unknown"
        },
        {
         "name": "person_id",
         "rawType": "object",
         "type": "unknown"
        },
        {
         "name": "person_name",
         "rawType": "object",
         "type": "unknown"
        },
        {
         "name": "person_profession",
         "rawType": "object",
         "type": "unknown"
        }
       ],
       "ref": "421390da-b9d7-499f-84ba-135bbfb9dfad",
       "rows": [
        [
         "0",
         "tt0066787",
         "One Day Before the Rainy Season",
         "Ashad Ka Ek Din",
         "2019",
         "114.0",
         "Biography,Drama",
         "7.2",
         "43",
         "One Day Before the Rainy Season",
         "XWW",
         "nm0002411",
         "Mani Kaul",
         "director,writer,actor"
        ],
        [
         "1",
         "tt0066787",
         "One Day Before the Rainy Season",
         "Ashad Ka Ek Din",
         "2019",
         "114.0",
         "Biography,Drama",
         "7.2",
         "43",
         "Ashad Ka Ek Din",
         "IN",
         "nm0002411",
         "Mani Kaul",
         "director,writer,actor"
        ],
        [
         "2",
         "tt0066787",
         "One Day Before the Rainy Season",
         "Ashad Ka Ek Din",
         "2019",
         "114.0",
         "Biography,Drama",
         "7.2",
         "43",
         "One Monsoon Day",
         null,
         "nm0002411",
         "Mani Kaul",
         "director,writer,actor"
        ],
        [
         "3",
         "tt0066787",
         "One Day Before the Rainy Season",
         "Ashad Ka Ek Din",
         "2019",
         "114.0",
         "Biography,Drama",
         "7.2",
         "43",
         "Ashad Ka Ek Din",
         null,
         "nm0002411",
         "Mani Kaul",
         "director,writer,actor"
        ],
        [
         "4",
         "tt0069049",
         "The Other Side of the Wind",
         "The Other Side of the Wind",
         "2018",
         "122.0",
         "Drama",
         "6.9",
         "4517",
         "La otra cara del viento",
         "VE",
         "nm0000080",
         "Orson Welles",
         "actor,director,writer"
        ],
        [
         "5",
         "tt0069049",
         "The Other Side of the Wind",
         "The Other Side of the Wind",
         "2018",
         "122.0",
         "Drama",
         "6.9",
         "4517",
         "Druga strona wiatru",
         "PL",
         "nm0000080",
         "Orson Welles",
         "actor,director,writer"
        ],
        [
         "6",
         "tt0069049",
         "The Other Side of the Wind",
         "The Other Side of the Wind",
         "2018",
         "122.0",
         "Drama",
         "6.9",
         "4517",
         "The Other Side of the Wind",
         "DE",
         "nm0000080",
         "Orson Welles",
         "actor,director,writer"
        ],
        [
         "7",
         "tt0069049",
         "The Other Side of the Wind",
         "The Other Side of the Wind",
         "2018",
         "122.0",
         "Drama",
         "6.9",
         "4517",
         "O Outro Lado do Vento",
         "PT",
         "nm0000080",
         "Orson Welles",
         "actor,director,writer"
        ],
        [
         "8",
         "tt0069049",
         "The Other Side of the Wind",
         "The Other Side of the Wind",
         "2018",
         "122.0",
         "Drama",
         "6.9",
         "4517",
         "O Outro Lado do Vento",
         "BR",
         "nm0000080",
         "Orson Welles",
         "actor,director,writer"
        ],
        [
         "9",
         "tt0069049",
         "The Other Side of the Wind",
         "The Other Side of the Wind",
         "2018",
         "122.0",
         "Drama",
         "6.9",
         "4517",
         "The Other Side of the Wind",
         "US",
         "nm0000080",
         "Orson Welles",
         "actor,director,writer"
        ],
        [
         "10",
         "tt0069049",
         "The Other Side of the Wind",
         "The Other Side of the Wind",
         "2018",
         "122.0",
         "Drama",
         "6.9",
         "4517",
         "The Other Side of the Wind",
         "GB",
         "nm0000080",
         "Orson Welles",
         "actor,director,writer"
        ],
        [
         "11",
         "tt0069049",
         "The Other Side of the Wind",
         "The Other Side of the Wind",
         "2018",
         "122.0",
         "Drama",
         "6.9",
         "4517",
         "L'altra faccia del vento",
         "IT",
         "nm0000080",
         "Orson Welles",
         "actor,director,writer"
        ],
        [
         "12",
         "tt0069049",
         "The Other Side of the Wind",
         "The Other Side of the Wind",
         "2018",
         "122.0",
         "Drama",
         "6.9",
         "4517",
         "Другая сторона ветра",
         "RU",
         "nm0000080",
         "Orson Welles",
         "actor,director,writer"
        ],
        [
         "13",
         "tt0069049",
         "The Other Side of the Wind",
         "The Other Side of the Wind",
         "2018",
         "122.0",
         "Drama",
         "6.9",
         "4517",
         "Al otro lado del viento",
         "AR",
         "nm0000080",
         "Orson Welles",
         "actor,director,writer"
        ],
        [
         "14",
         "tt0069049",
         "The Other Side of the Wind",
         "The Other Side of the Wind",
         "2018",
         "122.0",
         "Drama",
         "6.9",
         "4517",
         "Al otro lado del viento",
         "ES",
         "nm0000080",
         "Orson Welles",
         "actor,director,writer"
        ],
        [
         "15",
         "tt0069049",
         "The Other Side of the Wind",
         "The Other Side of the Wind",
         "2018",
         "122.0",
         "Drama",
         "6.9",
         "4517",
         "The Other Side of the Wind",
         null,
         "nm0000080",
         "Orson Welles",
         "actor,director,writer"
        ],
        [
         "16",
         "tt0069049",
         "The Other Side of the Wind",
         "The Other Side of the Wind",
         "2018",
         "122.0",
         "Drama",
         "6.9",
         "4517",
         "De l'autre côté du vent",
         "FR",
         "nm0000080",
         "Orson Welles",
         "actor,director,writer"
        ],
        [
         "17",
         "tt0069204",
         "Sabse Bada Sukh",
         "Sabse Bada Sukh",
         "2018",
         "87.0",
         "Comedy,Drama",
         "6.1",
         "13",
         "Subse Bada Sukh",
         "IN",
         "nm0611531",
         "Hrishikesh Mukherjee",
         "director,editor,writer"
        ],
        [
         "18",
         "tt0069204",
         "Sabse Bada Sukh",
         "Sabse Bada Sukh",
         "2018",
         "87.0",
         "Comedy,Drama",
         "6.1",
         "13",
         "The Greatest Happiness",
         "IN",
         "nm0611531",
         "Hrishikesh Mukherjee",
         "director,editor,writer"
        ],
        [
         "19",
         "tt0069204",
         "Sabse Bada Sukh",
         "Sabse Bada Sukh",
         "2018",
         "87.0",
         "Comedy,Drama",
         "6.1",
         "13",
         "Sabse Bada Sukh",
         null,
         "nm0611531",
         "Hrishikesh Mukherjee",
         "director,editor,writer"
        ],
        [
         "20",
         "tt0100275",
         "The Wandering Soap Opera",
         "La Telenovela Errante",
         "2017",
         "80.0",
         "Comedy,Drama,Fantasy",
         "6.5",
         "119",
         "La Telenovela Errante",
         null,
         "nm0749914",
         "Raoul Ruiz",
         "director,writer,producer"
        ],
        [
         "21",
         "tt0100275",
         "The Wandering Soap Opera",
         "La Telenovela Errante",
         "2017",
         "80.0",
         "Comedy,Drama,Fantasy",
         "6.5",
         "119",
         "La Telenovela Errante",
         null,
         "nm0765384",
         "Valeria Sarmiento",
         "editor,director,writer"
        ],
        [
         "22",
         "tt0100275",
         "The Wandering Soap Opera",
         "La Telenovela Errante",
         "2017",
         "80.0",
         "Comedy,Drama,Fantasy",
         "6.5",
         "119",
         "The Wandering Soap Opera",
         "XWW",
         "nm0749914",
         "Raoul Ruiz",
         "director,writer,producer"
        ],
        [
         "23",
         "tt0100275",
         "The Wandering Soap Opera",
         "La Telenovela Errante",
         "2017",
         "80.0",
         "Comedy,Drama,Fantasy",
         "6.5",
         "119",
         "The Wandering Soap Opera",
         "XWW",
         "nm0765384",
         "Valeria Sarmiento",
         "editor,director,writer"
        ],
        [
         "24",
         "tt0100275",
         "The Wandering Soap Opera",
         "La Telenovela Errante",
         "2017",
         "80.0",
         "Comedy,Drama,Fantasy",
         "6.5",
         "119",
         "La Telenovela Errante",
         "CL",
         "nm0749914",
         "Raoul Ruiz",
         "director,writer,producer"
        ],
        [
         "25",
         "tt0100275",
         "The Wandering Soap Opera",
         "La Telenovela Errante",
         "2017",
         "80.0",
         "Comedy,Drama,Fantasy",
         "6.5",
         "119",
         "La Telenovela Errante",
         "CL",
         "nm0765384",
         "Valeria Sarmiento",
         "editor,director,writer"
        ],
        [
         "26",
         "tt0100275",
         "The Wandering Soap Opera",
         "La Telenovela Errante",
         "2017",
         "80.0",
         "Comedy,Drama,Fantasy",
         "6.5",
         "119",
         "La novela errante",
         "CL",
         "nm0749914",
         "Raoul Ruiz",
         "director,writer,producer"
        ],
        [
         "27",
         "tt0100275",
         "The Wandering Soap Opera",
         "La Telenovela Errante",
         "2017",
         "80.0",
         "Comedy,Drama,Fantasy",
         "6.5",
         "119",
         "La novela errante",
         "CL",
         "nm0765384",
         "Valeria Sarmiento",
         "editor,director,writer"
        ],
        [
         "28",
         "tt0100275",
         "The Wandering Soap Opera",
         "La Telenovela Errante",
         "2017",
         "80.0",
         "Comedy,Drama,Fantasy",
         "6.5",
         "119",
         "Objazdowa opera mydlana",
         "PL",
         "nm0749914",
         "Raoul Ruiz",
         "director,writer,producer"
        ],
        [
         "29",
         "tt0100275",
         "The Wandering Soap Opera",
         "La Telenovela Errante",
         "2017",
         "80.0",
         "Comedy,Drama,Fantasy",
         "6.5",
         "119",
         "Objazdowa opera mydlana",
         "PL",
         "nm0765384",
         "Valeria Sarmiento",
         "editor,director,writer"
        ],
        [
         "30",
         "tt0112502",
         "Bigfoot",
         "Bigfoot",
         "2017",
         "87.0",
         "Horror,Thriller",
         "4.1",
         "32",
         "Bigfoot",
         "US",
         "nm6883878",
         "Mc Jones",
         "actor,director"
        ],
        [
         "31",
         "tt0137204",
         "Joe Finds Grace",
         "Joe Finds Grace",
         "2017",
         "83.0",
         "Adventure,Animation,Comedy",
         "8.1",
         "263",
         "Joe Finds Grace",
         "CA",
         "nm0365480",
         "Anthony Harrison",
         "actor,writer,producer"
        ],
        [
         "32",
         "tt0137204",
         "Joe Finds Grace",
         "Joe Finds Grace",
         "2017",
         "83.0",
         "Adventure,Animation,Comedy",
         "8.1",
         "263",
         "Elephant Joe",
         null,
         "nm0365480",
         "Anthony Harrison",
         "actor,writer,producer"
        ],
        [
         "33",
         "tt0137204",
         "Joe Finds Grace",
         "Joe Finds Grace",
         "2017",
         "83.0",
         "Adventure,Animation,Comedy",
         "8.1",
         "263",
         "Joe Finds Grace",
         null,
         "nm0365480",
         "Anthony Harrison",
         "actor,writer,producer"
        ],
        [
         "34",
         "tt0137204",
         "Joe Finds Grace",
         "Joe Finds Grace",
         "2017",
         "83.0",
         "Adventure,Animation,Comedy",
         "8.1",
         "263",
         "Saving Grace",
         null,
         "nm0365480",
         "Anthony Harrison",
         "actor,writer,producer"
        ],
        [
         "35",
         "tt0146592",
         "Pál Adrienn",
         "Pál Adrienn",
         "2010",
         "136.0",
         "Drama",
         "6.8",
         "451",
         "Adrienn Pal",
         "PL",
         "nm1030585",
         "Ágnes Kocsis",
         "director,writer,producer"
        ],
        [
         "36",
         "tt0146592",
         "Pál Adrienn",
         "Pál Adrienn",
         "2010",
         "136.0",
         "Drama",
         "6.8",
         "451",
         "Адриен Пал",
         "BG",
         "nm1030585",
         "Ágnes Kocsis",
         "director,writer,producer"
        ],
        [
         "37",
         "tt0146592",
         "Pál Adrienn",
         "Pál Adrienn",
         "2010",
         "136.0",
         "Drama",
         "6.8",
         "451",
         "Pal Adrienn",
         "HR",
         "nm1030585",
         "Ágnes Kocsis",
         "director,writer,producer"
        ],
        [
         "38",
         "tt0146592",
         "Pál Adrienn",
         "Pál Adrienn",
         "2010",
         "136.0",
         "Drama",
         "6.8",
         "451",
         "Pál Adrienn",
         "HU",
         "nm1030585",
         "Ágnes Kocsis",
         "director,writer,producer"
        ],
        [
         "39",
         "tt0146592",
         "Pál Adrienn",
         "Pál Adrienn",
         "2010",
         "136.0",
         "Drama",
         "6.8",
         "451",
         "Adrienn Pál",
         "SE",
         "nm1030585",
         "Ágnes Kocsis",
         "director,writer,producer"
        ],
        [
         "40",
         "tt0146592",
         "Pál Adrienn",
         "Pál Adrienn",
         "2010",
         "136.0",
         "Drama",
         "6.8",
         "451",
         "Pál Adrienn",
         null,
         "nm1030585",
         "Ágnes Kocsis",
         "director,writer,producer"
        ],
        [
         "41",
         "tt0154039",
         "So Much for Justice!",
         "Oda az igazság",
         "2010",
         "100.0",
         "History",
         "4.6",
         "64",
         "Oda az igazság",
         null,
         "nm0417352",
         "Miklós Jancsó",
         "director,writer,actor"
        ],
        [
         "42",
         "tt0154039",
         "So Much for Justice!",
         "Oda az igazság",
         "2010",
         "100.0",
         "History",
         "4.6",
         "64",
         "Oda az igazság",
         "HU",
         "nm0417352",
         "Miklós Jancsó",
         "director,writer,actor"
        ],
        [
         "43",
         "tt0154039",
         "So Much for Justice!",
         "Oda az igazság",
         "2010",
         "100.0",
         "History",
         "4.6",
         "64",
         "C'est la vérité",
         "FR",
         "nm0417352",
         "Miklós Jancsó",
         "director,writer,actor"
        ],
        [
         "44",
         "tt0154039",
         "So Much for Justice!",
         "Oda az igazság",
         "2010",
         "100.0",
         "History",
         "4.6",
         "64",
         "So Much for Justice!",
         "XWW",
         "nm0417352",
         "Miklós Jancsó",
         "director,writer,actor"
        ],
        [
         "45",
         "tt0154039",
         "So Much for Justice!",
         "Oda az igazság",
         "2010",
         "100.0",
         "History",
         "4.6",
         "64",
         "So Much for Justice",
         "FR",
         "nm0417352",
         "Miklós Jancsó",
         "director,writer,actor"
        ],
        [
         "46",
         "tt0154039",
         "So Much for Justice!",
         "Oda az igazság",
         "2010",
         "100.0",
         "History",
         "4.6",
         "64",
         "Szlag trafil sprawiedliwosc",
         "PL",
         "nm0417352",
         "Miklós Jancsó",
         "director,writer,actor"
        ],
        [
         "47",
         "tt0162942",
         "Children of the Green Dragon",
         "A zöld sárkány gyermekei",
         "2010",
         "89.0",
         "Drama",
         "6.9",
         "120",
         "Dzieci Zielonego Smoka",
         "PL",
         "nm1207262",
         "Bence Miklauzic",
         "director,writer,assistant_director"
        ],
        [
         "48",
         "tt0162942",
         "Children of the Green Dragon",
         "A zöld sárkány gyermekei",
         "2010",
         "89.0",
         "Drama",
         "6.9",
         "120",
         "A zöld sárkány gyermekei",
         "HU",
         "nm1207262",
         "Bence Miklauzic",
         "director,writer,assistant_director"
        ],
        [
         "49",
         "tt0162942",
         "Children of the Green Dragon",
         "A zöld sárkány gyermekei",
         "2010",
         "89.0",
         "Drama",
         "6.9",
         "120",
         "A zöld sárkány gyermekei",
         null,
         "nm1207262",
         "Bence Miklauzic",
         "director,writer,assistant_director"
        ]
       ],
       "shape": {
        "columns": 13,
        "rows": 296299
       }
      },
      "text/html": [
       "<div>\n",
       "<style scoped>\n",
       "    .dataframe tbody tr th:only-of-type {\n",
       "        vertical-align: middle;\n",
       "    }\n",
       "\n",
       "    .dataframe tbody tr th {\n",
       "        vertical-align: top;\n",
       "    }\n",
       "\n",
       "    .dataframe thead th {\n",
       "        text-align: right;\n",
       "    }\n",
       "</style>\n",
       "<table border=\"1\" class=\"dataframe\">\n",
       "  <thead>\n",
       "    <tr style=\"text-align: right;\">\n",
       "      <th></th>\n",
       "      <th>movie_id</th>\n",
       "      <th>movie_title</th>\n",
       "      <th>original_title</th>\n",
       "      <th>release_year</th>\n",
       "      <th>runtime_min</th>\n",
       "      <th>genres</th>\n",
       "      <th>imdb_rating</th>\n",
       "      <th>imdb_votes</th>\n",
       "      <th>alt_title</th>\n",
       "      <th>release_region</th>\n",
       "      <th>person_id</th>\n",
       "      <th>person_name</th>\n",
       "      <th>person_profession</th>\n",
       "    </tr>\n",
       "  </thead>\n",
       "  <tbody>\n",
       "    <tr>\n",
       "      <th>0</th>\n",
       "      <td>tt0066787</td>\n",
       "      <td>One Day Before the Rainy Season</td>\n",
       "      <td>Ashad Ka Ek Din</td>\n",
       "      <td>2019</td>\n",
       "      <td>114.0</td>\n",
       "      <td>Biography,Drama</td>\n",
       "      <td>7.2</td>\n",
       "      <td>43</td>\n",
       "      <td>One Day Before the Rainy Season</td>\n",
       "      <td>XWW</td>\n",
       "      <td>nm0002411</td>\n",
       "      <td>Mani Kaul</td>\n",
       "      <td>director,writer,actor</td>\n",
       "    </tr>\n",
       "    <tr>\n",
       "      <th>1</th>\n",
       "      <td>tt0066787</td>\n",
       "      <td>One Day Before the Rainy Season</td>\n",
       "      <td>Ashad Ka Ek Din</td>\n",
       "      <td>2019</td>\n",
       "      <td>114.0</td>\n",
       "      <td>Biography,Drama</td>\n",
       "      <td>7.2</td>\n",
       "      <td>43</td>\n",
       "      <td>Ashad Ka Ek Din</td>\n",
       "      <td>IN</td>\n",
       "      <td>nm0002411</td>\n",
       "      <td>Mani Kaul</td>\n",
       "      <td>director,writer,actor</td>\n",
       "    </tr>\n",
       "    <tr>\n",
       "      <th>2</th>\n",
       "      <td>tt0066787</td>\n",
       "      <td>One Day Before the Rainy Season</td>\n",
       "      <td>Ashad Ka Ek Din</td>\n",
       "      <td>2019</td>\n",
       "      <td>114.0</td>\n",
       "      <td>Biography,Drama</td>\n",
       "      <td>7.2</td>\n",
       "      <td>43</td>\n",
       "      <td>One Monsoon Day</td>\n",
       "      <td>None</td>\n",
       "      <td>nm0002411</td>\n",
       "      <td>Mani Kaul</td>\n",
       "      <td>director,writer,actor</td>\n",
       "    </tr>\n",
       "    <tr>\n",
       "      <th>3</th>\n",
       "      <td>tt0066787</td>\n",
       "      <td>One Day Before the Rainy Season</td>\n",
       "      <td>Ashad Ka Ek Din</td>\n",
       "      <td>2019</td>\n",
       "      <td>114.0</td>\n",
       "      <td>Biography,Drama</td>\n",
       "      <td>7.2</td>\n",
       "      <td>43</td>\n",
       "      <td>Ashad Ka Ek Din</td>\n",
       "      <td>None</td>\n",
       "      <td>nm0002411</td>\n",
       "      <td>Mani Kaul</td>\n",
       "      <td>director,writer,actor</td>\n",
       "    </tr>\n",
       "    <tr>\n",
       "      <th>4</th>\n",
       "      <td>tt0069049</td>\n",
       "      <td>The Other Side of the Wind</td>\n",
       "      <td>The Other Side of the Wind</td>\n",
       "      <td>2018</td>\n",
       "      <td>122.0</td>\n",
       "      <td>Drama</td>\n",
       "      <td>6.9</td>\n",
       "      <td>4517</td>\n",
       "      <td>La otra cara del viento</td>\n",
       "      <td>VE</td>\n",
       "      <td>nm0000080</td>\n",
       "      <td>Orson Welles</td>\n",
       "      <td>actor,director,writer</td>\n",
       "    </tr>\n",
       "    <tr>\n",
       "      <th>...</th>\n",
       "      <td>...</td>\n",
       "      <td>...</td>\n",
       "      <td>...</td>\n",
       "      <td>...</td>\n",
       "      <td>...</td>\n",
       "      <td>...</td>\n",
       "      <td>...</td>\n",
       "      <td>...</td>\n",
       "      <td>...</td>\n",
       "      <td>...</td>\n",
       "      <td>...</td>\n",
       "      <td>...</td>\n",
       "      <td>...</td>\n",
       "    </tr>\n",
       "    <tr>\n",
       "      <th>296294</th>\n",
       "      <td>tt9905462</td>\n",
       "      <td>Pengalila</td>\n",
       "      <td>Pengalila</td>\n",
       "      <td>2019</td>\n",
       "      <td>111.0</td>\n",
       "      <td>Drama</td>\n",
       "      <td>8.4</td>\n",
       "      <td>600</td>\n",
       "      <td>Sisterleaf</td>\n",
       "      <td>IN</td>\n",
       "      <td>nm0151535</td>\n",
       "      <td>T.V. Chandran</td>\n",
       "      <td>director,writer,actor</td>\n",
       "    </tr>\n",
       "    <tr>\n",
       "      <th>296295</th>\n",
       "      <td>tt9905462</td>\n",
       "      <td>Pengalila</td>\n",
       "      <td>Pengalila</td>\n",
       "      <td>2019</td>\n",
       "      <td>111.0</td>\n",
       "      <td>Drama</td>\n",
       "      <td>8.4</td>\n",
       "      <td>600</td>\n",
       "      <td>Pengalila</td>\n",
       "      <td>IN</td>\n",
       "      <td>nm0151535</td>\n",
       "      <td>T.V. Chandran</td>\n",
       "      <td>director,writer,actor</td>\n",
       "    </tr>\n",
       "    <tr>\n",
       "      <th>296296</th>\n",
       "      <td>tt9911774</td>\n",
       "      <td>Padmavyuhathile Abhimanyu</td>\n",
       "      <td>Padmavyuhathile Abhimanyu</td>\n",
       "      <td>2019</td>\n",
       "      <td>130.0</td>\n",
       "      <td>Drama</td>\n",
       "      <td>8.4</td>\n",
       "      <td>365</td>\n",
       "      <td>Padmavyuhathile Abhimanyu</td>\n",
       "      <td>None</td>\n",
       "      <td>nm10536451</td>\n",
       "      <td>Vineesh Aaradya</td>\n",
       "      <td>writer,director</td>\n",
       "    </tr>\n",
       "    <tr>\n",
       "      <th>296297</th>\n",
       "      <td>tt9911774</td>\n",
       "      <td>Padmavyuhathile Abhimanyu</td>\n",
       "      <td>Padmavyuhathile Abhimanyu</td>\n",
       "      <td>2019</td>\n",
       "      <td>130.0</td>\n",
       "      <td>Drama</td>\n",
       "      <td>8.4</td>\n",
       "      <td>365</td>\n",
       "      <td>Pathmavyuhathile Abhimanyu</td>\n",
       "      <td>IN</td>\n",
       "      <td>nm10536451</td>\n",
       "      <td>Vineesh Aaradya</td>\n",
       "      <td>writer,director</td>\n",
       "    </tr>\n",
       "    <tr>\n",
       "      <th>296298</th>\n",
       "      <td>tt9911774</td>\n",
       "      <td>Padmavyuhathile Abhimanyu</td>\n",
       "      <td>Padmavyuhathile Abhimanyu</td>\n",
       "      <td>2019</td>\n",
       "      <td>130.0</td>\n",
       "      <td>Drama</td>\n",
       "      <td>8.4</td>\n",
       "      <td>365</td>\n",
       "      <td>Padmavyoohathile Abhimanyu</td>\n",
       "      <td>IN</td>\n",
       "      <td>nm10536451</td>\n",
       "      <td>Vineesh Aaradya</td>\n",
       "      <td>writer,director</td>\n",
       "    </tr>\n",
       "  </tbody>\n",
       "</table>\n",
       "<p>296299 rows × 13 columns</p>\n",
       "</div>"
      ],
      "text/plain": [
       "         movie_id                      movie_title  \\\n",
       "0       tt0066787  One Day Before the Rainy Season   \n",
       "1       tt0066787  One Day Before the Rainy Season   \n",
       "2       tt0066787  One Day Before the Rainy Season   \n",
       "3       tt0066787  One Day Before the Rainy Season   \n",
       "4       tt0069049       The Other Side of the Wind   \n",
       "...           ...                              ...   \n",
       "296294  tt9905462                        Pengalila   \n",
       "296295  tt9905462                        Pengalila   \n",
       "296296  tt9911774        Padmavyuhathile Abhimanyu   \n",
       "296297  tt9911774        Padmavyuhathile Abhimanyu   \n",
       "296298  tt9911774        Padmavyuhathile Abhimanyu   \n",
       "\n",
       "                    original_title  release_year  runtime_min  \\\n",
       "0                  Ashad Ka Ek Din          2019        114.0   \n",
       "1                  Ashad Ka Ek Din          2019        114.0   \n",
       "2                  Ashad Ka Ek Din          2019        114.0   \n",
       "3                  Ashad Ka Ek Din          2019        114.0   \n",
       "4       The Other Side of the Wind          2018        122.0   \n",
       "...                            ...           ...          ...   \n",
       "296294                   Pengalila          2019        111.0   \n",
       "296295                   Pengalila          2019        111.0   \n",
       "296296   Padmavyuhathile Abhimanyu          2019        130.0   \n",
       "296297   Padmavyuhathile Abhimanyu          2019        130.0   \n",
       "296298   Padmavyuhathile Abhimanyu          2019        130.0   \n",
       "\n",
       "                 genres  imdb_rating  imdb_votes  \\\n",
       "0       Biography,Drama          7.2          43   \n",
       "1       Biography,Drama          7.2          43   \n",
       "2       Biography,Drama          7.2          43   \n",
       "3       Biography,Drama          7.2          43   \n",
       "4                 Drama          6.9        4517   \n",
       "...                 ...          ...         ...   \n",
       "296294            Drama          8.4         600   \n",
       "296295            Drama          8.4         600   \n",
       "296296            Drama          8.4         365   \n",
       "296297            Drama          8.4         365   \n",
       "296298            Drama          8.4         365   \n",
       "\n",
       "                              alt_title release_region   person_id  \\\n",
       "0       One Day Before the Rainy Season            XWW   nm0002411   \n",
       "1                       Ashad Ka Ek Din             IN   nm0002411   \n",
       "2                       One Monsoon Day           None   nm0002411   \n",
       "3                       Ashad Ka Ek Din           None   nm0002411   \n",
       "4               La otra cara del viento             VE   nm0000080   \n",
       "...                                 ...            ...         ...   \n",
       "296294                       Sisterleaf             IN   nm0151535   \n",
       "296295                        Pengalila             IN   nm0151535   \n",
       "296296        Padmavyuhathile Abhimanyu           None  nm10536451   \n",
       "296297       Pathmavyuhathile Abhimanyu             IN  nm10536451   \n",
       "296298       Padmavyoohathile Abhimanyu             IN  nm10536451   \n",
       "\n",
       "            person_name      person_profession  \n",
       "0             Mani Kaul  director,writer,actor  \n",
       "1             Mani Kaul  director,writer,actor  \n",
       "2             Mani Kaul  director,writer,actor  \n",
       "3             Mani Kaul  director,writer,actor  \n",
       "4          Orson Welles  actor,director,writer  \n",
       "...                 ...                    ...  \n",
       "296294    T.V. Chandran  director,writer,actor  \n",
       "296295    T.V. Chandran  director,writer,actor  \n",
       "296296  Vineesh Aaradya        writer,director  \n",
       "296297  Vineesh Aaradya        writer,director  \n",
       "296298  Vineesh Aaradya        writer,director  \n",
       "\n",
       "[296299 rows x 13 columns]"
      ]
     },
     "execution_count": 36,
     "metadata": {},
     "output_type": "execute_result"
    }
   ],
   "source": [
    "final_df"
   ]
  },
  {
   "cell_type": "code",
   "execution_count": 37,
   "metadata": {},
   "outputs": [
    {
     "data": {
      "application/vnd.microsoft.datawrangler.viewer.v0+json": {
       "columns": [
        {
         "name": "index",
         "rawType": "int64",
         "type": "integer"
        },
        {
         "name": "title",
         "rawType": "object",
         "type": "string"
        },
        {
         "name": "studio",
         "rawType": "object",
         "type": "unknown"
        },
        {
         "name": "domestic_gross",
         "rawType": "float64",
         "type": "float"
        },
        {
         "name": "foreign_gross",
         "rawType": "object",
         "type": "unknown"
        },
        {
         "name": "year",
         "rawType": "int64",
         "type": "integer"
        }
       ],
       "ref": "98ee3c62-a9e4-4190-b062-3fa3b1851e35",
       "rows": [
        [
         "0",
         "Toy Story 3",
         "BV",
         "415000000.0",
         "652000000",
         "2010"
        ],
        [
         "1",
         "Alice in Wonderland (2010)",
         "BV",
         "334200000.0",
         "691300000",
         "2010"
        ],
        [
         "2",
         "Harry Potter and the Deathly Hallows Part 1",
         "WB",
         "296000000.0",
         "664300000",
         "2010"
        ],
        [
         "3",
         "Inception",
         "WB",
         "292600000.0",
         "535700000",
         "2010"
        ],
        [
         "4",
         "Shrek Forever After",
         "P/DW",
         "238700000.0",
         "513900000",
         "2010"
        ],
        [
         "5",
         "The Twilight Saga: Eclipse",
         "Sum.",
         "300500000.0",
         "398000000",
         "2010"
        ],
        [
         "6",
         "Iron Man 2",
         "Par.",
         "312400000.0",
         "311500000",
         "2010"
        ],
        [
         "7",
         "Tangled",
         "BV",
         "200800000.0",
         "391000000",
         "2010"
        ],
        [
         "8",
         "Despicable Me",
         "Uni.",
         "251500000.0",
         "291600000",
         "2010"
        ],
        [
         "9",
         "How to Train Your Dragon",
         "P/DW",
         "217600000.0",
         "277300000",
         "2010"
        ],
        [
         "10",
         "Clash of the Titans (2010)",
         "WB",
         "163200000.0",
         "330000000",
         "2010"
        ],
        [
         "11",
         "The Chronicles of Narnia: The Voyage of the Dawn Treader",
         "Fox",
         "104400000.0",
         "311300000",
         "2010"
        ],
        [
         "12",
         "The King's Speech",
         "Wein.",
         "135500000.0",
         "275400000",
         "2010"
        ],
        [
         "13",
         "Tron Legacy",
         "BV",
         "172100000.0",
         "228000000",
         "2010"
        ],
        [
         "14",
         "The Karate Kid",
         "Sony",
         "176600000.0",
         "182500000",
         "2010"
        ],
        [
         "15",
         "Prince of Persia: The Sands of Time",
         "BV",
         "90800000.0",
         "245600000",
         "2010"
        ],
        [
         "16",
         "Black Swan",
         "FoxS",
         "107000000.0",
         "222400000",
         "2010"
        ],
        [
         "17",
         "Megamind",
         "P/DW",
         "148400000.0",
         "173500000",
         "2010"
        ],
        [
         "18",
         "Robin Hood",
         "Uni.",
         "105300000.0",
         "216400000",
         "2010"
        ],
        [
         "19",
         "The Last Airbender",
         "Par.",
         "131800000.0",
         "187900000",
         "2010"
        ],
        [
         "20",
         "Little Fockers",
         "Uni.",
         "148400000.0",
         "162200000",
         "2010"
        ],
        [
         "21",
         "Resident Evil: Afterlife",
         "SGem",
         "60100000.0",
         "240100000",
         "2010"
        ],
        [
         "22",
         "Shutter Island",
         "Par.",
         "128000000.0",
         "166800000",
         "2010"
        ],
        [
         "23",
         "Salt",
         "Sony",
         "118300000.0",
         "175200000",
         "2010"
        ],
        [
         "24",
         "Sex and the City 2",
         "WB (NL)",
         "95300000.0",
         "193000000",
         "2010"
        ],
        [
         "25",
         "The Tourist",
         "Sony",
         "67600000.0",
         "210700000",
         "2010"
        ],
        [
         "26",
         "The Expendables",
         "LGF",
         "103100000.0",
         "171400000",
         "2010"
        ],
        [
         "27",
         "Grown Ups",
         "Sony",
         "162000000.0",
         "109400000",
         "2010"
        ],
        [
         "28",
         "Knight & Day",
         "Fox",
         "76400000.0",
         "185500000",
         "2010"
        ],
        [
         "29",
         "True Grit",
         "Par.",
         "171200000.0",
         "81000000",
         "2010"
        ],
        [
         "30",
         "Gulliver's Travels",
         "Fox",
         "42800000.0",
         "194600000",
         "2010"
        ],
        [
         "31",
         "Percy Jackson & The Olympians: The Lightning Thief",
         "Fox",
         "88800000.0",
         "137700000",
         "2010"
        ],
        [
         "32",
         "The Social Network",
         "Sony",
         "97000000.0",
         "128000000",
         "2010"
        ],
        [
         "33",
         "Valentine's Day",
         "WB (NL)",
         "110500000.0",
         "106000000",
         "2010"
        ],
        [
         "34",
         "The Sorcerer's Apprentice",
         "BV",
         "63200000.0",
         "152100000",
         "2010"
        ],
        [
         "35",
         "Due Date",
         "WB",
         "100500000.0",
         "111200000",
         "2010"
        ],
        [
         "36",
         "Eat Pray Love",
         "Sony",
         "80600000.0",
         "124000000",
         "2010"
        ],
        [
         "37",
         "Yogi Bear",
         "WB",
         "100200000.0",
         "101300000",
         "2010"
        ],
        [
         "38",
         "Red",
         "Sum.",
         "90400000.0",
         "108600000",
         "2010"
        ],
        [
         "39",
         "Paranormal Activity 2",
         "Par.",
         "84800000.0",
         "92800000",
         "2010"
        ],
        [
         "40",
         "The A-Team",
         "Fox",
         "77200000.0",
         "100000000",
         "2010"
        ],
        [
         "41",
         "Jackass 3-D",
         "Par.",
         "117200000.0",
         "54500000",
         "2010"
        ],
        [
         "42",
         "The Other Guys",
         "Sony",
         "119200000.0",
         "51200000",
         "2010"
        ],
        [
         "43",
         "Unstoppable",
         "Fox",
         "81600000.0",
         "86200000",
         "2010"
        ],
        [
         "44",
         "Step Up 3-D",
         "BV",
         "42400000.0",
         "116900000",
         "2010"
        ],
        [
         "45",
         "The Book of Eli",
         "WB",
         "94800000.0",
         "62300000",
         "2010"
        ],
        [
         "46",
         "The Town",
         "WB",
         "92200000.0",
         "61800000",
         "2010"
        ],
        [
         "47",
         "Date Night",
         "Fox",
         "98700000.0",
         "53600000",
         "2010"
        ],
        [
         "48",
         "Legend of the Guardians: The Owls of Ga'Hoole",
         "WB",
         "55700000.0",
         "84400000",
         "2010"
        ],
        [
         "49",
         "The Wolfman",
         "Uni.",
         "62000000.0",
         "77800000",
         "2010"
        ]
       ],
       "shape": {
        "columns": 5,
        "rows": 3387
       }
      },
      "text/html": [
       "<div>\n",
       "<style scoped>\n",
       "    .dataframe tbody tr th:only-of-type {\n",
       "        vertical-align: middle;\n",
       "    }\n",
       "\n",
       "    .dataframe tbody tr th {\n",
       "        vertical-align: top;\n",
       "    }\n",
       "\n",
       "    .dataframe thead th {\n",
       "        text-align: right;\n",
       "    }\n",
       "</style>\n",
       "<table border=\"1\" class=\"dataframe\">\n",
       "  <thead>\n",
       "    <tr style=\"text-align: right;\">\n",
       "      <th></th>\n",
       "      <th>title</th>\n",
       "      <th>studio</th>\n",
       "      <th>domestic_gross</th>\n",
       "      <th>foreign_gross</th>\n",
       "      <th>year</th>\n",
       "    </tr>\n",
       "  </thead>\n",
       "  <tbody>\n",
       "    <tr>\n",
       "      <th>0</th>\n",
       "      <td>Toy Story 3</td>\n",
       "      <td>BV</td>\n",
       "      <td>415000000.0</td>\n",
       "      <td>652000000</td>\n",
       "      <td>2010</td>\n",
       "    </tr>\n",
       "    <tr>\n",
       "      <th>1</th>\n",
       "      <td>Alice in Wonderland (2010)</td>\n",
       "      <td>BV</td>\n",
       "      <td>334200000.0</td>\n",
       "      <td>691300000</td>\n",
       "      <td>2010</td>\n",
       "    </tr>\n",
       "    <tr>\n",
       "      <th>2</th>\n",
       "      <td>Harry Potter and the Deathly Hallows Part 1</td>\n",
       "      <td>WB</td>\n",
       "      <td>296000000.0</td>\n",
       "      <td>664300000</td>\n",
       "      <td>2010</td>\n",
       "    </tr>\n",
       "    <tr>\n",
       "      <th>3</th>\n",
       "      <td>Inception</td>\n",
       "      <td>WB</td>\n",
       "      <td>292600000.0</td>\n",
       "      <td>535700000</td>\n",
       "      <td>2010</td>\n",
       "    </tr>\n",
       "    <tr>\n",
       "      <th>4</th>\n",
       "      <td>Shrek Forever After</td>\n",
       "      <td>P/DW</td>\n",
       "      <td>238700000.0</td>\n",
       "      <td>513900000</td>\n",
       "      <td>2010</td>\n",
       "    </tr>\n",
       "    <tr>\n",
       "      <th>...</th>\n",
       "      <td>...</td>\n",
       "      <td>...</td>\n",
       "      <td>...</td>\n",
       "      <td>...</td>\n",
       "      <td>...</td>\n",
       "    </tr>\n",
       "    <tr>\n",
       "      <th>3382</th>\n",
       "      <td>The Quake</td>\n",
       "      <td>Magn.</td>\n",
       "      <td>6200.0</td>\n",
       "      <td>NaN</td>\n",
       "      <td>2018</td>\n",
       "    </tr>\n",
       "    <tr>\n",
       "      <th>3383</th>\n",
       "      <td>Edward II (2018 re-release)</td>\n",
       "      <td>FM</td>\n",
       "      <td>4800.0</td>\n",
       "      <td>NaN</td>\n",
       "      <td>2018</td>\n",
       "    </tr>\n",
       "    <tr>\n",
       "      <th>3384</th>\n",
       "      <td>El Pacto</td>\n",
       "      <td>Sony</td>\n",
       "      <td>2500.0</td>\n",
       "      <td>NaN</td>\n",
       "      <td>2018</td>\n",
       "    </tr>\n",
       "    <tr>\n",
       "      <th>3385</th>\n",
       "      <td>The Swan</td>\n",
       "      <td>Synergetic</td>\n",
       "      <td>2400.0</td>\n",
       "      <td>NaN</td>\n",
       "      <td>2018</td>\n",
       "    </tr>\n",
       "    <tr>\n",
       "      <th>3386</th>\n",
       "      <td>An Actor Prepares</td>\n",
       "      <td>Grav.</td>\n",
       "      <td>1700.0</td>\n",
       "      <td>NaN</td>\n",
       "      <td>2018</td>\n",
       "    </tr>\n",
       "  </tbody>\n",
       "</table>\n",
       "<p>3387 rows × 5 columns</p>\n",
       "</div>"
      ],
      "text/plain": [
       "                                            title      studio  domestic_gross  \\\n",
       "0                                     Toy Story 3          BV     415000000.0   \n",
       "1                      Alice in Wonderland (2010)          BV     334200000.0   \n",
       "2     Harry Potter and the Deathly Hallows Part 1          WB     296000000.0   \n",
       "3                                       Inception          WB     292600000.0   \n",
       "4                             Shrek Forever After        P/DW     238700000.0   \n",
       "...                                           ...         ...             ...   \n",
       "3382                                    The Quake       Magn.          6200.0   \n",
       "3383                  Edward II (2018 re-release)          FM          4800.0   \n",
       "3384                                     El Pacto        Sony          2500.0   \n",
       "3385                                     The Swan  Synergetic          2400.0   \n",
       "3386                            An Actor Prepares       Grav.          1700.0   \n",
       "\n",
       "     foreign_gross  year  \n",
       "0        652000000  2010  \n",
       "1        691300000  2010  \n",
       "2        664300000  2010  \n",
       "3        535700000  2010  \n",
       "4        513900000  2010  \n",
       "...            ...   ...  \n",
       "3382           NaN  2018  \n",
       "3383           NaN  2018  \n",
       "3384           NaN  2018  \n",
       "3385           NaN  2018  \n",
       "3386           NaN  2018  \n",
       "\n",
       "[3387 rows x 5 columns]"
      ]
     },
     "execution_count": 37,
     "metadata": {},
     "output_type": "execute_result"
    }
   ],
   "source": [
    "bom_movie"
   ]
  },
  {
   "cell_type": "code",
   "execution_count": 38,
   "metadata": {},
   "outputs": [],
   "source": [
    "bom_movie_cp = bom_movie.copy(deep=True)\n",
    "bom_movie_cp = bom_movie_cp.drop(columns=['domestic_gross', 'foreign_gross', 'studio'])"
   ]
  },
  {
   "cell_type": "code",
   "execution_count": 39,
   "metadata": {},
   "outputs": [
    {
     "data": {
      "application/vnd.microsoft.datawrangler.viewer.v0+json": {
       "columns": [
        {
         "name": "index",
         "rawType": "int64",
         "type": "integer"
        },
        {
         "name": "id",
         "rawType": "int64",
         "type": "integer"
        },
        {
         "name": "release_date",
         "rawType": "object",
         "type": "string"
        },
        {
         "name": "movie",
         "rawType": "object",
         "type": "string"
        },
        {
         "name": "production_budget",
         "rawType": "object",
         "type": "string"
        },
        {
         "name": "domestic_gross",
         "rawType": "object",
         "type": "string"
        },
        {
         "name": "worldwide_gross",
         "rawType": "object",
         "type": "string"
        }
       ],
       "ref": "5a01fb66-d134-4252-938d-7b82234a5ff7",
       "rows": [
        [
         "0",
         "1",
         "Dec 18, 2009",
         "Avatar",
         "$425,000,000",
         "$760,507,625",
         "$2,776,345,279"
        ],
        [
         "1",
         "2",
         "May 20, 2011",
         "Pirates of the Caribbean: On Stranger Tides",
         "$410,600,000",
         "$241,063,875",
         "$1,045,663,875"
        ],
        [
         "2",
         "3",
         "Jun 7, 2019",
         "Dark Phoenix",
         "$350,000,000",
         "$42,762,350",
         "$149,762,350"
        ],
        [
         "3",
         "4",
         "May 1, 2015",
         "Avengers: Age of Ultron",
         "$330,600,000",
         "$459,005,868",
         "$1,403,013,963"
        ],
        [
         "4",
         "5",
         "Dec 15, 2017",
         "Star Wars Ep. VIII: The Last Jedi",
         "$317,000,000",
         "$620,181,382",
         "$1,316,721,747"
        ],
        [
         "5",
         "6",
         "Dec 18, 2015",
         "Star Wars Ep. VII: The Force Awakens",
         "$306,000,000",
         "$936,662,225",
         "$2,053,311,220"
        ],
        [
         "6",
         "7",
         "Apr 27, 2018",
         "Avengers: Infinity War",
         "$300,000,000",
         "$678,815,482",
         "$2,048,134,200"
        ],
        [
         "7",
         "8",
         "May 24, 2007",
         "Pirates of the Caribbean: At Worldâs End",
         "$300,000,000",
         "$309,420,425",
         "$963,420,425"
        ],
        [
         "8",
         "9",
         "Nov 17, 2017",
         "Justice League",
         "$300,000,000",
         "$229,024,295",
         "$655,945,209"
        ],
        [
         "9",
         "10",
         "Nov 6, 2015",
         "Spectre",
         "$300,000,000",
         "$200,074,175",
         "$879,620,923"
        ],
        [
         "10",
         "11",
         "Jul 20, 2012",
         "The Dark Knight Rises",
         "$275,000,000",
         "$448,139,099",
         "$1,084,439,099"
        ],
        [
         "11",
         "12",
         "May 25, 2018",
         "Solo: A Star Wars Story",
         "$275,000,000",
         "$213,767,512",
         "$393,151,347"
        ],
        [
         "12",
         "13",
         "Jul 2, 2013",
         "The Lone Ranger",
         "$275,000,000",
         "$89,302,115",
         "$260,002,115"
        ],
        [
         "13",
         "14",
         "Mar 9, 2012",
         "John Carter",
         "$275,000,000",
         "$73,058,679",
         "$282,778,100"
        ],
        [
         "14",
         "15",
         "Nov 24, 2010",
         "Tangled",
         "$260,000,000",
         "$200,821,936",
         "$586,477,240"
        ],
        [
         "15",
         "16",
         "May 4, 2007",
         "Spider-Man 3",
         "$258,000,000",
         "$336,530,303",
         "$894,860,230"
        ],
        [
         "16",
         "17",
         "May 6, 2016",
         "Captain America: Civil War",
         "$250,000,000",
         "$408,084,349",
         "$1,140,069,413"
        ],
        [
         "17",
         "18",
         "Mar 25, 2016",
         "Batman v Superman: Dawn of Justice",
         "$250,000,000",
         "$330,360,194",
         "$867,500,281"
        ],
        [
         "18",
         "19",
         "Dec 14, 2012",
         "The Hobbit: An Unexpected Journey",
         "$250,000,000",
         "$303,003,568",
         "$1,017,003,568"
        ],
        [
         "19",
         "20",
         "Jul 15, 2009",
         "Harry Potter and the Half-Blood Prince",
         "$250,000,000",
         "$302,089,278",
         "$935,213,767"
        ],
        [
         "20",
         "21",
         "Dec 13, 2013",
         "The Hobbit: The Desolation of Smaug",
         "$250,000,000",
         "$258,366,855",
         "$960,366,855"
        ],
        [
         "21",
         "22",
         "Dec 17, 2014",
         "The Hobbit: The Battle of the Five Armies",
         "$250,000,000",
         "$255,119,788",
         "$945,577,621"
        ],
        [
         "22",
         "23",
         "Apr 14, 2017",
         "The Fate of the Furious",
         "$250,000,000",
         "$225,764,765",
         "$1,234,846,267"
        ],
        [
         "23",
         "24",
         "Jun 28, 2006",
         "Superman Returns",
         "$232,000,000",
         "$200,120,000",
         "$374,085,065"
        ],
        [
         "24",
         "25",
         "May 26, 2017",
         "Pirates of the Caribbean: Dead Men Tell No Tales",
         "$230,000,000",
         "$172,558,876",
         "$788,241,137"
        ],
        [
         "25",
         "26",
         "Nov 14, 2008",
         "Quantum of Solace",
         "$230,000,000",
         "$169,368,427",
         "$591,692,078"
        ],
        [
         "26",
         "27",
         "May 4, 2012",
         "The Avengers",
         "$225,000,000",
         "$623,279,547",
         "$1,517,935,897"
        ],
        [
         "27",
         "28",
         "Jul 7, 2006",
         "Pirates of the Caribbean: Dead Manâs Chest",
         "$225,000,000",
         "$423,315,812",
         "$1,066,215,812"
        ],
        [
         "28",
         "29",
         "Jun 14, 2013",
         "Man of Steel",
         "$225,000,000",
         "$291,045,518",
         "$667,999,518"
        ],
        [
         "29",
         "30",
         "May 16, 2008",
         "The Chronicles of Narnia: Prince Caspian",
         "$225,000,000",
         "$141,621,490",
         "$417,341,288"
        ],
        [
         "30",
         "31",
         "Jul 3, 2012",
         "The Amazing Spider-Man",
         "$220,000,000",
         "$262,030,663",
         "$757,890,267"
        ],
        [
         "31",
         "32",
         "May 18, 2012",
         "Battleship",
         "$220,000,000",
         "$65,233,400",
         "$313,477,717"
        ],
        [
         "32",
         "33",
         "Jun 21, 2017",
         "Transformers: The Last Knight",
         "$217,000,000",
         "$130,168,683",
         "$602,893,340"
        ],
        [
         "33",
         "34",
         "Jun 12, 2015",
         "Jurassic World",
         "$215,000,000",
         "$652,270,625",
         "$1,648,854,864"
        ],
        [
         "34",
         "35",
         "May 25, 2012",
         "Men in Black 3",
         "$215,000,000",
         "$179,020,854",
         "$654,213,485"
        ],
        [
         "35",
         "36",
         "Jun 24, 2009",
         "Transformers: Revenge of the Fallen",
         "$210,000,000",
         "$402,111,870",
         "$836,519,699"
        ],
        [
         "36",
         "37",
         "Jun 27, 2014",
         "Transformers: Age of Extinction",
         "$210,000,000",
         "$245,439,076",
         "$1,104,039,076"
        ],
        [
         "37",
         "38",
         "May 26, 2006",
         "X-Men: The Last Stand",
         "$210,000,000",
         "$234,362,462",
         "$459,260,946"
        ],
        [
         "38",
         "39",
         "May 14, 2010",
         "Robin Hood",
         "$210,000,000",
         "$105,487,148",
         "$322,459,006"
        ],
        [
         "39",
         "40",
         "Dec 14, 2005",
         "King Kong",
         "$207,000,000",
         "$218,080,025",
         "$550,517,357"
        ],
        [
         "40",
         "41",
         "Dec 7, 2007",
         "The Golden Compass",
         "$205,000,000",
         "$70,107,728",
         "$367,262,558"
        ],
        [
         "41",
         "42",
         "Feb 16, 2018",
         "Black Panther",
         "$200,000,000",
         "$700,059,566",
         "$1,348,258,224"
        ],
        [
         "42",
         "43",
         "Dec 19, 1997",
         "Titanic",
         "$200,000,000",
         "$659,363,944",
         "$2,208,208,395"
        ],
        [
         "43",
         "44",
         "Jun 15, 2018",
         "Incredibles 2",
         "$200,000,000",
         "$608,581,744",
         "$1,242,520,711"
        ],
        [
         "44",
         "45",
         "Dec 16, 2016",
         "Rogue One: A Star Wars Story",
         "$200,000,000",
         "$532,177,324",
         "$1,049,102,856"
        ],
        [
         "45",
         "46",
         "Jun 17, 2016",
         "Finding Dory",
         "$200,000,000",
         "$486,295,561",
         "$1,021,215,193"
        ],
        [
         "46",
         "47",
         "Jun 18, 2010",
         "Toy Story 3",
         "$200,000,000",
         "$415,004,880",
         "$1,068,879,522"
        ],
        [
         "47",
         "48",
         "May 3, 2013",
         "Iron Man 3",
         "$200,000,000",
         "$408,992,272",
         "$1,215,392,272"
        ],
        [
         "48",
         "49",
         "May 5, 2017",
         "Guardians of the Galaxy Vol 2",
         "$200,000,000",
         "$389,813,101",
         "$862,316,233"
        ],
        [
         "49",
         "50",
         "Jun 30, 2004",
         "Spider-Man 2",
         "$200,000,000",
         "$373,524,485",
         "$795,110,670"
        ]
       ],
       "shape": {
        "columns": 6,
        "rows": 5782
       }
      },
      "text/html": [
       "<div>\n",
       "<style scoped>\n",
       "    .dataframe tbody tr th:only-of-type {\n",
       "        vertical-align: middle;\n",
       "    }\n",
       "\n",
       "    .dataframe tbody tr th {\n",
       "        vertical-align: top;\n",
       "    }\n",
       "\n",
       "    .dataframe thead th {\n",
       "        text-align: right;\n",
       "    }\n",
       "</style>\n",
       "<table border=\"1\" class=\"dataframe\">\n",
       "  <thead>\n",
       "    <tr style=\"text-align: right;\">\n",
       "      <th></th>\n",
       "      <th>id</th>\n",
       "      <th>release_date</th>\n",
       "      <th>movie</th>\n",
       "      <th>production_budget</th>\n",
       "      <th>domestic_gross</th>\n",
       "      <th>worldwide_gross</th>\n",
       "    </tr>\n",
       "  </thead>\n",
       "  <tbody>\n",
       "    <tr>\n",
       "      <th>0</th>\n",
       "      <td>1</td>\n",
       "      <td>Dec 18, 2009</td>\n",
       "      <td>Avatar</td>\n",
       "      <td>$425,000,000</td>\n",
       "      <td>$760,507,625</td>\n",
       "      <td>$2,776,345,279</td>\n",
       "    </tr>\n",
       "    <tr>\n",
       "      <th>1</th>\n",
       "      <td>2</td>\n",
       "      <td>May 20, 2011</td>\n",
       "      <td>Pirates of the Caribbean: On Stranger Tides</td>\n",
       "      <td>$410,600,000</td>\n",
       "      <td>$241,063,875</td>\n",
       "      <td>$1,045,663,875</td>\n",
       "    </tr>\n",
       "    <tr>\n",
       "      <th>2</th>\n",
       "      <td>3</td>\n",
       "      <td>Jun 7, 2019</td>\n",
       "      <td>Dark Phoenix</td>\n",
       "      <td>$350,000,000</td>\n",
       "      <td>$42,762,350</td>\n",
       "      <td>$149,762,350</td>\n",
       "    </tr>\n",
       "    <tr>\n",
       "      <th>3</th>\n",
       "      <td>4</td>\n",
       "      <td>May 1, 2015</td>\n",
       "      <td>Avengers: Age of Ultron</td>\n",
       "      <td>$330,600,000</td>\n",
       "      <td>$459,005,868</td>\n",
       "      <td>$1,403,013,963</td>\n",
       "    </tr>\n",
       "    <tr>\n",
       "      <th>4</th>\n",
       "      <td>5</td>\n",
       "      <td>Dec 15, 2017</td>\n",
       "      <td>Star Wars Ep. VIII: The Last Jedi</td>\n",
       "      <td>$317,000,000</td>\n",
       "      <td>$620,181,382</td>\n",
       "      <td>$1,316,721,747</td>\n",
       "    </tr>\n",
       "    <tr>\n",
       "      <th>...</th>\n",
       "      <td>...</td>\n",
       "      <td>...</td>\n",
       "      <td>...</td>\n",
       "      <td>...</td>\n",
       "      <td>...</td>\n",
       "      <td>...</td>\n",
       "    </tr>\n",
       "    <tr>\n",
       "      <th>5777</th>\n",
       "      <td>78</td>\n",
       "      <td>Dec 31, 2018</td>\n",
       "      <td>Red 11</td>\n",
       "      <td>$7,000</td>\n",
       "      <td>$0</td>\n",
       "      <td>$0</td>\n",
       "    </tr>\n",
       "    <tr>\n",
       "      <th>5778</th>\n",
       "      <td>79</td>\n",
       "      <td>Apr 2, 1999</td>\n",
       "      <td>Following</td>\n",
       "      <td>$6,000</td>\n",
       "      <td>$48,482</td>\n",
       "      <td>$240,495</td>\n",
       "    </tr>\n",
       "    <tr>\n",
       "      <th>5779</th>\n",
       "      <td>80</td>\n",
       "      <td>Jul 13, 2005</td>\n",
       "      <td>Return to the Land of Wonders</td>\n",
       "      <td>$5,000</td>\n",
       "      <td>$1,338</td>\n",
       "      <td>$1,338</td>\n",
       "    </tr>\n",
       "    <tr>\n",
       "      <th>5780</th>\n",
       "      <td>81</td>\n",
       "      <td>Sep 29, 2015</td>\n",
       "      <td>A Plague So Pleasant</td>\n",
       "      <td>$1,400</td>\n",
       "      <td>$0</td>\n",
       "      <td>$0</td>\n",
       "    </tr>\n",
       "    <tr>\n",
       "      <th>5781</th>\n",
       "      <td>82</td>\n",
       "      <td>Aug 5, 2005</td>\n",
       "      <td>My Date With Drew</td>\n",
       "      <td>$1,100</td>\n",
       "      <td>$181,041</td>\n",
       "      <td>$181,041</td>\n",
       "    </tr>\n",
       "  </tbody>\n",
       "</table>\n",
       "<p>5782 rows × 6 columns</p>\n",
       "</div>"
      ],
      "text/plain": [
       "      id  release_date                                        movie  \\\n",
       "0      1  Dec 18, 2009                                       Avatar   \n",
       "1      2  May 20, 2011  Pirates of the Caribbean: On Stranger Tides   \n",
       "2      3   Jun 7, 2019                                 Dark Phoenix   \n",
       "3      4   May 1, 2015                      Avengers: Age of Ultron   \n",
       "4      5  Dec 15, 2017            Star Wars Ep. VIII: The Last Jedi   \n",
       "...   ..           ...                                          ...   \n",
       "5777  78  Dec 31, 2018                                       Red 11   \n",
       "5778  79   Apr 2, 1999                                    Following   \n",
       "5779  80  Jul 13, 2005                Return to the Land of Wonders   \n",
       "5780  81  Sep 29, 2015                         A Plague So Pleasant   \n",
       "5781  82   Aug 5, 2005                            My Date With Drew   \n",
       "\n",
       "     production_budget domestic_gross worldwide_gross  \n",
       "0         $425,000,000   $760,507,625  $2,776,345,279  \n",
       "1         $410,600,000   $241,063,875  $1,045,663,875  \n",
       "2         $350,000,000    $42,762,350    $149,762,350  \n",
       "3         $330,600,000   $459,005,868  $1,403,013,963  \n",
       "4         $317,000,000   $620,181,382  $1,316,721,747  \n",
       "...                ...            ...             ...  \n",
       "5777            $7,000             $0              $0  \n",
       "5778            $6,000        $48,482        $240,495  \n",
       "5779            $5,000         $1,338          $1,338  \n",
       "5780            $1,400             $0              $0  \n",
       "5781            $1,100       $181,041        $181,041  \n",
       "\n",
       "[5782 rows x 6 columns]"
      ]
     },
     "execution_count": 39,
     "metadata": {},
     "output_type": "execute_result"
    }
   ],
   "source": [
    "tn_budget"
   ]
  },
  {
   "cell_type": "code",
   "execution_count": 40,
   "metadata": {},
   "outputs": [
    {
     "data": {
      "application/vnd.microsoft.datawrangler.viewer.v0+json": {
       "columns": [
        {
         "name": "index",
         "rawType": "int64",
         "type": "integer"
        },
        {
         "name": "id",
         "rawType": "int64",
         "type": "integer"
        },
        {
         "name": "release_date",
         "rawType": "object",
         "type": "string"
        },
        {
         "name": "movie_title",
         "rawType": "object",
         "type": "string"
        },
        {
         "name": "production_budget",
         "rawType": "object",
         "type": "string"
        },
        {
         "name": "domestic_gross",
         "rawType": "object",
         "type": "string"
        },
        {
         "name": "worldwide_gross",
         "rawType": "object",
         "type": "string"
        }
       ],
       "ref": "0abaf645-91a3-47c2-8147-48808b05dab8",
       "rows": [
        [
         "0",
         "1",
         "Dec 18, 2009",
         "Avatar",
         "$425,000,000",
         "$760,507,625",
         "$2,776,345,279"
        ],
        [
         "1",
         "2",
         "May 20, 2011",
         "Pirates of the Caribbean: On Stranger Tides",
         "$410,600,000",
         "$241,063,875",
         "$1,045,663,875"
        ],
        [
         "2",
         "3",
         "Jun 7, 2019",
         "Dark Phoenix",
         "$350,000,000",
         "$42,762,350",
         "$149,762,350"
        ],
        [
         "3",
         "4",
         "May 1, 2015",
         "Avengers: Age of Ultron",
         "$330,600,000",
         "$459,005,868",
         "$1,403,013,963"
        ],
        [
         "4",
         "5",
         "Dec 15, 2017",
         "Star Wars Ep. VIII: The Last Jedi",
         "$317,000,000",
         "$620,181,382",
         "$1,316,721,747"
        ],
        [
         "5",
         "6",
         "Dec 18, 2015",
         "Star Wars Ep. VII: The Force Awakens",
         "$306,000,000",
         "$936,662,225",
         "$2,053,311,220"
        ],
        [
         "6",
         "7",
         "Apr 27, 2018",
         "Avengers: Infinity War",
         "$300,000,000",
         "$678,815,482",
         "$2,048,134,200"
        ],
        [
         "7",
         "8",
         "May 24, 2007",
         "Pirates of the Caribbean: At Worldâs End",
         "$300,000,000",
         "$309,420,425",
         "$963,420,425"
        ],
        [
         "8",
         "9",
         "Nov 17, 2017",
         "Justice League",
         "$300,000,000",
         "$229,024,295",
         "$655,945,209"
        ],
        [
         "9",
         "10",
         "Nov 6, 2015",
         "Spectre",
         "$300,000,000",
         "$200,074,175",
         "$879,620,923"
        ],
        [
         "10",
         "11",
         "Jul 20, 2012",
         "The Dark Knight Rises",
         "$275,000,000",
         "$448,139,099",
         "$1,084,439,099"
        ],
        [
         "11",
         "12",
         "May 25, 2018",
         "Solo: A Star Wars Story",
         "$275,000,000",
         "$213,767,512",
         "$393,151,347"
        ],
        [
         "12",
         "13",
         "Jul 2, 2013",
         "The Lone Ranger",
         "$275,000,000",
         "$89,302,115",
         "$260,002,115"
        ],
        [
         "13",
         "14",
         "Mar 9, 2012",
         "John Carter",
         "$275,000,000",
         "$73,058,679",
         "$282,778,100"
        ],
        [
         "14",
         "15",
         "Nov 24, 2010",
         "Tangled",
         "$260,000,000",
         "$200,821,936",
         "$586,477,240"
        ],
        [
         "15",
         "16",
         "May 4, 2007",
         "Spider-Man 3",
         "$258,000,000",
         "$336,530,303",
         "$894,860,230"
        ],
        [
         "16",
         "17",
         "May 6, 2016",
         "Captain America: Civil War",
         "$250,000,000",
         "$408,084,349",
         "$1,140,069,413"
        ],
        [
         "17",
         "18",
         "Mar 25, 2016",
         "Batman v Superman: Dawn of Justice",
         "$250,000,000",
         "$330,360,194",
         "$867,500,281"
        ],
        [
         "18",
         "19",
         "Dec 14, 2012",
         "The Hobbit: An Unexpected Journey",
         "$250,000,000",
         "$303,003,568",
         "$1,017,003,568"
        ],
        [
         "19",
         "20",
         "Jul 15, 2009",
         "Harry Potter and the Half-Blood Prince",
         "$250,000,000",
         "$302,089,278",
         "$935,213,767"
        ],
        [
         "20",
         "21",
         "Dec 13, 2013",
         "The Hobbit: The Desolation of Smaug",
         "$250,000,000",
         "$258,366,855",
         "$960,366,855"
        ],
        [
         "21",
         "22",
         "Dec 17, 2014",
         "The Hobbit: The Battle of the Five Armies",
         "$250,000,000",
         "$255,119,788",
         "$945,577,621"
        ],
        [
         "22",
         "23",
         "Apr 14, 2017",
         "The Fate of the Furious",
         "$250,000,000",
         "$225,764,765",
         "$1,234,846,267"
        ],
        [
         "23",
         "24",
         "Jun 28, 2006",
         "Superman Returns",
         "$232,000,000",
         "$200,120,000",
         "$374,085,065"
        ],
        [
         "24",
         "25",
         "May 26, 2017",
         "Pirates of the Caribbean: Dead Men Tell No Tales",
         "$230,000,000",
         "$172,558,876",
         "$788,241,137"
        ],
        [
         "25",
         "26",
         "Nov 14, 2008",
         "Quantum of Solace",
         "$230,000,000",
         "$169,368,427",
         "$591,692,078"
        ],
        [
         "26",
         "27",
         "May 4, 2012",
         "The Avengers",
         "$225,000,000",
         "$623,279,547",
         "$1,517,935,897"
        ],
        [
         "27",
         "28",
         "Jul 7, 2006",
         "Pirates of the Caribbean: Dead Manâs Chest",
         "$225,000,000",
         "$423,315,812",
         "$1,066,215,812"
        ],
        [
         "28",
         "29",
         "Jun 14, 2013",
         "Man of Steel",
         "$225,000,000",
         "$291,045,518",
         "$667,999,518"
        ],
        [
         "29",
         "30",
         "May 16, 2008",
         "The Chronicles of Narnia: Prince Caspian",
         "$225,000,000",
         "$141,621,490",
         "$417,341,288"
        ],
        [
         "30",
         "31",
         "Jul 3, 2012",
         "The Amazing Spider-Man",
         "$220,000,000",
         "$262,030,663",
         "$757,890,267"
        ],
        [
         "31",
         "32",
         "May 18, 2012",
         "Battleship",
         "$220,000,000",
         "$65,233,400",
         "$313,477,717"
        ],
        [
         "32",
         "33",
         "Jun 21, 2017",
         "Transformers: The Last Knight",
         "$217,000,000",
         "$130,168,683",
         "$602,893,340"
        ],
        [
         "33",
         "34",
         "Jun 12, 2015",
         "Jurassic World",
         "$215,000,000",
         "$652,270,625",
         "$1,648,854,864"
        ],
        [
         "34",
         "35",
         "May 25, 2012",
         "Men in Black 3",
         "$215,000,000",
         "$179,020,854",
         "$654,213,485"
        ],
        [
         "35",
         "36",
         "Jun 24, 2009",
         "Transformers: Revenge of the Fallen",
         "$210,000,000",
         "$402,111,870",
         "$836,519,699"
        ],
        [
         "36",
         "37",
         "Jun 27, 2014",
         "Transformers: Age of Extinction",
         "$210,000,000",
         "$245,439,076",
         "$1,104,039,076"
        ],
        [
         "37",
         "38",
         "May 26, 2006",
         "X-Men: The Last Stand",
         "$210,000,000",
         "$234,362,462",
         "$459,260,946"
        ],
        [
         "38",
         "39",
         "May 14, 2010",
         "Robin Hood",
         "$210,000,000",
         "$105,487,148",
         "$322,459,006"
        ],
        [
         "39",
         "40",
         "Dec 14, 2005",
         "King Kong",
         "$207,000,000",
         "$218,080,025",
         "$550,517,357"
        ],
        [
         "40",
         "41",
         "Dec 7, 2007",
         "The Golden Compass",
         "$205,000,000",
         "$70,107,728",
         "$367,262,558"
        ],
        [
         "41",
         "42",
         "Feb 16, 2018",
         "Black Panther",
         "$200,000,000",
         "$700,059,566",
         "$1,348,258,224"
        ],
        [
         "42",
         "43",
         "Dec 19, 1997",
         "Titanic",
         "$200,000,000",
         "$659,363,944",
         "$2,208,208,395"
        ],
        [
         "43",
         "44",
         "Jun 15, 2018",
         "Incredibles 2",
         "$200,000,000",
         "$608,581,744",
         "$1,242,520,711"
        ],
        [
         "44",
         "45",
         "Dec 16, 2016",
         "Rogue One: A Star Wars Story",
         "$200,000,000",
         "$532,177,324",
         "$1,049,102,856"
        ],
        [
         "45",
         "46",
         "Jun 17, 2016",
         "Finding Dory",
         "$200,000,000",
         "$486,295,561",
         "$1,021,215,193"
        ],
        [
         "46",
         "47",
         "Jun 18, 2010",
         "Toy Story 3",
         "$200,000,000",
         "$415,004,880",
         "$1,068,879,522"
        ],
        [
         "47",
         "48",
         "May 3, 2013",
         "Iron Man 3",
         "$200,000,000",
         "$408,992,272",
         "$1,215,392,272"
        ],
        [
         "48",
         "49",
         "May 5, 2017",
         "Guardians of the Galaxy Vol 2",
         "$200,000,000",
         "$389,813,101",
         "$862,316,233"
        ],
        [
         "49",
         "50",
         "Jun 30, 2004",
         "Spider-Man 2",
         "$200,000,000",
         "$373,524,485",
         "$795,110,670"
        ]
       ],
       "shape": {
        "columns": 6,
        "rows": 5782
       }
      },
      "text/html": [
       "<div>\n",
       "<style scoped>\n",
       "    .dataframe tbody tr th:only-of-type {\n",
       "        vertical-align: middle;\n",
       "    }\n",
       "\n",
       "    .dataframe tbody tr th {\n",
       "        vertical-align: top;\n",
       "    }\n",
       "\n",
       "    .dataframe thead th {\n",
       "        text-align: right;\n",
       "    }\n",
       "</style>\n",
       "<table border=\"1\" class=\"dataframe\">\n",
       "  <thead>\n",
       "    <tr style=\"text-align: right;\">\n",
       "      <th></th>\n",
       "      <th>id</th>\n",
       "      <th>release_date</th>\n",
       "      <th>movie_title</th>\n",
       "      <th>production_budget</th>\n",
       "      <th>domestic_gross</th>\n",
       "      <th>worldwide_gross</th>\n",
       "    </tr>\n",
       "  </thead>\n",
       "  <tbody>\n",
       "    <tr>\n",
       "      <th>0</th>\n",
       "      <td>1</td>\n",
       "      <td>Dec 18, 2009</td>\n",
       "      <td>Avatar</td>\n",
       "      <td>$425,000,000</td>\n",
       "      <td>$760,507,625</td>\n",
       "      <td>$2,776,345,279</td>\n",
       "    </tr>\n",
       "    <tr>\n",
       "      <th>1</th>\n",
       "      <td>2</td>\n",
       "      <td>May 20, 2011</td>\n",
       "      <td>Pirates of the Caribbean: On Stranger Tides</td>\n",
       "      <td>$410,600,000</td>\n",
       "      <td>$241,063,875</td>\n",
       "      <td>$1,045,663,875</td>\n",
       "    </tr>\n",
       "    <tr>\n",
       "      <th>2</th>\n",
       "      <td>3</td>\n",
       "      <td>Jun 7, 2019</td>\n",
       "      <td>Dark Phoenix</td>\n",
       "      <td>$350,000,000</td>\n",
       "      <td>$42,762,350</td>\n",
       "      <td>$149,762,350</td>\n",
       "    </tr>\n",
       "    <tr>\n",
       "      <th>3</th>\n",
       "      <td>4</td>\n",
       "      <td>May 1, 2015</td>\n",
       "      <td>Avengers: Age of Ultron</td>\n",
       "      <td>$330,600,000</td>\n",
       "      <td>$459,005,868</td>\n",
       "      <td>$1,403,013,963</td>\n",
       "    </tr>\n",
       "    <tr>\n",
       "      <th>4</th>\n",
       "      <td>5</td>\n",
       "      <td>Dec 15, 2017</td>\n",
       "      <td>Star Wars Ep. VIII: The Last Jedi</td>\n",
       "      <td>$317,000,000</td>\n",
       "      <td>$620,181,382</td>\n",
       "      <td>$1,316,721,747</td>\n",
       "    </tr>\n",
       "    <tr>\n",
       "      <th>...</th>\n",
       "      <td>...</td>\n",
       "      <td>...</td>\n",
       "      <td>...</td>\n",
       "      <td>...</td>\n",
       "      <td>...</td>\n",
       "      <td>...</td>\n",
       "    </tr>\n",
       "    <tr>\n",
       "      <th>5777</th>\n",
       "      <td>78</td>\n",
       "      <td>Dec 31, 2018</td>\n",
       "      <td>Red 11</td>\n",
       "      <td>$7,000</td>\n",
       "      <td>$0</td>\n",
       "      <td>$0</td>\n",
       "    </tr>\n",
       "    <tr>\n",
       "      <th>5778</th>\n",
       "      <td>79</td>\n",
       "      <td>Apr 2, 1999</td>\n",
       "      <td>Following</td>\n",
       "      <td>$6,000</td>\n",
       "      <td>$48,482</td>\n",
       "      <td>$240,495</td>\n",
       "    </tr>\n",
       "    <tr>\n",
       "      <th>5779</th>\n",
       "      <td>80</td>\n",
       "      <td>Jul 13, 2005</td>\n",
       "      <td>Return to the Land of Wonders</td>\n",
       "      <td>$5,000</td>\n",
       "      <td>$1,338</td>\n",
       "      <td>$1,338</td>\n",
       "    </tr>\n",
       "    <tr>\n",
       "      <th>5780</th>\n",
       "      <td>81</td>\n",
       "      <td>Sep 29, 2015</td>\n",
       "      <td>A Plague So Pleasant</td>\n",
       "      <td>$1,400</td>\n",
       "      <td>$0</td>\n",
       "      <td>$0</td>\n",
       "    </tr>\n",
       "    <tr>\n",
       "      <th>5781</th>\n",
       "      <td>82</td>\n",
       "      <td>Aug 5, 2005</td>\n",
       "      <td>My Date With Drew</td>\n",
       "      <td>$1,100</td>\n",
       "      <td>$181,041</td>\n",
       "      <td>$181,041</td>\n",
       "    </tr>\n",
       "  </tbody>\n",
       "</table>\n",
       "<p>5782 rows × 6 columns</p>\n",
       "</div>"
      ],
      "text/plain": [
       "      id  release_date                                  movie_title  \\\n",
       "0      1  Dec 18, 2009                                       Avatar   \n",
       "1      2  May 20, 2011  Pirates of the Caribbean: On Stranger Tides   \n",
       "2      3   Jun 7, 2019                                 Dark Phoenix   \n",
       "3      4   May 1, 2015                      Avengers: Age of Ultron   \n",
       "4      5  Dec 15, 2017            Star Wars Ep. VIII: The Last Jedi   \n",
       "...   ..           ...                                          ...   \n",
       "5777  78  Dec 31, 2018                                       Red 11   \n",
       "5778  79   Apr 2, 1999                                    Following   \n",
       "5779  80  Jul 13, 2005                Return to the Land of Wonders   \n",
       "5780  81  Sep 29, 2015                         A Plague So Pleasant   \n",
       "5781  82   Aug 5, 2005                            My Date With Drew   \n",
       "\n",
       "     production_budget domestic_gross worldwide_gross  \n",
       "0         $425,000,000   $760,507,625  $2,776,345,279  \n",
       "1         $410,600,000   $241,063,875  $1,045,663,875  \n",
       "2         $350,000,000    $42,762,350    $149,762,350  \n",
       "3         $330,600,000   $459,005,868  $1,403,013,963  \n",
       "4         $317,000,000   $620,181,382  $1,316,721,747  \n",
       "...                ...            ...             ...  \n",
       "5777            $7,000             $0              $0  \n",
       "5778            $6,000        $48,482        $240,495  \n",
       "5779            $5,000         $1,338          $1,338  \n",
       "5780            $1,400             $0              $0  \n",
       "5781            $1,100       $181,041        $181,041  \n",
       "\n",
       "[5782 rows x 6 columns]"
      ]
     },
     "execution_count": 40,
     "metadata": {},
     "output_type": "execute_result"
    }
   ],
   "source": [
    "tn_budget = tn_budget.rename(columns={\n",
    "    'movie':'movie_title'\n",
    "})\n",
    "tn_budget"
   ]
  },
  {
   "cell_type": "code",
   "execution_count": 41,
   "metadata": {},
   "outputs": [
    {
     "data": {
      "application/vnd.microsoft.datawrangler.viewer.v0+json": {
       "columns": [
        {
         "name": "index",
         "rawType": "int64",
         "type": "integer"
        },
        {
         "name": "movie_title",
         "rawType": "object",
         "type": "string"
        },
        {
         "name": "year",
         "rawType": "int64",
         "type": "integer"
        }
       ],
       "ref": "1166339e-3a9a-41e4-b136-6648c7a4fdb7",
       "rows": [
        [
         "0",
         "Toy Story 3",
         "2010"
        ],
        [
         "1",
         "Alice in Wonderland (2010)",
         "2010"
        ],
        [
         "2",
         "Harry Potter and the Deathly Hallows Part 1",
         "2010"
        ],
        [
         "3",
         "Inception",
         "2010"
        ],
        [
         "4",
         "Shrek Forever After",
         "2010"
        ],
        [
         "5",
         "The Twilight Saga: Eclipse",
         "2010"
        ],
        [
         "6",
         "Iron Man 2",
         "2010"
        ],
        [
         "7",
         "Tangled",
         "2010"
        ],
        [
         "8",
         "Despicable Me",
         "2010"
        ],
        [
         "9",
         "How to Train Your Dragon",
         "2010"
        ],
        [
         "10",
         "Clash of the Titans (2010)",
         "2010"
        ],
        [
         "11",
         "The Chronicles of Narnia: The Voyage of the Dawn Treader",
         "2010"
        ],
        [
         "12",
         "The King's Speech",
         "2010"
        ],
        [
         "13",
         "Tron Legacy",
         "2010"
        ],
        [
         "14",
         "The Karate Kid",
         "2010"
        ],
        [
         "15",
         "Prince of Persia: The Sands of Time",
         "2010"
        ],
        [
         "16",
         "Black Swan",
         "2010"
        ],
        [
         "17",
         "Megamind",
         "2010"
        ],
        [
         "18",
         "Robin Hood",
         "2010"
        ],
        [
         "19",
         "The Last Airbender",
         "2010"
        ],
        [
         "20",
         "Little Fockers",
         "2010"
        ],
        [
         "21",
         "Resident Evil: Afterlife",
         "2010"
        ],
        [
         "22",
         "Shutter Island",
         "2010"
        ],
        [
         "23",
         "Salt",
         "2010"
        ],
        [
         "24",
         "Sex and the City 2",
         "2010"
        ],
        [
         "25",
         "The Tourist",
         "2010"
        ],
        [
         "26",
         "The Expendables",
         "2010"
        ],
        [
         "27",
         "Grown Ups",
         "2010"
        ],
        [
         "28",
         "Knight & Day",
         "2010"
        ],
        [
         "29",
         "True Grit",
         "2010"
        ],
        [
         "30",
         "Gulliver's Travels",
         "2010"
        ],
        [
         "31",
         "Percy Jackson & The Olympians: The Lightning Thief",
         "2010"
        ],
        [
         "32",
         "The Social Network",
         "2010"
        ],
        [
         "33",
         "Valentine's Day",
         "2010"
        ],
        [
         "34",
         "The Sorcerer's Apprentice",
         "2010"
        ],
        [
         "35",
         "Due Date",
         "2010"
        ],
        [
         "36",
         "Eat Pray Love",
         "2010"
        ],
        [
         "37",
         "Yogi Bear",
         "2010"
        ],
        [
         "38",
         "Red",
         "2010"
        ],
        [
         "39",
         "Paranormal Activity 2",
         "2010"
        ],
        [
         "40",
         "The A-Team",
         "2010"
        ],
        [
         "41",
         "Jackass 3-D",
         "2010"
        ],
        [
         "42",
         "The Other Guys",
         "2010"
        ],
        [
         "43",
         "Unstoppable",
         "2010"
        ],
        [
         "44",
         "Step Up 3-D",
         "2010"
        ],
        [
         "45",
         "The Book of Eli",
         "2010"
        ],
        [
         "46",
         "The Town",
         "2010"
        ],
        [
         "47",
         "Date Night",
         "2010"
        ],
        [
         "48",
         "Legend of the Guardians: The Owls of Ga'Hoole",
         "2010"
        ],
        [
         "49",
         "The Wolfman",
         "2010"
        ]
       ],
       "shape": {
        "columns": 2,
        "rows": 3387
       }
      },
      "text/html": [
       "<div>\n",
       "<style scoped>\n",
       "    .dataframe tbody tr th:only-of-type {\n",
       "        vertical-align: middle;\n",
       "    }\n",
       "\n",
       "    .dataframe tbody tr th {\n",
       "        vertical-align: top;\n",
       "    }\n",
       "\n",
       "    .dataframe thead th {\n",
       "        text-align: right;\n",
       "    }\n",
       "</style>\n",
       "<table border=\"1\" class=\"dataframe\">\n",
       "  <thead>\n",
       "    <tr style=\"text-align: right;\">\n",
       "      <th></th>\n",
       "      <th>movie_title</th>\n",
       "      <th>year</th>\n",
       "    </tr>\n",
       "  </thead>\n",
       "  <tbody>\n",
       "    <tr>\n",
       "      <th>0</th>\n",
       "      <td>Toy Story 3</td>\n",
       "      <td>2010</td>\n",
       "    </tr>\n",
       "    <tr>\n",
       "      <th>1</th>\n",
       "      <td>Alice in Wonderland (2010)</td>\n",
       "      <td>2010</td>\n",
       "    </tr>\n",
       "    <tr>\n",
       "      <th>2</th>\n",
       "      <td>Harry Potter and the Deathly Hallows Part 1</td>\n",
       "      <td>2010</td>\n",
       "    </tr>\n",
       "    <tr>\n",
       "      <th>3</th>\n",
       "      <td>Inception</td>\n",
       "      <td>2010</td>\n",
       "    </tr>\n",
       "    <tr>\n",
       "      <th>4</th>\n",
       "      <td>Shrek Forever After</td>\n",
       "      <td>2010</td>\n",
       "    </tr>\n",
       "    <tr>\n",
       "      <th>...</th>\n",
       "      <td>...</td>\n",
       "      <td>...</td>\n",
       "    </tr>\n",
       "    <tr>\n",
       "      <th>3382</th>\n",
       "      <td>The Quake</td>\n",
       "      <td>2018</td>\n",
       "    </tr>\n",
       "    <tr>\n",
       "      <th>3383</th>\n",
       "      <td>Edward II (2018 re-release)</td>\n",
       "      <td>2018</td>\n",
       "    </tr>\n",
       "    <tr>\n",
       "      <th>3384</th>\n",
       "      <td>El Pacto</td>\n",
       "      <td>2018</td>\n",
       "    </tr>\n",
       "    <tr>\n",
       "      <th>3385</th>\n",
       "      <td>The Swan</td>\n",
       "      <td>2018</td>\n",
       "    </tr>\n",
       "    <tr>\n",
       "      <th>3386</th>\n",
       "      <td>An Actor Prepares</td>\n",
       "      <td>2018</td>\n",
       "    </tr>\n",
       "  </tbody>\n",
       "</table>\n",
       "<p>3387 rows × 2 columns</p>\n",
       "</div>"
      ],
      "text/plain": [
       "                                      movie_title  year\n",
       "0                                     Toy Story 3  2010\n",
       "1                      Alice in Wonderland (2010)  2010\n",
       "2     Harry Potter and the Deathly Hallows Part 1  2010\n",
       "3                                       Inception  2010\n",
       "4                             Shrek Forever After  2010\n",
       "...                                           ...   ...\n",
       "3382                                    The Quake  2018\n",
       "3383                  Edward II (2018 re-release)  2018\n",
       "3384                                     El Pacto  2018\n",
       "3385                                     The Swan  2018\n",
       "3386                            An Actor Prepares  2018\n",
       "\n",
       "[3387 rows x 2 columns]"
      ]
     },
     "execution_count": 41,
     "metadata": {},
     "output_type": "execute_result"
    }
   ],
   "source": [
    "bom_movie_cp = bom_movie_cp.rename(columns={\n",
    "    'title':'movie_title'\n",
    "})\n",
    "bom_movie_cp"
   ]
  },
  {
   "cell_type": "code",
   "execution_count": 42,
   "metadata": {},
   "outputs": [],
   "source": [
    "def clean_title(df, title_col='movie_title'):\n",
    "    df[title_col] = df[title_col].str.lower()                     \n",
    "    df[title_col] = df[title_col].str.strip()                      \n",
    "    df[title_col] = df[title_col].str.replace(r'[^a-z0-9 ]', '', regex=True)  \n",
    "    return df"
   ]
  },
  {
   "cell_type": "code",
   "execution_count": 43,
   "metadata": {},
   "outputs": [
    {
     "data": {
      "application/vnd.microsoft.datawrangler.viewer.v0+json": {
       "columns": [
        {
         "name": "index",
         "rawType": "int64",
         "type": "integer"
        },
        {
         "name": "movie_title",
         "rawType": "object",
         "type": "string"
        },
        {
         "name": "year",
         "rawType": "int64",
         "type": "integer"
        }
       ],
       "ref": "061e4736-79c1-42f7-bde6-3668ebe2dd87",
       "rows": [
        [
         "0",
         "toy story 3",
         "2010"
        ],
        [
         "1",
         "alice in wonderland 2010",
         "2010"
        ],
        [
         "2",
         "harry potter and the deathly hallows part 1",
         "2010"
        ],
        [
         "3",
         "inception",
         "2010"
        ],
        [
         "4",
         "shrek forever after",
         "2010"
        ],
        [
         "5",
         "the twilight saga eclipse",
         "2010"
        ],
        [
         "6",
         "iron man 2",
         "2010"
        ],
        [
         "7",
         "tangled",
         "2010"
        ],
        [
         "8",
         "despicable me",
         "2010"
        ],
        [
         "9",
         "how to train your dragon",
         "2010"
        ],
        [
         "10",
         "clash of the titans 2010",
         "2010"
        ],
        [
         "11",
         "the chronicles of narnia the voyage of the dawn treader",
         "2010"
        ],
        [
         "12",
         "the kings speech",
         "2010"
        ],
        [
         "13",
         "tron legacy",
         "2010"
        ],
        [
         "14",
         "the karate kid",
         "2010"
        ],
        [
         "15",
         "prince of persia the sands of time",
         "2010"
        ],
        [
         "16",
         "black swan",
         "2010"
        ],
        [
         "17",
         "megamind",
         "2010"
        ],
        [
         "18",
         "robin hood",
         "2010"
        ],
        [
         "19",
         "the last airbender",
         "2010"
        ],
        [
         "20",
         "little fockers",
         "2010"
        ],
        [
         "21",
         "resident evil afterlife",
         "2010"
        ],
        [
         "22",
         "shutter island",
         "2010"
        ],
        [
         "23",
         "salt",
         "2010"
        ],
        [
         "24",
         "sex and the city 2",
         "2010"
        ],
        [
         "25",
         "the tourist",
         "2010"
        ],
        [
         "26",
         "the expendables",
         "2010"
        ],
        [
         "27",
         "grown ups",
         "2010"
        ],
        [
         "28",
         "knight  day",
         "2010"
        ],
        [
         "29",
         "true grit",
         "2010"
        ],
        [
         "30",
         "gullivers travels",
         "2010"
        ],
        [
         "31",
         "percy jackson  the olympians the lightning thief",
         "2010"
        ],
        [
         "32",
         "the social network",
         "2010"
        ],
        [
         "33",
         "valentines day",
         "2010"
        ],
        [
         "34",
         "the sorcerers apprentice",
         "2010"
        ],
        [
         "35",
         "due date",
         "2010"
        ],
        [
         "36",
         "eat pray love",
         "2010"
        ],
        [
         "37",
         "yogi bear",
         "2010"
        ],
        [
         "38",
         "red",
         "2010"
        ],
        [
         "39",
         "paranormal activity 2",
         "2010"
        ],
        [
         "40",
         "the ateam",
         "2010"
        ],
        [
         "41",
         "jackass 3d",
         "2010"
        ],
        [
         "42",
         "the other guys",
         "2010"
        ],
        [
         "43",
         "unstoppable",
         "2010"
        ],
        [
         "44",
         "step up 3d",
         "2010"
        ],
        [
         "45",
         "the book of eli",
         "2010"
        ],
        [
         "46",
         "the town",
         "2010"
        ],
        [
         "47",
         "date night",
         "2010"
        ],
        [
         "48",
         "legend of the guardians the owls of gahoole",
         "2010"
        ],
        [
         "49",
         "the wolfman",
         "2010"
        ]
       ],
       "shape": {
        "columns": 2,
        "rows": 3387
       }
      },
      "text/html": [
       "<div>\n",
       "<style scoped>\n",
       "    .dataframe tbody tr th:only-of-type {\n",
       "        vertical-align: middle;\n",
       "    }\n",
       "\n",
       "    .dataframe tbody tr th {\n",
       "        vertical-align: top;\n",
       "    }\n",
       "\n",
       "    .dataframe thead th {\n",
       "        text-align: right;\n",
       "    }\n",
       "</style>\n",
       "<table border=\"1\" class=\"dataframe\">\n",
       "  <thead>\n",
       "    <tr style=\"text-align: right;\">\n",
       "      <th></th>\n",
       "      <th>movie_title</th>\n",
       "      <th>year</th>\n",
       "    </tr>\n",
       "  </thead>\n",
       "  <tbody>\n",
       "    <tr>\n",
       "      <th>0</th>\n",
       "      <td>toy story 3</td>\n",
       "      <td>2010</td>\n",
       "    </tr>\n",
       "    <tr>\n",
       "      <th>1</th>\n",
       "      <td>alice in wonderland 2010</td>\n",
       "      <td>2010</td>\n",
       "    </tr>\n",
       "    <tr>\n",
       "      <th>2</th>\n",
       "      <td>harry potter and the deathly hallows part 1</td>\n",
       "      <td>2010</td>\n",
       "    </tr>\n",
       "    <tr>\n",
       "      <th>3</th>\n",
       "      <td>inception</td>\n",
       "      <td>2010</td>\n",
       "    </tr>\n",
       "    <tr>\n",
       "      <th>4</th>\n",
       "      <td>shrek forever after</td>\n",
       "      <td>2010</td>\n",
       "    </tr>\n",
       "    <tr>\n",
       "      <th>...</th>\n",
       "      <td>...</td>\n",
       "      <td>...</td>\n",
       "    </tr>\n",
       "    <tr>\n",
       "      <th>3382</th>\n",
       "      <td>the quake</td>\n",
       "      <td>2018</td>\n",
       "    </tr>\n",
       "    <tr>\n",
       "      <th>3383</th>\n",
       "      <td>edward ii 2018 rerelease</td>\n",
       "      <td>2018</td>\n",
       "    </tr>\n",
       "    <tr>\n",
       "      <th>3384</th>\n",
       "      <td>el pacto</td>\n",
       "      <td>2018</td>\n",
       "    </tr>\n",
       "    <tr>\n",
       "      <th>3385</th>\n",
       "      <td>the swan</td>\n",
       "      <td>2018</td>\n",
       "    </tr>\n",
       "    <tr>\n",
       "      <th>3386</th>\n",
       "      <td>an actor prepares</td>\n",
       "      <td>2018</td>\n",
       "    </tr>\n",
       "  </tbody>\n",
       "</table>\n",
       "<p>3387 rows × 2 columns</p>\n",
       "</div>"
      ],
      "text/plain": [
       "                                      movie_title  year\n",
       "0                                     toy story 3  2010\n",
       "1                        alice in wonderland 2010  2010\n",
       "2     harry potter and the deathly hallows part 1  2010\n",
       "3                                       inception  2010\n",
       "4                             shrek forever after  2010\n",
       "...                                           ...   ...\n",
       "3382                                    the quake  2018\n",
       "3383                     edward ii 2018 rerelease  2018\n",
       "3384                                     el pacto  2018\n",
       "3385                                     the swan  2018\n",
       "3386                            an actor prepares  2018\n",
       "\n",
       "[3387 rows x 2 columns]"
      ]
     },
     "execution_count": 43,
     "metadata": {},
     "output_type": "execute_result"
    }
   ],
   "source": [
    "clean_title(final_df, 'movie_title')\n",
    "clean_title(tn_budget, 'movie_title')\n",
    "clean_title(bom_movie_cp, 'movie_title') "
   ]
  },
  {
   "cell_type": "code",
   "execution_count": 44,
   "metadata": {},
   "outputs": [],
   "source": [
    "budget_merge = tn_budget.merge(bom_movie_cp, on='movie_title', how='inner')"
   ]
  },
  {
   "cell_type": "code",
   "execution_count": 45,
   "metadata": {},
   "outputs": [
    {
     "data": {
      "application/vnd.microsoft.datawrangler.viewer.v0+json": {
       "columns": [
        {
         "name": "index",
         "rawType": "int64",
         "type": "integer"
        },
        {
         "name": "id",
         "rawType": "int64",
         "type": "integer"
        },
        {
         "name": "release_date",
         "rawType": "object",
         "type": "string"
        },
        {
         "name": "movie_title",
         "rawType": "object",
         "type": "string"
        },
        {
         "name": "production_budget",
         "rawType": "object",
         "type": "string"
        },
        {
         "name": "domestic_gross",
         "rawType": "object",
         "type": "string"
        },
        {
         "name": "worldwide_gross",
         "rawType": "object",
         "type": "string"
        },
        {
         "name": "year",
         "rawType": "int64",
         "type": "integer"
        },
        {
         "name": "movie_id",
         "rawType": "object",
         "type": "string"
        },
        {
         "name": "original_title",
         "rawType": "object",
         "type": "string"
        },
        {
         "name": "release_year",
         "rawType": "int64",
         "type": "integer"
        },
        {
         "name": "runtime_min",
         "rawType": "float64",
         "type": "float"
        },
        {
         "name": "genres",
         "rawType": "object",
         "type": "string"
        },
        {
         "name": "imdb_rating",
         "rawType": "float64",
         "type": "float"
        },
        {
         "name": "imdb_votes",
         "rawType": "int64",
         "type": "integer"
        },
        {
         "name": "alt_title",
         "rawType": "object",
         "type": "string"
        },
        {
         "name": "release_region",
         "rawType": "object",
         "type": "unknown"
        },
        {
         "name": "person_id",
         "rawType": "object",
         "type": "string"
        },
        {
         "name": "person_name",
         "rawType": "object",
         "type": "string"
        },
        {
         "name": "person_profession",
         "rawType": "object",
         "type": "string"
        }
       ],
       "ref": "d4b7fb7f-0d81-476b-b603-c6cb8d6d95af",
       "rows": [
        [
         "0",
         "2",
         "May 20, 2011",
         "pirates of the caribbean on stranger tides",
         "$410,600,000",
         "$241,063,875",
         "$1,045,663,875",
         "2011",
         "tt1298650",
         "Pirates of the Caribbean: On Stranger Tides",
         "2011",
         "136.0",
         "Action,Adventure,Fantasy",
         "6.6",
         "447624",
         "Pairêtsu obu Karibian: Inochi no izumi",
         "JP",
         "nm0551128",
         "Rob Marshall",
         "director,miscellaneous,producer"
        ],
        [
         "46",
         "4",
         "May 1, 2015",
         "avengers age of ultron",
         "$330,600,000",
         "$459,005,868",
         "$1,403,013,963",
         "2015",
         "tt2395427",
         "Avengers: Age of Ultron",
         "2015",
         "141.0",
         "Action,Adventure,Sci-Fi",
         "7.3",
         "665594",
         "Qisasçilar 2",
         "AZ",
         "nm0923736",
         "Joss Whedon",
         "writer,producer,director"
        ],
        [
         "87",
         "7",
         "Apr 27, 2018",
         "avengers infinity war",
         "$300,000,000",
         "$678,815,482",
         "$2,048,134,200",
         "2018",
         "tt4154756",
         "Avengers: Infinity War",
         "2018",
         "149.0",
         "Action,Adventure,Sci-Fi",
         "8.5",
         "670926",
         "Avengers: Infinity War",
         "AR",
         "nm0751648",
         "Joe Russo",
         "producer,director,writer"
        ],
        [
         "163",
         "9",
         "Nov 17, 2017",
         "justice league",
         "$300,000,000",
         "$229,024,295",
         "$655,945,209",
         "2017",
         "tt0974015",
         "Justice League",
         "2017",
         "120.0",
         "Action,Adventure,Fantasy",
         "6.5",
         "329135",
         "Liga pravde",
         "RS",
         "nm0811583",
         "Zack Snyder",
         "producer,director,writer"
        ],
        [
         "196",
         "10",
         "Nov 6, 2015",
         "spectre",
         "$300,000,000",
         "$200,074,175",
         "$879,620,923",
         "2015",
         "tt2379713",
         "Spectre",
         "2015",
         "148.0",
         "Action,Adventure,Thriller",
         "6.8",
         "352504",
         "Спектър",
         "BG",
         "nm0005222",
         "Sam Mendes",
         "producer,director,miscellaneous"
        ],
        [
         "229",
         "12",
         "May 25, 2018",
         "solo a star wars story",
         "$275,000,000",
         "$213,767,512",
         "$393,151,347",
         "2018",
         "tt3778644",
         "Solo: A Star Wars Story",
         "2018",
         "135.0",
         "Action,Adventure,Fantasy",
         "7.0",
         "226243",
         "Solo: A Star Wars Story",
         "SE",
         "nm0000165",
         "Ron Howard",
         "actor,producer,director"
        ],
        [
         "267",
         "13",
         "Jul 2, 2013",
         "the lone ranger",
         "$275,000,000",
         "$89,302,115",
         "$260,002,115",
         "2013",
         "tt1210819",
         "The Lone Ranger",
         "2013",
         "150.0",
         "Action,Adventure,Western",
         "6.4",
         "208827",
         "The Lone Ranger",
         "IT",
         "nm0893659",
         "Gore Verbinski",
         "director,producer,writer"
        ],
        [
         "302",
         "14",
         "Mar 9, 2012",
         "john carter",
         "$275,000,000",
         "$73,058,679",
         "$282,778,100",
         "2012",
         "tt0401729",
         "John Carter",
         "2012",
         "132.0",
         "Action,Adventure,Sci-Fi",
         "6.6",
         "241792",
         "Джон Картер: Мiж двох свiтiв",
         "UA",
         "nm0004056",
         "Andrew Stanton",
         "writer,actor,producer"
        ],
        [
         "336",
         "15",
         "Nov 24, 2010",
         "tangled",
         "$260,000,000",
         "$200,821,936",
         "$586,477,240",
         "2010",
         "tt0398286",
         "Tangled",
         "2010",
         "100.0",
         "Adventure,Animation,Comedy",
         "7.8",
         "366366",
         "Raiponce",
         "FR",
         "nm0397174",
         "Byron Howard",
         "animation_department,director,actor"
        ],
        [
         "438",
         "17",
         "May 6, 2016",
         "captain america civil war",
         "$250,000,000",
         "$408,084,349",
         "$1,140,069,413",
         "2016",
         "tt3498820",
         "Captain America: Civil War",
         "2016",
         "147.0",
         "Action,Adventure,Sci-Fi",
         "7.8",
         "583507",
         "Sputnik",
         "US",
         "nm0751648",
         "Joe Russo",
         "producer,director,writer"
        ],
        [
         "522",
         "22",
         "Dec 17, 2014",
         "the hobbit the battle of the five armies",
         "$250,000,000",
         "$255,119,788",
         "$945,577,621",
         "2014",
         "tt2310332",
         "The Hobbit: The Battle of the Five Armies",
         "2014",
         "144.0",
         "Adventure,Fantasy",
         "7.4",
         "438621",
         "Hobbit del 3: Femhäraslaget",
         "SE",
         "nm0001392",
         "Peter Jackson",
         "producer,director,writer"
        ],
        [
         "577",
         "23",
         "Apr 14, 2017",
         "the fate of the furious",
         "$250,000,000",
         "$225,764,765",
         "$1,234,846,267",
         "2017",
         "tt4630562",
         "The Fate of the Furious",
         "2017",
         "136.0",
         "Action,Crime,Thriller",
         "6.7",
         "179774",
         "Fast & Furious 8",
         "IT",
         "nm0336620",
         "F. Gary Gray",
         "director,actor,producer"
        ],
        [
         "629",
         "25",
         "May 26, 2017",
         "pirates of the caribbean dead men tell no tales",
         "$230,000,000",
         "$172,558,876",
         "$788,241,137",
         "2017",
         "tt1790809",
         "Pirates of the Caribbean: Dead Men Tell No Tales",
         "2017",
         "129.0",
         "Action,Adventure,Fantasy",
         "6.6",
         "228592",
         "Pirates of the Caribbean: Salazar's Revenge",
         "SE",
         "nm1461392",
         "Joachim Rønning",
         "director,writer,producer"
        ],
        [
         "735",
         "29",
         "Jun 14, 2013",
         "man of steel",
         "$225,000,000",
         "$291,045,518",
         "$667,999,518",
         "2013",
         "tt0770828",
         "Man of Steel",
         "2013",
         "143.0",
         "Action,Adventure,Sci-Fi",
         "7.1",
         "647288",
         "Čovek od čelika",
         "RS",
         "nm0811583",
         "Zack Snyder",
         "producer,director,writer"
        ],
        [
         "777",
         "31",
         "Jul 3, 2012",
         "the amazing spiderman",
         "$220,000,000",
         "$262,030,663",
         "$757,890,267",
         "2012",
         "tt0948470",
         "The Amazing Spider-Man",
         "2012",
         "136.0",
         "Action,Adventure,Sci-Fi",
         "7.0",
         "525632",
         "El Sorprendente Hombre Araña",
         "VE",
         "nm1989536",
         "Marc Webb",
         "producer,director,writer"
        ],
        [
         "821",
         "32",
         "May 18, 2012",
         "battleship",
         "$220,000,000",
         "$65,233,400",
         "$313,477,717",
         "2012",
         "tt1440129",
         "Battleship",
         "2012",
         "131.0",
         "Action,Adventure,Sci-Fi",
         "5.8",
         "225342",
         "Battleship: Batalla naval",
         "UY",
         "nm0000916",
         "Peter Berg",
         "producer,actor,writer"
        ],
        [
         "849",
         "34",
         "Jun 12, 2015",
         "jurassic world",
         "$215,000,000",
         "$652,270,625",
         "$1,648,854,864",
         "2015",
         "tt0369610",
         "Jurassic World",
         "2015",
         "124.0",
         "Action,Adventure,Sci-Fi",
         "7.0",
         "539338",
         "Джурасик свят",
         "BG",
         "nm1119880",
         "Colin Trevorrow",
         "writer,producer,director"
        ],
        [
         "897",
         "39",
         "May 14, 2010",
         "robin hood",
         "$210,000,000",
         "$105,487,148",
         "$322,459,006",
         "2010",
         "tt0955308",
         "Robin Hood",
         "2010",
         "140.0",
         "Action,Adventure,Drama",
         "6.6",
         "239480",
         "Робин Гуд",
         "RU",
         "nm0000631",
         "Ridley Scott",
         "producer,director,production_designer"
        ],
        [
         "955",
         "42",
         "Feb 16, 2018",
         "black panther",
         "$200,000,000",
         "$700,059,566",
         "$1,348,258,224",
         "2018",
         "tt1825683",
         "Black Panther",
         "2018",
         "134.0",
         "Action,Adventure,Sci-Fi",
         "7.3",
         "516148",
         "Чорна Пантера",
         "UA",
         "nm3363032",
         "Ryan Coogler",
         "director,writer,producer"
        ],
        [
         "984",
         "44",
         "Jun 15, 2018",
         "incredibles 2",
         "$200,000,000",
         "$608,581,744",
         "$1,242,520,711",
         "2018",
         "tt3606756",
         "Incredibles 2",
         "2018",
         "118.0",
         "Action,Adventure,Animation",
         "7.7",
         "203510",
         "Neviđeni 2",
         "RS",
         "nm0083348",
         "Brad Bird",
         "miscellaneous,writer,director"
        ],
        [
         "1023",
         "45",
         "Dec 16, 2016",
         "rogue one a star wars story",
         "$200,000,000",
         "$532,177,324",
         "$1,049,102,856",
         "2016",
         "tt3748528",
         "Rogue One",
         "2016",
         "133.0",
         "Action,Adventure,Sci-Fi",
         "7.8",
         "478592",
         "Rogue One: A Star Wars Story",
         "IT",
         "nm2284484",
         "Gareth Edwards",
         "visual_effects,director,writer"
        ],
        [
         "1065",
         "46",
         "Jun 17, 2016",
         "finding dory",
         "$200,000,000",
         "$486,295,561",
         "$1,021,215,193",
         "2016",
         "tt2277860",
         "Finding Dory",
         "2016",
         "97.0",
         "Adventure,Animation,Comedy",
         "7.3",
         "213542",
         "Potraga za Dorom",
         "HR",
         "nm0533691",
         "Angus MacLane",
         "animation_department,actor,writer"
        ],
        [
         "1155",
         "47",
         "Jun 18, 2010",
         "toy story 3",
         "$200,000,000",
         "$415,004,880",
         "$1,068,879,522",
         "2010",
         "tt0435761",
         "Toy Story 3",
         "2010",
         "103.0",
         "Adventure,Animation,Comedy",
         "8.3",
         "682218",
         "Η ιστορία των παιχνιδιών 3",
         "GR",
         "nm0881279",
         "Lee Unkrich",
         "editorial_department,editor,miscellaneous"
        ],
        [
         "1192",
         "48",
         "May 3, 2013",
         "iron man 3",
         "$200,000,000",
         "$408,992,272",
         "$1,215,392,272",
         "2013",
         "tt1300854",
         "Iron Man Three",
         "2013",
         "130.0",
         "Action,Adventure,Sci-Fi",
         "7.2",
         "692794",
         "Nguoi Sat 3",
         "VN",
         "nm0000948",
         "Shane Black",
         "writer,actor,director"
        ],
        [
         "1235",
         "49",
         "May 5, 2017",
         "guardians of the galaxy vol 2",
         "$200,000,000",
         "$389,813,101",
         "$862,316,233",
         "2017",
         "tt3896198",
         "Guardians of the Galaxy Vol. 2",
         "2017",
         "136.0",
         "Action,Adventure,Comedy",
         "7.7",
         "482917",
         "Strážci Galaxie Vol. 2",
         "CZ",
         "nm0348181",
         "James Gunn",
         "writer,producer,director"
        ],
        [
         "1273",
         "52",
         "Nov 8, 2012",
         "skyfall",
         "$200,000,000",
         "$304,360,277",
         "$1,110,526,981",
         "2012",
         "tt1074638",
         "Skyfall",
         "2012",
         "143.0",
         "Action,Adventure,Thriller",
         "7.8",
         "592221",
         "Tu dia Skyfall",
         "VN",
         "nm0005222",
         "Sam Mendes",
         "producer,director,miscellaneous"
        ],
        [
         "1317",
         "53",
         "Jun 21, 2013",
         "monsters university",
         "$200,000,000",
         "$268,488,329",
         "$743,588,329",
         "2013",
         "tt1453405",
         "Monsters University",
         "2013",
         "104.0",
         "Adventure,Animation,Comedy",
         "7.3",
         "291887",
         "Sevimli Canavarlar Üniversitesi",
         "TR",
         "nm0768959",
         "Dan Scanlon",
         "writer,art_department,director"
        ],
        [
         "1364",
         "54",
         "Mar 8, 2013",
         "oz the great and powerful",
         "$200,000,000",
         "$234,770,996",
         "$490,359,051",
         "2013",
         "tt1623205",
         "Oz the Great and Powerful",
         "2013",
         "130.0",
         "Adventure,Family,Fantasy",
         "6.3",
         "192045",
         "Mogocni Oz",
         "SI",
         "nm0000600",
         "Sam Raimi",
         "producer,writer,director"
        ],
        [
         "1402",
         "55",
         "May 23, 2014",
         "xmen days of future past",
         "$200,000,000",
         "$233,921,534",
         "$747,862,775",
         "2014",
         "tt1877832",
         "X-Men: Days of Future Past",
         "2014",
         "132.0",
         "Action,Adventure,Sci-Fi",
         "8.0",
         "620079",
         "X-Men: Days of Future Past",
         "US",
         "nm0001741",
         "Bryan Singer",
         "producer,director,writer"
        ],
        [
         "1440",
         "56",
         "May 2, 2014",
         "the amazing spiderman 2",
         "$200,000,000",
         "$202,853,933",
         "$708,996,336",
         "2014",
         "tt1872181",
         "The Amazing Spider-Man 2",
         "2014",
         "142.0",
         "Action,Adventure,Sci-Fi",
         "6.6",
         "388363",
         "London Calling",
         "US",
         "nm1989536",
         "Marc Webb",
         "producer,director,writer"
        ],
        [
         "1476",
         "57",
         "Jun 24, 2011",
         "cars 2",
         "$200,000,000",
         "$191,450,875",
         "$560,155,383",
         "2011",
         "tt1216475",
         "Cars 2",
         "2011",
         "106.0",
         "Adventure,Animation,Comedy",
         "6.2",
         "138914",
         "Cars 2",
         "UY",
         "nm0005124",
         "John Lasseter",
         "producer,writer,director"
        ],
        [
         "1550",
         "58",
         "Dec 17, 2010",
         "tron legacy",
         "$200,000,000",
         "$172,062,763",
         "$400,062,763",
         "2010",
         "tt1104001",
         "Tron",
         "2010",
         "125.0",
         "Action,Adventure,Fantasy",
         "6.8",
         "296211",
         "Tron: Örökség",
         "HU",
         "nm2676052",
         "Joseph Kosinski",
         "director,writer,producer"
        ],
        [
         "1598",
         "60",
         "Nov 16, 2018",
         "fantastic beasts the crimes of grindelwald",
         "$200,000,000",
         "$159,555,901",
         "$652,220,086",
         "2018",
         "tt4123430",
         "Fantastic Beasts: The Crimes of Grindelwald",
         "2018",
         "134.0",
         "Adventure,Family,Fantasy",
         "6.6",
         "163151",
         "Animales Fantásticos: Los crímenes de Grindelwald",
         "PE",
         "nm0946734",
         "David Yates",
         "director,producer,writer"
        ],
        [
         "1637",
         "62",
         "Jun 17, 2011",
         "green lantern",
         "$200,000,000",
         "$116,601,172",
         "$219,535,492",
         "2011",
         "tt1133985",
         "Green Lantern",
         "2011",
         "114.0",
         "Action,Adventure,Sci-Fi",
         "5.5",
         "252281",
         "Green Lantern",
         null,
         "nm0132709",
         "Martin Campbell",
         "director,producer,actor"
        ],
        [
         "1665",
         "66",
         "Mar 1, 2013",
         "jack the giant slayer",
         "$195,000,000",
         "$65,187,603",
         "$197,687,603",
         "2013",
         "tt1351685",
         "Jack the Giant Slayer",
         "2013",
         "114.0",
         "Adventure,Fantasy",
         "6.3",
         "123127",
         "Jack le chasseur de géants",
         "FR",
         "nm0001741",
         "Bryan Singer",
         "producer,director,writer"
        ],
        [
         "1700",
         "67",
         "Apr 3, 2015",
         "furious 7",
         "$190,000,000",
         "$353,007,020",
         "$1,518,722,794",
         "2015",
         "tt2820852",
         "Furious Seven",
         "2015",
         "137.0",
         "Action,Crime,Thriller",
         "7.2",
         "335074",
         "Furious 7",
         "NL",
         "nm1490123",
         "James Wan",
         "producer,writer,director"
        ],
        [
         "1751",
         "68",
         "May 16, 2013",
         "star trek into darkness",
         "$190,000,000",
         "$228,778,661",
         "$467,381,584",
         "2013",
         "tt1408101",
         "Star Trek Into Darkness",
         "2013",
         "132.0",
         "Action,Adventure,Sci-Fi",
         "7.7",
         "445535",
         "Além da Escuridão: Star Trek",
         "BR",
         "nm0009190",
         "J.J. Abrams",
         "producer,writer,music_department"
        ],
        [
         "1797",
         "69",
         "Jun 21, 2013",
         "world war z",
         "$190,000,000",
         "$202,359,711",
         "$531,514,650",
         "2013",
         "tt0816711",
         "World War Z",
         "2013",
         "116.0",
         "Action,Adventure,Horror",
         "7.0",
         "553751",
         "Guerra Mundial Z",
         "BR",
         "nm0286975",
         "Marc Forster",
         "producer,director,writer"
        ],
        [
         "1834",
         "72",
         "Jul 12, 2013",
         "pacific rim",
         "$190,000,000",
         "$101,802,906",
         "$411,002,906",
         "2013",
         "tt1663662",
         "Pacific Rim",
         "2013",
         "131.0",
         "Action,Adventure,Sci-Fi",
         "6.9",
         "443667",
         "Το δαχτυλίδι της φωτιάς",
         "GR",
         "nm0868219",
         "Guillermo del Toro",
         "writer,producer,director"
        ],
        [
         "1869",
         "73",
         "Nov 25, 2015",
         "the good dinosaur",
         "$187,500,000",
         "$123,087,120",
         "$333,771,037",
         "2015",
         "tt1979388",
         "The Good Dinosaur",
         "2015",
         "93.0",
         "Adventure,Animation,Comedy",
         "6.7",
         "91465",
         "Untitled Pixar/Dinosaurs Project",
         "US",
         "nm0812307",
         "Peter Sohn",
         "actor,animation_department,art_department"
        ],
        [
         "1912",
         "77",
         "Jun 22, 2012",
         "brave",
         "$185,000,000",
         "$237,282,182",
         "$554,606,532",
         "2012",
         "tt1217209",
         "Brave",
         "2012",
         "93.0",
         "Adventure,Animation,Comedy",
         "7.1",
         "338728",
         "Ribelle: The Brave",
         "IT",
         "nm0028764",
         "Mark Andrews",
         "art_department,writer,miscellaneous"
        ],
        [
         "2065",
         "78",
         "Mar 10, 2017",
         "kong skull island",
         "$185,000,000",
         "$168,052,812",
         "$561,072,059",
         "2017",
         "tt3731562",
         "Kong: Skull Island",
         "2017",
         "118.0",
         "Action,Adventure,Fantasy",
         "6.6",
         "237720",
         "King Kong: Giant from Skull Island",
         "JP",
         "nm3611349",
         "Jordan Vogt-Roberts",
         "director,producer,writer"
        ],
        [
         "2098",
         "79",
         "Jul 22, 2016",
         "star trek beyond",
         "$185,000,000",
         "$158,848,340",
         "$335,802,233",
         "2016",
         "tt2660888",
         "Star Trek Beyond",
         "2016",
         "122.0",
         "Action,Adventure,Sci-Fi",
         "7.1",
         "209844",
         "Star Trek: Más allá",
         "ES",
         "nm0510912",
         "Justin Lin",
         "producer,director,writer"
        ],
        [
         "2135",
         "82",
         "Nov 3, 2017",
         "thor ragnarok",
         "$180,000,000",
         "$315,058,289",
         "$846,980,024",
         "2017",
         "tt3501632",
         "Thor: Ragnarok",
         "2017",
         "130.0",
         "Action,Adventure,Comedy",
         "7.9",
         "482995",
         "Thor: Ragnarok",
         "ES",
         "nm0169806",
         "Taika Waititi",
         "actor,producer,director"
        ],
        [
         "2170",
         "84",
         "May 30, 2014",
         "maleficent",
         "$180,000,000",
         "$241,407,328",
         "$758,536,735",
         "2014",
         "tt1587310",
         "Maleficent",
         "2014",
         "97.0",
         "Action,Adventure,Family",
         "7.0",
         "305832",
         "Czarownica",
         "PL",
         "nm0834902",
         "Robert Stromberg",
         "visual_effects,director,producer"
        ],
        [
         "2206",
         "85",
         "Nov 18, 2016",
         "fantastic beasts and where to find them",
         "$180,000,000",
         "$234,037,575",
         "$802,402,853",
         "2016",
         "tt3183660",
         "Fantastic Beasts and Where to Find Them",
         "2016",
         "132.0",
         "Adventure,Family,Fantasy",
         "7.3",
         "365353",
         "Animales fantásticos y dónde encontrarlos",
         "MX",
         "nm0946734",
         "David Yates",
         "director,producer,writer"
        ],
        [
         "2247",
         "88",
         "Jul 1, 2016",
         "the legend of tarzan",
         "$180,000,000",
         "$126,643,061",
         "$348,902,025",
         "2016",
         "tt0918940",
         "The Legend of Tarzan",
         "2016",
         "110.0",
         "Action,Adventure,Drama",
         "6.3",
         "150154",
         "La leyenda de Tarzán",
         "CL",
         "nm0946734",
         "David Yates",
         "director,producer,writer"
        ],
        [
         "2284",
         "89",
         "Nov 23, 2011",
         "hugo",
         "$180,000,000",
         "$73,864,507",
         "$180,047,784",
         "2011",
         "tt0970179",
         "Hugo",
         "2011",
         "126.0",
         "Adventure,Drama,Family",
         "7.5",
         "284869",
         "Hugo",
         "FI",
         "nm0000217",
         "Martin Scorsese",
         "producer,director,actor"
        ],
        [
         "2321",
         "90",
         "Jul 21, 2017",
         "valerian and the city of a thousand planets",
         "$180,000,000",
         "$40,479,370",
         "$215,098,356",
         "2017",
         "tt2239822",
         "Valerian and the City of a Thousand Planets",
         "2017",
         "137.0",
         "Action,Adventure,Fantasy",
         "6.5",
         "139792",
         "Valerian y la ciudad de los mil planetas",
         "ES",
         "nm0000108",
         "Luc Besson",
         "writer,producer,director"
        ],
        [
         "2354",
         "91",
         "Feb 6, 2015",
         "jupiter ascending",
         "$179,000,000",
         "$47,482,519",
         "$181,982,519",
         "2015",
         "tt1617661",
         "Jupiter Ascending",
         "2015",
         "127.0",
         "Action,Adventure,Sci-Fi",
         "5.3",
         "166327",
         "Jupiteri tõus",
         "EE",
         "nm0905152",
         "Lilly Wachowski",
         "writer,producer,director"
        ]
       ],
       "shape": {
        "columns": 19,
        "rows": 1232
       }
      },
      "text/html": [
       "<div>\n",
       "<style scoped>\n",
       "    .dataframe tbody tr th:only-of-type {\n",
       "        vertical-align: middle;\n",
       "    }\n",
       "\n",
       "    .dataframe tbody tr th {\n",
       "        vertical-align: top;\n",
       "    }\n",
       "\n",
       "    .dataframe thead th {\n",
       "        text-align: right;\n",
       "    }\n",
       "</style>\n",
       "<table border=\"1\" class=\"dataframe\">\n",
       "  <thead>\n",
       "    <tr style=\"text-align: right;\">\n",
       "      <th></th>\n",
       "      <th>id</th>\n",
       "      <th>release_date</th>\n",
       "      <th>movie_title</th>\n",
       "      <th>production_budget</th>\n",
       "      <th>domestic_gross</th>\n",
       "      <th>worldwide_gross</th>\n",
       "      <th>year</th>\n",
       "      <th>movie_id</th>\n",
       "      <th>original_title</th>\n",
       "      <th>release_year</th>\n",
       "      <th>runtime_min</th>\n",
       "      <th>genres</th>\n",
       "      <th>imdb_rating</th>\n",
       "      <th>imdb_votes</th>\n",
       "      <th>alt_title</th>\n",
       "      <th>release_region</th>\n",
       "      <th>person_id</th>\n",
       "      <th>person_name</th>\n",
       "      <th>person_profession</th>\n",
       "    </tr>\n",
       "  </thead>\n",
       "  <tbody>\n",
       "    <tr>\n",
       "      <th>0</th>\n",
       "      <td>2</td>\n",
       "      <td>May 20, 2011</td>\n",
       "      <td>pirates of the caribbean on stranger tides</td>\n",
       "      <td>$410,600,000</td>\n",
       "      <td>$241,063,875</td>\n",
       "      <td>$1,045,663,875</td>\n",
       "      <td>2011</td>\n",
       "      <td>tt1298650</td>\n",
       "      <td>Pirates of the Caribbean: On Stranger Tides</td>\n",
       "      <td>2011</td>\n",
       "      <td>136.0</td>\n",
       "      <td>Action,Adventure,Fantasy</td>\n",
       "      <td>6.6</td>\n",
       "      <td>447624</td>\n",
       "      <td>Pairêtsu obu Karibian: Inochi no izumi</td>\n",
       "      <td>JP</td>\n",
       "      <td>nm0551128</td>\n",
       "      <td>Rob Marshall</td>\n",
       "      <td>director,miscellaneous,producer</td>\n",
       "    </tr>\n",
       "    <tr>\n",
       "      <th>46</th>\n",
       "      <td>4</td>\n",
       "      <td>May 1, 2015</td>\n",
       "      <td>avengers age of ultron</td>\n",
       "      <td>$330,600,000</td>\n",
       "      <td>$459,005,868</td>\n",
       "      <td>$1,403,013,963</td>\n",
       "      <td>2015</td>\n",
       "      <td>tt2395427</td>\n",
       "      <td>Avengers: Age of Ultron</td>\n",
       "      <td>2015</td>\n",
       "      <td>141.0</td>\n",
       "      <td>Action,Adventure,Sci-Fi</td>\n",
       "      <td>7.3</td>\n",
       "      <td>665594</td>\n",
       "      <td>Qisasçilar 2</td>\n",
       "      <td>AZ</td>\n",
       "      <td>nm0923736</td>\n",
       "      <td>Joss Whedon</td>\n",
       "      <td>writer,producer,director</td>\n",
       "    </tr>\n",
       "    <tr>\n",
       "      <th>87</th>\n",
       "      <td>7</td>\n",
       "      <td>Apr 27, 2018</td>\n",
       "      <td>avengers infinity war</td>\n",
       "      <td>$300,000,000</td>\n",
       "      <td>$678,815,482</td>\n",
       "      <td>$2,048,134,200</td>\n",
       "      <td>2018</td>\n",
       "      <td>tt4154756</td>\n",
       "      <td>Avengers: Infinity War</td>\n",
       "      <td>2018</td>\n",
       "      <td>149.0</td>\n",
       "      <td>Action,Adventure,Sci-Fi</td>\n",
       "      <td>8.5</td>\n",
       "      <td>670926</td>\n",
       "      <td>Avengers: Infinity War</td>\n",
       "      <td>AR</td>\n",
       "      <td>nm0751648</td>\n",
       "      <td>Joe Russo</td>\n",
       "      <td>producer,director,writer</td>\n",
       "    </tr>\n",
       "    <tr>\n",
       "      <th>163</th>\n",
       "      <td>9</td>\n",
       "      <td>Nov 17, 2017</td>\n",
       "      <td>justice league</td>\n",
       "      <td>$300,000,000</td>\n",
       "      <td>$229,024,295</td>\n",
       "      <td>$655,945,209</td>\n",
       "      <td>2017</td>\n",
       "      <td>tt0974015</td>\n",
       "      <td>Justice League</td>\n",
       "      <td>2017</td>\n",
       "      <td>120.0</td>\n",
       "      <td>Action,Adventure,Fantasy</td>\n",
       "      <td>6.5</td>\n",
       "      <td>329135</td>\n",
       "      <td>Liga pravde</td>\n",
       "      <td>RS</td>\n",
       "      <td>nm0811583</td>\n",
       "      <td>Zack Snyder</td>\n",
       "      <td>producer,director,writer</td>\n",
       "    </tr>\n",
       "    <tr>\n",
       "      <th>196</th>\n",
       "      <td>10</td>\n",
       "      <td>Nov 6, 2015</td>\n",
       "      <td>spectre</td>\n",
       "      <td>$300,000,000</td>\n",
       "      <td>$200,074,175</td>\n",
       "      <td>$879,620,923</td>\n",
       "      <td>2015</td>\n",
       "      <td>tt2379713</td>\n",
       "      <td>Spectre</td>\n",
       "      <td>2015</td>\n",
       "      <td>148.0</td>\n",
       "      <td>Action,Adventure,Thriller</td>\n",
       "      <td>6.8</td>\n",
       "      <td>352504</td>\n",
       "      <td>Спектър</td>\n",
       "      <td>BG</td>\n",
       "      <td>nm0005222</td>\n",
       "      <td>Sam Mendes</td>\n",
       "      <td>producer,director,miscellaneous</td>\n",
       "    </tr>\n",
       "    <tr>\n",
       "      <th>...</th>\n",
       "      <td>...</td>\n",
       "      <td>...</td>\n",
       "      <td>...</td>\n",
       "      <td>...</td>\n",
       "      <td>...</td>\n",
       "      <td>...</td>\n",
       "      <td>...</td>\n",
       "      <td>...</td>\n",
       "      <td>...</td>\n",
       "      <td>...</td>\n",
       "      <td>...</td>\n",
       "      <td>...</td>\n",
       "      <td>...</td>\n",
       "      <td>...</td>\n",
       "      <td>...</td>\n",
       "      <td>...</td>\n",
       "      <td>...</td>\n",
       "      <td>...</td>\n",
       "      <td>...</td>\n",
       "    </tr>\n",
       "    <tr>\n",
       "      <th>38839</th>\n",
       "      <td>68</td>\n",
       "      <td>Apr 27, 2012</td>\n",
       "      <td>sound of my voice</td>\n",
       "      <td>$135,000</td>\n",
       "      <td>$408,015</td>\n",
       "      <td>$429,448</td>\n",
       "      <td>2012</td>\n",
       "      <td>tt1748207</td>\n",
       "      <td>Sound of My Voice</td>\n",
       "      <td>2011</td>\n",
       "      <td>85.0</td>\n",
       "      <td>Drama,Mystery,Sci-Fi</td>\n",
       "      <td>6.6</td>\n",
       "      <td>19387</td>\n",
       "      <td>Dzwiek mego glosu</td>\n",
       "      <td>PL</td>\n",
       "      <td>nm2610231</td>\n",
       "      <td>Zal Batmanglij</td>\n",
       "      <td>writer,director,producer</td>\n",
       "    </tr>\n",
       "    <tr>\n",
       "      <th>38847</th>\n",
       "      <td>73</td>\n",
       "      <td>Jun 15, 2012</td>\n",
       "      <td>your sisters sister</td>\n",
       "      <td>$120,000</td>\n",
       "      <td>$1,597,486</td>\n",
       "      <td>$3,090,593</td>\n",
       "      <td>2012</td>\n",
       "      <td>tt1742336</td>\n",
       "      <td>Your Sister's Sister</td>\n",
       "      <td>2011</td>\n",
       "      <td>90.0</td>\n",
       "      <td>Comedy,Drama</td>\n",
       "      <td>6.7</td>\n",
       "      <td>24780</td>\n",
       "      <td>Your Sister's Sister</td>\n",
       "      <td>None</td>\n",
       "      <td>nm1119645</td>\n",
       "      <td>Lynn Shelton</td>\n",
       "      <td>director,actress,producer</td>\n",
       "    </tr>\n",
       "    <tr>\n",
       "      <th>38863</th>\n",
       "      <td>80</td>\n",
       "      <td>Jul 10, 2015</td>\n",
       "      <td>the gallows</td>\n",
       "      <td>$100,000</td>\n",
       "      <td>$22,764,410</td>\n",
       "      <td>$41,656,474</td>\n",
       "      <td>2015</td>\n",
       "      <td>tt2309260</td>\n",
       "      <td>The Gallows</td>\n",
       "      <td>2015</td>\n",
       "      <td>81.0</td>\n",
       "      <td>Horror,Mystery,Thriller</td>\n",
       "      <td>4.2</td>\n",
       "      <td>17763</td>\n",
       "      <td>Daragaci</td>\n",
       "      <td>TR</td>\n",
       "      <td>nm3951039</td>\n",
       "      <td>Chris Lofing</td>\n",
       "      <td>producer,director,writer</td>\n",
       "    </tr>\n",
       "    <tr>\n",
       "      <th>38913</th>\n",
       "      <td>86</td>\n",
       "      <td>Jul 7, 2017</td>\n",
       "      <td>a ghost story</td>\n",
       "      <td>$100,000</td>\n",
       "      <td>$1,594,798</td>\n",
       "      <td>$2,769,782</td>\n",
       "      <td>2017</td>\n",
       "      <td>tt6265828</td>\n",
       "      <td>A Ghost Story</td>\n",
       "      <td>2017</td>\n",
       "      <td>92.0</td>\n",
       "      <td>Drama,Fantasy,Romance</td>\n",
       "      <td>6.8</td>\n",
       "      <td>46280</td>\n",
       "      <td>Historia de fantasmas</td>\n",
       "      <td>MX</td>\n",
       "      <td>nm1108007</td>\n",
       "      <td>David Lowery</td>\n",
       "      <td>editor,producer,director</td>\n",
       "    </tr>\n",
       "    <tr>\n",
       "      <th>38929</th>\n",
       "      <td>18</td>\n",
       "      <td>Nov 12, 2010</td>\n",
       "      <td>tiny furniture</td>\n",
       "      <td>$50,000</td>\n",
       "      <td>$391,674</td>\n",
       "      <td>$424,149</td>\n",
       "      <td>2010</td>\n",
       "      <td>tt1570989</td>\n",
       "      <td>Tiny Furniture</td>\n",
       "      <td>2010</td>\n",
       "      <td>98.0</td>\n",
       "      <td>Comedy,Drama,Romance</td>\n",
       "      <td>6.2</td>\n",
       "      <td>13397</td>\n",
       "      <td>Rahitim Ze'irim</td>\n",
       "      <td>IL</td>\n",
       "      <td>nm2501633</td>\n",
       "      <td>Lena Dunham</td>\n",
       "      <td>writer,actress,producer</td>\n",
       "    </tr>\n",
       "  </tbody>\n",
       "</table>\n",
       "<p>1232 rows × 19 columns</p>\n",
       "</div>"
      ],
      "text/plain": [
       "       id  release_date                                 movie_title  \\\n",
       "0       2  May 20, 2011  pirates of the caribbean on stranger tides   \n",
       "46      4   May 1, 2015                      avengers age of ultron   \n",
       "87      7  Apr 27, 2018                       avengers infinity war   \n",
       "163     9  Nov 17, 2017                              justice league   \n",
       "196    10   Nov 6, 2015                                     spectre   \n",
       "...    ..           ...                                         ...   \n",
       "38839  68  Apr 27, 2012                           sound of my voice   \n",
       "38847  73  Jun 15, 2012                         your sisters sister   \n",
       "38863  80  Jul 10, 2015                                 the gallows   \n",
       "38913  86   Jul 7, 2017                               a ghost story   \n",
       "38929  18  Nov 12, 2010                              tiny furniture   \n",
       "\n",
       "      production_budget domestic_gross worldwide_gross  year   movie_id  \\\n",
       "0          $410,600,000   $241,063,875  $1,045,663,875  2011  tt1298650   \n",
       "46         $330,600,000   $459,005,868  $1,403,013,963  2015  tt2395427   \n",
       "87         $300,000,000   $678,815,482  $2,048,134,200  2018  tt4154756   \n",
       "163        $300,000,000   $229,024,295    $655,945,209  2017  tt0974015   \n",
       "196        $300,000,000   $200,074,175    $879,620,923  2015  tt2379713   \n",
       "...                 ...            ...             ...   ...        ...   \n",
       "38839          $135,000       $408,015        $429,448  2012  tt1748207   \n",
       "38847          $120,000     $1,597,486      $3,090,593  2012  tt1742336   \n",
       "38863          $100,000    $22,764,410     $41,656,474  2015  tt2309260   \n",
       "38913          $100,000     $1,594,798      $2,769,782  2017  tt6265828   \n",
       "38929           $50,000       $391,674        $424,149  2010  tt1570989   \n",
       "\n",
       "                                    original_title  release_year  runtime_min  \\\n",
       "0      Pirates of the Caribbean: On Stranger Tides          2011        136.0   \n",
       "46                         Avengers: Age of Ultron          2015        141.0   \n",
       "87                          Avengers: Infinity War          2018        149.0   \n",
       "163                                 Justice League          2017        120.0   \n",
       "196                                        Spectre          2015        148.0   \n",
       "...                                            ...           ...          ...   \n",
       "38839                            Sound of My Voice          2011         85.0   \n",
       "38847                         Your Sister's Sister          2011         90.0   \n",
       "38863                                  The Gallows          2015         81.0   \n",
       "38913                                A Ghost Story          2017         92.0   \n",
       "38929                               Tiny Furniture          2010         98.0   \n",
       "\n",
       "                          genres  imdb_rating  imdb_votes  \\\n",
       "0       Action,Adventure,Fantasy          6.6      447624   \n",
       "46       Action,Adventure,Sci-Fi          7.3      665594   \n",
       "87       Action,Adventure,Sci-Fi          8.5      670926   \n",
       "163     Action,Adventure,Fantasy          6.5      329135   \n",
       "196    Action,Adventure,Thriller          6.8      352504   \n",
       "...                          ...          ...         ...   \n",
       "38839       Drama,Mystery,Sci-Fi          6.6       19387   \n",
       "38847               Comedy,Drama          6.7       24780   \n",
       "38863    Horror,Mystery,Thriller          4.2       17763   \n",
       "38913      Drama,Fantasy,Romance          6.8       46280   \n",
       "38929       Comedy,Drama,Romance          6.2       13397   \n",
       "\n",
       "                                    alt_title release_region  person_id  \\\n",
       "0      Pairêtsu obu Karibian: Inochi no izumi             JP  nm0551128   \n",
       "46                               Qisasçilar 2             AZ  nm0923736   \n",
       "87                     Avengers: Infinity War             AR  nm0751648   \n",
       "163                               Liga pravde             RS  nm0811583   \n",
       "196                                   Спектър             BG  nm0005222   \n",
       "...                                       ...            ...        ...   \n",
       "38839                       Dzwiek mego glosu             PL  nm2610231   \n",
       "38847                    Your Sister's Sister           None  nm1119645   \n",
       "38863                                Daragaci             TR  nm3951039   \n",
       "38913                   Historia de fantasmas             MX  nm1108007   \n",
       "38929                         Rahitim Ze'irim             IL  nm2501633   \n",
       "\n",
       "          person_name                person_profession  \n",
       "0        Rob Marshall  director,miscellaneous,producer  \n",
       "46        Joss Whedon         writer,producer,director  \n",
       "87          Joe Russo         producer,director,writer  \n",
       "163       Zack Snyder         producer,director,writer  \n",
       "196        Sam Mendes  producer,director,miscellaneous  \n",
       "...               ...                              ...  \n",
       "38839  Zal Batmanglij         writer,director,producer  \n",
       "38847    Lynn Shelton        director,actress,producer  \n",
       "38863    Chris Lofing         producer,director,writer  \n",
       "38913    David Lowery         editor,producer,director  \n",
       "38929     Lena Dunham          writer,actress,producer  \n",
       "\n",
       "[1232 rows x 19 columns]"
      ]
     },
     "execution_count": 45,
     "metadata": {},
     "output_type": "execute_result"
    }
   ],
   "source": [
    "budget_df = budget_merge.merge(final_df, on='movie_title', how='inner')\n",
    "\n",
    "budget_df.drop_duplicates(subset='movie_title') "
   ]
  },
  {
   "cell_type": "code",
   "execution_count": 46,
   "metadata": {},
   "outputs": [],
   "source": [
    "budget_df = budget_df.drop_duplicates(subset='movie_title')\n",
    "budget_df = budget_df.drop(columns=['id', 'year', 'imdb_votes' ])\n"
   ]
  },
  {
   "cell_type": "code",
   "execution_count": 47,
   "metadata": {},
   "outputs": [
    {
     "data": {
      "application/vnd.microsoft.datawrangler.viewer.v0+json": {
       "columns": [
        {
         "name": "index",
         "rawType": "int64",
         "type": "integer"
        },
        {
         "name": "release_date",
         "rawType": "object",
         "type": "string"
        },
        {
         "name": "movie_title",
         "rawType": "object",
         "type": "string"
        },
        {
         "name": "production_budget",
         "rawType": "object",
         "type": "string"
        },
        {
         "name": "domestic_gross",
         "rawType": "object",
         "type": "string"
        },
        {
         "name": "worldwide_gross",
         "rawType": "object",
         "type": "string"
        },
        {
         "name": "movie_id",
         "rawType": "object",
         "type": "string"
        },
        {
         "name": "original_title",
         "rawType": "object",
         "type": "string"
        },
        {
         "name": "release_year",
         "rawType": "int64",
         "type": "integer"
        },
        {
         "name": "runtime_min",
         "rawType": "float64",
         "type": "float"
        },
        {
         "name": "genres",
         "rawType": "object",
         "type": "string"
        },
        {
         "name": "imdb_rating",
         "rawType": "float64",
         "type": "float"
        },
        {
         "name": "alt_title",
         "rawType": "object",
         "type": "string"
        },
        {
         "name": "release_region",
         "rawType": "object",
         "type": "unknown"
        },
        {
         "name": "person_id",
         "rawType": "object",
         "type": "string"
        },
        {
         "name": "person_name",
         "rawType": "object",
         "type": "string"
        },
        {
         "name": "person_profession",
         "rawType": "object",
         "type": "string"
        }
       ],
       "ref": "94ceee2d-11bc-4491-a0da-95cafca8ea68",
       "rows": [
        [
         "0",
         "May 20, 2011",
         "pirates of the caribbean on stranger tides",
         "$410,600,000",
         "$241,063,875",
         "$1,045,663,875",
         "tt1298650",
         "Pirates of the Caribbean: On Stranger Tides",
         "2011",
         "136.0",
         "Action,Adventure,Fantasy",
         "6.6",
         "Pairêtsu obu Karibian: Inochi no izumi",
         "JP",
         "nm0551128",
         "Rob Marshall",
         "director,miscellaneous,producer"
        ],
        [
         "46",
         "May 1, 2015",
         "avengers age of ultron",
         "$330,600,000",
         "$459,005,868",
         "$1,403,013,963",
         "tt2395427",
         "Avengers: Age of Ultron",
         "2015",
         "141.0",
         "Action,Adventure,Sci-Fi",
         "7.3",
         "Qisasçilar 2",
         "AZ",
         "nm0923736",
         "Joss Whedon",
         "writer,producer,director"
        ],
        [
         "87",
         "Apr 27, 2018",
         "avengers infinity war",
         "$300,000,000",
         "$678,815,482",
         "$2,048,134,200",
         "tt4154756",
         "Avengers: Infinity War",
         "2018",
         "149.0",
         "Action,Adventure,Sci-Fi",
         "8.5",
         "Avengers: Infinity War",
         "AR",
         "nm0751648",
         "Joe Russo",
         "producer,director,writer"
        ],
        [
         "163",
         "Nov 17, 2017",
         "justice league",
         "$300,000,000",
         "$229,024,295",
         "$655,945,209",
         "tt0974015",
         "Justice League",
         "2017",
         "120.0",
         "Action,Adventure,Fantasy",
         "6.5",
         "Liga pravde",
         "RS",
         "nm0811583",
         "Zack Snyder",
         "producer,director,writer"
        ],
        [
         "196",
         "Nov 6, 2015",
         "spectre",
         "$300,000,000",
         "$200,074,175",
         "$879,620,923",
         "tt2379713",
         "Spectre",
         "2015",
         "148.0",
         "Action,Adventure,Thriller",
         "6.8",
         "Спектър",
         "BG",
         "nm0005222",
         "Sam Mendes",
         "producer,director,miscellaneous"
        ],
        [
         "229",
         "May 25, 2018",
         "solo a star wars story",
         "$275,000,000",
         "$213,767,512",
         "$393,151,347",
         "tt3778644",
         "Solo: A Star Wars Story",
         "2018",
         "135.0",
         "Action,Adventure,Fantasy",
         "7.0",
         "Solo: A Star Wars Story",
         "SE",
         "nm0000165",
         "Ron Howard",
         "actor,producer,director"
        ],
        [
         "267",
         "Jul 2, 2013",
         "the lone ranger",
         "$275,000,000",
         "$89,302,115",
         "$260,002,115",
         "tt1210819",
         "The Lone Ranger",
         "2013",
         "150.0",
         "Action,Adventure,Western",
         "6.4",
         "The Lone Ranger",
         "IT",
         "nm0893659",
         "Gore Verbinski",
         "director,producer,writer"
        ],
        [
         "302",
         "Mar 9, 2012",
         "john carter",
         "$275,000,000",
         "$73,058,679",
         "$282,778,100",
         "tt0401729",
         "John Carter",
         "2012",
         "132.0",
         "Action,Adventure,Sci-Fi",
         "6.6",
         "Джон Картер: Мiж двох свiтiв",
         "UA",
         "nm0004056",
         "Andrew Stanton",
         "writer,actor,producer"
        ],
        [
         "336",
         "Nov 24, 2010",
         "tangled",
         "$260,000,000",
         "$200,821,936",
         "$586,477,240",
         "tt0398286",
         "Tangled",
         "2010",
         "100.0",
         "Adventure,Animation,Comedy",
         "7.8",
         "Raiponce",
         "FR",
         "nm0397174",
         "Byron Howard",
         "animation_department,director,actor"
        ],
        [
         "438",
         "May 6, 2016",
         "captain america civil war",
         "$250,000,000",
         "$408,084,349",
         "$1,140,069,413",
         "tt3498820",
         "Captain America: Civil War",
         "2016",
         "147.0",
         "Action,Adventure,Sci-Fi",
         "7.8",
         "Sputnik",
         "US",
         "nm0751648",
         "Joe Russo",
         "producer,director,writer"
        ],
        [
         "522",
         "Dec 17, 2014",
         "the hobbit the battle of the five armies",
         "$250,000,000",
         "$255,119,788",
         "$945,577,621",
         "tt2310332",
         "The Hobbit: The Battle of the Five Armies",
         "2014",
         "144.0",
         "Adventure,Fantasy",
         "7.4",
         "Hobbit del 3: Femhäraslaget",
         "SE",
         "nm0001392",
         "Peter Jackson",
         "producer,director,writer"
        ],
        [
         "577",
         "Apr 14, 2017",
         "the fate of the furious",
         "$250,000,000",
         "$225,764,765",
         "$1,234,846,267",
         "tt4630562",
         "The Fate of the Furious",
         "2017",
         "136.0",
         "Action,Crime,Thriller",
         "6.7",
         "Fast & Furious 8",
         "IT",
         "nm0336620",
         "F. Gary Gray",
         "director,actor,producer"
        ],
        [
         "629",
         "May 26, 2017",
         "pirates of the caribbean dead men tell no tales",
         "$230,000,000",
         "$172,558,876",
         "$788,241,137",
         "tt1790809",
         "Pirates of the Caribbean: Dead Men Tell No Tales",
         "2017",
         "129.0",
         "Action,Adventure,Fantasy",
         "6.6",
         "Pirates of the Caribbean: Salazar's Revenge",
         "SE",
         "nm1461392",
         "Joachim Rønning",
         "director,writer,producer"
        ],
        [
         "735",
         "Jun 14, 2013",
         "man of steel",
         "$225,000,000",
         "$291,045,518",
         "$667,999,518",
         "tt0770828",
         "Man of Steel",
         "2013",
         "143.0",
         "Action,Adventure,Sci-Fi",
         "7.1",
         "Čovek od čelika",
         "RS",
         "nm0811583",
         "Zack Snyder",
         "producer,director,writer"
        ],
        [
         "777",
         "Jul 3, 2012",
         "the amazing spiderman",
         "$220,000,000",
         "$262,030,663",
         "$757,890,267",
         "tt0948470",
         "The Amazing Spider-Man",
         "2012",
         "136.0",
         "Action,Adventure,Sci-Fi",
         "7.0",
         "El Sorprendente Hombre Araña",
         "VE",
         "nm1989536",
         "Marc Webb",
         "producer,director,writer"
        ],
        [
         "821",
         "May 18, 2012",
         "battleship",
         "$220,000,000",
         "$65,233,400",
         "$313,477,717",
         "tt1440129",
         "Battleship",
         "2012",
         "131.0",
         "Action,Adventure,Sci-Fi",
         "5.8",
         "Battleship: Batalla naval",
         "UY",
         "nm0000916",
         "Peter Berg",
         "producer,actor,writer"
        ],
        [
         "849",
         "Jun 12, 2015",
         "jurassic world",
         "$215,000,000",
         "$652,270,625",
         "$1,648,854,864",
         "tt0369610",
         "Jurassic World",
         "2015",
         "124.0",
         "Action,Adventure,Sci-Fi",
         "7.0",
         "Джурасик свят",
         "BG",
         "nm1119880",
         "Colin Trevorrow",
         "writer,producer,director"
        ],
        [
         "897",
         "May 14, 2010",
         "robin hood",
         "$210,000,000",
         "$105,487,148",
         "$322,459,006",
         "tt0955308",
         "Robin Hood",
         "2010",
         "140.0",
         "Action,Adventure,Drama",
         "6.6",
         "Робин Гуд",
         "RU",
         "nm0000631",
         "Ridley Scott",
         "producer,director,production_designer"
        ],
        [
         "955",
         "Feb 16, 2018",
         "black panther",
         "$200,000,000",
         "$700,059,566",
         "$1,348,258,224",
         "tt1825683",
         "Black Panther",
         "2018",
         "134.0",
         "Action,Adventure,Sci-Fi",
         "7.3",
         "Чорна Пантера",
         "UA",
         "nm3363032",
         "Ryan Coogler",
         "director,writer,producer"
        ],
        [
         "984",
         "Jun 15, 2018",
         "incredibles 2",
         "$200,000,000",
         "$608,581,744",
         "$1,242,520,711",
         "tt3606756",
         "Incredibles 2",
         "2018",
         "118.0",
         "Action,Adventure,Animation",
         "7.7",
         "Neviđeni 2",
         "RS",
         "nm0083348",
         "Brad Bird",
         "miscellaneous,writer,director"
        ],
        [
         "1023",
         "Dec 16, 2016",
         "rogue one a star wars story",
         "$200,000,000",
         "$532,177,324",
         "$1,049,102,856",
         "tt3748528",
         "Rogue One",
         "2016",
         "133.0",
         "Action,Adventure,Sci-Fi",
         "7.8",
         "Rogue One: A Star Wars Story",
         "IT",
         "nm2284484",
         "Gareth Edwards",
         "visual_effects,director,writer"
        ],
        [
         "1065",
         "Jun 17, 2016",
         "finding dory",
         "$200,000,000",
         "$486,295,561",
         "$1,021,215,193",
         "tt2277860",
         "Finding Dory",
         "2016",
         "97.0",
         "Adventure,Animation,Comedy",
         "7.3",
         "Potraga za Dorom",
         "HR",
         "nm0533691",
         "Angus MacLane",
         "animation_department,actor,writer"
        ],
        [
         "1155",
         "Jun 18, 2010",
         "toy story 3",
         "$200,000,000",
         "$415,004,880",
         "$1,068,879,522",
         "tt0435761",
         "Toy Story 3",
         "2010",
         "103.0",
         "Adventure,Animation,Comedy",
         "8.3",
         "Η ιστορία των παιχνιδιών 3",
         "GR",
         "nm0881279",
         "Lee Unkrich",
         "editorial_department,editor,miscellaneous"
        ],
        [
         "1192",
         "May 3, 2013",
         "iron man 3",
         "$200,000,000",
         "$408,992,272",
         "$1,215,392,272",
         "tt1300854",
         "Iron Man Three",
         "2013",
         "130.0",
         "Action,Adventure,Sci-Fi",
         "7.2",
         "Nguoi Sat 3",
         "VN",
         "nm0000948",
         "Shane Black",
         "writer,actor,director"
        ],
        [
         "1235",
         "May 5, 2017",
         "guardians of the galaxy vol 2",
         "$200,000,000",
         "$389,813,101",
         "$862,316,233",
         "tt3896198",
         "Guardians of the Galaxy Vol. 2",
         "2017",
         "136.0",
         "Action,Adventure,Comedy",
         "7.7",
         "Strážci Galaxie Vol. 2",
         "CZ",
         "nm0348181",
         "James Gunn",
         "writer,producer,director"
        ],
        [
         "1273",
         "Nov 8, 2012",
         "skyfall",
         "$200,000,000",
         "$304,360,277",
         "$1,110,526,981",
         "tt1074638",
         "Skyfall",
         "2012",
         "143.0",
         "Action,Adventure,Thriller",
         "7.8",
         "Tu dia Skyfall",
         "VN",
         "nm0005222",
         "Sam Mendes",
         "producer,director,miscellaneous"
        ],
        [
         "1317",
         "Jun 21, 2013",
         "monsters university",
         "$200,000,000",
         "$268,488,329",
         "$743,588,329",
         "tt1453405",
         "Monsters University",
         "2013",
         "104.0",
         "Adventure,Animation,Comedy",
         "7.3",
         "Sevimli Canavarlar Üniversitesi",
         "TR",
         "nm0768959",
         "Dan Scanlon",
         "writer,art_department,director"
        ],
        [
         "1364",
         "Mar 8, 2013",
         "oz the great and powerful",
         "$200,000,000",
         "$234,770,996",
         "$490,359,051",
         "tt1623205",
         "Oz the Great and Powerful",
         "2013",
         "130.0",
         "Adventure,Family,Fantasy",
         "6.3",
         "Mogocni Oz",
         "SI",
         "nm0000600",
         "Sam Raimi",
         "producer,writer,director"
        ],
        [
         "1402",
         "May 23, 2014",
         "xmen days of future past",
         "$200,000,000",
         "$233,921,534",
         "$747,862,775",
         "tt1877832",
         "X-Men: Days of Future Past",
         "2014",
         "132.0",
         "Action,Adventure,Sci-Fi",
         "8.0",
         "X-Men: Days of Future Past",
         "US",
         "nm0001741",
         "Bryan Singer",
         "producer,director,writer"
        ],
        [
         "1440",
         "May 2, 2014",
         "the amazing spiderman 2",
         "$200,000,000",
         "$202,853,933",
         "$708,996,336",
         "tt1872181",
         "The Amazing Spider-Man 2",
         "2014",
         "142.0",
         "Action,Adventure,Sci-Fi",
         "6.6",
         "London Calling",
         "US",
         "nm1989536",
         "Marc Webb",
         "producer,director,writer"
        ],
        [
         "1476",
         "Jun 24, 2011",
         "cars 2",
         "$200,000,000",
         "$191,450,875",
         "$560,155,383",
         "tt1216475",
         "Cars 2",
         "2011",
         "106.0",
         "Adventure,Animation,Comedy",
         "6.2",
         "Cars 2",
         "UY",
         "nm0005124",
         "John Lasseter",
         "producer,writer,director"
        ],
        [
         "1550",
         "Dec 17, 2010",
         "tron legacy",
         "$200,000,000",
         "$172,062,763",
         "$400,062,763",
         "tt1104001",
         "Tron",
         "2010",
         "125.0",
         "Action,Adventure,Fantasy",
         "6.8",
         "Tron: Örökség",
         "HU",
         "nm2676052",
         "Joseph Kosinski",
         "director,writer,producer"
        ],
        [
         "1598",
         "Nov 16, 2018",
         "fantastic beasts the crimes of grindelwald",
         "$200,000,000",
         "$159,555,901",
         "$652,220,086",
         "tt4123430",
         "Fantastic Beasts: The Crimes of Grindelwald",
         "2018",
         "134.0",
         "Adventure,Family,Fantasy",
         "6.6",
         "Animales Fantásticos: Los crímenes de Grindelwald",
         "PE",
         "nm0946734",
         "David Yates",
         "director,producer,writer"
        ],
        [
         "1637",
         "Jun 17, 2011",
         "green lantern",
         "$200,000,000",
         "$116,601,172",
         "$219,535,492",
         "tt1133985",
         "Green Lantern",
         "2011",
         "114.0",
         "Action,Adventure,Sci-Fi",
         "5.5",
         "Green Lantern",
         null,
         "nm0132709",
         "Martin Campbell",
         "director,producer,actor"
        ],
        [
         "1665",
         "Mar 1, 2013",
         "jack the giant slayer",
         "$195,000,000",
         "$65,187,603",
         "$197,687,603",
         "tt1351685",
         "Jack the Giant Slayer",
         "2013",
         "114.0",
         "Adventure,Fantasy",
         "6.3",
         "Jack le chasseur de géants",
         "FR",
         "nm0001741",
         "Bryan Singer",
         "producer,director,writer"
        ],
        [
         "1700",
         "Apr 3, 2015",
         "furious 7",
         "$190,000,000",
         "$353,007,020",
         "$1,518,722,794",
         "tt2820852",
         "Furious Seven",
         "2015",
         "137.0",
         "Action,Crime,Thriller",
         "7.2",
         "Furious 7",
         "NL",
         "nm1490123",
         "James Wan",
         "producer,writer,director"
        ],
        [
         "1751",
         "May 16, 2013",
         "star trek into darkness",
         "$190,000,000",
         "$228,778,661",
         "$467,381,584",
         "tt1408101",
         "Star Trek Into Darkness",
         "2013",
         "132.0",
         "Action,Adventure,Sci-Fi",
         "7.7",
         "Além da Escuridão: Star Trek",
         "BR",
         "nm0009190",
         "J.J. Abrams",
         "producer,writer,music_department"
        ],
        [
         "1797",
         "Jun 21, 2013",
         "world war z",
         "$190,000,000",
         "$202,359,711",
         "$531,514,650",
         "tt0816711",
         "World War Z",
         "2013",
         "116.0",
         "Action,Adventure,Horror",
         "7.0",
         "Guerra Mundial Z",
         "BR",
         "nm0286975",
         "Marc Forster",
         "producer,director,writer"
        ],
        [
         "1834",
         "Jul 12, 2013",
         "pacific rim",
         "$190,000,000",
         "$101,802,906",
         "$411,002,906",
         "tt1663662",
         "Pacific Rim",
         "2013",
         "131.0",
         "Action,Adventure,Sci-Fi",
         "6.9",
         "Το δαχτυλίδι της φωτιάς",
         "GR",
         "nm0868219",
         "Guillermo del Toro",
         "writer,producer,director"
        ],
        [
         "1869",
         "Nov 25, 2015",
         "the good dinosaur",
         "$187,500,000",
         "$123,087,120",
         "$333,771,037",
         "tt1979388",
         "The Good Dinosaur",
         "2015",
         "93.0",
         "Adventure,Animation,Comedy",
         "6.7",
         "Untitled Pixar/Dinosaurs Project",
         "US",
         "nm0812307",
         "Peter Sohn",
         "actor,animation_department,art_department"
        ],
        [
         "1912",
         "Jun 22, 2012",
         "brave",
         "$185,000,000",
         "$237,282,182",
         "$554,606,532",
         "tt1217209",
         "Brave",
         "2012",
         "93.0",
         "Adventure,Animation,Comedy",
         "7.1",
         "Ribelle: The Brave",
         "IT",
         "nm0028764",
         "Mark Andrews",
         "art_department,writer,miscellaneous"
        ],
        [
         "2065",
         "Mar 10, 2017",
         "kong skull island",
         "$185,000,000",
         "$168,052,812",
         "$561,072,059",
         "tt3731562",
         "Kong: Skull Island",
         "2017",
         "118.0",
         "Action,Adventure,Fantasy",
         "6.6",
         "King Kong: Giant from Skull Island",
         "JP",
         "nm3611349",
         "Jordan Vogt-Roberts",
         "director,producer,writer"
        ],
        [
         "2098",
         "Jul 22, 2016",
         "star trek beyond",
         "$185,000,000",
         "$158,848,340",
         "$335,802,233",
         "tt2660888",
         "Star Trek Beyond",
         "2016",
         "122.0",
         "Action,Adventure,Sci-Fi",
         "7.1",
         "Star Trek: Más allá",
         "ES",
         "nm0510912",
         "Justin Lin",
         "producer,director,writer"
        ],
        [
         "2135",
         "Nov 3, 2017",
         "thor ragnarok",
         "$180,000,000",
         "$315,058,289",
         "$846,980,024",
         "tt3501632",
         "Thor: Ragnarok",
         "2017",
         "130.0",
         "Action,Adventure,Comedy",
         "7.9",
         "Thor: Ragnarok",
         "ES",
         "nm0169806",
         "Taika Waititi",
         "actor,producer,director"
        ],
        [
         "2170",
         "May 30, 2014",
         "maleficent",
         "$180,000,000",
         "$241,407,328",
         "$758,536,735",
         "tt1587310",
         "Maleficent",
         "2014",
         "97.0",
         "Action,Adventure,Family",
         "7.0",
         "Czarownica",
         "PL",
         "nm0834902",
         "Robert Stromberg",
         "visual_effects,director,producer"
        ],
        [
         "2206",
         "Nov 18, 2016",
         "fantastic beasts and where to find them",
         "$180,000,000",
         "$234,037,575",
         "$802,402,853",
         "tt3183660",
         "Fantastic Beasts and Where to Find Them",
         "2016",
         "132.0",
         "Adventure,Family,Fantasy",
         "7.3",
         "Animales fantásticos y dónde encontrarlos",
         "MX",
         "nm0946734",
         "David Yates",
         "director,producer,writer"
        ],
        [
         "2247",
         "Jul 1, 2016",
         "the legend of tarzan",
         "$180,000,000",
         "$126,643,061",
         "$348,902,025",
         "tt0918940",
         "The Legend of Tarzan",
         "2016",
         "110.0",
         "Action,Adventure,Drama",
         "6.3",
         "La leyenda de Tarzán",
         "CL",
         "nm0946734",
         "David Yates",
         "director,producer,writer"
        ],
        [
         "2284",
         "Nov 23, 2011",
         "hugo",
         "$180,000,000",
         "$73,864,507",
         "$180,047,784",
         "tt0970179",
         "Hugo",
         "2011",
         "126.0",
         "Adventure,Drama,Family",
         "7.5",
         "Hugo",
         "FI",
         "nm0000217",
         "Martin Scorsese",
         "producer,director,actor"
        ],
        [
         "2321",
         "Jul 21, 2017",
         "valerian and the city of a thousand planets",
         "$180,000,000",
         "$40,479,370",
         "$215,098,356",
         "tt2239822",
         "Valerian and the City of a Thousand Planets",
         "2017",
         "137.0",
         "Action,Adventure,Fantasy",
         "6.5",
         "Valerian y la ciudad de los mil planetas",
         "ES",
         "nm0000108",
         "Luc Besson",
         "writer,producer,director"
        ],
        [
         "2354",
         "Feb 6, 2015",
         "jupiter ascending",
         "$179,000,000",
         "$47,482,519",
         "$181,982,519",
         "tt1617661",
         "Jupiter Ascending",
         "2015",
         "127.0",
         "Action,Adventure,Sci-Fi",
         "5.3",
         "Jupiteri tõus",
         "EE",
         "nm0905152",
         "Lilly Wachowski",
         "writer,producer,director"
        ]
       ],
       "shape": {
        "columns": 16,
        "rows": 1232
       }
      },
      "text/html": [
       "<div>\n",
       "<style scoped>\n",
       "    .dataframe tbody tr th:only-of-type {\n",
       "        vertical-align: middle;\n",
       "    }\n",
       "\n",
       "    .dataframe tbody tr th {\n",
       "        vertical-align: top;\n",
       "    }\n",
       "\n",
       "    .dataframe thead th {\n",
       "        text-align: right;\n",
       "    }\n",
       "</style>\n",
       "<table border=\"1\" class=\"dataframe\">\n",
       "  <thead>\n",
       "    <tr style=\"text-align: right;\">\n",
       "      <th></th>\n",
       "      <th>release_date</th>\n",
       "      <th>movie_title</th>\n",
       "      <th>production_budget</th>\n",
       "      <th>domestic_gross</th>\n",
       "      <th>worldwide_gross</th>\n",
       "      <th>movie_id</th>\n",
       "      <th>original_title</th>\n",
       "      <th>release_year</th>\n",
       "      <th>runtime_min</th>\n",
       "      <th>genres</th>\n",
       "      <th>imdb_rating</th>\n",
       "      <th>alt_title</th>\n",
       "      <th>release_region</th>\n",
       "      <th>person_id</th>\n",
       "      <th>person_name</th>\n",
       "      <th>person_profession</th>\n",
       "    </tr>\n",
       "  </thead>\n",
       "  <tbody>\n",
       "    <tr>\n",
       "      <th>0</th>\n",
       "      <td>May 20, 2011</td>\n",
       "      <td>pirates of the caribbean on stranger tides</td>\n",
       "      <td>$410,600,000</td>\n",
       "      <td>$241,063,875</td>\n",
       "      <td>$1,045,663,875</td>\n",
       "      <td>tt1298650</td>\n",
       "      <td>Pirates of the Caribbean: On Stranger Tides</td>\n",
       "      <td>2011</td>\n",
       "      <td>136.0</td>\n",
       "      <td>Action,Adventure,Fantasy</td>\n",
       "      <td>6.6</td>\n",
       "      <td>Pairêtsu obu Karibian: Inochi no izumi</td>\n",
       "      <td>JP</td>\n",
       "      <td>nm0551128</td>\n",
       "      <td>Rob Marshall</td>\n",
       "      <td>director,miscellaneous,producer</td>\n",
       "    </tr>\n",
       "    <tr>\n",
       "      <th>46</th>\n",
       "      <td>May 1, 2015</td>\n",
       "      <td>avengers age of ultron</td>\n",
       "      <td>$330,600,000</td>\n",
       "      <td>$459,005,868</td>\n",
       "      <td>$1,403,013,963</td>\n",
       "      <td>tt2395427</td>\n",
       "      <td>Avengers: Age of Ultron</td>\n",
       "      <td>2015</td>\n",
       "      <td>141.0</td>\n",
       "      <td>Action,Adventure,Sci-Fi</td>\n",
       "      <td>7.3</td>\n",
       "      <td>Qisasçilar 2</td>\n",
       "      <td>AZ</td>\n",
       "      <td>nm0923736</td>\n",
       "      <td>Joss Whedon</td>\n",
       "      <td>writer,producer,director</td>\n",
       "    </tr>\n",
       "    <tr>\n",
       "      <th>87</th>\n",
       "      <td>Apr 27, 2018</td>\n",
       "      <td>avengers infinity war</td>\n",
       "      <td>$300,000,000</td>\n",
       "      <td>$678,815,482</td>\n",
       "      <td>$2,048,134,200</td>\n",
       "      <td>tt4154756</td>\n",
       "      <td>Avengers: Infinity War</td>\n",
       "      <td>2018</td>\n",
       "      <td>149.0</td>\n",
       "      <td>Action,Adventure,Sci-Fi</td>\n",
       "      <td>8.5</td>\n",
       "      <td>Avengers: Infinity War</td>\n",
       "      <td>AR</td>\n",
       "      <td>nm0751648</td>\n",
       "      <td>Joe Russo</td>\n",
       "      <td>producer,director,writer</td>\n",
       "    </tr>\n",
       "    <tr>\n",
       "      <th>163</th>\n",
       "      <td>Nov 17, 2017</td>\n",
       "      <td>justice league</td>\n",
       "      <td>$300,000,000</td>\n",
       "      <td>$229,024,295</td>\n",
       "      <td>$655,945,209</td>\n",
       "      <td>tt0974015</td>\n",
       "      <td>Justice League</td>\n",
       "      <td>2017</td>\n",
       "      <td>120.0</td>\n",
       "      <td>Action,Adventure,Fantasy</td>\n",
       "      <td>6.5</td>\n",
       "      <td>Liga pravde</td>\n",
       "      <td>RS</td>\n",
       "      <td>nm0811583</td>\n",
       "      <td>Zack Snyder</td>\n",
       "      <td>producer,director,writer</td>\n",
       "    </tr>\n",
       "    <tr>\n",
       "      <th>196</th>\n",
       "      <td>Nov 6, 2015</td>\n",
       "      <td>spectre</td>\n",
       "      <td>$300,000,000</td>\n",
       "      <td>$200,074,175</td>\n",
       "      <td>$879,620,923</td>\n",
       "      <td>tt2379713</td>\n",
       "      <td>Spectre</td>\n",
       "      <td>2015</td>\n",
       "      <td>148.0</td>\n",
       "      <td>Action,Adventure,Thriller</td>\n",
       "      <td>6.8</td>\n",
       "      <td>Спектър</td>\n",
       "      <td>BG</td>\n",
       "      <td>nm0005222</td>\n",
       "      <td>Sam Mendes</td>\n",
       "      <td>producer,director,miscellaneous</td>\n",
       "    </tr>\n",
       "    <tr>\n",
       "      <th>...</th>\n",
       "      <td>...</td>\n",
       "      <td>...</td>\n",
       "      <td>...</td>\n",
       "      <td>...</td>\n",
       "      <td>...</td>\n",
       "      <td>...</td>\n",
       "      <td>...</td>\n",
       "      <td>...</td>\n",
       "      <td>...</td>\n",
       "      <td>...</td>\n",
       "      <td>...</td>\n",
       "      <td>...</td>\n",
       "      <td>...</td>\n",
       "      <td>...</td>\n",
       "      <td>...</td>\n",
       "      <td>...</td>\n",
       "    </tr>\n",
       "    <tr>\n",
       "      <th>38839</th>\n",
       "      <td>Apr 27, 2012</td>\n",
       "      <td>sound of my voice</td>\n",
       "      <td>$135,000</td>\n",
       "      <td>$408,015</td>\n",
       "      <td>$429,448</td>\n",
       "      <td>tt1748207</td>\n",
       "      <td>Sound of My Voice</td>\n",
       "      <td>2011</td>\n",
       "      <td>85.0</td>\n",
       "      <td>Drama,Mystery,Sci-Fi</td>\n",
       "      <td>6.6</td>\n",
       "      <td>Dzwiek mego glosu</td>\n",
       "      <td>PL</td>\n",
       "      <td>nm2610231</td>\n",
       "      <td>Zal Batmanglij</td>\n",
       "      <td>writer,director,producer</td>\n",
       "    </tr>\n",
       "    <tr>\n",
       "      <th>38847</th>\n",
       "      <td>Jun 15, 2012</td>\n",
       "      <td>your sisters sister</td>\n",
       "      <td>$120,000</td>\n",
       "      <td>$1,597,486</td>\n",
       "      <td>$3,090,593</td>\n",
       "      <td>tt1742336</td>\n",
       "      <td>Your Sister's Sister</td>\n",
       "      <td>2011</td>\n",
       "      <td>90.0</td>\n",
       "      <td>Comedy,Drama</td>\n",
       "      <td>6.7</td>\n",
       "      <td>Your Sister's Sister</td>\n",
       "      <td>None</td>\n",
       "      <td>nm1119645</td>\n",
       "      <td>Lynn Shelton</td>\n",
       "      <td>director,actress,producer</td>\n",
       "    </tr>\n",
       "    <tr>\n",
       "      <th>38863</th>\n",
       "      <td>Jul 10, 2015</td>\n",
       "      <td>the gallows</td>\n",
       "      <td>$100,000</td>\n",
       "      <td>$22,764,410</td>\n",
       "      <td>$41,656,474</td>\n",
       "      <td>tt2309260</td>\n",
       "      <td>The Gallows</td>\n",
       "      <td>2015</td>\n",
       "      <td>81.0</td>\n",
       "      <td>Horror,Mystery,Thriller</td>\n",
       "      <td>4.2</td>\n",
       "      <td>Daragaci</td>\n",
       "      <td>TR</td>\n",
       "      <td>nm3951039</td>\n",
       "      <td>Chris Lofing</td>\n",
       "      <td>producer,director,writer</td>\n",
       "    </tr>\n",
       "    <tr>\n",
       "      <th>38913</th>\n",
       "      <td>Jul 7, 2017</td>\n",
       "      <td>a ghost story</td>\n",
       "      <td>$100,000</td>\n",
       "      <td>$1,594,798</td>\n",
       "      <td>$2,769,782</td>\n",
       "      <td>tt6265828</td>\n",
       "      <td>A Ghost Story</td>\n",
       "      <td>2017</td>\n",
       "      <td>92.0</td>\n",
       "      <td>Drama,Fantasy,Romance</td>\n",
       "      <td>6.8</td>\n",
       "      <td>Historia de fantasmas</td>\n",
       "      <td>MX</td>\n",
       "      <td>nm1108007</td>\n",
       "      <td>David Lowery</td>\n",
       "      <td>editor,producer,director</td>\n",
       "    </tr>\n",
       "    <tr>\n",
       "      <th>38929</th>\n",
       "      <td>Nov 12, 2010</td>\n",
       "      <td>tiny furniture</td>\n",
       "      <td>$50,000</td>\n",
       "      <td>$391,674</td>\n",
       "      <td>$424,149</td>\n",
       "      <td>tt1570989</td>\n",
       "      <td>Tiny Furniture</td>\n",
       "      <td>2010</td>\n",
       "      <td>98.0</td>\n",
       "      <td>Comedy,Drama,Romance</td>\n",
       "      <td>6.2</td>\n",
       "      <td>Rahitim Ze'irim</td>\n",
       "      <td>IL</td>\n",
       "      <td>nm2501633</td>\n",
       "      <td>Lena Dunham</td>\n",
       "      <td>writer,actress,producer</td>\n",
       "    </tr>\n",
       "  </tbody>\n",
       "</table>\n",
       "<p>1232 rows × 16 columns</p>\n",
       "</div>"
      ],
      "text/plain": [
       "       release_date                                 movie_title  \\\n",
       "0      May 20, 2011  pirates of the caribbean on stranger tides   \n",
       "46      May 1, 2015                      avengers age of ultron   \n",
       "87     Apr 27, 2018                       avengers infinity war   \n",
       "163    Nov 17, 2017                              justice league   \n",
       "196     Nov 6, 2015                                     spectre   \n",
       "...             ...                                         ...   \n",
       "38839  Apr 27, 2012                           sound of my voice   \n",
       "38847  Jun 15, 2012                         your sisters sister   \n",
       "38863  Jul 10, 2015                                 the gallows   \n",
       "38913   Jul 7, 2017                               a ghost story   \n",
       "38929  Nov 12, 2010                              tiny furniture   \n",
       "\n",
       "      production_budget domestic_gross worldwide_gross   movie_id  \\\n",
       "0          $410,600,000   $241,063,875  $1,045,663,875  tt1298650   \n",
       "46         $330,600,000   $459,005,868  $1,403,013,963  tt2395427   \n",
       "87         $300,000,000   $678,815,482  $2,048,134,200  tt4154756   \n",
       "163        $300,000,000   $229,024,295    $655,945,209  tt0974015   \n",
       "196        $300,000,000   $200,074,175    $879,620,923  tt2379713   \n",
       "...                 ...            ...             ...        ...   \n",
       "38839          $135,000       $408,015        $429,448  tt1748207   \n",
       "38847          $120,000     $1,597,486      $3,090,593  tt1742336   \n",
       "38863          $100,000    $22,764,410     $41,656,474  tt2309260   \n",
       "38913          $100,000     $1,594,798      $2,769,782  tt6265828   \n",
       "38929           $50,000       $391,674        $424,149  tt1570989   \n",
       "\n",
       "                                    original_title  release_year  runtime_min  \\\n",
       "0      Pirates of the Caribbean: On Stranger Tides          2011        136.0   \n",
       "46                         Avengers: Age of Ultron          2015        141.0   \n",
       "87                          Avengers: Infinity War          2018        149.0   \n",
       "163                                 Justice League          2017        120.0   \n",
       "196                                        Spectre          2015        148.0   \n",
       "...                                            ...           ...          ...   \n",
       "38839                            Sound of My Voice          2011         85.0   \n",
       "38847                         Your Sister's Sister          2011         90.0   \n",
       "38863                                  The Gallows          2015         81.0   \n",
       "38913                                A Ghost Story          2017         92.0   \n",
       "38929                               Tiny Furniture          2010         98.0   \n",
       "\n",
       "                          genres  imdb_rating  \\\n",
       "0       Action,Adventure,Fantasy          6.6   \n",
       "46       Action,Adventure,Sci-Fi          7.3   \n",
       "87       Action,Adventure,Sci-Fi          8.5   \n",
       "163     Action,Adventure,Fantasy          6.5   \n",
       "196    Action,Adventure,Thriller          6.8   \n",
       "...                          ...          ...   \n",
       "38839       Drama,Mystery,Sci-Fi          6.6   \n",
       "38847               Comedy,Drama          6.7   \n",
       "38863    Horror,Mystery,Thriller          4.2   \n",
       "38913      Drama,Fantasy,Romance          6.8   \n",
       "38929       Comedy,Drama,Romance          6.2   \n",
       "\n",
       "                                    alt_title release_region  person_id  \\\n",
       "0      Pairêtsu obu Karibian: Inochi no izumi             JP  nm0551128   \n",
       "46                               Qisasçilar 2             AZ  nm0923736   \n",
       "87                     Avengers: Infinity War             AR  nm0751648   \n",
       "163                               Liga pravde             RS  nm0811583   \n",
       "196                                   Спектър             BG  nm0005222   \n",
       "...                                       ...            ...        ...   \n",
       "38839                       Dzwiek mego glosu             PL  nm2610231   \n",
       "38847                    Your Sister's Sister           None  nm1119645   \n",
       "38863                                Daragaci             TR  nm3951039   \n",
       "38913                   Historia de fantasmas             MX  nm1108007   \n",
       "38929                         Rahitim Ze'irim             IL  nm2501633   \n",
       "\n",
       "          person_name                person_profession  \n",
       "0        Rob Marshall  director,miscellaneous,producer  \n",
       "46        Joss Whedon         writer,producer,director  \n",
       "87          Joe Russo         producer,director,writer  \n",
       "163       Zack Snyder         producer,director,writer  \n",
       "196        Sam Mendes  producer,director,miscellaneous  \n",
       "...               ...                              ...  \n",
       "38839  Zal Batmanglij         writer,director,producer  \n",
       "38847    Lynn Shelton        director,actress,producer  \n",
       "38863    Chris Lofing         producer,director,writer  \n",
       "38913    David Lowery         editor,producer,director  \n",
       "38929     Lena Dunham          writer,actress,producer  \n",
       "\n",
       "[1232 rows x 16 columns]"
      ]
     },
     "execution_count": 47,
     "metadata": {},
     "output_type": "execute_result"
    }
   ],
   "source": [
    "budget_df"
   ]
  },
  {
   "cell_type": "code",
   "execution_count": 48,
   "metadata": {},
   "outputs": [],
   "source": [
    "budget_df_cp = budget_df.copy(deep=True)"
   ]
  },
  {
   "cell_type": "code",
   "execution_count": 49,
   "metadata": {},
   "outputs": [],
   "source": [
    "finance_cols = ['production_budget', 'domestic_gross', 'worldwide_gross']\n",
    "\n",
    "for col in finance_cols:\n",
    "    budget_df_cp[col] = (budget_df_cp[col].replace('[\\$,]','', regex=True).astype(float))"
   ]
  },
  {
   "cell_type": "code",
   "execution_count": 50,
   "metadata": {},
   "outputs": [
    {
     "data": {
      "application/vnd.microsoft.datawrangler.viewer.v0+json": {
       "columns": [
        {
         "name": "index",
         "rawType": "int64",
         "type": "integer"
        },
        {
         "name": "release_date",
         "rawType": "datetime64[ns]",
         "type": "datetime"
        }
       ],
       "ref": "9bc5e4ef-4a53-4595-b25f-0035ca8406c8",
       "rows": [
        [
         "0",
         "2011-05-20 00:00:00"
        ],
        [
         "46",
         "2015-05-01 00:00:00"
        ],
        [
         "87",
         "2018-04-27 00:00:00"
        ],
        [
         "163",
         "2017-11-17 00:00:00"
        ],
        [
         "196",
         "2015-11-06 00:00:00"
        ],
        [
         "229",
         "2018-05-25 00:00:00"
        ],
        [
         "267",
         "2013-07-02 00:00:00"
        ],
        [
         "302",
         "2012-03-09 00:00:00"
        ],
        [
         "336",
         "2010-11-24 00:00:00"
        ],
        [
         "438",
         "2016-05-06 00:00:00"
        ],
        [
         "522",
         "2014-12-17 00:00:00"
        ],
        [
         "577",
         "2017-04-14 00:00:00"
        ],
        [
         "629",
         "2017-05-26 00:00:00"
        ],
        [
         "735",
         "2013-06-14 00:00:00"
        ],
        [
         "777",
         "2012-07-03 00:00:00"
        ],
        [
         "821",
         "2012-05-18 00:00:00"
        ],
        [
         "849",
         "2015-06-12 00:00:00"
        ],
        [
         "897",
         "2010-05-14 00:00:00"
        ],
        [
         "955",
         "2018-02-16 00:00:00"
        ],
        [
         "984",
         "2018-06-15 00:00:00"
        ],
        [
         "1023",
         "2016-12-16 00:00:00"
        ],
        [
         "1065",
         "2016-06-17 00:00:00"
        ],
        [
         "1155",
         "2010-06-18 00:00:00"
        ],
        [
         "1192",
         "2013-05-03 00:00:00"
        ],
        [
         "1235",
         "2017-05-05 00:00:00"
        ],
        [
         "1273",
         "2012-11-08 00:00:00"
        ],
        [
         "1317",
         "2013-06-21 00:00:00"
        ],
        [
         "1364",
         "2013-03-08 00:00:00"
        ],
        [
         "1402",
         "2014-05-23 00:00:00"
        ],
        [
         "1440",
         "2014-05-02 00:00:00"
        ],
        [
         "1476",
         "2011-06-24 00:00:00"
        ],
        [
         "1550",
         "2010-12-17 00:00:00"
        ],
        [
         "1598",
         "2018-11-16 00:00:00"
        ],
        [
         "1637",
         "2011-06-17 00:00:00"
        ],
        [
         "1665",
         "2013-03-01 00:00:00"
        ],
        [
         "1700",
         "2015-04-03 00:00:00"
        ],
        [
         "1751",
         "2013-05-16 00:00:00"
        ],
        [
         "1797",
         "2013-06-21 00:00:00"
        ],
        [
         "1834",
         "2013-07-12 00:00:00"
        ],
        [
         "1869",
         "2015-11-25 00:00:00"
        ],
        [
         "1912",
         "2012-06-22 00:00:00"
        ],
        [
         "2065",
         "2017-03-10 00:00:00"
        ],
        [
         "2098",
         "2016-07-22 00:00:00"
        ],
        [
         "2135",
         "2017-11-03 00:00:00"
        ],
        [
         "2170",
         "2014-05-30 00:00:00"
        ],
        [
         "2206",
         "2016-11-18 00:00:00"
        ],
        [
         "2247",
         "2016-07-01 00:00:00"
        ],
        [
         "2284",
         "2011-11-23 00:00:00"
        ],
        [
         "2321",
         "2017-07-21 00:00:00"
        ],
        [
         "2354",
         "2015-02-06 00:00:00"
        ]
       ],
       "shape": {
        "columns": 1,
        "rows": 1232
       }
      },
      "text/plain": [
       "0       2011-05-20\n",
       "46      2015-05-01\n",
       "87      2018-04-27\n",
       "163     2017-11-17\n",
       "196     2015-11-06\n",
       "           ...    \n",
       "38839   2012-04-27\n",
       "38847   2012-06-15\n",
       "38863   2015-07-10\n",
       "38913   2017-07-07\n",
       "38929   2010-11-12\n",
       "Name: release_date, Length: 1232, dtype: datetime64[ns]"
      ]
     },
     "execution_count": 50,
     "metadata": {},
     "output_type": "execute_result"
    }
   ],
   "source": [
    "budget_df_cp['release_date'] = budget_df_cp['release_date'].astype(str).str.strip()\n",
    "budget_df_cp['release_date'] = pd.to_datetime(budget_df_cp['release_date'], format='%b %d, %Y')\n",
    "\n",
    "budget_df_cp['release_date']"
   ]
  },
  {
   "cell_type": "code",
   "execution_count": 51,
   "metadata": {},
   "outputs": [],
   "source": [
    "#budget_df_cp['genres'] = budget_df_cp['genres'].str.lower().str.split(',')\n",
    "#budget_df_cp = budget_df_cp.explode('genres')\n"
   ]
  },
  {
   "cell_type": "code",
   "execution_count": 52,
   "metadata": {},
   "outputs": [
    {
     "data": {
      "application/vnd.microsoft.datawrangler.viewer.v0+json": {
       "columns": [
        {
         "name": "index",
         "rawType": "int64",
         "type": "integer"
        },
        {
         "name": "release_date",
         "rawType": "datetime64[ns]",
         "type": "datetime"
        },
        {
         "name": "movie_title",
         "rawType": "object",
         "type": "string"
        },
        {
         "name": "production_budget",
         "rawType": "float64",
         "type": "float"
        },
        {
         "name": "domestic_gross",
         "rawType": "float64",
         "type": "float"
        },
        {
         "name": "worldwide_gross",
         "rawType": "float64",
         "type": "float"
        },
        {
         "name": "movie_id",
         "rawType": "object",
         "type": "string"
        },
        {
         "name": "original_title",
         "rawType": "object",
         "type": "string"
        },
        {
         "name": "release_year",
         "rawType": "int64",
         "type": "integer"
        },
        {
         "name": "runtime_min",
         "rawType": "float64",
         "type": "float"
        },
        {
         "name": "genres",
         "rawType": "object",
         "type": "string"
        },
        {
         "name": "imdb_rating",
         "rawType": "float64",
         "type": "float"
        },
        {
         "name": "alt_title",
         "rawType": "object",
         "type": "string"
        },
        {
         "name": "release_region",
         "rawType": "object",
         "type": "unknown"
        },
        {
         "name": "person_id",
         "rawType": "object",
         "type": "string"
        },
        {
         "name": "person_name",
         "rawType": "object",
         "type": "string"
        },
        {
         "name": "person_profession",
         "rawType": "object",
         "type": "string"
        }
       ],
       "ref": "04799ae2-96d6-4490-8d48-6d35afadaf92",
       "rows": [
        [
         "0",
         "2011-05-20 00:00:00",
         "pirates of the caribbean on stranger tides",
         "410600000.0",
         "241063875.0",
         "1045663875.0",
         "tt1298650",
         "Pirates of the Caribbean: On Stranger Tides",
         "2011",
         "136.0",
         "Action,Adventure,Fantasy",
         "6.6",
         "Pairêtsu obu Karibian: Inochi no izumi",
         "JP",
         "nm0551128",
         "Rob Marshall",
         "director,miscellaneous,producer"
        ],
        [
         "46",
         "2015-05-01 00:00:00",
         "avengers age of ultron",
         "330600000.0",
         "459005868.0",
         "1403013963.0",
         "tt2395427",
         "Avengers: Age of Ultron",
         "2015",
         "141.0",
         "Action,Adventure,Sci-Fi",
         "7.3",
         "Qisasçilar 2",
         "AZ",
         "nm0923736",
         "Joss Whedon",
         "writer,producer,director"
        ],
        [
         "87",
         "2018-04-27 00:00:00",
         "avengers infinity war",
         "300000000.0",
         "678815482.0",
         "2048134200.0",
         "tt4154756",
         "Avengers: Infinity War",
         "2018",
         "149.0",
         "Action,Adventure,Sci-Fi",
         "8.5",
         "Avengers: Infinity War",
         "AR",
         "nm0751648",
         "Joe Russo",
         "producer,director,writer"
        ],
        [
         "163",
         "2017-11-17 00:00:00",
         "justice league",
         "300000000.0",
         "229024295.0",
         "655945209.0",
         "tt0974015",
         "Justice League",
         "2017",
         "120.0",
         "Action,Adventure,Fantasy",
         "6.5",
         "Liga pravde",
         "RS",
         "nm0811583",
         "Zack Snyder",
         "producer,director,writer"
        ],
        [
         "196",
         "2015-11-06 00:00:00",
         "spectre",
         "300000000.0",
         "200074175.0",
         "879620923.0",
         "tt2379713",
         "Spectre",
         "2015",
         "148.0",
         "Action,Adventure,Thriller",
         "6.8",
         "Спектър",
         "BG",
         "nm0005222",
         "Sam Mendes",
         "producer,director,miscellaneous"
        ],
        [
         "229",
         "2018-05-25 00:00:00",
         "solo a star wars story",
         "275000000.0",
         "213767512.0",
         "393151347.0",
         "tt3778644",
         "Solo: A Star Wars Story",
         "2018",
         "135.0",
         "Action,Adventure,Fantasy",
         "7.0",
         "Solo: A Star Wars Story",
         "SE",
         "nm0000165",
         "Ron Howard",
         "actor,producer,director"
        ],
        [
         "267",
         "2013-07-02 00:00:00",
         "the lone ranger",
         "275000000.0",
         "89302115.0",
         "260002115.0",
         "tt1210819",
         "The Lone Ranger",
         "2013",
         "150.0",
         "Action,Adventure,Western",
         "6.4",
         "The Lone Ranger",
         "IT",
         "nm0893659",
         "Gore Verbinski",
         "director,producer,writer"
        ],
        [
         "302",
         "2012-03-09 00:00:00",
         "john carter",
         "275000000.0",
         "73058679.0",
         "282778100.0",
         "tt0401729",
         "John Carter",
         "2012",
         "132.0",
         "Action,Adventure,Sci-Fi",
         "6.6",
         "Джон Картер: Мiж двох свiтiв",
         "UA",
         "nm0004056",
         "Andrew Stanton",
         "writer,actor,producer"
        ],
        [
         "336",
         "2010-11-24 00:00:00",
         "tangled",
         "260000000.0",
         "200821936.0",
         "586477240.0",
         "tt0398286",
         "Tangled",
         "2010",
         "100.0",
         "Adventure,Animation,Comedy",
         "7.8",
         "Raiponce",
         "FR",
         "nm0397174",
         "Byron Howard",
         "animation_department,director,actor"
        ],
        [
         "438",
         "2016-05-06 00:00:00",
         "captain america civil war",
         "250000000.0",
         "408084349.0",
         "1140069413.0",
         "tt3498820",
         "Captain America: Civil War",
         "2016",
         "147.0",
         "Action,Adventure,Sci-Fi",
         "7.8",
         "Sputnik",
         "US",
         "nm0751648",
         "Joe Russo",
         "producer,director,writer"
        ],
        [
         "522",
         "2014-12-17 00:00:00",
         "the hobbit the battle of the five armies",
         "250000000.0",
         "255119788.0",
         "945577621.0",
         "tt2310332",
         "The Hobbit: The Battle of the Five Armies",
         "2014",
         "144.0",
         "Adventure,Fantasy",
         "7.4",
         "Hobbit del 3: Femhäraslaget",
         "SE",
         "nm0001392",
         "Peter Jackson",
         "producer,director,writer"
        ],
        [
         "577",
         "2017-04-14 00:00:00",
         "the fate of the furious",
         "250000000.0",
         "225764765.0",
         "1234846267.0",
         "tt4630562",
         "The Fate of the Furious",
         "2017",
         "136.0",
         "Action,Crime,Thriller",
         "6.7",
         "Fast & Furious 8",
         "IT",
         "nm0336620",
         "F. Gary Gray",
         "director,actor,producer"
        ],
        [
         "629",
         "2017-05-26 00:00:00",
         "pirates of the caribbean dead men tell no tales",
         "230000000.0",
         "172558876.0",
         "788241137.0",
         "tt1790809",
         "Pirates of the Caribbean: Dead Men Tell No Tales",
         "2017",
         "129.0",
         "Action,Adventure,Fantasy",
         "6.6",
         "Pirates of the Caribbean: Salazar's Revenge",
         "SE",
         "nm1461392",
         "Joachim Rønning",
         "director,writer,producer"
        ],
        [
         "735",
         "2013-06-14 00:00:00",
         "man of steel",
         "225000000.0",
         "291045518.0",
         "667999518.0",
         "tt0770828",
         "Man of Steel",
         "2013",
         "143.0",
         "Action,Adventure,Sci-Fi",
         "7.1",
         "Čovek od čelika",
         "RS",
         "nm0811583",
         "Zack Snyder",
         "producer,director,writer"
        ],
        [
         "777",
         "2012-07-03 00:00:00",
         "the amazing spiderman",
         "220000000.0",
         "262030663.0",
         "757890267.0",
         "tt0948470",
         "The Amazing Spider-Man",
         "2012",
         "136.0",
         "Action,Adventure,Sci-Fi",
         "7.0",
         "El Sorprendente Hombre Araña",
         "VE",
         "nm1989536",
         "Marc Webb",
         "producer,director,writer"
        ],
        [
         "821",
         "2012-05-18 00:00:00",
         "battleship",
         "220000000.0",
         "65233400.0",
         "313477717.0",
         "tt1440129",
         "Battleship",
         "2012",
         "131.0",
         "Action,Adventure,Sci-Fi",
         "5.8",
         "Battleship: Batalla naval",
         "UY",
         "nm0000916",
         "Peter Berg",
         "producer,actor,writer"
        ],
        [
         "849",
         "2015-06-12 00:00:00",
         "jurassic world",
         "215000000.0",
         "652270625.0",
         "1648854864.0",
         "tt0369610",
         "Jurassic World",
         "2015",
         "124.0",
         "Action,Adventure,Sci-Fi",
         "7.0",
         "Джурасик свят",
         "BG",
         "nm1119880",
         "Colin Trevorrow",
         "writer,producer,director"
        ],
        [
         "897",
         "2010-05-14 00:00:00",
         "robin hood",
         "210000000.0",
         "105487148.0",
         "322459006.0",
         "tt0955308",
         "Robin Hood",
         "2010",
         "140.0",
         "Action,Adventure,Drama",
         "6.6",
         "Робин Гуд",
         "RU",
         "nm0000631",
         "Ridley Scott",
         "producer,director,production_designer"
        ],
        [
         "955",
         "2018-02-16 00:00:00",
         "black panther",
         "200000000.0",
         "700059566.0",
         "1348258224.0",
         "tt1825683",
         "Black Panther",
         "2018",
         "134.0",
         "Action,Adventure,Sci-Fi",
         "7.3",
         "Чорна Пантера",
         "UA",
         "nm3363032",
         "Ryan Coogler",
         "director,writer,producer"
        ],
        [
         "984",
         "2018-06-15 00:00:00",
         "incredibles 2",
         "200000000.0",
         "608581744.0",
         "1242520711.0",
         "tt3606756",
         "Incredibles 2",
         "2018",
         "118.0",
         "Action,Adventure,Animation",
         "7.7",
         "Neviđeni 2",
         "RS",
         "nm0083348",
         "Brad Bird",
         "miscellaneous,writer,director"
        ],
        [
         "1023",
         "2016-12-16 00:00:00",
         "rogue one a star wars story",
         "200000000.0",
         "532177324.0",
         "1049102856.0",
         "tt3748528",
         "Rogue One",
         "2016",
         "133.0",
         "Action,Adventure,Sci-Fi",
         "7.8",
         "Rogue One: A Star Wars Story",
         "IT",
         "nm2284484",
         "Gareth Edwards",
         "visual_effects,director,writer"
        ],
        [
         "1065",
         "2016-06-17 00:00:00",
         "finding dory",
         "200000000.0",
         "486295561.0",
         "1021215193.0",
         "tt2277860",
         "Finding Dory",
         "2016",
         "97.0",
         "Adventure,Animation,Comedy",
         "7.3",
         "Potraga za Dorom",
         "HR",
         "nm0533691",
         "Angus MacLane",
         "animation_department,actor,writer"
        ],
        [
         "1155",
         "2010-06-18 00:00:00",
         "toy story 3",
         "200000000.0",
         "415004880.0",
         "1068879522.0",
         "tt0435761",
         "Toy Story 3",
         "2010",
         "103.0",
         "Adventure,Animation,Comedy",
         "8.3",
         "Η ιστορία των παιχνιδιών 3",
         "GR",
         "nm0881279",
         "Lee Unkrich",
         "editorial_department,editor,miscellaneous"
        ],
        [
         "1192",
         "2013-05-03 00:00:00",
         "iron man 3",
         "200000000.0",
         "408992272.0",
         "1215392272.0",
         "tt1300854",
         "Iron Man Three",
         "2013",
         "130.0",
         "Action,Adventure,Sci-Fi",
         "7.2",
         "Nguoi Sat 3",
         "VN",
         "nm0000948",
         "Shane Black",
         "writer,actor,director"
        ],
        [
         "1235",
         "2017-05-05 00:00:00",
         "guardians of the galaxy vol 2",
         "200000000.0",
         "389813101.0",
         "862316233.0",
         "tt3896198",
         "Guardians of the Galaxy Vol. 2",
         "2017",
         "136.0",
         "Action,Adventure,Comedy",
         "7.7",
         "Strážci Galaxie Vol. 2",
         "CZ",
         "nm0348181",
         "James Gunn",
         "writer,producer,director"
        ],
        [
         "1273",
         "2012-11-08 00:00:00",
         "skyfall",
         "200000000.0",
         "304360277.0",
         "1110526981.0",
         "tt1074638",
         "Skyfall",
         "2012",
         "143.0",
         "Action,Adventure,Thriller",
         "7.8",
         "Tu dia Skyfall",
         "VN",
         "nm0005222",
         "Sam Mendes",
         "producer,director,miscellaneous"
        ],
        [
         "1317",
         "2013-06-21 00:00:00",
         "monsters university",
         "200000000.0",
         "268488329.0",
         "743588329.0",
         "tt1453405",
         "Monsters University",
         "2013",
         "104.0",
         "Adventure,Animation,Comedy",
         "7.3",
         "Sevimli Canavarlar Üniversitesi",
         "TR",
         "nm0768959",
         "Dan Scanlon",
         "writer,art_department,director"
        ],
        [
         "1364",
         "2013-03-08 00:00:00",
         "oz the great and powerful",
         "200000000.0",
         "234770996.0",
         "490359051.0",
         "tt1623205",
         "Oz the Great and Powerful",
         "2013",
         "130.0",
         "Adventure,Family,Fantasy",
         "6.3",
         "Mogocni Oz",
         "SI",
         "nm0000600",
         "Sam Raimi",
         "producer,writer,director"
        ],
        [
         "1402",
         "2014-05-23 00:00:00",
         "xmen days of future past",
         "200000000.0",
         "233921534.0",
         "747862775.0",
         "tt1877832",
         "X-Men: Days of Future Past",
         "2014",
         "132.0",
         "Action,Adventure,Sci-Fi",
         "8.0",
         "X-Men: Days of Future Past",
         "US",
         "nm0001741",
         "Bryan Singer",
         "producer,director,writer"
        ],
        [
         "1440",
         "2014-05-02 00:00:00",
         "the amazing spiderman 2",
         "200000000.0",
         "202853933.0",
         "708996336.0",
         "tt1872181",
         "The Amazing Spider-Man 2",
         "2014",
         "142.0",
         "Action,Adventure,Sci-Fi",
         "6.6",
         "London Calling",
         "US",
         "nm1989536",
         "Marc Webb",
         "producer,director,writer"
        ],
        [
         "1476",
         "2011-06-24 00:00:00",
         "cars 2",
         "200000000.0",
         "191450875.0",
         "560155383.0",
         "tt1216475",
         "Cars 2",
         "2011",
         "106.0",
         "Adventure,Animation,Comedy",
         "6.2",
         "Cars 2",
         "UY",
         "nm0005124",
         "John Lasseter",
         "producer,writer,director"
        ],
        [
         "1550",
         "2010-12-17 00:00:00",
         "tron legacy",
         "200000000.0",
         "172062763.0",
         "400062763.0",
         "tt1104001",
         "Tron",
         "2010",
         "125.0",
         "Action,Adventure,Fantasy",
         "6.8",
         "Tron: Örökség",
         "HU",
         "nm2676052",
         "Joseph Kosinski",
         "director,writer,producer"
        ],
        [
         "1598",
         "2018-11-16 00:00:00",
         "fantastic beasts the crimes of grindelwald",
         "200000000.0",
         "159555901.0",
         "652220086.0",
         "tt4123430",
         "Fantastic Beasts: The Crimes of Grindelwald",
         "2018",
         "134.0",
         "Adventure,Family,Fantasy",
         "6.6",
         "Animales Fantásticos: Los crímenes de Grindelwald",
         "PE",
         "nm0946734",
         "David Yates",
         "director,producer,writer"
        ],
        [
         "1637",
         "2011-06-17 00:00:00",
         "green lantern",
         "200000000.0",
         "116601172.0",
         "219535492.0",
         "tt1133985",
         "Green Lantern",
         "2011",
         "114.0",
         "Action,Adventure,Sci-Fi",
         "5.5",
         "Green Lantern",
         null,
         "nm0132709",
         "Martin Campbell",
         "director,producer,actor"
        ],
        [
         "1665",
         "2013-03-01 00:00:00",
         "jack the giant slayer",
         "195000000.0",
         "65187603.0",
         "197687603.0",
         "tt1351685",
         "Jack the Giant Slayer",
         "2013",
         "114.0",
         "Adventure,Fantasy",
         "6.3",
         "Jack le chasseur de géants",
         "FR",
         "nm0001741",
         "Bryan Singer",
         "producer,director,writer"
        ],
        [
         "1700",
         "2015-04-03 00:00:00",
         "furious 7",
         "190000000.0",
         "353007020.0",
         "1518722794.0",
         "tt2820852",
         "Furious Seven",
         "2015",
         "137.0",
         "Action,Crime,Thriller",
         "7.2",
         "Furious 7",
         "NL",
         "nm1490123",
         "James Wan",
         "producer,writer,director"
        ],
        [
         "1751",
         "2013-05-16 00:00:00",
         "star trek into darkness",
         "190000000.0",
         "228778661.0",
         "467381584.0",
         "tt1408101",
         "Star Trek Into Darkness",
         "2013",
         "132.0",
         "Action,Adventure,Sci-Fi",
         "7.7",
         "Além da Escuridão: Star Trek",
         "BR",
         "nm0009190",
         "J.J. Abrams",
         "producer,writer,music_department"
        ],
        [
         "1797",
         "2013-06-21 00:00:00",
         "world war z",
         "190000000.0",
         "202359711.0",
         "531514650.0",
         "tt0816711",
         "World War Z",
         "2013",
         "116.0",
         "Action,Adventure,Horror",
         "7.0",
         "Guerra Mundial Z",
         "BR",
         "nm0286975",
         "Marc Forster",
         "producer,director,writer"
        ],
        [
         "1834",
         "2013-07-12 00:00:00",
         "pacific rim",
         "190000000.0",
         "101802906.0",
         "411002906.0",
         "tt1663662",
         "Pacific Rim",
         "2013",
         "131.0",
         "Action,Adventure,Sci-Fi",
         "6.9",
         "Το δαχτυλίδι της φωτιάς",
         "GR",
         "nm0868219",
         "Guillermo del Toro",
         "writer,producer,director"
        ],
        [
         "1869",
         "2015-11-25 00:00:00",
         "the good dinosaur",
         "187500000.0",
         "123087120.0",
         "333771037.0",
         "tt1979388",
         "The Good Dinosaur",
         "2015",
         "93.0",
         "Adventure,Animation,Comedy",
         "6.7",
         "Untitled Pixar/Dinosaurs Project",
         "US",
         "nm0812307",
         "Peter Sohn",
         "actor,animation_department,art_department"
        ],
        [
         "1912",
         "2012-06-22 00:00:00",
         "brave",
         "185000000.0",
         "237282182.0",
         "554606532.0",
         "tt1217209",
         "Brave",
         "2012",
         "93.0",
         "Adventure,Animation,Comedy",
         "7.1",
         "Ribelle: The Brave",
         "IT",
         "nm0028764",
         "Mark Andrews",
         "art_department,writer,miscellaneous"
        ],
        [
         "2065",
         "2017-03-10 00:00:00",
         "kong skull island",
         "185000000.0",
         "168052812.0",
         "561072059.0",
         "tt3731562",
         "Kong: Skull Island",
         "2017",
         "118.0",
         "Action,Adventure,Fantasy",
         "6.6",
         "King Kong: Giant from Skull Island",
         "JP",
         "nm3611349",
         "Jordan Vogt-Roberts",
         "director,producer,writer"
        ],
        [
         "2098",
         "2016-07-22 00:00:00",
         "star trek beyond",
         "185000000.0",
         "158848340.0",
         "335802233.0",
         "tt2660888",
         "Star Trek Beyond",
         "2016",
         "122.0",
         "Action,Adventure,Sci-Fi",
         "7.1",
         "Star Trek: Más allá",
         "ES",
         "nm0510912",
         "Justin Lin",
         "producer,director,writer"
        ],
        [
         "2135",
         "2017-11-03 00:00:00",
         "thor ragnarok",
         "180000000.0",
         "315058289.0",
         "846980024.0",
         "tt3501632",
         "Thor: Ragnarok",
         "2017",
         "130.0",
         "Action,Adventure,Comedy",
         "7.9",
         "Thor: Ragnarok",
         "ES",
         "nm0169806",
         "Taika Waititi",
         "actor,producer,director"
        ],
        [
         "2170",
         "2014-05-30 00:00:00",
         "maleficent",
         "180000000.0",
         "241407328.0",
         "758536735.0",
         "tt1587310",
         "Maleficent",
         "2014",
         "97.0",
         "Action,Adventure,Family",
         "7.0",
         "Czarownica",
         "PL",
         "nm0834902",
         "Robert Stromberg",
         "visual_effects,director,producer"
        ],
        [
         "2206",
         "2016-11-18 00:00:00",
         "fantastic beasts and where to find them",
         "180000000.0",
         "234037575.0",
         "802402853.0",
         "tt3183660",
         "Fantastic Beasts and Where to Find Them",
         "2016",
         "132.0",
         "Adventure,Family,Fantasy",
         "7.3",
         "Animales fantásticos y dónde encontrarlos",
         "MX",
         "nm0946734",
         "David Yates",
         "director,producer,writer"
        ],
        [
         "2247",
         "2016-07-01 00:00:00",
         "the legend of tarzan",
         "180000000.0",
         "126643061.0",
         "348902025.0",
         "tt0918940",
         "The Legend of Tarzan",
         "2016",
         "110.0",
         "Action,Adventure,Drama",
         "6.3",
         "La leyenda de Tarzán",
         "CL",
         "nm0946734",
         "David Yates",
         "director,producer,writer"
        ],
        [
         "2284",
         "2011-11-23 00:00:00",
         "hugo",
         "180000000.0",
         "73864507.0",
         "180047784.0",
         "tt0970179",
         "Hugo",
         "2011",
         "126.0",
         "Adventure,Drama,Family",
         "7.5",
         "Hugo",
         "FI",
         "nm0000217",
         "Martin Scorsese",
         "producer,director,actor"
        ],
        [
         "2321",
         "2017-07-21 00:00:00",
         "valerian and the city of a thousand planets",
         "180000000.0",
         "40479370.0",
         "215098356.0",
         "tt2239822",
         "Valerian and the City of a Thousand Planets",
         "2017",
         "137.0",
         "Action,Adventure,Fantasy",
         "6.5",
         "Valerian y la ciudad de los mil planetas",
         "ES",
         "nm0000108",
         "Luc Besson",
         "writer,producer,director"
        ],
        [
         "2354",
         "2015-02-06 00:00:00",
         "jupiter ascending",
         "179000000.0",
         "47482519.0",
         "181982519.0",
         "tt1617661",
         "Jupiter Ascending",
         "2015",
         "127.0",
         "Action,Adventure,Sci-Fi",
         "5.3",
         "Jupiteri tõus",
         "EE",
         "nm0905152",
         "Lilly Wachowski",
         "writer,producer,director"
        ]
       ],
       "shape": {
        "columns": 16,
        "rows": 1232
       }
      },
      "text/html": [
       "<div>\n",
       "<style scoped>\n",
       "    .dataframe tbody tr th:only-of-type {\n",
       "        vertical-align: middle;\n",
       "    }\n",
       "\n",
       "    .dataframe tbody tr th {\n",
       "        vertical-align: top;\n",
       "    }\n",
       "\n",
       "    .dataframe thead th {\n",
       "        text-align: right;\n",
       "    }\n",
       "</style>\n",
       "<table border=\"1\" class=\"dataframe\">\n",
       "  <thead>\n",
       "    <tr style=\"text-align: right;\">\n",
       "      <th></th>\n",
       "      <th>release_date</th>\n",
       "      <th>movie_title</th>\n",
       "      <th>production_budget</th>\n",
       "      <th>domestic_gross</th>\n",
       "      <th>worldwide_gross</th>\n",
       "      <th>movie_id</th>\n",
       "      <th>original_title</th>\n",
       "      <th>release_year</th>\n",
       "      <th>runtime_min</th>\n",
       "      <th>genres</th>\n",
       "      <th>imdb_rating</th>\n",
       "      <th>alt_title</th>\n",
       "      <th>release_region</th>\n",
       "      <th>person_id</th>\n",
       "      <th>person_name</th>\n",
       "      <th>person_profession</th>\n",
       "    </tr>\n",
       "  </thead>\n",
       "  <tbody>\n",
       "    <tr>\n",
       "      <th>0</th>\n",
       "      <td>2011-05-20</td>\n",
       "      <td>pirates of the caribbean on stranger tides</td>\n",
       "      <td>410600000.0</td>\n",
       "      <td>241063875.0</td>\n",
       "      <td>1.045664e+09</td>\n",
       "      <td>tt1298650</td>\n",
       "      <td>Pirates of the Caribbean: On Stranger Tides</td>\n",
       "      <td>2011</td>\n",
       "      <td>136.0</td>\n",
       "      <td>Action,Adventure,Fantasy</td>\n",
       "      <td>6.6</td>\n",
       "      <td>Pairêtsu obu Karibian: Inochi no izumi</td>\n",
       "      <td>JP</td>\n",
       "      <td>nm0551128</td>\n",
       "      <td>Rob Marshall</td>\n",
       "      <td>director,miscellaneous,producer</td>\n",
       "    </tr>\n",
       "    <tr>\n",
       "      <th>46</th>\n",
       "      <td>2015-05-01</td>\n",
       "      <td>avengers age of ultron</td>\n",
       "      <td>330600000.0</td>\n",
       "      <td>459005868.0</td>\n",
       "      <td>1.403014e+09</td>\n",
       "      <td>tt2395427</td>\n",
       "      <td>Avengers: Age of Ultron</td>\n",
       "      <td>2015</td>\n",
       "      <td>141.0</td>\n",
       "      <td>Action,Adventure,Sci-Fi</td>\n",
       "      <td>7.3</td>\n",
       "      <td>Qisasçilar 2</td>\n",
       "      <td>AZ</td>\n",
       "      <td>nm0923736</td>\n",
       "      <td>Joss Whedon</td>\n",
       "      <td>writer,producer,director</td>\n",
       "    </tr>\n",
       "    <tr>\n",
       "      <th>87</th>\n",
       "      <td>2018-04-27</td>\n",
       "      <td>avengers infinity war</td>\n",
       "      <td>300000000.0</td>\n",
       "      <td>678815482.0</td>\n",
       "      <td>2.048134e+09</td>\n",
       "      <td>tt4154756</td>\n",
       "      <td>Avengers: Infinity War</td>\n",
       "      <td>2018</td>\n",
       "      <td>149.0</td>\n",
       "      <td>Action,Adventure,Sci-Fi</td>\n",
       "      <td>8.5</td>\n",
       "      <td>Avengers: Infinity War</td>\n",
       "      <td>AR</td>\n",
       "      <td>nm0751648</td>\n",
       "      <td>Joe Russo</td>\n",
       "      <td>producer,director,writer</td>\n",
       "    </tr>\n",
       "    <tr>\n",
       "      <th>163</th>\n",
       "      <td>2017-11-17</td>\n",
       "      <td>justice league</td>\n",
       "      <td>300000000.0</td>\n",
       "      <td>229024295.0</td>\n",
       "      <td>6.559452e+08</td>\n",
       "      <td>tt0974015</td>\n",
       "      <td>Justice League</td>\n",
       "      <td>2017</td>\n",
       "      <td>120.0</td>\n",
       "      <td>Action,Adventure,Fantasy</td>\n",
       "      <td>6.5</td>\n",
       "      <td>Liga pravde</td>\n",
       "      <td>RS</td>\n",
       "      <td>nm0811583</td>\n",
       "      <td>Zack Snyder</td>\n",
       "      <td>producer,director,writer</td>\n",
       "    </tr>\n",
       "    <tr>\n",
       "      <th>196</th>\n",
       "      <td>2015-11-06</td>\n",
       "      <td>spectre</td>\n",
       "      <td>300000000.0</td>\n",
       "      <td>200074175.0</td>\n",
       "      <td>8.796209e+08</td>\n",
       "      <td>tt2379713</td>\n",
       "      <td>Spectre</td>\n",
       "      <td>2015</td>\n",
       "      <td>148.0</td>\n",
       "      <td>Action,Adventure,Thriller</td>\n",
       "      <td>6.8</td>\n",
       "      <td>Спектър</td>\n",
       "      <td>BG</td>\n",
       "      <td>nm0005222</td>\n",
       "      <td>Sam Mendes</td>\n",
       "      <td>producer,director,miscellaneous</td>\n",
       "    </tr>\n",
       "    <tr>\n",
       "      <th>...</th>\n",
       "      <td>...</td>\n",
       "      <td>...</td>\n",
       "      <td>...</td>\n",
       "      <td>...</td>\n",
       "      <td>...</td>\n",
       "      <td>...</td>\n",
       "      <td>...</td>\n",
       "      <td>...</td>\n",
       "      <td>...</td>\n",
       "      <td>...</td>\n",
       "      <td>...</td>\n",
       "      <td>...</td>\n",
       "      <td>...</td>\n",
       "      <td>...</td>\n",
       "      <td>...</td>\n",
       "      <td>...</td>\n",
       "    </tr>\n",
       "    <tr>\n",
       "      <th>38839</th>\n",
       "      <td>2012-04-27</td>\n",
       "      <td>sound of my voice</td>\n",
       "      <td>135000.0</td>\n",
       "      <td>408015.0</td>\n",
       "      <td>4.294480e+05</td>\n",
       "      <td>tt1748207</td>\n",
       "      <td>Sound of My Voice</td>\n",
       "      <td>2011</td>\n",
       "      <td>85.0</td>\n",
       "      <td>Drama,Mystery,Sci-Fi</td>\n",
       "      <td>6.6</td>\n",
       "      <td>Dzwiek mego glosu</td>\n",
       "      <td>PL</td>\n",
       "      <td>nm2610231</td>\n",
       "      <td>Zal Batmanglij</td>\n",
       "      <td>writer,director,producer</td>\n",
       "    </tr>\n",
       "    <tr>\n",
       "      <th>38847</th>\n",
       "      <td>2012-06-15</td>\n",
       "      <td>your sisters sister</td>\n",
       "      <td>120000.0</td>\n",
       "      <td>1597486.0</td>\n",
       "      <td>3.090593e+06</td>\n",
       "      <td>tt1742336</td>\n",
       "      <td>Your Sister's Sister</td>\n",
       "      <td>2011</td>\n",
       "      <td>90.0</td>\n",
       "      <td>Comedy,Drama</td>\n",
       "      <td>6.7</td>\n",
       "      <td>Your Sister's Sister</td>\n",
       "      <td>None</td>\n",
       "      <td>nm1119645</td>\n",
       "      <td>Lynn Shelton</td>\n",
       "      <td>director,actress,producer</td>\n",
       "    </tr>\n",
       "    <tr>\n",
       "      <th>38863</th>\n",
       "      <td>2015-07-10</td>\n",
       "      <td>the gallows</td>\n",
       "      <td>100000.0</td>\n",
       "      <td>22764410.0</td>\n",
       "      <td>4.165647e+07</td>\n",
       "      <td>tt2309260</td>\n",
       "      <td>The Gallows</td>\n",
       "      <td>2015</td>\n",
       "      <td>81.0</td>\n",
       "      <td>Horror,Mystery,Thriller</td>\n",
       "      <td>4.2</td>\n",
       "      <td>Daragaci</td>\n",
       "      <td>TR</td>\n",
       "      <td>nm3951039</td>\n",
       "      <td>Chris Lofing</td>\n",
       "      <td>producer,director,writer</td>\n",
       "    </tr>\n",
       "    <tr>\n",
       "      <th>38913</th>\n",
       "      <td>2017-07-07</td>\n",
       "      <td>a ghost story</td>\n",
       "      <td>100000.0</td>\n",
       "      <td>1594798.0</td>\n",
       "      <td>2.769782e+06</td>\n",
       "      <td>tt6265828</td>\n",
       "      <td>A Ghost Story</td>\n",
       "      <td>2017</td>\n",
       "      <td>92.0</td>\n",
       "      <td>Drama,Fantasy,Romance</td>\n",
       "      <td>6.8</td>\n",
       "      <td>Historia de fantasmas</td>\n",
       "      <td>MX</td>\n",
       "      <td>nm1108007</td>\n",
       "      <td>David Lowery</td>\n",
       "      <td>editor,producer,director</td>\n",
       "    </tr>\n",
       "    <tr>\n",
       "      <th>38929</th>\n",
       "      <td>2010-11-12</td>\n",
       "      <td>tiny furniture</td>\n",
       "      <td>50000.0</td>\n",
       "      <td>391674.0</td>\n",
       "      <td>4.241490e+05</td>\n",
       "      <td>tt1570989</td>\n",
       "      <td>Tiny Furniture</td>\n",
       "      <td>2010</td>\n",
       "      <td>98.0</td>\n",
       "      <td>Comedy,Drama,Romance</td>\n",
       "      <td>6.2</td>\n",
       "      <td>Rahitim Ze'irim</td>\n",
       "      <td>IL</td>\n",
       "      <td>nm2501633</td>\n",
       "      <td>Lena Dunham</td>\n",
       "      <td>writer,actress,producer</td>\n",
       "    </tr>\n",
       "  </tbody>\n",
       "</table>\n",
       "<p>1232 rows × 16 columns</p>\n",
       "</div>"
      ],
      "text/plain": [
       "      release_date                                 movie_title  \\\n",
       "0       2011-05-20  pirates of the caribbean on stranger tides   \n",
       "46      2015-05-01                      avengers age of ultron   \n",
       "87      2018-04-27                       avengers infinity war   \n",
       "163     2017-11-17                              justice league   \n",
       "196     2015-11-06                                     spectre   \n",
       "...            ...                                         ...   \n",
       "38839   2012-04-27                           sound of my voice   \n",
       "38847   2012-06-15                         your sisters sister   \n",
       "38863   2015-07-10                                 the gallows   \n",
       "38913   2017-07-07                               a ghost story   \n",
       "38929   2010-11-12                              tiny furniture   \n",
       "\n",
       "       production_budget  domestic_gross  worldwide_gross   movie_id  \\\n",
       "0            410600000.0     241063875.0     1.045664e+09  tt1298650   \n",
       "46           330600000.0     459005868.0     1.403014e+09  tt2395427   \n",
       "87           300000000.0     678815482.0     2.048134e+09  tt4154756   \n",
       "163          300000000.0     229024295.0     6.559452e+08  tt0974015   \n",
       "196          300000000.0     200074175.0     8.796209e+08  tt2379713   \n",
       "...                  ...             ...              ...        ...   \n",
       "38839           135000.0        408015.0     4.294480e+05  tt1748207   \n",
       "38847           120000.0       1597486.0     3.090593e+06  tt1742336   \n",
       "38863           100000.0      22764410.0     4.165647e+07  tt2309260   \n",
       "38913           100000.0       1594798.0     2.769782e+06  tt6265828   \n",
       "38929            50000.0        391674.0     4.241490e+05  tt1570989   \n",
       "\n",
       "                                    original_title  release_year  runtime_min  \\\n",
       "0      Pirates of the Caribbean: On Stranger Tides          2011        136.0   \n",
       "46                         Avengers: Age of Ultron          2015        141.0   \n",
       "87                          Avengers: Infinity War          2018        149.0   \n",
       "163                                 Justice League          2017        120.0   \n",
       "196                                        Spectre          2015        148.0   \n",
       "...                                            ...           ...          ...   \n",
       "38839                            Sound of My Voice          2011         85.0   \n",
       "38847                         Your Sister's Sister          2011         90.0   \n",
       "38863                                  The Gallows          2015         81.0   \n",
       "38913                                A Ghost Story          2017         92.0   \n",
       "38929                               Tiny Furniture          2010         98.0   \n",
       "\n",
       "                          genres  imdb_rating  \\\n",
       "0       Action,Adventure,Fantasy          6.6   \n",
       "46       Action,Adventure,Sci-Fi          7.3   \n",
       "87       Action,Adventure,Sci-Fi          8.5   \n",
       "163     Action,Adventure,Fantasy          6.5   \n",
       "196    Action,Adventure,Thriller          6.8   \n",
       "...                          ...          ...   \n",
       "38839       Drama,Mystery,Sci-Fi          6.6   \n",
       "38847               Comedy,Drama          6.7   \n",
       "38863    Horror,Mystery,Thriller          4.2   \n",
       "38913      Drama,Fantasy,Romance          6.8   \n",
       "38929       Comedy,Drama,Romance          6.2   \n",
       "\n",
       "                                    alt_title release_region  person_id  \\\n",
       "0      Pairêtsu obu Karibian: Inochi no izumi             JP  nm0551128   \n",
       "46                               Qisasçilar 2             AZ  nm0923736   \n",
       "87                     Avengers: Infinity War             AR  nm0751648   \n",
       "163                               Liga pravde             RS  nm0811583   \n",
       "196                                   Спектър             BG  nm0005222   \n",
       "...                                       ...            ...        ...   \n",
       "38839                       Dzwiek mego glosu             PL  nm2610231   \n",
       "38847                    Your Sister's Sister           None  nm1119645   \n",
       "38863                                Daragaci             TR  nm3951039   \n",
       "38913                   Historia de fantasmas             MX  nm1108007   \n",
       "38929                         Rahitim Ze'irim             IL  nm2501633   \n",
       "\n",
       "          person_name                person_profession  \n",
       "0        Rob Marshall  director,miscellaneous,producer  \n",
       "46        Joss Whedon         writer,producer,director  \n",
       "87          Joe Russo         producer,director,writer  \n",
       "163       Zack Snyder         producer,director,writer  \n",
       "196        Sam Mendes  producer,director,miscellaneous  \n",
       "...               ...                              ...  \n",
       "38839  Zal Batmanglij         writer,director,producer  \n",
       "38847    Lynn Shelton        director,actress,producer  \n",
       "38863    Chris Lofing         producer,director,writer  \n",
       "38913    David Lowery         editor,producer,director  \n",
       "38929     Lena Dunham          writer,actress,producer  \n",
       "\n",
       "[1232 rows x 16 columns]"
      ]
     },
     "execution_count": 52,
     "metadata": {},
     "output_type": "execute_result"
    }
   ],
   "source": [
    "budget_df_cp"
   ]
  },
  {
   "cell_type": "markdown",
   "metadata": {},
   "source": [
    "Of course. Here is the content formatted as a Markdown file.\n",
    "\n",
    "# 🎬 Return on Investment (ROI) in Film\n",
    "\n",
    "---\n",
    "\n",
    "## What Is ROI?\n",
    "\n",
    "**Return on Investment (ROI)** is a financial metric used to measure how profitable a film is relative to its production budget. In simple terms, it calculates how efficiently a movie turns its cost into profit. A higher ROI indicates a more successful investment.\n",
    "\n",
    "---\n",
    "\n",
    "## How to Calculate Film ROI\n",
    "\n",
    "The formula to calculate ROI is:\n",
    "\n",
    "$$\\text{ROI} = \\frac{\\text{Gross Revenue} - \\text{Production Budget}}{\\text{Production Budget}}$$\n",
    "\n",
    "Where:\n",
    "* **Gross Revenue** is the total income generated by the film (e.g., box office, streaming, merchandise).\n",
    "* **Production Budget** is the total cost to produce the film.\n",
    "\n",
    "This can also be expressed more simply as:\n",
    "\n",
    "$$\\text{ROI} = \\frac{\\text{Net Profit}}{\\text{Budget}}$$\n",
    "\n",
    "The result is often multiplied by 100 to be shown as a percentage. For example, an ROI of 1.5 means you earned back your initial investment plus an additional 50% profit (or a 150% ROI)."
   ]
  },
  {
   "cell_type": "code",
   "execution_count": 53,
   "metadata": {},
   "outputs": [
    {
     "data": {
      "application/vnd.microsoft.datawrangler.viewer.v0+json": {
       "columns": [
        {
         "name": "index",
         "rawType": "int64",
         "type": "integer"
        },
        {
         "name": "ROI",
         "rawType": "float64",
         "type": "float"
        }
       ],
       "ref": "33fa9779-1f15-4c25-bfea-cb3dbabf1840",
       "rows": [
        [
         "0",
         "1.5466728567949342"
        ],
        [
         "46",
         "3.2438413883847548"
        ],
        [
         "87",
         "5.827114"
        ],
        [
         "163",
         "1.18648403"
        ],
        [
         "196",
         "1.9320697433333334"
        ],
        [
         "229",
         "0.4296412618181818"
        ],
        [
         "267",
         "-0.05453776363636364"
        ],
        [
         "302",
         "0.028284"
        ],
        [
         "336",
         "1.2556816923076923"
        ],
        [
         "438",
         "3.560277652"
        ],
        [
         "522",
         "2.782310484"
        ],
        [
         "577",
         "3.939385068"
        ],
        [
         "629",
         "2.4271353782608696"
        ],
        [
         "735",
         "1.9688867466666666"
        ],
        [
         "777",
         "2.444955759090909"
        ],
        [
         "821",
         "0.4248987136363636"
        ],
        [
         "849",
         "6.669092390697674"
        ],
        [
         "897",
         "0.5355190761904762"
        ],
        [
         "955",
         "5.74129112"
        ],
        [
         "984",
         "5.212603555"
        ],
        [
         "1023",
         "4.24551428"
        ],
        [
         "1065",
         "4.106075965"
        ],
        [
         "1155",
         "4.34439761"
        ],
        [
         "1192",
         "5.07696136"
        ],
        [
         "1235",
         "3.311581165"
        ],
        [
         "1273",
         "4.552634905"
        ],
        [
         "1317",
         "2.717941645"
        ],
        [
         "1364",
         "1.451795255"
        ],
        [
         "1402",
         "2.739313875"
        ],
        [
         "1440",
         "2.54498168"
        ],
        [
         "1476",
         "1.800776915"
        ],
        [
         "1550",
         "1.000313815"
        ],
        [
         "1598",
         "2.26110043"
        ],
        [
         "1637",
         "0.09767746"
        ],
        [
         "1665",
         "0.013782579487179487"
        ],
        [
         "1700",
         "6.9932778631578945"
        ],
        [
         "1751",
         "1.4599030736842105"
        ],
        [
         "1797",
         "1.7974455263157896"
        ],
        [
         "1834",
         "1.1631731894736843"
        ],
        [
         "1869",
         "0.7801121973333334"
        ],
        [
         "1912",
         "1.997873145945946"
        ],
        [
         "2065",
         "2.0328219405405403"
        ],
        [
         "2098",
         "0.8151472054054054"
        ],
        [
         "2135",
         "3.7054445777777776"
        ],
        [
         "2170",
         "3.2140929722222222"
        ],
        [
         "2206",
         "3.457793627777778"
        ],
        [
         "2247",
         "0.9383445833333334"
        ],
        [
         "2284",
         "0.00026546666666666665"
        ],
        [
         "2321",
         "0.19499086666666668"
        ],
        [
         "2354",
         "0.016662117318435754"
        ]
       ],
       "shape": {
        "columns": 1,
        "rows": 1232
       }
      },
      "text/plain": [
       "0          1.546673\n",
       "46         3.243841\n",
       "87         5.827114\n",
       "163        1.186484\n",
       "196        1.932070\n",
       "            ...    \n",
       "38839      2.181096\n",
       "38847     24.754942\n",
       "38863    415.564740\n",
       "38913     26.697820\n",
       "38929      7.482980\n",
       "Name: ROI, Length: 1232, dtype: float64"
      ]
     },
     "execution_count": 53,
     "metadata": {},
     "output_type": "execute_result"
    }
   ],
   "source": [
    "#budget_df_cp['roi'] = (budget_df_cp[''])\n",
    "budget_df_cp['ROI'] = (budget_df_cp['worldwide_gross'] - budget_df_cp['production_budget']) / budget_df_cp['production_budget']\n",
    "budget_df_cp['ROI']"
   ]
  },
  {
   "cell_type": "markdown",
   "metadata": {},
   "source": [
    "## 1. UNIVARIATE ANALYSIS"
   ]
  },
  {
   "cell_type": "code",
   "execution_count": 54,
   "metadata": {},
   "outputs": [
    {
     "data": {
      "image/png": "[encoded data removed]",
      "text/plain": [
       "<Figure size 640x480 with 1 Axes>"
      ]
     },
     "metadata": {},
     "output_type": "display_data"
    }
   ],
   "source": [
    "# Distribution of Production Budget\n",
    "sns.histplot(budget_df_cp['production_budget'], bins=30, kde=True, color='green' )\n",
    "plt.title('Distribution of Production Budget')\n",
    "plt.show() "
   ]
  },
  {
   "cell_type": "markdown",
   "metadata": {},
   "source": [
    "## Observations\n",
    "Right-skewed distribution with many low-budget films and a few high-budget outliers.\n",
    "\n",
    "## Recommendations\n",
    "Consider focusing production investments in the mid-range for cost efficiency and reduced risk."
   ]
  },
  {
   "cell_type": "code",
   "execution_count": 55,
   "metadata": {},
   "outputs": [
    {
     "data": {
      "image/png": "[encoded data removed]",
      "text/plain": [
       "<Figure size 640x480 with 1 Axes>"
      ]
     },
     "metadata": {},
     "output_type": "display_data"
    }
   ],
   "source": [
    "# Boxplot of Worldwide Gross\n",
    "sns.boxplot(x=budget_df_cp['worldwide_gross'])\n",
    "plt.title('Boxplot of Worldwide Gross')\n",
    "plt.show()"
   ]
  },
  {
   "cell_type": "markdown",
   "metadata": {},
   "source": [
    "## Observations:\n",
    "The boxplot reveals that the majority of movies earn moderate worldwide gross revenue, while several extreme outliers indicate a few films achieve exceptionally high global earnings. This suggests significant variability in box office performance, with a small number of blockbusters generating disproportionately large revenue. \n",
    "\n",
    "## Recommendations:\n",
    "To segment movies by earnings (e.g., low, medium, high grossing) to analyze performance patterns. Additionally, outliers with very high revenue should be studied separately to identify key success factors such as genre, budget, or release timing."
   ]
  },
  {
   "cell_type": "code",
   "execution_count": 56,
   "metadata": {},
   "outputs": [
    {
     "data": {
      "image/png": "[encoded data removed]",
      "text/plain": [
       "<Figure size 640x480 with 1 Axes>"
      ]
     },
     "metadata": {},
     "output_type": "display_data"
    }
   ],
   "source": [
    "# Distribution of IMDB Ratings\n",
    "sns.histplot(budget_df_cp['imdb_rating'], bins=20, kde=True, color= 'lightblue' )\n",
    "plt.title('Distribution of IMDB Ratings')\n",
    "plt.show()"
   ]
  },
  {
   "cell_type": "markdown",
   "metadata": {},
   "source": [
    "## Observations:\n",
    "Most movies have ratings between 5 and 8.\n",
    "\n",
    "## Recommendations:\n",
    "A higher rating is a potential quality indicator to invest in factors that drive scripts, acting etc."
   ]
  },
  {
   "cell_type": "code",
   "execution_count": 57,
   "metadata": {},
   "outputs": [
    {
     "data": {
      "image/png": "[encoded data removed]",
      "text/plain": [
       "<Figure size 1000x600 with 1 Axes>"
      ]
     },
     "metadata": {},
     "output_type": "display_data"
    }
   ],
   "source": [
    "plt.figure(figsize=(10,6))\n",
    "sns.histplot(budget_df_cp['ROI'], bins=40, kde=True, color='coral')\n",
    "plt.title('Distribution of Return on Investment (ROI)')\n",
    "plt.xlabel('ROI')\n",
    "plt.ylabel('Number of Movies')\n",
    "plt.show()"
   ]
  },
  {
   "cell_type": "markdown",
   "metadata": {},
   "source": [
    "## Observations\n",
    "The ROI distribution is highly skewed, with most movies clustered around low or negative returns, and a small number achieving very high ROI. This suggests that while many films struggle to recoup investments, a few generate significant profits.\n",
    "\n",
    "## Recommendations\n",
    "Focus on identifying factors that drive high ROI to replicate success. Invest carefully in projects with better profit potential and analyze why many films have low or negative returns to reduce financial risk.\n",
    "\n"
   ]
  },
  {
   "cell_type": "markdown",
   "metadata": {},
   "source": [
    "## 2. BIVARIATE **ANALYSIS**"
   ]
  },
  {
   "cell_type": "code",
   "execution_count": 58,
   "metadata": {},
   "outputs": [
    {
     "data": {
      "image/png": "[encoded data removed]",
      "text/plain": [
       "<Figure size 640x480 with 1 Axes>"
      ]
     },
     "metadata": {},
     "output_type": "display_data"
    }
   ],
   "source": [
    "# Budget vs Worldwide Gross\n",
    "sns.scatterplot(data=budget_df_cp, x='production_budget', y='worldwide_gross')\n",
    "plt.title('Production Budget vs Worldwide Gross')\n",
    "plt.show()"
   ]
  },
  {
   "cell_type": "markdown",
   "metadata": {},
   "source": [
    "## Observations:\n",
    "This shows a positive relationship between production budget and worldwide gross — generally, movies with larger budgets tend to earn more at the box office. However, there is considerable spread, indicating that some low-budget films achieve high gross and some high-budget films underperform. This suggests that while budget is important, other factors also influence box office success.\n",
    "## Recommendations:\n",
    "Studios should consider production budget as a key factor but not the sole determinant of box office returns. Strategic allocation of budget combined with strong content, marketingnand release timing can maximize gross returns. Investigating outliers such as low budget/high gross and vice versa may reveal insights for cost-effective success strategies."
   ]
  },
  {
   "cell_type": "code",
   "execution_count": 59,
   "metadata": {},
   "outputs": [
    {
     "data": {
      "text/plain": [
       "([0, 1, 2, 3, 4, 5, 6, 7, 8],\n",
       " [Text(0, 0, '2010'),\n",
       "  Text(1, 0, '2011'),\n",
       "  Text(2, 0, '2012'),\n",
       "  Text(3, 0, '2013'),\n",
       "  Text(4, 0, '2014'),\n",
       "  Text(5, 0, '2015'),\n",
       "  Text(6, 0, '2016'),\n",
       "  Text(7, 0, '2017'),\n",
       "  Text(8, 0, '2018')])"
      ]
     },
     "execution_count": 59,
     "metadata": {},
     "output_type": "execute_result"
    },
    {
     "data": {
      "image/png": "[encoded data removed]",
      "text/plain": [
       "<Figure size 640x480 with 1 Axes>"
      ]
     },
     "metadata": {},
     "output_type": "display_data"
    }
   ],
   "source": [
    "#count plot on realease yr vs count\n",
    "sns.countplot(x='release_year', data=budget_df_cp)\n",
    "plt.title('Number of Movies Released per Year')\n",
    "plt.xlabel('Year')\n",
    "plt.ylabel('Number of Movies')\n",
    "plt.xticks(rotation=45)"
   ]
  },
  {
   "cell_type": "markdown",
   "metadata": {},
   "source": [
    "## Observations:\n",
    "The number of movies released each year varies, with some years showing higher output than others. This fluctuation suggests that production volume is not consistent annually, which could influence market saturation and competition among films during those years.\n",
    "## Recommendations:\n",
    "Studios should consider release volume trends when planning movie launches. Releasing films during less crowded periods might improve visibility and box office performance. Monitoring production patterns can help optimize timing to avoid market oversaturation.\n",
    "\n"
   ]
  },
  {
   "cell_type": "code",
   "execution_count": 60,
   "metadata": {},
   "outputs": [
    {
     "data": {
      "image/png": "[encoded data removed]",
      "text/plain": [
       "<Figure size 640x480 with 1 Axes>"
      ]
     },
     "metadata": {},
     "output_type": "display_data"
    }
   ],
   "source": [
    "#lineplot of Production Budget Over Time\n",
    "yearly_budget = budget_df_cp.groupby('release_year')['production_budget'].mean().reset_index()\n",
    "sns.lineplot(data=yearly_budget, x='release_year', y='production_budget')\n",
    "plt.xticks(rotation=45)\n",
    "plt.title('Average Production Budget Over Time')\n",
    "plt.ylabel('Average Production Budget')\n",
    "plt.xlabel('Release Year')\n",
    "plt.show()"
   ]
  },
  {
   "cell_type": "markdown",
   "metadata": {},
   "source": [
    "# Observations:\n",
    "Between 2010 and 2018, the average production budget exhibited a steady upward trend. Notable increases occurred around 2013 and 2015, indicating periods of higher investment, possibly shifts in studio strategies. Some years also experienced slight dips, reflecting fluctuations in budgeting decisions.\n",
    "## Recommendations:\n",
    "Studios can use this upward trend from 2010–2018 as a benchmark for budgeting future productions. It's important to assess whether the increasing budgets led to proportional gains in ROI or box office returns. Analyzing spikes in budget years can also reveal which types of films warranted larger investments—and whether they paid off."
   ]
  },
  {
   "cell_type": "code",
   "execution_count": 61,
   "metadata": {},
   "outputs": [
    {
     "name": "stderr",
     "output_type": "stream",
     "text": [
      "/var/folders/0v/036y_w3j0cj0nq2z_v6pl7tw0000gn/T/ipykernel_4255/1860749958.py:4: FutureWarning: \n",
      "\n",
      "Passing `palette` without assigning `hue` is deprecated and will be removed in v0.14.0. Assign the `x` variable to `hue` and set `legend=False` for the same effect.\n",
      "\n",
      "  sns.barplot(x='release_year', y='worldwide_gross', data=yearly_gross, palette='Blues_d')\n"
     ]
    },
    {
     "data": {
      "image/png": "[encoded data removed]",
      "text/plain": [
       "<Figure size 640x480 with 1 Axes>"
      ]
     },
     "metadata": {},
     "output_type": "display_data"
    }
   ],
   "source": [
    "#release_year vs avg.worldwide_gross\n",
    "yearly_gross = budget_df_cp.groupby('release_year')['worldwide_gross'].mean().reset_index()\n",
    "\n",
    "sns.barplot(x='release_year', y='worldwide_gross', data=yearly_gross, palette='Blues_d')\n",
    "plt.xticks(rotation=45)\n",
    "plt.title('Average Worldwide Gross Over Time')\n",
    "plt.ylabel('Average Worldwide Gross')\n",
    "plt.xlabel('Release Year')\n",
    "plt.show()"
   ]
  },
  {
   "cell_type": "markdown",
   "metadata": {},
   "source": [
    "## Observations\n",
    "The average worldwide gross from 2010 to 2018 shows noticeable fluctuations rather than a consistent upward or downward trend. Certain years, such as 2012 and 2015, exhibit higher average grosses, likely due to strong box office performances by major releases. Other years show declines, suggesting variability in the market and the influence of the specific movies released each year.\n",
    "## Recommendations:\n",
    "Studios should focus on understanding the drivers behind peak gross years, such as genre popularity, to better plan future investments. Since the trend is not steady, relying solely on year-to-year increases may be risky. Combining gross revenue data with production budgets and ROI metrics will help make more informed strategic decisions."
   ]
  },
  {
   "cell_type": "markdown",
   "metadata": {},
   "source": [
    "## 3. MULTIVARIATE ANALYSIS"
   ]
  },
  {
   "cell_type": "code",
   "execution_count": 62,
   "metadata": {},
   "outputs": [
    {
     "data": {
      "image/png": "[encoded data removed]",
      "text/plain": [
       "<Figure size 640x480 with 2 Axes>"
      ]
     },
     "metadata": {},
     "output_type": "display_data"
    }
   ],
   "source": [
    "sns.heatmap(budget_df_cp.corr(numeric_only=True), annot=True, cmap='coolwarm')\n",
    "plt.title('Correlation Matrix') #numeric variables\n",
    "plt.show()"
   ]
  },
  {
   "cell_type": "markdown",
   "metadata": {},
   "source": [
    "## Observations:\n",
    "The correlation matrix reveals strong positive relationships between production budget, domestic gross and worldwide gross, indicating that higher budgets often lead to higher box office returns. ROI shows negative correlations with budget, suggesting that bigger budgets don’t always guarantee better returns. IMDb rating has low correlation with financial metrics, implying it may not directly predict financial success.\n",
    "\n",
    "## Recommendations\n",
    "Focus on optimizing budgets since higher spending generally increases gross revenue, but watch out for diminishing returns affecting ROI. Explore factors beyond budget that impact profitability, such as marketing or release timing. Use IMDb ratings as a complementary metric for quality rather than a financial predictor.\n"
   ]
  },
  {
   "cell_type": "code",
   "execution_count": null,
   "metadata": {},
   "outputs": [],
   "source": []
  }
 ],
 "metadata": {
  "kernelspec": {
   "display_name": "Python (data-science)",
   "language": "python",
   "name": "data-science"
  },
  "language_info": {
   "codemirror_mode": {
    "name": "ipython",
    "version": 3
   },
   "file_extension": ".py",
   "mimetype": "text/x-python",
   "name": "python",
   "nbconvert_exporter": "python",
   "pygments_lexer": "ipython3",
   "version": "3.11.13"
  }
 },
 "nbformat": 4,
 "nbformat_minor": 4
}
