{
 "cells": [
  {
   "cell_type": "markdown",
   "id": "f47fa21c",
   "metadata": {},
   "source": [
    "# Data-Driven Strategies for a Successful Movie Studio Launch"
   ]
  },
  {
   "cell_type": "markdown",
   "id": "59b3dadc",
   "metadata": {},
   "source": [
    "# 🎬 Business Understanding\n",
    "\n",
    "## 📘 Business Context\n",
    "Our company is entering the competitive movie production industry by establishing a new movie studio. With major corporations increasingly investing in original video content, we need to strategically position ourselves to maximize our chances of box office success.\n",
    "\n",
    "## 👤 Primary Stakeholder\n",
    "**Head of New Movie Studio** — The key decision-maker who will use our analysis to guide the studio's content creation strategy and investment decisions.\n",
    "\n",
    "## ❓ Key Business Questions\n",
    "\n",
    "### 1. **What genres are most profitable?**\n",
    "- Which movie genres consistently generate the highest box office returns?\n",
    "- Are there emerging genres showing strong growth potential?\n",
    "\n",
    "### 2. **What budget ranges optimize ROI?**\n",
    "- What is the relationship between production budget and box office performance?\n",
    "- What budget sweet spot maximizes return on investment?\n",
    "\n",
    "### 3. **When should we release our films?**\n",
    "- Which months/seasons show the strongest box office performance?\n",
    "- How can we avoid oversaturated release periods?\n",
    "\n",
    "## 🎯 Business Objectives\n",
    "- **Primary Goal:** Identify the most profitable film characteristics to guide our initial movie productions.\n",
    "- **Success Metrics:** Maximize box office revenue and return on investment (ROI).\n",
    "- **Risk Mitigation:** Minimize financial losses by avoiding poorly-performing film categories.\n",
    "\n",
    "## 📊 Data Requirements & Analysis Considerations\n",
    "\n",
    "### 📂 Dataset Specifications Needed:\n",
    "1. **What movie data do we have access to?** (e.g., box office numbers, budgets, genres, release dates, ratings)\n",
    "2. **What time period does our data cover?** (Recent years or historical data?)\n",
    "3. **Is it domestic, international, or worldwide box office gross?**\n",
    "\n",
    "### 📎 Business Context Clarifications:\n",
    "4. **What size studio are we targeting?** (Independent/small budget vs. major studio competitor?)\n",
    "5. **Are there any genre restrictions?** (Family-friendly only, or open to all ratings?)\n",
    "6. **Geographic focus?** (Domestic US market, international, or global?)\n",
    "\n",
    "### 📌 Analysis Scope Considerations:\n",
    "7. **Should we consider streaming/digital revenue or just theatrical box office?**\n",
    "8. **Do we want to analyze competitor studios' strategies?**\n",
    "9. **Should seasonal trends consider the impact of COVID-19 in recent years?**\n",
    "\n",
    "## 📈 Success Metrics Framework\n",
    "\n",
    "### Primary Metrics:\n",
    "- **Gross Revenue:** Total box office performance\n",
    "- **Return on Investment (ROI):** \\((\\text{Revenue} - \\text{Budget}) / \\text{Budget} \\times 100\\)\n",
    "- **Profit Margins:** Net profit as percentage of revenue\n",
    "- **Budget Efficiency:** Revenue per dollar invested\n",
    "\n",
    "### Secondary Metrics:\n",
    "- **Market Share:** Performance relative to industry\n",
    "- **Risk Assessment:** Variance in returns by category\n",
    "- **Audience Reach:** Ticket sales and demographic penetration\n"
   ]
  },
  {
   "cell_type": "markdown",
   "id": "ae130c91",
   "metadata": {},
   "source": [
    "# 🧠 Data Understanding\n",
    "\n",
    "To analyze what makes a movie successful, we are working with multiple datasets from trusted sources like **Box Office Mojo**, **IMDb**, **Rotten Tomatoes**, **The Movie Database (TMDb)**, and **The Numbers**. Below is an overview of each dataset and the structure of the data they contain.\n",
    "\n",
    "---\n",
    "\n",
    "## 🎬 `bom.movie_gross.csv.gz` (Box Office Mojo)\n",
    "\n",
    "This dataset contains revenue data for various films.\n",
    "\n",
    "**Columns:**\n",
    "- `title`: Movie title\n",
    "- `studio`: Producing studio\n",
    "- `domestic_gross`: Domestic gross earnings (USD)\n",
    "- `foreign_gross`: International gross earnings\n",
    "- `year`: Year of release\n",
    "\n",
    "---\n",
    "\n",
    "## 🎥 IMDb Database (`im.db`)\n",
    "\n",
    "This is a zipped SQLite database containing multiple related tables from IMDb. Below are the most relevant tables and their fields:\n",
    "\n",
    "### 🔹 `directors`\n",
    "- `movie_id`: Unique movie ID\n",
    "- `person_id`: Director’s ID\n",
    "\n",
    "### 🔹 `known_for`\n",
    "- `person_id`: Unique person ID\n",
    "- `movie_id`: Associated movie ID\n",
    "\n",
    "### 🔹 `movie_akas`\n",
    "- `movie_id`: Unique movie ID\n",
    "- `ordering`: Title order\n",
    "- `title`: Alternate movie title\n",
    "- `region`: Country code\n",
    "- `language`: Language code\n",
    "- `types`: Type of title (e.g. working title, festival name)\n",
    "- `attributes`: Special title attributes\n",
    "- `is_original_title`: Whether it is the original title (1 = yes)\n",
    "\n",
    "### 🔹 `movie_basics`\n",
    "- `movie_id`: Unique identifier\n",
    "- `primary_title`: Official movie title\n",
    "- `original_title`: Title in original language\n",
    "- `start_year`: Release year\n",
    "- `runtime_minutes`: Duration of movie\n",
    "- `genres`: Genres (comma-separated if multiple)\n",
    "\n",
    "### 🔹 `movie_ratings`\n",
    "- `movie_id`: Unique movie ID\n",
    "- `averagerating`: IMDb average rating\n",
    "- `numvotes`: Total number of votes\n",
    "\n",
    "### 🔹 `persons`\n",
    "- `person_id`: Unique person ID\n",
    "- `primary_name`: Person's name\n",
    "- `birth_year`: Year of birth\n",
    "- `death_year`: Year of death (if applicable)\n",
    "- `primary_profession`: Role in industry (e.g., actor, director)\n",
    "\n",
    "### 🔹 `principals`\n",
    "- `movie_id`: Unique movie ID\n",
    "- `ordering`: Credit order\n",
    "- `person_id`: Unique person ID\n",
    "- `category`: Crew or cast category\n",
    "- `job`: Specific job title\n",
    "- `characters`: Character(s) played\n",
    "\n",
    "### 🔹 `writers`\n",
    "- `movie_id`: Unique movie ID\n",
    "- `person_id`: Writer’s ID\n",
    "\n",
    "---\n",
    "\n",
    "## 🍅 `rt.movie_info.tsv.gz` (Rotten Tomatoes - Movie Info)\n",
    "\n",
    "General information about movies.\n",
    "\n",
    "**Columns:**\n",
    "- `id`: Movie ID (RT)\n",
    "- `synopsis`: Movie summary\n",
    "- `rating`: MPAA Rating\n",
    "- `genre`: Movie genres\n",
    "- `director`: Director name(s)\n",
    "- `writer`: Writer name(s)\n",
    "- `theater_date`: Theatrical release date\n",
    "- `dvd_date`: DVD release date\n",
    "- `currency`: Currency symbol\n",
    "- `box_office`: Total box office revenue\n",
    "- `runtime`: Duration in minutes\n",
    "- `studio`: Producing studio\n",
    "\n",
    "---\n",
    "\n",
    "## 📝 `rt.reviews.tsv.gz` (Rotten Tomatoes - Reviews)\n",
    "\n",
    "Contains individual critic reviews and associated metadata.\n",
    "\n",
    "**Columns:**\n",
    "- `id`: Movie ID (RT)\n",
    "- `review`: Review text\n",
    "- `rating`: Rating given\n",
    "- `fresh`: Review sentiment (fresh = positive, rotten = negative)\n",
    "- `critic`: Name of the critic\n",
    "- `top_critic`: Is the critic a \"Top Critic\"? (1 = yes, 0 = no)\n",
    "- `publisher`: Publication name\n",
    "- `date`: Review date\n",
    "\n",
    "---\n",
    "\n",
    "## 🎞️ `tmdb.movies.csv.gz` (The Movie Database)\n",
    "\n",
    "Contains movie metadata and popularity data from TMDb.\n",
    "\n",
    "**Columns:**\n",
    "- `genre_ids`: List of genre IDs\n",
    "- `id`: Movie ID (TMDb)\n",
    "- `original_language`: Language code\n",
    "- `original_title`: Title in original language\n",
    "- `popularity`: Popularity score\n",
    "- `release_date`: Release date\n",
    "- `title`: English movie title\n",
    "- `vote_average`: Average user rating\n",
    "- `vote_count`: Number of votes\n",
    "\n",
    "---\n",
    "\n",
    "## 💰 `tn.movie_budgets.csv.gz` (The Numbers)\n",
    "\n",
    "Contains production budget and revenue details.\n",
    "\n",
    "**Columns:**\n",
    "- `id`: Movie ID (The Numbers)\n",
    "- `release_date`: Theatrical release date\n",
    "- `movie`: Movie title\n",
    "- `production_budget`: Budget in USD\n",
    "- `domestic_gross`: Domestic earnings in USD\n",
    "- `worldwide_gross`: Total earnings in USD\n",
    "\n",
    "---\n",
    "\n",
    "## 🔍 Next Steps\n",
    "\n",
    "We will explore, clean, and merge relevant data from these datasets to:\n",
    "- Compare budget and revenue\n",
    "- Analyze genre-based performance\n",
    "- Evaluate seasonal release patterns\n",
    "- Identify high-performing studios, ratings, and durations\n"
   ]
  },
  {
   "cell_type": "code",
   "execution_count": 1,
   "id": "d9971714",
   "metadata": {},
   "outputs": [],
   "source": [
    "#importing relevant libs\n",
    "import pandas as pd\n",
    "import numpy as np\n",
    "from matplotlib import pyplot as plt\n",
    "from mpl_toolkits.mplot3d import Axes3D\n",
    "from random import gauss\n",
    "from scipy import stats\n",
    "import seaborn as sns\n",
    "from sklearn.linear_model import LinearRegression\n",
    "from mpl_toolkits import mplot3d\n",
    "import sklearn.metrics as metrics\n",
    "import statsmodels.api as sm\n",
    "import sqlite3"
   ]
  },
  {
   "cell_type": "markdown",
   "id": "856b94b5",
   "metadata": {},
   "source": [
    "## Loading The Provided Data"
   ]
  },
  {
   "cell_type": "code",
   "execution_count": 2,
   "id": "dbbbf560",
   "metadata": {},
   "outputs": [
    {
     "name": "stdout",
     "output_type": "stream",
     "text": [
      "dict_keys(['movie_basics', 'directors', 'known_for', 'movie_akas', 'movie_ratings', 'persons', 'principals', 'writers'])\n"
     ]
    }
   ],
   "source": [
    "#-------going through SQl-----#\n",
    "def load_tables(connection):\n",
    "    table_names = pd.read_sql(\n",
    "        \"SELECT name FROM sqlite_master WHERE type='table';\", connection\n",
    "    )[\"name\"].tolist()\n",
    "    sql_tables = {\n",
    "        table_name: pd.read_sql(f\"SELECT * FROM {table_name}\", connection)\n",
    "        for table_name in table_names\n",
    "    }\n",
    "    return sql_tables\n",
    "\n",
    "path = '../Data/im.db'\n",
    "conn = sqlite3.connect(path)\n",
    "\n",
    "imdb_tables = load_tables(conn)\n",
    "\n",
    "print(imdb_tables.keys())\n",
    "\n",
    "#-------CSV and TSV Data ------#\n",
    "\n",
    "bom_movie = pd.read_csv(\"../Data/bom.movie_gross.csv\")\n",
    "rt_info = pd.read_csv(\"../Data/rt.movie_info.tsv\", sep='\\t', encoding='latin1')\n",
    "rt_reviews = pd.read_csv(\"../Data/rt.reviews.tsv\", sep='\\t', encoding='latin1')\n",
    "tmdb_df = pd.read_csv(\"../Data/tmdb.movies.csv\")\n",
    "tn_budget = pd.read_csv(\"../Data/tn.movie_budgets.csv\")"
   ]
  },
  {
   "cell_type": "markdown",
   "id": "f020079b",
   "metadata": {},
   "source": [
    "## Cleaning and Understanding `tn_budget`"
   ]
  },
  {
   "cell_type": "code",
   "execution_count": 3,
   "id": "6935f3b7",
   "metadata": {},
   "outputs": [
    {
     "name": "stdout",
     "output_type": "stream",
     "text": [
      "(5782, 6)\n",
      "<class 'pandas.core.frame.DataFrame'>\n",
      "RangeIndex: 5782 entries, 0 to 5781\n",
      "Data columns (total 6 columns):\n",
      " #   Column             Non-Null Count  Dtype \n",
      "---  ------             --------------  ----- \n",
      " 0   id                 5782 non-null   int64 \n",
      " 1   release_date       5782 non-null   object\n",
      " 2   movie              5782 non-null   object\n",
      " 3   production_budget  5782 non-null   object\n",
      " 4   domestic_gross     5782 non-null   object\n",
      " 5   worldwide_gross    5782 non-null   object\n",
      "dtypes: int64(1), object(5)\n",
      "memory usage: 271.2+ KB\n",
      "None\n",
      "Index(['id', 'release_date', 'movie', 'production_budget', 'domestic_gross',\n",
      "       'worldwide_gross'],\n",
      "      dtype='object')\n"
     ]
    },
    {
     "data": {
      "application/vnd.microsoft.datawrangler.viewer.v0+json": {
       "columns": [
        {
         "name": "index",
         "rawType": "int64",
         "type": "integer"
        },
        {
         "name": "release_date",
         "rawType": "object",
         "type": "string"
        },
        {
         "name": "movie",
         "rawType": "object",
         "type": "string"
        },
        {
         "name": "production_budget",
         "rawType": "object",
         "type": "string"
        },
        {
         "name": "domestic_gross",
         "rawType": "object",
         "type": "string"
        },
        {
         "name": "worldwide_gross",
         "rawType": "object",
         "type": "string"
        }
       ],
       "ref": "ea25b2c3-1c18-4ba1-99f8-18e14ec2afaa",
       "rows": [
        [
         "0",
         "Dec 18, 2009",
         "Avatar",
         "$425,000,000",
         "$760,507,625",
         "$2,776,345,279"
        ],
        [
         "1",
         "May 20, 2011",
         "Pirates of the Caribbean: On Stranger Tides",
         "$410,600,000",
         "$241,063,875",
         "$1,045,663,875"
        ],
        [
         "2",
         "Jun 7, 2019",
         "Dark Phoenix",
         "$350,000,000",
         "$42,762,350",
         "$149,762,350"
        ],
        [
         "3",
         "May 1, 2015",
         "Avengers: Age of Ultron",
         "$330,600,000",
         "$459,005,868",
         "$1,403,013,963"
        ],
        [
         "4",
         "Dec 15, 2017",
         "Star Wars Ep. VIII: The Last Jedi",
         "$317,000,000",
         "$620,181,382",
         "$1,316,721,747"
        ],
        [
         "5",
         "Dec 18, 2015",
         "Star Wars Ep. VII: The Force Awakens",
         "$306,000,000",
         "$936,662,225",
         "$2,053,311,220"
        ],
        [
         "6",
         "Apr 27, 2018",
         "Avengers: Infinity War",
         "$300,000,000",
         "$678,815,482",
         "$2,048,134,200"
        ],
        [
         "7",
         "May 24, 2007",
         "Pirates of the Caribbean: At Worldâs End",
         "$300,000,000",
         "$309,420,425",
         "$963,420,425"
        ],
        [
         "8",
         "Nov 17, 2017",
         "Justice League",
         "$300,000,000",
         "$229,024,295",
         "$655,945,209"
        ],
        [
         "9",
         "Nov 6, 2015",
         "Spectre",
         "$300,000,000",
         "$200,074,175",
         "$879,620,923"
        ],
        [
         "10",
         "Jul 20, 2012",
         "The Dark Knight Rises",
         "$275,000,000",
         "$448,139,099",
         "$1,084,439,099"
        ],
        [
         "11",
         "May 25, 2018",
         "Solo: A Star Wars Story",
         "$275,000,000",
         "$213,767,512",
         "$393,151,347"
        ],
        [
         "12",
         "Jul 2, 2013",
         "The Lone Ranger",
         "$275,000,000",
         "$89,302,115",
         "$260,002,115"
        ],
        [
         "13",
         "Mar 9, 2012",
         "John Carter",
         "$275,000,000",
         "$73,058,679",
         "$282,778,100"
        ],
        [
         "14",
         "Nov 24, 2010",
         "Tangled",
         "$260,000,000",
         "$200,821,936",
         "$586,477,240"
        ],
        [
         "15",
         "May 4, 2007",
         "Spider-Man 3",
         "$258,000,000",
         "$336,530,303",
         "$894,860,230"
        ],
        [
         "16",
         "May 6, 2016",
         "Captain America: Civil War",
         "$250,000,000",
         "$408,084,349",
         "$1,140,069,413"
        ],
        [
         "17",
         "Mar 25, 2016",
         "Batman v Superman: Dawn of Justice",
         "$250,000,000",
         "$330,360,194",
         "$867,500,281"
        ],
        [
         "18",
         "Dec 14, 2012",
         "The Hobbit: An Unexpected Journey",
         "$250,000,000",
         "$303,003,568",
         "$1,017,003,568"
        ],
        [
         "19",
         "Jul 15, 2009",
         "Harry Potter and the Half-Blood Prince",
         "$250,000,000",
         "$302,089,278",
         "$935,213,767"
        ],
        [
         "20",
         "Dec 13, 2013",
         "The Hobbit: The Desolation of Smaug",
         "$250,000,000",
         "$258,366,855",
         "$960,366,855"
        ],
        [
         "21",
         "Dec 17, 2014",
         "The Hobbit: The Battle of the Five Armies",
         "$250,000,000",
         "$255,119,788",
         "$945,577,621"
        ],
        [
         "22",
         "Apr 14, 2017",
         "The Fate of the Furious",
         "$250,000,000",
         "$225,764,765",
         "$1,234,846,267"
        ],
        [
         "23",
         "Jun 28, 2006",
         "Superman Returns",
         "$232,000,000",
         "$200,120,000",
         "$374,085,065"
        ],
        [
         "24",
         "May 26, 2017",
         "Pirates of the Caribbean: Dead Men Tell No Tales",
         "$230,000,000",
         "$172,558,876",
         "$788,241,137"
        ],
        [
         "25",
         "Nov 14, 2008",
         "Quantum of Solace",
         "$230,000,000",
         "$169,368,427",
         "$591,692,078"
        ],
        [
         "26",
         "May 4, 2012",
         "The Avengers",
         "$225,000,000",
         "$623,279,547",
         "$1,517,935,897"
        ],
        [
         "27",
         "Jul 7, 2006",
         "Pirates of the Caribbean: Dead Manâs Chest",
         "$225,000,000",
         "$423,315,812",
         "$1,066,215,812"
        ],
        [
         "28",
         "Jun 14, 2013",
         "Man of Steel",
         "$225,000,000",
         "$291,045,518",
         "$667,999,518"
        ],
        [
         "29",
         "May 16, 2008",
         "The Chronicles of Narnia: Prince Caspian",
         "$225,000,000",
         "$141,621,490",
         "$417,341,288"
        ],
        [
         "30",
         "Jul 3, 2012",
         "The Amazing Spider-Man",
         "$220,000,000",
         "$262,030,663",
         "$757,890,267"
        ],
        [
         "31",
         "May 18, 2012",
         "Battleship",
         "$220,000,000",
         "$65,233,400",
         "$313,477,717"
        ],
        [
         "32",
         "Jun 21, 2017",
         "Transformers: The Last Knight",
         "$217,000,000",
         "$130,168,683",
         "$602,893,340"
        ],
        [
         "33",
         "Jun 12, 2015",
         "Jurassic World",
         "$215,000,000",
         "$652,270,625",
         "$1,648,854,864"
        ],
        [
         "34",
         "May 25, 2012",
         "Men in Black 3",
         "$215,000,000",
         "$179,020,854",
         "$654,213,485"
        ],
        [
         "35",
         "Jun 24, 2009",
         "Transformers: Revenge of the Fallen",
         "$210,000,000",
         "$402,111,870",
         "$836,519,699"
        ],
        [
         "36",
         "Jun 27, 2014",
         "Transformers: Age of Extinction",
         "$210,000,000",
         "$245,439,076",
         "$1,104,039,076"
        ],
        [
         "37",
         "May 26, 2006",
         "X-Men: The Last Stand",
         "$210,000,000",
         "$234,362,462",
         "$459,260,946"
        ],
        [
         "38",
         "May 14, 2010",
         "Robin Hood",
         "$210,000,000",
         "$105,487,148",
         "$322,459,006"
        ],
        [
         "39",
         "Dec 14, 2005",
         "King Kong",
         "$207,000,000",
         "$218,080,025",
         "$550,517,357"
        ],
        [
         "40",
         "Dec 7, 2007",
         "The Golden Compass",
         "$205,000,000",
         "$70,107,728",
         "$367,262,558"
        ],
        [
         "41",
         "Feb 16, 2018",
         "Black Panther",
         "$200,000,000",
         "$700,059,566",
         "$1,348,258,224"
        ],
        [
         "42",
         "Dec 19, 1997",
         "Titanic",
         "$200,000,000",
         "$659,363,944",
         "$2,208,208,395"
        ],
        [
         "43",
         "Jun 15, 2018",
         "Incredibles 2",
         "$200,000,000",
         "$608,581,744",
         "$1,242,520,711"
        ],
        [
         "44",
         "Dec 16, 2016",
         "Rogue One: A Star Wars Story",
         "$200,000,000",
         "$532,177,324",
         "$1,049,102,856"
        ],
        [
         "45",
         "Jun 17, 2016",
         "Finding Dory",
         "$200,000,000",
         "$486,295,561",
         "$1,021,215,193"
        ],
        [
         "46",
         "Jun 18, 2010",
         "Toy Story 3",
         "$200,000,000",
         "$415,004,880",
         "$1,068,879,522"
        ],
        [
         "47",
         "May 3, 2013",
         "Iron Man 3",
         "$200,000,000",
         "$408,992,272",
         "$1,215,392,272"
        ],
        [
         "48",
         "May 5, 2017",
         "Guardians of the Galaxy Vol 2",
         "$200,000,000",
         "$389,813,101",
         "$862,316,233"
        ],
        [
         "49",
         "Jun 30, 2004",
         "Spider-Man 2",
         "$200,000,000",
         "$373,524,485",
         "$795,110,670"
        ]
       ],
       "shape": {
        "columns": 5,
        "rows": 5782
       }
      },
      "text/html": [
       "<div>\n",
       "<style scoped>\n",
       "    .dataframe tbody tr th:only-of-type {\n",
       "        vertical-align: middle;\n",
       "    }\n",
       "\n",
       "    .dataframe tbody tr th {\n",
       "        vertical-align: top;\n",
       "    }\n",
       "\n",
       "    .dataframe thead th {\n",
       "        text-align: right;\n",
       "    }\n",
       "</style>\n",
       "<table border=\"1\" class=\"dataframe\">\n",
       "  <thead>\n",
       "    <tr style=\"text-align: right;\">\n",
       "      <th></th>\n",
       "      <th>release_date</th>\n",
       "      <th>movie</th>\n",
       "      <th>production_budget</th>\n",
       "      <th>domestic_gross</th>\n",
       "      <th>worldwide_gross</th>\n",
       "    </tr>\n",
       "  </thead>\n",
       "  <tbody>\n",
       "    <tr>\n",
       "      <th>0</th>\n",
       "      <td>Dec 18, 2009</td>\n",
       "      <td>Avatar</td>\n",
       "      <td>$425,000,000</td>\n",
       "      <td>$760,507,625</td>\n",
       "      <td>$2,776,345,279</td>\n",
       "    </tr>\n",
       "    <tr>\n",
       "      <th>1</th>\n",
       "      <td>May 20, 2011</td>\n",
       "      <td>Pirates of the Caribbean: On Stranger Tides</td>\n",
       "      <td>$410,600,000</td>\n",
       "      <td>$241,063,875</td>\n",
       "      <td>$1,045,663,875</td>\n",
       "    </tr>\n",
       "    <tr>\n",
       "      <th>2</th>\n",
       "      <td>Jun 7, 2019</td>\n",
       "      <td>Dark Phoenix</td>\n",
       "      <td>$350,000,000</td>\n",
       "      <td>$42,762,350</td>\n",
       "      <td>$149,762,350</td>\n",
       "    </tr>\n",
       "    <tr>\n",
       "      <th>3</th>\n",
       "      <td>May 1, 2015</td>\n",
       "      <td>Avengers: Age of Ultron</td>\n",
       "      <td>$330,600,000</td>\n",
       "      <td>$459,005,868</td>\n",
       "      <td>$1,403,013,963</td>\n",
       "    </tr>\n",
       "    <tr>\n",
       "      <th>4</th>\n",
       "      <td>Dec 15, 2017</td>\n",
       "      <td>Star Wars Ep. VIII: The Last Jedi</td>\n",
       "      <td>$317,000,000</td>\n",
       "      <td>$620,181,382</td>\n",
       "      <td>$1,316,721,747</td>\n",
       "    </tr>\n",
       "    <tr>\n",
       "      <th>...</th>\n",
       "      <td>...</td>\n",
       "      <td>...</td>\n",
       "      <td>...</td>\n",
       "      <td>...</td>\n",
       "      <td>...</td>\n",
       "    </tr>\n",
       "    <tr>\n",
       "      <th>5777</th>\n",
       "      <td>Dec 31, 2018</td>\n",
       "      <td>Red 11</td>\n",
       "      <td>$7,000</td>\n",
       "      <td>$0</td>\n",
       "      <td>$0</td>\n",
       "    </tr>\n",
       "    <tr>\n",
       "      <th>5778</th>\n",
       "      <td>Apr 2, 1999</td>\n",
       "      <td>Following</td>\n",
       "      <td>$6,000</td>\n",
       "      <td>$48,482</td>\n",
       "      <td>$240,495</td>\n",
       "    </tr>\n",
       "    <tr>\n",
       "      <th>5779</th>\n",
       "      <td>Jul 13, 2005</td>\n",
       "      <td>Return to the Land of Wonders</td>\n",
       "      <td>$5,000</td>\n",
       "      <td>$1,338</td>\n",
       "      <td>$1,338</td>\n",
       "    </tr>\n",
       "    <tr>\n",
       "      <th>5780</th>\n",
       "      <td>Sep 29, 2015</td>\n",
       "      <td>A Plague So Pleasant</td>\n",
       "      <td>$1,400</td>\n",
       "      <td>$0</td>\n",
       "      <td>$0</td>\n",
       "    </tr>\n",
       "    <tr>\n",
       "      <th>5781</th>\n",
       "      <td>Aug 5, 2005</td>\n",
       "      <td>My Date With Drew</td>\n",
       "      <td>$1,100</td>\n",
       "      <td>$181,041</td>\n",
       "      <td>$181,041</td>\n",
       "    </tr>\n",
       "  </tbody>\n",
       "</table>\n",
       "<p>5782 rows × 5 columns</p>\n",
       "</div>"
      ],
      "text/plain": [
       "      release_date                                        movie  \\\n",
       "0     Dec 18, 2009                                       Avatar   \n",
       "1     May 20, 2011  Pirates of the Caribbean: On Stranger Tides   \n",
       "2      Jun 7, 2019                                 Dark Phoenix   \n",
       "3      May 1, 2015                      Avengers: Age of Ultron   \n",
       "4     Dec 15, 2017            Star Wars Ep. VIII: The Last Jedi   \n",
       "...            ...                                          ...   \n",
       "5777  Dec 31, 2018                                       Red 11   \n",
       "5778   Apr 2, 1999                                    Following   \n",
       "5779  Jul 13, 2005                Return to the Land of Wonders   \n",
       "5780  Sep 29, 2015                         A Plague So Pleasant   \n",
       "5781   Aug 5, 2005                            My Date With Drew   \n",
       "\n",
       "     production_budget domestic_gross worldwide_gross  \n",
       "0         $425,000,000   $760,507,625  $2,776,345,279  \n",
       "1         $410,600,000   $241,063,875  $1,045,663,875  \n",
       "2         $350,000,000    $42,762,350    $149,762,350  \n",
       "3         $330,600,000   $459,005,868  $1,403,013,963  \n",
       "4         $317,000,000   $620,181,382  $1,316,721,747  \n",
       "...                ...            ...             ...  \n",
       "5777            $7,000             $0              $0  \n",
       "5778            $6,000        $48,482        $240,495  \n",
       "5779            $5,000         $1,338          $1,338  \n",
       "5780            $1,400             $0              $0  \n",
       "5781            $1,100       $181,041        $181,041  \n",
       "\n",
       "[5782 rows x 5 columns]"
      ]
     },
     "execution_count": 3,
     "metadata": {},
     "output_type": "execute_result"
    }
   ],
   "source": [
    "budget = tn_budget.copy(deep=True)\n",
    "print(budget.shape)\n",
    "print(budget.info())\n",
    "budget.head()\n",
    "budget.tail()\n",
    "print(budget.columns)\n",
    "budget.duplicated().sum()\n",
    "budget.drop(columns=['id'])"
   ]
  },
  {
   "cell_type": "code",
   "execution_count": 4,
   "id": "a42cc9f7",
   "metadata": {},
   "outputs": [],
   "source": [
    "budget = budget.drop(columns=['id'])"
   ]
  },
  {
   "cell_type": "code",
   "execution_count": 5,
   "id": "4c27f2c0",
   "metadata": {},
   "outputs": [],
   "source": [
    "budget = budget.rename( columns={\n",
    "    \"movie\": \"movie_title\"\n",
    "})\n",
    "\n",
    "budget['release_date'] = budget['release_date'].astype(str).str.strip()\n",
    "budget['release_date'] = pd.to_datetime(budget['release_date'], format='%b %d, %Y')\n"
   ]
  },
  {
   "cell_type": "code",
   "execution_count": 6,
   "id": "dfa21892",
   "metadata": {},
   "outputs": [],
   "source": [
    "finance_cols = ['production_budget', 'domestic_gross', 'worldwide_gross']\n",
    "\n",
    "for col in finance_cols:\n",
    "    budget[col] = (budget[col].replace('[\\$,]','', regex=True).astype(float))"
   ]
  },
  {
   "cell_type": "code",
   "execution_count": 7,
   "id": "0a1b11e5",
   "metadata": {},
   "outputs": [],
   "source": [
    "def clean_title(df, title_col='movie_title'):\n",
    "    df[title_col] = df[title_col].str.lower()                     \n",
    "    df[title_col] = df[title_col].str.strip()                      \n",
    "    df[title_col] = df[title_col].str.replace(r'[^a-z0-9 ]', '', regex=True)  \n",
    "    return df"
   ]
  },
  {
   "cell_type": "code",
   "execution_count": 8,
   "id": "7c51d6a6",
   "metadata": {},
   "outputs": [
    {
     "data": {
      "application/vnd.microsoft.datawrangler.viewer.v0+json": {
       "columns": [
        {
         "name": "index",
         "rawType": "int64",
         "type": "integer"
        },
        {
         "name": "release_date",
         "rawType": "datetime64[ns]",
         "type": "datetime"
        },
        {
         "name": "movie_title",
         "rawType": "object",
         "type": "string"
        },
        {
         "name": "production_budget",
         "rawType": "float64",
         "type": "float"
        },
        {
         "name": "domestic_gross",
         "rawType": "float64",
         "type": "float"
        },
        {
         "name": "worldwide_gross",
         "rawType": "float64",
         "type": "float"
        }
       ],
       "ref": "7e62fc7e-fc98-44de-bc4e-a65f448a7ce3",
       "rows": [
        [
         "0",
         "2009-12-18 00:00:00",
         "avatar",
         "425000000.0",
         "760507625.0",
         "2776345279.0"
        ],
        [
         "1",
         "2011-05-20 00:00:00",
         "pirates of the caribbean on stranger tides",
         "410600000.0",
         "241063875.0",
         "1045663875.0"
        ],
        [
         "2",
         "2019-06-07 00:00:00",
         "dark phoenix",
         "350000000.0",
         "42762350.0",
         "149762350.0"
        ],
        [
         "3",
         "2015-05-01 00:00:00",
         "avengers age of ultron",
         "330600000.0",
         "459005868.0",
         "1403013963.0"
        ],
        [
         "4",
         "2017-12-15 00:00:00",
         "star wars ep viii the last jedi",
         "317000000.0",
         "620181382.0",
         "1316721747.0"
        ],
        [
         "5",
         "2015-12-18 00:00:00",
         "star wars ep vii the force awakens",
         "306000000.0",
         "936662225.0",
         "2053311220.0"
        ],
        [
         "6",
         "2018-04-27 00:00:00",
         "avengers infinity war",
         "300000000.0",
         "678815482.0",
         "2048134200.0"
        ],
        [
         "7",
         "2007-05-24 00:00:00",
         "pirates of the caribbean at worlds end",
         "300000000.0",
         "309420425.0",
         "963420425.0"
        ],
        [
         "8",
         "2017-11-17 00:00:00",
         "justice league",
         "300000000.0",
         "229024295.0",
         "655945209.0"
        ],
        [
         "9",
         "2015-11-06 00:00:00",
         "spectre",
         "300000000.0",
         "200074175.0",
         "879620923.0"
        ],
        [
         "10",
         "2012-07-20 00:00:00",
         "the dark knight rises",
         "275000000.0",
         "448139099.0",
         "1084439099.0"
        ],
        [
         "11",
         "2018-05-25 00:00:00",
         "solo a star wars story",
         "275000000.0",
         "213767512.0",
         "393151347.0"
        ],
        [
         "12",
         "2013-07-02 00:00:00",
         "the lone ranger",
         "275000000.0",
         "89302115.0",
         "260002115.0"
        ],
        [
         "13",
         "2012-03-09 00:00:00",
         "john carter",
         "275000000.0",
         "73058679.0",
         "282778100.0"
        ],
        [
         "14",
         "2010-11-24 00:00:00",
         "tangled",
         "260000000.0",
         "200821936.0",
         "586477240.0"
        ],
        [
         "15",
         "2007-05-04 00:00:00",
         "spiderman 3",
         "258000000.0",
         "336530303.0",
         "894860230.0"
        ],
        [
         "16",
         "2016-05-06 00:00:00",
         "captain america civil war",
         "250000000.0",
         "408084349.0",
         "1140069413.0"
        ],
        [
         "17",
         "2016-03-25 00:00:00",
         "batman v superman dawn of justice",
         "250000000.0",
         "330360194.0",
         "867500281.0"
        ],
        [
         "18",
         "2012-12-14 00:00:00",
         "the hobbit an unexpected journey",
         "250000000.0",
         "303003568.0",
         "1017003568.0"
        ],
        [
         "19",
         "2009-07-15 00:00:00",
         "harry potter and the halfblood prince",
         "250000000.0",
         "302089278.0",
         "935213767.0"
        ],
        [
         "20",
         "2013-12-13 00:00:00",
         "the hobbit the desolation of smaug",
         "250000000.0",
         "258366855.0",
         "960366855.0"
        ],
        [
         "21",
         "2014-12-17 00:00:00",
         "the hobbit the battle of the five armies",
         "250000000.0",
         "255119788.0",
         "945577621.0"
        ],
        [
         "22",
         "2017-04-14 00:00:00",
         "the fate of the furious",
         "250000000.0",
         "225764765.0",
         "1234846267.0"
        ],
        [
         "23",
         "2006-06-28 00:00:00",
         "superman returns",
         "232000000.0",
         "200120000.0",
         "374085065.0"
        ],
        [
         "24",
         "2017-05-26 00:00:00",
         "pirates of the caribbean dead men tell no tales",
         "230000000.0",
         "172558876.0",
         "788241137.0"
        ],
        [
         "25",
         "2008-11-14 00:00:00",
         "quantum of solace",
         "230000000.0",
         "169368427.0",
         "591692078.0"
        ],
        [
         "26",
         "2012-05-04 00:00:00",
         "the avengers",
         "225000000.0",
         "623279547.0",
         "1517935897.0"
        ],
        [
         "27",
         "2006-07-07 00:00:00",
         "pirates of the caribbean dead mans chest",
         "225000000.0",
         "423315812.0",
         "1066215812.0"
        ],
        [
         "28",
         "2013-06-14 00:00:00",
         "man of steel",
         "225000000.0",
         "291045518.0",
         "667999518.0"
        ],
        [
         "29",
         "2008-05-16 00:00:00",
         "the chronicles of narnia prince caspian",
         "225000000.0",
         "141621490.0",
         "417341288.0"
        ],
        [
         "30",
         "2012-07-03 00:00:00",
         "the amazing spiderman",
         "220000000.0",
         "262030663.0",
         "757890267.0"
        ],
        [
         "31",
         "2012-05-18 00:00:00",
         "battleship",
         "220000000.0",
         "65233400.0",
         "313477717.0"
        ],
        [
         "32",
         "2017-06-21 00:00:00",
         "transformers the last knight",
         "217000000.0",
         "130168683.0",
         "602893340.0"
        ],
        [
         "33",
         "2015-06-12 00:00:00",
         "jurassic world",
         "215000000.0",
         "652270625.0",
         "1648854864.0"
        ],
        [
         "34",
         "2012-05-25 00:00:00",
         "men in black 3",
         "215000000.0",
         "179020854.0",
         "654213485.0"
        ],
        [
         "35",
         "2009-06-24 00:00:00",
         "transformers revenge of the fallen",
         "210000000.0",
         "402111870.0",
         "836519699.0"
        ],
        [
         "36",
         "2014-06-27 00:00:00",
         "transformers age of extinction",
         "210000000.0",
         "245439076.0",
         "1104039076.0"
        ],
        [
         "37",
         "2006-05-26 00:00:00",
         "xmen the last stand",
         "210000000.0",
         "234362462.0",
         "459260946.0"
        ],
        [
         "38",
         "2010-05-14 00:00:00",
         "robin hood",
         "210000000.0",
         "105487148.0",
         "322459006.0"
        ],
        [
         "39",
         "2005-12-14 00:00:00",
         "king kong",
         "207000000.0",
         "218080025.0",
         "550517357.0"
        ],
        [
         "40",
         "2007-12-07 00:00:00",
         "the golden compass",
         "205000000.0",
         "70107728.0",
         "367262558.0"
        ],
        [
         "41",
         "2018-02-16 00:00:00",
         "black panther",
         "200000000.0",
         "700059566.0",
         "1348258224.0"
        ],
        [
         "42",
         "1997-12-19 00:00:00",
         "titanic",
         "200000000.0",
         "659363944.0",
         "2208208395.0"
        ],
        [
         "43",
         "2018-06-15 00:00:00",
         "incredibles 2",
         "200000000.0",
         "608581744.0",
         "1242520711.0"
        ],
        [
         "44",
         "2016-12-16 00:00:00",
         "rogue one a star wars story",
         "200000000.0",
         "532177324.0",
         "1049102856.0"
        ],
        [
         "45",
         "2016-06-17 00:00:00",
         "finding dory",
         "200000000.0",
         "486295561.0",
         "1021215193.0"
        ],
        [
         "46",
         "2010-06-18 00:00:00",
         "toy story 3",
         "200000000.0",
         "415004880.0",
         "1068879522.0"
        ],
        [
         "47",
         "2013-05-03 00:00:00",
         "iron man 3",
         "200000000.0",
         "408992272.0",
         "1215392272.0"
        ],
        [
         "48",
         "2017-05-05 00:00:00",
         "guardians of the galaxy vol 2",
         "200000000.0",
         "389813101.0",
         "862316233.0"
        ],
        [
         "49",
         "2004-06-30 00:00:00",
         "spiderman 2",
         "200000000.0",
         "373524485.0",
         "795110670.0"
        ]
       ],
       "shape": {
        "columns": 5,
        "rows": 5782
       }
      },
      "text/html": [
       "<div>\n",
       "<style scoped>\n",
       "    .dataframe tbody tr th:only-of-type {\n",
       "        vertical-align: middle;\n",
       "    }\n",
       "\n",
       "    .dataframe tbody tr th {\n",
       "        vertical-align: top;\n",
       "    }\n",
       "\n",
       "    .dataframe thead th {\n",
       "        text-align: right;\n",
       "    }\n",
       "</style>\n",
       "<table border=\"1\" class=\"dataframe\">\n",
       "  <thead>\n",
       "    <tr style=\"text-align: right;\">\n",
       "      <th></th>\n",
       "      <th>release_date</th>\n",
       "      <th>movie_title</th>\n",
       "      <th>production_budget</th>\n",
       "      <th>domestic_gross</th>\n",
       "      <th>worldwide_gross</th>\n",
       "    </tr>\n",
       "  </thead>\n",
       "  <tbody>\n",
       "    <tr>\n",
       "      <th>0</th>\n",
       "      <td>2009-12-18</td>\n",
       "      <td>avatar</td>\n",
       "      <td>425000000.0</td>\n",
       "      <td>760507625.0</td>\n",
       "      <td>2.776345e+09</td>\n",
       "    </tr>\n",
       "    <tr>\n",
       "      <th>1</th>\n",
       "      <td>2011-05-20</td>\n",
       "      <td>pirates of the caribbean on stranger tides</td>\n",
       "      <td>410600000.0</td>\n",
       "      <td>241063875.0</td>\n",
       "      <td>1.045664e+09</td>\n",
       "    </tr>\n",
       "    <tr>\n",
       "      <th>2</th>\n",
       "      <td>2019-06-07</td>\n",
       "      <td>dark phoenix</td>\n",
       "      <td>350000000.0</td>\n",
       "      <td>42762350.0</td>\n",
       "      <td>1.497624e+08</td>\n",
       "    </tr>\n",
       "    <tr>\n",
       "      <th>3</th>\n",
       "      <td>2015-05-01</td>\n",
       "      <td>avengers age of ultron</td>\n",
       "      <td>330600000.0</td>\n",
       "      <td>459005868.0</td>\n",
       "      <td>1.403014e+09</td>\n",
       "    </tr>\n",
       "    <tr>\n",
       "      <th>4</th>\n",
       "      <td>2017-12-15</td>\n",
       "      <td>star wars ep viii the last jedi</td>\n",
       "      <td>317000000.0</td>\n",
       "      <td>620181382.0</td>\n",
       "      <td>1.316722e+09</td>\n",
       "    </tr>\n",
       "    <tr>\n",
       "      <th>...</th>\n",
       "      <td>...</td>\n",
       "      <td>...</td>\n",
       "      <td>...</td>\n",
       "      <td>...</td>\n",
       "      <td>...</td>\n",
       "    </tr>\n",
       "    <tr>\n",
       "      <th>5777</th>\n",
       "      <td>2018-12-31</td>\n",
       "      <td>red 11</td>\n",
       "      <td>7000.0</td>\n",
       "      <td>0.0</td>\n",
       "      <td>0.000000e+00</td>\n",
       "    </tr>\n",
       "    <tr>\n",
       "      <th>5778</th>\n",
       "      <td>1999-04-02</td>\n",
       "      <td>following</td>\n",
       "      <td>6000.0</td>\n",
       "      <td>48482.0</td>\n",
       "      <td>2.404950e+05</td>\n",
       "    </tr>\n",
       "    <tr>\n",
       "      <th>5779</th>\n",
       "      <td>2005-07-13</td>\n",
       "      <td>return to the land of wonders</td>\n",
       "      <td>5000.0</td>\n",
       "      <td>1338.0</td>\n",
       "      <td>1.338000e+03</td>\n",
       "    </tr>\n",
       "    <tr>\n",
       "      <th>5780</th>\n",
       "      <td>2015-09-29</td>\n",
       "      <td>a plague so pleasant</td>\n",
       "      <td>1400.0</td>\n",
       "      <td>0.0</td>\n",
       "      <td>0.000000e+00</td>\n",
       "    </tr>\n",
       "    <tr>\n",
       "      <th>5781</th>\n",
       "      <td>2005-08-05</td>\n",
       "      <td>my date with drew</td>\n",
       "      <td>1100.0</td>\n",
       "      <td>181041.0</td>\n",
       "      <td>1.810410e+05</td>\n",
       "    </tr>\n",
       "  </tbody>\n",
       "</table>\n",
       "<p>5782 rows × 5 columns</p>\n",
       "</div>"
      ],
      "text/plain": [
       "     release_date                                 movie_title  \\\n",
       "0      2009-12-18                                      avatar   \n",
       "1      2011-05-20  pirates of the caribbean on stranger tides   \n",
       "2      2019-06-07                                dark phoenix   \n",
       "3      2015-05-01                      avengers age of ultron   \n",
       "4      2017-12-15             star wars ep viii the last jedi   \n",
       "...           ...                                         ...   \n",
       "5777   2018-12-31                                      red 11   \n",
       "5778   1999-04-02                                   following   \n",
       "5779   2005-07-13               return to the land of wonders   \n",
       "5780   2015-09-29                        a plague so pleasant   \n",
       "5781   2005-08-05                           my date with drew   \n",
       "\n",
       "      production_budget  domestic_gross  worldwide_gross  \n",
       "0           425000000.0     760507625.0     2.776345e+09  \n",
       "1           410600000.0     241063875.0     1.045664e+09  \n",
       "2           350000000.0      42762350.0     1.497624e+08  \n",
       "3           330600000.0     459005868.0     1.403014e+09  \n",
       "4           317000000.0     620181382.0     1.316722e+09  \n",
       "...                 ...             ...              ...  \n",
       "5777             7000.0             0.0     0.000000e+00  \n",
       "5778             6000.0         48482.0     2.404950e+05  \n",
       "5779             5000.0          1338.0     1.338000e+03  \n",
       "5780             1400.0             0.0     0.000000e+00  \n",
       "5781             1100.0        181041.0     1.810410e+05  \n",
       "\n",
       "[5782 rows x 5 columns]"
      ]
     },
     "execution_count": 8,
     "metadata": {},
     "output_type": "execute_result"
    }
   ],
   "source": [
    "clean_title(budget, 'movie_title')"
   ]
  },
  {
   "cell_type": "code",
   "execution_count": 9,
   "id": "5a90167c",
   "metadata": {},
   "outputs": [
    {
     "data": {
      "application/vnd.microsoft.datawrangler.viewer.v0+json": {
       "columns": [
        {
         "name": "index",
         "rawType": "int64",
         "type": "integer"
        },
        {
         "name": "release_date",
         "rawType": "datetime64[ns]",
         "type": "datetime"
        },
        {
         "name": "movie_title",
         "rawType": "object",
         "type": "string"
        },
        {
         "name": "production_budget",
         "rawType": "float64",
         "type": "float"
        },
        {
         "name": "domestic_gross",
         "rawType": "float64",
         "type": "float"
        },
        {
         "name": "worldwide_gross",
         "rawType": "float64",
         "type": "float"
        }
       ],
       "ref": "1fb1c3b6-6edc-42cb-8814-1621290acc5e",
       "rows": [
        [
         "0",
         "2009-12-18 00:00:00",
         "avatar",
         "425000000.0",
         "760507625.0",
         "2776345279.0"
        ],
        [
         "1",
         "2011-05-20 00:00:00",
         "pirates of the caribbean on stranger tides",
         "410600000.0",
         "241063875.0",
         "1045663875.0"
        ],
        [
         "2",
         "2019-06-07 00:00:00",
         "dark phoenix",
         "350000000.0",
         "42762350.0",
         "149762350.0"
        ],
        [
         "3",
         "2015-05-01 00:00:00",
         "avengers age of ultron",
         "330600000.0",
         "459005868.0",
         "1403013963.0"
        ],
        [
         "4",
         "2017-12-15 00:00:00",
         "star wars ep viii the last jedi",
         "317000000.0",
         "620181382.0",
         "1316721747.0"
        ],
        [
         "5",
         "2015-12-18 00:00:00",
         "star wars ep vii the force awakens",
         "306000000.0",
         "936662225.0",
         "2053311220.0"
        ],
        [
         "6",
         "2018-04-27 00:00:00",
         "avengers infinity war",
         "300000000.0",
         "678815482.0",
         "2048134200.0"
        ],
        [
         "7",
         "2007-05-24 00:00:00",
         "pirates of the caribbean at worlds end",
         "300000000.0",
         "309420425.0",
         "963420425.0"
        ],
        [
         "8",
         "2017-11-17 00:00:00",
         "justice league",
         "300000000.0",
         "229024295.0",
         "655945209.0"
        ],
        [
         "9",
         "2015-11-06 00:00:00",
         "spectre",
         "300000000.0",
         "200074175.0",
         "879620923.0"
        ],
        [
         "10",
         "2012-07-20 00:00:00",
         "the dark knight rises",
         "275000000.0",
         "448139099.0",
         "1084439099.0"
        ],
        [
         "11",
         "2018-05-25 00:00:00",
         "solo a star wars story",
         "275000000.0",
         "213767512.0",
         "393151347.0"
        ],
        [
         "12",
         "2013-07-02 00:00:00",
         "the lone ranger",
         "275000000.0",
         "89302115.0",
         "260002115.0"
        ],
        [
         "13",
         "2012-03-09 00:00:00",
         "john carter",
         "275000000.0",
         "73058679.0",
         "282778100.0"
        ],
        [
         "14",
         "2010-11-24 00:00:00",
         "tangled",
         "260000000.0",
         "200821936.0",
         "586477240.0"
        ],
        [
         "15",
         "2007-05-04 00:00:00",
         "spiderman 3",
         "258000000.0",
         "336530303.0",
         "894860230.0"
        ],
        [
         "16",
         "2016-05-06 00:00:00",
         "captain america civil war",
         "250000000.0",
         "408084349.0",
         "1140069413.0"
        ],
        [
         "17",
         "2016-03-25 00:00:00",
         "batman v superman dawn of justice",
         "250000000.0",
         "330360194.0",
         "867500281.0"
        ],
        [
         "18",
         "2012-12-14 00:00:00",
         "the hobbit an unexpected journey",
         "250000000.0",
         "303003568.0",
         "1017003568.0"
        ],
        [
         "19",
         "2009-07-15 00:00:00",
         "harry potter and the halfblood prince",
         "250000000.0",
         "302089278.0",
         "935213767.0"
        ],
        [
         "20",
         "2013-12-13 00:00:00",
         "the hobbit the desolation of smaug",
         "250000000.0",
         "258366855.0",
         "960366855.0"
        ],
        [
         "21",
         "2014-12-17 00:00:00",
         "the hobbit the battle of the five armies",
         "250000000.0",
         "255119788.0",
         "945577621.0"
        ],
        [
         "22",
         "2017-04-14 00:00:00",
         "the fate of the furious",
         "250000000.0",
         "225764765.0",
         "1234846267.0"
        ],
        [
         "23",
         "2006-06-28 00:00:00",
         "superman returns",
         "232000000.0",
         "200120000.0",
         "374085065.0"
        ],
        [
         "24",
         "2017-05-26 00:00:00",
         "pirates of the caribbean dead men tell no tales",
         "230000000.0",
         "172558876.0",
         "788241137.0"
        ],
        [
         "25",
         "2008-11-14 00:00:00",
         "quantum of solace",
         "230000000.0",
         "169368427.0",
         "591692078.0"
        ],
        [
         "26",
         "2012-05-04 00:00:00",
         "the avengers",
         "225000000.0",
         "623279547.0",
         "1517935897.0"
        ],
        [
         "27",
         "2006-07-07 00:00:00",
         "pirates of the caribbean dead mans chest",
         "225000000.0",
         "423315812.0",
         "1066215812.0"
        ],
        [
         "28",
         "2013-06-14 00:00:00",
         "man of steel",
         "225000000.0",
         "291045518.0",
         "667999518.0"
        ],
        [
         "29",
         "2008-05-16 00:00:00",
         "the chronicles of narnia prince caspian",
         "225000000.0",
         "141621490.0",
         "417341288.0"
        ],
        [
         "30",
         "2012-07-03 00:00:00",
         "the amazing spiderman",
         "220000000.0",
         "262030663.0",
         "757890267.0"
        ],
        [
         "31",
         "2012-05-18 00:00:00",
         "battleship",
         "220000000.0",
         "65233400.0",
         "313477717.0"
        ],
        [
         "32",
         "2017-06-21 00:00:00",
         "transformers the last knight",
         "217000000.0",
         "130168683.0",
         "602893340.0"
        ],
        [
         "33",
         "2015-06-12 00:00:00",
         "jurassic world",
         "215000000.0",
         "652270625.0",
         "1648854864.0"
        ],
        [
         "34",
         "2012-05-25 00:00:00",
         "men in black 3",
         "215000000.0",
         "179020854.0",
         "654213485.0"
        ],
        [
         "35",
         "2009-06-24 00:00:00",
         "transformers revenge of the fallen",
         "210000000.0",
         "402111870.0",
         "836519699.0"
        ],
        [
         "36",
         "2014-06-27 00:00:00",
         "transformers age of extinction",
         "210000000.0",
         "245439076.0",
         "1104039076.0"
        ],
        [
         "37",
         "2006-05-26 00:00:00",
         "xmen the last stand",
         "210000000.0",
         "234362462.0",
         "459260946.0"
        ],
        [
         "38",
         "2010-05-14 00:00:00",
         "robin hood",
         "210000000.0",
         "105487148.0",
         "322459006.0"
        ],
        [
         "39",
         "2005-12-14 00:00:00",
         "king kong",
         "207000000.0",
         "218080025.0",
         "550517357.0"
        ],
        [
         "40",
         "2007-12-07 00:00:00",
         "the golden compass",
         "205000000.0",
         "70107728.0",
         "367262558.0"
        ],
        [
         "41",
         "2018-02-16 00:00:00",
         "black panther",
         "200000000.0",
         "700059566.0",
         "1348258224.0"
        ],
        [
         "42",
         "1997-12-19 00:00:00",
         "titanic",
         "200000000.0",
         "659363944.0",
         "2208208395.0"
        ],
        [
         "43",
         "2018-06-15 00:00:00",
         "incredibles 2",
         "200000000.0",
         "608581744.0",
         "1242520711.0"
        ],
        [
         "44",
         "2016-12-16 00:00:00",
         "rogue one a star wars story",
         "200000000.0",
         "532177324.0",
         "1049102856.0"
        ],
        [
         "45",
         "2016-06-17 00:00:00",
         "finding dory",
         "200000000.0",
         "486295561.0",
         "1021215193.0"
        ],
        [
         "46",
         "2010-06-18 00:00:00",
         "toy story 3",
         "200000000.0",
         "415004880.0",
         "1068879522.0"
        ],
        [
         "47",
         "2013-05-03 00:00:00",
         "iron man 3",
         "200000000.0",
         "408992272.0",
         "1215392272.0"
        ],
        [
         "48",
         "2017-05-05 00:00:00",
         "guardians of the galaxy vol 2",
         "200000000.0",
         "389813101.0",
         "862316233.0"
        ],
        [
         "49",
         "2004-06-30 00:00:00",
         "spiderman 2",
         "200000000.0",
         "373524485.0",
         "795110670.0"
        ]
       ],
       "shape": {
        "columns": 5,
        "rows": 5782
       }
      },
      "text/html": [
       "<div>\n",
       "<style scoped>\n",
       "    .dataframe tbody tr th:only-of-type {\n",
       "        vertical-align: middle;\n",
       "    }\n",
       "\n",
       "    .dataframe tbody tr th {\n",
       "        vertical-align: top;\n",
       "    }\n",
       "\n",
       "    .dataframe thead th {\n",
       "        text-align: right;\n",
       "    }\n",
       "</style>\n",
       "<table border=\"1\" class=\"dataframe\">\n",
       "  <thead>\n",
       "    <tr style=\"text-align: right;\">\n",
       "      <th></th>\n",
       "      <th>release_date</th>\n",
       "      <th>movie_title</th>\n",
       "      <th>production_budget</th>\n",
       "      <th>domestic_gross</th>\n",
       "      <th>worldwide_gross</th>\n",
       "    </tr>\n",
       "  </thead>\n",
       "  <tbody>\n",
       "    <tr>\n",
       "      <th>0</th>\n",
       "      <td>2009-12-18</td>\n",
       "      <td>avatar</td>\n",
       "      <td>425000000.0</td>\n",
       "      <td>760507625.0</td>\n",
       "      <td>2.776345e+09</td>\n",
       "    </tr>\n",
       "    <tr>\n",
       "      <th>1</th>\n",
       "      <td>2011-05-20</td>\n",
       "      <td>pirates of the caribbean on stranger tides</td>\n",
       "      <td>410600000.0</td>\n",
       "      <td>241063875.0</td>\n",
       "      <td>1.045664e+09</td>\n",
       "    </tr>\n",
       "    <tr>\n",
       "      <th>2</th>\n",
       "      <td>2019-06-07</td>\n",
       "      <td>dark phoenix</td>\n",
       "      <td>350000000.0</td>\n",
       "      <td>42762350.0</td>\n",
       "      <td>1.497624e+08</td>\n",
       "    </tr>\n",
       "    <tr>\n",
       "      <th>3</th>\n",
       "      <td>2015-05-01</td>\n",
       "      <td>avengers age of ultron</td>\n",
       "      <td>330600000.0</td>\n",
       "      <td>459005868.0</td>\n",
       "      <td>1.403014e+09</td>\n",
       "    </tr>\n",
       "    <tr>\n",
       "      <th>4</th>\n",
       "      <td>2017-12-15</td>\n",
       "      <td>star wars ep viii the last jedi</td>\n",
       "      <td>317000000.0</td>\n",
       "      <td>620181382.0</td>\n",
       "      <td>1.316722e+09</td>\n",
       "    </tr>\n",
       "    <tr>\n",
       "      <th>...</th>\n",
       "      <td>...</td>\n",
       "      <td>...</td>\n",
       "      <td>...</td>\n",
       "      <td>...</td>\n",
       "      <td>...</td>\n",
       "    </tr>\n",
       "    <tr>\n",
       "      <th>5777</th>\n",
       "      <td>2018-12-31</td>\n",
       "      <td>red 11</td>\n",
       "      <td>7000.0</td>\n",
       "      <td>0.0</td>\n",
       "      <td>0.000000e+00</td>\n",
       "    </tr>\n",
       "    <tr>\n",
       "      <th>5778</th>\n",
       "      <td>1999-04-02</td>\n",
       "      <td>following</td>\n",
       "      <td>6000.0</td>\n",
       "      <td>48482.0</td>\n",
       "      <td>2.404950e+05</td>\n",
       "    </tr>\n",
       "    <tr>\n",
       "      <th>5779</th>\n",
       "      <td>2005-07-13</td>\n",
       "      <td>return to the land of wonders</td>\n",
       "      <td>5000.0</td>\n",
       "      <td>1338.0</td>\n",
       "      <td>1.338000e+03</td>\n",
       "    </tr>\n",
       "    <tr>\n",
       "      <th>5780</th>\n",
       "      <td>2015-09-29</td>\n",
       "      <td>a plague so pleasant</td>\n",
       "      <td>1400.0</td>\n",
       "      <td>0.0</td>\n",
       "      <td>0.000000e+00</td>\n",
       "    </tr>\n",
       "    <tr>\n",
       "      <th>5781</th>\n",
       "      <td>2005-08-05</td>\n",
       "      <td>my date with drew</td>\n",
       "      <td>1100.0</td>\n",
       "      <td>181041.0</td>\n",
       "      <td>1.810410e+05</td>\n",
       "    </tr>\n",
       "  </tbody>\n",
       "</table>\n",
       "<p>5782 rows × 5 columns</p>\n",
       "</div>"
      ],
      "text/plain": [
       "     release_date                                 movie_title  \\\n",
       "0      2009-12-18                                      avatar   \n",
       "1      2011-05-20  pirates of the caribbean on stranger tides   \n",
       "2      2019-06-07                                dark phoenix   \n",
       "3      2015-05-01                      avengers age of ultron   \n",
       "4      2017-12-15             star wars ep viii the last jedi   \n",
       "...           ...                                         ...   \n",
       "5777   2018-12-31                                      red 11   \n",
       "5778   1999-04-02                                   following   \n",
       "5779   2005-07-13               return to the land of wonders   \n",
       "5780   2015-09-29                        a plague so pleasant   \n",
       "5781   2005-08-05                           my date with drew   \n",
       "\n",
       "      production_budget  domestic_gross  worldwide_gross  \n",
       "0           425000000.0     760507625.0     2.776345e+09  \n",
       "1           410600000.0     241063875.0     1.045664e+09  \n",
       "2           350000000.0      42762350.0     1.497624e+08  \n",
       "3           330600000.0     459005868.0     1.403014e+09  \n",
       "4           317000000.0     620181382.0     1.316722e+09  \n",
       "...                 ...             ...              ...  \n",
       "5777             7000.0             0.0     0.000000e+00  \n",
       "5778             6000.0         48482.0     2.404950e+05  \n",
       "5779             5000.0          1338.0     1.338000e+03  \n",
       "5780             1400.0             0.0     0.000000e+00  \n",
       "5781             1100.0        181041.0     1.810410e+05  \n",
       "\n",
       "[5782 rows x 5 columns]"
      ]
     },
     "execution_count": 9,
     "metadata": {},
     "output_type": "execute_result"
    }
   ],
   "source": [
    "budget"
   ]
  },
  {
   "cell_type": "markdown",
   "id": "8c1d5782",
   "metadata": {},
   "source": [
    "----------------------------"
   ]
  },
  {
   "cell_type": "markdown",
   "id": "8ff41c1b",
   "metadata": {},
   "source": [
    "## Cleaning and Understanding `tmdb_df`"
   ]
  },
  {
   "cell_type": "code",
   "execution_count": 10,
   "id": "f17bb553",
   "metadata": {},
   "outputs": [
    {
     "name": "stdout",
     "output_type": "stream",
     "text": [
      "(26517, 10)\n",
      "<class 'pandas.core.frame.DataFrame'>\n",
      "RangeIndex: 26517 entries, 0 to 26516\n",
      "Data columns (total 10 columns):\n",
      " #   Column             Non-Null Count  Dtype  \n",
      "---  ------             --------------  -----  \n",
      " 0   Unnamed: 0         26517 non-null  int64  \n",
      " 1   genre_ids          26517 non-null  object \n",
      " 2   id                 26517 non-null  int64  \n",
      " 3   original_language  26517 non-null  object \n",
      " 4   original_title     26517 non-null  object \n",
      " 5   popularity         26517 non-null  float64\n",
      " 6   release_date       26517 non-null  object \n",
      " 7   title              26517 non-null  object \n",
      " 8   vote_average       26517 non-null  float64\n",
      " 9   vote_count         26517 non-null  int64  \n",
      "dtypes: float64(2), int64(3), object(5)\n",
      "memory usage: 2.0+ MB\n",
      "None\n",
      "Index(['Unnamed: 0', 'genre_ids', 'id', 'original_language', 'original_title',\n",
      "       'popularity', 'release_date', 'title', 'vote_average', 'vote_count'],\n",
      "      dtype='object')\n"
     ]
    },
    {
     "data": {
      "text/plain": [
       "np.int64(0)"
      ]
     },
     "execution_count": 10,
     "metadata": {},
     "output_type": "execute_result"
    }
   ],
   "source": [
    "tmdb = tmdb_df.copy(deep=True)\n",
    "print(tmdb.shape)\n",
    "print(tmdb.info())\n",
    "tmdb.head()\n",
    "tmdb.tail()\n",
    "print(tmdb.columns)\n",
    "tmdb.duplicated().sum()\n",
    "\n"
   ]
  },
  {
   "cell_type": "code",
   "execution_count": 11,
   "id": "a3641289",
   "metadata": {},
   "outputs": [
    {
     "data": {
      "application/vnd.microsoft.datawrangler.viewer.v0+json": {
       "columns": [
        {
         "name": "index",
         "rawType": "int64",
         "type": "integer"
        },
        {
         "name": "Unnamed: 0",
         "rawType": "int64",
         "type": "integer"
        },
        {
         "name": "genre_ids",
         "rawType": "object",
         "type": "string"
        },
        {
         "name": "id",
         "rawType": "int64",
         "type": "integer"
        },
        {
         "name": "original_language",
         "rawType": "object",
         "type": "string"
        },
        {
         "name": "original_title",
         "rawType": "object",
         "type": "string"
        },
        {
         "name": "popularity",
         "rawType": "float64",
         "type": "float"
        },
        {
         "name": "release_date",
         "rawType": "object",
         "type": "string"
        },
        {
         "name": "title",
         "rawType": "object",
         "type": "string"
        },
        {
         "name": "vote_average",
         "rawType": "float64",
         "type": "float"
        },
        {
         "name": "vote_count",
         "rawType": "int64",
         "type": "integer"
        }
       ],
       "ref": "9e97b705-ce56-48b9-aeac-fb03158b0712",
       "rows": [
        [
         "0",
         "0",
         "[12, 14, 10751]",
         "12444",
         "en",
         "Harry Potter and the Deathly Hallows: Part 1",
         "33.533",
         "2010-11-19",
         "Harry Potter and the Deathly Hallows: Part 1",
         "7.7",
         "10788"
        ],
        [
         "1",
         "1",
         "[14, 12, 16, 10751]",
         "10191",
         "en",
         "How to Train Your Dragon",
         "28.734",
         "2010-03-26",
         "How to Train Your Dragon",
         "7.7",
         "7610"
        ],
        [
         "2",
         "2",
         "[12, 28, 878]",
         "10138",
         "en",
         "Iron Man 2",
         "28.515",
         "2010-05-07",
         "Iron Man 2",
         "6.8",
         "12368"
        ],
        [
         "3",
         "3",
         "[16, 35, 10751]",
         "862",
         "en",
         "Toy Story",
         "28.005",
         "1995-11-22",
         "Toy Story",
         "7.9",
         "10174"
        ],
        [
         "4",
         "4",
         "[28, 878, 12]",
         "27205",
         "en",
         "Inception",
         "27.92",
         "2010-07-16",
         "Inception",
         "8.3",
         "22186"
        ]
       ],
       "shape": {
        "columns": 10,
        "rows": 5
       }
      },
      "text/html": [
       "<div>\n",
       "<style scoped>\n",
       "    .dataframe tbody tr th:only-of-type {\n",
       "        vertical-align: middle;\n",
       "    }\n",
       "\n",
       "    .dataframe tbody tr th {\n",
       "        vertical-align: top;\n",
       "    }\n",
       "\n",
       "    .dataframe thead th {\n",
       "        text-align: right;\n",
       "    }\n",
       "</style>\n",
       "<table border=\"1\" class=\"dataframe\">\n",
       "  <thead>\n",
       "    <tr style=\"text-align: right;\">\n",
       "      <th></th>\n",
       "      <th>Unnamed: 0</th>\n",
       "      <th>genre_ids</th>\n",
       "      <th>id</th>\n",
       "      <th>original_language</th>\n",
       "      <th>original_title</th>\n",
       "      <th>popularity</th>\n",
       "      <th>release_date</th>\n",
       "      <th>title</th>\n",
       "      <th>vote_average</th>\n",
       "      <th>vote_count</th>\n",
       "    </tr>\n",
       "  </thead>\n",
       "  <tbody>\n",
       "    <tr>\n",
       "      <th>0</th>\n",
       "      <td>0</td>\n",
       "      <td>[12, 14, 10751]</td>\n",
       "      <td>12444</td>\n",
       "      <td>en</td>\n",
       "      <td>Harry Potter and the Deathly Hallows: Part 1</td>\n",
       "      <td>33.533</td>\n",
       "      <td>2010-11-19</td>\n",
       "      <td>Harry Potter and the Deathly Hallows: Part 1</td>\n",
       "      <td>7.7</td>\n",
       "      <td>10788</td>\n",
       "    </tr>\n",
       "    <tr>\n",
       "      <th>1</th>\n",
       "      <td>1</td>\n",
       "      <td>[14, 12, 16, 10751]</td>\n",
       "      <td>10191</td>\n",
       "      <td>en</td>\n",
       "      <td>How to Train Your Dragon</td>\n",
       "      <td>28.734</td>\n",
       "      <td>2010-03-26</td>\n",
       "      <td>How to Train Your Dragon</td>\n",
       "      <td>7.7</td>\n",
       "      <td>7610</td>\n",
       "    </tr>\n",
       "    <tr>\n",
       "      <th>2</th>\n",
       "      <td>2</td>\n",
       "      <td>[12, 28, 878]</td>\n",
       "      <td>10138</td>\n",
       "      <td>en</td>\n",
       "      <td>Iron Man 2</td>\n",
       "      <td>28.515</td>\n",
       "      <td>2010-05-07</td>\n",
       "      <td>Iron Man 2</td>\n",
       "      <td>6.8</td>\n",
       "      <td>12368</td>\n",
       "    </tr>\n",
       "    <tr>\n",
       "      <th>3</th>\n",
       "      <td>3</td>\n",
       "      <td>[16, 35, 10751]</td>\n",
       "      <td>862</td>\n",
       "      <td>en</td>\n",
       "      <td>Toy Story</td>\n",
       "      <td>28.005</td>\n",
       "      <td>1995-11-22</td>\n",
       "      <td>Toy Story</td>\n",
       "      <td>7.9</td>\n",
       "      <td>10174</td>\n",
       "    </tr>\n",
       "    <tr>\n",
       "      <th>4</th>\n",
       "      <td>4</td>\n",
       "      <td>[28, 878, 12]</td>\n",
       "      <td>27205</td>\n",
       "      <td>en</td>\n",
       "      <td>Inception</td>\n",
       "      <td>27.920</td>\n",
       "      <td>2010-07-16</td>\n",
       "      <td>Inception</td>\n",
       "      <td>8.3</td>\n",
       "      <td>22186</td>\n",
       "    </tr>\n",
       "  </tbody>\n",
       "</table>\n",
       "</div>"
      ],
      "text/plain": [
       "   Unnamed: 0            genre_ids     id original_language  \\\n",
       "0           0      [12, 14, 10751]  12444                en   \n",
       "1           1  [14, 12, 16, 10751]  10191                en   \n",
       "2           2        [12, 28, 878]  10138                en   \n",
       "3           3      [16, 35, 10751]    862                en   \n",
       "4           4        [28, 878, 12]  27205                en   \n",
       "\n",
       "                                 original_title  popularity release_date  \\\n",
       "0  Harry Potter and the Deathly Hallows: Part 1      33.533   2010-11-19   \n",
       "1                      How to Train Your Dragon      28.734   2010-03-26   \n",
       "2                                    Iron Man 2      28.515   2010-05-07   \n",
       "3                                     Toy Story      28.005   1995-11-22   \n",
       "4                                     Inception      27.920   2010-07-16   \n",
       "\n",
       "                                          title  vote_average  vote_count  \n",
       "0  Harry Potter and the Deathly Hallows: Part 1           7.7       10788  \n",
       "1                      How to Train Your Dragon           7.7        7610  \n",
       "2                                    Iron Man 2           6.8       12368  \n",
       "3                                     Toy Story           7.9       10174  \n",
       "4                                     Inception           8.3       22186  "
      ]
     },
     "execution_count": 11,
     "metadata": {},
     "output_type": "execute_result"
    }
   ],
   "source": [
    "tmdb.head()"
   ]
  },
  {
   "cell_type": "code",
   "execution_count": 12,
   "id": "fcbe8ffe",
   "metadata": {},
   "outputs": [],
   "source": [
    "#Dropping \n",
    "tmdb = tmdb.drop(columns=['Unnamed: 0', 'genre_ids', 'id', 'title'])"
   ]
  },
  {
   "cell_type": "code",
   "execution_count": 13,
   "id": "2b298c54",
   "metadata": {},
   "outputs": [
    {
     "data": {
      "application/vnd.microsoft.datawrangler.viewer.v0+json": {
       "columns": [
        {
         "name": "index",
         "rawType": "int64",
         "type": "integer"
        },
        {
         "name": "original_language",
         "rawType": "object",
         "type": "string"
        },
        {
         "name": "original_title",
         "rawType": "object",
         "type": "string"
        },
        {
         "name": "popularity",
         "rawType": "float64",
         "type": "float"
        },
        {
         "name": "release_date",
         "rawType": "object",
         "type": "string"
        },
        {
         "name": "vote_average",
         "rawType": "float64",
         "type": "float"
        },
        {
         "name": "vote_count",
         "rawType": "int64",
         "type": "integer"
        }
       ],
       "ref": "1ae6bb2a-6276-47e6-bcb0-6a876b47fc7a",
       "rows": [
        [
         "0",
         "en",
         "Harry Potter and the Deathly Hallows: Part 1",
         "33.533",
         "2010-11-19",
         "7.7",
         "10788"
        ],
        [
         "1",
         "en",
         "How to Train Your Dragon",
         "28.734",
         "2010-03-26",
         "7.7",
         "7610"
        ],
        [
         "2",
         "en",
         "Iron Man 2",
         "28.515",
         "2010-05-07",
         "6.8",
         "12368"
        ],
        [
         "3",
         "en",
         "Toy Story",
         "28.005",
         "1995-11-22",
         "7.9",
         "10174"
        ],
        [
         "4",
         "en",
         "Inception",
         "27.92",
         "2010-07-16",
         "8.3",
         "22186"
        ]
       ],
       "shape": {
        "columns": 6,
        "rows": 5
       }
      },
      "text/html": [
       "<div>\n",
       "<style scoped>\n",
       "    .dataframe tbody tr th:only-of-type {\n",
       "        vertical-align: middle;\n",
       "    }\n",
       "\n",
       "    .dataframe tbody tr th {\n",
       "        vertical-align: top;\n",
       "    }\n",
       "\n",
       "    .dataframe thead th {\n",
       "        text-align: right;\n",
       "    }\n",
       "</style>\n",
       "<table border=\"1\" class=\"dataframe\">\n",
       "  <thead>\n",
       "    <tr style=\"text-align: right;\">\n",
       "      <th></th>\n",
       "      <th>original_language</th>\n",
       "      <th>original_title</th>\n",
       "      <th>popularity</th>\n",
       "      <th>release_date</th>\n",
       "      <th>vote_average</th>\n",
       "      <th>vote_count</th>\n",
       "    </tr>\n",
       "  </thead>\n",
       "  <tbody>\n",
       "    <tr>\n",
       "      <th>0</th>\n",
       "      <td>en</td>\n",
       "      <td>Harry Potter and the Deathly Hallows: Part 1</td>\n",
       "      <td>33.533</td>\n",
       "      <td>2010-11-19</td>\n",
       "      <td>7.7</td>\n",
       "      <td>10788</td>\n",
       "    </tr>\n",
       "    <tr>\n",
       "      <th>1</th>\n",
       "      <td>en</td>\n",
       "      <td>How to Train Your Dragon</td>\n",
       "      <td>28.734</td>\n",
       "      <td>2010-03-26</td>\n",
       "      <td>7.7</td>\n",
       "      <td>7610</td>\n",
       "    </tr>\n",
       "    <tr>\n",
       "      <th>2</th>\n",
       "      <td>en</td>\n",
       "      <td>Iron Man 2</td>\n",
       "      <td>28.515</td>\n",
       "      <td>2010-05-07</td>\n",
       "      <td>6.8</td>\n",
       "      <td>12368</td>\n",
       "    </tr>\n",
       "    <tr>\n",
       "      <th>3</th>\n",
       "      <td>en</td>\n",
       "      <td>Toy Story</td>\n",
       "      <td>28.005</td>\n",
       "      <td>1995-11-22</td>\n",
       "      <td>7.9</td>\n",
       "      <td>10174</td>\n",
       "    </tr>\n",
       "    <tr>\n",
       "      <th>4</th>\n",
       "      <td>en</td>\n",
       "      <td>Inception</td>\n",
       "      <td>27.920</td>\n",
       "      <td>2010-07-16</td>\n",
       "      <td>8.3</td>\n",
       "      <td>22186</td>\n",
       "    </tr>\n",
       "  </tbody>\n",
       "</table>\n",
       "</div>"
      ],
      "text/plain": [
       "  original_language                                original_title  popularity  \\\n",
       "0                en  Harry Potter and the Deathly Hallows: Part 1      33.533   \n",
       "1                en                      How to Train Your Dragon      28.734   \n",
       "2                en                                    Iron Man 2      28.515   \n",
       "3                en                                     Toy Story      28.005   \n",
       "4                en                                     Inception      27.920   \n",
       "\n",
       "  release_date  vote_average  vote_count  \n",
       "0   2010-11-19           7.7       10788  \n",
       "1   2010-03-26           7.7        7610  \n",
       "2   2010-05-07           6.8       12368  \n",
       "3   1995-11-22           7.9       10174  \n",
       "4   2010-07-16           8.3       22186  "
      ]
     },
     "execution_count": 13,
     "metadata": {},
     "output_type": "execute_result"
    }
   ],
   "source": [
    "tmdb.head()"
   ]
  },
  {
   "cell_type": "code",
   "execution_count": 14,
   "id": "fccdaa1c",
   "metadata": {},
   "outputs": [
    {
     "data": {
      "application/vnd.microsoft.datawrangler.viewer.v0+json": {
       "columns": [
        {
         "name": "index",
         "rawType": "int64",
         "type": "integer"
        },
        {
         "name": "original_language",
         "rawType": "object",
         "type": "string"
        },
        {
         "name": "movie_title",
         "rawType": "object",
         "type": "string"
        },
        {
         "name": "popularity",
         "rawType": "float64",
         "type": "float"
        },
        {
         "name": "release_date",
         "rawType": "object",
         "type": "string"
        },
        {
         "name": "vote_average",
         "rawType": "float64",
         "type": "float"
        },
        {
         "name": "vote_count",
         "rawType": "int64",
         "type": "integer"
        }
       ],
       "ref": "a1fa0539-4eba-4991-80c0-5924e41628b4",
       "rows": [
        [
         "0",
         "en",
         "harry potter and the deathly hallows part 1",
         "33.533",
         "2010-11-19",
         "7.7",
         "10788"
        ],
        [
         "1",
         "en",
         "how to train your dragon",
         "28.734",
         "2010-03-26",
         "7.7",
         "7610"
        ],
        [
         "2",
         "en",
         "iron man 2",
         "28.515",
         "2010-05-07",
         "6.8",
         "12368"
        ],
        [
         "3",
         "en",
         "toy story",
         "28.005",
         "1995-11-22",
         "7.9",
         "10174"
        ],
        [
         "4",
         "en",
         "inception",
         "27.92",
         "2010-07-16",
         "8.3",
         "22186"
        ],
        [
         "5",
         "en",
         "percy jackson  the olympians the lightning thief",
         "26.691",
         "2010-02-11",
         "6.1",
         "4229"
        ],
        [
         "6",
         "en",
         "avatar",
         "26.526",
         "2009-12-18",
         "7.4",
         "18676"
        ],
        [
         "7",
         "en",
         "toy story 3",
         "24.445",
         "2010-06-17",
         "7.7",
         "8340"
        ],
        [
         "8",
         "en",
         "despicable me",
         "23.673",
         "2010-07-09",
         "7.2",
         "10057"
        ],
        [
         "9",
         "en",
         "megamind",
         "22.855",
         "2010-11-04",
         "6.8",
         "3635"
        ],
        [
         "10",
         "en",
         "toy story 2",
         "22.698",
         "1999-11-24",
         "7.5",
         "7553"
        ],
        [
         "11",
         "en",
         "alice in wonderland",
         "22.02",
         "2010-03-05",
         "6.6",
         "8713"
        ],
        [
         "12",
         "en",
         "the expendables",
         "21.517",
         "2010-08-03",
         "6.1",
         "4647"
        ],
        [
         "13",
         "en",
         "tangled",
         "21.511",
         "2010-11-24",
         "7.5",
         "6407"
        ],
        [
         "14",
         "en",
         "saw 3d",
         "20.37",
         "2010-10-28",
         "6.0",
         "1488"
        ],
        [
         "15",
         "en",
         "the twilight saga eclipse",
         "20.34",
         "2010-06-23",
         "6.0",
         "4909"
        ],
        [
         "16",
         "en",
         "the book of eli",
         "18.985",
         "2010-01-11",
         "6.7",
         "3495"
        ],
        [
         "17",
         "nl",
         "lellebelle",
         "18.586",
         "2010-10-09",
         "4.5",
         "36"
        ],
        [
         "18",
         "en",
         "the bourne supremacy",
         "18.199",
         "2004-07-23",
         "7.3",
         "4367"
        ],
        [
         "19",
         "en",
         "shutter island",
         "18.06",
         "2010-02-18",
         "8.1",
         "12625"
        ],
        [
         "20",
         "en",
         "the bourne identity",
         "17.935",
         "2002-06-14",
         "7.4",
         "5406"
        ],
        [
         "21",
         "en",
         "knight and day",
         "17.713",
         "2010-06-23",
         "6.0",
         "2494"
        ],
        [
         "22",
         "en",
         "the chronicles of narnia the voyage of the dawn treader",
         "17.382",
         "2010-12-10",
         "6.3",
         "3196"
        ],
        [
         "23",
         "en",
         "step up 3d",
         "17.174",
         "2010-08-06",
         "6.7",
         "1160"
        ],
        [
         "24",
         "en",
         "the ateam",
         "17.097",
         "2010-06-11",
         "6.3",
         "2703"
        ],
        [
         "25",
         "en",
         "the kings speech",
         "16.798",
         "2010-09-06",
         "7.7",
         "5013"
        ],
        [
         "26",
         "en",
         "bad boys",
         "16.608",
         "1995-04-07",
         "6.6",
         "2936"
        ],
        [
         "27",
         "en",
         "the last airbender",
         "16.595",
         "2010-07-01",
         "4.6",
         "2143"
        ],
        [
         "28",
         "en",
         "predators",
         "16.216",
         "2010-07-03",
         "6.1",
         "1979"
        ],
        [
         "29",
         "en",
         "the social network",
         "15.889",
         "2010-10-01",
         "7.2",
         "6116"
        ],
        [
         "30",
         "en",
         "undisputed iii redemption",
         "15.886",
         "2010-05-22",
         "7.4",
         "302"
        ],
        [
         "31",
         "en",
         "apollo 13",
         "15.855",
         "1995-06-30",
         "7.4",
         "2821"
        ],
        [
         "32",
         "en",
         "armageddon",
         "15.799",
         "1998-07-01",
         "6.7",
         "4267"
        ],
        [
         "33",
         "en",
         "the bourne ultimatum",
         "15.62",
         "2007-08-03",
         "7.4",
         "4440"
        ],
        [
         "34",
         "en",
         "clash of the titans",
         "15.574",
         "2010-04-02",
         "5.7",
         "3714"
        ],
        [
         "35",
         "en",
         "the backup plan",
         "15.49",
         "2010-04-23",
         "6.0",
         "806"
        ],
        [
         "36",
         "en",
         "robin hood",
         "15.444",
         "2010-05-14",
         "6.3",
         "2569"
        ],
        [
         "37",
         "en",
         "nanny mcphee and the big bang",
         "15.213",
         "2010-08-20",
         "6.1",
         "953"
        ],
        [
         "38",
         "en",
         "shrek forever after",
         "15.041",
         "2010-05-16",
         "6.1",
         "3843"
        ],
        [
         "39",
         "en",
         "easy a",
         "14.69",
         "2010-09-17",
         "6.8",
         "4168"
        ],
        [
         "40",
         "en",
         "the sorcerers apprentice",
         "14.463",
         "2010-07-13",
         "5.9",
         "2879"
        ],
        [
         "41",
         "en",
         "scott pilgrim vs the world",
         "14.383",
         "2010-08-13",
         "7.3",
         "3882"
        ],
        [
         "42",
         "en",
         "grown ups",
         "14.291",
         "2010-06-24",
         "6.1",
         "3171"
        ],
        [
         "43",
         "en",
         "some like it hot",
         "14.2",
         "1959-03-18",
         "8.2",
         "1562"
        ],
        [
         "44",
         "en",
         "faster",
         "14.172",
         "2010-11-23",
         "6.2",
         "895"
        ],
        [
         "45",
         "en",
         "the wolfman",
         "14.03",
         "2010-02-12",
         "5.7",
         "1009"
        ],
        [
         "46",
         "en",
         "unstoppable",
         "14.01",
         "2010-11-12",
         "6.4",
         "1913"
        ],
        [
         "47",
         "en",
         "black swan",
         "13.745",
         "2010-12-03",
         "7.6",
         "8374"
        ],
        [
         "48",
         "en",
         "tinker bell and the great fairy rescue",
         "13.724",
         "2010-09-21",
         "6.5",
         "451"
        ],
        [
         "49",
         "es",
         "tres metros sobre el cielo",
         "13.721",
         "2010-12-20",
         "7.5",
         "960"
        ]
       ],
       "shape": {
        "columns": 6,
        "rows": 26517
       }
      },
      "text/html": [
       "<div>\n",
       "<style scoped>\n",
       "    .dataframe tbody tr th:only-of-type {\n",
       "        vertical-align: middle;\n",
       "    }\n",
       "\n",
       "    .dataframe tbody tr th {\n",
       "        vertical-align: top;\n",
       "    }\n",
       "\n",
       "    .dataframe thead th {\n",
       "        text-align: right;\n",
       "    }\n",
       "</style>\n",
       "<table border=\"1\" class=\"dataframe\">\n",
       "  <thead>\n",
       "    <tr style=\"text-align: right;\">\n",
       "      <th></th>\n",
       "      <th>original_language</th>\n",
       "      <th>movie_title</th>\n",
       "      <th>popularity</th>\n",
       "      <th>release_date</th>\n",
       "      <th>vote_average</th>\n",
       "      <th>vote_count</th>\n",
       "    </tr>\n",
       "  </thead>\n",
       "  <tbody>\n",
       "    <tr>\n",
       "      <th>0</th>\n",
       "      <td>en</td>\n",
       "      <td>harry potter and the deathly hallows part 1</td>\n",
       "      <td>33.533</td>\n",
       "      <td>2010-11-19</td>\n",
       "      <td>7.7</td>\n",
       "      <td>10788</td>\n",
       "    </tr>\n",
       "    <tr>\n",
       "      <th>1</th>\n",
       "      <td>en</td>\n",
       "      <td>how to train your dragon</td>\n",
       "      <td>28.734</td>\n",
       "      <td>2010-03-26</td>\n",
       "      <td>7.7</td>\n",
       "      <td>7610</td>\n",
       "    </tr>\n",
       "    <tr>\n",
       "      <th>2</th>\n",
       "      <td>en</td>\n",
       "      <td>iron man 2</td>\n",
       "      <td>28.515</td>\n",
       "      <td>2010-05-07</td>\n",
       "      <td>6.8</td>\n",
       "      <td>12368</td>\n",
       "    </tr>\n",
       "    <tr>\n",
       "      <th>3</th>\n",
       "      <td>en</td>\n",
       "      <td>toy story</td>\n",
       "      <td>28.005</td>\n",
       "      <td>1995-11-22</td>\n",
       "      <td>7.9</td>\n",
       "      <td>10174</td>\n",
       "    </tr>\n",
       "    <tr>\n",
       "      <th>4</th>\n",
       "      <td>en</td>\n",
       "      <td>inception</td>\n",
       "      <td>27.920</td>\n",
       "      <td>2010-07-16</td>\n",
       "      <td>8.3</td>\n",
       "      <td>22186</td>\n",
       "    </tr>\n",
       "    <tr>\n",
       "      <th>...</th>\n",
       "      <td>...</td>\n",
       "      <td>...</td>\n",
       "      <td>...</td>\n",
       "      <td>...</td>\n",
       "      <td>...</td>\n",
       "      <td>...</td>\n",
       "    </tr>\n",
       "    <tr>\n",
       "      <th>26512</th>\n",
       "      <td>en</td>\n",
       "      <td>laboratory conditions</td>\n",
       "      <td>0.600</td>\n",
       "      <td>2018-10-13</td>\n",
       "      <td>0.0</td>\n",
       "      <td>1</td>\n",
       "    </tr>\n",
       "    <tr>\n",
       "      <th>26513</th>\n",
       "      <td>en</td>\n",
       "      <td>exhibit84xxx</td>\n",
       "      <td>0.600</td>\n",
       "      <td>2018-05-01</td>\n",
       "      <td>0.0</td>\n",
       "      <td>1</td>\n",
       "    </tr>\n",
       "    <tr>\n",
       "      <th>26514</th>\n",
       "      <td>en</td>\n",
       "      <td>the last one</td>\n",
       "      <td>0.600</td>\n",
       "      <td>2018-10-01</td>\n",
       "      <td>0.0</td>\n",
       "      <td>1</td>\n",
       "    </tr>\n",
       "    <tr>\n",
       "      <th>26515</th>\n",
       "      <td>en</td>\n",
       "      <td>trailer made</td>\n",
       "      <td>0.600</td>\n",
       "      <td>2018-06-22</td>\n",
       "      <td>0.0</td>\n",
       "      <td>1</td>\n",
       "    </tr>\n",
       "    <tr>\n",
       "      <th>26516</th>\n",
       "      <td>en</td>\n",
       "      <td>the church</td>\n",
       "      <td>0.600</td>\n",
       "      <td>2018-10-05</td>\n",
       "      <td>0.0</td>\n",
       "      <td>1</td>\n",
       "    </tr>\n",
       "  </tbody>\n",
       "</table>\n",
       "<p>26517 rows × 6 columns</p>\n",
       "</div>"
      ],
      "text/plain": [
       "      original_language                                  movie_title  \\\n",
       "0                    en  harry potter and the deathly hallows part 1   \n",
       "1                    en                     how to train your dragon   \n",
       "2                    en                                   iron man 2   \n",
       "3                    en                                    toy story   \n",
       "4                    en                                    inception   \n",
       "...                 ...                                          ...   \n",
       "26512                en                        laboratory conditions   \n",
       "26513                en                                 exhibit84xxx   \n",
       "26514                en                                 the last one   \n",
       "26515                en                                 trailer made   \n",
       "26516                en                                   the church   \n",
       "\n",
       "       popularity release_date  vote_average  vote_count  \n",
       "0          33.533   2010-11-19           7.7       10788  \n",
       "1          28.734   2010-03-26           7.7        7610  \n",
       "2          28.515   2010-05-07           6.8       12368  \n",
       "3          28.005   1995-11-22           7.9       10174  \n",
       "4          27.920   2010-07-16           8.3       22186  \n",
       "...           ...          ...           ...         ...  \n",
       "26512       0.600   2018-10-13           0.0           1  \n",
       "26513       0.600   2018-05-01           0.0           1  \n",
       "26514       0.600   2018-10-01           0.0           1  \n",
       "26515       0.600   2018-06-22           0.0           1  \n",
       "26516       0.600   2018-10-05           0.0           1  \n",
       "\n",
       "[26517 rows x 6 columns]"
      ]
     },
     "execution_count": 14,
     "metadata": {},
     "output_type": "execute_result"
    }
   ],
   "source": [
    "tmdb = tmdb.rename(columns={\n",
    "    \"original_title\": \"movie_title\"\n",
    "})\n",
    "\n",
    "clean_title(tmdb, 'movie_title')"
   ]
  },
  {
   "cell_type": "code",
   "execution_count": 15,
   "id": "2f0bd5a9",
   "metadata": {},
   "outputs": [],
   "source": [
    "tmdb['release_date'] = tmdb['release_date'].astype(str).str.strip()\n",
    "tmdb['release_date'] = pd.to_datetime(tmdb['release_date'], format='ISO8601')"
   ]
  },
  {
   "cell_type": "code",
   "execution_count": 16,
   "id": "1eb06cb8",
   "metadata": {},
   "outputs": [
    {
     "data": {
      "application/vnd.microsoft.datawrangler.viewer.v0+json": {
       "columns": [
        {
         "name": "index",
         "rawType": "int64",
         "type": "integer"
        },
        {
         "name": "original_language",
         "rawType": "object",
         "type": "string"
        },
        {
         "name": "movie_title",
         "rawType": "object",
         "type": "string"
        },
        {
         "name": "popularity",
         "rawType": "float64",
         "type": "float"
        },
        {
         "name": "release_date",
         "rawType": "datetime64[ns]",
         "type": "datetime"
        },
        {
         "name": "vote_average",
         "rawType": "float64",
         "type": "float"
        },
        {
         "name": "vote_count",
         "rawType": "int64",
         "type": "integer"
        }
       ],
       "ref": "dbc41647-3193-4ed5-a919-ee475d631c42",
       "rows": [
        [
         "0",
         "en",
         "harry potter and the deathly hallows part 1",
         "33.533",
         "2010-11-19 00:00:00",
         "7.7",
         "10788"
        ],
        [
         "1",
         "en",
         "how to train your dragon",
         "28.734",
         "2010-03-26 00:00:00",
         "7.7",
         "7610"
        ],
        [
         "2",
         "en",
         "iron man 2",
         "28.515",
         "2010-05-07 00:00:00",
         "6.8",
         "12368"
        ],
        [
         "3",
         "en",
         "toy story",
         "28.005",
         "1995-11-22 00:00:00",
         "7.9",
         "10174"
        ],
        [
         "4",
         "en",
         "inception",
         "27.92",
         "2010-07-16 00:00:00",
         "8.3",
         "22186"
        ]
       ],
       "shape": {
        "columns": 6,
        "rows": 5
       }
      },
      "text/html": [
       "<div>\n",
       "<style scoped>\n",
       "    .dataframe tbody tr th:only-of-type {\n",
       "        vertical-align: middle;\n",
       "    }\n",
       "\n",
       "    .dataframe tbody tr th {\n",
       "        vertical-align: top;\n",
       "    }\n",
       "\n",
       "    .dataframe thead th {\n",
       "        text-align: right;\n",
       "    }\n",
       "</style>\n",
       "<table border=\"1\" class=\"dataframe\">\n",
       "  <thead>\n",
       "    <tr style=\"text-align: right;\">\n",
       "      <th></th>\n",
       "      <th>original_language</th>\n",
       "      <th>movie_title</th>\n",
       "      <th>popularity</th>\n",
       "      <th>release_date</th>\n",
       "      <th>vote_average</th>\n",
       "      <th>vote_count</th>\n",
       "    </tr>\n",
       "  </thead>\n",
       "  <tbody>\n",
       "    <tr>\n",
       "      <th>0</th>\n",
       "      <td>en</td>\n",
       "      <td>harry potter and the deathly hallows part 1</td>\n",
       "      <td>33.533</td>\n",
       "      <td>2010-11-19</td>\n",
       "      <td>7.7</td>\n",
       "      <td>10788</td>\n",
       "    </tr>\n",
       "    <tr>\n",
       "      <th>1</th>\n",
       "      <td>en</td>\n",
       "      <td>how to train your dragon</td>\n",
       "      <td>28.734</td>\n",
       "      <td>2010-03-26</td>\n",
       "      <td>7.7</td>\n",
       "      <td>7610</td>\n",
       "    </tr>\n",
       "    <tr>\n",
       "      <th>2</th>\n",
       "      <td>en</td>\n",
       "      <td>iron man 2</td>\n",
       "      <td>28.515</td>\n",
       "      <td>2010-05-07</td>\n",
       "      <td>6.8</td>\n",
       "      <td>12368</td>\n",
       "    </tr>\n",
       "    <tr>\n",
       "      <th>3</th>\n",
       "      <td>en</td>\n",
       "      <td>toy story</td>\n",
       "      <td>28.005</td>\n",
       "      <td>1995-11-22</td>\n",
       "      <td>7.9</td>\n",
       "      <td>10174</td>\n",
       "    </tr>\n",
       "    <tr>\n",
       "      <th>4</th>\n",
       "      <td>en</td>\n",
       "      <td>inception</td>\n",
       "      <td>27.920</td>\n",
       "      <td>2010-07-16</td>\n",
       "      <td>8.3</td>\n",
       "      <td>22186</td>\n",
       "    </tr>\n",
       "  </tbody>\n",
       "</table>\n",
       "</div>"
      ],
      "text/plain": [
       "  original_language                                  movie_title  popularity  \\\n",
       "0                en  harry potter and the deathly hallows part 1      33.533   \n",
       "1                en                     how to train your dragon      28.734   \n",
       "2                en                                   iron man 2      28.515   \n",
       "3                en                                    toy story      28.005   \n",
       "4                en                                    inception      27.920   \n",
       "\n",
       "  release_date  vote_average  vote_count  \n",
       "0   2010-11-19           7.7       10788  \n",
       "1   2010-03-26           7.7        7610  \n",
       "2   2010-05-07           6.8       12368  \n",
       "3   1995-11-22           7.9       10174  \n",
       "4   2010-07-16           8.3       22186  "
      ]
     },
     "execution_count": 16,
     "metadata": {},
     "output_type": "execute_result"
    }
   ],
   "source": [
    "tmdb.head()"
   ]
  },
  {
   "cell_type": "code",
   "execution_count": 17,
   "id": "58199190",
   "metadata": {},
   "outputs": [],
   "source": [
    "language_map = {\n",
    "    'en': 'English',\n",
    "    'nl': 'Dutch',\n",
    "    'es': 'Spanish',\n",
    "    'ja': 'Japanese',\n",
    "    'sv': 'Swedish',\n",
    "    'de': 'German',\n",
    "    'fr': 'French',\n",
    "    'cn': 'Chinese (unspecified)',  \n",
    "    'it': 'Italian',\n",
    "    'ru': 'Russian',\n",
    "    'zh': 'Chinese',\n",
    "    'hi': 'Hindi',\n",
    "    'no': 'Norwegian',\n",
    "    'ko': 'Korean',\n",
    "    'da': 'Danish',\n",
    "    'fi': 'Finnish',\n",
    "    'pl': 'Polish',\n",
    "    'te': 'Telugu',\n",
    "    'hu': 'Hungarian',\n",
    "    'tr': 'Turkish',\n",
    "    'pt': 'Portuguese',\n",
    "    'he': 'Hebrew',\n",
    "    'fa': 'Persian (Farsi)',\n",
    "    'th': 'Thai',\n",
    "    'cs': 'Czech',\n",
    "    'et': 'Estonian',\n",
    "    'tl': 'Tagalog',\n",
    "    'lt': 'Lithuanian',\n",
    "    'xx': 'No Language / Unknown',\n",
    "    'bs': 'Bosnian',\n",
    "    'ar': 'Arabic',\n",
    "    'is': 'Icelandic',\n",
    "    'el': 'Greek',\n",
    "    'mr': 'Marathi',\n",
    "    'hr': 'Croatian',\n",
    "    'ro': 'Romanian',\n",
    "    'sr': 'Serbian',\n",
    "    'uk': 'Ukrainian',\n",
    "    'nb': 'Norwegian Bokmål',\n",
    "    'hz': 'Herero',\n",
    "    'ca': 'Catalan',\n",
    "    'bg': 'Bulgarian',\n",
    "    'sl': 'Slovenian',\n",
    "    'lv': 'Latvian',\n",
    "    'si': 'Sinhala',\n",
    "    'ab': 'Abkhazian',\n",
    "    'ta': 'Tamil',\n",
    "    'bo': 'Tibetan',\n",
    "    'id': 'Indonesian',\n",
    "    'sq': 'Albanian',\n",
    "    'bn': 'Bengali',\n",
    "    'gu': 'Gujarati',\n",
    "    'lo': 'Lao',\n",
    "    'ne': 'Nepali',\n",
    "    'kk': 'Kazakh',\n",
    "    'hy': 'Armenian',\n",
    "    'ps': 'Pashto',\n",
    "    'kn': 'Kannada',\n",
    "    'vi': 'Vietnamese',\n",
    "    'ku': 'Kurdish',\n",
    "    'ka': 'Georgian',\n",
    "    'ml': 'Malayalam',\n",
    "    'ur': 'Urdu',\n",
    "    'mi': 'Maori',\n",
    "    'eu': 'Basque',\n",
    "    'sn': 'Shona',\n",
    "    'cy': 'Welsh',\n",
    "    'ha': 'Hausa',\n",
    "    'ky': 'Kyrgyz',\n",
    "    'yi': 'Yiddish',\n",
    "    'pa': 'Punjabi',\n",
    "    'xh': 'Xhosa',\n",
    "    'cr': 'Cree',\n",
    "    'sw': 'Swahili',\n",
    "    'af': 'Afrikaans',\n",
    "    'dz': 'Dzongkha'\n",
    "}\n",
    "tmdb['original_language'] = tmdb['original_language'].map(language_map)"
   ]
  },
  {
   "cell_type": "code",
   "execution_count": 18,
   "id": "134e6c59",
   "metadata": {},
   "outputs": [
    {
     "data": {
      "application/vnd.microsoft.datawrangler.viewer.v0+json": {
       "columns": [
        {
         "name": "index",
         "rawType": "int64",
         "type": "integer"
        },
        {
         "name": "original_language",
         "rawType": "object",
         "type": "string"
        },
        {
         "name": "movie_title",
         "rawType": "object",
         "type": "string"
        },
        {
         "name": "popularity",
         "rawType": "float64",
         "type": "float"
        },
        {
         "name": "release_date",
         "rawType": "datetime64[ns]",
         "type": "datetime"
        },
        {
         "name": "vote_average",
         "rawType": "float64",
         "type": "float"
        },
        {
         "name": "vote_count",
         "rawType": "int64",
         "type": "integer"
        }
       ],
       "ref": "85395b10-bb45-42b5-8ddb-d1fc522982c1",
       "rows": [
        [
         "0",
         "English",
         "harry potter and the deathly hallows part 1",
         "33.533",
         "2010-11-19 00:00:00",
         "7.7",
         "10788"
        ],
        [
         "1",
         "English",
         "how to train your dragon",
         "28.734",
         "2010-03-26 00:00:00",
         "7.7",
         "7610"
        ],
        [
         "2",
         "English",
         "iron man 2",
         "28.515",
         "2010-05-07 00:00:00",
         "6.8",
         "12368"
        ],
        [
         "3",
         "English",
         "toy story",
         "28.005",
         "1995-11-22 00:00:00",
         "7.9",
         "10174"
        ],
        [
         "4",
         "English",
         "inception",
         "27.92",
         "2010-07-16 00:00:00",
         "8.3",
         "22186"
        ],
        [
         "5",
         "English",
         "percy jackson  the olympians the lightning thief",
         "26.691",
         "2010-02-11 00:00:00",
         "6.1",
         "4229"
        ],
        [
         "6",
         "English",
         "avatar",
         "26.526",
         "2009-12-18 00:00:00",
         "7.4",
         "18676"
        ],
        [
         "7",
         "English",
         "toy story 3",
         "24.445",
         "2010-06-17 00:00:00",
         "7.7",
         "8340"
        ],
        [
         "8",
         "English",
         "despicable me",
         "23.673",
         "2010-07-09 00:00:00",
         "7.2",
         "10057"
        ],
        [
         "9",
         "English",
         "megamind",
         "22.855",
         "2010-11-04 00:00:00",
         "6.8",
         "3635"
        ],
        [
         "10",
         "English",
         "toy story 2",
         "22.698",
         "1999-11-24 00:00:00",
         "7.5",
         "7553"
        ],
        [
         "11",
         "English",
         "alice in wonderland",
         "22.02",
         "2010-03-05 00:00:00",
         "6.6",
         "8713"
        ],
        [
         "12",
         "English",
         "the expendables",
         "21.517",
         "2010-08-03 00:00:00",
         "6.1",
         "4647"
        ],
        [
         "13",
         "English",
         "tangled",
         "21.511",
         "2010-11-24 00:00:00",
         "7.5",
         "6407"
        ],
        [
         "14",
         "English",
         "saw 3d",
         "20.37",
         "2010-10-28 00:00:00",
         "6.0",
         "1488"
        ],
        [
         "15",
         "English",
         "the twilight saga eclipse",
         "20.34",
         "2010-06-23 00:00:00",
         "6.0",
         "4909"
        ],
        [
         "16",
         "English",
         "the book of eli",
         "18.985",
         "2010-01-11 00:00:00",
         "6.7",
         "3495"
        ],
        [
         "17",
         "Dutch",
         "lellebelle",
         "18.586",
         "2010-10-09 00:00:00",
         "4.5",
         "36"
        ],
        [
         "18",
         "English",
         "the bourne supremacy",
         "18.199",
         "2004-07-23 00:00:00",
         "7.3",
         "4367"
        ],
        [
         "19",
         "English",
         "shutter island",
         "18.06",
         "2010-02-18 00:00:00",
         "8.1",
         "12625"
        ],
        [
         "20",
         "English",
         "the bourne identity",
         "17.935",
         "2002-06-14 00:00:00",
         "7.4",
         "5406"
        ],
        [
         "21",
         "English",
         "knight and day",
         "17.713",
         "2010-06-23 00:00:00",
         "6.0",
         "2494"
        ],
        [
         "22",
         "English",
         "the chronicles of narnia the voyage of the dawn treader",
         "17.382",
         "2010-12-10 00:00:00",
         "6.3",
         "3196"
        ],
        [
         "23",
         "English",
         "step up 3d",
         "17.174",
         "2010-08-06 00:00:00",
         "6.7",
         "1160"
        ],
        [
         "24",
         "English",
         "the ateam",
         "17.097",
         "2010-06-11 00:00:00",
         "6.3",
         "2703"
        ],
        [
         "25",
         "English",
         "the kings speech",
         "16.798",
         "2010-09-06 00:00:00",
         "7.7",
         "5013"
        ],
        [
         "26",
         "English",
         "bad boys",
         "16.608",
         "1995-04-07 00:00:00",
         "6.6",
         "2936"
        ],
        [
         "27",
         "English",
         "the last airbender",
         "16.595",
         "2010-07-01 00:00:00",
         "4.6",
         "2143"
        ],
        [
         "28",
         "English",
         "predators",
         "16.216",
         "2010-07-03 00:00:00",
         "6.1",
         "1979"
        ],
        [
         "29",
         "English",
         "the social network",
         "15.889",
         "2010-10-01 00:00:00",
         "7.2",
         "6116"
        ],
        [
         "30",
         "English",
         "undisputed iii redemption",
         "15.886",
         "2010-05-22 00:00:00",
         "7.4",
         "302"
        ],
        [
         "31",
         "English",
         "apollo 13",
         "15.855",
         "1995-06-30 00:00:00",
         "7.4",
         "2821"
        ],
        [
         "32",
         "English",
         "armageddon",
         "15.799",
         "1998-07-01 00:00:00",
         "6.7",
         "4267"
        ],
        [
         "33",
         "English",
         "the bourne ultimatum",
         "15.62",
         "2007-08-03 00:00:00",
         "7.4",
         "4440"
        ],
        [
         "34",
         "English",
         "clash of the titans",
         "15.574",
         "2010-04-02 00:00:00",
         "5.7",
         "3714"
        ],
        [
         "35",
         "English",
         "the backup plan",
         "15.49",
         "2010-04-23 00:00:00",
         "6.0",
         "806"
        ],
        [
         "36",
         "English",
         "robin hood",
         "15.444",
         "2010-05-14 00:00:00",
         "6.3",
         "2569"
        ],
        [
         "37",
         "English",
         "nanny mcphee and the big bang",
         "15.213",
         "2010-08-20 00:00:00",
         "6.1",
         "953"
        ],
        [
         "38",
         "English",
         "shrek forever after",
         "15.041",
         "2010-05-16 00:00:00",
         "6.1",
         "3843"
        ],
        [
         "39",
         "English",
         "easy a",
         "14.69",
         "2010-09-17 00:00:00",
         "6.8",
         "4168"
        ],
        [
         "40",
         "English",
         "the sorcerers apprentice",
         "14.463",
         "2010-07-13 00:00:00",
         "5.9",
         "2879"
        ],
        [
         "41",
         "English",
         "scott pilgrim vs the world",
         "14.383",
         "2010-08-13 00:00:00",
         "7.3",
         "3882"
        ],
        [
         "42",
         "English",
         "grown ups",
         "14.291",
         "2010-06-24 00:00:00",
         "6.1",
         "3171"
        ],
        [
         "43",
         "English",
         "some like it hot",
         "14.2",
         "1959-03-18 00:00:00",
         "8.2",
         "1562"
        ],
        [
         "44",
         "English",
         "faster",
         "14.172",
         "2010-11-23 00:00:00",
         "6.2",
         "895"
        ],
        [
         "45",
         "English",
         "the wolfman",
         "14.03",
         "2010-02-12 00:00:00",
         "5.7",
         "1009"
        ],
        [
         "46",
         "English",
         "unstoppable",
         "14.01",
         "2010-11-12 00:00:00",
         "6.4",
         "1913"
        ],
        [
         "47",
         "English",
         "black swan",
         "13.745",
         "2010-12-03 00:00:00",
         "7.6",
         "8374"
        ],
        [
         "48",
         "English",
         "tinker bell and the great fairy rescue",
         "13.724",
         "2010-09-21 00:00:00",
         "6.5",
         "451"
        ],
        [
         "49",
         "Spanish",
         "tres metros sobre el cielo",
         "13.721",
         "2010-12-20 00:00:00",
         "7.5",
         "960"
        ]
       ],
       "shape": {
        "columns": 6,
        "rows": 26517
       }
      },
      "text/html": [
       "<div>\n",
       "<style scoped>\n",
       "    .dataframe tbody tr th:only-of-type {\n",
       "        vertical-align: middle;\n",
       "    }\n",
       "\n",
       "    .dataframe tbody tr th {\n",
       "        vertical-align: top;\n",
       "    }\n",
       "\n",
       "    .dataframe thead th {\n",
       "        text-align: right;\n",
       "    }\n",
       "</style>\n",
       "<table border=\"1\" class=\"dataframe\">\n",
       "  <thead>\n",
       "    <tr style=\"text-align: right;\">\n",
       "      <th></th>\n",
       "      <th>original_language</th>\n",
       "      <th>movie_title</th>\n",
       "      <th>popularity</th>\n",
       "      <th>release_date</th>\n",
       "      <th>vote_average</th>\n",
       "      <th>vote_count</th>\n",
       "    </tr>\n",
       "  </thead>\n",
       "  <tbody>\n",
       "    <tr>\n",
       "      <th>0</th>\n",
       "      <td>English</td>\n",
       "      <td>harry potter and the deathly hallows part 1</td>\n",
       "      <td>33.533</td>\n",
       "      <td>2010-11-19</td>\n",
       "      <td>7.7</td>\n",
       "      <td>10788</td>\n",
       "    </tr>\n",
       "    <tr>\n",
       "      <th>1</th>\n",
       "      <td>English</td>\n",
       "      <td>how to train your dragon</td>\n",
       "      <td>28.734</td>\n",
       "      <td>2010-03-26</td>\n",
       "      <td>7.7</td>\n",
       "      <td>7610</td>\n",
       "    </tr>\n",
       "    <tr>\n",
       "      <th>2</th>\n",
       "      <td>English</td>\n",
       "      <td>iron man 2</td>\n",
       "      <td>28.515</td>\n",
       "      <td>2010-05-07</td>\n",
       "      <td>6.8</td>\n",
       "      <td>12368</td>\n",
       "    </tr>\n",
       "    <tr>\n",
       "      <th>3</th>\n",
       "      <td>English</td>\n",
       "      <td>toy story</td>\n",
       "      <td>28.005</td>\n",
       "      <td>1995-11-22</td>\n",
       "      <td>7.9</td>\n",
       "      <td>10174</td>\n",
       "    </tr>\n",
       "    <tr>\n",
       "      <th>4</th>\n",
       "      <td>English</td>\n",
       "      <td>inception</td>\n",
       "      <td>27.920</td>\n",
       "      <td>2010-07-16</td>\n",
       "      <td>8.3</td>\n",
       "      <td>22186</td>\n",
       "    </tr>\n",
       "    <tr>\n",
       "      <th>...</th>\n",
       "      <td>...</td>\n",
       "      <td>...</td>\n",
       "      <td>...</td>\n",
       "      <td>...</td>\n",
       "      <td>...</td>\n",
       "      <td>...</td>\n",
       "    </tr>\n",
       "    <tr>\n",
       "      <th>26512</th>\n",
       "      <td>English</td>\n",
       "      <td>laboratory conditions</td>\n",
       "      <td>0.600</td>\n",
       "      <td>2018-10-13</td>\n",
       "      <td>0.0</td>\n",
       "      <td>1</td>\n",
       "    </tr>\n",
       "    <tr>\n",
       "      <th>26513</th>\n",
       "      <td>English</td>\n",
       "      <td>exhibit84xxx</td>\n",
       "      <td>0.600</td>\n",
       "      <td>2018-05-01</td>\n",
       "      <td>0.0</td>\n",
       "      <td>1</td>\n",
       "    </tr>\n",
       "    <tr>\n",
       "      <th>26514</th>\n",
       "      <td>English</td>\n",
       "      <td>the last one</td>\n",
       "      <td>0.600</td>\n",
       "      <td>2018-10-01</td>\n",
       "      <td>0.0</td>\n",
       "      <td>1</td>\n",
       "    </tr>\n",
       "    <tr>\n",
       "      <th>26515</th>\n",
       "      <td>English</td>\n",
       "      <td>trailer made</td>\n",
       "      <td>0.600</td>\n",
       "      <td>2018-06-22</td>\n",
       "      <td>0.0</td>\n",
       "      <td>1</td>\n",
       "    </tr>\n",
       "    <tr>\n",
       "      <th>26516</th>\n",
       "      <td>English</td>\n",
       "      <td>the church</td>\n",
       "      <td>0.600</td>\n",
       "      <td>2018-10-05</td>\n",
       "      <td>0.0</td>\n",
       "      <td>1</td>\n",
       "    </tr>\n",
       "  </tbody>\n",
       "</table>\n",
       "<p>26517 rows × 6 columns</p>\n",
       "</div>"
      ],
      "text/plain": [
       "      original_language                                  movie_title  \\\n",
       "0               English  harry potter and the deathly hallows part 1   \n",
       "1               English                     how to train your dragon   \n",
       "2               English                                   iron man 2   \n",
       "3               English                                    toy story   \n",
       "4               English                                    inception   \n",
       "...                 ...                                          ...   \n",
       "26512           English                        laboratory conditions   \n",
       "26513           English                                 exhibit84xxx   \n",
       "26514           English                                 the last one   \n",
       "26515           English                                 trailer made   \n",
       "26516           English                                   the church   \n",
       "\n",
       "       popularity release_date  vote_average  vote_count  \n",
       "0          33.533   2010-11-19           7.7       10788  \n",
       "1          28.734   2010-03-26           7.7        7610  \n",
       "2          28.515   2010-05-07           6.8       12368  \n",
       "3          28.005   1995-11-22           7.9       10174  \n",
       "4          27.920   2010-07-16           8.3       22186  \n",
       "...           ...          ...           ...         ...  \n",
       "26512       0.600   2018-10-13           0.0           1  \n",
       "26513       0.600   2018-05-01           0.0           1  \n",
       "26514       0.600   2018-10-01           0.0           1  \n",
       "26515       0.600   2018-06-22           0.0           1  \n",
       "26516       0.600   2018-10-05           0.0           1  \n",
       "\n",
       "[26517 rows x 6 columns]"
      ]
     },
     "execution_count": 18,
     "metadata": {},
     "output_type": "execute_result"
    }
   ],
   "source": [
    "tmdb"
   ]
  },
  {
   "cell_type": "markdown",
   "id": "a4ca4b7a",
   "metadata": {},
   "source": [
    "------------"
   ]
  },
  {
   "cell_type": "markdown",
   "id": "3c265d74",
   "metadata": {},
   "source": [
    "## Cleaning and Understanding `bom_movie`"
   ]
  },
  {
   "cell_type": "code",
   "execution_count": 19,
   "id": "c3ae051d",
   "metadata": {},
   "outputs": [
    {
     "name": "stdout",
     "output_type": "stream",
     "text": [
      "(3387, 5)\n",
      "<class 'pandas.core.frame.DataFrame'>\n",
      "RangeIndex: 3387 entries, 0 to 3386\n",
      "Data columns (total 5 columns):\n",
      " #   Column          Non-Null Count  Dtype  \n",
      "---  ------          --------------  -----  \n",
      " 0   title           3387 non-null   object \n",
      " 1   studio          3382 non-null   object \n",
      " 2   domestic_gross  3359 non-null   float64\n",
      " 3   foreign_gross   2037 non-null   object \n",
      " 4   year            3387 non-null   int64  \n",
      "dtypes: float64(1), int64(1), object(3)\n",
      "memory usage: 132.4+ KB\n",
      "None\n",
      "Index(['title', 'studio', 'domestic_gross', 'foreign_gross', 'year'], dtype='object')\n"
     ]
    },
    {
     "data": {
      "text/plain": [
       "np.int64(0)"
      ]
     },
     "execution_count": 19,
     "metadata": {},
     "output_type": "execute_result"
    }
   ],
   "source": [
    "bom_cp = bom_movie.copy(deep=True)\n",
    "print(bom_cp.shape)\n",
    "print(bom_cp.info())\n",
    "bom_cp.head()\n",
    "bom_cp.tail()\n",
    "print(bom_cp.columns)\n",
    "bom_cp.duplicated().sum()"
   ]
  },
  {
   "cell_type": "code",
   "execution_count": 20,
   "id": "08aa2dca",
   "metadata": {},
   "outputs": [],
   "source": [
    "bom_cp = bom_cp.rename(columns={\n",
    "    \"title\":\"movie_title\"\n",
    "})\n",
    "clean_title(bom_cp, \"movie_title\")\n",
    "bom_cp = bom_cp.drop(columns=['foreign_gross', 'year', 'domestic_gross', 'studio'])\n",
    "budget_df = budget.merge(bom_cp, on='movie_title', how='left')"
   ]
  },
  {
   "cell_type": "markdown",
   "id": "400ee6c2",
   "metadata": {},
   "source": [
    "----------"
   ]
  },
  {
   "cell_type": "code",
   "execution_count": 21,
   "id": "6d86bd7c",
   "metadata": {},
   "outputs": [
    {
     "name": "stdout",
     "output_type": "stream",
     "text": [
      "(1560, 12)\n",
      "<class 'pandas.core.frame.DataFrame'>\n",
      "RangeIndex: 1560 entries, 0 to 1559\n",
      "Data columns (total 12 columns):\n",
      " #   Column        Non-Null Count  Dtype \n",
      "---  ------        --------------  ----- \n",
      " 0   id            1560 non-null   int64 \n",
      " 1   synopsis      1498 non-null   object\n",
      " 2   rating        1557 non-null   object\n",
      " 3   genre         1552 non-null   object\n",
      " 4   director      1361 non-null   object\n",
      " 5   writer        1111 non-null   object\n",
      " 6   theater_date  1201 non-null   object\n",
      " 7   dvd_date      1201 non-null   object\n",
      " 8   currency      340 non-null    object\n",
      " 9   box_office    340 non-null    object\n",
      " 10  runtime       1530 non-null   object\n",
      " 11  studio        494 non-null    object\n",
      "dtypes: int64(1), object(11)\n",
      "memory usage: 146.4+ KB\n",
      "None\n",
      "Index(['id', 'synopsis', 'rating', 'genre', 'director', 'writer',\n",
      "       'theater_date', 'dvd_date', 'currency', 'box_office', 'runtime',\n",
      "       'studio'],\n",
      "      dtype='object')\n"
     ]
    },
    {
     "data": {
      "application/vnd.microsoft.datawrangler.viewer.v0+json": {
       "columns": [
        {
         "name": "index",
         "rawType": "int64",
         "type": "integer"
        },
        {
         "name": "id",
         "rawType": "int64",
         "type": "integer"
        },
        {
         "name": "synopsis",
         "rawType": "object",
         "type": "unknown"
        },
        {
         "name": "rating",
         "rawType": "object",
         "type": "unknown"
        },
        {
         "name": "genre",
         "rawType": "object",
         "type": "unknown"
        },
        {
         "name": "director",
         "rawType": "object",
         "type": "unknown"
        },
        {
         "name": "writer",
         "rawType": "object",
         "type": "unknown"
        },
        {
         "name": "theater_date",
         "rawType": "object",
         "type": "unknown"
        },
        {
         "name": "dvd_date",
         "rawType": "object",
         "type": "unknown"
        },
        {
         "name": "currency",
         "rawType": "object",
         "type": "unknown"
        },
        {
         "name": "box_office",
         "rawType": "object",
         "type": "unknown"
        },
        {
         "name": "runtime",
         "rawType": "object",
         "type": "unknown"
        },
        {
         "name": "studio",
         "rawType": "object",
         "type": "unknown"
        }
       ],
       "ref": "46e44e46-f01a-4a06-a36b-52b4af03ce11",
       "rows": [
        [
         "0",
         "1",
         "This gritty, fast-paced, and innovative police drama earned five Academy Awards, including Best Picture, Best Adapted Screenplay (written by Ernest Tidyman), and Best Actor (Gene Hackman). Jimmy \"Popeye\" Doyle (Hackman) and his partner, Buddy Russo (Roy Scheider), are New York City police detectives on narcotics detail, trying to track down the source of heroin from Europe into the United States. Suave Alain Charnier (Fernando Rey) is the French drug kingpin who provides a large percentage of New York City's dope, and Pierre Nicoli (Marcel Bozzuffi) is a hired killer and Charnier's right-hand man. Acting on a hunch, Popeye and Buddy start tailing Sal Boca (Tony Lo Bianco) and his wife, Angie (Arlene Faber), who live pretty high for a couple whose corner store brings in about 7,000 dollars a year. It turns out Popeye's suspicions are right -- Sal and Angie are the New York agents for Charnier, who will be smuggling 32 million dollars' worth of heroin into the city in a car shipped over from France. The French Connection broke plenty of new ground for screen thrillers; Popeye Doyle was a highly unusual \"hero,\" an often violent, racist, and mean-spirited cop whose dedication to his job fell just short of dangerous obsession. The film's high point, a high-speed car chase with Popeye tailing an elevated train, was one of the most viscerally exciting screen moments of its day and set the stage for dozens of action sequences to follow. And the film's grimy realism (and downbeat ending) was a big change from the buff-and-shine gloss and good-guys-always-win heroics of most police dramas that preceded it. The French Connection was inspired by a true story, and Eddie Egan and Sonny Grosso, Popeye and Buddy's real life counterparts, both have small roles in the film. A sequel followed four years later.",
         "R",
         "Action and Adventure|Classics|Drama",
         "William Friedkin",
         "Ernest Tidyman",
         "Oct 9, 1971",
         "Sep 25, 2001",
         null,
         null,
         "104 minutes",
         null
        ],
        [
         "1",
         "3",
         "New York City, not-too-distant-future: Eric Packer, a 28 year-old finance golden boy dreaming of living in a civilization ahead of this one, watches a dark shadow cast over the firmament of the Wall Street galaxy, of which he is the uncontested king. As he is chauffeured across midtown Manhattan to get a haircut at his father's old barber, his anxious eyes are glued to the yuan's exchange rate: it is mounting against all expectations, destroying Eric's bet against it. Eric Packer is losing his empire with every tick of the clock. Meanwhile, an eruption of wild activity unfolds in the city's streets. Petrified as the threats of the real world infringe upon his cloud of virtual convictions, his paranoia intensifies during the course of his 24-hour cross-town odyssey. Packer starts to piece together clues that lead him to a most terrifying secret: his imminent assassination. -- (C) Official Site",
         "R",
         "Drama|Science Fiction and Fantasy",
         "David Cronenberg",
         "David Cronenberg|Don DeLillo",
         "Aug 17, 2012",
         "Jan 1, 2013",
         "$",
         "600,000",
         "108 minutes",
         "Entertainment One"
        ],
        [
         "2",
         "5",
         "Illeana Douglas delivers a superb performance as Denise Waverly, a fictional singer and songwriter whose life bears more than a passing resemblance to that of real-life pop star Carole King. Edna Buxton, the daughter of a Philadelphia steel tycoon, aspires to a career as a singer, and when against her mother's bidding she sings a sultry version of \"Hey There (You With the Stars in Your Eyes)\" (instead of Mom's choice, \"You'll Never Walk Alone\") at a talent contest, she wins a recording contact and moves to New York City. She cuts a record and gains a new stage name, Denise Waverly; however, she soon finds that girl singers are a dime a dozen in the Big Apple and her career as a vocalist goes nowhere. But she has a knack for writing songs, and eccentric producer Joel Milner (John Turturro) asks her to pen some songs for his upcoming projects. Teamed with Howard Caszatt (Eric Stoltz), a hipster songwriter who wants to express his political and social ideals through pop tunes, she finds both a successful collaborator and husband. While her work with Howard gains Denise writing credits on a string of hit records and respect within the industry, their marriage falls apart, and she becomes involved with Jay Phillips (Matt Dillon), the gifted but unstable leader of a popular West Coast surf music combo. Students of pop music history will have a ball with the various characters modeled after real-life rock legends, and the 1960s-style song score includes numbers written by Joni Mitchell and J. Mascis (of the band Dinosaur Jr.), as well as one-time King collaborator Gerry Goffin; a collaboration between Elvis Costello and Burt Bacharach, \"God Give Me Strength,\" led to a full album written by the two great tunesmiths.",
         "R",
         "Drama|Musical and Performing Arts",
         "Allison Anders",
         "Allison Anders",
         "Sep 13, 1996",
         "Apr 18, 2000",
         null,
         null,
         "116 minutes",
         null
        ],
        [
         "3",
         "6",
         "Michael Douglas runs afoul of a treacherous supervisor in this film version of Michael Crichton's novel. Douglas plays Tom Sanders, an executive at DigiCom, a leading computer software firm. DigiCom is about to launch a new virtual reality-based data storage system that is expected to revolutionize the industry, and Bob Garvin (Donald Sutherland), the owner of the company, is in the midst of negotiating a merger that could bring",
         "R",
         "Drama|Mystery and Suspense",
         "Barry Levinson",
         "Paul Attanasio|Michael Crichton",
         "Dec 9, 1994",
         "Aug 27, 1997",
         null,
         null,
         "128 minutes",
         null
        ],
        [
         "4",
         "7",
         null,
         "NR",
         "Drama|Romance",
         "Rodney Bennett",
         "Giles Cooper",
         null,
         null,
         null,
         null,
         "200 minutes",
         null
        ],
        [
         "5",
         "8",
         "The year is 1942. As the Allies unite overseas to keep the world safe for democracy, there are voices at home that are barely heard. One of them belongs to Willie Morris, a shy and gawky eight-year-old whose childhood is even more quiet and isolated than his home town of Yazoo, Mississippi. An only child, ignored at school and uncomfortable with girls, Willie looks up to and confides in next-door neighbor Dink Jenkins, the town's star athlete, who's preparing to ship out in the service of Uncle Sam. Willie's father, Jack Morris, a stern but good-hearted veteran who lost his leg in the Spanish Civil War, is chiefly responsible for Willie's overprotective upbringing. Pushing in the other direction is his mother, Ellen Morris, a capable woman who knows that what Willie needs most is some freedom and a friend. Willie's ninth birthday gives her an opportunity to offer him both, in the form of a Jack Russell terrier puppy that the delighted Willie names Skip. Skip's outgoing personality helps Willie to build a friendship with Rivers Applewhite, the prettiest girl in school. Skip then further serves as matchmaker for Willie and Rivers at the movie theater, and lends a paw after Willie is challenged by Big Boy Wilkinson, Henjie Henick and Spit McGee to prove his worth in a football game. With Skip's canine help, Willie starts becoming \"one of the boys.\" Then unexpectedly, Dink returns to Yazoo. But the dark truth soon emerges: Dink, when confronted by the realities of war, went AWOL. In trying to reconcile his hero worship of the Dink he once knew with his disappointment in the disgraced soldier, Willie begins to contend with the complexities of war and human conduct. He reaches a new perspective on these matters through his father's eyes and his own. Dink fails to show up at Willie's first baseball game, and the disappointed Willie takes it out on Skip, who runs away. The dog's disappearance and subsequent recovery teach Willie the strength of forgiveness, and give Dink a chance to embrace the power of redemption. Ultimately, it is a dog's love that teaches Willie Morris lifelong lessons of the human spirit.",
         "PG",
         "Drama|Kids and Family",
         "Jay Russell",
         "Gail Gilchriest",
         "Mar 3, 2000",
         "Jul 11, 2000",
         null,
         null,
         "95 minutes",
         "Warner Bros. Pictures"
        ],
        [
         "6",
         "10",
         "Some cast and crew from NBC's highly acclaimed, little-seen series Freaks and Geeks reunite for this teen comedy that also marks the first starring role for Tom Hanks' son, Colin. The younger Hanks plays Shaun Brumder, a high schooler eager to propel himself out of the land of surf bums and ranch homes to which the film's title refers. He's had his sights set on Stanford ever since he read the works of professor Marcus Skinner (Kevin Kline), and his transcript is stellar enough to gain him admission. Shaun is understandably furious, then, when he receives a rejection letter in the mail; after some detective work on his part, he realizes that his flaky counselor (Lily Tomlin) mistakenly sent the university the wrong papers. It's up to him to get to Stanford within 24 hours to set the record straight -- literally -- and he enlists the help of his slacker brother Lance (Jack Black) to do so. Orange County co-stars Catharine O'Hara and John Lithgow as Shaun and Lance's slightly unhinged parents; the film was directed by Jake Kasdan and written by Mike White, both of whom contributed to several episodes of Freaks and Geeks.",
         "PG-13",
         "Comedy",
         "Jake Kasdan",
         "Mike White",
         "Jan 11, 2002",
         "Jun 18, 2002",
         "$",
         "41,032,915",
         "82 minutes",
         "Paramount Pictures"
        ],
        [
         "7",
         "13",
         "Stewart Kane, an Irishman living in the Australian town of Jindabyne, is on a fishing trip in isolated hill country with three other men when they discover the body of a murdered girl in the river. Rather than return to the town immediately, they continue fishing and report their gruesome find days later. Stewart's wife Claire is the last to find out. Deeply disturbed by her husband's actions, her faith in her relationship with Stewart is shaken to the core. She wants to understand and tries to make things right. In her determination to help the victim's family Claire sets herself not only against her own family and friends but also those of the dead girl. Her marriage is taken to the brink and her peaceful life with Stewart and their young son hangs in the balance.",
         "R",
         "Drama",
         "Ray Lawrence",
         "Raymond Carver|Beatrix Christian",
         "Apr 27, 2006",
         "Oct 2, 2007",
         "$",
         "224,114",
         "123 minutes",
         "Sony Pictures Classics"
        ],
        [
         "8",
         "14",
         "\"Love Ranch\" is a bittersweet love story that turns explosive when the players in a romantic triangle lose control and cross the line. Set in the late-1970s, the film depicts larger than life personalities living on the edge, Grace Bontempo and Charlie Bontempo, the husband and wife team who own and run Nevada's first legalized brothel. Their lives are suddenly altered when Armando Bruza, a husky, world famous heavy weight boxer from South America is brought to the Ranch to train as part of Charlie's ever-expanding entrepreneurial empire. Plans quickly go awry when Bruza comes between Grace and Charlie as an unforeseen love triangle develops that erupts into uncontrollable passion and murder.",
         "R",
         "Drama",
         "Taylor Hackford",
         "Mark Jacobson",
         "Jun 30, 2010",
         "Nov 9, 2010",
         "$",
         "134,904",
         "117 minutes",
         null
        ],
        [
         "9",
         "15",
         "When a diamond expedition in the Congo is lost, a scientist is sent in to find out what happened. Tagging along is an primatologist taking a trained gorilla back to the wild and a Romanian treasure hunter. Jungle adventure flick is fun but never realistic.",
         "PG-13",
         "Action and Adventure|Mystery and Suspense|Science Fiction and Fantasy",
         "Frank Marshall",
         "John Patrick Shanley",
         "Jun 9, 1995",
         "Jul 27, 1999",
         null,
         null,
         "108 minutes",
         null
        ],
        [
         "10",
         "17",
         null,
         null,
         null,
         null,
         null,
         null,
         null,
         null,
         null,
         null,
         null
        ],
        [
         "11",
         "18",
         "In 1979, Bill Viola and Frank Caliguri dreamed up a contest pitting barroom bigmouths against wrestlers, martial artists, boxers, bouncers and brawlers, billed as no-holds-barred new type of competitive fighting. When the fights succeeded beyond their wildest expectations, they were swept up in a chain of events that ended in the first mixed-martial arts ban in the nation. \"Tough Guys\" chronicles the inception of Caliguri and Viola's first bouts and the colorful, crazy cast of fighters who made them a hit as well as the politicians who brought it all crashing down. The film brings to life a moment when the national martial arts craze was building to a crescendo as the economies of Pennsylvania steel towns were plummeting to levels of unemployment never seen, breeding desperate men looking for a chance to prove their worth and make some money in the ring.",
         "NR",
         "Documentary",
         null,
         "Robert Zullo",
         null,
         null,
         null,
         null,
         null,
         "Showtime Documentary Films"
        ],
        [
         "12",
         "19",
         "While Microsoft may be the biggest software company in the world, not every computer user is a fan of their products, or their way of doing business. While Microsoft's Windows became the most widely used operating system for personal computers in the world, many experts took issue with Microsoft's strict policies regarding licensing, ownership, distribution, and alteration of their software. The objections of many high-profile technology experts, most notably Richard Stallman, led to what has become known as \"the Open Source Movement,\" which is centered on the belief that computer software should be free both in the economic and intellectual senses of the word. Eventually, one of Stallman's admirers, Linus Torvalds, created a new operating system called Linux, a freely distributed software which many programmers consider to be markedly superior to Windows. Revolution OS is a documentary that examines the genesis of the Open Source Movement, and explores and explains the technical and intellectual issues involved in a manner understandable to computer aficionados and non-techheads alike.",
         "NR",
         "Documentary|Special Interest",
         null,
         null,
         "Aug 23, 2002",
         "Sep 30, 2003",
         null,
         null,
         "90 minutes",
         "Seventh Art Releasing"
        ],
        [
         "13",
         "20",
         "Rachel (Britt Ekland) is an Amish girl who rejects her religious upbringing and travels to the big city. She meets Raymond Paine (Jason Robards) and Billy Minsky (Elliot Gould) who put her on stage. A sensual striptease emerges from what was supposed to be a religious dance, eventually causing the cops to bust the place. Soon her father comes after his daughter who by now is coveted by gangsters. Forrest Tucker plays gangster Trim Houlihan, the quick-tempered Irishman. The film accurately reflects the mood of the burlesque halls which had died out by the time the feature was released. Veteran comic Burt Lahr, one of the last true burlesque and vaudeville performers, makes his last film appearance as Professor Spats. British comedian Norman Wisdom steals the show in his role as Chick Williams. Rudy Valee, the top crooning heartthrob of the 1920s, narrates and sings a few songs. The surviving Minsky brother Morton acted as technical advisor for this song and dance filled slice of Americana. Burlesque had all but died out by the time the film was release, and this feature accurately recalls the bygone era that started before talking pictures and even radio were mainstream items.",
         "PG-13",
         "Classics|Comedy|Drama",
         "William Friedkin",
         "Sidney Michaels|Arnold Schulman|Norman Lear",
         "Dec 22, 1968",
         "May 20, 2008",
         null,
         null,
         "97 minutes",
         null
        ],
        [
         "14",
         "21",
         "Old-school comic Rodney \"I get no respect\" Dangerfield headlines this broad-based comedy satire of trashy '90s-style television talk-shows. He plays the title host of an afternoon show that has become so sleazy that all but his most die-hard fans have stopped watching. Studio executive Lenny Spencer (Burt Reynolds) is so disgusted, that he gives Sparks one week to improve the ratings or else. To this end, Sparks attends a special reception hosted by his arch nemesis, ultra-conservative Governor Floyd Preston (David Ogden Stiers).",
         "R",
         "Comedy",
         "Peter Baldwin",
         "Rodney Dangerfield|Harry Basil",
         "Jan 31, 1997",
         "Sep 20, 1999",
         null,
         null,
         "106 minutes",
         null
        ],
        [
         "15",
         "22",
         "Two-time Academy Award Winner Kevin Spacey gives the performance of a lifetime in CASINO JACK, a riotous new film starring Spacey as a man hell bent on acquiring all that the good life has to offer. He plays in the same game as the highest of rollers and resorts to awe-inspiring levels of conning, scheming and fraudulent antics to get what he wants. Inspired by true events that are too over-the-top for even the wildest imaginations to conjure, CASINO JACK lays bare the wild excesses and escapades of Jack Abramoff. Aided by his business partner Michael Scanlon (Barry Pepper), Jack parlays his clout over some of the world's most powerful men with the goal of creating a personal empire of wealth and influence. When the two enlist a mob-connected buddy (Jon Lovitz) to help with one of their illegal schemes, they soon find themselves in over their heads, entrenched in a world of mafia assassins, murder and a scandal that spins so out of control that it makes worldwide headlines. Directed by George Hickenlooper (FACTORY GIRL, THE MAN FROM ELYSIAN FIELDS), CASINO JACK returns Spacey to the type of role that made him famous - a cool-headed, articulate snake charmer whose wild ambitions knows no limits or boundaries. The film also stars Kelly Preston and Rachelle Lefevre and is produced by Gary Howsam, Bill Marks and George Vitetzakis from an original screenplay by Norman Snider. Executive Producers are Richard Rionda Del Castro, Lewin Webb, Donald Zuckerman, Dana Brunetti, Patricia Eberle, Warren Nimchuk, Angelo Paletta and Domenic Serafino. The Associate Producer is Rick Chad. -- (C) Art Takes Over",
         "R",
         "Comedy|Drama|Mystery and Suspense",
         "George Hickenlooper",
         "Norman Snider",
         "Dec 17, 2010",
         "Apr 5, 2011",
         "$",
         "1,039,869",
         "108 minutes",
         "ATO Pictures"
        ],
        [
         "16",
         "23",
         "A fictional film set in the alluring world of one of the most stunning scandals to rock our nation, American Hustle tells the story of brilliant con man Irving Rosenfeld (Christian Bale), who along with his equally cunning and seductive British partner Sydney Prosser (Amy Adams) is forced to work for a wild FBI agent Richie DiMaso (Bradley Cooper). DiMaso pushes them into a world of Jersey powerbrokers and mafia that's as dangerous as it is enchanting. Jeremy Renner is Carmine Polito, the passionate, volatile, New Jersey political operator caught between the con-artists and Feds. Irving's unpredictable wife Rosalyn (Jennifer Lawrence) could be the one to pull the thread that brings the entire world crashing down. Like David O. Russell's previous films, American Hustle defies genre, hinging on raw emotion, and life and death stakes. (c) Sony",
         "R",
         "Drama",
         null,
         null,
         "Dec 20, 2013",
         "Mar 18, 2014",
         "$",
         "99,165,609",
         "129 minutes",
         "Sony Pictures"
        ],
        [
         "17",
         "24",
         "Three young boys discover a stranded Russian sailor on the shores of Key West in this well-meaning but unexciting drama. Initially viewing him as an enemy, the boys soon grow to like their new companion and agree to help him find a way back to his homeland.",
         "PG",
         "Action and Adventure|Comedy|Drama",
         "Rick Rosenthal",
         "Sheldon Lettich|Michael Nankin|Alan Jay Glueckman",
         "Nov 6, 1987",
         "Mar 8, 2005",
         null,
         null,
         "98 minutes",
         null
        ],
        [
         "18",
         "25",
         "From ancient Japan's most enduring tale, the epic 3D fantasy-adventure 47 Ronin is born. Keanu Reeves leads the cast as Kai, an outcast who joins Oishi (Hiroyuki Sanada), the leader of 47 outcast samurai. Together they seek vengeance upon the treacherous overlord who killed their master and banished their kind. To restore honor to their homeland, the warriors embark upon a quest that challenges them with a series of trials that would destroy ordinary warriors. 47 Ronin is helmed by visionary director Carl Erik Rinsch (The Gift). Inspired by styles as diverse as Miyazaki and Hokusai, Rinsch will bring to life the stunning landscapes and enormous battles that will display the timeless Ronin story to global audiences in a way that's never been seen before. -- (C) Universal",
         "PG-13",
         "Action and Adventure|Drama|Science Fiction and Fantasy",
         "Carl Erik Rinsch",
         "Chris Morgan|Hossein Amini",
         "Dec 25, 2013",
         "Apr 1, 2014",
         "$",
         "20,518,224",
         "127 minutes",
         "Universal Pictures"
        ],
        [
         "19",
         "26",
         "A comic series of short vignettes build on one another to create a cumulative effect, as the characters discuss things as diverse as caffeine popsicles, Paris in the '20s, and the use of nicotine as an insecticide--all the while sitting around sipping coffee and smoking cigarettes. As director Jim Jarmusch delves into the normal pace of our world from an extraordinary angle, he shows just how absorbing the obsessions, joys and addictions of life can be, if truly observed.",
         "R",
         "Art House and International|Comedy|Drama|Musical and Performing Arts",
         "Jim Jarmusch",
         "Jim Jarmusch",
         "May 14, 2004",
         "Sep 21, 2004",
         "$",
         "1,971,135",
         "96 minutes",
         "MGM"
        ],
        [
         "20",
         "27",
         null,
         "NR",
         "Musical and Performing Arts",
         null,
         null,
         null,
         null,
         null,
         null,
         null,
         null
        ],
        [
         "21",
         "28",
         "Elvis goes Hawaiian for the second time in this tuneful romantic adventure. He plays an irresponsible pilot who, with a partner, struggles to set up a charter helicopter business. When not toiling at that, the King is wooing island beauties and singing.",
         "G",
         "Classics|Comedy|Musical and Performing Arts|Romance",
         null,
         "Allan Weiss|Anthony Lawrence",
         "Jun 15, 1966",
         "Jan 7, 2003",
         null,
         null,
         "90 minutes",
         null
        ],
        [
         "22",
         "29",
         "This futuristic adventure stars Lee Majors as a former racing champ who reassembles his old Porsche and drives to California in a world where cars have been outlawed by the powers that be.",
         "PG",
         "Action and Adventure|Drama|Science Fiction and Fantasy",
         "Martyn Burke",
         null,
         "Apr 1, 1981",
         "May 10, 2011",
         null,
         null,
         "101 minutes",
         null
        ],
        [
         "23",
         "33",
         "Howard W. Campbell Jr. (Nick Nolte) is an American playwright living in pre-World War II Berlin. He is happily married to his lovely wife Helga (Sheryl Lee), and is acclaimed for his work, which gains him entree into Berlin's highest political and social circles. Then one day he's approached by Frank Wirtenan (John Goodman), an American intelligence agent who offers Campbell the opportunity to spy for his country. Campbell refuses. He wonders why he was asked. \"You're obsessed with the notion of pure hearts and heroism. You love good and you hate evil ...and you'd sacrifice anything in the name of romance,\" Wirtenan tells him. So Campbell agrees. He seamlessly infiltrates the Nazis and gets a job spewing hateful Nazi propaganda on a weekly radio show beamed across Europe. He barely survives the war, his wife supposedly doesn't, and finds himself living in New York City, penniless and befriended by a next-door neighbor, a painter and fellow widower (Alan Arkin). He might have lived quietly beyond that, but gets found by a ragged group of American neo-Nazis -- and, incredibly, his wife. The neo-Nazis publicize his presence and he learns that his neighbor is actually a spy and that his wife is really her little sister. Guilt-stricken and alone, Campbell turns himself in to the Israelis, who charge him with being a war criminal. He's about to go on trial in Israel when he receives a letter from Wirteman promising to reveal his heroic spying and exonerate him, but Campbell hangs himself in his cell.",
         "R",
         "Action and Adventure|Drama|Mystery and Suspense",
         "Keith Gordon",
         null,
         "Nov 1, 1996",
         "Aug 22, 2000",
         null,
         null,
         "114 minutes",
         null
        ],
        [
         "24",
         "34",
         "Director John Woo brings Hong Kong-style martial arts action to this comic book-flavored sequel that eschews the complicated plot and political maneuverings of its predecessor in favor of pure, adrenaline-charged thrills. Tom Cruise returns as Ethan Hunt, an operative for the top-secret government agency IMF (Impossible Missions Force). Fellow agent Sean Ambrose (Dougray Scott) has gone rogue, stealing a sample of a deadly synthetic virus named Chimera that could rapidly wipe out the world's population. Ambrose's plan is to sell Chimera to the highest bidder in exchange for shares of stock in the winner's company. Summoned by the new IMF chief (Anthony Hopkins in an uncredited cameo role), Ethan is assigned to recruit the help of Ambrose's former lover Nyah Nordoff-Hall (Thandie Newton), a gorgeous woman who left Ambrose broken-hearted and who may be able to quickly regain his confidence. Once he meets and spends a night with Nyah, however, Ethan is smitten, and now must both capture Ambrose and keep Nyah alive as she infiltrates a nest of vipers. Sophisticated disguises, gun battles, and high-speed chases are the order of the day, very much in the James Bond mold. Mission: Impossible 2 is based on a story by Star Trek: The Next Generation writers Ronald D. Moore and Brannon Braga, with a script polish by Robert Towne.",
         "PG-13",
         "Action and Adventure|Mystery and Suspense",
         "John Woo",
         "William Goldman|John Logan|David Marconi|Michael Tolkin|Robert Towne|Rick Berman",
         "Dec 31, 2000",
         "Nov 7, 2000",
         null,
         null,
         "123 minutes",
         "Paramount Pictures"
        ],
        [
         "25",
         "35",
         "In this film, conjoined twins Blake and Francis Falls share many vital organs. They have come to the big city to find their long-lost mother and end their suffering. Befriending a prostitute, Blake reveals that Francis is dying. He must choose between dying with his brother or a risky operation.",
         "R",
         "Drama",
         "Michael Polish",
         "Michael Polish|Mark Polish",
         "Jul 30, 1999",
         "Jan 18, 2000",
         null,
         null,
         "110 minutes",
         null
        ],
        [
         "26",
         "38",
         "You'd think they would know better from their first glance at the foreboding stone exterior of the blood-sucking Count's castle, but apparently they didn't, for this young couple, who are looking for the young man's missing brother, walks right into Dracula's lair. Christopher Lee plays Count Dracula in this gory and violent scare-maker.",
         "R",
         "Art House and International|Classics|Horror|Mystery and Suspense",
         "Roy Ward Baker",
         "Anthony Hinds|John Elder",
         "Dec 23, 1970",
         "Aug 7, 2001",
         null,
         null,
         "96 minutes",
         null
        ],
        [
         "27",
         "39",
         "A group of stoners at a rock festival is stalked by a serial killer wearing a Ronald Reagan mask in the unrated version of this outrageous horror comedy featuring a cast that includes Courteney Cox and David Arquette, who also co-wrote and directed. Jaime King, Thomas Jane, Jason Mewes, Balthazar Getty.",
         "R",
         "Horror",
         "David Arquette",
         "David Arquette|Joe Harris",
         "Apr 20, 2007",
         "Oct 30, 2007",
         null,
         null,
         "97 minutes",
         "After Dark Films/Freestyle Releasing"
        ],
        [
         "28",
         "40",
         "John Sayles' Casa de los Babys tells the tale of a half-dozen American women who travel to Latin America in order to pick up their adopted children. They all stay at the same motel while they each wade through the bureaucracy. Sharing with each other their fears, hopes, dreams, and frustrations at the thoughts of becoming mothers comprises the majority of the drama in the film. The cast includes Maggie Gyllenhaal, Daryl Hannah, Marcia Gay Harden, Susan Lynch, Mary Steenburgen, Lili Taylor, and Rita Moreno.",
         "R",
         "Drama",
         "John Sayles",
         "John Sayles",
         "Sep 19, 2003",
         "Apr 13, 2004",
         "$",
         "312,136",
         "95 minutes",
         null
        ],
        [
         "29",
         "41",
         "Ken Loach directs Sweet Sixteen, a gritty drama about a young man slowly succumbing to a life of crime. Liam (Martin Compson) hopes that his imprisoned mother (Michelle Coulter) will be free by his 16th birthday. Hoping to help his mother escape her abusive heroin-dealing boyfriend (Gary McCormack), Liam rats him out to the cops. Liam's sister, Chantelle (Annmarie Fulton), suggests that a new trailer park might be a better place for their mother to live. With the help of his best friend, Pinball (William Ruanne), Liam sells the boyfriend's supply in order to raise the money, but this gets him into trouble with gangsters whose turf he was selling in. Soon Liam is on the way up in the criminal world, but that success comes with a toll. The accents in this Scottish-set film are so thick that English subtitles are used throughout. Sweet Sixteen was screened in competition at the 2002 Cannes Film Festival.",
         "R",
         "Drama",
         "Ken Loach",
         "Paul Laverty",
         "May 16, 2003",
         "Oct 7, 2003",
         "$",
         "201,010",
         "106 minutes",
         "Lions Gate Films"
        ],
        [
         "30",
         "42",
         "Warner Bros.' \"Perry Mason\" series quietly slipped from the \"A\" to the \"B\" category with this adaptation of Erle Stanley Gardner's The Case of the Caretaker's Cat. Ricardo Cortez and June Travis take over from Warren William and Claire Dodd as criminal attorney Perry Mason and his faithful secretary Della Street. Though the characters had been married in Case of the Velvet Claws, they're unattached again here, though Della is still hoping. This time there are three murders, all connected with a hectic treasure hunt and a screeching feline (grey, not black",
         "G",
         "Action and Adventure|Classics|Drama|Mystery and Suspense",
         null,
         "Frederick Hugh Herbert",
         null,
         null,
         null,
         null,
         "65 minutes",
         null
        ],
        [
         "31",
         "43",
         "Based on the play",
         "NR",
         "Classics|Comedy|Musical and Performing Arts",
         "William Wellman",
         "Nunnally Johnson",
         null,
         null,
         null,
         null,
         "75 minutes",
         null
        ],
        [
         "32",
         "44",
         "Can death be a good career move? The star of Bio-Dome, Jury Duty, and In the Army Now decides to find out in this satirical comedy. Pauly Shore (playing himself) takes a role on a new situation comedy series for FOX TV after a string of awful movies puts paid to his film career, but when the show is axed at the last moment, Shore finds himself flat broke and unable to find work in Hollywood. At the end of his rope, one night Shore is visited by the ghost of comic Sam Kinison, who suggests that killing himself might be the answer. Shore lacks the nerve to go quite that far, but he goes half-way by faking his own death and is amazed to discover an outpouring of post-mortem enthusiasm for him and his body of work, with the dead comic now praised as a genius; however, as Shore tries to figure out how to capitalize on this outpouring of acceptance, word begins to spread that the comic is actually alive and well, which only causes more problems for him. Produced under the title You'll Never Wiez In This Town Again, Pauly Shore Is Dead was written and directed by Shore himself and features an impressive list of celebrity cameos including Chris Rock, Sean Penn, Ellen DeGeneres, Britney Spears, Vince Vaughn, Andy Dick, Paris Hilton, and lots more.",
         "R",
         "Comedy",
         "Pauly Shore",
         "Pauly Shore|Kirk Fox",
         "Mar 11, 2003",
         "Jan 25, 2005",
         null,
         null,
         "82 minutes",
         "Regent Releasing"
        ],
        [
         "33",
         "45",
         "Hawaiian surfer dudes Stew (Steve Van Wormer) and Phil Deedle (Paul Walker), fraternal twins, are about to be expelled from school, so their wealthy and concerned father (Eric Braeden) offers summer camp in Wyoming as a solution. Arriving in Jackson Hole with their wet suits, the Deedle twins are like fish out of water, and a series of accidents put them in a hospital. Mistaken for new recruits by Yellowstone Park ranger Capt. Pine (Douglas Ashton), the duo go along with the error after meeting their training officer, the attractive Lt. Jesse Ryan (A.J. Langer), but they are unprepared to adapt to life in the wild, as they cope with mountainside rappelling, sleeping in tents, eating worms, and dealing with hordes of prairie dogs unleashed by ex-ranger Frank Slater (Dennis Hopper), who seeks vengeance for his past problems in the park. There are several pop-culture references, including a cameo by Bart the Bear (of The Edge).",
         "PG",
         "Comedy|Kids and Family",
         "Steve Boyum",
         "Jim Herzfeld|Dale Pollock",
         null,
         null,
         null,
         null,
         "92 minutes",
         null
        ],
        [
         "34",
         "46",
         "Six guys with nothing left to lose try losing their clothing for fun and profit in this international hit comedy. Gaz (Robert Carlyle) and Dave (Mark Addy) are two former steelworkers in the British industrial town of Sheffield who have been devastated by the economic downturn in their community. Gaz is threatened with losing visitation rights with his son if he can't pay his child support, while Dave feels emasculated by his inability to support his wife. One day, Gaz stops by a local pub for a drink and is told it's women only tonight -- the Chippendales male exotic dancing troupe is playing, and they are demanding a hefty cover charge. Gaz decides there's nothing a bunch of pantywaists from America can do that he and his pals can't do better, and decides to form his own crew of male strippers, called \"Hard Steel.\" However, the local talent pool leaves a bit to be desired. Gaz isn't bad looking, but Dave is a bit heavy and very self conscious about it. Horse (Paul Barber) was probably hot stuff at Soul Night in the mid-70's, but his joints don't move like they used to. Guy (Hugo Speer) can't dance to save his life, but makes the troupe because ... well, let's say he and Dirk Diggler would have a lot to say to each other. Lomper (Steve Huison) is sometimes too busy attempting suicide to practice. And Gerald (Tom Wilkinson), their choreographer, isn't much on male exotic dancing -- ballroom dancing is more his speed. While \"Hard Steel\"'s performances are more amusing then enticing, for the first time since they lost their jobs the men have a reason to get up in the morning; joining the group has given them a circle of friendship, and a renewed sense of purpose. Combining broad comedy with believable and well-drawn characters, The Full Monty was a major box-office hit both in England and the United States and was nominated for Academy Awards as Best Picture, Best Director, and Best Original Screenplay.",
         "R",
         "Comedy|Musical and Performing Arts",
         "Peter Cattaneo",
         "Simon Beaufoy|Simon Beaufor",
         "Aug 13, 1997",
         "Nov 2, 1999",
         null,
         null,
         "91 minutes",
         null
        ],
        [
         "35",
         "48",
         "To fully enjoy the rugged outdoors adventure The Mountain, one must accept the notion that 55-year-old Spencer Tracy and 25-year-old Robert Wagner are brothers. Tracy plays veteran mountain guide Zachary Wheeler, who is coaxed out of retirement when a passenger plane crashes on high mountain. He decides it isn't worth risking his life to recover the bodies of the passengers, but hot-headed younger brother Chris (Robert Wagner), hoping to claim the victims' valuables, talks Zachary into accompanying him to the mountaintop. After their treacherous upward journey, the brothers discover that one of the passengers, a Hindu girl (Anna Kashfi), is still alive. Zachary wants to bring her back to safety, but the greedy Chris would rather abandon her and make off with the valuables. It is, inevitable, then, that not everyone involved is going to get off the mountain alive. A worthwhile character study enhanced by superb location photography, The Mountain is compromised by its overreliance on phony-looking studio \"exteriors\".",
         "NR",
         "Action and Adventure|Drama|Western",
         "Edward Dmytryk",
         "Ranald MacDougall",
         null,
         null,
         null,
         null,
         "73 minutes",
         null
        ],
        [
         "36",
         "49",
         "Two gorgeous women -- Donna (Dona Speir) and Taryn (Hope Marie Carlton) -- operate a airplane cargo delivery service in Hawaii. Their latest shipment includes a very large, very nasty snake destined for the local zoo. But the delivery is interrupted when they stumble on a cache of diamonds that were to go to a ruthless drug dealer, Seth (Rodrigo Obregon). Seth sends a transvestite to kidnap the owner of a restaurant, Edy (Cynthia Brimhall), so his men can torture her with a female bodybuilder into revealing where Donna and Taryn are. Luckily for all the good guys, Special Agent Rowdy Abilene (Ronn Moss) has a bazooka, and he knows how to use it. And unluckily for Seth, that nasty snake has broken out of its box.",
         "R",
         "Action and Adventure|Comedy|Mystery and Suspense",
         "Andy Sidaris",
         "Andy Sidaris",
         null,
         null,
         null,
         null,
         "100 minutes",
         null
        ],
        [
         "37",
         "50",
         "A New York City police officer (Don Murray) uses brutal methods to dispose of a would-be mugger (James Earl Jones) and then entreats the mugger's victim (Diahn Williams) to keep the affair a secret. While initially agreeing, she begins to suspect that he's holding something back.",
         "R",
         "Action and Adventure|Drama",
         "Ivan Nagy",
         "Don Petersen|George Wislocki",
         null,
         null,
         null,
         null,
         "99 minutes",
         null
        ],
        [
         "38",
         "51",
         "Wait Until Dark is an innovative, highly entertaining and suspenseful thriller about a blind housewife, Susy Hendrix (Audrey Hepburn). Independent and resourceful, Susy is learning to cope with her blindness, which resulted from a recent accident. She is aided by her difficult, slightly unreliable young neighbor Gloria (Julie Herrod) with whom she has an exasperated but lovingly maternal relationship. Susy's life is changed as she is terrorized by a group of criminals who believe she has hidden a baby doll used by them to smuggle heroin into the country. Unknown to Susy, her photographer husband Sam (Efrem Zimbalist Jr.) took the doll as a favor for a woman he met on an international plane flight and unwittingly brought the doll to the couple's New York apartment when the woman became afraid of the customs officials. Alone in her apartment and cut-off from the outside world, Susy must fight for her life against a gang of ruthless criminals, led by the violent, psychotic Roat (Alan Arkin). The tension builds as Roat, aided by his gang, impersonates police officers and friends of her husband in order to win Susy's confidence, gaining access to her apartment to look for the doll. The climax of the film, a violent physical confrontation between Susie and Roat in her dark kitchen, is one of the most memorable and frightening scenes in screen history. All performances are outstanding, particularly those of Audrey Hepburn who plays a vulnerable, but self-reliant woman, and Alan Arkin, in perhaps his best role, as the ruthless, manipulative Roat.",
         "NR",
         "Mystery and Suspense",
         "Terence Young",
         "Jane-Howard Carrington|Robert Carrington",
         "Oct 26, 1967",
         "Aug 5, 2003",
         null,
         null,
         "108 minutes",
         null
        ],
        [
         "39",
         "52",
         "This offbeat romantic comedy has some rather dark underpinnings that add, rather than detract from the fun. It is the story of Lucy, an extremely lonely young woman who works as a toll-taker for the Chicago Transit Authority. She is secretly in love with a handsome stranger in a camel-hair coat who passes by her every day but never even says hello to her. Just before Christmas, she is at work when she sees her \"love\" pushed, mugged and shoved off the train platform. Without hesitation she leaps down to pull the unconscious fellow out of the path of a speeding train. Later in the hospital, a series of complex misunderstandings occur and the woman is mistaken for the man's fiancee. As he is deeply comatose, Lucy goes along with it, much to the delight of the man's loud, dysfunctional family. Lucy has no real family, and she is happy to be a part of his strange brood. To make sure she stays, she decides to take certain liberties with her sleeping husband-to-be. Meanwhile, she and the patient's brother find themselves drawn to each other.",
         "PG",
         "Comedy|Drama|Romance",
         "Jon Turteltaub",
         null,
         "Apr 21, 1995",
         "Feb 3, 1998",
         null,
         null,
         "103 minutes",
         null
        ],
        [
         "40",
         "53",
         "La autobiograf",
         "PG",
         "Drama|Romance",
         null,
         null,
         null,
         null,
         null,
         null,
         "112 minutes",
         null
        ],
        [
         "41",
         "54",
         "Journalist Jep Gambardella (the dazzling Toni Servillo, Il divo and Gomorrah) has charmed and seduced his way through the lavish nightlife of Rome for decades. Since the legendary success of his one and only novel, he has been a permanent fixture in the city's literary and social circles, but when his sixty-fifth birthday coincides with a shock from the past, Jep finds himself unexpectedly taking stock of his life, turning his cutting wit on himself and his contemporaries, and looking past the extravagant nightclubs, parties, and caf",
         "NR",
         "Comedy|Drama",
         "Paolo Sorrentino",
         "Paolo Sorrentino|Umberto Contarello",
         "Nov 15, 2013",
         "Mar 25, 2014",
         null,
         null,
         "142 minutes",
         "Janus Films"
        ],
        [
         "42",
         "55",
         "A progressive scientist builds a machine that allows him time travel in this adaptation of the classic from H.G. Wells.",
         "NR",
         "Action and Adventure|Science Fiction and Fantasy",
         "Henning Schellerup",
         null,
         null,
         null,
         null,
         null,
         "99 minutes",
         null
        ],
        [
         "43",
         "56",
         "Albert Hughes and his brother Allen Hughes followed their striking debut Menace II Society with this ambitious look at the social and political lives of the African-American community in the late 1960s and early 1970s. Anthony Curtis (Larenz Tate) is a young man coming of age in the Bronx in 1968. Working two part-time jobs -- one as a milkman's helper and another for local numbers runner Kirby (Keith David) -- Anthony is torn between doing the right thing and trying to get by in a environment that offers few opportunities to young black men. After graduating from high school, Anthony decides to join the Marines, news that is not well-received by his parents, who want him to go to college, or his girlfriend Juanita (Rose Jackson), with whom Anthony recently lost his virginity. After serving a horrific tour of duty in Viet Nam with his friends Skip (Chris Tucker) and Jose (Freddy Rodriguez), Anthony finds himself back home in 1973, where Juanita has been raising the child he fathered before he shipped out, drugs and crime have crippled his community, and honest job prospects are practically nil. Eventually, Anthony falls in with Kirby, Skip, and Jose, who have teamed with Juanita's sister Delilah (N'Bushe Wright), a Black Power activist, and Cleon (Bokeem Woodbine), in a scheme to rob an armored truck taking worn greenbacks (\"dead presidents\") to a mint to be destroyed. Martin Sheen and Seymour Cassel appear unbilled in small roles.",
         "R",
         "Drama",
         "Allen Hughes|Albert Hughes",
         "Michael Henry Brown|Albert Hughes|Allen Hughes",
         "Oct 6, 1995",
         "May 19, 1998",
         null,
         null,
         "119 minutes",
         null
        ],
        [
         "44",
         "57",
         "Life doesn't always go according to plan. Pat Solatano (Bradley Cooper) has lost everything -- his house, his job, and his wife. He now finds himself living back with his mother (Jacki Weaver) and father (Robert DeNiro) after spending eight months is a state institution on a plea bargain. Pat is determined to rebuild his life, remain positive and reunite with his wife, despite the challenging circumstances of their separation. All Pat's parents want is for him to get back on his feet-and to share their family's obsession with the Philadelphia Eagles football team. When Pat meets Tiffany (Jennifer Lawrence), a mysterious girl with problems of her own, things get complicated. Tiffany offers to help Pat reconnect with his wife, but only if he'll do something very important for her in return. As their deal plays out, an unexpected bond begins to form between them, and silver linings appear in both of their lives. -- (C) Weinstein",
         "R",
         "Comedy",
         null,
         null,
         "Nov 21, 2012",
         "Apr 30, 2013",
         "$",
         "132,088,910",
         "122 minutes",
         "The Weinstein Company"
        ],
        [
         "45",
         "58",
         "A smaller, amusing comedy from writer/director Woody Allen, Broadway Danny Rose begins with a bunch of show business vets sitting around a table at New York's Carnegie Deli and reminiscing about the legendary titular character, a loser of an agent who would represent anyone, including blind xylophonists, piano-playing birds, and has-been crooners with drinking problems. Allen plays Rose as a befuddled, warm-hearted schlub who finally has a shot at getting somewhere when he signs washed-up lounge singer Lou Canova (Nick Apollo Forte) and nearly brings his career back to life. Danny gets him a date at the Waldorf, where Milton Berle is in the audience, looking for guests for his TV special. Canova has a complicated love life, juggling both a wife and a girlfriend. so he enlists Danny to take the girlfriend, Tina Vitale (Mia Farrow), to the concert. But Canova and Tina have a fight, she goes back to her Mafioso boyfriend, and Danny winds up getting chased halfway around New York and New Jersey by the Mob. And of course, once Canova gets his big break, he dumps Danny for another agent. Allen, Forte, and especially Farrow all do strong work with characters that could have easily become stereotypes, and the film has a lighter, warmer touch than the Allen films that preceded it (Stardust Memories and Zelig).",
         "PG",
         "Comedy|Romance",
         "Woody Allen",
         "Woody Allen",
         "Jan 27, 1984",
         "Nov 6, 2001",
         null,
         null,
         "86 minutes",
         null
        ],
        [
         "46",
         "59",
         "Set in the northern province of Shandong during the 1920s and early 30s, a young bride, on her way to a prearranged future with the leprous owner of a wine distillery, avoids rape and then abduction, is seduced, takes over her mysteriously dead husband's business, is captured, then ransomed and ultimately perishes during the Manchurian invasion by the Japanese.",
         "NR",
         "Art House and International|Drama",
         "Yimou Zhang",
         null,
         null,
         null,
         null,
         null,
         "91 minutes",
         null
        ],
        [
         "47",
         "60",
         "In 1982, Crippen High School was the scene of a gruesome series of dismemberment murders, but the killer was never identified. Five years later, Cosmic Pictures arrives at the long-abandoned campus to make a low-budget horror movie based on the tragedy, and suddenly the terror begins anew. The police department arrives at the school to find the building and grounds covered in gore and human body parts, the remains of the unfortunate film crew. The only survivor of this new massacre is the screenwriter, Arthur (Richard Brestoff), who tries to explain the horrifying events to the authorities. The troubled production's leading lady is angered over the demeaning nature of her role, the producer and director argue over the film's lack of artistic merits, and when cast members start disappearing, everyone else assumes that they're just quitting out of disgust. Who is the culprit? Is it the school's principal, appearing as himself in the film for the sake of realism? The janitor, who hopes to parlay his cameo into a pornography career? Or maybe Steven (Brendan Hughes), who was a student at Crippen during the original murder spree and finds himself reluctantly cast as the hero? This self-referential slasher parody features George Clooney in a small part as the film's first victim, and The Brady Bunch's Maureen McCormick as a policewoman with a lust for blood and hot dogs.",
         "R",
         "Horror",
         "Bill Froehlich",
         null,
         "Jan 1, 1987",
         "Nov 27, 2001",
         null,
         null,
         "95 minutes",
         null
        ],
        [
         "48",
         "61",
         "Death once again shows he's determined to get what he wants in this teen-centric thriller. Wendy (Mary Elizabeth Winstead) is a high school student hanging out with her friends at an amusement park one night when they decide to ride on the roller coaster. Wendy, however, has a premonition that something horrible will happen, and finds a way to save herself shortly before the ride goes off the rails, killing most of its passengers, including her boyfriend, Jason (Jesse Moss), and best friend, Carrie (Gina Holden). However, while Wendy may have survived the night at the park, she soon discovers that a malevolent spirit is following her and her classmates as they begin dying in strange and horrible ways. Wendy learns that a series of snapshots taken that evening give clues to the mayhem that followed her pals, and she teams up with Kevin (Ryan Merriman), Carrie's sweetheart, to try to warn the potential victims about the fates soon to befall them. Final Destination 3 was directed and co-scripted by James Wong, who also helmed the first two films in the franchise.",
         "R",
         "Action and Adventure|Drama|Horror|Mystery and Suspense",
         "James Wong",
         "James Wong|Glen Morgan",
         "Feb 10, 2006",
         "Jul 25, 2006",
         "$",
         "54,100,000",
         "93 minutes",
         "New Line Cinema"
        ],
        [
         "49",
         "63",
         "A policeman plays Good Samaritan to a visitor from Ireland, only to discover that he has a potentially deadly secret. Belfast-born Frankie McGuire (Brad Pitt) saw his father gunned down by enemy soldiers at the age of eight, and when he grew up he joined the Irish Republican Army, determined that one day his father's death would be avenged. An especially ruthless \"volunteer,\" Frankie is responsible for the death of 13 British soldiers and 11 policemen. After a particularly bloody battle, Frankie sails to the United States in a ragged tugboat he has restored; with a huge bundle of cash, Frankie intends to buy a stock of Stinger missiles from an underground arms dealer in America, Billy Burke (Treat Williams). Upon arrival in New York, Frankie is met by a judge who is sympathetic to the IRA's cause and who arranges a place for him to stay. Using the name Rory Devaney, Frankie moves into the home of Tom O'Meara (Harrison Ford), a scrupulously honest cop. Tom is already in the midst of a personal crisis; his friend and partner Edwin Diaz (Ruben Blades) recently shot a man that he knew was unarmed in the line of duty, and while Edwin wants Tom to help him cover up the matter, Tom's conscience will not allow it. When Tom begins to realize that \"Rory\" is not simply a man running from the violence of his homeland, he's torn between his sympathy for Frankie's tragic childhood and his desire to see justice served and prevent needless death in Ireland.",
         "R",
         "Action and Adventure|Drama|Mystery and Suspense",
         null,
         "David Aaron Cohen|Kevin Jarre|Vincent Patrick|Robin Squibb|Karen Wookey|Gary Capo",
         "Mar 26, 1997",
         "Feb 24, 1998",
         null,
         null,
         "111 minutes",
         null
        ]
       ],
       "shape": {
        "columns": 12,
        "rows": 1560
       }
      },
      "text/html": [
       "<div>\n",
       "<style scoped>\n",
       "    .dataframe tbody tr th:only-of-type {\n",
       "        vertical-align: middle;\n",
       "    }\n",
       "\n",
       "    .dataframe tbody tr th {\n",
       "        vertical-align: top;\n",
       "    }\n",
       "\n",
       "    .dataframe thead th {\n",
       "        text-align: right;\n",
       "    }\n",
       "</style>\n",
       "<table border=\"1\" class=\"dataframe\">\n",
       "  <thead>\n",
       "    <tr style=\"text-align: right;\">\n",
       "      <th></th>\n",
       "      <th>id</th>\n",
       "      <th>synopsis</th>\n",
       "      <th>rating</th>\n",
       "      <th>genre</th>\n",
       "      <th>director</th>\n",
       "      <th>writer</th>\n",
       "      <th>theater_date</th>\n",
       "      <th>dvd_date</th>\n",
       "      <th>currency</th>\n",
       "      <th>box_office</th>\n",
       "      <th>runtime</th>\n",
       "      <th>studio</th>\n",
       "    </tr>\n",
       "  </thead>\n",
       "  <tbody>\n",
       "    <tr>\n",
       "      <th>0</th>\n",
       "      <td>1</td>\n",
       "      <td>This gritty, fast-paced, and innovative police...</td>\n",
       "      <td>R</td>\n",
       "      <td>Action and Adventure|Classics|Drama</td>\n",
       "      <td>William Friedkin</td>\n",
       "      <td>Ernest Tidyman</td>\n",
       "      <td>Oct 9, 1971</td>\n",
       "      <td>Sep 25, 2001</td>\n",
       "      <td>NaN</td>\n",
       "      <td>NaN</td>\n",
       "      <td>104 minutes</td>\n",
       "      <td>NaN</td>\n",
       "    </tr>\n",
       "    <tr>\n",
       "      <th>1</th>\n",
       "      <td>3</td>\n",
       "      <td>New York City, not-too-distant-future: Eric Pa...</td>\n",
       "      <td>R</td>\n",
       "      <td>Drama|Science Fiction and Fantasy</td>\n",
       "      <td>David Cronenberg</td>\n",
       "      <td>David Cronenberg|Don DeLillo</td>\n",
       "      <td>Aug 17, 2012</td>\n",
       "      <td>Jan 1, 2013</td>\n",
       "      <td>$</td>\n",
       "      <td>600,000</td>\n",
       "      <td>108 minutes</td>\n",
       "      <td>Entertainment One</td>\n",
       "    </tr>\n",
       "    <tr>\n",
       "      <th>2</th>\n",
       "      <td>5</td>\n",
       "      <td>Illeana Douglas delivers a superb performance ...</td>\n",
       "      <td>R</td>\n",
       "      <td>Drama|Musical and Performing Arts</td>\n",
       "      <td>Allison Anders</td>\n",
       "      <td>Allison Anders</td>\n",
       "      <td>Sep 13, 1996</td>\n",
       "      <td>Apr 18, 2000</td>\n",
       "      <td>NaN</td>\n",
       "      <td>NaN</td>\n",
       "      <td>116 minutes</td>\n",
       "      <td>NaN</td>\n",
       "    </tr>\n",
       "    <tr>\n",
       "      <th>3</th>\n",
       "      <td>6</td>\n",
       "      <td>Michael Douglas runs afoul of a treacherous su...</td>\n",
       "      <td>R</td>\n",
       "      <td>Drama|Mystery and Suspense</td>\n",
       "      <td>Barry Levinson</td>\n",
       "      <td>Paul Attanasio|Michael Crichton</td>\n",
       "      <td>Dec 9, 1994</td>\n",
       "      <td>Aug 27, 1997</td>\n",
       "      <td>NaN</td>\n",
       "      <td>NaN</td>\n",
       "      <td>128 minutes</td>\n",
       "      <td>NaN</td>\n",
       "    </tr>\n",
       "    <tr>\n",
       "      <th>4</th>\n",
       "      <td>7</td>\n",
       "      <td>NaN</td>\n",
       "      <td>NR</td>\n",
       "      <td>Drama|Romance</td>\n",
       "      <td>Rodney Bennett</td>\n",
       "      <td>Giles Cooper</td>\n",
       "      <td>NaN</td>\n",
       "      <td>NaN</td>\n",
       "      <td>NaN</td>\n",
       "      <td>NaN</td>\n",
       "      <td>200 minutes</td>\n",
       "      <td>NaN</td>\n",
       "    </tr>\n",
       "    <tr>\n",
       "      <th>...</th>\n",
       "      <td>...</td>\n",
       "      <td>...</td>\n",
       "      <td>...</td>\n",
       "      <td>...</td>\n",
       "      <td>...</td>\n",
       "      <td>...</td>\n",
       "      <td>...</td>\n",
       "      <td>...</td>\n",
       "      <td>...</td>\n",
       "      <td>...</td>\n",
       "      <td>...</td>\n",
       "      <td>...</td>\n",
       "    </tr>\n",
       "    <tr>\n",
       "      <th>1555</th>\n",
       "      <td>1996</td>\n",
       "      <td>Forget terrorists or hijackers -- there's a ha...</td>\n",
       "      <td>R</td>\n",
       "      <td>Action and Adventure|Horror|Mystery and Suspense</td>\n",
       "      <td>NaN</td>\n",
       "      <td>NaN</td>\n",
       "      <td>Aug 18, 2006</td>\n",
       "      <td>Jan 2, 2007</td>\n",
       "      <td>$</td>\n",
       "      <td>33,886,034</td>\n",
       "      <td>106 minutes</td>\n",
       "      <td>New Line Cinema</td>\n",
       "    </tr>\n",
       "    <tr>\n",
       "      <th>1556</th>\n",
       "      <td>1997</td>\n",
       "      <td>The popular Saturday Night Live sketch was exp...</td>\n",
       "      <td>PG</td>\n",
       "      <td>Comedy|Science Fiction and Fantasy</td>\n",
       "      <td>Steve Barron</td>\n",
       "      <td>Terry Turner|Tom Davis|Dan Aykroyd|Bonnie Turner</td>\n",
       "      <td>Jul 23, 1993</td>\n",
       "      <td>Apr 17, 2001</td>\n",
       "      <td>NaN</td>\n",
       "      <td>NaN</td>\n",
       "      <td>88 minutes</td>\n",
       "      <td>Paramount Vantage</td>\n",
       "    </tr>\n",
       "    <tr>\n",
       "      <th>1557</th>\n",
       "      <td>1998</td>\n",
       "      <td>Based on a novel by Richard Powell, when the l...</td>\n",
       "      <td>G</td>\n",
       "      <td>Classics|Comedy|Drama|Musical and Performing Arts</td>\n",
       "      <td>Gordon Douglas</td>\n",
       "      <td>NaN</td>\n",
       "      <td>Jan 1, 1962</td>\n",
       "      <td>May 11, 2004</td>\n",
       "      <td>NaN</td>\n",
       "      <td>NaN</td>\n",
       "      <td>111 minutes</td>\n",
       "      <td>NaN</td>\n",
       "    </tr>\n",
       "    <tr>\n",
       "      <th>1558</th>\n",
       "      <td>1999</td>\n",
       "      <td>The Sandlot is a coming-of-age story about a g...</td>\n",
       "      <td>PG</td>\n",
       "      <td>Comedy|Drama|Kids and Family|Sports and Fitness</td>\n",
       "      <td>David Mickey Evans</td>\n",
       "      <td>David Mickey Evans|Robert Gunter</td>\n",
       "      <td>Apr 1, 1993</td>\n",
       "      <td>Jan 29, 2002</td>\n",
       "      <td>NaN</td>\n",
       "      <td>NaN</td>\n",
       "      <td>101 minutes</td>\n",
       "      <td>NaN</td>\n",
       "    </tr>\n",
       "    <tr>\n",
       "      <th>1559</th>\n",
       "      <td>2000</td>\n",
       "      <td>Suspended from the force, Paris cop Hubert is ...</td>\n",
       "      <td>R</td>\n",
       "      <td>Action and Adventure|Art House and Internation...</td>\n",
       "      <td>NaN</td>\n",
       "      <td>Luc Besson</td>\n",
       "      <td>Sep 27, 2001</td>\n",
       "      <td>Feb 11, 2003</td>\n",
       "      <td>NaN</td>\n",
       "      <td>NaN</td>\n",
       "      <td>94 minutes</td>\n",
       "      <td>Columbia Pictures</td>\n",
       "    </tr>\n",
       "  </tbody>\n",
       "</table>\n",
       "<p>1560 rows × 12 columns</p>\n",
       "</div>"
      ],
      "text/plain": [
       "        id                                           synopsis rating  \\\n",
       "0        1  This gritty, fast-paced, and innovative police...      R   \n",
       "1        3  New York City, not-too-distant-future: Eric Pa...      R   \n",
       "2        5  Illeana Douglas delivers a superb performance ...      R   \n",
       "3        6  Michael Douglas runs afoul of a treacherous su...      R   \n",
       "4        7                                                NaN     NR   \n",
       "...    ...                                                ...    ...   \n",
       "1555  1996  Forget terrorists or hijackers -- there's a ha...      R   \n",
       "1556  1997  The popular Saturday Night Live sketch was exp...     PG   \n",
       "1557  1998  Based on a novel by Richard Powell, when the l...      G   \n",
       "1558  1999  The Sandlot is a coming-of-age story about a g...     PG   \n",
       "1559  2000  Suspended from the force, Paris cop Hubert is ...      R   \n",
       "\n",
       "                                                  genre            director  \\\n",
       "0                   Action and Adventure|Classics|Drama    William Friedkin   \n",
       "1                     Drama|Science Fiction and Fantasy    David Cronenberg   \n",
       "2                     Drama|Musical and Performing Arts      Allison Anders   \n",
       "3                            Drama|Mystery and Suspense      Barry Levinson   \n",
       "4                                         Drama|Romance      Rodney Bennett   \n",
       "...                                                 ...                 ...   \n",
       "1555   Action and Adventure|Horror|Mystery and Suspense                 NaN   \n",
       "1556                 Comedy|Science Fiction and Fantasy        Steve Barron   \n",
       "1557  Classics|Comedy|Drama|Musical and Performing Arts      Gordon Douglas   \n",
       "1558    Comedy|Drama|Kids and Family|Sports and Fitness  David Mickey Evans   \n",
       "1559  Action and Adventure|Art House and Internation...                 NaN   \n",
       "\n",
       "                                                writer  theater_date  \\\n",
       "0                                       Ernest Tidyman   Oct 9, 1971   \n",
       "1                         David Cronenberg|Don DeLillo  Aug 17, 2012   \n",
       "2                                       Allison Anders  Sep 13, 1996   \n",
       "3                      Paul Attanasio|Michael Crichton   Dec 9, 1994   \n",
       "4                                         Giles Cooper           NaN   \n",
       "...                                                ...           ...   \n",
       "1555                                               NaN  Aug 18, 2006   \n",
       "1556  Terry Turner|Tom Davis|Dan Aykroyd|Bonnie Turner  Jul 23, 1993   \n",
       "1557                                               NaN   Jan 1, 1962   \n",
       "1558                  David Mickey Evans|Robert Gunter   Apr 1, 1993   \n",
       "1559                                        Luc Besson  Sep 27, 2001   \n",
       "\n",
       "          dvd_date currency  box_office      runtime             studio  \n",
       "0     Sep 25, 2001      NaN         NaN  104 minutes                NaN  \n",
       "1      Jan 1, 2013        $     600,000  108 minutes  Entertainment One  \n",
       "2     Apr 18, 2000      NaN         NaN  116 minutes                NaN  \n",
       "3     Aug 27, 1997      NaN         NaN  128 minutes                NaN  \n",
       "4              NaN      NaN         NaN  200 minutes                NaN  \n",
       "...            ...      ...         ...          ...                ...  \n",
       "1555   Jan 2, 2007        $  33,886,034  106 minutes    New Line Cinema  \n",
       "1556  Apr 17, 2001      NaN         NaN   88 minutes  Paramount Vantage  \n",
       "1557  May 11, 2004      NaN         NaN  111 minutes                NaN  \n",
       "1558  Jan 29, 2002      NaN         NaN  101 minutes                NaN  \n",
       "1559  Feb 11, 2003      NaN         NaN   94 minutes  Columbia Pictures  \n",
       "\n",
       "[1560 rows x 12 columns]"
      ]
     },
     "execution_count": 21,
     "metadata": {},
     "output_type": "execute_result"
    }
   ],
   "source": [
    "rt_info_cp = rt_info.copy(deep=True)\n",
    "print(rt_info_cp.shape)\n",
    "print(rt_info_cp.info())\n",
    "rt_info_cp.head()\n",
    "rt_info_cp.tail()\n",
    "print(rt_info_cp.columns)\n",
    "rt_info_cp.duplicated().sum()\n",
    "\n",
    "rt_info_cp\n"
   ]
  },
  {
   "cell_type": "code",
   "execution_count": 22,
   "id": "151d639d",
   "metadata": {},
   "outputs": [],
   "source": [
    "rt_info_cp = rt_info_cp.drop(columns=['id', 'writer', 'theater_date', 'dvd_date', 'currency', 'box_office', 'studio' ])\n"
   ]
  },
  {
   "cell_type": "code",
   "execution_count": 23,
   "id": "7a873c2a",
   "metadata": {},
   "outputs": [
    {
     "data": {
      "application/vnd.microsoft.datawrangler.viewer.v0+json": {
       "columns": [
        {
         "name": "index",
         "rawType": "int64",
         "type": "integer"
        },
        {
         "name": "synopsis",
         "rawType": "object",
         "type": "unknown"
        },
        {
         "name": "rt_rating",
         "rawType": "object",
         "type": "unknown"
        },
        {
         "name": "rt_genre",
         "rawType": "object",
         "type": "unknown"
        },
        {
         "name": "rt_director",
         "rawType": "object",
         "type": "unknown"
        },
        {
         "name": "rt_rintime",
         "rawType": "object",
         "type": "unknown"
        }
       ],
       "ref": "3789c559-ae0e-4acc-8843-57b209c1930e",
       "rows": [
        [
         "0",
         "This gritty, fast-paced, and innovative police drama earned five Academy Awards, including Best Picture, Best Adapted Screenplay (written by Ernest Tidyman), and Best Actor (Gene Hackman). Jimmy \"Popeye\" Doyle (Hackman) and his partner, Buddy Russo (Roy Scheider), are New York City police detectives on narcotics detail, trying to track down the source of heroin from Europe into the United States. Suave Alain Charnier (Fernando Rey) is the French drug kingpin who provides a large percentage of New York City's dope, and Pierre Nicoli (Marcel Bozzuffi) is a hired killer and Charnier's right-hand man. Acting on a hunch, Popeye and Buddy start tailing Sal Boca (Tony Lo Bianco) and his wife, Angie (Arlene Faber), who live pretty high for a couple whose corner store brings in about 7,000 dollars a year. It turns out Popeye's suspicions are right -- Sal and Angie are the New York agents for Charnier, who will be smuggling 32 million dollars' worth of heroin into the city in a car shipped over from France. The French Connection broke plenty of new ground for screen thrillers; Popeye Doyle was a highly unusual \"hero,\" an often violent, racist, and mean-spirited cop whose dedication to his job fell just short of dangerous obsession. The film's high point, a high-speed car chase with Popeye tailing an elevated train, was one of the most viscerally exciting screen moments of its day and set the stage for dozens of action sequences to follow. And the film's grimy realism (and downbeat ending) was a big change from the buff-and-shine gloss and good-guys-always-win heroics of most police dramas that preceded it. The French Connection was inspired by a true story, and Eddie Egan and Sonny Grosso, Popeye and Buddy's real life counterparts, both have small roles in the film. A sequel followed four years later.",
         "R",
         "Action and Adventure|Classics|Drama",
         "William Friedkin",
         "104 minutes"
        ],
        [
         "1",
         "New York City, not-too-distant-future: Eric Packer, a 28 year-old finance golden boy dreaming of living in a civilization ahead of this one, watches a dark shadow cast over the firmament of the Wall Street galaxy, of which he is the uncontested king. As he is chauffeured across midtown Manhattan to get a haircut at his father's old barber, his anxious eyes are glued to the yuan's exchange rate: it is mounting against all expectations, destroying Eric's bet against it. Eric Packer is losing his empire with every tick of the clock. Meanwhile, an eruption of wild activity unfolds in the city's streets. Petrified as the threats of the real world infringe upon his cloud of virtual convictions, his paranoia intensifies during the course of his 24-hour cross-town odyssey. Packer starts to piece together clues that lead him to a most terrifying secret: his imminent assassination. -- (C) Official Site",
         "R",
         "Drama|Science Fiction and Fantasy",
         "David Cronenberg",
         "108 minutes"
        ],
        [
         "2",
         "Illeana Douglas delivers a superb performance as Denise Waverly, a fictional singer and songwriter whose life bears more than a passing resemblance to that of real-life pop star Carole King. Edna Buxton, the daughter of a Philadelphia steel tycoon, aspires to a career as a singer, and when against her mother's bidding she sings a sultry version of \"Hey There (You With the Stars in Your Eyes)\" (instead of Mom's choice, \"You'll Never Walk Alone\") at a talent contest, she wins a recording contact and moves to New York City. She cuts a record and gains a new stage name, Denise Waverly; however, she soon finds that girl singers are a dime a dozen in the Big Apple and her career as a vocalist goes nowhere. But she has a knack for writing songs, and eccentric producer Joel Milner (John Turturro) asks her to pen some songs for his upcoming projects. Teamed with Howard Caszatt (Eric Stoltz), a hipster songwriter who wants to express his political and social ideals through pop tunes, she finds both a successful collaborator and husband. While her work with Howard gains Denise writing credits on a string of hit records and respect within the industry, their marriage falls apart, and she becomes involved with Jay Phillips (Matt Dillon), the gifted but unstable leader of a popular West Coast surf music combo. Students of pop music history will have a ball with the various characters modeled after real-life rock legends, and the 1960s-style song score includes numbers written by Joni Mitchell and J. Mascis (of the band Dinosaur Jr.), as well as one-time King collaborator Gerry Goffin; a collaboration between Elvis Costello and Burt Bacharach, \"God Give Me Strength,\" led to a full album written by the two great tunesmiths.",
         "R",
         "Drama|Musical and Performing Arts",
         "Allison Anders",
         "116 minutes"
        ],
        [
         "3",
         "Michael Douglas runs afoul of a treacherous supervisor in this film version of Michael Crichton's novel. Douglas plays Tom Sanders, an executive at DigiCom, a leading computer software firm. DigiCom is about to launch a new virtual reality-based data storage system that is expected to revolutionize the industry, and Bob Garvin (Donald Sutherland), the owner of the company, is in the midst of negotiating a merger that could bring",
         "R",
         "Drama|Mystery and Suspense",
         "Barry Levinson",
         "128 minutes"
        ],
        [
         "4",
         null,
         "NR",
         "Drama|Romance",
         "Rodney Bennett",
         "200 minutes"
        ],
        [
         "5",
         "The year is 1942. As the Allies unite overseas to keep the world safe for democracy, there are voices at home that are barely heard. One of them belongs to Willie Morris, a shy and gawky eight-year-old whose childhood is even more quiet and isolated than his home town of Yazoo, Mississippi. An only child, ignored at school and uncomfortable with girls, Willie looks up to and confides in next-door neighbor Dink Jenkins, the town's star athlete, who's preparing to ship out in the service of Uncle Sam. Willie's father, Jack Morris, a stern but good-hearted veteran who lost his leg in the Spanish Civil War, is chiefly responsible for Willie's overprotective upbringing. Pushing in the other direction is his mother, Ellen Morris, a capable woman who knows that what Willie needs most is some freedom and a friend. Willie's ninth birthday gives her an opportunity to offer him both, in the form of a Jack Russell terrier puppy that the delighted Willie names Skip. Skip's outgoing personality helps Willie to build a friendship with Rivers Applewhite, the prettiest girl in school. Skip then further serves as matchmaker for Willie and Rivers at the movie theater, and lends a paw after Willie is challenged by Big Boy Wilkinson, Henjie Henick and Spit McGee to prove his worth in a football game. With Skip's canine help, Willie starts becoming \"one of the boys.\" Then unexpectedly, Dink returns to Yazoo. But the dark truth soon emerges: Dink, when confronted by the realities of war, went AWOL. In trying to reconcile his hero worship of the Dink he once knew with his disappointment in the disgraced soldier, Willie begins to contend with the complexities of war and human conduct. He reaches a new perspective on these matters through his father's eyes and his own. Dink fails to show up at Willie's first baseball game, and the disappointed Willie takes it out on Skip, who runs away. The dog's disappearance and subsequent recovery teach Willie the strength of forgiveness, and give Dink a chance to embrace the power of redemption. Ultimately, it is a dog's love that teaches Willie Morris lifelong lessons of the human spirit.",
         "PG",
         "Drama|Kids and Family",
         "Jay Russell",
         "95 minutes"
        ],
        [
         "6",
         "Some cast and crew from NBC's highly acclaimed, little-seen series Freaks and Geeks reunite for this teen comedy that also marks the first starring role for Tom Hanks' son, Colin. The younger Hanks plays Shaun Brumder, a high schooler eager to propel himself out of the land of surf bums and ranch homes to which the film's title refers. He's had his sights set on Stanford ever since he read the works of professor Marcus Skinner (Kevin Kline), and his transcript is stellar enough to gain him admission. Shaun is understandably furious, then, when he receives a rejection letter in the mail; after some detective work on his part, he realizes that his flaky counselor (Lily Tomlin) mistakenly sent the university the wrong papers. It's up to him to get to Stanford within 24 hours to set the record straight -- literally -- and he enlists the help of his slacker brother Lance (Jack Black) to do so. Orange County co-stars Catharine O'Hara and John Lithgow as Shaun and Lance's slightly unhinged parents; the film was directed by Jake Kasdan and written by Mike White, both of whom contributed to several episodes of Freaks and Geeks.",
         "PG-13",
         "Comedy",
         "Jake Kasdan",
         "82 minutes"
        ],
        [
         "7",
         "Stewart Kane, an Irishman living in the Australian town of Jindabyne, is on a fishing trip in isolated hill country with three other men when they discover the body of a murdered girl in the river. Rather than return to the town immediately, they continue fishing and report their gruesome find days later. Stewart's wife Claire is the last to find out. Deeply disturbed by her husband's actions, her faith in her relationship with Stewart is shaken to the core. She wants to understand and tries to make things right. In her determination to help the victim's family Claire sets herself not only against her own family and friends but also those of the dead girl. Her marriage is taken to the brink and her peaceful life with Stewart and their young son hangs in the balance.",
         "R",
         "Drama",
         "Ray Lawrence",
         "123 minutes"
        ],
        [
         "8",
         "\"Love Ranch\" is a bittersweet love story that turns explosive when the players in a romantic triangle lose control and cross the line. Set in the late-1970s, the film depicts larger than life personalities living on the edge, Grace Bontempo and Charlie Bontempo, the husband and wife team who own and run Nevada's first legalized brothel. Their lives are suddenly altered when Armando Bruza, a husky, world famous heavy weight boxer from South America is brought to the Ranch to train as part of Charlie's ever-expanding entrepreneurial empire. Plans quickly go awry when Bruza comes between Grace and Charlie as an unforeseen love triangle develops that erupts into uncontrollable passion and murder.",
         "R",
         "Drama",
         "Taylor Hackford",
         "117 minutes"
        ],
        [
         "9",
         "When a diamond expedition in the Congo is lost, a scientist is sent in to find out what happened. Tagging along is an primatologist taking a trained gorilla back to the wild and a Romanian treasure hunter. Jungle adventure flick is fun but never realistic.",
         "PG-13",
         "Action and Adventure|Mystery and Suspense|Science Fiction and Fantasy",
         "Frank Marshall",
         "108 minutes"
        ],
        [
         "10",
         null,
         null,
         null,
         null,
         null
        ],
        [
         "11",
         "In 1979, Bill Viola and Frank Caliguri dreamed up a contest pitting barroom bigmouths against wrestlers, martial artists, boxers, bouncers and brawlers, billed as no-holds-barred new type of competitive fighting. When the fights succeeded beyond their wildest expectations, they were swept up in a chain of events that ended in the first mixed-martial arts ban in the nation. \"Tough Guys\" chronicles the inception of Caliguri and Viola's first bouts and the colorful, crazy cast of fighters who made them a hit as well as the politicians who brought it all crashing down. The film brings to life a moment when the national martial arts craze was building to a crescendo as the economies of Pennsylvania steel towns were plummeting to levels of unemployment never seen, breeding desperate men looking for a chance to prove their worth and make some money in the ring.",
         "NR",
         "Documentary",
         null,
         null
        ],
        [
         "12",
         "While Microsoft may be the biggest software company in the world, not every computer user is a fan of their products, or their way of doing business. While Microsoft's Windows became the most widely used operating system for personal computers in the world, many experts took issue with Microsoft's strict policies regarding licensing, ownership, distribution, and alteration of their software. The objections of many high-profile technology experts, most notably Richard Stallman, led to what has become known as \"the Open Source Movement,\" which is centered on the belief that computer software should be free both in the economic and intellectual senses of the word. Eventually, one of Stallman's admirers, Linus Torvalds, created a new operating system called Linux, a freely distributed software which many programmers consider to be markedly superior to Windows. Revolution OS is a documentary that examines the genesis of the Open Source Movement, and explores and explains the technical and intellectual issues involved in a manner understandable to computer aficionados and non-techheads alike.",
         "NR",
         "Documentary|Special Interest",
         null,
         "90 minutes"
        ],
        [
         "13",
         "Rachel (Britt Ekland) is an Amish girl who rejects her religious upbringing and travels to the big city. She meets Raymond Paine (Jason Robards) and Billy Minsky (Elliot Gould) who put her on stage. A sensual striptease emerges from what was supposed to be a religious dance, eventually causing the cops to bust the place. Soon her father comes after his daughter who by now is coveted by gangsters. Forrest Tucker plays gangster Trim Houlihan, the quick-tempered Irishman. The film accurately reflects the mood of the burlesque halls which had died out by the time the feature was released. Veteran comic Burt Lahr, one of the last true burlesque and vaudeville performers, makes his last film appearance as Professor Spats. British comedian Norman Wisdom steals the show in his role as Chick Williams. Rudy Valee, the top crooning heartthrob of the 1920s, narrates and sings a few songs. The surviving Minsky brother Morton acted as technical advisor for this song and dance filled slice of Americana. Burlesque had all but died out by the time the film was release, and this feature accurately recalls the bygone era that started before talking pictures and even radio were mainstream items.",
         "PG-13",
         "Classics|Comedy|Drama",
         "William Friedkin",
         "97 minutes"
        ],
        [
         "14",
         "Old-school comic Rodney \"I get no respect\" Dangerfield headlines this broad-based comedy satire of trashy '90s-style television talk-shows. He plays the title host of an afternoon show that has become so sleazy that all but his most die-hard fans have stopped watching. Studio executive Lenny Spencer (Burt Reynolds) is so disgusted, that he gives Sparks one week to improve the ratings or else. To this end, Sparks attends a special reception hosted by his arch nemesis, ultra-conservative Governor Floyd Preston (David Ogden Stiers).",
         "R",
         "Comedy",
         "Peter Baldwin",
         "106 minutes"
        ],
        [
         "15",
         "Two-time Academy Award Winner Kevin Spacey gives the performance of a lifetime in CASINO JACK, a riotous new film starring Spacey as a man hell bent on acquiring all that the good life has to offer. He plays in the same game as the highest of rollers and resorts to awe-inspiring levels of conning, scheming and fraudulent antics to get what he wants. Inspired by true events that are too over-the-top for even the wildest imaginations to conjure, CASINO JACK lays bare the wild excesses and escapades of Jack Abramoff. Aided by his business partner Michael Scanlon (Barry Pepper), Jack parlays his clout over some of the world's most powerful men with the goal of creating a personal empire of wealth and influence. When the two enlist a mob-connected buddy (Jon Lovitz) to help with one of their illegal schemes, they soon find themselves in over their heads, entrenched in a world of mafia assassins, murder and a scandal that spins so out of control that it makes worldwide headlines. Directed by George Hickenlooper (FACTORY GIRL, THE MAN FROM ELYSIAN FIELDS), CASINO JACK returns Spacey to the type of role that made him famous - a cool-headed, articulate snake charmer whose wild ambitions knows no limits or boundaries. The film also stars Kelly Preston and Rachelle Lefevre and is produced by Gary Howsam, Bill Marks and George Vitetzakis from an original screenplay by Norman Snider. Executive Producers are Richard Rionda Del Castro, Lewin Webb, Donald Zuckerman, Dana Brunetti, Patricia Eberle, Warren Nimchuk, Angelo Paletta and Domenic Serafino. The Associate Producer is Rick Chad. -- (C) Art Takes Over",
         "R",
         "Comedy|Drama|Mystery and Suspense",
         "George Hickenlooper",
         "108 minutes"
        ],
        [
         "16",
         "A fictional film set in the alluring world of one of the most stunning scandals to rock our nation, American Hustle tells the story of brilliant con man Irving Rosenfeld (Christian Bale), who along with his equally cunning and seductive British partner Sydney Prosser (Amy Adams) is forced to work for a wild FBI agent Richie DiMaso (Bradley Cooper). DiMaso pushes them into a world of Jersey powerbrokers and mafia that's as dangerous as it is enchanting. Jeremy Renner is Carmine Polito, the passionate, volatile, New Jersey political operator caught between the con-artists and Feds. Irving's unpredictable wife Rosalyn (Jennifer Lawrence) could be the one to pull the thread that brings the entire world crashing down. Like David O. Russell's previous films, American Hustle defies genre, hinging on raw emotion, and life and death stakes. (c) Sony",
         "R",
         "Drama",
         null,
         "129 minutes"
        ],
        [
         "17",
         "Three young boys discover a stranded Russian sailor on the shores of Key West in this well-meaning but unexciting drama. Initially viewing him as an enemy, the boys soon grow to like their new companion and agree to help him find a way back to his homeland.",
         "PG",
         "Action and Adventure|Comedy|Drama",
         "Rick Rosenthal",
         "98 minutes"
        ],
        [
         "18",
         "From ancient Japan's most enduring tale, the epic 3D fantasy-adventure 47 Ronin is born. Keanu Reeves leads the cast as Kai, an outcast who joins Oishi (Hiroyuki Sanada), the leader of 47 outcast samurai. Together they seek vengeance upon the treacherous overlord who killed their master and banished their kind. To restore honor to their homeland, the warriors embark upon a quest that challenges them with a series of trials that would destroy ordinary warriors. 47 Ronin is helmed by visionary director Carl Erik Rinsch (The Gift). Inspired by styles as diverse as Miyazaki and Hokusai, Rinsch will bring to life the stunning landscapes and enormous battles that will display the timeless Ronin story to global audiences in a way that's never been seen before. -- (C) Universal",
         "PG-13",
         "Action and Adventure|Drama|Science Fiction and Fantasy",
         "Carl Erik Rinsch",
         "127 minutes"
        ],
        [
         "19",
         "A comic series of short vignettes build on one another to create a cumulative effect, as the characters discuss things as diverse as caffeine popsicles, Paris in the '20s, and the use of nicotine as an insecticide--all the while sitting around sipping coffee and smoking cigarettes. As director Jim Jarmusch delves into the normal pace of our world from an extraordinary angle, he shows just how absorbing the obsessions, joys and addictions of life can be, if truly observed.",
         "R",
         "Art House and International|Comedy|Drama|Musical and Performing Arts",
         "Jim Jarmusch",
         "96 minutes"
        ],
        [
         "20",
         null,
         "NR",
         "Musical and Performing Arts",
         null,
         null
        ],
        [
         "21",
         "Elvis goes Hawaiian for the second time in this tuneful romantic adventure. He plays an irresponsible pilot who, with a partner, struggles to set up a charter helicopter business. When not toiling at that, the King is wooing island beauties and singing.",
         "G",
         "Classics|Comedy|Musical and Performing Arts|Romance",
         null,
         "90 minutes"
        ],
        [
         "22",
         "This futuristic adventure stars Lee Majors as a former racing champ who reassembles his old Porsche and drives to California in a world where cars have been outlawed by the powers that be.",
         "PG",
         "Action and Adventure|Drama|Science Fiction and Fantasy",
         "Martyn Burke",
         "101 minutes"
        ],
        [
         "23",
         "Howard W. Campbell Jr. (Nick Nolte) is an American playwright living in pre-World War II Berlin. He is happily married to his lovely wife Helga (Sheryl Lee), and is acclaimed for his work, which gains him entree into Berlin's highest political and social circles. Then one day he's approached by Frank Wirtenan (John Goodman), an American intelligence agent who offers Campbell the opportunity to spy for his country. Campbell refuses. He wonders why he was asked. \"You're obsessed with the notion of pure hearts and heroism. You love good and you hate evil ...and you'd sacrifice anything in the name of romance,\" Wirtenan tells him. So Campbell agrees. He seamlessly infiltrates the Nazis and gets a job spewing hateful Nazi propaganda on a weekly radio show beamed across Europe. He barely survives the war, his wife supposedly doesn't, and finds himself living in New York City, penniless and befriended by a next-door neighbor, a painter and fellow widower (Alan Arkin). He might have lived quietly beyond that, but gets found by a ragged group of American neo-Nazis -- and, incredibly, his wife. The neo-Nazis publicize his presence and he learns that his neighbor is actually a spy and that his wife is really her little sister. Guilt-stricken and alone, Campbell turns himself in to the Israelis, who charge him with being a war criminal. He's about to go on trial in Israel when he receives a letter from Wirteman promising to reveal his heroic spying and exonerate him, but Campbell hangs himself in his cell.",
         "R",
         "Action and Adventure|Drama|Mystery and Suspense",
         "Keith Gordon",
         "114 minutes"
        ],
        [
         "24",
         "Director John Woo brings Hong Kong-style martial arts action to this comic book-flavored sequel that eschews the complicated plot and political maneuverings of its predecessor in favor of pure, adrenaline-charged thrills. Tom Cruise returns as Ethan Hunt, an operative for the top-secret government agency IMF (Impossible Missions Force). Fellow agent Sean Ambrose (Dougray Scott) has gone rogue, stealing a sample of a deadly synthetic virus named Chimera that could rapidly wipe out the world's population. Ambrose's plan is to sell Chimera to the highest bidder in exchange for shares of stock in the winner's company. Summoned by the new IMF chief (Anthony Hopkins in an uncredited cameo role), Ethan is assigned to recruit the help of Ambrose's former lover Nyah Nordoff-Hall (Thandie Newton), a gorgeous woman who left Ambrose broken-hearted and who may be able to quickly regain his confidence. Once he meets and spends a night with Nyah, however, Ethan is smitten, and now must both capture Ambrose and keep Nyah alive as she infiltrates a nest of vipers. Sophisticated disguises, gun battles, and high-speed chases are the order of the day, very much in the James Bond mold. Mission: Impossible 2 is based on a story by Star Trek: The Next Generation writers Ronald D. Moore and Brannon Braga, with a script polish by Robert Towne.",
         "PG-13",
         "Action and Adventure|Mystery and Suspense",
         "John Woo",
         "123 minutes"
        ],
        [
         "25",
         "In this film, conjoined twins Blake and Francis Falls share many vital organs. They have come to the big city to find their long-lost mother and end their suffering. Befriending a prostitute, Blake reveals that Francis is dying. He must choose between dying with his brother or a risky operation.",
         "R",
         "Drama",
         "Michael Polish",
         "110 minutes"
        ],
        [
         "26",
         "You'd think they would know better from their first glance at the foreboding stone exterior of the blood-sucking Count's castle, but apparently they didn't, for this young couple, who are looking for the young man's missing brother, walks right into Dracula's lair. Christopher Lee plays Count Dracula in this gory and violent scare-maker.",
         "R",
         "Art House and International|Classics|Horror|Mystery and Suspense",
         "Roy Ward Baker",
         "96 minutes"
        ],
        [
         "27",
         "A group of stoners at a rock festival is stalked by a serial killer wearing a Ronald Reagan mask in the unrated version of this outrageous horror comedy featuring a cast that includes Courteney Cox and David Arquette, who also co-wrote and directed. Jaime King, Thomas Jane, Jason Mewes, Balthazar Getty.",
         "R",
         "Horror",
         "David Arquette",
         "97 minutes"
        ],
        [
         "28",
         "John Sayles' Casa de los Babys tells the tale of a half-dozen American women who travel to Latin America in order to pick up their adopted children. They all stay at the same motel while they each wade through the bureaucracy. Sharing with each other their fears, hopes, dreams, and frustrations at the thoughts of becoming mothers comprises the majority of the drama in the film. The cast includes Maggie Gyllenhaal, Daryl Hannah, Marcia Gay Harden, Susan Lynch, Mary Steenburgen, Lili Taylor, and Rita Moreno.",
         "R",
         "Drama",
         "John Sayles",
         "95 minutes"
        ],
        [
         "29",
         "Ken Loach directs Sweet Sixteen, a gritty drama about a young man slowly succumbing to a life of crime. Liam (Martin Compson) hopes that his imprisoned mother (Michelle Coulter) will be free by his 16th birthday. Hoping to help his mother escape her abusive heroin-dealing boyfriend (Gary McCormack), Liam rats him out to the cops. Liam's sister, Chantelle (Annmarie Fulton), suggests that a new trailer park might be a better place for their mother to live. With the help of his best friend, Pinball (William Ruanne), Liam sells the boyfriend's supply in order to raise the money, but this gets him into trouble with gangsters whose turf he was selling in. Soon Liam is on the way up in the criminal world, but that success comes with a toll. The accents in this Scottish-set film are so thick that English subtitles are used throughout. Sweet Sixteen was screened in competition at the 2002 Cannes Film Festival.",
         "R",
         "Drama",
         "Ken Loach",
         "106 minutes"
        ],
        [
         "30",
         "Warner Bros.' \"Perry Mason\" series quietly slipped from the \"A\" to the \"B\" category with this adaptation of Erle Stanley Gardner's The Case of the Caretaker's Cat. Ricardo Cortez and June Travis take over from Warren William and Claire Dodd as criminal attorney Perry Mason and his faithful secretary Della Street. Though the characters had been married in Case of the Velvet Claws, they're unattached again here, though Della is still hoping. This time there are three murders, all connected with a hectic treasure hunt and a screeching feline (grey, not black",
         "G",
         "Action and Adventure|Classics|Drama|Mystery and Suspense",
         null,
         "65 minutes"
        ],
        [
         "31",
         "Based on the play",
         "NR",
         "Classics|Comedy|Musical and Performing Arts",
         "William Wellman",
         "75 minutes"
        ],
        [
         "32",
         "Can death be a good career move? The star of Bio-Dome, Jury Duty, and In the Army Now decides to find out in this satirical comedy. Pauly Shore (playing himself) takes a role on a new situation comedy series for FOX TV after a string of awful movies puts paid to his film career, but when the show is axed at the last moment, Shore finds himself flat broke and unable to find work in Hollywood. At the end of his rope, one night Shore is visited by the ghost of comic Sam Kinison, who suggests that killing himself might be the answer. Shore lacks the nerve to go quite that far, but he goes half-way by faking his own death and is amazed to discover an outpouring of post-mortem enthusiasm for him and his body of work, with the dead comic now praised as a genius; however, as Shore tries to figure out how to capitalize on this outpouring of acceptance, word begins to spread that the comic is actually alive and well, which only causes more problems for him. Produced under the title You'll Never Wiez In This Town Again, Pauly Shore Is Dead was written and directed by Shore himself and features an impressive list of celebrity cameos including Chris Rock, Sean Penn, Ellen DeGeneres, Britney Spears, Vince Vaughn, Andy Dick, Paris Hilton, and lots more.",
         "R",
         "Comedy",
         "Pauly Shore",
         "82 minutes"
        ],
        [
         "33",
         "Hawaiian surfer dudes Stew (Steve Van Wormer) and Phil Deedle (Paul Walker), fraternal twins, are about to be expelled from school, so their wealthy and concerned father (Eric Braeden) offers summer camp in Wyoming as a solution. Arriving in Jackson Hole with their wet suits, the Deedle twins are like fish out of water, and a series of accidents put them in a hospital. Mistaken for new recruits by Yellowstone Park ranger Capt. Pine (Douglas Ashton), the duo go along with the error after meeting their training officer, the attractive Lt. Jesse Ryan (A.J. Langer), but they are unprepared to adapt to life in the wild, as they cope with mountainside rappelling, sleeping in tents, eating worms, and dealing with hordes of prairie dogs unleashed by ex-ranger Frank Slater (Dennis Hopper), who seeks vengeance for his past problems in the park. There are several pop-culture references, including a cameo by Bart the Bear (of The Edge).",
         "PG",
         "Comedy|Kids and Family",
         "Steve Boyum",
         "92 minutes"
        ],
        [
         "34",
         "Six guys with nothing left to lose try losing their clothing for fun and profit in this international hit comedy. Gaz (Robert Carlyle) and Dave (Mark Addy) are two former steelworkers in the British industrial town of Sheffield who have been devastated by the economic downturn in their community. Gaz is threatened with losing visitation rights with his son if he can't pay his child support, while Dave feels emasculated by his inability to support his wife. One day, Gaz stops by a local pub for a drink and is told it's women only tonight -- the Chippendales male exotic dancing troupe is playing, and they are demanding a hefty cover charge. Gaz decides there's nothing a bunch of pantywaists from America can do that he and his pals can't do better, and decides to form his own crew of male strippers, called \"Hard Steel.\" However, the local talent pool leaves a bit to be desired. Gaz isn't bad looking, but Dave is a bit heavy and very self conscious about it. Horse (Paul Barber) was probably hot stuff at Soul Night in the mid-70's, but his joints don't move like they used to. Guy (Hugo Speer) can't dance to save his life, but makes the troupe because ... well, let's say he and Dirk Diggler would have a lot to say to each other. Lomper (Steve Huison) is sometimes too busy attempting suicide to practice. And Gerald (Tom Wilkinson), their choreographer, isn't much on male exotic dancing -- ballroom dancing is more his speed. While \"Hard Steel\"'s performances are more amusing then enticing, for the first time since they lost their jobs the men have a reason to get up in the morning; joining the group has given them a circle of friendship, and a renewed sense of purpose. Combining broad comedy with believable and well-drawn characters, The Full Monty was a major box-office hit both in England and the United States and was nominated for Academy Awards as Best Picture, Best Director, and Best Original Screenplay.",
         "R",
         "Comedy|Musical and Performing Arts",
         "Peter Cattaneo",
         "91 minutes"
        ],
        [
         "35",
         "To fully enjoy the rugged outdoors adventure The Mountain, one must accept the notion that 55-year-old Spencer Tracy and 25-year-old Robert Wagner are brothers. Tracy plays veteran mountain guide Zachary Wheeler, who is coaxed out of retirement when a passenger plane crashes on high mountain. He decides it isn't worth risking his life to recover the bodies of the passengers, but hot-headed younger brother Chris (Robert Wagner), hoping to claim the victims' valuables, talks Zachary into accompanying him to the mountaintop. After their treacherous upward journey, the brothers discover that one of the passengers, a Hindu girl (Anna Kashfi), is still alive. Zachary wants to bring her back to safety, but the greedy Chris would rather abandon her and make off with the valuables. It is, inevitable, then, that not everyone involved is going to get off the mountain alive. A worthwhile character study enhanced by superb location photography, The Mountain is compromised by its overreliance on phony-looking studio \"exteriors\".",
         "NR",
         "Action and Adventure|Drama|Western",
         "Edward Dmytryk",
         "73 minutes"
        ],
        [
         "36",
         "Two gorgeous women -- Donna (Dona Speir) and Taryn (Hope Marie Carlton) -- operate a airplane cargo delivery service in Hawaii. Their latest shipment includes a very large, very nasty snake destined for the local zoo. But the delivery is interrupted when they stumble on a cache of diamonds that were to go to a ruthless drug dealer, Seth (Rodrigo Obregon). Seth sends a transvestite to kidnap the owner of a restaurant, Edy (Cynthia Brimhall), so his men can torture her with a female bodybuilder into revealing where Donna and Taryn are. Luckily for all the good guys, Special Agent Rowdy Abilene (Ronn Moss) has a bazooka, and he knows how to use it. And unluckily for Seth, that nasty snake has broken out of its box.",
         "R",
         "Action and Adventure|Comedy|Mystery and Suspense",
         "Andy Sidaris",
         "100 minutes"
        ],
        [
         "37",
         "A New York City police officer (Don Murray) uses brutal methods to dispose of a would-be mugger (James Earl Jones) and then entreats the mugger's victim (Diahn Williams) to keep the affair a secret. While initially agreeing, she begins to suspect that he's holding something back.",
         "R",
         "Action and Adventure|Drama",
         "Ivan Nagy",
         "99 minutes"
        ],
        [
         "38",
         "Wait Until Dark is an innovative, highly entertaining and suspenseful thriller about a blind housewife, Susy Hendrix (Audrey Hepburn). Independent and resourceful, Susy is learning to cope with her blindness, which resulted from a recent accident. She is aided by her difficult, slightly unreliable young neighbor Gloria (Julie Herrod) with whom she has an exasperated but lovingly maternal relationship. Susy's life is changed as she is terrorized by a group of criminals who believe she has hidden a baby doll used by them to smuggle heroin into the country. Unknown to Susy, her photographer husband Sam (Efrem Zimbalist Jr.) took the doll as a favor for a woman he met on an international plane flight and unwittingly brought the doll to the couple's New York apartment when the woman became afraid of the customs officials. Alone in her apartment and cut-off from the outside world, Susy must fight for her life against a gang of ruthless criminals, led by the violent, psychotic Roat (Alan Arkin). The tension builds as Roat, aided by his gang, impersonates police officers and friends of her husband in order to win Susy's confidence, gaining access to her apartment to look for the doll. The climax of the film, a violent physical confrontation between Susie and Roat in her dark kitchen, is one of the most memorable and frightening scenes in screen history. All performances are outstanding, particularly those of Audrey Hepburn who plays a vulnerable, but self-reliant woman, and Alan Arkin, in perhaps his best role, as the ruthless, manipulative Roat.",
         "NR",
         "Mystery and Suspense",
         "Terence Young",
         "108 minutes"
        ],
        [
         "39",
         "This offbeat romantic comedy has some rather dark underpinnings that add, rather than detract from the fun. It is the story of Lucy, an extremely lonely young woman who works as a toll-taker for the Chicago Transit Authority. She is secretly in love with a handsome stranger in a camel-hair coat who passes by her every day but never even says hello to her. Just before Christmas, she is at work when she sees her \"love\" pushed, mugged and shoved off the train platform. Without hesitation she leaps down to pull the unconscious fellow out of the path of a speeding train. Later in the hospital, a series of complex misunderstandings occur and the woman is mistaken for the man's fiancee. As he is deeply comatose, Lucy goes along with it, much to the delight of the man's loud, dysfunctional family. Lucy has no real family, and she is happy to be a part of his strange brood. To make sure she stays, she decides to take certain liberties with her sleeping husband-to-be. Meanwhile, she and the patient's brother find themselves drawn to each other.",
         "PG",
         "Comedy|Drama|Romance",
         "Jon Turteltaub",
         "103 minutes"
        ],
        [
         "40",
         "La autobiograf",
         "PG",
         "Drama|Romance",
         null,
         "112 minutes"
        ],
        [
         "41",
         "Journalist Jep Gambardella (the dazzling Toni Servillo, Il divo and Gomorrah) has charmed and seduced his way through the lavish nightlife of Rome for decades. Since the legendary success of his one and only novel, he has been a permanent fixture in the city's literary and social circles, but when his sixty-fifth birthday coincides with a shock from the past, Jep finds himself unexpectedly taking stock of his life, turning his cutting wit on himself and his contemporaries, and looking past the extravagant nightclubs, parties, and caf",
         "NR",
         "Comedy|Drama",
         "Paolo Sorrentino",
         "142 minutes"
        ],
        [
         "42",
         "A progressive scientist builds a machine that allows him time travel in this adaptation of the classic from H.G. Wells.",
         "NR",
         "Action and Adventure|Science Fiction and Fantasy",
         "Henning Schellerup",
         "99 minutes"
        ],
        [
         "43",
         "Albert Hughes and his brother Allen Hughes followed their striking debut Menace II Society with this ambitious look at the social and political lives of the African-American community in the late 1960s and early 1970s. Anthony Curtis (Larenz Tate) is a young man coming of age in the Bronx in 1968. Working two part-time jobs -- one as a milkman's helper and another for local numbers runner Kirby (Keith David) -- Anthony is torn between doing the right thing and trying to get by in a environment that offers few opportunities to young black men. After graduating from high school, Anthony decides to join the Marines, news that is not well-received by his parents, who want him to go to college, or his girlfriend Juanita (Rose Jackson), with whom Anthony recently lost his virginity. After serving a horrific tour of duty in Viet Nam with his friends Skip (Chris Tucker) and Jose (Freddy Rodriguez), Anthony finds himself back home in 1973, where Juanita has been raising the child he fathered before he shipped out, drugs and crime have crippled his community, and honest job prospects are practically nil. Eventually, Anthony falls in with Kirby, Skip, and Jose, who have teamed with Juanita's sister Delilah (N'Bushe Wright), a Black Power activist, and Cleon (Bokeem Woodbine), in a scheme to rob an armored truck taking worn greenbacks (\"dead presidents\") to a mint to be destroyed. Martin Sheen and Seymour Cassel appear unbilled in small roles.",
         "R",
         "Drama",
         "Allen Hughes|Albert Hughes",
         "119 minutes"
        ],
        [
         "44",
         "Life doesn't always go according to plan. Pat Solatano (Bradley Cooper) has lost everything -- his house, his job, and his wife. He now finds himself living back with his mother (Jacki Weaver) and father (Robert DeNiro) after spending eight months is a state institution on a plea bargain. Pat is determined to rebuild his life, remain positive and reunite with his wife, despite the challenging circumstances of their separation. All Pat's parents want is for him to get back on his feet-and to share their family's obsession with the Philadelphia Eagles football team. When Pat meets Tiffany (Jennifer Lawrence), a mysterious girl with problems of her own, things get complicated. Tiffany offers to help Pat reconnect with his wife, but only if he'll do something very important for her in return. As their deal plays out, an unexpected bond begins to form between them, and silver linings appear in both of their lives. -- (C) Weinstein",
         "R",
         "Comedy",
         null,
         "122 minutes"
        ],
        [
         "45",
         "A smaller, amusing comedy from writer/director Woody Allen, Broadway Danny Rose begins with a bunch of show business vets sitting around a table at New York's Carnegie Deli and reminiscing about the legendary titular character, a loser of an agent who would represent anyone, including blind xylophonists, piano-playing birds, and has-been crooners with drinking problems. Allen plays Rose as a befuddled, warm-hearted schlub who finally has a shot at getting somewhere when he signs washed-up lounge singer Lou Canova (Nick Apollo Forte) and nearly brings his career back to life. Danny gets him a date at the Waldorf, where Milton Berle is in the audience, looking for guests for his TV special. Canova has a complicated love life, juggling both a wife and a girlfriend. so he enlists Danny to take the girlfriend, Tina Vitale (Mia Farrow), to the concert. But Canova and Tina have a fight, she goes back to her Mafioso boyfriend, and Danny winds up getting chased halfway around New York and New Jersey by the Mob. And of course, once Canova gets his big break, he dumps Danny for another agent. Allen, Forte, and especially Farrow all do strong work with characters that could have easily become stereotypes, and the film has a lighter, warmer touch than the Allen films that preceded it (Stardust Memories and Zelig).",
         "PG",
         "Comedy|Romance",
         "Woody Allen",
         "86 minutes"
        ],
        [
         "46",
         "Set in the northern province of Shandong during the 1920s and early 30s, a young bride, on her way to a prearranged future with the leprous owner of a wine distillery, avoids rape and then abduction, is seduced, takes over her mysteriously dead husband's business, is captured, then ransomed and ultimately perishes during the Manchurian invasion by the Japanese.",
         "NR",
         "Art House and International|Drama",
         "Yimou Zhang",
         "91 minutes"
        ],
        [
         "47",
         "In 1982, Crippen High School was the scene of a gruesome series of dismemberment murders, but the killer was never identified. Five years later, Cosmic Pictures arrives at the long-abandoned campus to make a low-budget horror movie based on the tragedy, and suddenly the terror begins anew. The police department arrives at the school to find the building and grounds covered in gore and human body parts, the remains of the unfortunate film crew. The only survivor of this new massacre is the screenwriter, Arthur (Richard Brestoff), who tries to explain the horrifying events to the authorities. The troubled production's leading lady is angered over the demeaning nature of her role, the producer and director argue over the film's lack of artistic merits, and when cast members start disappearing, everyone else assumes that they're just quitting out of disgust. Who is the culprit? Is it the school's principal, appearing as himself in the film for the sake of realism? The janitor, who hopes to parlay his cameo into a pornography career? Or maybe Steven (Brendan Hughes), who was a student at Crippen during the original murder spree and finds himself reluctantly cast as the hero? This self-referential slasher parody features George Clooney in a small part as the film's first victim, and The Brady Bunch's Maureen McCormick as a policewoman with a lust for blood and hot dogs.",
         "R",
         "Horror",
         "Bill Froehlich",
         "95 minutes"
        ],
        [
         "48",
         "Death once again shows he's determined to get what he wants in this teen-centric thriller. Wendy (Mary Elizabeth Winstead) is a high school student hanging out with her friends at an amusement park one night when they decide to ride on the roller coaster. Wendy, however, has a premonition that something horrible will happen, and finds a way to save herself shortly before the ride goes off the rails, killing most of its passengers, including her boyfriend, Jason (Jesse Moss), and best friend, Carrie (Gina Holden). However, while Wendy may have survived the night at the park, she soon discovers that a malevolent spirit is following her and her classmates as they begin dying in strange and horrible ways. Wendy learns that a series of snapshots taken that evening give clues to the mayhem that followed her pals, and she teams up with Kevin (Ryan Merriman), Carrie's sweetheart, to try to warn the potential victims about the fates soon to befall them. Final Destination 3 was directed and co-scripted by James Wong, who also helmed the first two films in the franchise.",
         "R",
         "Action and Adventure|Drama|Horror|Mystery and Suspense",
         "James Wong",
         "93 minutes"
        ],
        [
         "49",
         "A policeman plays Good Samaritan to a visitor from Ireland, only to discover that he has a potentially deadly secret. Belfast-born Frankie McGuire (Brad Pitt) saw his father gunned down by enemy soldiers at the age of eight, and when he grew up he joined the Irish Republican Army, determined that one day his father's death would be avenged. An especially ruthless \"volunteer,\" Frankie is responsible for the death of 13 British soldiers and 11 policemen. After a particularly bloody battle, Frankie sails to the United States in a ragged tugboat he has restored; with a huge bundle of cash, Frankie intends to buy a stock of Stinger missiles from an underground arms dealer in America, Billy Burke (Treat Williams). Upon arrival in New York, Frankie is met by a judge who is sympathetic to the IRA's cause and who arranges a place for him to stay. Using the name Rory Devaney, Frankie moves into the home of Tom O'Meara (Harrison Ford), a scrupulously honest cop. Tom is already in the midst of a personal crisis; his friend and partner Edwin Diaz (Ruben Blades) recently shot a man that he knew was unarmed in the line of duty, and while Edwin wants Tom to help him cover up the matter, Tom's conscience will not allow it. When Tom begins to realize that \"Rory\" is not simply a man running from the violence of his homeland, he's torn between his sympathy for Frankie's tragic childhood and his desire to see justice served and prevent needless death in Ireland.",
         "R",
         "Action and Adventure|Drama|Mystery and Suspense",
         null,
         "111 minutes"
        ]
       ],
       "shape": {
        "columns": 5,
        "rows": 1560
       }
      },
      "text/html": [
       "<div>\n",
       "<style scoped>\n",
       "    .dataframe tbody tr th:only-of-type {\n",
       "        vertical-align: middle;\n",
       "    }\n",
       "\n",
       "    .dataframe tbody tr th {\n",
       "        vertical-align: top;\n",
       "    }\n",
       "\n",
       "    .dataframe thead th {\n",
       "        text-align: right;\n",
       "    }\n",
       "</style>\n",
       "<table border=\"1\" class=\"dataframe\">\n",
       "  <thead>\n",
       "    <tr style=\"text-align: right;\">\n",
       "      <th></th>\n",
       "      <th>synopsis</th>\n",
       "      <th>rt_rating</th>\n",
       "      <th>rt_genre</th>\n",
       "      <th>rt_director</th>\n",
       "      <th>rt_rintime</th>\n",
       "    </tr>\n",
       "  </thead>\n",
       "  <tbody>\n",
       "    <tr>\n",
       "      <th>0</th>\n",
       "      <td>This gritty, fast-paced, and innovative police...</td>\n",
       "      <td>R</td>\n",
       "      <td>Action and Adventure|Classics|Drama</td>\n",
       "      <td>William Friedkin</td>\n",
       "      <td>104 minutes</td>\n",
       "    </tr>\n",
       "    <tr>\n",
       "      <th>1</th>\n",
       "      <td>New York City, not-too-distant-future: Eric Pa...</td>\n",
       "      <td>R</td>\n",
       "      <td>Drama|Science Fiction and Fantasy</td>\n",
       "      <td>David Cronenberg</td>\n",
       "      <td>108 minutes</td>\n",
       "    </tr>\n",
       "    <tr>\n",
       "      <th>2</th>\n",
       "      <td>Illeana Douglas delivers a superb performance ...</td>\n",
       "      <td>R</td>\n",
       "      <td>Drama|Musical and Performing Arts</td>\n",
       "      <td>Allison Anders</td>\n",
       "      <td>116 minutes</td>\n",
       "    </tr>\n",
       "    <tr>\n",
       "      <th>3</th>\n",
       "      <td>Michael Douglas runs afoul of a treacherous su...</td>\n",
       "      <td>R</td>\n",
       "      <td>Drama|Mystery and Suspense</td>\n",
       "      <td>Barry Levinson</td>\n",
       "      <td>128 minutes</td>\n",
       "    </tr>\n",
       "    <tr>\n",
       "      <th>4</th>\n",
       "      <td>NaN</td>\n",
       "      <td>NR</td>\n",
       "      <td>Drama|Romance</td>\n",
       "      <td>Rodney Bennett</td>\n",
       "      <td>200 minutes</td>\n",
       "    </tr>\n",
       "    <tr>\n",
       "      <th>...</th>\n",
       "      <td>...</td>\n",
       "      <td>...</td>\n",
       "      <td>...</td>\n",
       "      <td>...</td>\n",
       "      <td>...</td>\n",
       "    </tr>\n",
       "    <tr>\n",
       "      <th>1555</th>\n",
       "      <td>Forget terrorists or hijackers -- there's a ha...</td>\n",
       "      <td>R</td>\n",
       "      <td>Action and Adventure|Horror|Mystery and Suspense</td>\n",
       "      <td>NaN</td>\n",
       "      <td>106 minutes</td>\n",
       "    </tr>\n",
       "    <tr>\n",
       "      <th>1556</th>\n",
       "      <td>The popular Saturday Night Live sketch was exp...</td>\n",
       "      <td>PG</td>\n",
       "      <td>Comedy|Science Fiction and Fantasy</td>\n",
       "      <td>Steve Barron</td>\n",
       "      <td>88 minutes</td>\n",
       "    </tr>\n",
       "    <tr>\n",
       "      <th>1557</th>\n",
       "      <td>Based on a novel by Richard Powell, when the l...</td>\n",
       "      <td>G</td>\n",
       "      <td>Classics|Comedy|Drama|Musical and Performing Arts</td>\n",
       "      <td>Gordon Douglas</td>\n",
       "      <td>111 minutes</td>\n",
       "    </tr>\n",
       "    <tr>\n",
       "      <th>1558</th>\n",
       "      <td>The Sandlot is a coming-of-age story about a g...</td>\n",
       "      <td>PG</td>\n",
       "      <td>Comedy|Drama|Kids and Family|Sports and Fitness</td>\n",
       "      <td>David Mickey Evans</td>\n",
       "      <td>101 minutes</td>\n",
       "    </tr>\n",
       "    <tr>\n",
       "      <th>1559</th>\n",
       "      <td>Suspended from the force, Paris cop Hubert is ...</td>\n",
       "      <td>R</td>\n",
       "      <td>Action and Adventure|Art House and Internation...</td>\n",
       "      <td>NaN</td>\n",
       "      <td>94 minutes</td>\n",
       "    </tr>\n",
       "  </tbody>\n",
       "</table>\n",
       "<p>1560 rows × 5 columns</p>\n",
       "</div>"
      ],
      "text/plain": [
       "                                               synopsis rt_rating  \\\n",
       "0     This gritty, fast-paced, and innovative police...         R   \n",
       "1     New York City, not-too-distant-future: Eric Pa...         R   \n",
       "2     Illeana Douglas delivers a superb performance ...         R   \n",
       "3     Michael Douglas runs afoul of a treacherous su...         R   \n",
       "4                                                   NaN        NR   \n",
       "...                                                 ...       ...   \n",
       "1555  Forget terrorists or hijackers -- there's a ha...         R   \n",
       "1556  The popular Saturday Night Live sketch was exp...        PG   \n",
       "1557  Based on a novel by Richard Powell, when the l...         G   \n",
       "1558  The Sandlot is a coming-of-age story about a g...        PG   \n",
       "1559  Suspended from the force, Paris cop Hubert is ...         R   \n",
       "\n",
       "                                               rt_genre         rt_director  \\\n",
       "0                   Action and Adventure|Classics|Drama    William Friedkin   \n",
       "1                     Drama|Science Fiction and Fantasy    David Cronenberg   \n",
       "2                     Drama|Musical and Performing Arts      Allison Anders   \n",
       "3                            Drama|Mystery and Suspense      Barry Levinson   \n",
       "4                                         Drama|Romance      Rodney Bennett   \n",
       "...                                                 ...                 ...   \n",
       "1555   Action and Adventure|Horror|Mystery and Suspense                 NaN   \n",
       "1556                 Comedy|Science Fiction and Fantasy        Steve Barron   \n",
       "1557  Classics|Comedy|Drama|Musical and Performing Arts      Gordon Douglas   \n",
       "1558    Comedy|Drama|Kids and Family|Sports and Fitness  David Mickey Evans   \n",
       "1559  Action and Adventure|Art House and Internation...                 NaN   \n",
       "\n",
       "       rt_rintime  \n",
       "0     104 minutes  \n",
       "1     108 minutes  \n",
       "2     116 minutes  \n",
       "3     128 minutes  \n",
       "4     200 minutes  \n",
       "...           ...  \n",
       "1555  106 minutes  \n",
       "1556   88 minutes  \n",
       "1557  111 minutes  \n",
       "1558  101 minutes  \n",
       "1559   94 minutes  \n",
       "\n",
       "[1560 rows x 5 columns]"
      ]
     },
     "execution_count": 23,
     "metadata": {},
     "output_type": "execute_result"
    }
   ],
   "source": [
    "rt_info_cp = rt_info_cp.rename(columns={\n",
    "    \"rating\": \"rt_rating\", \n",
    "    \"genre\": \"rt_genre\",\n",
    "    \"director\": \"rt_director\",\n",
    "    \"runtime\": \"rt_rintime\"\n",
    "})\n",
    "rt_info_cp"
   ]
  },
  {
   "cell_type": "code",
   "execution_count": 24,
   "id": "3d833780",
   "metadata": {},
   "outputs": [],
   "source": [
    "rt_info_cp['rt_taring'] = rt_info_cp['rt_rating'].fillna(\"UNK\")"
   ]
  },
  {
   "cell_type": "code",
   "execution_count": 25,
   "id": "38fb8c6c",
   "metadata": {},
   "outputs": [
    {
     "data": {
      "text/plain": [
       "<Axes: xlabel='rt_rating', ylabel='Count'>"
      ]
     },
     "execution_count": 25,
     "metadata": {},
     "output_type": "execute_result"
    },
    {
     "data": {
      "image/png": "[encoded data removed]",
      "text/plain": [
       "<Figure size 640x480 with 1 Axes>"
      ]
     },
     "metadata": {},
     "output_type": "display_data"
    }
   ],
   "source": [
    "sns.histplot(data=rt_info_cp['rt_rating'])"
   ]
  },
  {
   "cell_type": "markdown",
   "id": "79652ca7",
   "metadata": {},
   "source": [
    "-----------------------------"
   ]
  },
  {
   "cell_type": "markdown",
   "id": "33868d09",
   "metadata": {},
   "source": [
    "## IMDB Data, SQL Cleaning and Understanding "
   ]
  },
  {
   "cell_type": "code",
   "execution_count": 26,
   "id": "bd852fc6",
   "metadata": {},
   "outputs": [
    {
     "name": "stdout",
     "output_type": "stream",
     "text": [
      "<class 'pandas.core.frame.DataFrame'>\n",
      "RangeIndex: 146144 entries, 0 to 146143\n",
      "Data columns (total 6 columns):\n",
      " #   Column           Non-Null Count   Dtype  \n",
      "---  ------           --------------   -----  \n",
      " 0   movie_id         146144 non-null  object \n",
      " 1   primary_title    146144 non-null  object \n",
      " 2   original_title   146123 non-null  object \n",
      " 3   start_year       146144 non-null  int64  \n",
      " 4   runtime_minutes  114405 non-null  float64\n",
      " 5   genres           140736 non-null  object \n",
      "dtypes: float64(1), int64(1), object(4)\n",
      "memory usage: 6.7+ MB\n",
      "movie_id               0\n",
      "primary_title          0\n",
      "original_title        21\n",
      "start_year             0\n",
      "runtime_minutes    31739\n",
      "genres              5408\n",
      "dtype: int64\n"
     ]
    }
   ],
   "source": [
    "movie_basics = imdb_tables['movie_basics'].copy(deep=True)\n",
    "movie_basics.shape\n",
    "movie_basics.head()\n",
    "movie_basics.info()\n",
    "movie_basics.describe()\n",
    "movie_basics.columns\n",
    "print(movie_basics.isna().sum())\n"
   ]
  },
  {
   "cell_type": "code",
   "execution_count": 27,
   "id": "0b83646c",
   "metadata": {},
   "outputs": [
    {
     "data": {
      "application/vnd.microsoft.datawrangler.viewer.v0+json": {
       "columns": [
        {
         "name": "index",
         "rawType": "int64",
         "type": "integer"
        },
        {
         "name": "movie_id",
         "rawType": "object",
         "type": "string"
        },
        {
         "name": "primary_title",
         "rawType": "object",
         "type": "string"
        },
        {
         "name": "original_title",
         "rawType": "object",
         "type": "unknown"
        },
        {
         "name": "start_year",
         "rawType": "int64",
         "type": "integer"
        },
        {
         "name": "runtime_minutes",
         "rawType": "float64",
         "type": "float"
        },
        {
         "name": "genres",
         "rawType": "object",
         "type": "unknown"
        }
       ],
       "ref": "ce47c35b-b45c-4e35-ab80-abc5fe9fd8ef",
       "rows": [
        [
         "0",
         "tt0063540",
         "Sunghursh",
         "Sunghursh",
         "2013",
         "175.0",
         "Action,Crime,Drama"
        ],
        [
         "1",
         "tt0066787",
         "One Day Before the Rainy Season",
         "Ashad Ka Ek Din",
         "2019",
         "114.0",
         "Biography,Drama"
        ],
        [
         "2",
         "tt0069049",
         "The Other Side of the Wind",
         "The Other Side of the Wind",
         "2018",
         "122.0",
         "Drama"
        ],
        [
         "3",
         "tt0069204",
         "Sabse Bada Sukh",
         "Sabse Bada Sukh",
         "2018",
         null,
         "Comedy,Drama"
        ],
        [
         "4",
         "tt0100275",
         "The Wandering Soap Opera",
         "La Telenovela Errante",
         "2017",
         "80.0",
         "Comedy,Drama,Fantasy"
        ],
        [
         "5",
         "tt0111414",
         "A Thin Life",
         "A Thin Life",
         "2018",
         "75.0",
         "Comedy"
        ],
        [
         "6",
         "tt0112502",
         "Bigfoot",
         "Bigfoot",
         "2017",
         null,
         "Horror,Thriller"
        ],
        [
         "7",
         "tt0137204",
         "Joe Finds Grace",
         "Joe Finds Grace",
         "2017",
         "83.0",
         "Adventure,Animation,Comedy"
        ],
        [
         "8",
         "tt0139613",
         "O Silêncio",
         "O Silêncio",
         "2012",
         null,
         "Documentary,History"
        ],
        [
         "9",
         "tt0144449",
         "Nema aviona za Zagreb",
         "Nema aviona za Zagreb",
         "2012",
         "82.0",
         "Biography"
        ],
        [
         "10",
         "tt0146592",
         "Pál Adrienn",
         "Pál Adrienn",
         "2010",
         "136.0",
         "Drama"
        ],
        [
         "11",
         "tt0154039",
         "So Much for Justice!",
         "Oda az igazság",
         "2010",
         "100.0",
         "History"
        ],
        [
         "12",
         "tt0159369",
         "Cooper and Hemingway: The True Gen",
         "Cooper and Hemingway: The True Gen",
         "2013",
         "180.0",
         "Documentary"
        ],
        [
         "13",
         "tt0162942",
         "Children of the Green Dragon",
         "A zöld sárkány gyermekei",
         "2010",
         "89.0",
         "Drama"
        ],
        [
         "14",
         "tt0170651",
         "T.G.M. - osvoboditel",
         "T.G.M. - osvoboditel",
         "2018",
         "60.0",
         "Documentary"
        ],
        [
         "15",
         "tt0176694",
         "The Tragedy of Man",
         "Az ember tragédiája",
         "2011",
         "160.0",
         "Animation,Drama,History"
        ],
        [
         "16",
         "tt0187902",
         "How Huang Fei-hong Rescued the Orphan from the Tiger's Den",
         "How Huang Fei-hong Rescued the Orphan from the Tiger's Den",
         "2011",
         null,
         null
        ],
        [
         "17",
         "tt0192528",
         "Heaven & Hell",
         "Reverse Heaven",
         "2018",
         "104.0",
         "Drama"
        ],
        [
         "18",
         "tt0230212",
         "The Final Journey",
         "The Final Journey",
         "2010",
         "120.0",
         "Drama"
        ],
        [
         "19",
         "tt0247643",
         "Los pájaros se van con la muerte",
         "Los pájaros se van con la muerte",
         "2011",
         "110.0",
         "Drama,Mystery"
        ],
        [
         "20",
         "tt0249516",
         "Foodfight!",
         "Foodfight!",
         "2012",
         "91.0",
         "Action,Animation,Comedy"
        ],
        [
         "21",
         "tt0250404",
         "Godfather",
         "Godfather",
         "2012",
         null,
         "Crime,Drama"
        ],
        [
         "22",
         "tt0253093",
         "Gangavataran",
         "Gangavataran",
         "2018",
         "134.0",
         null
        ],
        [
         "23",
         "tt0255820",
         "Return to Babylon",
         "Return to Babylon",
         "2013",
         "75.0",
         "Biography,Comedy,Drama"
        ],
        [
         "24",
         "tt0262218",
         "Akakis mogzauroba",
         "Akakis mogzauroba",
         "2012",
         "44.0",
         "Documentary"
        ],
        [
         "25",
         "tt0262759",
         "Seven Jews from My Class",
         "Siedmiu Zydów z mojej klasy",
         "2018",
         "40.0",
         "Documentary"
        ],
        [
         "26",
         "tt0263814",
         "On kadin",
         "On kadin",
         "2019",
         null,
         "Drama"
        ],
        [
         "27",
         "tt0276568",
         "To Chase a Million",
         "To Chase a Million",
         "2018",
         "97.0",
         "Action,Drama"
        ],
        [
         "28",
         "tt0277964",
         "Prague: The Restless Heart of Europe",
         "Praha - neklidné srdce Evropy",
         "2018",
         "59.0",
         "Documentary,History"
        ],
        [
         "29",
         "tt0283440",
         "Short Time Heroes",
         "Kurzzeithelden",
         "2015",
         "45.0",
         "Sci-Fi"
        ],
        [
         "30",
         "tt0285252",
         "Life's a Beach",
         "Life's a Beach",
         "2012",
         "100.0",
         "Comedy"
        ],
        [
         "31",
         "tt0285423",
         "Abolição",
         "Abolição",
         "2019",
         null,
         "Documentary"
        ],
        [
         "32",
         "tt0293069",
         "Dark Blood",
         "Dark Blood",
         "2012",
         "86.0",
         "Thriller"
        ],
        [
         "33",
         "tt0293429",
         "Mortal Kombat",
         "Mortal Kombat",
         "2021",
         null,
         "Action,Adventure,Fantasy"
        ],
        [
         "34",
         "tt0297400",
         "Snowblind",
         "Snowblind",
         "2015",
         null,
         "Crime,Drama"
        ],
        [
         "35",
         "tt0306058",
         "Second Coming",
         "Second Coming",
         "2012",
         "95.0",
         null
        ],
        [
         "36",
         "tt0311448",
         "Lives No Longer Ours",
         "Lives No Longer Ours",
         "2011",
         "90.0",
         "Drama,Romance"
        ],
        [
         "37",
         "tt0312305",
         "Quantum Quest: A Cassini Space Odyssey",
         "Quantum Quest: A Cassini Space Odyssey",
         "2010",
         "45.0",
         "Adventure,Animation,Sci-Fi"
        ],
        [
         "38",
         "tt0315642",
         "Wazir",
         "Wazir",
         "2016",
         "103.0",
         "Action,Crime,Drama"
        ],
        [
         "39",
         "tt0323808",
         "The Wicker Tree",
         "The Wicker Tree",
         "2011",
         "96.0",
         "Drama,Horror"
        ],
        [
         "40",
         "tt0326592",
         "The Overnight",
         "The Overnight",
         "2010",
         "88.0",
         null
        ],
        [
         "41",
         "tt0326965",
         "In My Sleep",
         "In My Sleep",
         "2010",
         "104.0",
         "Drama,Mystery,Thriller"
        ],
        [
         "42",
         "tt0328810",
         "My Land",
         "Aamaar Bhuvan",
         "2018",
         "102.0",
         "Drama,Family"
        ],
        [
         "43",
         "tt0329539",
         "Rice Girl",
         "Rice Girl",
         "2014",
         "95.0",
         "Adventure,Comedy,Romance"
        ],
        [
         "44",
         "tt0330811",
         "Regret Not Speaking",
         "Regret Not Speaking",
         "2011",
         null,
         null
        ],
        [
         "45",
         "tt0330987",
         "Tiden är en dröm, del 2",
         "Tiden är en dröm, del 2",
         "2014",
         "109.0",
         null
        ],
        [
         "46",
         "tt0331312",
         "This Wretched Life",
         "This Wretched Life",
         "2010",
         "99.0",
         "Comedy,Drama"
        ],
        [
         "47",
         "tt0331314",
         "Bunyan and Babe",
         "Bunyan and Babe",
         "2017",
         "84.0",
         "Adventure,Animation,Comedy"
        ],
        [
         "48",
         "tt0337692",
         "On the Road",
         "On the Road",
         "2012",
         "124.0",
         "Adventure,Drama,Romance"
        ],
        [
         "49",
         "tt0337882",
         "Blind Sided",
         "Blind Sided",
         "2010",
         null,
         "Comedy,Crime,Drama"
        ]
       ],
       "shape": {
        "columns": 6,
        "rows": 146144
       }
      },
      "text/html": [
       "<div>\n",
       "<style scoped>\n",
       "    .dataframe tbody tr th:only-of-type {\n",
       "        vertical-align: middle;\n",
       "    }\n",
       "\n",
       "    .dataframe tbody tr th {\n",
       "        vertical-align: top;\n",
       "    }\n",
       "\n",
       "    .dataframe thead th {\n",
       "        text-align: right;\n",
       "    }\n",
       "</style>\n",
       "<table border=\"1\" class=\"dataframe\">\n",
       "  <thead>\n",
       "    <tr style=\"text-align: right;\">\n",
       "      <th></th>\n",
       "      <th>movie_id</th>\n",
       "      <th>primary_title</th>\n",
       "      <th>original_title</th>\n",
       "      <th>start_year</th>\n",
       "      <th>runtime_minutes</th>\n",
       "      <th>genres</th>\n",
       "    </tr>\n",
       "  </thead>\n",
       "  <tbody>\n",
       "    <tr>\n",
       "      <th>0</th>\n",
       "      <td>tt0063540</td>\n",
       "      <td>Sunghursh</td>\n",
       "      <td>Sunghursh</td>\n",
       "      <td>2013</td>\n",
       "      <td>175.0</td>\n",
       "      <td>Action,Crime,Drama</td>\n",
       "    </tr>\n",
       "    <tr>\n",
       "      <th>1</th>\n",
       "      <td>tt0066787</td>\n",
       "      <td>One Day Before the Rainy Season</td>\n",
       "      <td>Ashad Ka Ek Din</td>\n",
       "      <td>2019</td>\n",
       "      <td>114.0</td>\n",
       "      <td>Biography,Drama</td>\n",
       "    </tr>\n",
       "    <tr>\n",
       "      <th>2</th>\n",
       "      <td>tt0069049</td>\n",
       "      <td>The Other Side of the Wind</td>\n",
       "      <td>The Other Side of the Wind</td>\n",
       "      <td>2018</td>\n",
       "      <td>122.0</td>\n",
       "      <td>Drama</td>\n",
       "    </tr>\n",
       "    <tr>\n",
       "      <th>3</th>\n",
       "      <td>tt0069204</td>\n",
       "      <td>Sabse Bada Sukh</td>\n",
       "      <td>Sabse Bada Sukh</td>\n",
       "      <td>2018</td>\n",
       "      <td>NaN</td>\n",
       "      <td>Comedy,Drama</td>\n",
       "    </tr>\n",
       "    <tr>\n",
       "      <th>4</th>\n",
       "      <td>tt0100275</td>\n",
       "      <td>The Wandering Soap Opera</td>\n",
       "      <td>La Telenovela Errante</td>\n",
       "      <td>2017</td>\n",
       "      <td>80.0</td>\n",
       "      <td>Comedy,Drama,Fantasy</td>\n",
       "    </tr>\n",
       "    <tr>\n",
       "      <th>...</th>\n",
       "      <td>...</td>\n",
       "      <td>...</td>\n",
       "      <td>...</td>\n",
       "      <td>...</td>\n",
       "      <td>...</td>\n",
       "      <td>...</td>\n",
       "    </tr>\n",
       "    <tr>\n",
       "      <th>146139</th>\n",
       "      <td>tt9916538</td>\n",
       "      <td>Kuambil Lagi Hatiku</td>\n",
       "      <td>Kuambil Lagi Hatiku</td>\n",
       "      <td>2019</td>\n",
       "      <td>123.0</td>\n",
       "      <td>Drama</td>\n",
       "    </tr>\n",
       "    <tr>\n",
       "      <th>146140</th>\n",
       "      <td>tt9916622</td>\n",
       "      <td>Rodolpho Teóphilo - O Legado de um Pioneiro</td>\n",
       "      <td>Rodolpho Teóphilo - O Legado de um Pioneiro</td>\n",
       "      <td>2015</td>\n",
       "      <td>NaN</td>\n",
       "      <td>Documentary</td>\n",
       "    </tr>\n",
       "    <tr>\n",
       "      <th>146141</th>\n",
       "      <td>tt9916706</td>\n",
       "      <td>Dankyavar Danka</td>\n",
       "      <td>Dankyavar Danka</td>\n",
       "      <td>2013</td>\n",
       "      <td>NaN</td>\n",
       "      <td>Comedy</td>\n",
       "    </tr>\n",
       "    <tr>\n",
       "      <th>146142</th>\n",
       "      <td>tt9916730</td>\n",
       "      <td>6 Gunn</td>\n",
       "      <td>6 Gunn</td>\n",
       "      <td>2017</td>\n",
       "      <td>116.0</td>\n",
       "      <td>None</td>\n",
       "    </tr>\n",
       "    <tr>\n",
       "      <th>146143</th>\n",
       "      <td>tt9916754</td>\n",
       "      <td>Chico Albuquerque - Revelações</td>\n",
       "      <td>Chico Albuquerque - Revelações</td>\n",
       "      <td>2013</td>\n",
       "      <td>NaN</td>\n",
       "      <td>Documentary</td>\n",
       "    </tr>\n",
       "  </tbody>\n",
       "</table>\n",
       "<p>146144 rows × 6 columns</p>\n",
       "</div>"
      ],
      "text/plain": [
       "         movie_id                                primary_title  \\\n",
       "0       tt0063540                                    Sunghursh   \n",
       "1       tt0066787              One Day Before the Rainy Season   \n",
       "2       tt0069049                   The Other Side of the Wind   \n",
       "3       tt0069204                              Sabse Bada Sukh   \n",
       "4       tt0100275                     The Wandering Soap Opera   \n",
       "...           ...                                          ...   \n",
       "146139  tt9916538                          Kuambil Lagi Hatiku   \n",
       "146140  tt9916622  Rodolpho Teóphilo - O Legado de um Pioneiro   \n",
       "146141  tt9916706                              Dankyavar Danka   \n",
       "146142  tt9916730                                       6 Gunn   \n",
       "146143  tt9916754               Chico Albuquerque - Revelações   \n",
       "\n",
       "                                     original_title  start_year  \\\n",
       "0                                         Sunghursh        2013   \n",
       "1                                   Ashad Ka Ek Din        2019   \n",
       "2                        The Other Side of the Wind        2018   \n",
       "3                                   Sabse Bada Sukh        2018   \n",
       "4                             La Telenovela Errante        2017   \n",
       "...                                             ...         ...   \n",
       "146139                          Kuambil Lagi Hatiku        2019   \n",
       "146140  Rodolpho Teóphilo - O Legado de um Pioneiro        2015   \n",
       "146141                              Dankyavar Danka        2013   \n",
       "146142                                       6 Gunn        2017   \n",
       "146143               Chico Albuquerque - Revelações        2013   \n",
       "\n",
       "        runtime_minutes                genres  \n",
       "0                 175.0    Action,Crime,Drama  \n",
       "1                 114.0       Biography,Drama  \n",
       "2                 122.0                 Drama  \n",
       "3                   NaN          Comedy,Drama  \n",
       "4                  80.0  Comedy,Drama,Fantasy  \n",
       "...                 ...                   ...  \n",
       "146139            123.0                 Drama  \n",
       "146140              NaN           Documentary  \n",
       "146141              NaN                Comedy  \n",
       "146142            116.0                  None  \n",
       "146143              NaN           Documentary  \n",
       "\n",
       "[146144 rows x 6 columns]"
      ]
     },
     "execution_count": 27,
     "metadata": {},
     "output_type": "execute_result"
    }
   ],
   "source": [
    "movie_basics "
   ]
  },
  {
   "cell_type": "code",
   "execution_count": 28,
   "id": "41187d3b",
   "metadata": {},
   "outputs": [],
   "source": [
    "movie_basics = movie_basics.rename(columns={\n",
    "    \"original_title\": \"movie_title\",\n",
    "    \"runtime_minutes\":\"movie_runtime_mins\"  \n",
    "})\n",
    "\n",
    "median_runtime = movie_basics['movie_runtime_mins'].median()\n",
    "movie_basics['movie_runtime_mins'] = movie_basics['movie_runtime_mins'].fillna(median_runtime)\n",
    "movie_basics['movie_title'] = movie_basics['movie_title'].fillna('Unknown')\n",
    "movie_basics['genres'] = movie_basics['genres'].fillna(\"Unknown\")\n"
   ]
  },
  {
   "cell_type": "code",
   "execution_count": 29,
   "id": "8f4bb15f",
   "metadata": {},
   "outputs": [
    {
     "data": {
      "application/vnd.microsoft.datawrangler.viewer.v0+json": {
       "columns": [
        {
         "name": "index",
         "rawType": "object",
         "type": "string"
        },
        {
         "name": "0",
         "rawType": "int64",
         "type": "integer"
        }
       ],
       "ref": "3259f780-8873-4b65-84c2-8cc678a54454",
       "rows": [
        [
         "movie_id",
         "0"
        ],
        [
         "primary_title",
         "0"
        ],
        [
         "movie_title",
         "0"
        ],
        [
         "start_year",
         "0"
        ],
        [
         "movie_runtime_mins",
         "0"
        ],
        [
         "genres",
         "0"
        ]
       ],
       "shape": {
        "columns": 1,
        "rows": 6
       }
      },
      "text/plain": [
       "movie_id              0\n",
       "primary_title         0\n",
       "movie_title           0\n",
       "start_year            0\n",
       "movie_runtime_mins    0\n",
       "genres                0\n",
       "dtype: int64"
      ]
     },
     "execution_count": 29,
     "metadata": {},
     "output_type": "execute_result"
    }
   ],
   "source": [
    "movie_basics.isna().sum()\n"
   ]
  },
  {
   "cell_type": "code",
   "execution_count": 30,
   "id": "88f46056",
   "metadata": {},
   "outputs": [
    {
     "data": {
      "application/vnd.microsoft.datawrangler.viewer.v0+json": {
       "columns": [
        {
         "name": "index",
         "rawType": "int64",
         "type": "integer"
        },
        {
         "name": "movie_id",
         "rawType": "object",
         "type": "string"
        },
        {
         "name": "primary_title",
         "rawType": "object",
         "type": "string"
        },
        {
         "name": "movie_title",
         "rawType": "object",
         "type": "string"
        },
        {
         "name": "start_year",
         "rawType": "int64",
         "type": "integer"
        },
        {
         "name": "movie_runtime_mins",
         "rawType": "float64",
         "type": "float"
        },
        {
         "name": "genres",
         "rawType": "object",
         "type": "string"
        }
       ],
       "ref": "e2f2193e-4208-4d90-a30f-ccc7026ff5e8",
       "rows": [
        [
         "0",
         "tt0063540",
         "Sunghursh",
         "Sunghursh",
         "2013",
         "175.0",
         "Action,Crime,Drama"
        ],
        [
         "1",
         "tt0066787",
         "One Day Before the Rainy Season",
         "Ashad Ka Ek Din",
         "2019",
         "114.0",
         "Biography,Drama"
        ],
        [
         "2",
         "tt0069049",
         "The Other Side of the Wind",
         "The Other Side of the Wind",
         "2018",
         "122.0",
         "Drama"
        ],
        [
         "3",
         "tt0069204",
         "Sabse Bada Sukh",
         "Sabse Bada Sukh",
         "2018",
         "87.0",
         "Comedy,Drama"
        ],
        [
         "4",
         "tt0100275",
         "The Wandering Soap Opera",
         "La Telenovela Errante",
         "2017",
         "80.0",
         "Comedy,Drama,Fantasy"
        ],
        [
         "5",
         "tt0111414",
         "A Thin Life",
         "A Thin Life",
         "2018",
         "75.0",
         "Comedy"
        ],
        [
         "6",
         "tt0112502",
         "Bigfoot",
         "Bigfoot",
         "2017",
         "87.0",
         "Horror,Thriller"
        ],
        [
         "7",
         "tt0137204",
         "Joe Finds Grace",
         "Joe Finds Grace",
         "2017",
         "83.0",
         "Adventure,Animation,Comedy"
        ],
        [
         "8",
         "tt0139613",
         "O Silêncio",
         "O Silêncio",
         "2012",
         "87.0",
         "Documentary,History"
        ],
        [
         "9",
         "tt0144449",
         "Nema aviona za Zagreb",
         "Nema aviona za Zagreb",
         "2012",
         "82.0",
         "Biography"
        ],
        [
         "10",
         "tt0146592",
         "Pál Adrienn",
         "Pál Adrienn",
         "2010",
         "136.0",
         "Drama"
        ],
        [
         "11",
         "tt0154039",
         "So Much for Justice!",
         "Oda az igazság",
         "2010",
         "100.0",
         "History"
        ],
        [
         "12",
         "tt0159369",
         "Cooper and Hemingway: The True Gen",
         "Cooper and Hemingway: The True Gen",
         "2013",
         "180.0",
         "Documentary"
        ],
        [
         "13",
         "tt0162942",
         "Children of the Green Dragon",
         "A zöld sárkány gyermekei",
         "2010",
         "89.0",
         "Drama"
        ],
        [
         "14",
         "tt0170651",
         "T.G.M. - osvoboditel",
         "T.G.M. - osvoboditel",
         "2018",
         "60.0",
         "Documentary"
        ],
        [
         "15",
         "tt0176694",
         "The Tragedy of Man",
         "Az ember tragédiája",
         "2011",
         "160.0",
         "Animation,Drama,History"
        ],
        [
         "16",
         "tt0187902",
         "How Huang Fei-hong Rescued the Orphan from the Tiger's Den",
         "How Huang Fei-hong Rescued the Orphan from the Tiger's Den",
         "2011",
         "87.0",
         "Unknown"
        ],
        [
         "17",
         "tt0192528",
         "Heaven & Hell",
         "Reverse Heaven",
         "2018",
         "104.0",
         "Drama"
        ],
        [
         "18",
         "tt0230212",
         "The Final Journey",
         "The Final Journey",
         "2010",
         "120.0",
         "Drama"
        ],
        [
         "19",
         "tt0247643",
         "Los pájaros se van con la muerte",
         "Los pájaros se van con la muerte",
         "2011",
         "110.0",
         "Drama,Mystery"
        ],
        [
         "20",
         "tt0249516",
         "Foodfight!",
         "Foodfight!",
         "2012",
         "91.0",
         "Action,Animation,Comedy"
        ],
        [
         "21",
         "tt0250404",
         "Godfather",
         "Godfather",
         "2012",
         "87.0",
         "Crime,Drama"
        ],
        [
         "22",
         "tt0253093",
         "Gangavataran",
         "Gangavataran",
         "2018",
         "134.0",
         "Unknown"
        ],
        [
         "23",
         "tt0255820",
         "Return to Babylon",
         "Return to Babylon",
         "2013",
         "75.0",
         "Biography,Comedy,Drama"
        ],
        [
         "24",
         "tt0262218",
         "Akakis mogzauroba",
         "Akakis mogzauroba",
         "2012",
         "44.0",
         "Documentary"
        ],
        [
         "25",
         "tt0262759",
         "Seven Jews from My Class",
         "Siedmiu Zydów z mojej klasy",
         "2018",
         "40.0",
         "Documentary"
        ],
        [
         "26",
         "tt0263814",
         "On kadin",
         "On kadin",
         "2019",
         "87.0",
         "Drama"
        ],
        [
         "27",
         "tt0276568",
         "To Chase a Million",
         "To Chase a Million",
         "2018",
         "97.0",
         "Action,Drama"
        ],
        [
         "28",
         "tt0277964",
         "Prague: The Restless Heart of Europe",
         "Praha - neklidné srdce Evropy",
         "2018",
         "59.0",
         "Documentary,History"
        ],
        [
         "29",
         "tt0283440",
         "Short Time Heroes",
         "Kurzzeithelden",
         "2015",
         "45.0",
         "Sci-Fi"
        ],
        [
         "30",
         "tt0285252",
         "Life's a Beach",
         "Life's a Beach",
         "2012",
         "100.0",
         "Comedy"
        ],
        [
         "31",
         "tt0285423",
         "Abolição",
         "Abolição",
         "2019",
         "87.0",
         "Documentary"
        ],
        [
         "32",
         "tt0293069",
         "Dark Blood",
         "Dark Blood",
         "2012",
         "86.0",
         "Thriller"
        ],
        [
         "33",
         "tt0293429",
         "Mortal Kombat",
         "Mortal Kombat",
         "2021",
         "87.0",
         "Action,Adventure,Fantasy"
        ],
        [
         "34",
         "tt0297400",
         "Snowblind",
         "Snowblind",
         "2015",
         "87.0",
         "Crime,Drama"
        ],
        [
         "35",
         "tt0306058",
         "Second Coming",
         "Second Coming",
         "2012",
         "95.0",
         "Unknown"
        ],
        [
         "36",
         "tt0311448",
         "Lives No Longer Ours",
         "Lives No Longer Ours",
         "2011",
         "90.0",
         "Drama,Romance"
        ],
        [
         "37",
         "tt0312305",
         "Quantum Quest: A Cassini Space Odyssey",
         "Quantum Quest: A Cassini Space Odyssey",
         "2010",
         "45.0",
         "Adventure,Animation,Sci-Fi"
        ],
        [
         "38",
         "tt0315642",
         "Wazir",
         "Wazir",
         "2016",
         "103.0",
         "Action,Crime,Drama"
        ],
        [
         "39",
         "tt0323808",
         "The Wicker Tree",
         "The Wicker Tree",
         "2011",
         "96.0",
         "Drama,Horror"
        ],
        [
         "40",
         "tt0326592",
         "The Overnight",
         "The Overnight",
         "2010",
         "88.0",
         "Unknown"
        ],
        [
         "41",
         "tt0326965",
         "In My Sleep",
         "In My Sleep",
         "2010",
         "104.0",
         "Drama,Mystery,Thriller"
        ],
        [
         "42",
         "tt0328810",
         "My Land",
         "Aamaar Bhuvan",
         "2018",
         "102.0",
         "Drama,Family"
        ],
        [
         "43",
         "tt0329539",
         "Rice Girl",
         "Rice Girl",
         "2014",
         "95.0",
         "Adventure,Comedy,Romance"
        ],
        [
         "44",
         "tt0330811",
         "Regret Not Speaking",
         "Regret Not Speaking",
         "2011",
         "87.0",
         "Unknown"
        ],
        [
         "45",
         "tt0330987",
         "Tiden är en dröm, del 2",
         "Tiden är en dröm, del 2",
         "2014",
         "109.0",
         "Unknown"
        ],
        [
         "46",
         "tt0331312",
         "This Wretched Life",
         "This Wretched Life",
         "2010",
         "99.0",
         "Comedy,Drama"
        ],
        [
         "47",
         "tt0331314",
         "Bunyan and Babe",
         "Bunyan and Babe",
         "2017",
         "84.0",
         "Adventure,Animation,Comedy"
        ],
        [
         "48",
         "tt0337692",
         "On the Road",
         "On the Road",
         "2012",
         "124.0",
         "Adventure,Drama,Romance"
        ],
        [
         "49",
         "tt0337882",
         "Blind Sided",
         "Blind Sided",
         "2010",
         "87.0",
         "Comedy,Crime,Drama"
        ]
       ],
       "shape": {
        "columns": 6,
        "rows": 146144
       }
      },
      "text/html": [
       "<div>\n",
       "<style scoped>\n",
       "    .dataframe tbody tr th:only-of-type {\n",
       "        vertical-align: middle;\n",
       "    }\n",
       "\n",
       "    .dataframe tbody tr th {\n",
       "        vertical-align: top;\n",
       "    }\n",
       "\n",
       "    .dataframe thead th {\n",
       "        text-align: right;\n",
       "    }\n",
       "</style>\n",
       "<table border=\"1\" class=\"dataframe\">\n",
       "  <thead>\n",
       "    <tr style=\"text-align: right;\">\n",
       "      <th></th>\n",
       "      <th>movie_id</th>\n",
       "      <th>primary_title</th>\n",
       "      <th>movie_title</th>\n",
       "      <th>start_year</th>\n",
       "      <th>movie_runtime_mins</th>\n",
       "      <th>genres</th>\n",
       "    </tr>\n",
       "  </thead>\n",
       "  <tbody>\n",
       "    <tr>\n",
       "      <th>0</th>\n",
       "      <td>tt0063540</td>\n",
       "      <td>Sunghursh</td>\n",
       "      <td>Sunghursh</td>\n",
       "      <td>2013</td>\n",
       "      <td>175.0</td>\n",
       "      <td>Action,Crime,Drama</td>\n",
       "    </tr>\n",
       "    <tr>\n",
       "      <th>1</th>\n",
       "      <td>tt0066787</td>\n",
       "      <td>One Day Before the Rainy Season</td>\n",
       "      <td>Ashad Ka Ek Din</td>\n",
       "      <td>2019</td>\n",
       "      <td>114.0</td>\n",
       "      <td>Biography,Drama</td>\n",
       "    </tr>\n",
       "    <tr>\n",
       "      <th>2</th>\n",
       "      <td>tt0069049</td>\n",
       "      <td>The Other Side of the Wind</td>\n",
       "      <td>The Other Side of the Wind</td>\n",
       "      <td>2018</td>\n",
       "      <td>122.0</td>\n",
       "      <td>Drama</td>\n",
       "    </tr>\n",
       "    <tr>\n",
       "      <th>3</th>\n",
       "      <td>tt0069204</td>\n",
       "      <td>Sabse Bada Sukh</td>\n",
       "      <td>Sabse Bada Sukh</td>\n",
       "      <td>2018</td>\n",
       "      <td>87.0</td>\n",
       "      <td>Comedy,Drama</td>\n",
       "    </tr>\n",
       "    <tr>\n",
       "      <th>4</th>\n",
       "      <td>tt0100275</td>\n",
       "      <td>The Wandering Soap Opera</td>\n",
       "      <td>La Telenovela Errante</td>\n",
       "      <td>2017</td>\n",
       "      <td>80.0</td>\n",
       "      <td>Comedy,Drama,Fantasy</td>\n",
       "    </tr>\n",
       "    <tr>\n",
       "      <th>...</th>\n",
       "      <td>...</td>\n",
       "      <td>...</td>\n",
       "      <td>...</td>\n",
       "      <td>...</td>\n",
       "      <td>...</td>\n",
       "      <td>...</td>\n",
       "    </tr>\n",
       "    <tr>\n",
       "      <th>146139</th>\n",
       "      <td>tt9916538</td>\n",
       "      <td>Kuambil Lagi Hatiku</td>\n",
       "      <td>Kuambil Lagi Hatiku</td>\n",
       "      <td>2019</td>\n",
       "      <td>123.0</td>\n",
       "      <td>Drama</td>\n",
       "    </tr>\n",
       "    <tr>\n",
       "      <th>146140</th>\n",
       "      <td>tt9916622</td>\n",
       "      <td>Rodolpho Teóphilo - O Legado de um Pioneiro</td>\n",
       "      <td>Rodolpho Teóphilo - O Legado de um Pioneiro</td>\n",
       "      <td>2015</td>\n",
       "      <td>87.0</td>\n",
       "      <td>Documentary</td>\n",
       "    </tr>\n",
       "    <tr>\n",
       "      <th>146141</th>\n",
       "      <td>tt9916706</td>\n",
       "      <td>Dankyavar Danka</td>\n",
       "      <td>Dankyavar Danka</td>\n",
       "      <td>2013</td>\n",
       "      <td>87.0</td>\n",
       "      <td>Comedy</td>\n",
       "    </tr>\n",
       "    <tr>\n",
       "      <th>146142</th>\n",
       "      <td>tt9916730</td>\n",
       "      <td>6 Gunn</td>\n",
       "      <td>6 Gunn</td>\n",
       "      <td>2017</td>\n",
       "      <td>116.0</td>\n",
       "      <td>Unknown</td>\n",
       "    </tr>\n",
       "    <tr>\n",
       "      <th>146143</th>\n",
       "      <td>tt9916754</td>\n",
       "      <td>Chico Albuquerque - Revelações</td>\n",
       "      <td>Chico Albuquerque - Revelações</td>\n",
       "      <td>2013</td>\n",
       "      <td>87.0</td>\n",
       "      <td>Documentary</td>\n",
       "    </tr>\n",
       "  </tbody>\n",
       "</table>\n",
       "<p>146144 rows × 6 columns</p>\n",
       "</div>"
      ],
      "text/plain": [
       "         movie_id                                primary_title  \\\n",
       "0       tt0063540                                    Sunghursh   \n",
       "1       tt0066787              One Day Before the Rainy Season   \n",
       "2       tt0069049                   The Other Side of the Wind   \n",
       "3       tt0069204                              Sabse Bada Sukh   \n",
       "4       tt0100275                     The Wandering Soap Opera   \n",
       "...           ...                                          ...   \n",
       "146139  tt9916538                          Kuambil Lagi Hatiku   \n",
       "146140  tt9916622  Rodolpho Teóphilo - O Legado de um Pioneiro   \n",
       "146141  tt9916706                              Dankyavar Danka   \n",
       "146142  tt9916730                                       6 Gunn   \n",
       "146143  tt9916754               Chico Albuquerque - Revelações   \n",
       "\n",
       "                                        movie_title  start_year  \\\n",
       "0                                         Sunghursh        2013   \n",
       "1                                   Ashad Ka Ek Din        2019   \n",
       "2                        The Other Side of the Wind        2018   \n",
       "3                                   Sabse Bada Sukh        2018   \n",
       "4                             La Telenovela Errante        2017   \n",
       "...                                             ...         ...   \n",
       "146139                          Kuambil Lagi Hatiku        2019   \n",
       "146140  Rodolpho Teóphilo - O Legado de um Pioneiro        2015   \n",
       "146141                              Dankyavar Danka        2013   \n",
       "146142                                       6 Gunn        2017   \n",
       "146143               Chico Albuquerque - Revelações        2013   \n",
       "\n",
       "        movie_runtime_mins                genres  \n",
       "0                    175.0    Action,Crime,Drama  \n",
       "1                    114.0       Biography,Drama  \n",
       "2                    122.0                 Drama  \n",
       "3                     87.0          Comedy,Drama  \n",
       "4                     80.0  Comedy,Drama,Fantasy  \n",
       "...                    ...                   ...  \n",
       "146139               123.0                 Drama  \n",
       "146140                87.0           Documentary  \n",
       "146141                87.0                Comedy  \n",
       "146142               116.0               Unknown  \n",
       "146143                87.0           Documentary  \n",
       "\n",
       "[146144 rows x 6 columns]"
      ]
     },
     "execution_count": 30,
     "metadata": {},
     "output_type": "execute_result"
    }
   ],
   "source": [
    "movie_basics"
   ]
  },
  {
   "cell_type": "code",
   "execution_count": 31,
   "id": "5f420c5e",
   "metadata": {},
   "outputs": [
    {
     "data": {
      "text/plain": [
       "array([2013, 2019, 2018, 2017, 2012, 2010, 2011, 2015, 2021, 2016, 2014,\n",
       "       2020, 2022, 2023, 2024, 2026, 2025, 2115, 2027])"
      ]
     },
     "execution_count": 31,
     "metadata": {},
     "output_type": "execute_result"
    }
   ],
   "source": [
    "#Detecting Outliers \n",
    "movie_basics['start_year'].unique()"
   ]
  },
  {
   "cell_type": "code",
   "execution_count": 32,
   "id": "08853a29",
   "metadata": {},
   "outputs": [
    {
     "data": {
      "text/plain": [
       "<Axes: xlabel='start_year'>"
      ]
     },
     "execution_count": 32,
     "metadata": {},
     "output_type": "execute_result"
    },
    {
     "data": {
      "image/png": "[encoded data removed]",
      "text/plain": [
       "<Figure size 640x480 with 1 Axes>"
      ]
     },
     "metadata": {},
     "output_type": "display_data"
    }
   ],
   "source": [
    "sns.boxplot(x= movie_basics['start_year'], color='tomato')"
   ]
  },
  {
   "cell_type": "markdown",
   "id": "9a4b0362",
   "metadata": {},
   "source": [
    "### Observation"
   ]
  },
  {
   "cell_type": "code",
   "execution_count": 33,
   "id": "f0317920",
   "metadata": {},
   "outputs": [
    {
     "data": {
      "application/vnd.microsoft.datawrangler.viewer.v0+json": {
       "columns": [
        {
         "name": "index",
         "rawType": "int64",
         "type": "integer"
        },
        {
         "name": "movie_id",
         "rawType": "object",
         "type": "string"
        },
        {
         "name": "primary_title",
         "rawType": "object",
         "type": "string"
        },
        {
         "name": "movie_title",
         "rawType": "object",
         "type": "string"
        },
        {
         "name": "start_year",
         "rawType": "int64",
         "type": "integer"
        },
        {
         "name": "movie_runtime_mins",
         "rawType": "float64",
         "type": "float"
        },
        {
         "name": "genres",
         "rawType": "object",
         "type": "string"
        }
       ],
       "ref": "352aff10-1dac-4e8c-bc42-2f6d7b8ea5f4",
       "rows": [
        [
         "89506",
         "tt5174640",
         "100 Years",
         "100 Years",
         "2115",
         "87.0",
         "Drama"
        ]
       ],
       "shape": {
        "columns": 6,
        "rows": 1
       }
      },
      "text/html": [
       "<div>\n",
       "<style scoped>\n",
       "    .dataframe tbody tr th:only-of-type {\n",
       "        vertical-align: middle;\n",
       "    }\n",
       "\n",
       "    .dataframe tbody tr th {\n",
       "        vertical-align: top;\n",
       "    }\n",
       "\n",
       "    .dataframe thead th {\n",
       "        text-align: right;\n",
       "    }\n",
       "</style>\n",
       "<table border=\"1\" class=\"dataframe\">\n",
       "  <thead>\n",
       "    <tr style=\"text-align: right;\">\n",
       "      <th></th>\n",
       "      <th>movie_id</th>\n",
       "      <th>primary_title</th>\n",
       "      <th>movie_title</th>\n",
       "      <th>start_year</th>\n",
       "      <th>movie_runtime_mins</th>\n",
       "      <th>genres</th>\n",
       "    </tr>\n",
       "  </thead>\n",
       "  <tbody>\n",
       "    <tr>\n",
       "      <th>89506</th>\n",
       "      <td>tt5174640</td>\n",
       "      <td>100 Years</td>\n",
       "      <td>100 Years</td>\n",
       "      <td>2115</td>\n",
       "      <td>87.0</td>\n",
       "      <td>Drama</td>\n",
       "    </tr>\n",
       "  </tbody>\n",
       "</table>\n",
       "</div>"
      ],
      "text/plain": [
       "        movie_id primary_title movie_title  start_year  movie_runtime_mins  \\\n",
       "89506  tt5174640     100 Years   100 Years        2115                87.0   \n",
       "\n",
       "      genres  \n",
       "89506  Drama  "
      ]
     },
     "execution_count": 33,
     "metadata": {},
     "output_type": "execute_result"
    }
   ],
   "source": [
    "movie_basics[movie_basics['start_year'] == 2115]\n"
   ]
  },
  {
   "cell_type": "markdown",
   "id": "ba6708d4",
   "metadata": {},
   "source": [
    "### The outliers are genuine\n",
    "\n",
    "*\"100 Years\"* is a real film directed by **Robert Rodriguez** and starring **John Malkovich**, but it's part of an experimental project:\n",
    "\n",
    "> The movie was created in **2015** and is locked in a time-sealed vault, scheduled to premiere **100 years later**, in **2115**.\n",
    "\n",
    "### Why?\n",
    "\n",
    "It was made as part of a marketing collaboration with **Louis XIII Cognac**, which is itself aged 100 years. The film's concept mirrors that — no one alive today (probably) will get to see it.\n",
    "\n",
    "- The movie is stored in a **high-tech time-lock safe**.\n",
    "- Only a few people received tickets to the 2115 screening \n",
    "- No trailers, no screenshots — it's completely hidden until release.\n",
    "\n",
    "\n",
    "## For analysis we will stick to only realeased movies"
   ]
  },
  {
   "cell_type": "code",
   "execution_count": 34,
   "id": "35f220b7",
   "metadata": {},
   "outputs": [],
   "source": [
    "movie_basics = movie_basics[movie_basics['start_year'] <= 2025]"
   ]
  },
  {
   "cell_type": "code",
   "execution_count": 35,
   "id": "9f520d84",
   "metadata": {},
   "outputs": [
    {
     "data": {
      "text/plain": [
       "<Axes: xlabel='movie_runtime_mins'>"
      ]
     },
     "execution_count": 35,
     "metadata": {},
     "output_type": "execute_result"
    },
    {
     "data": {
      "image/png": "[encoded data removed]",
      "text/plain": [
       "<Figure size 640x480 with 1 Axes>"
      ]
     },
     "metadata": {},
     "output_type": "display_data"
    }
   ],
   "source": [
    "sns.boxplot(x= movie_basics['movie_runtime_mins'], color='tomato')"
   ]
  },
  {
   "cell_type": "code",
   "execution_count": 36,
   "id": "85fafe50",
   "metadata": {},
   "outputs": [
    {
     "data": {
      "application/vnd.microsoft.datawrangler.viewer.v0+json": {
       "columns": [
        {
         "name": "index",
         "rawType": "int64",
         "type": "integer"
        },
        {
         "name": "movie_runtime_mins",
         "rawType": "float64",
         "type": "float"
        }
       ],
       "ref": "51dd8b86-6893-404c-bb13-59ce7bbe9806",
       "rows": [
        [
         "132389",
         "51420.0"
        ],
        [
         "44840",
         "14400.0"
        ],
        [
         "123467",
         "6017.0"
        ],
        [
         "87264",
         "6000.0"
        ],
        [
         "88717",
         "5460.0"
        ],
        [
         "90578",
         "4980.0"
        ],
        [
         "15381",
         "4200.0"
        ],
        [
         "105225",
         "4080.0"
        ],
        [
         "12974",
         "3450.0"
        ],
        [
         "67437",
         "3077.0"
        ],
        [
         "88665",
         "2905.0"
        ],
        [
         "20925",
         "2400.0"
        ],
        [
         "121449",
         "2160.0"
        ],
        [
         "123162",
         "1834.0"
        ],
        [
         "18999",
         "1800.0"
        ],
        [
         "15796",
         "1800.0"
        ],
        [
         "21545",
         "1669.0"
        ],
        [
         "101673",
         "1559.0"
        ],
        [
         "104744",
         "1440.0"
        ],
        [
         "25175",
         "1440.0"
        ],
        [
         "6311",
         "1320.0"
        ],
        [
         "119251",
         "1260.0"
        ],
        [
         "69508",
         "1200.0"
        ],
        [
         "123956",
         "1184.0"
        ],
        [
         "79574",
         "1151.0"
        ],
        [
         "136297",
         "1100.0"
        ],
        [
         "124372",
         "912.0"
        ],
        [
         "102250",
         "900.0"
        ],
        [
         "36475",
         "842.0"
        ],
        [
         "22127",
         "840.0"
        ],
        [
         "139791",
         "808.0"
        ],
        [
         "118230",
         "788.0"
        ],
        [
         "76112",
         "780.0"
        ],
        [
         "62917",
         "780.0"
        ],
        [
         "18210",
         "761.0"
        ],
        [
         "123952",
         "746.0"
        ],
        [
         "33911",
         "724.0"
        ],
        [
         "92947",
         "720.0"
        ],
        [
         "103922",
         "720.0"
        ],
        [
         "82397",
         "720.0"
        ],
        [
         "92277",
         "720.0"
        ],
        [
         "139262",
         "660.0"
        ],
        [
         "129089",
         "653.0"
        ],
        [
         "122910",
         "623.0"
        ],
        [
         "132725",
         "623.0"
        ],
        [
         "92953",
         "607.0"
        ],
        [
         "21816",
         "605.0"
        ],
        [
         "136408",
         "601.0"
        ],
        [
         "76747",
         "600.0"
        ],
        [
         "81010",
         "549.0"
        ]
       ],
       "shape": {
        "columns": 1,
        "rows": 146141
       }
      },
      "text/plain": [
       "132389    51420.0\n",
       "44840     14400.0\n",
       "123467     6017.0\n",
       "87264      6000.0\n",
       "88717      5460.0\n",
       "           ...   \n",
       "72190         1.0\n",
       "95787         1.0\n",
       "98755         1.0\n",
       "136059        1.0\n",
       "140571        1.0\n",
       "Name: movie_runtime_mins, Length: 146141, dtype: float64"
      ]
     },
     "execution_count": 36,
     "metadata": {},
     "output_type": "execute_result"
    }
   ],
   "source": [
    "movie_basics['movie_runtime_mins'].sort_values(ascending=False)"
   ]
  },
  {
   "cell_type": "code",
   "execution_count": 37,
   "id": "e84740eb",
   "metadata": {},
   "outputs": [
    {
     "data": {
      "application/vnd.microsoft.datawrangler.viewer.v0+json": {
       "columns": [
        {
         "name": "index",
         "rawType": "int64",
         "type": "integer"
        },
        {
         "name": "movie_id",
         "rawType": "object",
         "type": "string"
        },
        {
         "name": "primary_title",
         "rawType": "object",
         "type": "string"
        },
        {
         "name": "movie_title",
         "rawType": "object",
         "type": "string"
        },
        {
         "name": "start_year",
         "rawType": "int64",
         "type": "integer"
        },
        {
         "name": "movie_runtime_mins",
         "rawType": "float64",
         "type": "float"
        },
        {
         "name": "genres",
         "rawType": "object",
         "type": "string"
        }
       ],
       "ref": "4b77c9e6-cc27-4fd7-9363-3499979e0e55",
       "rows": [
        [
         "44840",
         "tt2659636",
         "Modern Times Forever",
         "Modern Times Forever",
         "2011",
         "14400.0",
         "Documentary"
        ],
        [
         "87264",
         "tt5068890",
         "Hunger!",
         "Hunger!",
         "2015",
         "6000.0",
         "Documentary,Drama"
        ],
        [
         "123467",
         "tt7492094",
         "Nari",
         "Nari",
         "2017",
         "6017.0",
         "Documentary"
        ],
        [
         "132389",
         "tt8273150",
         "Logistics",
         "Logistics",
         "2012",
         "51420.0",
         "Documentary"
        ]
       ],
       "shape": {
        "columns": 6,
        "rows": 4
       }
      },
      "text/html": [
       "<div>\n",
       "<style scoped>\n",
       "    .dataframe tbody tr th:only-of-type {\n",
       "        vertical-align: middle;\n",
       "    }\n",
       "\n",
       "    .dataframe tbody tr th {\n",
       "        vertical-align: top;\n",
       "    }\n",
       "\n",
       "    .dataframe thead th {\n",
       "        text-align: right;\n",
       "    }\n",
       "</style>\n",
       "<table border=\"1\" class=\"dataframe\">\n",
       "  <thead>\n",
       "    <tr style=\"text-align: right;\">\n",
       "      <th></th>\n",
       "      <th>movie_id</th>\n",
       "      <th>primary_title</th>\n",
       "      <th>movie_title</th>\n",
       "      <th>start_year</th>\n",
       "      <th>movie_runtime_mins</th>\n",
       "      <th>genres</th>\n",
       "    </tr>\n",
       "  </thead>\n",
       "  <tbody>\n",
       "    <tr>\n",
       "      <th>44840</th>\n",
       "      <td>tt2659636</td>\n",
       "      <td>Modern Times Forever</td>\n",
       "      <td>Modern Times Forever</td>\n",
       "      <td>2011</td>\n",
       "      <td>14400.0</td>\n",
       "      <td>Documentary</td>\n",
       "    </tr>\n",
       "    <tr>\n",
       "      <th>87264</th>\n",
       "      <td>tt5068890</td>\n",
       "      <td>Hunger!</td>\n",
       "      <td>Hunger!</td>\n",
       "      <td>2015</td>\n",
       "      <td>6000.0</td>\n",
       "      <td>Documentary,Drama</td>\n",
       "    </tr>\n",
       "    <tr>\n",
       "      <th>123467</th>\n",
       "      <td>tt7492094</td>\n",
       "      <td>Nari</td>\n",
       "      <td>Nari</td>\n",
       "      <td>2017</td>\n",
       "      <td>6017.0</td>\n",
       "      <td>Documentary</td>\n",
       "    </tr>\n",
       "    <tr>\n",
       "      <th>132389</th>\n",
       "      <td>tt8273150</td>\n",
       "      <td>Logistics</td>\n",
       "      <td>Logistics</td>\n",
       "      <td>2012</td>\n",
       "      <td>51420.0</td>\n",
       "      <td>Documentary</td>\n",
       "    </tr>\n",
       "  </tbody>\n",
       "</table>\n",
       "</div>"
      ],
      "text/plain": [
       "         movie_id         primary_title           movie_title  start_year  \\\n",
       "44840   tt2659636  Modern Times Forever  Modern Times Forever        2011   \n",
       "87264   tt5068890               Hunger!               Hunger!        2015   \n",
       "123467  tt7492094                  Nari                  Nari        2017   \n",
       "132389  tt8273150             Logistics             Logistics        2012   \n",
       "\n",
       "        movie_runtime_mins             genres  \n",
       "44840              14400.0        Documentary  \n",
       "87264               6000.0  Documentary,Drama  \n",
       "123467              6017.0        Documentary  \n",
       "132389             51420.0        Documentary  "
      ]
     },
     "execution_count": 37,
     "metadata": {},
     "output_type": "execute_result"
    }
   ],
   "source": [
    "runtimes = movie_basics[movie_basics['movie_runtime_mins'].between(6000, 52000)]\n",
    "(runtimes)"
   ]
  },
  {
   "cell_type": "code",
   "execution_count": 38,
   "id": "323eaee0",
   "metadata": {},
   "outputs": [
    {
     "data": {
      "application/vnd.microsoft.datawrangler.viewer.v0+json": {
       "columns": [
        {
         "name": "index",
         "rawType": "int64",
         "type": "integer"
        },
        {
         "name": "movie_id",
         "rawType": "object",
         "type": "string"
        },
        {
         "name": "primary_title",
         "rawType": "object",
         "type": "string"
        },
        {
         "name": "movie_title",
         "rawType": "object",
         "type": "string"
        },
        {
         "name": "start_year",
         "rawType": "int64",
         "type": "integer"
        },
        {
         "name": "movie_runtime_mins",
         "rawType": "float64",
         "type": "float"
        },
        {
         "name": "genres",
         "rawType": "object",
         "type": "string"
        }
       ],
       "ref": "98fe84d6-6dd3-441f-b3d8-d5faa6236ca5",
       "rows": [
        [
         "1734",
         "tt10160946",
         "New York City Pizza Parlors",
         "New York City Pizza Parlors",
         "2018",
         "5.0",
         "Documentary"
        ],
        [
         "1757",
         "tt10163274",
         "Shower Thoughts",
         "Shower Thoughts",
         "2019",
         "4.0",
         "Comedy,Drama,Thriller"
        ],
        [
         "2278",
         "tt10229632",
         "Interiors",
         "Interiors",
         "2018",
         "4.0",
         "Documentary"
        ],
        [
         "2556",
         "tt10263670",
         "The 49th Day",
         "The 49th Day",
         "2019",
         "5.0",
         "Animation,Fantasy"
        ],
        [
         "2570",
         "tt10265824",
         "Lamentation For Little Girls Who Are In Love With Unobtanium",
         "Lamentation For Little Girls Who Are In Love With Unobtanium",
         "2019",
         "1.0",
         "Animation"
        ],
        [
         "2607",
         "tt10269802",
         "True Homies",
         "True Homies",
         "2015",
         "5.0",
         "Comedy"
        ],
        [
         "2811",
         "tt10292742",
         "Filim digitalia, this intimate hard drive, No. 4",
         "Filim digitalia, this intimate hard drive, No. 4",
         "2019",
         "4.0",
         "Unknown"
        ],
        [
         "3071",
         "tt10308134",
         "Lovesick",
         "Lovesick",
         "2019",
         "4.0",
         "Comedy,Drama"
        ],
        [
         "3116",
         "tt10310534",
         "Occupying Wall Street for Pokémon",
         "Occupying Wall Street for Pokémon",
         "2011",
         "2.0",
         "Comedy,Documentary"
        ],
        [
         "3122",
         "tt10311886",
         "Winter's First Moons",
         "Winter's First Moons",
         "2019",
         "4.0",
         "Unknown"
        ],
        [
         "3298",
         "tt10326116",
         "Happy New Year",
         "Happy New Year",
         "2019",
         "1.0",
         "Animation"
        ],
        [
         "3322",
         "tt10327680",
         "Absences",
         "Absences",
         "2019",
         "3.0",
         "Biography,Documentary,Drama"
        ],
        [
         "3459",
         "tt10337524",
         "Err or Code",
         "Err or Code",
         "2019",
         "3.0",
         "Animation"
        ],
        [
         "3544",
         "tt10343840",
         "Interference",
         "Interference",
         "2019",
         "3.0",
         "Crime"
        ],
        [
         "4081",
         "tt10383426",
         "The Last of Us",
         "The Last of Us",
         "2020",
         "4.0",
         "Drama"
        ],
        [
         "4138",
         "tt10388536",
         "Carillon",
         "Carillon",
         "2019",
         "4.0",
         "Animation,Drama,Fantasy"
        ],
        [
         "4156",
         "tt10390008",
         "Radi 'o aCtive",
         "Radi 'o aCtive",
         "2019",
         "5.0",
         "Music"
        ],
        [
         "4400",
         "tt10408950",
         "Myrtle",
         "Myrtle",
         "2019",
         "5.0",
         "Action,Animation,Comedy"
        ],
        [
         "4406",
         "tt10409248",
         "Act of Faith",
         "Act of Faith",
         "2019",
         "3.0",
         "Animation,Biography,Documentary"
        ],
        [
         "4772",
         "tt10433312",
         "Tuesday for a Mermaid",
         "Tuesday for a Mermaid",
         "2019",
         "5.0",
         "Animation,Comedy,Fantasy"
        ],
        [
         "5017",
         "tt10447316",
         "Skin Change",
         "Skin Change",
         "2019",
         "5.0",
         "Documentary,Drama"
        ],
        [
         "5128",
         "tt10449978",
         "The Little Cloud",
         "The Little Cloud",
         "2017",
         "2.0",
         "Adventure,Animation,Comedy"
        ],
        [
         "5217",
         "tt10453172",
         "The Souvenir",
         "The Souvenir",
         "2013",
         "3.0",
         "Horror"
        ],
        [
         "5401",
         "tt10465084",
         "Vanilla Ice Cream",
         "Vanilla Ice Cream",
         "2019",
         "2.0",
         "Drama"
        ],
        [
         "5408",
         "tt10465900",
         "Cut",
         "Cut",
         "2018",
         "4.0",
         "Unknown"
        ],
        [
         "9343",
         "tt1554089",
         "King of Watts",
         "King of Watts",
         "2010",
         "2.0",
         "Documentary"
        ],
        [
         "11285",
         "tt1626177",
         "Paint by Desert",
         "Paint by Desert",
         "2010",
         "2.0",
         "Documentary,Western"
        ],
        [
         "14885",
         "tt1726784",
         "The Great Los Angeles River",
         "The Great Los Angeles River",
         "2010",
         "4.0",
         "Comedy,Documentary"
        ],
        [
         "15584",
         "tt1740732",
         "Found in Korea",
         "Found in Korea",
         "2019",
         "2.0",
         "Documentary,Drama,Family"
        ],
        [
         "15722",
         "tt1744626",
         "Like Riding a Bike",
         "Like Riding a Bike",
         "2010",
         "5.0",
         "Biography,Documentary"
        ],
        [
         "17182",
         "tt1778383",
         "Windows",
         "Windows",
         "2011",
         "4.0",
         "Biography,Documentary,Drama"
        ],
        [
         "17746",
         "tt1790847",
         "Steve Avery",
         "Steve Avery",
         "2010",
         "5.0",
         "Biography,Documentary"
        ],
        [
         "18010",
         "tt1798252",
         "Super Derecho",
         "Super Derecho",
         "2010",
         "5.0",
         "Documentary,News"
        ],
        [
         "21998",
         "tt1905089",
         "Welcome to Bookville",
         "Welcome to Bookville",
         "2010",
         "4.0",
         "Biography,Documentary"
        ],
        [
         "22136",
         "tt1911566",
         "Dying Faith",
         "Dying Faith",
         "2011",
         "5.0",
         "Documentary,Drama"
        ],
        [
         "22660",
         "tt1929442",
         "Valquirias",
         "Valquirias",
         "2011",
         "4.0",
         "Documentary,Drama"
        ],
        [
         "22903",
         "tt1935926",
         "Tierra",
         "Tierra",
         "2010",
         "1.0",
         "Documentary,Family"
        ],
        [
         "23968",
         "tt1972627",
         "Communication",
         "Communication",
         "2011",
         "5.0",
         "Biography,Documentary,Drama"
        ],
        [
         "24007",
         "tt1974200",
         "Abortion: A Juggling View",
         "Abortion: A Juggling View",
         "2011",
         "4.0",
         "Documentary,Family,History"
        ],
        [
         "24063",
         "tt1975233",
         "Path to Freedom",
         "Path to Freedom",
         "2010",
         "5.0",
         "Biography,Documentary"
        ],
        [
         "24267",
         "tt1980215",
         "Prescription Drug Dangers: A Juggling View",
         "Prescription Drug Dangers: A Juggling View",
         "2011",
         "5.0",
         "Documentary,Family,History"
        ],
        [
         "24324",
         "tt1981608",
         "Bloom Where You Are Planted",
         "Bloom Where You Are Planted",
         "2011",
         "5.0",
         "Biography,Documentary"
        ],
        [
         "24846",
         "tt1997574",
         "This Is My Life",
         "This Is My Life",
         "2011",
         "4.0",
         "Biography,Documentary,Family"
        ],
        [
         "24885",
         "tt1998386",
         "World Poverty: A Juggling View",
         "World Poverty: A Juggling View",
         "2011",
         "5.0",
         "Documentary,Family,History"
        ],
        [
         "25356",
         "tt2012597",
         "Japanda",
         "Japanda",
         "2011",
         "5.0",
         "Biography,Documentary"
        ],
        [
         "25719",
         "tt2025515",
         "Camp 22",
         "Camp 22",
         "2010",
         "5.0",
         "Documentary,History"
        ],
        [
         "25760",
         "tt2027114",
         "Hussey's of Wapping",
         "Hussey's of Wapping",
         "2011",
         "5.0",
         "Documentary,Family,News"
        ],
        [
         "25888",
         "tt2034084",
         "Prostate Cancer: A Juggling View",
         "Prostate Cancer: A Juggling View",
         "2011",
         "5.0",
         "Documentary,Family"
        ],
        [
         "30676",
         "tt2170196",
         "Turner",
         "Turner",
         "2012",
         "5.0",
         "Biography,Documentary"
        ],
        [
         "33702",
         "tt2255769",
         "Dalia Rawson",
         "Dalia Rawson",
         "2012",
         "2.0",
         "Biography,Documentary"
        ]
       ],
       "shape": {
        "columns": 6,
        "rows": 459
       }
      },
      "text/html": [
       "<div>\n",
       "<style scoped>\n",
       "    .dataframe tbody tr th:only-of-type {\n",
       "        vertical-align: middle;\n",
       "    }\n",
       "\n",
       "    .dataframe tbody tr th {\n",
       "        vertical-align: top;\n",
       "    }\n",
       "\n",
       "    .dataframe thead th {\n",
       "        text-align: right;\n",
       "    }\n",
       "</style>\n",
       "<table border=\"1\" class=\"dataframe\">\n",
       "  <thead>\n",
       "    <tr style=\"text-align: right;\">\n",
       "      <th></th>\n",
       "      <th>movie_id</th>\n",
       "      <th>primary_title</th>\n",
       "      <th>movie_title</th>\n",
       "      <th>start_year</th>\n",
       "      <th>movie_runtime_mins</th>\n",
       "      <th>genres</th>\n",
       "    </tr>\n",
       "  </thead>\n",
       "  <tbody>\n",
       "    <tr>\n",
       "      <th>1734</th>\n",
       "      <td>tt10160946</td>\n",
       "      <td>New York City Pizza Parlors</td>\n",
       "      <td>New York City Pizza Parlors</td>\n",
       "      <td>2018</td>\n",
       "      <td>5.0</td>\n",
       "      <td>Documentary</td>\n",
       "    </tr>\n",
       "    <tr>\n",
       "      <th>1757</th>\n",
       "      <td>tt10163274</td>\n",
       "      <td>Shower Thoughts</td>\n",
       "      <td>Shower Thoughts</td>\n",
       "      <td>2019</td>\n",
       "      <td>4.0</td>\n",
       "      <td>Comedy,Drama,Thriller</td>\n",
       "    </tr>\n",
       "    <tr>\n",
       "      <th>2278</th>\n",
       "      <td>tt10229632</td>\n",
       "      <td>Interiors</td>\n",
       "      <td>Interiors</td>\n",
       "      <td>2018</td>\n",
       "      <td>4.0</td>\n",
       "      <td>Documentary</td>\n",
       "    </tr>\n",
       "    <tr>\n",
       "      <th>2556</th>\n",
       "      <td>tt10263670</td>\n",
       "      <td>The 49th Day</td>\n",
       "      <td>The 49th Day</td>\n",
       "      <td>2019</td>\n",
       "      <td>5.0</td>\n",
       "      <td>Animation,Fantasy</td>\n",
       "    </tr>\n",
       "    <tr>\n",
       "      <th>2570</th>\n",
       "      <td>tt10265824</td>\n",
       "      <td>Lamentation For Little Girls Who Are In Love W...</td>\n",
       "      <td>Lamentation For Little Girls Who Are In Love W...</td>\n",
       "      <td>2019</td>\n",
       "      <td>1.0</td>\n",
       "      <td>Animation</td>\n",
       "    </tr>\n",
       "    <tr>\n",
       "      <th>...</th>\n",
       "      <td>...</td>\n",
       "      <td>...</td>\n",
       "      <td>...</td>\n",
       "      <td>...</td>\n",
       "      <td>...</td>\n",
       "      <td>...</td>\n",
       "    </tr>\n",
       "    <tr>\n",
       "      <th>143078</th>\n",
       "      <td>tt9465358</td>\n",
       "      <td>All Night Bender (No Surrender)</td>\n",
       "      <td>All Night Bender (No Surrender)</td>\n",
       "      <td>2018</td>\n",
       "      <td>5.0</td>\n",
       "      <td>Documentary,News</td>\n",
       "    </tr>\n",
       "    <tr>\n",
       "      <th>143146</th>\n",
       "      <td>tt9475908</td>\n",
       "      <td>Rhonda's Treasures</td>\n",
       "      <td>Rhonda's Treasures</td>\n",
       "      <td>2018</td>\n",
       "      <td>4.0</td>\n",
       "      <td>Documentary</td>\n",
       "    </tr>\n",
       "    <tr>\n",
       "      <th>143661</th>\n",
       "      <td>tt9563288</td>\n",
       "      <td>The Peony Pavilion</td>\n",
       "      <td>The Peony Pavilion</td>\n",
       "      <td>2017</td>\n",
       "      <td>4.0</td>\n",
       "      <td>Animation,Short</td>\n",
       "    </tr>\n",
       "    <tr>\n",
       "      <th>143717</th>\n",
       "      <td>tt9572670</td>\n",
       "      <td>Hidden Stars of Hollywood II - Laurel Paley</td>\n",
       "      <td>Hidden Stars of Hollywood II - Laurel Paley</td>\n",
       "      <td>2018</td>\n",
       "      <td>4.0</td>\n",
       "      <td>Biography,Documentary</td>\n",
       "    </tr>\n",
       "    <tr>\n",
       "      <th>145459</th>\n",
       "      <td>tt9819724</td>\n",
       "      <td>The Tale of Two Deaf Travellers</td>\n",
       "      <td>The Tale of Two Deaf Travellers</td>\n",
       "      <td>2018</td>\n",
       "      <td>5.0</td>\n",
       "      <td>Adventure,Biography,Documentary</td>\n",
       "    </tr>\n",
       "  </tbody>\n",
       "</table>\n",
       "<p>459 rows × 6 columns</p>\n",
       "</div>"
      ],
      "text/plain": [
       "          movie_id                                      primary_title  \\\n",
       "1734    tt10160946                        New York City Pizza Parlors   \n",
       "1757    tt10163274                                    Shower Thoughts   \n",
       "2278    tt10229632                                          Interiors   \n",
       "2556    tt10263670                                       The 49th Day   \n",
       "2570    tt10265824  Lamentation For Little Girls Who Are In Love W...   \n",
       "...            ...                                                ...   \n",
       "143078   tt9465358                    All Night Bender (No Surrender)   \n",
       "143146   tt9475908                                 Rhonda's Treasures   \n",
       "143661   tt9563288                                 The Peony Pavilion   \n",
       "143717   tt9572670        Hidden Stars of Hollywood II - Laurel Paley   \n",
       "145459   tt9819724                    The Tale of Two Deaf Travellers   \n",
       "\n",
       "                                              movie_title  start_year  \\\n",
       "1734                          New York City Pizza Parlors        2018   \n",
       "1757                                      Shower Thoughts        2019   \n",
       "2278                                            Interiors        2018   \n",
       "2556                                         The 49th Day        2019   \n",
       "2570    Lamentation For Little Girls Who Are In Love W...        2019   \n",
       "...                                                   ...         ...   \n",
       "143078                    All Night Bender (No Surrender)        2018   \n",
       "143146                                 Rhonda's Treasures        2018   \n",
       "143661                                 The Peony Pavilion        2017   \n",
       "143717        Hidden Stars of Hollywood II - Laurel Paley        2018   \n",
       "145459                    The Tale of Two Deaf Travellers        2018   \n",
       "\n",
       "        movie_runtime_mins                           genres  \n",
       "1734                   5.0                      Documentary  \n",
       "1757                   4.0            Comedy,Drama,Thriller  \n",
       "2278                   4.0                      Documentary  \n",
       "2556                   5.0                Animation,Fantasy  \n",
       "2570                   1.0                        Animation  \n",
       "...                    ...                              ...  \n",
       "143078                 5.0                 Documentary,News  \n",
       "143146                 4.0                      Documentary  \n",
       "143661                 4.0                  Animation,Short  \n",
       "143717                 4.0            Biography,Documentary  \n",
       "145459                 5.0  Adventure,Biography,Documentary  \n",
       "\n",
       "[459 rows x 6 columns]"
      ]
     },
     "execution_count": 38,
     "metadata": {},
     "output_type": "execute_result"
    }
   ],
   "source": [
    "runtimes = movie_basics[movie_basics['movie_runtime_mins'].between(1, 5)]\n",
    "runtimes"
   ]
  },
  {
   "cell_type": "markdown",
   "id": "5d249a2f",
   "metadata": {},
   "source": [
    "## 🎥 Runtime Outliers: Are These Ultra-Long Films Real?\n",
    "\n",
    "While exploring `movie_runtime_mins`, we found a few movies with **extremely long runtimes**. Here are some standout examples:\n",
    "\n",
    "| Title                    | Runtime (mins) | Runtime (hrs) | Real? | Notes |\n",
    "|--------------------------|----------------|----------------|-------|-------|\n",
    "| **Logistics** (2012)     | 51,420         | ~857 hrs       | Yes | World's longest film (35 days long) |\n",
    "| **Modern Times Forever** (2011) | 14,400         | 240 hrs         | Yes | 10-day long art film shown once in Helsinki |\n",
    "| **Nari** (2017)          | 6,017          | ~100 hrs       | Seems Real | Likely an experimental or installation piece |\n",
    "| **Hunger!** (2015)       | 6,000          | 100 hrs        |    Unverified | May be a mislabeled or fringe project |\n",
    "\n",
    "---\n",
    "\n",
    "### 🔍 Details\n",
    "\n",
    "- **Logistics**: Swedish experimental film by Erika Magnusson & Daniel Andersson. It follows the life cycle of a pedometer in real-time, running 35 days long. Often cited as the longest film ever made.\n",
    "- **Modern Times Forever**: An art film by Danish group Superflex. Simulates the decay of a building over millennia, shown on the side of the actual building for 10 days straight.\n",
    "- **Nari**: Little public documentation, but appears to be a long-form documentary or installation-style video.\n",
    "- **Hunger!**: Hard to verify — possibly an error or fringe production. No major sources confirm its runtime.\n",
    "\n",
    "---\n",
    "\n"
   ]
  },
  {
   "cell_type": "markdown",
   "id": "e601e911",
   "metadata": {},
   "source": [
    "## 🎞️ Are These 1–5 Minute Films Real?\n",
    "\n",
    "We discovered 459 entries in our dataset with runtimes between **1 and 5 minutes**. Here's a sample:\n",
    "\n",
    "| Title                                          | Year | Runtime | Genre                          |\n",
    "|------------------------------------------------|------|---------|--------------------------------|\n",
    "| New York City Pizza Parlors                   | 2018 | 5       | Documentary                    |\n",
    "| Shower Thoughts                                | 2019 | 4       | Comedy, Drama, Thriller        |\n",
    "| Lamentation for Little Girls...               | 2019 | 1       | Animation                      |\n",
    "| Rhonda's Treasures                              | 2018 | 4       | Documentary                    |\n",
    "| The Tale of Two Deaf Travellers                | 2018 | 5       | Adventure, Biography, Documentary |\n",
    "\n",
    "\n",
    "\n",
    "\n",
    "###  Are They Real?\n",
    "**Yes, absolutely.** These are:\n",
    "- **Short films** featured in film festivals\n",
    "- **Documentaries** and experimental projects\n",
    "- **Animation shorts** often created by indie studios or students\n",
    "\n",
    "IMDb includes these kinds of entries because it catalogs **all forms of cinematic content**, not just theatrical releases.\n",
    "\n",
    "## 🎬 Are These 5–20 Minute Films Real?\n",
    "\n",
    "While exploring runtimes, we found a group of movies with durations between **5 and 20 minutes**. For example:\n",
    "\n",
    "| Title                                 | Year | Runtime (mins) | Genre                       |\n",
    "|---------------------------------------|------|----------------|-----------------------------|\n",
    "| Empty Temple                          | 2018 | 13             | Documentary, History        |\n",
    "| Nuit                                  | 2019 | 15             | Documentary                 |\n",
    "| Shifting Gears II                     | 2019 | 20             | Documentary                 |\n",
    "| The Tale of Two Deaf Travellers       | 2018 | 5              | Adventure, Biography, Doc   |\n",
    "| Lala's World                          | 2018 | 13             | Documentary                 |\n",
    "\n",
    "###  Are They Real?\n",
    "**Yes, these are real.** Many are **short films**, **documentaries**, or **independent festival entries**. Film databases like IMDb include **all lengths of productions**, including:\n",
    "- Short films (common at film festivals and on platforms like Vimeo or YouTube)\n",
    "- Student or independent projects\n",
    "- Episodic anthologies or proof-of-concept pilots\n"
   ]
  },
  {
   "cell_type": "markdown",
   "id": "b2aafe3a",
   "metadata": {},
   "source": [
    "## 🎬 Average Runtime of Commercial Movies\n",
    "\n",
    "| **Type of Movie**          | **Average Runtime** | **Notes**                                              |\n",
    "|---------------------------|----------------------|--------------------------------------------------------|\n",
    "| **Hollywood (modern)**    | ~100–120 min         | Most theatrical releases fall in this range            |\n",
    "| **Blockbusters**          | ~130–150 min         | Big-budget films like Marvel, Nolan, Dune, etc.        |\n",
    "| **Animated Films**        | ~80–100 min          | Often shorter and more accessible for younger viewers  |\n",
    "| **Comedies / Rom-Coms**   | ~90–105 min          | Light pacing, quicker narratives                       |\n",
    "| **Dramas / Thrillers**    | ~110–130 min         | More narrative depth and complexity                    |\n",
    "| **Documentaries**         | ~70–90 min           | Varies widely depending on topic and distribution      |\n",
    "| **Indie Films**           | ~85–110 min          | Tighter edits due to budget and scope constraints      |\n",
    "| **Short Films**           | < 40 min             | Not usually released commercially                      |\n",
    "\n",
    "---\n",
    "\n",
    "### 🎥 Quick Insights\n",
    "\n",
    "- The **Academy of Motion Picture Arts and Sciences** defines a feature film as **40 minutes or longer**.\n",
    "- Modern theatrical films have **gradually increased in length** over the past few decades.\n",
    "- For most box office movies, a runtime between **90 to 120 minutes** is considered the sweet spot.\n",
    "\n",
    "\n",
    "### For analysis we will subset data between 40 and 160\n"
   ]
  },
  {
   "cell_type": "code",
   "execution_count": 39,
   "id": "080597aa",
   "metadata": {},
   "outputs": [],
   "source": [
    "movie_basics = movie_basics[movie_basics['movie_runtime_mins'].between(40, 150)]"
   ]
  },
  {
   "cell_type": "code",
   "execution_count": 40,
   "id": "03e51890",
   "metadata": {},
   "outputs": [
    {
     "data": {
      "application/vnd.microsoft.datawrangler.viewer.v0+json": {
       "columns": [
        {
         "name": "index",
         "rawType": "object",
         "type": "string"
        },
        {
         "name": "0",
         "rawType": "bool",
         "type": "boolean"
        }
       ],
       "ref": "995c3d38-e630-40bd-880c-e48734845a61",
       "rows": [
        [
         "movie_id",
         "False"
        ],
        [
         "primary_title",
         "False"
        ],
        [
         "movie_title",
         "False"
        ],
        [
         "start_year",
         "False"
        ],
        [
         "movie_runtime_mins",
         "False"
        ],
        [
         "genres",
         "False"
        ]
       ],
       "shape": {
        "columns": 1,
        "rows": 6
       }
      },
      "text/plain": [
       "movie_id              False\n",
       "primary_title         False\n",
       "movie_title           False\n",
       "start_year            False\n",
       "movie_runtime_mins    False\n",
       "genres                False\n",
       "dtype: bool"
      ]
     },
     "execution_count": 40,
     "metadata": {},
     "output_type": "execute_result"
    }
   ],
   "source": [
    "movie_basics.shape\n",
    "movie_basics.isna().any()"
   ]
  },
  {
   "cell_type": "code",
   "execution_count": 41,
   "id": "17319405",
   "metadata": {},
   "outputs": [
    {
     "name": "stdout",
     "output_type": "stream",
     "text": [
      "<class 'pandas.core.frame.DataFrame'>\n",
      "RangeIndex: 73856 entries, 0 to 73855\n",
      "Data columns (total 3 columns):\n",
      " #   Column         Non-Null Count  Dtype  \n",
      "---  ------         --------------  -----  \n",
      " 0   movie_id       73856 non-null  object \n",
      " 1   averagerating  73856 non-null  float64\n",
      " 2   numvotes       73856 non-null  int64  \n",
      "dtypes: float64(1), int64(1), object(1)\n",
      "memory usage: 1.7+ MB\n"
     ]
    },
    {
     "data": {
      "text/plain": [
       "np.int64(0)"
      ]
     },
     "execution_count": 41,
     "metadata": {},
     "output_type": "execute_result"
    }
   ],
   "source": [
    "movie_ratings = imdb_tables['movie_ratings']\n",
    "\n",
    "movie_ratings.info()\n",
    "movie_ratings.duplicated().sum()"
   ]
  },
  {
   "cell_type": "code",
   "execution_count": 42,
   "id": "b4de3811",
   "metadata": {},
   "outputs": [
    {
     "data": {
      "text/plain": [
       "Index(['movie_id', 'averagerating', 'numvotes'], dtype='object')"
      ]
     },
     "execution_count": 42,
     "metadata": {},
     "output_type": "execute_result"
    }
   ],
   "source": [
    "movie_ratings.columns"
   ]
  },
  {
   "cell_type": "markdown",
   "id": "798c92e5",
   "metadata": {},
   "source": [
    "## ratings table is clean we merged it onto the basics table\n",
    "\n",
    "merging using a left merge resulted to high missingness in some columns, despite keeping all the data, any attempt to impute with statistical methods will obviously lead to data bias\n",
    "we merged using inner merge but this led to loss of 49% of the data but with complete entries"
   ]
  },
  {
   "cell_type": "code",
   "execution_count": 43,
   "id": "193fa0bc",
   "metadata": {},
   "outputs": [],
   "source": [
    "movie_df = movie_basics.merge(movie_ratings, on='movie_id', how='inner')"
   ]
  },
  {
   "cell_type": "markdown",
   "id": "063e63aa",
   "metadata": {},
   "source": [
    "## People(Tables that contain human data) related tables were fairly clean, though minimal cleaning is requered then intended merging will be executed to get a larger and richer data frame?"
   ]
  },
  {
   "cell_type": "markdown",
   "id": "136d0203",
   "metadata": {},
   "source": [
    "## Persons"
   ]
  },
  {
   "cell_type": "code",
   "execution_count": 44,
   "id": "cf02e1de",
   "metadata": {},
   "outputs": [
    {
     "name": "stdout",
     "output_type": "stream",
     "text": [
      "<class 'pandas.core.frame.DataFrame'>\n",
      "RangeIndex: 606648 entries, 0 to 606647\n",
      "Data columns (total 5 columns):\n",
      " #   Column              Non-Null Count   Dtype  \n",
      "---  ------              --------------   -----  \n",
      " 0   person_id           606648 non-null  object \n",
      " 1   primary_name        606648 non-null  object \n",
      " 2   birth_year          82736 non-null   float64\n",
      " 3   death_year          6783 non-null    float64\n",
      " 4   primary_profession  555308 non-null  object \n",
      "dtypes: float64(2), object(3)\n",
      "memory usage: 23.1+ MB\n",
      "person_id                  0\n",
      "primary_name               0\n",
      "birth_year            523912\n",
      "death_year            599865\n",
      "primary_profession     51340\n",
      "dtype: int64\n"
     ]
    },
    {
     "data": {
      "application/vnd.microsoft.datawrangler.viewer.v0+json": {
       "columns": [
        {
         "name": "index",
         "rawType": "int64",
         "type": "integer"
        },
        {
         "name": "person_id",
         "rawType": "object",
         "type": "string"
        },
        {
         "name": "primary_name",
         "rawType": "object",
         "type": "string"
        },
        {
         "name": "birth_year",
         "rawType": "float64",
         "type": "float"
        },
        {
         "name": "death_year",
         "rawType": "float64",
         "type": "float"
        },
        {
         "name": "primary_profession",
         "rawType": "object",
         "type": "unknown"
        }
       ],
       "ref": "a4f2f6c9-5830-4a05-a1b0-2622ff250afd",
       "rows": [
        [
         "0",
         "nm0061671",
         "Mary Ellen Bauder",
         null,
         null,
         "miscellaneous,production_manager,producer"
        ],
        [
         "1",
         "nm0061865",
         "Joseph Bauer",
         null,
         null,
         "composer,music_department,sound_department"
        ],
        [
         "2",
         "nm0062070",
         "Bruce Baum",
         null,
         null,
         "miscellaneous,actor,writer"
        ],
        [
         "3",
         "nm0062195",
         "Axel Baumann",
         null,
         null,
         "camera_department,cinematographer,art_department"
        ],
        [
         "4",
         "nm0062798",
         "Pete Baxter",
         null,
         null,
         "production_designer,art_department,set_decorator"
        ],
        [
         "5",
         "nm0062879",
         "Ruel S. Bayani",
         null,
         null,
         "director,production_manager,miscellaneous"
        ],
        [
         "6",
         "nm0063198",
         "Bayou",
         null,
         null,
         "actor"
        ],
        [
         "7",
         "nm0063432",
         "Stevie Be-Zet",
         null,
         null,
         "composer,soundtrack"
        ],
        [
         "8",
         "nm0063618",
         "Jeff Beal",
         "1963.0",
         null,
         "composer,music_department,soundtrack"
        ],
        [
         "9",
         "nm0063750",
         "Lindsay Beamish",
         null,
         null,
         "actress,miscellaneous"
        ],
        [
         "10",
         "nm0064023",
         "Bryan Beasley",
         null,
         null,
         "director,producer,writer"
        ],
        [
         "11",
         "nm0064350",
         "Martine Beauchemin",
         null,
         null,
         "producer,production_manager"
        ],
        [
         "12",
         "nm0065847",
         "Michael Frost Beckner",
         "1963.0",
         null,
         "writer,producer,miscellaneous"
        ],
        [
         "13",
         "nm0065919",
         "Will Becton",
         null,
         null,
         "miscellaneous,editor,editorial_department"
        ],
        [
         "14",
         "nm0066093",
         "Ahmad Bedair",
         "1945.0",
         null,
         "actor,miscellaneous"
        ],
        [
         "15",
         "nm0066163",
         "Arnaud Bedouët",
         null,
         null,
         "actor,writer,director"
        ],
        [
         "16",
         "nm0066268",
         "Steve Mitchell Beebe",
         null,
         null,
         "editorial_department,director,editor"
        ],
        [
         "17",
         "nm0066897",
         "Mohammad-Ali Behboudi",
         "1956.0",
         null,
         "actor"
        ],
        [
         "18",
         "nm0067234",
         "Hans Beimler",
         null,
         null,
         "producer,writer,miscellaneous"
        ],
        [
         "19",
         "nm0067845",
         "Sondos Belhassen",
         null,
         null,
         "actress"
        ],
        [
         "20",
         "nm0067983",
         "Krunoslav Belko",
         "1971.0",
         null,
         "actor"
        ],
        [
         "21",
         "nm0068170",
         "Dylan Bell",
         null,
         null,
         "director,actor,producer"
        ],
        [
         "22",
         "nm0068657",
         "Philippe Bellaiche",
         null,
         null,
         "cinematographer,camera_department,producer"
        ],
        [
         "23",
         "nm0068874",
         "Hava Kohav Beller",
         null,
         null,
         "director,writer,producer"
        ],
        [
         "24",
         "nm0069131",
         "Gregg Bello",
         null,
         null,
         "actor,producer"
        ],
        [
         "25",
         "nm0069225",
         "Gavin Bellour",
         null,
         null,
         "actor,producer,composer"
        ],
        [
         "26",
         "nm0069605",
         "Bruno Beltramini",
         null,
         null,
         "cinematographer,visual_effects,camera_department"
        ],
        [
         "27",
         "nm0069757",
         "Olga Belyavskaya",
         null,
         null,
         "actress,miscellaneous"
        ],
        [
         "28",
         "nm0069990",
         "Jorge Ben Jor",
         "1942.0",
         null,
         "soundtrack,composer,actor"
        ],
        [
         "29",
         "nm0070216",
         "John Paul Fedele",
         null,
         null,
         "actor,cinematographer,special_effects"
        ],
        [
         "30",
         "nm0070482",
         "Joel Bender",
         "1948.0",
         null,
         "editor,director,writer"
        ],
        [
         "31",
         "nm0070822",
         "Terry Benedict",
         null,
         null,
         "producer,director,assistant_director"
        ],
        [
         "32",
         "nm0071116",
         "Valérie Benguigui",
         "1961.0",
         "2013.0",
         "actress,soundtrack"
        ],
        [
         "33",
         "nm0072456",
         "Chris Benson",
         "1974.0",
         null,
         "cinematographer,camera_department,producer"
        ],
        [
         "34",
         "nm0072476",
         "Doug Benson",
         "1962.0",
         null,
         "actor,producer,writer"
        ],
        [
         "35",
         "nm0073061",
         "Roberto Benvenuti",
         null,
         null,
         "cinematographer,camera_department,miscellaneous"
        ],
        [
         "36",
         "nm0073146",
         "Gina Lola Benzina",
         null,
         null,
         "actress,make_up_department"
        ],
        [
         "37",
         "nm0073381",
         "Roxana Berco",
         null,
         null,
         "actress"
        ],
        [
         "38",
         "nm0073426",
         "Laxmikant Berde",
         "1954.0",
         "2004.0",
         "actor"
        ],
        [
         "39",
         "nm0074009",
         "Richard Berge",
         null,
         null,
         "producer,miscellaneous,writer"
        ],
        [
         "40",
         "nm0074445",
         "Jean-François Bergeron",
         null,
         null,
         "editor,editorial_department,actor"
        ],
        [
         "41",
         "nm0075049",
         "Urban Bergsten",
         null,
         null,
         "actor,writer,director"
        ],
        [
         "42",
         "nm0075666",
         "Joe Berlinger",
         "1961.0",
         null,
         "producer,director,camera_department"
        ],
        [
         "43",
         "nm0076139",
         "Andrée Bernard",
         "1966.0",
         null,
         "actress"
        ],
        [
         "44",
         "nm0076559",
         "Carlos Bernases",
         null,
         null,
         "production_manager,producer,casting_department"
        ],
        [
         "45",
         "nm0077024",
         "Daniel Bernstein",
         null,
         null,
         "composer,sound_department"
        ],
        [
         "46",
         "nm0077067",
         "Jamie Bernstein",
         "1952.0",
         null,
         "director,actress,writer"
        ],
        [
         "47",
         "nm0080566",
         "Martín Bianchedi",
         "1955.0",
         null,
         "composer,music_department,sound_department"
        ],
        [
         "48",
         "nm0080787",
         "Dusty Bias",
         null,
         null,
         "writer,director,producer"
        ],
        [
         "49",
         "nm0081060",
         "Grace Cary Bickley",
         null,
         null,
         "writer,actress,producer"
        ]
       ],
       "shape": {
        "columns": 5,
        "rows": 606648
       }
      },
      "text/html": [
       "<div>\n",
       "<style scoped>\n",
       "    .dataframe tbody tr th:only-of-type {\n",
       "        vertical-align: middle;\n",
       "    }\n",
       "\n",
       "    .dataframe tbody tr th {\n",
       "        vertical-align: top;\n",
       "    }\n",
       "\n",
       "    .dataframe thead th {\n",
       "        text-align: right;\n",
       "    }\n",
       "</style>\n",
       "<table border=\"1\" class=\"dataframe\">\n",
       "  <thead>\n",
       "    <tr style=\"text-align: right;\">\n",
       "      <th></th>\n",
       "      <th>person_id</th>\n",
       "      <th>primary_name</th>\n",
       "      <th>birth_year</th>\n",
       "      <th>death_year</th>\n",
       "      <th>primary_profession</th>\n",
       "    </tr>\n",
       "  </thead>\n",
       "  <tbody>\n",
       "    <tr>\n",
       "      <th>0</th>\n",
       "      <td>nm0061671</td>\n",
       "      <td>Mary Ellen Bauder</td>\n",
       "      <td>NaN</td>\n",
       "      <td>NaN</td>\n",
       "      <td>miscellaneous,production_manager,producer</td>\n",
       "    </tr>\n",
       "    <tr>\n",
       "      <th>1</th>\n",
       "      <td>nm0061865</td>\n",
       "      <td>Joseph Bauer</td>\n",
       "      <td>NaN</td>\n",
       "      <td>NaN</td>\n",
       "      <td>composer,music_department,sound_department</td>\n",
       "    </tr>\n",
       "    <tr>\n",
       "      <th>2</th>\n",
       "      <td>nm0062070</td>\n",
       "      <td>Bruce Baum</td>\n",
       "      <td>NaN</td>\n",
       "      <td>NaN</td>\n",
       "      <td>miscellaneous,actor,writer</td>\n",
       "    </tr>\n",
       "    <tr>\n",
       "      <th>3</th>\n",
       "      <td>nm0062195</td>\n",
       "      <td>Axel Baumann</td>\n",
       "      <td>NaN</td>\n",
       "      <td>NaN</td>\n",
       "      <td>camera_department,cinematographer,art_department</td>\n",
       "    </tr>\n",
       "    <tr>\n",
       "      <th>4</th>\n",
       "      <td>nm0062798</td>\n",
       "      <td>Pete Baxter</td>\n",
       "      <td>NaN</td>\n",
       "      <td>NaN</td>\n",
       "      <td>production_designer,art_department,set_decorator</td>\n",
       "    </tr>\n",
       "    <tr>\n",
       "      <th>...</th>\n",
       "      <td>...</td>\n",
       "      <td>...</td>\n",
       "      <td>...</td>\n",
       "      <td>...</td>\n",
       "      <td>...</td>\n",
       "    </tr>\n",
       "    <tr>\n",
       "      <th>606643</th>\n",
       "      <td>nm9990381</td>\n",
       "      <td>Susan Grobes</td>\n",
       "      <td>NaN</td>\n",
       "      <td>NaN</td>\n",
       "      <td>actress</td>\n",
       "    </tr>\n",
       "    <tr>\n",
       "      <th>606644</th>\n",
       "      <td>nm9990690</td>\n",
       "      <td>Joo Yeon So</td>\n",
       "      <td>NaN</td>\n",
       "      <td>NaN</td>\n",
       "      <td>actress</td>\n",
       "    </tr>\n",
       "    <tr>\n",
       "      <th>606645</th>\n",
       "      <td>nm9991320</td>\n",
       "      <td>Madeline Smith</td>\n",
       "      <td>NaN</td>\n",
       "      <td>NaN</td>\n",
       "      <td>actress</td>\n",
       "    </tr>\n",
       "    <tr>\n",
       "      <th>606646</th>\n",
       "      <td>nm9991786</td>\n",
       "      <td>Michelle Modigliani</td>\n",
       "      <td>NaN</td>\n",
       "      <td>NaN</td>\n",
       "      <td>producer</td>\n",
       "    </tr>\n",
       "    <tr>\n",
       "      <th>606647</th>\n",
       "      <td>nm9993380</td>\n",
       "      <td>Pegasus Envoyé</td>\n",
       "      <td>NaN</td>\n",
       "      <td>NaN</td>\n",
       "      <td>director,actor,writer</td>\n",
       "    </tr>\n",
       "  </tbody>\n",
       "</table>\n",
       "<p>606648 rows × 5 columns</p>\n",
       "</div>"
      ],
      "text/plain": [
       "        person_id         primary_name  birth_year  death_year  \\\n",
       "0       nm0061671    Mary Ellen Bauder         NaN         NaN   \n",
       "1       nm0061865         Joseph Bauer         NaN         NaN   \n",
       "2       nm0062070           Bruce Baum         NaN         NaN   \n",
       "3       nm0062195         Axel Baumann         NaN         NaN   \n",
       "4       nm0062798          Pete Baxter         NaN         NaN   \n",
       "...           ...                  ...         ...         ...   \n",
       "606643  nm9990381         Susan Grobes         NaN         NaN   \n",
       "606644  nm9990690          Joo Yeon So         NaN         NaN   \n",
       "606645  nm9991320       Madeline Smith         NaN         NaN   \n",
       "606646  nm9991786  Michelle Modigliani         NaN         NaN   \n",
       "606647  nm9993380       Pegasus Envoyé         NaN         NaN   \n",
       "\n",
       "                                      primary_profession  \n",
       "0              miscellaneous,production_manager,producer  \n",
       "1             composer,music_department,sound_department  \n",
       "2                             miscellaneous,actor,writer  \n",
       "3       camera_department,cinematographer,art_department  \n",
       "4       production_designer,art_department,set_decorator  \n",
       "...                                                  ...  \n",
       "606643                                           actress  \n",
       "606644                                           actress  \n",
       "606645                                           actress  \n",
       "606646                                          producer  \n",
       "606647                             director,actor,writer  \n",
       "\n",
       "[606648 rows x 5 columns]"
      ]
     },
     "execution_count": 44,
     "metadata": {},
     "output_type": "execute_result"
    }
   ],
   "source": [
    "persons = imdb_tables['persons'].copy(deep=True)\n",
    "persons.shape\n",
    "persons.head()\n",
    "persons.info()\n",
    "persons.describe()\n",
    "persons.columns\n",
    "print(persons.isna().sum())\n",
    "\n",
    "persons\n"
   ]
  },
  {
   "cell_type": "code",
   "execution_count": 45,
   "id": "8c8b4105",
   "metadata": {},
   "outputs": [],
   "source": [
    "persons = persons.drop(columns=['birth_year', 'death_year'])"
   ]
  },
  {
   "cell_type": "code",
   "execution_count": 46,
   "id": "2d368a9e",
   "metadata": {},
   "outputs": [],
   "source": [
    "persons['primary_profession'] = persons['primary_profession'].fillna(\"Unknown\")"
   ]
  },
  {
   "cell_type": "code",
   "execution_count": 47,
   "id": "fa2b0691",
   "metadata": {},
   "outputs": [
    {
     "data": {
      "application/vnd.microsoft.datawrangler.viewer.v0+json": {
       "columns": [
        {
         "name": "index",
         "rawType": "object",
         "type": "string"
        },
        {
         "name": "0",
         "rawType": "bool",
         "type": "boolean"
        }
       ],
       "ref": "64c5d2a6-c67e-4ba6-aa85-d7fd23bbcdea",
       "rows": [
        [
         "person_id",
         "False"
        ],
        [
         "primary_name",
         "False"
        ],
        [
         "primary_profession",
         "False"
        ]
       ],
       "shape": {
        "columns": 1,
        "rows": 3
       }
      },
      "text/plain": [
       "person_id             False\n",
       "primary_name          False\n",
       "primary_profession    False\n",
       "dtype: bool"
      ]
     },
     "execution_count": 47,
     "metadata": {},
     "output_type": "execute_result"
    }
   ],
   "source": [
    "persons.isna().any()"
   ]
  },
  {
   "cell_type": "code",
   "execution_count": 48,
   "id": "69f27ab2",
   "metadata": {},
   "outputs": [
    {
     "name": "stdout",
     "output_type": "stream",
     "text": [
      "<class 'pandas.core.frame.DataFrame'>\n",
      "RangeIndex: 291174 entries, 0 to 291173\n",
      "Data columns (total 2 columns):\n",
      " #   Column     Non-Null Count   Dtype \n",
      "---  ------     --------------   ----- \n",
      " 0   movie_id   291174 non-null  object\n",
      " 1   person_id  291174 non-null  object\n",
      "dtypes: object(2)\n",
      "memory usage: 4.4+ MB\n"
     ]
    }
   ],
   "source": [
    "directors = imdb_tables['directors'].copy(deep=True)\n",
    "directors.shape\n",
    "directors.isna().any()\n",
    "directors.duplicated().sum()\n",
    "directors.info()"
   ]
  },
  {
   "cell_type": "markdown",
   "id": "aac53212",
   "metadata": {},
   "source": [
    "### Merging directors to people, since our primary objective is to link it with the movies,we will use an inner join,and will drop duplicate via the movie id, since one person can be involved =in many movies\n",
    "\n",
    "\n",
    "### Result a complete combined table with no duplicate movies"
   ]
  },
  {
   "cell_type": "code",
   "execution_count": 49,
   "id": "22ce0fde",
   "metadata": {},
   "outputs": [
    {
     "data": {
      "application/vnd.microsoft.datawrangler.viewer.v0+json": {
       "columns": [
        {
         "name": "index",
         "rawType": "int64",
         "type": "integer"
        },
        {
         "name": "person_id",
         "rawType": "object",
         "type": "string"
        },
        {
         "name": "primary_name",
         "rawType": "object",
         "type": "string"
        },
        {
         "name": "primary_profession",
         "rawType": "object",
         "type": "string"
        },
        {
         "name": "movie_id",
         "rawType": "object",
         "type": "string"
        }
       ],
       "ref": "6fe9ade0-1715-425a-be17-f2773337d7df",
       "rows": [
        [
         "0",
         "nm0062879",
         "Ruel S. Bayani",
         "director,production_manager,miscellaneous",
         "tt1592569"
        ],
        [
         "4",
         "nm0062879",
         "Ruel S. Bayani",
         "director,production_manager,miscellaneous",
         "tt8421806"
        ],
        [
         "6",
         "nm0062879",
         "Ruel S. Bayani",
         "director,production_manager,miscellaneous",
         "tt2057445"
        ],
        [
         "9",
         "nm0062879",
         "Ruel S. Bayani",
         "director,production_manager,miscellaneous",
         "tt2590280"
        ],
        [
         "10",
         "nm0064023",
         "Bryan Beasley",
         "director,producer,writer",
         "tt4512140"
        ],
        [
         "11",
         "nm0064023",
         "Bryan Beasley",
         "director,producer,writer",
         "tt3501180"
        ],
        [
         "12",
         "nm0066268",
         "Steve Mitchell Beebe",
         "editorial_department,director,editor",
         "tt5521860"
        ],
        [
         "13",
         "nm0067234",
         "Hans Beimler",
         "producer,writer,miscellaneous",
         "tt2098699"
        ],
        [
         "14",
         "nm0068874",
         "Hava Kohav Beller",
         "director,writer,producer",
         "tt7701650"
        ],
        [
         "15",
         "nm0070482",
         "Joel Bender",
         "editor,director,writer",
         "tt1016090"
        ],
        [
         "16",
         "nm0070482",
         "Joel Bender",
         "editor,director,writer",
         "tt3790232"
        ],
        [
         "18",
         "nm0075666",
         "Joe Berlinger",
         "producer,director,camera_department",
         "tt5151716"
        ],
        [
         "19",
         "nm0075666",
         "Joe Berlinger",
         "producer,director,camera_department",
         "tt2112868"
        ],
        [
         "20",
         "nm0075666",
         "Joe Berlinger",
         "producer,director,camera_department",
         "tt2028530"
        ],
        [
         "21",
         "nm0075666",
         "Joe Berlinger",
         "producer,director,camera_department",
         "tt2481498"
        ],
        [
         "23",
         "nm0075666",
         "Joe Berlinger",
         "producer,director,camera_department",
         "tt6794462"
        ],
        [
         "25",
         "nm0075666",
         "Joe Berlinger",
         "producer,director,camera_department",
         "tt4104086"
        ],
        [
         "29",
         "nm0075666",
         "Joe Berlinger",
         "producer,director,camera_department",
         "tt3326366"
        ],
        [
         "30",
         "nm0075666",
         "Joe Berlinger",
         "producer,director,camera_department",
         "tt3137552"
        ],
        [
         "31",
         "nm0077067",
         "Jamie Bernstein",
         "director,actress,writer",
         "tt4601198"
        ],
        [
         "32",
         "nm0077067",
         "Jamie Bernstein",
         "director,actress,writer",
         "tt3909442"
        ],
        [
         "33",
         "nm0080787",
         "Dusty Bias",
         "writer,director,producer",
         "tt4794754"
        ],
        [
         "34",
         "nm0080787",
         "Dusty Bias",
         "writer,director,producer",
         "tt1374996"
        ],
        [
         "37",
         "nm0082154",
         "Miro Bilbrough",
         "miscellaneous,director,writer",
         "tt2012110"
        ],
        [
         "38",
         "nm0083767",
         "Fernando Birri",
         "director,actor,writer",
         "tt1854526"
        ],
        [
         "41",
         "nm0086051",
         "Bob Blagden",
         "director,art_department,writer",
         "tt1712204"
        ],
        [
         "43",
         "nm0087933",
         "Jacek Blawut",
         "cinematographer,miscellaneous,director",
         "tt2508838"
        ],
        [
         "44",
         "nm0088531",
         "Ryan Bliss",
         "director,writer,producer",
         "tt6550978"
        ],
        [
         "45",
         "nm0088888",
         "Eric Blom",
         "director,camera_department,writer",
         "tt8407740"
        ],
        [
         "48",
         "nm0089850",
         "Lars Blumers",
         "director,writer,producer",
         "tt1825703"
        ],
        [
         "51",
         "nm0092526",
         "David Christopher Loya",
         "producer,director,writer",
         "tt10337122"
        ],
        [
         "52",
         "nm0094754",
         "Emmanuelle Bonmariage",
         "actress,director",
         "tt8322784"
        ],
        [
         "53",
         "nm0094756",
         "Manu Bonmariage",
         "cinematographer,director,camera_department",
         "tt5784900"
        ],
        [
         "54",
         "nm0094756",
         "Manu Bonmariage",
         "cinematographer,director,camera_department",
         "tt2462954"
        ],
        [
         "55",
         "nm0098545",
         "Marie Boti",
         "director,writer",
         "tt6668842"
        ],
        [
         "56",
         "nm0099797",
         "Pascal Bourdiaux",
         "director,editor",
         "tt5286268"
        ],
        [
         "64",
         "nm0099797",
         "Pascal Bourdiaux",
         "director,editor",
         "tt1437361"
        ],
        [
         "69",
         "nm0099797",
         "Pascal Bourdiaux",
         "director,editor",
         "tt5980746"
        ],
        [
         "71",
         "nm0099797",
         "Pascal Bourdiaux",
         "director,editor",
         "tt2836252"
        ],
        [
         "72",
         "nm0099841",
         "Gilles Bourdos",
         "writer,director",
         "tt2150332"
        ],
        [
         "76",
         "nm0099841",
         "Gilles Bourdos",
         "writer,director",
         "tt5539466"
        ],
        [
         "79",
         "nm0101047",
         "David Bowers",
         "animation_department,director,writer",
         "tt1650043"
        ],
        [
         "82",
         "nm0101047",
         "David Bowers",
         "animation_department,director,writer",
         "tt8716054"
        ],
        [
         "86",
         "nm0101047",
         "David Bowers",
         "animation_department,director,writer",
         "tt6003368"
        ],
        [
         "88",
         "nm0101047",
         "David Bowers",
         "animation_department,director,writer",
         "tt2023453"
        ],
        [
         "91",
         "nm0102070",
         "Manu Boyer",
         "director,writer,camera_department",
         "tt3227442"
        ],
        [
         "92",
         "nm0103187",
         "Dan Bradley",
         "stunts,assistant_director,actor",
         "tt1234719"
        ],
        [
         "96",
         "nm0104567",
         "Madeline Brandeis",
         "producer,director,writer",
         "tt7953946"
        ],
        [
         "99",
         "nm0105723",
         "Bettina Braun",
         "director,editor,writer",
         "tt9466900"
        ],
        [
         "100",
         "nm0109400",
         "Mariola Brillowska",
         "director,writer,actress",
         "tt1786454"
        ]
       ],
       "shape": {
        "columns": 4,
        "rows": 140416
       }
      },
      "text/html": [
       "<div>\n",
       "<style scoped>\n",
       "    .dataframe tbody tr th:only-of-type {\n",
       "        vertical-align: middle;\n",
       "    }\n",
       "\n",
       "    .dataframe tbody tr th {\n",
       "        vertical-align: top;\n",
       "    }\n",
       "\n",
       "    .dataframe thead th {\n",
       "        text-align: right;\n",
       "    }\n",
       "</style>\n",
       "<table border=\"1\" class=\"dataframe\">\n",
       "  <thead>\n",
       "    <tr style=\"text-align: right;\">\n",
       "      <th></th>\n",
       "      <th>person_id</th>\n",
       "      <th>primary_name</th>\n",
       "      <th>primary_profession</th>\n",
       "      <th>movie_id</th>\n",
       "    </tr>\n",
       "  </thead>\n",
       "  <tbody>\n",
       "    <tr>\n",
       "      <th>0</th>\n",
       "      <td>nm0062879</td>\n",
       "      <td>Ruel S. Bayani</td>\n",
       "      <td>director,production_manager,miscellaneous</td>\n",
       "      <td>tt1592569</td>\n",
       "    </tr>\n",
       "    <tr>\n",
       "      <th>4</th>\n",
       "      <td>nm0062879</td>\n",
       "      <td>Ruel S. Bayani</td>\n",
       "      <td>director,production_manager,miscellaneous</td>\n",
       "      <td>tt8421806</td>\n",
       "    </tr>\n",
       "    <tr>\n",
       "      <th>6</th>\n",
       "      <td>nm0062879</td>\n",
       "      <td>Ruel S. Bayani</td>\n",
       "      <td>director,production_manager,miscellaneous</td>\n",
       "      <td>tt2057445</td>\n",
       "    </tr>\n",
       "    <tr>\n",
       "      <th>9</th>\n",
       "      <td>nm0062879</td>\n",
       "      <td>Ruel S. Bayani</td>\n",
       "      <td>director,production_manager,miscellaneous</td>\n",
       "      <td>tt2590280</td>\n",
       "    </tr>\n",
       "    <tr>\n",
       "      <th>10</th>\n",
       "      <td>nm0064023</td>\n",
       "      <td>Bryan Beasley</td>\n",
       "      <td>director,producer,writer</td>\n",
       "      <td>tt4512140</td>\n",
       "    </tr>\n",
       "    <tr>\n",
       "      <th>...</th>\n",
       "      <td>...</td>\n",
       "      <td>...</td>\n",
       "      <td>...</td>\n",
       "      <td>...</td>\n",
       "    </tr>\n",
       "    <tr>\n",
       "      <th>291163</th>\n",
       "      <td>nm9964916</td>\n",
       "      <td>Rich Allen</td>\n",
       "      <td>director,actor,writer</td>\n",
       "      <td>tt8685584</td>\n",
       "    </tr>\n",
       "    <tr>\n",
       "      <th>291164</th>\n",
       "      <td>nm9971456</td>\n",
       "      <td>Zheng Wei</td>\n",
       "      <td>director</td>\n",
       "      <td>tt8697720</td>\n",
       "    </tr>\n",
       "    <tr>\n",
       "      <th>291165</th>\n",
       "      <td>nm9980896</td>\n",
       "      <td>Rama Narayanan</td>\n",
       "      <td>director,writer</td>\n",
       "      <td>tt8715016</td>\n",
       "    </tr>\n",
       "    <tr>\n",
       "      <th>291167</th>\n",
       "      <td>nm9980896</td>\n",
       "      <td>Rama Narayanan</td>\n",
       "      <td>director,writer</td>\n",
       "      <td>tt8919136</td>\n",
       "    </tr>\n",
       "    <tr>\n",
       "      <th>291168</th>\n",
       "      <td>nm9981679</td>\n",
       "      <td>Samir Eshra</td>\n",
       "      <td>director,writer,cinematographer</td>\n",
       "      <td>tt8717234</td>\n",
       "    </tr>\n",
       "  </tbody>\n",
       "</table>\n",
       "<p>140416 rows × 4 columns</p>\n",
       "</div>"
      ],
      "text/plain": [
       "        person_id    primary_name                         primary_profession  \\\n",
       "0       nm0062879  Ruel S. Bayani  director,production_manager,miscellaneous   \n",
       "4       nm0062879  Ruel S. Bayani  director,production_manager,miscellaneous   \n",
       "6       nm0062879  Ruel S. Bayani  director,production_manager,miscellaneous   \n",
       "9       nm0062879  Ruel S. Bayani  director,production_manager,miscellaneous   \n",
       "10      nm0064023   Bryan Beasley                   director,producer,writer   \n",
       "...           ...             ...                                        ...   \n",
       "291163  nm9964916      Rich Allen                      director,actor,writer   \n",
       "291164  nm9971456       Zheng Wei                                   director   \n",
       "291165  nm9980896  Rama Narayanan                            director,writer   \n",
       "291167  nm9980896  Rama Narayanan                            director,writer   \n",
       "291168  nm9981679     Samir Eshra            director,writer,cinematographer   \n",
       "\n",
       "         movie_id  \n",
       "0       tt1592569  \n",
       "4       tt8421806  \n",
       "6       tt2057445  \n",
       "9       tt2590280  \n",
       "10      tt4512140  \n",
       "...           ...  \n",
       "291163  tt8685584  \n",
       "291164  tt8697720  \n",
       "291165  tt8715016  \n",
       "291167  tt8919136  \n",
       "291168  tt8717234  \n",
       "\n",
       "[140416 rows x 4 columns]"
      ]
     },
     "execution_count": 49,
     "metadata": {},
     "output_type": "execute_result"
    }
   ],
   "source": [
    "persons_df = persons.merge(directors, on='person_id', how='inner')\n",
    "persons_df = persons_df.drop_duplicates(subset='movie_id')\n",
    "persons_df"
   ]
  },
  {
   "cell_type": "markdown",
   "id": "0fe48e77",
   "metadata": {},
   "source": [
    "### We will now merge this to the movies df to get a bigger picture"
   ]
  },
  {
   "cell_type": "code",
   "execution_count": 50,
   "id": "b191394a",
   "metadata": {},
   "outputs": [],
   "source": [
    "imdb_full = movie_df.merge(persons_df, on=\"movie_id\", how='left')\n",
    "imdb_full = imdb_full.dropna()"
   ]
  },
  {
   "cell_type": "code",
   "execution_count": 51,
   "id": "a16c67e8",
   "metadata": {},
   "outputs": [
    {
     "data": {
      "application/vnd.microsoft.datawrangler.viewer.v0+json": {
       "columns": [
        {
         "name": "index",
         "rawType": "int64",
         "type": "integer"
        },
        {
         "name": "movie_id",
         "rawType": "object",
         "type": "string"
        },
        {
         "name": "primary_title",
         "rawType": "object",
         "type": "string"
        },
        {
         "name": "movie_title",
         "rawType": "object",
         "type": "string"
        },
        {
         "name": "start_year",
         "rawType": "int64",
         "type": "integer"
        },
        {
         "name": "movie_runtime_mins",
         "rawType": "float64",
         "type": "float"
        },
        {
         "name": "genres",
         "rawType": "object",
         "type": "string"
        },
        {
         "name": "averagerating",
         "rawType": "float64",
         "type": "float"
        },
        {
         "name": "numvotes",
         "rawType": "int64",
         "type": "integer"
        },
        {
         "name": "person_id",
         "rawType": "object",
         "type": "string"
        },
        {
         "name": "primary_name",
         "rawType": "object",
         "type": "string"
        },
        {
         "name": "primary_profession",
         "rawType": "object",
         "type": "string"
        }
       ],
       "ref": "839a127b-94c4-4fd0-bc46-7f869356dd2f",
       "rows": [
        [
         "0",
         "tt0066787",
         "One Day Before the Rainy Season",
         "Ashad Ka Ek Din",
         "2019",
         "114.0",
         "Biography,Drama",
         "7.2",
         "43",
         "nm0002411",
         "Mani Kaul",
         "director,writer,actor"
        ],
        [
         "1",
         "tt0069049",
         "The Other Side of the Wind",
         "The Other Side of the Wind",
         "2018",
         "122.0",
         "Drama",
         "6.9",
         "4517",
         "nm0000080",
         "Orson Welles",
         "actor,director,writer"
        ],
        [
         "2",
         "tt0069204",
         "Sabse Bada Sukh",
         "Sabse Bada Sukh",
         "2018",
         "87.0",
         "Comedy,Drama",
         "6.1",
         "13",
         "nm0611531",
         "Hrishikesh Mukherjee",
         "director,editor,writer"
        ],
        [
         "3",
         "tt0100275",
         "The Wandering Soap Opera",
         "La Telenovela Errante",
         "2017",
         "80.0",
         "Comedy,Drama,Fantasy",
         "6.5",
         "119",
         "nm0749914",
         "Raoul Ruiz",
         "director,writer,producer"
        ],
        [
         "4",
         "tt0112502",
         "Bigfoot",
         "Bigfoot",
         "2017",
         "87.0",
         "Horror,Thriller",
         "4.1",
         "32",
         "nm6883878",
         "Mc Jones",
         "actor,director"
        ],
        [
         "5",
         "tt0137204",
         "Joe Finds Grace",
         "Joe Finds Grace",
         "2017",
         "83.0",
         "Adventure,Animation,Comedy",
         "8.1",
         "263",
         "nm0365480",
         "Anthony Harrison",
         "actor,writer,producer"
        ],
        [
         "6",
         "tt0146592",
         "Pál Adrienn",
         "Pál Adrienn",
         "2010",
         "136.0",
         "Drama",
         "6.8",
         "451",
         "nm1030585",
         "Ágnes Kocsis",
         "director,writer,producer"
        ],
        [
         "7",
         "tt0154039",
         "So Much for Justice!",
         "Oda az igazság",
         "2010",
         "100.0",
         "History",
         "4.6",
         "64",
         "nm0417352",
         "Miklós Jancsó",
         "director,writer,actor"
        ],
        [
         "8",
         "tt0162942",
         "Children of the Green Dragon",
         "A zöld sárkány gyermekei",
         "2010",
         "89.0",
         "Drama",
         "6.9",
         "120",
         "nm1207262",
         "Bence Miklauzic",
         "director,writer,assistant_director"
        ],
        [
         "9",
         "tt0170651",
         "T.G.M. - osvoboditel",
         "T.G.M. - osvoboditel",
         "2018",
         "60.0",
         "Documentary",
         "7.5",
         "6",
         "nm0161615",
         "Vera Chytilová",
         "director,writer,actress"
        ],
        [
         "10",
         "tt0192528",
         "Heaven & Hell",
         "Reverse Heaven",
         "2018",
         "104.0",
         "Drama",
         "4.0",
         "72",
         "nm0667001",
         "Stuart Paul",
         "writer,director,actor"
        ],
        [
         "11",
         "tt0230212",
         "The Final Journey",
         "The Final Journey",
         "2010",
         "120.0",
         "Drama",
         "8.8",
         "8",
         "nm0011276",
         "R.J. Adams",
         "actor,writer,director"
        ],
        [
         "12",
         "tt0247643",
         "Los pájaros se van con la muerte",
         "Los pájaros se van con la muerte",
         "2011",
         "110.0",
         "Drama,Mystery",
         "4.0",
         "12",
         "nm0881867",
         "Thaelman Urgelles",
         "writer,producer,director"
        ],
        [
         "13",
         "tt0249516",
         "Foodfight!",
         "Foodfight!",
         "2012",
         "91.0",
         "Action,Animation,Comedy",
         "1.9",
         "8248",
         "nm0440415",
         "Lawrence Kasanoff",
         "producer,writer,director"
        ],
        [
         "14",
         "tt0250404",
         "Godfather",
         "Godfather",
         "2012",
         "87.0",
         "Crime,Drama",
         "6.7",
         "236",
         "nm0709364",
         "Parvez Rana",
         "director,writer"
        ],
        [
         "15",
         "tt0253093",
         "Gangavataran",
         "Gangavataran",
         "2018",
         "134.0",
         "Unknown",
         "6.6",
         "8",
         "nm0679610",
         "Dhundiraj Govind Phalke",
         "director,writer,cinematographer"
        ],
        [
         "16",
         "tt0255820",
         "Return to Babylon",
         "Return to Babylon",
         "2013",
         "75.0",
         "Biography,Comedy,Drama",
         "5.9",
         "123",
         "nm0133626",
         "Alex Monty Canawati",
         "director,writer,actor"
        ],
        [
         "17",
         "tt0262218",
         "Akakis mogzauroba",
         "Akakis mogzauroba",
         "2012",
         "44.0",
         "Documentary",
         "7.8",
         "22",
         "nm0024093",
         "Vasil Amashukeli",
         "director,cinematographer,miscellaneous"
        ],
        [
         "18",
         "tt0263814",
         "On kadin",
         "On kadin",
         "2019",
         "87.0",
         "Drama",
         "7.1",
         "100",
         "nm0351410",
         "Serif Gören",
         "director,writer,editor"
        ],
        [
         "19",
         "tt0276568",
         "To Chase a Million",
         "To Chase a Million",
         "2018",
         "97.0",
         "Action,Drama",
         "7.4",
         "5",
         "nm0413912",
         "Pat Jackson",
         "director,production_designer,writer"
        ],
        [
         "20",
         "tt0277964",
         "Prague: The Restless Heart of Europe",
         "Praha - neklidné srdce Evropy",
         "2018",
         "59.0",
         "Documentary,History",
         "7.0",
         "31",
         "nm0161615",
         "Vera Chytilová",
         "director,writer,actress"
        ],
        [
         "21",
         "tt0283440",
         "Short Time Heroes",
         "Kurzzeithelden",
         "2015",
         "45.0",
         "Sci-Fi",
         "6.6",
         "16",
         "nm0905839",
         "Christine Wagner",
         "camera_department,cinematographer,director"
        ],
        [
         "22",
         "tt0285252",
         "Life's a Beach",
         "Life's a Beach",
         "2012",
         "100.0",
         "Comedy",
         "3.9",
         "219",
         "nm0899854",
         "Tony Vitale",
         "producer,director,writer"
        ],
        [
         "23",
         "tt0285423",
         "Abolição",
         "Abolição",
         "2019",
         "87.0",
         "Documentary",
         "7.4",
         "35",
         "nm0119856",
         "Zózimo Bulbul",
         "actor,director,writer"
        ],
        [
         "24",
         "tt0293069",
         "Dark Blood",
         "Dark Blood",
         "2012",
         "86.0",
         "Thriller",
         "6.6",
         "1053",
         "nm0806293",
         "George Sluizer",
         "director,producer,writer"
        ],
        [
         "26",
         "tt0306058",
         "Second Coming",
         "Second Coming",
         "2012",
         "95.0",
         "Unknown",
         "5.5",
         "20",
         "nm0132363",
         "Darren Campbell",
         "actor,writer,director"
        ],
        [
         "27",
         "tt0312305",
         "Quantum Quest: A Cassini Space Odyssey",
         "Quantum Quest: A Cassini Space Odyssey",
         "2010",
         "45.0",
         "Adventure,Animation,Sci-Fi",
         "5.1",
         "287",
         "nm0820800",
         "Daniel St. Pierre",
         "animation_department,art_department,director"
        ],
        [
         "28",
         "tt0315642",
         "Wazir",
         "Wazir",
         "2016",
         "103.0",
         "Action,Crime,Drama",
         "7.1",
         "15378",
         "nm2349060",
         "Bejoy Nambiar",
         "producer,writer,director"
        ],
        [
         "29",
         "tt0323808",
         "The Wicker Tree",
         "The Wicker Tree",
         "2011",
         "96.0",
         "Drama,Horror",
         "3.9",
         "2328",
         "nm0362736",
         "Robin Hardy",
         "actor,writer,director"
        ],
        [
         "30",
         "tt0326592",
         "The Overnight",
         "The Overnight",
         "2010",
         "88.0",
         "Unknown",
         "7.5",
         "24",
         "nm1208371",
         "Jed I. Goodman",
         "camera_department,writer,producer"
        ],
        [
         "31",
         "tt0326965",
         "In My Sleep",
         "In My Sleep",
         "2010",
         "104.0",
         "Drama,Mystery,Thriller",
         "5.5",
         "1889",
         "nm1075006",
         "Allen Wolf",
         "miscellaneous,producer,director"
        ],
        [
         "32",
         "tt0328810",
         "My Land",
         "Aamaar Bhuvan",
         "2018",
         "102.0",
         "Drama,Family",
         "7.9",
         "61",
         "nm0784019",
         "Mrinal Sen",
         "director,writer,producer"
        ],
        [
         "33",
         "tt0329539",
         "Rice Girl",
         "Rice Girl",
         "2014",
         "95.0",
         "Adventure,Comedy,Romance",
         "6.1",
         "73",
         "nm0278780",
         "Michael Fischa",
         "director,producer,writer"
        ],
        [
         "34",
         "tt0330811",
         "Regret Not Speaking",
         "Regret Not Speaking",
         "2011",
         "87.0",
         "Unknown",
         "6.2",
         "10",
         "nm0477193",
         "Richard Kwietniowski",
         "director,writer,cinematographer"
        ],
        [
         "35",
         "tt0330987",
         "Tiden är en dröm, del 2",
         "Tiden är en dröm, del 2",
         "2014",
         "109.0",
         "Unknown",
         "6.3",
         "6",
         "nm0511951",
         "Jan Lindkvist",
         "director,writer,cinematographer"
        ],
        [
         "36",
         "tt0331312",
         "This Wretched Life",
         "This Wretched Life",
         "2010",
         "99.0",
         "Comedy,Drama",
         "7.6",
         "59",
         "nm1238415",
         "Frankie J. Mosca",
         "actor,writer,director"
        ],
        [
         "37",
         "tt0331314",
         "Bunyan and Babe",
         "Bunyan and Babe",
         "2017",
         "84.0",
         "Adventure,Animation,Comedy",
         "5.0",
         "302",
         "nm8625898",
         "Louis Ross",
         "director"
        ],
        [
         "38",
         "tt0337692",
         "On the Road",
         "On the Road",
         "2012",
         "124.0",
         "Adventure,Drama,Romance",
         "6.1",
         "37886",
         "nm0758574",
         "Walter Salles",
         "director,producer,writer"
        ],
        [
         "39",
         "tt0337882",
         "Blind Sided",
         "Blind Sided",
         "2010",
         "87.0",
         "Comedy,Crime,Drama",
         "7.4",
         "14",
         "nm0706973",
         "Douglas A. Raine",
         "assistant_director,miscellaneous,producer"
        ],
        [
         "40",
         "tt0337926",
         "Chatô - The King of Brazil",
         "Chatô: O Rei do Brasil",
         "2015",
         "102.0",
         "Biography",
         "6.0",
         "558",
         "nm0285071",
         "Guilherme Fontes",
         "actor,producer,director"
        ],
        [
         "41",
         "tt0339736",
         "The Evil Within",
         "The Evil Within",
         "2017",
         "98.0",
         "Horror",
         "5.6",
         "2420",
         "nm1274189",
         "Andrew Getty",
         "director,writer"
        ],
        [
         "42",
         "tt0346045",
         "Transeúntes",
         "Transeúntes",
         "2015",
         "101.0",
         "Comedy,Drama",
         "6.7",
         "35",
         "nm0021233",
         "Luis Aller",
         "writer,director,actor"
        ],
        [
         "43",
         "tt0357717",
         "Haar Jeet",
         "Haar Jeet",
         "2018",
         "87.0",
         "Drama",
         "5.1",
         "9",
         "nm1065099",
         "C.P. Dixit",
         "director,assistant_director"
        ],
        [
         "44",
         "tt0359950",
         "The Secret Life of Walter Mitty",
         "The Secret Life of Walter Mitty",
         "2013",
         "114.0",
         "Adventure,Comedy,Drama",
         "7.3",
         "275300",
         "nm0001774",
         "Ben Stiller",
         "producer,actor,director"
        ],
        [
         "45",
         "tt0360556",
         "Fahrenheit 451",
         "Fahrenheit 451",
         "2018",
         "100.0",
         "Drama,Sci-Fi,Thriller",
         "4.9",
         "14469",
         "nm1023919",
         "Ramin Bahrani",
         "director,writer,producer"
        ],
        [
         "46",
         "tt0364201",
         "Aman Ke Farishtey",
         "Aman Ke Farishtey",
         "2016",
         "137.0",
         "Action",
         "6.4",
         "16",
         "nm1768188",
         "Kader Kashmiri",
         "director,writer"
        ],
        [
         "47",
         "tt0365545",
         "Nappily Ever After",
         "Nappily Ever After",
         "2018",
         "98.0",
         "Comedy,Drama,Romance",
         "6.4",
         "6287",
         "nm2223783",
         "Haifaa Al-Mansour",
         "director,writer,producer"
        ],
        [
         "48",
         "tt0365907",
         "A Walk Among the Tombstones",
         "A Walk Among the Tombstones",
         "2014",
         "114.0",
         "Action,Crime,Drama",
         "6.5",
         "105116",
         "nm0291082",
         "Scott Frank",
         "writer,producer,director"
        ],
        [
         "49",
         "tt0369610",
         "Jurassic World",
         "Jurassic World",
         "2015",
         "124.0",
         "Action,Adventure,Sci-Fi",
         "7.0",
         "539338",
         "nm1119880",
         "Colin Trevorrow",
         "writer,producer,director"
        ],
        [
         "50",
         "tt0372538",
         "Spy",
         "Spy",
         "2011",
         "110.0",
         "Action,Crime,Drama",
         "6.6",
         "78",
         "nm0460285",
         "Alexander Klymko",
         "producer,camera_department,sound_department"
        ]
       ],
       "shape": {
        "columns": 11,
        "rows": 71522
       }
      },
      "text/html": [
       "<div>\n",
       "<style scoped>\n",
       "    .dataframe tbody tr th:only-of-type {\n",
       "        vertical-align: middle;\n",
       "    }\n",
       "\n",
       "    .dataframe tbody tr th {\n",
       "        vertical-align: top;\n",
       "    }\n",
       "\n",
       "    .dataframe thead th {\n",
       "        text-align: right;\n",
       "    }\n",
       "</style>\n",
       "<table border=\"1\" class=\"dataframe\">\n",
       "  <thead>\n",
       "    <tr style=\"text-align: right;\">\n",
       "      <th></th>\n",
       "      <th>movie_id</th>\n",
       "      <th>primary_title</th>\n",
       "      <th>movie_title</th>\n",
       "      <th>start_year</th>\n",
       "      <th>movie_runtime_mins</th>\n",
       "      <th>genres</th>\n",
       "      <th>averagerating</th>\n",
       "      <th>numvotes</th>\n",
       "      <th>person_id</th>\n",
       "      <th>primary_name</th>\n",
       "      <th>primary_profession</th>\n",
       "    </tr>\n",
       "  </thead>\n",
       "  <tbody>\n",
       "    <tr>\n",
       "      <th>0</th>\n",
       "      <td>tt0066787</td>\n",
       "      <td>One Day Before the Rainy Season</td>\n",
       "      <td>Ashad Ka Ek Din</td>\n",
       "      <td>2019</td>\n",
       "      <td>114.0</td>\n",
       "      <td>Biography,Drama</td>\n",
       "      <td>7.2</td>\n",
       "      <td>43</td>\n",
       "      <td>nm0002411</td>\n",
       "      <td>Mani Kaul</td>\n",
       "      <td>director,writer,actor</td>\n",
       "    </tr>\n",
       "    <tr>\n",
       "      <th>1</th>\n",
       "      <td>tt0069049</td>\n",
       "      <td>The Other Side of the Wind</td>\n",
       "      <td>The Other Side of the Wind</td>\n",
       "      <td>2018</td>\n",
       "      <td>122.0</td>\n",
       "      <td>Drama</td>\n",
       "      <td>6.9</td>\n",
       "      <td>4517</td>\n",
       "      <td>nm0000080</td>\n",
       "      <td>Orson Welles</td>\n",
       "      <td>actor,director,writer</td>\n",
       "    </tr>\n",
       "    <tr>\n",
       "      <th>2</th>\n",
       "      <td>tt0069204</td>\n",
       "      <td>Sabse Bada Sukh</td>\n",
       "      <td>Sabse Bada Sukh</td>\n",
       "      <td>2018</td>\n",
       "      <td>87.0</td>\n",
       "      <td>Comedy,Drama</td>\n",
       "      <td>6.1</td>\n",
       "      <td>13</td>\n",
       "      <td>nm0611531</td>\n",
       "      <td>Hrishikesh Mukherjee</td>\n",
       "      <td>director,editor,writer</td>\n",
       "    </tr>\n",
       "    <tr>\n",
       "      <th>3</th>\n",
       "      <td>tt0100275</td>\n",
       "      <td>The Wandering Soap Opera</td>\n",
       "      <td>La Telenovela Errante</td>\n",
       "      <td>2017</td>\n",
       "      <td>80.0</td>\n",
       "      <td>Comedy,Drama,Fantasy</td>\n",
       "      <td>6.5</td>\n",
       "      <td>119</td>\n",
       "      <td>nm0749914</td>\n",
       "      <td>Raoul Ruiz</td>\n",
       "      <td>director,writer,producer</td>\n",
       "    </tr>\n",
       "    <tr>\n",
       "      <th>4</th>\n",
       "      <td>tt0112502</td>\n",
       "      <td>Bigfoot</td>\n",
       "      <td>Bigfoot</td>\n",
       "      <td>2017</td>\n",
       "      <td>87.0</td>\n",
       "      <td>Horror,Thriller</td>\n",
       "      <td>4.1</td>\n",
       "      <td>32</td>\n",
       "      <td>nm6883878</td>\n",
       "      <td>Mc Jones</td>\n",
       "      <td>actor,director</td>\n",
       "    </tr>\n",
       "    <tr>\n",
       "      <th>...</th>\n",
       "      <td>...</td>\n",
       "      <td>...</td>\n",
       "      <td>...</td>\n",
       "      <td>...</td>\n",
       "      <td>...</td>\n",
       "      <td>...</td>\n",
       "      <td>...</td>\n",
       "      <td>...</td>\n",
       "      <td>...</td>\n",
       "      <td>...</td>\n",
       "      <td>...</td>\n",
       "    </tr>\n",
       "    <tr>\n",
       "      <th>72222</th>\n",
       "      <td>tt9913084</td>\n",
       "      <td>Diabolik sono io</td>\n",
       "      <td>Diabolik sono io</td>\n",
       "      <td>2019</td>\n",
       "      <td>75.0</td>\n",
       "      <td>Documentary</td>\n",
       "      <td>6.2</td>\n",
       "      <td>6</td>\n",
       "      <td>nm0812850</td>\n",
       "      <td>Giancarlo Soldi</td>\n",
       "      <td>director,writer,producer</td>\n",
       "    </tr>\n",
       "    <tr>\n",
       "      <th>72223</th>\n",
       "      <td>tt9914286</td>\n",
       "      <td>Sokagin Çocuklari</td>\n",
       "      <td>Sokagin Çocuklari</td>\n",
       "      <td>2019</td>\n",
       "      <td>98.0</td>\n",
       "      <td>Drama,Family</td>\n",
       "      <td>8.7</td>\n",
       "      <td>136</td>\n",
       "      <td>nm4394529</td>\n",
       "      <td>Ahmet Faik Akinci</td>\n",
       "      <td>director,writer</td>\n",
       "    </tr>\n",
       "    <tr>\n",
       "      <th>72224</th>\n",
       "      <td>tt9914642</td>\n",
       "      <td>Albatross</td>\n",
       "      <td>Albatross</td>\n",
       "      <td>2017</td>\n",
       "      <td>87.0</td>\n",
       "      <td>Documentary</td>\n",
       "      <td>8.5</td>\n",
       "      <td>8</td>\n",
       "      <td>nm5300859</td>\n",
       "      <td>Chris Jordan</td>\n",
       "      <td>director,writer,editor</td>\n",
       "    </tr>\n",
       "    <tr>\n",
       "      <th>72225</th>\n",
       "      <td>tt9914942</td>\n",
       "      <td>La vida sense la Sara Amat</td>\n",
       "      <td>La vida sense la Sara Amat</td>\n",
       "      <td>2019</td>\n",
       "      <td>87.0</td>\n",
       "      <td>Unknown</td>\n",
       "      <td>6.6</td>\n",
       "      <td>5</td>\n",
       "      <td>nm1716653</td>\n",
       "      <td>Laura Jou</td>\n",
       "      <td>miscellaneous,actress,director</td>\n",
       "    </tr>\n",
       "    <tr>\n",
       "      <th>72226</th>\n",
       "      <td>tt9916160</td>\n",
       "      <td>Drømmeland</td>\n",
       "      <td>Drømmeland</td>\n",
       "      <td>2019</td>\n",
       "      <td>72.0</td>\n",
       "      <td>Documentary</td>\n",
       "      <td>6.5</td>\n",
       "      <td>11</td>\n",
       "      <td>nm5684093</td>\n",
       "      <td>Joost van der Wiel</td>\n",
       "      <td>director,cinematographer,writer</td>\n",
       "    </tr>\n",
       "  </tbody>\n",
       "</table>\n",
       "<p>71522 rows × 11 columns</p>\n",
       "</div>"
      ],
      "text/plain": [
       "        movie_id                    primary_title                 movie_title  \\\n",
       "0      tt0066787  One Day Before the Rainy Season             Ashad Ka Ek Din   \n",
       "1      tt0069049       The Other Side of the Wind  The Other Side of the Wind   \n",
       "2      tt0069204                  Sabse Bada Sukh             Sabse Bada Sukh   \n",
       "3      tt0100275         The Wandering Soap Opera       La Telenovela Errante   \n",
       "4      tt0112502                          Bigfoot                     Bigfoot   \n",
       "...          ...                              ...                         ...   \n",
       "72222  tt9913084                 Diabolik sono io            Diabolik sono io   \n",
       "72223  tt9914286                Sokagin Çocuklari           Sokagin Çocuklari   \n",
       "72224  tt9914642                        Albatross                   Albatross   \n",
       "72225  tt9914942       La vida sense la Sara Amat  La vida sense la Sara Amat   \n",
       "72226  tt9916160                       Drømmeland                  Drømmeland   \n",
       "\n",
       "       start_year  movie_runtime_mins                genres  averagerating  \\\n",
       "0            2019               114.0       Biography,Drama            7.2   \n",
       "1            2018               122.0                 Drama            6.9   \n",
       "2            2018                87.0          Comedy,Drama            6.1   \n",
       "3            2017                80.0  Comedy,Drama,Fantasy            6.5   \n",
       "4            2017                87.0       Horror,Thriller            4.1   \n",
       "...           ...                 ...                   ...            ...   \n",
       "72222        2019                75.0           Documentary            6.2   \n",
       "72223        2019                98.0          Drama,Family            8.7   \n",
       "72224        2017                87.0           Documentary            8.5   \n",
       "72225        2019                87.0               Unknown            6.6   \n",
       "72226        2019                72.0           Documentary            6.5   \n",
       "\n",
       "       numvotes  person_id          primary_name  \\\n",
       "0            43  nm0002411             Mani Kaul   \n",
       "1          4517  nm0000080          Orson Welles   \n",
       "2            13  nm0611531  Hrishikesh Mukherjee   \n",
       "3           119  nm0749914            Raoul Ruiz   \n",
       "4            32  nm6883878              Mc Jones   \n",
       "...         ...        ...                   ...   \n",
       "72222         6  nm0812850       Giancarlo Soldi   \n",
       "72223       136  nm4394529     Ahmet Faik Akinci   \n",
       "72224         8  nm5300859          Chris Jordan   \n",
       "72225         5  nm1716653             Laura Jou   \n",
       "72226        11  nm5684093    Joost van der Wiel   \n",
       "\n",
       "                    primary_profession  \n",
       "0                director,writer,actor  \n",
       "1                actor,director,writer  \n",
       "2               director,editor,writer  \n",
       "3             director,writer,producer  \n",
       "4                       actor,director  \n",
       "...                                ...  \n",
       "72222         director,writer,producer  \n",
       "72223                  director,writer  \n",
       "72224           director,writer,editor  \n",
       "72225   miscellaneous,actress,director  \n",
       "72226  director,cinematographer,writer  \n",
       "\n",
       "[71522 rows x 11 columns]"
      ]
     },
     "execution_count": 51,
     "metadata": {},
     "output_type": "execute_result"
    }
   ],
   "source": [
    "imdb_full"
   ]
  },
  {
   "cell_type": "markdown",
   "id": "b60fe741",
   "metadata": {},
   "source": [
    "### 🎯 Objective of the Analysis\n",
    "\n",
    "The main objective of this analysis is to provide **concrete, data-driven recommendations** that will enable our stakeholders to enter the movie production market **profitably and strategically**.\n",
    "\n",
    "To achieve this, we must **systematically merge and analyze multiple datasets** — including financials, audience ratings, genres, runtimes, release dates, and more — to uncover valuable insights about:\n",
    "\n",
    "- What types of movies perform best\n",
    "- How budget and timing affect profitability\n",
    "- Which factors can help mitigate financial risk\n",
    "\n",
    "---\n",
    "\n",
    "### 🔄 Challenges and Trade-offs\n",
    "\n",
    "One major challenge in this process is that merging **multiple, disparate datasets** (from Box Office Mojo, IMDb, Rotten Tomatoes, TMDb, and The Numbers) can lead to **data loss**, especially when:\n",
    "\n",
    "- Unique movie IDs do not align perfectly across sources\n",
    "- Some datasets contain incomplete or missing values\n",
    "- Not all films exist in every dataset\n",
    "\n",
    "However, this trade-off is **strategic and necessary**. While we may sacrifice some granularity or sample size, we gain a **richer, more holistic financial perspective** by combining data from different platforms.\n",
    "\n",
    "---\n",
    "\n",
    "### 💡 The Big Picture\n",
    "\n",
    "Even if we don’t capture *every* film in the industry, a well-curated merged dataset will allow us to:\n",
    "\n",
    "- Identify **profitable trends**\n",
    "- Recommend **high-ROI genres and budgets**\n",
    "- Pinpoint **ideal release windows**\n",
    "- Assess **risk and reward across film types**\n",
    "\n",
    "By prioritizing **actionable insights over raw completeness**, this analysis aims to give our stakeholders a strong head start — if not the full picture, then at least the **right picture** — to confidently enter and compete in the movie market.\n",
    "\n",
    "\n",
    "-------------------------------"
   ]
  },
  {
   "cell_type": "markdown",
   "id": "409976eb",
   "metadata": {},
   "source": [
    "## 📊 Univariate Analysis\n",
    "\n",
    "Univariate analysis focuses on understanding the **distribution and behavior of individual variables** in our dataset. This step helps us identify key trends, outliers, and data quality issues before performing more complex multivariate analysis.\n",
    "\n",
    "We will analyze variables such as:\n",
    "\n",
    "- **Movie runtime** — to detect typical lengths and extreme values.\n",
    "- **Release year** — to observe trends over time.\n",
    "- **Genres** — to identify popular categories.\n",
    "- **Revenue and budgets** — to examine profitability potential.\n",
    "- **Ratings and votes** — to assess audience reception.\n",
    "\n",
    "This foundational step is essential for spotting patterns and guiding the direction of deeper insights later in the analysis."
   ]
  },
  {
   "cell_type": "markdown",
   "id": "557771ab",
   "metadata": {},
   "source": [
    "### 1.) `start_year`: understanding the trajectory of film production volume over time"
   ]
  },
  {
   "cell_type": "code",
   "execution_count": 52,
   "id": "32df0a64",
   "metadata": {},
   "outputs": [
    {
     "data": {
      "image/png": "[encoded data removed]",
      "text/plain": [
       "<Figure size 1200x600 with 1 Axes>"
      ]
     },
     "metadata": {},
     "output_type": "display_data"
    }
   ],
   "source": [
    "plt.figure(figsize=(12,6))\n",
    "sns.histplot(data=imdb_full, x='start_year', bins=10, color='teal')\n",
    "plt.title('Distribution of Movie Release Years')\n",
    "plt.xlabel('Release Year')\n",
    "plt.ylabel('Number of Movies')\n",
    "plt.grid(True)\n",
    "plt.show()"
   ]
  },
  {
   "cell_type": "markdown",
   "id": "d435c3eb",
   "metadata": {},
   "source": [
    "##  Observation: Movie Production Trends Over Time\n",
    "\n",
    "The data reveals a **general upward trend in movie production**, peaking around **2017**. This rise can likely be attributed to several factors:\n",
    "\n",
    "- Increasing demand for entertainment globally\n",
    "- The boom of **online streaming platforms** such as Netflix and Amazon Prime\n",
    "- Lower barriers to entry for independent filmmakers\n",
    "\n",
    "However, from **2018 onwards**, there is a **noticeable decline** in movie production. This sharp drop is primarily due to the **COVID-19 pandemic**, which disrupted global film production, distribution, and theatrical releases.\n",
    "\n",
    "While the dataset lacks substantial entries beyond **2019**, making it difficult to draw data-driven conclusions about recent years, it's reasonable to **intuitively expect a rebound** in production due to:\n",
    "\n",
    "- The global **resumption of production activities**\n",
    "- Continued **adoption and growth of streaming platforms**\n",
    "- Evolving consumer preferences favoring digital content consumption\n",
    "\n",
    "Further analysis using more recent datasets could help confirm this expected post-pandemic recovery trend.\n",
    "\n"
   ]
  },
  {
   "cell_type": "markdown",
   "id": "53424474",
   "metadata": {},
   "source": [
    "## 2) Understanding the distribution of movie runtimes"
   ]
  },
  {
   "cell_type": "code",
   "execution_count": 53,
   "id": "90e24963",
   "metadata": {},
   "outputs": [
    {
     "data": {
      "image/png": "[encoded data removed]",
      "text/plain": [
       "<Figure size 1200x600 with 1 Axes>"
      ]
     },
     "metadata": {},
     "output_type": "display_data"
    }
   ],
   "source": [
    "plt.figure(figsize=(12,6))\n",
    "sns.histplot(data=imdb_full, x='movie_runtime_mins', bins=50, kde=True, color='teal')\n",
    "plt.title('Distribution of Movie Runtimes')\n",
    "plt.xlabel('Runtime (minutes)')\n",
    "plt.ylabel('Number of Movies')\n",
    "plt.grid(True)\n",
    "plt.show()"
   ]
  },
  {
   "cell_type": "markdown",
   "id": "2ab5c59a",
   "metadata": {},
   "source": [
    "## **Observations**\n",
    "\n",
    "- The majority of movies fall within the **80 to 120 minute** range.  \n",
    "- This aligns with standard **commercial feature-length films**.  \n",
    "- A smaller number of movies fall outside this range:\n",
    "  - Films **under 40 minutes** are typically considered **short films**.  \n",
    "  - Exceptionally **long runtimes** often indicate **experimental projects** or **documentaries**.\n"
   ]
  },
  {
   "cell_type": "markdown",
   "id": "d118703a",
   "metadata": {},
   "source": [
    "## 3.) What are the Most Common movie genres?"
   ]
  },
  {
   "cell_type": "code",
   "execution_count": 54,
   "id": "f5d98b4c",
   "metadata": {},
   "outputs": [
    {
     "data": {
      "image/png": "[encoded data removed]",
      "text/plain": [
       "<Figure size 1200x600 with 1 Axes>"
      ]
     },
     "metadata": {},
     "output_type": "display_data"
    }
   ],
   "source": [
    "df_genres = imdb_full.dropna(subset=['genres']).copy()\n",
    "\n",
    "df_genres['genres'] = df_genres['genres'].str.split(',')\n",
    "df_genres = df_genres.explode('genres')\n",
    "\n",
    "\n",
    "genre_counts = df_genres['genres'].value_counts().reset_index()\n",
    "genre_counts.columns = ['Genre', 'Count']\n",
    "\n",
    "plt.figure(figsize=(12,6))\n",
    "sns.barplot(data=genre_counts, x='Count', y='Genre', color='teal')\n",
    "plt.title('Movie Genres')\n",
    "plt.xlabel('Number of Movies')\n",
    "plt.ylabel('Genre')\n",
    "plt.grid(True, axis='x', linestyle='--', alpha=0.7)\n",
    "plt.show()"
   ]
  },
  {
   "cell_type": "markdown",
   "id": "d6226e86",
   "metadata": {},
   "source": [
    "###  Observations:\n",
    "\n",
    "- **Drama** dominates the genre landscape — a reflection of our intrinsic human connection to storytelling, emotion, and interpersonal conflict.\n",
    "- **Documentaries** come in second, indicating a broad curiosity for real-life events and insights — from scientific topics to deep societal issues.\n",
    "- Surprisingly, **Comedy** surpasses **Action** in frequency. While action films have global appeal, it seems that over time, audiences tend to gravitate back to grounded genres like **drama**, **comedy**, and **thrillers**.\n",
    "- **Action** films, often popular with younger audiences and international markets, trail behind, possibly due to genre blending or changes in market saturation.\n",
    "- **Niche genres** like **War**, **Sport**, and **Western** appear far less frequently — likely due to their targeted audience and specific thematic focus.\n",
    "\n",
    "This genre distribution offers valuable guidance for stakeholders looking to align film production with audience interest and market demand.\n"
   ]
  },
  {
   "cell_type": "markdown",
   "id": "c1a5da9b",
   "metadata": {},
   "source": [
    "## 3.) What is the moving rating distribution? hence Knowing the expected base performace "
   ]
  },
  {
   "cell_type": "code",
   "execution_count": 55,
   "id": "0c18d0de",
   "metadata": {},
   "outputs": [
    {
     "data": {
      "image/png": "[encoded data removed]",
      "text/plain": [
       "<Figure size 1000x500 with 1 Axes>"
      ]
     },
     "metadata": {},
     "output_type": "display_data"
    }
   ],
   "source": [
    "plt.figure(figsize=(10,5))\n",
    "sns.histplot(data=imdb_full, x='averagerating', bins=20, kde=True, color='teal')\n",
    "plt.title('Distribution of Average IMDb Ratings')\n",
    "plt.xlabel('Average Rating')\n",
    "plt.ylabel('Number of Movies')\n",
    "plt.grid(True, axis='y', linestyle='--', alpha=0.7)\n",
    "plt.show()\n"
   ]
  },
  {
   "cell_type": "code",
   "execution_count": 56,
   "id": "179ff104",
   "metadata": {},
   "outputs": [
    {
     "data": {
      "image/png": "[encoded data removed]",
      "text/plain": [
       "<Figure size 1000x500 with 1 Axes>"
      ]
     },
     "metadata": {},
     "output_type": "display_data"
    }
   ],
   "source": [
    "plt.figure(figsize=(10,5))\n",
    "sns.histplot(data=tmdb, x='vote_average', bins=20, kde=True, color='teal')\n",
    "plt.title('Distribution of Average TMDB Ratings')\n",
    "plt.xlabel('Average Rating')\n",
    "plt.ylabel('Number of Movies')\n",
    "plt.grid(True, axis='y', linestyle='--', alpha=0.7)\n",
    "plt.show()"
   ]
  },
  {
   "cell_type": "markdown",
   "id": "1ce21b08",
   "metadata": {},
   "source": [
    "###  Observations: Using IMDB and TMDB\n",
    "\n",
    "- Most movies cluster within the **6 to 8 rating range**, indicating that the majority of films are received as **average to good** by audiences.\n",
    "- Ratings **above 8** are relatively rare and signal **exceptional performance**, both in terms of quality and audience reception.\n",
    "- While ratings alone can't dictate success, it’s a fair assumption — and widely accepted industry knowledge — that a movie **should aim for a minimum rating within the 6–8 range** to be considered well-received.\n",
    "- On the **extremes of the distribution**, we find:\n",
    "  - A **small number of poorly rated films** (ratings < 4), which are often critically or commercially unsuccessful.\n",
    "  - A **rare class of highly rated films** (ratings > 8), typically considered classics or cult favorites.\n",
    "- The **tails being thin** suggests that **extremely good or bad movies are uncommon** — most productions fall somewhere in the middle.\n",
    "\n",
    "While rating is only one piece of the puzzle, it will serve as a key **qualitative metric**. In further analysis, we will combine this with **financial performance data** to better understand what makes a movie both **critically acclaimed and profitable**, thus guiding our recommendations.\n"
   ]
  },
  {
   "cell_type": "markdown",
   "id": "21be15cf",
   "metadata": {},
   "source": [
    "## 4.) What is the most common language? "
   ]
  },
  {
   "cell_type": "code",
   "execution_count": 57,
   "id": "190d5ee5",
   "metadata": {},
   "outputs": [
    {
     "data": {
      "image/png": "[encoded data removed]",
      "text/plain": [
       "<Figure size 1200x600 with 1 Axes>"
      ]
     },
     "metadata": {},
     "output_type": "display_data"
    }
   ],
   "source": [
    "language_counts = tmdb['original_language'].value_counts().reset_index()\n",
    "language_counts.columns = ['Language', 'Count']\n",
    "\n",
    "plt.figure(figsize=(12,6))\n",
    "sns.barplot(data=language_counts.head(10), x='Count', y='Language', color='teal')\n",
    "plt.title('Languages')\n",
    "plt.xlabel('Number of Movies')\n",
    "plt.ylabel('Language')\n",
    "plt.grid(True, axis='x', linestyle='--', alpha=0.7)\n",
    "plt.show()"
   ]
  },
  {
   "cell_type": "markdown",
   "id": "21fbb9a6",
   "metadata": {},
   "source": [
    "### Observations:\n",
    "\n",
    "- **English overwhelmingly dominates** as the original language of movies in the dataset.\n",
    "- This is likely due to several key factors:\n",
    "  - **Global acceptance**: English is widely spoken and understood around the world.\n",
    "  - **Industry standard**: Many of the world’s largest studios operate in English-speaking countries, making it the default for international releases.\n",
    "  - **Production efficiency**: It's often **cheaper and more practical** to produce films in English rather than training actors to speak another language.\n",
    "  - **Creative logistics**: From **scriptwriting** to **direction and acting**, operating in English minimizes complexity and reduces overhead.\n",
    "- For non-English-speaking audiences, solutions like **subtitles** and increasingly advanced **dubbing technology** make English-language films more accessible — broadening their market without needing multilingual production.\n",
    "\n",
    "In essence, English films offer a **universal baseline** for distribution and production efficiency, making them a safer and more cost-effective choice for studios aiming for global reach.\n"
   ]
  },
  {
   "cell_type": "markdown",
   "id": "67818d70",
   "metadata": {},
   "source": [
    "## 5.) Whats the budget distribution, hence indicating a strategic investment figures"
   ]
  },
  {
   "cell_type": "code",
   "execution_count": 58,
   "id": "e23f1fba",
   "metadata": {},
   "outputs": [
    {
     "data": {
      "image/png": "[encoded data removed]",
      "text/plain": [
       "<Figure size 1000x600 with 1 Axes>"
      ]
     },
     "metadata": {},
     "output_type": "display_data"
    }
   ],
   "source": [
    "plt.figure(figsize=(10,6))\n",
    "sns.histplot(budget_df['production_budget'], bins='auto', kde=True, color='teal')\n",
    "plt.axvline(budget_df['production_budget'].median(), color='red', linestyle='--', linewidth=2, label='Median Budget')\n",
    "plt.title('Distribution of Production Budgets')\n",
    "plt.xlabel('Production Budget (USD)')\n",
    "plt.ylabel('Number of Movies')\n",
    "plt.xscale('log')\n",
    "plt.grid(True, axis='y', linestyle='--', alpha=0.7)\n",
    "plt.legend()\n",
    "plt.show()\n"
   ]
  },
  {
   "cell_type": "markdown",
   "id": "cb513754",
   "metadata": {},
   "source": [
    "### Observations\n",
    "\n",
    "- The majority of films have a **production budget between $1,000 (10³) and $10 million (10⁷)**.\n",
    "- The **median budget** lies **slightly above $10 million**, but **well below $100 million (10⁸)**, suggesting that most commercial films don’t require massive investments to be viable.\n",
    "- There are, of course, **extreme outliers** — big-budget films typically produced by **established studios** with global anticipation (e.g., franchise sequels, blockbuster releases).\n",
    "- For **first-time or new investors/studios**, it is **strategic to stay within the 10³ to 10⁷ USD range**, as this reflects the base-level budget where most films are being made.\n"
   ]
  },
  {
   "cell_type": "markdown",
   "id": "15bb36cb",
   "metadata": {},
   "source": [
    "## 6.) What is the Distribution of domestic and Forign gross? "
   ]
  },
  {
   "cell_type": "code",
   "execution_count": 59,
   "id": "5bc38dfe",
   "metadata": {},
   "outputs": [
    {
     "data": {
      "image/png": "[encoded data removed]",
      "text/plain": [
       "<Figure size 1200x600 with 1 Axes>"
      ]
     },
     "metadata": {},
     "output_type": "display_data"
    }
   ],
   "source": [
    "plt.figure(figsize=(12,6))\n",
    "\n",
    "# Domestic Gross\n",
    "sns.histplot(budget_df['domestic_gross'], bins=50, kde=False, color='blue', label='Domestic Gross', alpha=0.6)\n",
    "\n",
    "# Worldwide Gross\n",
    "sns.histplot(budget_df['worldwide_gross'], bins=50, kde=False, color='seagreen', label='Worldwide Gross', alpha=0.6)\n",
    "\n",
    "# Median Lines\n",
    "plt.axvline(budget_df['domestic_gross'].median(), color='blue', linestyle='--', linewidth=2, label='Median Domestic')\n",
    "plt.axvline(budget_df['worldwide_gross'].median(), color='green', linestyle='--', linewidth=2, label='Median Worldwide')\n",
    "\n",
    "plt.title('Distribution of Gross Revenue: Domestic vs Worldwide')\n",
    "plt.xlabel('Gross Revenue (USD)')\n",
    "plt.ylabel('Number of Movies')\n",
    "plt.xscale('log')\n",
    "plt.grid(True, axis='y', linestyle='--', alpha=0.7)\n",
    "plt.legend()\n",
    "plt.show()\n"
   ]
  },
  {
   "cell_type": "markdown",
   "id": "0a98234a",
   "metadata": {},
   "source": [
    "\n",
    "\n",
    "### Observation: Domestic vs Worldwide Gross Revenue\n",
    "\n",
    "As expected, the **worldwide gross consistently outperforms domestic gross**, and this is clearly supported by the **distribution plot and median values**. The **median worldwide gross** is significantly higher than the **median domestic gross**, indicating that most films earn more when released globally rather than only within their home markets.\n",
    "\n",
    "This makes sense when we consider:\n",
    "\n",
    "*  **Global Reach**: Releasing movies across international markets opens access to a much larger audience.\n",
    "*  **Revenue Diversification**: Different regions have different entertainment appetites, increasing chances of success beyond domestic limits.\n",
    "*  **Marketing and Distribution Power**: Especially for big-budget films, studios invest in global marketing campaigns and localized distribution strategies.\n",
    "*  **Cultural Appeal**: Genres like action, animation, and sci-fi often transcend language and cultural barriers, performing well worldwide.\n",
    "*  **Localization**: With the rise of **dubbing and subtitles**, non-English-speaking regions are more accessible than ever, making global earnings more feasible.\n"
   ]
  }
 ],
 "metadata": {
  "kernelspec": {
   "display_name": "Python (learn-env)",
   "language": "python",
   "name": "learn-env"
  },
  "language_info": {
   "codemirror_mode": {
    "name": "ipython",
    "version": 3
   },
   "file_extension": ".py",
   "mimetype": "text/x-python",
   "name": "python",
   "nbconvert_exporter": "python",
   "pygments_lexer": "ipython3",
   "version": "3.9.19"
  }
 },
 "nbformat": 4,
 "nbformat_minor": 5
}
