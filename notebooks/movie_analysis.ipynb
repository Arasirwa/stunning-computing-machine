{
 "cells": [
  {
   "cell_type": "markdown",
   "id": "f47fa21c",
   "metadata": {},
   "source": [
    "# Data-Driven Strategies for a Successful Movie Studio Launch"
   ]
  },
  {
   "cell_type": "markdown",
   "id": "59b3dadc",
   "metadata": {},
   "source": [
    "# 🎬 Business Understanding\n",
    "\n",
    "## 📘 Business Context\n",
    "Our company is entering the competitive movie production industry by establishing a new movie studio. With major corporations increasingly investing in original video content, we need to strategically position ourselves to maximize our chances of box office success.\n",
    "\n",
    "## 👤 Primary Stakeholder\n",
    "**Head of New Movie Studio** — The key decision-maker who will use our analysis to guide the studio's content creation strategy and investment decisions.\n",
    "\n",
    "## ❓ Key Business Questions\n",
    "\n",
    "### 1. **What genres are most profitable?**\n",
    "- Which movie genres consistently generate the highest box office returns?\n",
    "- Are there emerging genres showing strong growth potential?\n",
    "\n",
    "### 2. **What budget ranges optimize ROI?**\n",
    "- What is the relationship between production budget and box office performance?\n",
    "- What budget sweet spot maximizes return on investment?\n",
    "\n",
    "### 3. **When should we release our films?**\n",
    "- Which months/seasons show the strongest box office performance?\n",
    "- How can we avoid oversaturated release periods?\n",
    "\n",
    "## 🎯 Business Objectives\n",
    "- **Primary Goal:** Identify the most profitable film characteristics to guide our initial movie productions.\n",
    "- **Success Metrics:** Maximize box office revenue and return on investment (ROI).\n",
    "- **Risk Mitigation:** Minimize financial losses by avoiding poorly-performing film categories.\n",
    "\n",
    "## 📊 Data Requirements & Analysis Considerations\n",
    "\n",
    "### 📂 Dataset Specifications Needed:\n",
    "1. **What movie data do we have access to?** (e.g., box office numbers, budgets, genres, release dates, ratings)\n",
    "2. **What time period does our data cover?** (Recent years or historical data?)\n",
    "3. **Is it domestic, international, or worldwide box office gross?**\n",
    "\n",
    "### 📎 Business Context Clarifications:\n",
    "4. **What size studio are we targeting?** (Independent/small budget vs. major studio competitor?)\n",
    "5. **Are there any genre restrictions?** (Family-friendly only, or open to all ratings?)\n",
    "6. **Geographic focus?** (Domestic US market, international, or global?)\n",
    "\n",
    "### 📌 Analysis Scope Considerations:\n",
    "7. **Should we consider streaming/digital revenue or just theatrical box office?**\n",
    "8. **Do we want to analyze competitor studios' strategies?**\n",
    "9. **Should seasonal trends consider the impact of COVID-19 in recent years?**\n",
    "\n",
    "## 📈 Success Metrics Framework\n",
    "\n",
    "### Primary Metrics:\n",
    "- **Gross Revenue:** Total box office performance\n",
    "- **Return on Investment (ROI):** \\((\\text{Revenue} - \\text{Budget}) / \\text{Budget} \\times 100\\)\n",
    "- **Profit Margins:** Net profit as percentage of revenue\n",
    "- **Budget Efficiency:** Revenue per dollar invested\n",
    "\n",
    "### Secondary Metrics:\n",
    "- **Market Share:** Performance relative to industry\n",
    "- **Risk Assessment:** Variance in returns by category\n",
    "- **Audience Reach:** Ticket sales and demographic penetration\n"
   ]
  },
  {
   "cell_type": "markdown",
   "id": "ae130c91",
   "metadata": {},
   "source": [
    "# 🧠 Data Understanding\n",
    "\n",
    "To analyze what makes a movie successful, we are working with multiple datasets from trusted sources like **Box Office Mojo**, **IMDb**, **Rotten Tomatoes**, **The Movie Database (TMDb)**, and **The Numbers**. Below is an overview of each dataset and the structure of the data they contain.\n",
    "\n",
    "---\n",
    "\n",
    "## 🎬 `bom.movie_gross.csv.gz` (Box Office Mojo)\n",
    "\n",
    "This dataset contains revenue data for various films.\n",
    "\n",
    "**Columns:**\n",
    "- `title`: Movie title\n",
    "- `studio`: Producing studio\n",
    "- `domestic_gross`: Domestic gross earnings (USD)\n",
    "- `foreign_gross`: International gross earnings\n",
    "- `year`: Year of release\n",
    "\n",
    "---\n",
    "\n",
    "## 🎥 IMDb Database (`im.db`)\n",
    "\n",
    "This is a zipped SQLite database containing multiple related tables from IMDb. Below are the most relevant tables and their fields:\n",
    "\n",
    "### 🔹 `directors`\n",
    "- `movie_id`: Unique movie ID\n",
    "- `person_id`: Director’s ID\n",
    "\n",
    "### 🔹 `known_for`\n",
    "- `person_id`: Unique person ID\n",
    "- `movie_id`: Associated movie ID\n",
    "\n",
    "### 🔹 `movie_akas`\n",
    "- `movie_id`: Unique movie ID\n",
    "- `ordering`: Title order\n",
    "- `title`: Alternate movie title\n",
    "- `region`: Country code\n",
    "- `language`: Language code\n",
    "- `types`: Type of title (e.g. working title, festival name)\n",
    "- `attributes`: Special title attributes\n",
    "- `is_original_title`: Whether it is the original title (1 = yes)\n",
    "\n",
    "### 🔹 `movie_basics`\n",
    "- `movie_id`: Unique identifier\n",
    "- `primary_title`: Official movie title\n",
    "- `original_title`: Title in original language\n",
    "- `start_year`: Release year\n",
    "- `runtime_minutes`: Duration of movie\n",
    "- `genres`: Genres (comma-separated if multiple)\n",
    "\n",
    "### 🔹 `movie_ratings`\n",
    "- `movie_id`: Unique movie ID\n",
    "- `averagerating`: IMDb average rating\n",
    "- `numvotes`: Total number of votes\n",
    "\n",
    "### 🔹 `persons`\n",
    "- `person_id`: Unique person ID\n",
    "- `primary_name`: Person's name\n",
    "- `birth_year`: Year of birth\n",
    "- `death_year`: Year of death (if applicable)\n",
    "- `primary_profession`: Role in industry (e.g., actor, director)\n",
    "\n",
    "### 🔹 `principals`\n",
    "- `movie_id`: Unique movie ID\n",
    "- `ordering`: Credit order\n",
    "- `person_id`: Unique person ID\n",
    "- `category`: Crew or cast category\n",
    "- `job`: Specific job title\n",
    "- `characters`: Character(s) played\n",
    "\n",
    "### 🔹 `writers`\n",
    "- `movie_id`: Unique movie ID\n",
    "- `person_id`: Writer’s ID\n",
    "\n",
    "---\n",
    "\n",
    "## 🍅 `rt.movie_info.tsv.gz` (Rotten Tomatoes - Movie Info)\n",
    "\n",
    "General information about movies.\n",
    "\n",
    "**Columns:**\n",
    "- `id`: Movie ID (RT)\n",
    "- `synopsis`: Movie summary\n",
    "- `rating`: MPAA Rating\n",
    "- `genre`: Movie genres\n",
    "- `director`: Director name(s)\n",
    "- `writer`: Writer name(s)\n",
    "- `theater_date`: Theatrical release date\n",
    "- `dvd_date`: DVD release date\n",
    "- `currency`: Currency symbol\n",
    "- `box_office`: Total box office revenue\n",
    "- `runtime`: Duration in minutes\n",
    "- `studio`: Producing studio\n",
    "\n",
    "---\n",
    "\n",
    "## 📝 `rt.reviews.tsv.gz` (Rotten Tomatoes - Reviews)\n",
    "\n",
    "Contains individual critic reviews and associated metadata.\n",
    "\n",
    "**Columns:**\n",
    "- `id`: Movie ID (RT)\n",
    "- `review`: Review text\n",
    "- `rating`: Rating given\n",
    "- `fresh`: Review sentiment (fresh = positive, rotten = negative)\n",
    "- `critic`: Name of the critic\n",
    "- `top_critic`: Is the critic a \"Top Critic\"? (1 = yes, 0 = no)\n",
    "- `publisher`: Publication name\n",
    "- `date`: Review date\n",
    "\n",
    "---\n",
    "\n",
    "## 🎞️ `tmdb.movies.csv.gz` (The Movie Database)\n",
    "\n",
    "Contains movie metadata and popularity data from TMDb.\n",
    "\n",
    "**Columns:**\n",
    "- `genre_ids`: List of genre IDs\n",
    "- `id`: Movie ID (TMDb)\n",
    "- `original_language`: Language code\n",
    "- `original_title`: Title in original language\n",
    "- `popularity`: Popularity score\n",
    "- `release_date`: Release date\n",
    "- `title`: English movie title\n",
    "- `vote_average`: Average user rating\n",
    "- `vote_count`: Number of votes\n",
    "\n",
    "---\n",
    "\n",
    "## 💰 `tn.movie_budgets.csv.gz` (The Numbers)\n",
    "\n",
    "Contains production budget and revenue details.\n",
    "\n",
    "**Columns:**\n",
    "- `id`: Movie ID (The Numbers)\n",
    "- `release_date`: Theatrical release date\n",
    "- `movie`: Movie title\n",
    "- `production_budget`: Budget in USD\n",
    "- `domestic_gross`: Domestic earnings in USD\n",
    "- `worldwide_gross`: Total earnings in USD\n",
    "\n",
    "---\n",
    "\n",
    "## 🔍 Next Steps\n",
    "\n",
    "We will explore, clean, and merge relevant data from these datasets to:\n",
    "- Compare budget and revenue\n",
    "- Analyze genre-based performance\n",
    "- Evaluate seasonal release patterns\n",
    "- Identify high-performing studios, ratings, and durations\n"
   ]
  },
  {
   "cell_type": "code",
   "execution_count": 1,
   "id": "d9971714",
   "metadata": {},
   "outputs": [],
   "source": [
    "#importing relevant libs\n",
    "import pandas as pd\n",
    "import numpy as np\n",
    "from matplotlib import pyplot as plt\n",
    "from mpl_toolkits.mplot3d import Axes3D\n",
    "from random import gauss\n",
    "from scipy import stats\n",
    "import seaborn as sns\n",
    "from sklearn.linear_model import LinearRegression\n",
    "from mpl_toolkits import mplot3d\n",
    "import sklearn.metrics as metrics\n",
    "import statsmodels.api as sm\n",
    "import sqlite3"
   ]
  },
  {
   "cell_type": "markdown",
   "id": "856b94b5",
   "metadata": {},
   "source": [
    "## Loading The Provided Data"
   ]
  },
  {
   "cell_type": "code",
   "execution_count": 2,
   "id": "dbbbf560",
   "metadata": {},
   "outputs": [
    {
     "name": "stdout",
     "output_type": "stream",
     "text": [
      "dict_keys(['movie_basics', 'directors', 'known_for', 'movie_akas', 'movie_ratings', 'persons', 'principals', 'writers'])\n"
     ]
    }
   ],
   "source": [
    "#going through SQl\n",
    "def load_tables(connection):\n",
    "    table_names = pd.read_sql(\n",
    "        \"SELECT name FROM sqlite_master WHERE type='table';\", connection\n",
    "    )[\"name\"].tolist()\n",
    "    sql_tables = {\n",
    "        table_name: pd.read_sql(f\"SELECT * FROM {table_name}\", connection)\n",
    "        for table_name in table_names\n",
    "    }\n",
    "    return sql_tables\n",
    "\n",
    "path = '../Data/im.db'\n",
    "conn = sqlite3.connect(path)\n",
    "\n",
    "imdb_tables = load_tables(conn)\n",
    "\n",
    "print(imdb_tables.keys())\n",
    "\n",
    "#-------CSV and TSV Data ------#\n",
    "\n",
    "bom_movie = pd.read_csv(\"../Data/bom.movie_gross.csv\")\n",
    "rt_info = pd.read_csv(\"../Data/rt.movie_info.tsv\", sep='\\t', encoding='latin1')\n",
    "rt_reviews = pd.read_csv(\"../Data/rt.movie_info.tsv\", sep='\\t', encoding='latin1')\n",
    "tmdb_df = pd.read_csv(\"../Data/tmdb.movies.csv\")\n",
    "tn_budget = pd.read_csv(\"../Data/tn.movie_budgets.csv\")"
   ]
  },
  {
   "cell_type": "markdown",
   "id": "f020079b",
   "metadata": {},
   "source": [
    "## Cleaning and Understanding `tn_budget`"
   ]
  },
  {
   "cell_type": "code",
   "execution_count": 3,
   "id": "6935f3b7",
   "metadata": {},
   "outputs": [
    {
     "name": "stdout",
     "output_type": "stream",
     "text": [
      "(5782, 6)\n",
      "<class 'pandas.core.frame.DataFrame'>\n",
      "RangeIndex: 5782 entries, 0 to 5781\n",
      "Data columns (total 6 columns):\n",
      " #   Column             Non-Null Count  Dtype \n",
      "---  ------             --------------  ----- \n",
      " 0   id                 5782 non-null   int64 \n",
      " 1   release_date       5782 non-null   object\n",
      " 2   movie              5782 non-null   object\n",
      " 3   production_budget  5782 non-null   object\n",
      " 4   domestic_gross     5782 non-null   object\n",
      " 5   worldwide_gross    5782 non-null   object\n",
      "dtypes: int64(1), object(5)\n",
      "memory usage: 271.2+ KB\n",
      "None\n",
      "Index(['id', 'release_date', 'movie', 'production_budget', 'domestic_gross',\n",
      "       'worldwide_gross'],\n",
      "      dtype='object')\n"
     ]
    },
    {
     "data": {
      "application/vnd.microsoft.datawrangler.viewer.v0+json": {
       "columns": [
        {
         "name": "index",
         "rawType": "int64",
         "type": "integer"
        },
        {
         "name": "release_date",
         "rawType": "object",
         "type": "string"
        },
        {
         "name": "movie",
         "rawType": "object",
         "type": "string"
        },
        {
         "name": "production_budget",
         "rawType": "object",
         "type": "string"
        },
        {
         "name": "domestic_gross",
         "rawType": "object",
         "type": "string"
        },
        {
         "name": "worldwide_gross",
         "rawType": "object",
         "type": "string"
        }
       ],
       "ref": "458d3262-59d8-43c9-970d-02d170ed5bba",
       "rows": [
        [
         "0",
         "Dec 18, 2009",
         "Avatar",
         "$425,000,000",
         "$760,507,625",
         "$2,776,345,279"
        ],
        [
         "1",
         "May 20, 2011",
         "Pirates of the Caribbean: On Stranger Tides",
         "$410,600,000",
         "$241,063,875",
         "$1,045,663,875"
        ],
        [
         "2",
         "Jun 7, 2019",
         "Dark Phoenix",
         "$350,000,000",
         "$42,762,350",
         "$149,762,350"
        ],
        [
         "3",
         "May 1, 2015",
         "Avengers: Age of Ultron",
         "$330,600,000",
         "$459,005,868",
         "$1,403,013,963"
        ],
        [
         "4",
         "Dec 15, 2017",
         "Star Wars Ep. VIII: The Last Jedi",
         "$317,000,000",
         "$620,181,382",
         "$1,316,721,747"
        ],
        [
         "5",
         "Dec 18, 2015",
         "Star Wars Ep. VII: The Force Awakens",
         "$306,000,000",
         "$936,662,225",
         "$2,053,311,220"
        ],
        [
         "6",
         "Apr 27, 2018",
         "Avengers: Infinity War",
         "$300,000,000",
         "$678,815,482",
         "$2,048,134,200"
        ],
        [
         "7",
         "May 24, 2007",
         "Pirates of the Caribbean: At Worldâs End",
         "$300,000,000",
         "$309,420,425",
         "$963,420,425"
        ],
        [
         "8",
         "Nov 17, 2017",
         "Justice League",
         "$300,000,000",
         "$229,024,295",
         "$655,945,209"
        ],
        [
         "9",
         "Nov 6, 2015",
         "Spectre",
         "$300,000,000",
         "$200,074,175",
         "$879,620,923"
        ],
        [
         "10",
         "Jul 20, 2012",
         "The Dark Knight Rises",
         "$275,000,000",
         "$448,139,099",
         "$1,084,439,099"
        ],
        [
         "11",
         "May 25, 2018",
         "Solo: A Star Wars Story",
         "$275,000,000",
         "$213,767,512",
         "$393,151,347"
        ],
        [
         "12",
         "Jul 2, 2013",
         "The Lone Ranger",
         "$275,000,000",
         "$89,302,115",
         "$260,002,115"
        ],
        [
         "13",
         "Mar 9, 2012",
         "John Carter",
         "$275,000,000",
         "$73,058,679",
         "$282,778,100"
        ],
        [
         "14",
         "Nov 24, 2010",
         "Tangled",
         "$260,000,000",
         "$200,821,936",
         "$586,477,240"
        ],
        [
         "15",
         "May 4, 2007",
         "Spider-Man 3",
         "$258,000,000",
         "$336,530,303",
         "$894,860,230"
        ],
        [
         "16",
         "May 6, 2016",
         "Captain America: Civil War",
         "$250,000,000",
         "$408,084,349",
         "$1,140,069,413"
        ],
        [
         "17",
         "Mar 25, 2016",
         "Batman v Superman: Dawn of Justice",
         "$250,000,000",
         "$330,360,194",
         "$867,500,281"
        ],
        [
         "18",
         "Dec 14, 2012",
         "The Hobbit: An Unexpected Journey",
         "$250,000,000",
         "$303,003,568",
         "$1,017,003,568"
        ],
        [
         "19",
         "Jul 15, 2009",
         "Harry Potter and the Half-Blood Prince",
         "$250,000,000",
         "$302,089,278",
         "$935,213,767"
        ],
        [
         "20",
         "Dec 13, 2013",
         "The Hobbit: The Desolation of Smaug",
         "$250,000,000",
         "$258,366,855",
         "$960,366,855"
        ],
        [
         "21",
         "Dec 17, 2014",
         "The Hobbit: The Battle of the Five Armies",
         "$250,000,000",
         "$255,119,788",
         "$945,577,621"
        ],
        [
         "22",
         "Apr 14, 2017",
         "The Fate of the Furious",
         "$250,000,000",
         "$225,764,765",
         "$1,234,846,267"
        ],
        [
         "23",
         "Jun 28, 2006",
         "Superman Returns",
         "$232,000,000",
         "$200,120,000",
         "$374,085,065"
        ],
        [
         "24",
         "May 26, 2017",
         "Pirates of the Caribbean: Dead Men Tell No Tales",
         "$230,000,000",
         "$172,558,876",
         "$788,241,137"
        ],
        [
         "25",
         "Nov 14, 2008",
         "Quantum of Solace",
         "$230,000,000",
         "$169,368,427",
         "$591,692,078"
        ],
        [
         "26",
         "May 4, 2012",
         "The Avengers",
         "$225,000,000",
         "$623,279,547",
         "$1,517,935,897"
        ],
        [
         "27",
         "Jul 7, 2006",
         "Pirates of the Caribbean: Dead Manâs Chest",
         "$225,000,000",
         "$423,315,812",
         "$1,066,215,812"
        ],
        [
         "28",
         "Jun 14, 2013",
         "Man of Steel",
         "$225,000,000",
         "$291,045,518",
         "$667,999,518"
        ],
        [
         "29",
         "May 16, 2008",
         "The Chronicles of Narnia: Prince Caspian",
         "$225,000,000",
         "$141,621,490",
         "$417,341,288"
        ],
        [
         "30",
         "Jul 3, 2012",
         "The Amazing Spider-Man",
         "$220,000,000",
         "$262,030,663",
         "$757,890,267"
        ],
        [
         "31",
         "May 18, 2012",
         "Battleship",
         "$220,000,000",
         "$65,233,400",
         "$313,477,717"
        ],
        [
         "32",
         "Jun 21, 2017",
         "Transformers: The Last Knight",
         "$217,000,000",
         "$130,168,683",
         "$602,893,340"
        ],
        [
         "33",
         "Jun 12, 2015",
         "Jurassic World",
         "$215,000,000",
         "$652,270,625",
         "$1,648,854,864"
        ],
        [
         "34",
         "May 25, 2012",
         "Men in Black 3",
         "$215,000,000",
         "$179,020,854",
         "$654,213,485"
        ],
        [
         "35",
         "Jun 24, 2009",
         "Transformers: Revenge of the Fallen",
         "$210,000,000",
         "$402,111,870",
         "$836,519,699"
        ],
        [
         "36",
         "Jun 27, 2014",
         "Transformers: Age of Extinction",
         "$210,000,000",
         "$245,439,076",
         "$1,104,039,076"
        ],
        [
         "37",
         "May 26, 2006",
         "X-Men: The Last Stand",
         "$210,000,000",
         "$234,362,462",
         "$459,260,946"
        ],
        [
         "38",
         "May 14, 2010",
         "Robin Hood",
         "$210,000,000",
         "$105,487,148",
         "$322,459,006"
        ],
        [
         "39",
         "Dec 14, 2005",
         "King Kong",
         "$207,000,000",
         "$218,080,025",
         "$550,517,357"
        ],
        [
         "40",
         "Dec 7, 2007",
         "The Golden Compass",
         "$205,000,000",
         "$70,107,728",
         "$367,262,558"
        ],
        [
         "41",
         "Feb 16, 2018",
         "Black Panther",
         "$200,000,000",
         "$700,059,566",
         "$1,348,258,224"
        ],
        [
         "42",
         "Dec 19, 1997",
         "Titanic",
         "$200,000,000",
         "$659,363,944",
         "$2,208,208,395"
        ],
        [
         "43",
         "Jun 15, 2018",
         "Incredibles 2",
         "$200,000,000",
         "$608,581,744",
         "$1,242,520,711"
        ],
        [
         "44",
         "Dec 16, 2016",
         "Rogue One: A Star Wars Story",
         "$200,000,000",
         "$532,177,324",
         "$1,049,102,856"
        ],
        [
         "45",
         "Jun 17, 2016",
         "Finding Dory",
         "$200,000,000",
         "$486,295,561",
         "$1,021,215,193"
        ],
        [
         "46",
         "Jun 18, 2010",
         "Toy Story 3",
         "$200,000,000",
         "$415,004,880",
         "$1,068,879,522"
        ],
        [
         "47",
         "May 3, 2013",
         "Iron Man 3",
         "$200,000,000",
         "$408,992,272",
         "$1,215,392,272"
        ],
        [
         "48",
         "May 5, 2017",
         "Guardians of the Galaxy Vol 2",
         "$200,000,000",
         "$389,813,101",
         "$862,316,233"
        ],
        [
         "49",
         "Jun 30, 2004",
         "Spider-Man 2",
         "$200,000,000",
         "$373,524,485",
         "$795,110,670"
        ]
       ],
       "shape": {
        "columns": 5,
        "rows": 5782
       }
      },
      "text/html": [
       "<div>\n",
       "<style scoped>\n",
       "    .dataframe tbody tr th:only-of-type {\n",
       "        vertical-align: middle;\n",
       "    }\n",
       "\n",
       "    .dataframe tbody tr th {\n",
       "        vertical-align: top;\n",
       "    }\n",
       "\n",
       "    .dataframe thead th {\n",
       "        text-align: right;\n",
       "    }\n",
       "</style>\n",
       "<table border=\"1\" class=\"dataframe\">\n",
       "  <thead>\n",
       "    <tr style=\"text-align: right;\">\n",
       "      <th></th>\n",
       "      <th>release_date</th>\n",
       "      <th>movie</th>\n",
       "      <th>production_budget</th>\n",
       "      <th>domestic_gross</th>\n",
       "      <th>worldwide_gross</th>\n",
       "    </tr>\n",
       "  </thead>\n",
       "  <tbody>\n",
       "    <tr>\n",
       "      <th>0</th>\n",
       "      <td>Dec 18, 2009</td>\n",
       "      <td>Avatar</td>\n",
       "      <td>$425,000,000</td>\n",
       "      <td>$760,507,625</td>\n",
       "      <td>$2,776,345,279</td>\n",
       "    </tr>\n",
       "    <tr>\n",
       "      <th>1</th>\n",
       "      <td>May 20, 2011</td>\n",
       "      <td>Pirates of the Caribbean: On Stranger Tides</td>\n",
       "      <td>$410,600,000</td>\n",
       "      <td>$241,063,875</td>\n",
       "      <td>$1,045,663,875</td>\n",
       "    </tr>\n",
       "    <tr>\n",
       "      <th>2</th>\n",
       "      <td>Jun 7, 2019</td>\n",
       "      <td>Dark Phoenix</td>\n",
       "      <td>$350,000,000</td>\n",
       "      <td>$42,762,350</td>\n",
       "      <td>$149,762,350</td>\n",
       "    </tr>\n",
       "    <tr>\n",
       "      <th>3</th>\n",
       "      <td>May 1, 2015</td>\n",
       "      <td>Avengers: Age of Ultron</td>\n",
       "      <td>$330,600,000</td>\n",
       "      <td>$459,005,868</td>\n",
       "      <td>$1,403,013,963</td>\n",
       "    </tr>\n",
       "    <tr>\n",
       "      <th>4</th>\n",
       "      <td>Dec 15, 2017</td>\n",
       "      <td>Star Wars Ep. VIII: The Last Jedi</td>\n",
       "      <td>$317,000,000</td>\n",
       "      <td>$620,181,382</td>\n",
       "      <td>$1,316,721,747</td>\n",
       "    </tr>\n",
       "    <tr>\n",
       "      <th>...</th>\n",
       "      <td>...</td>\n",
       "      <td>...</td>\n",
       "      <td>...</td>\n",
       "      <td>...</td>\n",
       "      <td>...</td>\n",
       "    </tr>\n",
       "    <tr>\n",
       "      <th>5777</th>\n",
       "      <td>Dec 31, 2018</td>\n",
       "      <td>Red 11</td>\n",
       "      <td>$7,000</td>\n",
       "      <td>$0</td>\n",
       "      <td>$0</td>\n",
       "    </tr>\n",
       "    <tr>\n",
       "      <th>5778</th>\n",
       "      <td>Apr 2, 1999</td>\n",
       "      <td>Following</td>\n",
       "      <td>$6,000</td>\n",
       "      <td>$48,482</td>\n",
       "      <td>$240,495</td>\n",
       "    </tr>\n",
       "    <tr>\n",
       "      <th>5779</th>\n",
       "      <td>Jul 13, 2005</td>\n",
       "      <td>Return to the Land of Wonders</td>\n",
       "      <td>$5,000</td>\n",
       "      <td>$1,338</td>\n",
       "      <td>$1,338</td>\n",
       "    </tr>\n",
       "    <tr>\n",
       "      <th>5780</th>\n",
       "      <td>Sep 29, 2015</td>\n",
       "      <td>A Plague So Pleasant</td>\n",
       "      <td>$1,400</td>\n",
       "      <td>$0</td>\n",
       "      <td>$0</td>\n",
       "    </tr>\n",
       "    <tr>\n",
       "      <th>5781</th>\n",
       "      <td>Aug 5, 2005</td>\n",
       "      <td>My Date With Drew</td>\n",
       "      <td>$1,100</td>\n",
       "      <td>$181,041</td>\n",
       "      <td>$181,041</td>\n",
       "    </tr>\n",
       "  </tbody>\n",
       "</table>\n",
       "<p>5782 rows × 5 columns</p>\n",
       "</div>"
      ],
      "text/plain": [
       "      release_date                                        movie  \\\n",
       "0     Dec 18, 2009                                       Avatar   \n",
       "1     May 20, 2011  Pirates of the Caribbean: On Stranger Tides   \n",
       "2      Jun 7, 2019                                 Dark Phoenix   \n",
       "3      May 1, 2015                      Avengers: Age of Ultron   \n",
       "4     Dec 15, 2017            Star Wars Ep. VIII: The Last Jedi   \n",
       "...            ...                                          ...   \n",
       "5777  Dec 31, 2018                                       Red 11   \n",
       "5778   Apr 2, 1999                                    Following   \n",
       "5779  Jul 13, 2005                Return to the Land of Wonders   \n",
       "5780  Sep 29, 2015                         A Plague So Pleasant   \n",
       "5781   Aug 5, 2005                            My Date With Drew   \n",
       "\n",
       "     production_budget domestic_gross worldwide_gross  \n",
       "0         $425,000,000   $760,507,625  $2,776,345,279  \n",
       "1         $410,600,000   $241,063,875  $1,045,663,875  \n",
       "2         $350,000,000    $42,762,350    $149,762,350  \n",
       "3         $330,600,000   $459,005,868  $1,403,013,963  \n",
       "4         $317,000,000   $620,181,382  $1,316,721,747  \n",
       "...                ...            ...             ...  \n",
       "5777            $7,000             $0              $0  \n",
       "5778            $6,000        $48,482        $240,495  \n",
       "5779            $5,000         $1,338          $1,338  \n",
       "5780            $1,400             $0              $0  \n",
       "5781            $1,100       $181,041        $181,041  \n",
       "\n",
       "[5782 rows x 5 columns]"
      ]
     },
     "execution_count": 3,
     "metadata": {},
     "output_type": "execute_result"
    }
   ],
   "source": [
    "budget = tn_budget.copy(deep=True)\n",
    "print(budget.shape)\n",
    "print(budget.info())\n",
    "budget.head()\n",
    "budget.tail()\n",
    "print(budget.columns)\n",
    "budget.duplicated().sum()\n",
    "budget.drop(columns=['id'])"
   ]
  },
  {
   "cell_type": "code",
   "execution_count": 4,
   "id": "a42cc9f7",
   "metadata": {},
   "outputs": [],
   "source": [
    "budget = budget.drop(columns=['id'])"
   ]
  },
  {
   "cell_type": "markdown",
   "id": "ce7bcf24",
   "metadata": {},
   "source": [
    "## Renaming Columns and Cleaning"
   ]
  },
  {
   "cell_type": "code",
   "execution_count": 5,
   "id": "4c27f2c0",
   "metadata": {},
   "outputs": [],
   "source": [
    "budget = budget.rename( columns={\n",
    "    \"movie\": \"movie_title\"\n",
    "})\n",
    "\n",
    "budget['release_date'] = budget['release_date'].astype(str).str.strip()\n",
    "budget['release_date'] = pd.to_datetime(budget['release_date'], format='%b %d, %Y')\n"
   ]
  },
  {
   "cell_type": "code",
   "execution_count": 6,
   "id": "dfa21892",
   "metadata": {},
   "outputs": [],
   "source": [
    "finance_cols = ['production_budget', 'domestic_gross', 'worldwide_gross']\n",
    "\n",
    "for col in finance_cols:\n",
    "    budget[col] = (budget[col].replace('[\\$,]','', regex=True).astype(float))"
   ]
  },
  {
   "cell_type": "code",
   "execution_count": 7,
   "id": "0a1b11e5",
   "metadata": {},
   "outputs": [],
   "source": [
    "def clean_title(df, title_col='movie_title'):\n",
    "    df[title_col] = df[title_col].str.lower()                     \n",
    "    df[title_col] = df[title_col].str.strip()                      \n",
    "    df[title_col] = df[title_col].str.replace(r'[^a-z0-9 ]', '', regex=True)  \n",
    "    return df"
   ]
  },
  {
   "cell_type": "code",
   "execution_count": 8,
   "id": "7c51d6a6",
   "metadata": {},
   "outputs": [
    {
     "data": {
      "application/vnd.microsoft.datawrangler.viewer.v0+json": {
       "columns": [
        {
         "name": "index",
         "rawType": "int64",
         "type": "integer"
        },
        {
         "name": "release_date",
         "rawType": "datetime64[ns]",
         "type": "datetime"
        },
        {
         "name": "movie_title",
         "rawType": "object",
         "type": "string"
        },
        {
         "name": "production_budget",
         "rawType": "float64",
         "type": "float"
        },
        {
         "name": "domestic_gross",
         "rawType": "float64",
         "type": "float"
        },
        {
         "name": "worldwide_gross",
         "rawType": "float64",
         "type": "float"
        }
       ],
       "ref": "c25c25c0-57de-45b1-92e1-8e6d02516771",
       "rows": [
        [
         "0",
         "2009-12-18 00:00:00",
         "avatar",
         "425000000.0",
         "760507625.0",
         "2776345279.0"
        ],
        [
         "1",
         "2011-05-20 00:00:00",
         "pirates of the caribbean on stranger tides",
         "410600000.0",
         "241063875.0",
         "1045663875.0"
        ],
        [
         "2",
         "2019-06-07 00:00:00",
         "dark phoenix",
         "350000000.0",
         "42762350.0",
         "149762350.0"
        ],
        [
         "3",
         "2015-05-01 00:00:00",
         "avengers age of ultron",
         "330600000.0",
         "459005868.0",
         "1403013963.0"
        ],
        [
         "4",
         "2017-12-15 00:00:00",
         "star wars ep viii the last jedi",
         "317000000.0",
         "620181382.0",
         "1316721747.0"
        ],
        [
         "5",
         "2015-12-18 00:00:00",
         "star wars ep vii the force awakens",
         "306000000.0",
         "936662225.0",
         "2053311220.0"
        ],
        [
         "6",
         "2018-04-27 00:00:00",
         "avengers infinity war",
         "300000000.0",
         "678815482.0",
         "2048134200.0"
        ],
        [
         "7",
         "2007-05-24 00:00:00",
         "pirates of the caribbean at worlds end",
         "300000000.0",
         "309420425.0",
         "963420425.0"
        ],
        [
         "8",
         "2017-11-17 00:00:00",
         "justice league",
         "300000000.0",
         "229024295.0",
         "655945209.0"
        ],
        [
         "9",
         "2015-11-06 00:00:00",
         "spectre",
         "300000000.0",
         "200074175.0",
         "879620923.0"
        ],
        [
         "10",
         "2012-07-20 00:00:00",
         "the dark knight rises",
         "275000000.0",
         "448139099.0",
         "1084439099.0"
        ],
        [
         "11",
         "2018-05-25 00:00:00",
         "solo a star wars story",
         "275000000.0",
         "213767512.0",
         "393151347.0"
        ],
        [
         "12",
         "2013-07-02 00:00:00",
         "the lone ranger",
         "275000000.0",
         "89302115.0",
         "260002115.0"
        ],
        [
         "13",
         "2012-03-09 00:00:00",
         "john carter",
         "275000000.0",
         "73058679.0",
         "282778100.0"
        ],
        [
         "14",
         "2010-11-24 00:00:00",
         "tangled",
         "260000000.0",
         "200821936.0",
         "586477240.0"
        ],
        [
         "15",
         "2007-05-04 00:00:00",
         "spiderman 3",
         "258000000.0",
         "336530303.0",
         "894860230.0"
        ],
        [
         "16",
         "2016-05-06 00:00:00",
         "captain america civil war",
         "250000000.0",
         "408084349.0",
         "1140069413.0"
        ],
        [
         "17",
         "2016-03-25 00:00:00",
         "batman v superman dawn of justice",
         "250000000.0",
         "330360194.0",
         "867500281.0"
        ],
        [
         "18",
         "2012-12-14 00:00:00",
         "the hobbit an unexpected journey",
         "250000000.0",
         "303003568.0",
         "1017003568.0"
        ],
        [
         "19",
         "2009-07-15 00:00:00",
         "harry potter and the halfblood prince",
         "250000000.0",
         "302089278.0",
         "935213767.0"
        ],
        [
         "20",
         "2013-12-13 00:00:00",
         "the hobbit the desolation of smaug",
         "250000000.0",
         "258366855.0",
         "960366855.0"
        ],
        [
         "21",
         "2014-12-17 00:00:00",
         "the hobbit the battle of the five armies",
         "250000000.0",
         "255119788.0",
         "945577621.0"
        ],
        [
         "22",
         "2017-04-14 00:00:00",
         "the fate of the furious",
         "250000000.0",
         "225764765.0",
         "1234846267.0"
        ],
        [
         "23",
         "2006-06-28 00:00:00",
         "superman returns",
         "232000000.0",
         "200120000.0",
         "374085065.0"
        ],
        [
         "24",
         "2017-05-26 00:00:00",
         "pirates of the caribbean dead men tell no tales",
         "230000000.0",
         "172558876.0",
         "788241137.0"
        ],
        [
         "25",
         "2008-11-14 00:00:00",
         "quantum of solace",
         "230000000.0",
         "169368427.0",
         "591692078.0"
        ],
        [
         "26",
         "2012-05-04 00:00:00",
         "the avengers",
         "225000000.0",
         "623279547.0",
         "1517935897.0"
        ],
        [
         "27",
         "2006-07-07 00:00:00",
         "pirates of the caribbean dead mans chest",
         "225000000.0",
         "423315812.0",
         "1066215812.0"
        ],
        [
         "28",
         "2013-06-14 00:00:00",
         "man of steel",
         "225000000.0",
         "291045518.0",
         "667999518.0"
        ],
        [
         "29",
         "2008-05-16 00:00:00",
         "the chronicles of narnia prince caspian",
         "225000000.0",
         "141621490.0",
         "417341288.0"
        ],
        [
         "30",
         "2012-07-03 00:00:00",
         "the amazing spiderman",
         "220000000.0",
         "262030663.0",
         "757890267.0"
        ],
        [
         "31",
         "2012-05-18 00:00:00",
         "battleship",
         "220000000.0",
         "65233400.0",
         "313477717.0"
        ],
        [
         "32",
         "2017-06-21 00:00:00",
         "transformers the last knight",
         "217000000.0",
         "130168683.0",
         "602893340.0"
        ],
        [
         "33",
         "2015-06-12 00:00:00",
         "jurassic world",
         "215000000.0",
         "652270625.0",
         "1648854864.0"
        ],
        [
         "34",
         "2012-05-25 00:00:00",
         "men in black 3",
         "215000000.0",
         "179020854.0",
         "654213485.0"
        ],
        [
         "35",
         "2009-06-24 00:00:00",
         "transformers revenge of the fallen",
         "210000000.0",
         "402111870.0",
         "836519699.0"
        ],
        [
         "36",
         "2014-06-27 00:00:00",
         "transformers age of extinction",
         "210000000.0",
         "245439076.0",
         "1104039076.0"
        ],
        [
         "37",
         "2006-05-26 00:00:00",
         "xmen the last stand",
         "210000000.0",
         "234362462.0",
         "459260946.0"
        ],
        [
         "38",
         "2010-05-14 00:00:00",
         "robin hood",
         "210000000.0",
         "105487148.0",
         "322459006.0"
        ],
        [
         "39",
         "2005-12-14 00:00:00",
         "king kong",
         "207000000.0",
         "218080025.0",
         "550517357.0"
        ],
        [
         "40",
         "2007-12-07 00:00:00",
         "the golden compass",
         "205000000.0",
         "70107728.0",
         "367262558.0"
        ],
        [
         "41",
         "2018-02-16 00:00:00",
         "black panther",
         "200000000.0",
         "700059566.0",
         "1348258224.0"
        ],
        [
         "42",
         "1997-12-19 00:00:00",
         "titanic",
         "200000000.0",
         "659363944.0",
         "2208208395.0"
        ],
        [
         "43",
         "2018-06-15 00:00:00",
         "incredibles 2",
         "200000000.0",
         "608581744.0",
         "1242520711.0"
        ],
        [
         "44",
         "2016-12-16 00:00:00",
         "rogue one a star wars story",
         "200000000.0",
         "532177324.0",
         "1049102856.0"
        ],
        [
         "45",
         "2016-06-17 00:00:00",
         "finding dory",
         "200000000.0",
         "486295561.0",
         "1021215193.0"
        ],
        [
         "46",
         "2010-06-18 00:00:00",
         "toy story 3",
         "200000000.0",
         "415004880.0",
         "1068879522.0"
        ],
        [
         "47",
         "2013-05-03 00:00:00",
         "iron man 3",
         "200000000.0",
         "408992272.0",
         "1215392272.0"
        ],
        [
         "48",
         "2017-05-05 00:00:00",
         "guardians of the galaxy vol 2",
         "200000000.0",
         "389813101.0",
         "862316233.0"
        ],
        [
         "49",
         "2004-06-30 00:00:00",
         "spiderman 2",
         "200000000.0",
         "373524485.0",
         "795110670.0"
        ]
       ],
       "shape": {
        "columns": 5,
        "rows": 5782
       }
      },
      "text/html": [
       "<div>\n",
       "<style scoped>\n",
       "    .dataframe tbody tr th:only-of-type {\n",
       "        vertical-align: middle;\n",
       "    }\n",
       "\n",
       "    .dataframe tbody tr th {\n",
       "        vertical-align: top;\n",
       "    }\n",
       "\n",
       "    .dataframe thead th {\n",
       "        text-align: right;\n",
       "    }\n",
       "</style>\n",
       "<table border=\"1\" class=\"dataframe\">\n",
       "  <thead>\n",
       "    <tr style=\"text-align: right;\">\n",
       "      <th></th>\n",
       "      <th>release_date</th>\n",
       "      <th>movie_title</th>\n",
       "      <th>production_budget</th>\n",
       "      <th>domestic_gross</th>\n",
       "      <th>worldwide_gross</th>\n",
       "    </tr>\n",
       "  </thead>\n",
       "  <tbody>\n",
       "    <tr>\n",
       "      <th>0</th>\n",
       "      <td>2009-12-18</td>\n",
       "      <td>avatar</td>\n",
       "      <td>425000000.0</td>\n",
       "      <td>760507625.0</td>\n",
       "      <td>2.776345e+09</td>\n",
       "    </tr>\n",
       "    <tr>\n",
       "      <th>1</th>\n",
       "      <td>2011-05-20</td>\n",
       "      <td>pirates of the caribbean on stranger tides</td>\n",
       "      <td>410600000.0</td>\n",
       "      <td>241063875.0</td>\n",
       "      <td>1.045664e+09</td>\n",
       "    </tr>\n",
       "    <tr>\n",
       "      <th>2</th>\n",
       "      <td>2019-06-07</td>\n",
       "      <td>dark phoenix</td>\n",
       "      <td>350000000.0</td>\n",
       "      <td>42762350.0</td>\n",
       "      <td>1.497624e+08</td>\n",
       "    </tr>\n",
       "    <tr>\n",
       "      <th>3</th>\n",
       "      <td>2015-05-01</td>\n",
       "      <td>avengers age of ultron</td>\n",
       "      <td>330600000.0</td>\n",
       "      <td>459005868.0</td>\n",
       "      <td>1.403014e+09</td>\n",
       "    </tr>\n",
       "    <tr>\n",
       "      <th>4</th>\n",
       "      <td>2017-12-15</td>\n",
       "      <td>star wars ep viii the last jedi</td>\n",
       "      <td>317000000.0</td>\n",
       "      <td>620181382.0</td>\n",
       "      <td>1.316722e+09</td>\n",
       "    </tr>\n",
       "    <tr>\n",
       "      <th>...</th>\n",
       "      <td>...</td>\n",
       "      <td>...</td>\n",
       "      <td>...</td>\n",
       "      <td>...</td>\n",
       "      <td>...</td>\n",
       "    </tr>\n",
       "    <tr>\n",
       "      <th>5777</th>\n",
       "      <td>2018-12-31</td>\n",
       "      <td>red 11</td>\n",
       "      <td>7000.0</td>\n",
       "      <td>0.0</td>\n",
       "      <td>0.000000e+00</td>\n",
       "    </tr>\n",
       "    <tr>\n",
       "      <th>5778</th>\n",
       "      <td>1999-04-02</td>\n",
       "      <td>following</td>\n",
       "      <td>6000.0</td>\n",
       "      <td>48482.0</td>\n",
       "      <td>2.404950e+05</td>\n",
       "    </tr>\n",
       "    <tr>\n",
       "      <th>5779</th>\n",
       "      <td>2005-07-13</td>\n",
       "      <td>return to the land of wonders</td>\n",
       "      <td>5000.0</td>\n",
       "      <td>1338.0</td>\n",
       "      <td>1.338000e+03</td>\n",
       "    </tr>\n",
       "    <tr>\n",
       "      <th>5780</th>\n",
       "      <td>2015-09-29</td>\n",
       "      <td>a plague so pleasant</td>\n",
       "      <td>1400.0</td>\n",
       "      <td>0.0</td>\n",
       "      <td>0.000000e+00</td>\n",
       "    </tr>\n",
       "    <tr>\n",
       "      <th>5781</th>\n",
       "      <td>2005-08-05</td>\n",
       "      <td>my date with drew</td>\n",
       "      <td>1100.0</td>\n",
       "      <td>181041.0</td>\n",
       "      <td>1.810410e+05</td>\n",
       "    </tr>\n",
       "  </tbody>\n",
       "</table>\n",
       "<p>5782 rows × 5 columns</p>\n",
       "</div>"
      ],
      "text/plain": [
       "     release_date                                 movie_title  \\\n",
       "0      2009-12-18                                      avatar   \n",
       "1      2011-05-20  pirates of the caribbean on stranger tides   \n",
       "2      2019-06-07                                dark phoenix   \n",
       "3      2015-05-01                      avengers age of ultron   \n",
       "4      2017-12-15             star wars ep viii the last jedi   \n",
       "...           ...                                         ...   \n",
       "5777   2018-12-31                                      red 11   \n",
       "5778   1999-04-02                                   following   \n",
       "5779   2005-07-13               return to the land of wonders   \n",
       "5780   2015-09-29                        a plague so pleasant   \n",
       "5781   2005-08-05                           my date with drew   \n",
       "\n",
       "      production_budget  domestic_gross  worldwide_gross  \n",
       "0           425000000.0     760507625.0     2.776345e+09  \n",
       "1           410600000.0     241063875.0     1.045664e+09  \n",
       "2           350000000.0      42762350.0     1.497624e+08  \n",
       "3           330600000.0     459005868.0     1.403014e+09  \n",
       "4           317000000.0     620181382.0     1.316722e+09  \n",
       "...                 ...             ...              ...  \n",
       "5777             7000.0             0.0     0.000000e+00  \n",
       "5778             6000.0         48482.0     2.404950e+05  \n",
       "5779             5000.0          1338.0     1.338000e+03  \n",
       "5780             1400.0             0.0     0.000000e+00  \n",
       "5781             1100.0        181041.0     1.810410e+05  \n",
       "\n",
       "[5782 rows x 5 columns]"
      ]
     },
     "execution_count": 8,
     "metadata": {},
     "output_type": "execute_result"
    }
   ],
   "source": [
    "clean_title(budget, 'movie_title')"
   ]
  },
  {
   "cell_type": "code",
   "execution_count": 9,
   "id": "5a90167c",
   "metadata": {},
   "outputs": [
    {
     "data": {
      "application/vnd.microsoft.datawrangler.viewer.v0+json": {
       "columns": [
        {
         "name": "index",
         "rawType": "int64",
         "type": "integer"
        },
        {
         "name": "release_date",
         "rawType": "datetime64[ns]",
         "type": "datetime"
        },
        {
         "name": "movie_title",
         "rawType": "object",
         "type": "string"
        },
        {
         "name": "production_budget",
         "rawType": "float64",
         "type": "float"
        },
        {
         "name": "domestic_gross",
         "rawType": "float64",
         "type": "float"
        },
        {
         "name": "worldwide_gross",
         "rawType": "float64",
         "type": "float"
        }
       ],
       "ref": "76c0bef0-06bd-49b8-8997-d286b487bdc0",
       "rows": [
        [
         "0",
         "2009-12-18 00:00:00",
         "avatar",
         "425000000.0",
         "760507625.0",
         "2776345279.0"
        ],
        [
         "1",
         "2011-05-20 00:00:00",
         "pirates of the caribbean on stranger tides",
         "410600000.0",
         "241063875.0",
         "1045663875.0"
        ],
        [
         "2",
         "2019-06-07 00:00:00",
         "dark phoenix",
         "350000000.0",
         "42762350.0",
         "149762350.0"
        ],
        [
         "3",
         "2015-05-01 00:00:00",
         "avengers age of ultron",
         "330600000.0",
         "459005868.0",
         "1403013963.0"
        ],
        [
         "4",
         "2017-12-15 00:00:00",
         "star wars ep viii the last jedi",
         "317000000.0",
         "620181382.0",
         "1316721747.0"
        ],
        [
         "5",
         "2015-12-18 00:00:00",
         "star wars ep vii the force awakens",
         "306000000.0",
         "936662225.0",
         "2053311220.0"
        ],
        [
         "6",
         "2018-04-27 00:00:00",
         "avengers infinity war",
         "300000000.0",
         "678815482.0",
         "2048134200.0"
        ],
        [
         "7",
         "2007-05-24 00:00:00",
         "pirates of the caribbean at worlds end",
         "300000000.0",
         "309420425.0",
         "963420425.0"
        ],
        [
         "8",
         "2017-11-17 00:00:00",
         "justice league",
         "300000000.0",
         "229024295.0",
         "655945209.0"
        ],
        [
         "9",
         "2015-11-06 00:00:00",
         "spectre",
         "300000000.0",
         "200074175.0",
         "879620923.0"
        ],
        [
         "10",
         "2012-07-20 00:00:00",
         "the dark knight rises",
         "275000000.0",
         "448139099.0",
         "1084439099.0"
        ],
        [
         "11",
         "2018-05-25 00:00:00",
         "solo a star wars story",
         "275000000.0",
         "213767512.0",
         "393151347.0"
        ],
        [
         "12",
         "2013-07-02 00:00:00",
         "the lone ranger",
         "275000000.0",
         "89302115.0",
         "260002115.0"
        ],
        [
         "13",
         "2012-03-09 00:00:00",
         "john carter",
         "275000000.0",
         "73058679.0",
         "282778100.0"
        ],
        [
         "14",
         "2010-11-24 00:00:00",
         "tangled",
         "260000000.0",
         "200821936.0",
         "586477240.0"
        ],
        [
         "15",
         "2007-05-04 00:00:00",
         "spiderman 3",
         "258000000.0",
         "336530303.0",
         "894860230.0"
        ],
        [
         "16",
         "2016-05-06 00:00:00",
         "captain america civil war",
         "250000000.0",
         "408084349.0",
         "1140069413.0"
        ],
        [
         "17",
         "2016-03-25 00:00:00",
         "batman v superman dawn of justice",
         "250000000.0",
         "330360194.0",
         "867500281.0"
        ],
        [
         "18",
         "2012-12-14 00:00:00",
         "the hobbit an unexpected journey",
         "250000000.0",
         "303003568.0",
         "1017003568.0"
        ],
        [
         "19",
         "2009-07-15 00:00:00",
         "harry potter and the halfblood prince",
         "250000000.0",
         "302089278.0",
         "935213767.0"
        ],
        [
         "20",
         "2013-12-13 00:00:00",
         "the hobbit the desolation of smaug",
         "250000000.0",
         "258366855.0",
         "960366855.0"
        ],
        [
         "21",
         "2014-12-17 00:00:00",
         "the hobbit the battle of the five armies",
         "250000000.0",
         "255119788.0",
         "945577621.0"
        ],
        [
         "22",
         "2017-04-14 00:00:00",
         "the fate of the furious",
         "250000000.0",
         "225764765.0",
         "1234846267.0"
        ],
        [
         "23",
         "2006-06-28 00:00:00",
         "superman returns",
         "232000000.0",
         "200120000.0",
         "374085065.0"
        ],
        [
         "24",
         "2017-05-26 00:00:00",
         "pirates of the caribbean dead men tell no tales",
         "230000000.0",
         "172558876.0",
         "788241137.0"
        ],
        [
         "25",
         "2008-11-14 00:00:00",
         "quantum of solace",
         "230000000.0",
         "169368427.0",
         "591692078.0"
        ],
        [
         "26",
         "2012-05-04 00:00:00",
         "the avengers",
         "225000000.0",
         "623279547.0",
         "1517935897.0"
        ],
        [
         "27",
         "2006-07-07 00:00:00",
         "pirates of the caribbean dead mans chest",
         "225000000.0",
         "423315812.0",
         "1066215812.0"
        ],
        [
         "28",
         "2013-06-14 00:00:00",
         "man of steel",
         "225000000.0",
         "291045518.0",
         "667999518.0"
        ],
        [
         "29",
         "2008-05-16 00:00:00",
         "the chronicles of narnia prince caspian",
         "225000000.0",
         "141621490.0",
         "417341288.0"
        ],
        [
         "30",
         "2012-07-03 00:00:00",
         "the amazing spiderman",
         "220000000.0",
         "262030663.0",
         "757890267.0"
        ],
        [
         "31",
         "2012-05-18 00:00:00",
         "battleship",
         "220000000.0",
         "65233400.0",
         "313477717.0"
        ],
        [
         "32",
         "2017-06-21 00:00:00",
         "transformers the last knight",
         "217000000.0",
         "130168683.0",
         "602893340.0"
        ],
        [
         "33",
         "2015-06-12 00:00:00",
         "jurassic world",
         "215000000.0",
         "652270625.0",
         "1648854864.0"
        ],
        [
         "34",
         "2012-05-25 00:00:00",
         "men in black 3",
         "215000000.0",
         "179020854.0",
         "654213485.0"
        ],
        [
         "35",
         "2009-06-24 00:00:00",
         "transformers revenge of the fallen",
         "210000000.0",
         "402111870.0",
         "836519699.0"
        ],
        [
         "36",
         "2014-06-27 00:00:00",
         "transformers age of extinction",
         "210000000.0",
         "245439076.0",
         "1104039076.0"
        ],
        [
         "37",
         "2006-05-26 00:00:00",
         "xmen the last stand",
         "210000000.0",
         "234362462.0",
         "459260946.0"
        ],
        [
         "38",
         "2010-05-14 00:00:00",
         "robin hood",
         "210000000.0",
         "105487148.0",
         "322459006.0"
        ],
        [
         "39",
         "2005-12-14 00:00:00",
         "king kong",
         "207000000.0",
         "218080025.0",
         "550517357.0"
        ],
        [
         "40",
         "2007-12-07 00:00:00",
         "the golden compass",
         "205000000.0",
         "70107728.0",
         "367262558.0"
        ],
        [
         "41",
         "2018-02-16 00:00:00",
         "black panther",
         "200000000.0",
         "700059566.0",
         "1348258224.0"
        ],
        [
         "42",
         "1997-12-19 00:00:00",
         "titanic",
         "200000000.0",
         "659363944.0",
         "2208208395.0"
        ],
        [
         "43",
         "2018-06-15 00:00:00",
         "incredibles 2",
         "200000000.0",
         "608581744.0",
         "1242520711.0"
        ],
        [
         "44",
         "2016-12-16 00:00:00",
         "rogue one a star wars story",
         "200000000.0",
         "532177324.0",
         "1049102856.0"
        ],
        [
         "45",
         "2016-06-17 00:00:00",
         "finding dory",
         "200000000.0",
         "486295561.0",
         "1021215193.0"
        ],
        [
         "46",
         "2010-06-18 00:00:00",
         "toy story 3",
         "200000000.0",
         "415004880.0",
         "1068879522.0"
        ],
        [
         "47",
         "2013-05-03 00:00:00",
         "iron man 3",
         "200000000.0",
         "408992272.0",
         "1215392272.0"
        ],
        [
         "48",
         "2017-05-05 00:00:00",
         "guardians of the galaxy vol 2",
         "200000000.0",
         "389813101.0",
         "862316233.0"
        ],
        [
         "49",
         "2004-06-30 00:00:00",
         "spiderman 2",
         "200000000.0",
         "373524485.0",
         "795110670.0"
        ]
       ],
       "shape": {
        "columns": 5,
        "rows": 5782
       }
      },
      "text/html": [
       "<div>\n",
       "<style scoped>\n",
       "    .dataframe tbody tr th:only-of-type {\n",
       "        vertical-align: middle;\n",
       "    }\n",
       "\n",
       "    .dataframe tbody tr th {\n",
       "        vertical-align: top;\n",
       "    }\n",
       "\n",
       "    .dataframe thead th {\n",
       "        text-align: right;\n",
       "    }\n",
       "</style>\n",
       "<table border=\"1\" class=\"dataframe\">\n",
       "  <thead>\n",
       "    <tr style=\"text-align: right;\">\n",
       "      <th></th>\n",
       "      <th>release_date</th>\n",
       "      <th>movie_title</th>\n",
       "      <th>production_budget</th>\n",
       "      <th>domestic_gross</th>\n",
       "      <th>worldwide_gross</th>\n",
       "    </tr>\n",
       "  </thead>\n",
       "  <tbody>\n",
       "    <tr>\n",
       "      <th>0</th>\n",
       "      <td>2009-12-18</td>\n",
       "      <td>avatar</td>\n",
       "      <td>425000000.0</td>\n",
       "      <td>760507625.0</td>\n",
       "      <td>2.776345e+09</td>\n",
       "    </tr>\n",
       "    <tr>\n",
       "      <th>1</th>\n",
       "      <td>2011-05-20</td>\n",
       "      <td>pirates of the caribbean on stranger tides</td>\n",
       "      <td>410600000.0</td>\n",
       "      <td>241063875.0</td>\n",
       "      <td>1.045664e+09</td>\n",
       "    </tr>\n",
       "    <tr>\n",
       "      <th>2</th>\n",
       "      <td>2019-06-07</td>\n",
       "      <td>dark phoenix</td>\n",
       "      <td>350000000.0</td>\n",
       "      <td>42762350.0</td>\n",
       "      <td>1.497624e+08</td>\n",
       "    </tr>\n",
       "    <tr>\n",
       "      <th>3</th>\n",
       "      <td>2015-05-01</td>\n",
       "      <td>avengers age of ultron</td>\n",
       "      <td>330600000.0</td>\n",
       "      <td>459005868.0</td>\n",
       "      <td>1.403014e+09</td>\n",
       "    </tr>\n",
       "    <tr>\n",
       "      <th>4</th>\n",
       "      <td>2017-12-15</td>\n",
       "      <td>star wars ep viii the last jedi</td>\n",
       "      <td>317000000.0</td>\n",
       "      <td>620181382.0</td>\n",
       "      <td>1.316722e+09</td>\n",
       "    </tr>\n",
       "    <tr>\n",
       "      <th>...</th>\n",
       "      <td>...</td>\n",
       "      <td>...</td>\n",
       "      <td>...</td>\n",
       "      <td>...</td>\n",
       "      <td>...</td>\n",
       "    </tr>\n",
       "    <tr>\n",
       "      <th>5777</th>\n",
       "      <td>2018-12-31</td>\n",
       "      <td>red 11</td>\n",
       "      <td>7000.0</td>\n",
       "      <td>0.0</td>\n",
       "      <td>0.000000e+00</td>\n",
       "    </tr>\n",
       "    <tr>\n",
       "      <th>5778</th>\n",
       "      <td>1999-04-02</td>\n",
       "      <td>following</td>\n",
       "      <td>6000.0</td>\n",
       "      <td>48482.0</td>\n",
       "      <td>2.404950e+05</td>\n",
       "    </tr>\n",
       "    <tr>\n",
       "      <th>5779</th>\n",
       "      <td>2005-07-13</td>\n",
       "      <td>return to the land of wonders</td>\n",
       "      <td>5000.0</td>\n",
       "      <td>1338.0</td>\n",
       "      <td>1.338000e+03</td>\n",
       "    </tr>\n",
       "    <tr>\n",
       "      <th>5780</th>\n",
       "      <td>2015-09-29</td>\n",
       "      <td>a plague so pleasant</td>\n",
       "      <td>1400.0</td>\n",
       "      <td>0.0</td>\n",
       "      <td>0.000000e+00</td>\n",
       "    </tr>\n",
       "    <tr>\n",
       "      <th>5781</th>\n",
       "      <td>2005-08-05</td>\n",
       "      <td>my date with drew</td>\n",
       "      <td>1100.0</td>\n",
       "      <td>181041.0</td>\n",
       "      <td>1.810410e+05</td>\n",
       "    </tr>\n",
       "  </tbody>\n",
       "</table>\n",
       "<p>5782 rows × 5 columns</p>\n",
       "</div>"
      ],
      "text/plain": [
       "     release_date                                 movie_title  \\\n",
       "0      2009-12-18                                      avatar   \n",
       "1      2011-05-20  pirates of the caribbean on stranger tides   \n",
       "2      2019-06-07                                dark phoenix   \n",
       "3      2015-05-01                      avengers age of ultron   \n",
       "4      2017-12-15             star wars ep viii the last jedi   \n",
       "...           ...                                         ...   \n",
       "5777   2018-12-31                                      red 11   \n",
       "5778   1999-04-02                                   following   \n",
       "5779   2005-07-13               return to the land of wonders   \n",
       "5780   2015-09-29                        a plague so pleasant   \n",
       "5781   2005-08-05                           my date with drew   \n",
       "\n",
       "      production_budget  domestic_gross  worldwide_gross  \n",
       "0           425000000.0     760507625.0     2.776345e+09  \n",
       "1           410600000.0     241063875.0     1.045664e+09  \n",
       "2           350000000.0      42762350.0     1.497624e+08  \n",
       "3           330600000.0     459005868.0     1.403014e+09  \n",
       "4           317000000.0     620181382.0     1.316722e+09  \n",
       "...                 ...             ...              ...  \n",
       "5777             7000.0             0.0     0.000000e+00  \n",
       "5778             6000.0         48482.0     2.404950e+05  \n",
       "5779             5000.0          1338.0     1.338000e+03  \n",
       "5780             1400.0             0.0     0.000000e+00  \n",
       "5781             1100.0        181041.0     1.810410e+05  \n",
       "\n",
       "[5782 rows x 5 columns]"
      ]
     },
     "execution_count": 9,
     "metadata": {},
     "output_type": "execute_result"
    }
   ],
   "source": [
    "budget"
   ]
  },
  {
   "cell_type": "markdown",
   "id": "8ff41c1b",
   "metadata": {},
   "source": [
    "## Cleaning and Understanding `tmdb_df`"
   ]
  },
  {
   "cell_type": "code",
   "execution_count": 10,
   "id": "f17bb553",
   "metadata": {},
   "outputs": [
    {
     "name": "stdout",
     "output_type": "stream",
     "text": [
      "(26517, 10)\n",
      "<class 'pandas.core.frame.DataFrame'>\n",
      "RangeIndex: 26517 entries, 0 to 26516\n",
      "Data columns (total 10 columns):\n",
      " #   Column             Non-Null Count  Dtype  \n",
      "---  ------             --------------  -----  \n",
      " 0   Unnamed: 0         26517 non-null  int64  \n",
      " 1   genre_ids          26517 non-null  object \n",
      " 2   id                 26517 non-null  int64  \n",
      " 3   original_language  26517 non-null  object \n",
      " 4   original_title     26517 non-null  object \n",
      " 5   popularity         26517 non-null  float64\n",
      " 6   release_date       26517 non-null  object \n",
      " 7   title              26517 non-null  object \n",
      " 8   vote_average       26517 non-null  float64\n",
      " 9   vote_count         26517 non-null  int64  \n",
      "dtypes: float64(2), int64(3), object(5)\n",
      "memory usage: 2.0+ MB\n",
      "None\n",
      "Index(['Unnamed: 0', 'genre_ids', 'id', 'original_language', 'original_title',\n",
      "       'popularity', 'release_date', 'title', 'vote_average', 'vote_count'],\n",
      "      dtype='object')\n"
     ]
    },
    {
     "data": {
      "text/plain": [
       "np.int64(0)"
      ]
     },
     "execution_count": 10,
     "metadata": {},
     "output_type": "execute_result"
    }
   ],
   "source": [
    "tmdb = tmdb_df.copy(deep=True)\n",
    "print(tmdb.shape)\n",
    "print(tmdb.info())\n",
    "tmdb.head()\n",
    "tmdb.tail()\n",
    "print(tmdb.columns)\n",
    "tmdb.duplicated().sum()\n",
    "\n"
   ]
  },
  {
   "cell_type": "code",
   "execution_count": 11,
   "id": "a3641289",
   "metadata": {},
   "outputs": [
    {
     "data": {
      "application/vnd.microsoft.datawrangler.viewer.v0+json": {
       "columns": [
        {
         "name": "index",
         "rawType": "int64",
         "type": "integer"
        },
        {
         "name": "Unnamed: 0",
         "rawType": "int64",
         "type": "integer"
        },
        {
         "name": "genre_ids",
         "rawType": "object",
         "type": "string"
        },
        {
         "name": "id",
         "rawType": "int64",
         "type": "integer"
        },
        {
         "name": "original_language",
         "rawType": "object",
         "type": "string"
        },
        {
         "name": "original_title",
         "rawType": "object",
         "type": "string"
        },
        {
         "name": "popularity",
         "rawType": "float64",
         "type": "float"
        },
        {
         "name": "release_date",
         "rawType": "object",
         "type": "string"
        },
        {
         "name": "title",
         "rawType": "object",
         "type": "string"
        },
        {
         "name": "vote_average",
         "rawType": "float64",
         "type": "float"
        },
        {
         "name": "vote_count",
         "rawType": "int64",
         "type": "integer"
        }
       ],
       "ref": "4eee34a6-c05e-4a4a-83d4-c78705fb2194",
       "rows": [
        [
         "0",
         "0",
         "[12, 14, 10751]",
         "12444",
         "en",
         "Harry Potter and the Deathly Hallows: Part 1",
         "33.533",
         "2010-11-19",
         "Harry Potter and the Deathly Hallows: Part 1",
         "7.7",
         "10788"
        ],
        [
         "1",
         "1",
         "[14, 12, 16, 10751]",
         "10191",
         "en",
         "How to Train Your Dragon",
         "28.734",
         "2010-03-26",
         "How to Train Your Dragon",
         "7.7",
         "7610"
        ],
        [
         "2",
         "2",
         "[12, 28, 878]",
         "10138",
         "en",
         "Iron Man 2",
         "28.515",
         "2010-05-07",
         "Iron Man 2",
         "6.8",
         "12368"
        ],
        [
         "3",
         "3",
         "[16, 35, 10751]",
         "862",
         "en",
         "Toy Story",
         "28.005",
         "1995-11-22",
         "Toy Story",
         "7.9",
         "10174"
        ],
        [
         "4",
         "4",
         "[28, 878, 12]",
         "27205",
         "en",
         "Inception",
         "27.92",
         "2010-07-16",
         "Inception",
         "8.3",
         "22186"
        ]
       ],
       "shape": {
        "columns": 10,
        "rows": 5
       }
      },
      "text/html": [
       "<div>\n",
       "<style scoped>\n",
       "    .dataframe tbody tr th:only-of-type {\n",
       "        vertical-align: middle;\n",
       "    }\n",
       "\n",
       "    .dataframe tbody tr th {\n",
       "        vertical-align: top;\n",
       "    }\n",
       "\n",
       "    .dataframe thead th {\n",
       "        text-align: right;\n",
       "    }\n",
       "</style>\n",
       "<table border=\"1\" class=\"dataframe\">\n",
       "  <thead>\n",
       "    <tr style=\"text-align: right;\">\n",
       "      <th></th>\n",
       "      <th>Unnamed: 0</th>\n",
       "      <th>genre_ids</th>\n",
       "      <th>id</th>\n",
       "      <th>original_language</th>\n",
       "      <th>original_title</th>\n",
       "      <th>popularity</th>\n",
       "      <th>release_date</th>\n",
       "      <th>title</th>\n",
       "      <th>vote_average</th>\n",
       "      <th>vote_count</th>\n",
       "    </tr>\n",
       "  </thead>\n",
       "  <tbody>\n",
       "    <tr>\n",
       "      <th>0</th>\n",
       "      <td>0</td>\n",
       "      <td>[12, 14, 10751]</td>\n",
       "      <td>12444</td>\n",
       "      <td>en</td>\n",
       "      <td>Harry Potter and the Deathly Hallows: Part 1</td>\n",
       "      <td>33.533</td>\n",
       "      <td>2010-11-19</td>\n",
       "      <td>Harry Potter and the Deathly Hallows: Part 1</td>\n",
       "      <td>7.7</td>\n",
       "      <td>10788</td>\n",
       "    </tr>\n",
       "    <tr>\n",
       "      <th>1</th>\n",
       "      <td>1</td>\n",
       "      <td>[14, 12, 16, 10751]</td>\n",
       "      <td>10191</td>\n",
       "      <td>en</td>\n",
       "      <td>How to Train Your Dragon</td>\n",
       "      <td>28.734</td>\n",
       "      <td>2010-03-26</td>\n",
       "      <td>How to Train Your Dragon</td>\n",
       "      <td>7.7</td>\n",
       "      <td>7610</td>\n",
       "    </tr>\n",
       "    <tr>\n",
       "      <th>2</th>\n",
       "      <td>2</td>\n",
       "      <td>[12, 28, 878]</td>\n",
       "      <td>10138</td>\n",
       "      <td>en</td>\n",
       "      <td>Iron Man 2</td>\n",
       "      <td>28.515</td>\n",
       "      <td>2010-05-07</td>\n",
       "      <td>Iron Man 2</td>\n",
       "      <td>6.8</td>\n",
       "      <td>12368</td>\n",
       "    </tr>\n",
       "    <tr>\n",
       "      <th>3</th>\n",
       "      <td>3</td>\n",
       "      <td>[16, 35, 10751]</td>\n",
       "      <td>862</td>\n",
       "      <td>en</td>\n",
       "      <td>Toy Story</td>\n",
       "      <td>28.005</td>\n",
       "      <td>1995-11-22</td>\n",
       "      <td>Toy Story</td>\n",
       "      <td>7.9</td>\n",
       "      <td>10174</td>\n",
       "    </tr>\n",
       "    <tr>\n",
       "      <th>4</th>\n",
       "      <td>4</td>\n",
       "      <td>[28, 878, 12]</td>\n",
       "      <td>27205</td>\n",
       "      <td>en</td>\n",
       "      <td>Inception</td>\n",
       "      <td>27.920</td>\n",
       "      <td>2010-07-16</td>\n",
       "      <td>Inception</td>\n",
       "      <td>8.3</td>\n",
       "      <td>22186</td>\n",
       "    </tr>\n",
       "  </tbody>\n",
       "</table>\n",
       "</div>"
      ],
      "text/plain": [
       "   Unnamed: 0            genre_ids     id original_language  \\\n",
       "0           0      [12, 14, 10751]  12444                en   \n",
       "1           1  [14, 12, 16, 10751]  10191                en   \n",
       "2           2        [12, 28, 878]  10138                en   \n",
       "3           3      [16, 35, 10751]    862                en   \n",
       "4           4        [28, 878, 12]  27205                en   \n",
       "\n",
       "                                 original_title  popularity release_date  \\\n",
       "0  Harry Potter and the Deathly Hallows: Part 1      33.533   2010-11-19   \n",
       "1                      How to Train Your Dragon      28.734   2010-03-26   \n",
       "2                                    Iron Man 2      28.515   2010-05-07   \n",
       "3                                     Toy Story      28.005   1995-11-22   \n",
       "4                                     Inception      27.920   2010-07-16   \n",
       "\n",
       "                                          title  vote_average  vote_count  \n",
       "0  Harry Potter and the Deathly Hallows: Part 1           7.7       10788  \n",
       "1                      How to Train Your Dragon           7.7        7610  \n",
       "2                                    Iron Man 2           6.8       12368  \n",
       "3                                     Toy Story           7.9       10174  \n",
       "4                                     Inception           8.3       22186  "
      ]
     },
     "execution_count": 11,
     "metadata": {},
     "output_type": "execute_result"
    }
   ],
   "source": [
    "tmdb.head()"
   ]
  },
  {
   "cell_type": "markdown",
   "id": "8d04738f",
   "metadata": {},
   "source": [
    "## Understanding, Dropping and Cleaning"
   ]
  },
  {
   "cell_type": "code",
   "execution_count": 12,
   "id": "fcbe8ffe",
   "metadata": {},
   "outputs": [],
   "source": [
    "#Dropping \n",
    "\n",
    "tmdb = tmdb.drop(columns=['Unnamed: 0', 'genre_ids', 'id', 'title'])"
   ]
  },
  {
   "cell_type": "code",
   "execution_count": 13,
   "id": "2b298c54",
   "metadata": {},
   "outputs": [
    {
     "data": {
      "application/vnd.microsoft.datawrangler.viewer.v0+json": {
       "columns": [
        {
         "name": "index",
         "rawType": "int64",
         "type": "integer"
        },
        {
         "name": "original_language",
         "rawType": "object",
         "type": "string"
        },
        {
         "name": "original_title",
         "rawType": "object",
         "type": "string"
        },
        {
         "name": "popularity",
         "rawType": "float64",
         "type": "float"
        },
        {
         "name": "release_date",
         "rawType": "object",
         "type": "string"
        },
        {
         "name": "vote_average",
         "rawType": "float64",
         "type": "float"
        },
        {
         "name": "vote_count",
         "rawType": "int64",
         "type": "integer"
        }
       ],
       "ref": "9d9d207a-55b4-44d1-bfc7-3f999f3abc09",
       "rows": [
        [
         "0",
         "en",
         "Harry Potter and the Deathly Hallows: Part 1",
         "33.533",
         "2010-11-19",
         "7.7",
         "10788"
        ],
        [
         "1",
         "en",
         "How to Train Your Dragon",
         "28.734",
         "2010-03-26",
         "7.7",
         "7610"
        ],
        [
         "2",
         "en",
         "Iron Man 2",
         "28.515",
         "2010-05-07",
         "6.8",
         "12368"
        ],
        [
         "3",
         "en",
         "Toy Story",
         "28.005",
         "1995-11-22",
         "7.9",
         "10174"
        ],
        [
         "4",
         "en",
         "Inception",
         "27.92",
         "2010-07-16",
         "8.3",
         "22186"
        ]
       ],
       "shape": {
        "columns": 6,
        "rows": 5
       }
      },
      "text/html": [
       "<div>\n",
       "<style scoped>\n",
       "    .dataframe tbody tr th:only-of-type {\n",
       "        vertical-align: middle;\n",
       "    }\n",
       "\n",
       "    .dataframe tbody tr th {\n",
       "        vertical-align: top;\n",
       "    }\n",
       "\n",
       "    .dataframe thead th {\n",
       "        text-align: right;\n",
       "    }\n",
       "</style>\n",
       "<table border=\"1\" class=\"dataframe\">\n",
       "  <thead>\n",
       "    <tr style=\"text-align: right;\">\n",
       "      <th></th>\n",
       "      <th>original_language</th>\n",
       "      <th>original_title</th>\n",
       "      <th>popularity</th>\n",
       "      <th>release_date</th>\n",
       "      <th>vote_average</th>\n",
       "      <th>vote_count</th>\n",
       "    </tr>\n",
       "  </thead>\n",
       "  <tbody>\n",
       "    <tr>\n",
       "      <th>0</th>\n",
       "      <td>en</td>\n",
       "      <td>Harry Potter and the Deathly Hallows: Part 1</td>\n",
       "      <td>33.533</td>\n",
       "      <td>2010-11-19</td>\n",
       "      <td>7.7</td>\n",
       "      <td>10788</td>\n",
       "    </tr>\n",
       "    <tr>\n",
       "      <th>1</th>\n",
       "      <td>en</td>\n",
       "      <td>How to Train Your Dragon</td>\n",
       "      <td>28.734</td>\n",
       "      <td>2010-03-26</td>\n",
       "      <td>7.7</td>\n",
       "      <td>7610</td>\n",
       "    </tr>\n",
       "    <tr>\n",
       "      <th>2</th>\n",
       "      <td>en</td>\n",
       "      <td>Iron Man 2</td>\n",
       "      <td>28.515</td>\n",
       "      <td>2010-05-07</td>\n",
       "      <td>6.8</td>\n",
       "      <td>12368</td>\n",
       "    </tr>\n",
       "    <tr>\n",
       "      <th>3</th>\n",
       "      <td>en</td>\n",
       "      <td>Toy Story</td>\n",
       "      <td>28.005</td>\n",
       "      <td>1995-11-22</td>\n",
       "      <td>7.9</td>\n",
       "      <td>10174</td>\n",
       "    </tr>\n",
       "    <tr>\n",
       "      <th>4</th>\n",
       "      <td>en</td>\n",
       "      <td>Inception</td>\n",
       "      <td>27.920</td>\n",
       "      <td>2010-07-16</td>\n",
       "      <td>8.3</td>\n",
       "      <td>22186</td>\n",
       "    </tr>\n",
       "  </tbody>\n",
       "</table>\n",
       "</div>"
      ],
      "text/plain": [
       "  original_language                                original_title  popularity  \\\n",
       "0                en  Harry Potter and the Deathly Hallows: Part 1      33.533   \n",
       "1                en                      How to Train Your Dragon      28.734   \n",
       "2                en                                    Iron Man 2      28.515   \n",
       "3                en                                     Toy Story      28.005   \n",
       "4                en                                     Inception      27.920   \n",
       "\n",
       "  release_date  vote_average  vote_count  \n",
       "0   2010-11-19           7.7       10788  \n",
       "1   2010-03-26           7.7        7610  \n",
       "2   2010-05-07           6.8       12368  \n",
       "3   1995-11-22           7.9       10174  \n",
       "4   2010-07-16           8.3       22186  "
      ]
     },
     "execution_count": 13,
     "metadata": {},
     "output_type": "execute_result"
    }
   ],
   "source": [
    "tmdb.head()"
   ]
  },
  {
   "cell_type": "code",
   "execution_count": 14,
   "id": "fccdaa1c",
   "metadata": {},
   "outputs": [
    {
     "data": {
      "application/vnd.microsoft.datawrangler.viewer.v0+json": {
       "columns": [
        {
         "name": "index",
         "rawType": "int64",
         "type": "integer"
        },
        {
         "name": "original_language",
         "rawType": "object",
         "type": "string"
        },
        {
         "name": "movie_title",
         "rawType": "object",
         "type": "string"
        },
        {
         "name": "popularity",
         "rawType": "float64",
         "type": "float"
        },
        {
         "name": "release_date",
         "rawType": "object",
         "type": "string"
        },
        {
         "name": "vote_average",
         "rawType": "float64",
         "type": "float"
        },
        {
         "name": "vote_count",
         "rawType": "int64",
         "type": "integer"
        }
       ],
       "ref": "61043c1d-dc49-4361-b581-ffdbf8da21dd",
       "rows": [
        [
         "0",
         "en",
         "harry potter and the deathly hallows part 1",
         "33.533",
         "2010-11-19",
         "7.7",
         "10788"
        ],
        [
         "1",
         "en",
         "how to train your dragon",
         "28.734",
         "2010-03-26",
         "7.7",
         "7610"
        ],
        [
         "2",
         "en",
         "iron man 2",
         "28.515",
         "2010-05-07",
         "6.8",
         "12368"
        ],
        [
         "3",
         "en",
         "toy story",
         "28.005",
         "1995-11-22",
         "7.9",
         "10174"
        ],
        [
         "4",
         "en",
         "inception",
         "27.92",
         "2010-07-16",
         "8.3",
         "22186"
        ],
        [
         "5",
         "en",
         "percy jackson  the olympians the lightning thief",
         "26.691",
         "2010-02-11",
         "6.1",
         "4229"
        ],
        [
         "6",
         "en",
         "avatar",
         "26.526",
         "2009-12-18",
         "7.4",
         "18676"
        ],
        [
         "7",
         "en",
         "toy story 3",
         "24.445",
         "2010-06-17",
         "7.7",
         "8340"
        ],
        [
         "8",
         "en",
         "despicable me",
         "23.673",
         "2010-07-09",
         "7.2",
         "10057"
        ],
        [
         "9",
         "en",
         "megamind",
         "22.855",
         "2010-11-04",
         "6.8",
         "3635"
        ],
        [
         "10",
         "en",
         "toy story 2",
         "22.698",
         "1999-11-24",
         "7.5",
         "7553"
        ],
        [
         "11",
         "en",
         "alice in wonderland",
         "22.02",
         "2010-03-05",
         "6.6",
         "8713"
        ],
        [
         "12",
         "en",
         "the expendables",
         "21.517",
         "2010-08-03",
         "6.1",
         "4647"
        ],
        [
         "13",
         "en",
         "tangled",
         "21.511",
         "2010-11-24",
         "7.5",
         "6407"
        ],
        [
         "14",
         "en",
         "saw 3d",
         "20.37",
         "2010-10-28",
         "6.0",
         "1488"
        ],
        [
         "15",
         "en",
         "the twilight saga eclipse",
         "20.34",
         "2010-06-23",
         "6.0",
         "4909"
        ],
        [
         "16",
         "en",
         "the book of eli",
         "18.985",
         "2010-01-11",
         "6.7",
         "3495"
        ],
        [
         "17",
         "nl",
         "lellebelle",
         "18.586",
         "2010-10-09",
         "4.5",
         "36"
        ],
        [
         "18",
         "en",
         "the bourne supremacy",
         "18.199",
         "2004-07-23",
         "7.3",
         "4367"
        ],
        [
         "19",
         "en",
         "shutter island",
         "18.06",
         "2010-02-18",
         "8.1",
         "12625"
        ],
        [
         "20",
         "en",
         "the bourne identity",
         "17.935",
         "2002-06-14",
         "7.4",
         "5406"
        ],
        [
         "21",
         "en",
         "knight and day",
         "17.713",
         "2010-06-23",
         "6.0",
         "2494"
        ],
        [
         "22",
         "en",
         "the chronicles of narnia the voyage of the dawn treader",
         "17.382",
         "2010-12-10",
         "6.3",
         "3196"
        ],
        [
         "23",
         "en",
         "step up 3d",
         "17.174",
         "2010-08-06",
         "6.7",
         "1160"
        ],
        [
         "24",
         "en",
         "the ateam",
         "17.097",
         "2010-06-11",
         "6.3",
         "2703"
        ],
        [
         "25",
         "en",
         "the kings speech",
         "16.798",
         "2010-09-06",
         "7.7",
         "5013"
        ],
        [
         "26",
         "en",
         "bad boys",
         "16.608",
         "1995-04-07",
         "6.6",
         "2936"
        ],
        [
         "27",
         "en",
         "the last airbender",
         "16.595",
         "2010-07-01",
         "4.6",
         "2143"
        ],
        [
         "28",
         "en",
         "predators",
         "16.216",
         "2010-07-03",
         "6.1",
         "1979"
        ],
        [
         "29",
         "en",
         "the social network",
         "15.889",
         "2010-10-01",
         "7.2",
         "6116"
        ],
        [
         "30",
         "en",
         "undisputed iii redemption",
         "15.886",
         "2010-05-22",
         "7.4",
         "302"
        ],
        [
         "31",
         "en",
         "apollo 13",
         "15.855",
         "1995-06-30",
         "7.4",
         "2821"
        ],
        [
         "32",
         "en",
         "armageddon",
         "15.799",
         "1998-07-01",
         "6.7",
         "4267"
        ],
        [
         "33",
         "en",
         "the bourne ultimatum",
         "15.62",
         "2007-08-03",
         "7.4",
         "4440"
        ],
        [
         "34",
         "en",
         "clash of the titans",
         "15.574",
         "2010-04-02",
         "5.7",
         "3714"
        ],
        [
         "35",
         "en",
         "the backup plan",
         "15.49",
         "2010-04-23",
         "6.0",
         "806"
        ],
        [
         "36",
         "en",
         "robin hood",
         "15.444",
         "2010-05-14",
         "6.3",
         "2569"
        ],
        [
         "37",
         "en",
         "nanny mcphee and the big bang",
         "15.213",
         "2010-08-20",
         "6.1",
         "953"
        ],
        [
         "38",
         "en",
         "shrek forever after",
         "15.041",
         "2010-05-16",
         "6.1",
         "3843"
        ],
        [
         "39",
         "en",
         "easy a",
         "14.69",
         "2010-09-17",
         "6.8",
         "4168"
        ],
        [
         "40",
         "en",
         "the sorcerers apprentice",
         "14.463",
         "2010-07-13",
         "5.9",
         "2879"
        ],
        [
         "41",
         "en",
         "scott pilgrim vs the world",
         "14.383",
         "2010-08-13",
         "7.3",
         "3882"
        ],
        [
         "42",
         "en",
         "grown ups",
         "14.291",
         "2010-06-24",
         "6.1",
         "3171"
        ],
        [
         "43",
         "en",
         "some like it hot",
         "14.2",
         "1959-03-18",
         "8.2",
         "1562"
        ],
        [
         "44",
         "en",
         "faster",
         "14.172",
         "2010-11-23",
         "6.2",
         "895"
        ],
        [
         "45",
         "en",
         "the wolfman",
         "14.03",
         "2010-02-12",
         "5.7",
         "1009"
        ],
        [
         "46",
         "en",
         "unstoppable",
         "14.01",
         "2010-11-12",
         "6.4",
         "1913"
        ],
        [
         "47",
         "en",
         "black swan",
         "13.745",
         "2010-12-03",
         "7.6",
         "8374"
        ],
        [
         "48",
         "en",
         "tinker bell and the great fairy rescue",
         "13.724",
         "2010-09-21",
         "6.5",
         "451"
        ],
        [
         "49",
         "es",
         "tres metros sobre el cielo",
         "13.721",
         "2010-12-20",
         "7.5",
         "960"
        ]
       ],
       "shape": {
        "columns": 6,
        "rows": 26517
       }
      },
      "text/html": [
       "<div>\n",
       "<style scoped>\n",
       "    .dataframe tbody tr th:only-of-type {\n",
       "        vertical-align: middle;\n",
       "    }\n",
       "\n",
       "    .dataframe tbody tr th {\n",
       "        vertical-align: top;\n",
       "    }\n",
       "\n",
       "    .dataframe thead th {\n",
       "        text-align: right;\n",
       "    }\n",
       "</style>\n",
       "<table border=\"1\" class=\"dataframe\">\n",
       "  <thead>\n",
       "    <tr style=\"text-align: right;\">\n",
       "      <th></th>\n",
       "      <th>original_language</th>\n",
       "      <th>movie_title</th>\n",
       "      <th>popularity</th>\n",
       "      <th>release_date</th>\n",
       "      <th>vote_average</th>\n",
       "      <th>vote_count</th>\n",
       "    </tr>\n",
       "  </thead>\n",
       "  <tbody>\n",
       "    <tr>\n",
       "      <th>0</th>\n",
       "      <td>en</td>\n",
       "      <td>harry potter and the deathly hallows part 1</td>\n",
       "      <td>33.533</td>\n",
       "      <td>2010-11-19</td>\n",
       "      <td>7.7</td>\n",
       "      <td>10788</td>\n",
       "    </tr>\n",
       "    <tr>\n",
       "      <th>1</th>\n",
       "      <td>en</td>\n",
       "      <td>how to train your dragon</td>\n",
       "      <td>28.734</td>\n",
       "      <td>2010-03-26</td>\n",
       "      <td>7.7</td>\n",
       "      <td>7610</td>\n",
       "    </tr>\n",
       "    <tr>\n",
       "      <th>2</th>\n",
       "      <td>en</td>\n",
       "      <td>iron man 2</td>\n",
       "      <td>28.515</td>\n",
       "      <td>2010-05-07</td>\n",
       "      <td>6.8</td>\n",
       "      <td>12368</td>\n",
       "    </tr>\n",
       "    <tr>\n",
       "      <th>3</th>\n",
       "      <td>en</td>\n",
       "      <td>toy story</td>\n",
       "      <td>28.005</td>\n",
       "      <td>1995-11-22</td>\n",
       "      <td>7.9</td>\n",
       "      <td>10174</td>\n",
       "    </tr>\n",
       "    <tr>\n",
       "      <th>4</th>\n",
       "      <td>en</td>\n",
       "      <td>inception</td>\n",
       "      <td>27.920</td>\n",
       "      <td>2010-07-16</td>\n",
       "      <td>8.3</td>\n",
       "      <td>22186</td>\n",
       "    </tr>\n",
       "    <tr>\n",
       "      <th>...</th>\n",
       "      <td>...</td>\n",
       "      <td>...</td>\n",
       "      <td>...</td>\n",
       "      <td>...</td>\n",
       "      <td>...</td>\n",
       "      <td>...</td>\n",
       "    </tr>\n",
       "    <tr>\n",
       "      <th>26512</th>\n",
       "      <td>en</td>\n",
       "      <td>laboratory conditions</td>\n",
       "      <td>0.600</td>\n",
       "      <td>2018-10-13</td>\n",
       "      <td>0.0</td>\n",
       "      <td>1</td>\n",
       "    </tr>\n",
       "    <tr>\n",
       "      <th>26513</th>\n",
       "      <td>en</td>\n",
       "      <td>exhibit84xxx</td>\n",
       "      <td>0.600</td>\n",
       "      <td>2018-05-01</td>\n",
       "      <td>0.0</td>\n",
       "      <td>1</td>\n",
       "    </tr>\n",
       "    <tr>\n",
       "      <th>26514</th>\n",
       "      <td>en</td>\n",
       "      <td>the last one</td>\n",
       "      <td>0.600</td>\n",
       "      <td>2018-10-01</td>\n",
       "      <td>0.0</td>\n",
       "      <td>1</td>\n",
       "    </tr>\n",
       "    <tr>\n",
       "      <th>26515</th>\n",
       "      <td>en</td>\n",
       "      <td>trailer made</td>\n",
       "      <td>0.600</td>\n",
       "      <td>2018-06-22</td>\n",
       "      <td>0.0</td>\n",
       "      <td>1</td>\n",
       "    </tr>\n",
       "    <tr>\n",
       "      <th>26516</th>\n",
       "      <td>en</td>\n",
       "      <td>the church</td>\n",
       "      <td>0.600</td>\n",
       "      <td>2018-10-05</td>\n",
       "      <td>0.0</td>\n",
       "      <td>1</td>\n",
       "    </tr>\n",
       "  </tbody>\n",
       "</table>\n",
       "<p>26517 rows × 6 columns</p>\n",
       "</div>"
      ],
      "text/plain": [
       "      original_language                                  movie_title  \\\n",
       "0                    en  harry potter and the deathly hallows part 1   \n",
       "1                    en                     how to train your dragon   \n",
       "2                    en                                   iron man 2   \n",
       "3                    en                                    toy story   \n",
       "4                    en                                    inception   \n",
       "...                 ...                                          ...   \n",
       "26512                en                        laboratory conditions   \n",
       "26513                en                                 exhibit84xxx   \n",
       "26514                en                                 the last one   \n",
       "26515                en                                 trailer made   \n",
       "26516                en                                   the church   \n",
       "\n",
       "       popularity release_date  vote_average  vote_count  \n",
       "0          33.533   2010-11-19           7.7       10788  \n",
       "1          28.734   2010-03-26           7.7        7610  \n",
       "2          28.515   2010-05-07           6.8       12368  \n",
       "3          28.005   1995-11-22           7.9       10174  \n",
       "4          27.920   2010-07-16           8.3       22186  \n",
       "...           ...          ...           ...         ...  \n",
       "26512       0.600   2018-10-13           0.0           1  \n",
       "26513       0.600   2018-05-01           0.0           1  \n",
       "26514       0.600   2018-10-01           0.0           1  \n",
       "26515       0.600   2018-06-22           0.0           1  \n",
       "26516       0.600   2018-10-05           0.0           1  \n",
       "\n",
       "[26517 rows x 6 columns]"
      ]
     },
     "execution_count": 14,
     "metadata": {},
     "output_type": "execute_result"
    }
   ],
   "source": [
    "tmdb = tmdb.rename(columns={\n",
    "    \"original_title\": \"movie_title\"\n",
    "})\n",
    "\n",
    "clean_title(tmdb, 'movie_title')"
   ]
  },
  {
   "cell_type": "code",
   "execution_count": 15,
   "id": "2f0bd5a9",
   "metadata": {},
   "outputs": [],
   "source": [
    "tmdb['release_date'] = tmdb['release_date'].astype(str).str.strip()\n",
    "tmdb['release_date'] = pd.to_datetime(tmdb['release_date'], format='ISO8601')"
   ]
  },
  {
   "cell_type": "code",
   "execution_count": 16,
   "id": "1eb06cb8",
   "metadata": {},
   "outputs": [
    {
     "data": {
      "application/vnd.microsoft.datawrangler.viewer.v0+json": {
       "columns": [
        {
         "name": "index",
         "rawType": "int64",
         "type": "integer"
        },
        {
         "name": "original_language",
         "rawType": "object",
         "type": "string"
        },
        {
         "name": "movie_title",
         "rawType": "object",
         "type": "string"
        },
        {
         "name": "popularity",
         "rawType": "float64",
         "type": "float"
        },
        {
         "name": "release_date",
         "rawType": "datetime64[ns]",
         "type": "datetime"
        },
        {
         "name": "vote_average",
         "rawType": "float64",
         "type": "float"
        },
        {
         "name": "vote_count",
         "rawType": "int64",
         "type": "integer"
        }
       ],
       "ref": "ed306632-f527-4650-a6fc-a83c58f1ab9f",
       "rows": [
        [
         "0",
         "en",
         "harry potter and the deathly hallows part 1",
         "33.533",
         "2010-11-19 00:00:00",
         "7.7",
         "10788"
        ],
        [
         "1",
         "en",
         "how to train your dragon",
         "28.734",
         "2010-03-26 00:00:00",
         "7.7",
         "7610"
        ],
        [
         "2",
         "en",
         "iron man 2",
         "28.515",
         "2010-05-07 00:00:00",
         "6.8",
         "12368"
        ],
        [
         "3",
         "en",
         "toy story",
         "28.005",
         "1995-11-22 00:00:00",
         "7.9",
         "10174"
        ],
        [
         "4",
         "en",
         "inception",
         "27.92",
         "2010-07-16 00:00:00",
         "8.3",
         "22186"
        ]
       ],
       "shape": {
        "columns": 6,
        "rows": 5
       }
      },
      "text/html": [
       "<div>\n",
       "<style scoped>\n",
       "    .dataframe tbody tr th:only-of-type {\n",
       "        vertical-align: middle;\n",
       "    }\n",
       "\n",
       "    .dataframe tbody tr th {\n",
       "        vertical-align: top;\n",
       "    }\n",
       "\n",
       "    .dataframe thead th {\n",
       "        text-align: right;\n",
       "    }\n",
       "</style>\n",
       "<table border=\"1\" class=\"dataframe\">\n",
       "  <thead>\n",
       "    <tr style=\"text-align: right;\">\n",
       "      <th></th>\n",
       "      <th>original_language</th>\n",
       "      <th>movie_title</th>\n",
       "      <th>popularity</th>\n",
       "      <th>release_date</th>\n",
       "      <th>vote_average</th>\n",
       "      <th>vote_count</th>\n",
       "    </tr>\n",
       "  </thead>\n",
       "  <tbody>\n",
       "    <tr>\n",
       "      <th>0</th>\n",
       "      <td>en</td>\n",
       "      <td>harry potter and the deathly hallows part 1</td>\n",
       "      <td>33.533</td>\n",
       "      <td>2010-11-19</td>\n",
       "      <td>7.7</td>\n",
       "      <td>10788</td>\n",
       "    </tr>\n",
       "    <tr>\n",
       "      <th>1</th>\n",
       "      <td>en</td>\n",
       "      <td>how to train your dragon</td>\n",
       "      <td>28.734</td>\n",
       "      <td>2010-03-26</td>\n",
       "      <td>7.7</td>\n",
       "      <td>7610</td>\n",
       "    </tr>\n",
       "    <tr>\n",
       "      <th>2</th>\n",
       "      <td>en</td>\n",
       "      <td>iron man 2</td>\n",
       "      <td>28.515</td>\n",
       "      <td>2010-05-07</td>\n",
       "      <td>6.8</td>\n",
       "      <td>12368</td>\n",
       "    </tr>\n",
       "    <tr>\n",
       "      <th>3</th>\n",
       "      <td>en</td>\n",
       "      <td>toy story</td>\n",
       "      <td>28.005</td>\n",
       "      <td>1995-11-22</td>\n",
       "      <td>7.9</td>\n",
       "      <td>10174</td>\n",
       "    </tr>\n",
       "    <tr>\n",
       "      <th>4</th>\n",
       "      <td>en</td>\n",
       "      <td>inception</td>\n",
       "      <td>27.920</td>\n",
       "      <td>2010-07-16</td>\n",
       "      <td>8.3</td>\n",
       "      <td>22186</td>\n",
       "    </tr>\n",
       "  </tbody>\n",
       "</table>\n",
       "</div>"
      ],
      "text/plain": [
       "  original_language                                  movie_title  popularity  \\\n",
       "0                en  harry potter and the deathly hallows part 1      33.533   \n",
       "1                en                     how to train your dragon      28.734   \n",
       "2                en                                   iron man 2      28.515   \n",
       "3                en                                    toy story      28.005   \n",
       "4                en                                    inception      27.920   \n",
       "\n",
       "  release_date  vote_average  vote_count  \n",
       "0   2010-11-19           7.7       10788  \n",
       "1   2010-03-26           7.7        7610  \n",
       "2   2010-05-07           6.8       12368  \n",
       "3   1995-11-22           7.9       10174  \n",
       "4   2010-07-16           8.3       22186  "
      ]
     },
     "execution_count": 16,
     "metadata": {},
     "output_type": "execute_result"
    }
   ],
   "source": [
    "tmdb.head()"
   ]
  },
  {
   "cell_type": "code",
   "execution_count": null,
   "id": "58199190",
   "metadata": {},
   "outputs": [
    {
     "data": {
      "application/vnd.microsoft.datawrangler.viewer.v0+json": {
       "columns": [
        {
         "name": "index",
         "rawType": "int64",
         "type": "integer"
        },
        {
         "name": "original_language",
         "rawType": "object",
         "type": "string"
        },
        {
         "name": "movie_title",
         "rawType": "object",
         "type": "string"
        },
        {
         "name": "popularity",
         "rawType": "float64",
         "type": "float"
        },
        {
         "name": "release_date",
         "rawType": "datetime64[ns]",
         "type": "datetime"
        },
        {
         "name": "vote_average",
         "rawType": "float64",
         "type": "float"
        },
        {
         "name": "vote_count",
         "rawType": "int64",
         "type": "integer"
        }
       ],
       "ref": "b027b6f7-af28-47d2-b4a2-bce682cf47a3",
       "rows": [
        [
         "0",
         "English",
         "harry potter and the deathly hallows part 1",
         "33.533",
         "2010-11-19 00:00:00",
         "7.7",
         "10788"
        ],
        [
         "1",
         "English",
         "how to train your dragon",
         "28.734",
         "2010-03-26 00:00:00",
         "7.7",
         "7610"
        ],
        [
         "2",
         "English",
         "iron man 2",
         "28.515",
         "2010-05-07 00:00:00",
         "6.8",
         "12368"
        ],
        [
         "3",
         "English",
         "toy story",
         "28.005",
         "1995-11-22 00:00:00",
         "7.9",
         "10174"
        ],
        [
         "4",
         "English",
         "inception",
         "27.92",
         "2010-07-16 00:00:00",
         "8.3",
         "22186"
        ],
        [
         "5",
         "English",
         "percy jackson  the olympians the lightning thief",
         "26.691",
         "2010-02-11 00:00:00",
         "6.1",
         "4229"
        ],
        [
         "6",
         "English",
         "avatar",
         "26.526",
         "2009-12-18 00:00:00",
         "7.4",
         "18676"
        ],
        [
         "7",
         "English",
         "toy story 3",
         "24.445",
         "2010-06-17 00:00:00",
         "7.7",
         "8340"
        ],
        [
         "8",
         "English",
         "despicable me",
         "23.673",
         "2010-07-09 00:00:00",
         "7.2",
         "10057"
        ],
        [
         "9",
         "English",
         "megamind",
         "22.855",
         "2010-11-04 00:00:00",
         "6.8",
         "3635"
        ],
        [
         "10",
         "English",
         "toy story 2",
         "22.698",
         "1999-11-24 00:00:00",
         "7.5",
         "7553"
        ],
        [
         "11",
         "English",
         "alice in wonderland",
         "22.02",
         "2010-03-05 00:00:00",
         "6.6",
         "8713"
        ],
        [
         "12",
         "English",
         "the expendables",
         "21.517",
         "2010-08-03 00:00:00",
         "6.1",
         "4647"
        ],
        [
         "13",
         "English",
         "tangled",
         "21.511",
         "2010-11-24 00:00:00",
         "7.5",
         "6407"
        ],
        [
         "14",
         "English",
         "saw 3d",
         "20.37",
         "2010-10-28 00:00:00",
         "6.0",
         "1488"
        ],
        [
         "15",
         "English",
         "the twilight saga eclipse",
         "20.34",
         "2010-06-23 00:00:00",
         "6.0",
         "4909"
        ],
        [
         "16",
         "English",
         "the book of eli",
         "18.985",
         "2010-01-11 00:00:00",
         "6.7",
         "3495"
        ],
        [
         "17",
         "Dutch",
         "lellebelle",
         "18.586",
         "2010-10-09 00:00:00",
         "4.5",
         "36"
        ],
        [
         "18",
         "English",
         "the bourne supremacy",
         "18.199",
         "2004-07-23 00:00:00",
         "7.3",
         "4367"
        ],
        [
         "19",
         "English",
         "shutter island",
         "18.06",
         "2010-02-18 00:00:00",
         "8.1",
         "12625"
        ],
        [
         "20",
         "English",
         "the bourne identity",
         "17.935",
         "2002-06-14 00:00:00",
         "7.4",
         "5406"
        ],
        [
         "21",
         "English",
         "knight and day",
         "17.713",
         "2010-06-23 00:00:00",
         "6.0",
         "2494"
        ],
        [
         "22",
         "English",
         "the chronicles of narnia the voyage of the dawn treader",
         "17.382",
         "2010-12-10 00:00:00",
         "6.3",
         "3196"
        ],
        [
         "23",
         "English",
         "step up 3d",
         "17.174",
         "2010-08-06 00:00:00",
         "6.7",
         "1160"
        ],
        [
         "24",
         "English",
         "the ateam",
         "17.097",
         "2010-06-11 00:00:00",
         "6.3",
         "2703"
        ],
        [
         "25",
         "English",
         "the kings speech",
         "16.798",
         "2010-09-06 00:00:00",
         "7.7",
         "5013"
        ],
        [
         "26",
         "English",
         "bad boys",
         "16.608",
         "1995-04-07 00:00:00",
         "6.6",
         "2936"
        ],
        [
         "27",
         "English",
         "the last airbender",
         "16.595",
         "2010-07-01 00:00:00",
         "4.6",
         "2143"
        ],
        [
         "28",
         "English",
         "predators",
         "16.216",
         "2010-07-03 00:00:00",
         "6.1",
         "1979"
        ],
        [
         "29",
         "English",
         "the social network",
         "15.889",
         "2010-10-01 00:00:00",
         "7.2",
         "6116"
        ],
        [
         "30",
         "English",
         "undisputed iii redemption",
         "15.886",
         "2010-05-22 00:00:00",
         "7.4",
         "302"
        ],
        [
         "31",
         "English",
         "apollo 13",
         "15.855",
         "1995-06-30 00:00:00",
         "7.4",
         "2821"
        ],
        [
         "32",
         "English",
         "armageddon",
         "15.799",
         "1998-07-01 00:00:00",
         "6.7",
         "4267"
        ],
        [
         "33",
         "English",
         "the bourne ultimatum",
         "15.62",
         "2007-08-03 00:00:00",
         "7.4",
         "4440"
        ],
        [
         "34",
         "English",
         "clash of the titans",
         "15.574",
         "2010-04-02 00:00:00",
         "5.7",
         "3714"
        ],
        [
         "35",
         "English",
         "the backup plan",
         "15.49",
         "2010-04-23 00:00:00",
         "6.0",
         "806"
        ],
        [
         "36",
         "English",
         "robin hood",
         "15.444",
         "2010-05-14 00:00:00",
         "6.3",
         "2569"
        ],
        [
         "37",
         "English",
         "nanny mcphee and the big bang",
         "15.213",
         "2010-08-20 00:00:00",
         "6.1",
         "953"
        ],
        [
         "38",
         "English",
         "shrek forever after",
         "15.041",
         "2010-05-16 00:00:00",
         "6.1",
         "3843"
        ],
        [
         "39",
         "English",
         "easy a",
         "14.69",
         "2010-09-17 00:00:00",
         "6.8",
         "4168"
        ],
        [
         "40",
         "English",
         "the sorcerers apprentice",
         "14.463",
         "2010-07-13 00:00:00",
         "5.9",
         "2879"
        ],
        [
         "41",
         "English",
         "scott pilgrim vs the world",
         "14.383",
         "2010-08-13 00:00:00",
         "7.3",
         "3882"
        ],
        [
         "42",
         "English",
         "grown ups",
         "14.291",
         "2010-06-24 00:00:00",
         "6.1",
         "3171"
        ],
        [
         "43",
         "English",
         "some like it hot",
         "14.2",
         "1959-03-18 00:00:00",
         "8.2",
         "1562"
        ],
        [
         "44",
         "English",
         "faster",
         "14.172",
         "2010-11-23 00:00:00",
         "6.2",
         "895"
        ],
        [
         "45",
         "English",
         "the wolfman",
         "14.03",
         "2010-02-12 00:00:00",
         "5.7",
         "1009"
        ],
        [
         "46",
         "English",
         "unstoppable",
         "14.01",
         "2010-11-12 00:00:00",
         "6.4",
         "1913"
        ],
        [
         "47",
         "English",
         "black swan",
         "13.745",
         "2010-12-03 00:00:00",
         "7.6",
         "8374"
        ],
        [
         "48",
         "English",
         "tinker bell and the great fairy rescue",
         "13.724",
         "2010-09-21 00:00:00",
         "6.5",
         "451"
        ],
        [
         "49",
         "Spanish",
         "tres metros sobre el cielo",
         "13.721",
         "2010-12-20 00:00:00",
         "7.5",
         "960"
        ]
       ],
       "shape": {
        "columns": 6,
        "rows": 26517
       }
      },
      "text/html": [
       "<div>\n",
       "<style scoped>\n",
       "    .dataframe tbody tr th:only-of-type {\n",
       "        vertical-align: middle;\n",
       "    }\n",
       "\n",
       "    .dataframe tbody tr th {\n",
       "        vertical-align: top;\n",
       "    }\n",
       "\n",
       "    .dataframe thead th {\n",
       "        text-align: right;\n",
       "    }\n",
       "</style>\n",
       "<table border=\"1\" class=\"dataframe\">\n",
       "  <thead>\n",
       "    <tr style=\"text-align: right;\">\n",
       "      <th></th>\n",
       "      <th>original_language</th>\n",
       "      <th>movie_title</th>\n",
       "      <th>popularity</th>\n",
       "      <th>release_date</th>\n",
       "      <th>vote_average</th>\n",
       "      <th>vote_count</th>\n",
       "    </tr>\n",
       "  </thead>\n",
       "  <tbody>\n",
       "    <tr>\n",
       "      <th>0</th>\n",
       "      <td>English</td>\n",
       "      <td>harry potter and the deathly hallows part 1</td>\n",
       "      <td>33.533</td>\n",
       "      <td>2010-11-19</td>\n",
       "      <td>7.7</td>\n",
       "      <td>10788</td>\n",
       "    </tr>\n",
       "    <tr>\n",
       "      <th>1</th>\n",
       "      <td>English</td>\n",
       "      <td>how to train your dragon</td>\n",
       "      <td>28.734</td>\n",
       "      <td>2010-03-26</td>\n",
       "      <td>7.7</td>\n",
       "      <td>7610</td>\n",
       "    </tr>\n",
       "    <tr>\n",
       "      <th>2</th>\n",
       "      <td>English</td>\n",
       "      <td>iron man 2</td>\n",
       "      <td>28.515</td>\n",
       "      <td>2010-05-07</td>\n",
       "      <td>6.8</td>\n",
       "      <td>12368</td>\n",
       "    </tr>\n",
       "    <tr>\n",
       "      <th>3</th>\n",
       "      <td>English</td>\n",
       "      <td>toy story</td>\n",
       "      <td>28.005</td>\n",
       "      <td>1995-11-22</td>\n",
       "      <td>7.9</td>\n",
       "      <td>10174</td>\n",
       "    </tr>\n",
       "    <tr>\n",
       "      <th>4</th>\n",
       "      <td>English</td>\n",
       "      <td>inception</td>\n",
       "      <td>27.920</td>\n",
       "      <td>2010-07-16</td>\n",
       "      <td>8.3</td>\n",
       "      <td>22186</td>\n",
       "    </tr>\n",
       "    <tr>\n",
       "      <th>...</th>\n",
       "      <td>...</td>\n",
       "      <td>...</td>\n",
       "      <td>...</td>\n",
       "      <td>...</td>\n",
       "      <td>...</td>\n",
       "      <td>...</td>\n",
       "    </tr>\n",
       "    <tr>\n",
       "      <th>26512</th>\n",
       "      <td>English</td>\n",
       "      <td>laboratory conditions</td>\n",
       "      <td>0.600</td>\n",
       "      <td>2018-10-13</td>\n",
       "      <td>0.0</td>\n",
       "      <td>1</td>\n",
       "    </tr>\n",
       "    <tr>\n",
       "      <th>26513</th>\n",
       "      <td>English</td>\n",
       "      <td>exhibit84xxx</td>\n",
       "      <td>0.600</td>\n",
       "      <td>2018-05-01</td>\n",
       "      <td>0.0</td>\n",
       "      <td>1</td>\n",
       "    </tr>\n",
       "    <tr>\n",
       "      <th>26514</th>\n",
       "      <td>English</td>\n",
       "      <td>the last one</td>\n",
       "      <td>0.600</td>\n",
       "      <td>2018-10-01</td>\n",
       "      <td>0.0</td>\n",
       "      <td>1</td>\n",
       "    </tr>\n",
       "    <tr>\n",
       "      <th>26515</th>\n",
       "      <td>English</td>\n",
       "      <td>trailer made</td>\n",
       "      <td>0.600</td>\n",
       "      <td>2018-06-22</td>\n",
       "      <td>0.0</td>\n",
       "      <td>1</td>\n",
       "    </tr>\n",
       "    <tr>\n",
       "      <th>26516</th>\n",
       "      <td>English</td>\n",
       "      <td>the church</td>\n",
       "      <td>0.600</td>\n",
       "      <td>2018-10-05</td>\n",
       "      <td>0.0</td>\n",
       "      <td>1</td>\n",
       "    </tr>\n",
       "  </tbody>\n",
       "</table>\n",
       "<p>26517 rows × 6 columns</p>\n",
       "</div>"
      ],
      "text/plain": [
       "      original_language                                  movie_title  \\\n",
       "0               English  harry potter and the deathly hallows part 1   \n",
       "1               English                     how to train your dragon   \n",
       "2               English                                   iron man 2   \n",
       "3               English                                    toy story   \n",
       "4               English                                    inception   \n",
       "...                 ...                                          ...   \n",
       "26512           English                        laboratory conditions   \n",
       "26513           English                                 exhibit84xxx   \n",
       "26514           English                                 the last one   \n",
       "26515           English                                 trailer made   \n",
       "26516           English                                   the church   \n",
       "\n",
       "       popularity release_date  vote_average  vote_count  \n",
       "0          33.533   2010-11-19           7.7       10788  \n",
       "1          28.734   2010-03-26           7.7        7610  \n",
       "2          28.515   2010-05-07           6.8       12368  \n",
       "3          28.005   1995-11-22           7.9       10174  \n",
       "4          27.920   2010-07-16           8.3       22186  \n",
       "...           ...          ...           ...         ...  \n",
       "26512       0.600   2018-10-13           0.0           1  \n",
       "26513       0.600   2018-05-01           0.0           1  \n",
       "26514       0.600   2018-10-01           0.0           1  \n",
       "26515       0.600   2018-06-22           0.0           1  \n",
       "26516       0.600   2018-10-05           0.0           1  \n",
       "\n",
       "[26517 rows x 6 columns]"
      ]
     },
     "execution_count": 17,
     "metadata": {},
     "output_type": "execute_result"
    }
   ],
   "source": [
    "language_map = {\n",
    "    'en': 'English',\n",
    "    'nl': 'Dutch',\n",
    "    'es': 'Spanish',\n",
    "    'ja': 'Japanese',\n",
    "    'sv': 'Swedish',\n",
    "    'de': 'German',\n",
    "    'fr': 'French',\n",
    "    'cn': 'Chinese (unspecified)',  \n",
    "    'it': 'Italian',\n",
    "    'ru': 'Russian',\n",
    "    'zh': 'Chinese',\n",
    "    'hi': 'Hindi',\n",
    "    'no': 'Norwegian',\n",
    "    'ko': 'Korean',\n",
    "    'da': 'Danish',\n",
    "    'fi': 'Finnish',\n",
    "    'pl': 'Polish',\n",
    "    'te': 'Telugu',\n",
    "    'hu': 'Hungarian',\n",
    "    'tr': 'Turkish',\n",
    "    'pt': 'Portuguese',\n",
    "    'he': 'Hebrew',\n",
    "    'fa': 'Persian (Farsi)',\n",
    "    'th': 'Thai',\n",
    "    'cs': 'Czech',\n",
    "    'et': 'Estonian',\n",
    "    'tl': 'Tagalog',\n",
    "    'lt': 'Lithuanian',\n",
    "    'xx': 'No Language / Unknown',\n",
    "    'bs': 'Bosnian',\n",
    "    'ar': 'Arabic',\n",
    "    'is': 'Icelandic',\n",
    "    'el': 'Greek',\n",
    "    'mr': 'Marathi',\n",
    "    'hr': 'Croatian',\n",
    "    'ro': 'Romanian',\n",
    "    'sr': 'Serbian',\n",
    "    'uk': 'Ukrainian',\n",
    "    'nb': 'Norwegian Bokmål',\n",
    "    'hz': 'Herero',\n",
    "    'ca': 'Catalan',\n",
    "    'bg': 'Bulgarian',\n",
    "    'sl': 'Slovenian',\n",
    "    'lv': 'Latvian',\n",
    "    'si': 'Sinhala',\n",
    "    'ab': 'Abkhazian',\n",
    "    'ta': 'Tamil',\n",
    "    'bo': 'Tibetan',\n",
    "    'id': 'Indonesian',\n",
    "    'sq': 'Albanian',\n",
    "    'bn': 'Bengali',\n",
    "    'gu': 'Gujarati',\n",
    "    'lo': 'Lao',\n",
    "    'ne': 'Nepali',\n",
    "    'kk': 'Kazakh',\n",
    "    'hy': 'Armenian',\n",
    "    'ps': 'Pashto',\n",
    "    'kn': 'Kannada',\n",
    "    'vi': 'Vietnamese',\n",
    "    'ku': 'Kurdish',\n",
    "    'ka': 'Georgian',\n",
    "    'ml': 'Malayalam',\n",
    "    'ur': 'Urdu',\n",
    "    'mi': 'Maori',\n",
    "    'eu': 'Basque',\n",
    "    'sn': 'Shona',\n",
    "    'cy': 'Welsh',\n",
    "    'ha': 'Hausa',\n",
    "    'ky': 'Kyrgyz',\n",
    "    'yi': 'Yiddish',\n",
    "    'pa': 'Punjabi',\n",
    "    'xh': 'Xhosa',\n",
    "    'cr': 'Cree',\n",
    "    'sw': 'Swahili',\n",
    "    'af': 'Afrikaans',\n",
    "    'dz': 'Dzongkha'\n",
    "}\n",
    "tmdb['original_language'] = tmdb['original_language'].map(language_map)"
   ]
  },
  {
   "cell_type": "code",
   "execution_count": null,
   "id": "21c135b4",
   "metadata": {},
   "outputs": [],
   "source": []
  }
 ],
 "metadata": {
  "kernelspec": {
   "display_name": "Python (learn-env)",
   "language": "python",
   "name": "learn-env"
  },
  "language_info": {
   "codemirror_mode": {
    "name": "ipython",
    "version": 3
   },
   "file_extension": ".py",
   "mimetype": "text/x-python",
   "name": "python",
   "nbconvert_exporter": "python",
   "pygments_lexer": "ipython3",
   "version": "3.9.19"
  }
 },
 "nbformat": 4,
 "nbformat_minor": 5
}
